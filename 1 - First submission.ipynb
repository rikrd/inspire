{
 "metadata": {
  "name": "",
  "signature": "sha256:6a45a791fe9f7c81620add9b35034c9e304b7a6fc29f4bbf807c8327b05fd9a0"
 },
 "nbformat": 3,
 "nbformat_minor": 0,
 "worksheets": [
  {
   "cells": [
    {
     "cell_type": "markdown",
     "metadata": {},
     "source": [
      "# First submission: A random guess\n",
      "## Installing the necessary module\n",
      "\n",
      "You must first install the `inspire` Python module.\n",
      "\n",
      "This can be done using `pip` by running the following command in your terminal:\n",
      "```\n",
      "pip install inspire\n",
      "```\n",
      "\n",
      "You may also run the following command to upgrade to the latest version:\n",
      "```\n",
      "pip install --upgrade inspire\n",
      "```\n",
      "\n",
      "After installing or upgrading the `inspire` module one must **restart the IPython Notebook**."
     ]
    },
    {
     "cell_type": "markdown",
     "metadata": {},
     "source": [
      "## Importing the necessary modules\n",
      "To start with we will import the modules we are going to use throughout this tutorial."
     ]
    },
    {
     "cell_type": "code",
     "collapsed": false,
     "input": [
      "import numpy as np\n",
      "import inspire"
     ],
     "language": "python",
     "metadata": {},
     "outputs": [],
     "prompt_number": 38
    },
    {
     "cell_type": "markdown",
     "metadata": {},
     "source": [
      "## The setting\n",
      "An evaluation setting is composed of a dataset, a lexicon and several evaluation parameters. A submission will always be tied to a given evaluation setting.  Therefore our first job is to get an evaluation setting to work on.\n",
      "\n",
      "By not passing any parameters we will be getting the default one.  Currently the default setting is a dataset of words in Spanish and a large vocabulary lexicon in IPA encoding."
     ]
    },
    {
     "cell_type": "code",
     "collapsed": false,
     "input": [
      "setting = inspire.get_evaluation_setting()"
     ],
     "language": "python",
     "metadata": {},
     "outputs": [],
     "prompt_number": 39
    },
    {
     "cell_type": "markdown",
     "metadata": {},
     "source": [
      "## The dataset\n",
      "Next we download the dataset, load it, and have a quick peek at what is in it."
     ]
    },
    {
     "cell_type": "code",
     "collapsed": false,
     "input": [
      "dataset_filename = setting.download_dataset()\n",
      "dataset = inspire.load_dataset(dataset_filename)\n",
      "\n",
      "print('There are {} tokens in dataset'.format(len(dataset['tokens'])))"
     ],
     "language": "python",
     "metadata": {},
     "outputs": [
      {
       "output_type": "stream",
       "stream": "stdout",
       "text": [
        "There are 3239 tokens in dataset\n"
       ]
      }
     ],
     "prompt_number": 40
    },
    {
     "cell_type": "markdown",
     "metadata": {},
     "source": [
      "We may now print a token of the dataset:"
     ]
    },
    {
     "cell_type": "code",
     "collapsed": false,
     "input": [
      "inspire.pprint(dataset['tokens']['35541'])"
     ],
     "language": "python",
     "metadata": {},
     "outputs": [
      {
       "output_type": "stream",
       "stream": "stdout",
       "text": [
        "{u'noise_onset': 532600,\n",
        " u'noise_transcription': u'BAB4.txt',\n",
        " u'noise_type': u'bab4',\n",
        " u'noise_wav': u'BAB4.wav',\n",
        " u'signal_wav': u'T_35541.wav',\n",
        " u'snr': -2.039,\n",
        " u'speaker': u's1',\n",
        " u'speech': u'pequen\u0303os'}\n"
       ]
      }
     ],
     "prompt_number": 41
    },
    {
     "cell_type": "markdown",
     "metadata": {},
     "source": [
      "Our data is a class deriving from a Python dictionary containing an entry named `tokens` with a mapping from a stimulus ID to a stimulus (also named token) presented to a set of listeners.\n",
      "The stimulus itself is represented as a dictionary, with entries for several properties of the stimulus presented: \n",
      "\n",
      "* **type of noise** `noise_type`\n",
      "* **speaker ID** `speaker`\n",
      "* **signal-to-noise ratio** `snr`\n",
      "\n",
      "The filenames of the audios:\n",
      "\n",
      "* **signal wave file** `signal_wav`\n",
      "* **noise wave file** `noise_wav`\n",
      "\n",
      "And the underlying word that was presented as well as those that were reported by the listeners:\n",
      "\n",
      "* **presented word** `speech`\n",
      "\n",
      "Additionally there are 10% of the tokens in the dataset that are considered tokens belonging to the development set and for which the responses given by listeners are provided.  These may be used for training purposes."
     ]
    },
    {
     "cell_type": "code",
     "collapsed": false,
     "input": [
      "inspire.pprint(dataset['tokens']['36504'])"
     ],
     "language": "python",
     "metadata": {},
     "outputs": [
      {
       "output_type": "stream",
       "stream": "stdout",
       "text": [
        "{u'noise_onset': 790069,\n",
        " u'noise_transcription': u'BAB8.txt',\n",
        " u'noise_type': u'bab8',\n",
        " u'noise_wav': u'BAB8.wav',\n",
        " u'responses': {u'manda': 2,\n",
        "                u'mandas': 2,\n",
        "                u'mando': 1,\n",
        "                u'mandos': 1,\n",
        "                u'mangos': 1,\n",
        "                u'mano': 1,\n",
        "                u'manos': 6,\n",
        "                u'mantas': 1},\n",
        " u'signal_wav': u'T_36504.wav',\n",
        " u'snr': 0.4,\n",
        " u'speaker': u's1',\n",
        " u'speech': u'mandan'}\n"
       ]
      }
     ],
     "prompt_number": 26
    },
    {
     "cell_type": "markdown",
     "metadata": {},
     "source": [
      "## The lexicon\n",
      "Since all the tasks are based on the pronunciations of the words, our next step is to load a lexicon.\n",
      "The lexicon is not in JSON format, it is in a format that HTK understands, therefore parsing it takes a bit more work. Luckily for you we have a written a function to do just that:\n",
      "\n",
      "We will first download the lexicon, load it, and have a quick peek at what is in it."
     ]
    },
    {
     "cell_type": "code",
     "collapsed": false,
     "input": [
      "lexicon_filename = setting.download_lexicon()\n",
      "lexicon = inspire.load_lexicon(lexicon_filename)\n",
      "\n",
      "print('There are {} words in the lexicon'.format(len(lexicon)))"
     ],
     "language": "python",
     "metadata": {},
     "outputs": [
      {
       "output_type": "stream",
       "stream": "stdout",
       "text": [
        "There are 738967 words in the lexicon\n"
       ]
      }
     ],
     "prompt_number": 27
    },
    {
     "cell_type": "markdown",
     "metadata": {},
     "source": [
      "The lexicon is a subclass of a Python dictionary mapping from a word to a set of pronunciations.  The pronunciations are lists of strings where each string represents a phoneme.\n",
      "\n",
      "To use the lexicon we simply query it as we would do with any other Python dictionary.  Note that the case of the words is ignored when querying the lexicon:"
     ]
    },
    {
     "cell_type": "code",
     "collapsed": false,
     "input": [
      "inspire.pprint('Is \"ayuda\" in the lexicon? {}'.format('ayuda' in lexicon))\n",
      "inspire.pprint(lexicon['ayuda'])"
     ],
     "language": "python",
     "metadata": {},
     "outputs": [
      {
       "output_type": "stream",
       "stream": "stdout",
       "text": [
        "'Is \"ayuda\" in the lexicon? True'\n",
        "[[u'a', u'j', u'j', u'\u02c8u', u'\u00f0', u'a']]\n"
       ]
      }
     ],
     "prompt_number": 28
    },
    {
     "cell_type": "markdown",
     "metadata": {},
     "source": [
      "## The alignments\n",
      "Using the pronunciations in the lexicon, we can print all the alignments accepted for a pair of words: "
     ]
    },
    {
     "cell_type": "code",
     "collapsed": false,
     "input": [
      "edit_scripts = inspire.get_edit_scripts(lexicon['maletero'][0], lexicon['entero'][0])\n",
      "for edit_script in edit_scripts:\n",
      "    inspire.print_edit_script(edit_script)\n",
      "    print('---')"
     ],
     "language": "python",
     "metadata": {},
     "outputs": [
      {
       "output_type": "stream",
       "stream": "stdout",
       "text": [
        "\u001b[31mm\u001b[m \u001b[31m\u02cca\u001b[m \u001b[31ml\u001b[m \u001b[31me\u001b[m \u001b[32mt\u001b[m \u001b[32m\u02c8\u025b\u001b[m \u001b[32m\u027e\u001b[m \u001b[32m\u0254\u001b[m \n",
        "\u001b[41m \u001b[m \u001b[41m  \u001b[m \u001b[31m\u025b\u001b[m \u001b[31mn\u001b[m \u001b[32mt\u001b[m \u001b[32m\u02c8\u025b\u001b[m \u001b[32m\u027e\u001b[m \u001b[32m\u0254\u001b[m \n",
        "---\n",
        "\u001b[31mm\u001b[m \u001b[31m\u02cca\u001b[m \u001b[31ml\u001b[m \u001b[31me\u001b[m \u001b[32mt\u001b[m \u001b[32m\u02c8\u025b\u001b[m \u001b[32m\u027e\u001b[m \u001b[32m\u0254\u001b[m \n",
        "\u001b[41m \u001b[m \u001b[31m\u025b \u001b[m \u001b[31mn\u001b[m \u001b[41m \u001b[m \u001b[32mt\u001b[m \u001b[32m\u02c8\u025b\u001b[m \u001b[32m\u027e\u001b[m \u001b[32m\u0254\u001b[m \n",
        "---\n",
        "\u001b[31mm\u001b[m \u001b[31m\u02cca\u001b[m \u001b[31ml\u001b[m \u001b[31me\u001b[m \u001b[32mt\u001b[m \u001b[32m\u02c8\u025b\u001b[m \u001b[32m\u027e\u001b[m \u001b[32m\u0254\u001b[m \n",
        "\u001b[31m\u025b\u001b[m \u001b[31mn \u001b[m \u001b[41m \u001b[m \u001b[41m \u001b[m \u001b[32mt\u001b[m \u001b[32m\u02c8\u025b\u001b[m \u001b[32m\u027e\u001b[m \u001b[32m\u0254\u001b[m \n",
        "---\n"
       ]
      }
     ],
     "prompt_number": 43
    },
    {
     "cell_type": "markdown",
     "metadata": {},
     "source": [
      "## The submission\n",
      "To make submissions to the INSPIRE Challenge you must have an account on the INSPIRE Challenge: [Click here to register](http://143.167.9.43:5000/register)\n",
      "\n",
      "Note don't use a secure password, since in order to simplify the tasks it may be sent as plain text to the server.\n",
      "The email and password will be used in the following steps to create and submit our predictions.\n",
      "\n",
      "### Preparation of the submission\n",
      "A submission consists of a dictionary data structure containing metadata (information of the participant, the challenge edition and contact details) and the predictions for the stimuli.  The predictions are stored in a data structure similar to that of the dataset (a list of dictionaries, one per stimulus).  Each stimulus dictionary must contain the `token_id` and then a list of task predictions `task_prediction` each task prediction is a dictionary containing a `task` property indicating what task it is solving and the `prediction` which is dictionary whose form depends on the task.\n",
      "\n",
      "In order to avoid errors when creating the participation data structure, we have built a Python class that eases the job."
     ]
    },
    {
     "cell_type": "code",
     "collapsed": false,
     "input": [
      "submission = inspire.Submission(email='dummy@email.com',\n",
      "                                description='''Random Guess:\n",
      "where task: For the phoneme positions we predict a 50% chance of observing a confusion. We predict a 1% chance of confusion at the inter-phoneme positions and a 30% chance of confusion at the positions before and after the utterance.\n",
      "what task: We only provide predictions for the phoneme positions, we do not provide predictions for inter-phoneme positions. We predict a 50% chance of not observing a confusion (the presented phoneme will remain) and a 5% of deleting the phoneme.\n",
      "full task: We predict a 10% chance of not observing a confusion (the ellicited pronunciation being reported).''',\n",
      "                                evaluation_setting=setting)"
     ],
     "language": "python",
     "metadata": {},
     "outputs": [],
     "prompt_number": 45
    },
    {
     "cell_type": "markdown",
     "metadata": {},
     "source": [
      "### Adding the predictions of the tasks\n",
      "We iterate over the dataset and for each presented word we query it's pronunciations, and arbitrarily select one.\n",
      "We will then produce the predictions for each of the tasks.  In this simple baseline random guessing scenario we will follow the same predcition strategy independently of the token:\n",
      "\n",
      "* **where task** For the phoneme positions we predict a 50% chance of observing a confusion. We predict a 1% chance of confusion at the inter-phoneme positions and a 30% chance of confusion at the positions before and after the utterance.\n",
      "* **what task** We only provide predictions for the phoneme positions, we do not provide predictions for inter-phoneme positions. We predict a 50% chance of not observing a confusion (the presented phoneme will remain) and a 5% of deleting the phoneme.\n",
      "* **full task** We predict a 10% chance of not observing a confusion (the ellicited pronunciation being reported)."
     ]
    },
    {
     "cell_type": "code",
     "collapsed": false,
     "input": [
      "# Iterate over all the stimuli in our dataset\n",
      "for token_id, token  in dataset['tokens'].items():   \n",
      "    # Lexicon may contain multiple pronunciations (we arbitrarily select the first)\n",
      "    word = token['speech']\n",
      "    pronunciation = lexicon[word][0]\n",
      "    \n",
      "    # Possible indices of confusions\n",
      "    # are the number of phonemes plus\n",
      "    # the number of positions around phonemes\n",
      "    index_count = len(pronunciation)*2 + 1\n",
      "    \n",
      "    confusion_probabilities = np.zeros(index_count)\n",
      "\n",
      "    # Our random guess for the Where task assumes:\n",
      "    #  - a 30% chance of finding a confusion at all phoneme positions (substitutions or removals)\n",
      "    confusion_probabilities[1::2] = 0.3\n",
      "    \n",
      "    #  - a 1% chance of finding an insertion between all phoneme positions (insertions)\n",
      "    confusion_probabilities[2:-2:2] = 0.01\n",
      "    \n",
      "    #  - a 50% chance of finding insertions of phonemes at beginning and end of words (insertions)\n",
      "    confusion_probabilities[0] = 0.5\n",
      "    confusion_probabilities[-1] = 0.5\n",
      "            \n",
      "    submission.where_task(token_id, confusion_probabilities)\n",
      "    \n",
      "    # Our random guess for the What task assumes:\n",
      "    # Phonemes are represented as strings\n",
      "    # Sequence of phonemes are space joined strings\n",
      "    # A removal is represented as an empty string\n",
      "    for phoneme_index, phoneme in enumerate(pronunciation):\n",
      "        index = phoneme_index*2 + 1\n",
      "        \n",
      "        non_confusion_probability = 1 - confusion_probabilities[phoneme_index]\n",
      "        \n",
      "        #  - a naive guess (same as used in the where task) of not changing the phoneme\n",
      "        submission.what_task(token_id, index, phoneme, non_confusion_probability)\n",
      "\n",
      "        #  - a 5% chance of phoneme removal\n",
      "        submission.what_task(token_id, index, '', 0.05)\n",
      "        \n",
      "    # Our random guess for the Full task assumes:\n",
      "    #  - a 10% chance of reporting the pronunciation of the presented utterance\n",
      "    submission.full_task(token_id, pronunciation, 0.1)"
     ],
     "language": "python",
     "metadata": {},
     "outputs": [],
     "prompt_number": 46
    },
    {
     "cell_type": "markdown",
     "metadata": {},
     "source": [
      "Once the submission has been created we can print the predictions of a given token.\n",
      "This is also useful to understand the JSON format of a submission."
     ]
    },
    {
     "cell_type": "code",
     "collapsed": false,
     "input": [
      "inspire.pprint(submission['metadata'])\n",
      "inspire.pprint(submission['tokens']['35541'])"
     ],
     "language": "python",
     "metadata": {},
     "outputs": [
      {
       "output_type": "stream",
       "stream": "stdout",
       "text": [
        "{u'description': 'Random Guess:\\nwhere task: For the phoneme positions we predict a 50% chance of observing a confusion. We predict a 1% chance of confusion at the inter-phoneme positions and a 30% chance of confusion at the positions before and after the utterance.\\nwhat task: We only provide predictions for the phoneme positions, we do not provide predictions for inter-phoneme positions. We predict a 50% chance of not observing a confusion (the presented phoneme will remain) and a 5% of deleting the phoneme.\\nfull task: We predict a 10% chance of not observing a confusion (the ellicited pronunciation being reported).',\n",
        " u'email': 'dummy@email.com',\n",
        " u'evaluation_setting_id': 1}\n",
        "{u'full': {u'p e k \u02c8e \u0272 o s': 0.1},\n",
        " u'what': {'1': {'': 0.05, u'p': 0.5},\n",
        "           '11': {'': 0.05, u'o': 0.69999999999999996},\n",
        "           '13': {'': 0.05, u's': 0.98999999999999999},\n",
        "           '3': {'': 0.05, u'e': 0.69999999999999996},\n",
        "           '5': {'': 0.05, u'k': 0.98999999999999999},\n",
        "           '7': {'': 0.05, u'\u02c8e': 0.69999999999999996},\n",
        "           '9': {'': 0.05, u'\u0272': 0.98999999999999999}},\n",
        " u'where': [0.5,\n",
        "            0.29999999999999999,\n",
        "            0.01,\n",
        "            0.29999999999999999,\n",
        "            0.01,\n",
        "            0.29999999999999999,\n",
        "            0.01,\n",
        "            0.29999999999999999,\n",
        "            0.01,\n",
        "            0.29999999999999999,\n",
        "            0.01,\n",
        "            0.29999999999999999,\n",
        "            0.01,\n",
        "            0.29999999999999999,\n",
        "            0.5]}\n"
       ]
      }
     ],
     "prompt_number": 33
    },
    {
     "cell_type": "markdown",
     "metadata": {},
     "source": [
      "We can also save the submission as a JSON file."
     ]
    },
    {
     "cell_type": "code",
     "collapsed": false,
     "input": [
      "submission.save('submission_random_guess.json')"
     ],
     "language": "python",
     "metadata": {},
     "outputs": [],
     "prompt_number": 34
    },
    {
     "cell_type": "markdown",
     "metadata": {},
     "source": [
      "### Evaluating before submitting\n",
      "\n",
      "Sometimes we might not want to submit, and simply evaluate a submission.  In that case we may call `evaluate()`.\n",
      "\n",
      "The evaluation is only performed on the development subset to allow a fast evaluation."
     ]
    },
    {
     "cell_type": "code",
     "collapsed": false,
     "input": [
      "job_eval = submission.evaluate(password='dummypassword')"
     ],
     "language": "python",
     "metadata": {},
     "outputs": [],
     "prompt_number": 35
    },
    {
     "cell_type": "markdown",
     "metadata": {},
     "source": [
      "The `job` that we obtain is an object that allows us to check if the result is available using `job.ready()`, wait for it to finish using `job.wait()` and obtain the result using `job.result()`.\n",
      "\n",
      "**Note: ** Calling `job.wait()` will block until the result is ready or the job has failed."
     ]
    },
    {
     "cell_type": "code",
     "collapsed": false,
     "input": [
      "print('Is the job ready? {}'.format(job_eval.ready()))"
     ],
     "language": "python",
     "metadata": {},
     "outputs": [
      {
       "output_type": "stream",
       "stream": "stdout",
       "text": [
        "Is the job ready? False\n"
       ]
      }
     ],
     "prompt_number": 36
    },
    {
     "cell_type": "code",
     "collapsed": false,
     "input": [
      "job_eval.wait()\n",
      "result = job_eval.result()\n",
      "\n",
      "inspire.pprint(result['where']['token_averaged'])\n",
      "inspire.pprint(result['what']['token_averaged'])\n",
      "inspire.pprint(result['full']['token_averaged'])"
     ],
     "language": "python",
     "metadata": {},
     "outputs": [
      {
       "javascript": [
        "//ac429359-ffc8-417b-8490-02b77552c162\n",
        "$(\"head\").append(\"<style> td.pb_widget {     width: auto; } td.pb_widget_fill {     width: 100%; } table.pb {     font-family: monospace;     border: 0;     margin: 0; } table.pb tr { border: 0; } table.pb td {     white-space: nowrap;     border: 0; } div.pb {     border: 1px solid #ddd;     border-radius: 3px; } div.pb_bar {     height: 1.5em; } </style>\")"
       ],
       "metadata": {},
       "output_type": "display_data",
       "text": [
        "<IPython.core.display.Javascript at 0x11335fed0>"
       ]
      },
      {
       "javascript": [
        "\n",
        "                  // ac429359-ffc8-417b-8490-02b77552c162 -- used to remove this code blob in the end\n",
        "                  IPython.OutputArea.prototype.cleanProgressBar = function(uuids) {\n",
        "                      // filter by uuid-strings \n",
        "                      var myfilter = function(output) { \n",
        "                          var nuids = uuids.length;\n",
        "                          for (var i=0; i<nuids; i++) {\n",
        "                              if (output.hasOwnProperty('html')) {\n",
        "                                  if (output.html.indexOf(uuids[i]) != -1) {\n",
        "                                      return false;\n",
        "                                  }\n",
        "                              }\n",
        "                              if (output.hasOwnProperty('javascript')) {\n",
        "                                  if (output.javascript.indexOf(uuids[i]) != -1) {\n",
        "                                      return false;\n",
        "                                  }\n",
        "                              }\n",
        "                          }\n",
        "                          // keep all others\n",
        "                          return true;\n",
        "                      };\n",
        "\n",
        "                      // Filter the ouputs\n",
        "                      this.outputs = this.outputs.filter(myfilter);\n",
        "                };\n",
        "                "
       ],
       "metadata": {},
       "output_type": "display_data",
       "text": [
        "<IPython.core.display.Javascript at 0x106b96550>"
       ]
      },
      {
       "html": [
        "<div class=\"pb\" id=\"ac429359-ffc8-417b-8490-02b77552c162\"><table class=\"pb ui-widget\"><tr>\n",
        "<td class=\"pb_widget\">Processing: </td>\n",
        "<td class=\"pb_widget\"><div id=\"389964fc-2661-424b-802e-8c670620de7c\">  0%</div></td>\n",
        "<td class=\"pb_widget\"> </td>\n",
        "<td class=\"pb_widget_fill\">\n",
        "        <div class=\"pb_bar\" id=\"26eaadb1-345a-4c85-9df9-c414995eaf97\"></div>\n",
        "        <script type=\"text/javascript\">\n",
        "            $(\"div#26eaadb1-345a-4c85-9df9-c414995eaf97\").progressbar({value: 0, max: 100});\n",
        "        </script>\n",
        "        </td>\n",
        "<td class=\"pb_widget\"> </td>\n",
        "<td class=\"pb_widget\"><div id=\"d38ed713-5453-4711-bb20-678e84b93eeb\">ETA:  --:--:--</div></td>\n",
        "</tr></table><div>"
       ],
       "metadata": {},
       "output_type": "display_data",
       "text": [
        "<IPython.core.display.HTML at 0x11335f6d0>"
       ]
      },
      {
       "javascript": [
        "$('div#389964fc-2661-424b-802e-8c670620de7c').text(' 55%');"
       ],
       "metadata": {},
       "output_type": "display_data",
       "text": [
        "<IPython.core.display.Javascript at 0x11335f790>"
       ]
      },
      {
       "javascript": [
        "\n",
        "        var $myPB = $(\"div#26eaadb1-345a-4c85-9df9-c414995eaf97\")\n",
        "        if ($myPB.hasClass('ui-progressbar')) {\n",
        "            $myPB.progressbar('value', 55);\n",
        "        } else {\n",
        "            $myPB.progressbar({value: 0, max: 100});\n",
        "        }\n",
        "        "
       ],
       "metadata": {},
       "output_type": "display_data",
       "text": [
        "<IPython.core.display.Javascript at 0x11335f690>"
       ]
      },
      {
       "javascript": [
        "$('div#d38ed713-5453-4711-bb20-678e84b93eeb').text('ETA:  0:00:00');"
       ],
       "metadata": {},
       "output_type": "display_data",
       "text": [
        "<IPython.core.display.Javascript at 0x11335f250>"
       ]
      },
      {
       "javascript": [
        "$('div#389964fc-2661-424b-802e-8c670620de7c').text(' 55%');"
       ],
       "metadata": {},
       "output_type": "display_data",
       "text": [
        "<IPython.core.display.Javascript at 0x11335ff10>"
       ]
      },
      {
       "javascript": [
        "\n",
        "        var $myPB = $(\"div#26eaadb1-345a-4c85-9df9-c414995eaf97\")\n",
        "        if ($myPB.hasClass('ui-progressbar')) {\n",
        "            $myPB.progressbar('value', 55);\n",
        "        } else {\n",
        "            $myPB.progressbar({value: 0, max: 100});\n",
        "        }\n",
        "        "
       ],
       "metadata": {},
       "output_type": "display_data",
       "text": [
        "<IPython.core.display.Javascript at 0x11335f990>"
       ]
      },
      {
       "javascript": [
        "$('div#d38ed713-5453-4711-bb20-678e84b93eeb').text('ETA:  0:00:00');"
       ],
       "metadata": {},
       "output_type": "display_data",
       "text": [
        "<IPython.core.display.Javascript at 0x11335f850>"
       ]
      },
      {
       "javascript": [
        "$('div#389964fc-2661-424b-802e-8c670620de7c').text(' 58%');"
       ],
       "metadata": {},
       "output_type": "display_data",
       "text": [
        "<IPython.core.display.Javascript at 0x11335f3d0>"
       ]
      },
      {
       "javascript": [
        "\n",
        "        var $myPB = $(\"div#26eaadb1-345a-4c85-9df9-c414995eaf97\")\n",
        "        if ($myPB.hasClass('ui-progressbar')) {\n",
        "            $myPB.progressbar('value', 58);\n",
        "        } else {\n",
        "            $myPB.progressbar({value: 0, max: 100});\n",
        "        }\n",
        "        "
       ],
       "metadata": {},
       "output_type": "display_data",
       "text": [
        "<IPython.core.display.Javascript at 0x1154dab90>"
       ]
      },
      {
       "javascript": [
        "$('div#d38ed713-5453-4711-bb20-678e84b93eeb').text('ETA:  0:00:01');"
       ],
       "metadata": {},
       "output_type": "display_data",
       "text": [
        "<IPython.core.display.Javascript at 0x1154da490>"
       ]
      },
      {
       "javascript": [
        "$('div#389964fc-2661-424b-802e-8c670620de7c').text(' 77%');"
       ],
       "metadata": {},
       "output_type": "display_data",
       "text": [
        "<IPython.core.display.Javascript at 0x1154da710>"
       ]
      },
      {
       "javascript": [
        "\n",
        "        var $myPB = $(\"div#26eaadb1-345a-4c85-9df9-c414995eaf97\")\n",
        "        if ($myPB.hasClass('ui-progressbar')) {\n",
        "            $myPB.progressbar('value', 77);\n",
        "        } else {\n",
        "            $myPB.progressbar({value: 0, max: 100});\n",
        "        }\n",
        "        "
       ],
       "metadata": {},
       "output_type": "display_data",
       "text": [
        "<IPython.core.display.Javascript at 0x1154da610>"
       ]
      },
      {
       "javascript": [
        "$('div#d38ed713-5453-4711-bb20-678e84b93eeb').text('ETA:  0:00:00');"
       ],
       "metadata": {},
       "output_type": "display_data",
       "text": [
        "<IPython.core.display.Javascript at 0x1154da3d0>"
       ]
      },
      {
       "javascript": [
        "$('div#389964fc-2661-424b-802e-8c670620de7c').text('100%');"
       ],
       "metadata": {},
       "output_type": "display_data",
       "text": [
        "<IPython.core.display.Javascript at 0x1154daf50>"
       ]
      },
      {
       "javascript": [
        "\n",
        "        var $myPB = $(\"div#26eaadb1-345a-4c85-9df9-c414995eaf97\")\n",
        "        if ($myPB.hasClass('ui-progressbar')) {\n",
        "            $myPB.progressbar('value', 100);\n",
        "        } else {\n",
        "            $myPB.progressbar({value: 0, max: 100});\n",
        "        }\n",
        "        "
       ],
       "metadata": {},
       "output_type": "display_data",
       "text": [
        "<IPython.core.display.Javascript at 0x1154da690>"
       ]
      },
      {
       "javascript": [
        "$('div#d38ed713-5453-4711-bb20-678e84b93eeb').text('Time: 0:00:04');"
       ],
       "metadata": {},
       "output_type": "display_data",
       "text": [
        "<IPython.core.display.Javascript at 0x1154da110>"
       ]
      },
      {
       "javascript": [
        "var element = document.getElementById('ac429359-ffc8-417b-8490-02b77552c162');\n",
        "                    var parent = element.parentNode\n",
        "                    parent.removeChild(element);\n",
        "                    parent.parentElement.remove();"
       ],
       "metadata": {},
       "output_type": "display_data",
       "text": [
        "<IPython.core.display.Javascript at 0x11335f190>"
       ]
      },
      {
       "javascript": [
        "this.cleanProgressBar(['ac429359-ffc8-417b-8490-02b77552c162', '389964fc-2661-424b-802e-8c670620de7c', '26eaadb1-345a-4c85-9df9-c414995eaf97', 'd38ed713-5453-4711-bb20-678e84b93eeb'])"
       ],
       "metadata": {},
       "output_type": "display_data",
       "text": [
        "<IPython.core.display.Javascript at 0x1154da990>"
       ]
      },
      {
       "output_type": "stream",
       "stream": "stdout",
       "text": [
        "-4.432621389555169\n",
        "-42.193302537302365\n",
        "-56.99015558740908\n"
       ]
      }
     ],
     "prompt_number": 37
    },
    {
     "cell_type": "markdown",
     "metadata": {},
     "source": [
      "### Sending in the submission\n",
      "\n",
      "The final step is to send the submission. This will save a copy of the submission in the server and return the evaluation results.\n",
      "\n",
      "The submission **may take some time**, especially if the submission covers all tasks and all tokens.\n",
      "\n",
      "To submit we simply call the submit function of the submission object that we have created.\n",
      "The email that we have used when creating the submission class is the one that will be used to login to the server.\n",
      "We must also supply the password that we used when we registered to the INSPIRE Challenge website."
     ]
    },
    {
     "cell_type": "code",
     "collapsed": false,
     "input": [
      "job_sub = submission.submit(password='dummypassword')"
     ],
     "language": "python",
     "metadata": {},
     "outputs": [],
     "prompt_number": 15
    },
    {
     "cell_type": "code",
     "collapsed": false,
     "input": [
      "job_sub.wait()\n",
      "result = job_sub.result()\n",
      "\n",
      "inspire.pprint(result['where']['token_averaged'])\n",
      "inspire.pprint(result['what']['token_averaged'])\n",
      "inspire.pprint(result['full']['token_averaged'])"
     ],
     "language": "python",
     "metadata": {},
     "outputs": [
      {
       "javascript": [
        "//9529e6dd-cfee-47e0-a3d5-93107a2f9fa4\n",
        "$(\"head\").append(\"<style> td.pb_widget {     width: auto; } td.pb_widget_fill {     width: 100%; } table.pb {     font-family: monospace;     border: 0;     margin: 0; } table.pb tr { border: 0; } table.pb td {     white-space: nowrap;     border: 0; } div.pb {     border: 1px solid #ddd;     border-radius: 3px; } div.pb_bar {     height: 1.5em; } </style>\")"
       ],
       "metadata": {},
       "output_type": "display_data",
       "text": [
        "<IPython.core.display.Javascript at 0x11b359050>"
       ]
      },
      {
       "javascript": [
        "\n",
        "                  // 9529e6dd-cfee-47e0-a3d5-93107a2f9fa4 -- used to remove this code blob in the end\n",
        "                  IPython.OutputArea.prototype.cleanProgressBar = function(uuids) {\n",
        "                      // filter by uuid-strings \n",
        "                      var myfilter = function(output) { \n",
        "                          var nuids = uuids.length;\n",
        "                          for (var i=0; i<nuids; i++) {\n",
        "                              if (output.hasOwnProperty('html')) {\n",
        "                                  if (output.html.indexOf(uuids[i]) != -1) {\n",
        "                                      return false;\n",
        "                                  }\n",
        "                              }\n",
        "                              if (output.hasOwnProperty('javascript')) {\n",
        "                                  if (output.javascript.indexOf(uuids[i]) != -1) {\n",
        "                                      return false;\n",
        "                                  }\n",
        "                              }\n",
        "                          }\n",
        "                          // keep all others\n",
        "                          return true;\n",
        "                      };\n",
        "\n",
        "                      // Filter the ouputs\n",
        "                      this.outputs = this.outputs.filter(myfilter);\n",
        "                };\n",
        "                "
       ],
       "metadata": {},
       "output_type": "display_data",
       "text": [
        "<IPython.core.display.Javascript at 0x1076e75d0>"
       ]
      },
      {
       "html": [
        "<div class=\"pb\" id=\"9529e6dd-cfee-47e0-a3d5-93107a2f9fa4\"><table class=\"pb ui-widget\"><tr>\n",
        "<td class=\"pb_widget\">Processing: </td>\n",
        "<td class=\"pb_widget\"><div id=\"62e93c0f-a331-4e8e-a4ce-e3685364a884\">  0%</div></td>\n",
        "<td class=\"pb_widget\"> </td>\n",
        "<td class=\"pb_widget_fill\">\n",
        "        <div class=\"pb_bar\" id=\"05f0134a-baf9-4390-b18f-919e8acd0c78\"></div>\n",
        "        <script type=\"text/javascript\">\n",
        "            $(\"div#05f0134a-baf9-4390-b18f-919e8acd0c78\").progressbar({value: 0, max: 100});\n",
        "        </script>\n",
        "        </td>\n",
        "<td class=\"pb_widget\"> </td>\n",
        "<td class=\"pb_widget\"><div id=\"93899c4c-8f15-4b29-9645-b071b406820e\">ETA:  --:--:--</div></td>\n",
        "</tr></table><div>"
       ],
       "metadata": {},
       "output_type": "display_data",
       "text": [
        "<IPython.core.display.HTML at 0x11b359650>"
       ]
      },
      {
       "javascript": [
        "$('div#62e93c0f-a331-4e8e-a4ce-e3685364a884').text('  0%');"
       ],
       "metadata": {},
       "output_type": "display_data",
       "text": [
        "<IPython.core.display.Javascript at 0x1076e7190>"
       ]
      },
      {
       "javascript": [
        "\n",
        "        var $myPB = $(\"div#05f0134a-baf9-4390-b18f-919e8acd0c78\")\n",
        "        if ($myPB.hasClass('ui-progressbar')) {\n",
        "            $myPB.progressbar('value', 0);\n",
        "        } else {\n",
        "            $myPB.progressbar({value: 0, max: 100});\n",
        "        }\n",
        "        "
       ],
       "metadata": {},
       "output_type": "display_data",
       "text": [
        "<IPython.core.display.Javascript at 0x11e011610>"
       ]
      },
      {
       "javascript": [
        "$('div#93899c4c-8f15-4b29-9645-b071b406820e').text('ETA:  --:--:--');"
       ],
       "metadata": {},
       "output_type": "display_data",
       "text": [
        "<IPython.core.display.Javascript at 0x11b359d10>"
       ]
      },
      {
       "javascript": [
        "$('div#62e93c0f-a331-4e8e-a4ce-e3685364a884').text('  0%');"
       ],
       "metadata": {},
       "output_type": "display_data",
       "text": [
        "<IPython.core.display.Javascript at 0x11b359e50>"
       ]
      },
      {
       "javascript": [
        "\n",
        "        var $myPB = $(\"div#05f0134a-baf9-4390-b18f-919e8acd0c78\")\n",
        "        if ($myPB.hasClass('ui-progressbar')) {\n",
        "            $myPB.progressbar('value', 0);\n",
        "        } else {\n",
        "            $myPB.progressbar({value: 0, max: 100});\n",
        "        }\n",
        "        "
       ],
       "metadata": {},
       "output_type": "display_data",
       "text": [
        "<IPython.core.display.Javascript at 0x11b359fd0>"
       ]
      },
      {
       "javascript": [
        "$('div#93899c4c-8f15-4b29-9645-b071b406820e').text('ETA:  --:--:--');"
       ],
       "metadata": {},
       "output_type": "display_data",
       "text": [
        "<IPython.core.display.Javascript at 0x11b359c10>"
       ]
      },
      {
       "javascript": [
        "$('div#62e93c0f-a331-4e8e-a4ce-e3685364a884').text('  0%');"
       ],
       "metadata": {},
       "output_type": "display_data",
       "text": [
        "<IPython.core.display.Javascript at 0x11b359510>"
       ]
      },
      {
       "javascript": [
        "\n",
        "        var $myPB = $(\"div#05f0134a-baf9-4390-b18f-919e8acd0c78\")\n",
        "        if ($myPB.hasClass('ui-progressbar')) {\n",
        "            $myPB.progressbar('value', 0);\n",
        "        } else {\n",
        "            $myPB.progressbar({value: 0, max: 100});\n",
        "        }\n",
        "        "
       ],
       "metadata": {},
       "output_type": "display_data",
       "text": [
        "<IPython.core.display.Javascript at 0x11b359110>"
       ]
      },
      {
       "javascript": [
        "$('div#93899c4c-8f15-4b29-9645-b071b406820e').text('ETA:  --:--:--');"
       ],
       "metadata": {},
       "output_type": "display_data",
       "text": [
        "<IPython.core.display.Javascript at 0x11b359790>"
       ]
      },
      {
       "javascript": [
        "$('div#62e93c0f-a331-4e8e-a4ce-e3685364a884').text('  1%');"
       ],
       "metadata": {},
       "output_type": "display_data",
       "text": [
        "<IPython.core.display.Javascript at 0x11b359f10>"
       ]
      },
      {
       "javascript": [
        "\n",
        "        var $myPB = $(\"div#05f0134a-baf9-4390-b18f-919e8acd0c78\")\n",
        "        if ($myPB.hasClass('ui-progressbar')) {\n",
        "            $myPB.progressbar('value', 1);\n",
        "        } else {\n",
        "            $myPB.progressbar({value: 0, max: 100});\n",
        "        }\n",
        "        "
       ],
       "metadata": {},
       "output_type": "display_data",
       "text": [
        "<IPython.core.display.Javascript at 0x11b359090>"
       ]
      },
      {
       "javascript": [
        "$('div#93899c4c-8f15-4b29-9645-b071b406820e').text('ETA:  0:06:47');"
       ],
       "metadata": {},
       "output_type": "display_data",
       "text": [
        "<IPython.core.display.Javascript at 0x11b359d90>"
       ]
      },
      {
       "javascript": [
        "$('div#62e93c0f-a331-4e8e-a4ce-e3685364a884').text('  1%');"
       ],
       "metadata": {},
       "output_type": "display_data",
       "text": [
        "<IPython.core.display.Javascript at 0x11b359d50>"
       ]
      },
      {
       "javascript": [
        "\n",
        "        var $myPB = $(\"div#05f0134a-baf9-4390-b18f-919e8acd0c78\")\n",
        "        if ($myPB.hasClass('ui-progressbar')) {\n",
        "            $myPB.progressbar('value', 1);\n",
        "        } else {\n",
        "            $myPB.progressbar({value: 0, max: 100});\n",
        "        }\n",
        "        "
       ],
       "metadata": {},
       "output_type": "display_data",
       "text": [
        "<IPython.core.display.Javascript at 0x11b359550>"
       ]
      },
      {
       "javascript": [
        "$('div#93899c4c-8f15-4b29-9645-b071b406820e').text('ETA:  0:08:28');"
       ],
       "metadata": {},
       "output_type": "display_data",
       "text": [
        "<IPython.core.display.Javascript at 0x11b359150>"
       ]
      },
      {
       "javascript": [
        "$('div#62e93c0f-a331-4e8e-a4ce-e3685364a884').text('  2%');"
       ],
       "metadata": {},
       "output_type": "display_data",
       "text": [
        "<IPython.core.display.Javascript at 0x1076e75d0>"
       ]
      },
      {
       "javascript": [
        "\n",
        "        var $myPB = $(\"div#05f0134a-baf9-4390-b18f-919e8acd0c78\")\n",
        "        if ($myPB.hasClass('ui-progressbar')) {\n",
        "            $myPB.progressbar('value', 2);\n",
        "        } else {\n",
        "            $myPB.progressbar({value: 0, max: 100});\n",
        "        }\n",
        "        "
       ],
       "metadata": {},
       "output_type": "display_data",
       "text": [
        "<IPython.core.display.Javascript at 0x1076e7190>"
       ]
      },
      {
       "javascript": [
        "$('div#93899c4c-8f15-4b29-9645-b071b406820e').text('ETA:  0:05:01');"
       ],
       "metadata": {},
       "output_type": "display_data",
       "text": [
        "<IPython.core.display.Javascript at 0x11e011610>"
       ]
      },
      {
       "javascript": [
        "$('div#62e93c0f-a331-4e8e-a4ce-e3685364a884').text('  3%');"
       ],
       "metadata": {},
       "output_type": "display_data",
       "text": [
        "<IPython.core.display.Javascript at 0x11b3595d0>"
       ]
      },
      {
       "javascript": [
        "\n",
        "        var $myPB = $(\"div#05f0134a-baf9-4390-b18f-919e8acd0c78\")\n",
        "        if ($myPB.hasClass('ui-progressbar')) {\n",
        "            $myPB.progressbar('value', 3);\n",
        "        } else {\n",
        "            $myPB.progressbar({value: 0, max: 100});\n",
        "        }\n",
        "        "
       ],
       "metadata": {},
       "output_type": "display_data",
       "text": [
        "<IPython.core.display.Javascript at 0x11b359c50>"
       ]
      },
      {
       "javascript": [
        "$('div#93899c4c-8f15-4b29-9645-b071b406820e').text('ETA:  0:03:52');"
       ],
       "metadata": {},
       "output_type": "display_data",
       "text": [
        "<IPython.core.display.Javascript at 0x11b3598d0>"
       ]
      },
      {
       "javascript": [
        "$('div#62e93c0f-a331-4e8e-a4ce-e3685364a884').text('  5%');"
       ],
       "metadata": {},
       "output_type": "display_data",
       "text": [
        "<IPython.core.display.Javascript at 0x11b359b90>"
       ]
      },
      {
       "javascript": [
        "\n",
        "        var $myPB = $(\"div#05f0134a-baf9-4390-b18f-919e8acd0c78\")\n",
        "        if ($myPB.hasClass('ui-progressbar')) {\n",
        "            $myPB.progressbar('value', 5);\n",
        "        } else {\n",
        "            $myPB.progressbar({value: 0, max: 100});\n",
        "        }\n",
        "        "
       ],
       "metadata": {},
       "output_type": "display_data",
       "text": [
        "<IPython.core.display.Javascript at 0x11b3591d0>"
       ]
      },
      {
       "javascript": [
        "$('div#93899c4c-8f15-4b29-9645-b071b406820e').text('ETA:  0:02:35');"
       ],
       "metadata": {},
       "output_type": "display_data",
       "text": [
        "<IPython.core.display.Javascript at 0x11b359150>"
       ]
      },
      {
       "javascript": [
        "$('div#62e93c0f-a331-4e8e-a4ce-e3685364a884').text('  5%');"
       ],
       "metadata": {},
       "output_type": "display_data",
       "text": [
        "<IPython.core.display.Javascript at 0x11b359410>"
       ]
      },
      {
       "javascript": [
        "\n",
        "        var $myPB = $(\"div#05f0134a-baf9-4390-b18f-919e8acd0c78\")\n",
        "        if ($myPB.hasClass('ui-progressbar')) {\n",
        "            $myPB.progressbar('value', 5);\n",
        "        } else {\n",
        "            $myPB.progressbar({value: 0, max: 100});\n",
        "        }\n",
        "        "
       ],
       "metadata": {},
       "output_type": "display_data",
       "text": [
        "<IPython.core.display.Javascript at 0x11b359e90>"
       ]
      },
      {
       "javascript": [
        "$('div#93899c4c-8f15-4b29-9645-b071b406820e').text('ETA:  0:02:55');"
       ],
       "metadata": {},
       "output_type": "display_data",
       "text": [
        "<IPython.core.display.Javascript at 0x11b359d90>"
       ]
      },
      {
       "javascript": [
        "$('div#62e93c0f-a331-4e8e-a4ce-e3685364a884').text('  6%');"
       ],
       "metadata": {},
       "output_type": "display_data",
       "text": [
        "<IPython.core.display.Javascript at 0x11b359990>"
       ]
      },
      {
       "javascript": [
        "\n",
        "        var $myPB = $(\"div#05f0134a-baf9-4390-b18f-919e8acd0c78\")\n",
        "        if ($myPB.hasClass('ui-progressbar')) {\n",
        "            $myPB.progressbar('value', 6);\n",
        "        } else {\n",
        "            $myPB.progressbar({value: 0, max: 100});\n",
        "        }\n",
        "        "
       ],
       "metadata": {},
       "output_type": "display_data",
       "text": [
        "<IPython.core.display.Javascript at 0x11b359ad0>"
       ]
      },
      {
       "javascript": [
        "$('div#93899c4c-8f15-4b29-9645-b071b406820e').text('ETA:  0:02:40');"
       ],
       "metadata": {},
       "output_type": "display_data",
       "text": [
        "<IPython.core.display.Javascript at 0x11b359790>"
       ]
      },
      {
       "javascript": [
        "$('div#62e93c0f-a331-4e8e-a4ce-e3685364a884').text('  6%');"
       ],
       "metadata": {},
       "output_type": "display_data",
       "text": [
        "<IPython.core.display.Javascript at 0x11b359d50>"
       ]
      },
      {
       "javascript": [
        "\n",
        "        var $myPB = $(\"div#05f0134a-baf9-4390-b18f-919e8acd0c78\")\n",
        "        if ($myPB.hasClass('ui-progressbar')) {\n",
        "            $myPB.progressbar('value', 6);\n",
        "        } else {\n",
        "            $myPB.progressbar({value: 0, max: 100});\n",
        "        }\n",
        "        "
       ],
       "metadata": {},
       "output_type": "display_data",
       "text": [
        "<IPython.core.display.Javascript at 0x11b359290>"
       ]
      },
      {
       "javascript": [
        "$('div#93899c4c-8f15-4b29-9645-b071b406820e').text('ETA:  0:02:56');"
       ],
       "metadata": {},
       "output_type": "display_data",
       "text": [
        "<IPython.core.display.Javascript at 0x11b359c10>"
       ]
      },
      {
       "javascript": [
        "$('div#62e93c0f-a331-4e8e-a4ce-e3685364a884').text('  7%');"
       ],
       "metadata": {},
       "output_type": "display_data",
       "text": [
        "<IPython.core.display.Javascript at 0x11b359f10>"
       ]
      },
      {
       "javascript": [
        "\n",
        "        var $myPB = $(\"div#05f0134a-baf9-4390-b18f-919e8acd0c78\")\n",
        "        if ($myPB.hasClass('ui-progressbar')) {\n",
        "            $myPB.progressbar('value', 7);\n",
        "        } else {\n",
        "            $myPB.progressbar({value: 0, max: 100});\n",
        "        }\n",
        "        "
       ],
       "metadata": {},
       "output_type": "display_data",
       "text": [
        "<IPython.core.display.Javascript at 0x11b359750>"
       ]
      },
      {
       "javascript": [
        "$('div#93899c4c-8f15-4b29-9645-b071b406820e').text('ETA:  0:02:43');"
       ],
       "metadata": {},
       "output_type": "display_data",
       "text": [
        "<IPython.core.display.Javascript at 0x11b359d10>"
       ]
      },
      {
       "javascript": [
        "$('div#62e93c0f-a331-4e8e-a4ce-e3685364a884').text('  7%');"
       ],
       "metadata": {},
       "output_type": "display_data",
       "text": [
        "<IPython.core.display.Javascript at 0x11b359510>"
       ]
      },
      {
       "javascript": [
        "\n",
        "        var $myPB = $(\"div#05f0134a-baf9-4390-b18f-919e8acd0c78\")\n",
        "        if ($myPB.hasClass('ui-progressbar')) {\n",
        "            $myPB.progressbar('value', 7);\n",
        "        } else {\n",
        "            $myPB.progressbar({value: 0, max: 100});\n",
        "        }\n",
        "        "
       ],
       "metadata": {},
       "output_type": "display_data",
       "text": [
        "<IPython.core.display.Javascript at 0x11b3597d0>"
       ]
      },
      {
       "javascript": [
        "$('div#93899c4c-8f15-4b29-9645-b071b406820e').text('ETA:  0:02:56');"
       ],
       "metadata": {},
       "output_type": "display_data",
       "text": [
        "<IPython.core.display.Javascript at 0x11b3592d0>"
       ]
      },
      {
       "javascript": [
        "$('div#62e93c0f-a331-4e8e-a4ce-e3685364a884').text('  7%');"
       ],
       "metadata": {},
       "output_type": "display_data",
       "text": [
        "<IPython.core.display.Javascript at 0x11b359e50>"
       ]
      },
      {
       "javascript": [
        "\n",
        "        var $myPB = $(\"div#05f0134a-baf9-4390-b18f-919e8acd0c78\")\n",
        "        if ($myPB.hasClass('ui-progressbar')) {\n",
        "            $myPB.progressbar('value', 7);\n",
        "        } else {\n",
        "            $myPB.progressbar({value: 0, max: 100});\n",
        "        }\n",
        "        "
       ],
       "metadata": {},
       "output_type": "display_data",
       "text": [
        "<IPython.core.display.Javascript at 0x11b359310>"
       ]
      },
      {
       "javascript": [
        "$('div#93899c4c-8f15-4b29-9645-b071b406820e').text('ETA:  0:03:10');"
       ],
       "metadata": {},
       "output_type": "display_data",
       "text": [
        "<IPython.core.display.Javascript at 0x11b3596d0>"
       ]
      },
      {
       "javascript": [
        "$('div#62e93c0f-a331-4e8e-a4ce-e3685364a884').text('  7%');"
       ],
       "metadata": {},
       "output_type": "display_data",
       "text": [
        "<IPython.core.display.Javascript at 0x11b359050>"
       ]
      },
      {
       "javascript": [
        "\n",
        "        var $myPB = $(\"div#05f0134a-baf9-4390-b18f-919e8acd0c78\")\n",
        "        if ($myPB.hasClass('ui-progressbar')) {\n",
        "            $myPB.progressbar('value', 7);\n",
        "        } else {\n",
        "            $myPB.progressbar({value: 0, max: 100});\n",
        "        }\n",
        "        "
       ],
       "metadata": {},
       "output_type": "display_data",
       "text": [
        "<IPython.core.display.Javascript at 0x11b359550>"
       ]
      },
      {
       "javascript": [
        "$('div#93899c4c-8f15-4b29-9645-b071b406820e').text('ETA:  0:03:23');"
       ],
       "metadata": {},
       "output_type": "display_data",
       "text": [
        "<IPython.core.display.Javascript at 0x11b359a50>"
       ]
      },
      {
       "javascript": [
        "$('div#62e93c0f-a331-4e8e-a4ce-e3685364a884').text('  7%');"
       ],
       "metadata": {},
       "output_type": "display_data",
       "text": [
        "<IPython.core.display.Javascript at 0x11b359810>"
       ]
      },
      {
       "javascript": [
        "\n",
        "        var $myPB = $(\"div#05f0134a-baf9-4390-b18f-919e8acd0c78\")\n",
        "        if ($myPB.hasClass('ui-progressbar')) {\n",
        "            $myPB.progressbar('value', 7);\n",
        "        } else {\n",
        "            $myPB.progressbar({value: 0, max: 100});\n",
        "        }\n",
        "        "
       ],
       "metadata": {},
       "output_type": "display_data",
       "text": [
        "<IPython.core.display.Javascript at 0x11b359090>"
       ]
      },
      {
       "javascript": [
        "$('div#93899c4c-8f15-4b29-9645-b071b406820e').text('ETA:  0:03:37');"
       ],
       "metadata": {},
       "output_type": "display_data",
       "text": [
        "<IPython.core.display.Javascript at 0x11b359850>"
       ]
      },
      {
       "javascript": [
        "$('div#62e93c0f-a331-4e8e-a4ce-e3685364a884').text('  7%');"
       ],
       "metadata": {},
       "output_type": "display_data",
       "text": [
        "<IPython.core.display.Javascript at 0x11b359950>"
       ]
      },
      {
       "javascript": [
        "\n",
        "        var $myPB = $(\"div#05f0134a-baf9-4390-b18f-919e8acd0c78\")\n",
        "        if ($myPB.hasClass('ui-progressbar')) {\n",
        "            $myPB.progressbar('value', 7);\n",
        "        } else {\n",
        "            $myPB.progressbar({value: 0, max: 100});\n",
        "        }\n",
        "        "
       ],
       "metadata": {},
       "output_type": "display_data",
       "text": [
        "<IPython.core.display.Javascript at 0x11b359110>"
       ]
      },
      {
       "javascript": [
        "$('div#93899c4c-8f15-4b29-9645-b071b406820e').text('ETA:  0:03:50');"
       ],
       "metadata": {},
       "output_type": "display_data",
       "text": [
        "<IPython.core.display.Javascript at 0x11b359350>"
       ]
      },
      {
       "javascript": [
        "$('div#62e93c0f-a331-4e8e-a4ce-e3685364a884').text('  8%');"
       ],
       "metadata": {},
       "output_type": "display_data",
       "text": [
        "<IPython.core.display.Javascript at 0x11b359f50>"
       ]
      },
      {
       "javascript": [
        "\n",
        "        var $myPB = $(\"div#05f0134a-baf9-4390-b18f-919e8acd0c78\")\n",
        "        if ($myPB.hasClass('ui-progressbar')) {\n",
        "            $myPB.progressbar('value', 8);\n",
        "        } else {\n",
        "            $myPB.progressbar({value: 0, max: 100});\n",
        "        }\n",
        "        "
       ],
       "metadata": {},
       "output_type": "display_data",
       "text": [
        "<IPython.core.display.Javascript at 0x11b359fd0>"
       ]
      },
      {
       "javascript": [
        "$('div#93899c4c-8f15-4b29-9645-b071b406820e').text('ETA:  0:03:31');"
       ],
       "metadata": {},
       "output_type": "display_data",
       "text": [
        "<IPython.core.display.Javascript at 0x11b359cd0>"
       ]
      },
      {
       "javascript": [
        "$('div#62e93c0f-a331-4e8e-a4ce-e3685364a884').text('  9%');"
       ],
       "metadata": {},
       "output_type": "display_data",
       "text": [
        "<IPython.core.display.Javascript at 0x11b359450>"
       ]
      },
      {
       "javascript": [
        "\n",
        "        var $myPB = $(\"div#05f0134a-baf9-4390-b18f-919e8acd0c78\")\n",
        "        if ($myPB.hasClass('ui-progressbar')) {\n",
        "            $myPB.progressbar('value', 9);\n",
        "        } else {\n",
        "            $myPB.progressbar({value: 0, max: 100});\n",
        "        }\n",
        "        "
       ],
       "metadata": {},
       "output_type": "display_data",
       "text": [
        "<IPython.core.display.Javascript at 0x11b359250>"
       ]
      },
      {
       "javascript": [
        "$('div#93899c4c-8f15-4b29-9645-b071b406820e').text('ETA:  0:03:15');"
       ],
       "metadata": {},
       "output_type": "display_data",
       "text": [
        "<IPython.core.display.Javascript at 0x11b359210>"
       ]
      },
      {
       "javascript": [
        "$('div#62e93c0f-a331-4e8e-a4ce-e3685364a884').text('  9%');"
       ],
       "metadata": {},
       "output_type": "display_data",
       "text": [
        "<IPython.core.display.Javascript at 0x11b359f90>"
       ]
      },
      {
       "javascript": [
        "\n",
        "        var $myPB = $(\"div#05f0134a-baf9-4390-b18f-919e8acd0c78\")\n",
        "        if ($myPB.hasClass('ui-progressbar')) {\n",
        "            $myPB.progressbar('value', 9);\n",
        "        } else {\n",
        "            $myPB.progressbar({value: 0, max: 100});\n",
        "        }\n",
        "        "
       ],
       "metadata": {},
       "output_type": "display_data",
       "text": [
        "<IPython.core.display.Javascript at 0x11b359890>"
       ]
      },
      {
       "javascript": [
        "$('div#93899c4c-8f15-4b29-9645-b071b406820e').text('ETA:  0:03:26');"
       ],
       "metadata": {},
       "output_type": "display_data",
       "text": [
        "<IPython.core.display.Javascript at 0x11b359910>"
       ]
      },
      {
       "javascript": [
        "$('div#62e93c0f-a331-4e8e-a4ce-e3685364a884').text(' 11%');"
       ],
       "metadata": {},
       "output_type": "display_data",
       "text": [
        "<IPython.core.display.Javascript at 0x11b359ed0>"
       ]
      },
      {
       "javascript": [
        "\n",
        "        var $myPB = $(\"div#05f0134a-baf9-4390-b18f-919e8acd0c78\")\n",
        "        if ($myPB.hasClass('ui-progressbar')) {\n",
        "            $myPB.progressbar('value', 11);\n",
        "        } else {\n",
        "            $myPB.progressbar({value: 0, max: 100});\n",
        "        }\n",
        "        "
       ],
       "metadata": {},
       "output_type": "display_data",
       "text": [
        "<IPython.core.display.Javascript at 0x11b3594d0>"
       ]
      },
      {
       "javascript": [
        "$('div#93899c4c-8f15-4b29-9645-b071b406820e').text('ETA:  0:02:53');"
       ],
       "metadata": {},
       "output_type": "display_data",
       "text": [
        "<IPython.core.display.Javascript at 0x11b359b10>"
       ]
      },
      {
       "javascript": [
        "$('div#62e93c0f-a331-4e8e-a4ce-e3685364a884').text(' 12%');"
       ],
       "metadata": {},
       "output_type": "display_data",
       "text": [
        "<IPython.core.display.Javascript at 0x11b359bd0>"
       ]
      },
      {
       "javascript": [
        "\n",
        "        var $myPB = $(\"div#05f0134a-baf9-4390-b18f-919e8acd0c78\")\n",
        "        if ($myPB.hasClass('ui-progressbar')) {\n",
        "            $myPB.progressbar('value', 12);\n",
        "        } else {\n",
        "            $myPB.progressbar({value: 0, max: 100});\n",
        "        }\n",
        "        "
       ],
       "metadata": {},
       "output_type": "display_data",
       "text": [
        "<IPython.core.display.Javascript at 0x11b359190>"
       ]
      },
      {
       "javascript": [
        "$('div#93899c4c-8f15-4b29-9645-b071b406820e').text('ETA:  0:02:44');"
       ],
       "metadata": {},
       "output_type": "display_data",
       "text": [
        "<IPython.core.display.Javascript at 0x11b359b50>"
       ]
      },
      {
       "javascript": [
        "$('div#62e93c0f-a331-4e8e-a4ce-e3685364a884').text(' 12%');"
       ],
       "metadata": {},
       "output_type": "display_data",
       "text": [
        "<IPython.core.display.Javascript at 0x11b3593d0>"
       ]
      },
      {
       "javascript": [
        "\n",
        "        var $myPB = $(\"div#05f0134a-baf9-4390-b18f-919e8acd0c78\")\n",
        "        if ($myPB.hasClass('ui-progressbar')) {\n",
        "            $myPB.progressbar('value', 12);\n",
        "        } else {\n",
        "            $myPB.progressbar({value: 0, max: 100});\n",
        "        }\n",
        "        "
       ],
       "metadata": {},
       "output_type": "display_data",
       "text": [
        "<IPython.core.display.Javascript at 0x11b359590>"
       ]
      },
      {
       "javascript": [
        "$('div#93899c4c-8f15-4b29-9645-b071b406820e').text('ETA:  0:02:52');"
       ],
       "metadata": {},
       "output_type": "display_data",
       "text": [
        "<IPython.core.display.Javascript at 0x11b359c90>"
       ]
      },
      {
       "javascript": [
        "$('div#62e93c0f-a331-4e8e-a4ce-e3685364a884').text(' 12%');"
       ],
       "metadata": {},
       "output_type": "display_data",
       "text": [
        "<IPython.core.display.Javascript at 0x11b359190>"
       ]
      },
      {
       "javascript": [
        "\n",
        "        var $myPB = $(\"div#05f0134a-baf9-4390-b18f-919e8acd0c78\")\n",
        "        if ($myPB.hasClass('ui-progressbar')) {\n",
        "            $myPB.progressbar('value', 12);\n",
        "        } else {\n",
        "            $myPB.progressbar({value: 0, max: 100});\n",
        "        }\n",
        "        "
       ],
       "metadata": {},
       "output_type": "display_data",
       "text": [
        "<IPython.core.display.Javascript at 0x11b359590>"
       ]
      },
      {
       "javascript": [
        "$('div#93899c4c-8f15-4b29-9645-b071b406820e').text('ETA:  0:02:59');"
       ],
       "metadata": {},
       "output_type": "display_data",
       "text": [
        "<IPython.core.display.Javascript at 0x11b3593d0>"
       ]
      },
      {
       "javascript": [
        "$('div#62e93c0f-a331-4e8e-a4ce-e3685364a884').text(' 13%');"
       ],
       "metadata": {},
       "output_type": "display_data",
       "text": [
        "<IPython.core.display.Javascript at 0x11b3596d0>"
       ]
      },
      {
       "javascript": [
        "\n",
        "        var $myPB = $(\"div#05f0134a-baf9-4390-b18f-919e8acd0c78\")\n",
        "        if ($myPB.hasClass('ui-progressbar')) {\n",
        "            $myPB.progressbar('value', 13);\n",
        "        } else {\n",
        "            $myPB.progressbar({value: 0, max: 100});\n",
        "        }\n",
        "        "
       ],
       "metadata": {},
       "output_type": "display_data",
       "text": [
        "<IPython.core.display.Javascript at 0x11b359050>"
       ]
      },
      {
       "javascript": [
        "$('div#93899c4c-8f15-4b29-9645-b071b406820e').text('ETA:  0:02:50');"
       ],
       "metadata": {},
       "output_type": "display_data",
       "text": [
        "<IPython.core.display.Javascript at 0x11b359550>"
       ]
      },
      {
       "javascript": [
        "$('div#62e93c0f-a331-4e8e-a4ce-e3685364a884').text(' 14%');"
       ],
       "metadata": {},
       "output_type": "display_data",
       "text": [
        "<IPython.core.display.Javascript at 0x11b359110>"
       ]
      },
      {
       "javascript": [
        "\n",
        "        var $myPB = $(\"div#05f0134a-baf9-4390-b18f-919e8acd0c78\")\n",
        "        if ($myPB.hasClass('ui-progressbar')) {\n",
        "            $myPB.progressbar('value', 14);\n",
        "        } else {\n",
        "            $myPB.progressbar({value: 0, max: 100});\n",
        "        }\n",
        "        "
       ],
       "metadata": {},
       "output_type": "display_data",
       "text": [
        "<IPython.core.display.Javascript at 0x11b3597d0>"
       ]
      },
      {
       "javascript": [
        "$('div#93899c4c-8f15-4b29-9645-b071b406820e').text('ETA:  0:02:42');"
       ],
       "metadata": {},
       "output_type": "display_data",
       "text": [
        "<IPython.core.display.Javascript at 0x11b359f90>"
       ]
      },
      {
       "javascript": [
        "$('div#62e93c0f-a331-4e8e-a4ce-e3685364a884').text(' 15%');"
       ],
       "metadata": {},
       "output_type": "display_data",
       "text": [
        "<IPython.core.display.Javascript at 0x11b359ed0>"
       ]
      },
      {
       "javascript": [
        "\n",
        "        var $myPB = $(\"div#05f0134a-baf9-4390-b18f-919e8acd0c78\")\n",
        "        if ($myPB.hasClass('ui-progressbar')) {\n",
        "            $myPB.progressbar('value', 15);\n",
        "        } else {\n",
        "            $myPB.progressbar({value: 0, max: 100});\n",
        "        }\n",
        "        "
       ],
       "metadata": {},
       "output_type": "display_data",
       "text": [
        "<IPython.core.display.Javascript at 0x11b359750>"
       ]
      },
      {
       "javascript": [
        "$('div#93899c4c-8f15-4b29-9645-b071b406820e').text('ETA:  0:02:36');"
       ],
       "metadata": {},
       "output_type": "display_data",
       "text": [
        "<IPython.core.display.Javascript at 0x11b359490>"
       ]
      },
      {
       "javascript": [
        "$('div#62e93c0f-a331-4e8e-a4ce-e3685364a884').text(' 15%');"
       ],
       "metadata": {},
       "output_type": "display_data",
       "text": [
        "<IPython.core.display.Javascript at 0x11b359cd0>"
       ]
      },
      {
       "javascript": [
        "\n",
        "        var $myPB = $(\"div#05f0134a-baf9-4390-b18f-919e8acd0c78\")\n",
        "        if ($myPB.hasClass('ui-progressbar')) {\n",
        "            $myPB.progressbar('value', 15);\n",
        "        } else {\n",
        "            $myPB.progressbar({value: 0, max: 100});\n",
        "        }\n",
        "        "
       ],
       "metadata": {},
       "output_type": "display_data",
       "text": [
        "<IPython.core.display.Javascript at 0x11b359290>"
       ]
      },
      {
       "javascript": [
        "$('div#93899c4c-8f15-4b29-9645-b071b406820e').text('ETA:  0:02:42');"
       ],
       "metadata": {},
       "output_type": "display_data",
       "text": [
        "<IPython.core.display.Javascript at 0x11b359390>"
       ]
      },
      {
       "javascript": [
        "$('div#62e93c0f-a331-4e8e-a4ce-e3685364a884').text(' 16%');"
       ],
       "metadata": {},
       "output_type": "display_data",
       "text": [
        "<IPython.core.display.Javascript at 0x11b359810>"
       ]
      },
      {
       "javascript": [
        "\n",
        "        var $myPB = $(\"div#05f0134a-baf9-4390-b18f-919e8acd0c78\")\n",
        "        if ($myPB.hasClass('ui-progressbar')) {\n",
        "            $myPB.progressbar('value', 16);\n",
        "        } else {\n",
        "            $myPB.progressbar({value: 0, max: 100});\n",
        "        }\n",
        "        "
       ],
       "metadata": {},
       "output_type": "display_data",
       "text": [
        "<IPython.core.display.Javascript at 0x11b359ad0>"
       ]
      },
      {
       "javascript": [
        "$('div#93899c4c-8f15-4b29-9645-b071b406820e').text('ETA:  0:02:35');"
       ],
       "metadata": {},
       "output_type": "display_data",
       "text": [
        "<IPython.core.display.Javascript at 0x11b359690>"
       ]
      },
      {
       "javascript": [
        "$('div#62e93c0f-a331-4e8e-a4ce-e3685364a884').text(' 16%');"
       ],
       "metadata": {},
       "output_type": "display_data",
       "text": [
        "<IPython.core.display.Javascript at 0x11b359910>"
       ]
      },
      {
       "javascript": [
        "\n",
        "        var $myPB = $(\"div#05f0134a-baf9-4390-b18f-919e8acd0c78\")\n",
        "        if ($myPB.hasClass('ui-progressbar')) {\n",
        "            $myPB.progressbar('value', 16);\n",
        "        } else {\n",
        "            $myPB.progressbar({value: 0, max: 100});\n",
        "        }\n",
        "        "
       ],
       "metadata": {},
       "output_type": "display_data",
       "text": [
        "<IPython.core.display.Javascript at 0x11b359e90>"
       ]
      },
      {
       "javascript": [
        "$('div#93899c4c-8f15-4b29-9645-b071b406820e').text('ETA:  0:02:41');"
       ],
       "metadata": {},
       "output_type": "display_data",
       "text": [
        "<IPython.core.display.Javascript at 0x11b359a90>"
       ]
      },
      {
       "javascript": [
        "$('div#62e93c0f-a331-4e8e-a4ce-e3685364a884').text(' 18%');"
       ],
       "metadata": {},
       "output_type": "display_data",
       "text": [
        "<IPython.core.display.Javascript at 0x11b359890>"
       ]
      },
      {
       "javascript": [
        "\n",
        "        var $myPB = $(\"div#05f0134a-baf9-4390-b18f-919e8acd0c78\")\n",
        "        if ($myPB.hasClass('ui-progressbar')) {\n",
        "            $myPB.progressbar('value', 18);\n",
        "        } else {\n",
        "            $myPB.progressbar({value: 0, max: 100});\n",
        "        }\n",
        "        "
       ],
       "metadata": {},
       "output_type": "display_data",
       "text": [
        "<IPython.core.display.Javascript at 0x11b3591d0>"
       ]
      },
      {
       "javascript": [
        "$('div#93899c4c-8f15-4b29-9645-b071b406820e').text('ETA:  0:02:24');"
       ],
       "metadata": {},
       "output_type": "display_data",
       "text": [
        "<IPython.core.display.Javascript at 0x11b359b10>"
       ]
      },
      {
       "javascript": [
        "$('div#62e93c0f-a331-4e8e-a4ce-e3685364a884').text(' 19%');"
       ],
       "metadata": {},
       "output_type": "display_data",
       "text": [
        "<IPython.core.display.Javascript at 0x11b3592d0>"
       ]
      },
      {
       "javascript": [
        "\n",
        "        var $myPB = $(\"div#05f0134a-baf9-4390-b18f-919e8acd0c78\")\n",
        "        if ($myPB.hasClass('ui-progressbar')) {\n",
        "            $myPB.progressbar('value', 19);\n",
        "        } else {\n",
        "            $myPB.progressbar({value: 0, max: 100});\n",
        "        }\n",
        "        "
       ],
       "metadata": {},
       "output_type": "display_data",
       "text": [
        "<IPython.core.display.Javascript at 0x11b359f50>"
       ]
      },
      {
       "javascript": [
        "$('div#93899c4c-8f15-4b29-9645-b071b406820e').text('ETA:  0:02:19');"
       ],
       "metadata": {},
       "output_type": "display_data",
       "text": [
        "<IPython.core.display.Javascript at 0x11b359c50>"
       ]
      },
      {
       "javascript": [
        "$('div#62e93c0f-a331-4e8e-a4ce-e3685364a884').text(' 19%');"
       ],
       "metadata": {},
       "output_type": "display_data",
       "text": [
        "<IPython.core.display.Javascript at 0x1076e75d0>"
       ]
      },
      {
       "javascript": [
        "\n",
        "        var $myPB = $(\"div#05f0134a-baf9-4390-b18f-919e8acd0c78\")\n",
        "        if ($myPB.hasClass('ui-progressbar')) {\n",
        "            $myPB.progressbar('value', 19);\n",
        "        } else {\n",
        "            $myPB.progressbar({value: 0, max: 100});\n",
        "        }\n",
        "        "
       ],
       "metadata": {},
       "output_type": "display_data",
       "text": [
        "<IPython.core.display.Javascript at 0x1076e7990>"
       ]
      },
      {
       "javascript": [
        "$('div#93899c4c-8f15-4b29-9645-b071b406820e').text('ETA:  0:02:23');"
       ],
       "metadata": {},
       "output_type": "display_data",
       "text": [
        "<IPython.core.display.Javascript at 0x11e011610>"
       ]
      },
      {
       "javascript": [
        "$('div#62e93c0f-a331-4e8e-a4ce-e3685364a884').text(' 20%');"
       ],
       "metadata": {},
       "output_type": "display_data",
       "text": [
        "<IPython.core.display.Javascript at 0x11b359650>"
       ]
      },
      {
       "javascript": [
        "\n",
        "        var $myPB = $(\"div#05f0134a-baf9-4390-b18f-919e8acd0c78\")\n",
        "        if ($myPB.hasClass('ui-progressbar')) {\n",
        "            $myPB.progressbar('value', 20);\n",
        "        } else {\n",
        "            $myPB.progressbar({value: 0, max: 100});\n",
        "        }\n",
        "        "
       ],
       "metadata": {},
       "output_type": "display_data",
       "text": [
        "<IPython.core.display.Javascript at 0x11b359950>"
       ]
      },
      {
       "javascript": [
        "$('div#93899c4c-8f15-4b29-9645-b071b406820e').text('ETA:  0:02:18');"
       ],
       "metadata": {},
       "output_type": "display_data",
       "text": [
        "<IPython.core.display.Javascript at 0x11b359990>"
       ]
      },
      {
       "javascript": [
        "$('div#62e93c0f-a331-4e8e-a4ce-e3685364a884').text(' 20%');"
       ],
       "metadata": {},
       "output_type": "display_data",
       "text": [
        "<IPython.core.display.Javascript at 0x11b359d50>"
       ]
      },
      {
       "javascript": [
        "\n",
        "        var $myPB = $(\"div#05f0134a-baf9-4390-b18f-919e8acd0c78\")\n",
        "        if ($myPB.hasClass('ui-progressbar')) {\n",
        "            $myPB.progressbar('value', 20);\n",
        "        } else {\n",
        "            $myPB.progressbar({value: 0, max: 100});\n",
        "        }\n",
        "        "
       ],
       "metadata": {},
       "output_type": "display_data",
       "text": [
        "<IPython.core.display.Javascript at 0x11b3598d0>"
       ]
      },
      {
       "javascript": [
        "$('div#93899c4c-8f15-4b29-9645-b071b406820e').text('ETA:  0:02:23');"
       ],
       "metadata": {},
       "output_type": "display_data",
       "text": [
        "<IPython.core.display.Javascript at 0x11b359c90>"
       ]
      },
      {
       "javascript": [
        "$('div#62e93c0f-a331-4e8e-a4ce-e3685364a884').text(' 21%');"
       ],
       "metadata": {},
       "output_type": "display_data",
       "text": [
        "<IPython.core.display.Javascript at 0x11b359250>"
       ]
      },
      {
       "javascript": [
        "\n",
        "        var $myPB = $(\"div#05f0134a-baf9-4390-b18f-919e8acd0c78\")\n",
        "        if ($myPB.hasClass('ui-progressbar')) {\n",
        "            $myPB.progressbar('value', 21);\n",
        "        } else {\n",
        "            $myPB.progressbar({value: 0, max: 100});\n",
        "        }\n",
        "        "
       ],
       "metadata": {},
       "output_type": "display_data",
       "text": [
        "<IPython.core.display.Javascript at 0x11b359150>"
       ]
      },
      {
       "javascript": [
        "$('div#93899c4c-8f15-4b29-9645-b071b406820e').text('ETA:  0:02:18');"
       ],
       "metadata": {},
       "output_type": "display_data",
       "text": [
        "<IPython.core.display.Javascript at 0x11b359210>"
       ]
      },
      {
       "javascript": [
        "$('div#62e93c0f-a331-4e8e-a4ce-e3685364a884').text(' 21%');"
       ],
       "metadata": {},
       "output_type": "display_data",
       "text": [
        "<IPython.core.display.Javascript at 0x11b359850>"
       ]
      },
      {
       "javascript": [
        "\n",
        "        var $myPB = $(\"div#05f0134a-baf9-4390-b18f-919e8acd0c78\")\n",
        "        if ($myPB.hasClass('ui-progressbar')) {\n",
        "            $myPB.progressbar('value', 21);\n",
        "        } else {\n",
        "            $myPB.progressbar({value: 0, max: 100});\n",
        "        }\n",
        "        "
       ],
       "metadata": {},
       "output_type": "display_data",
       "text": [
        "<IPython.core.display.Javascript at 0x11b359510>"
       ]
      },
      {
       "javascript": [
        "$('div#93899c4c-8f15-4b29-9645-b071b406820e').text('ETA:  0:02:22');"
       ],
       "metadata": {},
       "output_type": "display_data",
       "text": [
        "<IPython.core.display.Javascript at 0x11b359410>"
       ]
      },
      {
       "javascript": [
        "$('div#62e93c0f-a331-4e8e-a4ce-e3685364a884').text(' 22%');"
       ],
       "metadata": {},
       "output_type": "display_data",
       "text": [
        "<IPython.core.display.Javascript at 0x11b359fd0>"
       ]
      },
      {
       "javascript": [
        "\n",
        "        var $myPB = $(\"div#05f0134a-baf9-4390-b18f-919e8acd0c78\")\n",
        "        if ($myPB.hasClass('ui-progressbar')) {\n",
        "            $myPB.progressbar('value', 22);\n",
        "        } else {\n",
        "            $myPB.progressbar({value: 0, max: 100});\n",
        "        }\n",
        "        "
       ],
       "metadata": {},
       "output_type": "display_data",
       "text": [
        "<IPython.core.display.Javascript at 0x11b3595d0>"
       ]
      },
      {
       "javascript": [
        "$('div#93899c4c-8f15-4b29-9645-b071b406820e').text('ETA:  0:02:17');"
       ],
       "metadata": {},
       "output_type": "display_data",
       "text": [
        "<IPython.core.display.Javascript at 0x11b359450>"
       ]
      },
      {
       "javascript": [
        "$('div#62e93c0f-a331-4e8e-a4ce-e3685364a884').text(' 23%');"
       ],
       "metadata": {},
       "output_type": "display_data",
       "text": [
        "<IPython.core.display.Javascript at 0x11b359090>"
       ]
      },
      {
       "javascript": [
        "\n",
        "        var $myPB = $(\"div#05f0134a-baf9-4390-b18f-919e8acd0c78\")\n",
        "        if ($myPB.hasClass('ui-progressbar')) {\n",
        "            $myPB.progressbar('value', 23);\n",
        "        } else {\n",
        "            $myPB.progressbar({value: 0, max: 100});\n",
        "        }\n",
        "        "
       ],
       "metadata": {},
       "output_type": "display_data",
       "text": [
        "<IPython.core.display.Javascript at 0x11b359e50>"
       ]
      },
      {
       "javascript": [
        "$('div#93899c4c-8f15-4b29-9645-b071b406820e').text('ETA:  0:02:13');"
       ],
       "metadata": {},
       "output_type": "display_data",
       "text": [
        "<IPython.core.display.Javascript at 0x11b3594d0>"
       ]
      },
      {
       "javascript": [
        "$('div#62e93c0f-a331-4e8e-a4ce-e3685364a884').text(' 24%');"
       ],
       "metadata": {},
       "output_type": "display_data",
       "text": [
        "<IPython.core.display.Javascript at 0x11b359c10>"
       ]
      },
      {
       "javascript": [
        "\n",
        "        var $myPB = $(\"div#05f0134a-baf9-4390-b18f-919e8acd0c78\")\n",
        "        if ($myPB.hasClass('ui-progressbar')) {\n",
        "            $myPB.progressbar('value', 24);\n",
        "        } else {\n",
        "            $myPB.progressbar({value: 0, max: 100});\n",
        "        }\n",
        "        "
       ],
       "metadata": {},
       "output_type": "display_data",
       "text": [
        "<IPython.core.display.Javascript at 0x11b359d10>"
       ]
      },
      {
       "javascript": [
        "$('div#93899c4c-8f15-4b29-9645-b071b406820e').text('ETA:  0:02:09');"
       ],
       "metadata": {},
       "output_type": "display_data",
       "text": [
        "<IPython.core.display.Javascript at 0x11b359f10>"
       ]
      },
      {
       "javascript": [
        "$('div#62e93c0f-a331-4e8e-a4ce-e3685364a884').text(' 25%');"
       ],
       "metadata": {},
       "output_type": "display_data",
       "text": [
        "<IPython.core.display.Javascript at 0x11b359b90>"
       ]
      },
      {
       "javascript": [
        "\n",
        "        var $myPB = $(\"div#05f0134a-baf9-4390-b18f-919e8acd0c78\")\n",
        "        if ($myPB.hasClass('ui-progressbar')) {\n",
        "            $myPB.progressbar('value', 25);\n",
        "        } else {\n",
        "            $myPB.progressbar({value: 0, max: 100});\n",
        "        }\n",
        "        "
       ],
       "metadata": {},
       "output_type": "display_data",
       "text": [
        "<IPython.core.display.Javascript at 0x11b359610>"
       ]
      },
      {
       "javascript": [
        "$('div#93899c4c-8f15-4b29-9645-b071b406820e').text('ETA:  0:02:05');"
       ],
       "metadata": {},
       "output_type": "display_data",
       "text": [
        "<IPython.core.display.Javascript at 0x11b359d90>"
       ]
      },
      {
       "javascript": [
        "$('div#62e93c0f-a331-4e8e-a4ce-e3685364a884').text(' 25%');"
       ],
       "metadata": {},
       "output_type": "display_data",
       "text": [
        "<IPython.core.display.Javascript at 0x11b359bd0>"
       ]
      },
      {
       "javascript": [
        "\n",
        "        var $myPB = $(\"div#05f0134a-baf9-4390-b18f-919e8acd0c78\")\n",
        "        if ($myPB.hasClass('ui-progressbar')) {\n",
        "            $myPB.progressbar('value', 25);\n",
        "        } else {\n",
        "            $myPB.progressbar({value: 0, max: 100});\n",
        "        }\n",
        "        "
       ],
       "metadata": {},
       "output_type": "display_data",
       "text": [
        "<IPython.core.display.Javascript at 0x11b359350>"
       ]
      },
      {
       "javascript": [
        "$('div#93899c4c-8f15-4b29-9645-b071b406820e').text('ETA:  0:02:08');"
       ],
       "metadata": {},
       "output_type": "display_data",
       "text": [
        "<IPython.core.display.Javascript at 0x11b359790>"
       ]
      },
      {
       "javascript": [
        "$('div#62e93c0f-a331-4e8e-a4ce-e3685364a884').text(' 27%');"
       ],
       "metadata": {},
       "output_type": "display_data",
       "text": [
        "<IPython.core.display.Javascript at 0x1076e7990>"
       ]
      },
      {
       "javascript": [
        "\n",
        "        var $myPB = $(\"div#05f0134a-baf9-4390-b18f-919e8acd0c78\")\n",
        "        if ($myPB.hasClass('ui-progressbar')) {\n",
        "            $myPB.progressbar('value', 27);\n",
        "        } else {\n",
        "            $myPB.progressbar({value: 0, max: 100});\n",
        "        }\n",
        "        "
       ],
       "metadata": {},
       "output_type": "display_data",
       "text": [
        "<IPython.core.display.Javascript at 0x1076e7190>"
       ]
      },
      {
       "javascript": [
        "$('div#93899c4c-8f15-4b29-9645-b071b406820e').text('ETA:  0:01:58');"
       ],
       "metadata": {},
       "output_type": "display_data",
       "text": [
        "<IPython.core.display.Javascript at 0x1076e75d0>"
       ]
      },
      {
       "javascript": [
        "$('div#62e93c0f-a331-4e8e-a4ce-e3685364a884').text(' 27%');"
       ],
       "metadata": {},
       "output_type": "display_data",
       "text": [
        "<IPython.core.display.Javascript at 0x11b359150>"
       ]
      },
      {
       "javascript": [
        "\n",
        "        var $myPB = $(\"div#05f0134a-baf9-4390-b18f-919e8acd0c78\")\n",
        "        if ($myPB.hasClass('ui-progressbar')) {\n",
        "            $myPB.progressbar('value', 27);\n",
        "        } else {\n",
        "            $myPB.progressbar({value: 0, max: 100});\n",
        "        }\n",
        "        "
       ],
       "metadata": {},
       "output_type": "display_data",
       "text": [
        "<IPython.core.display.Javascript at 0x11b359650>"
       ]
      },
      {
       "javascript": [
        "$('div#93899c4c-8f15-4b29-9645-b071b406820e').text('ETA:  0:02:01');"
       ],
       "metadata": {},
       "output_type": "display_data",
       "text": [
        "<IPython.core.display.Javascript at 0x11b359950>"
       ]
      },
      {
       "javascript": [
        "$('div#62e93c0f-a331-4e8e-a4ce-e3685364a884').text(' 27%');"
       ],
       "metadata": {},
       "output_type": "display_data",
       "text": [
        "<IPython.core.display.Javascript at 0x11b359c10>"
       ]
      },
      {
       "javascript": [
        "\n",
        "        var $myPB = $(\"div#05f0134a-baf9-4390-b18f-919e8acd0c78\")\n",
        "        if ($myPB.hasClass('ui-progressbar')) {\n",
        "            $myPB.progressbar('value', 27);\n",
        "        } else {\n",
        "            $myPB.progressbar({value: 0, max: 100});\n",
        "        }\n",
        "        "
       ],
       "metadata": {},
       "output_type": "display_data",
       "text": [
        "<IPython.core.display.Javascript at 0x11b359210>"
       ]
      },
      {
       "javascript": [
        "$('div#93899c4c-8f15-4b29-9645-b071b406820e').text('ETA:  0:02:04');"
       ],
       "metadata": {},
       "output_type": "display_data",
       "text": [
        "<IPython.core.display.Javascript at 0x11b359b10>"
       ]
      },
      {
       "javascript": [
        "$('div#62e93c0f-a331-4e8e-a4ce-e3685364a884').text(' 27%');"
       ],
       "metadata": {},
       "output_type": "display_data",
       "text": [
        "<IPython.core.display.Javascript at 0x11b359fd0>"
       ]
      },
      {
       "javascript": [
        "\n",
        "        var $myPB = $(\"div#05f0134a-baf9-4390-b18f-919e8acd0c78\")\n",
        "        if ($myPB.hasClass('ui-progressbar')) {\n",
        "            $myPB.progressbar('value', 27);\n",
        "        } else {\n",
        "            $myPB.progressbar({value: 0, max: 100});\n",
        "        }\n",
        "        "
       ],
       "metadata": {},
       "output_type": "display_data",
       "text": [
        "<IPython.core.display.Javascript at 0x11b359610>"
       ]
      },
      {
       "javascript": [
        "$('div#93899c4c-8f15-4b29-9645-b071b406820e').text('ETA:  0:02:07');"
       ],
       "metadata": {},
       "output_type": "display_data",
       "text": [
        "<IPython.core.display.Javascript at 0x11b359a90>"
       ]
      },
      {
       "javascript": [
        "$('div#62e93c0f-a331-4e8e-a4ce-e3685364a884').text(' 27%');"
       ],
       "metadata": {},
       "output_type": "display_data",
       "text": [
        "<IPython.core.display.Javascript at 0x11b3592d0>"
       ]
      },
      {
       "javascript": [
        "\n",
        "        var $myPB = $(\"div#05f0134a-baf9-4390-b18f-919e8acd0c78\")\n",
        "        if ($myPB.hasClass('ui-progressbar')) {\n",
        "            $myPB.progressbar('value', 27);\n",
        "        } else {\n",
        "            $myPB.progressbar({value: 0, max: 100});\n",
        "        }\n",
        "        "
       ],
       "metadata": {},
       "output_type": "display_data",
       "text": [
        "<IPython.core.display.Javascript at 0x11b3595d0>"
       ]
      },
      {
       "javascript": [
        "$('div#93899c4c-8f15-4b29-9645-b071b406820e').text('ETA:  0:02:09');"
       ],
       "metadata": {},
       "output_type": "display_data",
       "text": [
        "<IPython.core.display.Javascript at 0x11b359690>"
       ]
      },
      {
       "javascript": [
        "$('div#62e93c0f-a331-4e8e-a4ce-e3685364a884').text(' 28%');"
       ],
       "metadata": {},
       "output_type": "display_data",
       "text": [
        "<IPython.core.display.Javascript at 0x11b359890>"
       ]
      },
      {
       "javascript": [
        "\n",
        "        var $myPB = $(\"div#05f0134a-baf9-4390-b18f-919e8acd0c78\")\n",
        "        if ($myPB.hasClass('ui-progressbar')) {\n",
        "            $myPB.progressbar('value', 28);\n",
        "        } else {\n",
        "            $myPB.progressbar({value: 0, max: 100});\n",
        "        }\n",
        "        "
       ],
       "metadata": {},
       "output_type": "display_data",
       "text": [
        "<IPython.core.display.Javascript at 0x11b359410>"
       ]
      },
      {
       "javascript": [
        "$('div#93899c4c-8f15-4b29-9645-b071b406820e').text('ETA:  0:02:06');"
       ],
       "metadata": {},
       "output_type": "display_data",
       "text": [
        "<IPython.core.display.Javascript at 0x11b359390>"
       ]
      },
      {
       "javascript": [
        "$('div#62e93c0f-a331-4e8e-a4ce-e3685364a884').text(' 29%');"
       ],
       "metadata": {},
       "output_type": "display_data",
       "text": [
        "<IPython.core.display.Javascript at 0x11b359910>"
       ]
      },
      {
       "javascript": [
        "\n",
        "        var $myPB = $(\"div#05f0134a-baf9-4390-b18f-919e8acd0c78\")\n",
        "        if ($myPB.hasClass('ui-progressbar')) {\n",
        "            $myPB.progressbar('value', 29);\n",
        "        } else {\n",
        "            $myPB.progressbar({value: 0, max: 100});\n",
        "        }\n",
        "        "
       ],
       "metadata": {},
       "output_type": "display_data",
       "text": [
        "<IPython.core.display.Javascript at 0x11b3598d0>"
       ]
      },
      {
       "javascript": [
        "$('div#93899c4c-8f15-4b29-9645-b071b406820e').text('ETA:  0:02:02');"
       ],
       "metadata": {},
       "output_type": "display_data",
       "text": [
        "<IPython.core.display.Javascript at 0x11b359490>"
       ]
      },
      {
       "javascript": [
        "$('div#62e93c0f-a331-4e8e-a4ce-e3685364a884').text(' 30%');"
       ],
       "metadata": {},
       "output_type": "display_data",
       "text": [
        "<IPython.core.display.Javascript at 0x11b359810>"
       ]
      },
      {
       "javascript": [
        "\n",
        "        var $myPB = $(\"div#05f0134a-baf9-4390-b18f-919e8acd0c78\")\n",
        "        if ($myPB.hasClass('ui-progressbar')) {\n",
        "            $myPB.progressbar('value', 30);\n",
        "        } else {\n",
        "            $myPB.progressbar({value: 0, max: 100});\n",
        "        }\n",
        "        "
       ],
       "metadata": {},
       "output_type": "display_data",
       "text": [
        "<IPython.core.display.Javascript at 0x11b359f10>"
       ]
      },
      {
       "javascript": [
        "$('div#93899c4c-8f15-4b29-9645-b071b406820e').text('ETA:  0:01:59');"
       ],
       "metadata": {},
       "output_type": "display_data",
       "text": [
        "<IPython.core.display.Javascript at 0x11b359f90>"
       ]
      },
      {
       "javascript": [
        "$('div#62e93c0f-a331-4e8e-a4ce-e3685364a884').text(' 32%');"
       ],
       "metadata": {},
       "output_type": "display_data",
       "text": [
        "<IPython.core.display.Javascript at 0x11b359cd0>"
       ]
      },
      {
       "javascript": [
        "\n",
        "        var $myPB = $(\"div#05f0134a-baf9-4390-b18f-919e8acd0c78\")\n",
        "        if ($myPB.hasClass('ui-progressbar')) {\n",
        "            $myPB.progressbar('value', 32);\n",
        "        } else {\n",
        "            $myPB.progressbar({value: 0, max: 100});\n",
        "        }\n",
        "        "
       ],
       "metadata": {},
       "output_type": "display_data",
       "text": [
        "<IPython.core.display.Javascript at 0x11b359c50>"
       ]
      },
      {
       "javascript": [
        "$('div#93899c4c-8f15-4b29-9645-b071b406820e').text('ETA:  0:01:50');"
       ],
       "metadata": {},
       "output_type": "display_data",
       "text": [
        "<IPython.core.display.Javascript at 0x11b359550>"
       ]
      },
      {
       "javascript": [
        "$('div#62e93c0f-a331-4e8e-a4ce-e3685364a884').text(' 32%');"
       ],
       "metadata": {},
       "output_type": "display_data",
       "text": [
        "<IPython.core.display.Javascript at 0x11b359ed0>"
       ]
      },
      {
       "javascript": [
        "\n",
        "        var $myPB = $(\"div#05f0134a-baf9-4390-b18f-919e8acd0c78\")\n",
        "        if ($myPB.hasClass('ui-progressbar')) {\n",
        "            $myPB.progressbar('value', 32);\n",
        "        } else {\n",
        "            $myPB.progressbar({value: 0, max: 100});\n",
        "        }\n",
        "        "
       ],
       "metadata": {},
       "output_type": "display_data",
       "text": [
        "<IPython.core.display.Javascript at 0x11b3591d0>"
       ]
      },
      {
       "javascript": [
        "$('div#93899c4c-8f15-4b29-9645-b071b406820e').text('ETA:  0:01:52');"
       ],
       "metadata": {},
       "output_type": "display_data",
       "text": [
        "<IPython.core.display.Javascript at 0x11b3593d0>"
       ]
      },
      {
       "javascript": [
        "$('div#62e93c0f-a331-4e8e-a4ce-e3685364a884').text(' 33%');"
       ],
       "metadata": {},
       "output_type": "display_data",
       "text": [
        "<IPython.core.display.Javascript at 0x11b359110>"
       ]
      },
      {
       "javascript": [
        "\n",
        "        var $myPB = $(\"div#05f0134a-baf9-4390-b18f-919e8acd0c78\")\n",
        "        if ($myPB.hasClass('ui-progressbar')) {\n",
        "            $myPB.progressbar('value', 33);\n",
        "        } else {\n",
        "            $myPB.progressbar({value: 0, max: 100});\n",
        "        }\n",
        "        "
       ],
       "metadata": {},
       "output_type": "display_data",
       "text": [
        "<IPython.core.display.Javascript at 0x11b359e90>"
       ]
      },
      {
       "javascript": [
        "$('div#93899c4c-8f15-4b29-9645-b071b406820e').text('ETA:  0:01:49');"
       ],
       "metadata": {},
       "output_type": "display_data",
       "text": [
        "<IPython.core.display.Javascript at 0x11b359c90>"
       ]
      },
      {
       "javascript": [
        "$('div#62e93c0f-a331-4e8e-a4ce-e3685364a884').text(' 34%');"
       ],
       "metadata": {},
       "output_type": "display_data",
       "text": [
        "<IPython.core.display.Javascript at 0x11b359590>"
       ]
      },
      {
       "javascript": [
        "\n",
        "        var $myPB = $(\"div#05f0134a-baf9-4390-b18f-919e8acd0c78\")\n",
        "        if ($myPB.hasClass('ui-progressbar')) {\n",
        "            $myPB.progressbar('value', 34);\n",
        "        } else {\n",
        "            $myPB.progressbar({value: 0, max: 100});\n",
        "        }\n",
        "        "
       ],
       "metadata": {},
       "output_type": "display_data",
       "text": [
        "<IPython.core.display.Javascript at 0x11b359ad0>"
       ]
      },
      {
       "javascript": [
        "$('div#93899c4c-8f15-4b29-9645-b071b406820e').text('ETA:  0:01:47');"
       ],
       "metadata": {},
       "output_type": "display_data",
       "text": [
        "<IPython.core.display.Javascript at 0x11b359e50>"
       ]
      },
      {
       "javascript": [
        "$('div#62e93c0f-a331-4e8e-a4ce-e3685364a884').text(' 34%');"
       ],
       "metadata": {},
       "output_type": "display_data",
       "text": [
        "<IPython.core.display.Javascript at 0x11b359850>"
       ]
      },
      {
       "javascript": [
        "\n",
        "        var $myPB = $(\"div#05f0134a-baf9-4390-b18f-919e8acd0c78\")\n",
        "        if ($myPB.hasClass('ui-progressbar')) {\n",
        "            $myPB.progressbar('value', 34);\n",
        "        } else {\n",
        "            $myPB.progressbar({value: 0, max: 100});\n",
        "        }\n",
        "        "
       ],
       "metadata": {},
       "output_type": "display_data",
       "text": [
        "<IPython.core.display.Javascript at 0x11b359290>"
       ]
      },
      {
       "javascript": [
        "$('div#93899c4c-8f15-4b29-9645-b071b406820e').text('ETA:  0:01:49');"
       ],
       "metadata": {},
       "output_type": "display_data",
       "text": [
        "<IPython.core.display.Javascript at 0x11b359b90>"
       ]
      },
      {
       "javascript": [
        "$('div#62e93c0f-a331-4e8e-a4ce-e3685364a884').text(' 36%');"
       ],
       "metadata": {},
       "output_type": "display_data",
       "text": [
        "<IPython.core.display.Javascript at 0x11b359450>"
       ]
      },
      {
       "javascript": [
        "\n",
        "        var $myPB = $(\"div#05f0134a-baf9-4390-b18f-919e8acd0c78\")\n",
        "        if ($myPB.hasClass('ui-progressbar')) {\n",
        "            $myPB.progressbar('value', 36);\n",
        "        } else {\n",
        "            $myPB.progressbar({value: 0, max: 100});\n",
        "        }\n",
        "        "
       ],
       "metadata": {},
       "output_type": "display_data",
       "text": [
        "<IPython.core.display.Javascript at 0x11b359d50>"
       ]
      },
      {
       "javascript": [
        "$('div#93899c4c-8f15-4b29-9645-b071b406820e').text('ETA:  0:01:41');"
       ],
       "metadata": {},
       "output_type": "display_data",
       "text": [
        "<IPython.core.display.Javascript at 0x11b359d90>"
       ]
      },
      {
       "javascript": [
        "$('div#62e93c0f-a331-4e8e-a4ce-e3685364a884').text(' 38%');"
       ],
       "metadata": {},
       "output_type": "display_data",
       "text": [
        "<IPython.core.display.Javascript at 0x11b3596d0>"
       ]
      },
      {
       "javascript": [
        "\n",
        "        var $myPB = $(\"div#05f0134a-baf9-4390-b18f-919e8acd0c78\")\n",
        "        if ($myPB.hasClass('ui-progressbar')) {\n",
        "            $myPB.progressbar('value', 38);\n",
        "        } else {\n",
        "            $myPB.progressbar({value: 0, max: 100});\n",
        "        }\n",
        "        "
       ],
       "metadata": {},
       "output_type": "display_data",
       "text": [
        "<IPython.core.display.Javascript at 0x11b359050>"
       ]
      },
      {
       "javascript": [
        "$('div#93899c4c-8f15-4b29-9645-b071b406820e').text('ETA:  0:01:34');"
       ],
       "metadata": {},
       "output_type": "display_data",
       "text": [
        "<IPython.core.display.Javascript at 0x11b359350>"
       ]
      },
      {
       "javascript": [
        "$('div#62e93c0f-a331-4e8e-a4ce-e3685364a884').text(' 39%');"
       ],
       "metadata": {},
       "output_type": "display_data",
       "text": [
        "<IPython.core.display.Javascript at 0x11b359790>"
       ]
      },
      {
       "javascript": [
        "\n",
        "        var $myPB = $(\"div#05f0134a-baf9-4390-b18f-919e8acd0c78\")\n",
        "        if ($myPB.hasClass('ui-progressbar')) {\n",
        "            $myPB.progressbar('value', 39);\n",
        "        } else {\n",
        "            $myPB.progressbar({value: 0, max: 100});\n",
        "        }\n",
        "        "
       ],
       "metadata": {},
       "output_type": "display_data",
       "text": [
        "<IPython.core.display.Javascript at 0x11b359b50>"
       ]
      },
      {
       "javascript": [
        "$('div#93899c4c-8f15-4b29-9645-b071b406820e').text('ETA:  0:01:32');"
       ],
       "metadata": {},
       "output_type": "display_data",
       "text": [
        "<IPython.core.display.Javascript at 0x11b359990>"
       ]
      },
      {
       "javascript": [
        "$('div#62e93c0f-a331-4e8e-a4ce-e3685364a884').text(' 40%');"
       ],
       "metadata": {},
       "output_type": "display_data",
       "text": [
        "<IPython.core.display.Javascript at 0x11b359d10>"
       ]
      },
      {
       "javascript": [
        "\n",
        "        var $myPB = $(\"div#05f0134a-baf9-4390-b18f-919e8acd0c78\")\n",
        "        if ($myPB.hasClass('ui-progressbar')) {\n",
        "            $myPB.progressbar('value', 40);\n",
        "        } else {\n",
        "            $myPB.progressbar({value: 0, max: 100});\n",
        "        }\n",
        "        "
       ],
       "metadata": {},
       "output_type": "display_data",
       "text": [
        "<IPython.core.display.Javascript at 0x11b359310>"
       ]
      },
      {
       "javascript": [
        "$('div#93899c4c-8f15-4b29-9645-b071b406820e').text('ETA:  0:01:30');"
       ],
       "metadata": {},
       "output_type": "display_data",
       "text": [
        "<IPython.core.display.Javascript at 0x11b3597d0>"
       ]
      },
      {
       "javascript": [
        "$('div#62e93c0f-a331-4e8e-a4ce-e3685364a884').text(' 40%');"
       ],
       "metadata": {},
       "output_type": "display_data",
       "text": [
        "<IPython.core.display.Javascript at 0x11b359090>"
       ]
      },
      {
       "javascript": [
        "\n",
        "        var $myPB = $(\"div#05f0134a-baf9-4390-b18f-919e8acd0c78\")\n",
        "        if ($myPB.hasClass('ui-progressbar')) {\n",
        "            $myPB.progressbar('value', 40);\n",
        "        } else {\n",
        "            $myPB.progressbar({value: 0, max: 100});\n",
        "        }\n",
        "        "
       ],
       "metadata": {},
       "output_type": "display_data",
       "text": [
        "<IPython.core.display.Javascript at 0x11b3594d0>"
       ]
      },
      {
       "javascript": [
        "$('div#93899c4c-8f15-4b29-9645-b071b406820e').text('ETA:  0:01:31');"
       ],
       "metadata": {},
       "output_type": "display_data",
       "text": [
        "<IPython.core.display.Javascript at 0x11b359f50>"
       ]
      },
      {
       "javascript": [
        "$('div#62e93c0f-a331-4e8e-a4ce-e3685364a884').text(' 40%');"
       ],
       "metadata": {},
       "output_type": "display_data",
       "text": [
        "<IPython.core.display.Javascript at 0x11b359750>"
       ]
      },
      {
       "javascript": [
        "\n",
        "        var $myPB = $(\"div#05f0134a-baf9-4390-b18f-919e8acd0c78\")\n",
        "        if ($myPB.hasClass('ui-progressbar')) {\n",
        "            $myPB.progressbar('value', 40);\n",
        "        } else {\n",
        "            $myPB.progressbar({value: 0, max: 100});\n",
        "        }\n",
        "        "
       ],
       "metadata": {},
       "output_type": "display_data",
       "text": [
        "<IPython.core.display.Javascript at 0x11b359510>"
       ]
      },
      {
       "javascript": [
        "$('div#93899c4c-8f15-4b29-9645-b071b406820e').text('ETA:  0:01:33');"
       ],
       "metadata": {},
       "output_type": "display_data",
       "text": [
        "<IPython.core.display.Javascript at 0x11b359a50>"
       ]
      },
      {
       "javascript": [
        "$('div#62e93c0f-a331-4e8e-a4ce-e3685364a884').text(' 41%');"
       ],
       "metadata": {},
       "output_type": "display_data",
       "text": [
        "<IPython.core.display.Javascript at 0x11b359f50>"
       ]
      },
      {
       "javascript": [
        "\n",
        "        var $myPB = $(\"div#05f0134a-baf9-4390-b18f-919e8acd0c78\")\n",
        "        if ($myPB.hasClass('ui-progressbar')) {\n",
        "            $myPB.progressbar('value', 41);\n",
        "        } else {\n",
        "            $myPB.progressbar({value: 0, max: 100});\n",
        "        }\n",
        "        "
       ],
       "metadata": {},
       "output_type": "display_data",
       "text": [
        "<IPython.core.display.Javascript at 0x11b3594d0>"
       ]
      },
      {
       "javascript": [
        "$('div#93899c4c-8f15-4b29-9645-b071b406820e').text('ETA:  0:01:31');"
       ],
       "metadata": {},
       "output_type": "display_data",
       "text": [
        "<IPython.core.display.Javascript at 0x11b359750>"
       ]
      },
      {
       "javascript": [
        "$('div#62e93c0f-a331-4e8e-a4ce-e3685364a884').text(' 43%');"
       ],
       "metadata": {},
       "output_type": "display_data",
       "text": [
        "<IPython.core.display.Javascript at 0x11b359ad0>"
       ]
      },
      {
       "javascript": [
        "\n",
        "        var $myPB = $(\"div#05f0134a-baf9-4390-b18f-919e8acd0c78\")\n",
        "        if ($myPB.hasClass('ui-progressbar')) {\n",
        "            $myPB.progressbar('value', 43);\n",
        "        } else {\n",
        "            $myPB.progressbar({value: 0, max: 100});\n",
        "        }\n",
        "        "
       ],
       "metadata": {},
       "output_type": "display_data",
       "text": [
        "<IPython.core.display.Javascript at 0x11b359ed0>"
       ]
      },
      {
       "javascript": [
        "$('div#93899c4c-8f15-4b29-9645-b071b406820e').text('ETA:  0:01:25');"
       ],
       "metadata": {},
       "output_type": "display_data",
       "text": [
        "<IPython.core.display.Javascript at 0x11b3591d0>"
       ]
      },
      {
       "javascript": [
        "$('div#62e93c0f-a331-4e8e-a4ce-e3685364a884').text(' 45%');"
       ],
       "metadata": {},
       "output_type": "display_data",
       "text": [
        "<IPython.core.display.Javascript at 0x11b359d10>"
       ]
      },
      {
       "javascript": [
        "\n",
        "        var $myPB = $(\"div#05f0134a-baf9-4390-b18f-919e8acd0c78\")\n",
        "        if ($myPB.hasClass('ui-progressbar')) {\n",
        "            $myPB.progressbar('value', 45);\n",
        "        } else {\n",
        "            $myPB.progressbar({value: 0, max: 100});\n",
        "        }\n",
        "        "
       ],
       "metadata": {},
       "output_type": "display_data",
       "text": [
        "<IPython.core.display.Javascript at 0x11b359e50>"
       ]
      },
      {
       "javascript": [
        "$('div#93899c4c-8f15-4b29-9645-b071b406820e').text('ETA:  0:01:19');"
       ],
       "metadata": {},
       "output_type": "display_data",
       "text": [
        "<IPython.core.display.Javascript at 0x11b359f90>"
       ]
      },
      {
       "javascript": [
        "$('div#62e93c0f-a331-4e8e-a4ce-e3685364a884').text(' 45%');"
       ],
       "metadata": {},
       "output_type": "display_data",
       "text": [
        "<IPython.core.display.Javascript at 0x11b359450>"
       ]
      },
      {
       "javascript": [
        "\n",
        "        var $myPB = $(\"div#05f0134a-baf9-4390-b18f-919e8acd0c78\")\n",
        "        if ($myPB.hasClass('ui-progressbar')) {\n",
        "            $myPB.progressbar('value', 45);\n",
        "        } else {\n",
        "            $myPB.progressbar({value: 0, max: 100});\n",
        "        }\n",
        "        "
       ],
       "metadata": {},
       "output_type": "display_data",
       "text": [
        "<IPython.core.display.Javascript at 0x11b359310>"
       ]
      },
      {
       "javascript": [
        "$('div#93899c4c-8f15-4b29-9645-b071b406820e').text('ETA:  0:01:21');"
       ],
       "metadata": {},
       "output_type": "display_data",
       "text": [
        "<IPython.core.display.Javascript at 0x11b359490>"
       ]
      },
      {
       "javascript": [
        "$('div#62e93c0f-a331-4e8e-a4ce-e3685364a884').text(' 46%');"
       ],
       "metadata": {},
       "output_type": "display_data",
       "text": [
        "<IPython.core.display.Javascript at 0x11b359cd0>"
       ]
      },
      {
       "javascript": [
        "\n",
        "        var $myPB = $(\"div#05f0134a-baf9-4390-b18f-919e8acd0c78\")\n",
        "        if ($myPB.hasClass('ui-progressbar')) {\n",
        "            $myPB.progressbar('value', 46);\n",
        "        } else {\n",
        "            $myPB.progressbar({value: 0, max: 100});\n",
        "        }\n",
        "        "
       ],
       "metadata": {},
       "output_type": "display_data",
       "text": [
        "<IPython.core.display.Javascript at 0x11b359d50>"
       ]
      },
      {
       "javascript": [
        "$('div#93899c4c-8f15-4b29-9645-b071b406820e').text('ETA:  0:01:19');"
       ],
       "metadata": {},
       "output_type": "display_data",
       "text": [
        "<IPython.core.display.Javascript at 0x11b359390>"
       ]
      },
      {
       "javascript": [
        "$('div#62e93c0f-a331-4e8e-a4ce-e3685364a884').text(' 47%');"
       ],
       "metadata": {},
       "output_type": "display_data",
       "text": [
        "<IPython.core.display.Javascript at 0x11b359810>"
       ]
      },
      {
       "javascript": [
        "\n",
        "        var $myPB = $(\"div#05f0134a-baf9-4390-b18f-919e8acd0c78\")\n",
        "        if ($myPB.hasClass('ui-progressbar')) {\n",
        "            $myPB.progressbar('value', 47);\n",
        "        } else {\n",
        "            $myPB.progressbar({value: 0, max: 100});\n",
        "        }\n",
        "        "
       ],
       "metadata": {},
       "output_type": "display_data",
       "text": [
        "<IPython.core.display.Javascript at 0x11b359b90>"
       ]
      },
      {
       "javascript": [
        "$('div#93899c4c-8f15-4b29-9645-b071b406820e').text('ETA:  0:01:17');"
       ],
       "metadata": {},
       "output_type": "display_data",
       "text": [
        "<IPython.core.display.Javascript at 0x11b359690>"
       ]
      },
      {
       "javascript": [
        "$('div#62e93c0f-a331-4e8e-a4ce-e3685364a884').text(' 47%');"
       ],
       "metadata": {},
       "output_type": "display_data",
       "text": [
        "<IPython.core.display.Javascript at 0x11b359910>"
       ]
      },
      {
       "javascript": [
        "\n",
        "        var $myPB = $(\"div#05f0134a-baf9-4390-b18f-919e8acd0c78\")\n",
        "        if ($myPB.hasClass('ui-progressbar')) {\n",
        "            $myPB.progressbar('value', 47);\n",
        "        } else {\n",
        "            $myPB.progressbar({value: 0, max: 100});\n",
        "        }\n",
        "        "
       ],
       "metadata": {},
       "output_type": "display_data",
       "text": [
        "<IPython.core.display.Javascript at 0x11b359e90>"
       ]
      },
      {
       "javascript": [
        "$('div#93899c4c-8f15-4b29-9645-b071b406820e').text('ETA:  0:01:18');"
       ],
       "metadata": {},
       "output_type": "display_data",
       "text": [
        "<IPython.core.display.Javascript at 0x11b359a90>"
       ]
      },
      {
       "javascript": [
        "$('div#62e93c0f-a331-4e8e-a4ce-e3685364a884').text(' 47%');"
       ],
       "metadata": {},
       "output_type": "display_data",
       "text": [
        "<IPython.core.display.Javascript at 0x11b359890>"
       ]
      },
      {
       "javascript": [
        "\n",
        "        var $myPB = $(\"div#05f0134a-baf9-4390-b18f-919e8acd0c78\")\n",
        "        if ($myPB.hasClass('ui-progressbar')) {\n",
        "            $myPB.progressbar('value', 47);\n",
        "        } else {\n",
        "            $myPB.progressbar({value: 0, max: 100});\n",
        "        }\n",
        "        "
       ],
       "metadata": {},
       "output_type": "display_data",
       "text": [
        "<IPython.core.display.Javascript at 0x11b359090>"
       ]
      },
      {
       "javascript": [
        "$('div#93899c4c-8f15-4b29-9645-b071b406820e').text('ETA:  0:01:19');"
       ],
       "metadata": {},
       "output_type": "display_data",
       "text": [
        "<IPython.core.display.Javascript at 0x11b359b10>"
       ]
      },
      {
       "javascript": [
        "$('div#62e93c0f-a331-4e8e-a4ce-e3685364a884').text(' 47%');"
       ],
       "metadata": {},
       "output_type": "display_data",
       "text": [
        "<IPython.core.display.Javascript at 0x11b3592d0>"
       ]
      },
      {
       "javascript": [
        "\n",
        "        var $myPB = $(\"div#05f0134a-baf9-4390-b18f-919e8acd0c78\")\n",
        "        if ($myPB.hasClass('ui-progressbar')) {\n",
        "            $myPB.progressbar('value', 47);\n",
        "        } else {\n",
        "            $myPB.progressbar({value: 0, max: 100});\n",
        "        }\n",
        "        "
       ],
       "metadata": {},
       "output_type": "display_data",
       "text": [
        "<IPython.core.display.Javascript at 0x11b359550>"
       ]
      },
      {
       "javascript": [
        "$('div#93899c4c-8f15-4b29-9645-b071b406820e').text('ETA:  0:01:20');"
       ],
       "metadata": {},
       "output_type": "display_data",
       "text": [
        "<IPython.core.display.Javascript at 0x11b359950>"
       ]
      },
      {
       "javascript": [
        "$('div#62e93c0f-a331-4e8e-a4ce-e3685364a884').text(' 47%');"
       ],
       "metadata": {},
       "output_type": "display_data",
       "text": [
        "<IPython.core.display.Javascript at 0x1076e7990>"
       ]
      },
      {
       "javascript": [
        "\n",
        "        var $myPB = $(\"div#05f0134a-baf9-4390-b18f-919e8acd0c78\")\n",
        "        if ($myPB.hasClass('ui-progressbar')) {\n",
        "            $myPB.progressbar('value', 47);\n",
        "        } else {\n",
        "            $myPB.progressbar({value: 0, max: 100});\n",
        "        }\n",
        "        "
       ],
       "metadata": {},
       "output_type": "display_data",
       "text": [
        "<IPython.core.display.Javascript at 0x1076e75d0>"
       ]
      },
      {
       "javascript": [
        "$('div#93899c4c-8f15-4b29-9645-b071b406820e').text('ETA:  0:01:21');"
       ],
       "metadata": {},
       "output_type": "display_data",
       "text": [
        "<IPython.core.display.Javascript at 0x11e011610>"
       ]
      },
      {
       "javascript": [
        "$('div#62e93c0f-a331-4e8e-a4ce-e3685364a884').text(' 47%');"
       ],
       "metadata": {},
       "output_type": "display_data",
       "text": [
        "<IPython.core.display.Javascript at 0x11b359c10>"
       ]
      },
      {
       "javascript": [
        "\n",
        "        var $myPB = $(\"div#05f0134a-baf9-4390-b18f-919e8acd0c78\")\n",
        "        if ($myPB.hasClass('ui-progressbar')) {\n",
        "            $myPB.progressbar('value', 47);\n",
        "        } else {\n",
        "            $myPB.progressbar({value: 0, max: 100});\n",
        "        }\n",
        "        "
       ],
       "metadata": {},
       "output_type": "display_data",
       "text": [
        "<IPython.core.display.Javascript at 0x11b3598d0>"
       ]
      },
      {
       "javascript": [
        "$('div#93899c4c-8f15-4b29-9645-b071b406820e').text('ETA:  0:01:22');"
       ],
       "metadata": {},
       "output_type": "display_data",
       "text": [
        "<IPython.core.display.Javascript at 0x11b359c90>"
       ]
      },
      {
       "javascript": [
        "$('div#62e93c0f-a331-4e8e-a4ce-e3685364a884').text(' 47%');"
       ],
       "metadata": {},
       "output_type": "display_data",
       "text": [
        "<IPython.core.display.Javascript at 0x11b359bd0>"
       ]
      },
      {
       "javascript": [
        "\n",
        "        var $myPB = $(\"div#05f0134a-baf9-4390-b18f-919e8acd0c78\")\n",
        "        if ($myPB.hasClass('ui-progressbar')) {\n",
        "            $myPB.progressbar('value', 47);\n",
        "        } else {\n",
        "            $myPB.progressbar({value: 0, max: 100});\n",
        "        }\n",
        "        "
       ],
       "metadata": {},
       "output_type": "display_data",
       "text": [
        "<IPython.core.display.Javascript at 0x11b359410>"
       ]
      },
      {
       "javascript": [
        "$('div#93899c4c-8f15-4b29-9645-b071b406820e').text('ETA:  0:01:23');"
       ],
       "metadata": {},
       "output_type": "display_data",
       "text": [
        "<IPython.core.display.Javascript at 0x11b359210>"
       ]
      },
      {
       "javascript": [
        "$('div#62e93c0f-a331-4e8e-a4ce-e3685364a884').text(' 47%');"
       ],
       "metadata": {},
       "output_type": "display_data",
       "text": [
        "<IPython.core.display.Javascript at 0x11b359350>"
       ]
      },
      {
       "javascript": [
        "\n",
        "        var $myPB = $(\"div#05f0134a-baf9-4390-b18f-919e8acd0c78\")\n",
        "        if ($myPB.hasClass('ui-progressbar')) {\n",
        "            $myPB.progressbar('value', 47);\n",
        "        } else {\n",
        "            $myPB.progressbar({value: 0, max: 100});\n",
        "        }\n",
        "        "
       ],
       "metadata": {},
       "output_type": "display_data",
       "text": [
        "<IPython.core.display.Javascript at 0x11b359590>"
       ]
      },
      {
       "javascript": [
        "$('div#93899c4c-8f15-4b29-9645-b071b406820e').text('ETA:  0:01:25');"
       ],
       "metadata": {},
       "output_type": "display_data",
       "text": [
        "<IPython.core.display.Javascript at 0x11b359990>"
       ]
      },
      {
       "javascript": [
        "$('div#62e93c0f-a331-4e8e-a4ce-e3685364a884').text(' 47%');"
       ],
       "metadata": {},
       "output_type": "display_data",
       "text": [
        "<IPython.core.display.Javascript at 0x11b359510>"
       ]
      },
      {
       "javascript": [
        "\n",
        "        var $myPB = $(\"div#05f0134a-baf9-4390-b18f-919e8acd0c78\")\n",
        "        if ($myPB.hasClass('ui-progressbar')) {\n",
        "            $myPB.progressbar('value', 47);\n",
        "        } else {\n",
        "            $myPB.progressbar({value: 0, max: 100});\n",
        "        }\n",
        "        "
       ],
       "metadata": {},
       "output_type": "display_data",
       "text": [
        "<IPython.core.display.Javascript at 0x11b3595d0>"
       ]
      },
      {
       "javascript": [
        "$('div#93899c4c-8f15-4b29-9645-b071b406820e').text('ETA:  0:01:26');"
       ],
       "metadata": {},
       "output_type": "display_data",
       "text": [
        "<IPython.core.display.Javascript at 0x11b359050>"
       ]
      },
      {
       "javascript": [
        "$('div#62e93c0f-a331-4e8e-a4ce-e3685364a884').text(' 47%');"
       ],
       "metadata": {},
       "output_type": "display_data",
       "text": [
        "<IPython.core.display.Javascript at 0x11b359850>"
       ]
      },
      {
       "javascript": [
        "\n",
        "        var $myPB = $(\"div#05f0134a-baf9-4390-b18f-919e8acd0c78\")\n",
        "        if ($myPB.hasClass('ui-progressbar')) {\n",
        "            $myPB.progressbar('value', 47);\n",
        "        } else {\n",
        "            $myPB.progressbar({value: 0, max: 100});\n",
        "        }\n",
        "        "
       ],
       "metadata": {},
       "output_type": "display_data",
       "text": [
        "<IPython.core.display.Javascript at 0x11b359650>"
       ]
      },
      {
       "javascript": [
        "$('div#93899c4c-8f15-4b29-9645-b071b406820e').text('ETA:  0:01:27');"
       ],
       "metadata": {},
       "output_type": "display_data",
       "text": [
        "<IPython.core.display.Javascript at 0x11b359790>"
       ]
      },
      {
       "javascript": [
        "$('div#62e93c0f-a331-4e8e-a4ce-e3685364a884').text(' 47%');"
       ],
       "metadata": {},
       "output_type": "display_data",
       "text": [
        "<IPython.core.display.Javascript at 0x11b3593d0>"
       ]
      },
      {
       "javascript": [
        "\n",
        "        var $myPB = $(\"div#05f0134a-baf9-4390-b18f-919e8acd0c78\")\n",
        "        if ($myPB.hasClass('ui-progressbar')) {\n",
        "            $myPB.progressbar('value', 47);\n",
        "        } else {\n",
        "            $myPB.progressbar({value: 0, max: 100});\n",
        "        }\n",
        "        "
       ],
       "metadata": {},
       "output_type": "display_data",
       "text": [
        "<IPython.core.display.Javascript at 0x11b359b50>"
       ]
      },
      {
       "javascript": [
        "$('div#93899c4c-8f15-4b29-9645-b071b406820e').text('ETA:  0:01:28');"
       ],
       "metadata": {},
       "output_type": "display_data",
       "text": [
        "<IPython.core.display.Javascript at 0x11b3597d0>"
       ]
      },
      {
       "javascript": [
        "$('div#62e93c0f-a331-4e8e-a4ce-e3685364a884').text(' 47%');"
       ],
       "metadata": {},
       "output_type": "display_data",
       "text": [
        "<IPython.core.display.Javascript at 0x11b359a50>"
       ]
      },
      {
       "javascript": [
        "\n",
        "        var $myPB = $(\"div#05f0134a-baf9-4390-b18f-919e8acd0c78\")\n",
        "        if ($myPB.hasClass('ui-progressbar')) {\n",
        "            $myPB.progressbar('value', 47);\n",
        "        } else {\n",
        "            $myPB.progressbar({value: 0, max: 100});\n",
        "        }\n",
        "        "
       ],
       "metadata": {},
       "output_type": "display_data",
       "text": [
        "<IPython.core.display.Javascript at 0x11b359fd0>"
       ]
      },
      {
       "javascript": [
        "$('div#93899c4c-8f15-4b29-9645-b071b406820e').text('ETA:  0:01:29');"
       ],
       "metadata": {},
       "output_type": "display_data",
       "text": [
        "<IPython.core.display.Javascript at 0x11b359610>"
       ]
      },
      {
       "javascript": [
        "$('div#62e93c0f-a331-4e8e-a4ce-e3685364a884').text(' 47%');"
       ],
       "metadata": {},
       "output_type": "display_data",
       "text": [
        "<IPython.core.display.Javascript at 0x11b359290>"
       ]
      },
      {
       "javascript": [
        "\n",
        "        var $myPB = $(\"div#05f0134a-baf9-4390-b18f-919e8acd0c78\")\n",
        "        if ($myPB.hasClass('ui-progressbar')) {\n",
        "            $myPB.progressbar('value', 47);\n",
        "        } else {\n",
        "            $myPB.progressbar({value: 0, max: 100});\n",
        "        }\n",
        "        "
       ],
       "metadata": {},
       "output_type": "display_data",
       "text": [
        "<IPython.core.display.Javascript at 0x11b359190>"
       ]
      },
      {
       "javascript": [
        "$('div#93899c4c-8f15-4b29-9645-b071b406820e').text('ETA:  0:01:30');"
       ],
       "metadata": {},
       "output_type": "display_data",
       "text": [
        "<IPython.core.display.Javascript at 0x11b359c50>"
       ]
      },
      {
       "javascript": [
        "$('div#62e93c0f-a331-4e8e-a4ce-e3685364a884').text(' 49%');"
       ],
       "metadata": {},
       "output_type": "display_data",
       "text": [
        "<IPython.core.display.Javascript at 0x11b3596d0>"
       ]
      },
      {
       "javascript": [
        "\n",
        "        var $myPB = $(\"div#05f0134a-baf9-4390-b18f-919e8acd0c78\")\n",
        "        if ($myPB.hasClass('ui-progressbar')) {\n",
        "            $myPB.progressbar('value', 49);\n",
        "        } else {\n",
        "            $myPB.progressbar({value: 0, max: 100});\n",
        "        }\n",
        "        "
       ],
       "metadata": {},
       "output_type": "display_data",
       "text": [
        "<IPython.core.display.Javascript at 0x11b359150>"
       ]
      },
      {
       "javascript": [
        "$('div#93899c4c-8f15-4b29-9645-b071b406820e').text('ETA:  0:01:24');"
       ],
       "metadata": {},
       "output_type": "display_data",
       "text": [
        "<IPython.core.display.Javascript at 0x11b359110>"
       ]
      },
      {
       "javascript": [
        "$('div#62e93c0f-a331-4e8e-a4ce-e3685364a884').text(' 50%');"
       ],
       "metadata": {},
       "output_type": "display_data",
       "text": [
        "<IPython.core.display.Javascript at 0x1076e7990>"
       ]
      },
      {
       "javascript": [
        "\n",
        "        var $myPB = $(\"div#05f0134a-baf9-4390-b18f-919e8acd0c78\")\n",
        "        if ($myPB.hasClass('ui-progressbar')) {\n",
        "            $myPB.progressbar('value', 50);\n",
        "        } else {\n",
        "            $myPB.progressbar({value: 0, max: 100});\n",
        "        }\n",
        "        "
       ],
       "metadata": {},
       "output_type": "display_data",
       "text": [
        "<IPython.core.display.Javascript at 0x1076e75d0>"
       ]
      },
      {
       "javascript": [
        "$('div#93899c4c-8f15-4b29-9645-b071b406820e').text('ETA:  0:01:22');"
       ],
       "metadata": {},
       "output_type": "display_data",
       "text": [
        "<IPython.core.display.Javascript at 0x1076e7190>"
       ]
      },
      {
       "javascript": [
        "$('div#62e93c0f-a331-4e8e-a4ce-e3685364a884').text(' 50%');"
       ],
       "metadata": {},
       "output_type": "display_data",
       "text": [
        "<IPython.core.display.Javascript at 0x11b359590>"
       ]
      },
      {
       "javascript": [
        "\n",
        "        var $myPB = $(\"div#05f0134a-baf9-4390-b18f-919e8acd0c78\")\n",
        "        if ($myPB.hasClass('ui-progressbar')) {\n",
        "            $myPB.progressbar('value', 50);\n",
        "        } else {\n",
        "            $myPB.progressbar({value: 0, max: 100});\n",
        "        }\n",
        "        "
       ],
       "metadata": {},
       "output_type": "display_data",
       "text": [
        "<IPython.core.display.Javascript at 0x11b359c10>"
       ]
      },
      {
       "javascript": [
        "$('div#93899c4c-8f15-4b29-9645-b071b406820e').text('ETA:  0:01:23');"
       ],
       "metadata": {},
       "output_type": "display_data",
       "text": [
        "<IPython.core.display.Javascript at 0x11b3598d0>"
       ]
      },
      {
       "javascript": [
        "$('div#62e93c0f-a331-4e8e-a4ce-e3685364a884').text(' 50%');"
       ],
       "metadata": {},
       "output_type": "display_data",
       "text": [
        "<IPython.core.display.Javascript at 0x11b359290>"
       ]
      },
      {
       "javascript": [
        "\n",
        "        var $myPB = $(\"div#05f0134a-baf9-4390-b18f-919e8acd0c78\")\n",
        "        if ($myPB.hasClass('ui-progressbar')) {\n",
        "            $myPB.progressbar('value', 50);\n",
        "        } else {\n",
        "            $myPB.progressbar({value: 0, max: 100});\n",
        "        }\n",
        "        "
       ],
       "metadata": {},
       "output_type": "display_data",
       "text": [
        "<IPython.core.display.Javascript at 0x11b359990>"
       ]
      },
      {
       "javascript": [
        "$('div#93899c4c-8f15-4b29-9645-b071b406820e').text('ETA:  0:01:24');"
       ],
       "metadata": {},
       "output_type": "display_data",
       "text": [
        "<IPython.core.display.Javascript at 0x11b359b10>"
       ]
      },
      {
       "javascript": [
        "$('div#62e93c0f-a331-4e8e-a4ce-e3685364a884').text(' 50%');"
       ],
       "metadata": {},
       "output_type": "display_data",
       "text": [
        "<IPython.core.display.Javascript at 0x11b359850>"
       ]
      },
      {
       "javascript": [
        "\n",
        "        var $myPB = $(\"div#05f0134a-baf9-4390-b18f-919e8acd0c78\")\n",
        "        if ($myPB.hasClass('ui-progressbar')) {\n",
        "            $myPB.progressbar('value', 50);\n",
        "        } else {\n",
        "            $myPB.progressbar({value: 0, max: 100});\n",
        "        }\n",
        "        "
       ],
       "metadata": {},
       "output_type": "display_data",
       "text": [
        "<IPython.core.display.Javascript at 0x11b359190>"
       ]
      },
      {
       "javascript": [
        "$('div#93899c4c-8f15-4b29-9645-b071b406820e').text('ETA:  0:01:25');"
       ],
       "metadata": {},
       "output_type": "display_data",
       "text": [
        "<IPython.core.display.Javascript at 0x11b359a90>"
       ]
      },
      {
       "javascript": [
        "$('div#62e93c0f-a331-4e8e-a4ce-e3685364a884').text(' 50%');"
       ],
       "metadata": {},
       "output_type": "display_data",
       "text": [
        "<IPython.core.display.Javascript at 0x11b3592d0>"
       ]
      },
      {
       "javascript": [
        "\n",
        "        var $myPB = $(\"div#05f0134a-baf9-4390-b18f-919e8acd0c78\")\n",
        "        if ($myPB.hasClass('ui-progressbar')) {\n",
        "            $myPB.progressbar('value', 50);\n",
        "        } else {\n",
        "            $myPB.progressbar({value: 0, max: 100});\n",
        "        }\n",
        "        "
       ],
       "metadata": {},
       "output_type": "display_data",
       "text": [
        "<IPython.core.display.Javascript at 0x11b359650>"
       ]
      },
      {
       "javascript": [
        "$('div#93899c4c-8f15-4b29-9645-b071b406820e').text('ETA:  0:01:26');"
       ],
       "metadata": {},
       "output_type": "display_data",
       "text": [
        "<IPython.core.display.Javascript at 0x11b359690>"
       ]
      },
      {
       "javascript": [
        "$('div#62e93c0f-a331-4e8e-a4ce-e3685364a884').text(' 50%');"
       ],
       "metadata": {},
       "output_type": "display_data",
       "text": [
        "<IPython.core.display.Javascript at 0x11b359890>"
       ]
      },
      {
       "javascript": [
        "\n",
        "        var $myPB = $(\"div#05f0134a-baf9-4390-b18f-919e8acd0c78\")\n",
        "        if ($myPB.hasClass('ui-progressbar')) {\n",
        "            $myPB.progressbar('value', 50);\n",
        "        } else {\n",
        "            $myPB.progressbar({value: 0, max: 100});\n",
        "        }\n",
        "        "
       ],
       "metadata": {},
       "output_type": "display_data",
       "text": [
        "<IPython.core.display.Javascript at 0x11b359050>"
       ]
      },
      {
       "javascript": [
        "$('div#93899c4c-8f15-4b29-9645-b071b406820e').text('ETA:  0:01:27');"
       ],
       "metadata": {},
       "output_type": "display_data",
       "text": [
        "<IPython.core.display.Javascript at 0x11b359390>"
       ]
      },
      {
       "javascript": [
        "$('div#62e93c0f-a331-4e8e-a4ce-e3685364a884').text(' 50%');"
       ],
       "metadata": {},
       "output_type": "display_data",
       "text": [
        "<IPython.core.display.Javascript at 0x11b359910>"
       ]
      },
      {
       "javascript": [
        "\n",
        "        var $myPB = $(\"div#05f0134a-baf9-4390-b18f-919e8acd0c78\")\n",
        "        if ($myPB.hasClass('ui-progressbar')) {\n",
        "            $myPB.progressbar('value', 50);\n",
        "        } else {\n",
        "            $myPB.progressbar({value: 0, max: 100});\n",
        "        }\n",
        "        "
       ],
       "metadata": {},
       "output_type": "display_data",
       "text": [
        "<IPython.core.display.Javascript at 0x11b359410>"
       ]
      },
      {
       "javascript": [
        "$('div#93899c4c-8f15-4b29-9645-b071b406820e').text('ETA:  0:01:28');"
       ],
       "metadata": {},
       "output_type": "display_data",
       "text": [
        "<IPython.core.display.Javascript at 0x11b359490>"
       ]
      },
      {
       "javascript": [
        "$('div#62e93c0f-a331-4e8e-a4ce-e3685364a884').text(' 50%');"
       ],
       "metadata": {},
       "output_type": "display_data",
       "text": [
        "<IPython.core.display.Javascript at 0x11b359810>"
       ]
      },
      {
       "javascript": [
        "\n",
        "        var $myPB = $(\"div#05f0134a-baf9-4390-b18f-919e8acd0c78\")\n",
        "        if ($myPB.hasClass('ui-progressbar')) {\n",
        "            $myPB.progressbar('value', 50);\n",
        "        } else {\n",
        "            $myPB.progressbar({value: 0, max: 100});\n",
        "        }\n",
        "        "
       ],
       "metadata": {},
       "output_type": "display_data",
       "text": [
        "<IPython.core.display.Javascript at 0x11b3596d0>"
       ]
      },
      {
       "javascript": [
        "$('div#93899c4c-8f15-4b29-9645-b071b406820e').text('ETA:  0:01:29');"
       ],
       "metadata": {},
       "output_type": "display_data",
       "text": [
        "<IPython.core.display.Javascript at 0x11b359f90>"
       ]
      },
      {
       "javascript": [
        "$('div#62e93c0f-a331-4e8e-a4ce-e3685364a884').text(' 50%');"
       ],
       "metadata": {},
       "output_type": "display_data",
       "text": [
        "<IPython.core.display.Javascript at 0x11b359cd0>"
       ]
      },
      {
       "javascript": [
        "\n",
        "        var $myPB = $(\"div#05f0134a-baf9-4390-b18f-919e8acd0c78\")\n",
        "        if ($myPB.hasClass('ui-progressbar')) {\n",
        "            $myPB.progressbar('value', 50);\n",
        "        } else {\n",
        "            $myPB.progressbar({value: 0, max: 100});\n",
        "        }\n",
        "        "
       ],
       "metadata": {},
       "output_type": "display_data",
       "text": [
        "<IPython.core.display.Javascript at 0x11b359950>"
       ]
      },
      {
       "javascript": [
        "$('div#93899c4c-8f15-4b29-9645-b071b406820e').text('ETA:  0:01:30');"
       ],
       "metadata": {},
       "output_type": "display_data",
       "text": [
        "<IPython.core.display.Javascript at 0x11b3591d0>"
       ]
      },
      {
       "javascript": [
        "$('div#62e93c0f-a331-4e8e-a4ce-e3685364a884').text(' 50%');"
       ],
       "metadata": {},
       "output_type": "display_data",
       "text": [
        "<IPython.core.display.Javascript at 0x11b359450>"
       ]
      },
      {
       "javascript": [
        "\n",
        "        var $myPB = $(\"div#05f0134a-baf9-4390-b18f-919e8acd0c78\")\n",
        "        if ($myPB.hasClass('ui-progressbar')) {\n",
        "            $myPB.progressbar('value', 50);\n",
        "        } else {\n",
        "            $myPB.progressbar({value: 0, max: 100});\n",
        "        }\n",
        "        "
       ],
       "metadata": {},
       "output_type": "display_data",
       "text": [
        "<IPython.core.display.Javascript at 0x11b359090>"
       ]
      },
      {
       "javascript": [
        "$('div#93899c4c-8f15-4b29-9645-b071b406820e').text('ETA:  0:01:31');"
       ],
       "metadata": {},
       "output_type": "display_data",
       "text": [
        "<IPython.core.display.Javascript at 0x11b359750>"
       ]
      },
      {
       "javascript": [
        "$('div#62e93c0f-a331-4e8e-a4ce-e3685364a884').text(' 50%');"
       ],
       "metadata": {},
       "output_type": "display_data",
       "text": [
        "<IPython.core.display.Javascript at 0x11b359d10>"
       ]
      },
      {
       "javascript": [
        "\n",
        "        var $myPB = $(\"div#05f0134a-baf9-4390-b18f-919e8acd0c78\")\n",
        "        if ($myPB.hasClass('ui-progressbar')) {\n",
        "            $myPB.progressbar('value', 50);\n",
        "        } else {\n",
        "            $myPB.progressbar({value: 0, max: 100});\n",
        "        }\n",
        "        "
       ],
       "metadata": {},
       "output_type": "display_data",
       "text": [
        "<IPython.core.display.Javascript at 0x11b359e90>"
       ]
      },
      {
       "javascript": [
        "$('div#93899c4c-8f15-4b29-9645-b071b406820e').text('ETA:  0:01:32');"
       ],
       "metadata": {},
       "output_type": "display_data",
       "text": [
        "<IPython.core.display.Javascript at 0x11b359210>"
       ]
      },
      {
       "javascript": [
        "$('div#62e93c0f-a331-4e8e-a4ce-e3685364a884').text(' 50%');"
       ],
       "metadata": {},
       "output_type": "display_data",
       "text": [
        "<IPython.core.display.Javascript at 0x11b3594d0>"
       ]
      },
      {
       "javascript": [
        "\n",
        "        var $myPB = $(\"div#05f0134a-baf9-4390-b18f-919e8acd0c78\")\n",
        "        if ($myPB.hasClass('ui-progressbar')) {\n",
        "            $myPB.progressbar('value', 50);\n",
        "        } else {\n",
        "            $myPB.progressbar({value: 0, max: 100});\n",
        "        }\n",
        "        "
       ],
       "metadata": {},
       "output_type": "display_data",
       "text": [
        "<IPython.core.display.Javascript at 0x11b359b90>"
       ]
      },
      {
       "javascript": [
        "$('div#93899c4c-8f15-4b29-9645-b071b406820e').text('ETA:  0:01:33');"
       ],
       "metadata": {},
       "output_type": "display_data",
       "text": [
        "<IPython.core.display.Javascript at 0x11b359250>"
       ]
      },
      {
       "javascript": [
        "$('div#62e93c0f-a331-4e8e-a4ce-e3685364a884').text(' 50%');"
       ],
       "metadata": {},
       "output_type": "display_data",
       "text": [
        "<IPython.core.display.Javascript at 0x11b359510>"
       ]
      },
      {
       "javascript": [
        "\n",
        "        var $myPB = $(\"div#05f0134a-baf9-4390-b18f-919e8acd0c78\")\n",
        "        if ($myPB.hasClass('ui-progressbar')) {\n",
        "            $myPB.progressbar('value', 50);\n",
        "        } else {\n",
        "            $myPB.progressbar({value: 0, max: 100});\n",
        "        }\n",
        "        "
       ],
       "metadata": {},
       "output_type": "display_data",
       "text": [
        "<IPython.core.display.Javascript at 0x11b359d50>"
       ]
      },
      {
       "javascript": [
        "$('div#93899c4c-8f15-4b29-9645-b071b406820e').text('ETA:  0:01:34');"
       ],
       "metadata": {},
       "output_type": "display_data",
       "text": [
        "<IPython.core.display.Javascript at 0x11b359610>"
       ]
      },
      {
       "javascript": [
        "$('div#62e93c0f-a331-4e8e-a4ce-e3685364a884').text(' 51%');"
       ],
       "metadata": {},
       "output_type": "display_data",
       "text": [
        "<IPython.core.display.Javascript at 0x11b3593d0>"
       ]
      },
      {
       "javascript": [
        "\n",
        "        var $myPB = $(\"div#05f0134a-baf9-4390-b18f-919e8acd0c78\")\n",
        "        if ($myPB.hasClass('ui-progressbar')) {\n",
        "            $myPB.progressbar('value', 51);\n",
        "        } else {\n",
        "            $myPB.progressbar({value: 0, max: 100});\n",
        "        }\n",
        "        "
       ],
       "metadata": {},
       "output_type": "display_data",
       "text": [
        "<IPython.core.display.Javascript at 0x11b359bd0>"
       ]
      },
      {
       "javascript": [
        "$('div#93899c4c-8f15-4b29-9645-b071b406820e').text('ETA:  0:01:32');"
       ],
       "metadata": {},
       "output_type": "display_data",
       "text": [
        "<IPython.core.display.Javascript at 0x11b359d90>"
       ]
      },
      {
       "javascript": [
        "$('div#62e93c0f-a331-4e8e-a4ce-e3685364a884').text(' 52%');"
       ],
       "metadata": {},
       "output_type": "display_data",
       "text": [
        "<IPython.core.display.Javascript at 0x11b359ad0>"
       ]
      },
      {
       "javascript": [
        "\n",
        "        var $myPB = $(\"div#05f0134a-baf9-4390-b18f-919e8acd0c78\")\n",
        "        if ($myPB.hasClass('ui-progressbar')) {\n",
        "            $myPB.progressbar('value', 52);\n",
        "        } else {\n",
        "            $myPB.progressbar({value: 0, max: 100});\n",
        "        }\n",
        "        "
       ],
       "metadata": {},
       "output_type": "display_data",
       "text": [
        "<IPython.core.display.Javascript at 0x11b359ed0>"
       ]
      },
      {
       "javascript": [
        "$('div#93899c4c-8f15-4b29-9645-b071b406820e').text('ETA:  0:01:29');"
       ],
       "metadata": {},
       "output_type": "display_data",
       "text": [
        "<IPython.core.display.Javascript at 0x11b359790>"
       ]
      },
      {
       "javascript": [
        "$('div#62e93c0f-a331-4e8e-a4ce-e3685364a884').text(' 52%');"
       ],
       "metadata": {},
       "output_type": "display_data",
       "text": [
        "<IPython.core.display.Javascript at 0x11b359110>"
       ]
      },
      {
       "javascript": [
        "\n",
        "        var $myPB = $(\"div#05f0134a-baf9-4390-b18f-919e8acd0c78\")\n",
        "        if ($myPB.hasClass('ui-progressbar')) {\n",
        "            $myPB.progressbar('value', 52);\n",
        "        } else {\n",
        "            $myPB.progressbar({value: 0, max: 100});\n",
        "        }\n",
        "        "
       ],
       "metadata": {},
       "output_type": "display_data",
       "text": [
        "<IPython.core.display.Javascript at 0x11b359fd0>"
       ]
      },
      {
       "javascript": [
        "$('div#93899c4c-8f15-4b29-9645-b071b406820e').text('ETA:  0:01:30');"
       ],
       "metadata": {},
       "output_type": "display_data",
       "text": [
        "<IPython.core.display.Javascript at 0x11b359c90>"
       ]
      },
      {
       "javascript": [
        "$('div#62e93c0f-a331-4e8e-a4ce-e3685364a884').text(' 54%');"
       ],
       "metadata": {},
       "output_type": "display_data",
       "text": [
        "<IPython.core.display.Javascript at 0x11b359150>"
       ]
      },
      {
       "javascript": [
        "\n",
        "        var $myPB = $(\"div#05f0134a-baf9-4390-b18f-919e8acd0c78\")\n",
        "        if ($myPB.hasClass('ui-progressbar')) {\n",
        "            $myPB.progressbar('value', 54);\n",
        "        } else {\n",
        "            $myPB.progressbar({value: 0, max: 100});\n",
        "        }\n",
        "        "
       ],
       "metadata": {},
       "output_type": "display_data",
       "text": [
        "<IPython.core.display.Javascript at 0x11b3597d0>"
       ]
      },
      {
       "javascript": [
        "$('div#93899c4c-8f15-4b29-9645-b071b406820e').text('ETA:  0:01:24');"
       ],
       "metadata": {},
       "output_type": "display_data",
       "text": [
        "<IPython.core.display.Javascript at 0x11b359e50>"
       ]
      },
      {
       "javascript": [
        "$('div#62e93c0f-a331-4e8e-a4ce-e3685364a884').text(' 54%');"
       ],
       "metadata": {},
       "output_type": "display_data",
       "text": [
        "<IPython.core.display.Javascript at 0x11b359b50>"
       ]
      },
      {
       "javascript": [
        "\n",
        "        var $myPB = $(\"div#05f0134a-baf9-4390-b18f-919e8acd0c78\")\n",
        "        if ($myPB.hasClass('ui-progressbar')) {\n",
        "            $myPB.progressbar('value', 54);\n",
        "        } else {\n",
        "            $myPB.progressbar({value: 0, max: 100});\n",
        "        }\n",
        "        "
       ],
       "metadata": {},
       "output_type": "display_data",
       "text": [
        "<IPython.core.display.Javascript at 0x11b359a50>"
       ]
      },
      {
       "javascript": [
        "$('div#93899c4c-8f15-4b29-9645-b071b406820e').text('ETA:  0:01:25');"
       ],
       "metadata": {},
       "output_type": "display_data",
       "text": [
        "<IPython.core.display.Javascript at 0x11b359550>"
       ]
      },
      {
       "javascript": [
        "$('div#62e93c0f-a331-4e8e-a4ce-e3685364a884').text(' 54%');"
       ],
       "metadata": {},
       "output_type": "display_data",
       "text": [
        "<IPython.core.display.Javascript at 0x11b359310>"
       ]
      },
      {
       "javascript": [
        "\n",
        "        var $myPB = $(\"div#05f0134a-baf9-4390-b18f-919e8acd0c78\")\n",
        "        if ($myPB.hasClass('ui-progressbar')) {\n",
        "            $myPB.progressbar('value', 54);\n",
        "        } else {\n",
        "            $myPB.progressbar({value: 0, max: 100});\n",
        "        }\n",
        "        "
       ],
       "metadata": {},
       "output_type": "display_data",
       "text": [
        "<IPython.core.display.Javascript at 0x11b3595d0>"
       ]
      },
      {
       "javascript": [
        "$('div#93899c4c-8f15-4b29-9645-b071b406820e').text('ETA:  0:01:26');"
       ],
       "metadata": {},
       "output_type": "display_data",
       "text": [
        "<IPython.core.display.Javascript at 0x11b359c50>"
       ]
      },
      {
       "javascript": [
        "$('div#62e93c0f-a331-4e8e-a4ce-e3685364a884').text(' 55%');"
       ],
       "metadata": {},
       "output_type": "display_data",
       "text": [
        "<IPython.core.display.Javascript at 0x11b359550>"
       ]
      },
      {
       "javascript": [
        "\n",
        "        var $myPB = $(\"div#05f0134a-baf9-4390-b18f-919e8acd0c78\")\n",
        "        if ($myPB.hasClass('ui-progressbar')) {\n",
        "            $myPB.progressbar('value', 55);\n",
        "        } else {\n",
        "            $myPB.progressbar({value: 0, max: 100});\n",
        "        }\n",
        "        "
       ],
       "metadata": {},
       "output_type": "display_data",
       "text": [
        "<IPython.core.display.Javascript at 0x11b359a50>"
       ]
      },
      {
       "javascript": [
        "$('div#93899c4c-8f15-4b29-9645-b071b406820e').text('ETA:  0:01:23');"
       ],
       "metadata": {},
       "output_type": "display_data",
       "text": [
        "<IPython.core.display.Javascript at 0x11b359310>"
       ]
      },
      {
       "javascript": [
        "$('div#62e93c0f-a331-4e8e-a4ce-e3685364a884').text(' 55%');"
       ],
       "metadata": {},
       "output_type": "display_data",
       "text": [
        "<IPython.core.display.Javascript at 0x11b359b90>"
       ]
      },
      {
       "javascript": [
        "\n",
        "        var $myPB = $(\"div#05f0134a-baf9-4390-b18f-919e8acd0c78\")\n",
        "        if ($myPB.hasClass('ui-progressbar')) {\n",
        "            $myPB.progressbar('value', 55);\n",
        "        } else {\n",
        "            $myPB.progressbar({value: 0, max: 100});\n",
        "        }\n",
        "        "
       ],
       "metadata": {},
       "output_type": "display_data",
       "text": [
        "<IPython.core.display.Javascript at 0x11b359450>"
       ]
      },
      {
       "javascript": [
        "$('div#93899c4c-8f15-4b29-9645-b071b406820e').text('ETA:  0:01:24');"
       ],
       "metadata": {},
       "output_type": "display_data",
       "text": [
        "<IPython.core.display.Javascript at 0x11b359090>"
       ]
      },
      {
       "javascript": [
        "$('div#62e93c0f-a331-4e8e-a4ce-e3685364a884').text(' 55%');"
       ],
       "metadata": {},
       "output_type": "display_data",
       "text": [
        "<IPython.core.display.Javascript at 0x11b359150>"
       ]
      },
      {
       "javascript": [
        "\n",
        "        var $myPB = $(\"div#05f0134a-baf9-4390-b18f-919e8acd0c78\")\n",
        "        if ($myPB.hasClass('ui-progressbar')) {\n",
        "            $myPB.progressbar('value', 55);\n",
        "        } else {\n",
        "            $myPB.progressbar({value: 0, max: 100});\n",
        "        }\n",
        "        "
       ],
       "metadata": {},
       "output_type": "display_data",
       "text": [
        "<IPython.core.display.Javascript at 0x11b359250>"
       ]
      },
      {
       "javascript": [
        "$('div#93899c4c-8f15-4b29-9645-b071b406820e').text('ETA:  0:01:25');"
       ],
       "metadata": {},
       "output_type": "display_data",
       "text": [
        "<IPython.core.display.Javascript at 0x11b359f90>"
       ]
      },
      {
       "javascript": [
        "$('div#62e93c0f-a331-4e8e-a4ce-e3685364a884').text(' 55%');"
       ],
       "metadata": {},
       "output_type": "display_data",
       "text": [
        "<IPython.core.display.Javascript at 0x11b3593d0>"
       ]
      },
      {
       "javascript": [
        "\n",
        "        var $myPB = $(\"div#05f0134a-baf9-4390-b18f-919e8acd0c78\")\n",
        "        if ($myPB.hasClass('ui-progressbar')) {\n",
        "            $myPB.progressbar('value', 55);\n",
        "        } else {\n",
        "            $myPB.progressbar({value: 0, max: 100});\n",
        "        }\n",
        "        "
       ],
       "metadata": {},
       "output_type": "display_data",
       "text": [
        "<IPython.core.display.Javascript at 0x11b3597d0>"
       ]
      },
      {
       "javascript": [
        "$('div#93899c4c-8f15-4b29-9645-b071b406820e').text('ETA:  0:01:26');"
       ],
       "metadata": {},
       "output_type": "display_data",
       "text": [
        "<IPython.core.display.Javascript at 0x11b359490>"
       ]
      },
      {
       "javascript": [
        "$('div#62e93c0f-a331-4e8e-a4ce-e3685364a884').text(' 55%');"
       ],
       "metadata": {},
       "output_type": "display_data",
       "text": [
        "<IPython.core.display.Javascript at 0x11b359cd0>"
       ]
      },
      {
       "javascript": [
        "\n",
        "        var $myPB = $(\"div#05f0134a-baf9-4390-b18f-919e8acd0c78\")\n",
        "        if ($myPB.hasClass('ui-progressbar')) {\n",
        "            $myPB.progressbar('value', 55);\n",
        "        } else {\n",
        "            $myPB.progressbar({value: 0, max: 100});\n",
        "        }\n",
        "        "
       ],
       "metadata": {},
       "output_type": "display_data",
       "text": [
        "<IPython.core.display.Javascript at 0x11b359bd0>"
       ]
      },
      {
       "javascript": [
        "$('div#93899c4c-8f15-4b29-9645-b071b406820e').text('ETA:  0:01:26');"
       ],
       "metadata": {},
       "output_type": "display_data",
       "text": [
        "<IPython.core.display.Javascript at 0x11b359390>"
       ]
      },
      {
       "javascript": [
        "$('div#62e93c0f-a331-4e8e-a4ce-e3685364a884').text(' 55%');"
       ],
       "metadata": {},
       "output_type": "display_data",
       "text": [
        "<IPython.core.display.Javascript at 0x11b359810>"
       ]
      },
      {
       "javascript": [
        "\n",
        "        var $myPB = $(\"div#05f0134a-baf9-4390-b18f-919e8acd0c78\")\n",
        "        if ($myPB.hasClass('ui-progressbar')) {\n",
        "            $myPB.progressbar('value', 55);\n",
        "        } else {\n",
        "            $myPB.progressbar({value: 0, max: 100});\n",
        "        }\n",
        "        "
       ],
       "metadata": {},
       "output_type": "display_data",
       "text": [
        "<IPython.core.display.Javascript at 0x11b359610>"
       ]
      },
      {
       "javascript": [
        "$('div#93899c4c-8f15-4b29-9645-b071b406820e').text('ETA:  0:01:27');"
       ],
       "metadata": {},
       "output_type": "display_data",
       "text": [
        "<IPython.core.display.Javascript at 0x11b359690>"
       ]
      },
      {
       "javascript": [
        "$('div#62e93c0f-a331-4e8e-a4ce-e3685364a884').text(' 55%');"
       ],
       "metadata": {},
       "output_type": "display_data",
       "text": [
        "<IPython.core.display.Javascript at 0x11b359910>"
       ]
      },
      {
       "javascript": [
        "\n",
        "        var $myPB = $(\"div#05f0134a-baf9-4390-b18f-919e8acd0c78\")\n",
        "        if ($myPB.hasClass('ui-progressbar')) {\n",
        "            $myPB.progressbar('value', 55);\n",
        "        } else {\n",
        "            $myPB.progressbar({value: 0, max: 100});\n",
        "        }\n",
        "        "
       ],
       "metadata": {},
       "output_type": "display_data",
       "text": [
        "<IPython.core.display.Javascript at 0x11b359e90>"
       ]
      },
      {
       "javascript": [
        "$('div#93899c4c-8f15-4b29-9645-b071b406820e').text('ETA:  0:01:28');"
       ],
       "metadata": {},
       "output_type": "display_data",
       "text": [
        "<IPython.core.display.Javascript at 0x11b359a90>"
       ]
      },
      {
       "javascript": [
        "$('div#62e93c0f-a331-4e8e-a4ce-e3685364a884').text(' 55%');"
       ],
       "metadata": {},
       "output_type": "display_data",
       "text": [
        "<IPython.core.display.Javascript at 0x11b359890>"
       ]
      },
      {
       "javascript": [
        "\n",
        "        var $myPB = $(\"div#05f0134a-baf9-4390-b18f-919e8acd0c78\")\n",
        "        if ($myPB.hasClass('ui-progressbar')) {\n",
        "            $myPB.progressbar('value', 55);\n",
        "        } else {\n",
        "            $myPB.progressbar({value: 0, max: 100});\n",
        "        }\n",
        "        "
       ],
       "metadata": {},
       "output_type": "display_data",
       "text": [
        "<IPython.core.display.Javascript at 0x11b359b50>"
       ]
      },
      {
       "javascript": [
        "$('div#93899c4c-8f15-4b29-9645-b071b406820e').text('ETA:  0:01:29');"
       ],
       "metadata": {},
       "output_type": "display_data",
       "text": [
        "<IPython.core.display.Javascript at 0x11b359b10>"
       ]
      },
      {
       "javascript": [
        "$('div#62e93c0f-a331-4e8e-a4ce-e3685364a884').text(' 55%');"
       ],
       "metadata": {},
       "output_type": "display_data",
       "text": [
        "<IPython.core.display.Javascript at 0x11b3592d0>"
       ]
      },
      {
       "javascript": [
        "\n",
        "        var $myPB = $(\"div#05f0134a-baf9-4390-b18f-919e8acd0c78\")\n",
        "        if ($myPB.hasClass('ui-progressbar')) {\n",
        "            $myPB.progressbar('value', 55);\n",
        "        } else {\n",
        "            $myPB.progressbar({value: 0, max: 100});\n",
        "        }\n",
        "        "
       ],
       "metadata": {},
       "output_type": "display_data",
       "text": [
        "<IPython.core.display.Javascript at 0x11b3591d0>"
       ]
      },
      {
       "javascript": [
        "$('div#93899c4c-8f15-4b29-9645-b071b406820e').text('ETA:  0:01:30');"
       ],
       "metadata": {},
       "output_type": "display_data",
       "text": [
        "<IPython.core.display.Javascript at 0x11b3598d0>"
       ]
      },
      {
       "javascript": [
        "$('div#62e93c0f-a331-4e8e-a4ce-e3685364a884').text(' 55%');"
       ],
       "metadata": {},
       "output_type": "display_data",
       "text": [
        "<IPython.core.display.Javascript at 0x1076e7990>"
       ]
      },
      {
       "javascript": [
        "\n",
        "        var $myPB = $(\"div#05f0134a-baf9-4390-b18f-919e8acd0c78\")\n",
        "        if ($myPB.hasClass('ui-progressbar')) {\n",
        "            $myPB.progressbar('value', 55);\n",
        "        } else {\n",
        "            $myPB.progressbar({value: 0, max: 100});\n",
        "        }\n",
        "        "
       ],
       "metadata": {},
       "output_type": "display_data",
       "text": [
        "<IPython.core.display.Javascript at 0x1076e7190>"
       ]
      },
      {
       "javascript": [
        "$('div#93899c4c-8f15-4b29-9645-b071b406820e').text('ETA:  0:01:31');"
       ],
       "metadata": {},
       "output_type": "display_data",
       "text": [
        "<IPython.core.display.Javascript at 0x11e011610>"
       ]
      },
      {
       "javascript": [
        "$('div#62e93c0f-a331-4e8e-a4ce-e3685364a884').text(' 55%');"
       ],
       "metadata": {},
       "output_type": "display_data",
       "text": [
        "<IPython.core.display.Javascript at 0x11b359290>"
       ]
      },
      {
       "javascript": [
        "\n",
        "        var $myPB = $(\"div#05f0134a-baf9-4390-b18f-919e8acd0c78\")\n",
        "        if ($myPB.hasClass('ui-progressbar')) {\n",
        "            $myPB.progressbar('value', 55);\n",
        "        } else {\n",
        "            $myPB.progressbar({value: 0, max: 100});\n",
        "        }\n",
        "        "
       ],
       "metadata": {},
       "output_type": "display_data",
       "text": [
        "<IPython.core.display.Javascript at 0x11b359410>"
       ]
      },
      {
       "javascript": [
        "$('div#93899c4c-8f15-4b29-9645-b071b406820e').text('ETA:  0:01:31');"
       ],
       "metadata": {},
       "output_type": "display_data",
       "text": [
        "<IPython.core.display.Javascript at 0x11b359210>"
       ]
      },
      {
       "javascript": [
        "$('div#62e93c0f-a331-4e8e-a4ce-e3685364a884').text(' 55%');"
       ],
       "metadata": {},
       "output_type": "display_data",
       "text": [
        "<IPython.core.display.Javascript at 0x11b359f10>"
       ]
      },
      {
       "javascript": [
        "\n",
        "        var $myPB = $(\"div#05f0134a-baf9-4390-b18f-919e8acd0c78\")\n",
        "        if ($myPB.hasClass('ui-progressbar')) {\n",
        "            $myPB.progressbar('value', 55);\n",
        "        } else {\n",
        "            $myPB.progressbar({value: 0, max: 100});\n",
        "        }\n",
        "        "
       ],
       "metadata": {},
       "output_type": "display_data",
       "text": [
        "<IPython.core.display.Javascript at 0x11b359050>"
       ]
      },
      {
       "javascript": [
        "$('div#93899c4c-8f15-4b29-9645-b071b406820e').text('ETA:  0:01:32');"
       ],
       "metadata": {},
       "output_type": "display_data",
       "text": [
        "<IPython.core.display.Javascript at 0x11b359990>"
       ]
      },
      {
       "javascript": [
        "$('div#62e93c0f-a331-4e8e-a4ce-e3685364a884').text(' 55%');"
       ],
       "metadata": {},
       "output_type": "display_data",
       "text": [
        "<IPython.core.display.Javascript at 0x11b359790>"
       ]
      },
      {
       "javascript": [
        "\n",
        "        var $myPB = $(\"div#05f0134a-baf9-4390-b18f-919e8acd0c78\")\n",
        "        if ($myPB.hasClass('ui-progressbar')) {\n",
        "            $myPB.progressbar('value', 55);\n",
        "        } else {\n",
        "            $myPB.progressbar({value: 0, max: 100});\n",
        "        }\n",
        "        "
       ],
       "metadata": {},
       "output_type": "display_data",
       "text": [
        "<IPython.core.display.Javascript at 0x11b3594d0>"
       ]
      },
      {
       "javascript": [
        "$('div#93899c4c-8f15-4b29-9645-b071b406820e').text('ETA:  0:01:33');"
       ],
       "metadata": {},
       "output_type": "display_data",
       "text": [
        "<IPython.core.display.Javascript at 0x11b359c90>"
       ]
      },
      {
       "javascript": [
        "$('div#62e93c0f-a331-4e8e-a4ce-e3685364a884').text(' 55%');"
       ],
       "metadata": {},
       "output_type": "display_data",
       "text": [
        "<IPython.core.display.Javascript at 0x11b3595d0>"
       ]
      },
      {
       "javascript": [
        "\n",
        "        var $myPB = $(\"div#05f0134a-baf9-4390-b18f-919e8acd0c78\")\n",
        "        if ($myPB.hasClass('ui-progressbar')) {\n",
        "            $myPB.progressbar('value', 55);\n",
        "        } else {\n",
        "            $myPB.progressbar({value: 0, max: 100});\n",
        "        }\n",
        "        "
       ],
       "metadata": {},
       "output_type": "display_data",
       "text": [
        "<IPython.core.display.Javascript at 0x11b359650>"
       ]
      },
      {
       "javascript": [
        "$('div#93899c4c-8f15-4b29-9645-b071b406820e').text('ETA:  0:01:34');"
       ],
       "metadata": {},
       "output_type": "display_data",
       "text": [
        "<IPython.core.display.Javascript at 0x11b359ed0>"
       ]
      },
      {
       "javascript": [
        "$('div#62e93c0f-a331-4e8e-a4ce-e3685364a884').text(' 55%');"
       ],
       "metadata": {},
       "output_type": "display_data",
       "text": [
        "<IPython.core.display.Javascript at 0x11b359510>"
       ]
      },
      {
       "javascript": [
        "\n",
        "        var $myPB = $(\"div#05f0134a-baf9-4390-b18f-919e8acd0c78\")\n",
        "        if ($myPB.hasClass('ui-progressbar')) {\n",
        "            $myPB.progressbar('value', 55);\n",
        "        } else {\n",
        "            $myPB.progressbar({value: 0, max: 100});\n",
        "        }\n",
        "        "
       ],
       "metadata": {},
       "output_type": "display_data",
       "text": [
        "<IPython.core.display.Javascript at 0x11b359c10>"
       ]
      },
      {
       "javascript": [
        "$('div#93899c4c-8f15-4b29-9645-b071b406820e').text('ETA:  0:01:35');"
       ],
       "metadata": {},
       "output_type": "display_data",
       "text": [
        "<IPython.core.display.Javascript at 0x11b359110>"
       ]
      },
      {
       "javascript": [
        "$('div#62e93c0f-a331-4e8e-a4ce-e3685364a884').text(' 55%');"
       ],
       "metadata": {},
       "output_type": "display_data",
       "text": [
        "<IPython.core.display.Javascript at 0x11b359750>"
       ]
      },
      {
       "javascript": [
        "\n",
        "        var $myPB = $(\"div#05f0134a-baf9-4390-b18f-919e8acd0c78\")\n",
        "        if ($myPB.hasClass('ui-progressbar')) {\n",
        "            $myPB.progressbar('value', 55);\n",
        "        } else {\n",
        "            $myPB.progressbar({value: 0, max: 100});\n",
        "        }\n",
        "        "
       ],
       "metadata": {},
       "output_type": "display_data",
       "text": [
        "<IPython.core.display.Javascript at 0x11b359fd0>"
       ]
      },
      {
       "javascript": [
        "$('div#93899c4c-8f15-4b29-9645-b071b406820e').text('ETA:  0:01:36');"
       ],
       "metadata": {},
       "output_type": "display_data",
       "text": [
        "<IPython.core.display.Javascript at 0x11b359e50>"
       ]
      },
      {
       "javascript": [
        "$('div#62e93c0f-a331-4e8e-a4ce-e3685364a884').text(' 55%');"
       ],
       "metadata": {},
       "output_type": "display_data",
       "text": [
        "<IPython.core.display.Javascript at 0x11b359c50>"
       ]
      },
      {
       "javascript": [
        "\n",
        "        var $myPB = $(\"div#05f0134a-baf9-4390-b18f-919e8acd0c78\")\n",
        "        if ($myPB.hasClass('ui-progressbar')) {\n",
        "            $myPB.progressbar('value', 55);\n",
        "        } else {\n",
        "            $myPB.progressbar({value: 0, max: 100});\n",
        "        }\n",
        "        "
       ],
       "metadata": {},
       "output_type": "display_data",
       "text": [
        "<IPython.core.display.Javascript at 0x11b359850>"
       ]
      },
      {
       "javascript": [
        "$('div#93899c4c-8f15-4b29-9645-b071b406820e').text('ETA:  0:01:36');"
       ],
       "metadata": {},
       "output_type": "display_data",
       "text": [
        "<IPython.core.display.Javascript at 0x11b359190>"
       ]
      },
      {
       "javascript": [
        "$('div#62e93c0f-a331-4e8e-a4ce-e3685364a884').text(' 55%');"
       ],
       "metadata": {},
       "output_type": "display_data",
       "text": [
        "<IPython.core.display.Javascript at 0x11b359d50>"
       ]
      },
      {
       "javascript": [
        "\n",
        "        var $myPB = $(\"div#05f0134a-baf9-4390-b18f-919e8acd0c78\")\n",
        "        if ($myPB.hasClass('ui-progressbar')) {\n",
        "            $myPB.progressbar('value', 55);\n",
        "        } else {\n",
        "            $myPB.progressbar({value: 0, max: 100});\n",
        "        }\n",
        "        "
       ],
       "metadata": {},
       "output_type": "display_data",
       "text": [
        "<IPython.core.display.Javascript at 0x11b359f50>"
       ]
      },
      {
       "javascript": [
        "$('div#93899c4c-8f15-4b29-9645-b071b406820e').text('ETA:  0:01:37');"
       ],
       "metadata": {},
       "output_type": "display_data",
       "text": [
        "<IPython.core.display.Javascript at 0x11b359950>"
       ]
      },
      {
       "javascript": [
        "$('div#62e93c0f-a331-4e8e-a4ce-e3685364a884').text(' 55%');"
       ],
       "metadata": {},
       "output_type": "display_data",
       "text": [
        "<IPython.core.display.Javascript at 0x11b359ad0>"
       ]
      },
      {
       "javascript": [
        "\n",
        "        var $myPB = $(\"div#05f0134a-baf9-4390-b18f-919e8acd0c78\")\n",
        "        if ($myPB.hasClass('ui-progressbar')) {\n",
        "            $myPB.progressbar('value', 55);\n",
        "        } else {\n",
        "            $myPB.progressbar({value: 0, max: 100});\n",
        "        }\n",
        "        "
       ],
       "metadata": {},
       "output_type": "display_data",
       "text": [
        "<IPython.core.display.Javascript at 0x11b359590>"
       ]
      },
      {
       "javascript": [
        "$('div#93899c4c-8f15-4b29-9645-b071b406820e').text('ETA:  0:01:38');"
       ],
       "metadata": {},
       "output_type": "display_data",
       "text": [
        "<IPython.core.display.Javascript at 0x11b359d10>"
       ]
      },
      {
       "javascript": [
        "$('div#62e93c0f-a331-4e8e-a4ce-e3685364a884').text(' 55%');"
       ],
       "metadata": {},
       "output_type": "display_data",
       "text": [
        "<IPython.core.display.Javascript at 0x1076e7990>"
       ]
      },
      {
       "javascript": [
        "\n",
        "        var $myPB = $(\"div#05f0134a-baf9-4390-b18f-919e8acd0c78\")\n",
        "        if ($myPB.hasClass('ui-progressbar')) {\n",
        "            $myPB.progressbar('value', 55);\n",
        "        } else {\n",
        "            $myPB.progressbar({value: 0, max: 100});\n",
        "        }\n",
        "        "
       ],
       "metadata": {},
       "output_type": "display_data",
       "text": [
        "<IPython.core.display.Javascript at 0x1076e7190>"
       ]
      },
      {
       "javascript": [
        "$('div#93899c4c-8f15-4b29-9645-b071b406820e').text('ETA:  0:01:39');"
       ],
       "metadata": {},
       "output_type": "display_data",
       "text": [
        "<IPython.core.display.Javascript at 0x1076e75d0>"
       ]
      },
      {
       "javascript": [
        "$('div#62e93c0f-a331-4e8e-a4ce-e3685364a884').text(' 55%');"
       ],
       "metadata": {},
       "output_type": "display_data",
       "text": [
        "<IPython.core.display.Javascript at 0x11b3594d0>"
       ]
      },
      {
       "javascript": [
        "\n",
        "        var $myPB = $(\"div#05f0134a-baf9-4390-b18f-919e8acd0c78\")\n",
        "        if ($myPB.hasClass('ui-progressbar')) {\n",
        "            $myPB.progressbar('value', 55);\n",
        "        } else {\n",
        "            $myPB.progressbar({value: 0, max: 100});\n",
        "        }\n",
        "        "
       ],
       "metadata": {},
       "output_type": "display_data",
       "text": [
        "<IPython.core.display.Javascript at 0x11b359290>"
       ]
      },
      {
       "javascript": [
        "$('div#93899c4c-8f15-4b29-9645-b071b406820e').text('ETA:  0:01:40');"
       ],
       "metadata": {},
       "output_type": "display_data",
       "text": [
        "<IPython.core.display.Javascript at 0x11b359410>"
       ]
      },
      {
       "javascript": [
        "$('div#62e93c0f-a331-4e8e-a4ce-e3685364a884').text(' 55%');"
       ],
       "metadata": {},
       "output_type": "display_data",
       "text": [
        "<IPython.core.display.Javascript at 0x11b359d50>"
       ]
      },
      {
       "javascript": [
        "\n",
        "        var $myPB = $(\"div#05f0134a-baf9-4390-b18f-919e8acd0c78\")\n",
        "        if ($myPB.hasClass('ui-progressbar')) {\n",
        "            $myPB.progressbar('value', 55);\n",
        "        } else {\n",
        "            $myPB.progressbar({value: 0, max: 100});\n",
        "        }\n",
        "        "
       ],
       "metadata": {},
       "output_type": "display_data",
       "text": [
        "<IPython.core.display.Javascript at 0x11b359c90>"
       ]
      },
      {
       "javascript": [
        "$('div#93899c4c-8f15-4b29-9645-b071b406820e').text('ETA:  0:01:41');"
       ],
       "metadata": {},
       "output_type": "display_data",
       "text": [
        "<IPython.core.display.Javascript at 0x11b359b10>"
       ]
      },
      {
       "javascript": [
        "$('div#62e93c0f-a331-4e8e-a4ce-e3685364a884').text(' 55%');"
       ],
       "metadata": {},
       "output_type": "display_data",
       "text": [
        "<IPython.core.display.Javascript at 0x11b359510>"
       ]
      },
      {
       "javascript": [
        "\n",
        "        var $myPB = $(\"div#05f0134a-baf9-4390-b18f-919e8acd0c78\")\n",
        "        if ($myPB.hasClass('ui-progressbar')) {\n",
        "            $myPB.progressbar('value', 55);\n",
        "        } else {\n",
        "            $myPB.progressbar({value: 0, max: 100});\n",
        "        }\n",
        "        "
       ],
       "metadata": {},
       "output_type": "display_data",
       "text": [
        "<IPython.core.display.Javascript at 0x11b359f50>"
       ]
      },
      {
       "javascript": [
        "$('div#93899c4c-8f15-4b29-9645-b071b406820e').text('ETA:  0:01:41');"
       ],
       "metadata": {},
       "output_type": "display_data",
       "text": [
        "<IPython.core.display.Javascript at 0x11b359a90>"
       ]
      },
      {
       "javascript": [
        "$('div#62e93c0f-a331-4e8e-a4ce-e3685364a884').text(' 55%');"
       ],
       "metadata": {},
       "output_type": "display_data",
       "text": [
        "<IPython.core.display.Javascript at 0x11b3592d0>"
       ]
      },
      {
       "javascript": [
        "\n",
        "        var $myPB = $(\"div#05f0134a-baf9-4390-b18f-919e8acd0c78\")\n",
        "        if ($myPB.hasClass('ui-progressbar')) {\n",
        "            $myPB.progressbar('value', 55);\n",
        "        } else {\n",
        "            $myPB.progressbar({value: 0, max: 100});\n",
        "        }\n",
        "        "
       ],
       "metadata": {},
       "output_type": "display_data",
       "text": [
        "<IPython.core.display.Javascript at 0x11b359c10>"
       ]
      },
      {
       "javascript": [
        "$('div#93899c4c-8f15-4b29-9645-b071b406820e').text('ETA:  0:01:42');"
       ],
       "metadata": {},
       "output_type": "display_data",
       "text": [
        "<IPython.core.display.Javascript at 0x11b359690>"
       ]
      },
      {
       "javascript": [
        "$('div#62e93c0f-a331-4e8e-a4ce-e3685364a884').text(' 55%');"
       ],
       "metadata": {},
       "output_type": "display_data",
       "text": [
        "<IPython.core.display.Javascript at 0x11b359890>"
       ]
      },
      {
       "javascript": [
        "\n",
        "        var $myPB = $(\"div#05f0134a-baf9-4390-b18f-919e8acd0c78\")\n",
        "        if ($myPB.hasClass('ui-progressbar')) {\n",
        "            $myPB.progressbar('value', 55);\n",
        "        } else {\n",
        "            $myPB.progressbar({value: 0, max: 100});\n",
        "        }\n",
        "        "
       ],
       "metadata": {},
       "output_type": "display_data",
       "text": [
        "<IPython.core.display.Javascript at 0x11b359ed0>"
       ]
      },
      {
       "javascript": [
        "$('div#93899c4c-8f15-4b29-9645-b071b406820e').text('ETA:  0:01:43');"
       ],
       "metadata": {},
       "output_type": "display_data",
       "text": [
        "<IPython.core.display.Javascript at 0x11b359390>"
       ]
      },
      {
       "javascript": [
        "$('div#62e93c0f-a331-4e8e-a4ce-e3685364a884').text(' 55%');"
       ],
       "metadata": {},
       "output_type": "display_data",
       "text": [
        "<IPython.core.display.Javascript at 0x11b359910>"
       ]
      },
      {
       "javascript": [
        "\n",
        "        var $myPB = $(\"div#05f0134a-baf9-4390-b18f-919e8acd0c78\")\n",
        "        if ($myPB.hasClass('ui-progressbar')) {\n",
        "            $myPB.progressbar('value', 55);\n",
        "        } else {\n",
        "            $myPB.progressbar({value: 0, max: 100});\n",
        "        }\n",
        "        "
       ],
       "metadata": {},
       "output_type": "display_data",
       "text": [
        "<IPython.core.display.Javascript at 0x11b359050>"
       ]
      },
      {
       "javascript": [
        "$('div#93899c4c-8f15-4b29-9645-b071b406820e').text('ETA:  0:01:44');"
       ],
       "metadata": {},
       "output_type": "display_data",
       "text": [
        "<IPython.core.display.Javascript at 0x11b359490>"
       ]
      },
      {
       "javascript": [
        "$('div#62e93c0f-a331-4e8e-a4ce-e3685364a884').text(' 55%');"
       ],
       "metadata": {},
       "output_type": "display_data",
       "text": [
        "<IPython.core.display.Javascript at 0x11b359810>"
       ]
      },
      {
       "javascript": [
        "\n",
        "        var $myPB = $(\"div#05f0134a-baf9-4390-b18f-919e8acd0c78\")\n",
        "        if ($myPB.hasClass('ui-progressbar')) {\n",
        "            $myPB.progressbar('value', 55);\n",
        "        } else {\n",
        "            $myPB.progressbar({value: 0, max: 100});\n",
        "        }\n",
        "        "
       ],
       "metadata": {},
       "output_type": "display_data",
       "text": [
        "<IPython.core.display.Javascript at 0x11b359ad0>"
       ]
      },
      {
       "javascript": [
        "$('div#93899c4c-8f15-4b29-9645-b071b406820e').text('ETA:  0:01:45');"
       ],
       "metadata": {},
       "output_type": "display_data",
       "text": [
        "<IPython.core.display.Javascript at 0x11b359f90>"
       ]
      },
      {
       "javascript": [
        "$('div#62e93c0f-a331-4e8e-a4ce-e3685364a884').text(' 55%');"
       ],
       "metadata": {},
       "output_type": "display_data",
       "text": [
        "<IPython.core.display.Javascript at 0x11b359cd0>"
       ]
      },
      {
       "javascript": [
        "\n",
        "        var $myPB = $(\"div#05f0134a-baf9-4390-b18f-919e8acd0c78\")\n",
        "        if ($myPB.hasClass('ui-progressbar')) {\n",
        "            $myPB.progressbar('value', 55);\n",
        "        } else {\n",
        "            $myPB.progressbar({value: 0, max: 100});\n",
        "        }\n",
        "        "
       ],
       "metadata": {},
       "output_type": "display_data",
       "text": [
        "<IPython.core.display.Javascript at 0x11b3598d0>"
       ]
      },
      {
       "javascript": [
        "$('div#93899c4c-8f15-4b29-9645-b071b406820e').text('ETA:  0:01:46');"
       ],
       "metadata": {},
       "output_type": "display_data",
       "text": [
        "<IPython.core.display.Javascript at 0x11b359090>"
       ]
      },
      {
       "javascript": [
        "$('div#62e93c0f-a331-4e8e-a4ce-e3685364a884').text(' 55%');"
       ],
       "metadata": {},
       "output_type": "display_data",
       "text": [
        "<IPython.core.display.Javascript at 0x11b3593d0>"
       ]
      },
      {
       "javascript": [
        "\n",
        "        var $myPB = $(\"div#05f0134a-baf9-4390-b18f-919e8acd0c78\")\n",
        "        if ($myPB.hasClass('ui-progressbar')) {\n",
        "            $myPB.progressbar('value', 55);\n",
        "        } else {\n",
        "            $myPB.progressbar({value: 0, max: 100});\n",
        "        }\n",
        "        "
       ],
       "metadata": {},
       "output_type": "display_data",
       "text": [
        "<IPython.core.display.Javascript at 0x11b359b50>"
       ]
      },
      {
       "javascript": [
        "$('div#93899c4c-8f15-4b29-9645-b071b406820e').text('ETA:  0:01:46');"
       ],
       "metadata": {},
       "output_type": "display_data",
       "text": [
        "<IPython.core.display.Javascript at 0x11b359310>"
       ]
      },
      {
       "javascript": [
        "$('div#62e93c0f-a331-4e8e-a4ce-e3685364a884').text(' 55%');"
       ],
       "metadata": {},
       "output_type": "display_data",
       "text": [
        "<IPython.core.display.Javascript at 0x11b359150>"
       ]
      },
      {
       "javascript": [
        "\n",
        "        var $myPB = $(\"div#05f0134a-baf9-4390-b18f-919e8acd0c78\")\n",
        "        if ($myPB.hasClass('ui-progressbar')) {\n",
        "            $myPB.progressbar('value', 55);\n",
        "        } else {\n",
        "            $myPB.progressbar({value: 0, max: 100});\n",
        "        }\n",
        "        "
       ],
       "metadata": {},
       "output_type": "display_data",
       "text": [
        "<IPython.core.display.Javascript at 0x11b359e90>"
       ]
      },
      {
       "javascript": [
        "$('div#93899c4c-8f15-4b29-9645-b071b406820e').text('ETA:  0:01:47');"
       ],
       "metadata": {},
       "output_type": "display_data",
       "text": [
        "<IPython.core.display.Javascript at 0x11b359990>"
       ]
      },
      {
       "javascript": [
        "$('div#62e93c0f-a331-4e8e-a4ce-e3685364a884').text(' 55%');"
       ],
       "metadata": {},
       "output_type": "display_data",
       "text": [
        "<IPython.core.display.Javascript at 0x11b359a50>"
       ]
      },
      {
       "javascript": [
        "\n",
        "        var $myPB = $(\"div#05f0134a-baf9-4390-b18f-919e8acd0c78\")\n",
        "        if ($myPB.hasClass('ui-progressbar')) {\n",
        "            $myPB.progressbar('value', 55);\n",
        "        } else {\n",
        "            $myPB.progressbar({value: 0, max: 100});\n",
        "        }\n",
        "        "
       ],
       "metadata": {},
       "output_type": "display_data",
       "text": [
        "<IPython.core.display.Javascript at 0x11b359610>"
       ]
      },
      {
       "javascript": [
        "$('div#93899c4c-8f15-4b29-9645-b071b406820e').text('ETA:  0:01:48');"
       ],
       "metadata": {},
       "output_type": "display_data",
       "text": [
        "<IPython.core.display.Javascript at 0x11b359350>"
       ]
      },
      {
       "javascript": [
        "$('div#62e93c0f-a331-4e8e-a4ce-e3685364a884').text(' 55%');"
       ],
       "metadata": {},
       "output_type": "display_data",
       "text": [
        "<IPython.core.display.Javascript at 0x11b3595d0>"
       ]
      },
      {
       "javascript": [
        "\n",
        "        var $myPB = $(\"div#05f0134a-baf9-4390-b18f-919e8acd0c78\")\n",
        "        if ($myPB.hasClass('ui-progressbar')) {\n",
        "            $myPB.progressbar('value', 55);\n",
        "        } else {\n",
        "            $myPB.progressbar({value: 0, max: 100});\n",
        "        }\n",
        "        "
       ],
       "metadata": {},
       "output_type": "display_data",
       "text": [
        "<IPython.core.display.Javascript at 0x11b359bd0>"
       ]
      },
      {
       "javascript": [
        "$('div#93899c4c-8f15-4b29-9645-b071b406820e').text('ETA:  0:01:49');"
       ],
       "metadata": {},
       "output_type": "display_data",
       "text": [
        "<IPython.core.display.Javascript at 0x11b359190>"
       ]
      },
      {
       "javascript": [
        "$('div#62e93c0f-a331-4e8e-a4ce-e3685364a884').text(' 55%');"
       ],
       "metadata": {},
       "output_type": "display_data",
       "text": [
        "<IPython.core.display.Javascript at 0x11b359750>"
       ]
      },
      {
       "javascript": [
        "\n",
        "        var $myPB = $(\"div#05f0134a-baf9-4390-b18f-919e8acd0c78\")\n",
        "        if ($myPB.hasClass('ui-progressbar')) {\n",
        "            $myPB.progressbar('value', 55);\n",
        "        } else {\n",
        "            $myPB.progressbar({value: 0, max: 100});\n",
        "        }\n",
        "        "
       ],
       "metadata": {},
       "output_type": "display_data",
       "text": [
        "<IPython.core.display.Javascript at 0x11b359f10>"
       ]
      },
      {
       "javascript": [
        "$('div#93899c4c-8f15-4b29-9645-b071b406820e').text('ETA:  0:01:50');"
       ],
       "metadata": {},
       "output_type": "display_data",
       "text": [
        "<IPython.core.display.Javascript at 0x11b359d90>"
       ]
      },
      {
       "javascript": [
        "$('div#62e93c0f-a331-4e8e-a4ce-e3685364a884').text(' 55%');"
       ],
       "metadata": {},
       "output_type": "display_data",
       "text": [
        "<IPython.core.display.Javascript at 0x11b359b90>"
       ]
      },
      {
       "javascript": [
        "\n",
        "        var $myPB = $(\"div#05f0134a-baf9-4390-b18f-919e8acd0c78\")\n",
        "        if ($myPB.hasClass('ui-progressbar')) {\n",
        "            $myPB.progressbar('value', 55);\n",
        "        } else {\n",
        "            $myPB.progressbar({value: 0, max: 100});\n",
        "        }\n",
        "        "
       ],
       "metadata": {},
       "output_type": "display_data",
       "text": [
        "<IPython.core.display.Javascript at 0x11b359450>"
       ]
      },
      {
       "javascript": [
        "$('div#93899c4c-8f15-4b29-9645-b071b406820e').text('ETA:  0:01:51');"
       ],
       "metadata": {},
       "output_type": "display_data",
       "text": [
        "<IPython.core.display.Javascript at 0x11b359110>"
       ]
      },
      {
       "javascript": [
        "$('div#62e93c0f-a331-4e8e-a4ce-e3685364a884').text(' 55%');"
       ],
       "metadata": {},
       "output_type": "display_data",
       "text": [
        "<IPython.core.display.Javascript at 0x11b359d10>"
       ]
      },
      {
       "javascript": [
        "\n",
        "        var $myPB = $(\"div#05f0134a-baf9-4390-b18f-919e8acd0c78\")\n",
        "        if ($myPB.hasClass('ui-progressbar')) {\n",
        "            $myPB.progressbar('value', 55);\n",
        "        } else {\n",
        "            $myPB.progressbar({value: 0, max: 100});\n",
        "        }\n",
        "        "
       ],
       "metadata": {},
       "output_type": "display_data",
       "text": [
        "<IPython.core.display.Javascript at 0x11b359850>"
       ]
      },
      {
       "javascript": [
        "$('div#93899c4c-8f15-4b29-9645-b071b406820e').text('ETA:  0:01:51');"
       ],
       "metadata": {},
       "output_type": "display_data",
       "text": [
        "<IPython.core.display.Javascript at 0x11b359210>"
       ]
      },
      {
       "javascript": [
        "$('div#62e93c0f-a331-4e8e-a4ce-e3685364a884').text(' 55%');"
       ],
       "metadata": {},
       "output_type": "display_data",
       "text": [
        "<IPython.core.display.Javascript at 0x11b359590>"
       ]
      },
      {
       "javascript": [
        "\n",
        "        var $myPB = $(\"div#05f0134a-baf9-4390-b18f-919e8acd0c78\")\n",
        "        if ($myPB.hasClass('ui-progressbar')) {\n",
        "            $myPB.progressbar('value', 55);\n",
        "        } else {\n",
        "            $myPB.progressbar({value: 0, max: 100});\n",
        "        }\n",
        "        "
       ],
       "metadata": {},
       "output_type": "display_data",
       "text": [
        "<IPython.core.display.Javascript at 0x11b359e50>"
       ]
      },
      {
       "javascript": [
        "$('div#93899c4c-8f15-4b29-9645-b071b406820e').text('ETA:  0:01:52');"
       ],
       "metadata": {},
       "output_type": "display_data",
       "text": [
        "<IPython.core.display.Javascript at 0x11b359250>"
       ]
      },
      {
       "javascript": [
        "$('div#62e93c0f-a331-4e8e-a4ce-e3685364a884').text(' 55%');"
       ],
       "metadata": {},
       "output_type": "display_data",
       "text": [
        "<IPython.core.display.Javascript at 0x11b359fd0>"
       ]
      },
      {
       "javascript": [
        "\n",
        "        var $myPB = $(\"div#05f0134a-baf9-4390-b18f-919e8acd0c78\")\n",
        "        if ($myPB.hasClass('ui-progressbar')) {\n",
        "            $myPB.progressbar('value', 55);\n",
        "        } else {\n",
        "            $myPB.progressbar({value: 0, max: 100});\n",
        "        }\n",
        "        "
       ],
       "metadata": {},
       "output_type": "display_data",
       "text": [
        "<IPython.core.display.Javascript at 0x11b359c50>"
       ]
      },
      {
       "javascript": [
        "$('div#93899c4c-8f15-4b29-9645-b071b406820e').text('ETA:  0:01:53');"
       ],
       "metadata": {},
       "output_type": "display_data",
       "text": [
        "<IPython.core.display.Javascript at 0x11b3591d0>"
       ]
      },
      {
       "javascript": [
        "$('div#62e93c0f-a331-4e8e-a4ce-e3685364a884').text(' 55%');"
       ],
       "metadata": {},
       "output_type": "display_data",
       "text": [
        "<IPython.core.display.Javascript at 0x11b3597d0>"
       ]
      },
      {
       "javascript": [
        "\n",
        "        var $myPB = $(\"div#05f0134a-baf9-4390-b18f-919e8acd0c78\")\n",
        "        if ($myPB.hasClass('ui-progressbar')) {\n",
        "            $myPB.progressbar('value', 55);\n",
        "        } else {\n",
        "            $myPB.progressbar({value: 0, max: 100});\n",
        "        }\n",
        "        "
       ],
       "metadata": {},
       "output_type": "display_data",
       "text": [
        "<IPython.core.display.Javascript at 0x11b359650>"
       ]
      },
      {
       "javascript": [
        "$('div#93899c4c-8f15-4b29-9645-b071b406820e').text('ETA:  0:01:54');"
       ],
       "metadata": {},
       "output_type": "display_data",
       "text": [
        "<IPython.core.display.Javascript at 0x11b359950>"
       ]
      },
      {
       "javascript": [
        "$('div#62e93c0f-a331-4e8e-a4ce-e3685364a884').text(' 55%');"
       ],
       "metadata": {},
       "output_type": "display_data",
       "text": [
        "<IPython.core.display.Javascript at 0x11b3591d0>"
       ]
      },
      {
       "javascript": [
        "\n",
        "        var $myPB = $(\"div#05f0134a-baf9-4390-b18f-919e8acd0c78\")\n",
        "        if ($myPB.hasClass('ui-progressbar')) {\n",
        "            $myPB.progressbar('value', 55);\n",
        "        } else {\n",
        "            $myPB.progressbar({value: 0, max: 100});\n",
        "        }\n",
        "        "
       ],
       "metadata": {},
       "output_type": "display_data",
       "text": [
        "<IPython.core.display.Javascript at 0x11b359c50>"
       ]
      },
      {
       "javascript": [
        "$('div#93899c4c-8f15-4b29-9645-b071b406820e').text('ETA:  0:01:55');"
       ],
       "metadata": {},
       "output_type": "display_data",
       "text": [
        "<IPython.core.display.Javascript at 0x11b3597d0>"
       ]
      },
      {
       "javascript": [
        "$('div#62e93c0f-a331-4e8e-a4ce-e3685364a884').text(' 55%');"
       ],
       "metadata": {},
       "output_type": "display_data",
       "text": [
        "<IPython.core.display.Javascript at 0x11b359610>"
       ]
      },
      {
       "javascript": [
        "\n",
        "        var $myPB = $(\"div#05f0134a-baf9-4390-b18f-919e8acd0c78\")\n",
        "        if ($myPB.hasClass('ui-progressbar')) {\n",
        "            $myPB.progressbar('value', 55);\n",
        "        } else {\n",
        "            $myPB.progressbar({value: 0, max: 100});\n",
        "        }\n",
        "        "
       ],
       "metadata": {},
       "output_type": "display_data",
       "text": [
        "<IPython.core.display.Javascript at 0x11b3593d0>"
       ]
      },
      {
       "javascript": [
        "$('div#93899c4c-8f15-4b29-9645-b071b406820e').text('ETA:  0:01:56');"
       ],
       "metadata": {},
       "output_type": "display_data",
       "text": [
        "<IPython.core.display.Javascript at 0x11b359b50>"
       ]
      },
      {
       "javascript": [
        "$('div#62e93c0f-a331-4e8e-a4ce-e3685364a884').text(' 55%');"
       ],
       "metadata": {},
       "output_type": "display_data",
       "text": [
        "<IPython.core.display.Javascript at 0x11b359590>"
       ]
      },
      {
       "javascript": [
        "\n",
        "        var $myPB = $(\"div#05f0134a-baf9-4390-b18f-919e8acd0c78\")\n",
        "        if ($myPB.hasClass('ui-progressbar')) {\n",
        "            $myPB.progressbar('value', 55);\n",
        "        } else {\n",
        "            $myPB.progressbar({value: 0, max: 100});\n",
        "        }\n",
        "        "
       ],
       "metadata": {},
       "output_type": "display_data",
       "text": [
        "<IPython.core.display.Javascript at 0x11b359350>"
       ]
      },
      {
       "javascript": [
        "$('div#93899c4c-8f15-4b29-9645-b071b406820e').text('ETA:  0:01:56');"
       ],
       "metadata": {},
       "output_type": "display_data",
       "text": [
        "<IPython.core.display.Javascript at 0x11b359f90>"
       ]
      },
      {
       "javascript": [
        "$('div#62e93c0f-a331-4e8e-a4ce-e3685364a884').text(' 55%');"
       ],
       "metadata": {},
       "output_type": "display_data",
       "text": [
        "<IPython.core.display.Javascript at 0x11b359750>"
       ]
      },
      {
       "javascript": [
        "\n",
        "        var $myPB = $(\"div#05f0134a-baf9-4390-b18f-919e8acd0c78\")\n",
        "        if ($myPB.hasClass('ui-progressbar')) {\n",
        "            $myPB.progressbar('value', 55);\n",
        "        } else {\n",
        "            $myPB.progressbar({value: 0, max: 100});\n",
        "        }\n",
        "        "
       ],
       "metadata": {},
       "output_type": "display_data",
       "text": [
        "<IPython.core.display.Javascript at 0x11b359e50>"
       ]
      },
      {
       "javascript": [
        "$('div#93899c4c-8f15-4b29-9645-b071b406820e').text('ETA:  0:01:57');"
       ],
       "metadata": {},
       "output_type": "display_data",
       "text": [
        "<IPython.core.display.Javascript at 0x11b359490>"
       ]
      },
      {
       "javascript": [
        "$('div#62e93c0f-a331-4e8e-a4ce-e3685364a884').text(' 55%');"
       ],
       "metadata": {},
       "output_type": "display_data",
       "text": [
        "<IPython.core.display.Javascript at 0x11b359cd0>"
       ]
      },
      {
       "javascript": [
        "\n",
        "        var $myPB = $(\"div#05f0134a-baf9-4390-b18f-919e8acd0c78\")\n",
        "        if ($myPB.hasClass('ui-progressbar')) {\n",
        "            $myPB.progressbar('value', 55);\n",
        "        } else {\n",
        "            $myPB.progressbar({value: 0, max: 100});\n",
        "        }\n",
        "        "
       ],
       "metadata": {},
       "output_type": "display_data",
       "text": [
        "<IPython.core.display.Javascript at 0x11b359f10>"
       ]
      },
      {
       "javascript": [
        "$('div#93899c4c-8f15-4b29-9645-b071b406820e').text('ETA:  0:01:58');"
       ],
       "metadata": {},
       "output_type": "display_data",
       "text": [
        "<IPython.core.display.Javascript at 0x11b359390>"
       ]
      },
      {
       "javascript": [
        "$('div#62e93c0f-a331-4e8e-a4ce-e3685364a884').text(' 55%');"
       ],
       "metadata": {},
       "output_type": "display_data",
       "text": [
        "<IPython.core.display.Javascript at 0x11b359810>"
       ]
      },
      {
       "javascript": [
        "\n",
        "        var $myPB = $(\"div#05f0134a-baf9-4390-b18f-919e8acd0c78\")\n",
        "        if ($myPB.hasClass('ui-progressbar')) {\n",
        "            $myPB.progressbar('value', 55);\n",
        "        } else {\n",
        "            $myPB.progressbar({value: 0, max: 100});\n",
        "        }\n",
        "        "
       ],
       "metadata": {},
       "output_type": "display_data",
       "text": [
        "<IPython.core.display.Javascript at 0x11b359190>"
       ]
      },
      {
       "javascript": [
        "$('div#93899c4c-8f15-4b29-9645-b071b406820e').text('ETA:  0:01:59');"
       ],
       "metadata": {},
       "output_type": "display_data",
       "text": [
        "<IPython.core.display.Javascript at 0x11b359690>"
       ]
      },
      {
       "javascript": [
        "$('div#62e93c0f-a331-4e8e-a4ce-e3685364a884').text(' 55%');"
       ],
       "metadata": {},
       "output_type": "display_data",
       "text": [
        "<IPython.core.display.Javascript at 0x11b359910>"
       ]
      },
      {
       "javascript": [
        "\n",
        "        var $myPB = $(\"div#05f0134a-baf9-4390-b18f-919e8acd0c78\")\n",
        "        if ($myPB.hasClass('ui-progressbar')) {\n",
        "            $myPB.progressbar('value', 55);\n",
        "        } else {\n",
        "            $myPB.progressbar({value: 0, max: 100});\n",
        "        }\n",
        "        "
       ],
       "metadata": {},
       "output_type": "display_data",
       "text": [
        "<IPython.core.display.Javascript at 0x11b359e90>"
       ]
      },
      {
       "javascript": [
        "$('div#93899c4c-8f15-4b29-9645-b071b406820e').text('ETA:  0:02:00');"
       ],
       "metadata": {},
       "output_type": "display_data",
       "text": [
        "<IPython.core.display.Javascript at 0x11b359a90>"
       ]
      },
      {
       "javascript": [
        "$('div#62e93c0f-a331-4e8e-a4ce-e3685364a884').text(' 55%');"
       ],
       "metadata": {},
       "output_type": "display_data",
       "text": [
        "<IPython.core.display.Javascript at 0x11b359890>"
       ]
      },
      {
       "javascript": [
        "\n",
        "        var $myPB = $(\"div#05f0134a-baf9-4390-b18f-919e8acd0c78\")\n",
        "        if ($myPB.hasClass('ui-progressbar')) {\n",
        "            $myPB.progressbar('value', 55);\n",
        "        } else {\n",
        "            $myPB.progressbar({value: 0, max: 100});\n",
        "        }\n",
        "        "
       ],
       "metadata": {},
       "output_type": "display_data",
       "text": [
        "<IPython.core.display.Javascript at 0x11b359fd0>"
       ]
      },
      {
       "javascript": [
        "$('div#93899c4c-8f15-4b29-9645-b071b406820e').text('ETA:  0:02:01');"
       ],
       "metadata": {},
       "output_type": "display_data",
       "text": [
        "<IPython.core.display.Javascript at 0x11b359b10>"
       ]
      },
      {
       "javascript": [
        "$('div#62e93c0f-a331-4e8e-a4ce-e3685364a884').text(' 55%');"
       ],
       "metadata": {},
       "output_type": "display_data",
       "text": [
        "<IPython.core.display.Javascript at 0x11b3592d0>"
       ]
      },
      {
       "javascript": [
        "\n",
        "        var $myPB = $(\"div#05f0134a-baf9-4390-b18f-919e8acd0c78\")\n",
        "        if ($myPB.hasClass('ui-progressbar')) {\n",
        "            $myPB.progressbar('value', 55);\n",
        "        } else {\n",
        "            $myPB.progressbar({value: 0, max: 100});\n",
        "        }\n",
        "        "
       ],
       "metadata": {},
       "output_type": "display_data",
       "text": [
        "<IPython.core.display.Javascript at 0x11b359090>"
       ]
      },
      {
       "javascript": [
        "$('div#93899c4c-8f15-4b29-9645-b071b406820e').text('ETA:  0:02:01');"
       ],
       "metadata": {},
       "output_type": "display_data",
       "text": [
        "<IPython.core.display.Javascript at 0x11b359410>"
       ]
      },
      {
       "javascript": [
        "$('div#62e93c0f-a331-4e8e-a4ce-e3685364a884').text(' 55%');"
       ],
       "metadata": {},
       "output_type": "display_data",
       "text": [
        "<IPython.core.display.Javascript at 0x1076e7990>"
       ]
      },
      {
       "javascript": [
        "\n",
        "        var $myPB = $(\"div#05f0134a-baf9-4390-b18f-919e8acd0c78\")\n",
        "        if ($myPB.hasClass('ui-progressbar')) {\n",
        "            $myPB.progressbar('value', 55);\n",
        "        } else {\n",
        "            $myPB.progressbar({value: 0, max: 100});\n",
        "        }\n",
        "        "
       ],
       "metadata": {},
       "output_type": "display_data",
       "text": [
        "<IPython.core.display.Javascript at 0x1076e75d0>"
       ]
      },
      {
       "javascript": [
        "$('div#93899c4c-8f15-4b29-9645-b071b406820e').text('ETA:  0:02:02');"
       ],
       "metadata": {},
       "output_type": "display_data",
       "text": [
        "<IPython.core.display.Javascript at 0x11e011610>"
       ]
      },
      {
       "javascript": [
        "$('div#62e93c0f-a331-4e8e-a4ce-e3685364a884').text(' 55%');"
       ],
       "metadata": {},
       "output_type": "display_data",
       "text": [
        "<IPython.core.display.Javascript at 0x11b359d50>"
       ]
      },
      {
       "javascript": [
        "\n",
        "        var $myPB = $(\"div#05f0134a-baf9-4390-b18f-919e8acd0c78\")\n",
        "        if ($myPB.hasClass('ui-progressbar')) {\n",
        "            $myPB.progressbar('value', 55);\n",
        "        } else {\n",
        "            $myPB.progressbar({value: 0, max: 100});\n",
        "        }\n",
        "        "
       ],
       "metadata": {},
       "output_type": "display_data",
       "text": [
        "<IPython.core.display.Javascript at 0x11b359050>"
       ]
      },
      {
       "javascript": [
        "$('div#93899c4c-8f15-4b29-9645-b071b406820e').text('ETA:  0:02:03');"
       ],
       "metadata": {},
       "output_type": "display_data",
       "text": [
        "<IPython.core.display.Javascript at 0x11b359990>"
       ]
      },
      {
       "javascript": [
        "$('div#62e93c0f-a331-4e8e-a4ce-e3685364a884').text(' 55%');"
       ],
       "metadata": {},
       "output_type": "display_data",
       "text": [
        "<IPython.core.display.Javascript at 0x11b3596d0>"
       ]
      },
      {
       "javascript": [
        "\n",
        "        var $myPB = $(\"div#05f0134a-baf9-4390-b18f-919e8acd0c78\")\n",
        "        if ($myPB.hasClass('ui-progressbar')) {\n",
        "            $myPB.progressbar('value', 55);\n",
        "        } else {\n",
        "            $myPB.progressbar({value: 0, max: 100});\n",
        "        }\n",
        "        "
       ],
       "metadata": {},
       "output_type": "display_data",
       "text": [
        "<IPython.core.display.Javascript at 0x11b359ed0>"
       ]
      },
      {
       "javascript": [
        "$('div#93899c4c-8f15-4b29-9645-b071b406820e').text('ETA:  0:02:04');"
       ],
       "metadata": {},
       "output_type": "display_data",
       "text": [
        "<IPython.core.display.Javascript at 0x11b359c90>"
       ]
      },
      {
       "javascript": [
        "$('div#62e93c0f-a331-4e8e-a4ce-e3685364a884').text(' 55%');"
       ],
       "metadata": {},
       "output_type": "display_data",
       "text": [
        "<IPython.core.display.Javascript at 0x11b359110>"
       ]
      },
      {
       "javascript": [
        "\n",
        "        var $myPB = $(\"div#05f0134a-baf9-4390-b18f-919e8acd0c78\")\n",
        "        if ($myPB.hasClass('ui-progressbar')) {\n",
        "            $myPB.progressbar('value', 55);\n",
        "        } else {\n",
        "            $myPB.progressbar({value: 0, max: 100});\n",
        "        }\n",
        "        "
       ],
       "metadata": {},
       "output_type": "display_data",
       "text": [
        "<IPython.core.display.Javascript at 0x11b359a50>"
       ]
      },
      {
       "javascript": [
        "$('div#93899c4c-8f15-4b29-9645-b071b406820e').text('ETA:  0:02:05');"
       ],
       "metadata": {},
       "output_type": "display_data",
       "text": [
        "<IPython.core.display.Javascript at 0x11b359210>"
       ]
      },
      {
       "javascript": [
        "$('div#62e93c0f-a331-4e8e-a4ce-e3685364a884').text(' 55%');"
       ],
       "metadata": {},
       "output_type": "display_data",
       "text": [
        "<IPython.core.display.Javascript at 0x11b359650>"
       ]
      },
      {
       "javascript": [
        "\n",
        "        var $myPB = $(\"div#05f0134a-baf9-4390-b18f-919e8acd0c78\")\n",
        "        if ($myPB.hasClass('ui-progressbar')) {\n",
        "            $myPB.progressbar('value', 55);\n",
        "        } else {\n",
        "            $myPB.progressbar({value: 0, max: 100});\n",
        "        }\n",
        "        "
       ],
       "metadata": {},
       "output_type": "display_data",
       "text": [
        "<IPython.core.display.Javascript at 0x11b359c10>"
       ]
      },
      {
       "javascript": [
        "$('div#93899c4c-8f15-4b29-9645-b071b406820e').text('ETA:  0:02:06');"
       ],
       "metadata": {},
       "output_type": "display_data",
       "text": [
        "<IPython.core.display.Javascript at 0x11b359450>"
       ]
      },
      {
       "javascript": [
        "$('div#62e93c0f-a331-4e8e-a4ce-e3685364a884').text(' 55%');"
       ],
       "metadata": {},
       "output_type": "display_data",
       "text": [
        "<IPython.core.display.Javascript at 0x11b3595d0>"
       ]
      },
      {
       "javascript": [
        "\n",
        "        var $myPB = $(\"div#05f0134a-baf9-4390-b18f-919e8acd0c78\")\n",
        "        if ($myPB.hasClass('ui-progressbar')) {\n",
        "            $myPB.progressbar('value', 55);\n",
        "        } else {\n",
        "            $myPB.progressbar({value: 0, max: 100});\n",
        "        }\n",
        "        "
       ],
       "metadata": {},
       "output_type": "display_data",
       "text": [
        "<IPython.core.display.Javascript at 0x11b359290>"
       ]
      },
      {
       "javascript": [
        "$('div#93899c4c-8f15-4b29-9645-b071b406820e').text('ETA:  0:02:06');"
       ],
       "metadata": {},
       "output_type": "display_data",
       "text": [
        "<IPython.core.display.Javascript at 0x11b359d10>"
       ]
      },
      {
       "javascript": [
        "$('div#62e93c0f-a331-4e8e-a4ce-e3685364a884').text(' 55%');"
       ],
       "metadata": {},
       "output_type": "display_data",
       "text": [
        "<IPython.core.display.Javascript at 0x11b359310>"
       ]
      },
      {
       "javascript": [
        "\n",
        "        var $myPB = $(\"div#05f0134a-baf9-4390-b18f-919e8acd0c78\")\n",
        "        if ($myPB.hasClass('ui-progressbar')) {\n",
        "            $myPB.progressbar('value', 55);\n",
        "        } else {\n",
        "            $myPB.progressbar({value: 0, max: 100});\n",
        "        }\n",
        "        "
       ],
       "metadata": {},
       "output_type": "display_data",
       "text": [
        "<IPython.core.display.Javascript at 0x11b359850>"
       ]
      },
      {
       "javascript": [
        "$('div#93899c4c-8f15-4b29-9645-b071b406820e').text('ETA:  0:02:07');"
       ],
       "metadata": {},
       "output_type": "display_data",
       "text": [
        "<IPython.core.display.Javascript at 0x11b359250>"
       ]
      },
      {
       "javascript": [
        "$('div#62e93c0f-a331-4e8e-a4ce-e3685364a884').text(' 55%');"
       ],
       "metadata": {},
       "output_type": "display_data",
       "text": [
        "<IPython.core.display.Javascript at 0x11b359950>"
       ]
      },
      {
       "javascript": [
        "\n",
        "        var $myPB = $(\"div#05f0134a-baf9-4390-b18f-919e8acd0c78\")\n",
        "        if ($myPB.hasClass('ui-progressbar')) {\n",
        "            $myPB.progressbar('value', 55);\n",
        "        } else {\n",
        "            $myPB.progressbar({value: 0, max: 100});\n",
        "        }\n",
        "        "
       ],
       "metadata": {},
       "output_type": "display_data",
       "text": [
        "<IPython.core.display.Javascript at 0x11b359510>"
       ]
      },
      {
       "javascript": [
        "$('div#93899c4c-8f15-4b29-9645-b071b406820e').text('ETA:  0:02:08');"
       ],
       "metadata": {},
       "output_type": "display_data",
       "text": [
        "<IPython.core.display.Javascript at 0x11b359f50>"
       ]
      },
      {
       "javascript": [
        "$('div#62e93c0f-a331-4e8e-a4ce-e3685364a884').text(' 55%');"
       ],
       "metadata": {},
       "output_type": "display_data",
       "text": [
        "<IPython.core.display.Javascript at 0x11b359bd0>"
       ]
      },
      {
       "javascript": [
        "\n",
        "        var $myPB = $(\"div#05f0134a-baf9-4390-b18f-919e8acd0c78\")\n",
        "        if ($myPB.hasClass('ui-progressbar')) {\n",
        "            $myPB.progressbar('value', 55);\n",
        "        } else {\n",
        "            $myPB.progressbar({value: 0, max: 100});\n",
        "        }\n",
        "        "
       ],
       "metadata": {},
       "output_type": "display_data",
       "text": [
        "<IPython.core.display.Javascript at 0x11b359550>"
       ]
      },
      {
       "javascript": [
        "$('div#93899c4c-8f15-4b29-9645-b071b406820e').text('ETA:  0:02:09');"
       ],
       "metadata": {},
       "output_type": "display_data",
       "text": [
        "<IPython.core.display.Javascript at 0x11b3598d0>"
       ]
      },
      {
       "javascript": [
        "$('div#62e93c0f-a331-4e8e-a4ce-e3685364a884').text(' 55%');"
       ],
       "metadata": {},
       "output_type": "display_data",
       "text": [
        "<IPython.core.display.Javascript at 0x11b359b90>"
       ]
      },
      {
       "javascript": [
        "\n",
        "        var $myPB = $(\"div#05f0134a-baf9-4390-b18f-919e8acd0c78\")\n",
        "        if ($myPB.hasClass('ui-progressbar')) {\n",
        "            $myPB.progressbar('value', 55);\n",
        "        } else {\n",
        "            $myPB.progressbar({value: 0, max: 100});\n",
        "        }\n",
        "        "
       ],
       "metadata": {},
       "output_type": "display_data",
       "text": [
        "<IPython.core.display.Javascript at 0x11b3594d0>"
       ]
      },
      {
       "javascript": [
        "$('div#93899c4c-8f15-4b29-9645-b071b406820e').text('ETA:  0:02:10');"
       ],
       "metadata": {},
       "output_type": "display_data",
       "text": [
        "<IPython.core.display.Javascript at 0x11b359150>"
       ]
      },
      {
       "javascript": [
        "$('div#62e93c0f-a331-4e8e-a4ce-e3685364a884').text(' 55%');"
       ],
       "metadata": {},
       "output_type": "display_data",
       "text": [
        "<IPython.core.display.Javascript at 0x1076e7990>"
       ]
      },
      {
       "javascript": [
        "\n",
        "        var $myPB = $(\"div#05f0134a-baf9-4390-b18f-919e8acd0c78\")\n",
        "        if ($myPB.hasClass('ui-progressbar')) {\n",
        "            $myPB.progressbar('value', 55);\n",
        "        } else {\n",
        "            $myPB.progressbar({value: 0, max: 100});\n",
        "        }\n",
        "        "
       ],
       "metadata": {},
       "output_type": "display_data",
       "text": [
        "<IPython.core.display.Javascript at 0x1076e75d0>"
       ]
      },
      {
       "javascript": [
        "$('div#93899c4c-8f15-4b29-9645-b071b406820e').text('ETA:  0:02:11');"
       ],
       "metadata": {},
       "output_type": "display_data",
       "text": [
        "<IPython.core.display.Javascript at 0x1076e7190>"
       ]
      },
      {
       "javascript": [
        "$('div#62e93c0f-a331-4e8e-a4ce-e3685364a884').text(' 55%');"
       ],
       "metadata": {},
       "output_type": "display_data",
       "text": [
        "<IPython.core.display.Javascript at 0x11b359a50>"
       ]
      },
      {
       "javascript": [
        "\n",
        "        var $myPB = $(\"div#05f0134a-baf9-4390-b18f-919e8acd0c78\")\n",
        "        if ($myPB.hasClass('ui-progressbar')) {\n",
        "            $myPB.progressbar('value', 55);\n",
        "        } else {\n",
        "            $myPB.progressbar({value: 0, max: 100});\n",
        "        }\n",
        "        "
       ],
       "metadata": {},
       "output_type": "display_data",
       "text": [
        "<IPython.core.display.Javascript at 0x11b359d50>"
       ]
      },
      {
       "javascript": [
        "$('div#93899c4c-8f15-4b29-9645-b071b406820e').text('ETA:  0:02:11');"
       ],
       "metadata": {},
       "output_type": "display_data",
       "text": [
        "<IPython.core.display.Javascript at 0x11b359050>"
       ]
      },
      {
       "javascript": [
        "$('div#62e93c0f-a331-4e8e-a4ce-e3685364a884').text(' 55%');"
       ],
       "metadata": {},
       "output_type": "display_data",
       "text": [
        "<IPython.core.display.Javascript at 0x11b359bd0>"
       ]
      },
      {
       "javascript": [
        "\n",
        "        var $myPB = $(\"div#05f0134a-baf9-4390-b18f-919e8acd0c78\")\n",
        "        if ($myPB.hasClass('ui-progressbar')) {\n",
        "            $myPB.progressbar('value', 55);\n",
        "        } else {\n",
        "            $myPB.progressbar({value: 0, max: 100});\n",
        "        }\n",
        "        "
       ],
       "metadata": {},
       "output_type": "display_data",
       "text": [
        "<IPython.core.display.Javascript at 0x11b359210>"
       ]
      },
      {
       "javascript": [
        "$('div#93899c4c-8f15-4b29-9645-b071b406820e').text('ETA:  0:02:12');"
       ],
       "metadata": {},
       "output_type": "display_data",
       "text": [
        "<IPython.core.display.Javascript at 0x11b359b10>"
       ]
      },
      {
       "javascript": [
        "$('div#62e93c0f-a331-4e8e-a4ce-e3685364a884').text(' 55%');"
       ],
       "metadata": {},
       "output_type": "display_data",
       "text": [
        "<IPython.core.display.Javascript at 0x11b3595d0>"
       ]
      },
      {
       "javascript": [
        "\n",
        "        var $myPB = $(\"div#05f0134a-baf9-4390-b18f-919e8acd0c78\")\n",
        "        if ($myPB.hasClass('ui-progressbar')) {\n",
        "            $myPB.progressbar('value', 55);\n",
        "        } else {\n",
        "            $myPB.progressbar({value: 0, max: 100});\n",
        "        }\n",
        "        "
       ],
       "metadata": {},
       "output_type": "display_data",
       "text": [
        "<IPython.core.display.Javascript at 0x11b359550>"
       ]
      },
      {
       "javascript": [
        "$('div#93899c4c-8f15-4b29-9645-b071b406820e').text('ETA:  0:02:13');"
       ],
       "metadata": {},
       "output_type": "display_data",
       "text": [
        "<IPython.core.display.Javascript at 0x11b359a90>"
       ]
      },
      {
       "javascript": [
        "$('div#62e93c0f-a331-4e8e-a4ce-e3685364a884').text(' 55%');"
       ],
       "metadata": {},
       "output_type": "display_data",
       "text": [
        "<IPython.core.display.Javascript at 0x11b3592d0>"
       ]
      },
      {
       "javascript": [
        "\n",
        "        var $myPB = $(\"div#05f0134a-baf9-4390-b18f-919e8acd0c78\")\n",
        "        if ($myPB.hasClass('ui-progressbar')) {\n",
        "            $myPB.progressbar('value', 55);\n",
        "        } else {\n",
        "            $myPB.progressbar({value: 0, max: 100});\n",
        "        }\n",
        "        "
       ],
       "metadata": {},
       "output_type": "display_data",
       "text": [
        "<IPython.core.display.Javascript at 0x11b359290>"
       ]
      },
      {
       "javascript": [
        "$('div#93899c4c-8f15-4b29-9645-b071b406820e').text('ETA:  0:02:14');"
       ],
       "metadata": {},
       "output_type": "display_data",
       "text": [
        "<IPython.core.display.Javascript at 0x11b359690>"
       ]
      },
      {
       "javascript": [
        "$('div#62e93c0f-a331-4e8e-a4ce-e3685364a884').text(' 55%');"
       ],
       "metadata": {},
       "output_type": "display_data",
       "text": [
        "<IPython.core.display.Javascript at 0x11b359890>"
       ]
      },
      {
       "javascript": [
        "\n",
        "        var $myPB = $(\"div#05f0134a-baf9-4390-b18f-919e8acd0c78\")\n",
        "        if ($myPB.hasClass('ui-progressbar')) {\n",
        "            $myPB.progressbar('value', 55);\n",
        "        } else {\n",
        "            $myPB.progressbar({value: 0, max: 100});\n",
        "        }\n",
        "        "
       ],
       "metadata": {},
       "output_type": "display_data",
       "text": [
        "<IPython.core.display.Javascript at 0x11b359450>"
       ]
      },
      {
       "javascript": [
        "$('div#93899c4c-8f15-4b29-9645-b071b406820e').text('ETA:  0:02:15');"
       ],
       "metadata": {},
       "output_type": "display_data",
       "text": [
        "<IPython.core.display.Javascript at 0x11b359390>"
       ]
      },
      {
       "javascript": [
        "$('div#62e93c0f-a331-4e8e-a4ce-e3685364a884').text(' 55%');"
       ],
       "metadata": {},
       "output_type": "display_data",
       "text": [
        "<IPython.core.display.Javascript at 0x11b359910>"
       ]
      },
      {
       "javascript": [
        "\n",
        "        var $myPB = $(\"div#05f0134a-baf9-4390-b18f-919e8acd0c78\")\n",
        "        if ($myPB.hasClass('ui-progressbar')) {\n",
        "            $myPB.progressbar('value', 55);\n",
        "        } else {\n",
        "            $myPB.progressbar({value: 0, max: 100});\n",
        "        }\n",
        "        "
       ],
       "metadata": {},
       "output_type": "display_data",
       "text": [
        "<IPython.core.display.Javascript at 0x11b359ed0>"
       ]
      },
      {
       "javascript": [
        "$('div#93899c4c-8f15-4b29-9645-b071b406820e').text('ETA:  0:02:16');"
       ],
       "metadata": {},
       "output_type": "display_data",
       "text": [
        "<IPython.core.display.Javascript at 0x11b359490>"
       ]
      },
      {
       "javascript": [
        "$('div#62e93c0f-a331-4e8e-a4ce-e3685364a884').text(' 55%');"
       ],
       "metadata": {},
       "output_type": "display_data",
       "text": [
        "<IPython.core.display.Javascript at 0x11b359810>"
       ]
      },
      {
       "javascript": [
        "\n",
        "        var $myPB = $(\"div#05f0134a-baf9-4390-b18f-919e8acd0c78\")\n",
        "        if ($myPB.hasClass('ui-progressbar')) {\n",
        "            $myPB.progressbar('value', 55);\n",
        "        } else {\n",
        "            $myPB.progressbar({value: 0, max: 100});\n",
        "        }\n",
        "        "
       ],
       "metadata": {},
       "output_type": "display_data",
       "text": [
        "<IPython.core.display.Javascript at 0x11b359b90>"
       ]
      },
      {
       "javascript": [
        "$('div#93899c4c-8f15-4b29-9645-b071b406820e').text('ETA:  0:02:16');"
       ],
       "metadata": {},
       "output_type": "display_data",
       "text": [
        "<IPython.core.display.Javascript at 0x11b359f90>"
       ]
      },
      {
       "javascript": [
        "$('div#62e93c0f-a331-4e8e-a4ce-e3685364a884').text(' 55%');"
       ],
       "metadata": {},
       "output_type": "display_data",
       "text": [
        "<IPython.core.display.Javascript at 0x11b359cd0>"
       ]
      },
      {
       "javascript": [
        "\n",
        "        var $myPB = $(\"div#05f0134a-baf9-4390-b18f-919e8acd0c78\")\n",
        "        if ($myPB.hasClass('ui-progressbar')) {\n",
        "            $myPB.progressbar('value', 55);\n",
        "        } else {\n",
        "            $myPB.progressbar({value: 0, max: 100});\n",
        "        }\n",
        "        "
       ],
       "metadata": {},
       "output_type": "display_data",
       "text": [
        "<IPython.core.display.Javascript at 0x11b359410>"
       ]
      },
      {
       "javascript": [
        "$('div#93899c4c-8f15-4b29-9645-b071b406820e').text('ETA:  0:02:17');"
       ],
       "metadata": {},
       "output_type": "display_data",
       "text": [
        "<IPython.core.display.Javascript at 0x11b359b50>"
       ]
      },
      {
       "javascript": [
        "$('div#62e93c0f-a331-4e8e-a4ce-e3685364a884').text(' 55%');"
       ],
       "metadata": {},
       "output_type": "display_data",
       "text": [
        "<IPython.core.display.Javascript at 0x11b359750>"
       ]
      },
      {
       "javascript": [
        "\n",
        "        var $myPB = $(\"div#05f0134a-baf9-4390-b18f-919e8acd0c78\")\n",
        "        if ($myPB.hasClass('ui-progressbar')) {\n",
        "            $myPB.progressbar('value', 55);\n",
        "        } else {\n",
        "            $myPB.progressbar({value: 0, max: 100});\n",
        "        }\n",
        "        "
       ],
       "metadata": {},
       "output_type": "display_data",
       "text": [
        "<IPython.core.display.Javascript at 0x11b359fd0>"
       ]
      },
      {
       "javascript": [
        "$('div#93899c4c-8f15-4b29-9645-b071b406820e').text('ETA:  0:02:18');"
       ],
       "metadata": {},
       "output_type": "display_data",
       "text": [
        "<IPython.core.display.Javascript at 0x11b3597d0>"
       ]
      },
      {
       "javascript": [
        "$('div#62e93c0f-a331-4e8e-a4ce-e3685364a884').text(' 55%');"
       ],
       "metadata": {},
       "output_type": "display_data",
       "text": [
        "<IPython.core.display.Javascript at 0x11b359590>"
       ]
      },
      {
       "javascript": [
        "\n",
        "        var $myPB = $(\"div#05f0134a-baf9-4390-b18f-919e8acd0c78\")\n",
        "        if ($myPB.hasClass('ui-progressbar')) {\n",
        "            $myPB.progressbar('value', 55);\n",
        "        } else {\n",
        "            $myPB.progressbar({value: 0, max: 100});\n",
        "        }\n",
        "        "
       ],
       "metadata": {},
       "output_type": "display_data",
       "text": [
        "<IPython.core.display.Javascript at 0x11b359e90>"
       ]
      },
      {
       "javascript": [
        "$('div#93899c4c-8f15-4b29-9645-b071b406820e').text('ETA:  0:02:19');"
       ],
       "metadata": {},
       "output_type": "display_data",
       "text": [
        "<IPython.core.display.Javascript at 0x11b359c90>"
       ]
      },
      {
       "javascript": [
        "$('div#62e93c0f-a331-4e8e-a4ce-e3685364a884').text(' 55%');"
       ],
       "metadata": {},
       "output_type": "display_data",
       "text": [
        "<IPython.core.display.Javascript at 0x11b359c50>"
       ]
      },
      {
       "javascript": [
        "\n",
        "        var $myPB = $(\"div#05f0134a-baf9-4390-b18f-919e8acd0c78\")\n",
        "        if ($myPB.hasClass('ui-progressbar')) {\n",
        "            $myPB.progressbar('value', 55);\n",
        "        } else {\n",
        "            $myPB.progressbar({value: 0, max: 100});\n",
        "        }\n",
        "        "
       ],
       "metadata": {},
       "output_type": "display_data",
       "text": [
        "<IPython.core.display.Javascript at 0x11b359190>"
       ]
      },
      {
       "javascript": [
        "$('div#93899c4c-8f15-4b29-9645-b071b406820e').text('ETA:  0:02:20');"
       ],
       "metadata": {},
       "output_type": "display_data",
       "text": [
        "<IPython.core.display.Javascript at 0x11b359790>"
       ]
      },
      {
       "javascript": [
        "$('div#62e93c0f-a331-4e8e-a4ce-e3685364a884').text(' 55%');"
       ],
       "metadata": {},
       "output_type": "display_data",
       "text": [
        "<IPython.core.display.Javascript at 0x11b359650>"
       ]
      },
      {
       "javascript": [
        "\n",
        "        var $myPB = $(\"div#05f0134a-baf9-4390-b18f-919e8acd0c78\")\n",
        "        if ($myPB.hasClass('ui-progressbar')) {\n",
        "            $myPB.progressbar('value', 55);\n",
        "        } else {\n",
        "            $myPB.progressbar({value: 0, max: 100});\n",
        "        }\n",
        "        "
       ],
       "metadata": {},
       "output_type": "display_data",
       "text": [
        "<IPython.core.display.Javascript at 0x11b359f10>"
       ]
      },
      {
       "javascript": [
        "$('div#93899c4c-8f15-4b29-9645-b071b406820e').text('ETA:  0:02:21');"
       ],
       "metadata": {},
       "output_type": "display_data",
       "text": [
        "<IPython.core.display.Javascript at 0x11b359f50>"
       ]
      },
      {
       "javascript": [
        "$('div#62e93c0f-a331-4e8e-a4ce-e3685364a884').text(' 55%');"
       ],
       "metadata": {},
       "output_type": "display_data",
       "text": [
        "<IPython.core.display.Javascript at 0x11b359310>"
       ]
      },
      {
       "javascript": [
        "\n",
        "        var $myPB = $(\"div#05f0134a-baf9-4390-b18f-919e8acd0c78\")\n",
        "        if ($myPB.hasClass('ui-progressbar')) {\n",
        "            $myPB.progressbar('value', 55);\n",
        "        } else {\n",
        "            $myPB.progressbar({value: 0, max: 100});\n",
        "        }\n",
        "        "
       ],
       "metadata": {},
       "output_type": "display_data",
       "text": [
        "<IPython.core.display.Javascript at 0x11b3596d0>"
       ]
      },
      {
       "javascript": [
        "$('div#93899c4c-8f15-4b29-9645-b071b406820e').text('ETA:  0:02:21');"
       ],
       "metadata": {},
       "output_type": "display_data",
       "text": [
        "<IPython.core.display.Javascript at 0x11b359d90>"
       ]
      },
      {
       "javascript": [
        "$('div#62e93c0f-a331-4e8e-a4ce-e3685364a884').text(' 55%');"
       ],
       "metadata": {},
       "output_type": "display_data",
       "text": [
        "<IPython.core.display.Javascript at 0x11b359610>"
       ]
      },
      {
       "javascript": [
        "\n",
        "        var $myPB = $(\"div#05f0134a-baf9-4390-b18f-919e8acd0c78\")\n",
        "        if ($myPB.hasClass('ui-progressbar')) {\n",
        "            $myPB.progressbar('value', 55);\n",
        "        } else {\n",
        "            $myPB.progressbar({value: 0, max: 100});\n",
        "        }\n",
        "        "
       ],
       "metadata": {},
       "output_type": "display_data",
       "text": [
        "<IPython.core.display.Javascript at 0x11b3593d0>"
       ]
      },
      {
       "javascript": [
        "$('div#93899c4c-8f15-4b29-9645-b071b406820e').text('ETA:  0:02:22');"
       ],
       "metadata": {},
       "output_type": "display_data",
       "text": [
        "<IPython.core.display.Javascript at 0x11b359d10>"
       ]
      },
      {
       "javascript": [
        "$('div#62e93c0f-a331-4e8e-a4ce-e3685364a884').text(' 55%');"
       ],
       "metadata": {},
       "output_type": "display_data",
       "text": [
        "<IPython.core.display.Javascript at 0x11b359150>"
       ]
      },
      {
       "javascript": [
        "\n",
        "        var $myPB = $(\"div#05f0134a-baf9-4390-b18f-919e8acd0c78\")\n",
        "        if ($myPB.hasClass('ui-progressbar')) {\n",
        "            $myPB.progressbar('value', 55);\n",
        "        } else {\n",
        "            $myPB.progressbar({value: 0, max: 100});\n",
        "        }\n",
        "        "
       ],
       "metadata": {},
       "output_type": "display_data",
       "text": [
        "<IPython.core.display.Javascript at 0x11b359510>"
       ]
      },
      {
       "javascript": [
        "$('div#93899c4c-8f15-4b29-9645-b071b406820e').text('ETA:  0:02:23');"
       ],
       "metadata": {},
       "output_type": "display_data",
       "text": [
        "<IPython.core.display.Javascript at 0x11b359990>"
       ]
      },
      {
       "javascript": [
        "$('div#62e93c0f-a331-4e8e-a4ce-e3685364a884').text(' 55%');"
       ],
       "metadata": {},
       "output_type": "display_data",
       "text": [
        "<IPython.core.display.Javascript at 0x11b3594d0>"
       ]
      },
      {
       "javascript": [
        "\n",
        "        var $myPB = $(\"div#05f0134a-baf9-4390-b18f-919e8acd0c78\")\n",
        "        if ($myPB.hasClass('ui-progressbar')) {\n",
        "            $myPB.progressbar('value', 55);\n",
        "        } else {\n",
        "            $myPB.progressbar({value: 0, max: 100});\n",
        "        }\n",
        "        "
       ],
       "metadata": {},
       "output_type": "display_data",
       "text": [
        "<IPython.core.display.Javascript at 0x11b359250>"
       ]
      },
      {
       "javascript": [
        "$('div#93899c4c-8f15-4b29-9645-b071b406820e').text('ETA:  0:02:24');"
       ],
       "metadata": {},
       "output_type": "display_data",
       "text": [
        "<IPython.core.display.Javascript at 0x11b359350>"
       ]
      },
      {
       "javascript": [
        "$('div#62e93c0f-a331-4e8e-a4ce-e3685364a884').text(' 55%');"
       ],
       "metadata": {},
       "output_type": "display_data",
       "text": [
        "<IPython.core.display.Javascript at 0x11b359850>"
       ]
      },
      {
       "javascript": [
        "\n",
        "        var $myPB = $(\"div#05f0134a-baf9-4390-b18f-919e8acd0c78\")\n",
        "        if ($myPB.hasClass('ui-progressbar')) {\n",
        "            $myPB.progressbar('value', 55);\n",
        "        } else {\n",
        "            $myPB.progressbar({value: 0, max: 100});\n",
        "        }\n",
        "        "
       ],
       "metadata": {},
       "output_type": "display_data",
       "text": [
        "<IPython.core.display.Javascript at 0x11b359950>"
       ]
      },
      {
       "javascript": [
        "$('div#93899c4c-8f15-4b29-9645-b071b406820e').text('ETA:  0:02:25');"
       ],
       "metadata": {},
       "output_type": "display_data",
       "text": [
        "<IPython.core.display.Javascript at 0x11b359090>"
       ]
      },
      {
       "javascript": [
        "$('div#62e93c0f-a331-4e8e-a4ce-e3685364a884').text(' 55%');"
       ],
       "metadata": {},
       "output_type": "display_data",
       "text": [
        "<IPython.core.display.Javascript at 0x11b359e50>"
       ]
      },
      {
       "javascript": [
        "\n",
        "        var $myPB = $(\"div#05f0134a-baf9-4390-b18f-919e8acd0c78\")\n",
        "        if ($myPB.hasClass('ui-progressbar')) {\n",
        "            $myPB.progressbar('value', 55);\n",
        "        } else {\n",
        "            $myPB.progressbar({value: 0, max: 100});\n",
        "        }\n",
        "        "
       ],
       "metadata": {},
       "output_type": "display_data",
       "text": [
        "<IPython.core.display.Javascript at 0x11b359c10>"
       ]
      },
      {
       "javascript": [
        "$('div#93899c4c-8f15-4b29-9645-b071b406820e').text('ETA:  0:02:26');"
       ],
       "metadata": {},
       "output_type": "display_data",
       "text": [
        "<IPython.core.display.Javascript at 0x11b3598d0>"
       ]
      },
      {
       "javascript": [
        "$('div#62e93c0f-a331-4e8e-a4ce-e3685364a884').text(' 55%');"
       ],
       "metadata": {},
       "output_type": "display_data",
       "text": [
        "<IPython.core.display.Javascript at 0x11b359090>"
       ]
      },
      {
       "javascript": [
        "\n",
        "        var $myPB = $(\"div#05f0134a-baf9-4390-b18f-919e8acd0c78\")\n",
        "        if ($myPB.hasClass('ui-progressbar')) {\n",
        "            $myPB.progressbar('value', 55);\n",
        "        } else {\n",
        "            $myPB.progressbar({value: 0, max: 100});\n",
        "        }\n",
        "        "
       ],
       "metadata": {},
       "output_type": "display_data",
       "text": [
        "<IPython.core.display.Javascript at 0x11b359950>"
       ]
      },
      {
       "javascript": [
        "$('div#93899c4c-8f15-4b29-9645-b071b406820e').text('ETA:  0:02:26');"
       ],
       "metadata": {},
       "output_type": "display_data",
       "text": [
        "<IPython.core.display.Javascript at 0x11b359e50>"
       ]
      },
      {
       "javascript": [
        "$('div#62e93c0f-a331-4e8e-a4ce-e3685364a884').text(' 55%');"
       ],
       "metadata": {},
       "output_type": "display_data",
       "text": [
        "<IPython.core.display.Javascript at 0x11b359190>"
       ]
      },
      {
       "javascript": [
        "\n",
        "        var $myPB = $(\"div#05f0134a-baf9-4390-b18f-919e8acd0c78\")\n",
        "        if ($myPB.hasClass('ui-progressbar')) {\n",
        "            $myPB.progressbar('value', 55);\n",
        "        } else {\n",
        "            $myPB.progressbar({value: 0, max: 100});\n",
        "        }\n",
        "        "
       ],
       "metadata": {},
       "output_type": "display_data",
       "text": [
        "<IPython.core.display.Javascript at 0x11b359750>"
       ]
      },
      {
       "javascript": [
        "$('div#93899c4c-8f15-4b29-9645-b071b406820e').text('ETA:  0:02:27');"
       ],
       "metadata": {},
       "output_type": "display_data",
       "text": [
        "<IPython.core.display.Javascript at 0x11b359fd0>"
       ]
      },
      {
       "javascript": [
        "$('div#62e93c0f-a331-4e8e-a4ce-e3685364a884').text(' 55%');"
       ],
       "metadata": {},
       "output_type": "display_data",
       "text": [
        "<IPython.core.display.Javascript at 0x11b3594d0>"
       ]
      },
      {
       "javascript": [
        "\n",
        "        var $myPB = $(\"div#05f0134a-baf9-4390-b18f-919e8acd0c78\")\n",
        "        if ($myPB.hasClass('ui-progressbar')) {\n",
        "            $myPB.progressbar('value', 55);\n",
        "        } else {\n",
        "            $myPB.progressbar({value: 0, max: 100});\n",
        "        }\n",
        "        "
       ],
       "metadata": {},
       "output_type": "display_data",
       "text": [
        "<IPython.core.display.Javascript at 0x11b359790>"
       ]
      },
      {
       "javascript": [
        "$('div#93899c4c-8f15-4b29-9645-b071b406820e').text('ETA:  0:02:28');"
       ],
       "metadata": {},
       "output_type": "display_data",
       "text": [
        "<IPython.core.display.Javascript at 0x11b359f90>"
       ]
      },
      {
       "javascript": [
        "$('div#62e93c0f-a331-4e8e-a4ce-e3685364a884').text(' 55%');"
       ],
       "metadata": {},
       "output_type": "display_data",
       "text": [
        "<IPython.core.display.Javascript at 0x11b359310>"
       ]
      },
      {
       "javascript": [
        "\n",
        "        var $myPB = $(\"div#05f0134a-baf9-4390-b18f-919e8acd0c78\")\n",
        "        if ($myPB.hasClass('ui-progressbar')) {\n",
        "            $myPB.progressbar('value', 55);\n",
        "        } else {\n",
        "            $myPB.progressbar({value: 0, max: 100});\n",
        "        }\n",
        "        "
       ],
       "metadata": {},
       "output_type": "display_data",
       "text": [
        "<IPython.core.display.Javascript at 0x11b359250>"
       ]
      },
      {
       "javascript": [
        "$('div#93899c4c-8f15-4b29-9645-b071b406820e').text('ETA:  0:02:29');"
       ],
       "metadata": {},
       "output_type": "display_data",
       "text": [
        "<IPython.core.display.Javascript at 0x11b359490>"
       ]
      },
      {
       "javascript": [
        "$('div#62e93c0f-a331-4e8e-a4ce-e3685364a884').text(' 55%');"
       ],
       "metadata": {},
       "output_type": "display_data",
       "text": [
        "<IPython.core.display.Javascript at 0x11b359cd0>"
       ]
      },
      {
       "javascript": [
        "\n",
        "        var $myPB = $(\"div#05f0134a-baf9-4390-b18f-919e8acd0c78\")\n",
        "        if ($myPB.hasClass('ui-progressbar')) {\n",
        "            $myPB.progressbar('value', 55);\n",
        "        } else {\n",
        "            $myPB.progressbar({value: 0, max: 100});\n",
        "        }\n",
        "        "
       ],
       "metadata": {},
       "output_type": "display_data",
       "text": [
        "<IPython.core.display.Javascript at 0x11b3596d0>"
       ]
      },
      {
       "javascript": [
        "$('div#93899c4c-8f15-4b29-9645-b071b406820e').text('ETA:  0:02:30');"
       ],
       "metadata": {},
       "output_type": "display_data",
       "text": [
        "<IPython.core.display.Javascript at 0x11b359390>"
       ]
      },
      {
       "javascript": [
        "$('div#62e93c0f-a331-4e8e-a4ce-e3685364a884').text(' 55%');"
       ],
       "metadata": {},
       "output_type": "display_data",
       "text": [
        "<IPython.core.display.Javascript at 0x11b359810>"
       ]
      },
      {
       "javascript": [
        "\n",
        "        var $myPB = $(\"div#05f0134a-baf9-4390-b18f-919e8acd0c78\")\n",
        "        if ($myPB.hasClass('ui-progressbar')) {\n",
        "            $myPB.progressbar('value', 55);\n",
        "        } else {\n",
        "            $myPB.progressbar({value: 0, max: 100});\n",
        "        }\n",
        "        "
       ],
       "metadata": {},
       "output_type": "display_data",
       "text": [
        "<IPython.core.display.Javascript at 0x11b359f50>"
       ]
      },
      {
       "javascript": [
        "$('div#93899c4c-8f15-4b29-9645-b071b406820e').text('ETA:  0:02:31');"
       ],
       "metadata": {},
       "output_type": "display_data",
       "text": [
        "<IPython.core.display.Javascript at 0x11b359690>"
       ]
      },
      {
       "javascript": [
        "$('div#62e93c0f-a331-4e8e-a4ce-e3685364a884').text(' 55%');"
       ],
       "metadata": {},
       "output_type": "display_data",
       "text": [
        "<IPython.core.display.Javascript at 0x11b359910>"
       ]
      },
      {
       "javascript": [
        "\n",
        "        var $myPB = $(\"div#05f0134a-baf9-4390-b18f-919e8acd0c78\")\n",
        "        if ($myPB.hasClass('ui-progressbar')) {\n",
        "            $myPB.progressbar('value', 55);\n",
        "        } else {\n",
        "            $myPB.progressbar({value: 0, max: 100});\n",
        "        }\n",
        "        "
       ],
       "metadata": {},
       "output_type": "display_data",
       "text": [
        "<IPython.core.display.Javascript at 0x11b359e90>"
       ]
      },
      {
       "javascript": [
        "$('div#93899c4c-8f15-4b29-9645-b071b406820e').text('ETA:  0:02:31');"
       ],
       "metadata": {},
       "output_type": "display_data",
       "text": [
        "<IPython.core.display.Javascript at 0x11b359a90>"
       ]
      },
      {
       "javascript": [
        "$('div#62e93c0f-a331-4e8e-a4ce-e3685364a884').text(' 55%');"
       ],
       "metadata": {},
       "output_type": "display_data",
       "text": [
        "<IPython.core.display.Javascript at 0x11b359890>"
       ]
      },
      {
       "javascript": [
        "\n",
        "        var $myPB = $(\"div#05f0134a-baf9-4390-b18f-919e8acd0c78\")\n",
        "        if ($myPB.hasClass('ui-progressbar')) {\n",
        "            $myPB.progressbar('value', 55);\n",
        "        } else {\n",
        "            $myPB.progressbar({value: 0, max: 100});\n",
        "        }\n",
        "        "
       ],
       "metadata": {},
       "output_type": "display_data",
       "text": [
        "<IPython.core.display.Javascript at 0x11b359850>"
       ]
      },
      {
       "javascript": [
        "$('div#93899c4c-8f15-4b29-9645-b071b406820e').text('ETA:  0:02:32');"
       ],
       "metadata": {},
       "output_type": "display_data",
       "text": [
        "<IPython.core.display.Javascript at 0x11b359b10>"
       ]
      },
      {
       "javascript": [
        "$('div#62e93c0f-a331-4e8e-a4ce-e3685364a884').text(' 55%');"
       ],
       "metadata": {},
       "output_type": "display_data",
       "text": [
        "<IPython.core.display.Javascript at 0x11b3592d0>"
       ]
      },
      {
       "javascript": [
        "\n",
        "        var $myPB = $(\"div#05f0134a-baf9-4390-b18f-919e8acd0c78\")\n",
        "        if ($myPB.hasClass('ui-progressbar')) {\n",
        "            $myPB.progressbar('value', 55);\n",
        "        } else {\n",
        "            $myPB.progressbar({value: 0, max: 100});\n",
        "        }\n",
        "        "
       ],
       "metadata": {},
       "output_type": "display_data",
       "text": [
        "<IPython.core.display.Javascript at 0x11b359b50>"
       ]
      },
      {
       "javascript": [
        "$('div#93899c4c-8f15-4b29-9645-b071b406820e').text('ETA:  0:02:33');"
       ],
       "metadata": {},
       "output_type": "display_data",
       "text": [
        "<IPython.core.display.Javascript at 0x11b359050>"
       ]
      },
      {
       "javascript": [
        "$('div#62e93c0f-a331-4e8e-a4ce-e3685364a884').text(' 55%');"
       ],
       "metadata": {},
       "output_type": "display_data",
       "text": [
        "<IPython.core.display.Javascript at 0x1076e7990>"
       ]
      },
      {
       "javascript": [
        "\n",
        "        var $myPB = $(\"div#05f0134a-baf9-4390-b18f-919e8acd0c78\")\n",
        "        if ($myPB.hasClass('ui-progressbar')) {\n",
        "            $myPB.progressbar('value', 55);\n",
        "        } else {\n",
        "            $myPB.progressbar({value: 0, max: 100});\n",
        "        }\n",
        "        "
       ],
       "metadata": {},
       "output_type": "display_data",
       "text": [
        "<IPython.core.display.Javascript at 0x1076e7190>"
       ]
      },
      {
       "javascript": [
        "$('div#93899c4c-8f15-4b29-9645-b071b406820e').text('ETA:  0:02:34');"
       ],
       "metadata": {},
       "output_type": "display_data",
       "text": [
        "<IPython.core.display.Javascript at 0x11e011610>"
       ]
      },
      {
       "javascript": [
        "$('div#62e93c0f-a331-4e8e-a4ce-e3685364a884').text(' 55%');"
       ],
       "metadata": {},
       "output_type": "display_data",
       "text": [
        "<IPython.core.display.Javascript at 0x11b359bd0>"
       ]
      },
      {
       "javascript": [
        "\n",
        "        var $myPB = $(\"div#05f0134a-baf9-4390-b18f-919e8acd0c78\")\n",
        "        if ($myPB.hasClass('ui-progressbar')) {\n",
        "            $myPB.progressbar('value', 55);\n",
        "        } else {\n",
        "            $myPB.progressbar({value: 0, max: 100});\n",
        "        }\n",
        "        "
       ],
       "metadata": {},
       "output_type": "display_data",
       "text": [
        "<IPython.core.display.Javascript at 0x11b359ed0>"
       ]
      },
      {
       "javascript": [
        "$('div#93899c4c-8f15-4b29-9645-b071b406820e').text('ETA:  0:02:35');"
       ],
       "metadata": {},
       "output_type": "display_data",
       "text": [
        "<IPython.core.display.Javascript at 0x11b359c90>"
       ]
      },
      {
       "javascript": [
        "$('div#62e93c0f-a331-4e8e-a4ce-e3685364a884').text(' 55%');"
       ],
       "metadata": {},
       "output_type": "display_data",
       "text": [
        "<IPython.core.display.Javascript at 0x11b359ad0>"
       ]
      },
      {
       "javascript": [
        "\n",
        "        var $myPB = $(\"div#05f0134a-baf9-4390-b18f-919e8acd0c78\")\n",
        "        if ($myPB.hasClass('ui-progressbar')) {\n",
        "            $myPB.progressbar('value', 55);\n",
        "        } else {\n",
        "            $myPB.progressbar({value: 0, max: 100});\n",
        "        }\n",
        "        "
       ],
       "metadata": {},
       "output_type": "display_data",
       "text": [
        "<IPython.core.display.Javascript at 0x11b359450>"
       ]
      },
      {
       "javascript": [
        "$('div#93899c4c-8f15-4b29-9645-b071b406820e').text('ETA:  0:02:36');"
       ],
       "metadata": {},
       "output_type": "display_data",
       "text": [
        "<IPython.core.display.Javascript at 0x11b359210>"
       ]
      },
      {
       "javascript": [
        "$('div#62e93c0f-a331-4e8e-a4ce-e3685364a884').text(' 56%');"
       ],
       "metadata": {},
       "output_type": "display_data",
       "text": [
        "<IPython.core.display.Javascript at 0x11b359d10>"
       ]
      },
      {
       "javascript": [
        "\n",
        "        var $myPB = $(\"div#05f0134a-baf9-4390-b18f-919e8acd0c78\")\n",
        "        if ($myPB.hasClass('ui-progressbar')) {\n",
        "            $myPB.progressbar('value', 56);\n",
        "        } else {\n",
        "            $myPB.progressbar({value: 0, max: 100});\n",
        "        }\n",
        "        "
       ],
       "metadata": {},
       "output_type": "display_data",
       "text": [
        "<IPython.core.display.Javascript at 0x11b359c50>"
       ]
      },
      {
       "javascript": [
        "$('div#93899c4c-8f15-4b29-9645-b071b406820e').text('ETA:  0:02:30');"
       ],
       "metadata": {},
       "output_type": "display_data",
       "text": [
        "<IPython.core.display.Javascript at 0x11b359990>"
       ]
      },
      {
       "javascript": [
        "$('div#62e93c0f-a331-4e8e-a4ce-e3685364a884').text(' 56%');"
       ],
       "metadata": {},
       "output_type": "display_data",
       "text": [
        "<IPython.core.display.Javascript at 0x11b359c10>"
       ]
      },
      {
       "javascript": [
        "\n",
        "        var $myPB = $(\"div#05f0134a-baf9-4390-b18f-919e8acd0c78\")\n",
        "        if ($myPB.hasClass('ui-progressbar')) {\n",
        "            $myPB.progressbar('value', 56);\n",
        "        } else {\n",
        "            $myPB.progressbar({value: 0, max: 100});\n",
        "        }\n",
        "        "
       ],
       "metadata": {},
       "output_type": "display_data",
       "text": [
        "<IPython.core.display.Javascript at 0x11b359290>"
       ]
      },
      {
       "javascript": [
        "$('div#93899c4c-8f15-4b29-9645-b071b406820e').text('ETA:  0:02:31');"
       ],
       "metadata": {},
       "output_type": "display_data",
       "text": [
        "<IPython.core.display.Javascript at 0x11b3593d0>"
       ]
      },
      {
       "javascript": [
        "$('div#62e93c0f-a331-4e8e-a4ce-e3685364a884').text(' 56%');"
       ],
       "metadata": {},
       "output_type": "display_data",
       "text": [
        "<IPython.core.display.Javascript at 0x11b359650>"
       ]
      },
      {
       "javascript": [
        "\n",
        "        var $myPB = $(\"div#05f0134a-baf9-4390-b18f-919e8acd0c78\")\n",
        "        if ($myPB.hasClass('ui-progressbar')) {\n",
        "            $myPB.progressbar('value', 56);\n",
        "        } else {\n",
        "            $myPB.progressbar({value: 0, max: 100});\n",
        "        }\n",
        "        "
       ],
       "metadata": {},
       "output_type": "display_data",
       "text": [
        "<IPython.core.display.Javascript at 0x11b359d50>"
       ]
      },
      {
       "javascript": [
        "$('div#93899c4c-8f15-4b29-9645-b071b406820e').text('ETA:  0:02:32');"
       ],
       "metadata": {},
       "output_type": "display_data",
       "text": [
        "<IPython.core.display.Javascript at 0x11b359150>"
       ]
      },
      {
       "javascript": [
        "$('div#62e93c0f-a331-4e8e-a4ce-e3685364a884').text(' 56%');"
       ],
       "metadata": {},
       "output_type": "display_data",
       "text": [
        "<IPython.core.display.Javascript at 0x11b3597d0>"
       ]
      },
      {
       "javascript": [
        "\n",
        "        var $myPB = $(\"div#05f0134a-baf9-4390-b18f-919e8acd0c78\")\n",
        "        if ($myPB.hasClass('ui-progressbar')) {\n",
        "            $myPB.progressbar('value', 56);\n",
        "        } else {\n",
        "            $myPB.progressbar({value: 0, max: 100});\n",
        "        }\n",
        "        "
       ],
       "metadata": {},
       "output_type": "display_data",
       "text": [
        "<IPython.core.display.Javascript at 0x11b359510>"
       ]
      },
      {
       "javascript": [
        "$('div#93899c4c-8f15-4b29-9645-b071b406820e').text('ETA:  0:02:33');"
       ],
       "metadata": {},
       "output_type": "display_data",
       "text": [
        "<IPython.core.display.Javascript at 0x11b359350>"
       ]
      },
      {
       "javascript": [
        "$('div#62e93c0f-a331-4e8e-a4ce-e3685364a884').text(' 56%');"
       ],
       "metadata": {},
       "output_type": "display_data",
       "text": [
        "<IPython.core.display.Javascript at 0x11b3598d0>"
       ]
      },
      {
       "javascript": [
        "\n",
        "        var $myPB = $(\"div#05f0134a-baf9-4390-b18f-919e8acd0c78\")\n",
        "        if ($myPB.hasClass('ui-progressbar')) {\n",
        "            $myPB.progressbar('value', 56);\n",
        "        } else {\n",
        "            $myPB.progressbar({value: 0, max: 100});\n",
        "        }\n",
        "        "
       ],
       "metadata": {},
       "output_type": "display_data",
       "text": [
        "<IPython.core.display.Javascript at 0x11b3595d0>"
       ]
      },
      {
       "javascript": [
        "$('div#93899c4c-8f15-4b29-9645-b071b406820e').text('ETA:  0:02:33');"
       ],
       "metadata": {},
       "output_type": "display_data",
       "text": [
        "<IPython.core.display.Javascript at 0x11b359550>"
       ]
      },
      {
       "javascript": [
        "$('div#62e93c0f-a331-4e8e-a4ce-e3685364a884').text(' 56%');"
       ],
       "metadata": {},
       "output_type": "display_data",
       "text": [
        "<IPython.core.display.Javascript at 0x11b359f10>"
       ]
      },
      {
       "javascript": [
        "\n",
        "        var $myPB = $(\"div#05f0134a-baf9-4390-b18f-919e8acd0c78\")\n",
        "        if ($myPB.hasClass('ui-progressbar')) {\n",
        "            $myPB.progressbar('value', 56);\n",
        "        } else {\n",
        "            $myPB.progressbar({value: 0, max: 100});\n",
        "        }\n",
        "        "
       ],
       "metadata": {},
       "output_type": "display_data",
       "text": [
        "<IPython.core.display.Javascript at 0x11b3591d0>"
       ]
      },
      {
       "javascript": [
        "$('div#93899c4c-8f15-4b29-9645-b071b406820e').text('ETA:  0:02:34');"
       ],
       "metadata": {},
       "output_type": "display_data",
       "text": [
        "<IPython.core.display.Javascript at 0x11b359410>"
       ]
      },
      {
       "javascript": [
        "$('div#62e93c0f-a331-4e8e-a4ce-e3685364a884').text(' 56%');"
       ],
       "metadata": {},
       "output_type": "display_data",
       "text": [
        "<IPython.core.display.Javascript at 0x11b359610>"
       ]
      },
      {
       "javascript": [
        "\n",
        "        var $myPB = $(\"div#05f0134a-baf9-4390-b18f-919e8acd0c78\")\n",
        "        if ($myPB.hasClass('ui-progressbar')) {\n",
        "            $myPB.progressbar('value', 56);\n",
        "        } else {\n",
        "            $myPB.progressbar({value: 0, max: 100});\n",
        "        }\n",
        "        "
       ],
       "metadata": {},
       "output_type": "display_data",
       "text": [
        "<IPython.core.display.Javascript at 0x11b359a50>"
       ]
      },
      {
       "javascript": [
        "$('div#93899c4c-8f15-4b29-9645-b071b406820e').text('ETA:  0:02:35');"
       ],
       "metadata": {},
       "output_type": "display_data",
       "text": [
        "<IPython.core.display.Javascript at 0x11b359590>"
       ]
      },
      {
       "javascript": [
        "$('div#62e93c0f-a331-4e8e-a4ce-e3685364a884').text(' 56%');"
       ],
       "metadata": {},
       "output_type": "display_data",
       "text": [
        "<IPython.core.display.Javascript at 0x1076e7990>"
       ]
      },
      {
       "javascript": [
        "\n",
        "        var $myPB = $(\"div#05f0134a-baf9-4390-b18f-919e8acd0c78\")\n",
        "        if ($myPB.hasClass('ui-progressbar')) {\n",
        "            $myPB.progressbar('value', 56);\n",
        "        } else {\n",
        "            $myPB.progressbar({value: 0, max: 100});\n",
        "        }\n",
        "        "
       ],
       "metadata": {},
       "output_type": "display_data",
       "text": [
        "<IPython.core.display.Javascript at 0x1076e7190>"
       ]
      },
      {
       "javascript": [
        "$('div#93899c4c-8f15-4b29-9645-b071b406820e').text('ETA:  0:02:36');"
       ],
       "metadata": {},
       "output_type": "display_data",
       "text": [
        "<IPython.core.display.Javascript at 0x1076e75d0>"
       ]
      },
      {
       "javascript": [
        "$('div#62e93c0f-a331-4e8e-a4ce-e3685364a884').text(' 56%');"
       ],
       "metadata": {},
       "output_type": "display_data",
       "text": [
        "<IPython.core.display.Javascript at 0x11b359c50>"
       ]
      },
      {
       "javascript": [
        "\n",
        "        var $myPB = $(\"div#05f0134a-baf9-4390-b18f-919e8acd0c78\")\n",
        "        if ($myPB.hasClass('ui-progressbar')) {\n",
        "            $myPB.progressbar('value', 56);\n",
        "        } else {\n",
        "            $myPB.progressbar({value: 0, max: 100});\n",
        "        }\n",
        "        "
       ],
       "metadata": {},
       "output_type": "display_data",
       "text": [
        "<IPython.core.display.Javascript at 0x11b359bd0>"
       ]
      },
      {
       "javascript": [
        "$('div#93899c4c-8f15-4b29-9645-b071b406820e').text('ETA:  0:02:37');"
       ],
       "metadata": {},
       "output_type": "display_data",
       "text": [
        "<IPython.core.display.Javascript at 0x11b359ed0>"
       ]
      },
      {
       "javascript": [
        "$('div#62e93c0f-a331-4e8e-a4ce-e3685364a884').text(' 56%');"
       ],
       "metadata": {},
       "output_type": "display_data",
       "text": [
        "<IPython.core.display.Javascript at 0x11b359f10>"
       ]
      },
      {
       "javascript": [
        "\n",
        "        var $myPB = $(\"div#05f0134a-baf9-4390-b18f-919e8acd0c78\")\n",
        "        if ($myPB.hasClass('ui-progressbar')) {\n",
        "            $myPB.progressbar('value', 56);\n",
        "        } else {\n",
        "            $myPB.progressbar({value: 0, max: 100});\n",
        "        }\n",
        "        "
       ],
       "metadata": {},
       "output_type": "display_data",
       "text": [
        "<IPython.core.display.Javascript at 0x11b359990>"
       ]
      },
      {
       "javascript": [
        "$('div#93899c4c-8f15-4b29-9645-b071b406820e').text('ETA:  0:02:38');"
       ],
       "metadata": {},
       "output_type": "display_data",
       "text": [
        "<IPython.core.display.Javascript at 0x11b359b10>"
       ]
      },
      {
       "javascript": [
        "$('div#62e93c0f-a331-4e8e-a4ce-e3685364a884').text(' 56%');"
       ],
       "metadata": {},
       "output_type": "display_data",
       "text": [
        "<IPython.core.display.Javascript at 0x11b359650>"
       ]
      },
      {
       "javascript": [
        "\n",
        "        var $myPB = $(\"div#05f0134a-baf9-4390-b18f-919e8acd0c78\")\n",
        "        if ($myPB.hasClass('ui-progressbar')) {\n",
        "            $myPB.progressbar('value', 56);\n",
        "        } else {\n",
        "            $myPB.progressbar({value: 0, max: 100});\n",
        "        }\n",
        "        "
       ],
       "metadata": {},
       "output_type": "display_data",
       "text": [
        "<IPython.core.display.Javascript at 0x11b3591d0>"
       ]
      },
      {
       "javascript": [
        "$('div#93899c4c-8f15-4b29-9645-b071b406820e').text('ETA:  0:02:38');"
       ],
       "metadata": {},
       "output_type": "display_data",
       "text": [
        "<IPython.core.display.Javascript at 0x11b359a90>"
       ]
      },
      {
       "javascript": [
        "$('div#62e93c0f-a331-4e8e-a4ce-e3685364a884').text(' 56%');"
       ],
       "metadata": {},
       "output_type": "display_data",
       "text": [
        "<IPython.core.display.Javascript at 0x11b3592d0>"
       ]
      },
      {
       "javascript": [
        "\n",
        "        var $myPB = $(\"div#05f0134a-baf9-4390-b18f-919e8acd0c78\")\n",
        "        if ($myPB.hasClass('ui-progressbar')) {\n",
        "            $myPB.progressbar('value', 56);\n",
        "        } else {\n",
        "            $myPB.progressbar({value: 0, max: 100});\n",
        "        }\n",
        "        "
       ],
       "metadata": {},
       "output_type": "display_data",
       "text": [
        "<IPython.core.display.Javascript at 0x11b359d50>"
       ]
      },
      {
       "javascript": [
        "$('div#93899c4c-8f15-4b29-9645-b071b406820e').text('ETA:  0:02:39');"
       ],
       "metadata": {},
       "output_type": "display_data",
       "text": [
        "<IPython.core.display.Javascript at 0x11b359690>"
       ]
      },
      {
       "javascript": [
        "$('div#62e93c0f-a331-4e8e-a4ce-e3685364a884').text(' 56%');"
       ],
       "metadata": {},
       "output_type": "display_data",
       "text": [
        "<IPython.core.display.Javascript at 0x11b359890>"
       ]
      },
      {
       "javascript": [
        "\n",
        "        var $myPB = $(\"div#05f0134a-baf9-4390-b18f-919e8acd0c78\")\n",
        "        if ($myPB.hasClass('ui-progressbar')) {\n",
        "            $myPB.progressbar('value', 56);\n",
        "        } else {\n",
        "            $myPB.progressbar({value: 0, max: 100});\n",
        "        }\n",
        "        "
       ],
       "metadata": {},
       "output_type": "display_data",
       "text": [
        "<IPython.core.display.Javascript at 0x11b3593d0>"
       ]
      },
      {
       "javascript": [
        "$('div#93899c4c-8f15-4b29-9645-b071b406820e').text('ETA:  0:02:40');"
       ],
       "metadata": {},
       "output_type": "display_data",
       "text": [
        "<IPython.core.display.Javascript at 0x11b359390>"
       ]
      },
      {
       "javascript": [
        "$('div#62e93c0f-a331-4e8e-a4ce-e3685364a884').text(' 56%');"
       ],
       "metadata": {},
       "output_type": "display_data",
       "text": [
        "<IPython.core.display.Javascript at 0x11b359910>"
       ]
      },
      {
       "javascript": [
        "\n",
        "        var $myPB = $(\"div#05f0134a-baf9-4390-b18f-919e8acd0c78\")\n",
        "        if ($myPB.hasClass('ui-progressbar')) {\n",
        "            $myPB.progressbar('value', 56);\n",
        "        } else {\n",
        "            $myPB.progressbar({value: 0, max: 100});\n",
        "        }\n",
        "        "
       ],
       "metadata": {},
       "output_type": "display_data",
       "text": [
        "<IPython.core.display.Javascript at 0x11b359450>"
       ]
      },
      {
       "javascript": [
        "$('div#93899c4c-8f15-4b29-9645-b071b406820e').text('ETA:  0:02:41');"
       ],
       "metadata": {},
       "output_type": "display_data",
       "text": [
        "<IPython.core.display.Javascript at 0x11b359490>"
       ]
      },
      {
       "javascript": [
        "$('div#62e93c0f-a331-4e8e-a4ce-e3685364a884').text(' 56%');"
       ],
       "metadata": {},
       "output_type": "display_data",
       "text": [
        "<IPython.core.display.Javascript at 0x11b359810>"
       ]
      },
      {
       "javascript": [
        "\n",
        "        var $myPB = $(\"div#05f0134a-baf9-4390-b18f-919e8acd0c78\")\n",
        "        if ($myPB.hasClass('ui-progressbar')) {\n",
        "            $myPB.progressbar('value', 56);\n",
        "        } else {\n",
        "            $myPB.progressbar({value: 0, max: 100});\n",
        "        }\n",
        "        "
       ],
       "metadata": {},
       "output_type": "display_data",
       "text": [
        "<IPython.core.display.Javascript at 0x11b359610>"
       ]
      },
      {
       "javascript": [
        "$('div#93899c4c-8f15-4b29-9645-b071b406820e').text('ETA:  0:02:42');"
       ],
       "metadata": {},
       "output_type": "display_data",
       "text": [
        "<IPython.core.display.Javascript at 0x11b359f90>"
       ]
      },
      {
       "javascript": [
        "$('div#62e93c0f-a331-4e8e-a4ce-e3685364a884').text(' 57%');"
       ],
       "metadata": {},
       "output_type": "display_data",
       "text": [
        "<IPython.core.display.Javascript at 0x11b359cd0>"
       ]
      },
      {
       "javascript": [
        "\n",
        "        var $myPB = $(\"div#05f0134a-baf9-4390-b18f-919e8acd0c78\")\n",
        "        if ($myPB.hasClass('ui-progressbar')) {\n",
        "            $myPB.progressbar('value', 57);\n",
        "        } else {\n",
        "            $myPB.progressbar({value: 0, max: 100});\n",
        "        }\n",
        "        "
       ],
       "metadata": {},
       "output_type": "display_data",
       "text": [
        "<IPython.core.display.Javascript at 0x11b359050>"
       ]
      },
      {
       "javascript": [
        "$('div#93899c4c-8f15-4b29-9645-b071b406820e').text('ETA:  0:02:36');"
       ],
       "metadata": {},
       "output_type": "display_data",
       "text": [
        "<IPython.core.display.Javascript at 0x11b359fd0>"
       ]
      },
      {
       "javascript": [
        "$('div#62e93c0f-a331-4e8e-a4ce-e3685364a884').text(' 57%');"
       ],
       "metadata": {},
       "output_type": "display_data",
       "text": [
        "<IPython.core.display.Javascript at 0x11b359310>"
       ]
      },
      {
       "javascript": [
        "\n",
        "        var $myPB = $(\"div#05f0134a-baf9-4390-b18f-919e8acd0c78\")\n",
        "        if ($myPB.hasClass('ui-progressbar')) {\n",
        "            $myPB.progressbar('value', 57);\n",
        "        } else {\n",
        "            $myPB.progressbar({value: 0, max: 100});\n",
        "        }\n",
        "        "
       ],
       "metadata": {},
       "output_type": "display_data",
       "text": [
        "<IPython.core.display.Javascript at 0x11b359850>"
       ]
      },
      {
       "javascript": [
        "$('div#93899c4c-8f15-4b29-9645-b071b406820e').text('ETA:  0:02:37');"
       ],
       "metadata": {},
       "output_type": "display_data",
       "text": [
        "<IPython.core.display.Javascript at 0x11b359e50>"
       ]
      },
      {
       "javascript": [
        "$('div#62e93c0f-a331-4e8e-a4ce-e3685364a884').text(' 57%');"
       ],
       "metadata": {},
       "output_type": "display_data",
       "text": [
        "<IPython.core.display.Javascript at 0x11b3594d0>"
       ]
      },
      {
       "javascript": [
        "\n",
        "        var $myPB = $(\"div#05f0134a-baf9-4390-b18f-919e8acd0c78\")\n",
        "        if ($myPB.hasClass('ui-progressbar')) {\n",
        "            $myPB.progressbar('value', 57);\n",
        "        } else {\n",
        "            $myPB.progressbar({value: 0, max: 100});\n",
        "        }\n",
        "        "
       ],
       "metadata": {},
       "output_type": "display_data",
       "text": [
        "<IPython.core.display.Javascript at 0x11b359e90>"
       ]
      },
      {
       "javascript": [
        "$('div#93899c4c-8f15-4b29-9645-b071b406820e').text('ETA:  0:02:37');"
       ],
       "metadata": {},
       "output_type": "display_data",
       "text": [
        "<IPython.core.display.Javascript at 0x11b359210>"
       ]
      },
      {
       "javascript": [
        "$('div#62e93c0f-a331-4e8e-a4ce-e3685364a884').text(' 57%');"
       ],
       "metadata": {},
       "output_type": "display_data",
       "text": [
        "<IPython.core.display.Javascript at 0x11b359950>"
       ]
      },
      {
       "javascript": [
        "\n",
        "        var $myPB = $(\"div#05f0134a-baf9-4390-b18f-919e8acd0c78\")\n",
        "        if ($myPB.hasClass('ui-progressbar')) {\n",
        "            $myPB.progressbar('value', 57);\n",
        "        } else {\n",
        "            $myPB.progressbar({value: 0, max: 100});\n",
        "        }\n",
        "        "
       ],
       "metadata": {},
       "output_type": "display_data",
       "text": [
        "<IPython.core.display.Javascript at 0x11b359f50>"
       ]
      },
      {
       "javascript": [
        "$('div#93899c4c-8f15-4b29-9645-b071b406820e').text('ETA:  0:02:38');"
       ],
       "metadata": {},
       "output_type": "display_data",
       "text": [
        "<IPython.core.display.Javascript at 0x11b359110>"
       ]
      },
      {
       "javascript": [
        "$('div#62e93c0f-a331-4e8e-a4ce-e3685364a884').text(' 57%');"
       ],
       "metadata": {},
       "output_type": "display_data",
       "text": [
        "<IPython.core.display.Javascript at 0x11b359c10>"
       ]
      },
      {
       "javascript": [
        "\n",
        "        var $myPB = $(\"div#05f0134a-baf9-4390-b18f-919e8acd0c78\")\n",
        "        if ($myPB.hasClass('ui-progressbar')) {\n",
        "            $myPB.progressbar('value', 57);\n",
        "        } else {\n",
        "            $myPB.progressbar({value: 0, max: 100});\n",
        "        }\n",
        "        "
       ],
       "metadata": {},
       "output_type": "display_data",
       "text": [
        "<IPython.core.display.Javascript at 0x11b3596d0>"
       ]
      },
      {
       "javascript": [
        "$('div#93899c4c-8f15-4b29-9645-b071b406820e').text('ETA:  0:02:39');"
       ],
       "metadata": {},
       "output_type": "display_data",
       "text": [
        "<IPython.core.display.Javascript at 0x11b359550>"
       ]
      },
      {
       "javascript": [
        "$('div#62e93c0f-a331-4e8e-a4ce-e3685364a884').text(' 57%');"
       ],
       "metadata": {},
       "output_type": "display_data",
       "text": [
        "<IPython.core.display.Javascript at 0x11b3597d0>"
       ]
      },
      {
       "javascript": [
        "\n",
        "        var $myPB = $(\"div#05f0134a-baf9-4390-b18f-919e8acd0c78\")\n",
        "        if ($myPB.hasClass('ui-progressbar')) {\n",
        "            $myPB.progressbar('value', 57);\n",
        "        } else {\n",
        "            $myPB.progressbar({value: 0, max: 100});\n",
        "        }\n",
        "        "
       ],
       "metadata": {},
       "output_type": "display_data",
       "text": [
        "<IPython.core.display.Javascript at 0x11b359ad0>"
       ]
      },
      {
       "javascript": [
        "$('div#93899c4c-8f15-4b29-9645-b071b406820e').text('ETA:  0:02:40');"
       ],
       "metadata": {},
       "output_type": "display_data",
       "text": [
        "<IPython.core.display.Javascript at 0x11b359d90>"
       ]
      },
      {
       "javascript": [
        "$('div#62e93c0f-a331-4e8e-a4ce-e3685364a884').text(' 57%');"
       ],
       "metadata": {},
       "output_type": "display_data",
       "text": [
        "<IPython.core.display.Javascript at 0x11b359190>"
       ]
      },
      {
       "javascript": [
        "\n",
        "        var $myPB = $(\"div#05f0134a-baf9-4390-b18f-919e8acd0c78\")\n",
        "        if ($myPB.hasClass('ui-progressbar')) {\n",
        "            $myPB.progressbar('value', 57);\n",
        "        } else {\n",
        "            $myPB.progressbar({value: 0, max: 100});\n",
        "        }\n",
        "        "
       ],
       "metadata": {},
       "output_type": "display_data",
       "text": [
        "<IPython.core.display.Javascript at 0x11b359750>"
       ]
      },
      {
       "javascript": [
        "$('div#93899c4c-8f15-4b29-9645-b071b406820e').text('ETA:  0:02:40');"
       ],
       "metadata": {},
       "output_type": "display_data",
       "text": [
        "<IPython.core.display.Javascript at 0x11b359150>"
       ]
      },
      {
       "javascript": [
        "$('div#62e93c0f-a331-4e8e-a4ce-e3685364a884').text(' 57%');"
       ],
       "metadata": {},
       "output_type": "display_data",
       "text": [
        "<IPython.core.display.Javascript at 0x11b359590>"
       ]
      },
      {
       "javascript": [
        "\n",
        "        var $myPB = $(\"div#05f0134a-baf9-4390-b18f-919e8acd0c78\")\n",
        "        if ($myPB.hasClass('ui-progressbar')) {\n",
        "            $myPB.progressbar('value', 57);\n",
        "        } else {\n",
        "            $myPB.progressbar({value: 0, max: 100});\n",
        "        }\n",
        "        "
       ],
       "metadata": {},
       "output_type": "display_data",
       "text": [
        "<IPython.core.display.Javascript at 0x11b3595d0>"
       ]
      },
      {
       "javascript": [
        "$('div#93899c4c-8f15-4b29-9645-b071b406820e').text('ETA:  0:02:41');"
       ],
       "metadata": {},
       "output_type": "display_data",
       "text": [
        "<IPython.core.display.Javascript at 0x11b359c90>"
       ]
      },
      {
       "javascript": [
        "$('div#62e93c0f-a331-4e8e-a4ce-e3685364a884').text(' 58%');"
       ],
       "metadata": {},
       "output_type": "display_data",
       "text": [
        "<IPython.core.display.Javascript at 0x11b359a50>"
       ]
      },
      {
       "javascript": [
        "\n",
        "        var $myPB = $(\"div#05f0134a-baf9-4390-b18f-919e8acd0c78\")\n",
        "        if ($myPB.hasClass('ui-progressbar')) {\n",
        "            $myPB.progressbar('value', 58);\n",
        "        } else {\n",
        "            $myPB.progressbar({value: 0, max: 100});\n",
        "        }\n",
        "        "
       ],
       "metadata": {},
       "output_type": "display_data",
       "text": [
        "<IPython.core.display.Javascript at 0x11b359350>"
       ]
      },
      {
       "javascript": [
        "$('div#93899c4c-8f15-4b29-9645-b071b406820e').text('ETA:  0:02:35');"
       ],
       "metadata": {},
       "output_type": "display_data",
       "text": [
        "<IPython.core.display.Javascript at 0x11b359790>"
       ]
      },
      {
       "javascript": [
        "$('div#62e93c0f-a331-4e8e-a4ce-e3685364a884').text(' 58%');"
       ],
       "metadata": {},
       "output_type": "display_data",
       "text": [
        "<IPython.core.display.Javascript at 0x11b359510>"
       ]
      },
      {
       "javascript": [
        "\n",
        "        var $myPB = $(\"div#05f0134a-baf9-4390-b18f-919e8acd0c78\")\n",
        "        if ($myPB.hasClass('ui-progressbar')) {\n",
        "            $myPB.progressbar('value', 58);\n",
        "        } else {\n",
        "            $myPB.progressbar({value: 0, max: 100});\n",
        "        }\n",
        "        "
       ],
       "metadata": {},
       "output_type": "display_data",
       "text": [
        "<IPython.core.display.Javascript at 0x11b3598d0>"
       ]
      },
      {
       "javascript": [
        "$('div#93899c4c-8f15-4b29-9645-b071b406820e').text('ETA:  0:02:36');"
       ],
       "metadata": {},
       "output_type": "display_data",
       "text": [
        "<IPython.core.display.Javascript at 0x11b359b50>"
       ]
      },
      {
       "javascript": [
        "$('div#62e93c0f-a331-4e8e-a4ce-e3685364a884').text(' 58%');"
       ],
       "metadata": {},
       "output_type": "display_data",
       "text": [
        "<IPython.core.display.Javascript at 0x11b359250>"
       ]
      },
      {
       "javascript": [
        "\n",
        "        var $myPB = $(\"div#05f0134a-baf9-4390-b18f-919e8acd0c78\")\n",
        "        if ($myPB.hasClass('ui-progressbar')) {\n",
        "            $myPB.progressbar('value', 58);\n",
        "        } else {\n",
        "            $myPB.progressbar({value: 0, max: 100});\n",
        "        }\n",
        "        "
       ],
       "metadata": {},
       "output_type": "display_data",
       "text": [
        "<IPython.core.display.Javascript at 0x11b359290>"
       ]
      },
      {
       "javascript": [
        "$('div#93899c4c-8f15-4b29-9645-b071b406820e').text('ETA:  0:02:37');"
       ],
       "metadata": {},
       "output_type": "display_data",
       "text": [
        "<IPython.core.display.Javascript at 0x11b359410>"
       ]
      },
      {
       "javascript": [
        "$('div#62e93c0f-a331-4e8e-a4ce-e3685364a884').text(' 58%');"
       ],
       "metadata": {},
       "output_type": "display_data",
       "text": [
        "<IPython.core.display.Javascript at 0x11b359b50>"
       ]
      },
      {
       "javascript": [
        "\n",
        "        var $myPB = $(\"div#05f0134a-baf9-4390-b18f-919e8acd0c78\")\n",
        "        if ($myPB.hasClass('ui-progressbar')) {\n",
        "            $myPB.progressbar('value', 58);\n",
        "        } else {\n",
        "            $myPB.progressbar({value: 0, max: 100});\n",
        "        }\n",
        "        "
       ],
       "metadata": {},
       "output_type": "display_data",
       "text": [
        "<IPython.core.display.Javascript at 0x11b3598d0>"
       ]
      },
      {
       "javascript": [
        "$('div#93899c4c-8f15-4b29-9645-b071b406820e').text('ETA:  0:02:38');"
       ],
       "metadata": {},
       "output_type": "display_data",
       "text": [
        "<IPython.core.display.Javascript at 0x11b359250>"
       ]
      },
      {
       "javascript": [
        "$('div#62e93c0f-a331-4e8e-a4ce-e3685364a884').text(' 58%');"
       ],
       "metadata": {},
       "output_type": "display_data",
       "text": [
        "<IPython.core.display.Javascript at 0x11b359f50>"
       ]
      },
      {
       "javascript": [
        "\n",
        "        var $myPB = $(\"div#05f0134a-baf9-4390-b18f-919e8acd0c78\")\n",
        "        if ($myPB.hasClass('ui-progressbar')) {\n",
        "            $myPB.progressbar('value', 58);\n",
        "        } else {\n",
        "            $myPB.progressbar({value: 0, max: 100});\n",
        "        }\n",
        "        "
       ],
       "metadata": {},
       "output_type": "display_data",
       "text": [
        "<IPython.core.display.Javascript at 0x11b359310>"
       ]
      },
      {
       "javascript": [
        "$('div#93899c4c-8f15-4b29-9645-b071b406820e').text('ETA:  0:02:38');"
       ],
       "metadata": {},
       "output_type": "display_data",
       "text": [
        "<IPython.core.display.Javascript at 0x11b359850>"
       ]
      },
      {
       "javascript": [
        "$('div#62e93c0f-a331-4e8e-a4ce-e3685364a884').text(' 59%');"
       ],
       "metadata": {},
       "output_type": "display_data",
       "text": [
        "<IPython.core.display.Javascript at 0x11b359a50>"
       ]
      },
      {
       "javascript": [
        "\n",
        "        var $myPB = $(\"div#05f0134a-baf9-4390-b18f-919e8acd0c78\")\n",
        "        if ($myPB.hasClass('ui-progressbar')) {\n",
        "            $myPB.progressbar('value', 59);\n",
        "        } else {\n",
        "            $myPB.progressbar({value: 0, max: 100});\n",
        "        }\n",
        "        "
       ],
       "metadata": {},
       "output_type": "display_data",
       "text": [
        "<IPython.core.display.Javascript at 0x11b359110>"
       ]
      },
      {
       "javascript": [
        "$('div#93899c4c-8f15-4b29-9645-b071b406820e').text('ETA:  0:02:33');"
       ],
       "metadata": {},
       "output_type": "display_data",
       "text": [
        "<IPython.core.display.Javascript at 0x11b359f90>"
       ]
      },
      {
       "javascript": [
        "$('div#62e93c0f-a331-4e8e-a4ce-e3685364a884').text(' 60%');"
       ],
       "metadata": {},
       "output_type": "display_data",
       "text": [
        "<IPython.core.display.Javascript at 0x11b3597d0>"
       ]
      },
      {
       "javascript": [
        "\n",
        "        var $myPB = $(\"div#05f0134a-baf9-4390-b18f-919e8acd0c78\")\n",
        "        if ($myPB.hasClass('ui-progressbar')) {\n",
        "            $myPB.progressbar('value', 60);\n",
        "        } else {\n",
        "            $myPB.progressbar({value: 0, max: 100});\n",
        "        }\n",
        "        "
       ],
       "metadata": {},
       "output_type": "display_data",
       "text": [
        "<IPython.core.display.Javascript at 0x11b359350>"
       ]
      },
      {
       "javascript": [
        "$('div#93899c4c-8f15-4b29-9645-b071b406820e').text('ETA:  0:02:27');"
       ],
       "metadata": {},
       "output_type": "display_data",
       "text": [
        "<IPython.core.display.Javascript at 0x11b359490>"
       ]
      },
      {
       "javascript": [
        "$('div#62e93c0f-a331-4e8e-a4ce-e3685364a884').text(' 60%');"
       ],
       "metadata": {},
       "output_type": "display_data",
       "text": [
        "<IPython.core.display.Javascript at 0x11b359cd0>"
       ]
      },
      {
       "javascript": [
        "\n",
        "        var $myPB = $(\"div#05f0134a-baf9-4390-b18f-919e8acd0c78\")\n",
        "        if ($myPB.hasClass('ui-progressbar')) {\n",
        "            $myPB.progressbar('value', 60);\n",
        "        } else {\n",
        "            $myPB.progressbar({value: 0, max: 100});\n",
        "        }\n",
        "        "
       ],
       "metadata": {},
       "output_type": "display_data",
       "text": [
        "<IPython.core.display.Javascript at 0x11b359b90>"
       ]
      },
      {
       "javascript": [
        "$('div#93899c4c-8f15-4b29-9645-b071b406820e').text('ETA:  0:02:28');"
       ],
       "metadata": {},
       "output_type": "display_data",
       "text": [
        "<IPython.core.display.Javascript at 0x11b359390>"
       ]
      },
      {
       "javascript": [
        "$('div#62e93c0f-a331-4e8e-a4ce-e3685364a884').text(' 61%');"
       ],
       "metadata": {},
       "output_type": "display_data",
       "text": [
        "<IPython.core.display.Javascript at 0x11b359e50>"
       ]
      },
      {
       "javascript": [
        "\n",
        "        var $myPB = $(\"div#05f0134a-baf9-4390-b18f-919e8acd0c78\")\n",
        "        if ($myPB.hasClass('ui-progressbar')) {\n",
        "            $myPB.progressbar('value', 61);\n",
        "        } else {\n",
        "            $myPB.progressbar({value: 0, max: 100});\n",
        "        }\n",
        "        "
       ],
       "metadata": {},
       "output_type": "display_data",
       "text": [
        "<IPython.core.display.Javascript at 0x11b359690>"
       ]
      },
      {
       "javascript": [
        "$('div#93899c4c-8f15-4b29-9645-b071b406820e').text('ETA:  0:02:22');"
       ],
       "metadata": {},
       "output_type": "display_data",
       "text": [
        "<IPython.core.display.Javascript at 0x11b359550>"
       ]
      },
      {
       "javascript": [
        "$('div#62e93c0f-a331-4e8e-a4ce-e3685364a884').text(' 61%');"
       ],
       "metadata": {},
       "output_type": "display_data",
       "text": [
        "<IPython.core.display.Javascript at 0x11b359790>"
       ]
      },
      {
       "javascript": [
        "\n",
        "        var $myPB = $(\"div#05f0134a-baf9-4390-b18f-919e8acd0c78\")\n",
        "        if ($myPB.hasClass('ui-progressbar')) {\n",
        "            $myPB.progressbar('value', 61);\n",
        "        } else {\n",
        "            $myPB.progressbar({value: 0, max: 100});\n",
        "        }\n",
        "        "
       ],
       "metadata": {},
       "output_type": "display_data",
       "text": [
        "<IPython.core.display.Javascript at 0x11b359810>"
       ]
      },
      {
       "javascript": [
        "$('div#93899c4c-8f15-4b29-9645-b071b406820e').text('ETA:  0:02:23');"
       ],
       "metadata": {},
       "output_type": "display_data",
       "text": [
        "<IPython.core.display.Javascript at 0x11b359a90>"
       ]
      },
      {
       "javascript": [
        "$('div#62e93c0f-a331-4e8e-a4ce-e3685364a884').text(' 62%');"
       ],
       "metadata": {},
       "output_type": "display_data",
       "text": [
        "<IPython.core.display.Javascript at 0x11b359610>"
       ]
      },
      {
       "javascript": [
        "\n",
        "        var $myPB = $(\"div#05f0134a-baf9-4390-b18f-919e8acd0c78\")\n",
        "        if ($myPB.hasClass('ui-progressbar')) {\n",
        "            $myPB.progressbar('value', 62);\n",
        "        } else {\n",
        "            $myPB.progressbar({value: 0, max: 100});\n",
        "        }\n",
        "        "
       ],
       "metadata": {},
       "output_type": "display_data",
       "text": [
        "<IPython.core.display.Javascript at 0x11b359910>"
       ]
      },
      {
       "javascript": [
        "$('div#93899c4c-8f15-4b29-9645-b071b406820e').text('ETA:  0:02:18');"
       ],
       "metadata": {},
       "output_type": "display_data",
       "text": [
        "<IPython.core.display.Javascript at 0x11b359b10>"
       ]
      },
      {
       "javascript": [
        "$('div#62e93c0f-a331-4e8e-a4ce-e3685364a884').text(' 62%');"
       ],
       "metadata": {},
       "output_type": "display_data",
       "text": [
        "<IPython.core.display.Javascript at 0x11b3592d0>"
       ]
      },
      {
       "javascript": [
        "\n",
        "        var $myPB = $(\"div#05f0134a-baf9-4390-b18f-919e8acd0c78\")\n",
        "        if ($myPB.hasClass('ui-progressbar')) {\n",
        "            $myPB.progressbar('value', 62);\n",
        "        } else {\n",
        "            $myPB.progressbar({value: 0, max: 100});\n",
        "        }\n",
        "        "
       ],
       "metadata": {},
       "output_type": "display_data",
       "text": [
        "<IPython.core.display.Javascript at 0x11b359c10>"
       ]
      },
      {
       "javascript": [
        "$('div#93899c4c-8f15-4b29-9645-b071b406820e').text('ETA:  0:02:18');"
       ],
       "metadata": {},
       "output_type": "display_data",
       "text": [
        "<IPython.core.display.Javascript at 0x11b359ed0>"
       ]
      },
      {
       "javascript": [
        "$('div#62e93c0f-a331-4e8e-a4ce-e3685364a884').text(' 62%');"
       ],
       "metadata": {},
       "output_type": "display_data",
       "text": [
        "<IPython.core.display.Javascript at 0x1076e7990>"
       ]
      },
      {
       "javascript": [
        "\n",
        "        var $myPB = $(\"div#05f0134a-baf9-4390-b18f-919e8acd0c78\")\n",
        "        if ($myPB.hasClass('ui-progressbar')) {\n",
        "            $myPB.progressbar('value', 62);\n",
        "        } else {\n",
        "            $myPB.progressbar({value: 0, max: 100});\n",
        "        }\n",
        "        "
       ],
       "metadata": {},
       "output_type": "display_data",
       "text": [
        "<IPython.core.display.Javascript at 0x1076e75d0>"
       ]
      },
      {
       "javascript": [
        "$('div#93899c4c-8f15-4b29-9645-b071b406820e').text('ETA:  0:02:19');"
       ],
       "metadata": {},
       "output_type": "display_data",
       "text": [
        "<IPython.core.display.Javascript at 0x11e011610>"
       ]
      },
      {
       "javascript": [
        "$('div#62e93c0f-a331-4e8e-a4ce-e3685364a884').text(' 62%');"
       ],
       "metadata": {},
       "output_type": "display_data",
       "text": [
        "<IPython.core.display.Javascript at 0x11b359f10>"
       ]
      },
      {
       "javascript": [
        "\n",
        "        var $myPB = $(\"div#05f0134a-baf9-4390-b18f-919e8acd0c78\")\n",
        "        if ($myPB.hasClass('ui-progressbar')) {\n",
        "            $myPB.progressbar('value', 62);\n",
        "        } else {\n",
        "            $myPB.progressbar({value: 0, max: 100});\n",
        "        }\n",
        "        "
       ],
       "metadata": {},
       "output_type": "display_data",
       "text": [
        "<IPython.core.display.Javascript at 0x11b359090>"
       ]
      },
      {
       "javascript": [
        "$('div#93899c4c-8f15-4b29-9645-b071b406820e').text('ETA:  0:02:20');"
       ],
       "metadata": {},
       "output_type": "display_data",
       "text": [
        "<IPython.core.display.Javascript at 0x11b359890>"
       ]
      },
      {
       "javascript": [
        "$('div#62e93c0f-a331-4e8e-a4ce-e3685364a884').text(' 62%');"
       ],
       "metadata": {},
       "output_type": "display_data",
       "text": [
        "<IPython.core.display.Javascript at 0x11b3595d0>"
       ]
      },
      {
       "javascript": [
        "\n",
        "        var $myPB = $(\"div#05f0134a-baf9-4390-b18f-919e8acd0c78\")\n",
        "        if ($myPB.hasClass('ui-progressbar')) {\n",
        "            $myPB.progressbar('value', 62);\n",
        "        } else {\n",
        "            $myPB.progressbar({value: 0, max: 100});\n",
        "        }\n",
        "        "
       ],
       "metadata": {},
       "output_type": "display_data",
       "text": [
        "<IPython.core.display.Javascript at 0x11b359750>"
       ]
      },
      {
       "javascript": [
        "$('div#93899c4c-8f15-4b29-9645-b071b406820e').text('ETA:  0:02:20');"
       ],
       "metadata": {},
       "output_type": "display_data",
       "text": [
        "<IPython.core.display.Javascript at 0x11b359990>"
       ]
      },
      {
       "javascript": [
        "$('div#62e93c0f-a331-4e8e-a4ce-e3685364a884').text(' 62%');"
       ],
       "metadata": {},
       "output_type": "display_data",
       "text": [
        "<IPython.core.display.Javascript at 0x11b359450>"
       ]
      },
      {
       "javascript": [
        "\n",
        "        var $myPB = $(\"div#05f0134a-baf9-4390-b18f-919e8acd0c78\")\n",
        "        if ($myPB.hasClass('ui-progressbar')) {\n",
        "            $myPB.progressbar('value', 62);\n",
        "        } else {\n",
        "            $myPB.progressbar({value: 0, max: 100});\n",
        "        }\n",
        "        "
       ],
       "metadata": {},
       "output_type": "display_data",
       "text": [
        "<IPython.core.display.Javascript at 0x11b3594d0>"
       ]
      },
      {
       "javascript": [
        "$('div#93899c4c-8f15-4b29-9645-b071b406820e').text('ETA:  0:02:21');"
       ],
       "metadata": {},
       "output_type": "display_data",
       "text": [
        "<IPython.core.display.Javascript at 0x11b359950>"
       ]
      },
      {
       "javascript": [
        "$('div#62e93c0f-a331-4e8e-a4ce-e3685364a884').text(' 63%');"
       ],
       "metadata": {},
       "output_type": "display_data",
       "text": [
        "<IPython.core.display.Javascript at 0x11b359d50>"
       ]
      },
      {
       "javascript": [
        "\n",
        "        var $myPB = $(\"div#05f0134a-baf9-4390-b18f-919e8acd0c78\")\n",
        "        if ($myPB.hasClass('ui-progressbar')) {\n",
        "            $myPB.progressbar('value', 63);\n",
        "        } else {\n",
        "            $myPB.progressbar({value: 0, max: 100});\n",
        "        }\n",
        "        "
       ],
       "metadata": {},
       "output_type": "display_data",
       "text": [
        "<IPython.core.display.Javascript at 0x11b359290>"
       ]
      },
      {
       "javascript": [
        "$('div#93899c4c-8f15-4b29-9645-b071b406820e').text('ETA:  0:02:16');"
       ],
       "metadata": {},
       "output_type": "display_data",
       "text": [
        "<IPython.core.display.Javascript at 0x11b359510>"
       ]
      },
      {
       "javascript": [
        "$('div#62e93c0f-a331-4e8e-a4ce-e3685364a884').text(' 64%');"
       ],
       "metadata": {},
       "output_type": "display_data",
       "text": [
        "<IPython.core.display.Javascript at 0x11b359590>"
       ]
      },
      {
       "javascript": [
        "\n",
        "        var $myPB = $(\"div#05f0134a-baf9-4390-b18f-919e8acd0c78\")\n",
        "        if ($myPB.hasClass('ui-progressbar')) {\n",
        "            $myPB.progressbar('value', 64);\n",
        "        } else {\n",
        "            $myPB.progressbar({value: 0, max: 100});\n",
        "        }\n",
        "        "
       ],
       "metadata": {},
       "output_type": "display_data",
       "text": [
        "<IPython.core.display.Javascript at 0x11b359bd0>"
       ]
      },
      {
       "javascript": [
        "$('div#93899c4c-8f15-4b29-9645-b071b406820e').text('ETA:  0:02:10');"
       ],
       "metadata": {},
       "output_type": "display_data",
       "text": [
        "<IPython.core.display.Javascript at 0x11b359e90>"
       ]
      },
      {
       "javascript": [
        "$('div#62e93c0f-a331-4e8e-a4ce-e3685364a884').text(' 66%');"
       ],
       "metadata": {},
       "output_type": "display_data",
       "text": [
        "<IPython.core.display.Javascript at 0x11b359150>"
       ]
      },
      {
       "javascript": [
        "\n",
        "        var $myPB = $(\"div#05f0134a-baf9-4390-b18f-919e8acd0c78\")\n",
        "        if ($myPB.hasClass('ui-progressbar')) {\n",
        "            $myPB.progressbar('value', 66);\n",
        "        } else {\n",
        "            $myPB.progressbar({value: 0, max: 100});\n",
        "        }\n",
        "        "
       ],
       "metadata": {},
       "output_type": "display_data",
       "text": [
        "<IPython.core.display.Javascript at 0x11b359ad0>"
       ]
      },
      {
       "javascript": [
        "$('div#93899c4c-8f15-4b29-9645-b071b406820e').text('ETA:  0:02:00');"
       ],
       "metadata": {},
       "output_type": "display_data",
       "text": [
        "<IPython.core.display.Javascript at 0x11b359c90>"
       ]
      },
      {
       "javascript": [
        "$('div#62e93c0f-a331-4e8e-a4ce-e3685364a884').text(' 67%');"
       ],
       "metadata": {},
       "output_type": "display_data",
       "text": [
        "<IPython.core.display.Javascript at 0x11b3596d0>"
       ]
      },
      {
       "javascript": [
        "\n",
        "        var $myPB = $(\"div#05f0134a-baf9-4390-b18f-919e8acd0c78\")\n",
        "        if ($myPB.hasClass('ui-progressbar')) {\n",
        "            $myPB.progressbar('value', 67);\n",
        "        } else {\n",
        "            $myPB.progressbar({value: 0, max: 100});\n",
        "        }\n",
        "        "
       ],
       "metadata": {},
       "output_type": "display_data",
       "text": [
        "<IPython.core.display.Javascript at 0x11b359650>"
       ]
      },
      {
       "javascript": [
        "$('div#93899c4c-8f15-4b29-9645-b071b406820e').text('ETA:  0:01:55');"
       ],
       "metadata": {},
       "output_type": "display_data",
       "text": [
        "<IPython.core.display.Javascript at 0x11b3591d0>"
       ]
      },
      {
       "javascript": [
        "$('div#62e93c0f-a331-4e8e-a4ce-e3685364a884').text(' 67%');"
       ],
       "metadata": {},
       "output_type": "display_data",
       "text": [
        "<IPython.core.display.Javascript at 0x11b359d10>"
       ]
      },
      {
       "javascript": [
        "\n",
        "        var $myPB = $(\"div#05f0134a-baf9-4390-b18f-919e8acd0c78\")\n",
        "        if ($myPB.hasClass('ui-progressbar')) {\n",
        "            $myPB.progressbar('value', 67);\n",
        "        } else {\n",
        "            $myPB.progressbar({value: 0, max: 100});\n",
        "        }\n",
        "        "
       ],
       "metadata": {},
       "output_type": "display_data",
       "text": [
        "<IPython.core.display.Javascript at 0x11b359210>"
       ]
      },
      {
       "javascript": [
        "$('div#93899c4c-8f15-4b29-9645-b071b406820e').text('ETA:  0:01:56');"
       ],
       "metadata": {},
       "output_type": "display_data",
       "text": [
        "<IPython.core.display.Javascript at 0x11b359410>"
       ]
      },
      {
       "javascript": [
        "$('div#62e93c0f-a331-4e8e-a4ce-e3685364a884').text(' 69%');"
       ],
       "metadata": {},
       "output_type": "display_data",
       "text": [
        "<IPython.core.display.Javascript at 0x11b359d90>"
       ]
      },
      {
       "javascript": [
        "\n",
        "        var $myPB = $(\"div#05f0134a-baf9-4390-b18f-919e8acd0c78\")\n",
        "        if ($myPB.hasClass('ui-progressbar')) {\n",
        "            $myPB.progressbar('value', 69);\n",
        "        } else {\n",
        "            $myPB.progressbar({value: 0, max: 100});\n",
        "        }\n",
        "        "
       ],
       "metadata": {},
       "output_type": "display_data",
       "text": [
        "<IPython.core.display.Javascript at 0x11b359c50>"
       ]
      },
      {
       "javascript": [
        "$('div#93899c4c-8f15-4b29-9645-b071b406820e').text('ETA:  0:01:46');"
       ],
       "metadata": {},
       "output_type": "display_data",
       "text": [
        "<IPython.core.display.Javascript at 0x11b359050>"
       ]
      },
      {
       "javascript": [
        "$('div#62e93c0f-a331-4e8e-a4ce-e3685364a884').text(' 69%');"
       ],
       "metadata": {},
       "output_type": "display_data",
       "text": [
        "<IPython.core.display.Javascript at 0x1076e7990>"
       ]
      },
      {
       "javascript": [
        "\n",
        "        var $myPB = $(\"div#05f0134a-baf9-4390-b18f-919e8acd0c78\")\n",
        "        if ($myPB.hasClass('ui-progressbar')) {\n",
        "            $myPB.progressbar('value', 69);\n",
        "        } else {\n",
        "            $myPB.progressbar({value: 0, max: 100});\n",
        "        }\n",
        "        "
       ],
       "metadata": {},
       "output_type": "display_data",
       "text": [
        "<IPython.core.display.Javascript at 0x1076e75d0>"
       ]
      },
      {
       "javascript": [
        "$('div#93899c4c-8f15-4b29-9645-b071b406820e').text('ETA:  0:01:46');"
       ],
       "metadata": {},
       "output_type": "display_data",
       "text": [
        "<IPython.core.display.Javascript at 0x1076e7190>"
       ]
      },
      {
       "javascript": [
        "$('div#62e93c0f-a331-4e8e-a4ce-e3685364a884').text(' 69%');"
       ],
       "metadata": {},
       "output_type": "display_data",
       "text": [
        "<IPython.core.display.Javascript at 0x11b3594d0>"
       ]
      },
      {
       "javascript": [
        "\n",
        "        var $myPB = $(\"div#05f0134a-baf9-4390-b18f-919e8acd0c78\")\n",
        "        if ($myPB.hasClass('ui-progressbar')) {\n",
        "            $myPB.progressbar('value', 69);\n",
        "        } else {\n",
        "            $myPB.progressbar({value: 0, max: 100});\n",
        "        }\n",
        "        "
       ],
       "metadata": {},
       "output_type": "display_data",
       "text": [
        "<IPython.core.display.Javascript at 0x11b359f10>"
       ]
      },
      {
       "javascript": [
        "$('div#93899c4c-8f15-4b29-9645-b071b406820e').text('ETA:  0:01:47');"
       ],
       "metadata": {},
       "output_type": "display_data",
       "text": [
        "<IPython.core.display.Javascript at 0x11b359090>"
       ]
      },
      {
       "javascript": [
        "$('div#62e93c0f-a331-4e8e-a4ce-e3685364a884').text(' 69%');"
       ],
       "metadata": {},
       "output_type": "display_data",
       "text": [
        "<IPython.core.display.Javascript at 0x11b359d10>"
       ]
      },
      {
       "javascript": [
        "\n",
        "        var $myPB = $(\"div#05f0134a-baf9-4390-b18f-919e8acd0c78\")\n",
        "        if ($myPB.hasClass('ui-progressbar')) {\n",
        "            $myPB.progressbar('value', 69);\n",
        "        } else {\n",
        "            $myPB.progressbar({value: 0, max: 100});\n",
        "        }\n",
        "        "
       ],
       "metadata": {},
       "output_type": "display_data",
       "text": [
        "<IPython.core.display.Javascript at 0x11b359950>"
       ]
      },
      {
       "javascript": [
        "$('div#93899c4c-8f15-4b29-9645-b071b406820e').text('ETA:  0:01:47');"
       ],
       "metadata": {},
       "output_type": "display_data",
       "text": [
        "<IPython.core.display.Javascript at 0x11b359b10>"
       ]
      },
      {
       "javascript": [
        "$('div#62e93c0f-a331-4e8e-a4ce-e3685364a884').text(' 70%');"
       ],
       "metadata": {},
       "output_type": "display_data",
       "text": [
        "<IPython.core.display.Javascript at 0x11b359590>"
       ]
      },
      {
       "javascript": [
        "\n",
        "        var $myPB = $(\"div#05f0134a-baf9-4390-b18f-919e8acd0c78\")\n",
        "        if ($myPB.hasClass('ui-progressbar')) {\n",
        "            $myPB.progressbar('value', 70);\n",
        "        } else {\n",
        "            $myPB.progressbar({value: 0, max: 100});\n",
        "        }\n",
        "        "
       ],
       "metadata": {},
       "output_type": "display_data",
       "text": [
        "<IPython.core.display.Javascript at 0x11b359210>"
       ]
      },
      {
       "javascript": [
        "$('div#93899c4c-8f15-4b29-9645-b071b406820e').text('ETA:  0:01:43');"
       ],
       "metadata": {},
       "output_type": "display_data",
       "text": [
        "<IPython.core.display.Javascript at 0x11b359a90>"
       ]
      },
      {
       "javascript": [
        "$('div#62e93c0f-a331-4e8e-a4ce-e3685364a884').text(' 71%');"
       ],
       "metadata": {},
       "output_type": "display_data",
       "text": [
        "<IPython.core.display.Javascript at 0x11b3592d0>"
       ]
      },
      {
       "javascript": [
        "\n",
        "        var $myPB = $(\"div#05f0134a-baf9-4390-b18f-919e8acd0c78\")\n",
        "        if ($myPB.hasClass('ui-progressbar')) {\n",
        "            $myPB.progressbar('value', 71);\n",
        "        } else {\n",
        "            $myPB.progressbar({value: 0, max: 100});\n",
        "        }\n",
        "        "
       ],
       "metadata": {},
       "output_type": "display_data",
       "text": [
        "<IPython.core.display.Javascript at 0x11b359bd0>"
       ]
      },
      {
       "javascript": [
        "$('div#93899c4c-8f15-4b29-9645-b071b406820e').text('ETA:  0:01:38');"
       ],
       "metadata": {},
       "output_type": "display_data",
       "text": [
        "<IPython.core.display.Javascript at 0x11b359550>"
       ]
      },
      {
       "javascript": [
        "$('div#62e93c0f-a331-4e8e-a4ce-e3685364a884').text(' 71%');"
       ],
       "metadata": {},
       "output_type": "display_data",
       "text": [
        "<IPython.core.display.Javascript at 0x11b359610>"
       ]
      },
      {
       "javascript": [
        "\n",
        "        var $myPB = $(\"div#05f0134a-baf9-4390-b18f-919e8acd0c78\")\n",
        "        if ($myPB.hasClass('ui-progressbar')) {\n",
        "            $myPB.progressbar('value', 71);\n",
        "        } else {\n",
        "            $myPB.progressbar({value: 0, max: 100});\n",
        "        }\n",
        "        "
       ],
       "metadata": {},
       "output_type": "display_data",
       "text": [
        "<IPython.core.display.Javascript at 0x11b359510>"
       ]
      },
      {
       "javascript": [
        "$('div#93899c4c-8f15-4b29-9645-b071b406820e').text('ETA:  0:01:39');"
       ],
       "metadata": {},
       "output_type": "display_data",
       "text": [
        "<IPython.core.display.Javascript at 0x11b359390>"
       ]
      },
      {
       "javascript": [
        "$('div#62e93c0f-a331-4e8e-a4ce-e3685364a884').text(' 71%');"
       ],
       "metadata": {},
       "output_type": "display_data",
       "text": [
        "<IPython.core.display.Javascript at 0x11b359790>"
       ]
      },
      {
       "javascript": [
        "\n",
        "        var $myPB = $(\"div#05f0134a-baf9-4390-b18f-919e8acd0c78\")\n",
        "        if ($myPB.hasClass('ui-progressbar')) {\n",
        "            $myPB.progressbar('value', 71);\n",
        "        } else {\n",
        "            $myPB.progressbar({value: 0, max: 100});\n",
        "        }\n",
        "        "
       ],
       "metadata": {},
       "output_type": "display_data",
       "text": [
        "<IPython.core.display.Javascript at 0x11b359750>"
       ]
      },
      {
       "javascript": [
        "$('div#93899c4c-8f15-4b29-9645-b071b406820e').text('ETA:  0:01:39');"
       ],
       "metadata": {},
       "output_type": "display_data",
       "text": [
        "<IPython.core.display.Javascript at 0x11b359490>"
       ]
      },
      {
       "javascript": [
        "$('div#62e93c0f-a331-4e8e-a4ce-e3685364a884').text(' 71%');"
       ],
       "metadata": {},
       "output_type": "display_data",
       "text": [
        "<IPython.core.display.Javascript at 0x11b359e50>"
       ]
      },
      {
       "javascript": [
        "\n",
        "        var $myPB = $(\"div#05f0134a-baf9-4390-b18f-919e8acd0c78\")\n",
        "        if ($myPB.hasClass('ui-progressbar')) {\n",
        "            $myPB.progressbar('value', 71);\n",
        "        } else {\n",
        "            $myPB.progressbar({value: 0, max: 100});\n",
        "        }\n",
        "        "
       ],
       "metadata": {},
       "output_type": "display_data",
       "text": [
        "<IPython.core.display.Javascript at 0x11b359d90>"
       ]
      },
      {
       "javascript": [
        "$('div#93899c4c-8f15-4b29-9645-b071b406820e').text('ETA:  0:01:40');"
       ],
       "metadata": {},
       "output_type": "display_data",
       "text": [
        "<IPython.core.display.Javascript at 0x11b359f90>"
       ]
      },
      {
       "javascript": [
        "$('div#62e93c0f-a331-4e8e-a4ce-e3685364a884').text(' 72%');"
       ],
       "metadata": {},
       "output_type": "display_data",
       "text": [
        "<IPython.core.display.Javascript at 0x11b359cd0>"
       ]
      },
      {
       "javascript": [
        "\n",
        "        var $myPB = $(\"div#05f0134a-baf9-4390-b18f-919e8acd0c78\")\n",
        "        if ($myPB.hasClass('ui-progressbar')) {\n",
        "            $myPB.progressbar('value', 72);\n",
        "        } else {\n",
        "            $myPB.progressbar({value: 0, max: 100});\n",
        "        }\n",
        "        "
       ],
       "metadata": {},
       "output_type": "display_data",
       "text": [
        "<IPython.core.display.Javascript at 0x11b359ed0>"
       ]
      },
      {
       "javascript": [
        "$('div#93899c4c-8f15-4b29-9645-b071b406820e').text('ETA:  0:01:35');"
       ],
       "metadata": {},
       "output_type": "display_data",
       "text": [
        "<IPython.core.display.Javascript at 0x11b359850>"
       ]
      },
      {
       "javascript": [
        "$('div#62e93c0f-a331-4e8e-a4ce-e3685364a884').text(' 72%');"
       ],
       "metadata": {},
       "output_type": "display_data",
       "text": [
        "<IPython.core.display.Javascript at 0x11b3597d0>"
       ]
      },
      {
       "javascript": [
        "\n",
        "        var $myPB = $(\"div#05f0134a-baf9-4390-b18f-919e8acd0c78\")\n",
        "        if ($myPB.hasClass('ui-progressbar')) {\n",
        "            $myPB.progressbar('value', 72);\n",
        "        } else {\n",
        "            $myPB.progressbar({value: 0, max: 100});\n",
        "        }\n",
        "        "
       ],
       "metadata": {},
       "output_type": "display_data",
       "text": [
        "<IPython.core.display.Javascript at 0x11b359910>"
       ]
      },
      {
       "javascript": [
        "$('div#93899c4c-8f15-4b29-9645-b071b406820e').text('ETA:  0:01:36');"
       ],
       "metadata": {},
       "output_type": "display_data",
       "text": [
        "<IPython.core.display.Javascript at 0x11b359250>"
       ]
      },
      {
       "javascript": [
        "$('div#62e93c0f-a331-4e8e-a4ce-e3685364a884').text(' 72%');"
       ],
       "metadata": {},
       "output_type": "display_data",
       "text": [
        "<IPython.core.display.Javascript at 0x11b359a50>"
       ]
      },
      {
       "javascript": [
        "\n",
        "        var $myPB = $(\"div#05f0134a-baf9-4390-b18f-919e8acd0c78\")\n",
        "        if ($myPB.hasClass('ui-progressbar')) {\n",
        "            $myPB.progressbar('value', 72);\n",
        "        } else {\n",
        "            $myPB.progressbar({value: 0, max: 100});\n",
        "        }\n",
        "        "
       ],
       "metadata": {},
       "output_type": "display_data",
       "text": [
        "<IPython.core.display.Javascript at 0x11b359810>"
       ]
      },
      {
       "javascript": [
        "$('div#93899c4c-8f15-4b29-9645-b071b406820e').text('ETA:  0:01:36');"
       ],
       "metadata": {},
       "output_type": "display_data",
       "text": [
        "<IPython.core.display.Javascript at 0x11b359990>"
       ]
      },
      {
       "javascript": [
        "$('div#62e93c0f-a331-4e8e-a4ce-e3685364a884').text(' 73%');"
       ],
       "metadata": {},
       "output_type": "display_data",
       "text": [
        "<IPython.core.display.Javascript at 0x11b3598d0>"
       ]
      },
      {
       "javascript": [
        "\n",
        "        var $myPB = $(\"div#05f0134a-baf9-4390-b18f-919e8acd0c78\")\n",
        "        if ($myPB.hasClass('ui-progressbar')) {\n",
        "            $myPB.progressbar('value', 73);\n",
        "        } else {\n",
        "            $myPB.progressbar({value: 0, max: 100});\n",
        "        }\n",
        "        "
       ],
       "metadata": {},
       "output_type": "display_data",
       "text": [
        "<IPython.core.display.Javascript at 0x11b359690>"
       ]
      },
      {
       "javascript": [
        "$('div#93899c4c-8f15-4b29-9645-b071b406820e').text('ETA:  0:01:32');"
       ],
       "metadata": {},
       "output_type": "display_data",
       "text": [
        "<IPython.core.display.Javascript at 0x11b359190>"
       ]
      },
      {
       "javascript": [
        "$('div#62e93c0f-a331-4e8e-a4ce-e3685364a884').text(' 74%');"
       ],
       "metadata": {},
       "output_type": "display_data",
       "text": [
        "<IPython.core.display.Javascript at 0x11b359d50>"
       ]
      },
      {
       "javascript": [
        "\n",
        "        var $myPB = $(\"div#05f0134a-baf9-4390-b18f-919e8acd0c78\")\n",
        "        if ($myPB.hasClass('ui-progressbar')) {\n",
        "            $myPB.progressbar('value', 74);\n",
        "        } else {\n",
        "            $myPB.progressbar({value: 0, max: 100});\n",
        "        }\n",
        "        "
       ],
       "metadata": {},
       "output_type": "display_data",
       "text": [
        "<IPython.core.display.Javascript at 0x11b359b90>"
       ]
      },
      {
       "javascript": [
        "$('div#93899c4c-8f15-4b29-9645-b071b406820e').text('ETA:  0:01:27');"
       ],
       "metadata": {},
       "output_type": "display_data",
       "text": [
        "<IPython.core.display.Javascript at 0x11b3591d0>"
       ]
      },
      {
       "javascript": [
        "$('div#62e93c0f-a331-4e8e-a4ce-e3685364a884').text(' 75%');"
       ],
       "metadata": {},
       "output_type": "display_data",
       "text": [
        "<IPython.core.display.Javascript at 0x11b359150>"
       ]
      },
      {
       "javascript": [
        "\n",
        "        var $myPB = $(\"div#05f0134a-baf9-4390-b18f-919e8acd0c78\")\n",
        "        if ($myPB.hasClass('ui-progressbar')) {\n",
        "            $myPB.progressbar('value', 75);\n",
        "        } else {\n",
        "            $myPB.progressbar({value: 0, max: 100});\n",
        "        }\n",
        "        "
       ],
       "metadata": {},
       "output_type": "display_data",
       "text": [
        "<IPython.core.display.Javascript at 0x11b3595d0>"
       ]
      },
      {
       "javascript": [
        "$('div#93899c4c-8f15-4b29-9645-b071b406820e').text('ETA:  0:01:23');"
       ],
       "metadata": {},
       "output_type": "display_data",
       "text": [
        "<IPython.core.display.Javascript at 0x11b359fd0>"
       ]
      },
      {
       "javascript": [
        "$('div#62e93c0f-a331-4e8e-a4ce-e3685364a884').text(' 75%');"
       ],
       "metadata": {},
       "output_type": "display_data",
       "text": [
        "<IPython.core.display.Javascript at 0x11b359f50>"
       ]
      },
      {
       "javascript": [
        "\n",
        "        var $myPB = $(\"div#05f0134a-baf9-4390-b18f-919e8acd0c78\")\n",
        "        if ($myPB.hasClass('ui-progressbar')) {\n",
        "            $myPB.progressbar('value', 75);\n",
        "        } else {\n",
        "            $myPB.progressbar({value: 0, max: 100});\n",
        "        }\n",
        "        "
       ],
       "metadata": {},
       "output_type": "display_data",
       "text": [
        "<IPython.core.display.Javascript at 0x11b359310>"
       ]
      },
      {
       "javascript": [
        "$('div#93899c4c-8f15-4b29-9645-b071b406820e').text('ETA:  0:01:24');"
       ],
       "metadata": {},
       "output_type": "display_data",
       "text": [
        "<IPython.core.display.Javascript at 0x11b359e90>"
       ]
      },
      {
       "javascript": [
        "$('div#62e93c0f-a331-4e8e-a4ce-e3685364a884').text(' 75%');"
       ],
       "metadata": {},
       "output_type": "display_data",
       "text": [
        "<IPython.core.display.Javascript at 0x11b359050>"
       ]
      },
      {
       "javascript": [
        "\n",
        "        var $myPB = $(\"div#05f0134a-baf9-4390-b18f-919e8acd0c78\")\n",
        "        if ($myPB.hasClass('ui-progressbar')) {\n",
        "            $myPB.progressbar('value', 75);\n",
        "        } else {\n",
        "            $myPB.progressbar({value: 0, max: 100});\n",
        "        }\n",
        "        "
       ],
       "metadata": {},
       "output_type": "display_data",
       "text": [
        "<IPython.core.display.Javascript at 0x11b359650>"
       ]
      },
      {
       "javascript": [
        "$('div#93899c4c-8f15-4b29-9645-b071b406820e').text('ETA:  0:01:24');"
       ],
       "metadata": {},
       "output_type": "display_data",
       "text": [
        "<IPython.core.display.Javascript at 0x11b359890>"
       ]
      },
      {
       "javascript": [
        "$('div#62e93c0f-a331-4e8e-a4ce-e3685364a884').text(' 75%');"
       ],
       "metadata": {},
       "output_type": "display_data",
       "text": [
        "<IPython.core.display.Javascript at 0x11b359c50>"
       ]
      },
      {
       "javascript": [
        "\n",
        "        var $myPB = $(\"div#05f0134a-baf9-4390-b18f-919e8acd0c78\")\n",
        "        if ($myPB.hasClass('ui-progressbar')) {\n",
        "            $myPB.progressbar('value', 75);\n",
        "        } else {\n",
        "            $myPB.progressbar({value: 0, max: 100});\n",
        "        }\n",
        "        "
       ],
       "metadata": {},
       "output_type": "display_data",
       "text": [
        "<IPython.core.display.Javascript at 0x11b359c90>"
       ]
      },
      {
       "javascript": [
        "$('div#93899c4c-8f15-4b29-9645-b071b406820e').text('ETA:  0:01:24');"
       ],
       "metadata": {},
       "output_type": "display_data",
       "text": [
        "<IPython.core.display.Javascript at 0x11b359110>"
       ]
      },
      {
       "javascript": [
        "$('div#62e93c0f-a331-4e8e-a4ce-e3685364a884').text(' 75%');"
       ],
       "metadata": {},
       "output_type": "display_data",
       "text": [
        "<IPython.core.display.Javascript at 0x11b359ad0>"
       ]
      },
      {
       "javascript": [
        "\n",
        "        var $myPB = $(\"div#05f0134a-baf9-4390-b18f-919e8acd0c78\")\n",
        "        if ($myPB.hasClass('ui-progressbar')) {\n",
        "            $myPB.progressbar('value', 75);\n",
        "        } else {\n",
        "            $myPB.progressbar({value: 0, max: 100});\n",
        "        }\n",
        "        "
       ],
       "metadata": {},
       "output_type": "display_data",
       "text": [
        "<IPython.core.display.Javascript at 0x11b3596d0>"
       ]
      },
      {
       "javascript": [
        "$('div#93899c4c-8f15-4b29-9645-b071b406820e').text('ETA:  0:01:25');"
       ],
       "metadata": {},
       "output_type": "display_data",
       "text": [
        "<IPython.core.display.Javascript at 0x11b359c10>"
       ]
      },
      {
       "javascript": [
        "$('div#62e93c0f-a331-4e8e-a4ce-e3685364a884').text(' 75%');"
       ],
       "metadata": {},
       "output_type": "display_data",
       "text": [
        "<IPython.core.display.Javascript at 0x11b359350>"
       ]
      },
      {
       "javascript": [
        "\n",
        "        var $myPB = $(\"div#05f0134a-baf9-4390-b18f-919e8acd0c78\")\n",
        "        if ($myPB.hasClass('ui-progressbar')) {\n",
        "            $myPB.progressbar('value', 75);\n",
        "        } else {\n",
        "            $myPB.progressbar({value: 0, max: 100});\n",
        "        }\n",
        "        "
       ],
       "metadata": {},
       "output_type": "display_data",
       "text": [
        "<IPython.core.display.Javascript at 0x11b359290>"
       ]
      },
      {
       "javascript": [
        "$('div#93899c4c-8f15-4b29-9645-b071b406820e').text('ETA:  0:01:25');"
       ],
       "metadata": {},
       "output_type": "display_data",
       "text": [
        "<IPython.core.display.Javascript at 0x11b359410>"
       ]
      },
      {
       "javascript": [
        "$('div#62e93c0f-a331-4e8e-a4ce-e3685364a884').text(' 75%');"
       ],
       "metadata": {},
       "output_type": "display_data",
       "text": [
        "<IPython.core.display.Javascript at 0x11b359c10>"
       ]
      },
      {
       "javascript": [
        "\n",
        "        var $myPB = $(\"div#05f0134a-baf9-4390-b18f-919e8acd0c78\")\n",
        "        if ($myPB.hasClass('ui-progressbar')) {\n",
        "            $myPB.progressbar('value', 75);\n",
        "        } else {\n",
        "            $myPB.progressbar({value: 0, max: 100});\n",
        "        }\n",
        "        "
       ],
       "metadata": {},
       "output_type": "display_data",
       "text": [
        "<IPython.core.display.Javascript at 0x11b3596d0>"
       ]
      },
      {
       "javascript": [
        "$('div#93899c4c-8f15-4b29-9645-b071b406820e').text('ETA:  0:01:25');"
       ],
       "metadata": {},
       "output_type": "display_data",
       "text": [
        "<IPython.core.display.Javascript at 0x11b359350>"
       ]
      },
      {
       "javascript": [
        "$('div#62e93c0f-a331-4e8e-a4ce-e3685364a884').text(' 75%');"
       ],
       "metadata": {},
       "output_type": "display_data",
       "text": [
        "<IPython.core.display.Javascript at 0x11b359690>"
       ]
      },
      {
       "javascript": [
        "\n",
        "        var $myPB = $(\"div#05f0134a-baf9-4390-b18f-919e8acd0c78\")\n",
        "        if ($myPB.hasClass('ui-progressbar')) {\n",
        "            $myPB.progressbar('value', 75);\n",
        "        } else {\n",
        "            $myPB.progressbar({value: 0, max: 100});\n",
        "        }\n",
        "        "
       ],
       "metadata": {},
       "output_type": "display_data",
       "text": [
        "<IPython.core.display.Javascript at 0x11b3597d0>"
       ]
      },
      {
       "javascript": [
        "$('div#93899c4c-8f15-4b29-9645-b071b406820e').text('ETA:  0:01:26');"
       ],
       "metadata": {},
       "output_type": "display_data",
       "text": [
        "<IPython.core.display.Javascript at 0x11b359910>"
       ]
      },
      {
       "javascript": [
        "$('div#62e93c0f-a331-4e8e-a4ce-e3685364a884').text(' 75%');"
       ],
       "metadata": {},
       "output_type": "display_data",
       "text": [
        "<IPython.core.display.Javascript at 0x11b359c50>"
       ]
      },
      {
       "javascript": [
        "\n",
        "        var $myPB = $(\"div#05f0134a-baf9-4390-b18f-919e8acd0c78\")\n",
        "        if ($myPB.hasClass('ui-progressbar')) {\n",
        "            $myPB.progressbar('value', 75);\n",
        "        } else {\n",
        "            $myPB.progressbar({value: 0, max: 100});\n",
        "        }\n",
        "        "
       ],
       "metadata": {},
       "output_type": "display_data",
       "text": [
        "<IPython.core.display.Javascript at 0x11b359190>"
       ]
      },
      {
       "javascript": [
        "$('div#93899c4c-8f15-4b29-9645-b071b406820e').text('ETA:  0:01:26');"
       ],
       "metadata": {},
       "output_type": "display_data",
       "text": [
        "<IPython.core.display.Javascript at 0x11b359f90>"
       ]
      },
      {
       "javascript": [
        "$('div#62e93c0f-a331-4e8e-a4ce-e3685364a884').text(' 75%');"
       ],
       "metadata": {},
       "output_type": "display_data",
       "text": [
        "<IPython.core.display.Javascript at 0x11b359150>"
       ]
      },
      {
       "javascript": [
        "\n",
        "        var $myPB = $(\"div#05f0134a-baf9-4390-b18f-919e8acd0c78\")\n",
        "        if ($myPB.hasClass('ui-progressbar')) {\n",
        "            $myPB.progressbar('value', 75);\n",
        "        } else {\n",
        "            $myPB.progressbar({value: 0, max: 100});\n",
        "        }\n",
        "        "
       ],
       "metadata": {},
       "output_type": "display_data",
       "text": [
        "<IPython.core.display.Javascript at 0x11b359c90>"
       ]
      },
      {
       "javascript": [
        "$('div#93899c4c-8f15-4b29-9645-b071b406820e').text('ETA:  0:01:26');"
       ],
       "metadata": {},
       "output_type": "display_data",
       "text": [
        "<IPython.core.display.Javascript at 0x11b359490>"
       ]
      },
      {
       "javascript": [
        "$('div#62e93c0f-a331-4e8e-a4ce-e3685364a884').text(' 75%');"
       ],
       "metadata": {},
       "output_type": "display_data",
       "text": [
        "<IPython.core.display.Javascript at 0x11b359cd0>"
       ]
      },
      {
       "javascript": [
        "\n",
        "        var $myPB = $(\"div#05f0134a-baf9-4390-b18f-919e8acd0c78\")\n",
        "        if ($myPB.hasClass('ui-progressbar')) {\n",
        "            $myPB.progressbar('value', 75);\n",
        "        } else {\n",
        "            $myPB.progressbar({value: 0, max: 100});\n",
        "        }\n",
        "        "
       ],
       "metadata": {},
       "output_type": "display_data",
       "text": [
        "<IPython.core.display.Javascript at 0x11b3595d0>"
       ]
      },
      {
       "javascript": [
        "$('div#93899c4c-8f15-4b29-9645-b071b406820e').text('ETA:  0:01:27');"
       ],
       "metadata": {},
       "output_type": "display_data",
       "text": [
        "<IPython.core.display.Javascript at 0x11b359390>"
       ]
      },
      {
       "javascript": [
        "$('div#62e93c0f-a331-4e8e-a4ce-e3685364a884').text(' 76%');"
       ],
       "metadata": {},
       "output_type": "display_data",
       "text": [
        "<IPython.core.display.Javascript at 0x11b359e50>"
       ]
      },
      {
       "javascript": [
        "\n",
        "        var $myPB = $(\"div#05f0134a-baf9-4390-b18f-919e8acd0c78\")\n",
        "        if ($myPB.hasClass('ui-progressbar')) {\n",
        "            $myPB.progressbar('value', 76);\n",
        "        } else {\n",
        "            $myPB.progressbar({value: 0, max: 100});\n",
        "        }\n",
        "        "
       ],
       "metadata": {},
       "output_type": "display_data",
       "text": [
        "<IPython.core.display.Javascript at 0x11b3591d0>"
       ]
      },
      {
       "javascript": [
        "$('div#93899c4c-8f15-4b29-9645-b071b406820e').text('ETA:  0:01:22');"
       ],
       "metadata": {},
       "output_type": "display_data",
       "text": [
        "<IPython.core.display.Javascript at 0x11b359550>"
       ]
      },
      {
       "javascript": [
        "$('div#62e93c0f-a331-4e8e-a4ce-e3685364a884').text(' 76%');"
       ],
       "metadata": {},
       "output_type": "display_data",
       "text": [
        "<IPython.core.display.Javascript at 0x11b359790>"
       ]
      },
      {
       "javascript": [
        "\n",
        "        var $myPB = $(\"div#05f0134a-baf9-4390-b18f-919e8acd0c78\")\n",
        "        if ($myPB.hasClass('ui-progressbar')) {\n",
        "            $myPB.progressbar('value', 76);\n",
        "        } else {\n",
        "            $myPB.progressbar({value: 0, max: 100});\n",
        "        }\n",
        "        "
       ],
       "metadata": {},
       "output_type": "display_data",
       "text": [
        "<IPython.core.display.Javascript at 0x11b359810>"
       ]
      },
      {
       "javascript": [
        "$('div#93899c4c-8f15-4b29-9645-b071b406820e').text('ETA:  0:01:23');"
       ],
       "metadata": {},
       "output_type": "display_data",
       "text": [
        "<IPython.core.display.Javascript at 0x11b359a90>"
       ]
      },
      {
       "javascript": [
        "$('div#62e93c0f-a331-4e8e-a4ce-e3685364a884').text(' 76%');"
       ],
       "metadata": {},
       "output_type": "display_data",
       "text": [
        "<IPython.core.display.Javascript at 0x11b359610>"
       ]
      },
      {
       "javascript": [
        "\n",
        "        var $myPB = $(\"div#05f0134a-baf9-4390-b18f-919e8acd0c78\")\n",
        "        if ($myPB.hasClass('ui-progressbar')) {\n",
        "            $myPB.progressbar('value', 76);\n",
        "        } else {\n",
        "            $myPB.progressbar({value: 0, max: 100});\n",
        "        }\n",
        "        "
       ],
       "metadata": {},
       "output_type": "display_data",
       "text": [
        "<IPython.core.display.Javascript at 0x11b359ad0>"
       ]
      },
      {
       "javascript": [
        "$('div#93899c4c-8f15-4b29-9645-b071b406820e').text('ETA:  0:01:23');"
       ],
       "metadata": {},
       "output_type": "display_data",
       "text": [
        "<IPython.core.display.Javascript at 0x11b359b10>"
       ]
      },
      {
       "javascript": [
        "$('div#62e93c0f-a331-4e8e-a4ce-e3685364a884').text(' 77%');"
       ],
       "metadata": {},
       "output_type": "display_data",
       "text": [
        "<IPython.core.display.Javascript at 0x11b3592d0>"
       ]
      },
      {
       "javascript": [
        "\n",
        "        var $myPB = $(\"div#05f0134a-baf9-4390-b18f-919e8acd0c78\")\n",
        "        if ($myPB.hasClass('ui-progressbar')) {\n",
        "            $myPB.progressbar('value', 77);\n",
        "        } else {\n",
        "            $myPB.progressbar({value: 0, max: 100});\n",
        "        }\n",
        "        "
       ],
       "metadata": {},
       "output_type": "display_data",
       "text": [
        "<IPython.core.display.Javascript at 0x11b359850>"
       ]
      },
      {
       "javascript": [
        "$('div#93899c4c-8f15-4b29-9645-b071b406820e').text('ETA:  0:01:19');"
       ],
       "metadata": {},
       "output_type": "display_data",
       "text": [
        "<IPython.core.display.Javascript at 0x11b359090>"
       ]
      },
      {
       "javascript": [
        "$('div#62e93c0f-a331-4e8e-a4ce-e3685364a884').text(' 78%');"
       ],
       "metadata": {},
       "output_type": "display_data",
       "text": [
        "<IPython.core.display.Javascript at 0x1076e7990>"
       ]
      },
      {
       "javascript": [
        "\n",
        "        var $myPB = $(\"div#05f0134a-baf9-4390-b18f-919e8acd0c78\")\n",
        "        if ($myPB.hasClass('ui-progressbar')) {\n",
        "            $myPB.progressbar('value', 78);\n",
        "        } else {\n",
        "            $myPB.progressbar({value: 0, max: 100});\n",
        "        }\n",
        "        "
       ],
       "metadata": {},
       "output_type": "display_data",
       "text": [
        "<IPython.core.display.Javascript at 0x1076e7190>"
       ]
      },
      {
       "javascript": [
        "$('div#93899c4c-8f15-4b29-9645-b071b406820e').text('ETA:  0:01:15');"
       ],
       "metadata": {},
       "output_type": "display_data",
       "text": [
        "<IPython.core.display.Javascript at 0x11e011610>"
       ]
      },
      {
       "javascript": [
        "$('div#62e93c0f-a331-4e8e-a4ce-e3685364a884').text(' 80%');"
       ],
       "metadata": {},
       "output_type": "display_data",
       "text": [
        "<IPython.core.display.Javascript at 0x11b359d10>"
       ]
      },
      {
       "javascript": [
        "\n",
        "        var $myPB = $(\"div#05f0134a-baf9-4390-b18f-919e8acd0c78\")\n",
        "        if ($myPB.hasClass('ui-progressbar')) {\n",
        "            $myPB.progressbar('value', 80);\n",
        "        } else {\n",
        "            $myPB.progressbar({value: 0, max: 100});\n",
        "        }\n",
        "        "
       ],
       "metadata": {},
       "output_type": "display_data",
       "text": [
        "<IPython.core.display.Javascript at 0x11b359750>"
       ]
      },
      {
       "javascript": [
        "$('div#93899c4c-8f15-4b29-9645-b071b406820e').text('ETA:  0:01:06');"
       ],
       "metadata": {},
       "output_type": "display_data",
       "text": [
        "<IPython.core.display.Javascript at 0x11b359990>"
       ]
      },
      {
       "javascript": [
        "$('div#62e93c0f-a331-4e8e-a4ce-e3685364a884').text(' 81%');"
       ],
       "metadata": {},
       "output_type": "display_data",
       "text": [
        "<IPython.core.display.Javascript at 0x11b3593d0>"
       ]
      },
      {
       "javascript": [
        "\n",
        "        var $myPB = $(\"div#05f0134a-baf9-4390-b18f-919e8acd0c78\")\n",
        "        if ($myPB.hasClass('ui-progressbar')) {\n",
        "            $myPB.progressbar('value', 81);\n",
        "        } else {\n",
        "            $myPB.progressbar({value: 0, max: 100});\n",
        "        }\n",
        "        "
       ],
       "metadata": {},
       "output_type": "display_data",
       "text": [
        "<IPython.core.display.Javascript at 0x11b359510>"
       ]
      },
      {
       "javascript": [
        "$('div#93899c4c-8f15-4b29-9645-b071b406820e').text('ETA:  0:01:03');"
       ],
       "metadata": {},
       "output_type": "display_data",
       "text": [
        "<IPython.core.display.Javascript at 0x11b359950>"
       ]
      },
      {
       "javascript": [
        "$('div#62e93c0f-a331-4e8e-a4ce-e3685364a884').text(' 82%');"
       ],
       "metadata": {},
       "output_type": "display_data",
       "text": [
        "<IPython.core.display.Javascript at 0x11b359e90>"
       ]
      },
      {
       "javascript": [
        "\n",
        "        var $myPB = $(\"div#05f0134a-baf9-4390-b18f-919e8acd0c78\")\n",
        "        if ($myPB.hasClass('ui-progressbar')) {\n",
        "            $myPB.progressbar('value', 82);\n",
        "        } else {\n",
        "            $myPB.progressbar({value: 0, max: 100});\n",
        "        }\n",
        "        "
       ],
       "metadata": {},
       "output_type": "display_data",
       "text": [
        "<IPython.core.display.Javascript at 0x11b3598d0>"
       ]
      },
      {
       "javascript": [
        "$('div#93899c4c-8f15-4b29-9645-b071b406820e').text('ETA:  0:00:59');"
       ],
       "metadata": {},
       "output_type": "display_data",
       "text": [
        "<IPython.core.display.Javascript at 0x11b359890>"
       ]
      },
      {
       "javascript": [
        "$('div#62e93c0f-a331-4e8e-a4ce-e3685364a884').text(' 83%');"
       ],
       "metadata": {},
       "output_type": "display_data",
       "text": [
        "<IPython.core.display.Javascript at 0x11b359290>"
       ]
      },
      {
       "javascript": [
        "\n",
        "        var $myPB = $(\"div#05f0134a-baf9-4390-b18f-919e8acd0c78\")\n",
        "        if ($myPB.hasClass('ui-progressbar')) {\n",
        "            $myPB.progressbar('value', 83);\n",
        "        } else {\n",
        "            $myPB.progressbar({value: 0, max: 100});\n",
        "        }\n",
        "        "
       ],
       "metadata": {},
       "output_type": "display_data",
       "text": [
        "<IPython.core.display.Javascript at 0x11b359bd0>"
       ]
      },
      {
       "javascript": [
        "$('div#93899c4c-8f15-4b29-9645-b071b406820e').text('ETA:  0:00:55');"
       ],
       "metadata": {},
       "output_type": "display_data",
       "text": [
        "<IPython.core.display.Javascript at 0x11b359310>"
       ]
      },
      {
       "javascript": [
        "$('div#62e93c0f-a331-4e8e-a4ce-e3685364a884').text(' 83%');"
       ],
       "metadata": {},
       "output_type": "display_data",
       "text": [
        "<IPython.core.display.Javascript at 0x11b359d50>"
       ]
      },
      {
       "javascript": [
        "\n",
        "        var $myPB = $(\"div#05f0134a-baf9-4390-b18f-919e8acd0c78\")\n",
        "        if ($myPB.hasClass('ui-progressbar')) {\n",
        "            $myPB.progressbar('value', 83);\n",
        "        } else {\n",
        "            $myPB.progressbar({value: 0, max: 100});\n",
        "        }\n",
        "        "
       ],
       "metadata": {},
       "output_type": "display_data",
       "text": [
        "<IPython.core.display.Javascript at 0x11b359f10>"
       ]
      },
      {
       "javascript": [
        "$('div#93899c4c-8f15-4b29-9645-b071b406820e').text('ETA:  0:00:55');"
       ],
       "metadata": {},
       "output_type": "display_data",
       "text": [
        "<IPython.core.display.Javascript at 0x11b359050>"
       ]
      },
      {
       "javascript": [
        "$('div#62e93c0f-a331-4e8e-a4ce-e3685364a884').text(' 83%');"
       ],
       "metadata": {},
       "output_type": "display_data",
       "text": [
        "<IPython.core.display.Javascript at 0x11b359250>"
       ]
      },
      {
       "javascript": [
        "\n",
        "        var $myPB = $(\"div#05f0134a-baf9-4390-b18f-919e8acd0c78\")\n",
        "        if ($myPB.hasClass('ui-progressbar')) {\n",
        "            $myPB.progressbar('value', 83);\n",
        "        } else {\n",
        "            $myPB.progressbar({value: 0, max: 100});\n",
        "        }\n",
        "        "
       ],
       "metadata": {},
       "output_type": "display_data",
       "text": [
        "<IPython.core.display.Javascript at 0x11b359650>"
       ]
      },
      {
       "javascript": [
        "$('div#93899c4c-8f15-4b29-9645-b071b406820e').text('ETA:  0:00:55');"
       ],
       "metadata": {},
       "output_type": "display_data",
       "text": [
        "<IPython.core.display.Javascript at 0x11b359110>"
       ]
      },
      {
       "javascript": [
        "$('div#62e93c0f-a331-4e8e-a4ce-e3685364a884').text(' 83%');"
       ],
       "metadata": {},
       "output_type": "display_data",
       "text": [
        "<IPython.core.display.Javascript at 0x11b359410>"
       ]
      },
      {
       "javascript": [
        "\n",
        "        var $myPB = $(\"div#05f0134a-baf9-4390-b18f-919e8acd0c78\")\n",
        "        if ($myPB.hasClass('ui-progressbar')) {\n",
        "            $myPB.progressbar('value', 83);\n",
        "        } else {\n",
        "            $myPB.progressbar({value: 0, max: 100});\n",
        "        }\n",
        "        "
       ],
       "metadata": {},
       "output_type": "display_data",
       "text": [
        "<IPython.core.display.Javascript at 0x11b359590>"
       ]
      },
      {
       "javascript": [
        "$('div#93899c4c-8f15-4b29-9645-b071b406820e').text('ETA:  0:00:56');"
       ],
       "metadata": {},
       "output_type": "display_data",
       "text": [
        "<IPython.core.display.Javascript at 0x11b359210>"
       ]
      },
      {
       "javascript": [
        "$('div#62e93c0f-a331-4e8e-a4ce-e3685364a884').text(' 83%');"
       ],
       "metadata": {},
       "output_type": "display_data",
       "text": [
        "<IPython.core.display.Javascript at 0x11b359b90>"
       ]
      },
      {
       "javascript": [
        "\n",
        "        var $myPB = $(\"div#05f0134a-baf9-4390-b18f-919e8acd0c78\")\n",
        "        if ($myPB.hasClass('ui-progressbar')) {\n",
        "            $myPB.progressbar('value', 83);\n",
        "        } else {\n",
        "            $myPB.progressbar({value: 0, max: 100});\n",
        "        }\n",
        "        "
       ],
       "metadata": {},
       "output_type": "display_data",
       "text": [
        "<IPython.core.display.Javascript at 0x11b359b50>"
       ]
      },
      {
       "javascript": [
        "$('div#93899c4c-8f15-4b29-9645-b071b406820e').text('ETA:  0:00:56');"
       ],
       "metadata": {},
       "output_type": "display_data",
       "text": [
        "<IPython.core.display.Javascript at 0x11b359ed0>"
       ]
      },
      {
       "javascript": [
        "$('div#62e93c0f-a331-4e8e-a4ce-e3685364a884').text(' 83%');"
       ],
       "metadata": {},
       "output_type": "display_data",
       "text": [
        "<IPython.core.display.Javascript at 0x11b359f50>"
       ]
      },
      {
       "javascript": [
        "\n",
        "        var $myPB = $(\"div#05f0134a-baf9-4390-b18f-919e8acd0c78\")\n",
        "        if ($myPB.hasClass('ui-progressbar')) {\n",
        "            $myPB.progressbar('value', 83);\n",
        "        } else {\n",
        "            $myPB.progressbar({value: 0, max: 100});\n",
        "        }\n",
        "        "
       ],
       "metadata": {},
       "output_type": "display_data",
       "text": [
        "<IPython.core.display.Javascript at 0x11b3594d0>"
       ]
      },
      {
       "javascript": [
        "$('div#93899c4c-8f15-4b29-9645-b071b406820e').text('ETA:  0:00:56');"
       ],
       "metadata": {},
       "output_type": "display_data",
       "text": [
        "<IPython.core.display.Javascript at 0x11b359a50>"
       ]
      },
      {
       "javascript": [
        "$('div#62e93c0f-a331-4e8e-a4ce-e3685364a884').text(' 83%');"
       ],
       "metadata": {},
       "output_type": "display_data",
       "text": [
        "<IPython.core.display.Javascript at 0x1076e7990>"
       ]
      },
      {
       "javascript": [
        "\n",
        "        var $myPB = $(\"div#05f0134a-baf9-4390-b18f-919e8acd0c78\")\n",
        "        if ($myPB.hasClass('ui-progressbar')) {\n",
        "            $myPB.progressbar('value', 83);\n",
        "        } else {\n",
        "            $myPB.progressbar({value: 0, max: 100});\n",
        "        }\n",
        "        "
       ],
       "metadata": {},
       "output_type": "display_data",
       "text": [
        "<IPython.core.display.Javascript at 0x1076e7190>"
       ]
      },
      {
       "javascript": [
        "$('div#93899c4c-8f15-4b29-9645-b071b406820e').text('ETA:  0:00:56');"
       ],
       "metadata": {},
       "output_type": "display_data",
       "text": [
        "<IPython.core.display.Javascript at 0x1076e75d0>"
       ]
      },
      {
       "javascript": [
        "$('div#62e93c0f-a331-4e8e-a4ce-e3685364a884').text(' 83%');"
       ],
       "metadata": {},
       "output_type": "display_data",
       "text": [
        "<IPython.core.display.Javascript at 0x11b3598d0>"
       ]
      },
      {
       "javascript": [
        "\n",
        "        var $myPB = $(\"div#05f0134a-baf9-4390-b18f-919e8acd0c78\")\n",
        "        if ($myPB.hasClass('ui-progressbar')) {\n",
        "            $myPB.progressbar('value', 83);\n",
        "        } else {\n",
        "            $myPB.progressbar({value: 0, max: 100});\n",
        "        }\n",
        "        "
       ],
       "metadata": {},
       "output_type": "display_data",
       "text": [
        "<IPython.core.display.Javascript at 0x11b359d10>"
       ]
      },
      {
       "javascript": [
        "$('div#93899c4c-8f15-4b29-9645-b071b406820e').text('ETA:  0:00:56');"
       ],
       "metadata": {},
       "output_type": "display_data",
       "text": [
        "<IPython.core.display.Javascript at 0x11b359750>"
       ]
      },
      {
       "javascript": [
        "$('div#62e93c0f-a331-4e8e-a4ce-e3685364a884').text(' 84%');"
       ],
       "metadata": {},
       "output_type": "display_data",
       "text": [
        "<IPython.core.display.Javascript at 0x11b359b90>"
       ]
      },
      {
       "javascript": [
        "\n",
        "        var $myPB = $(\"div#05f0134a-baf9-4390-b18f-919e8acd0c78\")\n",
        "        if ($myPB.hasClass('ui-progressbar')) {\n",
        "            $myPB.progressbar('value', 84);\n",
        "        } else {\n",
        "            $myPB.progressbar({value: 0, max: 100});\n",
        "        }\n",
        "        "
       ],
       "metadata": {},
       "output_type": "display_data",
       "text": [
        "<IPython.core.display.Javascript at 0x11b359890>"
       ]
      },
      {
       "javascript": [
        "$('div#93899c4c-8f15-4b29-9645-b071b406820e').text('ETA:  0:00:53');"
       ],
       "metadata": {},
       "output_type": "display_data",
       "text": [
        "<IPython.core.display.Javascript at 0x11b359b10>"
       ]
      },
      {
       "javascript": [
        "$('div#62e93c0f-a331-4e8e-a4ce-e3685364a884').text(' 85%');"
       ],
       "metadata": {},
       "output_type": "display_data",
       "text": [
        "<IPython.core.display.Javascript at 0x11b359d50>"
       ]
      },
      {
       "javascript": [
        "\n",
        "        var $myPB = $(\"div#05f0134a-baf9-4390-b18f-919e8acd0c78\")\n",
        "        if ($myPB.hasClass('ui-progressbar')) {\n",
        "            $myPB.progressbar('value', 85);\n",
        "        } else {\n",
        "            $myPB.progressbar({value: 0, max: 100});\n",
        "        }\n",
        "        "
       ],
       "metadata": {},
       "output_type": "display_data",
       "text": [
        "<IPython.core.display.Javascript at 0x11b359b50>"
       ]
      },
      {
       "javascript": [
        "$('div#93899c4c-8f15-4b29-9645-b071b406820e').text('ETA:  0:00:49');"
       ],
       "metadata": {},
       "output_type": "display_data",
       "text": [
        "<IPython.core.display.Javascript at 0x11b359a90>"
       ]
      },
      {
       "javascript": [
        "$('div#62e93c0f-a331-4e8e-a4ce-e3685364a884').text(' 85%');"
       ],
       "metadata": {},
       "output_type": "display_data",
       "text": [
        "<IPython.core.display.Javascript at 0x11b3592d0>"
       ]
      },
      {
       "javascript": [
        "\n",
        "        var $myPB = $(\"div#05f0134a-baf9-4390-b18f-919e8acd0c78\")\n",
        "        if ($myPB.hasClass('ui-progressbar')) {\n",
        "            $myPB.progressbar('value', 85);\n",
        "        } else {\n",
        "            $myPB.progressbar({value: 0, max: 100});\n",
        "        }\n",
        "        "
       ],
       "metadata": {},
       "output_type": "display_data",
       "text": [
        "<IPython.core.display.Javascript at 0x11b359f10>"
       ]
      },
      {
       "javascript": [
        "$('div#93899c4c-8f15-4b29-9645-b071b406820e').text('ETA:  0:00:49');"
       ],
       "metadata": {},
       "output_type": "display_data",
       "text": [
        "<IPython.core.display.Javascript at 0x11b359550>"
       ]
      },
      {
       "javascript": [
        "$('div#62e93c0f-a331-4e8e-a4ce-e3685364a884').text(' 85%');"
       ],
       "metadata": {},
       "output_type": "display_data",
       "text": [
        "<IPython.core.display.Javascript at 0x11b359610>"
       ]
      },
      {
       "javascript": [
        "\n",
        "        var $myPB = $(\"div#05f0134a-baf9-4390-b18f-919e8acd0c78\")\n",
        "        if ($myPB.hasClass('ui-progressbar')) {\n",
        "            $myPB.progressbar('value', 85);\n",
        "        } else {\n",
        "            $myPB.progressbar({value: 0, max: 100});\n",
        "        }\n",
        "        "
       ],
       "metadata": {},
       "output_type": "display_data",
       "text": [
        "<IPython.core.display.Javascript at 0x11b359310>"
       ]
      },
      {
       "javascript": [
        "$('div#93899c4c-8f15-4b29-9645-b071b406820e').text('ETA:  0:00:49');"
       ],
       "metadata": {},
       "output_type": "display_data",
       "text": [
        "<IPython.core.display.Javascript at 0x11b359390>"
       ]
      },
      {
       "javascript": [
        "$('div#62e93c0f-a331-4e8e-a4ce-e3685364a884').text(' 85%');"
       ],
       "metadata": {},
       "output_type": "display_data",
       "text": [
        "<IPython.core.display.Javascript at 0x11b359790>"
       ]
      },
      {
       "javascript": [
        "\n",
        "        var $myPB = $(\"div#05f0134a-baf9-4390-b18f-919e8acd0c78\")\n",
        "        if ($myPB.hasClass('ui-progressbar')) {\n",
        "            $myPB.progressbar('value', 85);\n",
        "        } else {\n",
        "            $myPB.progressbar({value: 0, max: 100});\n",
        "        }\n",
        "        "
       ],
       "metadata": {},
       "output_type": "display_data",
       "text": [
        "<IPython.core.display.Javascript at 0x11b359510>"
       ]
      },
      {
       "javascript": [
        "$('div#93899c4c-8f15-4b29-9645-b071b406820e').text('ETA:  0:00:49');"
       ],
       "metadata": {},
       "output_type": "display_data",
       "text": [
        "<IPython.core.display.Javascript at 0x11b359490>"
       ]
      },
      {
       "javascript": [
        "$('div#62e93c0f-a331-4e8e-a4ce-e3685364a884').text(' 85%');"
       ],
       "metadata": {},
       "output_type": "display_data",
       "text": [
        "<IPython.core.display.Javascript at 0x11b359e50>"
       ]
      },
      {
       "javascript": [
        "\n",
        "        var $myPB = $(\"div#05f0134a-baf9-4390-b18f-919e8acd0c78\")\n",
        "        if ($myPB.hasClass('ui-progressbar')) {\n",
        "            $myPB.progressbar('value', 85);\n",
        "        } else {\n",
        "            $myPB.progressbar({value: 0, max: 100});\n",
        "        }\n",
        "        "
       ],
       "metadata": {},
       "output_type": "display_data",
       "text": [
        "<IPython.core.display.Javascript at 0x11b359f50>"
       ]
      },
      {
       "javascript": [
        "$('div#93899c4c-8f15-4b29-9645-b071b406820e').text('ETA:  0:00:50');"
       ],
       "metadata": {},
       "output_type": "display_data",
       "text": [
        "<IPython.core.display.Javascript at 0x11b359f90>"
       ]
      },
      {
       "javascript": [
        "$('div#62e93c0f-a331-4e8e-a4ce-e3685364a884').text(' 86%');"
       ],
       "metadata": {},
       "output_type": "display_data",
       "text": [
        "<IPython.core.display.Javascript at 0x11b359cd0>"
       ]
      },
      {
       "javascript": [
        "\n",
        "        var $myPB = $(\"div#05f0134a-baf9-4390-b18f-919e8acd0c78\")\n",
        "        if ($myPB.hasClass('ui-progressbar')) {\n",
        "            $myPB.progressbar('value', 86);\n",
        "        } else {\n",
        "            $myPB.progressbar({value: 0, max: 100});\n",
        "        }\n",
        "        "
       ],
       "metadata": {},
       "output_type": "display_data",
       "text": [
        "<IPython.core.display.Javascript at 0x11b359090>"
       ]
      },
      {
       "javascript": [
        "$('div#93899c4c-8f15-4b29-9645-b071b406820e').text('ETA:  0:00:46');"
       ],
       "metadata": {},
       "output_type": "display_data",
       "text": [
        "<IPython.core.display.Javascript at 0x11b359910>"
       ]
      },
      {
       "javascript": [
        "$('div#62e93c0f-a331-4e8e-a4ce-e3685364a884').text(' 87%');"
       ],
       "metadata": {},
       "output_type": "display_data",
       "text": [
        "<IPython.core.display.Javascript at 0x11b359150>"
       ]
      },
      {
       "javascript": [
        "\n",
        "        var $myPB = $(\"div#05f0134a-baf9-4390-b18f-919e8acd0c78\")\n",
        "        if ($myPB.hasClass('ui-progressbar')) {\n",
        "            $myPB.progressbar('value', 87);\n",
        "        } else {\n",
        "            $myPB.progressbar({value: 0, max: 100});\n",
        "        }\n",
        "        "
       ],
       "metadata": {},
       "output_type": "display_data",
       "text": [
        "<IPython.core.display.Javascript at 0x11b359ad0>"
       ]
      },
      {
       "javascript": [
        "$('div#93899c4c-8f15-4b29-9645-b071b406820e').text('ETA:  0:00:42');"
       ],
       "metadata": {},
       "output_type": "display_data",
       "text": [
        "<IPython.core.display.Javascript at 0x11b359350>"
       ]
      },
      {
       "javascript": [
        "$('div#62e93c0f-a331-4e8e-a4ce-e3685364a884').text(' 87%');"
       ],
       "metadata": {},
       "output_type": "display_data",
       "text": [
        "<IPython.core.display.Javascript at 0x11b359c50>"
       ]
      },
      {
       "javascript": [
        "\n",
        "        var $myPB = $(\"div#05f0134a-baf9-4390-b18f-919e8acd0c78\")\n",
        "        if ($myPB.hasClass('ui-progressbar')) {\n",
        "            $myPB.progressbar('value', 87);\n",
        "        } else {\n",
        "            $myPB.progressbar({value: 0, max: 100});\n",
        "        }\n",
        "        "
       ],
       "metadata": {},
       "output_type": "display_data",
       "text": [
        "<IPython.core.display.Javascript at 0x11b359810>"
       ]
      },
      {
       "javascript": [
        "$('div#93899c4c-8f15-4b29-9645-b071b406820e').text('ETA:  0:00:42');"
       ],
       "metadata": {},
       "output_type": "display_data",
       "text": [
        "<IPython.core.display.Javascript at 0x11b359950>"
       ]
      },
      {
       "javascript": [
        "$('div#62e93c0f-a331-4e8e-a4ce-e3685364a884').text(' 88%');"
       ],
       "metadata": {},
       "output_type": "display_data",
       "text": [
        "<IPython.core.display.Javascript at 0x11b3596d0>"
       ]
      },
      {
       "javascript": [
        "\n",
        "        var $myPB = $(\"div#05f0134a-baf9-4390-b18f-919e8acd0c78\")\n",
        "        if ($myPB.hasClass('ui-progressbar')) {\n",
        "            $myPB.progressbar('value', 88);\n",
        "        } else {\n",
        "            $myPB.progressbar({value: 0, max: 100});\n",
        "        }\n",
        "        "
       ],
       "metadata": {},
       "output_type": "display_data",
       "text": [
        "<IPython.core.display.Javascript at 0x11b3591d0>"
       ]
      },
      {
       "javascript": [
        "$('div#93899c4c-8f15-4b29-9645-b071b406820e').text('ETA:  0:00:39');"
       ],
       "metadata": {},
       "output_type": "display_data",
       "text": [
        "<IPython.core.display.Javascript at 0x11b359450>"
       ]
      },
      {
       "javascript": [
        "$('div#62e93c0f-a331-4e8e-a4ce-e3685364a884').text(' 90%');"
       ],
       "metadata": {},
       "output_type": "display_data",
       "text": [
        "<IPython.core.display.Javascript at 0x11b359290>"
       ]
      },
      {
       "javascript": [
        "\n",
        "        var $myPB = $(\"div#05f0134a-baf9-4390-b18f-919e8acd0c78\")\n",
        "        if ($myPB.hasClass('ui-progressbar')) {\n",
        "            $myPB.progressbar('value', 90);\n",
        "        } else {\n",
        "            $myPB.progressbar({value: 0, max: 100});\n",
        "        }\n",
        "        "
       ],
       "metadata": {},
       "output_type": "display_data",
       "text": [
        "<IPython.core.display.Javascript at 0x11b3595d0>"
       ]
      },
      {
       "javascript": [
        "$('div#93899c4c-8f15-4b29-9645-b071b406820e').text('ETA:  0:00:32');"
       ],
       "metadata": {},
       "output_type": "display_data",
       "text": [
        "<IPython.core.display.Javascript at 0x11b359210>"
       ]
      },
      {
       "javascript": [
        "$('div#62e93c0f-a331-4e8e-a4ce-e3685364a884').text(' 90%');"
       ],
       "metadata": {},
       "output_type": "display_data",
       "text": [
        "<IPython.core.display.Javascript at 0x11b359250>"
       ]
      },
      {
       "javascript": [
        "\n",
        "        var $myPB = $(\"div#05f0134a-baf9-4390-b18f-919e8acd0c78\")\n",
        "        if ($myPB.hasClass('ui-progressbar')) {\n",
        "            $myPB.progressbar('value', 90);\n",
        "        } else {\n",
        "            $myPB.progressbar({value: 0, max: 100});\n",
        "        }\n",
        "        "
       ],
       "metadata": {},
       "output_type": "display_data",
       "text": [
        "<IPython.core.display.Javascript at 0x11b3593d0>"
       ]
      },
      {
       "javascript": [
        "$('div#93899c4c-8f15-4b29-9645-b071b406820e').text('ETA:  0:00:32');"
       ],
       "metadata": {},
       "output_type": "display_data",
       "text": [
        "<IPython.core.display.Javascript at 0x11b359fd0>"
       ]
      },
      {
       "javascript": [
        "$('div#62e93c0f-a331-4e8e-a4ce-e3685364a884').text(' 90%');"
       ],
       "metadata": {},
       "output_type": "display_data",
       "text": [
        "<IPython.core.display.Javascript at 0x11b359690>"
       ]
      },
      {
       "javascript": [
        "\n",
        "        var $myPB = $(\"div#05f0134a-baf9-4390-b18f-919e8acd0c78\")\n",
        "        if ($myPB.hasClass('ui-progressbar')) {\n",
        "            $myPB.progressbar('value', 90);\n",
        "        } else {\n",
        "            $myPB.progressbar({value: 0, max: 100});\n",
        "        }\n",
        "        "
       ],
       "metadata": {},
       "output_type": "display_data",
       "text": [
        "<IPython.core.display.Javascript at 0x11b3597d0>"
       ]
      },
      {
       "javascript": [
        "$('div#93899c4c-8f15-4b29-9645-b071b406820e').text('ETA:  0:00:32');"
       ],
       "metadata": {},
       "output_type": "display_data",
       "text": [
        "<IPython.core.display.Javascript at 0x11b359050>"
       ]
      },
      {
       "javascript": [
        "$('div#62e93c0f-a331-4e8e-a4ce-e3685364a884').text(' 92%');"
       ],
       "metadata": {},
       "output_type": "display_data",
       "text": [
        "<IPython.core.display.Javascript at 0x11b359a50>"
       ]
      },
      {
       "javascript": [
        "\n",
        "        var $myPB = $(\"div#05f0134a-baf9-4390-b18f-919e8acd0c78\")\n",
        "        if ($myPB.hasClass('ui-progressbar')) {\n",
        "            $myPB.progressbar('value', 92);\n",
        "        } else {\n",
        "            $myPB.progressbar({value: 0, max: 100});\n",
        "        }\n",
        "        "
       ],
       "metadata": {},
       "output_type": "display_data",
       "text": [
        "<IPython.core.display.Javascript at 0x11b359590>"
       ]
      },
      {
       "javascript": [
        "$('div#93899c4c-8f15-4b29-9645-b071b406820e').text('ETA:  0:00:25');"
       ],
       "metadata": {},
       "output_type": "display_data",
       "text": [
        "<IPython.core.display.Javascript at 0x11b359990>"
       ]
      },
      {
       "javascript": [
        "$('div#62e93c0f-a331-4e8e-a4ce-e3685364a884').text(' 92%');"
       ],
       "metadata": {},
       "output_type": "display_data",
       "text": [
        "<IPython.core.display.Javascript at 0x11b3594d0>"
       ]
      },
      {
       "javascript": [
        "\n",
        "        var $myPB = $(\"div#05f0134a-baf9-4390-b18f-919e8acd0c78\")\n",
        "        if ($myPB.hasClass('ui-progressbar')) {\n",
        "            $myPB.progressbar('value', 92);\n",
        "        } else {\n",
        "            $myPB.progressbar({value: 0, max: 100});\n",
        "        }\n",
        "        "
       ],
       "metadata": {},
       "output_type": "display_data",
       "text": [
        "<IPython.core.display.Javascript at 0x11b359110>"
       ]
      },
      {
       "javascript": [
        "$('div#93899c4c-8f15-4b29-9645-b071b406820e').text('ETA:  0:00:25');"
       ],
       "metadata": {},
       "output_type": "display_data",
       "text": [
        "<IPython.core.display.Javascript at 0x11b359190>"
       ]
      },
      {
       "javascript": [
        "$('div#62e93c0f-a331-4e8e-a4ce-e3685364a884').text(' 93%');"
       ],
       "metadata": {},
       "output_type": "display_data",
       "text": [
        "<IPython.core.display.Javascript at 0x11b359650>"
       ]
      },
      {
       "javascript": [
        "\n",
        "        var $myPB = $(\"div#05f0134a-baf9-4390-b18f-919e8acd0c78\")\n",
        "        if ($myPB.hasClass('ui-progressbar')) {\n",
        "            $myPB.progressbar('value', 93);\n",
        "        } else {\n",
        "            $myPB.progressbar({value: 0, max: 100});\n",
        "        }\n",
        "        "
       ],
       "metadata": {},
       "output_type": "display_data",
       "text": [
        "<IPython.core.display.Javascript at 0x11b359410>"
       ]
      },
      {
       "javascript": [
        "$('div#93899c4c-8f15-4b29-9645-b071b406820e').text('ETA:  0:00:22');"
       ],
       "metadata": {},
       "output_type": "display_data",
       "text": [
        "<IPython.core.display.Javascript at 0x11b359850>"
       ]
      },
      {
       "javascript": [
        "$('div#62e93c0f-a331-4e8e-a4ce-e3685364a884').text(' 95%');"
       ],
       "metadata": {},
       "output_type": "display_data",
       "text": [
        "<IPython.core.display.Javascript at 0x11b359c90>"
       ]
      },
      {
       "javascript": [
        "\n",
        "        var $myPB = $(\"div#05f0134a-baf9-4390-b18f-919e8acd0c78\")\n",
        "        if ($myPB.hasClass('ui-progressbar')) {\n",
        "            $myPB.progressbar('value', 95);\n",
        "        } else {\n",
        "            $myPB.progressbar({value: 0, max: 100});\n",
        "        }\n",
        "        "
       ],
       "metadata": {},
       "output_type": "display_data",
       "text": [
        "<IPython.core.display.Javascript at 0x11b359bd0>"
       ]
      },
      {
       "javascript": [
        "$('div#93899c4c-8f15-4b29-9645-b071b406820e').text('ETA:  0:00:15');"
       ],
       "metadata": {},
       "output_type": "display_data",
       "text": [
        "<IPython.core.display.Javascript at 0x11b359ed0>"
       ]
      },
      {
       "javascript": [
        "$('div#62e93c0f-a331-4e8e-a4ce-e3685364a884').text(' 95%');"
       ],
       "metadata": {},
       "output_type": "display_data",
       "text": [
        "<IPython.core.display.Javascript at 0x11b359850>"
       ]
      },
      {
       "javascript": [
        "\n",
        "        var $myPB = $(\"div#05f0134a-baf9-4390-b18f-919e8acd0c78\")\n",
        "        if ($myPB.hasClass('ui-progressbar')) {\n",
        "            $myPB.progressbar('value', 95);\n",
        "        } else {\n",
        "            $myPB.progressbar({value: 0, max: 100});\n",
        "        }\n",
        "        "
       ],
       "metadata": {},
       "output_type": "display_data",
       "text": [
        "<IPython.core.display.Javascript at 0x11b359410>"
       ]
      },
      {
       "javascript": [
        "$('div#93899c4c-8f15-4b29-9645-b071b406820e').text('ETA:  0:00:15');"
       ],
       "metadata": {},
       "output_type": "display_data",
       "text": [
        "<IPython.core.display.Javascript at 0x11b359c90>"
       ]
      },
      {
       "javascript": [
        "$('div#62e93c0f-a331-4e8e-a4ce-e3685364a884').text(' 95%');"
       ],
       "metadata": {},
       "output_type": "display_data",
       "text": [
        "<IPython.core.display.Javascript at 0x11b3591d0>"
       ]
      },
      {
       "javascript": [
        "\n",
        "        var $myPB = $(\"div#05f0134a-baf9-4390-b18f-919e8acd0c78\")\n",
        "        if ($myPB.hasClass('ui-progressbar')) {\n",
        "            $myPB.progressbar('value', 95);\n",
        "        } else {\n",
        "            $myPB.progressbar({value: 0, max: 100});\n",
        "        }\n",
        "        "
       ],
       "metadata": {},
       "output_type": "display_data",
       "text": [
        "<IPython.core.display.Javascript at 0x11b359150>"
       ]
      },
      {
       "javascript": [
        "$('div#93899c4c-8f15-4b29-9645-b071b406820e').text('ETA:  0:00:15');"
       ],
       "metadata": {},
       "output_type": "display_data",
       "text": [
        "<IPython.core.display.Javascript at 0x11b359ad0>"
       ]
      },
      {
       "javascript": [
        "$('div#62e93c0f-a331-4e8e-a4ce-e3685364a884').text(' 95%');"
       ],
       "metadata": {},
       "output_type": "display_data",
       "text": [
        "<IPython.core.display.Javascript at 0x11b3594d0>"
       ]
      },
      {
       "javascript": [
        "\n",
        "        var $myPB = $(\"div#05f0134a-baf9-4390-b18f-919e8acd0c78\")\n",
        "        if ($myPB.hasClass('ui-progressbar')) {\n",
        "            $myPB.progressbar('value', 95);\n",
        "        } else {\n",
        "            $myPB.progressbar({value: 0, max: 100});\n",
        "        }\n",
        "        "
       ],
       "metadata": {},
       "output_type": "display_data",
       "text": [
        "<IPython.core.display.Javascript at 0x11b359450>"
       ]
      },
      {
       "javascript": [
        "$('div#93899c4c-8f15-4b29-9645-b071b406820e').text('ETA:  0:00:15');"
       ],
       "metadata": {},
       "output_type": "display_data",
       "text": [
        "<IPython.core.display.Javascript at 0x11b359f90>"
       ]
      },
      {
       "javascript": [
        "$('div#62e93c0f-a331-4e8e-a4ce-e3685364a884').text(' 96%');"
       ],
       "metadata": {},
       "output_type": "display_data",
       "text": [
        "<IPython.core.display.Javascript at 0x11b359250>"
       ]
      },
      {
       "javascript": [
        "\n",
        "        var $myPB = $(\"div#05f0134a-baf9-4390-b18f-919e8acd0c78\")\n",
        "        if ($myPB.hasClass('ui-progressbar')) {\n",
        "            $myPB.progressbar('value', 96);\n",
        "        } else {\n",
        "            $myPB.progressbar({value: 0, max: 100});\n",
        "        }\n",
        "        "
       ],
       "metadata": {},
       "output_type": "display_data",
       "text": [
        "<IPython.core.display.Javascript at 0x11b359110>"
       ]
      },
      {
       "javascript": [
        "$('div#93899c4c-8f15-4b29-9645-b071b406820e').text('ETA:  0:00:12');"
       ],
       "metadata": {},
       "output_type": "display_data",
       "text": [
        "<IPython.core.display.Javascript at 0x11b359490>"
       ]
      },
      {
       "javascript": [
        "$('div#62e93c0f-a331-4e8e-a4ce-e3685364a884').text(' 97%');"
       ],
       "metadata": {},
       "output_type": "display_data",
       "text": [
        "<IPython.core.display.Javascript at 0x11b359cd0>"
       ]
      },
      {
       "javascript": [
        "\n",
        "        var $myPB = $(\"div#05f0134a-baf9-4390-b18f-919e8acd0c78\")\n",
        "        if ($myPB.hasClass('ui-progressbar')) {\n",
        "            $myPB.progressbar('value', 97);\n",
        "        } else {\n",
        "            $myPB.progressbar({value: 0, max: 100});\n",
        "        }\n",
        "        "
       ],
       "metadata": {},
       "output_type": "display_data",
       "text": [
        "<IPython.core.display.Javascript at 0x11b3593d0>"
       ]
      },
      {
       "javascript": [
        "$('div#93899c4c-8f15-4b29-9645-b071b406820e').text('ETA:  0:00:09');"
       ],
       "metadata": {},
       "output_type": "display_data",
       "text": [
        "<IPython.core.display.Javascript at 0x11b359390>"
       ]
      },
      {
       "javascript": [
        "$('div#62e93c0f-a331-4e8e-a4ce-e3685364a884').text(' 97%');"
       ],
       "metadata": {},
       "output_type": "display_data",
       "text": [
        "<IPython.core.display.Javascript at 0x11b359e50>"
       ]
      },
      {
       "javascript": [
        "\n",
        "        var $myPB = $(\"div#05f0134a-baf9-4390-b18f-919e8acd0c78\")\n",
        "        if ($myPB.hasClass('ui-progressbar')) {\n",
        "            $myPB.progressbar('value', 97);\n",
        "        } else {\n",
        "            $myPB.progressbar({value: 0, max: 100});\n",
        "        }\n",
        "        "
       ],
       "metadata": {},
       "output_type": "display_data",
       "text": [
        "<IPython.core.display.Javascript at 0x11b359210>"
       ]
      },
      {
       "javascript": [
        "$('div#93899c4c-8f15-4b29-9645-b071b406820e').text('ETA:  0:00:09');"
       ],
       "metadata": {},
       "output_type": "display_data",
       "text": [
        "<IPython.core.display.Javascript at 0x11b359550>"
       ]
      },
      {
       "javascript": [
        "$('div#62e93c0f-a331-4e8e-a4ce-e3685364a884').text(' 97%');"
       ],
       "metadata": {},
       "output_type": "display_data",
       "text": [
        "<IPython.core.display.Javascript at 0x11b359790>"
       ]
      },
      {
       "javascript": [
        "\n",
        "        var $myPB = $(\"div#05f0134a-baf9-4390-b18f-919e8acd0c78\")\n",
        "        if ($myPB.hasClass('ui-progressbar')) {\n",
        "            $myPB.progressbar('value', 97);\n",
        "        } else {\n",
        "            $myPB.progressbar({value: 0, max: 100});\n",
        "        }\n",
        "        "
       ],
       "metadata": {},
       "output_type": "display_data",
       "text": [
        "<IPython.core.display.Javascript at 0x11b359810>"
       ]
      },
      {
       "javascript": [
        "$('div#93899c4c-8f15-4b29-9645-b071b406820e').text('ETA:  0:00:09');"
       ],
       "metadata": {},
       "output_type": "display_data",
       "text": [
        "<IPython.core.display.Javascript at 0x11b359a90>"
       ]
      },
      {
       "javascript": [
        "$('div#62e93c0f-a331-4e8e-a4ce-e3685364a884').text(' 98%');"
       ],
       "metadata": {},
       "output_type": "display_data",
       "text": [
        "<IPython.core.display.Javascript at 0x11b359610>"
       ]
      },
      {
       "javascript": [
        "\n",
        "        var $myPB = $(\"div#05f0134a-baf9-4390-b18f-919e8acd0c78\")\n",
        "        if ($myPB.hasClass('ui-progressbar')) {\n",
        "            $myPB.progressbar('value', 98);\n",
        "        } else {\n",
        "            $myPB.progressbar({value: 0, max: 100});\n",
        "        }\n",
        "        "
       ],
       "metadata": {},
       "output_type": "display_data",
       "text": [
        "<IPython.core.display.Javascript at 0x11b359650>"
       ]
      },
      {
       "javascript": [
        "$('div#93899c4c-8f15-4b29-9645-b071b406820e').text('ETA:  0:00:06');"
       ],
       "metadata": {},
       "output_type": "display_data",
       "text": [
        "<IPython.core.display.Javascript at 0x11b359b10>"
       ]
      },
      {
       "javascript": [
        "$('div#62e93c0f-a331-4e8e-a4ce-e3685364a884').text(' 99%');"
       ],
       "metadata": {},
       "output_type": "display_data",
       "text": [
        "<IPython.core.display.Javascript at 0x11b3592d0>"
       ]
      },
      {
       "javascript": [
        "\n",
        "        var $myPB = $(\"div#05f0134a-baf9-4390-b18f-919e8acd0c78\")\n",
        "        if ($myPB.hasClass('ui-progressbar')) {\n",
        "            $myPB.progressbar('value', 99);\n",
        "        } else {\n",
        "            $myPB.progressbar({value: 0, max: 100});\n",
        "        }\n",
        "        "
       ],
       "metadata": {},
       "output_type": "display_data",
       "text": [
        "<IPython.core.display.Javascript at 0x11b359910>"
       ]
      },
      {
       "javascript": [
        "$('div#93899c4c-8f15-4b29-9645-b071b406820e').text('ETA:  0:00:03');"
       ],
       "metadata": {},
       "output_type": "display_data",
       "text": [
        "<IPython.core.display.Javascript at 0x11b359750>"
       ]
      },
      {
       "javascript": [
        "$('div#62e93c0f-a331-4e8e-a4ce-e3685364a884').text(' 99%');"
       ],
       "metadata": {},
       "output_type": "display_data",
       "text": [
        "<IPython.core.display.Javascript at 0x1076e7990>"
       ]
      },
      {
       "javascript": [
        "\n",
        "        var $myPB = $(\"div#05f0134a-baf9-4390-b18f-919e8acd0c78\")\n",
        "        if ($myPB.hasClass('ui-progressbar')) {\n",
        "            $myPB.progressbar('value', 99);\n",
        "        } else {\n",
        "            $myPB.progressbar({value: 0, max: 100});\n",
        "        }\n",
        "        "
       ],
       "metadata": {},
       "output_type": "display_data",
       "text": [
        "<IPython.core.display.Javascript at 0x1076e75d0>"
       ]
      },
      {
       "javascript": [
        "$('div#93899c4c-8f15-4b29-9645-b071b406820e').text('ETA:  0:00:03');"
       ],
       "metadata": {},
       "output_type": "display_data",
       "text": [
        "<IPython.core.display.Javascript at 0x11e011610>"
       ]
      },
      {
       "javascript": [
        "$('div#62e93c0f-a331-4e8e-a4ce-e3685364a884').text(' 99%');"
       ],
       "metadata": {},
       "output_type": "display_data",
       "text": [
        "<IPython.core.display.Javascript at 0x11b359b90>"
       ]
      },
      {
       "javascript": [
        "\n",
        "        var $myPB = $(\"div#05f0134a-baf9-4390-b18f-919e8acd0c78\")\n",
        "        if ($myPB.hasClass('ui-progressbar')) {\n",
        "            $myPB.progressbar('value', 99);\n",
        "        } else {\n",
        "            $myPB.progressbar({value: 0, max: 100});\n",
        "        }\n",
        "        "
       ],
       "metadata": {},
       "output_type": "display_data",
       "text": [
        "<IPython.core.display.Javascript at 0x11b359510>"
       ]
      },
      {
       "javascript": [
        "$('div#93899c4c-8f15-4b29-9645-b071b406820e').text('ETA:  0:00:03');"
       ],
       "metadata": {},
       "output_type": "display_data",
       "text": [
        "<IPython.core.display.Javascript at 0x11b359950>"
       ]
      },
      {
       "javascript": [
        "$('div#62e93c0f-a331-4e8e-a4ce-e3685364a884').text('100%');"
       ],
       "metadata": {},
       "output_type": "display_data",
       "text": [
        "<IPython.core.display.Javascript at 0x11b359d90>"
       ]
      },
      {
       "javascript": [
        "\n",
        "        var $myPB = $(\"div#05f0134a-baf9-4390-b18f-919e8acd0c78\")\n",
        "        if ($myPB.hasClass('ui-progressbar')) {\n",
        "            $myPB.progressbar('value', 100);\n",
        "        } else {\n",
        "            $myPB.progressbar({value: 0, max: 100});\n",
        "        }\n",
        "        "
       ],
       "metadata": {},
       "output_type": "display_data",
       "text": [
        "<IPython.core.display.Javascript at 0x11b359310>"
       ]
      },
      {
       "javascript": [
        "$('div#93899c4c-8f15-4b29-9645-b071b406820e').text('Time: 0:05:07');"
       ],
       "metadata": {},
       "output_type": "display_data",
       "text": [
        "<IPython.core.display.Javascript at 0x11b359890>"
       ]
      },
      {
       "javascript": [
        "var element = document.getElementById('9529e6dd-cfee-47e0-a3d5-93107a2f9fa4');\n",
        "                    var parent = element.parentNode\n",
        "                    parent.removeChild(element);\n",
        "                    parent.parentElement.remove();"
       ],
       "metadata": {},
       "output_type": "display_data",
       "text": [
        "<IPython.core.display.Javascript at 0x1076e7190>"
       ]
      },
      {
       "javascript": [
        "this.cleanProgressBar(['9529e6dd-cfee-47e0-a3d5-93107a2f9fa4', '62e93c0f-a331-4e8e-a4ce-e3685364a884', '05f0134a-baf9-4390-b18f-919e8acd0c78', '93899c4c-8f15-4b29-9645-b071b406820e'])"
       ],
       "metadata": {},
       "output_type": "display_data",
       "text": [
        "<IPython.core.display.Javascript at 0x11b359d50>"
       ]
      },
      {
       "output_type": "stream",
       "stream": "stdout",
       "text": [
        "-4.43034052460432\n",
        "-42.425870589076204\n",
        "-56.7940233563685\n"
       ]
      }
     ],
     "prompt_number": 16
    },
    {
     "cell_type": "code",
     "collapsed": false,
     "input": [],
     "language": "python",
     "metadata": {},
     "outputs": []
    }
   ],
   "metadata": {}
  }
 ]
}