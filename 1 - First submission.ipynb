{
 "metadata": {
  "name": "",
  "signature": "sha256:a4d3eabadc1852bb92c40dab2b7a6175bb078c2f94d9c3693d26a4593b556a94"
 },
 "nbformat": 3,
 "nbformat_minor": 0,
 "worksheets": [
  {
   "cells": [
    {
     "cell_type": "markdown",
     "metadata": {},
     "source": [
      "# First submission: A random guess\n",
      "## Installing the necessary module\n",
      "\n",
      "You must first install the `inspire` Python module.\n",
      "\n",
      "This can be done using `pip` by running the following command in your terminal:\n",
      "```\n",
      "pip install inspire\n",
      "```\n",
      "\n",
      "You may also run the following command to upgrade to the latest version:\n",
      "```\n",
      "pip install --upgrade inspire\n",
      "```\n",
      "\n",
      "After installing or upgrading the `inspire` module one must **restart the IPython Notebook**."
     ]
    },
    {
     "cell_type": "markdown",
     "metadata": {},
     "source": [
      "## Importing the necessary modules\n",
      "To start with we will import the modules we are going to use throughout this tutorial."
     ]
    },
    {
     "cell_type": "code",
     "collapsed": false,
     "input": [
      "import numpy as np\n",
      "import inspire"
     ],
     "language": "python",
     "metadata": {},
     "outputs": [],
     "prompt_number": 45
    },
    {
     "cell_type": "markdown",
     "metadata": {},
     "source": [
      "## The setting\n",
      "An evaluation setting is composed of a dataset, a lexicon and several evaluation parameters. A submission will always be tied to a given evaluation setting.  Therefore our first job is to get an evaluation setting to work on.\n",
      "\n",
      "By not passing any parameters we will be getting the default one.  Currently the default setting is a dataset of words in Spanish and a large vocabulary lexicon in IPA encoding."
     ]
    },
    {
     "cell_type": "code",
     "collapsed": false,
     "input": [
      "setting = inspire.get_evaluation_setting()"
     ],
     "language": "python",
     "metadata": {},
     "outputs": [],
     "prompt_number": 46
    },
    {
     "cell_type": "markdown",
     "metadata": {},
     "source": [
      "## The dataset\n",
      "Next we download the dataset, load it, and have a quick peek at what is in it."
     ]
    },
    {
     "cell_type": "code",
     "collapsed": false,
     "input": [
      "dataset_filename = setting.download_dataset()\n",
      "dataset = inspire.load_dataset(dataset_filename)\n",
      "\n",
      "print('There are {} tokens in dataset'.format(len(dataset['tokens'])))"
     ],
     "language": "python",
     "metadata": {},
     "outputs": [
      {
       "output_type": "stream",
       "stream": "stdout",
       "text": [
        "There are 3239 tokens in dataset\n"
       ]
      }
     ],
     "prompt_number": 47
    },
    {
     "cell_type": "markdown",
     "metadata": {},
     "source": [
      "We may now print a token of the dataset:"
     ]
    },
    {
     "cell_type": "code",
     "collapsed": false,
     "input": [
      "inspire.pprint(dataset['tokens']['35541'])"
     ],
     "language": "python",
     "metadata": {},
     "outputs": [
      {
       "output_type": "stream",
       "stream": "stdout",
       "text": [
        "{u'noise_onset': 532600,\n",
        " u'noise_transcription': u'BAB4.txt',\n",
        " u'noise_type': u'bab4',\n",
        " u'noise_wav': u'BAB4.wav',\n",
        " u'signal_wav': u'T_35541.wav',\n",
        " u'snr': -2.039,\n",
        " u'speaker': u's1',\n",
        " u'speech': u'pequen\u0303os'}\n"
       ]
      }
     ],
     "prompt_number": 4
    },
    {
     "cell_type": "markdown",
     "metadata": {},
     "source": [
      "Our data is a class deriving from a Python dictionary containing an entry named `tokens` with a mapping from a stimulus ID to a stimulus (also named token) presented to a set of listeners.\n",
      "The stimulus itself is represented as a dictionary, with entries for several properties of the stimulus presented: \n",
      "\n",
      "* **type of noise** `noise_type`\n",
      "* **speaker ID** `speaker`\n",
      "* **signal-to-noise ratio** `snr`\n",
      "\n",
      "The filenames of the audios:\n",
      "\n",
      "* **signal wave file** `signal_wav`\n",
      "* **noise wave file** `noise_wav`\n",
      "\n",
      "And the underlying word that was presented as well as those that were reported by the listeners:\n",
      "\n",
      "* **presented word** `speech`\n",
      "\n",
      "Additionally there are 10% of the tokens in the dataset that are considered tokens belonging to the development set and for which the responses given by listeners are provided.  These may be used for training purposes."
     ]
    },
    {
     "cell_type": "code",
     "collapsed": false,
     "input": [
      "inspire.pprint(dataset['tokens']['36504'])"
     ],
     "language": "python",
     "metadata": {},
     "outputs": [
      {
       "output_type": "stream",
       "stream": "stdout",
       "text": [
        "{u'noise_onset': 790069,\n",
        " u'noise_transcription': u'BAB8.txt',\n",
        " u'noise_type': u'bab8',\n",
        " u'noise_wav': u'BAB8.wav',\n",
        " u'responses': {u'manda': 2,\n",
        "                u'mandas': 2,\n",
        "                u'mando': 1,\n",
        "                u'mandos': 1,\n",
        "                u'mangos': 1,\n",
        "                u'mano': 1,\n",
        "                u'manos': 6,\n",
        "                u'mantas': 1},\n",
        " u'signal_wav': u'T_36504.wav',\n",
        " u'snr': 0.4,\n",
        " u'speaker': u's1',\n",
        " u'speech': u'mandan'}\n"
       ]
      }
     ],
     "prompt_number": 5
    },
    {
     "cell_type": "markdown",
     "metadata": {},
     "source": [
      "## The lexicon\n",
      "Since all the tasks are based on the pronunciations of the words, our next step is to load a lexicon.\n",
      "The lexicon is not in JSON format, it is in a format that HTK understands, therefore parsing it takes a bit more work. Luckily for you we have a written a function to do just that:\n",
      "\n",
      "We will first download the lexicon, load it, and have a quick peek at what is in it."
     ]
    },
    {
     "cell_type": "code",
     "collapsed": false,
     "input": [
      "lexicon_filename = setting.download_lexicon()\n",
      "lexicon = inspire.load_lexicon(lexicon_filename)\n",
      "\n",
      "print('There are {} words in the lexicon'.format(len(lexicon)))"
     ],
     "language": "python",
     "metadata": {},
     "outputs": [
      {
       "output_type": "stream",
       "stream": "stdout",
       "text": [
        "There are 738967 words in the lexicon\n"
       ]
      }
     ],
     "prompt_number": 6
    },
    {
     "cell_type": "markdown",
     "metadata": {},
     "source": [
      "The lexicon is a subclass of a Python dictionary mapping from a word to a set of pronunciations.  The pronunciations are lists of strings where each string represents a phoneme.\n",
      "\n",
      "To use the lexicon we simply query it as we would do with any other Python dictionary.  Note that the case of the words is ignored when querying the lexicon:"
     ]
    },
    {
     "cell_type": "code",
     "collapsed": false,
     "input": [
      "inspire.pprint('Is \"ayuda\" in the lexicon? {}'.format('ayuda' in lexicon))\n",
      "inspire.pprint(lexicon['ayuda'])"
     ],
     "language": "python",
     "metadata": {},
     "outputs": [
      {
       "output_type": "stream",
       "stream": "stdout",
       "text": [
        "'Is \"ayuda\" in the lexicon? True'\n",
        "[[u'a', u'j', u'j', u'\u02c8u', u'\u00f0', u'a']]\n"
       ]
      }
     ],
     "prompt_number": 7
    },
    {
     "cell_type": "markdown",
     "metadata": {},
     "source": [
      "## The alignments\n",
      "Using the pronunciations in the lexicon, we can print all the alignments accepted for a pair of words: "
     ]
    },
    {
     "cell_type": "code",
     "collapsed": false,
     "input": [
      "edit_scripts = inspire.get_edit_scripts(lexicon['maletero'][0], lexicon['entero'][0])\n",
      "for edit_script in edit_scripts:\n",
      "    inspire.print_edit_script(edit_script)\n",
      "    print('---')"
     ],
     "language": "python",
     "metadata": {},
     "outputs": [
      {
       "output_type": "stream",
       "stream": "stdout",
       "text": [
        "\u001b[31mm\u001b[m \u001b[31m\u02cca\u001b[m \u001b[31ml\u001b[m \u001b[31me\u001b[m \u001b[32mt\u001b[m \u001b[32m\u02c8\u025b\u001b[m \u001b[32m\u027e\u001b[m \u001b[32m\u0254\u001b[m \n",
        "\u001b[41m \u001b[m \u001b[41m  \u001b[m \u001b[31m\u025b\u001b[m \u001b[31mn\u001b[m \u001b[32mt\u001b[m \u001b[32m\u02c8\u025b\u001b[m \u001b[32m\u027e\u001b[m \u001b[32m\u0254\u001b[m \n",
        "---\n",
        "\u001b[31mm\u001b[m \u001b[31m\u02cca\u001b[m \u001b[31ml\u001b[m \u001b[31me\u001b[m \u001b[32mt\u001b[m \u001b[32m\u02c8\u025b\u001b[m \u001b[32m\u027e\u001b[m \u001b[32m\u0254\u001b[m \n",
        "\u001b[41m \u001b[m \u001b[31m\u025b \u001b[m \u001b[31mn\u001b[m \u001b[41m \u001b[m \u001b[32mt\u001b[m \u001b[32m\u02c8\u025b\u001b[m \u001b[32m\u027e\u001b[m \u001b[32m\u0254\u001b[m \n",
        "---\n",
        "\u001b[31mm\u001b[m \u001b[31m\u02cca\u001b[m \u001b[31ml\u001b[m \u001b[31me\u001b[m \u001b[32mt\u001b[m \u001b[32m\u02c8\u025b\u001b[m \u001b[32m\u027e\u001b[m \u001b[32m\u0254\u001b[m \n",
        "\u001b[31m\u025b\u001b[m \u001b[31mn \u001b[m \u001b[41m \u001b[m \u001b[41m \u001b[m \u001b[32mt\u001b[m \u001b[32m\u02c8\u025b\u001b[m \u001b[32m\u027e\u001b[m \u001b[32m\u0254\u001b[m \n",
        "---\n"
       ]
      }
     ],
     "prompt_number": 8
    },
    {
     "cell_type": "markdown",
     "metadata": {},
     "source": [
      "## The submission\n",
      "To make submissions to the INSPIRE Challenge you must have an account on the INSPIRE Challenge: [Click here to register](http://143.167.9.43:5000/register)\n",
      "\n",
      "Note don't use a secure password, since in order to simplify the tasks it may be sent as plain text to the server.\n",
      "The email and password will be used in the following steps to create and submit our predictions.\n",
      "\n",
      "### Preparation of the submission\n",
      "A submission consists of a dictionary data structure containing metadata (information of the participant, the challenge edition and contact details) and the predictions for the stimuli.  The predictions are stored in a data structure similar to that of the dataset (a list of dictionaries, one per stimulus).  Each stimulus dictionary must contain the `token_id` and then a list of task predictions `task_prediction` each task prediction is a dictionary containing a `task` property indicating what task it is solving and the `prediction` which is dictionary whose form depends on the task.\n",
      "\n",
      "In order to avoid errors when creating the participation data structure, we have built a Python class that eases the job."
     ]
    },
    {
     "cell_type": "code",
     "collapsed": false,
     "input": [
      "submission = inspire.Submission(email='dummy@email.com',\n",
      "                                description='''Random Guess:\n",
      "where task: For the phoneme positions we predict a 50% chance of observing a confusion. We predict a 1% chance of confusion at the inter-phoneme positions and a 30% chance of confusion at the positions before and after the utterance.\n",
      "what task: We only provide predictions for the phoneme positions, we do not provide predictions for inter-phoneme positions. We predict a 50% chance of not observing a confusion (the presented phoneme will remain) and a 5% of deleting the phoneme.\n",
      "full task: We predict a 10% chance of not observing a confusion (the ellicited pronunciation being reported).''',\n",
      "                                evaluation_setting=setting)"
     ],
     "language": "python",
     "metadata": {},
     "outputs": [],
     "prompt_number": 9
    },
    {
     "cell_type": "markdown",
     "metadata": {},
     "source": [
      "### Adding the predictions of the tasks\n",
      "We iterate over the dataset and for each presented word we query it's pronunciations, and arbitrarily select one.\n",
      "We will then produce the predictions for each of the tasks.  In this simple baseline random guessing scenario we will follow the same predcition strategy independently of the token:\n",
      "\n",
      "* **where task** For the phoneme positions we predict a 50% chance of observing a confusion. We predict a 1% chance of confusion at the inter-phoneme positions and a 30% chance of confusion at the positions before and after the utterance.\n",
      "* **what task** We only provide predictions for the phoneme positions, we do not provide predictions for inter-phoneme positions. We predict a 50% chance of not observing a confusion (the presented phoneme will remain) and a 5% of deleting the phoneme.\n",
      "* **full task** We predict a 10% chance of not observing a confusion (the ellicited pronunciation being reported)."
     ]
    },
    {
     "cell_type": "code",
     "collapsed": false,
     "input": [
      "# Iterate over all the stimuli in our dataset\n",
      "for token_id, token  in dataset['tokens'].items():   \n",
      "    # Lexicon may contain multiple pronunciations (we arbitrarily select the first)\n",
      "    word = token['speech']\n",
      "    pronunciation = lexicon[word][0]\n",
      "    \n",
      "    # Possible indices of confusions\n",
      "    # are the number of phonemes plus\n",
      "    # the number of positions around phonemes\n",
      "    index_count = len(pronunciation)*2 + 1\n",
      "    \n",
      "    confusion_probabilities = np.zeros(index_count)\n",
      "\n",
      "    # Our random guess for the Where task assumes:\n",
      "    #  - a 30% chance of finding a confusion at all phoneme positions (substitutions or removals)\n",
      "    confusion_probabilities[1::2] = 0.3\n",
      "    \n",
      "    #  - a 1% chance of finding an insertion between all phoneme positions (insertions)\n",
      "    confusion_probabilities[2:-2:2] = 0.01\n",
      "    \n",
      "    #  - a 50% chance of finding insertions of phonemes at beginning and end of words (insertions)\n",
      "    confusion_probabilities[0] = 0.5\n",
      "    confusion_probabilities[-1] = 0.5\n",
      "            \n",
      "    submission.where_task(token_id, confusion_probabilities)\n",
      "    \n",
      "    # Our random guess for the What task assumes:\n",
      "    # Phonemes are represented as strings\n",
      "    # Sequence of phonemes are space joined strings\n",
      "    # A removal is represented as an empty string\n",
      "    for phoneme_index, phoneme in enumerate(pronunciation):\n",
      "        index = phoneme_index*2 + 1\n",
      "        \n",
      "        non_confusion_probability = 1 - confusion_probabilities[phoneme_index]\n",
      "        \n",
      "        #  - a naive guess (same as used in the where task) of not changing the phoneme\n",
      "        submission.what_task(token_id, index, phoneme, non_confusion_probability)\n",
      "\n",
      "        #  - a 5% chance of phoneme removal\n",
      "        submission.what_task(token_id, index, '', 0.05)\n",
      "        \n",
      "    # Our random guess for the Full task assumes:\n",
      "    #  - a 10% chance of reporting the pronunciation of the presented utterance\n",
      "    submission.full_task(token_id, pronunciation, 0.1)"
     ],
     "language": "python",
     "metadata": {},
     "outputs": [],
     "prompt_number": 10
    },
    {
     "cell_type": "markdown",
     "metadata": {},
     "source": [
      "Once the submission has been created we can print the predictions of a given token.\n",
      "This is also useful to understand the JSON format of a submission."
     ]
    },
    {
     "cell_type": "code",
     "collapsed": false,
     "input": [
      "inspire.pprint(submission['tokens']['35541'])"
     ],
     "language": "python",
     "metadata": {},
     "outputs": [
      {
       "output_type": "stream",
       "stream": "stdout",
       "text": [
        "{u'full': {u'p e k \u02c8e \u0272 o s': 0.1},\n",
        " u'what': {'1': {'': 0.05, u'p': 0.5},\n",
        "           '11': {'': 0.05, u'o': 0.69999999999999996},\n",
        "           '13': {'': 0.05, u's': 0.98999999999999999},\n",
        "           '3': {'': 0.05, u'e': 0.69999999999999996},\n",
        "           '5': {'': 0.05, u'k': 0.98999999999999999},\n",
        "           '7': {'': 0.05, u'\u02c8e': 0.69999999999999996},\n",
        "           '9': {'': 0.05, u'\u0272': 0.98999999999999999}},\n",
        " u'where': [0.5,\n",
        "            0.29999999999999999,\n",
        "            0.01,\n",
        "            0.29999999999999999,\n",
        "            0.01,\n",
        "            0.29999999999999999,\n",
        "            0.01,\n",
        "            0.29999999999999999,\n",
        "            0.01,\n",
        "            0.29999999999999999,\n",
        "            0.01,\n",
        "            0.29999999999999999,\n",
        "            0.01,\n",
        "            0.29999999999999999,\n",
        "            0.5]}\n"
       ]
      }
     ],
     "prompt_number": 52
    },
    {
     "cell_type": "markdown",
     "metadata": {},
     "source": [
      "We can also save the submission as a JSON file."
     ]
    },
    {
     "cell_type": "code",
     "collapsed": false,
     "input": [
      "submission.save('submission_random_guess.gz')"
     ],
     "language": "python",
     "metadata": {},
     "outputs": [],
     "prompt_number": 12
    },
    {
     "cell_type": "markdown",
     "metadata": {},
     "source": [
      "### Evaluating before submitting\n",
      "\n",
      "Sometimes we might not want to submit, and simply evaluate a submission.  In that case we may call `evaluate()`.\n",
      "\n",
      "The evaluation is only performed on the development subset to allow a fast evaluation."
     ]
    },
    {
     "cell_type": "code",
     "collapsed": false,
     "input": [
      "job_eval = submission.evaluate(password='dummypassword')"
     ],
     "language": "python",
     "metadata": {},
     "outputs": [],
     "prompt_number": 39
    },
    {
     "cell_type": "markdown",
     "metadata": {},
     "source": [
      "The `job` that we obtain is an object that allows us to check if the result is available using `job.ready()`, wait for it to finish using `job.wait()` and obtain the result using `job.result()`.\n",
      "\n",
      "**Note: ** Calling `job.wait()` will block until the result is ready or the job has failed."
     ]
    },
    {
     "cell_type": "code",
     "collapsed": false,
     "input": [
      "print('Is the job ready? {}'.format(job_eval.ready()))"
     ],
     "language": "python",
     "metadata": {},
     "outputs": [
      {
       "output_type": "stream",
       "stream": "stdout",
       "text": [
        "Is the job ready? False\n"
       ]
      }
     ],
     "prompt_number": 40
    },
    {
     "cell_type": "code",
     "collapsed": false,
     "input": [
      "job_eval.wait()\n",
      "result = job_eval.result()\n",
      "\n",
      "inspire.pprint(result['where']['token_averaged'])\n",
      "inspire.pprint(result['what']['token_averaged'])\n",
      "inspire.pprint(result['full']['token_averaged'])"
     ],
     "language": "python",
     "metadata": {},
     "outputs": [
      {
       "javascript": [
        "//edf1d80c-1f9c-4e5c-931b-9fd4f496cf0d\n",
        "$(\"head\").append(\"<style> td.pb_widget {     width: auto; } td.pb_widget_fill {     width: 100%; } table.pb {     font-family: monospace;     border: 0;     margin: 0; } table.pb tr { border: 0; } table.pb td {     white-space: nowrap;     border: 0; } div.pb {     border: 1px solid #ddd;     border-radius: 3px; } div.pb_bar {     height: 1.5em; } </style>\")"
       ],
       "metadata": {},
       "output_type": "display_data",
       "text": [
        "<IPython.core.display.Javascript at 0x1286222d0>"
       ]
      },
      {
       "javascript": [
        "\n",
        "                  // edf1d80c-1f9c-4e5c-931b-9fd4f496cf0d -- used to remove this code blob in the end\n",
        "                  IPython.OutputArea.prototype.cleanProgressBar = function(uuids) {\n",
        "                      // filter by uuid-strings \n",
        "                      var myfilter = function(output) { \n",
        "                          var nuids = uuids.length;\n",
        "                          for (var i=0; i<nuids; i++) {\n",
        "                              if (output.hasOwnProperty('html')) {\n",
        "                                  if (output.html.indexOf(uuids[i]) != -1) {\n",
        "                                      return false;\n",
        "                                  }\n",
        "                              }\n",
        "                              if (output.hasOwnProperty('javascript')) {\n",
        "                                  if (output.javascript.indexOf(uuids[i]) != -1) {\n",
        "                                      return false;\n",
        "                                  }\n",
        "                              }\n",
        "                          }\n",
        "                          // keep all others\n",
        "                          return true;\n",
        "                      };\n",
        "\n",
        "                      // Filter the ouputs\n",
        "                      this.outputs = this.outputs.filter(myfilter);\n",
        "                };\n",
        "                "
       ],
       "metadata": {},
       "output_type": "display_data",
       "text": [
        "<IPython.core.display.Javascript at 0x1202e0f50>"
       ]
      },
      {
       "html": [
        "<div class=\"pb\" id=\"edf1d80c-1f9c-4e5c-931b-9fd4f496cf0d\"><table class=\"pb ui-widget\"><tr>\n",
        "<td class=\"pb_widget\">Processing: </td>\n",
        "<td class=\"pb_widget\"><div id=\"3aec7476-f718-407a-8d99-b6df04dbc97e\">  0%</div></td>\n",
        "<td class=\"pb_widget\"> </td>\n",
        "<td class=\"pb_widget_fill\">\n",
        "        <div class=\"pb_bar\" id=\"89e17f11-1e87-4587-bdb7-972c07f8e0d8\"></div>\n",
        "        <script type=\"text/javascript\">\n",
        "            $(\"div#89e17f11-1e87-4587-bdb7-972c07f8e0d8\").progressbar({value: 0, max: 100});\n",
        "        </script>\n",
        "        </td>\n",
        "<td class=\"pb_widget\"> </td>\n",
        "<td class=\"pb_widget\"><div id=\"6020a33d-cb55-49f8-9e7d-e62b3964202b\">ETA:  --:--:--</div></td>\n",
        "</tr></table><div>"
       ],
       "metadata": {},
       "output_type": "display_data",
       "text": [
        "<IPython.core.display.HTML at 0x128622750>"
       ]
      },
      {
       "javascript": [
        "$('div#3aec7476-f718-407a-8d99-b6df04dbc97e').text(' 15%');"
       ],
       "metadata": {},
       "output_type": "display_data",
       "text": [
        "<IPython.core.display.Javascript at 0x128622fd0>"
       ]
      },
      {
       "javascript": [
        "\n",
        "        var $myPB = $(\"div#89e17f11-1e87-4587-bdb7-972c07f8e0d8\")\n",
        "        if ($myPB.hasClass('ui-progressbar')) {\n",
        "            $myPB.progressbar('value', 15);\n",
        "        } else {\n",
        "            $myPB.progressbar({value: 0, max: 100});\n",
        "        }\n",
        "        "
       ],
       "metadata": {},
       "output_type": "display_data",
       "text": [
        "<IPython.core.display.Javascript at 0x128622f50>"
       ]
      },
      {
       "javascript": [
        "$('div#6020a33d-cb55-49f8-9e7d-e62b3964202b').text('ETA:  0:00:00');"
       ],
       "metadata": {},
       "output_type": "display_data",
       "text": [
        "<IPython.core.display.Javascript at 0x128622050>"
       ]
      },
      {
       "javascript": [
        "$('div#3aec7476-f718-407a-8d99-b6df04dbc97e').text(' 24%');"
       ],
       "metadata": {},
       "output_type": "display_data",
       "text": [
        "<IPython.core.display.Javascript at 0x119cdae90>"
       ]
      },
      {
       "javascript": [
        "\n",
        "        var $myPB = $(\"div#89e17f11-1e87-4587-bdb7-972c07f8e0d8\")\n",
        "        if ($myPB.hasClass('ui-progressbar')) {\n",
        "            $myPB.progressbar('value', 24);\n",
        "        } else {\n",
        "            $myPB.progressbar({value: 0, max: 100});\n",
        "        }\n",
        "        "
       ],
       "metadata": {},
       "output_type": "display_data",
       "text": [
        "<IPython.core.display.Javascript at 0x1071ec790>"
       ]
      },
      {
       "javascript": [
        "$('div#6020a33d-cb55-49f8-9e7d-e62b3964202b').text('ETA:  0:00:03');"
       ],
       "metadata": {},
       "output_type": "display_data",
       "text": [
        "<IPython.core.display.Javascript at 0x119cda5d0>"
       ]
      },
      {
       "javascript": [
        "$('div#3aec7476-f718-407a-8d99-b6df04dbc97e').text(' 40%');"
       ],
       "metadata": {},
       "output_type": "display_data",
       "text": [
        "<IPython.core.display.Javascript at 0x119cda850>"
       ]
      },
      {
       "javascript": [
        "\n",
        "        var $myPB = $(\"div#89e17f11-1e87-4587-bdb7-972c07f8e0d8\")\n",
        "        if ($myPB.hasClass('ui-progressbar')) {\n",
        "            $myPB.progressbar('value', 40);\n",
        "        } else {\n",
        "            $myPB.progressbar({value: 0, max: 100});\n",
        "        }\n",
        "        "
       ],
       "metadata": {},
       "output_type": "display_data",
       "text": [
        "<IPython.core.display.Javascript at 0x119cda510>"
       ]
      },
      {
       "javascript": [
        "$('div#6020a33d-cb55-49f8-9e7d-e62b3964202b').text('ETA:  0:00:03');"
       ],
       "metadata": {},
       "output_type": "display_data",
       "text": [
        "<IPython.core.display.Javascript at 0x119cda050>"
       ]
      },
      {
       "javascript": [
        "$('div#3aec7476-f718-407a-8d99-b6df04dbc97e').text(' 58%');"
       ],
       "metadata": {},
       "output_type": "display_data",
       "text": [
        "<IPython.core.display.Javascript at 0x119cdaf10>"
       ]
      },
      {
       "javascript": [
        "\n",
        "        var $myPB = $(\"div#89e17f11-1e87-4587-bdb7-972c07f8e0d8\")\n",
        "        if ($myPB.hasClass('ui-progressbar')) {\n",
        "            $myPB.progressbar('value', 58);\n",
        "        } else {\n",
        "            $myPB.progressbar({value: 0, max: 100});\n",
        "        }\n",
        "        "
       ],
       "metadata": {},
       "output_type": "display_data",
       "text": [
        "<IPython.core.display.Javascript at 0x119cdae10>"
       ]
      },
      {
       "javascript": [
        "$('div#6020a33d-cb55-49f8-9e7d-e62b3964202b').text('ETA:  0:00:02');"
       ],
       "metadata": {},
       "output_type": "display_data",
       "text": [
        "<IPython.core.display.Javascript at 0x119cda810>"
       ]
      },
      {
       "javascript": [
        "$('div#3aec7476-f718-407a-8d99-b6df04dbc97e').text(' 77%');"
       ],
       "metadata": {},
       "output_type": "display_data",
       "text": [
        "<IPython.core.display.Javascript at 0x119cdafd0>"
       ]
      },
      {
       "javascript": [
        "\n",
        "        var $myPB = $(\"div#89e17f11-1e87-4587-bdb7-972c07f8e0d8\")\n",
        "        if ($myPB.hasClass('ui-progressbar')) {\n",
        "            $myPB.progressbar('value', 77);\n",
        "        } else {\n",
        "            $myPB.progressbar({value: 0, max: 100});\n",
        "        }\n",
        "        "
       ],
       "metadata": {},
       "output_type": "display_data",
       "text": [
        "<IPython.core.display.Javascript at 0x119cda710>"
       ]
      },
      {
       "javascript": [
        "$('div#6020a33d-cb55-49f8-9e7d-e62b3964202b').text('ETA:  0:00:01');"
       ],
       "metadata": {},
       "output_type": "display_data",
       "text": [
        "<IPython.core.display.Javascript at 0x119cda150>"
       ]
      },
      {
       "javascript": [
        "$('div#3aec7476-f718-407a-8d99-b6df04dbc97e').text('100%');"
       ],
       "metadata": {},
       "output_type": "display_data",
       "text": [
        "<IPython.core.display.Javascript at 0x1071ec790>"
       ]
      },
      {
       "javascript": [
        "\n",
        "        var $myPB = $(\"div#89e17f11-1e87-4587-bdb7-972c07f8e0d8\")\n",
        "        if ($myPB.hasClass('ui-progressbar')) {\n",
        "            $myPB.progressbar('value', 100);\n",
        "        } else {\n",
        "            $myPB.progressbar({value: 0, max: 100});\n",
        "        }\n",
        "        "
       ],
       "metadata": {},
       "output_type": "display_data",
       "text": [
        "<IPython.core.display.Javascript at 0x128622050>"
       ]
      },
      {
       "javascript": [
        "$('div#6020a33d-cb55-49f8-9e7d-e62b3964202b').text('Time: 0:00:05');"
       ],
       "metadata": {},
       "output_type": "display_data",
       "text": [
        "<IPython.core.display.Javascript at 0x11baeca90>"
       ]
      },
      {
       "javascript": [
        "var element = document.getElementById('edf1d80c-1f9c-4e5c-931b-9fd4f496cf0d');\n",
        "                    var parent = element.parentNode\n",
        "                    parent.removeChild(element);\n",
        "                    parent.parentElement.remove();"
       ],
       "metadata": {},
       "output_type": "display_data",
       "text": [
        "<IPython.core.display.Javascript at 0x1202e0f50>"
       ]
      },
      {
       "javascript": [
        "this.cleanProgressBar(['edf1d80c-1f9c-4e5c-931b-9fd4f496cf0d', '3aec7476-f718-407a-8d99-b6df04dbc97e', '89e17f11-1e87-4587-bdb7-972c07f8e0d8', '6020a33d-cb55-49f8-9e7d-e62b3964202b'])"
       ],
       "metadata": {},
       "output_type": "display_data",
       "text": [
        "<IPython.core.display.Javascript at 0x128622f50>"
       ]
      },
      {
       "output_type": "stream",
       "stream": "stdout",
       "text": [
        "-4.432621389555169\n",
        "-42.193302537302365\n",
        "-56.99015558740908\n"
       ]
      }
     ],
     "prompt_number": 41
    },
    {
     "cell_type": "markdown",
     "metadata": {},
     "source": [
      "### Sending in the submission\n",
      "\n",
      "The final step is to send the submission. This will save a copy of the submission in the server and return the evaluation results.\n",
      "\n",
      "The submission **may take some time**, especially if the submission covers all tasks and all tokens.\n",
      "\n",
      "To submit we simply call the submit function of the submission object that we have created.\n",
      "The email that we have used when creating the submission class is the one that will be used to login to the server.\n",
      "We must also supply the password that we used when we registered to the INSPIRE Challenge website."
     ]
    },
    {
     "cell_type": "code",
     "collapsed": false,
     "input": [
      "job_sub = submission.submit(password='dummypassword')"
     ],
     "language": "python",
     "metadata": {},
     "outputs": [],
     "prompt_number": 42
    },
    {
     "cell_type": "code",
     "collapsed": false,
     "input": [
      "job_sub.wait()\n",
      "result = job_sub.result()\n",
      "inspire.pprint(result['where']['token_averaged'])\n",
      "inspire.pprint(result['what']['token_averaged'])\n",
      "inspire.pprint(result['full']['token_averaged'])"
     ],
     "language": "python",
     "metadata": {},
     "outputs": [
      {
       "javascript": [
        "//454b9df1-3edf-4df0-a2b8-664a6b458d3e\n",
        "$(\"head\").append(\"<style> td.pb_widget {     width: auto; } td.pb_widget_fill {     width: 100%; } table.pb {     font-family: monospace;     border: 0;     margin: 0; } table.pb tr { border: 0; } table.pb td {     white-space: nowrap;     border: 0; } div.pb {     border: 1px solid #ddd;     border-radius: 3px; } div.pb_bar {     height: 1.5em; } </style>\")"
       ],
       "metadata": {},
       "output_type": "display_data",
       "text": [
        "<IPython.core.display.Javascript at 0x128622750>"
       ]
      },
      {
       "javascript": [
        "\n",
        "                  // 454b9df1-3edf-4df0-a2b8-664a6b458d3e -- used to remove this code blob in the end\n",
        "                  IPython.OutputArea.prototype.cleanProgressBar = function(uuids) {\n",
        "                      // filter by uuid-strings \n",
        "                      var myfilter = function(output) { \n",
        "                          var nuids = uuids.length;\n",
        "                          for (var i=0; i<nuids; i++) {\n",
        "                              if (output.hasOwnProperty('html')) {\n",
        "                                  if (output.html.indexOf(uuids[i]) != -1) {\n",
        "                                      return false;\n",
        "                                  }\n",
        "                              }\n",
        "                              if (output.hasOwnProperty('javascript')) {\n",
        "                                  if (output.javascript.indexOf(uuids[i]) != -1) {\n",
        "                                      return false;\n",
        "                                  }\n",
        "                              }\n",
        "                          }\n",
        "                          // keep all others\n",
        "                          return true;\n",
        "                      };\n",
        "\n",
        "                      // Filter the ouputs\n",
        "                      this.outputs = this.outputs.filter(myfilter);\n",
        "                };\n",
        "                "
       ],
       "metadata": {},
       "output_type": "display_data",
       "text": [
        "<IPython.core.display.Javascript at 0x128622b90>"
       ]
      },
      {
       "html": [
        "<div class=\"pb\" id=\"454b9df1-3edf-4df0-a2b8-664a6b458d3e\"><table class=\"pb ui-widget\"><tr>\n",
        "<td class=\"pb_widget\">Processing: </td>\n",
        "<td class=\"pb_widget\"><div id=\"8bcea21a-3221-4ecc-99b5-d08122034f7d\">  0%</div></td>\n",
        "<td class=\"pb_widget\"> </td>\n",
        "<td class=\"pb_widget_fill\">\n",
        "        <div class=\"pb_bar\" id=\"0877bf0f-6389-4a48-b9ba-9d596727fd88\"></div>\n",
        "        <script type=\"text/javascript\">\n",
        "            $(\"div#0877bf0f-6389-4a48-b9ba-9d596727fd88\").progressbar({value: 0, max: 100});\n",
        "        </script>\n",
        "        </td>\n",
        "<td class=\"pb_widget\"> </td>\n",
        "<td class=\"pb_widget\"><div id=\"ae10c5ed-4e57-4669-8468-6807a761f056\">ETA:  --:--:--</div></td>\n",
        "</tr></table><div>"
       ],
       "metadata": {},
       "output_type": "display_data",
       "text": [
        "<IPython.core.display.HTML at 0x128622f50>"
       ]
      },
      {
       "javascript": [
        "$('div#8bcea21a-3221-4ecc-99b5-d08122034f7d').text('100%');"
       ],
       "metadata": {},
       "output_type": "display_data",
       "text": [
        "<IPython.core.display.Javascript at 0x128622b50>"
       ]
      },
      {
       "javascript": [
        "\n",
        "        var $myPB = $(\"div#0877bf0f-6389-4a48-b9ba-9d596727fd88\")\n",
        "        if ($myPB.hasClass('ui-progressbar')) {\n",
        "            $myPB.progressbar('value', 100);\n",
        "        } else {\n",
        "            $myPB.progressbar({value: 0, max: 100});\n",
        "        }\n",
        "        "
       ],
       "metadata": {},
       "output_type": "display_data",
       "text": [
        "<IPython.core.display.Javascript at 0x128622d50>"
       ]
      },
      {
       "javascript": [
        "$('div#ae10c5ed-4e57-4669-8468-6807a761f056').text('Time: 0:00:00');"
       ],
       "metadata": {},
       "output_type": "display_data",
       "text": [
        "<IPython.core.display.Javascript at 0x1286221d0>"
       ]
      },
      {
       "javascript": [
        "var element = document.getElementById('454b9df1-3edf-4df0-a2b8-664a6b458d3e');\n",
        "                    var parent = element.parentNode\n",
        "                    parent.removeChild(element);\n",
        "                    parent.parentElement.remove();"
       ],
       "metadata": {},
       "output_type": "display_data",
       "text": [
        "<IPython.core.display.Javascript at 0x1202e0f50>"
       ]
      },
      {
       "javascript": [
        "this.cleanProgressBar(['454b9df1-3edf-4df0-a2b8-664a6b458d3e', '8bcea21a-3221-4ecc-99b5-d08122034f7d', '0877bf0f-6389-4a48-b9ba-9d596727fd88', 'ae10c5ed-4e57-4669-8468-6807a761f056'])"
       ],
       "metadata": {},
       "output_type": "display_data",
       "text": [
        "<IPython.core.display.Javascript at 0x128622790>"
       ]
      },
      {
       "output_type": "stream",
       "stream": "stdout",
       "text": [
        "-4.43034052460432\n",
        "-42.425870589076204\n",
        "-56.7940233563685\n"
       ]
      }
     ],
     "prompt_number": 44
    },
    {
     "cell_type": "code",
     "collapsed": false,
     "input": [],
     "language": "python",
     "metadata": {},
     "outputs": [
      {
       "metadata": {},
       "output_type": "pyout",
       "prompt_number": 56,
       "text": [
        "[[u'b', u'w', u'\\u02c8e', u'n', u'o']]"
       ]
      }
     ],
     "prompt_number": 56
    },
    {
     "cell_type": "code",
     "collapsed": false,
     "input": [],
     "language": "python",
     "metadata": {},
     "outputs": []
    }
   ],
   "metadata": {}
  }
 ]
}