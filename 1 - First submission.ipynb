{
 "metadata": {
  "name": "",
  "signature": "sha256:1099c4f85035b910688e3486c5d0118b08e172fda930df8c06bd90cbc786fc11"
 },
 "nbformat": 3,
 "nbformat_minor": 0,
 "worksheets": [
  {
   "cells": [
    {
     "cell_type": "markdown",
     "metadata": {},
     "source": [
      "# First submission: A random guess\n",
      "## Installing the necessary module\n",
      "\n",
      "You must first install the `inspire` Python module.\n",
      "\n",
      "This can be done using `pip` by running the following command in your terminal:\n",
      "```\n",
      "pip install inspire\n",
      "```\n",
      "\n",
      "You may also run the following command to upgrade to the latest version:\n",
      "```\n",
      "pip install --upgrade inspire\n",
      "```\n",
      "\n",
      "After installing or upgrading the `inspire` module one must **restart the IPython Notebook**."
     ]
    },
    {
     "cell_type": "markdown",
     "metadata": {},
     "source": [
      "## Importing the necessary modules\n",
      "To start with we will import the modules we are going to use throughout this tutorial."
     ]
    },
    {
     "cell_type": "code",
     "collapsed": false,
     "input": [
      "import numpy as np\n",
      "import inspire"
     ],
     "language": "python",
     "metadata": {},
     "outputs": [],
     "prompt_number": 4
    },
    {
     "cell_type": "markdown",
     "metadata": {},
     "source": [
      "## The setting\n",
      "An evaluation setting is composed of a dataset, a lexicon and several evaluation parameters. A submission will always be tied to a given evaluation setting.  Therefore our first job is to get an evaluation setting to work on.\n",
      "\n",
      "By not passing any parameters we will be getting the default one.  Currently the default setting is a dataset of words in Spanish and a large vocabulary lexicon in IPA encoding."
     ]
    },
    {
     "cell_type": "code",
     "collapsed": false,
     "input": [
      "setting = inspire.get_evaluation_setting()"
     ],
     "language": "python",
     "metadata": {},
     "outputs": [],
     "prompt_number": 6
    },
    {
     "cell_type": "markdown",
     "metadata": {},
     "source": [
      "## The dataset\n",
      "Next we download the dataset, load it, and have a quick peek at what is in it."
     ]
    },
    {
     "cell_type": "code",
     "collapsed": false,
     "input": [
      "dataset_filename = setting.download_dataset()\n",
      "dataset = inspire.load_dataset(dataset_filename)\n",
      "\n",
      "print('There are {} tokens in dataset'.format(len(dataset['tokens'])))"
     ],
     "language": "python",
     "metadata": {},
     "outputs": [
      {
       "output_type": "stream",
       "stream": "stdout",
       "text": [
        "There are 3239 tokens in dataset\n"
       ]
      }
     ],
     "prompt_number": 7
    },
    {
     "cell_type": "markdown",
     "metadata": {},
     "source": [
      "We may now print a token of the dataset:"
     ]
    },
    {
     "cell_type": "code",
     "collapsed": false,
     "input": [
      "inspire.pprint(dataset['tokens']['35541'])"
     ],
     "language": "python",
     "metadata": {},
     "outputs": [
      {
       "output_type": "stream",
       "stream": "stdout",
       "text": [
        "{u'noise_onset': 532600,\n",
        " u'noise_transcription': u'BAB4.txt',\n",
        " u'noise_type': u'bab4',\n",
        " u'noise_wav': u'BAB4.wav',\n",
        " u'signal_wav': u'T_35541.wav',\n",
        " u'snr': -2.039,\n",
        " u'speaker': u's1',\n",
        " u'speech': u'pequen\u0303os'}\n"
       ]
      }
     ],
     "prompt_number": 8
    },
    {
     "cell_type": "markdown",
     "metadata": {},
     "source": [
      "Our data is a class deriving from a Python dictionary containing an entry named `tokens` with a mapping from a stimulus ID to a stimulus (also named token) presented to a set of listeners.\n",
      "The stimulus itself is represented as a dictionary, with entries for several properties of the stimulus presented: \n",
      "\n",
      "* **type of noise** `noise_type`\n",
      "* **speaker ID** `speaker`\n",
      "* **signal-to-noise ratio** `snr`\n",
      "\n",
      "The filenames of the audios:\n",
      "\n",
      "* **signal wave file** `signal_wav`\n",
      "* **noise wave file** `noise_wav`\n",
      "\n",
      "And the underlying word that was presented as well as those that were reported by the listeners:\n",
      "\n",
      "* **presented word** `speech`\n",
      "\n",
      "Additionally there are 10% of the tokens in the dataset that are considered tokens belonging to the development set and for which the responses given by listeners are provided.  These may be used for training purposes."
     ]
    },
    {
     "cell_type": "code",
     "collapsed": false,
     "input": [
      "inspire.pprint(dataset['tokens']['36504'])"
     ],
     "language": "python",
     "metadata": {},
     "outputs": [
      {
       "output_type": "stream",
       "stream": "stdout",
       "text": [
        "{u'noise_onset': 790069,\n",
        " u'noise_transcription': u'BAB8.txt',\n",
        " u'noise_type': u'bab8',\n",
        " u'noise_wav': u'BAB8.wav',\n",
        " u'responses': {u'manda': 2,\n",
        "                u'mandas': 2,\n",
        "                u'mando': 1,\n",
        "                u'mandos': 1,\n",
        "                u'mangos': 1,\n",
        "                u'mano': 1,\n",
        "                u'manos': 6,\n",
        "                u'mantas': 1},\n",
        " u'signal_wav': u'T_36504.wav',\n",
        " u'snr': 0.4,\n",
        " u'speaker': u's1',\n",
        " u'speech': u'mandan'}\n"
       ]
      }
     ],
     "prompt_number": 9
    },
    {
     "cell_type": "markdown",
     "metadata": {},
     "source": [
      "## The lexicon\n",
      "Since all the tasks are based on the pronunciations of the words, our next step is to load a lexicon.\n",
      "The lexicon is not in JSON format, it is in a format that HTK understands, therefore parsing it takes a bit more work. Luckily for you we have a written a function to do just that:\n",
      "\n",
      "We will first download the lexicon, load it, and have a quick peek at what is in it."
     ]
    },
    {
     "cell_type": "code",
     "collapsed": false,
     "input": [
      "lexicon_filename = setting.download_lexicon()\n",
      "lexicon = inspire.load_lexicon(lexicon_filename)\n",
      "\n",
      "print('There are {} words in the lexicon'.format(len(lexicon)))"
     ],
     "language": "python",
     "metadata": {},
     "outputs": [
      {
       "output_type": "stream",
       "stream": "stdout",
       "text": [
        "There are 738967 words in the lexicon\n"
       ]
      }
     ],
     "prompt_number": 10
    },
    {
     "cell_type": "markdown",
     "metadata": {},
     "source": [
      "The lexicon is a subclass of a Python dictionary mapping from a word to a set of pronunciations.  The pronunciations are lists of strings where each string represents a phoneme.\n",
      "\n",
      "To use the lexicon we simply query it as we would do with any other Python dictionary.  Note that the case of the words is ignored when querying the lexicon:"
     ]
    },
    {
     "cell_type": "code",
     "collapsed": false,
     "input": [
      "inspire.pprint('Is \"ayuda\" in the lexicon? {}'.format('ayuda' in lexicon))\n",
      "inspire.pprint(lexicon['ayuda'])"
     ],
     "language": "python",
     "metadata": {},
     "outputs": [
      {
       "output_type": "stream",
       "stream": "stdout",
       "text": [
        "'Is \"ayuda\" in the lexicon? True'\n",
        "[[u'a', u'j', u'j', u'\u02c8u', u'\u00f0', u'a']]\n"
       ]
      }
     ],
     "prompt_number": 11
    },
    {
     "cell_type": "markdown",
     "metadata": {},
     "source": [
      "## The alignments\n",
      "Using the pronunciations in the lexicon, we can print all the alignments accepted for a pair of words: "
     ]
    },
    {
     "cell_type": "code",
     "collapsed": false,
     "input": [
      "edit_scripts = inspire.get_edit_scripts(lexicon['maletero'][0], lexicon['entero'][0])\n",
      "for edit_script in edit_scripts:\n",
      "    inspire.print_edit_script(edit_script)\n",
      "    print('---')"
     ],
     "language": "python",
     "metadata": {},
     "outputs": [
      {
       "output_type": "stream",
       "stream": "stdout",
       "text": [
        "\u001b[31mm\u001b[m \u001b[31m\u02cca\u001b[m \u001b[31ml\u001b[m \u001b[31me\u001b[m \u001b[32mt\u001b[m \u001b[32m\u02c8\u025b\u001b[m \u001b[32m\u027e\u001b[m \u001b[32m\u0254\u001b[m \n",
        "\u001b[41m \u001b[m \u001b[41m  \u001b[m \u001b[31m\u025b\u001b[m \u001b[31mn\u001b[m \u001b[32mt\u001b[m \u001b[32m\u02c8\u025b\u001b[m \u001b[32m\u027e\u001b[m \u001b[32m\u0254\u001b[m \n",
        "---\n",
        "\u001b[31mm\u001b[m \u001b[31m\u02cca\u001b[m \u001b[31ml\u001b[m \u001b[31me\u001b[m \u001b[32mt\u001b[m \u001b[32m\u02c8\u025b\u001b[m \u001b[32m\u027e\u001b[m \u001b[32m\u0254\u001b[m \n",
        "\u001b[41m \u001b[m \u001b[31m\u025b \u001b[m \u001b[31mn\u001b[m \u001b[41m \u001b[m \u001b[32mt\u001b[m \u001b[32m\u02c8\u025b\u001b[m \u001b[32m\u027e\u001b[m \u001b[32m\u0254\u001b[m \n",
        "---\n",
        "\u001b[31mm\u001b[m \u001b[31m\u02cca\u001b[m \u001b[31ml\u001b[m \u001b[31me\u001b[m \u001b[32mt\u001b[m \u001b[32m\u02c8\u025b\u001b[m \u001b[32m\u027e\u001b[m \u001b[32m\u0254\u001b[m \n",
        "\u001b[31m\u025b\u001b[m \u001b[31mn \u001b[m \u001b[41m \u001b[m \u001b[41m \u001b[m \u001b[32mt\u001b[m \u001b[32m\u02c8\u025b\u001b[m \u001b[32m\u027e\u001b[m \u001b[32m\u0254\u001b[m \n",
        "---\n"
       ]
      }
     ],
     "prompt_number": 12
    },
    {
     "cell_type": "markdown",
     "metadata": {},
     "source": [
      "## The submission\n",
      "To make submissions to the INSPIRE Challenge you must have an account on the INSPIRE Challenge: [Click here to register](http://143.167.9.43:5000/register)\n",
      "\n",
      "Note don't use a secure password, since in order to simplify the tasks it may be sent as plain text to the server.\n",
      "The email and password will be used in the following steps to create and submit our predictions.\n",
      "\n",
      "### Preparation of the submission\n",
      "A submission consists of a dictionary data structure containing metadata (information of the participant, the challenge edition and contact details) and the predictions for the stimuli.  The predictions are stored in a data structure similar to that of the dataset (a list of dictionaries, one per stimulus).  Each stimulus dictionary must contain the `token_id` and then a list of task predictions `task_prediction` each task prediction is a dictionary containing a `task` property indicating what task it is solving and the `prediction` which is dictionary whose form depends on the task.\n",
      "\n",
      "In order to avoid errors when creating the participation data structure, we have built a Python class that eases the job."
     ]
    },
    {
     "cell_type": "code",
     "collapsed": false,
     "input": [
      "submission = inspire.Submission(email='dummy@email.com',\n",
      "                                description='''Random Guess:\n",
      "where task: For the phoneme positions we predict a 50% chance of observing a confusion. We predict a 1% chance of confusion at the inter-phoneme positions and a 30% chance of confusion at the positions before and after the utterance.\n",
      "what task: We only provide predictions for the phoneme positions, we do not provide predictions for inter-phoneme positions. We predict a 50% chance of not observing a confusion (the presented phoneme will remain) and a 5% of deleting the phoneme.\n",
      "full task: We predict a 10% chance of not observing a confusion (the ellicited pronunciation being reported).''',\n",
      "                                evaluation_setting=setting)"
     ],
     "language": "python",
     "metadata": {},
     "outputs": [],
     "prompt_number": 13
    },
    {
     "cell_type": "markdown",
     "metadata": {},
     "source": [
      "### Adding the predictions of the tasks\n",
      "We iterate over the dataset and for each presented word we query it's pronunciations, and arbitrarily select one.\n",
      "We will then produce the predictions for each of the tasks.  In this simple baseline random guessing scenario we will follow the same predcition strategy independently of the token:\n",
      "\n",
      "* **where task** For the phoneme positions we predict a 50% chance of observing a confusion. We predict a 1% chance of confusion at the inter-phoneme positions and a 30% chance of confusion at the positions before and after the utterance.\n",
      "* **what task** We only provide predictions for the phoneme positions, we do not provide predictions for inter-phoneme positions. We predict a 50% chance of not observing a confusion (the presented phoneme will remain) and a 5% of deleting the phoneme.\n",
      "* **full task** We predict a 10% chance of not observing a confusion (the ellicited pronunciation being reported)."
     ]
    },
    {
     "cell_type": "code",
     "collapsed": false,
     "input": [
      "# Iterate over all the stimuli in our dataset\n",
      "for token_id, token  in dataset['tokens'].items():   \n",
      "    # Lexicon may contain multiple pronunciations (we arbitrarily select the first)\n",
      "    word = token['speech']\n",
      "    pronunciation = lexicon[word][0]\n",
      "    \n",
      "    # Possible indices of confusions\n",
      "    # are the number of phonemes plus\n",
      "    # the number of positions around phonemes\n",
      "    index_count = len(pronunciation)*2 + 1\n",
      "    \n",
      "    confusion_probabilities = np.zeros(index_count)\n",
      "\n",
      "    # Our random guess for the Where task assumes:\n",
      "    #  - a 30% chance of finding a confusion at all phoneme positions (substitutions or removals)\n",
      "    confusion_probabilities[1::2] = 0.3\n",
      "    \n",
      "    #  - a 1% chance of finding an insertion between all phoneme positions (insertions)\n",
      "    confusion_probabilities[2:-2:2] = 0.01\n",
      "    \n",
      "    #  - a 50% chance of finding insertions of phonemes at beginning and end of words (insertions)\n",
      "    confusion_probabilities[0] = 0.5\n",
      "    confusion_probabilities[-1] = 0.5\n",
      "            \n",
      "    submission.where_task(token_id, confusion_probabilities)\n",
      "    \n",
      "    # Our random guess for the What task assumes:\n",
      "    # Phonemes are represented as strings\n",
      "    # Sequence of phonemes are space joined strings\n",
      "    # A removal is represented as an empty string\n",
      "    for phoneme_index, phoneme in enumerate(pronunciation):\n",
      "        index = phoneme_index*2 + 1\n",
      "        \n",
      "        non_confusion_probability = 1 - confusion_probabilities[phoneme_index]\n",
      "        \n",
      "        #  - a naive guess (same as used in the where task) of not changing the phoneme\n",
      "        submission.what_task(token_id, index, phoneme, non_confusion_probability)\n",
      "\n",
      "        #  - a 5% chance of phoneme removal\n",
      "        submission.what_task(token_id, index, '', 0.05)\n",
      "        \n",
      "    # Our random guess for the Full task assumes:\n",
      "    #  - a 10% chance of reporting the pronunciation of the presented utterance\n",
      "    submission.full_task(token_id, pronunciation, 0.1)"
     ],
     "language": "python",
     "metadata": {},
     "outputs": [],
     "prompt_number": 14
    },
    {
     "cell_type": "markdown",
     "metadata": {},
     "source": [
      "Once the submission has been created we can print the predictions of a given token.\n",
      "This is also useful to understand the JSON format of a submission."
     ]
    },
    {
     "cell_type": "code",
     "collapsed": false,
     "input": [
      "inspire.pprint(submission['metadata'])\n",
      "inspire.pprint(submission['tokens']['35541'])"
     ],
     "language": "python",
     "metadata": {},
     "outputs": [
      {
       "output_type": "stream",
       "stream": "stdout",
       "text": [
        "{u'description': 'Random Guess:\\nwhere task: For the phoneme positions we predict a 50% chance of observing a confusion. We predict a 1% chance of confusion at the inter-phoneme positions and a 30% chance of confusion at the positions before and after the utterance.\\nwhat task: We only provide predictions for the phoneme positions, we do not provide predictions for inter-phoneme positions. We predict a 50% chance of not observing a confusion (the presented phoneme will remain) and a 5% of deleting the phoneme.\\nfull task: We predict a 10% chance of not observing a confusion (the ellicited pronunciation being reported).',\n",
        " u'email': 'dummy@email.com',\n",
        " u'evaluation_setting': {\n",
        "  \"delete_cost\": 1.0, \n",
        "  \"development_set\": [\n",
        "    \"5212\", \n",
        "    \"36504\", \n",
        "    \"20682\", \n",
        "    \"35883\", \n",
        "    \"29299\", \n",
        "    \"28434\", \n",
        "    \"21431\", \n",
        "    \"25487\", \n",
        "    \"12283\", \n",
        "    \"19543\", \n",
        "    \"9315\", \n",
        "    \"3072\", \n",
        "    \"39789\", \n",
        "    \"21461\", \n",
        "    \"37586\", \n",
        "    \"40948\", \n",
        "    \"5312\", \n",
        "    \"23783\", \n",
        "    \"24092\", \n",
        "    \"39634\", \n",
        "    \"33505\", \n",
        "    \"11330\", \n",
        "    \"30793\", \n",
        "    \"10503\", \n",
        "    \"38380\", \n",
        "    \"4950\", \n",
        "    \"14474\", \n",
        "    \"376\", \n",
        "    \"23836\", \n",
        "    \"32501\", \n",
        "    \"39090\", \n",
        "    \"2700\", \n",
        "    \"41667\", \n",
        "    \"31780\", \n",
        "    \"17822\", \n",
        "    \"48829\", \n",
        "    \"23171\", \n",
        "    \"40208\", \n",
        "    \"44079\", \n",
        "    \"30812\", \n",
        "    \"36744\", \n",
        "    \"47422\", \n",
        "    \"13303\", \n",
        "    \"5393\", \n",
        "    \"41520\", \n",
        "    \"15416\", \n",
        "    \"11384\", \n",
        "    \"704\", \n",
        "    \"46730\", \n",
        "    \"11501\", \n",
        "    \"26781\", \n",
        "    \"30113\", \n",
        "    \"14509\", \n",
        "    \"18815\", \n",
        "    \"44164\", \n",
        "    \"2629\", \n",
        "    \"3407\", \n",
        "    \"27177\", \n",
        "    \"5826\", \n",
        "    \"47555\", \n",
        "    \"27205\", \n",
        "    \"46827\", \n",
        "    \"3553\", \n",
        "    \"13999\", \n",
        "    \"30867\", \n",
        "    \"29750\", \n",
        "    \"45274\", \n",
        "    \"14465\", \n",
        "    \"28475\", \n",
        "    \"46930\", \n",
        "    \"41676\", \n",
        "    \"17907\", \n",
        "    \"31871\", \n",
        "    \"43255\", \n",
        "    \"3785\", \n",
        "    \"38390\", \n",
        "    \"35403\", \n",
        "    \"28108\", \n",
        "    \"35877\", \n",
        "    \"18694\", \n",
        "    \"38848\", \n",
        "    \"27567\", \n",
        "    \"43519\", \n",
        "    \"48579\", \n",
        "    \"1477\", \n",
        "    \"6749\", \n",
        "    \"20586\", \n",
        "    \"22714\", \n",
        "    \"7469\", \n",
        "    \"27859\", \n",
        "    \"25524\", \n",
        "    \"45802\", \n",
        "    \"48822\", \n",
        "    \"25991\", \n",
        "    \"36373\", \n",
        "    \"28185\", \n",
        "    \"46924\", \n",
        "    \"10291\", \n",
        "    \"39392\", \n",
        "    \"40058\", \n",
        "    \"23266\", \n",
        "    \"28332\", \n",
        "    \"41772\", \n",
        "    \"22071\", \n",
        "    \"13785\", \n",
        "    \"24282\", \n",
        "    \"13267\", \n",
        "    \"43987\", \n",
        "    \"27768\", \n",
        "    \"39666\", \n",
        "    \"21188\", \n",
        "    \"38846\", \n",
        "    \"2274\", \n",
        "    \"27209\", \n",
        "    \"14623\", \n",
        "    \"19106\", \n",
        "    \"11491\", \n",
        "    \"7546\", \n",
        "    \"27564\", \n",
        "    \"13733\", \n",
        "    \"36582\", \n",
        "    \"44734\", \n",
        "    \"21592\", \n",
        "    \"28726\", \n",
        "    \"38562\", \n",
        "    \"48260\", \n",
        "    \"26029\", \n",
        "    \"22730\", \n",
        "    \"44302\", \n",
        "    \"3664\", \n",
        "    \"32607\", \n",
        "    \"23837\", \n",
        "    \"39370\", \n",
        "    \"24653\", \n",
        "    \"42168\", \n",
        "    \"16174\", \n",
        "    \"40017\", \n",
        "    \"40256\", \n",
        "    \"35426\", \n",
        "    \"7458\", \n",
        "    \"11231\", \n",
        "    \"29246\", \n",
        "    \"18676\", \n",
        "    \"33469\", \n",
        "    \"7820\", \n",
        "    \"28111\", \n",
        "    \"37577\", \n",
        "    \"19660\", \n",
        "    \"42570\", \n",
        "    \"41660\", \n",
        "    \"36459\", \n",
        "    \"27520\", \n",
        "    \"32699\", \n",
        "    \"33748\", \n",
        "    \"25977\", \n",
        "    \"23961\", \n",
        "    \"2415\", \n",
        "    \"16014\", \n",
        "    \"37729\", \n",
        "    \"48265\", \n",
        "    \"35839\", \n",
        "    \"32993\", \n",
        "    \"4073\", \n",
        "    \"25233\", \n",
        "    \"35831\", \n",
        "    \"16964\", \n",
        "    \"34999\", \n",
        "    \"23792\", \n",
        "    \"48196\", \n",
        "    \"27904\", \n",
        "    \"2084\", \n",
        "    \"17277\", \n",
        "    \"2607\", \n",
        "    \"18825\", \n",
        "    \"35595\", \n",
        "    \"783\", \n",
        "    \"29135\", \n",
        "    \"33169\", \n",
        "    \"18844\", \n",
        "    \"29055\", \n",
        "    \"38328\", \n",
        "    \"36557\", \n",
        "    \"34152\", \n",
        "    \"7422\", \n",
        "    \"41506\", \n",
        "    \"3545\", \n",
        "    \"46880\", \n",
        "    \"4722\", \n",
        "    \"29800\", \n",
        "    \"20031\", \n",
        "    \"12127\", \n",
        "    \"5656\", \n",
        "    \"18765\", \n",
        "    \"24514\", \n",
        "    \"8903\", \n",
        "    \"1711\", \n",
        "    \"21823\", \n",
        "    \"7169\", \n",
        "    \"4928\", \n",
        "    \"25192\", \n",
        "    \"23917\", \n",
        "    \"37099\", \n",
        "    \"21779\", \n",
        "    \"18626\", \n",
        "    \"40912\", \n",
        "    \"39347\", \n",
        "    \"21106\", \n",
        "    \"40148\", \n",
        "    \"17694\", \n",
        "    \"47064\", \n",
        "    \"35851\", \n",
        "    \"16784\", \n",
        "    \"31006\", \n",
        "    \"44890\", \n",
        "    \"2963\", \n",
        "    \"11537\", \n",
        "    \"21920\", \n",
        "    \"34229\", \n",
        "    \"27899\", \n",
        "    \"6816\", \n",
        "    \"7460\", \n",
        "    \"44642\", \n",
        "    \"19872\", \n",
        "    \"23040\", \n",
        "    \"16036\", \n",
        "    \"2187\", \n",
        "    \"16702\", \n",
        "    \"20850\", \n",
        "    \"27779\", \n",
        "    \"33259\", \n",
        "    \"27813\", \n",
        "    \"7954\", \n",
        "    \"10487\", \n",
        "    \"20952\", \n",
        "    \"2002\", \n",
        "    \"21742\", \n",
        "    \"18530\", \n",
        "    \"7345\", \n",
        "    \"32811\", \n",
        "    \"2742\", \n",
        "    \"44071\", \n",
        "    \"46539\", \n",
        "    \"3711\", \n",
        "    \"24023\", \n",
        "    \"25847\", \n",
        "    \"2558\", \n",
        "    \"23205\", \n",
        "    \"21245\", \n",
        "    \"13993\", \n",
        "    \"25012\", \n",
        "    \"29772\", \n",
        "    \"36902\", \n",
        "    \"11490\", \n",
        "    \"19899\", \n",
        "    \"36906\", \n",
        "    \"13661\", \n",
        "    \"15755\", \n",
        "    \"14480\", \n",
        "    \"17865\", \n",
        "    \"33980\", \n",
        "    \"42195\", \n",
        "    \"12700\", \n",
        "    \"24206\", \n",
        "    \"19937\", \n",
        "    \"13244\", \n",
        "    \"46362\", \n",
        "    \"17106\", \n",
        "    \"14724\", \n",
        "    \"34318\", \n",
        "    \"18236\", \n",
        "    \"1166\", \n",
        "    \"23617\", \n",
        "    \"22804\", \n",
        "    \"23622\", \n",
        "    \"35614\", \n",
        "    \"17354\", \n",
        "    \"19994\", \n",
        "    \"31111\", \n",
        "    \"11559\", \n",
        "    \"24760\", \n",
        "    \"9664\", \n",
        "    \"3214\", \n",
        "    \"32106\", \n",
        "    \"2306\", \n",
        "    \"45266\", \n",
        "    \"32781\", \n",
        "    \"8105\", \n",
        "    \"29035\", \n",
        "    \"10724\", \n",
        "    \"808\", \n",
        "    \"44532\", \n",
        "    \"1665\", \n",
        "    \"24630\", \n",
        "    \"43315\", \n",
        "    \"45921\", \n",
        "    \"44761\", \n",
        "    \"44348\", \n",
        "    \"46815\", \n",
        "    \"1764\", \n",
        "    \"47734\", \n",
        "    \"46749\", \n",
        "    \"32817\", \n",
        "    \"3060\", \n",
        "    \"1542\", \n",
        "    \"31366\", \n",
        "    \"27699\", \n",
        "    \"42739\", \n",
        "    \"45912\", \n",
        "    \"21418\", \n",
        "    \"29749\", \n",
        "    \"23148\", \n",
        "    \"1595\", \n",
        "    \"7355\", \n",
        "    \"45883\", \n",
        "    \"38801\", \n",
        "    \"19556\", \n",
        "    \"29389\", \n",
        "    \"20954\", \n",
        "    \"24558\", \n",
        "    \"29995\", \n",
        "    \"4480\", \n",
        "    \"847\", \n",
        "    \"13722\"\n",
        "  ], \n",
        "  \"replace_cost\": 1.0, \n",
        "  \"lexicon_id\": 1, \n",
        "  \"dataset_id\": 1, \n",
        "  \"id\": 1, \n",
        "  \"insert_cost\": 1.0\n",
        "}}\n",
        "{u'full': {u'p e k \u02c8e \u0272 o s': 0.1},\n",
        " u'what': {'1': {'': 0.05, u'p': 0.5},\n",
        "           '11': {'': 0.05, u'o': 0.69999999999999996},\n",
        "           '13': {'': 0.05, u's': 0.98999999999999999},\n",
        "           '3': {'': 0.05, u'e': 0.69999999999999996},\n",
        "           '5': {'': 0.05, u'k': 0.98999999999999999},\n",
        "           '7': {'': 0.05, u'\u02c8e': 0.69999999999999996},\n",
        "           '9': {'': 0.05, u'\u0272': 0.98999999999999999}},\n",
        " u'where': [0.5,\n",
        "            0.29999999999999999,\n",
        "            0.01,\n",
        "            0.29999999999999999,\n",
        "            0.01,\n",
        "            0.29999999999999999,\n",
        "            0.01,\n",
        "            0.29999999999999999,\n",
        "            0.01,\n",
        "            0.29999999999999999,\n",
        "            0.01,\n",
        "            0.29999999999999999,\n",
        "            0.01,\n",
        "            0.29999999999999999,\n",
        "            0.5]}\n"
       ]
      }
     ],
     "prompt_number": 15
    },
    {
     "cell_type": "markdown",
     "metadata": {},
     "source": [
      "We can also save the submission as a JSON file."
     ]
    },
    {
     "cell_type": "code",
     "collapsed": false,
     "input": [
      "submission.save('submission_random_guess.gz')"
     ],
     "language": "python",
     "metadata": {},
     "outputs": [],
     "prompt_number": 16
    },
    {
     "cell_type": "markdown",
     "metadata": {},
     "source": [
      "### Evaluating before submitting\n",
      "\n",
      "Sometimes we might not want to submit, and simply evaluate a submission.  In that case we may call `evaluate()`.\n",
      "\n",
      "The evaluation is only performed on the development subset to allow a fast evaluation."
     ]
    },
    {
     "cell_type": "code",
     "collapsed": false,
     "input": [
      "job_eval = submission.evaluate(password='dummypassword')"
     ],
     "language": "python",
     "metadata": {},
     "outputs": [],
     "prompt_number": 21
    },
    {
     "cell_type": "markdown",
     "metadata": {},
     "source": [
      "The `job` that we obtain is an object that allows us to check if the result is available using `job.ready()`, wait for it to finish using `job.wait()` and obtain the result using `job.result()`.\n",
      "\n",
      "**Note: ** Calling `job.wait()` will block until the result is ready or the job has failed."
     ]
    },
    {
     "cell_type": "code",
     "collapsed": false,
     "input": [
      "print('Is the job ready? {}'.format(job_eval.ready()))"
     ],
     "language": "python",
     "metadata": {},
     "outputs": [
      {
       "output_type": "stream",
       "stream": "stdout",
       "text": [
        "Is the job ready? False\n"
       ]
      }
     ],
     "prompt_number": 22
    },
    {
     "cell_type": "code",
     "collapsed": false,
     "input": [
      "job_eval.wait()\n",
      "result = job_eval.result()\n",
      "\n",
      "inspire.pprint(result['where']['token_averaged'])\n",
      "inspire.pprint(result['what']['token_averaged'])\n",
      "inspire.pprint(result['full']['token_averaged'])"
     ],
     "language": "python",
     "metadata": {},
     "outputs": [
      {
       "javascript": [
        "//72127b29-45a4-4730-bb7a-32e79149dad0\n",
        "$(\"head\").append(\"<style> td.pb_widget {     width: auto; } td.pb_widget_fill {     width: 100%; } table.pb {     font-family: monospace;     border: 0;     margin: 0; } table.pb tr { border: 0; } table.pb td {     white-space: nowrap;     border: 0; } div.pb {     border: 1px solid #ddd;     border-radius: 3px; } div.pb_bar {     height: 1.5em; } </style>\")"
       ],
       "metadata": {},
       "output_type": "display_data",
       "text": [
        "<IPython.core.display.Javascript at 0x128374650>"
       ]
      },
      {
       "javascript": [
        "\n",
        "                  // 72127b29-45a4-4730-bb7a-32e79149dad0 -- used to remove this code blob in the end\n",
        "                  IPython.OutputArea.prototype.cleanProgressBar = function(uuids) {\n",
        "                      // filter by uuid-strings \n",
        "                      var myfilter = function(output) { \n",
        "                          var nuids = uuids.length;\n",
        "                          for (var i=0; i<nuids; i++) {\n",
        "                              if (output.hasOwnProperty('html')) {\n",
        "                                  if (output.html.indexOf(uuids[i]) != -1) {\n",
        "                                      return false;\n",
        "                                  }\n",
        "                              }\n",
        "                              if (output.hasOwnProperty('javascript')) {\n",
        "                                  if (output.javascript.indexOf(uuids[i]) != -1) {\n",
        "                                      return false;\n",
        "                                  }\n",
        "                              }\n",
        "                          }\n",
        "                          // keep all others\n",
        "                          return true;\n",
        "                      };\n",
        "\n",
        "                      // Filter the ouputs\n",
        "                      this.outputs = this.outputs.filter(myfilter);\n",
        "                };\n",
        "                "
       ],
       "metadata": {},
       "output_type": "display_data",
       "text": [
        "<IPython.core.display.Javascript at 0x10d86e8d0>"
       ]
      },
      {
       "html": [
        "<div class=\"pb\" id=\"72127b29-45a4-4730-bb7a-32e79149dad0\"><table class=\"pb ui-widget\"><tr>\n",
        "<td class=\"pb_widget\">Processing: </td>\n",
        "<td class=\"pb_widget\"><div id=\"f3056085-7f8a-4151-ba8e-319ba449bd59\">  0%</div></td>\n",
        "<td class=\"pb_widget\"> </td>\n",
        "<td class=\"pb_widget_fill\">\n",
        "        <div class=\"pb_bar\" id=\"d6ae13d5-ba2c-4d6e-9a9c-370c56e53f7d\"></div>\n",
        "        <script type=\"text/javascript\">\n",
        "            $(\"div#d6ae13d5-ba2c-4d6e-9a9c-370c56e53f7d\").progressbar({value: 0, max: 100});\n",
        "        </script>\n",
        "        </td>\n",
        "<td class=\"pb_widget\"> </td>\n",
        "<td class=\"pb_widget\"><div id=\"b09e4888-bf30-4001-9130-c90326f1d795\">ETA:  --:--:--</div></td>\n",
        "</tr></table><div>"
       ],
       "metadata": {},
       "output_type": "display_data",
       "text": [
        "<IPython.core.display.HTML at 0x128374510>"
       ]
      },
      {
       "javascript": [
        "$('div#f3056085-7f8a-4151-ba8e-319ba449bd59').text(' 12%');"
       ],
       "metadata": {},
       "output_type": "display_data",
       "text": [
        "<IPython.core.display.Javascript at 0x128374d10>"
       ]
      },
      {
       "javascript": [
        "\n",
        "        var $myPB = $(\"div#d6ae13d5-ba2c-4d6e-9a9c-370c56e53f7d\")\n",
        "        if ($myPB.hasClass('ui-progressbar')) {\n",
        "            $myPB.progressbar('value', 12);\n",
        "        } else {\n",
        "            $myPB.progressbar({value: 0, max: 100});\n",
        "        }\n",
        "        "
       ],
       "metadata": {},
       "output_type": "display_data",
       "text": [
        "<IPython.core.display.Javascript at 0x128374910>"
       ]
      },
      {
       "javascript": [
        "$('div#b09e4888-bf30-4001-9130-c90326f1d795').text('ETA:  0:00:00');"
       ],
       "metadata": {},
       "output_type": "display_data",
       "text": [
        "<IPython.core.display.Javascript at 0x128374150>"
       ]
      },
      {
       "javascript": [
        "$('div#f3056085-7f8a-4151-ba8e-319ba449bd59').text(' 24%');"
       ],
       "metadata": {},
       "output_type": "display_data",
       "text": [
        "<IPython.core.display.Javascript at 0x128374610>"
       ]
      },
      {
       "javascript": [
        "\n",
        "        var $myPB = $(\"div#d6ae13d5-ba2c-4d6e-9a9c-370c56e53f7d\")\n",
        "        if ($myPB.hasClass('ui-progressbar')) {\n",
        "            $myPB.progressbar('value', 24);\n",
        "        } else {\n",
        "            $myPB.progressbar({value: 0, max: 100});\n",
        "        }\n",
        "        "
       ],
       "metadata": {},
       "output_type": "display_data",
       "text": [
        "<IPython.core.display.Javascript at 0x128374310>"
       ]
      },
      {
       "javascript": [
        "$('div#b09e4888-bf30-4001-9130-c90326f1d795').text('ETA:  0:00:03');"
       ],
       "metadata": {},
       "output_type": "display_data",
       "text": [
        "<IPython.core.display.Javascript at 0x128374590>"
       ]
      },
      {
       "javascript": [
        "$('div#f3056085-7f8a-4151-ba8e-319ba449bd59').text(' 24%');"
       ],
       "metadata": {},
       "output_type": "display_data",
       "text": [
        "<IPython.core.display.Javascript at 0x128374a90>"
       ]
      },
      {
       "javascript": [
        "\n",
        "        var $myPB = $(\"div#d6ae13d5-ba2c-4d6e-9a9c-370c56e53f7d\")\n",
        "        if ($myPB.hasClass('ui-progressbar')) {\n",
        "            $myPB.progressbar('value', 24);\n",
        "        } else {\n",
        "            $myPB.progressbar({value: 0, max: 100});\n",
        "        }\n",
        "        "
       ],
       "metadata": {},
       "output_type": "display_data",
       "text": [
        "<IPython.core.display.Javascript at 0x128374d50>"
       ]
      },
      {
       "javascript": [
        "$('div#b09e4888-bf30-4001-9130-c90326f1d795').text('ETA:  0:00:06');"
       ],
       "metadata": {},
       "output_type": "display_data",
       "text": [
        "<IPython.core.display.Javascript at 0x128374810>"
       ]
      },
      {
       "javascript": [
        "$('div#f3056085-7f8a-4151-ba8e-319ba449bd59').text(' 30%');"
       ],
       "metadata": {},
       "output_type": "display_data",
       "text": [
        "<IPython.core.display.Javascript at 0x128374290>"
       ]
      },
      {
       "javascript": [
        "\n",
        "        var $myPB = $(\"div#d6ae13d5-ba2c-4d6e-9a9c-370c56e53f7d\")\n",
        "        if ($myPB.hasClass('ui-progressbar')) {\n",
        "            $myPB.progressbar('value', 30);\n",
        "        } else {\n",
        "            $myPB.progressbar({value: 0, max: 100});\n",
        "        }\n",
        "        "
       ],
       "metadata": {},
       "output_type": "display_data",
       "text": [
        "<IPython.core.display.Javascript at 0x128374190>"
       ]
      },
      {
       "javascript": [
        "$('div#b09e4888-bf30-4001-9130-c90326f1d795').text('ETA:  0:00:07');"
       ],
       "metadata": {},
       "output_type": "display_data",
       "text": [
        "<IPython.core.display.Javascript at 0x128374e90>"
       ]
      },
      {
       "javascript": [
        "$('div#f3056085-7f8a-4151-ba8e-319ba449bd59').text(' 40%');"
       ],
       "metadata": {},
       "output_type": "display_data",
       "text": [
        "<IPython.core.display.Javascript at 0x128374050>"
       ]
      },
      {
       "javascript": [
        "\n",
        "        var $myPB = $(\"div#d6ae13d5-ba2c-4d6e-9a9c-370c56e53f7d\")\n",
        "        if ($myPB.hasClass('ui-progressbar')) {\n",
        "            $myPB.progressbar('value', 40);\n",
        "        } else {\n",
        "            $myPB.progressbar({value: 0, max: 100});\n",
        "        }\n",
        "        "
       ],
       "metadata": {},
       "output_type": "display_data",
       "text": [
        "<IPython.core.display.Javascript at 0x1283745d0>"
       ]
      },
      {
       "javascript": [
        "$('div#b09e4888-bf30-4001-9130-c90326f1d795').text('ETA:  0:00:06');"
       ],
       "metadata": {},
       "output_type": "display_data",
       "text": [
        "<IPython.core.display.Javascript at 0x128374450>"
       ]
      },
      {
       "javascript": [
        "$('div#f3056085-7f8a-4151-ba8e-319ba449bd59').text(' 46%');"
       ],
       "metadata": {},
       "output_type": "display_data",
       "text": [
        "<IPython.core.display.Javascript at 0x10d86e8d0>"
       ]
      },
      {
       "javascript": [
        "\n",
        "        var $myPB = $(\"div#d6ae13d5-ba2c-4d6e-9a9c-370c56e53f7d\")\n",
        "        if ($myPB.hasClass('ui-progressbar')) {\n",
        "            $myPB.progressbar('value', 46);\n",
        "        } else {\n",
        "            $myPB.progressbar({value: 0, max: 100});\n",
        "        }\n",
        "        "
       ],
       "metadata": {},
       "output_type": "display_data",
       "text": [
        "<IPython.core.display.Javascript at 0x128374390>"
       ]
      },
      {
       "javascript": [
        "$('div#b09e4888-bf30-4001-9130-c90326f1d795').text('ETA:  0:00:05');"
       ],
       "metadata": {},
       "output_type": "display_data",
       "text": [
        "<IPython.core.display.Javascript at 0x128374f50>"
       ]
      },
      {
       "javascript": [
        "$('div#f3056085-7f8a-4151-ba8e-319ba449bd59').text(' 58%');"
       ],
       "metadata": {},
       "output_type": "display_data",
       "text": [
        "<IPython.core.display.Javascript at 0x128374150>"
       ]
      },
      {
       "javascript": [
        "\n",
        "        var $myPB = $(\"div#d6ae13d5-ba2c-4d6e-9a9c-370c56e53f7d\")\n",
        "        if ($myPB.hasClass('ui-progressbar')) {\n",
        "            $myPB.progressbar('value', 58);\n",
        "        } else {\n",
        "            $myPB.progressbar({value: 0, max: 100});\n",
        "        }\n",
        "        "
       ],
       "metadata": {},
       "output_type": "display_data",
       "text": [
        "<IPython.core.display.Javascript at 0x128374910>"
       ]
      },
      {
       "javascript": [
        "$('div#b09e4888-bf30-4001-9130-c90326f1d795').text('ETA:  0:00:04');"
       ],
       "metadata": {},
       "output_type": "display_data",
       "text": [
        "<IPython.core.display.Javascript at 0x128374190>"
       ]
      },
      {
       "javascript": [
        "$('div#f3056085-7f8a-4151-ba8e-319ba449bd59').text(' 58%');"
       ],
       "metadata": {},
       "output_type": "display_data",
       "text": [
        "<IPython.core.display.Javascript at 0x1283748d0>"
       ]
      },
      {
       "javascript": [
        "\n",
        "        var $myPB = $(\"div#d6ae13d5-ba2c-4d6e-9a9c-370c56e53f7d\")\n",
        "        if ($myPB.hasClass('ui-progressbar')) {\n",
        "            $myPB.progressbar('value', 58);\n",
        "        } else {\n",
        "            $myPB.progressbar({value: 0, max: 100});\n",
        "        }\n",
        "        "
       ],
       "metadata": {},
       "output_type": "display_data",
       "text": [
        "<IPython.core.display.Javascript at 0x128374610>"
       ]
      },
      {
       "javascript": [
        "$('div#b09e4888-bf30-4001-9130-c90326f1d795').text('ETA:  0:00:05');"
       ],
       "metadata": {},
       "output_type": "display_data",
       "text": [
        "<IPython.core.display.Javascript at 0x1283745d0>"
       ]
      },
      {
       "javascript": [
        "$('div#f3056085-7f8a-4151-ba8e-319ba449bd59').text(' 65%');"
       ],
       "metadata": {},
       "output_type": "display_data",
       "text": [
        "<IPython.core.display.Javascript at 0x128374d50>"
       ]
      },
      {
       "javascript": [
        "\n",
        "        var $myPB = $(\"div#d6ae13d5-ba2c-4d6e-9a9c-370c56e53f7d\")\n",
        "        if ($myPB.hasClass('ui-progressbar')) {\n",
        "            $myPB.progressbar('value', 65);\n",
        "        } else {\n",
        "            $myPB.progressbar({value: 0, max: 100});\n",
        "        }\n",
        "        "
       ],
       "metadata": {},
       "output_type": "display_data",
       "text": [
        "<IPython.core.display.Javascript at 0x128374590>"
       ]
      },
      {
       "javascript": [
        "$('div#b09e4888-bf30-4001-9130-c90326f1d795').text('ETA:  0:00:04');"
       ],
       "metadata": {},
       "output_type": "display_data",
       "text": [
        "<IPython.core.display.Javascript at 0x128374310>"
       ]
      },
      {
       "javascript": [
        "$('div#f3056085-7f8a-4151-ba8e-319ba449bd59').text(' 77%');"
       ],
       "metadata": {},
       "output_type": "display_data",
       "text": [
        "<IPython.core.display.Javascript at 0x128374290>"
       ]
      },
      {
       "javascript": [
        "\n",
        "        var $myPB = $(\"div#d6ae13d5-ba2c-4d6e-9a9c-370c56e53f7d\")\n",
        "        if ($myPB.hasClass('ui-progressbar')) {\n",
        "            $myPB.progressbar('value', 77);\n",
        "        } else {\n",
        "            $myPB.progressbar({value: 0, max: 100});\n",
        "        }\n",
        "        "
       ],
       "metadata": {},
       "output_type": "display_data",
       "text": [
        "<IPython.core.display.Javascript at 0x128374c50>"
       ]
      },
      {
       "javascript": [
        "$('div#b09e4888-bf30-4001-9130-c90326f1d795').text('ETA:  0:00:02');"
       ],
       "metadata": {},
       "output_type": "display_data",
       "text": [
        "<IPython.core.display.Javascript at 0x128374050>"
       ]
      },
      {
       "javascript": [
        "$('div#f3056085-7f8a-4151-ba8e-319ba449bd59').text(' 92%');"
       ],
       "metadata": {},
       "output_type": "display_data",
       "text": [
        "<IPython.core.display.Javascript at 0x128374d10>"
       ]
      },
      {
       "javascript": [
        "\n",
        "        var $myPB = $(\"div#d6ae13d5-ba2c-4d6e-9a9c-370c56e53f7d\")\n",
        "        if ($myPB.hasClass('ui-progressbar')) {\n",
        "            $myPB.progressbar('value', 92);\n",
        "        } else {\n",
        "            $myPB.progressbar({value: 0, max: 100});\n",
        "        }\n",
        "        "
       ],
       "metadata": {},
       "output_type": "display_data",
       "text": [
        "<IPython.core.display.Javascript at 0x128374e90>"
       ]
      },
      {
       "javascript": [
        "$('div#b09e4888-bf30-4001-9130-c90326f1d795').text('ETA:  0:00:00');"
       ],
       "metadata": {},
       "output_type": "display_data",
       "text": [
        "<IPython.core.display.Javascript at 0x128374810>"
       ]
      },
      {
       "javascript": [
        "$('div#f3056085-7f8a-4151-ba8e-319ba449bd59').text('100%');"
       ],
       "metadata": {},
       "output_type": "display_data",
       "text": [
        "<IPython.core.display.Javascript at 0x128374450>"
       ]
      },
      {
       "javascript": [
        "\n",
        "        var $myPB = $(\"div#d6ae13d5-ba2c-4d6e-9a9c-370c56e53f7d\")\n",
        "        if ($myPB.hasClass('ui-progressbar')) {\n",
        "            $myPB.progressbar('value', 100);\n",
        "        } else {\n",
        "            $myPB.progressbar({value: 0, max: 100});\n",
        "        }\n",
        "        "
       ],
       "metadata": {},
       "output_type": "display_data",
       "text": [
        "<IPython.core.display.Javascript at 0x128374ed0>"
       ]
      },
      {
       "javascript": [
        "$('div#b09e4888-bf30-4001-9130-c90326f1d795').text('Time: 0:00:11');"
       ],
       "metadata": {},
       "output_type": "display_data",
       "text": [
        "<IPython.core.display.Javascript at 0x128374650>"
       ]
      },
      {
       "javascript": [
        "var element = document.getElementById('72127b29-45a4-4730-bb7a-32e79149dad0');\n",
        "                    var parent = element.parentNode\n",
        "                    parent.removeChild(element);\n",
        "                    parent.parentElement.remove();"
       ],
       "metadata": {},
       "output_type": "display_data",
       "text": [
        "<IPython.core.display.Javascript at 0x11145bbd0>"
       ]
      },
      {
       "javascript": [
        "this.cleanProgressBar(['72127b29-45a4-4730-bb7a-32e79149dad0', 'f3056085-7f8a-4151-ba8e-319ba449bd59', 'd6ae13d5-ba2c-4d6e-9a9c-370c56e53f7d', 'b09e4888-bf30-4001-9130-c90326f1d795'])"
       ],
       "metadata": {},
       "output_type": "display_data",
       "text": [
        "<IPython.core.display.Javascript at 0x128374a90>"
       ]
      },
      {
       "output_type": "stream",
       "stream": "stdout",
       "text": [
        "-4.432621389555169\n",
        "-42.193302537302365\n",
        "-56.99015558740908\n"
       ]
      }
     ],
     "prompt_number": 23
    },
    {
     "cell_type": "markdown",
     "metadata": {},
     "source": [
      "### Sending in the submission\n",
      "\n",
      "The final step is to send the submission. This will save a copy of the submission in the server and return the evaluation results.\n",
      "\n",
      "The submission **may take some time**, especially if the submission covers all tasks and all tokens.\n",
      "\n",
      "To submit we simply call the submit function of the submission object that we have created.\n",
      "The email that we have used when creating the submission class is the one that will be used to login to the server.\n",
      "We must also supply the password that we used when we registered to the INSPIRE Challenge website."
     ]
    },
    {
     "cell_type": "code",
     "collapsed": false,
     "input": [
      "job_sub = submission.submit(password='dummypassword')"
     ],
     "language": "python",
     "metadata": {},
     "outputs": []
    },
    {
     "cell_type": "code",
     "collapsed": false,
     "input": [
      "job_sub.wait()\n",
      "result = job_sub.result()\n",
      "\n",
      "inspire.pprint(result['where']['token_averaged'])\n",
      "inspire.pprint(result['what']['token_averaged'])\n",
      "inspire.pprint(result['full']['token_averaged'])"
     ],
     "language": "python",
     "metadata": {},
     "outputs": [
      {
       "javascript": [
        "//5cef4baf-0d7c-4cb4-8edf-e3030c89dea4\n",
        "$(\"head\").append(\"<style> td.pb_widget {     width: auto; } td.pb_widget_fill {     width: 100%; } table.pb {     font-family: monospace;     border: 0;     margin: 0; } table.pb tr { border: 0; } table.pb td {     white-space: nowrap;     border: 0; } div.pb {     border: 1px solid #ddd;     border-radius: 3px; } div.pb_bar {     height: 1.5em; } </style>\")"
       ],
       "metadata": {},
       "output_type": "display_data",
       "text": [
        "<IPython.core.display.Javascript at 0x120c6ea10>"
       ]
      },
      {
       "javascript": [
        "\n",
        "                  // 5cef4baf-0d7c-4cb4-8edf-e3030c89dea4 -- used to remove this code blob in the end\n",
        "                  IPython.OutputArea.prototype.cleanProgressBar = function(uuids) {\n",
        "                      // filter by uuid-strings \n",
        "                      var myfilter = function(output) { \n",
        "                          var nuids = uuids.length;\n",
        "                          for (var i=0; i<nuids; i++) {\n",
        "                              if (output.hasOwnProperty('html')) {\n",
        "                                  if (output.html.indexOf(uuids[i]) != -1) {\n",
        "                                      return false;\n",
        "                                  }\n",
        "                              }\n",
        "                              if (output.hasOwnProperty('javascript')) {\n",
        "                                  if (output.javascript.indexOf(uuids[i]) != -1) {\n",
        "                                      return false;\n",
        "                                  }\n",
        "                              }\n",
        "                          }\n",
        "                          // keep all others\n",
        "                          return true;\n",
        "                      };\n",
        "\n",
        "                      // Filter the ouputs\n",
        "                      this.outputs = this.outputs.filter(myfilter);\n",
        "                };\n",
        "                "
       ],
       "metadata": {},
       "output_type": "display_data",
       "text": [
        "<IPython.core.display.Javascript at 0x1281bf990>"
       ]
      },
      {
       "html": [
        "<div class=\"pb\" id=\"5cef4baf-0d7c-4cb4-8edf-e3030c89dea4\"><table class=\"pb ui-widget\"><tr>\n",
        "<td class=\"pb_widget\">Processing: </td>\n",
        "<td class=\"pb_widget\"><div id=\"0c594012-74b4-46e2-8351-1d1f354bb7e4\">  0%</div></td>\n",
        "<td class=\"pb_widget\"> </td>\n",
        "<td class=\"pb_widget_fill\">\n",
        "        <div class=\"pb_bar\" id=\"29603a0e-9e4d-4ffa-912c-48f34284e5ed\"></div>\n",
        "        <script type=\"text/javascript\">\n",
        "            $(\"div#29603a0e-9e4d-4ffa-912c-48f34284e5ed\").progressbar({value: 0, max: 100});\n",
        "        </script>\n",
        "        </td>\n",
        "<td class=\"pb_widget\"> </td>\n",
        "<td class=\"pb_widget\"><div id=\"34c5e849-f051-4147-bec5-e3f7b3d156cc\">ETA:  --:--:--</div></td>\n",
        "</tr></table><div>"
       ],
       "metadata": {},
       "output_type": "display_data",
       "text": [
        "<IPython.core.display.HTML at 0x128374a50>"
       ]
      },
      {
       "javascript": [
        "$('div#0c594012-74b4-46e2-8351-1d1f354bb7e4').text('  1%');"
       ],
       "metadata": {},
       "output_type": "display_data",
       "text": [
        "<IPython.core.display.Javascript at 0x120c6ee90>"
       ]
      },
      {
       "javascript": [
        "\n",
        "        var $myPB = $(\"div#29603a0e-9e4d-4ffa-912c-48f34284e5ed\")\n",
        "        if ($myPB.hasClass('ui-progressbar')) {\n",
        "            $myPB.progressbar('value', 1);\n",
        "        } else {\n",
        "            $myPB.progressbar({value: 0, max: 100});\n",
        "        }\n",
        "        "
       ],
       "metadata": {},
       "output_type": "display_data",
       "text": [
        "<IPython.core.display.Javascript at 0x1281bf950>"
       ]
      },
      {
       "javascript": [
        "$('div#34c5e849-f051-4147-bec5-e3f7b3d156cc').text('ETA:  0:01:41');"
       ],
       "metadata": {},
       "output_type": "display_data",
       "text": [
        "<IPython.core.display.Javascript at 0x120c6e210>"
       ]
      },
      {
       "javascript": [
        "$('div#0c594012-74b4-46e2-8351-1d1f354bb7e4').text('  2%');"
       ],
       "metadata": {},
       "output_type": "display_data",
       "text": [
        "<IPython.core.display.Javascript at 0x120c6ecd0>"
       ]
      },
      {
       "javascript": [
        "\n",
        "        var $myPB = $(\"div#29603a0e-9e4d-4ffa-912c-48f34284e5ed\")\n",
        "        if ($myPB.hasClass('ui-progressbar')) {\n",
        "            $myPB.progressbar('value', 2);\n",
        "        } else {\n",
        "            $myPB.progressbar({value: 0, max: 100});\n",
        "        }\n",
        "        "
       ],
       "metadata": {},
       "output_type": "display_data",
       "text": [
        "<IPython.core.display.Javascript at 0x120c6ef50>"
       ]
      },
      {
       "javascript": [
        "$('div#34c5e849-f051-4147-bec5-e3f7b3d156cc').text('ETA:  0:01:40');"
       ],
       "metadata": {},
       "output_type": "display_data",
       "text": [
        "<IPython.core.display.Javascript at 0x120c6e4d0>"
       ]
      },
      {
       "javascript": [
        "$('div#0c594012-74b4-46e2-8351-1d1f354bb7e4').text('  5%');"
       ],
       "metadata": {},
       "output_type": "display_data",
       "text": [
        "<IPython.core.display.Javascript at 0x120c6e550>"
       ]
      },
      {
       "javascript": [
        "\n",
        "        var $myPB = $(\"div#29603a0e-9e4d-4ffa-912c-48f34284e5ed\")\n",
        "        if ($myPB.hasClass('ui-progressbar')) {\n",
        "            $myPB.progressbar('value', 5);\n",
        "        } else {\n",
        "            $myPB.progressbar({value: 0, max: 100});\n",
        "        }\n",
        "        "
       ],
       "metadata": {},
       "output_type": "display_data",
       "text": [
        "<IPython.core.display.Javascript at 0x120c6e950>"
       ]
      },
      {
       "javascript": [
        "$('div#34c5e849-f051-4147-bec5-e3f7b3d156cc').text('ETA:  0:00:58');"
       ],
       "metadata": {},
       "output_type": "display_data",
       "text": [
        "<IPython.core.display.Javascript at 0x120c6ee10>"
       ]
      },
      {
       "javascript": [
        "$('div#0c594012-74b4-46e2-8351-1d1f354bb7e4').text('  6%');"
       ],
       "metadata": {},
       "output_type": "display_data",
       "text": [
        "<IPython.core.display.Javascript at 0x120c6e350>"
       ]
      },
      {
       "javascript": [
        "\n",
        "        var $myPB = $(\"div#29603a0e-9e4d-4ffa-912c-48f34284e5ed\")\n",
        "        if ($myPB.hasClass('ui-progressbar')) {\n",
        "            $myPB.progressbar('value', 6);\n",
        "        } else {\n",
        "            $myPB.progressbar({value: 0, max: 100});\n",
        "        }\n",
        "        "
       ],
       "metadata": {},
       "output_type": "display_data",
       "text": [
        "<IPython.core.display.Javascript at 0x120c6ee50>"
       ]
      },
      {
       "javascript": [
        "$('div#34c5e849-f051-4147-bec5-e3f7b3d156cc').text('ETA:  0:01:03');"
       ],
       "metadata": {},
       "output_type": "display_data",
       "text": [
        "<IPython.core.display.Javascript at 0x120c6e490>"
       ]
      },
      {
       "javascript": [
        "$('div#0c594012-74b4-46e2-8351-1d1f354bb7e4').text('  7%');"
       ],
       "metadata": {},
       "output_type": "display_data",
       "text": [
        "<IPython.core.display.Javascript at 0x120c6e7d0>"
       ]
      },
      {
       "javascript": [
        "\n",
        "        var $myPB = $(\"div#29603a0e-9e4d-4ffa-912c-48f34284e5ed\")\n",
        "        if ($myPB.hasClass('ui-progressbar')) {\n",
        "            $myPB.progressbar('value', 7);\n",
        "        } else {\n",
        "            $myPB.progressbar({value: 0, max: 100});\n",
        "        }\n",
        "        "
       ],
       "metadata": {},
       "output_type": "display_data",
       "text": [
        "<IPython.core.display.Javascript at 0x120c6e850>"
       ]
      },
      {
       "javascript": [
        "$('div#34c5e849-f051-4147-bec5-e3f7b3d156cc').text('ETA:  0:01:07');"
       ],
       "metadata": {},
       "output_type": "display_data",
       "text": [
        "<IPython.core.display.Javascript at 0x120c6efd0>"
       ]
      },
      {
       "javascript": [
        "$('div#0c594012-74b4-46e2-8351-1d1f354bb7e4').text('  7%');"
       ],
       "metadata": {},
       "output_type": "display_data",
       "text": [
        "<IPython.core.display.Javascript at 0x120c6e5d0>"
       ]
      },
      {
       "javascript": [
        "\n",
        "        var $myPB = $(\"div#29603a0e-9e4d-4ffa-912c-48f34284e5ed\")\n",
        "        if ($myPB.hasClass('ui-progressbar')) {\n",
        "            $myPB.progressbar('value', 7);\n",
        "        } else {\n",
        "            $myPB.progressbar({value: 0, max: 100});\n",
        "        }\n",
        "        "
       ],
       "metadata": {},
       "output_type": "display_data",
       "text": [
        "<IPython.core.display.Javascript at 0x120c6ef10>"
       ]
      },
      {
       "javascript": [
        "$('div#34c5e849-f051-4147-bec5-e3f7b3d156cc').text('ETA:  0:01:21');"
       ],
       "metadata": {},
       "output_type": "display_data",
       "text": [
        "<IPython.core.display.Javascript at 0x120c6e1d0>"
       ]
      },
      {
       "javascript": [
        "$('div#0c594012-74b4-46e2-8351-1d1f354bb7e4').text('  7%');"
       ],
       "metadata": {},
       "output_type": "display_data",
       "text": [
        "<IPython.core.display.Javascript at 0x120c6ea50>"
       ]
      },
      {
       "javascript": [
        "\n",
        "        var $myPB = $(\"div#29603a0e-9e4d-4ffa-912c-48f34284e5ed\")\n",
        "        if ($myPB.hasClass('ui-progressbar')) {\n",
        "            $myPB.progressbar('value', 7);\n",
        "        } else {\n",
        "            $myPB.progressbar({value: 0, max: 100});\n",
        "        }\n",
        "        "
       ],
       "metadata": {},
       "output_type": "display_data",
       "text": [
        "<IPython.core.display.Javascript at 0x120c6eb10>"
       ]
      },
      {
       "javascript": [
        "$('div#34c5e849-f051-4147-bec5-e3f7b3d156cc').text('ETA:  0:01:34');"
       ],
       "metadata": {},
       "output_type": "display_data",
       "text": [
        "<IPython.core.display.Javascript at 0x122cf5a10>"
       ]
      },
      {
       "javascript": [
        "$('div#0c594012-74b4-46e2-8351-1d1f354bb7e4').text('  8%');"
       ],
       "metadata": {},
       "output_type": "display_data",
       "text": [
        "<IPython.core.display.Javascript at 0x122cf5050>"
       ]
      },
      {
       "javascript": [
        "\n",
        "        var $myPB = $(\"div#29603a0e-9e4d-4ffa-912c-48f34284e5ed\")\n",
        "        if ($myPB.hasClass('ui-progressbar')) {\n",
        "            $myPB.progressbar('value', 8);\n",
        "        } else {\n",
        "            $myPB.progressbar({value: 0, max: 100});\n",
        "        }\n",
        "        "
       ],
       "metadata": {},
       "output_type": "display_data",
       "text": [
        "<IPython.core.display.Javascript at 0x122cf5c90>"
       ]
      },
      {
       "javascript": [
        "$('div#34c5e849-f051-4147-bec5-e3f7b3d156cc').text('ETA:  0:01:33');"
       ],
       "metadata": {},
       "output_type": "display_data",
       "text": [
        "<IPython.core.display.Javascript at 0x122cf5250>"
       ]
      },
      {
       "javascript": [
        "$('div#0c594012-74b4-46e2-8351-1d1f354bb7e4').text(' 10%');"
       ],
       "metadata": {},
       "output_type": "display_data",
       "text": [
        "<IPython.core.display.Javascript at 0x122cf5490>"
       ]
      },
      {
       "javascript": [
        "\n",
        "        var $myPB = $(\"div#29603a0e-9e4d-4ffa-912c-48f34284e5ed\")\n",
        "        if ($myPB.hasClass('ui-progressbar')) {\n",
        "            $myPB.progressbar('value', 10);\n",
        "        } else {\n",
        "            $myPB.progressbar({value: 0, max: 100});\n",
        "        }\n",
        "        "
       ],
       "metadata": {},
       "output_type": "display_data",
       "text": [
        "<IPython.core.display.Javascript at 0x122cf5f50>"
       ]
      },
      {
       "javascript": [
        "$('div#34c5e849-f051-4147-bec5-e3f7b3d156cc').text('ETA:  0:01:22');"
       ],
       "metadata": {},
       "output_type": "display_data",
       "text": [
        "<IPython.core.display.Javascript at 0x122cf5d10>"
       ]
      },
      {
       "javascript": [
        "$('div#0c594012-74b4-46e2-8351-1d1f354bb7e4').text(' 12%');"
       ],
       "metadata": {},
       "output_type": "display_data",
       "text": [
        "<IPython.core.display.Javascript at 0x122cf5210>"
       ]
      },
      {
       "javascript": [
        "\n",
        "        var $myPB = $(\"div#29603a0e-9e4d-4ffa-912c-48f34284e5ed\")\n",
        "        if ($myPB.hasClass('ui-progressbar')) {\n",
        "            $myPB.progressbar('value', 12);\n",
        "        } else {\n",
        "            $myPB.progressbar({value: 0, max: 100});\n",
        "        }\n",
        "        "
       ],
       "metadata": {},
       "output_type": "display_data",
       "text": [
        "<IPython.core.display.Javascript at 0x122cf5090>"
       ]
      },
      {
       "javascript": [
        "$('div#34c5e849-f051-4147-bec5-e3f7b3d156cc').text('ETA:  0:01:14');"
       ],
       "metadata": {},
       "output_type": "display_data",
       "text": [
        "<IPython.core.display.Javascript at 0x122cf5d90>"
       ]
      },
      {
       "javascript": [
        "$('div#0c594012-74b4-46e2-8351-1d1f354bb7e4').text(' 14%');"
       ],
       "metadata": {},
       "output_type": "display_data",
       "text": [
        "<IPython.core.display.Javascript at 0x122cf56d0>"
       ]
      },
      {
       "javascript": [
        "\n",
        "        var $myPB = $(\"div#29603a0e-9e4d-4ffa-912c-48f34284e5ed\")\n",
        "        if ($myPB.hasClass('ui-progressbar')) {\n",
        "            $myPB.progressbar('value', 14);\n",
        "        } else {\n",
        "            $myPB.progressbar({value: 0, max: 100});\n",
        "        }\n",
        "        "
       ],
       "metadata": {},
       "output_type": "display_data",
       "text": [
        "<IPython.core.display.Javascript at 0x122cf5c10>"
       ]
      },
      {
       "javascript": [
        "$('div#34c5e849-f051-4147-bec5-e3f7b3d156cc').text('ETA:  0:01:08');"
       ],
       "metadata": {},
       "output_type": "display_data",
       "text": [
        "<IPython.core.display.Javascript at 0x122cf5890>"
       ]
      },
      {
       "javascript": [
        "$('div#0c594012-74b4-46e2-8351-1d1f354bb7e4').text(' 16%');"
       ],
       "metadata": {},
       "output_type": "display_data",
       "text": [
        "<IPython.core.display.Javascript at 0x10d8878d0>"
       ]
      },
      {
       "javascript": [
        "\n",
        "        var $myPB = $(\"div#29603a0e-9e4d-4ffa-912c-48f34284e5ed\")\n",
        "        if ($myPB.hasClass('ui-progressbar')) {\n",
        "            $myPB.progressbar('value', 16);\n",
        "        } else {\n",
        "            $myPB.progressbar({value: 0, max: 100});\n",
        "        }\n",
        "        "
       ],
       "metadata": {},
       "output_type": "display_data",
       "text": [
        "<IPython.core.display.Javascript at 0x111f56c50>"
       ]
      },
      {
       "javascript": [
        "$('div#34c5e849-f051-4147-bec5-e3f7b3d156cc').text('ETA:  0:01:04');"
       ],
       "metadata": {},
       "output_type": "display_data",
       "text": [
        "<IPython.core.display.Javascript at 0x122cf5cd0>"
       ]
      },
      {
       "javascript": [
        "$('div#0c594012-74b4-46e2-8351-1d1f354bb7e4').text(' 18%');"
       ],
       "metadata": {},
       "output_type": "display_data",
       "text": [
        "<IPython.core.display.Javascript at 0x122cf5290>"
       ]
      },
      {
       "javascript": [
        "\n",
        "        var $myPB = $(\"div#29603a0e-9e4d-4ffa-912c-48f34284e5ed\")\n",
        "        if ($myPB.hasClass('ui-progressbar')) {\n",
        "            $myPB.progressbar('value', 18);\n",
        "        } else {\n",
        "            $myPB.progressbar({value: 0, max: 100});\n",
        "        }\n",
        "        "
       ],
       "metadata": {},
       "output_type": "display_data",
       "text": [
        "<IPython.core.display.Javascript at 0x122cf5150>"
       ]
      },
      {
       "javascript": [
        "$('div#34c5e849-f051-4147-bec5-e3f7b3d156cc').text('ETA:  0:01:00');"
       ],
       "metadata": {},
       "output_type": "display_data",
       "text": [
        "<IPython.core.display.Javascript at 0x122cf5c50>"
       ]
      },
      {
       "javascript": [
        "$('div#0c594012-74b4-46e2-8351-1d1f354bb7e4').text(' 19%');"
       ],
       "metadata": {},
       "output_type": "display_data",
       "text": [
        "<IPython.core.display.Javascript at 0x10d8878d0>"
       ]
      },
      {
       "javascript": [
        "\n",
        "        var $myPB = $(\"div#29603a0e-9e4d-4ffa-912c-48f34284e5ed\")\n",
        "        if ($myPB.hasClass('ui-progressbar')) {\n",
        "            $myPB.progressbar('value', 19);\n",
        "        } else {\n",
        "            $myPB.progressbar({value: 0, max: 100});\n",
        "        }\n",
        "        "
       ],
       "metadata": {},
       "output_type": "display_data",
       "text": [
        "<IPython.core.display.Javascript at 0x120c6ea50>"
       ]
      },
      {
       "javascript": [
        "$('div#34c5e849-f051-4147-bec5-e3f7b3d156cc').text('ETA:  0:01:00');"
       ],
       "metadata": {},
       "output_type": "display_data",
       "text": [
        "<IPython.core.display.Javascript at 0x120c6e7d0>"
       ]
      },
      {
       "javascript": [
        "$('div#0c594012-74b4-46e2-8351-1d1f354bb7e4').text(' 20%');"
       ],
       "metadata": {},
       "output_type": "display_data",
       "text": [
        "<IPython.core.display.Javascript at 0x120c6e210>"
       ]
      },
      {
       "javascript": [
        "\n",
        "        var $myPB = $(\"div#29603a0e-9e4d-4ffa-912c-48f34284e5ed\")\n",
        "        if ($myPB.hasClass('ui-progressbar')) {\n",
        "            $myPB.progressbar('value', 20);\n",
        "        } else {\n",
        "            $myPB.progressbar({value: 0, max: 100});\n",
        "        }\n",
        "        "
       ],
       "metadata": {},
       "output_type": "display_data",
       "text": [
        "<IPython.core.display.Javascript at 0x120c6ee90>"
       ]
      },
      {
       "javascript": [
        "$('div#34c5e849-f051-4147-bec5-e3f7b3d156cc').text('ETA:  0:01:01');"
       ],
       "metadata": {},
       "output_type": "display_data",
       "text": [
        "<IPython.core.display.Javascript at 0x120c6e950>"
       ]
      },
      {
       "javascript": [
        "$('div#0c594012-74b4-46e2-8351-1d1f354bb7e4').text(' 21%');"
       ],
       "metadata": {},
       "output_type": "display_data",
       "text": [
        "<IPython.core.display.Javascript at 0x120c6e190>"
       ]
      },
      {
       "javascript": [
        "\n",
        "        var $myPB = $(\"div#29603a0e-9e4d-4ffa-912c-48f34284e5ed\")\n",
        "        if ($myPB.hasClass('ui-progressbar')) {\n",
        "            $myPB.progressbar('value', 21);\n",
        "        } else {\n",
        "            $myPB.progressbar({value: 0, max: 100});\n",
        "        }\n",
        "        "
       ],
       "metadata": {},
       "output_type": "display_data",
       "text": [
        "<IPython.core.display.Javascript at 0x120c6e850>"
       ]
      },
      {
       "javascript": [
        "$('div#34c5e849-f051-4147-bec5-e3f7b3d156cc').text('ETA:  0:01:01');"
       ],
       "metadata": {},
       "output_type": "display_data",
       "text": [
        "<IPython.core.display.Javascript at 0x120c6e4d0>"
       ]
      },
      {
       "javascript": [
        "$('div#0c594012-74b4-46e2-8351-1d1f354bb7e4').text(' 22%');"
       ],
       "metadata": {},
       "output_type": "display_data",
       "text": [
        "<IPython.core.display.Javascript at 0x120c6e5d0>"
       ]
      },
      {
       "javascript": [
        "\n",
        "        var $myPB = $(\"div#29603a0e-9e4d-4ffa-912c-48f34284e5ed\")\n",
        "        if ($myPB.hasClass('ui-progressbar')) {\n",
        "            $myPB.progressbar('value', 22);\n",
        "        } else {\n",
        "            $myPB.progressbar({value: 0, max: 100});\n",
        "        }\n",
        "        "
       ],
       "metadata": {},
       "output_type": "display_data",
       "text": [
        "<IPython.core.display.Javascript at 0x120c6ef10>"
       ]
      },
      {
       "javascript": [
        "$('div#34c5e849-f051-4147-bec5-e3f7b3d156cc').text('ETA:  0:01:01');"
       ],
       "metadata": {},
       "output_type": "display_data",
       "text": [
        "<IPython.core.display.Javascript at 0x120c6eb10>"
       ]
      },
      {
       "javascript": [
        "$('div#0c594012-74b4-46e2-8351-1d1f354bb7e4').text(' 24%');"
       ],
       "metadata": {},
       "output_type": "display_data",
       "text": [
        "<IPython.core.display.Javascript at 0x111f56c50>"
       ]
      },
      {
       "javascript": [
        "\n",
        "        var $myPB = $(\"div#29603a0e-9e4d-4ffa-912c-48f34284e5ed\")\n",
        "        if ($myPB.hasClass('ui-progressbar')) {\n",
        "            $myPB.progressbar('value', 24);\n",
        "        } else {\n",
        "            $myPB.progressbar({value: 0, max: 100});\n",
        "        }\n",
        "        "
       ],
       "metadata": {},
       "output_type": "display_data",
       "text": [
        "<IPython.core.display.Javascript at 0x120c6ea10>"
       ]
      },
      {
       "javascript": [
        "$('div#34c5e849-f051-4147-bec5-e3f7b3d156cc').text('ETA:  0:00:57');"
       ],
       "metadata": {},
       "output_type": "display_data",
       "text": [
        "<IPython.core.display.Javascript at 0x120c6ee10>"
       ]
      },
      {
       "javascript": [
        "$('div#0c594012-74b4-46e2-8351-1d1f354bb7e4').text(' 25%');"
       ],
       "metadata": {},
       "output_type": "display_data",
       "text": [
        "<IPython.core.display.Javascript at 0x1281bf3d0>"
       ]
      },
      {
       "javascript": [
        "\n",
        "        var $myPB = $(\"div#29603a0e-9e4d-4ffa-912c-48f34284e5ed\")\n",
        "        if ($myPB.hasClass('ui-progressbar')) {\n",
        "            $myPB.progressbar('value', 25);\n",
        "        } else {\n",
        "            $myPB.progressbar({value: 0, max: 100});\n",
        "        }\n",
        "        "
       ],
       "metadata": {},
       "output_type": "display_data",
       "text": [
        "<IPython.core.display.Javascript at 0x1281bf990>"
       ]
      },
      {
       "javascript": [
        "$('div#34c5e849-f051-4147-bec5-e3f7b3d156cc').text('ETA:  0:00:57');"
       ],
       "metadata": {},
       "output_type": "display_data",
       "text": [
        "<IPython.core.display.Javascript at 0x1281bf910>"
       ]
      },
      {
       "javascript": [
        "$('div#0c594012-74b4-46e2-8351-1d1f354bb7e4').text(' 27%');"
       ],
       "metadata": {},
       "output_type": "display_data",
       "text": [
        "<IPython.core.display.Javascript at 0x120c6e1d0>"
       ]
      },
      {
       "javascript": [
        "\n",
        "        var $myPB = $(\"div#29603a0e-9e4d-4ffa-912c-48f34284e5ed\")\n",
        "        if ($myPB.hasClass('ui-progressbar')) {\n",
        "            $myPB.progressbar('value', 27);\n",
        "        } else {\n",
        "            $myPB.progressbar({value: 0, max: 100});\n",
        "        }\n",
        "        "
       ],
       "metadata": {},
       "output_type": "display_data",
       "text": [
        "<IPython.core.display.Javascript at 0x120c6efd0>"
       ]
      },
      {
       "javascript": [
        "$('div#34c5e849-f051-4147-bec5-e3f7b3d156cc').text('ETA:  0:00:54');"
       ],
       "metadata": {},
       "output_type": "display_data",
       "text": [
        "<IPython.core.display.Javascript at 0x120c6ef50>"
       ]
      },
      {
       "javascript": [
        "$('div#0c594012-74b4-46e2-8351-1d1f354bb7e4').text(' 27%');"
       ],
       "metadata": {},
       "output_type": "display_data",
       "text": [
        "<IPython.core.display.Javascript at 0x1281bfdd0>"
       ]
      },
      {
       "javascript": [
        "\n",
        "        var $myPB = $(\"div#29603a0e-9e4d-4ffa-912c-48f34284e5ed\")\n",
        "        if ($myPB.hasClass('ui-progressbar')) {\n",
        "            $myPB.progressbar('value', 27);\n",
        "        } else {\n",
        "            $myPB.progressbar({value: 0, max: 100});\n",
        "        }\n",
        "        "
       ],
       "metadata": {},
       "output_type": "display_data",
       "text": [
        "<IPython.core.display.Javascript at 0x1281bffd0>"
       ]
      },
      {
       "javascript": [
        "$('div#34c5e849-f051-4147-bec5-e3f7b3d156cc').text('ETA:  0:00:57');"
       ],
       "metadata": {},
       "output_type": "display_data",
       "text": [
        "<IPython.core.display.Javascript at 0x1281bf950>"
       ]
      },
      {
       "javascript": [
        "$('div#0c594012-74b4-46e2-8351-1d1f354bb7e4').text(' 27%');"
       ],
       "metadata": {},
       "output_type": "display_data",
       "text": [
        "<IPython.core.display.Javascript at 0x1281bf190>"
       ]
      },
      {
       "javascript": [
        "\n",
        "        var $myPB = $(\"div#29603a0e-9e4d-4ffa-912c-48f34284e5ed\")\n",
        "        if ($myPB.hasClass('ui-progressbar')) {\n",
        "            $myPB.progressbar('value', 27);\n",
        "        } else {\n",
        "            $myPB.progressbar({value: 0, max: 100});\n",
        "        }\n",
        "        "
       ],
       "metadata": {},
       "output_type": "display_data",
       "text": [
        "<IPython.core.display.Javascript at 0x120c6ee50>"
       ]
      },
      {
       "javascript": [
        "$('div#34c5e849-f051-4147-bec5-e3f7b3d156cc').text('ETA:  0:01:00');"
       ],
       "metadata": {},
       "output_type": "display_data",
       "text": [
        "<IPython.core.display.Javascript at 0x120c6e350>"
       ]
      },
      {
       "javascript": [
        "$('div#0c594012-74b4-46e2-8351-1d1f354bb7e4').text(' 29%');"
       ],
       "metadata": {},
       "output_type": "display_data",
       "text": [
        "<IPython.core.display.Javascript at 0x120c6e490>"
       ]
      },
      {
       "javascript": [
        "\n",
        "        var $myPB = $(\"div#29603a0e-9e4d-4ffa-912c-48f34284e5ed\")\n",
        "        if ($myPB.hasClass('ui-progressbar')) {\n",
        "            $myPB.progressbar('value', 29);\n",
        "        } else {\n",
        "            $myPB.progressbar({value: 0, max: 100});\n",
        "        }\n",
        "        "
       ],
       "metadata": {},
       "output_type": "display_data",
       "text": [
        "<IPython.core.display.Javascript at 0x120c6e550>"
       ]
      },
      {
       "javascript": [
        "$('div#34c5e849-f051-4147-bec5-e3f7b3d156cc').text('ETA:  0:00:57');"
       ],
       "metadata": {},
       "output_type": "display_data",
       "text": [
        "<IPython.core.display.Javascript at 0x120c6ecd0>"
       ]
      },
      {
       "javascript": [
        "$('div#0c594012-74b4-46e2-8351-1d1f354bb7e4').text(' 30%');"
       ],
       "metadata": {},
       "output_type": "display_data",
       "text": [
        "<IPython.core.display.Javascript at 0x128374150>"
       ]
      },
      {
       "javascript": [
        "\n",
        "        var $myPB = $(\"div#29603a0e-9e4d-4ffa-912c-48f34284e5ed\")\n",
        "        if ($myPB.hasClass('ui-progressbar')) {\n",
        "            $myPB.progressbar('value', 30);\n",
        "        } else {\n",
        "            $myPB.progressbar({value: 0, max: 100});\n",
        "        }\n",
        "        "
       ],
       "metadata": {},
       "output_type": "display_data",
       "text": [
        "<IPython.core.display.Javascript at 0x1283746d0>"
       ]
      },
      {
       "javascript": [
        "$('div#34c5e849-f051-4147-bec5-e3f7b3d156cc').text('ETA:  0:00:56');"
       ],
       "metadata": {},
       "output_type": "display_data",
       "text": [
        "<IPython.core.display.Javascript at 0x128374d50>"
       ]
      },
      {
       "javascript": [
        "$('div#0c594012-74b4-46e2-8351-1d1f354bb7e4').text(' 32%');"
       ],
       "metadata": {},
       "output_type": "display_data",
       "text": [
        "<IPython.core.display.Javascript at 0x128374050>"
       ]
      },
      {
       "javascript": [
        "\n",
        "        var $myPB = $(\"div#29603a0e-9e4d-4ffa-912c-48f34284e5ed\")\n",
        "        if ($myPB.hasClass('ui-progressbar')) {\n",
        "            $myPB.progressbar('value', 32);\n",
        "        } else {\n",
        "            $myPB.progressbar({value: 0, max: 100});\n",
        "        }\n",
        "        "
       ],
       "metadata": {},
       "output_type": "display_data",
       "text": [
        "<IPython.core.display.Javascript at 0x128374650>"
       ]
      },
      {
       "javascript": [
        "$('div#34c5e849-f051-4147-bec5-e3f7b3d156cc').text('ETA:  0:00:53');"
       ],
       "metadata": {},
       "output_type": "display_data",
       "text": [
        "<IPython.core.display.Javascript at 0x128374a50>"
       ]
      },
      {
       "javascript": [
        "$('div#0c594012-74b4-46e2-8351-1d1f354bb7e4').text(' 33%');"
       ],
       "metadata": {},
       "output_type": "display_data",
       "text": [
        "<IPython.core.display.Javascript at 0x128374510>"
       ]
      },
      {
       "javascript": [
        "\n",
        "        var $myPB = $(\"div#29603a0e-9e4d-4ffa-912c-48f34284e5ed\")\n",
        "        if ($myPB.hasClass('ui-progressbar')) {\n",
        "            $myPB.progressbar('value', 33);\n",
        "        } else {\n",
        "            $myPB.progressbar({value: 0, max: 100});\n",
        "        }\n",
        "        "
       ],
       "metadata": {},
       "output_type": "display_data",
       "text": [
        "<IPython.core.display.Javascript at 0x128374a90>"
       ]
      },
      {
       "javascript": [
        "$('div#34c5e849-f051-4147-bec5-e3f7b3d156cc').text('ETA:  0:00:53');"
       ],
       "metadata": {},
       "output_type": "display_data",
       "text": [
        "<IPython.core.display.Javascript at 0x128374cd0>"
       ]
      },
      {
       "javascript": [
        "$('div#0c594012-74b4-46e2-8351-1d1f354bb7e4').text(' 34%');"
       ],
       "metadata": {},
       "output_type": "display_data",
       "text": [
        "<IPython.core.display.Javascript at 0x128374910>"
       ]
      },
      {
       "javascript": [
        "\n",
        "        var $myPB = $(\"div#29603a0e-9e4d-4ffa-912c-48f34284e5ed\")\n",
        "        if ($myPB.hasClass('ui-progressbar')) {\n",
        "            $myPB.progressbar('value', 34);\n",
        "        } else {\n",
        "            $myPB.progressbar({value: 0, max: 100});\n",
        "        }\n",
        "        "
       ],
       "metadata": {},
       "output_type": "display_data",
       "text": [
        "<IPython.core.display.Javascript at 0x1283742d0>"
       ]
      },
      {
       "javascript": [
        "$('div#34c5e849-f051-4147-bec5-e3f7b3d156cc').text('ETA:  0:00:53');"
       ],
       "metadata": {},
       "output_type": "display_data",
       "text": [
        "<IPython.core.display.Javascript at 0x128374790>"
       ]
      },
      {
       "javascript": [
        "$('div#0c594012-74b4-46e2-8351-1d1f354bb7e4').text(' 36%');"
       ],
       "metadata": {},
       "output_type": "display_data",
       "text": [
        "<IPython.core.display.Javascript at 0x128374810>"
       ]
      },
      {
       "javascript": [
        "\n",
        "        var $myPB = $(\"div#29603a0e-9e4d-4ffa-912c-48f34284e5ed\")\n",
        "        if ($myPB.hasClass('ui-progressbar')) {\n",
        "            $myPB.progressbar('value', 36);\n",
        "        } else {\n",
        "            $myPB.progressbar({value: 0, max: 100});\n",
        "        }\n",
        "        "
       ],
       "metadata": {},
       "output_type": "display_data",
       "text": [
        "<IPython.core.display.Javascript at 0x1283743d0>"
       ]
      },
      {
       "javascript": [
        "$('div#34c5e849-f051-4147-bec5-e3f7b3d156cc').text('ETA:  0:00:50');"
       ],
       "metadata": {},
       "output_type": "display_data",
       "text": [
        "<IPython.core.display.Javascript at 0x128374610>"
       ]
      },
      {
       "javascript": [
        "$('div#0c594012-74b4-46e2-8351-1d1f354bb7e4').text(' 39%');"
       ],
       "metadata": {},
       "output_type": "display_data",
       "text": [
        "<IPython.core.display.Javascript at 0x128374ed0>"
       ]
      },
      {
       "javascript": [
        "\n",
        "        var $myPB = $(\"div#29603a0e-9e4d-4ffa-912c-48f34284e5ed\")\n",
        "        if ($myPB.hasClass('ui-progressbar')) {\n",
        "            $myPB.progressbar('value', 39);\n",
        "        } else {\n",
        "            $myPB.progressbar({value: 0, max: 100});\n",
        "        }\n",
        "        "
       ],
       "metadata": {},
       "output_type": "display_data",
       "text": [
        "<IPython.core.display.Javascript at 0x1283745d0>"
       ]
      },
      {
       "javascript": [
        "$('div#34c5e849-f051-4147-bec5-e3f7b3d156cc').text('ETA:  0:00:46');"
       ],
       "metadata": {},
       "output_type": "display_data",
       "text": [
        "<IPython.core.display.Javascript at 0x128374c50>"
       ]
      },
      {
       "javascript": [
        "$('div#0c594012-74b4-46e2-8351-1d1f354bb7e4').text(' 40%');"
       ],
       "metadata": {},
       "output_type": "display_data",
       "text": [
        "<IPython.core.display.Javascript at 0x122cf5bd0>"
       ]
      },
      {
       "javascript": [
        "\n",
        "        var $myPB = $(\"div#29603a0e-9e4d-4ffa-912c-48f34284e5ed\")\n",
        "        if ($myPB.hasClass('ui-progressbar')) {\n",
        "            $myPB.progressbar('value', 40);\n",
        "        } else {\n",
        "            $myPB.progressbar({value: 0, max: 100});\n",
        "        }\n",
        "        "
       ],
       "metadata": {},
       "output_type": "display_data",
       "text": [
        "<IPython.core.display.Javascript at 0x122cf5d90>"
       ]
      },
      {
       "javascript": [
        "$('div#34c5e849-f051-4147-bec5-e3f7b3d156cc').text('ETA:  0:00:45');"
       ],
       "metadata": {},
       "output_type": "display_data",
       "text": [
        "<IPython.core.display.Javascript at 0x122cf5390>"
       ]
      },
      {
       "javascript": [
        "$('div#0c594012-74b4-46e2-8351-1d1f354bb7e4').text(' 41%');"
       ],
       "metadata": {},
       "output_type": "display_data",
       "text": [
        "<IPython.core.display.Javascript at 0x122cf5990>"
       ]
      },
      {
       "javascript": [
        "\n",
        "        var $myPB = $(\"div#29603a0e-9e4d-4ffa-912c-48f34284e5ed\")\n",
        "        if ($myPB.hasClass('ui-progressbar')) {\n",
        "            $myPB.progressbar('value', 41);\n",
        "        } else {\n",
        "            $myPB.progressbar({value: 0, max: 100});\n",
        "        }\n",
        "        "
       ],
       "metadata": {},
       "output_type": "display_data",
       "text": [
        "<IPython.core.display.Javascript at 0x122cf5cd0>"
       ]
      },
      {
       "javascript": [
        "$('div#34c5e849-f051-4147-bec5-e3f7b3d156cc').text('ETA:  0:00:45');"
       ],
       "metadata": {},
       "output_type": "display_data",
       "text": [
        "<IPython.core.display.Javascript at 0x122cf5190>"
       ]
      },
      {
       "javascript": [
        "$('div#0c594012-74b4-46e2-8351-1d1f354bb7e4').text(' 44%');"
       ],
       "metadata": {},
       "output_type": "display_data",
       "text": [
        "<IPython.core.display.Javascript at 0x128374ed0>"
       ]
      },
      {
       "javascript": [
        "\n",
        "        var $myPB = $(\"div#29603a0e-9e4d-4ffa-912c-48f34284e5ed\")\n",
        "        if ($myPB.hasClass('ui-progressbar')) {\n",
        "            $myPB.progressbar('value', 44);\n",
        "        } else {\n",
        "            $myPB.progressbar({value: 0, max: 100});\n",
        "        }\n",
        "        "
       ],
       "metadata": {},
       "output_type": "display_data",
       "text": [
        "<IPython.core.display.Javascript at 0x1283745d0>"
       ]
      },
      {
       "javascript": [
        "$('div#34c5e849-f051-4147-bec5-e3f7b3d156cc').text('ETA:  0:00:41');"
       ],
       "metadata": {},
       "output_type": "display_data",
       "text": [
        "<IPython.core.display.Javascript at 0x128374c50>"
       ]
      },
      {
       "javascript": [
        "$('div#0c594012-74b4-46e2-8351-1d1f354bb7e4').text(' 45%');"
       ],
       "metadata": {},
       "output_type": "display_data",
       "text": [
        "<IPython.core.display.Javascript at 0x10d86e8d0>"
       ]
      },
      {
       "javascript": [
        "\n",
        "        var $myPB = $(\"div#29603a0e-9e4d-4ffa-912c-48f34284e5ed\")\n",
        "        if ($myPB.hasClass('ui-progressbar')) {\n",
        "            $myPB.progressbar('value', 45);\n",
        "        } else {\n",
        "            $myPB.progressbar({value: 0, max: 100});\n",
        "        }\n",
        "        "
       ],
       "metadata": {},
       "output_type": "display_data",
       "text": [
        "<IPython.core.display.Javascript at 0x128374510>"
       ]
      },
      {
       "javascript": [
        "$('div#34c5e849-f051-4147-bec5-e3f7b3d156cc').text('ETA:  0:00:40');"
       ],
       "metadata": {},
       "output_type": "display_data",
       "text": [
        "<IPython.core.display.Javascript at 0x128374650>"
       ]
      },
      {
       "javascript": [
        "$('div#0c594012-74b4-46e2-8351-1d1f354bb7e4').text(' 46%');"
       ],
       "metadata": {},
       "output_type": "display_data",
       "text": [
        "<IPython.core.display.Javascript at 0x128374610>"
       ]
      },
      {
       "javascript": [
        "\n",
        "        var $myPB = $(\"div#29603a0e-9e4d-4ffa-912c-48f34284e5ed\")\n",
        "        if ($myPB.hasClass('ui-progressbar')) {\n",
        "            $myPB.progressbar('value', 46);\n",
        "        } else {\n",
        "            $myPB.progressbar({value: 0, max: 100});\n",
        "        }\n",
        "        "
       ],
       "metadata": {},
       "output_type": "display_data",
       "text": [
        "<IPython.core.display.Javascript at 0x128374150>"
       ]
      },
      {
       "javascript": [
        "$('div#34c5e849-f051-4147-bec5-e3f7b3d156cc').text('ETA:  0:00:40');"
       ],
       "metadata": {},
       "output_type": "display_data",
       "text": [
        "<IPython.core.display.Javascript at 0x128374810>"
       ]
      },
      {
       "javascript": [
        "$('div#0c594012-74b4-46e2-8351-1d1f354bb7e4').text(' 47%');"
       ],
       "metadata": {},
       "output_type": "display_data",
       "text": [
        "<IPython.core.display.Javascript at 0x128374a50>"
       ]
      },
      {
       "javascript": [
        "\n",
        "        var $myPB = $(\"div#29603a0e-9e4d-4ffa-912c-48f34284e5ed\")\n",
        "        if ($myPB.hasClass('ui-progressbar')) {\n",
        "            $myPB.progressbar('value', 47);\n",
        "        } else {\n",
        "            $myPB.progressbar({value: 0, max: 100});\n",
        "        }\n",
        "        "
       ],
       "metadata": {},
       "output_type": "display_data",
       "text": [
        "<IPython.core.display.Javascript at 0x1283742d0>"
       ]
      },
      {
       "javascript": [
        "$('div#34c5e849-f051-4147-bec5-e3f7b3d156cc').text('ETA:  0:00:40');"
       ],
       "metadata": {},
       "output_type": "display_data",
       "text": [
        "<IPython.core.display.Javascript at 0x128374a90>"
       ]
      },
      {
       "javascript": [
        "$('div#0c594012-74b4-46e2-8351-1d1f354bb7e4').text(' 47%');"
       ],
       "metadata": {},
       "output_type": "display_data",
       "text": [
        "<IPython.core.display.Javascript at 0x1281bf910>"
       ]
      },
      {
       "javascript": [
        "\n",
        "        var $myPB = $(\"div#29603a0e-9e4d-4ffa-912c-48f34284e5ed\")\n",
        "        if ($myPB.hasClass('ui-progressbar')) {\n",
        "            $myPB.progressbar('value', 47);\n",
        "        } else {\n",
        "            $myPB.progressbar({value: 0, max: 100});\n",
        "        }\n",
        "        "
       ],
       "metadata": {},
       "output_type": "display_data",
       "text": [
        "<IPython.core.display.Javascript at 0x1281bf190>"
       ]
      },
      {
       "javascript": [
        "$('div#34c5e849-f051-4147-bec5-e3f7b3d156cc').text('ETA:  0:00:41');"
       ],
       "metadata": {},
       "output_type": "display_data",
       "text": [
        "<IPython.core.display.Javascript at 0x1281bf990>"
       ]
      },
      {
       "javascript": [
        "$('div#0c594012-74b4-46e2-8351-1d1f354bb7e4').text(' 47%');"
       ],
       "metadata": {},
       "output_type": "display_data",
       "text": [
        "<IPython.core.display.Javascript at 0x128374d50>"
       ]
      },
      {
       "javascript": [
        "\n",
        "        var $myPB = $(\"div#29603a0e-9e4d-4ffa-912c-48f34284e5ed\")\n",
        "        if ($myPB.hasClass('ui-progressbar')) {\n",
        "            $myPB.progressbar('value', 47);\n",
        "        } else {\n",
        "            $myPB.progressbar({value: 0, max: 100});\n",
        "        }\n",
        "        "
       ],
       "metadata": {},
       "output_type": "display_data",
       "text": [
        "<IPython.core.display.Javascript at 0x128374050>"
       ]
      },
      {
       "javascript": [
        "$('div#34c5e849-f051-4147-bec5-e3f7b3d156cc').text('ETA:  0:00:42');"
       ],
       "metadata": {},
       "output_type": "display_data",
       "text": [
        "<IPython.core.display.Javascript at 0x1283746d0>"
       ]
      },
      {
       "javascript": [
        "$('div#0c594012-74b4-46e2-8351-1d1f354bb7e4').text(' 47%');"
       ],
       "metadata": {},
       "output_type": "display_data",
       "text": [
        "<IPython.core.display.Javascript at 0x1281bfdd0>"
       ]
      },
      {
       "javascript": [
        "\n",
        "        var $myPB = $(\"div#29603a0e-9e4d-4ffa-912c-48f34284e5ed\")\n",
        "        if ($myPB.hasClass('ui-progressbar')) {\n",
        "            $myPB.progressbar('value', 47);\n",
        "        } else {\n",
        "            $myPB.progressbar({value: 0, max: 100});\n",
        "        }\n",
        "        "
       ],
       "metadata": {},
       "output_type": "display_data",
       "text": [
        "<IPython.core.display.Javascript at 0x1281bffd0>"
       ]
      },
      {
       "javascript": [
        "$('div#34c5e849-f051-4147-bec5-e3f7b3d156cc').text('ETA:  0:00:43');"
       ],
       "metadata": {},
       "output_type": "display_data",
       "text": [
        "<IPython.core.display.Javascript at 0x1281bf3d0>"
       ]
      },
      {
       "javascript": [
        "$('div#0c594012-74b4-46e2-8351-1d1f354bb7e4').text(' 47%');"
       ],
       "metadata": {},
       "output_type": "display_data",
       "text": [
        "<IPython.core.display.Javascript at 0x1281bf950>"
       ]
      },
      {
       "javascript": [
        "\n",
        "        var $myPB = $(\"div#29603a0e-9e4d-4ffa-912c-48f34284e5ed\")\n",
        "        if ($myPB.hasClass('ui-progressbar')) {\n",
        "            $myPB.progressbar('value', 47);\n",
        "        } else {\n",
        "            $myPB.progressbar({value: 0, max: 100});\n",
        "        }\n",
        "        "
       ],
       "metadata": {},
       "output_type": "display_data",
       "text": [
        "<IPython.core.display.Javascript at 0x10d8878d0>"
       ]
      },
      {
       "javascript": [
        "$('div#34c5e849-f051-4147-bec5-e3f7b3d156cc').text('ETA:  0:00:44');"
       ],
       "metadata": {},
       "output_type": "display_data",
       "text": [
        "<IPython.core.display.Javascript at 0x1283743d0>"
       ]
      },
      {
       "javascript": [
        "$('div#0c594012-74b4-46e2-8351-1d1f354bb7e4').text(' 47%');"
       ],
       "metadata": {},
       "output_type": "display_data",
       "text": [
        "<IPython.core.display.Javascript at 0x128374910>"
       ]
      },
      {
       "javascript": [
        "\n",
        "        var $myPB = $(\"div#29603a0e-9e4d-4ffa-912c-48f34284e5ed\")\n",
        "        if ($myPB.hasClass('ui-progressbar')) {\n",
        "            $myPB.progressbar('value', 47);\n",
        "        } else {\n",
        "            $myPB.progressbar({value: 0, max: 100});\n",
        "        }\n",
        "        "
       ],
       "metadata": {},
       "output_type": "display_data",
       "text": [
        "<IPython.core.display.Javascript at 0x128374790>"
       ]
      },
      {
       "javascript": [
        "$('div#34c5e849-f051-4147-bec5-e3f7b3d156cc').text('ETA:  0:00:45');"
       ],
       "metadata": {},
       "output_type": "display_data",
       "text": [
        "<IPython.core.display.Javascript at 0x128374cd0>"
       ]
      },
      {
       "javascript": [
        "$('div#0c594012-74b4-46e2-8351-1d1f354bb7e4').text(' 48%');"
       ],
       "metadata": {},
       "output_type": "display_data",
       "text": [
        "<IPython.core.display.Javascript at 0x120c6ef50>"
       ]
      },
      {
       "javascript": [
        "\n",
        "        var $myPB = $(\"div#29603a0e-9e4d-4ffa-912c-48f34284e5ed\")\n",
        "        if ($myPB.hasClass('ui-progressbar')) {\n",
        "            $myPB.progressbar('value', 48);\n",
        "        } else {\n",
        "            $myPB.progressbar({value: 0, max: 100});\n",
        "        }\n",
        "        "
       ],
       "metadata": {},
       "output_type": "display_data",
       "text": [
        "<IPython.core.display.Javascript at 0x120c6e1d0>"
       ]
      },
      {
       "javascript": [
        "$('div#34c5e849-f051-4147-bec5-e3f7b3d156cc').text('ETA:  0:00:45');"
       ],
       "metadata": {},
       "output_type": "display_data",
       "text": [
        "<IPython.core.display.Javascript at 0x120c6ecd0>"
       ]
      },
      {
       "javascript": [
        "$('div#0c594012-74b4-46e2-8351-1d1f354bb7e4').text(' 50%');"
       ],
       "metadata": {},
       "output_type": "display_data",
       "text": [
        "<IPython.core.display.Javascript at 0x120c6ee90>"
       ]
      },
      {
       "javascript": [
        "\n",
        "        var $myPB = $(\"div#29603a0e-9e4d-4ffa-912c-48f34284e5ed\")\n",
        "        if ($myPB.hasClass('ui-progressbar')) {\n",
        "            $myPB.progressbar('value', 50);\n",
        "        } else {\n",
        "            $myPB.progressbar({value: 0, max: 100});\n",
        "        }\n",
        "        "
       ],
       "metadata": {},
       "output_type": "display_data",
       "text": [
        "<IPython.core.display.Javascript at 0x120c6ea10>"
       ]
      },
      {
       "javascript": [
        "$('div#34c5e849-f051-4147-bec5-e3f7b3d156cc').text('ETA:  0:00:42');"
       ],
       "metadata": {},
       "output_type": "display_data",
       "text": [
        "<IPython.core.display.Javascript at 0x120c6e4d0>"
       ]
      },
      {
       "javascript": [
        "$('div#0c594012-74b4-46e2-8351-1d1f354bb7e4').text(' 50%');"
       ],
       "metadata": {},
       "output_type": "display_data",
       "text": [
        "<IPython.core.display.Javascript at 0x120c6ee50>"
       ]
      },
      {
       "javascript": [
        "\n",
        "        var $myPB = $(\"div#29603a0e-9e4d-4ffa-912c-48f34284e5ed\")\n",
        "        if ($myPB.hasClass('ui-progressbar')) {\n",
        "            $myPB.progressbar('value', 50);\n",
        "        } else {\n",
        "            $myPB.progressbar({value: 0, max: 100});\n",
        "        }\n",
        "        "
       ],
       "metadata": {},
       "output_type": "display_data",
       "text": [
        "<IPython.core.display.Javascript at 0x120c6e7d0>"
       ]
      },
      {
       "javascript": [
        "$('div#34c5e849-f051-4147-bec5-e3f7b3d156cc').text('ETA:  0:00:43');"
       ],
       "metadata": {},
       "output_type": "display_data",
       "text": [
        "<IPython.core.display.Javascript at 0x120c6e490>"
       ]
      },
      {
       "javascript": [
        "$('div#0c594012-74b4-46e2-8351-1d1f354bb7e4').text(' 50%');"
       ],
       "metadata": {},
       "output_type": "display_data",
       "text": [
        "<IPython.core.display.Javascript at 0x120c6efd0>"
       ]
      },
      {
       "javascript": [
        "\n",
        "        var $myPB = $(\"div#29603a0e-9e4d-4ffa-912c-48f34284e5ed\")\n",
        "        if ($myPB.hasClass('ui-progressbar')) {\n",
        "            $myPB.progressbar('value', 50);\n",
        "        } else {\n",
        "            $myPB.progressbar({value: 0, max: 100});\n",
        "        }\n",
        "        "
       ],
       "metadata": {},
       "output_type": "display_data",
       "text": [
        "<IPython.core.display.Javascript at 0x120c6ea50>"
       ]
      },
      {
       "javascript": [
        "$('div#34c5e849-f051-4147-bec5-e3f7b3d156cc').text('ETA:  0:00:44');"
       ],
       "metadata": {},
       "output_type": "display_data",
       "text": [
        "<IPython.core.display.Javascript at 0x120c6e550>"
       ]
      },
      {
       "javascript": [
        "$('div#0c594012-74b4-46e2-8351-1d1f354bb7e4').text(' 50%');"
       ],
       "metadata": {},
       "output_type": "display_data",
       "text": [
        "<IPython.core.display.Javascript at 0x120c6e350>"
       ]
      },
      {
       "javascript": [
        "\n",
        "        var $myPB = $(\"div#29603a0e-9e4d-4ffa-912c-48f34284e5ed\")\n",
        "        if ($myPB.hasClass('ui-progressbar')) {\n",
        "            $myPB.progressbar('value', 50);\n",
        "        } else {\n",
        "            $myPB.progressbar({value: 0, max: 100});\n",
        "        }\n",
        "        "
       ],
       "metadata": {},
       "output_type": "display_data",
       "text": [
        "<IPython.core.display.Javascript at 0x120c6eb10>"
       ]
      },
      {
       "javascript": [
        "$('div#34c5e849-f051-4147-bec5-e3f7b3d156cc').text('ETA:  0:00:45');"
       ],
       "metadata": {},
       "output_type": "display_data",
       "text": [
        "<IPython.core.display.Javascript at 0x120c6e5d0>"
       ]
      },
      {
       "javascript": [
        "$('div#0c594012-74b4-46e2-8351-1d1f354bb7e4').text(' 50%');"
       ],
       "metadata": {},
       "output_type": "display_data",
       "text": [
        "<IPython.core.display.Javascript at 0x120c6e850>"
       ]
      },
      {
       "javascript": [
        "\n",
        "        var $myPB = $(\"div#29603a0e-9e4d-4ffa-912c-48f34284e5ed\")\n",
        "        if ($myPB.hasClass('ui-progressbar')) {\n",
        "            $myPB.progressbar('value', 50);\n",
        "        } else {\n",
        "            $myPB.progressbar({value: 0, max: 100});\n",
        "        }\n",
        "        "
       ],
       "metadata": {},
       "output_type": "display_data",
       "text": [
        "<IPython.core.display.Javascript at 0x120c6e190>"
       ]
      },
      {
       "javascript": [
        "$('div#34c5e849-f051-4147-bec5-e3f7b3d156cc').text('ETA:  0:00:46');"
       ],
       "metadata": {},
       "output_type": "display_data",
       "text": [
        "<IPython.core.display.Javascript at 0x120c6ef10>"
       ]
      },
      {
       "javascript": [
        "$('div#0c594012-74b4-46e2-8351-1d1f354bb7e4').text(' 50%');"
       ],
       "metadata": {},
       "output_type": "display_data",
       "text": [
        "<IPython.core.display.Javascript at 0x120c6ee10>"
       ]
      },
      {
       "javascript": [
        "\n",
        "        var $myPB = $(\"div#29603a0e-9e4d-4ffa-912c-48f34284e5ed\")\n",
        "        if ($myPB.hasClass('ui-progressbar')) {\n",
        "            $myPB.progressbar('value', 50);\n",
        "        } else {\n",
        "            $myPB.progressbar({value: 0, max: 100});\n",
        "        }\n",
        "        "
       ],
       "metadata": {},
       "output_type": "display_data",
       "text": [
        "<IPython.core.display.Javascript at 0x120c6e210>"
       ]
      },
      {
       "javascript": [
        "$('div#34c5e849-f051-4147-bec5-e3f7b3d156cc').text('ETA:  0:00:47');"
       ],
       "metadata": {},
       "output_type": "display_data",
       "text": [
        "<IPython.core.display.Javascript at 0x120c6e950>"
       ]
      },
      {
       "javascript": [
        "$('div#0c594012-74b4-46e2-8351-1d1f354bb7e4').text(' 50%');"
       ],
       "metadata": {},
       "output_type": "display_data",
       "text": [
        "<IPython.core.display.Javascript at 0x122cf5e50>"
       ]
      },
      {
       "javascript": [
        "\n",
        "        var $myPB = $(\"div#29603a0e-9e4d-4ffa-912c-48f34284e5ed\")\n",
        "        if ($myPB.hasClass('ui-progressbar')) {\n",
        "            $myPB.progressbar('value', 50);\n",
        "        } else {\n",
        "            $myPB.progressbar({value: 0, max: 100});\n",
        "        }\n",
        "        "
       ],
       "metadata": {},
       "output_type": "display_data",
       "text": [
        "<IPython.core.display.Javascript at 0x122cf5a50>"
       ]
      },
      {
       "javascript": [
        "$('div#34c5e849-f051-4147-bec5-e3f7b3d156cc').text('ETA:  0:00:48');"
       ],
       "metadata": {},
       "output_type": "display_data",
       "text": [
        "<IPython.core.display.Javascript at 0x122cf5e10>"
       ]
      },
      {
       "javascript": [
        "$('div#0c594012-74b4-46e2-8351-1d1f354bb7e4').text(' 50%');"
       ],
       "metadata": {},
       "output_type": "display_data",
       "text": [
        "<IPython.core.display.Javascript at 0x122cf58d0>"
       ]
      },
      {
       "javascript": [
        "\n",
        "        var $myPB = $(\"div#29603a0e-9e4d-4ffa-912c-48f34284e5ed\")\n",
        "        if ($myPB.hasClass('ui-progressbar')) {\n",
        "            $myPB.progressbar('value', 50);\n",
        "        } else {\n",
        "            $myPB.progressbar({value: 0, max: 100});\n",
        "        }\n",
        "        "
       ],
       "metadata": {},
       "output_type": "display_data",
       "text": [
        "<IPython.core.display.Javascript at 0x122cf5890>"
       ]
      },
      {
       "javascript": [
        "$('div#34c5e849-f051-4147-bec5-e3f7b3d156cc').text('ETA:  0:00:49');"
       ],
       "metadata": {},
       "output_type": "display_data",
       "text": [
        "<IPython.core.display.Javascript at 0x122cf5510>"
       ]
      },
      {
       "javascript": [
        "$('div#0c594012-74b4-46e2-8351-1d1f354bb7e4').text(' 51%');"
       ],
       "metadata": {},
       "output_type": "display_data",
       "text": [
        "<IPython.core.display.Javascript at 0x120c6e950>"
       ]
      },
      {
       "javascript": [
        "\n",
        "        var $myPB = $(\"div#29603a0e-9e4d-4ffa-912c-48f34284e5ed\")\n",
        "        if ($myPB.hasClass('ui-progressbar')) {\n",
        "            $myPB.progressbar('value', 51);\n",
        "        } else {\n",
        "            $myPB.progressbar({value: 0, max: 100});\n",
        "        }\n",
        "        "
       ],
       "metadata": {},
       "output_type": "display_data",
       "text": [
        "<IPython.core.display.Javascript at 0x120c6e210>"
       ]
      },
      {
       "javascript": [
        "$('div#34c5e849-f051-4147-bec5-e3f7b3d156cc').text('ETA:  0:00:48');"
       ],
       "metadata": {},
       "output_type": "display_data",
       "text": [
        "<IPython.core.display.Javascript at 0x120c6ee10>"
       ]
      },
      {
       "javascript": [
        "$('div#0c594012-74b4-46e2-8351-1d1f354bb7e4').text(' 53%');"
       ],
       "metadata": {},
       "output_type": "display_data",
       "text": [
        "<IPython.core.display.Javascript at 0x10d8878d0>"
       ]
      },
      {
       "javascript": [
        "\n",
        "        var $myPB = $(\"div#29603a0e-9e4d-4ffa-912c-48f34284e5ed\")\n",
        "        if ($myPB.hasClass('ui-progressbar')) {\n",
        "            $myPB.progressbar('value', 53);\n",
        "        } else {\n",
        "            $myPB.progressbar({value: 0, max: 100});\n",
        "        }\n",
        "        "
       ],
       "metadata": {},
       "output_type": "display_data",
       "text": [
        "<IPython.core.display.Javascript at 0x111f56c50>"
       ]
      },
      {
       "javascript": [
        "$('div#34c5e849-f051-4147-bec5-e3f7b3d156cc').text('ETA:  0:00:45');"
       ],
       "metadata": {},
       "output_type": "display_data",
       "text": [
        "<IPython.core.display.Javascript at 0x120c6e1d0>"
       ]
      },
      {
       "javascript": [
        "$('div#0c594012-74b4-46e2-8351-1d1f354bb7e4').text(' 54%');"
       ],
       "metadata": {},
       "output_type": "display_data",
       "text": [
        "<IPython.core.display.Javascript at 0x120c6ecd0>"
       ]
      },
      {
       "javascript": [
        "\n",
        "        var $myPB = $(\"div#29603a0e-9e4d-4ffa-912c-48f34284e5ed\")\n",
        "        if ($myPB.hasClass('ui-progressbar')) {\n",
        "            $myPB.progressbar('value', 54);\n",
        "        } else {\n",
        "            $myPB.progressbar({value: 0, max: 100});\n",
        "        }\n",
        "        "
       ],
       "metadata": {},
       "output_type": "display_data",
       "text": [
        "<IPython.core.display.Javascript at 0x120c6e550>"
       ]
      },
      {
       "javascript": [
        "$('div#34c5e849-f051-4147-bec5-e3f7b3d156cc').text('ETA:  0:00:45');"
       ],
       "metadata": {},
       "output_type": "display_data",
       "text": [
        "<IPython.core.display.Javascript at 0x120c6e190>"
       ]
      },
      {
       "javascript": [
        "$('div#0c594012-74b4-46e2-8351-1d1f354bb7e4').text(' 55%');"
       ],
       "metadata": {},
       "output_type": "display_data",
       "text": [
        "<IPython.core.display.Javascript at 0x120c6ef50>"
       ]
      },
      {
       "javascript": [
        "\n",
        "        var $myPB = $(\"div#29603a0e-9e4d-4ffa-912c-48f34284e5ed\")\n",
        "        if ($myPB.hasClass('ui-progressbar')) {\n",
        "            $myPB.progressbar('value', 55);\n",
        "        } else {\n",
        "            $myPB.progressbar({value: 0, max: 100});\n",
        "        }\n",
        "        "
       ],
       "metadata": {},
       "output_type": "display_data",
       "text": [
        "<IPython.core.display.Javascript at 0x120c6e850>"
       ]
      },
      {
       "javascript": [
        "$('div#34c5e849-f051-4147-bec5-e3f7b3d156cc').text('ETA:  0:00:44');"
       ],
       "metadata": {},
       "output_type": "display_data",
       "text": [
        "<IPython.core.display.Javascript at 0x120c6e7d0>"
       ]
      },
      {
       "javascript": [
        "$('div#0c594012-74b4-46e2-8351-1d1f354bb7e4').text(' 55%');"
       ],
       "metadata": {},
       "output_type": "display_data",
       "text": [
        "<IPython.core.display.Javascript at 0x120c6e5d0>"
       ]
      },
      {
       "javascript": [
        "\n",
        "        var $myPB = $(\"div#29603a0e-9e4d-4ffa-912c-48f34284e5ed\")\n",
        "        if ($myPB.hasClass('ui-progressbar')) {\n",
        "            $myPB.progressbar('value', 55);\n",
        "        } else {\n",
        "            $myPB.progressbar({value: 0, max: 100});\n",
        "        }\n",
        "        "
       ],
       "metadata": {},
       "output_type": "display_data",
       "text": [
        "<IPython.core.display.Javascript at 0x120c6e4d0>"
       ]
      },
      {
       "javascript": [
        "$('div#34c5e849-f051-4147-bec5-e3f7b3d156cc').text('ETA:  0:00:44');"
       ],
       "metadata": {},
       "output_type": "display_data",
       "text": [
        "<IPython.core.display.Javascript at 0x120c6ea50>"
       ]
      },
      {
       "javascript": [
        "$('div#0c594012-74b4-46e2-8351-1d1f354bb7e4').text(' 55%');"
       ],
       "metadata": {},
       "output_type": "display_data",
       "text": [
        "<IPython.core.display.Javascript at 0x1281bf990>"
       ]
      },
      {
       "javascript": [
        "\n",
        "        var $myPB = $(\"div#29603a0e-9e4d-4ffa-912c-48f34284e5ed\")\n",
        "        if ($myPB.hasClass('ui-progressbar')) {\n",
        "            $myPB.progressbar('value', 55);\n",
        "        } else {\n",
        "            $myPB.progressbar({value: 0, max: 100});\n",
        "        }\n",
        "        "
       ],
       "metadata": {},
       "output_type": "display_data",
       "text": [
        "<IPython.core.display.Javascript at 0x1281bf950>"
       ]
      },
      {
       "javascript": [
        "$('div#34c5e849-f051-4147-bec5-e3f7b3d156cc').text('ETA:  0:00:45');"
       ],
       "metadata": {},
       "output_type": "display_data",
       "text": [
        "<IPython.core.display.Javascript at 0x1281bfdd0>"
       ]
      },
      {
       "javascript": [
        "$('div#0c594012-74b4-46e2-8351-1d1f354bb7e4').text(' 55%');"
       ],
       "metadata": {},
       "output_type": "display_data",
       "text": [
        "<IPython.core.display.Javascript at 0x120c6efd0>"
       ]
      },
      {
       "javascript": [
        "\n",
        "        var $myPB = $(\"div#29603a0e-9e4d-4ffa-912c-48f34284e5ed\")\n",
        "        if ($myPB.hasClass('ui-progressbar')) {\n",
        "            $myPB.progressbar('value', 55);\n",
        "        } else {\n",
        "            $myPB.progressbar({value: 0, max: 100});\n",
        "        }\n",
        "        "
       ],
       "metadata": {},
       "output_type": "display_data",
       "text": [
        "<IPython.core.display.Javascript at 0x120c6ea10>"
       ]
      },
      {
       "javascript": [
        "$('div#34c5e849-f051-4147-bec5-e3f7b3d156cc').text('ETA:  0:00:46');"
       ],
       "metadata": {},
       "output_type": "display_data",
       "text": [
        "<IPython.core.display.Javascript at 0x120c6ef10>"
       ]
      },
      {
       "javascript": [
        "$('div#0c594012-74b4-46e2-8351-1d1f354bb7e4').text(' 55%');"
       ],
       "metadata": {},
       "output_type": "display_data",
       "text": [
        "<IPython.core.display.Javascript at 0x1281bf910>"
       ]
      },
      {
       "javascript": [
        "\n",
        "        var $myPB = $(\"div#29603a0e-9e4d-4ffa-912c-48f34284e5ed\")\n",
        "        if ($myPB.hasClass('ui-progressbar')) {\n",
        "            $myPB.progressbar('value', 55);\n",
        "        } else {\n",
        "            $myPB.progressbar({value: 0, max: 100});\n",
        "        }\n",
        "        "
       ],
       "metadata": {},
       "output_type": "display_data",
       "text": [
        "<IPython.core.display.Javascript at 0x1281bf190>"
       ]
      },
      {
       "javascript": [
        "$('div#34c5e849-f051-4147-bec5-e3f7b3d156cc').text('ETA:  0:00:47');"
       ],
       "metadata": {},
       "output_type": "display_data",
       "text": [
        "<IPython.core.display.Javascript at 0x1281bf3d0>"
       ]
      },
      {
       "javascript": [
        "$('div#0c594012-74b4-46e2-8351-1d1f354bb7e4').text(' 55%');"
       ],
       "metadata": {},
       "output_type": "display_data",
       "text": [
        "<IPython.core.display.Javascript at 0x1281bffd0>"
       ]
      },
      {
       "javascript": [
        "\n",
        "        var $myPB = $(\"div#29603a0e-9e4d-4ffa-912c-48f34284e5ed\")\n",
        "        if ($myPB.hasClass('ui-progressbar')) {\n",
        "            $myPB.progressbar('value', 55);\n",
        "        } else {\n",
        "            $myPB.progressbar({value: 0, max: 100});\n",
        "        }\n",
        "        "
       ],
       "metadata": {},
       "output_type": "display_data",
       "text": [
        "<IPython.core.display.Javascript at 0x120c6e490>"
       ]
      },
      {
       "javascript": [
        "$('div#34c5e849-f051-4147-bec5-e3f7b3d156cc').text('ETA:  0:00:48');"
       ],
       "metadata": {},
       "output_type": "display_data",
       "text": [
        "<IPython.core.display.Javascript at 0x120c6eb10>"
       ]
      },
      {
       "javascript": [
        "$('div#0c594012-74b4-46e2-8351-1d1f354bb7e4').text(' 55%');"
       ],
       "metadata": {},
       "output_type": "display_data",
       "text": [
        "<IPython.core.display.Javascript at 0x120c6ee90>"
       ]
      },
      {
       "javascript": [
        "\n",
        "        var $myPB = $(\"div#29603a0e-9e4d-4ffa-912c-48f34284e5ed\")\n",
        "        if ($myPB.hasClass('ui-progressbar')) {\n",
        "            $myPB.progressbar('value', 55);\n",
        "        } else {\n",
        "            $myPB.progressbar({value: 0, max: 100});\n",
        "        }\n",
        "        "
       ],
       "metadata": {},
       "output_type": "display_data",
       "text": [
        "<IPython.core.display.Javascript at 0x120c6e350>"
       ]
      },
      {
       "javascript": [
        "$('div#34c5e849-f051-4147-bec5-e3f7b3d156cc').text('ETA:  0:00:49');"
       ],
       "metadata": {},
       "output_type": "display_data",
       "text": [
        "<IPython.core.display.Javascript at 0x120c6ee50>"
       ]
      },
      {
       "javascript": [
        "$('div#0c594012-74b4-46e2-8351-1d1f354bb7e4').text(' 55%');"
       ],
       "metadata": {},
       "output_type": "display_data",
       "text": [
        "<IPython.core.display.Javascript at 0x128374a50>"
       ]
      },
      {
       "javascript": [
        "\n",
        "        var $myPB = $(\"div#29603a0e-9e4d-4ffa-912c-48f34284e5ed\")\n",
        "        if ($myPB.hasClass('ui-progressbar')) {\n",
        "            $myPB.progressbar('value', 55);\n",
        "        } else {\n",
        "            $myPB.progressbar({value: 0, max: 100});\n",
        "        }\n",
        "        "
       ],
       "metadata": {},
       "output_type": "display_data",
       "text": [
        "<IPython.core.display.Javascript at 0x128374910>"
       ]
      },
      {
       "javascript": [
        "$('div#34c5e849-f051-4147-bec5-e3f7b3d156cc').text('ETA:  0:00:49');"
       ],
       "metadata": {},
       "output_type": "display_data",
       "text": [
        "<IPython.core.display.Javascript at 0x128374d50>"
       ]
      },
      {
       "javascript": [
        "$('div#0c594012-74b4-46e2-8351-1d1f354bb7e4').text(' 55%');"
       ],
       "metadata": {},
       "output_type": "display_data",
       "text": [
        "<IPython.core.display.Javascript at 0x128374c50>"
       ]
      },
      {
       "javascript": [
        "\n",
        "        var $myPB = $(\"div#29603a0e-9e4d-4ffa-912c-48f34284e5ed\")\n",
        "        if ($myPB.hasClass('ui-progressbar')) {\n",
        "            $myPB.progressbar('value', 55);\n",
        "        } else {\n",
        "            $myPB.progressbar({value: 0, max: 100});\n",
        "        }\n",
        "        "
       ],
       "metadata": {},
       "output_type": "display_data",
       "text": [
        "<IPython.core.display.Javascript at 0x128374610>"
       ]
      },
      {
       "javascript": [
        "$('div#34c5e849-f051-4147-bec5-e3f7b3d156cc').text('ETA:  0:00:50');"
       ],
       "metadata": {},
       "output_type": "display_data",
       "text": [
        "<IPython.core.display.Javascript at 0x1283743d0>"
       ]
      },
      {
       "javascript": [
        "$('div#0c594012-74b4-46e2-8351-1d1f354bb7e4').text(' 55%');"
       ],
       "metadata": {},
       "output_type": "display_data",
       "text": [
        "<IPython.core.display.Javascript at 0x128374050>"
       ]
      },
      {
       "javascript": [
        "\n",
        "        var $myPB = $(\"div#29603a0e-9e4d-4ffa-912c-48f34284e5ed\")\n",
        "        if ($myPB.hasClass('ui-progressbar')) {\n",
        "            $myPB.progressbar('value', 55);\n",
        "        } else {\n",
        "            $myPB.progressbar({value: 0, max: 100});\n",
        "        }\n",
        "        "
       ],
       "metadata": {},
       "output_type": "display_data",
       "text": [
        "<IPython.core.display.Javascript at 0x128374650>"
       ]
      },
      {
       "javascript": [
        "$('div#34c5e849-f051-4147-bec5-e3f7b3d156cc').text('ETA:  0:00:51');"
       ],
       "metadata": {},
       "output_type": "display_data",
       "text": [
        "<IPython.core.display.Javascript at 0x128374790>"
       ]
      },
      {
       "javascript": [
        "$('div#0c594012-74b4-46e2-8351-1d1f354bb7e4').text(' 55%');"
       ],
       "metadata": {},
       "output_type": "display_data",
       "text": [
        "<IPython.core.display.Javascript at 0x128374a90>"
       ]
      },
      {
       "javascript": [
        "\n",
        "        var $myPB = $(\"div#29603a0e-9e4d-4ffa-912c-48f34284e5ed\")\n",
        "        if ($myPB.hasClass('ui-progressbar')) {\n",
        "            $myPB.progressbar('value', 55);\n",
        "        } else {\n",
        "            $myPB.progressbar({value: 0, max: 100});\n",
        "        }\n",
        "        "
       ],
       "metadata": {},
       "output_type": "display_data",
       "text": [
        "<IPython.core.display.Javascript at 0x128374150>"
       ]
      },
      {
       "javascript": [
        "$('div#34c5e849-f051-4147-bec5-e3f7b3d156cc').text('ETA:  0:00:52');"
       ],
       "metadata": {},
       "output_type": "display_data",
       "text": [
        "<IPython.core.display.Javascript at 0x1283742d0>"
       ]
      },
      {
       "javascript": [
        "$('div#0c594012-74b4-46e2-8351-1d1f354bb7e4').text(' 55%');"
       ],
       "metadata": {},
       "output_type": "display_data",
       "text": [
        "<IPython.core.display.Javascript at 0x128374cd0>"
       ]
      },
      {
       "javascript": [
        "\n",
        "        var $myPB = $(\"div#29603a0e-9e4d-4ffa-912c-48f34284e5ed\")\n",
        "        if ($myPB.hasClass('ui-progressbar')) {\n",
        "            $myPB.progressbar('value', 55);\n",
        "        } else {\n",
        "            $myPB.progressbar({value: 0, max: 100});\n",
        "        }\n",
        "        "
       ],
       "metadata": {},
       "output_type": "display_data",
       "text": [
        "<IPython.core.display.Javascript at 0x128374810>"
       ]
      },
      {
       "javascript": [
        "$('div#34c5e849-f051-4147-bec5-e3f7b3d156cc').text('ETA:  0:00:53');"
       ],
       "metadata": {},
       "output_type": "display_data",
       "text": [
        "<IPython.core.display.Javascript at 0x128374510>"
       ]
      },
      {
       "javascript": [
        "$('div#0c594012-74b4-46e2-8351-1d1f354bb7e4').text(' 55%');"
       ],
       "metadata": {},
       "output_type": "display_data",
       "text": [
        "<IPython.core.display.Javascript at 0x1283746d0>"
       ]
      },
      {
       "javascript": [
        "\n",
        "        var $myPB = $(\"div#29603a0e-9e4d-4ffa-912c-48f34284e5ed\")\n",
        "        if ($myPB.hasClass('ui-progressbar')) {\n",
        "            $myPB.progressbar('value', 55);\n",
        "        } else {\n",
        "            $myPB.progressbar({value: 0, max: 100});\n",
        "        }\n",
        "        "
       ],
       "metadata": {},
       "output_type": "display_data",
       "text": [
        "<IPython.core.display.Javascript at 0x1283745d0>"
       ]
      },
      {
       "javascript": [
        "$('div#34c5e849-f051-4147-bec5-e3f7b3d156cc').text('ETA:  0:00:54');"
       ],
       "metadata": {},
       "output_type": "display_data",
       "text": [
        "<IPython.core.display.Javascript at 0x128374ed0>"
       ]
      },
      {
       "javascript": [
        "$('div#0c594012-74b4-46e2-8351-1d1f354bb7e4').text(' 55%');"
       ],
       "metadata": {},
       "output_type": "display_data",
       "text": [
        "<IPython.core.display.Javascript at 0x122cf5410>"
       ]
      },
      {
       "javascript": [
        "\n",
        "        var $myPB = $(\"div#29603a0e-9e4d-4ffa-912c-48f34284e5ed\")\n",
        "        if ($myPB.hasClass('ui-progressbar')) {\n",
        "            $myPB.progressbar('value', 55);\n",
        "        } else {\n",
        "            $myPB.progressbar({value: 0, max: 100});\n",
        "        }\n",
        "        "
       ],
       "metadata": {},
       "output_type": "display_data",
       "text": [
        "<IPython.core.display.Javascript at 0x122cf5450>"
       ]
      },
      {
       "javascript": [
        "$('div#34c5e849-f051-4147-bec5-e3f7b3d156cc').text('ETA:  0:00:54');"
       ],
       "metadata": {},
       "output_type": "display_data",
       "text": [
        "<IPython.core.display.Javascript at 0x122cf5650>"
       ]
      },
      {
       "javascript": [
        "$('div#0c594012-74b4-46e2-8351-1d1f354bb7e4').text(' 55%');"
       ],
       "metadata": {},
       "output_type": "display_data",
       "text": [
        "<IPython.core.display.Javascript at 0x122cf5dd0>"
       ]
      },
      {
       "javascript": [
        "\n",
        "        var $myPB = $(\"div#29603a0e-9e4d-4ffa-912c-48f34284e5ed\")\n",
        "        if ($myPB.hasClass('ui-progressbar')) {\n",
        "            $myPB.progressbar('value', 55);\n",
        "        } else {\n",
        "            $myPB.progressbar({value: 0, max: 100});\n",
        "        }\n",
        "        "
       ],
       "metadata": {},
       "output_type": "display_data",
       "text": [
        "<IPython.core.display.Javascript at 0x122cf5710>"
       ]
      },
      {
       "javascript": [
        "$('div#34c5e849-f051-4147-bec5-e3f7b3d156cc').text('ETA:  0:00:55');"
       ],
       "metadata": {},
       "output_type": "display_data",
       "text": [
        "<IPython.core.display.Javascript at 0x122cf5390>"
       ]
      },
      {
       "javascript": [
        "$('div#0c594012-74b4-46e2-8351-1d1f354bb7e4').text(' 55%');"
       ],
       "metadata": {},
       "output_type": "display_data",
       "text": [
        "<IPython.core.display.Javascript at 0x128374ed0>"
       ]
      },
      {
       "javascript": [
        "\n",
        "        var $myPB = $(\"div#29603a0e-9e4d-4ffa-912c-48f34284e5ed\")\n",
        "        if ($myPB.hasClass('ui-progressbar')) {\n",
        "            $myPB.progressbar('value', 55);\n",
        "        } else {\n",
        "            $myPB.progressbar({value: 0, max: 100});\n",
        "        }\n",
        "        "
       ],
       "metadata": {},
       "output_type": "display_data",
       "text": [
        "<IPython.core.display.Javascript at 0x1283745d0>"
       ]
      },
      {
       "javascript": [
        "$('div#34c5e849-f051-4147-bec5-e3f7b3d156cc').text('ETA:  0:00:56');"
       ],
       "metadata": {},
       "output_type": "display_data",
       "text": [
        "<IPython.core.display.Javascript at 0x1283746d0>"
       ]
      },
      {
       "javascript": [
        "$('div#0c594012-74b4-46e2-8351-1d1f354bb7e4').text(' 55%');"
       ],
       "metadata": {},
       "output_type": "display_data",
       "text": [
        "<IPython.core.display.Javascript at 0x10d8878d0>"
       ]
      },
      {
       "javascript": [
        "\n",
        "        var $myPB = $(\"div#29603a0e-9e4d-4ffa-912c-48f34284e5ed\")\n",
        "        if ($myPB.hasClass('ui-progressbar')) {\n",
        "            $myPB.progressbar('value', 55);\n",
        "        } else {\n",
        "            $myPB.progressbar({value: 0, max: 100});\n",
        "        }\n",
        "        "
       ],
       "metadata": {},
       "output_type": "display_data",
       "text": [
        "<IPython.core.display.Javascript at 0x10d86e8d0>"
       ]
      },
      {
       "javascript": [
        "$('div#34c5e849-f051-4147-bec5-e3f7b3d156cc').text('ETA:  0:00:57');"
       ],
       "metadata": {},
       "output_type": "display_data",
       "text": [
        "<IPython.core.display.Javascript at 0x128374050>"
       ]
      },
      {
       "javascript": [
        "$('div#0c594012-74b4-46e2-8351-1d1f354bb7e4').text(' 55%');"
       ],
       "metadata": {},
       "output_type": "display_data",
       "text": [
        "<IPython.core.display.Javascript at 0x128374810>"
       ]
      },
      {
       "javascript": [
        "\n",
        "        var $myPB = $(\"div#29603a0e-9e4d-4ffa-912c-48f34284e5ed\")\n",
        "        if ($myPB.hasClass('ui-progressbar')) {\n",
        "            $myPB.progressbar('value', 55);\n",
        "        } else {\n",
        "            $myPB.progressbar({value: 0, max: 100});\n",
        "        }\n",
        "        "
       ],
       "metadata": {},
       "output_type": "display_data",
       "text": [
        "<IPython.core.display.Javascript at 0x128374910>"
       ]
      },
      {
       "javascript": [
        "$('div#34c5e849-f051-4147-bec5-e3f7b3d156cc').text('ETA:  0:00:58');"
       ],
       "metadata": {},
       "output_type": "display_data",
       "text": [
        "<IPython.core.display.Javascript at 0x128374a50>"
       ]
      },
      {
       "javascript": [
        "$('div#0c594012-74b4-46e2-8351-1d1f354bb7e4').text(' 55%');"
       ],
       "metadata": {},
       "output_type": "display_data",
       "text": [
        "<IPython.core.display.Javascript at 0x1283742d0>"
       ]
      },
      {
       "javascript": [
        "\n",
        "        var $myPB = $(\"div#29603a0e-9e4d-4ffa-912c-48f34284e5ed\")\n",
        "        if ($myPB.hasClass('ui-progressbar')) {\n",
        "            $myPB.progressbar('value', 55);\n",
        "        } else {\n",
        "            $myPB.progressbar({value: 0, max: 100});\n",
        "        }\n",
        "        "
       ],
       "metadata": {},
       "output_type": "display_data",
       "text": [
        "<IPython.core.display.Javascript at 0x1283743d0>"
       ]
      },
      {
       "javascript": [
        "$('div#34c5e849-f051-4147-bec5-e3f7b3d156cc').text('ETA:  0:00:59');"
       ],
       "metadata": {},
       "output_type": "display_data",
       "text": [
        "<IPython.core.display.Javascript at 0x128374d50>"
       ]
      },
      {
       "javascript": [
        "$('div#0c594012-74b4-46e2-8351-1d1f354bb7e4').text(' 55%');"
       ],
       "metadata": {},
       "output_type": "display_data",
       "text": [
        "<IPython.core.display.Javascript at 0x1281bf3d0>"
       ]
      },
      {
       "javascript": [
        "\n",
        "        var $myPB = $(\"div#29603a0e-9e4d-4ffa-912c-48f34284e5ed\")\n",
        "        if ($myPB.hasClass('ui-progressbar')) {\n",
        "            $myPB.progressbar('value', 55);\n",
        "        } else {\n",
        "            $myPB.progressbar({value: 0, max: 100});\n",
        "        }\n",
        "        "
       ],
       "metadata": {},
       "output_type": "display_data",
       "text": [
        "<IPython.core.display.Javascript at 0x1281bfdd0>"
       ]
      },
      {
       "javascript": [
        "$('div#34c5e849-f051-4147-bec5-e3f7b3d156cc').text('ETA:  0:00:59');"
       ],
       "metadata": {},
       "output_type": "display_data",
       "text": [
        "<IPython.core.display.Javascript at 0x1281bf950>"
       ]
      },
      {
       "javascript": [
        "$('div#0c594012-74b4-46e2-8351-1d1f354bb7e4').text(' 55%');"
       ],
       "metadata": {},
       "output_type": "display_data",
       "text": [
        "<IPython.core.display.Javascript at 0x128374650>"
       ]
      },
      {
       "javascript": [
        "\n",
        "        var $myPB = $(\"div#29603a0e-9e4d-4ffa-912c-48f34284e5ed\")\n",
        "        if ($myPB.hasClass('ui-progressbar')) {\n",
        "            $myPB.progressbar('value', 55);\n",
        "        } else {\n",
        "            $myPB.progressbar({value: 0, max: 100});\n",
        "        }\n",
        "        "
       ],
       "metadata": {},
       "output_type": "display_data",
       "text": [
        "<IPython.core.display.Javascript at 0x128374c50>"
       ]
      },
      {
       "javascript": [
        "$('div#34c5e849-f051-4147-bec5-e3f7b3d156cc').text('ETA:  0:01:00');"
       ],
       "metadata": {},
       "output_type": "display_data",
       "text": [
        "<IPython.core.display.Javascript at 0x128374610>"
       ]
      },
      {
       "javascript": [
        "$('div#0c594012-74b4-46e2-8351-1d1f354bb7e4').text(' 55%');"
       ],
       "metadata": {},
       "output_type": "display_data",
       "text": [
        "<IPython.core.display.Javascript at 0x1281bf190>"
       ]
      },
      {
       "javascript": [
        "\n",
        "        var $myPB = $(\"div#29603a0e-9e4d-4ffa-912c-48f34284e5ed\")\n",
        "        if ($myPB.hasClass('ui-progressbar')) {\n",
        "            $myPB.progressbar('value', 55);\n",
        "        } else {\n",
        "            $myPB.progressbar({value: 0, max: 100});\n",
        "        }\n",
        "        "
       ],
       "metadata": {},
       "output_type": "display_data",
       "text": [
        "<IPython.core.display.Javascript at 0x1281bf910>"
       ]
      },
      {
       "javascript": [
        "$('div#34c5e849-f051-4147-bec5-e3f7b3d156cc').text('ETA:  0:01:01');"
       ],
       "metadata": {},
       "output_type": "display_data",
       "text": [
        "<IPython.core.display.Javascript at 0x1281bf990>"
       ]
      },
      {
       "javascript": [
        "$('div#0c594012-74b4-46e2-8351-1d1f354bb7e4').text(' 55%');"
       ],
       "metadata": {},
       "output_type": "display_data",
       "text": [
        "<IPython.core.display.Javascript at 0x1281bffd0>"
       ]
      },
      {
       "javascript": [
        "\n",
        "        var $myPB = $(\"div#29603a0e-9e4d-4ffa-912c-48f34284e5ed\")\n",
        "        if ($myPB.hasClass('ui-progressbar')) {\n",
        "            $myPB.progressbar('value', 55);\n",
        "        } else {\n",
        "            $myPB.progressbar({value: 0, max: 100});\n",
        "        }\n",
        "        "
       ],
       "metadata": {},
       "output_type": "display_data",
       "text": [
        "<IPython.core.display.Javascript at 0x128374150>"
       ]
      },
      {
       "javascript": [
        "$('div#34c5e849-f051-4147-bec5-e3f7b3d156cc').text('ETA:  0:01:02');"
       ],
       "metadata": {},
       "output_type": "display_data",
       "text": [
        "<IPython.core.display.Javascript at 0x128374a90>"
       ]
      },
      {
       "javascript": [
        "$('div#0c594012-74b4-46e2-8351-1d1f354bb7e4').text(' 55%');"
       ],
       "metadata": {},
       "output_type": "display_data",
       "text": [
        "<IPython.core.display.Javascript at 0x128374510>"
       ]
      },
      {
       "javascript": [
        "\n",
        "        var $myPB = $(\"div#29603a0e-9e4d-4ffa-912c-48f34284e5ed\")\n",
        "        if ($myPB.hasClass('ui-progressbar')) {\n",
        "            $myPB.progressbar('value', 55);\n",
        "        } else {\n",
        "            $myPB.progressbar({value: 0, max: 100});\n",
        "        }\n",
        "        "
       ],
       "metadata": {},
       "output_type": "display_data",
       "text": [
        "<IPython.core.display.Javascript at 0x128374790>"
       ]
      },
      {
       "javascript": [
        "$('div#34c5e849-f051-4147-bec5-e3f7b3d156cc').text('ETA:  0:01:03');"
       ],
       "metadata": {},
       "output_type": "display_data",
       "text": [
        "<IPython.core.display.Javascript at 0x128374cd0>"
       ]
      },
      {
       "javascript": [
        "$('div#0c594012-74b4-46e2-8351-1d1f354bb7e4').text(' 55%');"
       ],
       "metadata": {},
       "output_type": "display_data",
       "text": [
        "<IPython.core.display.Javascript at 0x120c6ef50>"
       ]
      },
      {
       "javascript": [
        "\n",
        "        var $myPB = $(\"div#29603a0e-9e4d-4ffa-912c-48f34284e5ed\")\n",
        "        if ($myPB.hasClass('ui-progressbar')) {\n",
        "            $myPB.progressbar('value', 55);\n",
        "        } else {\n",
        "            $myPB.progressbar({value: 0, max: 100});\n",
        "        }\n",
        "        "
       ],
       "metadata": {},
       "output_type": "display_data",
       "text": [
        "<IPython.core.display.Javascript at 0x120c6e850>"
       ]
      },
      {
       "javascript": [
        "$('div#34c5e849-f051-4147-bec5-e3f7b3d156cc').text('ETA:  0:01:04');"
       ],
       "metadata": {},
       "output_type": "display_data",
       "text": [
        "<IPython.core.display.Javascript at 0x120c6ea50>"
       ]
      },
      {
       "javascript": [
        "$('div#0c594012-74b4-46e2-8351-1d1f354bb7e4').text(' 55%');"
       ],
       "metadata": {},
       "output_type": "display_data",
       "text": [
        "<IPython.core.display.Javascript at 0x120c6eb10>"
       ]
      },
      {
       "javascript": [
        "\n",
        "        var $myPB = $(\"div#29603a0e-9e4d-4ffa-912c-48f34284e5ed\")\n",
        "        if ($myPB.hasClass('ui-progressbar')) {\n",
        "            $myPB.progressbar('value', 55);\n",
        "        } else {\n",
        "            $myPB.progressbar({value: 0, max: 100});\n",
        "        }\n",
        "        "
       ],
       "metadata": {},
       "output_type": "display_data",
       "text": [
        "<IPython.core.display.Javascript at 0x120c6e7d0>"
       ]
      },
      {
       "javascript": [
        "$('div#34c5e849-f051-4147-bec5-e3f7b3d156cc').text('ETA:  0:01:04');"
       ],
       "metadata": {},
       "output_type": "display_data",
       "text": [
        "<IPython.core.display.Javascript at 0x120c6e4d0>"
       ]
      },
      {
       "javascript": [
        "$('div#0c594012-74b4-46e2-8351-1d1f354bb7e4').text(' 55%');"
       ],
       "metadata": {},
       "output_type": "display_data",
       "text": [
        "<IPython.core.display.Javascript at 0x120c6ea10>"
       ]
      },
      {
       "javascript": [
        "\n",
        "        var $myPB = $(\"div#29603a0e-9e4d-4ffa-912c-48f34284e5ed\")\n",
        "        if ($myPB.hasClass('ui-progressbar')) {\n",
        "            $myPB.progressbar('value', 55);\n",
        "        } else {\n",
        "            $myPB.progressbar({value: 0, max: 100});\n",
        "        }\n",
        "        "
       ],
       "metadata": {},
       "output_type": "display_data",
       "text": [
        "<IPython.core.display.Javascript at 0x120c6e1d0>"
       ]
      },
      {
       "javascript": [
        "$('div#34c5e849-f051-4147-bec5-e3f7b3d156cc').text('ETA:  0:01:05');"
       ],
       "metadata": {},
       "output_type": "display_data",
       "text": [
        "<IPython.core.display.Javascript at 0x120c6ef10>"
       ]
      },
      {
       "javascript": [
        "$('div#0c594012-74b4-46e2-8351-1d1f354bb7e4').text(' 55%');"
       ],
       "metadata": {},
       "output_type": "display_data",
       "text": [
        "<IPython.core.display.Javascript at 0x120c6ee90>"
       ]
      },
      {
       "javascript": [
        "\n",
        "        var $myPB = $(\"div#29603a0e-9e4d-4ffa-912c-48f34284e5ed\")\n",
        "        if ($myPB.hasClass('ui-progressbar')) {\n",
        "            $myPB.progressbar('value', 55);\n",
        "        } else {\n",
        "            $myPB.progressbar({value: 0, max: 100});\n",
        "        }\n",
        "        "
       ],
       "metadata": {},
       "output_type": "display_data",
       "text": [
        "<IPython.core.display.Javascript at 0x120c6e950>"
       ]
      },
      {
       "javascript": [
        "$('div#34c5e849-f051-4147-bec5-e3f7b3d156cc').text('ETA:  0:01:06');"
       ],
       "metadata": {},
       "output_type": "display_data",
       "text": [
        "<IPython.core.display.Javascript at 0x120c6e5d0>"
       ]
      },
      {
       "javascript": [
        "$('div#0c594012-74b4-46e2-8351-1d1f354bb7e4').text(' 55%');"
       ],
       "metadata": {},
       "output_type": "display_data",
       "text": [
        "<IPython.core.display.Javascript at 0x120c6efd0>"
       ]
      },
      {
       "javascript": [
        "\n",
        "        var $myPB = $(\"div#29603a0e-9e4d-4ffa-912c-48f34284e5ed\")\n",
        "        if ($myPB.hasClass('ui-progressbar')) {\n",
        "            $myPB.progressbar('value', 55);\n",
        "        } else {\n",
        "            $myPB.progressbar({value: 0, max: 100});\n",
        "        }\n",
        "        "
       ],
       "metadata": {},
       "output_type": "display_data",
       "text": [
        "<IPython.core.display.Javascript at 0x120c6e350>"
       ]
      },
      {
       "javascript": [
        "$('div#34c5e849-f051-4147-bec5-e3f7b3d156cc').text('ETA:  0:01:07');"
       ],
       "metadata": {},
       "output_type": "display_data",
       "text": [
        "<IPython.core.display.Javascript at 0x120c6ee50>"
       ]
      },
      {
       "javascript": [
        "$('div#0c594012-74b4-46e2-8351-1d1f354bb7e4').text(' 55%');"
       ],
       "metadata": {},
       "output_type": "display_data",
       "text": [
        "<IPython.core.display.Javascript at 0x120c6e550>"
       ]
      },
      {
       "javascript": [
        "\n",
        "        var $myPB = $(\"div#29603a0e-9e4d-4ffa-912c-48f34284e5ed\")\n",
        "        if ($myPB.hasClass('ui-progressbar')) {\n",
        "            $myPB.progressbar('value', 55);\n",
        "        } else {\n",
        "            $myPB.progressbar({value: 0, max: 100});\n",
        "        }\n",
        "        "
       ],
       "metadata": {},
       "output_type": "display_data",
       "text": [
        "<IPython.core.display.Javascript at 0x120c6e190>"
       ]
      },
      {
       "javascript": [
        "$('div#34c5e849-f051-4147-bec5-e3f7b3d156cc').text('ETA:  0:01:08');"
       ],
       "metadata": {},
       "output_type": "display_data",
       "text": [
        "<IPython.core.display.Javascript at 0x120c6e210>"
       ]
      },
      {
       "javascript": [
        "$('div#0c594012-74b4-46e2-8351-1d1f354bb7e4').text(' 55%');"
       ],
       "metadata": {},
       "output_type": "display_data",
       "text": [
        "<IPython.core.display.Javascript at 0x120c6e490>"
       ]
      },
      {
       "javascript": [
        "\n",
        "        var $myPB = $(\"div#29603a0e-9e4d-4ffa-912c-48f34284e5ed\")\n",
        "        if ($myPB.hasClass('ui-progressbar')) {\n",
        "            $myPB.progressbar('value', 55);\n",
        "        } else {\n",
        "            $myPB.progressbar({value: 0, max: 100});\n",
        "        }\n",
        "        "
       ],
       "metadata": {},
       "output_type": "display_data",
       "text": [
        "<IPython.core.display.Javascript at 0x120c6ee10>"
       ]
      },
      {
       "javascript": [
        "$('div#34c5e849-f051-4147-bec5-e3f7b3d156cc').text('ETA:  0:01:09');"
       ],
       "metadata": {},
       "output_type": "display_data",
       "text": [
        "<IPython.core.display.Javascript at 0x120c6ecd0>"
       ]
      },
      {
       "javascript": [
        "$('div#0c594012-74b4-46e2-8351-1d1f354bb7e4').text(' 55%');"
       ],
       "metadata": {},
       "output_type": "display_data",
       "text": [
        "<IPython.core.display.Javascript at 0x122cf5890>"
       ]
      },
      {
       "javascript": [
        "\n",
        "        var $myPB = $(\"div#29603a0e-9e4d-4ffa-912c-48f34284e5ed\")\n",
        "        if ($myPB.hasClass('ui-progressbar')) {\n",
        "            $myPB.progressbar('value', 55);\n",
        "        } else {\n",
        "            $myPB.progressbar({value: 0, max: 100});\n",
        "        }\n",
        "        "
       ],
       "metadata": {},
       "output_type": "display_data",
       "text": [
        "<IPython.core.display.Javascript at 0x122cf5690>"
       ]
      },
      {
       "javascript": [
        "$('div#34c5e849-f051-4147-bec5-e3f7b3d156cc').text('ETA:  0:01:09');"
       ],
       "metadata": {},
       "output_type": "display_data",
       "text": [
        "<IPython.core.display.Javascript at 0x122cf5cd0>"
       ]
      },
      {
       "javascript": [
        "$('div#0c594012-74b4-46e2-8351-1d1f354bb7e4').text(' 55%');"
       ],
       "metadata": {},
       "output_type": "display_data",
       "text": [
        "<IPython.core.display.Javascript at 0x122cf5c50>"
       ]
      },
      {
       "javascript": [
        "\n",
        "        var $myPB = $(\"div#29603a0e-9e4d-4ffa-912c-48f34284e5ed\")\n",
        "        if ($myPB.hasClass('ui-progressbar')) {\n",
        "            $myPB.progressbar('value', 55);\n",
        "        } else {\n",
        "            $myPB.progressbar({value: 0, max: 100});\n",
        "        }\n",
        "        "
       ],
       "metadata": {},
       "output_type": "display_data",
       "text": [
        "<IPython.core.display.Javascript at 0x122cf5a50>"
       ]
      },
      {
       "javascript": [
        "$('div#34c5e849-f051-4147-bec5-e3f7b3d156cc').text('ETA:  0:01:10');"
       ],
       "metadata": {},
       "output_type": "display_data",
       "text": [
        "<IPython.core.display.Javascript at 0x122cf5f90>"
       ]
      },
      {
       "javascript": [
        "$('div#0c594012-74b4-46e2-8351-1d1f354bb7e4').text(' 55%');"
       ],
       "metadata": {},
       "output_type": "display_data",
       "text": [
        "<IPython.core.display.Javascript at 0x120c6ecd0>"
       ]
      },
      {
       "javascript": [
        "\n",
        "        var $myPB = $(\"div#29603a0e-9e4d-4ffa-912c-48f34284e5ed\")\n",
        "        if ($myPB.hasClass('ui-progressbar')) {\n",
        "            $myPB.progressbar('value', 55);\n",
        "        } else {\n",
        "            $myPB.progressbar({value: 0, max: 100});\n",
        "        }\n",
        "        "
       ],
       "metadata": {},
       "output_type": "display_data",
       "text": [
        "<IPython.core.display.Javascript at 0x120c6ee10>"
       ]
      },
      {
       "javascript": [
        "$('div#34c5e849-f051-4147-bec5-e3f7b3d156cc').text('ETA:  0:01:11');"
       ],
       "metadata": {},
       "output_type": "display_data",
       "text": [
        "<IPython.core.display.Javascript at 0x120c6e490>"
       ]
      },
      {
       "javascript": [
        "$('div#0c594012-74b4-46e2-8351-1d1f354bb7e4').text(' 55%');"
       ],
       "metadata": {},
       "output_type": "display_data",
       "text": [
        "<IPython.core.display.Javascript at 0x111f56c50>"
       ]
      },
      {
       "javascript": [
        "\n",
        "        var $myPB = $(\"div#29603a0e-9e4d-4ffa-912c-48f34284e5ed\")\n",
        "        if ($myPB.hasClass('ui-progressbar')) {\n",
        "            $myPB.progressbar('value', 55);\n",
        "        } else {\n",
        "            $myPB.progressbar({value: 0, max: 100});\n",
        "        }\n",
        "        "
       ],
       "metadata": {},
       "output_type": "display_data",
       "text": [
        "<IPython.core.display.Javascript at 0x120c6e850>"
       ]
      },
      {
       "javascript": [
        "$('div#34c5e849-f051-4147-bec5-e3f7b3d156cc').text('ETA:  0:01:12');"
       ],
       "metadata": {},
       "output_type": "display_data",
       "text": [
        "<IPython.core.display.Javascript at 0x120c6ef50>"
       ]
      },
      {
       "javascript": [
        "$('div#0c594012-74b4-46e2-8351-1d1f354bb7e4').text(' 55%');"
       ],
       "metadata": {},
       "output_type": "display_data",
       "text": [
        "<IPython.core.display.Javascript at 0x10d8878d0>"
       ]
      },
      {
       "javascript": [
        "\n",
        "        var $myPB = $(\"div#29603a0e-9e4d-4ffa-912c-48f34284e5ed\")\n",
        "        if ($myPB.hasClass('ui-progressbar')) {\n",
        "            $myPB.progressbar('value', 55);\n",
        "        } else {\n",
        "            $myPB.progressbar({value: 0, max: 100});\n",
        "        }\n",
        "        "
       ],
       "metadata": {},
       "output_type": "display_data",
       "text": [
        "<IPython.core.display.Javascript at 0x120c6e950>"
       ]
      },
      {
       "javascript": [
        "$('div#34c5e849-f051-4147-bec5-e3f7b3d156cc').text('ETA:  0:01:13');"
       ],
       "metadata": {},
       "output_type": "display_data",
       "text": [
        "<IPython.core.display.Javascript at 0x120c6e210>"
       ]
      },
      {
       "javascript": [
        "$('div#0c594012-74b4-46e2-8351-1d1f354bb7e4').text(' 55%');"
       ],
       "metadata": {},
       "output_type": "display_data",
       "text": [
        "<IPython.core.display.Javascript at 0x120c6ee90>"
       ]
      },
      {
       "javascript": [
        "\n",
        "        var $myPB = $(\"div#29603a0e-9e4d-4ffa-912c-48f34284e5ed\")\n",
        "        if ($myPB.hasClass('ui-progressbar')) {\n",
        "            $myPB.progressbar('value', 55);\n",
        "        } else {\n",
        "            $myPB.progressbar({value: 0, max: 100});\n",
        "        }\n",
        "        "
       ],
       "metadata": {},
       "output_type": "display_data",
       "text": [
        "<IPython.core.display.Javascript at 0x120c6ee50>"
       ]
      },
      {
       "javascript": [
        "$('div#34c5e849-f051-4147-bec5-e3f7b3d156cc').text('ETA:  0:01:13');"
       ],
       "metadata": {},
       "output_type": "display_data",
       "text": [
        "<IPython.core.display.Javascript at 0x120c6ea10>"
       ]
      },
      {
       "javascript": [
        "$('div#0c594012-74b4-46e2-8351-1d1f354bb7e4').text(' 55%');"
       ],
       "metadata": {},
       "output_type": "display_data",
       "text": [
        "<IPython.core.display.Javascript at 0x120c6ea50>"
       ]
      },
      {
       "javascript": [
        "\n",
        "        var $myPB = $(\"div#29603a0e-9e4d-4ffa-912c-48f34284e5ed\")\n",
        "        if ($myPB.hasClass('ui-progressbar')) {\n",
        "            $myPB.progressbar('value', 55);\n",
        "        } else {\n",
        "            $myPB.progressbar({value: 0, max: 100});\n",
        "        }\n",
        "        "
       ],
       "metadata": {},
       "output_type": "display_data",
       "text": [
        "<IPython.core.display.Javascript at 0x120c6ef10>"
       ]
      },
      {
       "javascript": [
        "$('div#34c5e849-f051-4147-bec5-e3f7b3d156cc').text('ETA:  0:01:14');"
       ],
       "metadata": {},
       "output_type": "display_data",
       "text": [
        "<IPython.core.display.Javascript at 0x120c6e190>"
       ]
      },
      {
       "javascript": [
        "$('div#0c594012-74b4-46e2-8351-1d1f354bb7e4').text(' 55%');"
       ],
       "metadata": {},
       "output_type": "display_data",
       "text": [
        "<IPython.core.display.Javascript at 0x1281bfdd0>"
       ]
      },
      {
       "javascript": [
        "\n",
        "        var $myPB = $(\"div#29603a0e-9e4d-4ffa-912c-48f34284e5ed\")\n",
        "        if ($myPB.hasClass('ui-progressbar')) {\n",
        "            $myPB.progressbar('value', 55);\n",
        "        } else {\n",
        "            $myPB.progressbar({value: 0, max: 100});\n",
        "        }\n",
        "        "
       ],
       "metadata": {},
       "output_type": "display_data",
       "text": [
        "<IPython.core.display.Javascript at 0x1281bffd0>"
       ]
      },
      {
       "javascript": [
        "$('div#34c5e849-f051-4147-bec5-e3f7b3d156cc').text('ETA:  0:01:15');"
       ],
       "metadata": {},
       "output_type": "display_data",
       "text": [
        "<IPython.core.display.Javascript at 0x1281bf990>"
       ]
      },
      {
       "javascript": [
        "$('div#0c594012-74b4-46e2-8351-1d1f354bb7e4').text(' 55%');"
       ],
       "metadata": {},
       "output_type": "display_data",
       "text": [
        "<IPython.core.display.Javascript at 0x120c6e1d0>"
       ]
      },
      {
       "javascript": [
        "\n",
        "        var $myPB = $(\"div#29603a0e-9e4d-4ffa-912c-48f34284e5ed\")\n",
        "        if ($myPB.hasClass('ui-progressbar')) {\n",
        "            $myPB.progressbar('value', 55);\n",
        "        } else {\n",
        "            $myPB.progressbar({value: 0, max: 100});\n",
        "        }\n",
        "        "
       ],
       "metadata": {},
       "output_type": "display_data",
       "text": [
        "<IPython.core.display.Javascript at 0x120c6eb10>"
       ]
      },
      {
       "javascript": [
        "$('div#34c5e849-f051-4147-bec5-e3f7b3d156cc').text('ETA:  0:01:16');"
       ],
       "metadata": {},
       "output_type": "display_data",
       "text": [
        "<IPython.core.display.Javascript at 0x120c6e7d0>"
       ]
      },
      {
       "javascript": [
        "$('div#0c594012-74b4-46e2-8351-1d1f354bb7e4').text(' 55%');"
       ],
       "metadata": {},
       "output_type": "display_data",
       "text": [
        "<IPython.core.display.Javascript at 0x1281bf950>"
       ]
      },
      {
       "javascript": [
        "\n",
        "        var $myPB = $(\"div#29603a0e-9e4d-4ffa-912c-48f34284e5ed\")\n",
        "        if ($myPB.hasClass('ui-progressbar')) {\n",
        "            $myPB.progressbar('value', 55);\n",
        "        } else {\n",
        "            $myPB.progressbar({value: 0, max: 100});\n",
        "        }\n",
        "        "
       ],
       "metadata": {},
       "output_type": "display_data",
       "text": [
        "<IPython.core.display.Javascript at 0x1281bf3d0>"
       ]
      },
      {
       "javascript": [
        "$('div#34c5e849-f051-4147-bec5-e3f7b3d156cc').text('ETA:  0:01:17');"
       ],
       "metadata": {},
       "output_type": "display_data",
       "text": [
        "<IPython.core.display.Javascript at 0x1281bf910>"
       ]
      },
      {
       "javascript": [
        "$('div#0c594012-74b4-46e2-8351-1d1f354bb7e4').text(' 56%');"
       ],
       "metadata": {},
       "output_type": "display_data",
       "text": [
        "<IPython.core.display.Javascript at 0x1281bf190>"
       ]
      },
      {
       "javascript": [
        "\n",
        "        var $myPB = $(\"div#29603a0e-9e4d-4ffa-912c-48f34284e5ed\")\n",
        "        if ($myPB.hasClass('ui-progressbar')) {\n",
        "            $myPB.progressbar('value', 56);\n",
        "        } else {\n",
        "            $myPB.progressbar({value: 0, max: 100});\n",
        "        }\n",
        "        "
       ],
       "metadata": {},
       "output_type": "display_data",
       "text": [
        "<IPython.core.display.Javascript at 0x120c6e350>"
       ]
      },
      {
       "javascript": [
        "$('div#34c5e849-f051-4147-bec5-e3f7b3d156cc').text('ETA:  0:01:15');"
       ],
       "metadata": {},
       "output_type": "display_data",
       "text": [
        "<IPython.core.display.Javascript at 0x120c6efd0>"
       ]
      },
      {
       "javascript": [
        "$('div#0c594012-74b4-46e2-8351-1d1f354bb7e4').text(' 56%');"
       ],
       "metadata": {},
       "output_type": "display_data",
       "text": [
        "<IPython.core.display.Javascript at 0x120c6e550>"
       ]
      },
      {
       "javascript": [
        "\n",
        "        var $myPB = $(\"div#29603a0e-9e4d-4ffa-912c-48f34284e5ed\")\n",
        "        if ($myPB.hasClass('ui-progressbar')) {\n",
        "            $myPB.progressbar('value', 56);\n",
        "        } else {\n",
        "            $myPB.progressbar({value: 0, max: 100});\n",
        "        }\n",
        "        "
       ],
       "metadata": {},
       "output_type": "display_data",
       "text": [
        "<IPython.core.display.Javascript at 0x120c6e5d0>"
       ]
      },
      {
       "javascript": [
        "$('div#34c5e849-f051-4147-bec5-e3f7b3d156cc').text('ETA:  0:01:15');"
       ],
       "metadata": {},
       "output_type": "display_data",
       "text": [
        "<IPython.core.display.Javascript at 0x120c6e4d0>"
       ]
      },
      {
       "javascript": [
        "$('div#0c594012-74b4-46e2-8351-1d1f354bb7e4').text(' 56%');"
       ],
       "metadata": {},
       "output_type": "display_data",
       "text": [
        "<IPython.core.display.Javascript at 0x128374c50>"
       ]
      },
      {
       "javascript": [
        "\n",
        "        var $myPB = $(\"div#29603a0e-9e4d-4ffa-912c-48f34284e5ed\")\n",
        "        if ($myPB.hasClass('ui-progressbar')) {\n",
        "            $myPB.progressbar('value', 56);\n",
        "        } else {\n",
        "            $myPB.progressbar({value: 0, max: 100});\n",
        "        }\n",
        "        "
       ],
       "metadata": {},
       "output_type": "display_data",
       "text": [
        "<IPython.core.display.Javascript at 0x128374610>"
       ]
      },
      {
       "javascript": [
        "$('div#34c5e849-f051-4147-bec5-e3f7b3d156cc').text('ETA:  0:01:16');"
       ],
       "metadata": {},
       "output_type": "display_data",
       "text": [
        "<IPython.core.display.Javascript at 0x128374d50>"
       ]
      },
      {
       "javascript": [
        "$('div#0c594012-74b4-46e2-8351-1d1f354bb7e4').text(' 56%');"
       ],
       "metadata": {},
       "output_type": "display_data",
       "text": [
        "<IPython.core.display.Javascript at 0x1283746d0>"
       ]
      },
      {
       "javascript": [
        "\n",
        "        var $myPB = $(\"div#29603a0e-9e4d-4ffa-912c-48f34284e5ed\")\n",
        "        if ($myPB.hasClass('ui-progressbar')) {\n",
        "            $myPB.progressbar('value', 56);\n",
        "        } else {\n",
        "            $myPB.progressbar({value: 0, max: 100});\n",
        "        }\n",
        "        "
       ],
       "metadata": {},
       "output_type": "display_data",
       "text": [
        "<IPython.core.display.Javascript at 0x128374910>"
       ]
      },
      {
       "javascript": [
        "$('div#34c5e849-f051-4147-bec5-e3f7b3d156cc').text('ETA:  0:01:17');"
       ],
       "metadata": {},
       "output_type": "display_data",
       "text": [
        "<IPython.core.display.Javascript at 0x128374510>"
       ]
      },
      {
       "javascript": [
        "$('div#0c594012-74b4-46e2-8351-1d1f354bb7e4').text(' 56%');"
       ],
       "metadata": {},
       "output_type": "display_data",
       "text": [
        "<IPython.core.display.Javascript at 0x128374a90>"
       ]
      },
      {
       "javascript": [
        "\n",
        "        var $myPB = $(\"div#29603a0e-9e4d-4ffa-912c-48f34284e5ed\")\n",
        "        if ($myPB.hasClass('ui-progressbar')) {\n",
        "            $myPB.progressbar('value', 56);\n",
        "        } else {\n",
        "            $myPB.progressbar({value: 0, max: 100});\n",
        "        }\n",
        "        "
       ],
       "metadata": {},
       "output_type": "display_data",
       "text": [
        "<IPython.core.display.Javascript at 0x128374810>"
       ]
      },
      {
       "javascript": [
        "$('div#34c5e849-f051-4147-bec5-e3f7b3d156cc').text('ETA:  0:01:18');"
       ],
       "metadata": {},
       "output_type": "display_data",
       "text": [
        "<IPython.core.display.Javascript at 0x128374a50>"
       ]
      },
      {
       "javascript": [
        "$('div#0c594012-74b4-46e2-8351-1d1f354bb7e4').text(' 56%');"
       ],
       "metadata": {},
       "output_type": "display_data",
       "text": [
        "<IPython.core.display.Javascript at 0x128374650>"
       ]
      },
      {
       "javascript": [
        "\n",
        "        var $myPB = $(\"div#29603a0e-9e4d-4ffa-912c-48f34284e5ed\")\n",
        "        if ($myPB.hasClass('ui-progressbar')) {\n",
        "            $myPB.progressbar('value', 56);\n",
        "        } else {\n",
        "            $myPB.progressbar({value: 0, max: 100});\n",
        "        }\n",
        "        "
       ],
       "metadata": {},
       "output_type": "display_data",
       "text": [
        "<IPython.core.display.Javascript at 0x128374790>"
       ]
      },
      {
       "javascript": [
        "$('div#34c5e849-f051-4147-bec5-e3f7b3d156cc').text('ETA:  0:01:19');"
       ],
       "metadata": {},
       "output_type": "display_data",
       "text": [
        "<IPython.core.display.Javascript at 0x128374cd0>"
       ]
      },
      {
       "javascript": [
        "$('div#0c594012-74b4-46e2-8351-1d1f354bb7e4').text(' 56%');"
       ],
       "metadata": {},
       "output_type": "display_data",
       "text": [
        "<IPython.core.display.Javascript at 0x1283743d0>"
       ]
      },
      {
       "javascript": [
        "\n",
        "        var $myPB = $(\"div#29603a0e-9e4d-4ffa-912c-48f34284e5ed\")\n",
        "        if ($myPB.hasClass('ui-progressbar')) {\n",
        "            $myPB.progressbar('value', 56);\n",
        "        } else {\n",
        "            $myPB.progressbar({value: 0, max: 100});\n",
        "        }\n",
        "        "
       ],
       "metadata": {},
       "output_type": "display_data",
       "text": [
        "<IPython.core.display.Javascript at 0x1283742d0>"
       ]
      },
      {
       "javascript": [
        "$('div#34c5e849-f051-4147-bec5-e3f7b3d156cc').text('ETA:  0:01:19');"
       ],
       "metadata": {},
       "output_type": "display_data",
       "text": [
        "<IPython.core.display.Javascript at 0x128374050>"
       ]
      },
      {
       "javascript": [
        "$('div#0c594012-74b4-46e2-8351-1d1f354bb7e4').text(' 56%');"
       ],
       "metadata": {},
       "output_type": "display_data",
       "text": [
        "<IPython.core.display.Javascript at 0x128374150>"
       ]
      },
      {
       "javascript": [
        "\n",
        "        var $myPB = $(\"div#29603a0e-9e4d-4ffa-912c-48f34284e5ed\")\n",
        "        if ($myPB.hasClass('ui-progressbar')) {\n",
        "            $myPB.progressbar('value', 56);\n",
        "        } else {\n",
        "            $myPB.progressbar({value: 0, max: 100});\n",
        "        }\n",
        "        "
       ],
       "metadata": {},
       "output_type": "display_data",
       "text": [
        "<IPython.core.display.Javascript at 0x1283745d0>"
       ]
      },
      {
       "javascript": [
        "$('div#34c5e849-f051-4147-bec5-e3f7b3d156cc').text('ETA:  0:01:20');"
       ],
       "metadata": {},
       "output_type": "display_data",
       "text": [
        "<IPython.core.display.Javascript at 0x128374ed0>"
       ]
      },
      {
       "javascript": [
        "$('div#0c594012-74b4-46e2-8351-1d1f354bb7e4').text(' 57%');"
       ],
       "metadata": {},
       "output_type": "display_data",
       "text": [
        "<IPython.core.display.Javascript at 0x122cf5f50>"
       ]
      },
      {
       "javascript": [
        "\n",
        "        var $myPB = $(\"div#29603a0e-9e4d-4ffa-912c-48f34284e5ed\")\n",
        "        if ($myPB.hasClass('ui-progressbar')) {\n",
        "            $myPB.progressbar('value', 57);\n",
        "        } else {\n",
        "            $myPB.progressbar({value: 0, max: 100});\n",
        "        }\n",
        "        "
       ],
       "metadata": {},
       "output_type": "display_data",
       "text": [
        "<IPython.core.display.Javascript at 0x122cf5390>"
       ]
      },
      {
       "javascript": [
        "$('div#34c5e849-f051-4147-bec5-e3f7b3d156cc').text('ETA:  0:01:18');"
       ],
       "metadata": {},
       "output_type": "display_data",
       "text": [
        "<IPython.core.display.Javascript at 0x122cf50d0>"
       ]
      },
      {
       "javascript": [
        "$('div#0c594012-74b4-46e2-8351-1d1f354bb7e4').text(' 57%');"
       ],
       "metadata": {},
       "output_type": "display_data",
       "text": [
        "<IPython.core.display.Javascript at 0x122cf5450>"
       ]
      },
      {
       "javascript": [
        "\n",
        "        var $myPB = $(\"div#29603a0e-9e4d-4ffa-912c-48f34284e5ed\")\n",
        "        if ($myPB.hasClass('ui-progressbar')) {\n",
        "            $myPB.progressbar('value', 57);\n",
        "        } else {\n",
        "            $myPB.progressbar({value: 0, max: 100});\n",
        "        }\n",
        "        "
       ],
       "metadata": {},
       "output_type": "display_data",
       "text": [
        "<IPython.core.display.Javascript at 0x122cf5ad0>"
       ]
      },
      {
       "javascript": [
        "$('div#34c5e849-f051-4147-bec5-e3f7b3d156cc').text('ETA:  0:01:18');"
       ],
       "metadata": {},
       "output_type": "display_data",
       "text": [
        "<IPython.core.display.Javascript at 0x122cf5050>"
       ]
      },
      {
       "javascript": [
        "$('div#0c594012-74b4-46e2-8351-1d1f354bb7e4').text(' 57%');"
       ],
       "metadata": {},
       "output_type": "display_data",
       "text": [
        "<IPython.core.display.Javascript at 0x128374ed0>"
       ]
      },
      {
       "javascript": [
        "\n",
        "        var $myPB = $(\"div#29603a0e-9e4d-4ffa-912c-48f34284e5ed\")\n",
        "        if ($myPB.hasClass('ui-progressbar')) {\n",
        "            $myPB.progressbar('value', 57);\n",
        "        } else {\n",
        "            $myPB.progressbar({value: 0, max: 100});\n",
        "        }\n",
        "        "
       ],
       "metadata": {},
       "output_type": "display_data",
       "text": [
        "<IPython.core.display.Javascript at 0x1283745d0>"
       ]
      },
      {
       "javascript": [
        "$('div#34c5e849-f051-4147-bec5-e3f7b3d156cc').text('ETA:  0:01:19');"
       ],
       "metadata": {},
       "output_type": "display_data",
       "text": [
        "<IPython.core.display.Javascript at 0x128374150>"
       ]
      },
      {
       "javascript": [
        "$('div#0c594012-74b4-46e2-8351-1d1f354bb7e4').text(' 57%');"
       ],
       "metadata": {},
       "output_type": "display_data",
       "text": [
        "<IPython.core.display.Javascript at 0x111f56c50>"
       ]
      },
      {
       "javascript": [
        "\n",
        "        var $myPB = $(\"div#29603a0e-9e4d-4ffa-912c-48f34284e5ed\")\n",
        "        if ($myPB.hasClass('ui-progressbar')) {\n",
        "            $myPB.progressbar('value', 57);\n",
        "        } else {\n",
        "            $myPB.progressbar({value: 0, max: 100});\n",
        "        }\n",
        "        "
       ],
       "metadata": {},
       "output_type": "display_data",
       "text": [
        "<IPython.core.display.Javascript at 0x10d86e8d0>"
       ]
      },
      {
       "javascript": [
        "$('div#34c5e849-f051-4147-bec5-e3f7b3d156cc').text('ETA:  0:01:20');"
       ],
       "metadata": {},
       "output_type": "display_data",
       "text": [
        "<IPython.core.display.Javascript at 0x128374a90>"
       ]
      },
      {
       "javascript": [
        "$('div#0c594012-74b4-46e2-8351-1d1f354bb7e4').text(' 57%');"
       ],
       "metadata": {},
       "output_type": "display_data",
       "text": [
        "<IPython.core.display.Javascript at 0x1283742d0>"
       ]
      },
      {
       "javascript": [
        "\n",
        "        var $myPB = $(\"div#29603a0e-9e4d-4ffa-912c-48f34284e5ed\")\n",
        "        if ($myPB.hasClass('ui-progressbar')) {\n",
        "            $myPB.progressbar('value', 57);\n",
        "        } else {\n",
        "            $myPB.progressbar({value: 0, max: 100});\n",
        "        }\n",
        "        "
       ],
       "metadata": {},
       "output_type": "display_data",
       "text": [
        "<IPython.core.display.Javascript at 0x128374610>"
       ]
      },
      {
       "javascript": [
        "$('div#34c5e849-f051-4147-bec5-e3f7b3d156cc').text('ETA:  0:01:21');"
       ],
       "metadata": {},
       "output_type": "display_data",
       "text": [
        "<IPython.core.display.Javascript at 0x128374c50>"
       ]
      },
      {
       "javascript": [
        "$('div#0c594012-74b4-46e2-8351-1d1f354bb7e4').text(' 58%');"
       ],
       "metadata": {},
       "output_type": "display_data",
       "text": [
        "<IPython.core.display.Javascript at 0x128374cd0>"
       ]
      },
      {
       "javascript": [
        "\n",
        "        var $myPB = $(\"div#29603a0e-9e4d-4ffa-912c-48f34284e5ed\")\n",
        "        if ($myPB.hasClass('ui-progressbar')) {\n",
        "            $myPB.progressbar('value', 58);\n",
        "        } else {\n",
        "            $myPB.progressbar({value: 0, max: 100});\n",
        "        }\n",
        "        "
       ],
       "metadata": {},
       "output_type": "display_data",
       "text": [
        "<IPython.core.display.Javascript at 0x128374510>"
       ]
      },
      {
       "javascript": [
        "$('div#34c5e849-f051-4147-bec5-e3f7b3d156cc').text('ETA:  0:01:18');"
       ],
       "metadata": {},
       "output_type": "display_data",
       "text": [
        "<IPython.core.display.Javascript at 0x128374d50>"
       ]
      },
      {
       "javascript": [
        "$('div#0c594012-74b4-46e2-8351-1d1f354bb7e4').text(' 58%');"
       ],
       "metadata": {},
       "output_type": "display_data",
       "text": [
        "<IPython.core.display.Javascript at 0x1281bf910>"
       ]
      },
      {
       "javascript": [
        "\n",
        "        var $myPB = $(\"div#29603a0e-9e4d-4ffa-912c-48f34284e5ed\")\n",
        "        if ($myPB.hasClass('ui-progressbar')) {\n",
        "            $myPB.progressbar('value', 58);\n",
        "        } else {\n",
        "            $myPB.progressbar({value: 0, max: 100});\n",
        "        }\n",
        "        "
       ],
       "metadata": {},
       "output_type": "display_data",
       "text": [
        "<IPython.core.display.Javascript at 0x1281bf990>"
       ]
      },
      {
       "javascript": [
        "$('div#34c5e849-f051-4147-bec5-e3f7b3d156cc').text('ETA:  0:01:19');"
       ],
       "metadata": {},
       "output_type": "display_data",
       "text": [
        "<IPython.core.display.Javascript at 0x1281bffd0>"
       ]
      },
      {
       "javascript": [
        "$('div#0c594012-74b4-46e2-8351-1d1f354bb7e4').text(' 58%');"
       ],
       "metadata": {},
       "output_type": "display_data",
       "text": [
        "<IPython.core.display.Javascript at 0x128374810>"
       ]
      },
      {
       "javascript": [
        "\n",
        "        var $myPB = $(\"div#29603a0e-9e4d-4ffa-912c-48f34284e5ed\")\n",
        "        if ($myPB.hasClass('ui-progressbar')) {\n",
        "            $myPB.progressbar('value', 58);\n",
        "        } else {\n",
        "            $myPB.progressbar({value: 0, max: 100});\n",
        "        }\n",
        "        "
       ],
       "metadata": {},
       "output_type": "display_data",
       "text": [
        "<IPython.core.display.Javascript at 0x1283746d0>"
       ]
      },
      {
       "javascript": [
        "$('div#34c5e849-f051-4147-bec5-e3f7b3d156cc').text('ETA:  0:01:20');"
       ],
       "metadata": {},
       "output_type": "display_data",
       "text": [
        "<IPython.core.display.Javascript at 0x128374910>"
       ]
      },
      {
       "javascript": [
        "$('div#0c594012-74b4-46e2-8351-1d1f354bb7e4').text(' 59%');"
       ],
       "metadata": {},
       "output_type": "display_data",
       "text": [
        "<IPython.core.display.Javascript at 0x1281bf3d0>"
       ]
      },
      {
       "javascript": [
        "\n",
        "        var $myPB = $(\"div#29603a0e-9e4d-4ffa-912c-48f34284e5ed\")\n",
        "        if ($myPB.hasClass('ui-progressbar')) {\n",
        "            $myPB.progressbar('value', 59);\n",
        "        } else {\n",
        "            $myPB.progressbar({value: 0, max: 100});\n",
        "        }\n",
        "        "
       ],
       "metadata": {},
       "output_type": "display_data",
       "text": [
        "<IPython.core.display.Javascript at 0x1281bf950>"
       ]
      },
      {
       "javascript": [
        "$('div#34c5e849-f051-4147-bec5-e3f7b3d156cc').text('ETA:  0:01:17');"
       ],
       "metadata": {},
       "output_type": "display_data",
       "text": [
        "<IPython.core.display.Javascript at 0x1281bfdd0>"
       ]
      }
     ]
    },
    {
     "cell_type": "code",
     "collapsed": false,
     "input": [],
     "language": "python",
     "metadata": {},
     "outputs": []
    }
   ],
   "metadata": {}
  }
 ]
}