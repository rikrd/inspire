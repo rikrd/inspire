{
 "metadata": {
  "name": "",
  "signature": "sha256:4064840dc1b79f055e45dcdd18663eac56d51ae68b6e7af320de5adb4edfc03d"
 },
 "nbformat": 3,
 "nbformat_minor": 0,
 "worksheets": [
  {
   "cells": [
    {
     "cell_type": "markdown",
     "metadata": {},
     "source": [
      "# Working with audio\n",
      "## Getting started\n",
      "The first to get started are similar to those follow in the first Tutorial."
     ]
    },
    {
     "cell_type": "code",
     "collapsed": false,
     "input": [
      "%matplotlib inline\n",
      "\n",
      "import numpy as np\n",
      "import inspire\n",
      "import random\n",
      "from collections import defaultdict"
     ],
     "language": "python",
     "metadata": {},
     "outputs": [],
     "prompt_number": 1
    },
    {
     "cell_type": "code",
     "collapsed": false,
     "input": [
      "# Get the evaluation setting\n",
      "setting = inspire.get_evaluation_setting()\n",
      "\n",
      "# Get the dataset\n",
      "dataset_filename = setting.download_dataset()\n",
      "dataset = inspire.load_dataset(dataset_filename)"
     ],
     "language": "python",
     "metadata": {},
     "outputs": [],
     "prompt_number": 2
    },
    {
     "cell_type": "code",
     "collapsed": false,
     "input": [
      "# Get the lexicon\n",
      "lexicon_filename = setting.download_lexicon()\n",
      "lexicon = inspire.load_lexicon(lexicon_filename)"
     ],
     "language": "python",
     "metadata": {},
     "outputs": [],
     "prompt_number": 3
    },
    {
     "cell_type": "code",
     "collapsed": false,
     "input": [
      "submission = inspire.Submission(email='dummy@email.com',\n",
      "                                description='''Optimal Submission:\n",
      "where task: Based on actual responses of development set.\n",
      "what task: Not provided.\n",
      "full task: Not provided.\n",
      "                                ''',\n",
      "                                evaluation_setting=setting)\n",
      "\n",
      "# Iterate over all the stimuli in our dataset\n",
      "for token_id, token  in dataset['tokens'].items():\n",
      "    #for token_id, token  in {'3711': dataset['tokens']['3711']}.items():\n",
      "    if 'responses' not in token:\n",
      "        continue\n",
      "            \n",
      "    word = token['speech']\n",
      "    \n",
      "    # Lexicon may contain multiple pronunciations\n",
      "    pronunciations = lexicon[word]\n",
      "    \n",
      "    # Here we arbitrarily select the first one\n",
      "    pronunciation = pronunciations[0]\n",
      "    \n",
      "    # Get a list of phonemes from the space separated pronunciation of the lexicon\n",
      "    phonemes = pronunciation\n",
      "    \n",
      "    # Possible indices of confusions\n",
      "    # are the number of phonemes plus\n",
      "    # the number of positions around phonemes\n",
      "    index_count = len(phonemes)*2 + 1\n",
      "    \n",
      "    confusion_counts = np.zeros(index_count)\n",
      "    phoneme_confusion_counts = defaultdict(lambda: defaultdict(lambda: 0.))\n",
      "    pronunciation_confusion_counts = defaultdict(lambda: 0.)\n",
      "    \n",
      "    total_count = 0.\n",
      "    for response, count in token['responses'].items():\n",
      "        response_pronunciation = lexicon[response][0]\n",
      "\n",
      "        edit_scripts = inspire.get_edit_scripts(pronunciation, response_pronunciation)\n",
      "        edit_script = random.choice(edit_scripts)\n",
      "                \n",
      "        for op in edit_script:\n",
      "            if op['from_symbol'] != op['to_symbol']:\n",
      "                confusion_counts[op['index']] += count\n",
      "            \n",
      "            phoneme_confusion_counts[op['index']][op['to_symbol']] += count\n",
      "    \n",
      "        pronunciation_confusion_counts[' '.join(response_pronunciation)] += count\n",
      "    \n",
      "        total_count += count\n",
      "    \n",
      "    # Perform the predictions based on the actual response counts\n",
      "    ## Where task\n",
      "    submission.where_task(token_id, confusion_counts/total_count)\n",
      "        \n",
      "    ## What task\n",
      "    for index in range(index_count):\n",
      "        # Indices that appeared in the edit script\n",
      "        for index, counts in phoneme_confusion_counts.items():\n",
      "            for phoneme, count in counts.items():\n",
      "                submission.what_task(token_id, index, phoneme, count/total_count, warn=False)\n",
      "                    \n",
      "    ## Full task\n",
      "    for pronunciation, count in pronunciation_confusion_counts.items():\n",
      "        submission.full_task(token_id, pronunciation, count/total_count, warn=False)"
     ],
     "language": "python",
     "metadata": {},
     "outputs": [],
     "prompt_number": 4
    },
    {
     "cell_type": "code",
     "collapsed": false,
     "input": [
      "job = submission.evaluate(password='dummypassword')"
     ],
     "language": "python",
     "metadata": {},
     "outputs": [],
     "prompt_number": 5
    },
    {
     "cell_type": "code",
     "collapsed": false,
     "input": [
      "job.wait()\n",
      "\n",
      "result = job.result()\n",
      "\n",
      "inspire.pprint(result['where']['token_averaged'])\n",
      "inspire.pprint(result['what']['token_averaged'])\n",
      "inspire.pprint(result['full']['token_averaged'])"
     ],
     "language": "python",
     "metadata": {},
     "outputs": [
      {
       "javascript": [
        "//f7f48f77-9edf-45df-af09-db68514fa6bd\n",
        "$(\"head\").append(\"<style> td.pb_widget {     width: auto; } td.pb_widget_fill {     width: 100%; } table.pb {     font-family: monospace;     border: 0;     margin: 0; } table.pb tr { border: 0; } table.pb td {     white-space: nowrap;     border: 0; } div.pb {     border: 1px solid #ddd;     border-radius: 3px; } div.pb_bar {     height: 1.5em; } </style>\")"
       ],
       "metadata": {},
       "output_type": "display_data",
       "text": [
        "<IPython.core.display.Javascript at 0x120578050>"
       ]
      },
      {
       "javascript": [
        "\n",
        "                  // f7f48f77-9edf-45df-af09-db68514fa6bd -- used to remove this code blob in the end\n",
        "                  IPython.OutputArea.prototype.cleanProgressBar = function(uuids) {\n",
        "                      // filter by uuid-strings \n",
        "                      var myfilter = function(output) { \n",
        "                          var nuids = uuids.length;\n",
        "                          for (var i=0; i<nuids; i++) {\n",
        "                              if (output.hasOwnProperty('html')) {\n",
        "                                  if (output.html.indexOf(uuids[i]) != -1) {\n",
        "                                      return false;\n",
        "                                  }\n",
        "                              }\n",
        "                              if (output.hasOwnProperty('javascript')) {\n",
        "                                  if (output.javascript.indexOf(uuids[i]) != -1) {\n",
        "                                      return false;\n",
        "                                  }\n",
        "                              }\n",
        "                          }\n",
        "                          // keep all others\n",
        "                          return true;\n",
        "                      };\n",
        "\n",
        "                      // Filter the ouputs\n",
        "                      this.outputs = this.outputs.filter(myfilter);\n",
        "                };\n",
        "                "
       ],
       "metadata": {},
       "output_type": "display_data",
       "text": [
        "<IPython.core.display.Javascript at 0x111dddd90>"
       ]
      },
      {
       "html": [
        "<div class=\"pb\" id=\"f7f48f77-9edf-45df-af09-db68514fa6bd\"><table class=\"pb ui-widget\"><tr>\n",
        "<td class=\"pb_widget\">Processing: </td>\n",
        "<td class=\"pb_widget\"><div id=\"f656cf83-d3c0-4b94-a998-bc544b57f23b\">  0%</div></td>\n",
        "<td class=\"pb_widget\"> </td>\n",
        "<td class=\"pb_widget_fill\">\n",
        "        <div class=\"pb_bar\" id=\"e1b9e53c-fdff-4bc5-9a0b-7af9d6be09fc\"></div>\n",
        "        <script type=\"text/javascript\">\n",
        "            $(\"div#e1b9e53c-fdff-4bc5-9a0b-7af9d6be09fc\").progressbar({value: 0, max: 100});\n",
        "        </script>\n",
        "        </td>\n",
        "<td class=\"pb_widget\"> </td>\n",
        "<td class=\"pb_widget\"><div id=\"2734278b-a918-48b7-bfaa-c9aecbc36b49\">ETA:  --:--:--</div></td>\n",
        "</tr></table><div>"
       ],
       "metadata": {},
       "output_type": "display_data",
       "text": [
        "<IPython.core.display.HTML at 0x11459a150>"
       ]
      },
      {
       "javascript": [
        "$('div#f656cf83-d3c0-4b94-a998-bc544b57f23b').text('  0%');"
       ],
       "metadata": {},
       "output_type": "display_data",
       "text": [
        "<IPython.core.display.Javascript at 0x120578cd0>"
       ]
      },
      {
       "javascript": [
        "\n",
        "        var $myPB = $(\"div#e1b9e53c-fdff-4bc5-9a0b-7af9d6be09fc\")\n",
        "        if ($myPB.hasClass('ui-progressbar')) {\n",
        "            $myPB.progressbar('value', 0);\n",
        "        } else {\n",
        "            $myPB.progressbar({value: 0, max: 100});\n",
        "        }\n",
        "        "
       ],
       "metadata": {},
       "output_type": "display_data",
       "text": [
        "<IPython.core.display.Javascript at 0x120578ed0>"
       ]
      },
      {
       "javascript": [
        "$('div#2734278b-a918-48b7-bfaa-c9aecbc36b49').text('ETA:  --:--:--');"
       ],
       "metadata": {},
       "output_type": "display_data",
       "text": [
        "<IPython.core.display.Javascript at 0x120578c10>"
       ]
      },
      {
       "javascript": [
        "$('div#f656cf83-d3c0-4b94-a998-bc544b57f23b').text('  3%');"
       ],
       "metadata": {},
       "output_type": "display_data",
       "text": [
        "<IPython.core.display.Javascript at 0x120578b90>"
       ]
      },
      {
       "javascript": [
        "\n",
        "        var $myPB = $(\"div#e1b9e53c-fdff-4bc5-9a0b-7af9d6be09fc\")\n",
        "        if ($myPB.hasClass('ui-progressbar')) {\n",
        "            $myPB.progressbar('value', 3);\n",
        "        } else {\n",
        "            $myPB.progressbar({value: 0, max: 100});\n",
        "        }\n",
        "        "
       ],
       "metadata": {},
       "output_type": "display_data",
       "text": [
        "<IPython.core.display.Javascript at 0x120578c50>"
       ]
      },
      {
       "javascript": [
        "$('div#2734278b-a918-48b7-bfaa-c9aecbc36b49').text('ETA:  0:01:25');"
       ],
       "metadata": {},
       "output_type": "display_data",
       "text": [
        "<IPython.core.display.Javascript at 0x120578250>"
       ]
      },
      {
       "javascript": [
        "$('div#f656cf83-d3c0-4b94-a998-bc544b57f23b').text('  6%');"
       ],
       "metadata": {},
       "output_type": "display_data",
       "text": [
        "<IPython.core.display.Javascript at 0x13531b7d0>"
       ]
      },
      {
       "javascript": [
        "\n",
        "        var $myPB = $(\"div#e1b9e53c-fdff-4bc5-9a0b-7af9d6be09fc\")\n",
        "        if ($myPB.hasClass('ui-progressbar')) {\n",
        "            $myPB.progressbar('value', 6);\n",
        "        } else {\n",
        "            $myPB.progressbar({value: 0, max: 100});\n",
        "        }\n",
        "        "
       ],
       "metadata": {},
       "output_type": "display_data",
       "text": [
        "<IPython.core.display.Javascript at 0x13531b990>"
       ]
      },
      {
       "javascript": [
        "$('div#2734278b-a918-48b7-bfaa-c9aecbc36b49').text('ETA:  0:01:00');"
       ],
       "metadata": {},
       "output_type": "display_data",
       "text": [
        "<IPython.core.display.Javascript at 0x13531b110>"
       ]
      },
      {
       "javascript": [
        "$('div#f656cf83-d3c0-4b94-a998-bc544b57f23b').text('  9%');"
       ],
       "metadata": {},
       "output_type": "display_data",
       "text": [
        "<IPython.core.display.Javascript at 0x13531ba50>"
       ]
      },
      {
       "javascript": [
        "\n",
        "        var $myPB = $(\"div#e1b9e53c-fdff-4bc5-9a0b-7af9d6be09fc\")\n",
        "        if ($myPB.hasClass('ui-progressbar')) {\n",
        "            $myPB.progressbar('value', 9);\n",
        "        } else {\n",
        "            $myPB.progressbar({value: 0, max: 100});\n",
        "        }\n",
        "        "
       ],
       "metadata": {},
       "output_type": "display_data",
       "text": [
        "<IPython.core.display.Javascript at 0x13531b9d0>"
       ]
      },
      {
       "javascript": [
        "$('div#2734278b-a918-48b7-bfaa-c9aecbc36b49').text('ETA:  0:00:51');"
       ],
       "metadata": {},
       "output_type": "display_data",
       "text": [
        "<IPython.core.display.Javascript at 0x13531bc90>"
       ]
      },
      {
       "javascript": [
        "$('div#f656cf83-d3c0-4b94-a998-bc544b57f23b').text('  9%');"
       ],
       "metadata": {},
       "output_type": "display_data",
       "text": [
        "<IPython.core.display.Javascript at 0x13531b850>"
       ]
      },
      {
       "javascript": [
        "\n",
        "        var $myPB = $(\"div#e1b9e53c-fdff-4bc5-9a0b-7af9d6be09fc\")\n",
        "        if ($myPB.hasClass('ui-progressbar')) {\n",
        "            $myPB.progressbar('value', 9);\n",
        "        } else {\n",
        "            $myPB.progressbar({value: 0, max: 100});\n",
        "        }\n",
        "        "
       ],
       "metadata": {},
       "output_type": "display_data",
       "text": [
        "<IPython.core.display.Javascript at 0x13531b4d0>"
       ]
      },
      {
       "javascript": [
        "$('div#2734278b-a918-48b7-bfaa-c9aecbc36b49').text('ETA:  0:01:03');"
       ],
       "metadata": {},
       "output_type": "display_data",
       "text": [
        "<IPython.core.display.Javascript at 0x13531b810>"
       ]
      },
      {
       "javascript": [
        "$('div#f656cf83-d3c0-4b94-a998-bc544b57f23b').text('  9%');"
       ],
       "metadata": {},
       "output_type": "display_data",
       "text": [
        "<IPython.core.display.Javascript at 0x13531bf90>"
       ]
      },
      {
       "javascript": [
        "\n",
        "        var $myPB = $(\"div#e1b9e53c-fdff-4bc5-9a0b-7af9d6be09fc\")\n",
        "        if ($myPB.hasClass('ui-progressbar')) {\n",
        "            $myPB.progressbar('value', 9);\n",
        "        } else {\n",
        "            $myPB.progressbar({value: 0, max: 100});\n",
        "        }\n",
        "        "
       ],
       "metadata": {},
       "output_type": "display_data",
       "text": [
        "<IPython.core.display.Javascript at 0x13531b950>"
       ]
      },
      {
       "javascript": [
        "$('div#2734278b-a918-48b7-bfaa-c9aecbc36b49').text('ETA:  0:01:15');"
       ],
       "metadata": {},
       "output_type": "display_data",
       "text": [
        "<IPython.core.display.Javascript at 0x13531bdd0>"
       ]
      },
      {
       "javascript": [
        "$('div#f656cf83-d3c0-4b94-a998-bc544b57f23b').text(' 12%');"
       ],
       "metadata": {},
       "output_type": "display_data",
       "text": [
        "<IPython.core.display.Javascript at 0x13531b350>"
       ]
      },
      {
       "javascript": [
        "\n",
        "        var $myPB = $(\"div#e1b9e53c-fdff-4bc5-9a0b-7af9d6be09fc\")\n",
        "        if ($myPB.hasClass('ui-progressbar')) {\n",
        "            $myPB.progressbar('value', 12);\n",
        "        } else {\n",
        "            $myPB.progressbar({value: 0, max: 100});\n",
        "        }\n",
        "        "
       ],
       "metadata": {},
       "output_type": "display_data",
       "text": [
        "<IPython.core.display.Javascript at 0x13531bad0>"
       ]
      },
      {
       "javascript": [
        "$('div#2734278b-a918-48b7-bfaa-c9aecbc36b49').text('ETA:  0:01:03');"
       ],
       "metadata": {},
       "output_type": "display_data",
       "text": [
        "<IPython.core.display.Javascript at 0x13531b290>"
       ]
      },
      {
       "javascript": [
        "$('div#f656cf83-d3c0-4b94-a998-bc544b57f23b').text(' 12%');"
       ],
       "metadata": {},
       "output_type": "display_data",
       "text": [
        "<IPython.core.display.Javascript at 0x13531bb50>"
       ]
      },
      {
       "javascript": [
        "\n",
        "        var $myPB = $(\"div#e1b9e53c-fdff-4bc5-9a0b-7af9d6be09fc\")\n",
        "        if ($myPB.hasClass('ui-progressbar')) {\n",
        "            $myPB.progressbar('value', 12);\n",
        "        } else {\n",
        "            $myPB.progressbar({value: 0, max: 100});\n",
        "        }\n",
        "        "
       ],
       "metadata": {},
       "output_type": "display_data",
       "text": [
        "<IPython.core.display.Javascript at 0x13531bfd0>"
       ]
      },
      {
       "javascript": [
        "$('div#2734278b-a918-48b7-bfaa-c9aecbc36b49').text('ETA:  0:01:21');"
       ],
       "metadata": {},
       "output_type": "display_data",
       "text": [
        "<IPython.core.display.Javascript at 0x13531bd90>"
       ]
      },
      {
       "javascript": [
        "$('div#f656cf83-d3c0-4b94-a998-bc544b57f23b').text(' 12%');"
       ],
       "metadata": {},
       "output_type": "display_data",
       "text": [
        "<IPython.core.display.Javascript at 0x13531b8d0>"
       ]
      },
      {
       "javascript": [
        "\n",
        "        var $myPB = $(\"div#e1b9e53c-fdff-4bc5-9a0b-7af9d6be09fc\")\n",
        "        if ($myPB.hasClass('ui-progressbar')) {\n",
        "            $myPB.progressbar('value', 12);\n",
        "        } else {\n",
        "            $myPB.progressbar({value: 0, max: 100});\n",
        "        }\n",
        "        "
       ],
       "metadata": {},
       "output_type": "display_data",
       "text": [
        "<IPython.core.display.Javascript at 0x13531b610>"
       ]
      },
      {
       "javascript": [
        "$('div#2734278b-a918-48b7-bfaa-c9aecbc36b49').text('ETA:  0:01:30');"
       ],
       "metadata": {},
       "output_type": "display_data",
       "text": [
        "<IPython.core.display.Javascript at 0x13531b450>"
       ]
      },
      {
       "javascript": [
        "$('div#f656cf83-d3c0-4b94-a998-bc544b57f23b').text(' 12%');"
       ],
       "metadata": {},
       "output_type": "display_data",
       "text": [
        "<IPython.core.display.Javascript at 0x13531b550>"
       ]
      },
      {
       "javascript": [
        "\n",
        "        var $myPB = $(\"div#e1b9e53c-fdff-4bc5-9a0b-7af9d6be09fc\")\n",
        "        if ($myPB.hasClass('ui-progressbar')) {\n",
        "            $myPB.progressbar('value', 12);\n",
        "        } else {\n",
        "            $myPB.progressbar({value: 0, max: 100});\n",
        "        }\n",
        "        "
       ],
       "metadata": {},
       "output_type": "display_data",
       "text": [
        "<IPython.core.display.Javascript at 0x13531bcd0>"
       ]
      },
      {
       "javascript": [
        "$('div#2734278b-a918-48b7-bfaa-c9aecbc36b49').text('ETA:  0:01:38');"
       ],
       "metadata": {},
       "output_type": "display_data",
       "text": [
        "<IPython.core.display.Javascript at 0x13531b310>"
       ]
      },
      {
       "javascript": [
        "$('div#f656cf83-d3c0-4b94-a998-bc544b57f23b').text(' 12%');"
       ],
       "metadata": {},
       "output_type": "display_data",
       "text": [
        "<IPython.core.display.Javascript at 0x13531bc10>"
       ]
      },
      {
       "javascript": [
        "\n",
        "        var $myPB = $(\"div#e1b9e53c-fdff-4bc5-9a0b-7af9d6be09fc\")\n",
        "        if ($myPB.hasClass('ui-progressbar')) {\n",
        "            $myPB.progressbar('value', 12);\n",
        "        } else {\n",
        "            $myPB.progressbar({value: 0, max: 100});\n",
        "        }\n",
        "        "
       ],
       "metadata": {},
       "output_type": "display_data",
       "text": [
        "<IPython.core.display.Javascript at 0x13531b6d0>"
       ]
      },
      {
       "javascript": [
        "$('div#2734278b-a918-48b7-bfaa-c9aecbc36b49').text('ETA:  0:01:47');"
       ],
       "metadata": {},
       "output_type": "display_data",
       "text": [
        "<IPython.core.display.Javascript at 0x13531b510>"
       ]
      },
      {
       "javascript": [
        "$('div#f656cf83-d3c0-4b94-a998-bc544b57f23b').text(' 15%');"
       ],
       "metadata": {},
       "output_type": "display_data",
       "text": [
        "<IPython.core.display.Javascript at 0x13531b210>"
       ]
      },
      {
       "javascript": [
        "\n",
        "        var $myPB = $(\"div#e1b9e53c-fdff-4bc5-9a0b-7af9d6be09fc\")\n",
        "        if ($myPB.hasClass('ui-progressbar')) {\n",
        "            $myPB.progressbar('value', 15);\n",
        "        } else {\n",
        "            $myPB.progressbar({value: 0, max: 100});\n",
        "        }\n",
        "        "
       ],
       "metadata": {},
       "output_type": "display_data",
       "text": [
        "<IPython.core.display.Javascript at 0x13531bf10>"
       ]
      },
      {
       "javascript": [
        "$('div#2734278b-a918-48b7-bfaa-c9aecbc36b49').text('ETA:  0:01:30');"
       ],
       "metadata": {},
       "output_type": "display_data",
       "text": [
        "<IPython.core.display.Javascript at 0x13531b090>"
       ]
      },
      {
       "javascript": [
        "$('div#f656cf83-d3c0-4b94-a998-bc544b57f23b').text(' 18%');"
       ],
       "metadata": {},
       "output_type": "display_data",
       "text": [
        "<IPython.core.display.Javascript at 0x12b59eb50>"
       ]
      },
      {
       "javascript": [
        "\n",
        "        var $myPB = $(\"div#e1b9e53c-fdff-4bc5-9a0b-7af9d6be09fc\")\n",
        "        if ($myPB.hasClass('ui-progressbar')) {\n",
        "            $myPB.progressbar('value', 18);\n",
        "        } else {\n",
        "            $myPB.progressbar({value: 0, max: 100});\n",
        "        }\n",
        "        "
       ],
       "metadata": {},
       "output_type": "display_data",
       "text": [
        "<IPython.core.display.Javascript at 0x12b59e890>"
       ]
      },
      {
       "javascript": [
        "$('div#2734278b-a918-48b7-bfaa-c9aecbc36b49').text('ETA:  0:01:18');"
       ],
       "metadata": {},
       "output_type": "display_data",
       "text": [
        "<IPython.core.display.Javascript at 0x12b59ee90>"
       ]
      },
      {
       "javascript": [
        "$('div#f656cf83-d3c0-4b94-a998-bc544b57f23b').text(' 18%');"
       ],
       "metadata": {},
       "output_type": "display_data",
       "text": [
        "<IPython.core.display.Javascript at 0x12b59e910>"
       ]
      },
      {
       "javascript": [
        "\n",
        "        var $myPB = $(\"div#e1b9e53c-fdff-4bc5-9a0b-7af9d6be09fc\")\n",
        "        if ($myPB.hasClass('ui-progressbar')) {\n",
        "            $myPB.progressbar('value', 18);\n",
        "        } else {\n",
        "            $myPB.progressbar({value: 0, max: 100});\n",
        "        }\n",
        "        "
       ],
       "metadata": {},
       "output_type": "display_data",
       "text": [
        "<IPython.core.display.Javascript at 0x13531ba90>"
       ]
      },
      {
       "javascript": [
        "$('div#2734278b-a918-48b7-bfaa-c9aecbc36b49').text('ETA:  0:01:23');"
       ],
       "metadata": {},
       "output_type": "display_data",
       "text": [
        "<IPython.core.display.Javascript at 0x13531bd50>"
       ]
      },
      {
       "javascript": [
        "$('div#f656cf83-d3c0-4b94-a998-bc544b57f23b').text(' 21%');"
       ],
       "metadata": {},
       "output_type": "display_data",
       "text": [
        "<IPython.core.display.Javascript at 0x13531b210>"
       ]
      },
      {
       "javascript": [
        "\n",
        "        var $myPB = $(\"div#e1b9e53c-fdff-4bc5-9a0b-7af9d6be09fc\")\n",
        "        if ($myPB.hasClass('ui-progressbar')) {\n",
        "            $myPB.progressbar('value', 21);\n",
        "        } else {\n",
        "            $myPB.progressbar({value: 0, max: 100});\n",
        "        }\n",
        "        "
       ],
       "metadata": {},
       "output_type": "display_data",
       "text": [
        "<IPython.core.display.Javascript at 0x13531b150>"
       ]
      },
      {
       "javascript": [
        "$('div#2734278b-a918-48b7-bfaa-c9aecbc36b49').text('ETA:  0:01:13');"
       ],
       "metadata": {},
       "output_type": "display_data",
       "text": [
        "<IPython.core.display.Javascript at 0x13531b510>"
       ]
      },
      {
       "javascript": [
        "$('div#f656cf83-d3c0-4b94-a998-bc544b57f23b').text(' 21%');"
       ],
       "metadata": {},
       "output_type": "display_data",
       "text": [
        "<IPython.core.display.Javascript at 0x13531bed0>"
       ]
      },
      {
       "javascript": [
        "\n",
        "        var $myPB = $(\"div#e1b9e53c-fdff-4bc5-9a0b-7af9d6be09fc\")\n",
        "        if ($myPB.hasClass('ui-progressbar')) {\n",
        "            $myPB.progressbar('value', 21);\n",
        "        } else {\n",
        "            $myPB.progressbar({value: 0, max: 100});\n",
        "        }\n",
        "        "
       ],
       "metadata": {},
       "output_type": "display_data",
       "text": [
        "<IPython.core.display.Javascript at 0x13531bc10>"
       ]
      },
      {
       "javascript": [
        "$('div#2734278b-a918-48b7-bfaa-c9aecbc36b49').text('ETA:  0:01:18');"
       ],
       "metadata": {},
       "output_type": "display_data",
       "text": [
        "<IPython.core.display.Javascript at 0x13531b310>"
       ]
      },
      {
       "javascript": [
        "$('div#f656cf83-d3c0-4b94-a998-bc544b57f23b').text(' 21%');"
       ],
       "metadata": {},
       "output_type": "display_data",
       "text": [
        "<IPython.core.display.Javascript at 0x13531b1d0>"
       ]
      },
      {
       "javascript": [
        "\n",
        "        var $myPB = $(\"div#e1b9e53c-fdff-4bc5-9a0b-7af9d6be09fc\")\n",
        "        if ($myPB.hasClass('ui-progressbar')) {\n",
        "            $myPB.progressbar('value', 21);\n",
        "        } else {\n",
        "            $myPB.progressbar({value: 0, max: 100});\n",
        "        }\n",
        "        "
       ],
       "metadata": {},
       "output_type": "display_data",
       "text": [
        "<IPython.core.display.Javascript at 0x13531b550>"
       ]
      },
      {
       "javascript": [
        "$('div#2734278b-a918-48b7-bfaa-c9aecbc36b49').text('ETA:  0:01:22');"
       ],
       "metadata": {},
       "output_type": "display_data",
       "text": [
        "<IPython.core.display.Javascript at 0x13531b450>"
       ]
      },
      {
       "javascript": [
        "$('div#f656cf83-d3c0-4b94-a998-bc544b57f23b').text(' 21%');"
       ],
       "metadata": {},
       "output_type": "display_data",
       "text": [
        "<IPython.core.display.Javascript at 0x13531b250>"
       ]
      },
      {
       "javascript": [
        "\n",
        "        var $myPB = $(\"div#e1b9e53c-fdff-4bc5-9a0b-7af9d6be09fc\")\n",
        "        if ($myPB.hasClass('ui-progressbar')) {\n",
        "            $myPB.progressbar('value', 21);\n",
        "        } else {\n",
        "            $myPB.progressbar({value: 0, max: 100});\n",
        "        }\n",
        "        "
       ],
       "metadata": {},
       "output_type": "display_data",
       "text": [
        "<IPython.core.display.Javascript at 0x13531b8d0>"
       ]
      },
      {
       "javascript": [
        "$('div#2734278b-a918-48b7-bfaa-c9aecbc36b49').text('ETA:  0:01:27');"
       ],
       "metadata": {},
       "output_type": "display_data",
       "text": [
        "<IPython.core.display.Javascript at 0x13531bd90>"
       ]
      },
      {
       "javascript": [
        "$('div#f656cf83-d3c0-4b94-a998-bc544b57f23b').text(' 21%');"
       ],
       "metadata": {},
       "output_type": "display_data",
       "text": [
        "<IPython.core.display.Javascript at 0x13531be90>"
       ]
      },
      {
       "javascript": [
        "\n",
        "        var $myPB = $(\"div#e1b9e53c-fdff-4bc5-9a0b-7af9d6be09fc\")\n",
        "        if ($myPB.hasClass('ui-progressbar')) {\n",
        "            $myPB.progressbar('value', 21);\n",
        "        } else {\n",
        "            $myPB.progressbar({value: 0, max: 100});\n",
        "        }\n",
        "        "
       ],
       "metadata": {},
       "output_type": "display_data",
       "text": [
        "<IPython.core.display.Javascript at 0x13531bb50>"
       ]
      },
      {
       "javascript": [
        "$('div#2734278b-a918-48b7-bfaa-c9aecbc36b49').text('ETA:  0:01:32');"
       ],
       "metadata": {},
       "output_type": "display_data",
       "text": [
        "<IPython.core.display.Javascript at 0x13531b290>"
       ]
      },
      {
       "javascript": [
        "$('div#f656cf83-d3c0-4b94-a998-bc544b57f23b').text(' 21%');"
       ],
       "metadata": {},
       "output_type": "display_data",
       "text": [
        "<IPython.core.display.Javascript at 0x13531b2d0>"
       ]
      },
      {
       "javascript": [
        "\n",
        "        var $myPB = $(\"div#e1b9e53c-fdff-4bc5-9a0b-7af9d6be09fc\")\n",
        "        if ($myPB.hasClass('ui-progressbar')) {\n",
        "            $myPB.progressbar('value', 21);\n",
        "        } else {\n",
        "            $myPB.progressbar({value: 0, max: 100});\n",
        "        }\n",
        "        "
       ],
       "metadata": {},
       "output_type": "display_data",
       "text": [
        "<IPython.core.display.Javascript at 0x13531b350>"
       ]
      },
      {
       "javascript": [
        "$('div#2734278b-a918-48b7-bfaa-c9aecbc36b49').text('ETA:  0:01:36');"
       ],
       "metadata": {},
       "output_type": "display_data",
       "text": [
        "<IPython.core.display.Javascript at 0x13531bdd0>"
       ]
      },
      {
       "javascript": [
        "$('div#f656cf83-d3c0-4b94-a998-bc544b57f23b').text(' 21%');"
       ],
       "metadata": {},
       "output_type": "display_data",
       "text": [
        "<IPython.core.display.Javascript at 0x13531bbd0>"
       ]
      },
      {
       "javascript": [
        "\n",
        "        var $myPB = $(\"div#e1b9e53c-fdff-4bc5-9a0b-7af9d6be09fc\")\n",
        "        if ($myPB.hasClass('ui-progressbar')) {\n",
        "            $myPB.progressbar('value', 21);\n",
        "        } else {\n",
        "            $myPB.progressbar({value: 0, max: 100});\n",
        "        }\n",
        "        "
       ],
       "metadata": {},
       "output_type": "display_data",
       "text": [
        "<IPython.core.display.Javascript at 0x13531bf90>"
       ]
      },
      {
       "javascript": [
        "$('div#2734278b-a918-48b7-bfaa-c9aecbc36b49').text('ETA:  0:01:41');"
       ],
       "metadata": {},
       "output_type": "display_data",
       "text": [
        "<IPython.core.display.Javascript at 0x13531b810>"
       ]
      },
      {
       "javascript": [
        "$('div#f656cf83-d3c0-4b94-a998-bc544b57f23b').text(' 21%');"
       ],
       "metadata": {},
       "output_type": "display_data",
       "text": [
        "<IPython.core.display.Javascript at 0x13531bc50>"
       ]
      },
      {
       "javascript": [
        "\n",
        "        var $myPB = $(\"div#e1b9e53c-fdff-4bc5-9a0b-7af9d6be09fc\")\n",
        "        if ($myPB.hasClass('ui-progressbar')) {\n",
        "            $myPB.progressbar('value', 21);\n",
        "        } else {\n",
        "            $myPB.progressbar({value: 0, max: 100});\n",
        "        }\n",
        "        "
       ],
       "metadata": {},
       "output_type": "display_data",
       "text": [
        "<IPython.core.display.Javascript at 0x13531b850>"
       ]
      },
      {
       "javascript": [
        "$('div#2734278b-a918-48b7-bfaa-c9aecbc36b49').text('ETA:  0:01:45');"
       ],
       "metadata": {},
       "output_type": "display_data",
       "text": [
        "<IPython.core.display.Javascript at 0x13531bc90>"
       ]
      },
      {
       "javascript": [
        "$('div#f656cf83-d3c0-4b94-a998-bc544b57f23b').text(' 21%');"
       ],
       "metadata": {},
       "output_type": "display_data",
       "text": [
        "<IPython.core.display.Javascript at 0x13531b3d0>"
       ]
      },
      {
       "javascript": [
        "\n",
        "        var $myPB = $(\"div#e1b9e53c-fdff-4bc5-9a0b-7af9d6be09fc\")\n",
        "        if ($myPB.hasClass('ui-progressbar')) {\n",
        "            $myPB.progressbar('value', 21);\n",
        "        } else {\n",
        "            $myPB.progressbar({value: 0, max: 100});\n",
        "        }\n",
        "        "
       ],
       "metadata": {},
       "output_type": "display_data",
       "text": [
        "<IPython.core.display.Javascript at 0x13531ba50>"
       ]
      },
      {
       "javascript": [
        "$('div#2734278b-a918-48b7-bfaa-c9aecbc36b49').text('ETA:  0:01:50');"
       ],
       "metadata": {},
       "output_type": "display_data",
       "text": [
        "<IPython.core.display.Javascript at 0x13531b110>"
       ]
      },
      {
       "javascript": [
        "$('div#f656cf83-d3c0-4b94-a998-bc544b57f23b').text(' 21%');"
       ],
       "metadata": {},
       "output_type": "display_data",
       "text": [
        "<IPython.core.display.Javascript at 0x13531b410>"
       ]
      },
      {
       "javascript": [
        "\n",
        "        var $myPB = $(\"div#e1b9e53c-fdff-4bc5-9a0b-7af9d6be09fc\")\n",
        "        if ($myPB.hasClass('ui-progressbar')) {\n",
        "            $myPB.progressbar('value', 21);\n",
        "        } else {\n",
        "            $myPB.progressbar({value: 0, max: 100});\n",
        "        }\n",
        "        "
       ],
       "metadata": {},
       "output_type": "display_data",
       "text": [
        "<IPython.core.display.Javascript at 0x13531b7d0>"
       ]
      },
      {
       "javascript": [
        "$('div#2734278b-a918-48b7-bfaa-c9aecbc36b49').text('ETA:  0:01:54');"
       ],
       "metadata": {},
       "output_type": "display_data",
       "text": [
        "<IPython.core.display.Javascript at 0x11459a150>"
       ]
      },
      {
       "javascript": [
        "$('div#f656cf83-d3c0-4b94-a998-bc544b57f23b').text(' 21%');"
       ],
       "metadata": {},
       "output_type": "display_data",
       "text": [
        "<IPython.core.display.Javascript at 0x120578b90>"
       ]
      },
      {
       "javascript": [
        "\n",
        "        var $myPB = $(\"div#e1b9e53c-fdff-4bc5-9a0b-7af9d6be09fc\")\n",
        "        if ($myPB.hasClass('ui-progressbar')) {\n",
        "            $myPB.progressbar('value', 21);\n",
        "        } else {\n",
        "            $myPB.progressbar({value: 0, max: 100});\n",
        "        }\n",
        "        "
       ],
       "metadata": {},
       "output_type": "display_data",
       "text": [
        "<IPython.core.display.Javascript at 0x1205782d0>"
       ]
      },
      {
       "javascript": [
        "$('div#2734278b-a918-48b7-bfaa-c9aecbc36b49').text('ETA:  0:01:59');"
       ],
       "metadata": {},
       "output_type": "display_data",
       "text": [
        "<IPython.core.display.Javascript at 0x120578e50>"
       ]
      },
      {
       "javascript": [
        "$('div#f656cf83-d3c0-4b94-a998-bc544b57f23b').text(' 21%');"
       ],
       "metadata": {},
       "output_type": "display_data",
       "text": [
        "<IPython.core.display.Javascript at 0x120578cd0>"
       ]
      },
      {
       "javascript": [
        "\n",
        "        var $myPB = $(\"div#e1b9e53c-fdff-4bc5-9a0b-7af9d6be09fc\")\n",
        "        if ($myPB.hasClass('ui-progressbar')) {\n",
        "            $myPB.progressbar('value', 21);\n",
        "        } else {\n",
        "            $myPB.progressbar({value: 0, max: 100});\n",
        "        }\n",
        "        "
       ],
       "metadata": {},
       "output_type": "display_data",
       "text": [
        "<IPython.core.display.Javascript at 0x1205784d0>"
       ]
      },
      {
       "javascript": [
        "$('div#2734278b-a918-48b7-bfaa-c9aecbc36b49').text('ETA:  0:02:04');"
       ],
       "metadata": {},
       "output_type": "display_data",
       "text": [
        "<IPython.core.display.Javascript at 0x120578850>"
       ]
      },
      {
       "javascript": [
        "$('div#f656cf83-d3c0-4b94-a998-bc544b57f23b').text(' 21%');"
       ],
       "metadata": {},
       "output_type": "display_data",
       "text": [
        "<IPython.core.display.Javascript at 0x120578290>"
       ]
      },
      {
       "javascript": [
        "\n",
        "        var $myPB = $(\"div#e1b9e53c-fdff-4bc5-9a0b-7af9d6be09fc\")\n",
        "        if ($myPB.hasClass('ui-progressbar')) {\n",
        "            $myPB.progressbar('value', 21);\n",
        "        } else {\n",
        "            $myPB.progressbar({value: 0, max: 100});\n",
        "        }\n",
        "        "
       ],
       "metadata": {},
       "output_type": "display_data",
       "text": [
        "<IPython.core.display.Javascript at 0x120578e90>"
       ]
      },
      {
       "javascript": [
        "$('div#2734278b-a918-48b7-bfaa-c9aecbc36b49').text('ETA:  0:02:08');"
       ],
       "metadata": {},
       "output_type": "display_data",
       "text": [
        "<IPython.core.display.Javascript at 0x120578050>"
       ]
      },
      {
       "javascript": [
        "$('div#f656cf83-d3c0-4b94-a998-bc544b57f23b').text(' 21%');"
       ],
       "metadata": {},
       "output_type": "display_data",
       "text": [
        "<IPython.core.display.Javascript at 0x12b59e190>"
       ]
      },
      {
       "javascript": [
        "\n",
        "        var $myPB = $(\"div#e1b9e53c-fdff-4bc5-9a0b-7af9d6be09fc\")\n",
        "        if ($myPB.hasClass('ui-progressbar')) {\n",
        "            $myPB.progressbar('value', 21);\n",
        "        } else {\n",
        "            $myPB.progressbar({value: 0, max: 100});\n",
        "        }\n",
        "        "
       ],
       "metadata": {},
       "output_type": "display_data",
       "text": [
        "<IPython.core.display.Javascript at 0x12b59e910>"
       ]
      },
      {
       "javascript": [
        "$('div#2734278b-a918-48b7-bfaa-c9aecbc36b49').text('ETA:  0:02:13');"
       ],
       "metadata": {},
       "output_type": "display_data",
       "text": [
        "<IPython.core.display.Javascript at 0x12b59e150>"
       ]
      },
      {
       "javascript": [
        "$('div#f656cf83-d3c0-4b94-a998-bc544b57f23b').text(' 21%');"
       ],
       "metadata": {},
       "output_type": "display_data",
       "text": [
        "<IPython.core.display.Javascript at 0x12b59e250>"
       ]
      },
      {
       "javascript": [
        "\n",
        "        var $myPB = $(\"div#e1b9e53c-fdff-4bc5-9a0b-7af9d6be09fc\")\n",
        "        if ($myPB.hasClass('ui-progressbar')) {\n",
        "            $myPB.progressbar('value', 21);\n",
        "        } else {\n",
        "            $myPB.progressbar({value: 0, max: 100});\n",
        "        }\n",
        "        "
       ],
       "metadata": {},
       "output_type": "display_data",
       "text": [
        "<IPython.core.display.Javascript at 0x12b59e290>"
       ]
      },
      {
       "javascript": [
        "$('div#2734278b-a918-48b7-bfaa-c9aecbc36b49').text('ETA:  0:02:17');"
       ],
       "metadata": {},
       "output_type": "display_data",
       "text": [
        "<IPython.core.display.Javascript at 0x12b59ef50>"
       ]
      },
      {
       "javascript": [
        "$('div#f656cf83-d3c0-4b94-a998-bc544b57f23b').text(' 21%');"
       ],
       "metadata": {},
       "output_type": "display_data",
       "text": [
        "<IPython.core.display.Javascript at 0x12b59e890>"
       ]
      },
      {
       "javascript": [
        "\n",
        "        var $myPB = $(\"div#e1b9e53c-fdff-4bc5-9a0b-7af9d6be09fc\")\n",
        "        if ($myPB.hasClass('ui-progressbar')) {\n",
        "            $myPB.progressbar('value', 21);\n",
        "        } else {\n",
        "            $myPB.progressbar({value: 0, max: 100});\n",
        "        }\n",
        "        "
       ],
       "metadata": {},
       "output_type": "display_data",
       "text": [
        "<IPython.core.display.Javascript at 0x12b59e1d0>"
       ]
      },
      {
       "javascript": [
        "$('div#2734278b-a918-48b7-bfaa-c9aecbc36b49').text('ETA:  0:02:22');"
       ],
       "metadata": {},
       "output_type": "display_data",
       "text": [
        "<IPython.core.display.Javascript at 0x12b59eb50>"
       ]
      },
      {
       "javascript": [
        "$('div#f656cf83-d3c0-4b94-a998-bc544b57f23b').text(' 21%');"
       ],
       "metadata": {},
       "output_type": "display_data",
       "text": [
        "<IPython.core.display.Javascript at 0x12b59e650>"
       ]
      },
      {
       "javascript": [
        "\n",
        "        var $myPB = $(\"div#e1b9e53c-fdff-4bc5-9a0b-7af9d6be09fc\")\n",
        "        if ($myPB.hasClass('ui-progressbar')) {\n",
        "            $myPB.progressbar('value', 21);\n",
        "        } else {\n",
        "            $myPB.progressbar({value: 0, max: 100});\n",
        "        }\n",
        "        "
       ],
       "metadata": {},
       "output_type": "display_data",
       "text": [
        "<IPython.core.display.Javascript at 0x12b59e990>"
       ]
      },
      {
       "javascript": [
        "$('div#2734278b-a918-48b7-bfaa-c9aecbc36b49').text('ETA:  0:02:26');"
       ],
       "metadata": {},
       "output_type": "display_data",
       "text": [
        "<IPython.core.display.Javascript at 0x12b59e810>"
       ]
      },
      {
       "javascript": [
        "$('div#f656cf83-d3c0-4b94-a998-bc544b57f23b').text(' 21%');"
       ],
       "metadata": {},
       "output_type": "display_data",
       "text": [
        "<IPython.core.display.Javascript at 0x12b59e850>"
       ]
      },
      {
       "javascript": [
        "\n",
        "        var $myPB = $(\"div#e1b9e53c-fdff-4bc5-9a0b-7af9d6be09fc\")\n",
        "        if ($myPB.hasClass('ui-progressbar')) {\n",
        "            $myPB.progressbar('value', 21);\n",
        "        } else {\n",
        "            $myPB.progressbar({value: 0, max: 100});\n",
        "        }\n",
        "        "
       ],
       "metadata": {},
       "output_type": "display_data",
       "text": [
        "<IPython.core.display.Javascript at 0x12b59ead0>"
       ]
      },
      {
       "javascript": [
        "$('div#2734278b-a918-48b7-bfaa-c9aecbc36b49').text('ETA:  0:02:31');"
       ],
       "metadata": {},
       "output_type": "display_data",
       "text": [
        "<IPython.core.display.Javascript at 0x12b59e2d0>"
       ]
      },
      {
       "javascript": [
        "$('div#f656cf83-d3c0-4b94-a998-bc544b57f23b').text(' 21%');"
       ],
       "metadata": {},
       "output_type": "display_data",
       "text": [
        "<IPython.core.display.Javascript at 0x12b59ea90>"
       ]
      },
      {
       "javascript": [
        "\n",
        "        var $myPB = $(\"div#e1b9e53c-fdff-4bc5-9a0b-7af9d6be09fc\")\n",
        "        if ($myPB.hasClass('ui-progressbar')) {\n",
        "            $myPB.progressbar('value', 21);\n",
        "        } else {\n",
        "            $myPB.progressbar({value: 0, max: 100});\n",
        "        }\n",
        "        "
       ],
       "metadata": {},
       "output_type": "display_data",
       "text": [
        "<IPython.core.display.Javascript at 0x12b59ebd0>"
       ]
      },
      {
       "javascript": [
        "$('div#2734278b-a918-48b7-bfaa-c9aecbc36b49').text('ETA:  0:02:36');"
       ],
       "metadata": {},
       "output_type": "display_data",
       "text": [
        "<IPython.core.display.Javascript at 0x12b59edd0>"
       ]
      },
      {
       "javascript": [
        "$('div#f656cf83-d3c0-4b94-a998-bc544b57f23b').text(' 21%');"
       ],
       "metadata": {},
       "output_type": "display_data",
       "text": [
        "<IPython.core.display.Javascript at 0x12b59ed90>"
       ]
      },
      {
       "javascript": [
        "\n",
        "        var $myPB = $(\"div#e1b9e53c-fdff-4bc5-9a0b-7af9d6be09fc\")\n",
        "        if ($myPB.hasClass('ui-progressbar')) {\n",
        "            $myPB.progressbar('value', 21);\n",
        "        } else {\n",
        "            $myPB.progressbar({value: 0, max: 100});\n",
        "        }\n",
        "        "
       ],
       "metadata": {},
       "output_type": "display_data",
       "text": [
        "<IPython.core.display.Javascript at 0x12b59e090>"
       ]
      },
      {
       "javascript": [
        "$('div#2734278b-a918-48b7-bfaa-c9aecbc36b49').text('ETA:  0:02:40');"
       ],
       "metadata": {},
       "output_type": "display_data",
       "text": [
        "<IPython.core.display.Javascript at 0x12b59e310>"
       ]
      },
      {
       "javascript": [
        "$('div#f656cf83-d3c0-4b94-a998-bc544b57f23b').text(' 21%');"
       ],
       "metadata": {},
       "output_type": "display_data",
       "text": [
        "<IPython.core.display.Javascript at 0x12b59e490>"
       ]
      },
      {
       "javascript": [
        "\n",
        "        var $myPB = $(\"div#e1b9e53c-fdff-4bc5-9a0b-7af9d6be09fc\")\n",
        "        if ($myPB.hasClass('ui-progressbar')) {\n",
        "            $myPB.progressbar('value', 21);\n",
        "        } else {\n",
        "            $myPB.progressbar({value: 0, max: 100});\n",
        "        }\n",
        "        "
       ],
       "metadata": {},
       "output_type": "display_data",
       "text": [
        "<IPython.core.display.Javascript at 0x111dddd90>"
       ]
      },
      {
       "javascript": [
        "$('div#2734278b-a918-48b7-bfaa-c9aecbc36b49').text('ETA:  0:02:45');"
       ],
       "metadata": {},
       "output_type": "display_data",
       "text": [
        "<IPython.core.display.Javascript at 0x120578d50>"
       ]
      },
      {
       "javascript": [
        "$('div#f656cf83-d3c0-4b94-a998-bc544b57f23b').text(' 24%');"
       ],
       "metadata": {},
       "output_type": "display_data",
       "text": [
        "<IPython.core.display.Javascript at 0x120578050>"
       ]
      },
      {
       "javascript": [
        "\n",
        "        var $myPB = $(\"div#e1b9e53c-fdff-4bc5-9a0b-7af9d6be09fc\")\n",
        "        if ($myPB.hasClass('ui-progressbar')) {\n",
        "            $myPB.progressbar('value', 24);\n",
        "        } else {\n",
        "            $myPB.progressbar({value: 0, max: 100});\n",
        "        }\n",
        "        "
       ],
       "metadata": {},
       "output_type": "display_data",
       "text": [
        "<IPython.core.display.Javascript at 0x1205789d0>"
       ]
      },
      {
       "javascript": [
        "$('div#2734278b-a918-48b7-bfaa-c9aecbc36b49').text('ETA:  0:02:22');"
       ],
       "metadata": {},
       "output_type": "display_data",
       "text": [
        "<IPython.core.display.Javascript at 0x120578350>"
       ]
      },
      {
       "javascript": [
        "$('div#f656cf83-d3c0-4b94-a998-bc544b57f23b').text(' 27%');"
       ],
       "metadata": {},
       "output_type": "display_data",
       "text": [
        "<IPython.core.display.Javascript at 0x120578ed0>"
       ]
      },
      {
       "javascript": [
        "\n",
        "        var $myPB = $(\"div#e1b9e53c-fdff-4bc5-9a0b-7af9d6be09fc\")\n",
        "        if ($myPB.hasClass('ui-progressbar')) {\n",
        "            $myPB.progressbar('value', 27);\n",
        "        } else {\n",
        "            $myPB.progressbar({value: 0, max: 100});\n",
        "        }\n",
        "        "
       ],
       "metadata": {},
       "output_type": "display_data",
       "text": [
        "<IPython.core.display.Javascript at 0x120578850>"
       ]
      },
      {
       "javascript": [
        "$('div#2734278b-a918-48b7-bfaa-c9aecbc36b49').text('ETA:  0:02:05');"
       ],
       "metadata": {},
       "output_type": "display_data",
       "text": [
        "<IPython.core.display.Javascript at 0x1205787d0>"
       ]
      },
      {
       "javascript": [
        "$('div#f656cf83-d3c0-4b94-a998-bc544b57f23b').text(' 27%');"
       ],
       "metadata": {},
       "output_type": "display_data",
       "text": [
        "<IPython.core.display.Javascript at 0x120578c50>"
       ]
      },
      {
       "javascript": [
        "\n",
        "        var $myPB = $(\"div#e1b9e53c-fdff-4bc5-9a0b-7af9d6be09fc\")\n",
        "        if ($myPB.hasClass('ui-progressbar')) {\n",
        "            $myPB.progressbar('value', 27);\n",
        "        } else {\n",
        "            $myPB.progressbar({value: 0, max: 100});\n",
        "        }\n",
        "        "
       ],
       "metadata": {},
       "output_type": "display_data",
       "text": [
        "<IPython.core.display.Javascript at 0x120578e50>"
       ]
      },
      {
       "javascript": [
        "$('div#2734278b-a918-48b7-bfaa-c9aecbc36b49').text('ETA:  0:02:08');"
       ],
       "metadata": {},
       "output_type": "display_data",
       "text": [
        "<IPython.core.display.Javascript at 0x120578250>"
       ]
      },
      {
       "javascript": [
        "$('div#f656cf83-d3c0-4b94-a998-bc544b57f23b').text(' 30%');"
       ],
       "metadata": {},
       "output_type": "display_data",
       "text": [
        "<IPython.core.display.Javascript at 0x13531b0d0>"
       ]
      },
      {
       "javascript": [
        "\n",
        "        var $myPB = $(\"div#e1b9e53c-fdff-4bc5-9a0b-7af9d6be09fc\")\n",
        "        if ($myPB.hasClass('ui-progressbar')) {\n",
        "            $myPB.progressbar('value', 30);\n",
        "        } else {\n",
        "            $myPB.progressbar({value: 0, max: 100});\n",
        "        }\n",
        "        "
       ],
       "metadata": {},
       "output_type": "display_data",
       "text": [
        "<IPython.core.display.Javascript at 0x13531b090>"
       ]
      },
      {
       "javascript": [
        "$('div#2734278b-a918-48b7-bfaa-c9aecbc36b49').text('ETA:  0:01:53');"
       ],
       "metadata": {},
       "output_type": "display_data",
       "text": [
        "<IPython.core.display.Javascript at 0x13531b990>"
       ]
      },
      {
       "javascript": [
        "$('div#f656cf83-d3c0-4b94-a998-bc544b57f23b').text(' 34%');"
       ],
       "metadata": {},
       "output_type": "display_data",
       "text": [
        "<IPython.core.display.Javascript at 0x13531be10>"
       ]
      },
      {
       "javascript": [
        "\n",
        "        var $myPB = $(\"div#e1b9e53c-fdff-4bc5-9a0b-7af9d6be09fc\")\n",
        "        if ($myPB.hasClass('ui-progressbar')) {\n",
        "            $myPB.progressbar('value', 34);\n",
        "        } else {\n",
        "            $myPB.progressbar({value: 0, max: 100});\n",
        "        }\n",
        "        "
       ],
       "metadata": {},
       "output_type": "display_data",
       "text": [
        "<IPython.core.display.Javascript at 0x13531b110>"
       ]
      },
      {
       "javascript": [
        "$('div#2734278b-a918-48b7-bfaa-c9aecbc36b49').text('ETA:  0:01:37');"
       ],
       "metadata": {},
       "output_type": "display_data",
       "text": [
        "<IPython.core.display.Javascript at 0x13531b9d0>"
       ]
      },
      {
       "javascript": [
        "$('div#f656cf83-d3c0-4b94-a998-bc544b57f23b').text(' 37%');"
       ],
       "metadata": {},
       "output_type": "display_data",
       "text": [
        "<IPython.core.display.Javascript at 0x13531b750>"
       ]
      },
      {
       "javascript": [
        "\n",
        "        var $myPB = $(\"div#e1b9e53c-fdff-4bc5-9a0b-7af9d6be09fc\")\n",
        "        if ($myPB.hasClass('ui-progressbar')) {\n",
        "            $myPB.progressbar('value', 37);\n",
        "        } else {\n",
        "            $myPB.progressbar({value: 0, max: 100});\n",
        "        }\n",
        "        "
       ],
       "metadata": {},
       "output_type": "display_data",
       "text": [
        "<IPython.core.display.Javascript at 0x13531bc90>"
       ]
      },
      {
       "javascript": [
        "$('div#2734278b-a918-48b7-bfaa-c9aecbc36b49').text('ETA:  0:01:27');"
       ],
       "metadata": {},
       "output_type": "display_data",
       "text": [
        "<IPython.core.display.Javascript at 0x13531b4d0>"
       ]
      },
      {
       "javascript": [
        "$('div#f656cf83-d3c0-4b94-a998-bc544b57f23b').text(' 37%');"
       ],
       "metadata": {},
       "output_type": "display_data",
       "text": [
        "<IPython.core.display.Javascript at 0x13531b890>"
       ]
      },
      {
       "javascript": [
        "\n",
        "        var $myPB = $(\"div#e1b9e53c-fdff-4bc5-9a0b-7af9d6be09fc\")\n",
        "        if ($myPB.hasClass('ui-progressbar')) {\n",
        "            $myPB.progressbar('value', 37);\n",
        "        } else {\n",
        "            $myPB.progressbar({value: 0, max: 100});\n",
        "        }\n",
        "        "
       ],
       "metadata": {},
       "output_type": "display_data",
       "text": [
        "<IPython.core.display.Javascript at 0x13531b810>"
       ]
      },
      {
       "javascript": [
        "$('div#2734278b-a918-48b7-bfaa-c9aecbc36b49').text('ETA:  0:01:29');"
       ],
       "metadata": {},
       "output_type": "display_data",
       "text": [
        "<IPython.core.display.Javascript at 0x13531b950>"
       ]
      },
      {
       "javascript": [
        "$('div#f656cf83-d3c0-4b94-a998-bc544b57f23b').text(' 37%');"
       ],
       "metadata": {},
       "output_type": "display_data",
       "text": [
        "<IPython.core.display.Javascript at 0x13531b790>"
       ]
      },
      {
       "javascript": [
        "\n",
        "        var $myPB = $(\"div#e1b9e53c-fdff-4bc5-9a0b-7af9d6be09fc\")\n",
        "        if ($myPB.hasClass('ui-progressbar')) {\n",
        "            $myPB.progressbar('value', 37);\n",
        "        } else {\n",
        "            $myPB.progressbar({value: 0, max: 100});\n",
        "        }\n",
        "        "
       ],
       "metadata": {},
       "output_type": "display_data",
       "text": [
        "<IPython.core.display.Javascript at 0x13531bdd0>"
       ]
      },
      {
       "javascript": [
        "$('div#2734278b-a918-48b7-bfaa-c9aecbc36b49').text('ETA:  0:01:31');"
       ],
       "metadata": {},
       "output_type": "display_data",
       "text": [
        "<IPython.core.display.Javascript at 0x13531bad0>"
       ]
      },
      {
       "javascript": [
        "$('div#f656cf83-d3c0-4b94-a998-bc544b57f23b').text(' 37%');"
       ],
       "metadata": {},
       "output_type": "display_data",
       "text": [
        "<IPython.core.display.Javascript at 0x13531bd10>"
       ]
      },
      {
       "javascript": [
        "\n",
        "        var $myPB = $(\"div#e1b9e53c-fdff-4bc5-9a0b-7af9d6be09fc\")\n",
        "        if ($myPB.hasClass('ui-progressbar')) {\n",
        "            $myPB.progressbar('value', 37);\n",
        "        } else {\n",
        "            $myPB.progressbar({value: 0, max: 100});\n",
        "        }\n",
        "        "
       ],
       "metadata": {},
       "output_type": "display_data",
       "text": [
        "<IPython.core.display.Javascript at 0x13531b290>"
       ]
      },
      {
       "javascript": [
        "$('div#2734278b-a918-48b7-bfaa-c9aecbc36b49').text('ETA:  0:01:33');"
       ],
       "metadata": {},
       "output_type": "display_data",
       "text": [
        "<IPython.core.display.Javascript at 0x13531bfd0>"
       ]
      },
      {
       "javascript": [
        "$('div#f656cf83-d3c0-4b94-a998-bc544b57f23b').text(' 37%');"
       ],
       "metadata": {},
       "output_type": "display_data",
       "text": [
        "<IPython.core.display.Javascript at 0x13531b490>"
       ]
      },
      {
       "javascript": [
        "\n",
        "        var $myPB = $(\"div#e1b9e53c-fdff-4bc5-9a0b-7af9d6be09fc\")\n",
        "        if ($myPB.hasClass('ui-progressbar')) {\n",
        "            $myPB.progressbar('value', 37);\n",
        "        } else {\n",
        "            $myPB.progressbar({value: 0, max: 100});\n",
        "        }\n",
        "        "
       ],
       "metadata": {},
       "output_type": "display_data",
       "text": [
        "<IPython.core.display.Javascript at 0x13531bd90>"
       ]
      },
      {
       "javascript": [
        "$('div#2734278b-a918-48b7-bfaa-c9aecbc36b49').text('ETA:  0:01:35');"
       ],
       "metadata": {},
       "output_type": "display_data",
       "text": [
        "<IPython.core.display.Javascript at 0x13531b610>"
       ]
      },
      {
       "javascript": [
        "$('div#f656cf83-d3c0-4b94-a998-bc544b57f23b').text(' 37%');"
       ],
       "metadata": {},
       "output_type": "display_data",
       "text": [
        "<IPython.core.display.Javascript at 0x13531ba10>"
       ]
      },
      {
       "javascript": [
        "\n",
        "        var $myPB = $(\"div#e1b9e53c-fdff-4bc5-9a0b-7af9d6be09fc\")\n",
        "        if ($myPB.hasClass('ui-progressbar')) {\n",
        "            $myPB.progressbar('value', 37);\n",
        "        } else {\n",
        "            $myPB.progressbar({value: 0, max: 100});\n",
        "        }\n",
        "        "
       ],
       "metadata": {},
       "output_type": "display_data",
       "text": [
        "<IPython.core.display.Javascript at 0x13531b450>"
       ]
      },
      {
       "javascript": [
        "$('div#2734278b-a918-48b7-bfaa-c9aecbc36b49').text('ETA:  0:01:37');"
       ],
       "metadata": {},
       "output_type": "display_data",
       "text": [
        "<IPython.core.display.Javascript at 0x13531bcd0>"
       ]
      },
      {
       "javascript": [
        "$('div#f656cf83-d3c0-4b94-a998-bc544b57f23b').text(' 37%');"
       ],
       "metadata": {},
       "output_type": "display_data",
       "text": [
        "<IPython.core.display.Javascript at 0x13531b910>"
       ]
      },
      {
       "javascript": [
        "\n",
        "        var $myPB = $(\"div#e1b9e53c-fdff-4bc5-9a0b-7af9d6be09fc\")\n",
        "        if ($myPB.hasClass('ui-progressbar')) {\n",
        "            $myPB.progressbar('value', 37);\n",
        "        } else {\n",
        "            $myPB.progressbar({value: 0, max: 100});\n",
        "        }\n",
        "        "
       ],
       "metadata": {},
       "output_type": "display_data",
       "text": [
        "<IPython.core.display.Javascript at 0x13531b310>"
       ]
      },
      {
       "javascript": [
        "$('div#2734278b-a918-48b7-bfaa-c9aecbc36b49').text('ETA:  0:01:39');"
       ],
       "metadata": {},
       "output_type": "display_data",
       "text": [
        "<IPython.core.display.Javascript at 0x13531b6d0>"
       ]
      },
      {
       "javascript": [
        "$('div#f656cf83-d3c0-4b94-a998-bc544b57f23b').text(' 37%');"
       ],
       "metadata": {},
       "output_type": "display_data",
       "text": [
        "<IPython.core.display.Javascript at 0x13531b690>"
       ]
      },
      {
       "javascript": [
        "\n",
        "        var $myPB = $(\"div#e1b9e53c-fdff-4bc5-9a0b-7af9d6be09fc\")\n",
        "        if ($myPB.hasClass('ui-progressbar')) {\n",
        "            $myPB.progressbar('value', 37);\n",
        "        } else {\n",
        "            $myPB.progressbar({value: 0, max: 100});\n",
        "        }\n",
        "        "
       ],
       "metadata": {},
       "output_type": "display_data",
       "text": [
        "<IPython.core.display.Javascript at 0x13531b510>"
       ]
      },
      {
       "javascript": [
        "$('div#2734278b-a918-48b7-bfaa-c9aecbc36b49').text('ETA:  0:01:41');"
       ],
       "metadata": {},
       "output_type": "display_data",
       "text": [
        "<IPython.core.display.Javascript at 0x13531bf10>"
       ]
      },
      {
       "javascript": [
        "$('div#f656cf83-d3c0-4b94-a998-bc544b57f23b').text(' 37%');"
       ],
       "metadata": {},
       "output_type": "display_data",
       "text": [
        "<IPython.core.display.Javascript at 0x12b59e590>"
       ]
      },
      {
       "javascript": [
        "\n",
        "        var $myPB = $(\"div#e1b9e53c-fdff-4bc5-9a0b-7af9d6be09fc\")\n",
        "        if ($myPB.hasClass('ui-progressbar')) {\n",
        "            $myPB.progressbar('value', 37);\n",
        "        } else {\n",
        "            $myPB.progressbar({value: 0, max: 100});\n",
        "        }\n",
        "        "
       ],
       "metadata": {},
       "output_type": "display_data",
       "text": [
        "<IPython.core.display.Javascript at 0x12b59e490>"
       ]
      },
      {
       "javascript": [
        "$('div#2734278b-a918-48b7-bfaa-c9aecbc36b49').text('ETA:  0:01:43');"
       ],
       "metadata": {},
       "output_type": "display_data",
       "text": [
        "<IPython.core.display.Javascript at 0x12b59e110>"
       ]
      },
      {
       "javascript": [
        "$('div#f656cf83-d3c0-4b94-a998-bc544b57f23b').text(' 40%');"
       ],
       "metadata": {},
       "output_type": "display_data",
       "text": [
        "<IPython.core.display.Javascript at 0x12b59ed50>"
       ]
      },
      {
       "javascript": [
        "\n",
        "        var $myPB = $(\"div#e1b9e53c-fdff-4bc5-9a0b-7af9d6be09fc\")\n",
        "        if ($myPB.hasClass('ui-progressbar')) {\n",
        "            $myPB.progressbar('value', 40);\n",
        "        } else {\n",
        "            $myPB.progressbar({value: 0, max: 100});\n",
        "        }\n",
        "        "
       ],
       "metadata": {},
       "output_type": "display_data",
       "text": [
        "<IPython.core.display.Javascript at 0x12b59eed0>"
       ]
      },
      {
       "javascript": [
        "$('div#2734278b-a918-48b7-bfaa-c9aecbc36b49').text('ETA:  0:01:33');"
       ],
       "metadata": {},
       "output_type": "display_data",
       "text": [
        "<IPython.core.display.Javascript at 0x12b59e8d0>"
       ]
      },
      {
       "javascript": [
        "$('div#f656cf83-d3c0-4b94-a998-bc544b57f23b').text(' 40%');"
       ],
       "metadata": {},
       "output_type": "display_data",
       "text": [
        "<IPython.core.display.Javascript at 0x12b59ed90>"
       ]
      },
      {
       "javascript": [
        "\n",
        "        var $myPB = $(\"div#e1b9e53c-fdff-4bc5-9a0b-7af9d6be09fc\")\n",
        "        if ($myPB.hasClass('ui-progressbar')) {\n",
        "            $myPB.progressbar('value', 40);\n",
        "        } else {\n",
        "            $myPB.progressbar({value: 0, max: 100});\n",
        "        }\n",
        "        "
       ],
       "metadata": {},
       "output_type": "display_data",
       "text": [
        "<IPython.core.display.Javascript at 0x12b59e790>"
       ]
      },
      {
       "javascript": [
        "$('div#2734278b-a918-48b7-bfaa-c9aecbc36b49').text('ETA:  0:01:35');"
       ],
       "metadata": {},
       "output_type": "display_data",
       "text": [
        "<IPython.core.display.Javascript at 0x12b59e690>"
       ]
      },
      {
       "javascript": [
        "$('div#f656cf83-d3c0-4b94-a998-bc544b57f23b').text(' 46%');"
       ],
       "metadata": {},
       "output_type": "display_data",
       "text": [
        "<IPython.core.display.Javascript at 0x12b59ea90>"
       ]
      },
      {
       "javascript": [
        "\n",
        "        var $myPB = $(\"div#e1b9e53c-fdff-4bc5-9a0b-7af9d6be09fc\")\n",
        "        if ($myPB.hasClass('ui-progressbar')) {\n",
        "            $myPB.progressbar('value', 46);\n",
        "        } else {\n",
        "            $myPB.progressbar({value: 0, max: 100});\n",
        "        }\n",
        "        "
       ],
       "metadata": {},
       "output_type": "display_data",
       "text": [
        "<IPython.core.display.Javascript at 0x12b59ec90>"
       ]
      },
      {
       "javascript": [
        "$('div#2734278b-a918-48b7-bfaa-c9aecbc36b49').text('ETA:  0:01:15');"
       ],
       "metadata": {},
       "output_type": "display_data",
       "text": [
        "<IPython.core.display.Javascript at 0x12b59e6d0>"
       ]
      },
      {
       "javascript": [
        "$('div#f656cf83-d3c0-4b94-a998-bc544b57f23b').text(' 46%');"
       ],
       "metadata": {},
       "output_type": "display_data",
       "text": [
        "<IPython.core.display.Javascript at 0x12b59e850>"
       ]
      },
      {
       "javascript": [
        "\n",
        "        var $myPB = $(\"div#e1b9e53c-fdff-4bc5-9a0b-7af9d6be09fc\")\n",
        "        if ($myPB.hasClass('ui-progressbar')) {\n",
        "            $myPB.progressbar('value', 46);\n",
        "        } else {\n",
        "            $myPB.progressbar({value: 0, max: 100});\n",
        "        }\n",
        "        "
       ],
       "metadata": {},
       "output_type": "display_data",
       "text": [
        "<IPython.core.display.Javascript at 0x12b59e0d0>"
       ]
      },
      {
       "javascript": [
        "$('div#2734278b-a918-48b7-bfaa-c9aecbc36b49').text('ETA:  0:01:17');"
       ],
       "metadata": {},
       "output_type": "display_data",
       "text": [
        "<IPython.core.display.Javascript at 0x12b59e510>"
       ]
      },
      {
       "javascript": [
        "$('div#f656cf83-d3c0-4b94-a998-bc544b57f23b').text(' 46%');"
       ],
       "metadata": {},
       "output_type": "display_data",
       "text": [
        "<IPython.core.display.Javascript at 0x12b59e650>"
       ]
      },
      {
       "javascript": [
        "\n",
        "        var $myPB = $(\"div#e1b9e53c-fdff-4bc5-9a0b-7af9d6be09fc\")\n",
        "        if ($myPB.hasClass('ui-progressbar')) {\n",
        "            $myPB.progressbar('value', 46);\n",
        "        } else {\n",
        "            $myPB.progressbar({value: 0, max: 100});\n",
        "        }\n",
        "        "
       ],
       "metadata": {},
       "output_type": "display_data",
       "text": [
        "<IPython.core.display.Javascript at 0x12b59eb10>"
       ]
      },
      {
       "javascript": [
        "$('div#2734278b-a918-48b7-bfaa-c9aecbc36b49').text('ETA:  0:01:18');"
       ],
       "metadata": {},
       "output_type": "display_data",
       "text": [
        "<IPython.core.display.Javascript at 0x12b59e450>"
       ]
      },
      {
       "javascript": [
        "$('div#f656cf83-d3c0-4b94-a998-bc544b57f23b').text(' 49%');"
       ],
       "metadata": {},
       "output_type": "display_data",
       "text": [
        "<IPython.core.display.Javascript at 0x12b59e890>"
       ]
      },
      {
       "javascript": [
        "\n",
        "        var $myPB = $(\"div#e1b9e53c-fdff-4bc5-9a0b-7af9d6be09fc\")\n",
        "        if ($myPB.hasClass('ui-progressbar')) {\n",
        "            $myPB.progressbar('value', 49);\n",
        "        } else {\n",
        "            $myPB.progressbar({value: 0, max: 100});\n",
        "        }\n",
        "        "
       ],
       "metadata": {},
       "output_type": "display_data",
       "text": [
        "<IPython.core.display.Javascript at 0x12b59e950>"
       ]
      },
      {
       "javascript": [
        "$('div#2734278b-a918-48b7-bfaa-c9aecbc36b49').text('ETA:  0:01:11');"
       ],
       "metadata": {},
       "output_type": "display_data",
       "text": [
        "<IPython.core.display.Javascript at 0x12b59ee90>"
       ]
      },
      {
       "javascript": [
        "$('div#f656cf83-d3c0-4b94-a998-bc544b57f23b').text(' 52%');"
       ],
       "metadata": {},
       "output_type": "display_data",
       "text": [
        "<IPython.core.display.Javascript at 0x12b59e250>"
       ]
      },
      {
       "javascript": [
        "\n",
        "        var $myPB = $(\"div#e1b9e53c-fdff-4bc5-9a0b-7af9d6be09fc\")\n",
        "        if ($myPB.hasClass('ui-progressbar')) {\n",
        "            $myPB.progressbar('value', 52);\n",
        "        } else {\n",
        "            $myPB.progressbar({value: 0, max: 100});\n",
        "        }\n",
        "        "
       ],
       "metadata": {},
       "output_type": "display_data",
       "text": [
        "<IPython.core.display.Javascript at 0x12b59efd0>"
       ]
      },
      {
       "javascript": [
        "$('div#2734278b-a918-48b7-bfaa-c9aecbc36b49').text('ETA:  0:01:04');"
       ],
       "metadata": {},
       "output_type": "display_data",
       "text": [
        "<IPython.core.display.Javascript at 0x12b59e710>"
       ]
      },
      {
       "javascript": [
        "$('div#f656cf83-d3c0-4b94-a998-bc544b57f23b').text(' 55%');"
       ],
       "metadata": {},
       "output_type": "display_data",
       "text": [
        "<IPython.core.display.Javascript at 0x13531bf10>"
       ]
      },
      {
       "javascript": [
        "\n",
        "        var $myPB = $(\"div#e1b9e53c-fdff-4bc5-9a0b-7af9d6be09fc\")\n",
        "        if ($myPB.hasClass('ui-progressbar')) {\n",
        "            $myPB.progressbar('value', 55);\n",
        "        } else {\n",
        "            $myPB.progressbar({value: 0, max: 100});\n",
        "        }\n",
        "        "
       ],
       "metadata": {},
       "output_type": "display_data",
       "text": [
        "<IPython.core.display.Javascript at 0x13531b510>"
       ]
      },
      {
       "javascript": [
        "$('div#2734278b-a918-48b7-bfaa-c9aecbc36b49').text('ETA:  0:00:57');"
       ],
       "metadata": {},
       "output_type": "display_data",
       "text": [
        "<IPython.core.display.Javascript at 0x13531b690>"
       ]
      },
      {
       "javascript": [
        "$('div#f656cf83-d3c0-4b94-a998-bc544b57f23b').text(' 55%');"
       ],
       "metadata": {},
       "output_type": "display_data",
       "text": [
        "<IPython.core.display.Javascript at 0x13531b310>"
       ]
      },
      {
       "javascript": [
        "\n",
        "        var $myPB = $(\"div#e1b9e53c-fdff-4bc5-9a0b-7af9d6be09fc\")\n",
        "        if ($myPB.hasClass('ui-progressbar')) {\n",
        "            $myPB.progressbar('value', 55);\n",
        "        } else {\n",
        "            $myPB.progressbar({value: 0, max: 100});\n",
        "        }\n",
        "        "
       ],
       "metadata": {},
       "output_type": "display_data",
       "text": [
        "<IPython.core.display.Javascript at 0x13531b5d0>"
       ]
      },
      {
       "javascript": [
        "$('div#2734278b-a918-48b7-bfaa-c9aecbc36b49').text('ETA:  0:00:58');"
       ],
       "metadata": {},
       "output_type": "display_data",
       "text": [
        "<IPython.core.display.Javascript at 0x13531b910>"
       ]
      },
      {
       "javascript": [
        "$('div#f656cf83-d3c0-4b94-a998-bc544b57f23b').text(' 55%');"
       ],
       "metadata": {},
       "output_type": "display_data",
       "text": [
        "<IPython.core.display.Javascript at 0x13531b450>"
       ]
      },
      {
       "javascript": [
        "\n",
        "        var $myPB = $(\"div#e1b9e53c-fdff-4bc5-9a0b-7af9d6be09fc\")\n",
        "        if ($myPB.hasClass('ui-progressbar')) {\n",
        "            $myPB.progressbar('value', 55);\n",
        "        } else {\n",
        "            $myPB.progressbar({value: 0, max: 100});\n",
        "        }\n",
        "        "
       ],
       "metadata": {},
       "output_type": "display_data",
       "text": [
        "<IPython.core.display.Javascript at 0x13531be50>"
       ]
      },
      {
       "javascript": [
        "$('div#2734278b-a918-48b7-bfaa-c9aecbc36b49').text('ETA:  0:00:59');"
       ],
       "metadata": {},
       "output_type": "display_data",
       "text": [
        "<IPython.core.display.Javascript at 0x13531ba10>"
       ]
      },
      {
       "javascript": [
        "$('div#f656cf83-d3c0-4b94-a998-bc544b57f23b').text(' 55%');"
       ],
       "metadata": {},
       "output_type": "display_data",
       "text": [
        "<IPython.core.display.Javascript at 0x13531bd90>"
       ]
      },
      {
       "javascript": [
        "\n",
        "        var $myPB = $(\"div#e1b9e53c-fdff-4bc5-9a0b-7af9d6be09fc\")\n",
        "        if ($myPB.hasClass('ui-progressbar')) {\n",
        "            $myPB.progressbar('value', 55);\n",
        "        } else {\n",
        "            $myPB.progressbar({value: 0, max: 100});\n",
        "        }\n",
        "        "
       ],
       "metadata": {},
       "output_type": "display_data",
       "text": [
        "<IPython.core.display.Javascript at 0x13531b710>"
       ]
      },
      {
       "javascript": [
        "$('div#2734278b-a918-48b7-bfaa-c9aecbc36b49').text('ETA:  0:01:00');"
       ],
       "metadata": {},
       "output_type": "display_data",
       "text": [
        "<IPython.core.display.Javascript at 0x13531b490>"
       ]
      },
      {
       "javascript": [
        "$('div#f656cf83-d3c0-4b94-a998-bc544b57f23b').text(' 55%');"
       ],
       "metadata": {},
       "output_type": "display_data",
       "text": [
        "<IPython.core.display.Javascript at 0x13531b290>"
       ]
      },
      {
       "javascript": [
        "\n",
        "        var $myPB = $(\"div#e1b9e53c-fdff-4bc5-9a0b-7af9d6be09fc\")\n",
        "        if ($myPB.hasClass('ui-progressbar')) {\n",
        "            $myPB.progressbar('value', 55);\n",
        "        } else {\n",
        "            $myPB.progressbar({value: 0, max: 100});\n",
        "        }\n",
        "        "
       ],
       "metadata": {},
       "output_type": "display_data",
       "text": [
        "<IPython.core.display.Javascript at 0x13531b190>"
       ]
      },
      {
       "javascript": [
        "$('div#2734278b-a918-48b7-bfaa-c9aecbc36b49').text('ETA:  0:01:01');"
       ],
       "metadata": {},
       "output_type": "display_data",
       "text": [
        "<IPython.core.display.Javascript at 0x13531bd10>"
       ]
      },
      {
       "javascript": [
        "$('div#f656cf83-d3c0-4b94-a998-bc544b57f23b').text(' 55%');"
       ],
       "metadata": {},
       "output_type": "display_data",
       "text": [
        "<IPython.core.display.Javascript at 0x13531bdd0>"
       ]
      },
      {
       "javascript": [
        "\n",
        "        var $myPB = $(\"div#e1b9e53c-fdff-4bc5-9a0b-7af9d6be09fc\")\n",
        "        if ($myPB.hasClass('ui-progressbar')) {\n",
        "            $myPB.progressbar('value', 55);\n",
        "        } else {\n",
        "            $myPB.progressbar({value: 0, max: 100});\n",
        "        }\n",
        "        "
       ],
       "metadata": {},
       "output_type": "display_data",
       "text": [
        "<IPython.core.display.Javascript at 0x13531bb90>"
       ]
      },
      {
       "javascript": [
        "$('div#2734278b-a918-48b7-bfaa-c9aecbc36b49').text('ETA:  0:01:02');"
       ],
       "metadata": {},
       "output_type": "display_data",
       "text": [
        "<IPython.core.display.Javascript at 0x13531b790>"
       ]
      },
      {
       "javascript": [
        "$('div#f656cf83-d3c0-4b94-a998-bc544b57f23b').text(' 55%');"
       ],
       "metadata": {},
       "output_type": "display_data",
       "text": [
        "<IPython.core.display.Javascript at 0x13531b810>"
       ]
      },
      {
       "javascript": [
        "\n",
        "        var $myPB = $(\"div#e1b9e53c-fdff-4bc5-9a0b-7af9d6be09fc\")\n",
        "        if ($myPB.hasClass('ui-progressbar')) {\n",
        "            $myPB.progressbar('value', 55);\n",
        "        } else {\n",
        "            $myPB.progressbar({value: 0, max: 100});\n",
        "        }\n",
        "        "
       ],
       "metadata": {},
       "output_type": "display_data",
       "text": [
        "<IPython.core.display.Javascript at 0x13531bb10>"
       ]
      },
      {
       "javascript": [
        "$('div#2734278b-a918-48b7-bfaa-c9aecbc36b49').text('ETA:  0:01:03');"
       ],
       "metadata": {},
       "output_type": "display_data",
       "text": [
        "<IPython.core.display.Javascript at 0x13531b890>"
       ]
      },
      {
       "javascript": [
        "$('div#f656cf83-d3c0-4b94-a998-bc544b57f23b').text(' 55%');"
       ],
       "metadata": {},
       "output_type": "display_data",
       "text": [
        "<IPython.core.display.Javascript at 0x13531bc90>"
       ]
      },
      {
       "javascript": [
        "\n",
        "        var $myPB = $(\"div#e1b9e53c-fdff-4bc5-9a0b-7af9d6be09fc\")\n",
        "        if ($myPB.hasClass('ui-progressbar')) {\n",
        "            $myPB.progressbar('value', 55);\n",
        "        } else {\n",
        "            $myPB.progressbar({value: 0, max: 100});\n",
        "        }\n",
        "        "
       ],
       "metadata": {},
       "output_type": "display_data",
       "text": [
        "<IPython.core.display.Javascript at 0x13531b390>"
       ]
      },
      {
       "javascript": [
        "$('div#2734278b-a918-48b7-bfaa-c9aecbc36b49').text('ETA:  0:01:04');"
       ],
       "metadata": {},
       "output_type": "display_data",
       "text": [
        "<IPython.core.display.Javascript at 0x13531b750>"
       ]
      },
      {
       "javascript": [
        "$('div#f656cf83-d3c0-4b94-a998-bc544b57f23b').text(' 55%');"
       ],
       "metadata": {},
       "output_type": "display_data",
       "text": [
        "<IPython.core.display.Javascript at 0x13531b110>"
       ]
      },
      {
       "javascript": [
        "\n",
        "        var $myPB = $(\"div#e1b9e53c-fdff-4bc5-9a0b-7af9d6be09fc\")\n",
        "        if ($myPB.hasClass('ui-progressbar')) {\n",
        "            $myPB.progressbar('value', 55);\n",
        "        } else {\n",
        "            $myPB.progressbar({value: 0, max: 100});\n",
        "        }\n",
        "        "
       ],
       "metadata": {},
       "output_type": "display_data",
       "text": [
        "<IPython.core.display.Javascript at 0x13531b590>"
       ]
      },
      {
       "javascript": [
        "$('div#2734278b-a918-48b7-bfaa-c9aecbc36b49').text('ETA:  0:01:05');"
       ],
       "metadata": {},
       "output_type": "display_data",
       "text": [
        "<IPython.core.display.Javascript at 0x13531be10>"
       ]
      },
      {
       "javascript": [
        "$('div#f656cf83-d3c0-4b94-a998-bc544b57f23b').text(' 55%');"
       ],
       "metadata": {},
       "output_type": "display_data",
       "text": [
        "<IPython.core.display.Javascript at 0x13531b090>"
       ]
      },
      {
       "javascript": [
        "\n",
        "        var $myPB = $(\"div#e1b9e53c-fdff-4bc5-9a0b-7af9d6be09fc\")\n",
        "        if ($myPB.hasClass('ui-progressbar')) {\n",
        "            $myPB.progressbar('value', 55);\n",
        "        } else {\n",
        "            $myPB.progressbar({value: 0, max: 100});\n",
        "        }\n",
        "        "
       ],
       "metadata": {},
       "output_type": "display_data",
       "text": [
        "<IPython.core.display.Javascript at 0x13531bf50>"
       ]
      },
      {
       "javascript": [
        "$('div#2734278b-a918-48b7-bfaa-c9aecbc36b49').text('ETA:  0:01:06');"
       ],
       "metadata": {},
       "output_type": "display_data",
       "text": [
        "<IPython.core.display.Javascript at 0x13531b0d0>"
       ]
      },
      {
       "javascript": [
        "$('div#f656cf83-d3c0-4b94-a998-bc544b57f23b').text(' 55%');"
       ],
       "metadata": {},
       "output_type": "display_data",
       "text": [
        "<IPython.core.display.Javascript at 0x120578e50>"
       ]
      },
      {
       "javascript": [
        "\n",
        "        var $myPB = $(\"div#e1b9e53c-fdff-4bc5-9a0b-7af9d6be09fc\")\n",
        "        if ($myPB.hasClass('ui-progressbar')) {\n",
        "            $myPB.progressbar('value', 55);\n",
        "        } else {\n",
        "            $myPB.progressbar({value: 0, max: 100});\n",
        "        }\n",
        "        "
       ],
       "metadata": {},
       "output_type": "display_data",
       "text": [
        "<IPython.core.display.Javascript at 0x120578b10>"
       ]
      },
      {
       "javascript": [
        "$('div#2734278b-a918-48b7-bfaa-c9aecbc36b49').text('ETA:  0:01:07');"
       ],
       "metadata": {},
       "output_type": "display_data",
       "text": [
        "<IPython.core.display.Javascript at 0x120578c50>"
       ]
      },
      {
       "javascript": [
        "$('div#f656cf83-d3c0-4b94-a998-bc544b57f23b').text(' 55%');"
       ],
       "metadata": {},
       "output_type": "display_data",
       "text": [
        "<IPython.core.display.Javascript at 0x120578850>"
       ]
      },
      {
       "javascript": [
        "\n",
        "        var $myPB = $(\"div#e1b9e53c-fdff-4bc5-9a0b-7af9d6be09fc\")\n",
        "        if ($myPB.hasClass('ui-progressbar')) {\n",
        "            $myPB.progressbar('value', 55);\n",
        "        } else {\n",
        "            $myPB.progressbar({value: 0, max: 100});\n",
        "        }\n",
        "        "
       ],
       "metadata": {},
       "output_type": "display_data",
       "text": [
        "<IPython.core.display.Javascript at 0x120578c10>"
       ]
      },
      {
       "javascript": [
        "$('div#2734278b-a918-48b7-bfaa-c9aecbc36b49').text('ETA:  0:01:08');"
       ],
       "metadata": {},
       "output_type": "display_data",
       "text": [
        "<IPython.core.display.Javascript at 0x120578ed0>"
       ]
      },
      {
       "javascript": [
        "$('div#f656cf83-d3c0-4b94-a998-bc544b57f23b').text(' 55%');"
       ],
       "metadata": {},
       "output_type": "display_data",
       "text": [
        "<IPython.core.display.Javascript at 0x1205789d0>"
       ]
      },
      {
       "javascript": [
        "\n",
        "        var $myPB = $(\"div#e1b9e53c-fdff-4bc5-9a0b-7af9d6be09fc\")\n",
        "        if ($myPB.hasClass('ui-progressbar')) {\n",
        "            $myPB.progressbar('value', 55);\n",
        "        } else {\n",
        "            $myPB.progressbar({value: 0, max: 100});\n",
        "        }\n",
        "        "
       ],
       "metadata": {},
       "output_type": "display_data",
       "text": [
        "<IPython.core.display.Javascript at 0x120578710>"
       ]
      },
      {
       "javascript": [
        "$('div#2734278b-a918-48b7-bfaa-c9aecbc36b49').text('ETA:  0:01:09');"
       ],
       "metadata": {},
       "output_type": "display_data",
       "text": [
        "<IPython.core.display.Javascript at 0x120578050>"
       ]
      },
      {
       "javascript": [
        "$('div#f656cf83-d3c0-4b94-a998-bc544b57f23b').text(' 55%');"
       ],
       "metadata": {},
       "output_type": "display_data",
       "text": [
        "<IPython.core.display.Javascript at 0x120578d50>"
       ]
      },
      {
       "javascript": [
        "\n",
        "        var $myPB = $(\"div#e1b9e53c-fdff-4bc5-9a0b-7af9d6be09fc\")\n",
        "        if ($myPB.hasClass('ui-progressbar')) {\n",
        "            $myPB.progressbar('value', 55);\n",
        "        } else {\n",
        "            $myPB.progressbar({value: 0, max: 100});\n",
        "        }\n",
        "        "
       ],
       "metadata": {},
       "output_type": "display_data",
       "text": [
        "<IPython.core.display.Javascript at 0x120578950>"
       ]
      },
      {
       "javascript": [
        "$('div#2734278b-a918-48b7-bfaa-c9aecbc36b49').text('ETA:  0:01:10');"
       ],
       "metadata": {},
       "output_type": "display_data",
       "text": [
        "<IPython.core.display.Javascript at 0x12b59e710>"
       ]
      },
      {
       "javascript": [
        "$('div#f656cf83-d3c0-4b94-a998-bc544b57f23b').text(' 55%');"
       ],
       "metadata": {},
       "output_type": "display_data",
       "text": [
        "<IPython.core.display.Javascript at 0x12b59ef90>"
       ]
      },
      {
       "javascript": [
        "\n",
        "        var $myPB = $(\"div#e1b9e53c-fdff-4bc5-9a0b-7af9d6be09fc\")\n",
        "        if ($myPB.hasClass('ui-progressbar')) {\n",
        "            $myPB.progressbar('value', 55);\n",
        "        } else {\n",
        "            $myPB.progressbar({value: 0, max: 100});\n",
        "        }\n",
        "        "
       ],
       "metadata": {},
       "output_type": "display_data",
       "text": [
        "<IPython.core.display.Javascript at 0x12b59e150>"
       ]
      },
      {
       "javascript": [
        "$('div#2734278b-a918-48b7-bfaa-c9aecbc36b49').text('ETA:  0:01:11');"
       ],
       "metadata": {},
       "output_type": "display_data",
       "text": [
        "<IPython.core.display.Javascript at 0x12b59e4d0>"
       ]
      },
      {
       "javascript": [
        "$('div#f656cf83-d3c0-4b94-a998-bc544b57f23b').text(' 58%');"
       ],
       "metadata": {},
       "output_type": "display_data",
       "text": [
        "<IPython.core.display.Javascript at 0x12b59e250>"
       ]
      },
      {
       "javascript": [
        "\n",
        "        var $myPB = $(\"div#e1b9e53c-fdff-4bc5-9a0b-7af9d6be09fc\")\n",
        "        if ($myPB.hasClass('ui-progressbar')) {\n",
        "            $myPB.progressbar('value', 58);\n",
        "        } else {\n",
        "            $myPB.progressbar({value: 0, max: 100});\n",
        "        }\n",
        "        "
       ],
       "metadata": {},
       "output_type": "display_data",
       "text": [
        "<IPython.core.display.Javascript at 0x12b59e750>"
       ]
      },
      {
       "javascript": [
        "$('div#2734278b-a918-48b7-bfaa-c9aecbc36b49').text('ETA:  0:01:04');"
       ],
       "metadata": {},
       "output_type": "display_data",
       "text": [
        "<IPython.core.display.Javascript at 0x12b59e290>"
       ]
      },
      {
       "javascript": [
        "$('div#f656cf83-d3c0-4b94-a998-bc544b57f23b').text(' 58%');"
       ],
       "metadata": {},
       "output_type": "display_data",
       "text": [
        "<IPython.core.display.Javascript at 0x12b59e890>"
       ]
      },
      {
       "javascript": [
        "\n",
        "        var $myPB = $(\"div#e1b9e53c-fdff-4bc5-9a0b-7af9d6be09fc\")\n",
        "        if ($myPB.hasClass('ui-progressbar')) {\n",
        "            $myPB.progressbar('value', 58);\n",
        "        } else {\n",
        "            $myPB.progressbar({value: 0, max: 100});\n",
        "        }\n",
        "        "
       ],
       "metadata": {},
       "output_type": "display_data",
       "text": [
        "<IPython.core.display.Javascript at 0x12b59ef50>"
       ]
      },
      {
       "javascript": [
        "$('div#2734278b-a918-48b7-bfaa-c9aecbc36b49').text('ETA:  0:01:05');"
       ],
       "metadata": {},
       "output_type": "display_data",
       "text": [
        "<IPython.core.display.Javascript at 0x12b59e1d0>"
       ]
      },
      {
       "javascript": [
        "$('div#f656cf83-d3c0-4b94-a998-bc544b57f23b').text(' 58%');"
       ],
       "metadata": {},
       "output_type": "display_data",
       "text": [
        "<IPython.core.display.Javascript at 0x12b59e650>"
       ]
      },
      {
       "javascript": [
        "\n",
        "        var $myPB = $(\"div#e1b9e53c-fdff-4bc5-9a0b-7af9d6be09fc\")\n",
        "        if ($myPB.hasClass('ui-progressbar')) {\n",
        "            $myPB.progressbar('value', 58);\n",
        "        } else {\n",
        "            $myPB.progressbar({value: 0, max: 100});\n",
        "        }\n",
        "        "
       ],
       "metadata": {},
       "output_type": "display_data",
       "text": [
        "<IPython.core.display.Javascript at 0x12b59eb50>"
       ]
      },
      {
       "javascript": [
        "$('div#2734278b-a918-48b7-bfaa-c9aecbc36b49').text('ETA:  0:01:06');"
       ],
       "metadata": {},
       "output_type": "display_data",
       "text": [
        "<IPython.core.display.Javascript at 0x12b59e990>"
       ]
      },
      {
       "javascript": [
        "$('div#f656cf83-d3c0-4b94-a998-bc544b57f23b').text(' 58%');"
       ],
       "metadata": {},
       "output_type": "display_data",
       "text": [
        "<IPython.core.display.Javascript at 0x12b59e850>"
       ]
      },
      {
       "javascript": [
        "\n",
        "        var $myPB = $(\"div#e1b9e53c-fdff-4bc5-9a0b-7af9d6be09fc\")\n",
        "        if ($myPB.hasClass('ui-progressbar')) {\n",
        "            $myPB.progressbar('value', 58);\n",
        "        } else {\n",
        "            $myPB.progressbar({value: 0, max: 100});\n",
        "        }\n",
        "        "
       ],
       "metadata": {},
       "output_type": "display_data",
       "text": [
        "<IPython.core.display.Javascript at 0x12b59e810>"
       ]
      },
      {
       "javascript": [
        "$('div#2734278b-a918-48b7-bfaa-c9aecbc36b49').text('ETA:  0:01:07');"
       ],
       "metadata": {},
       "output_type": "display_data",
       "text": [
        "<IPython.core.display.Javascript at 0x12b59ead0>"
       ]
      },
      {
       "javascript": [
        "$('div#f656cf83-d3c0-4b94-a998-bc544b57f23b').text(' 58%');"
       ],
       "metadata": {},
       "output_type": "display_data",
       "text": [
        "<IPython.core.display.Javascript at 0x12b59ea90>"
       ]
      },
      {
       "javascript": [
        "\n",
        "        var $myPB = $(\"div#e1b9e53c-fdff-4bc5-9a0b-7af9d6be09fc\")\n",
        "        if ($myPB.hasClass('ui-progressbar')) {\n",
        "            $myPB.progressbar('value', 58);\n",
        "        } else {\n",
        "            $myPB.progressbar({value: 0, max: 100});\n",
        "        }\n",
        "        "
       ],
       "metadata": {},
       "output_type": "display_data",
       "text": [
        "<IPython.core.display.Javascript at 0x12b59e2d0>"
       ]
      },
      {
       "javascript": [
        "$('div#2734278b-a918-48b7-bfaa-c9aecbc36b49').text('ETA:  0:01:07');"
       ],
       "metadata": {},
       "output_type": "display_data",
       "text": [
        "<IPython.core.display.Javascript at 0x12b59ebd0>"
       ]
      },
      {
       "javascript": [
        "$('div#f656cf83-d3c0-4b94-a998-bc544b57f23b').text(' 65%');"
       ],
       "metadata": {},
       "output_type": "display_data",
       "text": [
        "<IPython.core.display.Javascript at 0x12b59ed90>"
       ]
      },
      {
       "javascript": [
        "\n",
        "        var $myPB = $(\"div#e1b9e53c-fdff-4bc5-9a0b-7af9d6be09fc\")\n",
        "        if ($myPB.hasClass('ui-progressbar')) {\n",
        "            $myPB.progressbar('value', 65);\n",
        "        } else {\n",
        "            $myPB.progressbar({value: 0, max: 100});\n",
        "        }\n",
        "        "
       ],
       "metadata": {},
       "output_type": "display_data",
       "text": [
        "<IPython.core.display.Javascript at 0x12b59edd0>"
       ]
      },
      {
       "javascript": [
        "$('div#2734278b-a918-48b7-bfaa-c9aecbc36b49').text('ETA:  0:00:51');"
       ],
       "metadata": {},
       "output_type": "display_data",
       "text": [
        "<IPython.core.display.Javascript at 0x12b59e090>"
       ]
      },
      {
       "javascript": [
        "$('div#f656cf83-d3c0-4b94-a998-bc544b57f23b').text(' 65%');"
       ],
       "metadata": {},
       "output_type": "display_data",
       "text": [
        "<IPython.core.display.Javascript at 0x12b59ed50>"
       ]
      },
      {
       "javascript": [
        "\n",
        "        var $myPB = $(\"div#e1b9e53c-fdff-4bc5-9a0b-7af9d6be09fc\")\n",
        "        if ($myPB.hasClass('ui-progressbar')) {\n",
        "            $myPB.progressbar('value', 65);\n",
        "        } else {\n",
        "            $myPB.progressbar({value: 0, max: 100});\n",
        "        }\n",
        "        "
       ],
       "metadata": {},
       "output_type": "display_data",
       "text": [
        "<IPython.core.display.Javascript at 0x12b59e310>"
       ]
      },
      {
       "javascript": [
        "$('div#2734278b-a918-48b7-bfaa-c9aecbc36b49').text('ETA:  0:00:51');"
       ],
       "metadata": {},
       "output_type": "display_data",
       "text": [
        "<IPython.core.display.Javascript at 0x111dddd90>"
       ]
      },
      {
       "javascript": [
        "$('div#f656cf83-d3c0-4b94-a998-bc544b57f23b').text(' 71%');"
       ],
       "metadata": {},
       "output_type": "display_data",
       "text": [
        "<IPython.core.display.Javascript at 0x120578050>"
       ]
      },
      {
       "javascript": [
        "\n",
        "        var $myPB = $(\"div#e1b9e53c-fdff-4bc5-9a0b-7af9d6be09fc\")\n",
        "        if ($myPB.hasClass('ui-progressbar')) {\n",
        "            $myPB.progressbar('value', 71);\n",
        "        } else {\n",
        "            $myPB.progressbar({value: 0, max: 100});\n",
        "        }\n",
        "        "
       ],
       "metadata": {},
       "output_type": "display_data",
       "text": [
        "<IPython.core.display.Javascript at 0x120578290>"
       ]
      },
      {
       "javascript": [
        "$('div#2734278b-a918-48b7-bfaa-c9aecbc36b49').text('ETA:  0:00:39');"
       ],
       "metadata": {},
       "output_type": "display_data",
       "text": [
        "<IPython.core.display.Javascript at 0x120578710>"
       ]
      },
      {
       "javascript": [
        "$('div#f656cf83-d3c0-4b94-a998-bc544b57f23b').text(' 74%');"
       ],
       "metadata": {},
       "output_type": "display_data",
       "text": [
        "<IPython.core.display.Javascript at 0x120578ed0>"
       ]
      },
      {
       "javascript": [
        "\n",
        "        var $myPB = $(\"div#e1b9e53c-fdff-4bc5-9a0b-7af9d6be09fc\")\n",
        "        if ($myPB.hasClass('ui-progressbar')) {\n",
        "            $myPB.progressbar('value', 74);\n",
        "        } else {\n",
        "            $myPB.progressbar({value: 0, max: 100});\n",
        "        }\n",
        "        "
       ],
       "metadata": {},
       "output_type": "display_data",
       "text": [
        "<IPython.core.display.Javascript at 0x120578350>"
       ]
      },
      {
       "javascript": [
        "$('div#2734278b-a918-48b7-bfaa-c9aecbc36b49').text('ETA:  0:00:34');"
       ],
       "metadata": {},
       "output_type": "display_data",
       "text": [
        "<IPython.core.display.Javascript at 0x120578c10>"
       ]
      },
      {
       "javascript": [
        "$('div#f656cf83-d3c0-4b94-a998-bc544b57f23b').text(' 80%');"
       ],
       "metadata": {},
       "output_type": "display_data",
       "text": [
        "<IPython.core.display.Javascript at 0x120578c50>"
       ]
      },
      {
       "javascript": [
        "\n",
        "        var $myPB = $(\"div#e1b9e53c-fdff-4bc5-9a0b-7af9d6be09fc\")\n",
        "        if ($myPB.hasClass('ui-progressbar')) {\n",
        "            $myPB.progressbar('value', 80);\n",
        "        } else {\n",
        "            $myPB.progressbar({value: 0, max: 100});\n",
        "        }\n",
        "        "
       ],
       "metadata": {},
       "output_type": "display_data",
       "text": [
        "<IPython.core.display.Javascript at 0x1205787d0>"
       ]
      },
      {
       "javascript": [
        "$('div#2734278b-a918-48b7-bfaa-c9aecbc36b49').text('ETA:  0:00:24');"
       ],
       "metadata": {},
       "output_type": "display_data",
       "text": [
        "<IPython.core.display.Javascript at 0x120578b10>"
       ]
      },
      {
       "javascript": [
        "$('div#f656cf83-d3c0-4b94-a998-bc544b57f23b').text(' 83%');"
       ],
       "metadata": {},
       "output_type": "display_data",
       "text": [
        "<IPython.core.display.Javascript at 0x13531b0d0>"
       ]
      },
      {
       "javascript": [
        "\n",
        "        var $myPB = $(\"div#e1b9e53c-fdff-4bc5-9a0b-7af9d6be09fc\")\n",
        "        if ($myPB.hasClass('ui-progressbar')) {\n",
        "            $myPB.progressbar('value', 83);\n",
        "        } else {\n",
        "            $myPB.progressbar({value: 0, max: 100});\n",
        "        }\n",
        "        "
       ],
       "metadata": {},
       "output_type": "display_data",
       "text": [
        "<IPython.core.display.Javascript at 0x13531b410>"
       ]
      },
      {
       "javascript": [
        "$('div#2734278b-a918-48b7-bfaa-c9aecbc36b49').text('ETA:  0:00:20');"
       ],
       "metadata": {},
       "output_type": "display_data",
       "text": [
        "<IPython.core.display.Javascript at 0x13531bf50>"
       ]
      },
      {
       "javascript": [
        "$('div#f656cf83-d3c0-4b94-a998-bc544b57f23b').text(' 86%');"
       ],
       "metadata": {},
       "output_type": "display_data",
       "text": [
        "<IPython.core.display.Javascript at 0x13531be10>"
       ]
      },
      {
       "javascript": [
        "\n",
        "        var $myPB = $(\"div#e1b9e53c-fdff-4bc5-9a0b-7af9d6be09fc\")\n",
        "        if ($myPB.hasClass('ui-progressbar')) {\n",
        "            $myPB.progressbar('value', 86);\n",
        "        } else {\n",
        "            $myPB.progressbar({value: 0, max: 100});\n",
        "        }\n",
        "        "
       ],
       "metadata": {},
       "output_type": "display_data",
       "text": [
        "<IPython.core.display.Javascript at 0x13531b990>"
       ]
      },
      {
       "javascript": [
        "$('div#2734278b-a918-48b7-bfaa-c9aecbc36b49').text('ETA:  0:00:16');"
       ],
       "metadata": {},
       "output_type": "display_data",
       "text": [
        "<IPython.core.display.Javascript at 0x13531b590>"
       ]
      },
      {
       "javascript": [
        "$('div#f656cf83-d3c0-4b94-a998-bc544b57f23b').text(' 92%');"
       ],
       "metadata": {},
       "output_type": "display_data",
       "text": [
        "<IPython.core.display.Javascript at 0x13531b750>"
       ]
      },
      {
       "javascript": [
        "\n",
        "        var $myPB = $(\"div#e1b9e53c-fdff-4bc5-9a0b-7af9d6be09fc\")\n",
        "        if ($myPB.hasClass('ui-progressbar')) {\n",
        "            $myPB.progressbar('value', 92);\n",
        "        } else {\n",
        "            $myPB.progressbar({value: 0, max: 100});\n",
        "        }\n",
        "        "
       ],
       "metadata": {},
       "output_type": "display_data",
       "text": [
        "<IPython.core.display.Javascript at 0x13531b9d0>"
       ]
      },
      {
       "javascript": [
        "$('div#2734278b-a918-48b7-bfaa-c9aecbc36b49').text('ETA:  0:00:08');"
       ],
       "metadata": {},
       "output_type": "display_data",
       "text": [
        "<IPython.core.display.Javascript at 0x13531b390>"
       ]
      },
      {
       "javascript": [
        "$('div#f656cf83-d3c0-4b94-a998-bc544b57f23b').text(' 92%');"
       ],
       "metadata": {},
       "output_type": "display_data",
       "text": [
        "<IPython.core.display.Javascript at 0x13531b890>"
       ]
      },
      {
       "javascript": [
        "\n",
        "        var $myPB = $(\"div#e1b9e53c-fdff-4bc5-9a0b-7af9d6be09fc\")\n",
        "        if ($myPB.hasClass('ui-progressbar')) {\n",
        "            $myPB.progressbar('value', 92);\n",
        "        } else {\n",
        "            $myPB.progressbar({value: 0, max: 100});\n",
        "        }\n",
        "        "
       ],
       "metadata": {},
       "output_type": "display_data",
       "text": [
        "<IPython.core.display.Javascript at 0x13531b4d0>"
       ]
      },
      {
       "javascript": [
        "$('div#2734278b-a918-48b7-bfaa-c9aecbc36b49').text('ETA:  0:00:09');"
       ],
       "metadata": {},
       "output_type": "display_data",
       "text": [
        "<IPython.core.display.Javascript at 0x13531bb10>"
       ]
      },
      {
       "javascript": [
        "$('div#f656cf83-d3c0-4b94-a998-bc544b57f23b').text(' 92%');"
       ],
       "metadata": {},
       "output_type": "display_data",
       "text": [
        "<IPython.core.display.Javascript at 0x13531b790>"
       ]
      },
      {
       "javascript": [
        "\n",
        "        var $myPB = $(\"div#e1b9e53c-fdff-4bc5-9a0b-7af9d6be09fc\")\n",
        "        if ($myPB.hasClass('ui-progressbar')) {\n",
        "            $myPB.progressbar('value', 92);\n",
        "        } else {\n",
        "            $myPB.progressbar({value: 0, max: 100});\n",
        "        }\n",
        "        "
       ],
       "metadata": {},
       "output_type": "display_data",
       "text": [
        "<IPython.core.display.Javascript at 0x13531b950>"
       ]
      },
      {
       "javascript": [
        "$('div#2734278b-a918-48b7-bfaa-c9aecbc36b49').text('ETA:  0:00:09');"
       ],
       "metadata": {},
       "output_type": "display_data",
       "text": [
        "<IPython.core.display.Javascript at 0x13531bb90>"
       ]
      },
      {
       "javascript": [
        "$('div#f656cf83-d3c0-4b94-a998-bc544b57f23b').text(' 95%');"
       ],
       "metadata": {},
       "output_type": "display_data",
       "text": [
        "<IPython.core.display.Javascript at 0x13531bd10>"
       ]
      },
      {
       "javascript": [
        "\n",
        "        var $myPB = $(\"div#e1b9e53c-fdff-4bc5-9a0b-7af9d6be09fc\")\n",
        "        if ($myPB.hasClass('ui-progressbar')) {\n",
        "            $myPB.progressbar('value', 95);\n",
        "        } else {\n",
        "            $myPB.progressbar({value: 0, max: 100});\n",
        "        }\n",
        "        "
       ],
       "metadata": {},
       "output_type": "display_data",
       "text": [
        "<IPython.core.display.Javascript at 0x13531bad0>"
       ]
      },
      {
       "javascript": [
        "$('div#2734278b-a918-48b7-bfaa-c9aecbc36b49').text('ETA:  0:00:05');"
       ],
       "metadata": {},
       "output_type": "display_data",
       "text": [
        "<IPython.core.display.Javascript at 0x13531b190>"
       ]
      },
      {
       "javascript": [
        "$('div#f656cf83-d3c0-4b94-a998-bc544b57f23b').text('100%');"
       ],
       "metadata": {},
       "output_type": "display_data",
       "text": [
        "<IPython.core.display.Javascript at 0x13531b490>"
       ]
      },
      {
       "javascript": [
        "\n",
        "        var $myPB = $(\"div#e1b9e53c-fdff-4bc5-9a0b-7af9d6be09fc\")\n",
        "        if ($myPB.hasClass('ui-progressbar')) {\n",
        "            $myPB.progressbar('value', 100);\n",
        "        } else {\n",
        "            $myPB.progressbar({value: 0, max: 100});\n",
        "        }\n",
        "        "
       ],
       "metadata": {},
       "output_type": "display_data",
       "text": [
        "<IPython.core.display.Javascript at 0x13531bfd0>"
       ]
      },
      {
       "javascript": [
        "$('div#2734278b-a918-48b7-bfaa-c9aecbc36b49').text('Time: 0:01:48');"
       ],
       "metadata": {},
       "output_type": "display_data",
       "text": [
        "<IPython.core.display.Javascript at 0x13531b710>"
       ]
      },
      {
       "javascript": [
        "var element = document.getElementById('f7f48f77-9edf-45df-af09-db68514fa6bd');\n",
        "                    var parent = element.parentNode\n",
        "                    parent.removeChild(element);\n",
        "                    parent.parentElement.remove();"
       ],
       "metadata": {},
       "output_type": "display_data",
       "text": [
        "<IPython.core.display.Javascript at 0x11459a150>"
       ]
      },
      {
       "javascript": [
        "this.cleanProgressBar(['f7f48f77-9edf-45df-af09-db68514fa6bd', 'f656cf83-d3c0-4b94-a998-bc544b57f23b', 'e1b9e53c-fdff-4bc5-9a0b-7af9d6be09fc', '2734278b-a918-48b7-bfaa-c9aecbc36b49'])"
       ],
       "metadata": {},
       "output_type": "display_data",
       "text": [
        "<IPython.core.display.Javascript at 0x13531bd90>"
       ]
      },
      {
       "output_type": "stream",
       "stream": "stdout",
       "text": [
        "-0.6686202087911579\n",
        "-1.1995975314674128\n",
        "-5.102282905952398\n"
       ]
      }
     ],
     "prompt_number": 6
    },
    {
     "cell_type": "code",
     "collapsed": false,
     "input": [
      "task = 'what'\n",
      "worst_result = sorted(result[task]['tokens'].items(), key=lambda x: -x[1]['token'])[-1]\n",
      "worst_token_id = worst_result[0]\n",
      "worst_submission = submission['tokens'][worst_result[0]]\n",
      "\n",
      "for response, count in dataset['tokens'][worst_token_id]['responses'].items():\n",
      "    print('Response: {} [{}]'.format(response, count))\n",
      "    edit_scripts = inspire.get_edit_scripts(lexicon[dataset['tokens'][worst_token_id]['speech']][0],\n",
      "                                            lexicon[response][0])\n",
      "\n",
      "    print('Edit scripts: {}'.format(len(edit_scripts)))\n",
      "    for es in edit_scripts[:3]:\n",
      "        inspire.print_edit_script(es)\n",
      "        print('----------------')\n",
      "\n",
      "inspire.pprint(worst_result, width=10)\n",
      "inspire.pprint(worst_submission[task], width=10)\n",
      "inspire.pprint(dataset['tokens'][worst_token_id], width=10)"
     ],
     "language": "python",
     "metadata": {},
     "outputs": [
      {
       "output_type": "stream",
       "stream": "stdout",
       "text": [
        "Response: tiene [1]\n",
        "Edit scripts: 3\n",
        "\u001b[41m \u001b[m \u001b[31md\u001b[m \u001b[31m\u02c8i\u001b[m \u001b[31mm\u001b[m \u001b[32me\u001b[m \n",
        "\u001b[31mt\u001b[m \u001b[31mj\u001b[m \u001b[31m\u02c8e\u001b[m \u001b[31mn\u001b[m \u001b[32me\u001b[m \n",
        "----------------\n",
        "\u001b[31md\u001b[m \u001b[31m\u02c8i\u001b[m \u001b[41m  \u001b[m \u001b[31mm\u001b[m \u001b[32me\u001b[m \n",
        "\u001b[31mt\u001b[m \u001b[31mj \u001b[m \u001b[31m\u02c8e\u001b[m \u001b[31mn\u001b[m \u001b[32me\u001b[m \n",
        "----------------\n",
        "\u001b[31md\u001b[m \u001b[31m\u02c8i\u001b[m \u001b[31mm \u001b[m \u001b[41m \u001b[m \u001b[32me\u001b[m \n",
        "\u001b[31mt\u001b[m \u001b[31mj \u001b[m \u001b[31m\u02c8e\u001b[m \u001b[31mn\u001b[m \u001b[32me\u001b[m \n",
        "----------------\n",
        "Response: zanco [1]\n",
        "Edit scripts: 4\n",
        "\u001b[41m \u001b[m \u001b[31md \u001b[m \u001b[31m\u02c8i\u001b[m \u001b[31mm\u001b[m \u001b[31me\u001b[m \n",
        "\u001b[31m\u03b8\u001b[m \u001b[31m\u02c8a\u001b[m \u001b[31mn \u001b[m \u001b[31mk\u001b[m \u001b[31mo\u001b[m \n",
        "----------------\n",
        "\u001b[31md\u001b[m \u001b[31m\u02c8i\u001b[m \u001b[41m \u001b[m \u001b[31mm\u001b[m \u001b[31me\u001b[m \n",
        "\u001b[31m\u03b8\u001b[m \u001b[31m\u02c8a\u001b[m \u001b[31mn\u001b[m \u001b[31mk\u001b[m \u001b[31mo\u001b[m \n",
        "----------------\n",
        "\u001b[31md\u001b[m \u001b[31m\u02c8i\u001b[m \u001b[31mm\u001b[m \u001b[41m \u001b[m \u001b[31me\u001b[m \n",
        "\u001b[31m\u03b8\u001b[m \u001b[31m\u02c8a\u001b[m \u001b[31mn\u001b[m \u001b[31mk\u001b[m \u001b[31mo\u001b[m \n",
        "----------------\n",
        "Response: das [1]\n",
        "Edit scripts: 2\n",
        "\u001b[32md\u001b[m \u001b[31m\u02c8i\u001b[m \u001b[31mm\u001b[m \u001b[31me\u001b[m \n",
        "\u001b[32md\u001b[m \u001b[31m\u02c8a\u001b[m \u001b[41m \u001b[m \u001b[31ms\u001b[m \n",
        "----------------\n",
        "\u001b[32md\u001b[m \u001b[31m\u02c8i\u001b[m \u001b[31mm\u001b[m \u001b[31me\u001b[m \n",
        "\u001b[32md\u001b[m \u001b[31m\u02c8a\u001b[m \u001b[31ms\u001b[m \u001b[41m \u001b[m \n",
        "----------------\n",
        "Response: manzana [7]\n",
        "Edit scripts: 20\n",
        "\u001b[41m     \u001b[m \u001b[31md\u001b[m \u001b[31m\u02c8i\u001b[m \u001b[31mm\u001b[m \u001b[31me\u001b[m \n",
        "\u001b[31mm a n\u001b[m \u001b[31m\u03b8\u001b[m \u001b[31m\u02c8a\u001b[m \u001b[31mn\u001b[m \u001b[31ma\u001b[m \n",
        "----------------\n",
        "\u001b[41m   \u001b[m \u001b[31md\u001b[m \u001b[31m\u02c8i\u001b[m \u001b[41m  \u001b[m \u001b[31mm\u001b[m \u001b[31me\u001b[m \n",
        "\u001b[31mm a\u001b[m \u001b[31mn\u001b[m \u001b[31m\u03b8 \u001b[m \u001b[31m\u02c8a\u001b[m \u001b[31mn\u001b[m \u001b[31ma\u001b[m \n",
        "----------------\n",
        "\u001b[41m \u001b[m \u001b[31md\u001b[m \u001b[31m\u02c8i\u001b[m \u001b[41m    \u001b[m \u001b[31mm\u001b[m \u001b[31me\u001b[m \n",
        "\u001b[31mm\u001b[m \u001b[31ma\u001b[m \u001b[31mn \u001b[m \u001b[31m\u03b8 \u02c8a\u001b[m \u001b[31mn\u001b[m \u001b[31ma\u001b[m \n",
        "----------------\n",
        "Response: n [1]\n",
        "Edit scripts: 2\n",
        "\u001b[31md\u001b[m \u001b[31m\u02c8i\u001b[m \u001b[31mm\u001b[m \u001b[32me\u001b[m \n",
        "\u001b[41m \u001b[m \u001b[31m\u02c8\u025b\u001b[m \u001b[31mn\u001b[m \u001b[32me\u001b[m \n",
        "----------------\n",
        "\u001b[31md \u001b[m \u001b[31m\u02c8i\u001b[m \u001b[31mm\u001b[m \u001b[32me\u001b[m \n",
        "\u001b[31m\u02c8\u025b\u001b[m \u001b[31mn \u001b[m \u001b[41m \u001b[m \u001b[32me\u001b[m \n",
        "----------------\n",
        "Response: azana [1]\n",
        "Edit scripts: 4\n",
        "\u001b[41m \u001b[m \u001b[31md\u001b[m \u001b[31m\u02c8i\u001b[m \u001b[31mm\u001b[m \u001b[31me\u001b[m \n",
        "\u001b[31ma\u001b[m \u001b[31m\u03b8\u001b[m \u001b[31m\u02c8a\u001b[m \u001b[31mn\u001b[m \u001b[31ma\u001b[m \n",
        "----------------\n",
        "\u001b[31md\u001b[m \u001b[31m\u02c8i\u001b[m \u001b[41m  \u001b[m \u001b[31mm\u001b[m \u001b[31me\u001b[m \n",
        "\u001b[31ma\u001b[m \u001b[31m\u03b8 \u001b[m \u001b[31m\u02c8a\u001b[m \u001b[31mn\u001b[m \u001b[31ma\u001b[m \n",
        "----------------\n",
        "\u001b[31md\u001b[m \u001b[31m\u02c8i\u001b[m \u001b[31mm \u001b[m \u001b[41m \u001b[m \u001b[31me\u001b[m \n",
        "\u001b[31ma\u001b[m \u001b[31m\u03b8 \u001b[m \u001b[31m\u02c8a\u001b[m \u001b[31mn\u001b[m \u001b[31ma\u001b[m \n",
        "----------------\n",
        "Response: ax [1]\n",
        "Edit scripts: 3\n",
        "\u001b[31md\u001b[m \u001b[31m\u02c8i\u001b[m \u001b[31mm\u001b[m \u001b[31me\u001b[m \n",
        "\u001b[41m \u001b[m \u001b[31m\u02c8a\u001b[m \u001b[31mk\u001b[m \u001b[31ms\u001b[m \n",
        "----------------\n",
        "\u001b[31md \u001b[m \u001b[31m\u02c8i\u001b[m \u001b[31mm\u001b[m \u001b[31me\u001b[m \n",
        "\u001b[31m\u02c8a\u001b[m \u001b[31mk \u001b[m \u001b[41m \u001b[m \u001b[31ms\u001b[m \n",
        "----------------\n",
        "\u001b[31md \u001b[m \u001b[31m\u02c8i\u001b[m \u001b[31mm\u001b[m \u001b[31me\u001b[m \n",
        "\u001b[31m\u02c8a\u001b[m \u001b[31mk \u001b[m \u001b[31ms\u001b[m \u001b[41m \u001b[m \n",
        "----------------\n",
        "Response: x [1]\n",
        "Edit scripts: 1\n",
        "\u001b[31md \u001b[m \u001b[31m\u02c8i\u001b[m \u001b[31mm\u001b[m \u001b[31me\u001b[m \n",
        "\u001b[31m\u02c8\u025b\u001b[m \u001b[31mk \u001b[m \u001b[31mi\u001b[m \u001b[31ms\u001b[m \n",
        "----------------\n",
        "Response: cercanos [1]\n",
        "Edit scripts: 35\n",
        "\u001b[41m       \u001b[m \u001b[31md \u001b[m \u001b[31m\u02c8i\u001b[m \u001b[31mm\u001b[m \u001b[31me\u001b[m \n",
        "\u001b[31m\u03b8 \u025b \u027e k\u001b[m \u001b[31m\u02c8a\u001b[m \u001b[31mn \u001b[m \u001b[31mo\u001b[m \u001b[31ms\u001b[m \n",
        "----------------\n",
        "\u001b[41m     \u001b[m \u001b[31md\u001b[m \u001b[31m\u02c8i\u001b[m \u001b[41m \u001b[m \u001b[31mm\u001b[m \u001b[31me\u001b[m \n",
        "\u001b[31m\u03b8 \u025b \u027e\u001b[m \u001b[31mk\u001b[m \u001b[31m\u02c8a\u001b[m \u001b[31mn\u001b[m \u001b[31mo\u001b[m \u001b[31ms\u001b[m \n",
        "----------------\n",
        "\u001b[41m   \u001b[m \u001b[31md\u001b[m \u001b[31m\u02c8i\u001b[m \u001b[41m    \u001b[m \u001b[31mm\u001b[m \u001b[31me\u001b[m \n",
        "\u001b[31m\u03b8 \u025b\u001b[m \u001b[31m\u027e\u001b[m \u001b[31mk \u001b[m \u001b[31m\u02c8a n\u001b[m \u001b[31mo\u001b[m \u001b[31ms\u001b[m \n",
        "----------------\n",
        "(u'46539',\n",
        " {u'phoneme': [-2.196669150338195,\n",
        "               -6.932124769810539,\n",
        "               0.0,\n",
        "               -6.932124769810539,\n",
        "               -1.5943425196770438,\n",
        "               -5.428047373034264,\n",
        "               -0.9659002008173196,\n",
        "               -4.565001155678919,\n",
        "               -2.529062268048701],\n",
        "  u'token': -3.460363578579502,\n",
        "  u'trial_count': 15,\n",
        "  u'trials': {u'0': {u'': 12,\n",
        "                     u't': 1,\n",
        "                     u'\u03b8': 2},\n",
        "              u'1': {u'': 2,\n",
        "                     u'a': 1,\n",
        "                     u'd': 1,\n",
        "                     u'j': 1,\n",
        "                     u'm': 7,\n",
        "                     u'\u025b': 1,\n",
        "                     u'\u02c8a': 1,\n",
        "                     u'\u02c8\u025b': 1},\n",
        "              u'2': {u'': 15},\n",
        "              u'3': {u'a': 7,\n",
        "                     u'k': 1,\n",
        "                     u'n': 1,\n",
        "                     u'\u027e': 1,\n",
        "                     u'\u02c8a': 2,\n",
        "                     u'\u02c8e': 1,\n",
        "                     u'\u02c8\u025b': 1,\n",
        "                     u'\u03b8': 1},\n",
        "              u'4': {u'': 8,\n",
        "                     u'n': 7},\n",
        "              u'5': {u'': 1,\n",
        "                     u'i': 1,\n",
        "                     u'k': 3,\n",
        "                     u'n': 2,\n",
        "                     u'\u02c8a': 1,\n",
        "                     u'\u03b8': 7},\n",
        "              u'6': {u'': 14,\n",
        "                     u'\u02c8a n o': 1},\n",
        "              u'7': {u'e': 2,\n",
        "                     u'n': 1,\n",
        "                     u'o': 1,\n",
        "                     u's': 4,\n",
        "                     u'\u02c8a': 7},\n",
        "              u'8': {u'': 7,\n",
        "                     u'a': 1,\n",
        "                     u'n a': 7}}})\n",
        "{'0': {u'': 0.8,\n",
        "       u't': 0.06666666666666667,\n",
        "       u'\u03b8': 0.13333333333333333},\n",
        " '1': {u'': 0.13333333333333333,\n",
        "       u'a': 0.06666666666666667,\n",
        "       u'd': 0.06666666666666667,\n",
        "       u'j': 0.06666666666666667,\n",
        "       u'm': 0.4666666666666667,\n",
        "       u'\u025b': 0.06666666666666667,\n",
        "       u'\u02c8a': 0.06666666666666667,\n",
        "       u'\u02c8\u025b': 0.06666666666666667},\n",
        " '2': {u'': 1.0},\n",
        " '3': {u'a': 0.4666666666666667,\n",
        "       u'k': 0.06666666666666667,\n",
        "       u'n': 0.06666666666666667,\n",
        "       u'\u027e': 0.06666666666666667,\n",
        "       u'\u02c8a': 0.13333333333333333,\n",
        "       u'\u02c8e': 0.06666666666666667,\n",
        "       u'\u02c8\u025b': 0.06666666666666667,\n",
        "       u'\u03b8': 0.06666666666666667},\n",
        " '4': {u'': 0.5333333333333333,\n",
        "       u'n': 0.4666666666666667},\n",
        " '5': {u'': 0.06666666666666667,\n",
        "       u'i': 0.06666666666666667,\n",
        "       u'k': 0.2,\n",
        "       u'n': 0.13333333333333333,\n",
        "       u'\u02c8a': 0.06666666666666667,\n",
        "       u'\u03b8': 0.4666666666666667},\n",
        " '6': {u'': 0.9333333333333333,\n",
        "       u'\u02c8a n o': 0.06666666666666667},\n",
        " '7': {u'e': 0.13333333333333333,\n",
        "       u'n': 0.06666666666666667,\n",
        "       u'o': 0.06666666666666667,\n",
        "       u's': 0.26666666666666666,\n",
        "       u'\u02c8a': 0.4666666666666667},\n",
        " '8': {u'': 0.4666666666666667,\n",
        "       u'a': 0.06666666666666667,\n",
        "       u'n a': 0.4666666666666667}}\n",
        "{u'noise_onset': 397741,\n",
        " u'noise_transcription': u'BAB4.txt',\n",
        " u'noise_type': u'bab4',\n",
        " u'noise_wav': u'BAB4.wav',\n",
        " u'responses': {u'ax': 1,\n",
        "                u'azana': 1,\n",
        "                u'cercanos': 1,\n",
        "                u'das': 1,\n",
        "                u'manzana': 7,\n",
        "                u'n': 1,\n",
        "                u'tiene': 1,\n",
        "                u'x': 1,\n",
        "                u'zanco': 1},\n",
        " u'signal_wav': u'T_46539.wav',\n",
        " u'snr': -2.252,\n",
        " u'speaker': u's2',\n",
        " u'speech': u'dime'}\n"
       ]
      }
     ],
     "prompt_number": 9
    }
   ],
   "metadata": {}
  }
 ]
}