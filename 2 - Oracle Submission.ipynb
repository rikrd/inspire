{
 "metadata": {
  "name": "",
  "signature": "sha256:9e599e85434d485e1f87b3e28b8f2e64ea1097c2eb93154ac931e0b5e3a6c610"
 },
 "nbformat": 3,
 "nbformat_minor": 0,
 "worksheets": [
  {
   "cells": [
    {
     "cell_type": "markdown",
     "metadata": {},
     "source": [
      "# Working with audio\n",
      "## Getting started\n",
      "The first to get started are similar to those follow in the first Tutorial."
     ]
    },
    {
     "cell_type": "code",
     "collapsed": false,
     "input": [
      "%matplotlib inline\n",
      "\n",
      "import numpy as np\n",
      "import inspire\n",
      "import random\n",
      "from collections import defaultdict"
     ],
     "language": "python",
     "metadata": {},
     "outputs": [],
     "prompt_number": 1
    },
    {
     "cell_type": "code",
     "collapsed": false,
     "input": [
      "# Get the evaluation setting\n",
      "setting = inspire.get_evaluation_setting()\n",
      "\n",
      "# Get the dataset\n",
      "dataset_filename = setting.download_dataset()\n",
      "dataset = inspire.load_dataset(dataset_filename)"
     ],
     "language": "python",
     "metadata": {},
     "outputs": [],
     "prompt_number": 2
    },
    {
     "cell_type": "code",
     "collapsed": false,
     "input": [
      "# Get the lexicon\n",
      "lexicon_filename = setting.download_lexicon()\n",
      "lexicon = inspire.load_lexicon(lexicon_filename)"
     ],
     "language": "python",
     "metadata": {},
     "outputs": [],
     "prompt_number": 3
    },
    {
     "cell_type": "code",
     "collapsed": false,
     "input": [
      "submission = inspire.Submission(email='dummy@email.com',\n",
      "                                description='''Optimal Submission:\n",
      "where task: Based on actual responses of development set.\n",
      "what task: Not provided.\n",
      "full task: Not provided.\n",
      "                                ''',\n",
      "                                evaluation_setting=setting)\n",
      "\n",
      "# Iterate over all the stimuli in our dataset\n",
      "for token_id, token  in dataset['tokens'].items():\n",
      "    #for token_id, token  in {'3711': dataset['tokens']['3711']}.items():\n",
      "    if 'responses' not in token:\n",
      "        continue\n",
      "            \n",
      "    word = token['speech']\n",
      "    \n",
      "    # Lexicon may contain multiple pronunciations\n",
      "    pronunciations = lexicon[word]\n",
      "    \n",
      "    # Here we arbitrarily select the first one\n",
      "    pronunciation = pronunciations[0]\n",
      "    \n",
      "    # Get a list of phonemes from the space separated pronunciation of the lexicon\n",
      "    phonemes = pronunciation\n",
      "    \n",
      "    # Possible indices of confusions\n",
      "    # are the number of phonemes plus\n",
      "    # the number of positions around phonemes\n",
      "    index_count = len(phonemes)*2 + 1\n",
      "    \n",
      "    confusion_counts = np.zeros(index_count)\n",
      "    phoneme_confusion_counts = defaultdict(lambda: defaultdict(lambda: 0.))\n",
      "    pronunciation_confusion_counts = defaultdict(lambda: 0.)\n",
      "    \n",
      "    total_count = 0.\n",
      "    for response, count in token['responses'].items():\n",
      "        response_pronunciation = lexicon[response][0]\n",
      "\n",
      "        edit_scripts = inspire.get_edit_scripts(pronunciation, response_pronunciation)\n",
      "        edit_script = random.choice(edit_scripts)\n",
      "                \n",
      "        for op in edit_script:\n",
      "            if op['from_symbol'] != op['to_symbol']:\n",
      "                confusion_counts[op['index']] += count\n",
      "            \n",
      "            phoneme_confusion_counts[op['index']][op['to_symbol']] += count\n",
      "    \n",
      "        pronunciation_confusion_counts[' '.join(response_pronunciation)] += count\n",
      "    \n",
      "        total_count += count\n",
      "    \n",
      "    # Perform the predictions based on the actual response counts\n",
      "    ## Where task\n",
      "    submission.where_task(token_id, confusion_counts/total_count)\n",
      "        \n",
      "    ## What task\n",
      "    for index in range(index_count):\n",
      "        # Indices that appeared in the edit script\n",
      "        for index, counts in phoneme_confusion_counts.items():\n",
      "            for phoneme, count in counts.items():\n",
      "                submission.what_task(token_id, index, phoneme, count/total_count, warn=False)\n",
      "                    \n",
      "    ## Full task\n",
      "    for pronunciation, count in pronunciation_confusion_counts.items():\n",
      "        submission.full_task(token_id, pronunciation, count/total_count, warn=False)"
     ],
     "language": "python",
     "metadata": {},
     "outputs": [],
     "prompt_number": 37
    },
    {
     "cell_type": "code",
     "collapsed": false,
     "input": [
      "job = submission.evaluate(password='dummypassword')"
     ],
     "language": "python",
     "metadata": {},
     "outputs": [],
     "prompt_number": 41
    },
    {
     "cell_type": "code",
     "collapsed": false,
     "input": [
      "job.wait()\n",
      "\n",
      "result = job.result()\n",
      "\n",
      "inspire.pprint(result['where']['token_averaged'])\n",
      "inspire.pprint(result['what']['token_averaged'])\n",
      "inspire.pprint(result['full']['token_averaged'])"
     ],
     "language": "python",
     "metadata": {},
     "outputs": [
      {
       "javascript": [
        "//16ded155-4c5a-44ca-87df-832fa9f969db\n",
        "$(\"head\").append(\"<style> td.pb_widget {     width: auto; } td.pb_widget_fill {     width: 100%; } table.pb {     font-family: monospace;     border: 0;     margin: 0; } table.pb tr { border: 0; } table.pb td {     white-space: nowrap;     border: 0; } div.pb {     border: 1px solid #ddd;     border-radius: 3px; } div.pb_bar {     height: 1.5em; } </style>\")"
       ],
       "metadata": {},
       "output_type": "display_data",
       "text": [
        "<IPython.core.display.Javascript at 0x1241e8090>"
       ]
      },
      {
       "javascript": [
        "\n",
        "                  // 16ded155-4c5a-44ca-87df-832fa9f969db -- used to remove this code blob in the end\n",
        "                  IPython.OutputArea.prototype.cleanProgressBar = function(uuids) {\n",
        "                      // filter by uuid-strings \n",
        "                      var myfilter = function(output) { \n",
        "                          var nuids = uuids.length;\n",
        "                          for (var i=0; i<nuids; i++) {\n",
        "                              if (output.hasOwnProperty('html')) {\n",
        "                                  if (output.html.indexOf(uuids[i]) != -1) {\n",
        "                                      return false;\n",
        "                                  }\n",
        "                              }\n",
        "                              if (output.hasOwnProperty('javascript')) {\n",
        "                                  if (output.javascript.indexOf(uuids[i]) != -1) {\n",
        "                                      return false;\n",
        "                                  }\n",
        "                              }\n",
        "                          }\n",
        "                          // keep all others\n",
        "                          return true;\n",
        "                      };\n",
        "\n",
        "                      // Filter the ouputs\n",
        "                      this.outputs = this.outputs.filter(myfilter);\n",
        "                };\n",
        "                "
       ],
       "metadata": {},
       "output_type": "display_data",
       "text": [
        "<IPython.core.display.Javascript at 0x11e482e50>"
       ]
      },
      {
       "html": [
        "<div class=\"pb\" id=\"16ded155-4c5a-44ca-87df-832fa9f969db\"><table class=\"pb ui-widget\"><tr>\n",
        "<td class=\"pb_widget\">Processing: </td>\n",
        "<td class=\"pb_widget\"><div id=\"c2b4bb6f-424f-44cc-81ae-b8b2db32b092\">  0%</div></td>\n",
        "<td class=\"pb_widget\"> </td>\n",
        "<td class=\"pb_widget_fill\">\n",
        "        <div class=\"pb_bar\" id=\"3bb967aa-580a-46e7-89f6-82f15d7fbcc7\"></div>\n",
        "        <script type=\"text/javascript\">\n",
        "            $(\"div#3bb967aa-580a-46e7-89f6-82f15d7fbcc7\").progressbar({value: 0, max: 100});\n",
        "        </script>\n",
        "        </td>\n",
        "<td class=\"pb_widget\"> </td>\n",
        "<td class=\"pb_widget\"><div id=\"f21d07f9-c8de-4b14-af7e-7b9a05165d2a\">ETA:  --:--:--</div></td>\n",
        "</tr></table><div>"
       ],
       "metadata": {},
       "output_type": "display_data",
       "text": [
        "<IPython.core.display.HTML at 0x11e482ad0>"
       ]
      },
      {
       "javascript": [
        "$('div#c2b4bb6f-424f-44cc-81ae-b8b2db32b092').text(' 21%');"
       ],
       "metadata": {},
       "output_type": "display_data",
       "text": [
        "<IPython.core.display.Javascript at 0x1241e8910>"
       ]
      },
      {
       "javascript": [
        "\n",
        "        var $myPB = $(\"div#3bb967aa-580a-46e7-89f6-82f15d7fbcc7\")\n",
        "        if ($myPB.hasClass('ui-progressbar')) {\n",
        "            $myPB.progressbar('value', 21);\n",
        "        } else {\n",
        "            $myPB.progressbar({value: 0, max: 100});\n",
        "        }\n",
        "        "
       ],
       "metadata": {},
       "output_type": "display_data",
       "text": [
        "<IPython.core.display.Javascript at 0x1241e8d90>"
       ]
      },
      {
       "javascript": [
        "$('div#f21d07f9-c8de-4b14-af7e-7b9a05165d2a').text('ETA:  0:00:00');"
       ],
       "metadata": {},
       "output_type": "display_data",
       "text": [
        "<IPython.core.display.Javascript at 0x1241e8510>"
       ]
      },
      {
       "javascript": [
        "$('div#c2b4bb6f-424f-44cc-81ae-b8b2db32b092').text(' 21%');"
       ],
       "metadata": {},
       "output_type": "display_data",
       "text": [
        "<IPython.core.display.Javascript at 0x1241e8a10>"
       ]
      },
      {
       "javascript": [
        "\n",
        "        var $myPB = $(\"div#3bb967aa-580a-46e7-89f6-82f15d7fbcc7\")\n",
        "        if ($myPB.hasClass('ui-progressbar')) {\n",
        "            $myPB.progressbar('value', 21);\n",
        "        } else {\n",
        "            $myPB.progressbar({value: 0, max: 100});\n",
        "        }\n",
        "        "
       ],
       "metadata": {},
       "output_type": "display_data",
       "text": [
        "<IPython.core.display.Javascript at 0x1241e8610>"
       ]
      },
      {
       "javascript": [
        "$('div#f21d07f9-c8de-4b14-af7e-7b9a05165d2a').text('ETA:  0:00:03');"
       ],
       "metadata": {},
       "output_type": "display_data",
       "text": [
        "<IPython.core.display.Javascript at 0x1241e8fd0>"
       ]
      },
      {
       "javascript": [
        "$('div#c2b4bb6f-424f-44cc-81ae-b8b2db32b092').text(' 30%');"
       ],
       "metadata": {},
       "output_type": "display_data",
       "text": [
        "<IPython.core.display.Javascript at 0x1241e8dd0>"
       ]
      },
      {
       "javascript": [
        "\n",
        "        var $myPB = $(\"div#3bb967aa-580a-46e7-89f6-82f15d7fbcc7\")\n",
        "        if ($myPB.hasClass('ui-progressbar')) {\n",
        "            $myPB.progressbar('value', 30);\n",
        "        } else {\n",
        "            $myPB.progressbar({value: 0, max: 100});\n",
        "        }\n",
        "        "
       ],
       "metadata": {},
       "output_type": "display_data",
       "text": [
        "<IPython.core.display.Javascript at 0x1241e8850>"
       ]
      },
      {
       "javascript": [
        "$('div#f21d07f9-c8de-4b14-af7e-7b9a05165d2a').text('ETA:  0:00:04');"
       ],
       "metadata": {},
       "output_type": "display_data",
       "text": [
        "<IPython.core.display.Javascript at 0x1241e83d0>"
       ]
      },
      {
       "javascript": [
        "$('div#c2b4bb6f-424f-44cc-81ae-b8b2db32b092').text(' 37%');"
       ],
       "metadata": {},
       "output_type": "display_data",
       "text": [
        "<IPython.core.display.Javascript at 0x1241e81d0>"
       ]
      },
      {
       "javascript": [
        "\n",
        "        var $myPB = $(\"div#3bb967aa-580a-46e7-89f6-82f15d7fbcc7\")\n",
        "        if ($myPB.hasClass('ui-progressbar')) {\n",
        "            $myPB.progressbar('value', 37);\n",
        "        } else {\n",
        "            $myPB.progressbar({value: 0, max: 100});\n",
        "        }\n",
        "        "
       ],
       "metadata": {},
       "output_type": "display_data",
       "text": [
        "<IPython.core.display.Javascript at 0x1241e8210>"
       ]
      },
      {
       "javascript": [
        "$('div#f21d07f9-c8de-4b14-af7e-7b9a05165d2a').text('ETA:  0:00:05');"
       ],
       "metadata": {},
       "output_type": "display_data",
       "text": [
        "<IPython.core.display.Javascript at 0x1241e8f90>"
       ]
      },
      {
       "javascript": [
        "$('div#c2b4bb6f-424f-44cc-81ae-b8b2db32b092').text(' 55%');"
       ],
       "metadata": {},
       "output_type": "display_data",
       "text": [
        "<IPython.core.display.Javascript at 0x1241e8ed0>"
       ]
      },
      {
       "javascript": [
        "\n",
        "        var $myPB = $(\"div#3bb967aa-580a-46e7-89f6-82f15d7fbcc7\")\n",
        "        if ($myPB.hasClass('ui-progressbar')) {\n",
        "            $myPB.progressbar('value', 55);\n",
        "        } else {\n",
        "            $myPB.progressbar({value: 0, max: 100});\n",
        "        }\n",
        "        "
       ],
       "metadata": {},
       "output_type": "display_data",
       "text": [
        "<IPython.core.display.Javascript at 0x1241e85d0>"
       ]
      },
      {
       "javascript": [
        "$('div#f21d07f9-c8de-4b14-af7e-7b9a05165d2a').text('ETA:  0:00:03');"
       ],
       "metadata": {},
       "output_type": "display_data",
       "text": [
        "<IPython.core.display.Javascript at 0x1241e8cd0>"
       ]
      },
      {
       "javascript": [
        "$('div#c2b4bb6f-424f-44cc-81ae-b8b2db32b092').text(' 55%');"
       ],
       "metadata": {},
       "output_type": "display_data",
       "text": [
        "<IPython.core.display.Javascript at 0x1241e86d0>"
       ]
      },
      {
       "javascript": [
        "\n",
        "        var $myPB = $(\"div#3bb967aa-580a-46e7-89f6-82f15d7fbcc7\")\n",
        "        if ($myPB.hasClass('ui-progressbar')) {\n",
        "            $myPB.progressbar('value', 55);\n",
        "        } else {\n",
        "            $myPB.progressbar({value: 0, max: 100});\n",
        "        }\n",
        "        "
       ],
       "metadata": {},
       "output_type": "display_data",
       "text": [
        "<IPython.core.display.Javascript at 0x1241e8310>"
       ]
      },
      {
       "javascript": [
        "$('div#f21d07f9-c8de-4b14-af7e-7b9a05165d2a').text('ETA:  0:00:04');"
       ],
       "metadata": {},
       "output_type": "display_data",
       "text": [
        "<IPython.core.display.Javascript at 0x1241e84d0>"
       ]
      },
      {
       "javascript": [
        "$('div#c2b4bb6f-424f-44cc-81ae-b8b2db32b092').text(' 58%');"
       ],
       "metadata": {},
       "output_type": "display_data",
       "text": [
        "<IPython.core.display.Javascript at 0x1241e8290>"
       ]
      },
      {
       "javascript": [
        "\n",
        "        var $myPB = $(\"div#3bb967aa-580a-46e7-89f6-82f15d7fbcc7\")\n",
        "        if ($myPB.hasClass('ui-progressbar')) {\n",
        "            $myPB.progressbar('value', 58);\n",
        "        } else {\n",
        "            $myPB.progressbar({value: 0, max: 100});\n",
        "        }\n",
        "        "
       ],
       "metadata": {},
       "output_type": "display_data",
       "text": [
        "<IPython.core.display.Javascript at 0x1241e89d0>"
       ]
      },
      {
       "javascript": [
        "$('div#f21d07f9-c8de-4b14-af7e-7b9a05165d2a').text('ETA:  0:00:04');"
       ],
       "metadata": {},
       "output_type": "display_data",
       "text": [
        "<IPython.core.display.Javascript at 0x1241e8890>"
       ]
      },
      {
       "javascript": [
        "$('div#c2b4bb6f-424f-44cc-81ae-b8b2db32b092').text(' 83%');"
       ],
       "metadata": {},
       "output_type": "display_data",
       "text": [
        "<IPython.core.display.Javascript at 0x1241e8b10>"
       ]
      },
      {
       "javascript": [
        "\n",
        "        var $myPB = $(\"div#3bb967aa-580a-46e7-89f6-82f15d7fbcc7\")\n",
        "        if ($myPB.hasClass('ui-progressbar')) {\n",
        "            $myPB.progressbar('value', 83);\n",
        "        } else {\n",
        "            $myPB.progressbar({value: 0, max: 100});\n",
        "        }\n",
        "        "
       ],
       "metadata": {},
       "output_type": "display_data",
       "text": [
        "<IPython.core.display.Javascript at 0x1241e8c90>"
       ]
      },
      {
       "javascript": [
        "$('div#f21d07f9-c8de-4b14-af7e-7b9a05165d2a').text('ETA:  0:00:01');"
       ],
       "metadata": {},
       "output_type": "display_data",
       "text": [
        "<IPython.core.display.Javascript at 0x1241e8190>"
       ]
      },
      {
       "javascript": [
        "$('div#c2b4bb6f-424f-44cc-81ae-b8b2db32b092').text('100%');"
       ],
       "metadata": {},
       "output_type": "display_data",
       "text": [
        "<IPython.core.display.Javascript at 0x1223f3490>"
       ]
      },
      {
       "javascript": [
        "\n",
        "        var $myPB = $(\"div#3bb967aa-580a-46e7-89f6-82f15d7fbcc7\")\n",
        "        if ($myPB.hasClass('ui-progressbar')) {\n",
        "            $myPB.progressbar('value', 100);\n",
        "        } else {\n",
        "            $myPB.progressbar({value: 0, max: 100});\n",
        "        }\n",
        "        "
       ],
       "metadata": {},
       "output_type": "display_data",
       "text": [
        "<IPython.core.display.Javascript at 0x1223f3190>"
       ]
      },
      {
       "javascript": [
        "$('div#f21d07f9-c8de-4b14-af7e-7b9a05165d2a').text('Time: 0:00:08');"
       ],
       "metadata": {},
       "output_type": "display_data",
       "text": [
        "<IPython.core.display.Javascript at 0x1223f3950>"
       ]
      },
      {
       "javascript": [
        "var element = document.getElementById('16ded155-4c5a-44ca-87df-832fa9f969db');\n",
        "                    var parent = element.parentNode\n",
        "                    parent.removeChild(element);\n",
        "                    parent.parentElement.remove();"
       ],
       "metadata": {},
       "output_type": "display_data",
       "text": [
        "<IPython.core.display.Javascript at 0x12a7dd150>"
       ]
      },
      {
       "javascript": [
        "this.cleanProgressBar(['16ded155-4c5a-44ca-87df-832fa9f969db', 'c2b4bb6f-424f-44cc-81ae-b8b2db32b092', '3bb967aa-580a-46e7-89f6-82f15d7fbcc7', 'f21d07f9-c8de-4b14-af7e-7b9a05165d2a'])"
       ],
       "metadata": {},
       "output_type": "display_data",
       "text": [
        "<IPython.core.display.Javascript at 0x1223f3fd0>"
       ]
      },
      {
       "output_type": "stream",
       "stream": "stdout",
       "text": [
        "-0.6708070341878524\n",
        "-1.2127436455239031\n",
        "-5.102282905952398\n"
       ]
      }
     ],
     "prompt_number": 42
    },
    {
     "cell_type": "code",
     "collapsed": false,
     "input": [
      "task = 'full'\n",
      "worst_result = sorted(result[task]['tokens'].items(), key=lambda x: -x[1]['token'])[-2]\n",
      "worst_token_id = worst_result[0]\n",
      "worst_submission = submission['tokens'][worst_result[0]]\n",
      "\n",
      "for response, count in dataset['tokens'][worst_token_id]['responses'].items():\n",
      "    print('Response: {} [{}]'.format(response, count))\n",
      "    edit_scripts = inspire.get_edit_scripts(lexicon[dataset['tokens'][worst_token_id]['speech']][0],\n",
      "                                            lexicon[response][0])\n",
      "\n",
      "    print('Edit scripts: {}'.format(len(edit_scripts)))\n",
      "    for es in edit_scripts[:3]:\n",
      "        inspire.print_edit_script(es)\n",
      "        print('----------------')\n",
      "\n",
      "inspire.pprint(worst_result, width=10)\n",
      "inspire.pprint(worst_submission[task], width=10)\n",
      "inspire.pprint(dataset['tokens'][worst_token_id], width=10)"
     ],
     "language": "python",
     "metadata": {},
     "outputs": [
      {
       "output_type": "stream",
       "stream": "stdout",
       "text": [
        "Response: haces [1]\n",
        "Edit scripts: 2\n",
        "\u001b[32m\u02c8a\u001b[m \u001b[31m\u027e\u001b[m \u001b[31mt\u001b[m \u001b[31me\u001b[m \n",
        "\u001b[32m\u02c8a\u001b[m \u001b[31m\u03b8\u001b[m \u001b[31me\u001b[m \u001b[31ms\u001b[m \n",
        "----------------\n",
        "\u001b[32m\u02c8a\u001b[m \u001b[31m\u027e\u001b[m \u001b[31mt\u001b[m \u001b[32me\u001b[m \u001b[41m \u001b[m \n",
        "\u001b[32m\u02c8a\u001b[m \u001b[31m\u03b8\u001b[m \u001b[41m \u001b[m \u001b[32me\u001b[m \u001b[31ms\u001b[m \n",
        "----------------\n",
        "Response: amo [1]\n",
        "Edit scripts: 2\n",
        "\u001b[32m\u02c8a\u001b[m \u001b[31m\u027e\u001b[m \u001b[31mt\u001b[m \u001b[31me\u001b[m \n",
        "\u001b[32m\u02c8a\u001b[m \u001b[31mm\u001b[m \u001b[41m \u001b[m \u001b[31mo\u001b[m \n",
        "----------------\n",
        "\u001b[32m\u02c8a\u001b[m \u001b[31m\u027e\u001b[m \u001b[31mt\u001b[m \u001b[31me\u001b[m \n",
        "\u001b[32m\u02c8a\u001b[m \u001b[31mm\u001b[m \u001b[31mo\u001b[m \u001b[41m \u001b[m \n",
        "----------------\n",
        "Response: hablo [1]\n",
        "Edit scripts: 1\n",
        "\u001b[32m\u02c8a\u001b[m \u001b[31m\u027e\u001b[m \u001b[31mt\u001b[m \u001b[31me\u001b[m \n",
        "\u001b[32m\u02c8a\u001b[m \u001b[31m\u03b2\u001b[m \u001b[31ml\u001b[m \u001b[31mo\u001b[m \n",
        "----------------\n",
        "Response: abre [1]\n",
        "Edit scripts: 1\n",
        "\u001b[32m\u02c8a\u001b[m \u001b[31m\u027e\u001b[m \u001b[31mt\u001b[m \u001b[32me\u001b[m \n",
        "\u001b[32m\u02c8a\u001b[m \u001b[31m\u03b2\u001b[m \u001b[31m\u027e\u001b[m \u001b[32me\u001b[m \n",
        "----------------\n",
        "Response: hace [1]\n",
        "Edit scripts: 1\n",
        "\u001b[32m\u02c8a\u001b[m \u001b[31m\u027e\u001b[m \u001b[31mt\u001b[m \u001b[32me\u001b[m \n",
        "\u001b[32m\u02c8a\u001b[m \u001b[31m\u03b8\u001b[m \u001b[41m \u001b[m \u001b[32me\u001b[m \n",
        "----------------\n",
        "Response: algo [1]\n",
        "Edit scripts: 1\n",
        "\u001b[32m\u02c8a\u001b[m \u001b[31m\u027e\u001b[m \u001b[31mt\u001b[m \u001b[31me\u001b[m \n",
        "\u001b[32m\u02c8a\u001b[m \u001b[31ml\u001b[m \u001b[31m\u0263\u001b[m \u001b[31mo\u001b[m \n",
        "----------------\n",
        "Response: harto [1]\n",
        "Edit scripts: 1\n",
        "\u001b[32m\u02c8a\u001b[m \u001b[32m\u027e\u001b[m \u001b[32mt\u001b[m \u001b[31me\u001b[m \n",
        "\u001b[32m\u02c8a\u001b[m \u001b[32m\u027e\u001b[m \u001b[32mt\u001b[m \u001b[31mo\u001b[m \n",
        "----------------\n",
        "Response: ave [1]\n",
        "Edit scripts: 1\n",
        "\u001b[32m\u02c8a\u001b[m \u001b[31m\u027e\u001b[m \u001b[31mt\u001b[m \u001b[32me\u001b[m \n",
        "\u001b[32m\u02c8a\u001b[m \u001b[31m\u03b2\u001b[m \u001b[41m \u001b[m \u001b[32me\u001b[m \n",
        "----------------\n",
        "Response: arbol [6]\n",
        "Edit scripts: 3\n",
        "\u001b[31m\u02c8a\u001b[m \u001b[32m\u027e\u001b[m \u001b[41m \u001b[m \u001b[31mt \u001b[m \u001b[31me\u001b[m \n",
        "\u001b[31ma \u001b[m \u001b[32m\u027e\u001b[m \u001b[31m\u03b2\u001b[m \u001b[31m\u02c8\u0254\u001b[m \u001b[31ml\u001b[m \n",
        "----------------\n",
        "\u001b[31m\u02c8a\u001b[m \u001b[32m\u027e\u001b[m \u001b[31mt\u001b[m \u001b[41m  \u001b[m \u001b[31me\u001b[m \n",
        "\u001b[31ma \u001b[m \u001b[32m\u027e\u001b[m \u001b[31m\u03b2\u001b[m \u001b[31m\u02c8\u0254\u001b[m \u001b[31ml\u001b[m \n",
        "----------------\n",
        "\u001b[31m\u02c8a\u001b[m \u001b[32m\u027e\u001b[m \u001b[31mt\u001b[m \u001b[31me \u001b[m \u001b[41m \u001b[m \n",
        "\u001b[31ma \u001b[m \u001b[32m\u027e\u001b[m \u001b[31m\u03b2\u001b[m \u001b[31m\u02c8\u0254\u001b[m \u001b[31ml\u001b[m \n",
        "----------------\n",
        "Response: aro [1]\n",
        "Edit scripts: 2\n",
        "\u001b[32m\u02c8a\u001b[m \u001b[32m\u027e\u001b[m \u001b[31mt\u001b[m \u001b[31me\u001b[m \n",
        "\u001b[32m\u02c8a\u001b[m \u001b[32m\u027e\u001b[m \u001b[41m \u001b[m \u001b[31m\u0254\u001b[m \n",
        "----------------\n",
        "\u001b[32m\u02c8a\u001b[m \u001b[32m\u027e\u001b[m \u001b[31mt\u001b[m \u001b[31me\u001b[m \n",
        "\u001b[32m\u02c8a\u001b[m \u001b[32m\u027e\u001b[m \u001b[31m\u0254\u001b[m \u001b[41m \u001b[m \n",
        "----------------\n",
        "(u'38328',\n",
        " {u'token': -8.550176029334033,\n",
        "  u'trial_count': 15,\n",
        "  u'trials': {u'a \u027e \u03b2 \u02c8\u0254 l': 6,\n",
        "              u'\u02c8a l \u0263 o': 1,\n",
        "              u'\u02c8a m o': 1,\n",
        "              u'\u02c8a \u027e t o': 1,\n",
        "              u'\u02c8a \u027e \u0254': 1,\n",
        "              u'\u02c8a \u03b2 e': 1,\n",
        "              u'\u02c8a \u03b2 l o': 1,\n",
        "              u'\u02c8a \u03b2 \u027e e': 1,\n",
        "              u'\u02c8a \u03b8 e': 1,\n",
        "              u'\u02c8a \u03b8 e s': 1}})\n",
        "{u'a \u027e \u03b2 \u02c8\u0254 l': 0.4,\n",
        " u'\u02c8a l \u0263 o': 0.06666666666666667,\n",
        " u'\u02c8a m o': 0.06666666666666667,\n",
        " u'\u02c8a \u027e t o': 0.06666666666666667,\n",
        " u'\u02c8a \u027e \u0254': 0.06666666666666667,\n",
        " u'\u02c8a \u03b2 e': 0.06666666666666667,\n",
        " u'\u02c8a \u03b2 l o': 0.06666666666666667,\n",
        " u'\u02c8a \u03b2 \u027e e': 0.06666666666666667,\n",
        " u'\u02c8a \u03b8 e': 0.06666666666666667,\n",
        " u'\u02c8a \u03b8 e s': 0.06666666666666667}\n",
        "{u'noise_onset': 715877,\n",
        " u'noise_transcription': u'SSN.txt',\n",
        " u'noise_type': u'ssn',\n",
        " u'noise_wav': u'SSN.wav',\n",
        " u'responses': {u'abre': 1,\n",
        "                u'algo': 1,\n",
        "                u'amo': 1,\n",
        "                u'arbol': 6,\n",
        "                u'aro': 1,\n",
        "                u'ave': 1,\n",
        "                u'hablo': 1,\n",
        "                u'hace': 1,\n",
        "                u'haces': 1,\n",
        "                u'harto': 1},\n",
        " u'signal_wav': u'T_38328.wav',\n",
        " u'snr': -6.544,\n",
        " u'speaker': u's4',\n",
        " u'speech': u'arte'}\n"
       ]
      }
     ],
     "prompt_number": 53
    },
    {
     "cell_type": "code",
     "collapsed": false,
     "input": [],
     "language": "python",
     "metadata": {},
     "outputs": []
    }
   ],
   "metadata": {}
  }
 ]
}