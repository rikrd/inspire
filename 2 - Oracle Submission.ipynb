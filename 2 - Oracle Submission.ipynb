{
 "metadata": {
  "name": "",
  "signature": "sha256:2d8031cbe22a1433afb1d2b9d4a9861ee4e79b3c0c02b3ad6d2d912ddadec5ea"
 },
 "nbformat": 3,
 "nbformat_minor": 0,
 "worksheets": [
  {
   "cells": [
    {
     "cell_type": "markdown",
     "metadata": {},
     "source": [
      "# Working with audio\n",
      "## Getting started\n",
      "The first to get started are similar to those follow in the first Tutorial."
     ]
    },
    {
     "cell_type": "code",
     "collapsed": false,
     "input": [
      "%matplotlib inline\n",
      "\n",
      "import numpy as np\n",
      "import inspire\n",
      "import random"
     ],
     "language": "python",
     "metadata": {},
     "outputs": [],
     "prompt_number": 6
    },
    {
     "cell_type": "code",
     "collapsed": false,
     "input": [
      "# Get the evaluation setting\n",
      "setting = inspire.get_evaluation_setting()\n",
      "\n",
      "# Get the dataset\n",
      "dataset_filename = setting.download_dataset()\n",
      "dataset = inspire.load_dataset(dataset_filename)"
     ],
     "language": "python",
     "metadata": {},
     "outputs": [],
     "prompt_number": 3
    },
    {
     "cell_type": "code",
     "collapsed": false,
     "input": [
      "# Get the lexicon\n",
      "lexicon_filename = setting.download_lexicon()\n",
      "lexicon = inspire.load_lexicon(lexicon_filename)"
     ],
     "language": "python",
     "metadata": {},
     "outputs": [],
     "prompt_number": 4
    },
    {
     "cell_type": "code",
     "collapsed": false,
     "input": [
      "submission = inspire.Submission(email='dummy@email.com',\n",
      "                                description='''Optimal Submission:\n",
      "where task: Based on actual responses of development set.\n",
      "what task: Not provided.\n",
      "full task: Not provided.\n",
      "                                ''',\n",
      "                                evaluation_setting=setting)"
     ],
     "language": "python",
     "metadata": {},
     "outputs": [],
     "prompt_number": 5
    },
    {
     "cell_type": "code",
     "collapsed": false,
     "input": [
      "# Iterate over all the stimuli in our dataset\n",
      "for token_id, token  in dataset['tokens'].items():\n",
      "    if 'responses' not in token:\n",
      "        continue\n",
      "        \n",
      "    word = token['speech']\n",
      "    \n",
      "    # Lexicon may contain multiple pronunciations\n",
      "    pronunciations = lexicon[word]\n",
      "    \n",
      "    # Here we arbitrarily select the first one\n",
      "    pronunciation = pronunciations[0]\n",
      "    \n",
      "    # Get a list of phonemes from the space separated pronunciation of the lexicon\n",
      "    phonemes = pronunciation\n",
      "    \n",
      "    # Possible indices of confusions\n",
      "    # are the number of phonemes plus\n",
      "    # the number of positions around phonemes\n",
      "    index_count = len(phonemes)*2 + 1\n",
      "    \n",
      "    confusion_probabilities = np.zeros(index_count)\n",
      "\n",
      "    total_count = 0.\n",
      "    for response, count in token['responses'].items():\n",
      "        response_pronunciation = lexicon[response][0]\n",
      "        \n",
      "        edit_scripts = inspire.get_edit_scripts(pronunciation, response_pronunciation)\n",
      "        edit_script = random.choice(edit_scripts)\n",
      "        \n",
      "        confusion_indices = set()\n",
      "        for op in edit_script:\n",
      "            if op['from_symbol'] != op['to_symbol']:\n",
      "                confusion_indices.add(op['index'])\n",
      "                \n",
      "        for index in confusion_indices:\n",
      "            confusion_probabilities[index] += count\n",
      "\n",
      "        total_count += count\n",
      "    \n",
      "    confusion_probabilities /= total_count\n",
      "    \n",
      "    submission.where_task(token_id, confusion_probabilities)"
     ],
     "language": "python",
     "metadata": {},
     "outputs": [],
     "prompt_number": 10
    },
    {
     "cell_type": "code",
     "collapsed": false,
     "input": [
      "inspire.pprint(submission)"
     ],
     "language": "python",
     "metadata": {},
     "outputs": []
    },
    {
     "cell_type": "code",
     "collapsed": false,
     "input": [
      "job = submission.evaluate(password='dummypassword')"
     ],
     "language": "python",
     "metadata": {},
     "outputs": [],
     "prompt_number": 12
    },
    {
     "cell_type": "code",
     "collapsed": false,
     "input": [
      "job.wait()\n",
      "\n",
      "result = job.result()\n",
      "\n",
      "inspire.pprint(result['where']['token_averaged'])"
     ],
     "language": "python",
     "metadata": {},
     "outputs": [
      {
       "javascript": [
        "//0480d528-6340-42fc-9127-145915aee792\n",
        "$(\"head\").append(\"<style> td.pb_widget {     width: auto; } td.pb_widget_fill {     width: 100%; } table.pb {     font-family: monospace;     border: 0;     margin: 0; } table.pb tr { border: 0; } table.pb td {     white-space: nowrap;     border: 0; } div.pb {     border: 1px solid #ddd;     border-radius: 3px; } div.pb_bar {     height: 1.5em; } </style>\")"
       ],
       "metadata": {},
       "output_type": "display_data",
       "text": [
        "<IPython.core.display.Javascript at 0x11d1b06d0>"
       ]
      },
      {
       "javascript": [
        "\n",
        "                  // 0480d528-6340-42fc-9127-145915aee792 -- used to remove this code blob in the end\n",
        "                  IPython.OutputArea.prototype.cleanProgressBar = function(uuids) {\n",
        "                      // filter by uuid-strings \n",
        "                      var myfilter = function(output) { \n",
        "                          var nuids = uuids.length;\n",
        "                          for (var i=0; i<nuids; i++) {\n",
        "                              if (output.hasOwnProperty('html')) {\n",
        "                                  if (output.html.indexOf(uuids[i]) != -1) {\n",
        "                                      return false;\n",
        "                                  }\n",
        "                              }\n",
        "                              if (output.hasOwnProperty('javascript')) {\n",
        "                                  if (output.javascript.indexOf(uuids[i]) != -1) {\n",
        "                                      return false;\n",
        "                                  }\n",
        "                              }\n",
        "                          }\n",
        "                          // keep all others\n",
        "                          return true;\n",
        "                      };\n",
        "\n",
        "                      // Filter the ouputs\n",
        "                      this.outputs = this.outputs.filter(myfilter);\n",
        "                };\n",
        "                "
       ],
       "metadata": {},
       "output_type": "display_data",
       "text": [
        "<IPython.core.display.Javascript at 0x11d1b0710>"
       ]
      },
      {
       "html": [
        "<div class=\"pb\" id=\"0480d528-6340-42fc-9127-145915aee792\"><table class=\"pb ui-widget\"><tr>\n",
        "<td class=\"pb_widget\">Processing: </td>\n",
        "<td class=\"pb_widget\"><div id=\"2524b7b8-eef2-4735-96f2-914f103dac9d\">  0%</div></td>\n",
        "<td class=\"pb_widget\"> </td>\n",
        "<td class=\"pb_widget_fill\">\n",
        "        <div class=\"pb_bar\" id=\"237d8900-420f-4fe9-bec2-fd0f4a563298\"></div>\n",
        "        <script type=\"text/javascript\">\n",
        "            $(\"div#237d8900-420f-4fe9-bec2-fd0f4a563298\").progressbar({value: 0, max: 100});\n",
        "        </script>\n",
        "        </td>\n",
        "<td class=\"pb_widget\"> </td>\n",
        "<td class=\"pb_widget\"><div id=\"65e70d91-be8a-45fa-9bdc-a3a79d30a2a5\">ETA:  --:--:--</div></td>\n",
        "</tr></table><div>"
       ],
       "metadata": {},
       "output_type": "display_data",
       "text": [
        "<IPython.core.display.HTML at 0x11d1b08d0>"
       ]
      },
      {
       "javascript": [
        "$('div#2524b7b8-eef2-4735-96f2-914f103dac9d').text('100%');"
       ],
       "metadata": {},
       "output_type": "display_data",
       "text": [
        "<IPython.core.display.Javascript at 0x11d1b0810>"
       ]
      },
      {
       "javascript": [
        "\n",
        "        var $myPB = $(\"div#237d8900-420f-4fe9-bec2-fd0f4a563298\")\n",
        "        if ($myPB.hasClass('ui-progressbar')) {\n",
        "            $myPB.progressbar('value', 100);\n",
        "        } else {\n",
        "            $myPB.progressbar({value: 0, max: 100});\n",
        "        }\n",
        "        "
       ],
       "metadata": {},
       "output_type": "display_data",
       "text": [
        "<IPython.core.display.Javascript at 0x11d1b0890>"
       ]
      },
      {
       "javascript": [
        "$('div#65e70d91-be8a-45fa-9bdc-a3a79d30a2a5').text('Time: 0:00:00');"
       ],
       "metadata": {},
       "output_type": "display_data",
       "text": [
        "<IPython.core.display.Javascript at 0x11d1b0c50>"
       ]
      },
      {
       "javascript": [
        "var element = document.getElementById('0480d528-6340-42fc-9127-145915aee792');\n",
        "                    var parent = element.parentNode\n",
        "                    parent.removeChild(element);\n",
        "                    parent.parentElement.remove();"
       ],
       "metadata": {},
       "output_type": "display_data",
       "text": [
        "<IPython.core.display.Javascript at 0x11d1b0e10>"
       ]
      },
      {
       "javascript": [
        "this.cleanProgressBar(['0480d528-6340-42fc-9127-145915aee792', '2524b7b8-eef2-4735-96f2-914f103dac9d', '237d8900-420f-4fe9-bec2-fd0f4a563298', '65e70d91-be8a-45fa-9bdc-a3a79d30a2a5'])"
       ],
       "metadata": {},
       "output_type": "display_data",
       "text": [
        "<IPython.core.display.Javascript at 0x11d1b0690>"
       ]
      },
      {
       "output_type": "stream",
       "stream": "stdout",
       "text": [
        "-0.6691024288166441\n"
       ]
      }
     ],
     "prompt_number": 13
    },
    {
     "cell_type": "code",
     "collapsed": false,
     "input": [],
     "language": "python",
     "metadata": {},
     "outputs": []
    }
   ],
   "metadata": {}
  }
 ]
}