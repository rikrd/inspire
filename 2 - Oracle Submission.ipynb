{
 "metadata": {
  "name": "",
  "signature": "sha256:505955928ab2d934090e25b1452b1d143a007079ba45270e53cfa05c1b2846a3"
 },
 "nbformat": 3,
 "nbformat_minor": 0,
 "worksheets": [
  {
   "cells": [
    {
     "cell_type": "markdown",
     "metadata": {},
     "source": [
      "# Working with audio\n",
      "## Getting started\n",
      "The first to get started are similar to those follow in the first Tutorial."
     ]
    },
    {
     "cell_type": "code",
     "collapsed": false,
     "input": [
      "%matplotlib inline\n",
      "\n",
      "import numpy as np\n",
      "import inspire\n",
      "import random\n",
      "from collections import defaultdict"
     ],
     "language": "python",
     "metadata": {},
     "outputs": [],
     "prompt_number": 2
    },
    {
     "cell_type": "code",
     "collapsed": false,
     "input": [
      "# Get the evaluation setting\n",
      "setting = inspire.get_evaluation_setting()\n",
      "print(setting.keys())\n",
      "# Get the dataset\n",
      "dataset_filename = setting.download_dataset()\n",
      "dataset = inspire.load_dataset(dataset_filename)"
     ],
     "language": "python",
     "metadata": {},
     "outputs": [
      {
       "output_type": "stream",
       "stream": "stdout",
       "text": [
        "[u'delete_cost', u'development_set', u'replace_cost', u'lexicon_id', u'dataset_id', u'id', u'insert_cost']\n"
       ]
      }
     ],
     "prompt_number": 6
    },
    {
     "cell_type": "code",
     "collapsed": false,
     "input": [
      "# Get the lexicon\n",
      "lexicon_filename = setting.download_lexicon()\n",
      "lexicon = inspire.load_lexicon(lexicon_filename)"
     ],
     "language": "python",
     "metadata": {},
     "outputs": [],
     "prompt_number": 4
    },
    {
     "cell_type": "markdown",
     "metadata": {},
     "source": [
      "## Oracle\n",
      "The Oracle model makes the near-optimal predictions given the responses that the listeners reported.\n",
      "\n",
      "A normal participant only has access to the responses of the development set (those containing the `responses` key in the dataset token data structure).\n",
      "\n",
      "However we (the organisers) have computed the results of an Oracle model like this one for the full dataset. These may be used as a ceiling glass.\n",
      "\n",
      "**Note:** The results of the Oracle may not be optimal because we select one of the alignments randomly, instead of testing them all and selecting the one leading to the highest likelihood. "
     ]
    },
    {
     "cell_type": "code",
     "collapsed": false,
     "input": [
      "submission = inspire.Submission(email='dummy@email.com',\n",
      "                                description='''Optimal Submission:\n",
      "where task: Based on actual responses of development set.\n",
      "what task: Not provided.\n",
      "full task: Not provided.\n",
      "                                ''',\n",
      "                                evaluation_setting=setting)\n",
      "\n",
      "# Iterate over all the stimuli in our dataset\n",
      "for token_id, token  in dataset['tokens'].items():\n",
      "    #for token_id, token  in {'3711': dataset['tokens']['3711']}.items():\n",
      "    if 'responses' not in token:\n",
      "        continue\n",
      "            \n",
      "    word = token['speech']\n",
      "    \n",
      "    # Lexicon may contain multiple pronunciations\n",
      "    pronunciations = lexicon[word]\n",
      "    \n",
      "    # Here we arbitrarily select the first one\n",
      "    pronunciation = pronunciations[0]\n",
      "    \n",
      "    # Get a list of phonemes from the space separated pronunciation of the lexicon\n",
      "    phonemes = pronunciation\n",
      "    \n",
      "    # Possible indices of confusions\n",
      "    # are the number of phonemes plus\n",
      "    # the number of positions around phonemes\n",
      "    index_count = len(phonemes)*2 + 1\n",
      "    \n",
      "    confusion_counts = np.zeros(index_count)\n",
      "    phoneme_confusion_counts = defaultdict(lambda: defaultdict(lambda: 0.))\n",
      "    pronunciation_confusion_counts = defaultdict(lambda: 0.)\n",
      "    \n",
      "    total_count = 0.\n",
      "    for response, count in token['responses'].items():\n",
      "        response_pronunciation = lexicon[response][0]\n",
      "\n",
      "        edit_scripts = inspire.get_edit_scripts(pronunciation, response_pronunciation)\n",
      "        edit_script = random.choice(edit_scripts)\n",
      "                \n",
      "        for op in edit_script:\n",
      "            if op['from_symbol'] != op['to_symbol']:\n",
      "                confusion_counts[op['index']] += count\n",
      "            \n",
      "            phoneme_confusion_counts[op['index']][op['to_symbol']] += count\n",
      "    \n",
      "        pronunciation_confusion_counts[' '.join(response_pronunciation)] += count\n",
      "    \n",
      "        total_count += count\n",
      "    \n",
      "    # Perform the predictions based on the actual response counts\n",
      "    ## Where task\n",
      "    submission.where_task(token_id, confusion_counts/total_count)\n",
      "        \n",
      "    ## What task\n",
      "    for index, counts in phoneme_confusion_counts.items():\n",
      "        for phoneme, count in counts.items():\n",
      "            submission.what_task(token_id, index, phoneme, count/total_count, warn=False)\n",
      "                    \n",
      "    ## Full task\n",
      "    for pronunciation, count in pronunciation_confusion_counts.items():\n",
      "        submission.full_task(token_id, pronunciation, count/total_count, warn=False)"
     ],
     "language": "python",
     "metadata": {},
     "outputs": [],
     "prompt_number": 12
    },
    {
     "cell_type": "code",
     "collapsed": false,
     "input": [
      "job = submission.evaluate(password='dummypassword')"
     ],
     "language": "python",
     "metadata": {},
     "outputs": [],
     "prompt_number": 13
    },
    {
     "cell_type": "code",
     "collapsed": false,
     "input": [
      "job.wait()\n",
      "\n",
      "result = job.result()\n",
      "\n",
      "inspire.pprint(result['where']['token_averaged'])\n",
      "inspire.pprint(result['what']['token_averaged'])\n",
      "inspire.pprint(result['full']['token_averaged'])"
     ],
     "language": "python",
     "metadata": {},
     "outputs": [
      {
       "javascript": [
        "//81d759e1-fac6-4801-88a0-33ff36ba9b9a\n",
        "$(\"head\").append(\"<style> td.pb_widget {     width: auto; } td.pb_widget_fill {     width: 100%; } table.pb {     font-family: monospace;     border: 0;     margin: 0; } table.pb tr { border: 0; } table.pb td {     white-space: nowrap;     border: 0; } div.pb {     border: 1px solid #ddd;     border-radius: 3px; } div.pb_bar {     height: 1.5em; } </style>\")"
       ],
       "metadata": {},
       "output_type": "display_data",
       "text": [
        "<IPython.core.display.Javascript at 0x125e534d0>"
       ]
      },
      {
       "javascript": [
        "\n",
        "                  // 81d759e1-fac6-4801-88a0-33ff36ba9b9a -- used to remove this code blob in the end\n",
        "                  IPython.OutputArea.prototype.cleanProgressBar = function(uuids) {\n",
        "                      // filter by uuid-strings \n",
        "                      var myfilter = function(output) { \n",
        "                          var nuids = uuids.length;\n",
        "                          for (var i=0; i<nuids; i++) {\n",
        "                              if (output.hasOwnProperty('html')) {\n",
        "                                  if (output.html.indexOf(uuids[i]) != -1) {\n",
        "                                      return false;\n",
        "                                  }\n",
        "                              }\n",
        "                              if (output.hasOwnProperty('javascript')) {\n",
        "                                  if (output.javascript.indexOf(uuids[i]) != -1) {\n",
        "                                      return false;\n",
        "                                  }\n",
        "                              }\n",
        "                          }\n",
        "                          // keep all others\n",
        "                          return true;\n",
        "                      };\n",
        "\n",
        "                      // Filter the ouputs\n",
        "                      this.outputs = this.outputs.filter(myfilter);\n",
        "                };\n",
        "                "
       ],
       "metadata": {},
       "output_type": "display_data",
       "text": [
        "<IPython.core.display.Javascript at 0x107124090>"
       ]
      },
      {
       "html": [
        "<div class=\"pb\" id=\"81d759e1-fac6-4801-88a0-33ff36ba9b9a\"><table class=\"pb ui-widget\"><tr>\n",
        "<td class=\"pb_widget\">Processing: </td>\n",
        "<td class=\"pb_widget\"><div id=\"2317c532-be9d-4c10-823d-7864a271d384\">  0%</div></td>\n",
        "<td class=\"pb_widget\"> </td>\n",
        "<td class=\"pb_widget_fill\">\n",
        "        <div class=\"pb_bar\" id=\"3a3eabc0-2a71-4775-a645-63fa9363ab2a\"></div>\n",
        "        <script type=\"text/javascript\">\n",
        "            $(\"div#3a3eabc0-2a71-4775-a645-63fa9363ab2a\").progressbar({value: 0, max: 100});\n",
        "        </script>\n",
        "        </td>\n",
        "<td class=\"pb_widget\"> </td>\n",
        "<td class=\"pb_widget\"><div id=\"5adef946-bd31-4747-a339-5e2e06ebd085\">ETA:  --:--:--</div></td>\n",
        "</tr></table><div>"
       ],
       "metadata": {},
       "output_type": "display_data",
       "text": [
        "<IPython.core.display.HTML at 0x121b59e90>"
       ]
      },
      {
       "javascript": [
        "$('div#2317c532-be9d-4c10-823d-7864a271d384').text('  9%');"
       ],
       "metadata": {},
       "output_type": "display_data",
       "text": [
        "<IPython.core.display.Javascript at 0x125e539d0>"
       ]
      },
      {
       "javascript": [
        "\n",
        "        var $myPB = $(\"div#3a3eabc0-2a71-4775-a645-63fa9363ab2a\")\n",
        "        if ($myPB.hasClass('ui-progressbar')) {\n",
        "            $myPB.progressbar('value', 9);\n",
        "        } else {\n",
        "            $myPB.progressbar({value: 0, max: 100});\n",
        "        }\n",
        "        "
       ],
       "metadata": {},
       "output_type": "display_data",
       "text": [
        "<IPython.core.display.Javascript at 0x125e53b50>"
       ]
      },
      {
       "javascript": [
        "$('div#5adef946-bd31-4747-a339-5e2e06ebd085').text('ETA:  0:00:01');"
       ],
       "metadata": {},
       "output_type": "display_data",
       "text": [
        "<IPython.core.display.Javascript at 0x125e53590>"
       ]
      },
      {
       "javascript": [
        "$('div#2317c532-be9d-4c10-823d-7864a271d384').text('  9%');"
       ],
       "metadata": {},
       "output_type": "display_data",
       "text": [
        "<IPython.core.display.Javascript at 0x125e532d0>"
       ]
      },
      {
       "javascript": [
        "\n",
        "        var $myPB = $(\"div#3a3eabc0-2a71-4775-a645-63fa9363ab2a\")\n",
        "        if ($myPB.hasClass('ui-progressbar')) {\n",
        "            $myPB.progressbar('value', 9);\n",
        "        } else {\n",
        "            $myPB.progressbar({value: 0, max: 100});\n",
        "        }\n",
        "        "
       ],
       "metadata": {},
       "output_type": "display_data",
       "text": [
        "<IPython.core.display.Javascript at 0x125e53090>"
       ]
      },
      {
       "javascript": [
        "$('div#5adef946-bd31-4747-a339-5e2e06ebd085').text('ETA:  0:00:12');"
       ],
       "metadata": {},
       "output_type": "display_data",
       "text": [
        "<IPython.core.display.Javascript at 0x125e53c90>"
       ]
      },
      {
       "javascript": [
        "$('div#2317c532-be9d-4c10-823d-7864a271d384').text('  9%');"
       ],
       "metadata": {},
       "output_type": "display_data",
       "text": [
        "<IPython.core.display.Javascript at 0x125e53110>"
       ]
      },
      {
       "javascript": [
        "\n",
        "        var $myPB = $(\"div#3a3eabc0-2a71-4775-a645-63fa9363ab2a\")\n",
        "        if ($myPB.hasClass('ui-progressbar')) {\n",
        "            $myPB.progressbar('value', 9);\n",
        "        } else {\n",
        "            $myPB.progressbar({value: 0, max: 100});\n",
        "        }\n",
        "        "
       ],
       "metadata": {},
       "output_type": "display_data",
       "text": [
        "<IPython.core.display.Javascript at 0x125e53f10>"
       ]
      },
      {
       "javascript": [
        "$('div#5adef946-bd31-4747-a339-5e2e06ebd085').text('ETA:  0:00:24');"
       ],
       "metadata": {},
       "output_type": "display_data",
       "text": [
        "<IPython.core.display.Javascript at 0x125e53cd0>"
       ]
      },
      {
       "javascript": [
        "$('div#2317c532-be9d-4c10-823d-7864a271d384').text(' 12%');"
       ],
       "metadata": {},
       "output_type": "display_data",
       "text": [
        "<IPython.core.display.Javascript at 0x125e535d0>"
       ]
      },
      {
       "javascript": [
        "\n",
        "        var $myPB = $(\"div#3a3eabc0-2a71-4775-a645-63fa9363ab2a\")\n",
        "        if ($myPB.hasClass('ui-progressbar')) {\n",
        "            $myPB.progressbar('value', 12);\n",
        "        } else {\n",
        "            $myPB.progressbar({value: 0, max: 100});\n",
        "        }\n",
        "        "
       ],
       "metadata": {},
       "output_type": "display_data",
       "text": [
        "<IPython.core.display.Javascript at 0x125e53350>"
       ]
      },
      {
       "javascript": [
        "$('div#5adef946-bd31-4747-a339-5e2e06ebd085').text('ETA:  0:00:25');"
       ],
       "metadata": {},
       "output_type": "display_data",
       "text": [
        "<IPython.core.display.Javascript at 0x125e53d10>"
       ]
      },
      {
       "javascript": [
        "$('div#2317c532-be9d-4c10-823d-7864a271d384').text(' 12%');"
       ],
       "metadata": {},
       "output_type": "display_data",
       "text": [
        "<IPython.core.display.Javascript at 0x125e53d90>"
       ]
      },
      {
       "javascript": [
        "\n",
        "        var $myPB = $(\"div#3a3eabc0-2a71-4775-a645-63fa9363ab2a\")\n",
        "        if ($myPB.hasClass('ui-progressbar')) {\n",
        "            $myPB.progressbar('value', 12);\n",
        "        } else {\n",
        "            $myPB.progressbar({value: 0, max: 100});\n",
        "        }\n",
        "        "
       ],
       "metadata": {},
       "output_type": "display_data",
       "text": [
        "<IPython.core.display.Javascript at 0x125e53190>"
       ]
      },
      {
       "javascript": [
        "$('div#5adef946-bd31-4747-a339-5e2e06ebd085').text('ETA:  0:00:34');"
       ],
       "metadata": {},
       "output_type": "display_data",
       "text": [
        "<IPython.core.display.Javascript at 0x125e53c50>"
       ]
      },
      {
       "javascript": [
        "$('div#2317c532-be9d-4c10-823d-7864a271d384').text(' 12%');"
       ],
       "metadata": {},
       "output_type": "display_data",
       "text": [
        "<IPython.core.display.Javascript at 0x107155fd0>"
       ]
      },
      {
       "javascript": [
        "\n",
        "        var $myPB = $(\"div#3a3eabc0-2a71-4775-a645-63fa9363ab2a\")\n",
        "        if ($myPB.hasClass('ui-progressbar')) {\n",
        "            $myPB.progressbar('value', 12);\n",
        "        } else {\n",
        "            $myPB.progressbar({value: 0, max: 100});\n",
        "        }\n",
        "        "
       ],
       "metadata": {},
       "output_type": "display_data",
       "text": [
        "<IPython.core.display.Javascript at 0x107155310>"
       ]
      },
      {
       "javascript": [
        "$('div#5adef946-bd31-4747-a339-5e2e06ebd085').text('ETA:  0:00:42');"
       ],
       "metadata": {},
       "output_type": "display_data",
       "text": [
        "<IPython.core.display.Javascript at 0x107155ad0>"
       ]
      },
      {
       "javascript": [
        "$('div#2317c532-be9d-4c10-823d-7864a271d384').text(' 12%');"
       ],
       "metadata": {},
       "output_type": "display_data",
       "text": [
        "<IPython.core.display.Javascript at 0x107155f50>"
       ]
      },
      {
       "javascript": [
        "\n",
        "        var $myPB = $(\"div#3a3eabc0-2a71-4775-a645-63fa9363ab2a\")\n",
        "        if ($myPB.hasClass('ui-progressbar')) {\n",
        "            $myPB.progressbar('value', 12);\n",
        "        } else {\n",
        "            $myPB.progressbar({value: 0, max: 100});\n",
        "        }\n",
        "        "
       ],
       "metadata": {},
       "output_type": "display_data",
       "text": [
        "<IPython.core.display.Javascript at 0x1071552d0>"
       ]
      },
      {
       "javascript": [
        "$('div#5adef946-bd31-4747-a339-5e2e06ebd085').text('ETA:  0:00:50');"
       ],
       "metadata": {},
       "output_type": "display_data",
       "text": [
        "<IPython.core.display.Javascript at 0x107155ed0>"
       ]
      },
      {
       "javascript": [
        "$('div#2317c532-be9d-4c10-823d-7864a271d384').text(' 12%');"
       ],
       "metadata": {},
       "output_type": "display_data",
       "text": [
        "<IPython.core.display.Javascript at 0x107155e90>"
       ]
      },
      {
       "javascript": [
        "\n",
        "        var $myPB = $(\"div#3a3eabc0-2a71-4775-a645-63fa9363ab2a\")\n",
        "        if ($myPB.hasClass('ui-progressbar')) {\n",
        "            $myPB.progressbar('value', 12);\n",
        "        } else {\n",
        "            $myPB.progressbar({value: 0, max: 100});\n",
        "        }\n",
        "        "
       ],
       "metadata": {},
       "output_type": "display_data",
       "text": [
        "<IPython.core.display.Javascript at 0x107155f90>"
       ]
      },
      {
       "javascript": [
        "$('div#5adef946-bd31-4747-a339-5e2e06ebd085').text('ETA:  0:00:58');"
       ],
       "metadata": {},
       "output_type": "display_data",
       "text": [
        "<IPython.core.display.Javascript at 0x107155290>"
       ]
      },
      {
       "javascript": [
        "$('div#2317c532-be9d-4c10-823d-7864a271d384').text(' 15%');"
       ],
       "metadata": {},
       "output_type": "display_data",
       "text": [
        "<IPython.core.display.Javascript at 0x107144d10>"
       ]
      },
      {
       "javascript": [
        "\n",
        "        var $myPB = $(\"div#3a3eabc0-2a71-4775-a645-63fa9363ab2a\")\n",
        "        if ($myPB.hasClass('ui-progressbar')) {\n",
        "            $myPB.progressbar('value', 15);\n",
        "        } else {\n",
        "            $myPB.progressbar({value: 0, max: 100});\n",
        "        }\n",
        "        "
       ],
       "metadata": {},
       "output_type": "display_data",
       "text": [
        "<IPython.core.display.Javascript at 0x107144210>"
       ]
      },
      {
       "javascript": [
        "$('div#5adef946-bd31-4747-a339-5e2e06ebd085').text('ETA:  0:00:51');"
       ],
       "metadata": {},
       "output_type": "display_data",
       "text": [
        "<IPython.core.display.Javascript at 0x107144790>"
       ]
      },
      {
       "javascript": [
        "$('div#2317c532-be9d-4c10-823d-7864a271d384').text(' 18%');"
       ],
       "metadata": {},
       "output_type": "display_data",
       "text": [
        "<IPython.core.display.Javascript at 0x107144910>"
       ]
      },
      {
       "javascript": [
        "\n",
        "        var $myPB = $(\"div#3a3eabc0-2a71-4775-a645-63fa9363ab2a\")\n",
        "        if ($myPB.hasClass('ui-progressbar')) {\n",
        "            $myPB.progressbar('value', 18);\n",
        "        } else {\n",
        "            $myPB.progressbar({value: 0, max: 100});\n",
        "        }\n",
        "        "
       ],
       "metadata": {},
       "output_type": "display_data",
       "text": [
        "<IPython.core.display.Javascript at 0x10714b290>"
       ]
      },
      {
       "javascript": [
        "$('div#5adef946-bd31-4747-a339-5e2e06ebd085').text('ETA:  0:00:46');"
       ],
       "metadata": {},
       "output_type": "display_data",
       "text": [
        "<IPython.core.display.Javascript at 0x10714b390>"
       ]
      },
      {
       "javascript": [
        "$('div#2317c532-be9d-4c10-823d-7864a271d384').text(' 18%');"
       ],
       "metadata": {},
       "output_type": "display_data",
       "text": [
        "<IPython.core.display.Javascript at 0x10714bc90>"
       ]
      },
      {
       "javascript": [
        "\n",
        "        var $myPB = $(\"div#3a3eabc0-2a71-4775-a645-63fa9363ab2a\")\n",
        "        if ($myPB.hasClass('ui-progressbar')) {\n",
        "            $myPB.progressbar('value', 18);\n",
        "        } else {\n",
        "            $myPB.progressbar({value: 0, max: 100});\n",
        "        }\n",
        "        "
       ],
       "metadata": {},
       "output_type": "display_data",
       "text": [
        "<IPython.core.display.Javascript at 0x10714b990>"
       ]
      },
      {
       "javascript": [
        "$('div#5adef946-bd31-4747-a339-5e2e06ebd085').text('ETA:  0:00:52');"
       ],
       "metadata": {},
       "output_type": "display_data",
       "text": [
        "<IPython.core.display.Javascript at 0x10714b850>"
       ]
      },
      {
       "javascript": [
        "$('div#2317c532-be9d-4c10-823d-7864a271d384').text(' 21%');"
       ],
       "metadata": {},
       "output_type": "display_data",
       "text": [
        "<IPython.core.display.Javascript at 0x10714b190>"
       ]
      },
      {
       "javascript": [
        "\n",
        "        var $myPB = $(\"div#3a3eabc0-2a71-4775-a645-63fa9363ab2a\")\n",
        "        if ($myPB.hasClass('ui-progressbar')) {\n",
        "            $myPB.progressbar('value', 21);\n",
        "        } else {\n",
        "            $myPB.progressbar({value: 0, max: 100});\n",
        "        }\n",
        "        "
       ],
       "metadata": {},
       "output_type": "display_data",
       "text": [
        "<IPython.core.display.Javascript at 0x107178050>"
       ]
      },
      {
       "javascript": [
        "$('div#5adef946-bd31-4747-a339-5e2e06ebd085').text('ETA:  0:00:47');"
       ],
       "metadata": {},
       "output_type": "display_data",
       "text": [
        "<IPython.core.display.Javascript at 0x1071782d0>"
       ]
      },
      {
       "javascript": [
        "$('div#2317c532-be9d-4c10-823d-7864a271d384').text(' 21%');"
       ],
       "metadata": {},
       "output_type": "display_data",
       "text": [
        "<IPython.core.display.Javascript at 0x1071780d0>"
       ]
      },
      {
       "javascript": [
        "\n",
        "        var $myPB = $(\"div#3a3eabc0-2a71-4775-a645-63fa9363ab2a\")\n",
        "        if ($myPB.hasClass('ui-progressbar')) {\n",
        "            $myPB.progressbar('value', 21);\n",
        "        } else {\n",
        "            $myPB.progressbar({value: 0, max: 100});\n",
        "        }\n",
        "        "
       ],
       "metadata": {},
       "output_type": "display_data",
       "text": [
        "<IPython.core.display.Javascript at 0x107178190>"
       ]
      },
      {
       "javascript": [
        "$('div#5adef946-bd31-4747-a339-5e2e06ebd085').text('ETA:  0:00:51');"
       ],
       "metadata": {},
       "output_type": "display_data",
       "text": [
        "<IPython.core.display.Javascript at 0x107178450>"
       ]
      },
      {
       "javascript": [
        "$('div#2317c532-be9d-4c10-823d-7864a271d384').text(' 21%');"
       ],
       "metadata": {},
       "output_type": "display_data",
       "text": [
        "<IPython.core.display.Javascript at 0x107178350>"
       ]
      },
      {
       "javascript": [
        "\n",
        "        var $myPB = $(\"div#3a3eabc0-2a71-4775-a645-63fa9363ab2a\")\n",
        "        if ($myPB.hasClass('ui-progressbar')) {\n",
        "            $myPB.progressbar('value', 21);\n",
        "        } else {\n",
        "            $myPB.progressbar({value: 0, max: 100});\n",
        "        }\n",
        "        "
       ],
       "metadata": {},
       "output_type": "display_data",
       "text": [
        "<IPython.core.display.Javascript at 0x107178290>"
       ]
      },
      {
       "javascript": [
        "$('div#5adef946-bd31-4747-a339-5e2e06ebd085').text('ETA:  0:00:55');"
       ],
       "metadata": {},
       "output_type": "display_data",
       "text": [
        "<IPython.core.display.Javascript at 0x10714b190>"
       ]
      },
      {
       "javascript": [
        "$('div#2317c532-be9d-4c10-823d-7864a271d384').text(' 21%');"
       ],
       "metadata": {},
       "output_type": "display_data",
       "text": [
        "<IPython.core.display.Javascript at 0x10714b990>"
       ]
      },
      {
       "javascript": [
        "\n",
        "        var $myPB = $(\"div#3a3eabc0-2a71-4775-a645-63fa9363ab2a\")\n",
        "        if ($myPB.hasClass('ui-progressbar')) {\n",
        "            $myPB.progressbar('value', 21);\n",
        "        } else {\n",
        "            $myPB.progressbar({value: 0, max: 100});\n",
        "        }\n",
        "        "
       ],
       "metadata": {},
       "output_type": "display_data",
       "text": [
        "<IPython.core.display.Javascript at 0x10714bc90>"
       ]
      },
      {
       "javascript": [
        "$('div#5adef946-bd31-4747-a339-5e2e06ebd085').text('ETA:  0:01:00');"
       ],
       "metadata": {},
       "output_type": "display_data",
       "text": [
        "<IPython.core.display.Javascript at 0x10714b4d0>"
       ]
      },
      {
       "javascript": [
        "$('div#2317c532-be9d-4c10-823d-7864a271d384').text(' 21%');"
       ],
       "metadata": {},
       "output_type": "display_data",
       "text": [
        "<IPython.core.display.Javascript at 0x10714b290>"
       ]
      },
      {
       "javascript": [
        "\n",
        "        var $myPB = $(\"div#3a3eabc0-2a71-4775-a645-63fa9363ab2a\")\n",
        "        if ($myPB.hasClass('ui-progressbar')) {\n",
        "            $myPB.progressbar('value', 21);\n",
        "        } else {\n",
        "            $myPB.progressbar({value: 0, max: 100});\n",
        "        }\n",
        "        "
       ],
       "metadata": {},
       "output_type": "display_data",
       "text": [
        "<IPython.core.display.Javascript at 0x107144910>"
       ]
      },
      {
       "javascript": [
        "$('div#5adef946-bd31-4747-a339-5e2e06ebd085').text('ETA:  0:01:04');"
       ],
       "metadata": {},
       "output_type": "display_data",
       "text": [
        "<IPython.core.display.Javascript at 0x107144e50>"
       ]
      },
      {
       "javascript": [
        "$('div#2317c532-be9d-4c10-823d-7864a271d384').text(' 21%');"
       ],
       "metadata": {},
       "output_type": "display_data",
       "text": [
        "<IPython.core.display.Javascript at 0x107144590>"
       ]
      },
      {
       "javascript": [
        "\n",
        "        var $myPB = $(\"div#3a3eabc0-2a71-4775-a645-63fa9363ab2a\")\n",
        "        if ($myPB.hasClass('ui-progressbar')) {\n",
        "            $myPB.progressbar('value', 21);\n",
        "        } else {\n",
        "            $myPB.progressbar({value: 0, max: 100});\n",
        "        }\n",
        "        "
       ],
       "metadata": {},
       "output_type": "display_data",
       "text": [
        "<IPython.core.display.Javascript at 0x107144d10>"
       ]
      },
      {
       "javascript": [
        "$('div#5adef946-bd31-4747-a339-5e2e06ebd085').text('ETA:  0:01:08');"
       ],
       "metadata": {},
       "output_type": "display_data",
       "text": [
        "<IPython.core.display.Javascript at 0x107144b90>"
       ]
      },
      {
       "javascript": [
        "$('div#2317c532-be9d-4c10-823d-7864a271d384').text(' 21%');"
       ],
       "metadata": {},
       "output_type": "display_data",
       "text": [
        "<IPython.core.display.Javascript at 0x107155290>"
       ]
      },
      {
       "javascript": [
        "\n",
        "        var $myPB = $(\"div#3a3eabc0-2a71-4775-a645-63fa9363ab2a\")\n",
        "        if ($myPB.hasClass('ui-progressbar')) {\n",
        "            $myPB.progressbar('value', 21);\n",
        "        } else {\n",
        "            $myPB.progressbar({value: 0, max: 100});\n",
        "        }\n",
        "        "
       ],
       "metadata": {},
       "output_type": "display_data",
       "text": [
        "<IPython.core.display.Javascript at 0x107155e90>"
       ]
      },
      {
       "javascript": [
        "$('div#5adef946-bd31-4747-a339-5e2e06ebd085').text('ETA:  0:01:13');"
       ],
       "metadata": {},
       "output_type": "display_data",
       "text": [
        "<IPython.core.display.Javascript at 0x107155050>"
       ]
      },
      {
       "javascript": [
        "$('div#2317c532-be9d-4c10-823d-7864a271d384').text(' 21%');"
       ],
       "metadata": {},
       "output_type": "display_data",
       "text": [
        "<IPython.core.display.Javascript at 0x107155f10>"
       ]
      },
      {
       "javascript": [
        "\n",
        "        var $myPB = $(\"div#3a3eabc0-2a71-4775-a645-63fa9363ab2a\")\n",
        "        if ($myPB.hasClass('ui-progressbar')) {\n",
        "            $myPB.progressbar('value', 21);\n",
        "        } else {\n",
        "            $myPB.progressbar({value: 0, max: 100});\n",
        "        }\n",
        "        "
       ],
       "metadata": {},
       "output_type": "display_data",
       "text": [
        "<IPython.core.display.Javascript at 0x107155f50>"
       ]
      },
      {
       "javascript": [
        "$('div#5adef946-bd31-4747-a339-5e2e06ebd085').text('ETA:  0:01:17');"
       ],
       "metadata": {},
       "output_type": "display_data",
       "text": [
        "<IPython.core.display.Javascript at 0x107155090>"
       ]
      },
      {
       "javascript": [
        "$('div#2317c532-be9d-4c10-823d-7864a271d384').text(' 21%');"
       ],
       "metadata": {},
       "output_type": "display_data",
       "text": [
        "<IPython.core.display.Javascript at 0x107155210>"
       ]
      },
      {
       "javascript": [
        "\n",
        "        var $myPB = $(\"div#3a3eabc0-2a71-4775-a645-63fa9363ab2a\")\n",
        "        if ($myPB.hasClass('ui-progressbar')) {\n",
        "            $myPB.progressbar('value', 21);\n",
        "        } else {\n",
        "            $myPB.progressbar({value: 0, max: 100});\n",
        "        }\n",
        "        "
       ],
       "metadata": {},
       "output_type": "display_data",
       "text": [
        "<IPython.core.display.Javascript at 0x107155fd0>"
       ]
      },
      {
       "javascript": [
        "$('div#5adef946-bd31-4747-a339-5e2e06ebd085').text('ETA:  0:01:21');"
       ],
       "metadata": {},
       "output_type": "display_data",
       "text": [
        "<IPython.core.display.Javascript at 0x107124090>"
       ]
      },
      {
       "javascript": [
        "$('div#2317c532-be9d-4c10-823d-7864a271d384').text(' 21%');"
       ],
       "metadata": {},
       "output_type": "display_data",
       "text": [
        "<IPython.core.display.Javascript at 0x125e531d0>"
       ]
      },
      {
       "javascript": [
        "\n",
        "        var $myPB = $(\"div#3a3eabc0-2a71-4775-a645-63fa9363ab2a\")\n",
        "        if ($myPB.hasClass('ui-progressbar')) {\n",
        "            $myPB.progressbar('value', 21);\n",
        "        } else {\n",
        "            $myPB.progressbar({value: 0, max: 100});\n",
        "        }\n",
        "        "
       ],
       "metadata": {},
       "output_type": "display_data",
       "text": [
        "<IPython.core.display.Javascript at 0x125e53c50>"
       ]
      },
      {
       "javascript": [
        "$('div#5adef946-bd31-4747-a339-5e2e06ebd085').text('ETA:  0:01:25');"
       ],
       "metadata": {},
       "output_type": "display_data",
       "text": [
        "<IPython.core.display.Javascript at 0x125e53190>"
       ]
      },
      {
       "javascript": [
        "$('div#2317c532-be9d-4c10-823d-7864a271d384').text(' 21%');"
       ],
       "metadata": {},
       "output_type": "display_data",
       "text": [
        "<IPython.core.display.Javascript at 0x125e53d90>"
       ]
      },
      {
       "javascript": [
        "\n",
        "        var $myPB = $(\"div#3a3eabc0-2a71-4775-a645-63fa9363ab2a\")\n",
        "        if ($myPB.hasClass('ui-progressbar')) {\n",
        "            $myPB.progressbar('value', 21);\n",
        "        } else {\n",
        "            $myPB.progressbar({value: 0, max: 100});\n",
        "        }\n",
        "        "
       ],
       "metadata": {},
       "output_type": "display_data",
       "text": [
        "<IPython.core.display.Javascript at 0x125e53d10>"
       ]
      },
      {
       "javascript": [
        "$('div#5adef946-bd31-4747-a339-5e2e06ebd085').text('ETA:  0:01:30');"
       ],
       "metadata": {},
       "output_type": "display_data",
       "text": [
        "<IPython.core.display.Javascript at 0x125e53350>"
       ]
      },
      {
       "javascript": [
        "$('div#2317c532-be9d-4c10-823d-7864a271d384').text(' 21%');"
       ],
       "metadata": {},
       "output_type": "display_data",
       "text": [
        "<IPython.core.display.Javascript at 0x125e535d0>"
       ]
      },
      {
       "javascript": [
        "\n",
        "        var $myPB = $(\"div#3a3eabc0-2a71-4775-a645-63fa9363ab2a\")\n",
        "        if ($myPB.hasClass('ui-progressbar')) {\n",
        "            $myPB.progressbar('value', 21);\n",
        "        } else {\n",
        "            $myPB.progressbar({value: 0, max: 100});\n",
        "        }\n",
        "        "
       ],
       "metadata": {},
       "output_type": "display_data",
       "text": [
        "<IPython.core.display.Javascript at 0x125e53cd0>"
       ]
      },
      {
       "javascript": [
        "$('div#5adef946-bd31-4747-a339-5e2e06ebd085').text('ETA:  0:01:34');"
       ],
       "metadata": {},
       "output_type": "display_data",
       "text": [
        "<IPython.core.display.Javascript at 0x125e53f10>"
       ]
      },
      {
       "javascript": [
        "$('div#2317c532-be9d-4c10-823d-7864a271d384').text(' 21%');"
       ],
       "metadata": {},
       "output_type": "display_data",
       "text": [
        "<IPython.core.display.Javascript at 0x125e53110>"
       ]
      },
      {
       "javascript": [
        "\n",
        "        var $myPB = $(\"div#3a3eabc0-2a71-4775-a645-63fa9363ab2a\")\n",
        "        if ($myPB.hasClass('ui-progressbar')) {\n",
        "            $myPB.progressbar('value', 21);\n",
        "        } else {\n",
        "            $myPB.progressbar({value: 0, max: 100});\n",
        "        }\n",
        "        "
       ],
       "metadata": {},
       "output_type": "display_data",
       "text": [
        "<IPython.core.display.Javascript at 0x125e53c90>"
       ]
      },
      {
       "javascript": [
        "$('div#5adef946-bd31-4747-a339-5e2e06ebd085').text('ETA:  0:01:38');"
       ],
       "metadata": {},
       "output_type": "display_data",
       "text": [
        "<IPython.core.display.Javascript at 0x125e53090>"
       ]
      },
      {
       "javascript": [
        "$('div#2317c532-be9d-4c10-823d-7864a271d384').text(' 21%');"
       ],
       "metadata": {},
       "output_type": "display_data",
       "text": [
        "<IPython.core.display.Javascript at 0x125e532d0>"
       ]
      },
      {
       "javascript": [
        "\n",
        "        var $myPB = $(\"div#3a3eabc0-2a71-4775-a645-63fa9363ab2a\")\n",
        "        if ($myPB.hasClass('ui-progressbar')) {\n",
        "            $myPB.progressbar('value', 21);\n",
        "        } else {\n",
        "            $myPB.progressbar({value: 0, max: 100});\n",
        "        }\n",
        "        "
       ],
       "metadata": {},
       "output_type": "display_data",
       "text": [
        "<IPython.core.display.Javascript at 0x125e53590>"
       ]
      },
      {
       "javascript": [
        "$('div#5adef946-bd31-4747-a339-5e2e06ebd085').text('ETA:  0:01:43');"
       ],
       "metadata": {},
       "output_type": "display_data",
       "text": [
        "<IPython.core.display.Javascript at 0x125e53b50>"
       ]
      },
      {
       "javascript": [
        "$('div#2317c532-be9d-4c10-823d-7864a271d384').text(' 21%');"
       ],
       "metadata": {},
       "output_type": "display_data",
       "text": [
        "<IPython.core.display.Javascript at 0x125e539d0>"
       ]
      },
      {
       "javascript": [
        "\n",
        "        var $myPB = $(\"div#3a3eabc0-2a71-4775-a645-63fa9363ab2a\")\n",
        "        if ($myPB.hasClass('ui-progressbar')) {\n",
        "            $myPB.progressbar('value', 21);\n",
        "        } else {\n",
        "            $myPB.progressbar({value: 0, max: 100});\n",
        "        }\n",
        "        "
       ],
       "metadata": {},
       "output_type": "display_data",
       "text": [
        "<IPython.core.display.Javascript at 0x125e534d0>"
       ]
      },
      {
       "javascript": [
        "$('div#5adef946-bd31-4747-a339-5e2e06ebd085').text('ETA:  0:01:47');"
       ],
       "metadata": {},
       "output_type": "display_data",
       "text": [
        "<IPython.core.display.Javascript at 0x121b59e90>"
       ]
      },
      {
       "javascript": [
        "$('div#2317c532-be9d-4c10-823d-7864a271d384').text(' 21%');"
       ],
       "metadata": {},
       "output_type": "display_data",
       "text": [
        "<IPython.core.display.Javascript at 0x107178290>"
       ]
      },
      {
       "javascript": [
        "\n",
        "        var $myPB = $(\"div#3a3eabc0-2a71-4775-a645-63fa9363ab2a\")\n",
        "        if ($myPB.hasClass('ui-progressbar')) {\n",
        "            $myPB.progressbar('value', 21);\n",
        "        } else {\n",
        "            $myPB.progressbar({value: 0, max: 100});\n",
        "        }\n",
        "        "
       ],
       "metadata": {},
       "output_type": "display_data",
       "text": [
        "<IPython.core.display.Javascript at 0x107178410>"
       ]
      },
      {
       "javascript": [
        "$('div#5adef946-bd31-4747-a339-5e2e06ebd085').text('ETA:  0:01:51');"
       ],
       "metadata": {},
       "output_type": "display_data",
       "text": [
        "<IPython.core.display.Javascript at 0x107178750>"
       ]
      },
      {
       "javascript": [
        "$('div#2317c532-be9d-4c10-823d-7864a271d384').text(' 21%');"
       ],
       "metadata": {},
       "output_type": "display_data",
       "text": [
        "<IPython.core.display.Javascript at 0x1071783d0>"
       ]
      },
      {
       "javascript": [
        "\n",
        "        var $myPB = $(\"div#3a3eabc0-2a71-4775-a645-63fa9363ab2a\")\n",
        "        if ($myPB.hasClass('ui-progressbar')) {\n",
        "            $myPB.progressbar('value', 21);\n",
        "        } else {\n",
        "            $myPB.progressbar({value: 0, max: 100});\n",
        "        }\n",
        "        "
       ],
       "metadata": {},
       "output_type": "display_data",
       "text": [
        "<IPython.core.display.Javascript at 0x1071784d0>"
       ]
      },
      {
       "javascript": [
        "$('div#5adef946-bd31-4747-a339-5e2e06ebd085').text('ETA:  0:01:55');"
       ],
       "metadata": {},
       "output_type": "display_data",
       "text": [
        "<IPython.core.display.Javascript at 0x107178690>"
       ]
      },
      {
       "javascript": [
        "$('div#2317c532-be9d-4c10-823d-7864a271d384').text(' 21%');"
       ],
       "metadata": {},
       "output_type": "display_data",
       "text": [
        "<IPython.core.display.Javascript at 0x107178350>"
       ]
      },
      {
       "javascript": [
        "\n",
        "        var $myPB = $(\"div#3a3eabc0-2a71-4775-a645-63fa9363ab2a\")\n",
        "        if ($myPB.hasClass('ui-progressbar')) {\n",
        "            $myPB.progressbar('value', 21);\n",
        "        } else {\n",
        "            $myPB.progressbar({value: 0, max: 100});\n",
        "        }\n",
        "        "
       ],
       "metadata": {},
       "output_type": "display_data",
       "text": [
        "<IPython.core.display.Javascript at 0x107178450>"
       ]
      },
      {
       "javascript": [
        "$('div#5adef946-bd31-4747-a339-5e2e06ebd085').text('ETA:  0:02:00');"
       ],
       "metadata": {},
       "output_type": "display_data",
       "text": [
        "<IPython.core.display.Javascript at 0x107178190>"
       ]
      },
      {
       "javascript": [
        "$('div#2317c532-be9d-4c10-823d-7864a271d384').text(' 21%');"
       ],
       "metadata": {},
       "output_type": "display_data",
       "text": [
        "<IPython.core.display.Javascript at 0x1071780d0>"
       ]
      },
      {
       "javascript": [
        "\n",
        "        var $myPB = $(\"div#3a3eabc0-2a71-4775-a645-63fa9363ab2a\")\n",
        "        if ($myPB.hasClass('ui-progressbar')) {\n",
        "            $myPB.progressbar('value', 21);\n",
        "        } else {\n",
        "            $myPB.progressbar({value: 0, max: 100});\n",
        "        }\n",
        "        "
       ],
       "metadata": {},
       "output_type": "display_data",
       "text": [
        "<IPython.core.display.Javascript at 0x1071782d0>"
       ]
      },
      {
       "javascript": [
        "$('div#5adef946-bd31-4747-a339-5e2e06ebd085').text('ETA:  0:02:04');"
       ],
       "metadata": {},
       "output_type": "display_data",
       "text": [
        "<IPython.core.display.Javascript at 0x107178050>"
       ]
      },
      {
       "javascript": [
        "$('div#2317c532-be9d-4c10-823d-7864a271d384').text(' 21%');"
       ],
       "metadata": {},
       "output_type": "display_data",
       "text": [
        "<IPython.core.display.Javascript at 0x1071786d0>"
       ]
      },
      {
       "javascript": [
        "\n",
        "        var $myPB = $(\"div#3a3eabc0-2a71-4775-a645-63fa9363ab2a\")\n",
        "        if ($myPB.hasClass('ui-progressbar')) {\n",
        "            $myPB.progressbar('value', 21);\n",
        "        } else {\n",
        "            $myPB.progressbar({value: 0, max: 100});\n",
        "        }\n",
        "        "
       ],
       "metadata": {},
       "output_type": "display_data",
       "text": [
        "<IPython.core.display.Javascript at 0x107178390>"
       ]
      },
      {
       "javascript": [
        "$('div#5adef946-bd31-4747-a339-5e2e06ebd085').text('ETA:  0:02:08');"
       ],
       "metadata": {},
       "output_type": "display_data",
       "text": [
        "<IPython.core.display.Javascript at 0x107773290>"
       ]
      },
      {
       "javascript": [
        "$('div#2317c532-be9d-4c10-823d-7864a271d384').text(' 21%');"
       ],
       "metadata": {},
       "output_type": "display_data",
       "text": [
        "<IPython.core.display.Javascript at 0x120eba350>"
       ]
      },
      {
       "javascript": [
        "\n",
        "        var $myPB = $(\"div#3a3eabc0-2a71-4775-a645-63fa9363ab2a\")\n",
        "        if ($myPB.hasClass('ui-progressbar')) {\n",
        "            $myPB.progressbar('value', 21);\n",
        "        } else {\n",
        "            $myPB.progressbar({value: 0, max: 100});\n",
        "        }\n",
        "        "
       ],
       "metadata": {},
       "output_type": "display_data",
       "text": [
        "<IPython.core.display.Javascript at 0x120ebabd0>"
       ]
      },
      {
       "javascript": [
        "$('div#5adef946-bd31-4747-a339-5e2e06ebd085').text('ETA:  0:02:12');"
       ],
       "metadata": {},
       "output_type": "display_data",
       "text": [
        "<IPython.core.display.Javascript at 0x120eba990>"
       ]
      },
      {
       "javascript": [
        "$('div#2317c532-be9d-4c10-823d-7864a271d384').text(' 21%');"
       ],
       "metadata": {},
       "output_type": "display_data",
       "text": [
        "<IPython.core.display.Javascript at 0x120eba4d0>"
       ]
      },
      {
       "javascript": [
        "\n",
        "        var $myPB = $(\"div#3a3eabc0-2a71-4775-a645-63fa9363ab2a\")\n",
        "        if ($myPB.hasClass('ui-progressbar')) {\n",
        "            $myPB.progressbar('value', 21);\n",
        "        } else {\n",
        "            $myPB.progressbar({value: 0, max: 100});\n",
        "        }\n",
        "        "
       ],
       "metadata": {},
       "output_type": "display_data",
       "text": [
        "<IPython.core.display.Javascript at 0x120eba210>"
       ]
      },
      {
       "javascript": [
        "$('div#5adef946-bd31-4747-a339-5e2e06ebd085').text('ETA:  0:02:17');"
       ],
       "metadata": {},
       "output_type": "display_data",
       "text": [
        "<IPython.core.display.Javascript at 0x120eba3d0>"
       ]
      },
      {
       "javascript": [
        "$('div#2317c532-be9d-4c10-823d-7864a271d384').text(' 24%');"
       ],
       "metadata": {},
       "output_type": "display_data",
       "text": [
        "<IPython.core.display.Javascript at 0x120eba710>"
       ]
      },
      {
       "javascript": [
        "\n",
        "        var $myPB = $(\"div#3a3eabc0-2a71-4775-a645-63fa9363ab2a\")\n",
        "        if ($myPB.hasClass('ui-progressbar')) {\n",
        "            $myPB.progressbar('value', 24);\n",
        "        } else {\n",
        "            $myPB.progressbar({value: 0, max: 100});\n",
        "        }\n",
        "        "
       ],
       "metadata": {},
       "output_type": "display_data",
       "text": [
        "<IPython.core.display.Javascript at 0x120eba510>"
       ]
      },
      {
       "javascript": [
        "$('div#5adef946-bd31-4747-a339-5e2e06ebd085').text('ETA:  0:01:59');"
       ],
       "metadata": {},
       "output_type": "display_data",
       "text": [
        "<IPython.core.display.Javascript at 0x120ebaf50>"
       ]
      },
      {
       "javascript": [
        "$('div#2317c532-be9d-4c10-823d-7864a271d384').text(' 27%');"
       ],
       "metadata": {},
       "output_type": "display_data",
       "text": [
        "<IPython.core.display.Javascript at 0x120eba650>"
       ]
      },
      {
       "javascript": [
        "\n",
        "        var $myPB = $(\"div#3a3eabc0-2a71-4775-a645-63fa9363ab2a\")\n",
        "        if ($myPB.hasClass('ui-progressbar')) {\n",
        "            $myPB.progressbar('value', 27);\n",
        "        } else {\n",
        "            $myPB.progressbar({value: 0, max: 100});\n",
        "        }\n",
        "        "
       ],
       "metadata": {},
       "output_type": "display_data",
       "text": [
        "<IPython.core.display.Javascript at 0x120eba550>"
       ]
      },
      {
       "javascript": [
        "$('div#5adef946-bd31-4747-a339-5e2e06ebd085').text('ETA:  0:01:44');"
       ],
       "metadata": {},
       "output_type": "display_data",
       "text": [
        "<IPython.core.display.Javascript at 0x107773290>"
       ]
      },
      {
       "javascript": [
        "$('div#2317c532-be9d-4c10-823d-7864a271d384').text(' 27%');"
       ],
       "metadata": {},
       "output_type": "display_data",
       "text": [
        "<IPython.core.display.Javascript at 0x107178610>"
       ]
      },
      {
       "javascript": [
        "\n",
        "        var $myPB = $(\"div#3a3eabc0-2a71-4775-a645-63fa9363ab2a\")\n",
        "        if ($myPB.hasClass('ui-progressbar')) {\n",
        "            $myPB.progressbar('value', 27);\n",
        "        } else {\n",
        "            $myPB.progressbar({value: 0, max: 100});\n",
        "        }\n",
        "        "
       ],
       "metadata": {},
       "output_type": "display_data",
       "text": [
        "<IPython.core.display.Javascript at 0x107178050>"
       ]
      },
      {
       "javascript": [
        "$('div#5adef946-bd31-4747-a339-5e2e06ebd085').text('ETA:  0:01:47');"
       ],
       "metadata": {},
       "output_type": "display_data",
       "text": [
        "<IPython.core.display.Javascript at 0x1071782d0>"
       ]
      },
      {
       "javascript": [
        "$('div#2317c532-be9d-4c10-823d-7864a271d384').text(' 30%');"
       ],
       "metadata": {},
       "output_type": "display_data",
       "text": [
        "<IPython.core.display.Javascript at 0x1071780d0>"
       ]
      },
      {
       "javascript": [
        "\n",
        "        var $myPB = $(\"div#3a3eabc0-2a71-4775-a645-63fa9363ab2a\")\n",
        "        if ($myPB.hasClass('ui-progressbar')) {\n",
        "            $myPB.progressbar('value', 30);\n",
        "        } else {\n",
        "            $myPB.progressbar({value: 0, max: 100});\n",
        "        }\n",
        "        "
       ],
       "metadata": {},
       "output_type": "display_data",
       "text": [
        "<IPython.core.display.Javascript at 0x107178190>"
       ]
      },
      {
       "javascript": [
        "$('div#5adef946-bd31-4747-a339-5e2e06ebd085').text('ETA:  0:01:35');"
       ],
       "metadata": {},
       "output_type": "display_data",
       "text": [
        "<IPython.core.display.Javascript at 0x107178450>"
       ]
      },
      {
       "javascript": [
        "$('div#2317c532-be9d-4c10-823d-7864a271d384').text(' 37%');"
       ],
       "metadata": {},
       "output_type": "display_data",
       "text": [
        "<IPython.core.display.Javascript at 0x107178350>"
       ]
      },
      {
       "javascript": [
        "\n",
        "        var $myPB = $(\"div#3a3eabc0-2a71-4775-a645-63fa9363ab2a\")\n",
        "        if ($myPB.hasClass('ui-progressbar')) {\n",
        "            $myPB.progressbar('value', 37);\n",
        "        } else {\n",
        "            $myPB.progressbar({value: 0, max: 100});\n",
        "        }\n",
        "        "
       ],
       "metadata": {},
       "output_type": "display_data",
       "text": [
        "<IPython.core.display.Javascript at 0x107178690>"
       ]
      },
      {
       "javascript": [
        "$('div#5adef946-bd31-4747-a339-5e2e06ebd085').text('ETA:  0:01:11');"
       ],
       "metadata": {},
       "output_type": "display_data",
       "text": [
        "<IPython.core.display.Javascript at 0x1071784d0>"
       ]
      },
      {
       "javascript": [
        "$('div#2317c532-be9d-4c10-823d-7864a271d384').text(' 37%');"
       ],
       "metadata": {},
       "output_type": "display_data",
       "text": [
        "<IPython.core.display.Javascript at 0x1071783d0>"
       ]
      },
      {
       "javascript": [
        "\n",
        "        var $myPB = $(\"div#3a3eabc0-2a71-4775-a645-63fa9363ab2a\")\n",
        "        if ($myPB.hasClass('ui-progressbar')) {\n",
        "            $myPB.progressbar('value', 37);\n",
        "        } else {\n",
        "            $myPB.progressbar({value: 0, max: 100});\n",
        "        }\n",
        "        "
       ],
       "metadata": {},
       "output_type": "display_data",
       "text": [
        "<IPython.core.display.Javascript at 0x107178750>"
       ]
      },
      {
       "javascript": [
        "$('div#5adef946-bd31-4747-a339-5e2e06ebd085').text('ETA:  0:01:13');"
       ],
       "metadata": {},
       "output_type": "display_data",
       "text": [
        "<IPython.core.display.Javascript at 0x107178410>"
       ]
      },
      {
       "javascript": [
        "$('div#2317c532-be9d-4c10-823d-7864a271d384').text(' 37%');"
       ],
       "metadata": {},
       "output_type": "display_data",
       "text": [
        "<IPython.core.display.Javascript at 0x121b59150>"
       ]
      },
      {
       "javascript": [
        "\n",
        "        var $myPB = $(\"div#3a3eabc0-2a71-4775-a645-63fa9363ab2a\")\n",
        "        if ($myPB.hasClass('ui-progressbar')) {\n",
        "            $myPB.progressbar('value', 37);\n",
        "        } else {\n",
        "            $myPB.progressbar({value: 0, max: 100});\n",
        "        }\n",
        "        "
       ],
       "metadata": {},
       "output_type": "display_data",
       "text": [
        "<IPython.core.display.Javascript at 0x121b59e90>"
       ]
      },
      {
       "javascript": [
        "$('div#5adef946-bd31-4747-a339-5e2e06ebd085').text('ETA:  0:01:15');"
       ],
       "metadata": {},
       "output_type": "display_data",
       "text": [
        "<IPython.core.display.Javascript at 0x125e534d0>"
       ]
      },
      {
       "javascript": [
        "$('div#2317c532-be9d-4c10-823d-7864a271d384').text(' 37%');"
       ],
       "metadata": {},
       "output_type": "display_data",
       "text": [
        "<IPython.core.display.Javascript at 0x125e539d0>"
       ]
      },
      {
       "javascript": [
        "\n",
        "        var $myPB = $(\"div#3a3eabc0-2a71-4775-a645-63fa9363ab2a\")\n",
        "        if ($myPB.hasClass('ui-progressbar')) {\n",
        "            $myPB.progressbar('value', 37);\n",
        "        } else {\n",
        "            $myPB.progressbar({value: 0, max: 100});\n",
        "        }\n",
        "        "
       ],
       "metadata": {},
       "output_type": "display_data",
       "text": [
        "<IPython.core.display.Javascript at 0x125e53b50>"
       ]
      },
      {
       "javascript": [
        "$('div#5adef946-bd31-4747-a339-5e2e06ebd085').text('ETA:  0:01:17');"
       ],
       "metadata": {},
       "output_type": "display_data",
       "text": [
        "<IPython.core.display.Javascript at 0x125e53590>"
       ]
      },
      {
       "javascript": [
        "$('div#2317c532-be9d-4c10-823d-7864a271d384').text(' 37%');"
       ],
       "metadata": {},
       "output_type": "display_data",
       "text": [
        "<IPython.core.display.Javascript at 0x125e532d0>"
       ]
      },
      {
       "javascript": [
        "\n",
        "        var $myPB = $(\"div#3a3eabc0-2a71-4775-a645-63fa9363ab2a\")\n",
        "        if ($myPB.hasClass('ui-progressbar')) {\n",
        "            $myPB.progressbar('value', 37);\n",
        "        } else {\n",
        "            $myPB.progressbar({value: 0, max: 100});\n",
        "        }\n",
        "        "
       ],
       "metadata": {},
       "output_type": "display_data",
       "text": [
        "<IPython.core.display.Javascript at 0x125e53090>"
       ]
      },
      {
       "javascript": [
        "$('div#5adef946-bd31-4747-a339-5e2e06ebd085').text('ETA:  0:01:19');"
       ],
       "metadata": {},
       "output_type": "display_data",
       "text": [
        "<IPython.core.display.Javascript at 0x125e53c90>"
       ]
      },
      {
       "javascript": [
        "$('div#2317c532-be9d-4c10-823d-7864a271d384').text(' 37%');"
       ],
       "metadata": {},
       "output_type": "display_data",
       "text": [
        "<IPython.core.display.Javascript at 0x125e53110>"
       ]
      },
      {
       "javascript": [
        "\n",
        "        var $myPB = $(\"div#3a3eabc0-2a71-4775-a645-63fa9363ab2a\")\n",
        "        if ($myPB.hasClass('ui-progressbar')) {\n",
        "            $myPB.progressbar('value', 37);\n",
        "        } else {\n",
        "            $myPB.progressbar({value: 0, max: 100});\n",
        "        }\n",
        "        "
       ],
       "metadata": {},
       "output_type": "display_data",
       "text": [
        "<IPython.core.display.Javascript at 0x125e53f10>"
       ]
      },
      {
       "javascript": [
        "$('div#5adef946-bd31-4747-a339-5e2e06ebd085').text('ETA:  0:01:21');"
       ],
       "metadata": {},
       "output_type": "display_data",
       "text": [
        "<IPython.core.display.Javascript at 0x125e53cd0>"
       ]
      },
      {
       "javascript": [
        "$('div#2317c532-be9d-4c10-823d-7864a271d384').text(' 37%');"
       ],
       "metadata": {},
       "output_type": "display_data",
       "text": [
        "<IPython.core.display.Javascript at 0x125e535d0>"
       ]
      },
      {
       "javascript": [
        "\n",
        "        var $myPB = $(\"div#3a3eabc0-2a71-4775-a645-63fa9363ab2a\")\n",
        "        if ($myPB.hasClass('ui-progressbar')) {\n",
        "            $myPB.progressbar('value', 37);\n",
        "        } else {\n",
        "            $myPB.progressbar({value: 0, max: 100});\n",
        "        }\n",
        "        "
       ],
       "metadata": {},
       "output_type": "display_data",
       "text": [
        "<IPython.core.display.Javascript at 0x125e53350>"
       ]
      },
      {
       "javascript": [
        "$('div#5adef946-bd31-4747-a339-5e2e06ebd085').text('ETA:  0:01:23');"
       ],
       "metadata": {},
       "output_type": "display_data",
       "text": [
        "<IPython.core.display.Javascript at 0x125e53d10>"
       ]
      },
      {
       "javascript": [
        "$('div#2317c532-be9d-4c10-823d-7864a271d384').text(' 37%');"
       ],
       "metadata": {},
       "output_type": "display_data",
       "text": [
        "<IPython.core.display.Javascript at 0x125e53d90>"
       ]
      },
      {
       "javascript": [
        "\n",
        "        var $myPB = $(\"div#3a3eabc0-2a71-4775-a645-63fa9363ab2a\")\n",
        "        if ($myPB.hasClass('ui-progressbar')) {\n",
        "            $myPB.progressbar('value', 37);\n",
        "        } else {\n",
        "            $myPB.progressbar({value: 0, max: 100});\n",
        "        }\n",
        "        "
       ],
       "metadata": {},
       "output_type": "display_data",
       "text": [
        "<IPython.core.display.Javascript at 0x125e53190>"
       ]
      },
      {
       "javascript": [
        "$('div#5adef946-bd31-4747-a339-5e2e06ebd085').text('ETA:  0:01:25');"
       ],
       "metadata": {},
       "output_type": "display_data",
       "text": [
        "<IPython.core.display.Javascript at 0x125e53c50>"
       ]
      },
      {
       "javascript": [
        "$('div#2317c532-be9d-4c10-823d-7864a271d384').text(' 37%');"
       ],
       "metadata": {},
       "output_type": "display_data",
       "text": [
        "<IPython.core.display.Javascript at 0x125e53a90>"
       ]
      },
      {
       "javascript": [
        "\n",
        "        var $myPB = $(\"div#3a3eabc0-2a71-4775-a645-63fa9363ab2a\")\n",
        "        if ($myPB.hasClass('ui-progressbar')) {\n",
        "            $myPB.progressbar('value', 37);\n",
        "        } else {\n",
        "            $myPB.progressbar({value: 0, max: 100});\n",
        "        }\n",
        "        "
       ],
       "metadata": {},
       "output_type": "display_data",
       "text": [
        "<IPython.core.display.Javascript at 0x125e531d0>"
       ]
      },
      {
       "javascript": [
        "$('div#5adef946-bd31-4747-a339-5e2e06ebd085').text('ETA:  0:01:27');"
       ],
       "metadata": {},
       "output_type": "display_data",
       "text": [
        "<IPython.core.display.Javascript at 0x107155fd0>"
       ]
      },
      {
       "javascript": [
        "$('div#2317c532-be9d-4c10-823d-7864a271d384').text(' 37%');"
       ],
       "metadata": {},
       "output_type": "display_data",
       "text": [
        "<IPython.core.display.Javascript at 0x107155210>"
       ]
      },
      {
       "javascript": [
        "\n",
        "        var $myPB = $(\"div#3a3eabc0-2a71-4775-a645-63fa9363ab2a\")\n",
        "        if ($myPB.hasClass('ui-progressbar')) {\n",
        "            $myPB.progressbar('value', 37);\n",
        "        } else {\n",
        "            $myPB.progressbar({value: 0, max: 100});\n",
        "        }\n",
        "        "
       ],
       "metadata": {},
       "output_type": "display_data",
       "text": [
        "<IPython.core.display.Javascript at 0x107155090>"
       ]
      },
      {
       "javascript": [
        "$('div#5adef946-bd31-4747-a339-5e2e06ebd085').text('ETA:  0:01:29');"
       ],
       "metadata": {},
       "output_type": "display_data",
       "text": [
        "<IPython.core.display.Javascript at 0x107155f50>"
       ]
      },
      {
       "javascript": [
        "$('div#2317c532-be9d-4c10-823d-7864a271d384').text(' 37%');"
       ],
       "metadata": {},
       "output_type": "display_data",
       "text": [
        "<IPython.core.display.Javascript at 0x107155f10>"
       ]
      },
      {
       "javascript": [
        "\n",
        "        var $myPB = $(\"div#3a3eabc0-2a71-4775-a645-63fa9363ab2a\")\n",
        "        if ($myPB.hasClass('ui-progressbar')) {\n",
        "            $myPB.progressbar('value', 37);\n",
        "        } else {\n",
        "            $myPB.progressbar({value: 0, max: 100});\n",
        "        }\n",
        "        "
       ],
       "metadata": {},
       "output_type": "display_data",
       "text": [
        "<IPython.core.display.Javascript at 0x107155050>"
       ]
      },
      {
       "javascript": [
        "$('div#5adef946-bd31-4747-a339-5e2e06ebd085').text('ETA:  0:01:31');"
       ],
       "metadata": {},
       "output_type": "display_data",
       "text": [
        "<IPython.core.display.Javascript at 0x107155e90>"
       ]
      },
      {
       "javascript": [
        "$('div#2317c532-be9d-4c10-823d-7864a271d384').text(' 40%');"
       ],
       "metadata": {},
       "output_type": "display_data",
       "text": [
        "<IPython.core.display.Javascript at 0x107144710>"
       ]
      },
      {
       "javascript": [
        "\n",
        "        var $myPB = $(\"div#3a3eabc0-2a71-4775-a645-63fa9363ab2a\")\n",
        "        if ($myPB.hasClass('ui-progressbar')) {\n",
        "            $myPB.progressbar('value', 40);\n",
        "        } else {\n",
        "            $myPB.progressbar({value: 0, max: 100});\n",
        "        }\n",
        "        "
       ],
       "metadata": {},
       "output_type": "display_data",
       "text": [
        "<IPython.core.display.Javascript at 0x107144b90>"
       ]
      },
      {
       "javascript": [
        "$('div#5adef946-bd31-4747-a339-5e2e06ebd085').text('ETA:  0:01:21');"
       ],
       "metadata": {},
       "output_type": "display_data",
       "text": [
        "<IPython.core.display.Javascript at 0x107144d10>"
       ]
      },
      {
       "javascript": [
        "$('div#2317c532-be9d-4c10-823d-7864a271d384').text(' 43%');"
       ],
       "metadata": {},
       "output_type": "display_data",
       "text": [
        "<IPython.core.display.Javascript at 0x107144590>"
       ]
      },
      {
       "javascript": [
        "\n",
        "        var $myPB = $(\"div#3a3eabc0-2a71-4775-a645-63fa9363ab2a\")\n",
        "        if ($myPB.hasClass('ui-progressbar')) {\n",
        "            $myPB.progressbar('value', 43);\n",
        "        } else {\n",
        "            $myPB.progressbar({value: 0, max: 100});\n",
        "        }\n",
        "        "
       ],
       "metadata": {},
       "output_type": "display_data",
       "text": [
        "<IPython.core.display.Javascript at 0x107144e50>"
       ]
      },
      {
       "javascript": [
        "$('div#5adef946-bd31-4747-a339-5e2e06ebd085').text('ETA:  0:01:13');"
       ],
       "metadata": {},
       "output_type": "display_data",
       "text": [
        "<IPython.core.display.Javascript at 0x107144910>"
       ]
      },
      {
       "javascript": [
        "$('div#2317c532-be9d-4c10-823d-7864a271d384').text(' 46%');"
       ],
       "metadata": {},
       "output_type": "display_data",
       "text": [
        "<IPython.core.display.Javascript at 0x10714b410>"
       ]
      },
      {
       "javascript": [
        "\n",
        "        var $myPB = $(\"div#3a3eabc0-2a71-4775-a645-63fa9363ab2a\")\n",
        "        if ($myPB.hasClass('ui-progressbar')) {\n",
        "            $myPB.progressbar('value', 46);\n",
        "        } else {\n",
        "            $myPB.progressbar({value: 0, max: 100});\n",
        "        }\n",
        "        "
       ],
       "metadata": {},
       "output_type": "display_data",
       "text": [
        "<IPython.core.display.Javascript at 0x10714b390>"
       ]
      },
      {
       "javascript": [
        "$('div#5adef946-bd31-4747-a339-5e2e06ebd085').text('ETA:  0:01:06');"
       ],
       "metadata": {},
       "output_type": "display_data",
       "text": [
        "<IPython.core.display.Javascript at 0x10714b4d0>"
       ]
      },
      {
       "javascript": [
        "$('div#2317c532-be9d-4c10-823d-7864a271d384').text(' 46%');"
       ],
       "metadata": {},
       "output_type": "display_data",
       "text": [
        "<IPython.core.display.Javascript at 0x10714bc90>"
       ]
      },
      {
       "javascript": [
        "\n",
        "        var $myPB = $(\"div#3a3eabc0-2a71-4775-a645-63fa9363ab2a\")\n",
        "        if ($myPB.hasClass('ui-progressbar')) {\n",
        "            $myPB.progressbar('value', 46);\n",
        "        } else {\n",
        "            $myPB.progressbar({value: 0, max: 100});\n",
        "        }\n",
        "        "
       ],
       "metadata": {},
       "output_type": "display_data",
       "text": [
        "<IPython.core.display.Javascript at 0x10714b850>"
       ]
      },
      {
       "javascript": [
        "$('div#5adef946-bd31-4747-a339-5e2e06ebd085').text('ETA:  0:01:08');"
       ],
       "metadata": {},
       "output_type": "display_data",
       "text": [
        "<IPython.core.display.Javascript at 0x10714b190>"
       ]
      },
      {
       "javascript": [
        "$('div#2317c532-be9d-4c10-823d-7864a271d384').text(' 49%');"
       ],
       "metadata": {},
       "output_type": "display_data",
       "text": [
        "<IPython.core.display.Javascript at 0x120eba550>"
       ]
      },
      {
       "javascript": [
        "\n",
        "        var $myPB = $(\"div#3a3eabc0-2a71-4775-a645-63fa9363ab2a\")\n",
        "        if ($myPB.hasClass('ui-progressbar')) {\n",
        "            $myPB.progressbar('value', 49);\n",
        "        } else {\n",
        "            $myPB.progressbar({value: 0, max: 100});\n",
        "        }\n",
        "        "
       ],
       "metadata": {},
       "output_type": "display_data",
       "text": [
        "<IPython.core.display.Javascript at 0x120eba090>"
       ]
      },
      {
       "javascript": [
        "$('div#5adef946-bd31-4747-a339-5e2e06ebd085').text('ETA:  0:01:01');"
       ],
       "metadata": {},
       "output_type": "display_data",
       "text": [
        "<IPython.core.display.Javascript at 0x120ebaa90>"
       ]
      },
      {
       "javascript": [
        "$('div#2317c532-be9d-4c10-823d-7864a271d384').text(' 52%');"
       ],
       "metadata": {},
       "output_type": "display_data",
       "text": [
        "<IPython.core.display.Javascript at 0x120eba250>"
       ]
      },
      {
       "javascript": [
        "\n",
        "        var $myPB = $(\"div#3a3eabc0-2a71-4775-a645-63fa9363ab2a\")\n",
        "        if ($myPB.hasClass('ui-progressbar')) {\n",
        "            $myPB.progressbar('value', 52);\n",
        "        } else {\n",
        "            $myPB.progressbar({value: 0, max: 100});\n",
        "        }\n",
        "        "
       ],
       "metadata": {},
       "output_type": "display_data",
       "text": [
        "<IPython.core.display.Javascript at 0x120eba690>"
       ]
      },
      {
       "javascript": [
        "$('div#5adef946-bd31-4747-a339-5e2e06ebd085').text('ETA:  0:00:55');"
       ],
       "metadata": {},
       "output_type": "display_data",
       "text": [
        "<IPython.core.display.Javascript at 0x120ebac10>"
       ]
      },
      {
       "javascript": [
        "$('div#2317c532-be9d-4c10-823d-7864a271d384').text(' 52%');"
       ],
       "metadata": {},
       "output_type": "display_data",
       "text": [
        "<IPython.core.display.Javascript at 0x120eba050>"
       ]
      },
      {
       "javascript": [
        "\n",
        "        var $myPB = $(\"div#3a3eabc0-2a71-4775-a645-63fa9363ab2a\")\n",
        "        if ($myPB.hasClass('ui-progressbar')) {\n",
        "            $myPB.progressbar('value', 52);\n",
        "        } else {\n",
        "            $myPB.progressbar({value: 0, max: 100});\n",
        "        }\n",
        "        "
       ],
       "metadata": {},
       "output_type": "display_data",
       "text": [
        "<IPython.core.display.Javascript at 0x120ebaa50>"
       ]
      },
      {
       "javascript": [
        "$('div#5adef946-bd31-4747-a339-5e2e06ebd085').text('ETA:  0:00:56');"
       ],
       "metadata": {},
       "output_type": "display_data",
       "text": [
        "<IPython.core.display.Javascript at 0x120eba890>"
       ]
      },
      {
       "javascript": [
        "$('div#2317c532-be9d-4c10-823d-7864a271d384').text(' 55%');"
       ],
       "metadata": {},
       "output_type": "display_data",
       "text": [
        "<IPython.core.display.Javascript at 0x120ebaed0>"
       ]
      },
      {
       "javascript": [
        "\n",
        "        var $myPB = $(\"div#3a3eabc0-2a71-4775-a645-63fa9363ab2a\")\n",
        "        if ($myPB.hasClass('ui-progressbar')) {\n",
        "            $myPB.progressbar('value', 55);\n",
        "        } else {\n",
        "            $myPB.progressbar({value: 0, max: 100});\n",
        "        }\n",
        "        "
       ],
       "metadata": {},
       "output_type": "display_data",
       "text": [
        "<IPython.core.display.Javascript at 0x120ebad50>"
       ]
      },
      {
       "javascript": [
        "$('div#5adef946-bd31-4747-a339-5e2e06ebd085').text('ETA:  0:00:51');"
       ],
       "metadata": {},
       "output_type": "display_data",
       "text": [
        "<IPython.core.display.Javascript at 0x120ebacd0>"
       ]
      },
      {
       "javascript": [
        "$('div#2317c532-be9d-4c10-823d-7864a271d384').text(' 55%');"
       ],
       "metadata": {},
       "output_type": "display_data",
       "text": [
        "<IPython.core.display.Javascript at 0x120ebae90>"
       ]
      },
      {
       "javascript": [
        "\n",
        "        var $myPB = $(\"div#3a3eabc0-2a71-4775-a645-63fa9363ab2a\")\n",
        "        if ($myPB.hasClass('ui-progressbar')) {\n",
        "            $myPB.progressbar('value', 55);\n",
        "        } else {\n",
        "            $myPB.progressbar({value: 0, max: 100});\n",
        "        }\n",
        "        "
       ],
       "metadata": {},
       "output_type": "display_data",
       "text": [
        "<IPython.core.display.Javascript at 0x10714b190>"
       ]
      },
      {
       "javascript": [
        "$('div#5adef946-bd31-4747-a339-5e2e06ebd085').text('ETA:  0:00:52');"
       ],
       "metadata": {},
       "output_type": "display_data",
       "text": [
        "<IPython.core.display.Javascript at 0x10714bcd0>"
       ]
      },
      {
       "javascript": [
        "$('div#2317c532-be9d-4c10-823d-7864a271d384').text(' 55%');"
       ],
       "metadata": {},
       "output_type": "display_data",
       "text": [
        "<IPython.core.display.Javascript at 0x10714b4d0>"
       ]
      },
      {
       "javascript": [
        "\n",
        "        var $myPB = $(\"div#3a3eabc0-2a71-4775-a645-63fa9363ab2a\")\n",
        "        if ($myPB.hasClass('ui-progressbar')) {\n",
        "            $myPB.progressbar('value', 55);\n",
        "        } else {\n",
        "            $myPB.progressbar({value: 0, max: 100});\n",
        "        }\n",
        "        "
       ],
       "metadata": {},
       "output_type": "display_data",
       "text": [
        "<IPython.core.display.Javascript at 0x10714b390>"
       ]
      },
      {
       "javascript": [
        "$('div#5adef946-bd31-4747-a339-5e2e06ebd085').text('ETA:  0:00:52');"
       ],
       "metadata": {},
       "output_type": "display_data",
       "text": [
        "<IPython.core.display.Javascript at 0x10714b410>"
       ]
      },
      {
       "javascript": [
        "$('div#2317c532-be9d-4c10-823d-7864a271d384').text(' 55%');"
       ],
       "metadata": {},
       "output_type": "display_data",
       "text": [
        "<IPython.core.display.Javascript at 0x107144910>"
       ]
      },
      {
       "javascript": [
        "\n",
        "        var $myPB = $(\"div#3a3eabc0-2a71-4775-a645-63fa9363ab2a\")\n",
        "        if ($myPB.hasClass('ui-progressbar')) {\n",
        "            $myPB.progressbar('value', 55);\n",
        "        } else {\n",
        "            $myPB.progressbar({value: 0, max: 100});\n",
        "        }\n",
        "        "
       ],
       "metadata": {},
       "output_type": "display_data",
       "text": [
        "<IPython.core.display.Javascript at 0x107144e50>"
       ]
      },
      {
       "javascript": [
        "$('div#5adef946-bd31-4747-a339-5e2e06ebd085').text('ETA:  0:00:53');"
       ],
       "metadata": {},
       "output_type": "display_data",
       "text": [
        "<IPython.core.display.Javascript at 0x107144590>"
       ]
      },
      {
       "javascript": [
        "$('div#2317c532-be9d-4c10-823d-7864a271d384').text(' 55%');"
       ],
       "metadata": {},
       "output_type": "display_data",
       "text": [
        "<IPython.core.display.Javascript at 0x107144790>"
       ]
      },
      {
       "javascript": [
        "\n",
        "        var $myPB = $(\"div#3a3eabc0-2a71-4775-a645-63fa9363ab2a\")\n",
        "        if ($myPB.hasClass('ui-progressbar')) {\n",
        "            $myPB.progressbar('value', 55);\n",
        "        } else {\n",
        "            $myPB.progressbar({value: 0, max: 100});\n",
        "        }\n",
        "        "
       ],
       "metadata": {},
       "output_type": "display_data",
       "text": [
        "<IPython.core.display.Javascript at 0x107144b90>"
       ]
      },
      {
       "javascript": [
        "$('div#5adef946-bd31-4747-a339-5e2e06ebd085').text('ETA:  0:00:54');"
       ],
       "metadata": {},
       "output_type": "display_data",
       "text": [
        "<IPython.core.display.Javascript at 0x107144710>"
       ]
      },
      {
       "javascript": [
        "$('div#2317c532-be9d-4c10-823d-7864a271d384').text(' 55%');"
       ],
       "metadata": {},
       "output_type": "display_data",
       "text": [
        "<IPython.core.display.Javascript at 0x107155290>"
       ]
      },
      {
       "javascript": [
        "\n",
        "        var $myPB = $(\"div#3a3eabc0-2a71-4775-a645-63fa9363ab2a\")\n",
        "        if ($myPB.hasClass('ui-progressbar')) {\n",
        "            $myPB.progressbar('value', 55);\n",
        "        } else {\n",
        "            $myPB.progressbar({value: 0, max: 100});\n",
        "        }\n",
        "        "
       ],
       "metadata": {},
       "output_type": "display_data",
       "text": [
        "<IPython.core.display.Javascript at 0x107155050>"
       ]
      },
      {
       "javascript": [
        "$('div#5adef946-bd31-4747-a339-5e2e06ebd085').text('ETA:  0:00:55');"
       ],
       "metadata": {},
       "output_type": "display_data",
       "text": [
        "<IPython.core.display.Javascript at 0x107155f10>"
       ]
      },
      {
       "javascript": [
        "$('div#2317c532-be9d-4c10-823d-7864a271d384').text(' 55%');"
       ],
       "metadata": {},
       "output_type": "display_data",
       "text": [
        "<IPython.core.display.Javascript at 0x107155ed0>"
       ]
      },
      {
       "javascript": [
        "\n",
        "        var $myPB = $(\"div#3a3eabc0-2a71-4775-a645-63fa9363ab2a\")\n",
        "        if ($myPB.hasClass('ui-progressbar')) {\n",
        "            $myPB.progressbar('value', 55);\n",
        "        } else {\n",
        "            $myPB.progressbar({value: 0, max: 100});\n",
        "        }\n",
        "        "
       ],
       "metadata": {},
       "output_type": "display_data",
       "text": [
        "<IPython.core.display.Javascript at 0x107155090>"
       ]
      },
      {
       "javascript": [
        "$('div#5adef946-bd31-4747-a339-5e2e06ebd085').text('ETA:  0:00:56');"
       ],
       "metadata": {},
       "output_type": "display_data",
       "text": [
        "<IPython.core.display.Javascript at 0x107155210>"
       ]
      },
      {
       "javascript": [
        "$('div#2317c532-be9d-4c10-823d-7864a271d384').text(' 55%');"
       ],
       "metadata": {},
       "output_type": "display_data",
       "text": [
        "<IPython.core.display.Javascript at 0x107155390>"
       ]
      },
      {
       "javascript": [
        "\n",
        "        var $myPB = $(\"div#3a3eabc0-2a71-4775-a645-63fa9363ab2a\")\n",
        "        if ($myPB.hasClass('ui-progressbar')) {\n",
        "            $myPB.progressbar('value', 55);\n",
        "        } else {\n",
        "            $myPB.progressbar({value: 0, max: 100});\n",
        "        }\n",
        "        "
       ],
       "metadata": {},
       "output_type": "display_data",
       "text": [
        "<IPython.core.display.Javascript at 0x107155ad0>"
       ]
      },
      {
       "javascript": [
        "$('div#5adef946-bd31-4747-a339-5e2e06ebd085').text('ETA:  0:00:57');"
       ],
       "metadata": {},
       "output_type": "display_data",
       "text": [
        "<IPython.core.display.Javascript at 0x125e531d0>"
       ]
      },
      {
       "javascript": [
        "$('div#2317c532-be9d-4c10-823d-7864a271d384').text(' 55%');"
       ],
       "metadata": {},
       "output_type": "display_data",
       "text": [
        "<IPython.core.display.Javascript at 0x125e53a90>"
       ]
      },
      {
       "javascript": [
        "\n",
        "        var $myPB = $(\"div#3a3eabc0-2a71-4775-a645-63fa9363ab2a\")\n",
        "        if ($myPB.hasClass('ui-progressbar')) {\n",
        "            $myPB.progressbar('value', 55);\n",
        "        } else {\n",
        "            $myPB.progressbar({value: 0, max: 100});\n",
        "        }\n",
        "        "
       ],
       "metadata": {},
       "output_type": "display_data",
       "text": [
        "<IPython.core.display.Javascript at 0x125e53190>"
       ]
      },
      {
       "javascript": [
        "$('div#5adef946-bd31-4747-a339-5e2e06ebd085').text('ETA:  0:00:58');"
       ],
       "metadata": {},
       "output_type": "display_data",
       "text": [
        "<IPython.core.display.Javascript at 0x125e53d90>"
       ]
      },
      {
       "javascript": [
        "$('div#2317c532-be9d-4c10-823d-7864a271d384').text(' 55%');"
       ],
       "metadata": {},
       "output_type": "display_data",
       "text": [
        "<IPython.core.display.Javascript at 0x125e53490>"
       ]
      },
      {
       "javascript": [
        "\n",
        "        var $myPB = $(\"div#3a3eabc0-2a71-4775-a645-63fa9363ab2a\")\n",
        "        if ($myPB.hasClass('ui-progressbar')) {\n",
        "            $myPB.progressbar('value', 55);\n",
        "        } else {\n",
        "            $myPB.progressbar({value: 0, max: 100});\n",
        "        }\n",
        "        "
       ],
       "metadata": {},
       "output_type": "display_data",
       "text": [
        "<IPython.core.display.Javascript at 0x125e53350>"
       ]
      },
      {
       "javascript": [
        "$('div#5adef946-bd31-4747-a339-5e2e06ebd085').text('ETA:  0:00:59');"
       ],
       "metadata": {},
       "output_type": "display_data",
       "text": [
        "<IPython.core.display.Javascript at 0x125e535d0>"
       ]
      },
      {
       "javascript": [
        "$('div#2317c532-be9d-4c10-823d-7864a271d384').text(' 55%');"
       ],
       "metadata": {},
       "output_type": "display_data",
       "text": [
        "<IPython.core.display.Javascript at 0x125e53310>"
       ]
      },
      {
       "javascript": [
        "\n",
        "        var $myPB = $(\"div#3a3eabc0-2a71-4775-a645-63fa9363ab2a\")\n",
        "        if ($myPB.hasClass('ui-progressbar')) {\n",
        "            $myPB.progressbar('value', 55);\n",
        "        } else {\n",
        "            $myPB.progressbar({value: 0, max: 100});\n",
        "        }\n",
        "        "
       ],
       "metadata": {},
       "output_type": "display_data",
       "text": [
        "<IPython.core.display.Javascript at 0x125e53f10>"
       ]
      },
      {
       "javascript": [
        "$('div#5adef946-bd31-4747-a339-5e2e06ebd085').text('ETA:  0:01:00');"
       ],
       "metadata": {},
       "output_type": "display_data",
       "text": [
        "<IPython.core.display.Javascript at 0x125e53110>"
       ]
      },
      {
       "javascript": [
        "$('div#2317c532-be9d-4c10-823d-7864a271d384').text(' 55%');"
       ],
       "metadata": {},
       "output_type": "display_data",
       "text": [
        "<IPython.core.display.Javascript at 0x125e53dd0>"
       ]
      },
      {
       "javascript": [
        "\n",
        "        var $myPB = $(\"div#3a3eabc0-2a71-4775-a645-63fa9363ab2a\")\n",
        "        if ($myPB.hasClass('ui-progressbar')) {\n",
        "            $myPB.progressbar('value', 55);\n",
        "        } else {\n",
        "            $myPB.progressbar({value: 0, max: 100});\n",
        "        }\n",
        "        "
       ],
       "metadata": {},
       "output_type": "display_data",
       "text": [
        "<IPython.core.display.Javascript at 0x125e53090>"
       ]
      },
      {
       "javascript": [
        "$('div#5adef946-bd31-4747-a339-5e2e06ebd085').text('ETA:  0:01:01');"
       ],
       "metadata": {},
       "output_type": "display_data",
       "text": [
        "<IPython.core.display.Javascript at 0x125e532d0>"
       ]
      },
      {
       "javascript": [
        "$('div#2317c532-be9d-4c10-823d-7864a271d384').text(' 55%');"
       ],
       "metadata": {},
       "output_type": "display_data",
       "text": [
        "<IPython.core.display.Javascript at 0x125e53450>"
       ]
      },
      {
       "javascript": [
        "\n",
        "        var $myPB = $(\"div#3a3eabc0-2a71-4775-a645-63fa9363ab2a\")\n",
        "        if ($myPB.hasClass('ui-progressbar')) {\n",
        "            $myPB.progressbar('value', 55);\n",
        "        } else {\n",
        "            $myPB.progressbar({value: 0, max: 100});\n",
        "        }\n",
        "        "
       ],
       "metadata": {},
       "output_type": "display_data",
       "text": [
        "<IPython.core.display.Javascript at 0x125e53b50>"
       ]
      },
      {
       "javascript": [
        "$('div#5adef946-bd31-4747-a339-5e2e06ebd085').text('ETA:  0:01:02');"
       ],
       "metadata": {},
       "output_type": "display_data",
       "text": [
        "<IPython.core.display.Javascript at 0x125e539d0>"
       ]
      },
      {
       "javascript": [
        "$('div#2317c532-be9d-4c10-823d-7864a271d384').text(' 55%');"
       ],
       "metadata": {},
       "output_type": "display_data",
       "text": [
        "<IPython.core.display.Javascript at 0x125e534d0>"
       ]
      },
      {
       "javascript": [
        "\n",
        "        var $myPB = $(\"div#3a3eabc0-2a71-4775-a645-63fa9363ab2a\")\n",
        "        if ($myPB.hasClass('ui-progressbar')) {\n",
        "            $myPB.progressbar('value', 55);\n",
        "        } else {\n",
        "            $myPB.progressbar({value: 0, max: 100});\n",
        "        }\n",
        "        "
       ],
       "metadata": {},
       "output_type": "display_data",
       "text": [
        "<IPython.core.display.Javascript at 0x121b59e90>"
       ]
      },
      {
       "javascript": [
        "$('div#5adef946-bd31-4747-a339-5e2e06ebd085').text('ETA:  0:01:03');"
       ],
       "metadata": {},
       "output_type": "display_data",
       "text": [
        "<IPython.core.display.Javascript at 0x121b59150>"
       ]
      },
      {
       "javascript": [
        "$('div#2317c532-be9d-4c10-823d-7864a271d384').text(' 55%');"
       ],
       "metadata": {},
       "output_type": "display_data",
       "text": [
        "<IPython.core.display.Javascript at 0x107178810>"
       ]
      },
      {
       "javascript": [
        "\n",
        "        var $myPB = $(\"div#3a3eabc0-2a71-4775-a645-63fa9363ab2a\")\n",
        "        if ($myPB.hasClass('ui-progressbar')) {\n",
        "            $myPB.progressbar('value', 55);\n",
        "        } else {\n",
        "            $myPB.progressbar({value: 0, max: 100});\n",
        "        }\n",
        "        "
       ],
       "metadata": {},
       "output_type": "display_data",
       "text": [
        "<IPython.core.display.Javascript at 0x107178410>"
       ]
      },
      {
       "javascript": [
        "$('div#5adef946-bd31-4747-a339-5e2e06ebd085').text('ETA:  0:01:04');"
       ],
       "metadata": {},
       "output_type": "display_data",
       "text": [
        "<IPython.core.display.Javascript at 0x107178750>"
       ]
      },
      {
       "javascript": [
        "$('div#2317c532-be9d-4c10-823d-7864a271d384').text(' 55%');"
       ],
       "metadata": {},
       "output_type": "display_data",
       "text": [
        "<IPython.core.display.Javascript at 0x1071783d0>"
       ]
      },
      {
       "javascript": [
        "\n",
        "        var $myPB = $(\"div#3a3eabc0-2a71-4775-a645-63fa9363ab2a\")\n",
        "        if ($myPB.hasClass('ui-progressbar')) {\n",
        "            $myPB.progressbar('value', 55);\n",
        "        } else {\n",
        "            $myPB.progressbar({value: 0, max: 100});\n",
        "        }\n",
        "        "
       ],
       "metadata": {},
       "output_type": "display_data",
       "text": [
        "<IPython.core.display.Javascript at 0x1071784d0>"
       ]
      },
      {
       "javascript": [
        "$('div#5adef946-bd31-4747-a339-5e2e06ebd085').text('ETA:  0:01:04');"
       ],
       "metadata": {},
       "output_type": "display_data",
       "text": [
        "<IPython.core.display.Javascript at 0x107178690>"
       ]
      },
      {
       "javascript": [
        "$('div#2317c532-be9d-4c10-823d-7864a271d384').text(' 58%');"
       ],
       "metadata": {},
       "output_type": "display_data",
       "text": [
        "<IPython.core.display.Javascript at 0x107178350>"
       ]
      },
      {
       "javascript": [
        "\n",
        "        var $myPB = $(\"div#3a3eabc0-2a71-4775-a645-63fa9363ab2a\")\n",
        "        if ($myPB.hasClass('ui-progressbar')) {\n",
        "            $myPB.progressbar('value', 58);\n",
        "        } else {\n",
        "            $myPB.progressbar({value: 0, max: 100});\n",
        "        }\n",
        "        "
       ],
       "metadata": {},
       "output_type": "display_data",
       "text": [
        "<IPython.core.display.Javascript at 0x107178450>"
       ]
      },
      {
       "javascript": [
        "$('div#5adef946-bd31-4747-a339-5e2e06ebd085').text('ETA:  0:00:58');"
       ],
       "metadata": {},
       "output_type": "display_data",
       "text": [
        "<IPython.core.display.Javascript at 0x107178190>"
       ]
      },
      {
       "javascript": [
        "$('div#2317c532-be9d-4c10-823d-7864a271d384').text(' 58%');"
       ],
       "metadata": {},
       "output_type": "display_data",
       "text": [
        "<IPython.core.display.Javascript at 0x1071780d0>"
       ]
      },
      {
       "javascript": [
        "\n",
        "        var $myPB = $(\"div#3a3eabc0-2a71-4775-a645-63fa9363ab2a\")\n",
        "        if ($myPB.hasClass('ui-progressbar')) {\n",
        "            $myPB.progressbar('value', 58);\n",
        "        } else {\n",
        "            $myPB.progressbar({value: 0, max: 100});\n",
        "        }\n",
        "        "
       ],
       "metadata": {},
       "output_type": "display_data",
       "text": [
        "<IPython.core.display.Javascript at 0x1071782d0>"
       ]
      },
      {
       "javascript": [
        "$('div#5adef946-bd31-4747-a339-5e2e06ebd085').text('ETA:  0:00:59');"
       ],
       "metadata": {},
       "output_type": "display_data",
       "text": [
        "<IPython.core.display.Javascript at 0x107178050>"
       ]
      },
      {
       "javascript": [
        "$('div#2317c532-be9d-4c10-823d-7864a271d384').text(' 58%');"
       ],
       "metadata": {},
       "output_type": "display_data",
       "text": [
        "<IPython.core.display.Javascript at 0x107178390>"
       ]
      },
      {
       "javascript": [
        "\n",
        "        var $myPB = $(\"div#3a3eabc0-2a71-4775-a645-63fa9363ab2a\")\n",
        "        if ($myPB.hasClass('ui-progressbar')) {\n",
        "            $myPB.progressbar('value', 58);\n",
        "        } else {\n",
        "            $myPB.progressbar({value: 0, max: 100});\n",
        "        }\n",
        "        "
       ],
       "metadata": {},
       "output_type": "display_data",
       "text": [
        "<IPython.core.display.Javascript at 0x107178610>"
       ]
      },
      {
       "javascript": [
        "$('div#5adef946-bd31-4747-a339-5e2e06ebd085').text('ETA:  0:00:59');"
       ],
       "metadata": {},
       "output_type": "display_data",
       "text": [
        "<IPython.core.display.Javascript at 0x120ebae90>"
       ]
      },
      {
       "javascript": [
        "$('div#2317c532-be9d-4c10-823d-7864a271d384').text(' 58%');"
       ],
       "metadata": {},
       "output_type": "display_data",
       "text": [
        "<IPython.core.display.Javascript at 0x120eba590>"
       ]
      },
      {
       "javascript": [
        "\n",
        "        var $myPB = $(\"div#3a3eabc0-2a71-4775-a645-63fa9363ab2a\")\n",
        "        if ($myPB.hasClass('ui-progressbar')) {\n",
        "            $myPB.progressbar('value', 58);\n",
        "        } else {\n",
        "            $myPB.progressbar({value: 0, max: 100});\n",
        "        }\n",
        "        "
       ],
       "metadata": {},
       "output_type": "display_data",
       "text": [
        "<IPython.core.display.Javascript at 0x120ebaad0>"
       ]
      },
      {
       "javascript": [
        "$('div#5adef946-bd31-4747-a339-5e2e06ebd085').text('ETA:  0:01:00');"
       ],
       "metadata": {},
       "output_type": "display_data",
       "text": [
        "<IPython.core.display.Javascript at 0x120eba150>"
       ]
      },
      {
       "javascript": [
        "$('div#2317c532-be9d-4c10-823d-7864a271d384').text(' 58%');"
       ],
       "metadata": {},
       "output_type": "display_data",
       "text": [
        "<IPython.core.display.Javascript at 0x120eba350>"
       ]
      },
      {
       "javascript": [
        "\n",
        "        var $myPB = $(\"div#3a3eabc0-2a71-4775-a645-63fa9363ab2a\")\n",
        "        if ($myPB.hasClass('ui-progressbar')) {\n",
        "            $myPB.progressbar('value', 58);\n",
        "        } else {\n",
        "            $myPB.progressbar({value: 0, max: 100});\n",
        "        }\n",
        "        "
       ],
       "metadata": {},
       "output_type": "display_data",
       "text": [
        "<IPython.core.display.Javascript at 0x120ebad50>"
       ]
      },
      {
       "javascript": [
        "$('div#5adef946-bd31-4747-a339-5e2e06ebd085').text('ETA:  0:01:01');"
       ],
       "metadata": {},
       "output_type": "display_data",
       "text": [
        "<IPython.core.display.Javascript at 0x120ebaed0>"
       ]
      },
      {
       "javascript": [
        "$('div#2317c532-be9d-4c10-823d-7864a271d384').text(' 58%');"
       ],
       "metadata": {},
       "output_type": "display_data",
       "text": [
        "<IPython.core.display.Javascript at 0x120eba4d0>"
       ]
      },
      {
       "javascript": [
        "\n",
        "        var $myPB = $(\"div#3a3eabc0-2a71-4775-a645-63fa9363ab2a\")\n",
        "        if ($myPB.hasClass('ui-progressbar')) {\n",
        "            $myPB.progressbar('value', 58);\n",
        "        } else {\n",
        "            $myPB.progressbar({value: 0, max: 100});\n",
        "        }\n",
        "        "
       ],
       "metadata": {},
       "output_type": "display_data",
       "text": [
        "<IPython.core.display.Javascript at 0x120ebaa50>"
       ]
      },
      {
       "javascript": [
        "$('div#5adef946-bd31-4747-a339-5e2e06ebd085').text('ETA:  0:01:02');"
       ],
       "metadata": {},
       "output_type": "display_data",
       "text": [
        "<IPython.core.display.Javascript at 0x120eba050>"
       ]
      },
      {
       "javascript": [
        "$('div#2317c532-be9d-4c10-823d-7864a271d384').text(' 58%');"
       ],
       "metadata": {},
       "output_type": "display_data",
       "text": [
        "<IPython.core.display.Javascript at 0x120eba710>"
       ]
      },
      {
       "javascript": [
        "\n",
        "        var $myPB = $(\"div#3a3eabc0-2a71-4775-a645-63fa9363ab2a\")\n",
        "        if ($myPB.hasClass('ui-progressbar')) {\n",
        "            $myPB.progressbar('value', 58);\n",
        "        } else {\n",
        "            $myPB.progressbar({value: 0, max: 100});\n",
        "        }\n",
        "        "
       ],
       "metadata": {},
       "output_type": "display_data",
       "text": [
        "<IPython.core.display.Javascript at 0x120eba690>"
       ]
      },
      {
       "javascript": [
        "$('div#5adef946-bd31-4747-a339-5e2e06ebd085').text('ETA:  0:01:03');"
       ],
       "metadata": {},
       "output_type": "display_data",
       "text": [
        "<IPython.core.display.Javascript at 0x120eba250>"
       ]
      },
      {
       "javascript": [
        "$('div#2317c532-be9d-4c10-823d-7864a271d384').text(' 65%');"
       ],
       "metadata": {},
       "output_type": "display_data",
       "text": [
        "<IPython.core.display.Javascript at 0x120eba650>"
       ]
      },
      {
       "javascript": [
        "\n",
        "        var $myPB = $(\"div#3a3eabc0-2a71-4775-a645-63fa9363ab2a\")\n",
        "        if ($myPB.hasClass('ui-progressbar')) {\n",
        "            $myPB.progressbar('value', 65);\n",
        "        } else {\n",
        "            $myPB.progressbar({value: 0, max: 100});\n",
        "        }\n",
        "        "
       ],
       "metadata": {},
       "output_type": "display_data",
       "text": [
        "<IPython.core.display.Javascript at 0x107773290>"
       ]
      },
      {
       "javascript": [
        "$('div#5adef946-bd31-4747-a339-5e2e06ebd085').text('ETA:  0:00:47');"
       ],
       "metadata": {},
       "output_type": "display_data",
       "text": [
        "<IPython.core.display.Javascript at 0x1071785d0>"
       ]
      },
      {
       "javascript": [
        "$('div#2317c532-be9d-4c10-823d-7864a271d384').text(' 65%');"
       ],
       "metadata": {},
       "output_type": "display_data",
       "text": [
        "<IPython.core.display.Javascript at 0x1071782d0>"
       ]
      },
      {
       "javascript": [
        "\n",
        "        var $myPB = $(\"div#3a3eabc0-2a71-4775-a645-63fa9363ab2a\")\n",
        "        if ($myPB.hasClass('ui-progressbar')) {\n",
        "            $myPB.progressbar('value', 65);\n",
        "        } else {\n",
        "            $myPB.progressbar({value: 0, max: 100});\n",
        "        }\n",
        "        "
       ],
       "metadata": {},
       "output_type": "display_data",
       "text": [
        "<IPython.core.display.Javascript at 0x1071780d0>"
       ]
      },
      {
       "javascript": [
        "$('div#5adef946-bd31-4747-a339-5e2e06ebd085').text('ETA:  0:00:48');"
       ],
       "metadata": {},
       "output_type": "display_data",
       "text": [
        "<IPython.core.display.Javascript at 0x107178090>"
       ]
      },
      {
       "javascript": [
        "$('div#2317c532-be9d-4c10-823d-7864a271d384').text(' 65%');"
       ],
       "metadata": {},
       "output_type": "display_data",
       "text": [
        "<IPython.core.display.Javascript at 0x107178310>"
       ]
      },
      {
       "javascript": [
        "\n",
        "        var $myPB = $(\"div#3a3eabc0-2a71-4775-a645-63fa9363ab2a\")\n",
        "        if ($myPB.hasClass('ui-progressbar')) {\n",
        "            $myPB.progressbar('value', 65);\n",
        "        } else {\n",
        "            $myPB.progressbar({value: 0, max: 100});\n",
        "        }\n",
        "        "
       ],
       "metadata": {},
       "output_type": "display_data",
       "text": [
        "<IPython.core.display.Javascript at 0x107178350>"
       ]
      },
      {
       "javascript": [
        "$('div#5adef946-bd31-4747-a339-5e2e06ebd085').text('ETA:  0:00:48');"
       ],
       "metadata": {},
       "output_type": "display_data",
       "text": [
        "<IPython.core.display.Javascript at 0x107178710>"
       ]
      },
      {
       "javascript": [
        "$('div#2317c532-be9d-4c10-823d-7864a271d384').text(' 68%');"
       ],
       "metadata": {},
       "output_type": "display_data",
       "text": [
        "<IPython.core.display.Javascript at 0x107178490>"
       ]
      },
      {
       "javascript": [
        "\n",
        "        var $myPB = $(\"div#3a3eabc0-2a71-4775-a645-63fa9363ab2a\")\n",
        "        if ($myPB.hasClass('ui-progressbar')) {\n",
        "            $myPB.progressbar('value', 68);\n",
        "        } else {\n",
        "            $myPB.progressbar({value: 0, max: 100});\n",
        "        }\n",
        "        "
       ],
       "metadata": {},
       "output_type": "display_data",
       "text": [
        "<IPython.core.display.Javascript at 0x1071783d0>"
       ]
      },
      {
       "javascript": [
        "$('div#5adef946-bd31-4747-a339-5e2e06ebd085').text('ETA:  0:00:43');"
       ],
       "metadata": {},
       "output_type": "display_data",
       "text": [
        "<IPython.core.display.Javascript at 0x107178590>"
       ]
      },
      {
       "javascript": [
        "$('div#2317c532-be9d-4c10-823d-7864a271d384').text(' 74%');"
       ],
       "metadata": {},
       "output_type": "display_data",
       "text": [
        "<IPython.core.display.Javascript at 0x107178550>"
       ]
      },
      {
       "javascript": [
        "\n",
        "        var $myPB = $(\"div#3a3eabc0-2a71-4775-a645-63fa9363ab2a\")\n",
        "        if ($myPB.hasClass('ui-progressbar')) {\n",
        "            $myPB.progressbar('value', 74);\n",
        "        } else {\n",
        "            $myPB.progressbar({value: 0, max: 100});\n",
        "        }\n",
        "        "
       ],
       "metadata": {},
       "output_type": "display_data",
       "text": [
        "<IPython.core.display.Javascript at 0x107178810>"
       ]
      },
      {
       "javascript": [
        "$('div#5adef946-bd31-4747-a339-5e2e06ebd085').text('ETA:  0:00:32');"
       ],
       "metadata": {},
       "output_type": "display_data",
       "text": [
        "<IPython.core.display.Javascript at 0x107178290>"
       ]
      },
      {
       "javascript": [
        "$('div#2317c532-be9d-4c10-823d-7864a271d384').text(' 74%');"
       ],
       "metadata": {},
       "output_type": "display_data",
       "text": [
        "<IPython.core.display.Javascript at 0x121b59e90>"
       ]
      },
      {
       "javascript": [
        "\n",
        "        var $myPB = $(\"div#3a3eabc0-2a71-4775-a645-63fa9363ab2a\")\n",
        "        if ($myPB.hasClass('ui-progressbar')) {\n",
        "            $myPB.progressbar('value', 74);\n",
        "        } else {\n",
        "            $myPB.progressbar({value: 0, max: 100});\n",
        "        }\n",
        "        "
       ],
       "metadata": {},
       "output_type": "display_data",
       "text": [
        "<IPython.core.display.Javascript at 0x125e534d0>"
       ]
      },
      {
       "javascript": [
        "$('div#5adef946-bd31-4747-a339-5e2e06ebd085').text('ETA:  0:00:33');"
       ],
       "metadata": {},
       "output_type": "display_data",
       "text": [
        "<IPython.core.display.Javascript at 0x125e53910>"
       ]
      },
      {
       "javascript": [
        "$('div#2317c532-be9d-4c10-823d-7864a271d384').text(' 80%');"
       ],
       "metadata": {},
       "output_type": "display_data",
       "text": [
        "<IPython.core.display.Javascript at 0x125e53ed0>"
       ]
      },
      {
       "javascript": [
        "\n",
        "        var $myPB = $(\"div#3a3eabc0-2a71-4775-a645-63fa9363ab2a\")\n",
        "        if ($myPB.hasClass('ui-progressbar')) {\n",
        "            $myPB.progressbar('value', 80);\n",
        "        } else {\n",
        "            $myPB.progressbar({value: 0, max: 100});\n",
        "        }\n",
        "        "
       ],
       "metadata": {},
       "output_type": "display_data",
       "text": [
        "<IPython.core.display.Javascript at 0x125e53450>"
       ]
      },
      {
       "javascript": [
        "$('div#5adef946-bd31-4747-a339-5e2e06ebd085').text('ETA:  0:00:23');"
       ],
       "metadata": {},
       "output_type": "display_data",
       "text": [
        "<IPython.core.display.Javascript at 0x125e53590>"
       ]
      },
      {
       "javascript": [
        "$('div#2317c532-be9d-4c10-823d-7864a271d384').text(' 83%');"
       ],
       "metadata": {},
       "output_type": "display_data",
       "text": [
        "<IPython.core.display.Javascript at 0x125e53510>"
       ]
      },
      {
       "javascript": [
        "\n",
        "        var $myPB = $(\"div#3a3eabc0-2a71-4775-a645-63fa9363ab2a\")\n",
        "        if ($myPB.hasClass('ui-progressbar')) {\n",
        "            $myPB.progressbar('value', 83);\n",
        "        } else {\n",
        "            $myPB.progressbar({value: 0, max: 100});\n",
        "        }\n",
        "        "
       ],
       "metadata": {},
       "output_type": "display_data",
       "text": [
        "<IPython.core.display.Javascript at 0x125e53dd0>"
       ]
      },
      {
       "javascript": [
        "$('div#5adef946-bd31-4747-a339-5e2e06ebd085').text('ETA:  0:00:19');"
       ],
       "metadata": {},
       "output_type": "display_data",
       "text": [
        "<IPython.core.display.Javascript at 0x125e53c90>"
       ]
      },
      {
       "javascript": [
        "$('div#2317c532-be9d-4c10-823d-7864a271d384').text(' 86%');"
       ],
       "metadata": {},
       "output_type": "display_data",
       "text": [
        "<IPython.core.display.Javascript at 0x125e53b90>"
       ]
      },
      {
       "javascript": [
        "\n",
        "        var $myPB = $(\"div#3a3eabc0-2a71-4775-a645-63fa9363ab2a\")\n",
        "        if ($myPB.hasClass('ui-progressbar')) {\n",
        "            $myPB.progressbar('value', 86);\n",
        "        } else {\n",
        "            $myPB.progressbar({value: 0, max: 100});\n",
        "        }\n",
        "        "
       ],
       "metadata": {},
       "output_type": "display_data",
       "text": [
        "<IPython.core.display.Javascript at 0x125e53310>"
       ]
      },
      {
       "javascript": [
        "$('div#5adef946-bd31-4747-a339-5e2e06ebd085').text('ETA:  0:00:15');"
       ],
       "metadata": {},
       "output_type": "display_data",
       "text": [
        "<IPython.core.display.Javascript at 0x125e53cd0>"
       ]
      },
      {
       "javascript": [
        "$('div#2317c532-be9d-4c10-823d-7864a271d384').text(' 89%');"
       ],
       "metadata": {},
       "output_type": "display_data",
       "text": [
        "<IPython.core.display.Javascript at 0x125e53550>"
       ]
      },
      {
       "javascript": [
        "\n",
        "        var $myPB = $(\"div#3a3eabc0-2a71-4775-a645-63fa9363ab2a\")\n",
        "        if ($myPB.hasClass('ui-progressbar')) {\n",
        "            $myPB.progressbar('value', 89);\n",
        "        } else {\n",
        "            $myPB.progressbar({value: 0, max: 100});\n",
        "        }\n",
        "        "
       ],
       "metadata": {},
       "output_type": "display_data",
       "text": [
        "<IPython.core.display.Javascript at 0x125e53490>"
       ]
      },
      {
       "javascript": [
        "$('div#5adef946-bd31-4747-a339-5e2e06ebd085').text('ETA:  0:00:12');"
       ],
       "metadata": {},
       "output_type": "display_data",
       "text": [
        "<IPython.core.display.Javascript at 0x125e53d10>"
       ]
      },
      {
       "javascript": [
        "$('div#2317c532-be9d-4c10-823d-7864a271d384').text(' 92%');"
       ],
       "metadata": {},
       "output_type": "display_data",
       "text": [
        "<IPython.core.display.Javascript at 0x125e53850>"
       ]
      },
      {
       "javascript": [
        "\n",
        "        var $myPB = $(\"div#3a3eabc0-2a71-4775-a645-63fa9363ab2a\")\n",
        "        if ($myPB.hasClass('ui-progressbar')) {\n",
        "            $myPB.progressbar('value', 92);\n",
        "        } else {\n",
        "            $myPB.progressbar({value: 0, max: 100});\n",
        "        }\n",
        "        "
       ],
       "metadata": {},
       "output_type": "display_data",
       "text": [
        "<IPython.core.display.Javascript at 0x125e53a90>"
       ]
      },
      {
       "javascript": [
        "$('div#5adef946-bd31-4747-a339-5e2e06ebd085').text('ETA:  0:00:08');"
       ],
       "metadata": {},
       "output_type": "display_data",
       "text": [
        "<IPython.core.display.Javascript at 0x107124090>"
       ]
      },
      {
       "javascript": [
        "$('div#2317c532-be9d-4c10-823d-7864a271d384').text(' 92%');"
       ],
       "metadata": {},
       "output_type": "display_data",
       "text": [
        "<IPython.core.display.Javascript at 0x125e53390>"
       ]
      },
      {
       "javascript": [
        "\n",
        "        var $myPB = $(\"div#3a3eabc0-2a71-4775-a645-63fa9363ab2a\")\n",
        "        if ($myPB.hasClass('ui-progressbar')) {\n",
        "            $myPB.progressbar('value', 92);\n",
        "        } else {\n",
        "            $myPB.progressbar({value: 0, max: 100});\n",
        "        }\n",
        "        "
       ],
       "metadata": {},
       "output_type": "display_data",
       "text": [
        "<IPython.core.display.Javascript at 0x107155ad0>"
       ]
      },
      {
       "javascript": [
        "$('div#5adef946-bd31-4747-a339-5e2e06ebd085').text('ETA:  0:00:08');"
       ],
       "metadata": {},
       "output_type": "display_data",
       "text": [
        "<IPython.core.display.Javascript at 0x107155390>"
       ]
      },
      {
       "javascript": [
        "$('div#2317c532-be9d-4c10-823d-7864a271d384').text(' 92%');"
       ],
       "metadata": {},
       "output_type": "display_data",
       "text": [
        "<IPython.core.display.Javascript at 0x107155fd0>"
       ]
      },
      {
       "javascript": [
        "\n",
        "        var $myPB = $(\"div#3a3eabc0-2a71-4775-a645-63fa9363ab2a\")\n",
        "        if ($myPB.hasClass('ui-progressbar')) {\n",
        "            $myPB.progressbar('value', 92);\n",
        "        } else {\n",
        "            $myPB.progressbar({value: 0, max: 100});\n",
        "        }\n",
        "        "
       ],
       "metadata": {},
       "output_type": "display_data",
       "text": [
        "<IPython.core.display.Javascript at 0x107155ed0>"
       ]
      },
      {
       "javascript": [
        "$('div#5adef946-bd31-4747-a339-5e2e06ebd085').text('ETA:  0:00:08');"
       ],
       "metadata": {},
       "output_type": "display_data",
       "text": [
        "<IPython.core.display.Javascript at 0x107155f50>"
       ]
      },
      {
       "javascript": [
        "$('div#2317c532-be9d-4c10-823d-7864a271d384').text(' 95%');"
       ],
       "metadata": {},
       "output_type": "display_data",
       "text": [
        "<IPython.core.display.Javascript at 0x1071552d0>"
       ]
      },
      {
       "javascript": [
        "\n",
        "        var $myPB = $(\"div#3a3eabc0-2a71-4775-a645-63fa9363ab2a\")\n",
        "        if ($myPB.hasClass('ui-progressbar')) {\n",
        "            $myPB.progressbar('value', 95);\n",
        "        } else {\n",
        "            $myPB.progressbar({value: 0, max: 100});\n",
        "        }\n",
        "        "
       ],
       "metadata": {},
       "output_type": "display_data",
       "text": [
        "<IPython.core.display.Javascript at 0x107155290>"
       ]
      },
      {
       "javascript": [
        "$('div#5adef946-bd31-4747-a339-5e2e06ebd085').text('ETA:  0:00:05');"
       ],
       "metadata": {},
       "output_type": "display_data",
       "text": [
        "<IPython.core.display.Javascript at 0x107155e90>"
       ]
      },
      {
       "javascript": [
        "$('div#2317c532-be9d-4c10-823d-7864a271d384').text('100%');"
       ],
       "metadata": {},
       "output_type": "display_data",
       "text": [
        "<IPython.core.display.Javascript at 0x107144bd0>"
       ]
      },
      {
       "javascript": [
        "\n",
        "        var $myPB = $(\"div#3a3eabc0-2a71-4775-a645-63fa9363ab2a\")\n",
        "        if ($myPB.hasClass('ui-progressbar')) {\n",
        "            $myPB.progressbar('value', 100);\n",
        "        } else {\n",
        "            $myPB.progressbar({value: 0, max: 100});\n",
        "        }\n",
        "        "
       ],
       "metadata": {},
       "output_type": "display_data",
       "text": [
        "<IPython.core.display.Javascript at 0x107144790>"
       ]
      },
      {
       "javascript": [
        "$('div#5adef946-bd31-4747-a339-5e2e06ebd085').text('Time: 0:01:44');"
       ],
       "metadata": {},
       "output_type": "display_data",
       "text": [
        "<IPython.core.display.Javascript at 0x107144d10>"
       ]
      },
      {
       "javascript": [
        "var element = document.getElementById('81d759e1-fac6-4801-88a0-33ff36ba9b9a');\n",
        "                    var parent = element.parentNode\n",
        "                    parent.removeChild(element);\n",
        "                    parent.parentElement.remove();"
       ],
       "metadata": {},
       "output_type": "display_data",
       "text": [
        "<IPython.core.display.Javascript at 0x107178390>"
       ]
      },
      {
       "javascript": [
        "this.cleanProgressBar(['81d759e1-fac6-4801-88a0-33ff36ba9b9a', '2317c532-be9d-4c10-823d-7864a271d384', '3a3eabc0-2a71-4775-a645-63fa9363ab2a', '5adef946-bd31-4747-a339-5e2e06ebd085'])"
       ],
       "metadata": {},
       "output_type": "display_data",
       "text": [
        "<IPython.core.display.Javascript at 0x107144e10>"
       ]
      },
      {
       "output_type": "stream",
       "stream": "stdout",
       "text": [
        "-0.6703561833296257\n",
        "-1.20824015691539\n",
        "-5.102282905952398\n"
       ]
      }
     ],
     "prompt_number": 14
    },
    {
     "cell_type": "code",
     "collapsed": false,
     "input": [
      "task = 'what'\n",
      "worst_result = sorted(result[task]['tokens'].items(), key=lambda x: -x[1]['token'])[-1]\n",
      "worst_token_id = worst_result[0]\n",
      "worst_submission = submission['tokens'][worst_result[0]]\n",
      "\n",
      "for response, count in dataset['tokens'][worst_token_id]['responses'].items():\n",
      "    print('Response: {} [{}]'.format(response, count))\n",
      "    edit_scripts = inspire.get_edit_scripts(lexicon[dataset['tokens'][worst_token_id]['speech']][0],\n",
      "                                            lexicon[response][0])\n",
      "\n",
      "    print('Edit scripts: {}'.format(len(edit_scripts)))\n",
      "    for es in edit_scripts[:3]:\n",
      "        inspire.print_edit_script(es)\n",
      "        print('----------------')\n",
      "\n",
      "inspire.pprint(worst_result, width=10)\n",
      "inspire.pprint(worst_submission[task], width=10)\n",
      "inspire.pprint(dataset['tokens'][worst_token_id], width=10)"
     ],
     "language": "python",
     "metadata": {},
     "outputs": [
      {
       "ename": "NameError",
       "evalue": "name 'result' is not defined",
       "output_type": "pyerr",
       "traceback": [
        "\u001b[0;31m---------------------------------------------------------------------------\u001b[0m\n\u001b[0;31mNameError\u001b[0m                                 Traceback (most recent call last)",
        "\u001b[0;32m<ipython-input-1-d1c9d3c68185>\u001b[0m in \u001b[0;36m<module>\u001b[0;34m()\u001b[0m\n\u001b[1;32m      1\u001b[0m \u001b[0mtask\u001b[0m \u001b[0;34m=\u001b[0m \u001b[0;34m'what'\u001b[0m\u001b[0;34m\u001b[0m\u001b[0m\n\u001b[0;32m----> 2\u001b[0;31m \u001b[0mworst_result\u001b[0m \u001b[0;34m=\u001b[0m \u001b[0msorted\u001b[0m\u001b[0;34m(\u001b[0m\u001b[0mresult\u001b[0m\u001b[0;34m[\u001b[0m\u001b[0mtask\u001b[0m\u001b[0;34m]\u001b[0m\u001b[0;34m[\u001b[0m\u001b[0;34m'tokens'\u001b[0m\u001b[0;34m]\u001b[0m\u001b[0;34m.\u001b[0m\u001b[0mitems\u001b[0m\u001b[0;34m(\u001b[0m\u001b[0;34m)\u001b[0m\u001b[0;34m,\u001b[0m \u001b[0mkey\u001b[0m\u001b[0;34m=\u001b[0m\u001b[0;32mlambda\u001b[0m \u001b[0mx\u001b[0m\u001b[0;34m:\u001b[0m \u001b[0;34m-\u001b[0m\u001b[0mx\u001b[0m\u001b[0;34m[\u001b[0m\u001b[0;36m1\u001b[0m\u001b[0;34m]\u001b[0m\u001b[0;34m[\u001b[0m\u001b[0;34m'token'\u001b[0m\u001b[0;34m]\u001b[0m\u001b[0;34m)\u001b[0m\u001b[0;34m[\u001b[0m\u001b[0;34m-\u001b[0m\u001b[0;36m1\u001b[0m\u001b[0;34m]\u001b[0m\u001b[0;34m\u001b[0m\u001b[0m\n\u001b[0m\u001b[1;32m      3\u001b[0m \u001b[0mworst_token_id\u001b[0m \u001b[0;34m=\u001b[0m \u001b[0mworst_result\u001b[0m\u001b[0;34m[\u001b[0m\u001b[0;36m0\u001b[0m\u001b[0;34m]\u001b[0m\u001b[0;34m\u001b[0m\u001b[0m\n\u001b[1;32m      4\u001b[0m \u001b[0mworst_submission\u001b[0m \u001b[0;34m=\u001b[0m \u001b[0msubmission\u001b[0m\u001b[0;34m[\u001b[0m\u001b[0;34m'tokens'\u001b[0m\u001b[0;34m]\u001b[0m\u001b[0;34m[\u001b[0m\u001b[0mworst_result\u001b[0m\u001b[0;34m[\u001b[0m\u001b[0;36m0\u001b[0m\u001b[0;34m]\u001b[0m\u001b[0;34m]\u001b[0m\u001b[0;34m\u001b[0m\u001b[0m\n\u001b[1;32m      5\u001b[0m \u001b[0;34m\u001b[0m\u001b[0m\n",
        "\u001b[0;31mNameError\u001b[0m: name 'result' is not defined"
       ]
      }
     ],
     "prompt_number": 1
    },
    {
     "cell_type": "markdown",
     "metadata": {},
     "source": [
      "## Less naive guess\n",
      "This submission is similar to the one done in the first tutorial.\n",
      "\n",
      "We also predict a constant confusion probability for certain indices of the presented word (before utterance, after utterance, at phoneme positions and between phoneme positions).\n",
      "\n",
      "However in this case the probabilities are not based on intution but rather on **statistics computed from the development set**."
     ]
    },
    {
     "cell_type": "code",
     "collapsed": false,
     "input": [
      "# Four elements: before, after, phonemes, gaps\n",
      "confusion_counts = np.zeros(4)\n",
      "confusion_totals = np.zeros(4)\n",
      "\n",
      "phoneme_confusion_counts = defaultdict(lambda: defaultdict(lambda: 0.))\n",
      "phoneme_confusion_totals = defaultdict(lambda: 0.)\n",
      "\n",
      "pronunciation_confusion_counts = 0.\n",
      "pronunciation_confusion_totals = 0.\n",
      "\n",
      "for token_id, token  in dataset['tokens'].items():\n",
      "    if 'responses' not in token:\n",
      "        continue\n",
      "            \n",
      "    word = token['speech']\n",
      "    \n",
      "    # Lexicon may contain multiple pronunciations\n",
      "    pronunciations = lexicon[word]\n",
      "    \n",
      "    # Here we arbitrarily select the first one\n",
      "    pronunciation = pronunciations[0]\n",
      "    \n",
      "    # Get a list of phonemes from the space separated pronunciation of the lexicon\n",
      "    phonemes = pronunciation\n",
      "    \n",
      "    # Possible indices of confusions\n",
      "    # are the number of phonemes plus\n",
      "    # the number of positions around phonemes\n",
      "    index_count = len(phonemes)*2 + 1\n",
      "        \n",
      "    for response, count in token['responses'].items():\n",
      "        response_pronunciation = lexicon[response][0]\n",
      "\n",
      "        edit_scripts = inspire.get_edit_scripts(pronunciation, response_pronunciation,\n",
      "                                                edit_costs=(setting['insert_cost'],\n",
      "                                                            setting['replace_cost'],\n",
      "                                                            setting['delete_cost']))\n",
      "        edit_script = random.choice(edit_scripts)\n",
      "                \n",
      "        for op in edit_script:\n",
      "            mismatch = int(op['from_symbol'] != op['to_symbol'])\n",
      "            if op['index'] == 0:\n",
      "                confusion_counts[0] += count * mismatch\n",
      "                confusion_totals[0] += count\n",
      "\n",
      "            elif op['index'] == index_count-1:\n",
      "                confusion_counts[1] += count * mismatch\n",
      "                confusion_totals[1] += count\n",
      "\n",
      "            elif op['index'] % 2 == 1:\n",
      "                confusion_counts[2] += count * mismatch\n",
      "                confusion_totals[2] += count\n",
      "\n",
      "            elif op['index'] % 2 == 0:\n",
      "                confusion_counts[3] += count * mismatch\n",
      "                confusion_totals[3] += count\n",
      "\n",
      "            phoneme_confusion_counts[op['from_symbol']][op['to_symbol']] += count\n",
      "            phoneme_confusion_totals[op['from_symbol']] += count\n",
      "    \n",
      "        if ' '.join(pronunciation) == ' '.join(response_pronunciation):\n",
      "            pronunciation_confusion_counts += count\n",
      "        \n",
      "        pronunciation_confusion_totals += count"
     ],
     "language": "python",
     "metadata": {},
     "outputs": [],
     "prompt_number": 34
    },
    {
     "cell_type": "code",
     "collapsed": false,
     "input": [
      "inspire.pprint({k: len(v) for k, v in phoneme_confusion_counts.items()})"
     ],
     "language": "python",
     "metadata": {},
     "outputs": [
      {
       "output_type": "stream",
       "stream": "stdout",
       "text": [
        "{u'': 230,\n",
        " u'a': 38,\n",
        " u'a\u026a': 2,\n",
        " u'a\u028a': 0,\n",
        " u'b': 30,\n",
        " u'd': 31,\n",
        " u'e': 30,\n",
        " u'f': 20,\n",
        " u'i': 26,\n",
        " u'j': 28,\n",
        " u'k': 34,\n",
        " u'l': 35,\n",
        " u'm': 38,\n",
        " u'n': 37,\n",
        " u'o': 28,\n",
        " u'p': 27,\n",
        " u'p\u02d0': 0,\n",
        " u'r': 22,\n",
        " u's': 29,\n",
        " u't': 32,\n",
        " u't\u0283': 3,\n",
        " u'u': 22,\n",
        " u'w': 18,\n",
        " u'x': 17,\n",
        " u'\u00f0': 29,\n",
        " u'\u014b': 5,\n",
        " u'\u0254': 28,\n",
        " u'\u025b': 29,\n",
        " u'\u0261': 14,\n",
        " u'\u0263': 18,\n",
        " u'\u0272': 13,\n",
        " u'\u027e': 41,\n",
        " u'\u028e': 14,\n",
        " u'\u029d': 0,\n",
        " u'\u02c8a': 31,\n",
        " u'\u02c8a\u026a': 5,\n",
        " u'\u02c8a\u028a': 1,\n",
        " u'\u02c8e': 24,\n",
        " u'\u02c8e\u026a': 8,\n",
        " u'\u02c8i': 29,\n",
        " u'\u02c8o': 20,\n",
        " u'\u02c8o\u026a': 0,\n",
        " u'\u02c8u': 14,\n",
        " u'\u02c8\u0254': 25,\n",
        " u'\u02c8\u025b': 27,\n",
        " u'\u02cca': 0,\n",
        " u'\u02cce': 12,\n",
        " u'\u02cci': 9,\n",
        " u'\u02cco': 2,\n",
        " u'\u02ccu': 0,\n",
        " u'\u02cc\u0254': 0,\n",
        " u'\u02cc\u025b': 4,\n",
        " u'\u03b2': 34,\n",
        " u'\u03b8': 19}\n"
       ]
      }
     ],
     "prompt_number": 53
    },
    {
     "cell_type": "markdown",
     "metadata": {},
     "source": [
      "And now that we have collected statistics on the development set we can create the submission."
     ]
    },
    {
     "cell_type": "code",
     "collapsed": false,
     "input": [
      "submission = inspire.Submission(email='dummy@email.com',\n",
      "                                description='''Statistical Submission:\n",
      "where task: Constant probabilities per position type: before utterance, after utterance, phoneme indices, between phoneme indices.\n",
      "what task: Constant probabilities per source phoneme and target phoneme.\n",
      "full task: Constant porbabilities.''',\n",
      "                                evaluation_setting=setting)\n",
      "\n",
      "# Iterate over all the stimuli in our dataset\n",
      "for token_id, token  in dataset['tokens'].items():\n",
      "    word = token['speech']\n",
      "    \n",
      "    # Lexicon may contain multiple pronunciations\n",
      "    pronunciations = lexicon[word]\n",
      "    \n",
      "    # Here we arbitrarily select the first one\n",
      "    pronunciation = pronunciations[0]\n",
      "    \n",
      "    # Get a list of phonemes from the space separated pronunciation of the lexicon\n",
      "    phonemes = pronunciation\n",
      "    \n",
      "    # Possible indices of confusions\n",
      "    # are the number of phonemes plus\n",
      "    # the number of positions around phonemes\n",
      "    index_count = len(phonemes)*2 + 1\n",
      "            \n",
      "    # Perform the predictions based on the actual response counts\n",
      "    ## Where task\n",
      "    confusion_probabilities = np.zeros(index_count)\n",
      "    \n",
      "    confusion_probabilities[0] = confusion_counts[0] / confusion_totals[0]\n",
      "    confusion_probabilities[-1] = confusion_counts[1] / confusion_totals[1]\n",
      "    confusion_probabilities[1::2] = confusion_counts[2] / confusion_totals[2]\n",
      "    confusion_probabilities[2:-2:2] = confusion_counts[3] / confusion_totals[3]\n",
      "    \n",
      "    submission.where_task(token_id, \n",
      "                          confusion_probabilities)\n",
      "        \n",
      "    ## What task\n",
      "    for index in range(index_count):\n",
      "        # Indices that appeared in the edit script\n",
      "        source_phonemes = ''\n",
      "        if index % 2 == 1:\n",
      "            source_phonemes = pronunciation[index/2]\n",
      "        \n",
      "        for target_phonemes, counts in phoneme_confusion_counts[source_phonemes].items():\n",
      "            submission.what_task(token_id, \n",
      "                                 index, \n",
      "                                 target_phonemes, \n",
      "                                 counts/phoneme_confusion_totals[source_phonemes], \n",
      "                                 warn=False)\n",
      "\n",
      "    ## Full task\n",
      "    submission.full_task(token_id, \n",
      "                         ' '.join(pronunciation), \n",
      "                         pronunciation_confusion_counts/pronunciation_confusion_totals, \n",
      "                         warn=False)"
     ],
     "language": "python",
     "metadata": {},
     "outputs": []
    },
    {
     "cell_type": "code",
     "collapsed": false,
     "input": [
      "submission.save('submission_statistical.json')"
     ],
     "language": "python",
     "metadata": {},
     "outputs": [],
     "prompt_number": 51
    },
    {
     "cell_type": "code",
     "collapsed": false,
     "input": [],
     "language": "python",
     "metadata": {},
     "outputs": []
    }
   ],
   "metadata": {}
  }
 ]
}