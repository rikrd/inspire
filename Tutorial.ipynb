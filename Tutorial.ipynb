{
 "metadata": {
  "name": "",
  "signature": "sha256:f93c8d0ebb597e466c7a2a374d0fbf2636628f397ec71f06f237c279e58f218e"
 },
 "nbformat": 3,
 "nbformat_minor": 0,
 "worksheets": [
  {
   "cells": [
    {
     "cell_type": "markdown",
     "metadata": {},
     "source": [
      "# Getting started\n",
      "## Installing the necessary module\n",
      "\n",
      "You must first install the `inspire` Python module.\n",
      "\n",
      "This can be done using `pip` by running the following command in your terminal:\n",
      "```\n",
      "pip install inspire\n",
      "```\n",
      "\n",
      "You may also run the following command to upgrade to the latest version:\n",
      "```\n",
      "pip install --upgrade inspire\n",
      "```\n",
      "\n",
      "After installing or upgrading the `inspire` module one must **restart the IPython Notebook**.\n",
      "\n",
      "## Importing the necessary modules\n",
      "To start with we will import the modules we are going to use throughout this tutorial."
     ]
    },
    {
     "cell_type": "code",
     "collapsed": false,
     "input": [
      "import numpy as np\n",
      "import inspire"
     ],
     "language": "python",
     "metadata": {},
     "outputs": [],
     "prompt_number": 65
    },
    {
     "cell_type": "markdown",
     "metadata": {},
     "source": [
      "## The setting\n",
      "An evaluation setting is composed of a dataset, a lexicon and several evaluation parameters. A submission will always be tied to a given evaluation setting.  Therefore our first job is to get an evaluation setting to work on.\n",
      "\n",
      "By not passing any parameters we will be getting the default one.  Currently the default setting is a dataset of words in Spanish and a large vocabulary lexicon in IPA encoding."
     ]
    },
    {
     "cell_type": "code",
     "collapsed": false,
     "input": [
      "setting = inspire.get_evaluation_setting()"
     ],
     "language": "python",
     "metadata": {},
     "outputs": [],
     "prompt_number": 87
    },
    {
     "cell_type": "markdown",
     "metadata": {},
     "source": [
      "## The dataset\n",
      "Next we download the dataset, load it, and have a quick peek at what is in it."
     ]
    },
    {
     "cell_type": "code",
     "collapsed": false,
     "input": [
      "dataset_filename = setting.download_dataset()\n",
      "dataset = inspire.load_dataset(dataset_filename)\n",
      "\n",
      "print('There are {} tokens in dataset'.format(len(dataset['tokens'])))"
     ],
     "language": "python",
     "metadata": {},
     "outputs": []
    },
    {
     "cell_type": "markdown",
     "metadata": {},
     "source": [
      "We may now print a token of the dataset:"
     ]
    },
    {
     "cell_type": "code",
     "collapsed": false,
     "input": [
      "inspire.pprint(dataset['tokens']['35541'])"
     ],
     "language": "python",
     "metadata": {},
     "outputs": [
      {
       "output_type": "stream",
       "stream": "stdout",
       "text": [
        "{u'noise_onset': 532600,\n",
        " u'noise_transcription': u'BAB4.txt',\n",
        " u'noise_type': u'bab4',\n",
        " u'noise_wav': u'BAB4.wav',\n",
        " u'signal_wav': u'T_35541.wav',\n",
        " u'snr': -2.039,\n",
        " u'speaker': u's1',\n",
        " u'speech': u'pequen\u0303os'}\n"
       ]
      }
     ],
     "prompt_number": 72
    },
    {
     "cell_type": "markdown",
     "metadata": {},
     "source": [
      "Our data is a class deriving from a Python dictionary containing an entry named `tokens` with a mapping from a stimulus ID to a stimulus (also named token) presented to a set of listeners.\n",
      "The stimulus itself is represented as a dictionary, with entries for several properties of the stimulus presented: \n",
      "\n",
      "* **type of noise** `noise_type`\n",
      "* **speaker ID** `speaker`\n",
      "* **signal-to-noise ratio** `snr`\n",
      "\n",
      "The filenames of the audios:\n",
      "\n",
      "* **signal wave file** `signal_wav`\n",
      "* **noise wave file** `noise_wav`\n",
      "\n",
      "And the underlying word that was presented as well as those that were reported by the listeners:\n",
      "\n",
      "* **presented word** `speech`\n",
      "\n",
      "Additionally there are 10% of the tokens in the dataset that are considered tokens belonging to the development set and for which the responses given by listeners are provided.  These may be used for training purposes."
     ]
    },
    {
     "cell_type": "code",
     "collapsed": false,
     "input": [
      "inspire.pprint(dataset['tokens']['36504'])"
     ],
     "language": "python",
     "metadata": {},
     "outputs": [
      {
       "output_type": "stream",
       "stream": "stdout",
       "text": [
        "{u'noise_onset': 790069,\n",
        " u'noise_transcription': u'BAB8.txt',\n",
        " u'noise_type': u'bab8',\n",
        " u'noise_wav': u'BAB8.wav',\n",
        " u'responses': {u'manda': 2,\n",
        "                u'mandas': 2,\n",
        "                u'mando': 1,\n",
        "                u'mandos': 1,\n",
        "                u'mangos': 1,\n",
        "                u'mano': 1,\n",
        "                u'manos': 6,\n",
        "                u'mantas': 1},\n",
        " u'signal_wav': u'T_36504.wav',\n",
        " u'snr': 0.4,\n",
        " u'speaker': u's1',\n",
        " u'speech': u'mandan'}\n"
       ]
      }
     ],
     "prompt_number": 73
    },
    {
     "cell_type": "markdown",
     "metadata": {},
     "source": [
      "## The lexicon\n",
      "Since all the tasks are based on the pronunciations of the words, our next step is to load a lexicon.\n",
      "The lexicon is not in JSON format, it is in a format that HTK understands, therefore parsing it takes a bit more work. Luckily for you we have a written a function to do just that:\n",
      "\n",
      "We will first download the lexicon, load it, and have a quick peek at what is in it."
     ]
    },
    {
     "cell_type": "code",
     "collapsed": false,
     "input": [
      "lexicon_filename = setting.download_lexicon()\n",
      "lexicon = inspire.load_lexicon(lexicon_filename)\n",
      "\n",
      "print('There are {} words in the lexicon'.format(len(lexicon)))"
     ],
     "language": "python",
     "metadata": {},
     "outputs": [
      {
       "output_type": "stream",
       "stream": "stdout",
       "text": [
        "There are 738967 words in the lexicon\n"
       ]
      }
     ],
     "prompt_number": 74
    },
    {
     "cell_type": "markdown",
     "metadata": {},
     "source": [
      "The lexicon is a subclass of a Python dictionary mapping from a word to a set of pronunciations.  The pronunciations are lists of strings where each string represents a phoneme.\n",
      "\n",
      "To use the lexicon we simply query it as we would do with any other Python dictionary.  Note that the case of the words is ignored when querying the lexicon:"
     ]
    },
    {
     "cell_type": "code",
     "collapsed": false,
     "input": [
      "inspire.pprint('Is \"ayuda\" in the lexicon? {}'.format('ayuda' in lexicon))\n",
      "inspire.pprint(lexicon['ayuda'])"
     ],
     "language": "python",
     "metadata": {},
     "outputs": [
      {
       "output_type": "stream",
       "stream": "stdout",
       "text": [
        "'Is \"ayuda\" in the lexicon? True'\n",
        "[[u'a', u'j', u'j', u'\u02c8u', u'\u00f0', u'a']]\n"
       ]
      }
     ],
     "prompt_number": 75
    },
    {
     "cell_type": "markdown",
     "metadata": {},
     "source": [
      "## The submission\n",
      "To make submissions to the INSPIRE Challenge you must have an account on the INSPIRE Challenge: [Click here to register](http://143.167.9.43:5000/register)\n",
      "\n",
      "Note don't use a secure password, since in order to simplify the tasks it may be sent as plain text to the server.\n",
      "The email and password will be used in the following steps to create and submit our predictions.\n",
      "\n",
      "### Preparation of the submission\n",
      "A submission consists of a dictionary data structure containing metadata (information of the participant, the challenge edition and contact details) and the predictions for the stimuli.  The predictions are stored in a data structure similar to that of the dataset (a list of dictionaries, one per stimulus).  Each stimulus dictionary must contain the `token_id` and then a list of task predictions `task_prediction` each task prediction is a dictionary containing a `task` property indicating what task it is solving and the `prediction` which is dictionary whose form depends on the task.\n",
      "\n",
      "In order to avoid errors when creating the participation data structure, we have built a Python class that eases the job."
     ]
    },
    {
     "cell_type": "code",
     "collapsed": false,
     "input": [
      "submission = inspire.Submission(email='dummy@email.com',\n",
      "                                description='''Random Guess:\n",
      "where task: For the phoneme positions we predict a 50% chance of observing a confusion. We predict a 1% chance of confusion at the inter-phoneme positions and a 30% chance of confusion at the positions before and after the utterance.\n",
      "what task: We only provide predictions for the phoneme positions, we do not provide predictions for inter-phoneme positions. We predict a 50% chance of not observing a confusion (the presented phoneme will remain) and a 5% of deleting the phoneme.\n",
      "full task: We predict a 10% chance of not observing a confusion (the ellicited pronunciation being reported).\n",
      "                                ''',\n",
      "                                evaluation_setting=setting)"
     ],
     "language": "python",
     "metadata": {},
     "outputs": [],
     "prompt_number": 76
    },
    {
     "cell_type": "markdown",
     "metadata": {},
     "source": [
      "### Adding the predictions of the tasks\n",
      "We iterate over the dataset and for each presented word we query it's pronunciations, and arbitrarily select one.\n",
      "We will then produce the predictions for each of the tasks.  In this simple baseline random guessing scenario we will follow the same predcition strategy independently of the token:\n",
      "\n",
      "* **where task** For the phoneme positions we predict a 50% chance of observing a confusion. We predict a 1% chance of confusion at the inter-phoneme positions and a 30% chance of confusion at the positions before and after the utterance.\n",
      "* **what task** We only provide predictions for the phoneme positions, we do not provide predictions for inter-phoneme positions. We predict a 50% chance of not observing a confusion (the presented phoneme will remain) and a 5% of deleting the phoneme.\n",
      "* **full task** We predict a 10% chance of not observing a confusion (the ellicited pronunciation being reported)."
     ]
    },
    {
     "cell_type": "code",
     "collapsed": false,
     "input": [
      "# Iterate over all the stimuli in our dataset\n",
      "for token_id, token  in dataset['tokens'].items():\n",
      "    word = token['speech']\n",
      "    \n",
      "    # Lexicon may contain multiple pronunciations\n",
      "    pronunciations = lexicon[word.upper()]\n",
      "    \n",
      "    # Here we arbitrarily select the first one\n",
      "    pronunciation = pronunciations[0]\n",
      "    \n",
      "    # Get a list of phonemes from the space separated pronunciation of the lexicon\n",
      "    phonemes = pronunciation\n",
      "    \n",
      "    # Possible indices of confusions\n",
      "    # are the number of phonemes plus\n",
      "    # the number of positions around phonemes\n",
      "    index_count = len(phonemes)*2 + 1\n",
      "    \n",
      "    confusion_probabilities = np.zeros(index_count)\n",
      "\n",
      "    # Our random guess for the Where task assumes:\n",
      "    #  - a 30% chance of finding a confusion at all phoneme positions (substitutions or removals)\n",
      "    confusion_probabilities[1::2] = 0.3\n",
      "    \n",
      "    #  - a 1% chance of finding an insertion between all phoneme positions (insertions)\n",
      "    confusion_probabilities[2:-2:2] = 0.01\n",
      "    \n",
      "    #  - a 50% chance of finding insertions of phonemes at beginning and end of words (insertions)\n",
      "    confusion_probabilities[0] = 0.5\n",
      "    confusion_probabilities[-1] = 0.5\n",
      "            \n",
      "    submission.where_task(token_id, confusion_probabilities)\n",
      "    \n",
      "    # Our random guess for the What task assumes:\n",
      "    # Phonemes are represented as strings\n",
      "    # Sequence of phonemes are space joined strings\n",
      "    # A removal is represented as an empty string\n",
      "    for phoneme_index, phoneme in enumerate(phonemes):\n",
      "        index = phoneme_index * 2 + 1\n",
      "        \n",
      "        #  - a 50% chance of not changing the phoneme\n",
      "        submission.what_task(token_id, index, phoneme, 0.5)\n",
      "\n",
      "        #  - a 5% chance of phoneme removal\n",
      "        submission.what_task(token_id, index, '', 0.05)\n",
      "        \n",
      "    # Our random guess for the Full task assumes:\n",
      "    #  - a 10% chance of reporting the pronunciation of the presented utterance\n",
      "    submission.full_task(token_id, ' '.join(pronunciation), 0.1)"
     ],
     "language": "python",
     "metadata": {},
     "outputs": [],
     "prompt_number": 77
    },
    {
     "cell_type": "markdown",
     "metadata": {},
     "source": [
      "Once the submission has been created we can print the predictions of a given token.\n",
      "This is also useful to understand the JSON format of a submission."
     ]
    },
    {
     "cell_type": "code",
     "collapsed": false,
     "input": [
      "inspire.pprint(submission['tokens']['35541'])"
     ],
     "language": "python",
     "metadata": {},
     "outputs": [
      {
       "output_type": "stream",
       "stream": "stdout",
       "text": [
        "{u'full': {u'p e k \u02c8e \u0272 o s': 0.1},\n",
        " u'what': {'1': {'': 0.05, u'p': 0.5},\n",
        "           '11': {'': 0.05, u'o': 0.5},\n",
        "           '13': {'': 0.05, u's': 0.5},\n",
        "           '3': {'': 0.05, u'e': 0.5},\n",
        "           '5': {'': 0.05, u'k': 0.5},\n",
        "           '7': {'': 0.05, u'\u02c8e': 0.5},\n",
        "           '9': {'': 0.05, u'\u0272': 0.5}},\n",
        " u'where': [0.5,\n",
        "            0.29999999999999999,\n",
        "            0.01,\n",
        "            0.29999999999999999,\n",
        "            0.01,\n",
        "            0.29999999999999999,\n",
        "            0.01,\n",
        "            0.29999999999999999,\n",
        "            0.01,\n",
        "            0.29999999999999999,\n",
        "            0.01,\n",
        "            0.29999999999999999,\n",
        "            0.01,\n",
        "            0.29999999999999999,\n",
        "            0.5]}\n"
       ]
      }
     ],
     "prompt_number": 78
    },
    {
     "cell_type": "markdown",
     "metadata": {},
     "source": [
      "We can also save the submission as a JSON file."
     ]
    },
    {
     "cell_type": "code",
     "collapsed": false,
     "input": [
      "submission.save('submission_random_guess.json')"
     ],
     "language": "python",
     "metadata": {},
     "outputs": [],
     "prompt_number": 79
    },
    {
     "cell_type": "markdown",
     "metadata": {},
     "source": [
      "### Evaluating before submitting\n",
      "\n",
      "Sometimes we might not want to submit, and simply evaluate a submission.  In that case we may call `evaluate()`.\n",
      "\n",
      "The evaluation is only performed on the development subset to allow a fast evaluation."
     ]
    },
    {
     "cell_type": "code",
     "collapsed": false,
     "input": [
      "job = submission.evaluate(password='dummypassword')"
     ],
     "language": "python",
     "metadata": {},
     "outputs": [],
     "prompt_number": 80
    },
    {
     "cell_type": "markdown",
     "metadata": {},
     "source": [
      "The `job` that we obtain is an object that allows us to check if the result is available using `job.ready()`, wait for it to finish using `job.wait()` and obtain the result using `job.result()`.\n",
      "\n",
      "**Note: ** Calling `job.wait()` will block until the result is ready or the job has failed."
     ]
    },
    {
     "cell_type": "code",
     "collapsed": false,
     "input": [
      "print('Is the job ready? {}'.format(job.ready()))"
     ],
     "language": "python",
     "metadata": {},
     "outputs": [
      {
       "output_type": "stream",
       "stream": "stdout",
       "text": [
        "Is the job ready? True\n"
       ]
      }
     ],
     "prompt_number": 83
    },
    {
     "cell_type": "code",
     "collapsed": false,
     "input": [
      "job.wait()\n",
      "result = job.result()\n",
      "\n",
      "inspire.pprint(result['where']['token_averaged'])\n",
      "inspire.pprint(result['what']['token_averaged'])\n",
      "inspire.pprint(result['full']['token_averaged'])"
     ],
     "language": "python",
     "metadata": {},
     "outputs": [
      {
       "javascript": [
        "//b7ac5c3d-d90e-4771-ac34-ad33d2cb010c\n",
        "$(\"head\").append(\"<style> td.pb_widget {     width: auto; } td.pb_widget_fill {     width: 100%; } table.pb {     font-family: monospace;     border: 0;     margin: 0; } table.pb tr { border: 0; } table.pb td {     white-space: nowrap;     border: 0; } div.pb {     border: 1px solid #ddd;     border-radius: 3px; } div.pb_bar {     height: 1.5em; } </style>\")"
       ],
       "metadata": {},
       "output_type": "display_data",
       "text": [
        "<IPython.core.display.Javascript at 0x13f1668d0>"
       ]
      },
      {
       "javascript": [
        "\n",
        "                  // b7ac5c3d-d90e-4771-ac34-ad33d2cb010c -- used to remove this code blob in the end\n",
        "                  IPython.OutputArea.prototype.cleanProgressBar = function(uuids) {\n",
        "                      // filter by uuid-strings \n",
        "                      var myfilter = function(output) { \n",
        "                          var nuids = uuids.length;\n",
        "                          for (var i=0; i<nuids; i++) {\n",
        "                              if (output.hasOwnProperty('html')) {\n",
        "                                  if (output.html.indexOf(uuids[i]) != -1) {\n",
        "                                      return false;\n",
        "                                  }\n",
        "                              }\n",
        "                              if (output.hasOwnProperty('javascript')) {\n",
        "                                  if (output.javascript.indexOf(uuids[i]) != -1) {\n",
        "                                      return false;\n",
        "                                  }\n",
        "                              }\n",
        "                          }\n",
        "                          // keep all others\n",
        "                          return true;\n",
        "                      };\n",
        "\n",
        "                      // Filter the ouputs\n",
        "                      this.outputs = this.outputs.filter(myfilter);\n",
        "                };\n",
        "                "
       ],
       "metadata": {},
       "output_type": "display_data",
       "text": [
        "<IPython.core.display.Javascript at 0x128c9e690>"
       ]
      },
      {
       "html": [
        "<div class=\"pb\" id=\"b7ac5c3d-d90e-4771-ac34-ad33d2cb010c\"><table class=\"pb ui-widget\"><tr>\n",
        "<td class=\"pb_widget\">Processing: </td>\n",
        "<td class=\"pb_widget\"><div id=\"ef1fdcaa-73f5-4f5a-9177-e2fbe1298ce4\">  0%</div></td>\n",
        "<td class=\"pb_widget\"> </td>\n",
        "<td class=\"pb_widget_fill\">\n",
        "        <div class=\"pb_bar\" id=\"371cdc9e-dc69-4310-8671-337b62a9f560\"></div>\n",
        "        <script type=\"text/javascript\">\n",
        "            $(\"div#371cdc9e-dc69-4310-8671-337b62a9f560\").progressbar({value: 0, max: 100});\n",
        "        </script>\n",
        "        </td>\n",
        "<td class=\"pb_widget\"> </td>\n",
        "<td class=\"pb_widget\"><div id=\"05325f8d-a62a-43e9-a9f5-071ae6582729\">ETA:  --:--:--</div></td>\n",
        "</tr></table><div>"
       ],
       "metadata": {},
       "output_type": "display_data",
       "text": [
        "<IPython.core.display.HTML at 0x1268015d0>"
       ]
      },
      {
       "javascript": [
        "$('div#ef1fdcaa-73f5-4f5a-9177-e2fbe1298ce4').text('100%');"
       ],
       "metadata": {},
       "output_type": "display_data",
       "text": [
        "<IPython.core.display.Javascript at 0x13f166bd0>"
       ]
      },
      {
       "javascript": [
        "\n",
        "        var $myPB = $(\"div#371cdc9e-dc69-4310-8671-337b62a9f560\")\n",
        "        if ($myPB.hasClass('ui-progressbar')) {\n",
        "            $myPB.progressbar('value', 100);\n",
        "        } else {\n",
        "            $myPB.progressbar({value: 0, max: 100});\n",
        "        }\n",
        "        "
       ],
       "metadata": {},
       "output_type": "display_data",
       "text": [
        "<IPython.core.display.Javascript at 0x13f1663d0>"
       ]
      },
      {
       "javascript": [
        "$('div#05325f8d-a62a-43e9-a9f5-071ae6582729').text('Time: 0:00:00');"
       ],
       "metadata": {},
       "output_type": "display_data",
       "text": [
        "<IPython.core.display.Javascript at 0x13f166b90>"
       ]
      },
      {
       "javascript": [
        "var element = document.getElementById('b7ac5c3d-d90e-4771-ac34-ad33d2cb010c');\n",
        "                    var parent = element.parentNode\n",
        "                    parent.removeChild(element);\n",
        "                    parent.parentElement.remove();"
       ],
       "metadata": {},
       "output_type": "display_data",
       "text": [
        "<IPython.core.display.Javascript at 0x110bc5c10>"
       ]
      },
      {
       "javascript": [
        "this.cleanProgressBar(['b7ac5c3d-d90e-4771-ac34-ad33d2cb010c', 'ef1fdcaa-73f5-4f5a-9177-e2fbe1298ce4', '371cdc9e-dc69-4310-8671-337b62a9f560', '05325f8d-a62a-43e9-a9f5-071ae6582729'])"
       ],
       "metadata": {},
       "output_type": "display_data",
       "text": [
        "<IPython.core.display.Javascript at 0x13f166650>"
       ]
      },
      {
       "output_type": "stream",
       "stream": "stdout",
       "text": [
        "-4.453665718335362\n",
        "-22.203200175657404\n",
        "-51.612674061875076\n"
       ]
      }
     ],
     "prompt_number": 84
    },
    {
     "cell_type": "markdown",
     "metadata": {},
     "source": [
      "### Sending in the submission\n",
      "\n",
      "The final step is to send the submission. This will save a copy of the submission in the server and return the evaluation results.\n",
      "\n",
      "The submission **may take some time**, especially if the submission covers all tasks and all tokens.\n",
      "\n",
      "To submit we simply call the submit function of the submission object that we have created.\n",
      "The email that we have used when creating the submission class is the one that will be used to login to the server.\n",
      "We must also supply the password that we used when we registered to the INSPIRE Challenge website."
     ]
    },
    {
     "cell_type": "code",
     "collapsed": false,
     "input": [
      "job = submission.submit(password='dummypassword')"
     ],
     "language": "python",
     "metadata": {},
     "outputs": [],
     "prompt_number": 85
    },
    {
     "cell_type": "code",
     "collapsed": false,
     "input": [
      "job.wait()\n",
      "result = job.result()\n",
      "\n",
      "inspire.pprint(result['where']['token_averaged'])\n",
      "inspire.pprint(result['what']['token_averaged'])\n",
      "inspire.pprint(result['full']['token_averaged'])"
     ],
     "language": "python",
     "metadata": {},
     "outputs": [
      {
       "javascript": [
        "//dbf94ff5-7380-41ad-89f9-5af3b51b1e36\n",
        "$(\"head\").append(\"<style> td.pb_widget {     width: auto; } td.pb_widget_fill {     width: 100%; } table.pb {     font-family: monospace;     border: 0;     margin: 0; } table.pb tr { border: 0; } table.pb td {     white-space: nowrap;     border: 0; } div.pb {     border: 1px solid #ddd;     border-radius: 3px; } div.pb_bar {     height: 1.5em; } </style>\")"
       ],
       "metadata": {},
       "output_type": "display_data",
       "text": [
        "<IPython.core.display.Javascript at 0x13f166650>"
       ]
      },
      {
       "javascript": [
        "\n",
        "                  // dbf94ff5-7380-41ad-89f9-5af3b51b1e36 -- used to remove this code blob in the end\n",
        "                  IPython.OutputArea.prototype.cleanProgressBar = function(uuids) {\n",
        "                      // filter by uuid-strings \n",
        "                      var myfilter = function(output) { \n",
        "                          var nuids = uuids.length;\n",
        "                          for (var i=0; i<nuids; i++) {\n",
        "                              if (output.hasOwnProperty('html')) {\n",
        "                                  if (output.html.indexOf(uuids[i]) != -1) {\n",
        "                                      return false;\n",
        "                                  }\n",
        "                              }\n",
        "                              if (output.hasOwnProperty('javascript')) {\n",
        "                                  if (output.javascript.indexOf(uuids[i]) != -1) {\n",
        "                                      return false;\n",
        "                                  }\n",
        "                              }\n",
        "                          }\n",
        "                          // keep all others\n",
        "                          return true;\n",
        "                      };\n",
        "\n",
        "                      // Filter the ouputs\n",
        "                      this.outputs = this.outputs.filter(myfilter);\n",
        "                };\n",
        "                "
       ],
       "metadata": {},
       "output_type": "display_data",
       "text": [
        "<IPython.core.display.Javascript at 0x1298cf050>"
       ]
      },
      {
       "html": [
        "<div class=\"pb\" id=\"dbf94ff5-7380-41ad-89f9-5af3b51b1e36\"><table class=\"pb ui-widget\"><tr>\n",
        "<td class=\"pb_widget\">Processing: </td>\n",
        "<td class=\"pb_widget\"><div id=\"3d47f160-b3ac-4fcb-b481-2ef681798b19\">  0%</div></td>\n",
        "<td class=\"pb_widget\"> </td>\n",
        "<td class=\"pb_widget_fill\">\n",
        "        <div class=\"pb_bar\" id=\"83664a52-3ef9-422d-aeb6-e0423189cb9e\"></div>\n",
        "        <script type=\"text/javascript\">\n",
        "            $(\"div#83664a52-3ef9-422d-aeb6-e0423189cb9e\").progressbar({value: 0, max: 100});\n",
        "        </script>\n",
        "        </td>\n",
        "<td class=\"pb_widget\"> </td>\n",
        "<td class=\"pb_widget\"><div id=\"5c8e81be-45ea-41c7-8eda-1db0dadcf857\">ETA:  --:--:--</div></td>\n",
        "</tr></table><div>"
       ],
       "metadata": {},
       "output_type": "display_data",
       "text": [
        "<IPython.core.display.HTML at 0x128c9e690>"
       ]
      },
      {
       "javascript": [
        "$('div#3d47f160-b3ac-4fcb-b481-2ef681798b19').text('  1%');"
       ],
       "metadata": {},
       "output_type": "display_data",
       "text": [
        "<IPython.core.display.Javascript at 0x13f166990>"
       ]
      },
      {
       "javascript": [
        "\n",
        "        var $myPB = $(\"div#83664a52-3ef9-422d-aeb6-e0423189cb9e\")\n",
        "        if ($myPB.hasClass('ui-progressbar')) {\n",
        "            $myPB.progressbar('value', 1);\n",
        "        } else {\n",
        "            $myPB.progressbar({value: 0, max: 100});\n",
        "        }\n",
        "        "
       ],
       "metadata": {},
       "output_type": "display_data",
       "text": [
        "<IPython.core.display.Javascript at 0x13f166190>"
       ]
      },
      {
       "javascript": [
        "$('div#5c8e81be-45ea-41c7-8eda-1db0dadcf857').text('ETA:  0:01:03');"
       ],
       "metadata": {},
       "output_type": "display_data",
       "text": [
        "<IPython.core.display.Javascript at 0x13f166410>"
       ]
      },
      {
       "javascript": [
        "$('div#3d47f160-b3ac-4fcb-b481-2ef681798b19').text('  2%');"
       ],
       "metadata": {},
       "output_type": "display_data",
       "text": [
        "<IPython.core.display.Javascript at 0x132d57f50>"
       ]
      },
      {
       "javascript": [
        "\n",
        "        var $myPB = $(\"div#83664a52-3ef9-422d-aeb6-e0423189cb9e\")\n",
        "        if ($myPB.hasClass('ui-progressbar')) {\n",
        "            $myPB.progressbar('value', 2);\n",
        "        } else {\n",
        "            $myPB.progressbar({value: 0, max: 100});\n",
        "        }\n",
        "        "
       ],
       "metadata": {},
       "output_type": "display_data",
       "text": [
        "<IPython.core.display.Javascript at 0x132d57190>"
       ]
      },
      {
       "javascript": [
        "$('div#5c8e81be-45ea-41c7-8eda-1db0dadcf857').text('ETA:  0:01:12');"
       ],
       "metadata": {},
       "output_type": "display_data",
       "text": [
        "<IPython.core.display.Javascript at 0x132d57610>"
       ]
      },
      {
       "javascript": [
        "$('div#3d47f160-b3ac-4fcb-b481-2ef681798b19').text('  3%');"
       ],
       "metadata": {},
       "output_type": "display_data",
       "text": [
        "<IPython.core.display.Javascript at 0x132d57bd0>"
       ]
      },
      {
       "javascript": [
        "\n",
        "        var $myPB = $(\"div#83664a52-3ef9-422d-aeb6-e0423189cb9e\")\n",
        "        if ($myPB.hasClass('ui-progressbar')) {\n",
        "            $myPB.progressbar('value', 3);\n",
        "        } else {\n",
        "            $myPB.progressbar({value: 0, max: 100});\n",
        "        }\n",
        "        "
       ],
       "metadata": {},
       "output_type": "display_data",
       "text": [
        "<IPython.core.display.Javascript at 0x132d57b90>"
       ]
      },
      {
       "javascript": [
        "$('div#5c8e81be-45ea-41c7-8eda-1db0dadcf857').text('ETA:  0:00:54');"
       ],
       "metadata": {},
       "output_type": "display_data",
       "text": [
        "<IPython.core.display.Javascript at 0x132d57650>"
       ]
      },
      {
       "javascript": [
        "$('div#3d47f160-b3ac-4fcb-b481-2ef681798b19').text('  4%');"
       ],
       "metadata": {},
       "output_type": "display_data",
       "text": [
        "<IPython.core.display.Javascript at 0x132d573d0>"
       ]
      },
      {
       "javascript": [
        "\n",
        "        var $myPB = $(\"div#83664a52-3ef9-422d-aeb6-e0423189cb9e\")\n",
        "        if ($myPB.hasClass('ui-progressbar')) {\n",
        "            $myPB.progressbar('value', 4);\n",
        "        } else {\n",
        "            $myPB.progressbar({value: 0, max: 100});\n",
        "        }\n",
        "        "
       ],
       "metadata": {},
       "output_type": "display_data",
       "text": [
        "<IPython.core.display.Javascript at 0x132d57e90>"
       ]
      },
      {
       "javascript": [
        "$('div#5c8e81be-45ea-41c7-8eda-1db0dadcf857').text('ETA:  0:00:45');"
       ],
       "metadata": {},
       "output_type": "display_data",
       "text": [
        "<IPython.core.display.Javascript at 0x132d57710>"
       ]
      },
      {
       "javascript": [
        "$('div#3d47f160-b3ac-4fcb-b481-2ef681798b19').text('  5%');"
       ],
       "metadata": {},
       "output_type": "display_data",
       "text": [
        "<IPython.core.display.Javascript at 0x132d57e50>"
       ]
      },
      {
       "javascript": [
        "\n",
        "        var $myPB = $(\"div#83664a52-3ef9-422d-aeb6-e0423189cb9e\")\n",
        "        if ($myPB.hasClass('ui-progressbar')) {\n",
        "            $myPB.progressbar('value', 5);\n",
        "        } else {\n",
        "            $myPB.progressbar({value: 0, max: 100});\n",
        "        }\n",
        "        "
       ],
       "metadata": {},
       "output_type": "display_data",
       "text": [
        "<IPython.core.display.Javascript at 0x132d57790>"
       ]
      },
      {
       "javascript": [
        "$('div#5c8e81be-45ea-41c7-8eda-1db0dadcf857').text('ETA:  0:00:44');"
       ],
       "metadata": {},
       "output_type": "display_data",
       "text": [
        "<IPython.core.display.Javascript at 0x132d57c90>"
       ]
      },
      {
       "javascript": [
        "$('div#3d47f160-b3ac-4fcb-b481-2ef681798b19').text('  6%');"
       ],
       "metadata": {},
       "output_type": "display_data",
       "text": [
        "<IPython.core.display.Javascript at 0x132d57b50>"
       ]
      },
      {
       "javascript": [
        "\n",
        "        var $myPB = $(\"div#83664a52-3ef9-422d-aeb6-e0423189cb9e\")\n",
        "        if ($myPB.hasClass('ui-progressbar')) {\n",
        "            $myPB.progressbar('value', 6);\n",
        "        } else {\n",
        "            $myPB.progressbar({value: 0, max: 100});\n",
        "        }\n",
        "        "
       ],
       "metadata": {},
       "output_type": "display_data",
       "text": [
        "<IPython.core.display.Javascript at 0x132d57750>"
       ]
      },
      {
       "javascript": [
        "$('div#5c8e81be-45ea-41c7-8eda-1db0dadcf857').text('ETA:  0:00:49');"
       ],
       "metadata": {},
       "output_type": "display_data",
       "text": [
        "<IPython.core.display.Javascript at 0x132d57090>"
       ]
      },
      {
       "javascript": [
        "$('div#3d47f160-b3ac-4fcb-b481-2ef681798b19').text('  7%');"
       ],
       "metadata": {},
       "output_type": "display_data",
       "text": [
        "<IPython.core.display.Javascript at 0x132d57c50>"
       ]
      },
      {
       "javascript": [
        "\n",
        "        var $myPB = $(\"div#83664a52-3ef9-422d-aeb6-e0423189cb9e\")\n",
        "        if ($myPB.hasClass('ui-progressbar')) {\n",
        "            $myPB.progressbar('value', 7);\n",
        "        } else {\n",
        "            $myPB.progressbar({value: 0, max: 100});\n",
        "        }\n",
        "        "
       ],
       "metadata": {},
       "output_type": "display_data",
       "text": [
        "<IPython.core.display.Javascript at 0x132d57150>"
       ]
      },
      {
       "javascript": [
        "$('div#5c8e81be-45ea-41c7-8eda-1db0dadcf857').text('ETA:  0:00:47');"
       ],
       "metadata": {},
       "output_type": "display_data",
       "text": [
        "<IPython.core.display.Javascript at 0x132d57390>"
       ]
      },
      {
       "javascript": [
        "$('div#3d47f160-b3ac-4fcb-b481-2ef681798b19').text('  7%');"
       ],
       "metadata": {},
       "output_type": "display_data",
       "text": [
        "<IPython.core.display.Javascript at 0x120f3d510>"
       ]
      },
      {
       "javascript": [
        "\n",
        "        var $myPB = $(\"div#83664a52-3ef9-422d-aeb6-e0423189cb9e\")\n",
        "        if ($myPB.hasClass('ui-progressbar')) {\n",
        "            $myPB.progressbar('value', 7);\n",
        "        } else {\n",
        "            $myPB.progressbar({value: 0, max: 100});\n",
        "        }\n",
        "        "
       ],
       "metadata": {},
       "output_type": "display_data",
       "text": [
        "<IPython.core.display.Javascript at 0x120f3de90>"
       ]
      },
      {
       "javascript": [
        "$('div#5c8e81be-45ea-41c7-8eda-1db0dadcf857').text('ETA:  0:01:01');"
       ],
       "metadata": {},
       "output_type": "display_data",
       "text": [
        "<IPython.core.display.Javascript at 0x120f3d410>"
       ]
      },
      {
       "javascript": [
        "$('div#3d47f160-b3ac-4fcb-b481-2ef681798b19').text('  7%');"
       ],
       "metadata": {},
       "output_type": "display_data",
       "text": [
        "<IPython.core.display.Javascript at 0x120f3d2d0>"
       ]
      },
      {
       "javascript": [
        "\n",
        "        var $myPB = $(\"div#83664a52-3ef9-422d-aeb6-e0423189cb9e\")\n",
        "        if ($myPB.hasClass('ui-progressbar')) {\n",
        "            $myPB.progressbar('value', 7);\n",
        "        } else {\n",
        "            $myPB.progressbar({value: 0, max: 100});\n",
        "        }\n",
        "        "
       ],
       "metadata": {},
       "output_type": "display_data",
       "text": [
        "<IPython.core.display.Javascript at 0x120f3d4d0>"
       ]
      },
      {
       "javascript": [
        "$('div#5c8e81be-45ea-41c7-8eda-1db0dadcf857').text('ETA:  0:01:16');"
       ],
       "metadata": {},
       "output_type": "display_data",
       "text": [
        "<IPython.core.display.Javascript at 0x120f3dc50>"
       ]
      },
      {
       "javascript": [
        "$('div#3d47f160-b3ac-4fcb-b481-2ef681798b19').text('  8%');"
       ],
       "metadata": {},
       "output_type": "display_data",
       "text": [
        "<IPython.core.display.Javascript at 0x120f3d710>"
       ]
      },
      {
       "javascript": [
        "\n",
        "        var $myPB = $(\"div#83664a52-3ef9-422d-aeb6-e0423189cb9e\")\n",
        "        if ($myPB.hasClass('ui-progressbar')) {\n",
        "            $myPB.progressbar('value', 8);\n",
        "        } else {\n",
        "            $myPB.progressbar({value: 0, max: 100});\n",
        "        }\n",
        "        "
       ],
       "metadata": {},
       "output_type": "display_data",
       "text": [
        "<IPython.core.display.Javascript at 0x120f3d750>"
       ]
      },
      {
       "javascript": [
        "$('div#5c8e81be-45ea-41c7-8eda-1db0dadcf857').text('ETA:  0:01:13');"
       ],
       "metadata": {},
       "output_type": "display_data",
       "text": [
        "<IPython.core.display.Javascript at 0x120f3d5d0>"
       ]
      },
      {
       "javascript": [
        "$('div#3d47f160-b3ac-4fcb-b481-2ef681798b19').text('  9%');"
       ],
       "metadata": {},
       "output_type": "display_data",
       "text": [
        "<IPython.core.display.Javascript at 0x120f3d910>"
       ]
      },
      {
       "javascript": [
        "\n",
        "        var $myPB = $(\"div#83664a52-3ef9-422d-aeb6-e0423189cb9e\")\n",
        "        if ($myPB.hasClass('ui-progressbar')) {\n",
        "            $myPB.progressbar('value', 9);\n",
        "        } else {\n",
        "            $myPB.progressbar({value: 0, max: 100});\n",
        "        }\n",
        "        "
       ],
       "metadata": {},
       "output_type": "display_data",
       "text": [
        "<IPython.core.display.Javascript at 0x120f3d450>"
       ]
      },
      {
       "javascript": [
        "$('div#5c8e81be-45ea-41c7-8eda-1db0dadcf857').text('ETA:  0:01:12');"
       ],
       "metadata": {},
       "output_type": "display_data",
       "text": [
        "<IPython.core.display.Javascript at 0x120f3d0d0>"
       ]
      },
      {
       "javascript": [
        "$('div#3d47f160-b3ac-4fcb-b481-2ef681798b19').text(' 10%');"
       ],
       "metadata": {},
       "output_type": "display_data",
       "text": [
        "<IPython.core.display.Javascript at 0x132d57510>"
       ]
      },
      {
       "javascript": [
        "\n",
        "        var $myPB = $(\"div#83664a52-3ef9-422d-aeb6-e0423189cb9e\")\n",
        "        if ($myPB.hasClass('ui-progressbar')) {\n",
        "            $myPB.progressbar('value', 10);\n",
        "        } else {\n",
        "            $myPB.progressbar({value: 0, max: 100});\n",
        "        }\n",
        "        "
       ],
       "metadata": {},
       "output_type": "display_data",
       "text": [
        "<IPython.core.display.Javascript at 0x132d57050>"
       ]
      },
      {
       "javascript": [
        "$('div#5c8e81be-45ea-41c7-8eda-1db0dadcf857').text('ETA:  0:01:12');"
       ],
       "metadata": {},
       "output_type": "display_data",
       "text": [
        "<IPython.core.display.Javascript at 0x132d57450>"
       ]
      },
      {
       "javascript": [
        "$('div#3d47f160-b3ac-4fcb-b481-2ef681798b19').text(' 11%');"
       ],
       "metadata": {},
       "output_type": "display_data",
       "text": [
        "<IPython.core.display.Javascript at 0x132d57b50>"
       ]
      },
      {
       "javascript": [
        "\n",
        "        var $myPB = $(\"div#83664a52-3ef9-422d-aeb6-e0423189cb9e\")\n",
        "        if ($myPB.hasClass('ui-progressbar')) {\n",
        "            $myPB.progressbar('value', 11);\n",
        "        } else {\n",
        "            $myPB.progressbar({value: 0, max: 100});\n",
        "        }\n",
        "        "
       ],
       "metadata": {},
       "output_type": "display_data",
       "text": [
        "<IPython.core.display.Javascript at 0x132d57b10>"
       ]
      },
      {
       "javascript": [
        "$('div#5c8e81be-45ea-41c7-8eda-1db0dadcf857').text('ETA:  0:01:06');"
       ],
       "metadata": {},
       "output_type": "display_data",
       "text": [
        "<IPython.core.display.Javascript at 0x132d57ad0>"
       ]
      },
      {
       "javascript": [
        "$('div#3d47f160-b3ac-4fcb-b481-2ef681798b19').text(' 12%');"
       ],
       "metadata": {},
       "output_type": "display_data",
       "text": [
        "<IPython.core.display.Javascript at 0x132d57410>"
       ]
      },
      {
       "javascript": [
        "\n",
        "        var $myPB = $(\"div#83664a52-3ef9-422d-aeb6-e0423189cb9e\")\n",
        "        if ($myPB.hasClass('ui-progressbar')) {\n",
        "            $myPB.progressbar('value', 12);\n",
        "        } else {\n",
        "            $myPB.progressbar({value: 0, max: 100});\n",
        "        }\n",
        "        "
       ],
       "metadata": {},
       "output_type": "display_data",
       "text": [
        "<IPython.core.display.Javascript at 0x132d57e10>"
       ]
      },
      {
       "javascript": [
        "$('div#5c8e81be-45ea-41c7-8eda-1db0dadcf857').text('ETA:  0:01:04');"
       ],
       "metadata": {},
       "output_type": "display_data",
       "text": [
        "<IPython.core.display.Javascript at 0x132d57810>"
       ]
      },
      {
       "javascript": [
        "$('div#3d47f160-b3ac-4fcb-b481-2ef681798b19').text(' 13%');"
       ],
       "metadata": {},
       "output_type": "display_data",
       "text": [
        "<IPython.core.display.Javascript at 0x132d57e90>"
       ]
      },
      {
       "javascript": [
        "\n",
        "        var $myPB = $(\"div#83664a52-3ef9-422d-aeb6-e0423189cb9e\")\n",
        "        if ($myPB.hasClass('ui-progressbar')) {\n",
        "            $myPB.progressbar('value', 13);\n",
        "        } else {\n",
        "            $myPB.progressbar({value: 0, max: 100});\n",
        "        }\n",
        "        "
       ],
       "metadata": {},
       "output_type": "display_data",
       "text": [
        "<IPython.core.display.Javascript at 0x132d573d0>"
       ]
      },
      {
       "javascript": [
        "$('div#5c8e81be-45ea-41c7-8eda-1db0dadcf857').text('ETA:  0:01:04');"
       ],
       "metadata": {},
       "output_type": "display_data",
       "text": [
        "<IPython.core.display.Javascript at 0x132d57dd0>"
       ]
      },
      {
       "javascript": [
        "$('div#3d47f160-b3ac-4fcb-b481-2ef681798b19').text(' 14%');"
       ],
       "metadata": {},
       "output_type": "display_data",
       "text": [
        "<IPython.core.display.Javascript at 0x132d57290>"
       ]
      },
      {
       "javascript": [
        "\n",
        "        var $myPB = $(\"div#83664a52-3ef9-422d-aeb6-e0423189cb9e\")\n",
        "        if ($myPB.hasClass('ui-progressbar')) {\n",
        "            $myPB.progressbar('value', 14);\n",
        "        } else {\n",
        "            $myPB.progressbar({value: 0, max: 100});\n",
        "        }\n",
        "        "
       ],
       "metadata": {},
       "output_type": "display_data",
       "text": [
        "<IPython.core.display.Javascript at 0x132d578d0>"
       ]
      },
      {
       "javascript": [
        "$('div#5c8e81be-45ea-41c7-8eda-1db0dadcf857').text('ETA:  0:01:01');"
       ],
       "metadata": {},
       "output_type": "display_data",
       "text": [
        "<IPython.core.display.Javascript at 0x132d57610>"
       ]
      },
      {
       "javascript": [
        "$('div#3d47f160-b3ac-4fcb-b481-2ef681798b19').text(' 15%');"
       ],
       "metadata": {},
       "output_type": "display_data",
       "text": [
        "<IPython.core.display.Javascript at 0x132d57950>"
       ]
      },
      {
       "javascript": [
        "\n",
        "        var $myPB = $(\"div#83664a52-3ef9-422d-aeb6-e0423189cb9e\")\n",
        "        if ($myPB.hasClass('ui-progressbar')) {\n",
        "            $myPB.progressbar('value', 15);\n",
        "        } else {\n",
        "            $myPB.progressbar({value: 0, max: 100});\n",
        "        }\n",
        "        "
       ],
       "metadata": {},
       "output_type": "display_data",
       "text": [
        "<IPython.core.display.Javascript at 0x132d57f50>"
       ]
      },
      {
       "javascript": [
        "$('div#5c8e81be-45ea-41c7-8eda-1db0dadcf857').text('ETA:  0:00:57');"
       ],
       "metadata": {},
       "output_type": "display_data",
       "text": [
        "<IPython.core.display.Javascript at 0x1298cf050>"
       ]
      },
      {
       "javascript": [
        "$('div#3d47f160-b3ac-4fcb-b481-2ef681798b19').text(' 16%');"
       ],
       "metadata": {},
       "output_type": "display_data",
       "text": [
        "<IPython.core.display.Javascript at 0x13f166910>"
       ]
      },
      {
       "javascript": [
        "\n",
        "        var $myPB = $(\"div#83664a52-3ef9-422d-aeb6-e0423189cb9e\")\n",
        "        if ($myPB.hasClass('ui-progressbar')) {\n",
        "            $myPB.progressbar('value', 16);\n",
        "        } else {\n",
        "            $myPB.progressbar({value: 0, max: 100});\n",
        "        }\n",
        "        "
       ],
       "metadata": {},
       "output_type": "display_data",
       "text": [
        "<IPython.core.display.Javascript at 0x13f1668d0>"
       ]
      },
      {
       "javascript": [
        "$('div#5c8e81be-45ea-41c7-8eda-1db0dadcf857').text('ETA:  0:00:59');"
       ],
       "metadata": {},
       "output_type": "display_data",
       "text": [
        "<IPython.core.display.Javascript at 0x13f166b10>"
       ]
      },
      {
       "javascript": [
        "$('div#3d47f160-b3ac-4fcb-b481-2ef681798b19').text(' 17%');"
       ],
       "metadata": {},
       "output_type": "display_data",
       "text": [
        "<IPython.core.display.Javascript at 0x120f3d0d0>"
       ]
      },
      {
       "javascript": [
        "\n",
        "        var $myPB = $(\"div#83664a52-3ef9-422d-aeb6-e0423189cb9e\")\n",
        "        if ($myPB.hasClass('ui-progressbar')) {\n",
        "            $myPB.progressbar('value', 17);\n",
        "        } else {\n",
        "            $myPB.progressbar({value: 0, max: 100});\n",
        "        }\n",
        "        "
       ],
       "metadata": {},
       "output_type": "display_data",
       "text": [
        "<IPython.core.display.Javascript at 0x120f3d950>"
       ]
      },
      {
       "javascript": [
        "$('div#5c8e81be-45ea-41c7-8eda-1db0dadcf857').text('ETA:  0:00:59');"
       ],
       "metadata": {},
       "output_type": "display_data",
       "text": [
        "<IPython.core.display.Javascript at 0x120f3da90>"
       ]
      },
      {
       "javascript": [
        "$('div#3d47f160-b3ac-4fcb-b481-2ef681798b19').text(' 18%');"
       ],
       "metadata": {},
       "output_type": "display_data",
       "text": [
        "<IPython.core.display.Javascript at 0x120f3df90>"
       ]
      },
      {
       "javascript": [
        "\n",
        "        var $myPB = $(\"div#83664a52-3ef9-422d-aeb6-e0423189cb9e\")\n",
        "        if ($myPB.hasClass('ui-progressbar')) {\n",
        "            $myPB.progressbar('value', 18);\n",
        "        } else {\n",
        "            $myPB.progressbar({value: 0, max: 100});\n",
        "        }\n",
        "        "
       ],
       "metadata": {},
       "output_type": "display_data",
       "text": [
        "<IPython.core.display.Javascript at 0x120f3dc90>"
       ]
      },
      {
       "javascript": [
        "$('div#5c8e81be-45ea-41c7-8eda-1db0dadcf857').text('ETA:  0:00:56');"
       ],
       "metadata": {},
       "output_type": "display_data",
       "text": [
        "<IPython.core.display.Javascript at 0x120f3d450>"
       ]
      },
      {
       "javascript": [
        "$('div#3d47f160-b3ac-4fcb-b481-2ef681798b19').text(' 19%');"
       ],
       "metadata": {},
       "output_type": "display_data",
       "text": [
        "<IPython.core.display.Javascript at 0x120f3dd10>"
       ]
      },
      {
       "javascript": [
        "\n",
        "        var $myPB = $(\"div#83664a52-3ef9-422d-aeb6-e0423189cb9e\")\n",
        "        if ($myPB.hasClass('ui-progressbar')) {\n",
        "            $myPB.progressbar('value', 19);\n",
        "        } else {\n",
        "            $myPB.progressbar({value: 0, max: 100});\n",
        "        }\n",
        "        "
       ],
       "metadata": {},
       "output_type": "display_data",
       "text": [
        "<IPython.core.display.Javascript at 0x120f3df50>"
       ]
      },
      {
       "javascript": [
        "$('div#5c8e81be-45ea-41c7-8eda-1db0dadcf857').text('ETA:  0:00:55');"
       ],
       "metadata": {},
       "output_type": "display_data",
       "text": [
        "<IPython.core.display.Javascript at 0x120f3dc10>"
       ]
      },
      {
       "javascript": [
        "$('div#3d47f160-b3ac-4fcb-b481-2ef681798b19').text(' 20%');"
       ],
       "metadata": {},
       "output_type": "display_data",
       "text": [
        "<IPython.core.display.Javascript at 0x120f3d8d0>"
       ]
      },
      {
       "javascript": [
        "\n",
        "        var $myPB = $(\"div#83664a52-3ef9-422d-aeb6-e0423189cb9e\")\n",
        "        if ($myPB.hasClass('ui-progressbar')) {\n",
        "            $myPB.progressbar('value', 20);\n",
        "        } else {\n",
        "            $myPB.progressbar({value: 0, max: 100});\n",
        "        }\n",
        "        "
       ],
       "metadata": {},
       "output_type": "display_data",
       "text": [
        "<IPython.core.display.Javascript at 0x120f3d390>"
       ]
      },
      {
       "javascript": [
        "$('div#5c8e81be-45ea-41c7-8eda-1db0dadcf857').text('ETA:  0:00:53');"
       ],
       "metadata": {},
       "output_type": "display_data",
       "text": [
        "<IPython.core.display.Javascript at 0x120f3d790>"
       ]
      },
      {
       "javascript": [
        "$('div#3d47f160-b3ac-4fcb-b481-2ef681798b19').text(' 20%');"
       ],
       "metadata": {},
       "output_type": "display_data",
       "text": [
        "<IPython.core.display.Javascript at 0x120f3d690>"
       ]
      },
      {
       "javascript": [
        "\n",
        "        var $myPB = $(\"div#83664a52-3ef9-422d-aeb6-e0423189cb9e\")\n",
        "        if ($myPB.hasClass('ui-progressbar')) {\n",
        "            $myPB.progressbar('value', 20);\n",
        "        } else {\n",
        "            $myPB.progressbar({value: 0, max: 100});\n",
        "        }\n",
        "        "
       ],
       "metadata": {},
       "output_type": "display_data",
       "text": [
        "<IPython.core.display.Javascript at 0x120f3dfd0>"
       ]
      },
      {
       "javascript": [
        "$('div#5c8e81be-45ea-41c7-8eda-1db0dadcf857').text('ETA:  0:00:57');"
       ],
       "metadata": {},
       "output_type": "display_data",
       "text": [
        "<IPython.core.display.Javascript at 0x120f3d350>"
       ]
      },
      {
       "javascript": [
        "$('div#3d47f160-b3ac-4fcb-b481-2ef681798b19').text(' 21%');"
       ],
       "metadata": {},
       "output_type": "display_data",
       "text": [
        "<IPython.core.display.Javascript at 0x120f3d410>"
       ]
      },
      {
       "javascript": [
        "\n",
        "        var $myPB = $(\"div#83664a52-3ef9-422d-aeb6-e0423189cb9e\")\n",
        "        if ($myPB.hasClass('ui-progressbar')) {\n",
        "            $myPB.progressbar('value', 21);\n",
        "        } else {\n",
        "            $myPB.progressbar({value: 0, max: 100});\n",
        "        }\n",
        "        "
       ],
       "metadata": {},
       "output_type": "display_data",
       "text": [
        "<IPython.core.display.Javascript at 0x120f3de10>"
       ]
      },
      {
       "javascript": [
        "$('div#5c8e81be-45ea-41c7-8eda-1db0dadcf857').text('ETA:  0:00:55');"
       ],
       "metadata": {},
       "output_type": "display_data",
       "text": [
        "<IPython.core.display.Javascript at 0x120f3de90>"
       ]
      },
      {
       "javascript": [
        "$('div#3d47f160-b3ac-4fcb-b481-2ef681798b19').text(' 22%');"
       ],
       "metadata": {},
       "output_type": "display_data",
       "text": [
        "<IPython.core.display.Javascript at 0x14436dd90>"
       ]
      },
      {
       "javascript": [
        "\n",
        "        var $myPB = $(\"div#83664a52-3ef9-422d-aeb6-e0423189cb9e\")\n",
        "        if ($myPB.hasClass('ui-progressbar')) {\n",
        "            $myPB.progressbar('value', 22);\n",
        "        } else {\n",
        "            $myPB.progressbar({value: 0, max: 100});\n",
        "        }\n",
        "        "
       ],
       "metadata": {},
       "output_type": "display_data",
       "text": [
        "<IPython.core.display.Javascript at 0x14436db50>"
       ]
      },
      {
       "javascript": [
        "$('div#5c8e81be-45ea-41c7-8eda-1db0dadcf857').text('ETA:  0:00:55');"
       ],
       "metadata": {},
       "output_type": "display_data",
       "text": [
        "<IPython.core.display.Javascript at 0x14436dc50>"
       ]
      },
      {
       "javascript": [
        "$('div#3d47f160-b3ac-4fcb-b481-2ef681798b19').text(' 23%');"
       ],
       "metadata": {},
       "output_type": "display_data",
       "text": [
        "<IPython.core.display.Javascript at 0x14436de50>"
       ]
      },
      {
       "javascript": [
        "\n",
        "        var $myPB = $(\"div#83664a52-3ef9-422d-aeb6-e0423189cb9e\")\n",
        "        if ($myPB.hasClass('ui-progressbar')) {\n",
        "            $myPB.progressbar('value', 23);\n",
        "        } else {\n",
        "            $myPB.progressbar({value: 0, max: 100});\n",
        "        }\n",
        "        "
       ],
       "metadata": {},
       "output_type": "display_data",
       "text": [
        "<IPython.core.display.Javascript at 0x14436d710>"
       ]
      },
      {
       "javascript": [
        "$('div#5c8e81be-45ea-41c7-8eda-1db0dadcf857').text('ETA:  0:00:53');"
       ],
       "metadata": {},
       "output_type": "display_data",
       "text": [
        "<IPython.core.display.Javascript at 0x14436db10>"
       ]
      },
      {
       "javascript": [
        "$('div#3d47f160-b3ac-4fcb-b481-2ef681798b19').text(' 24%');"
       ],
       "metadata": {},
       "output_type": "display_data",
       "text": [
        "<IPython.core.display.Javascript at 0x14436d850>"
       ]
      },
      {
       "javascript": [
        "\n",
        "        var $myPB = $(\"div#83664a52-3ef9-422d-aeb6-e0423189cb9e\")\n",
        "        if ($myPB.hasClass('ui-progressbar')) {\n",
        "            $myPB.progressbar('value', 24);\n",
        "        } else {\n",
        "            $myPB.progressbar({value: 0, max: 100});\n",
        "        }\n",
        "        "
       ],
       "metadata": {},
       "output_type": "display_data",
       "text": [
        "<IPython.core.display.Javascript at 0x120f3d7d0>"
       ]
      },
      {
       "javascript": [
        "$('div#5c8e81be-45ea-41c7-8eda-1db0dadcf857').text('ETA:  0:00:51');"
       ],
       "metadata": {},
       "output_type": "display_data",
       "text": [
        "<IPython.core.display.Javascript at 0x120f3d590>"
       ]
      },
      {
       "javascript": [
        "$('div#3d47f160-b3ac-4fcb-b481-2ef681798b19').text(' 25%');"
       ],
       "metadata": {},
       "output_type": "display_data",
       "text": [
        "<IPython.core.display.Javascript at 0x120f3d410>"
       ]
      },
      {
       "javascript": [
        "\n",
        "        var $myPB = $(\"div#83664a52-3ef9-422d-aeb6-e0423189cb9e\")\n",
        "        if ($myPB.hasClass('ui-progressbar')) {\n",
        "            $myPB.progressbar('value', 25);\n",
        "        } else {\n",
        "            $myPB.progressbar({value: 0, max: 100});\n",
        "        }\n",
        "        "
       ],
       "metadata": {},
       "output_type": "display_data",
       "text": [
        "<IPython.core.display.Javascript at 0x120f3d190>"
       ]
      },
      {
       "javascript": [
        "$('div#5c8e81be-45ea-41c7-8eda-1db0dadcf857').text('ETA:  0:00:51');"
       ],
       "metadata": {},
       "output_type": "display_data",
       "text": [
        "<IPython.core.display.Javascript at 0x120f3d490>"
       ]
      },
      {
       "javascript": [
        "$('div#3d47f160-b3ac-4fcb-b481-2ef681798b19').text(' 26%');"
       ],
       "metadata": {},
       "output_type": "display_data",
       "text": [
        "<IPython.core.display.Javascript at 0x120f3d150>"
       ]
      },
      {
       "javascript": [
        "\n",
        "        var $myPB = $(\"div#83664a52-3ef9-422d-aeb6-e0423189cb9e\")\n",
        "        if ($myPB.hasClass('ui-progressbar')) {\n",
        "            $myPB.progressbar('value', 26);\n",
        "        } else {\n",
        "            $myPB.progressbar({value: 0, max: 100});\n",
        "        }\n",
        "        "
       ],
       "metadata": {},
       "output_type": "display_data",
       "text": [
        "<IPython.core.display.Javascript at 0x120f3d4d0>"
       ]
      },
      {
       "javascript": [
        "$('div#5c8e81be-45ea-41c7-8eda-1db0dadcf857').text('ETA:  0:00:50');"
       ],
       "metadata": {},
       "output_type": "display_data",
       "text": [
        "<IPython.core.display.Javascript at 0x120f3dc50>"
       ]
      },
      {
       "javascript": [
        "$('div#3d47f160-b3ac-4fcb-b481-2ef681798b19').text(' 27%');"
       ],
       "metadata": {},
       "output_type": "display_data",
       "text": [
        "<IPython.core.display.Javascript at 0x120f3d390>"
       ]
      },
      {
       "javascript": [
        "\n",
        "        var $myPB = $(\"div#83664a52-3ef9-422d-aeb6-e0423189cb9e\")\n",
        "        if ($myPB.hasClass('ui-progressbar')) {\n",
        "            $myPB.progressbar('value', 27);\n",
        "        } else {\n",
        "            $myPB.progressbar({value: 0, max: 100});\n",
        "        }\n",
        "        "
       ],
       "metadata": {},
       "output_type": "display_data",
       "text": [
        "<IPython.core.display.Javascript at 0x120f3d990>"
       ]
      },
      {
       "javascript": [
        "$('div#5c8e81be-45ea-41c7-8eda-1db0dadcf857').text('ETA:  0:00:48');"
       ],
       "metadata": {},
       "output_type": "display_data",
       "text": [
        "<IPython.core.display.Javascript at 0x120f3d8d0>"
       ]
      },
      {
       "javascript": [
        "$('div#3d47f160-b3ac-4fcb-b481-2ef681798b19').text(' 27%');"
       ],
       "metadata": {},
       "output_type": "display_data",
       "text": [
        "<IPython.core.display.Javascript at 0x120f3da50>"
       ]
      },
      {
       "javascript": [
        "\n",
        "        var $myPB = $(\"div#83664a52-3ef9-422d-aeb6-e0423189cb9e\")\n",
        "        if ($myPB.hasClass('ui-progressbar')) {\n",
        "            $myPB.progressbar('value', 27);\n",
        "        } else {\n",
        "            $myPB.progressbar({value: 0, max: 100});\n",
        "        }\n",
        "        "
       ],
       "metadata": {},
       "output_type": "display_data",
       "text": [
        "<IPython.core.display.Javascript at 0x120f3d090>"
       ]
      },
      {
       "javascript": [
        "$('div#5c8e81be-45ea-41c7-8eda-1db0dadcf857').text('ETA:  0:00:51');"
       ],
       "metadata": {},
       "output_type": "display_data",
       "text": [
        "<IPython.core.display.Javascript at 0x120f3dd90>"
       ]
      },
      {
       "javascript": [
        "$('div#3d47f160-b3ac-4fcb-b481-2ef681798b19').text(' 27%');"
       ],
       "metadata": {},
       "output_type": "display_data",
       "text": [
        "<IPython.core.display.Javascript at 0x13f166210>"
       ]
      },
      {
       "javascript": [
        "\n",
        "        var $myPB = $(\"div#83664a52-3ef9-422d-aeb6-e0423189cb9e\")\n",
        "        if ($myPB.hasClass('ui-progressbar')) {\n",
        "            $myPB.progressbar('value', 27);\n",
        "        } else {\n",
        "            $myPB.progressbar({value: 0, max: 100});\n",
        "        }\n",
        "        "
       ],
       "metadata": {},
       "output_type": "display_data",
       "text": [
        "<IPython.core.display.Javascript at 0x13f166650>"
       ]
      },
      {
       "javascript": [
        "$('div#5c8e81be-45ea-41c7-8eda-1db0dadcf857').text('ETA:  0:00:54');"
       ],
       "metadata": {},
       "output_type": "display_data",
       "text": [
        "<IPython.core.display.Javascript at 0x13f166c50>"
       ]
      },
      {
       "javascript": [
        "$('div#3d47f160-b3ac-4fcb-b481-2ef681798b19').text(' 28%');"
       ],
       "metadata": {},
       "output_type": "display_data",
       "text": [
        "<IPython.core.display.Javascript at 0x13f166b10>"
       ]
      },
      {
       "javascript": [
        "\n",
        "        var $myPB = $(\"div#83664a52-3ef9-422d-aeb6-e0423189cb9e\")\n",
        "        if ($myPB.hasClass('ui-progressbar')) {\n",
        "            $myPB.progressbar('value', 28);\n",
        "        } else {\n",
        "            $myPB.progressbar({value: 0, max: 100});\n",
        "        }\n",
        "        "
       ],
       "metadata": {},
       "output_type": "display_data",
       "text": [
        "<IPython.core.display.Javascript at 0x13f1668d0>"
       ]
      },
      {
       "javascript": [
        "$('div#5c8e81be-45ea-41c7-8eda-1db0dadcf857').text('ETA:  0:00:52');"
       ],
       "metadata": {},
       "output_type": "display_data",
       "text": [
        "<IPython.core.display.Javascript at 0x13f166910>"
       ]
      },
      {
       "javascript": [
        "$('div#3d47f160-b3ac-4fcb-b481-2ef681798b19').text(' 29%');"
       ],
       "metadata": {},
       "output_type": "display_data",
       "text": [
        "<IPython.core.display.Javascript at 0x13f166590>"
       ]
      },
      {
       "javascript": [
        "\n",
        "        var $myPB = $(\"div#83664a52-3ef9-422d-aeb6-e0423189cb9e\")\n",
        "        if ($myPB.hasClass('ui-progressbar')) {\n",
        "            $myPB.progressbar('value', 29);\n",
        "        } else {\n",
        "            $myPB.progressbar({value: 0, max: 100});\n",
        "        }\n",
        "        "
       ],
       "metadata": {},
       "output_type": "display_data",
       "text": [
        "<IPython.core.display.Javascript at 0x13f1666d0>"
       ]
      },
      {
       "javascript": [
        "$('div#5c8e81be-45ea-41c7-8eda-1db0dadcf857').text('ETA:  0:00:51');"
       ],
       "metadata": {},
       "output_type": "display_data",
       "text": [
        "<IPython.core.display.Javascript at 0x13f166d50>"
       ]
      },
      {
       "javascript": [
        "$('div#3d47f160-b3ac-4fcb-b481-2ef681798b19').text(' 30%');"
       ],
       "metadata": {},
       "output_type": "display_data",
       "text": [
        "<IPython.core.display.Javascript at 0x132d57610>"
       ]
      },
      {
       "javascript": [
        "\n",
        "        var $myPB = $(\"div#83664a52-3ef9-422d-aeb6-e0423189cb9e\")\n",
        "        if ($myPB.hasClass('ui-progressbar')) {\n",
        "            $myPB.progressbar('value', 30);\n",
        "        } else {\n",
        "            $myPB.progressbar({value: 0, max: 100});\n",
        "        }\n",
        "        "
       ],
       "metadata": {},
       "output_type": "display_data",
       "text": [
        "<IPython.core.display.Javascript at 0x132d578d0>"
       ]
      },
      {
       "javascript": [
        "$('div#5c8e81be-45ea-41c7-8eda-1db0dadcf857').text('ETA:  0:00:51');"
       ],
       "metadata": {},
       "output_type": "display_data",
       "text": [
        "<IPython.core.display.Javascript at 0x132d57290>"
       ]
      },
      {
       "javascript": [
        "$('div#3d47f160-b3ac-4fcb-b481-2ef681798b19').text(' 31%');"
       ],
       "metadata": {},
       "output_type": "display_data",
       "text": [
        "<IPython.core.display.Javascript at 0x132d57f90>"
       ]
      },
      {
       "javascript": [
        "\n",
        "        var $myPB = $(\"div#83664a52-3ef9-422d-aeb6-e0423189cb9e\")\n",
        "        if ($myPB.hasClass('ui-progressbar')) {\n",
        "            $myPB.progressbar('value', 31);\n",
        "        } else {\n",
        "            $myPB.progressbar({value: 0, max: 100});\n",
        "        }\n",
        "        "
       ],
       "metadata": {},
       "output_type": "display_data",
       "text": [
        "<IPython.core.display.Javascript at 0x132d57dd0>"
       ]
      },
      {
       "javascript": [
        "$('div#5c8e81be-45ea-41c7-8eda-1db0dadcf857').text('ETA:  0:00:49');"
       ],
       "metadata": {},
       "output_type": "display_data",
       "text": [
        "<IPython.core.display.Javascript at 0x132d573d0>"
       ]
      },
      {
       "javascript": [
        "$('div#3d47f160-b3ac-4fcb-b481-2ef681798b19').text(' 32%');"
       ],
       "metadata": {},
       "output_type": "display_data",
       "text": [
        "<IPython.core.display.Javascript at 0x132d57850>"
       ]
      },
      {
       "javascript": [
        "\n",
        "        var $myPB = $(\"div#83664a52-3ef9-422d-aeb6-e0423189cb9e\")\n",
        "        if ($myPB.hasClass('ui-progressbar')) {\n",
        "            $myPB.progressbar('value', 32);\n",
        "        } else {\n",
        "            $myPB.progressbar({value: 0, max: 100});\n",
        "        }\n",
        "        "
       ],
       "metadata": {},
       "output_type": "display_data",
       "text": [
        "<IPython.core.display.Javascript at 0x132d57c90>"
       ]
      },
      {
       "javascript": [
        "$('div#5c8e81be-45ea-41c7-8eda-1db0dadcf857').text('ETA:  0:00:48');"
       ],
       "metadata": {},
       "output_type": "display_data",
       "text": [
        "<IPython.core.display.Javascript at 0x132d576d0>"
       ]
      },
      {
       "javascript": [
        "$('div#3d47f160-b3ac-4fcb-b481-2ef681798b19').text(' 33%');"
       ],
       "metadata": {},
       "output_type": "display_data",
       "text": [
        "<IPython.core.display.Javascript at 0x132d57590>"
       ]
      },
      {
       "javascript": [
        "\n",
        "        var $myPB = $(\"div#83664a52-3ef9-422d-aeb6-e0423189cb9e\")\n",
        "        if ($myPB.hasClass('ui-progressbar')) {\n",
        "            $myPB.progressbar('value', 33);\n",
        "        } else {\n",
        "            $myPB.progressbar({value: 0, max: 100});\n",
        "        }\n",
        "        "
       ],
       "metadata": {},
       "output_type": "display_data",
       "text": [
        "<IPython.core.display.Javascript at 0x132d57ad0>"
       ]
      },
      {
       "javascript": [
        "$('div#5c8e81be-45ea-41c7-8eda-1db0dadcf857').text('ETA:  0:00:47');"
       ],
       "metadata": {},
       "output_type": "display_data",
       "text": [
        "<IPython.core.display.Javascript at 0x132d57b10>"
       ]
      },
      {
       "javascript": [
        "$('div#3d47f160-b3ac-4fcb-b481-2ef681798b19').text(' 34%');"
       ],
       "metadata": {},
       "output_type": "display_data",
       "text": [
        "<IPython.core.display.Javascript at 0x132d57050>"
       ]
      },
      {
       "javascript": [
        "\n",
        "        var $myPB = $(\"div#83664a52-3ef9-422d-aeb6-e0423189cb9e\")\n",
        "        if ($myPB.hasClass('ui-progressbar')) {\n",
        "            $myPB.progressbar('value', 34);\n",
        "        } else {\n",
        "            $myPB.progressbar({value: 0, max: 100});\n",
        "        }\n",
        "        "
       ],
       "metadata": {},
       "output_type": "display_data",
       "text": [
        "<IPython.core.display.Javascript at 0x132d57510>"
       ]
      },
      {
       "javascript": [
        "$('div#5c8e81be-45ea-41c7-8eda-1db0dadcf857').text('ETA:  0:00:46');"
       ],
       "metadata": {},
       "output_type": "display_data",
       "text": [
        "<IPython.core.display.Javascript at 0x132d57150>"
       ]
      },
      {
       "javascript": [
        "$('div#3d47f160-b3ac-4fcb-b481-2ef681798b19').text(' 35%');"
       ],
       "metadata": {},
       "output_type": "display_data",
       "text": [
        "<IPython.core.display.Javascript at 0x14436d1d0>"
       ]
      },
      {
       "javascript": [
        "\n",
        "        var $myPB = $(\"div#83664a52-3ef9-422d-aeb6-e0423189cb9e\")\n",
        "        if ($myPB.hasClass('ui-progressbar')) {\n",
        "            $myPB.progressbar('value', 35);\n",
        "        } else {\n",
        "            $myPB.progressbar({value: 0, max: 100});\n",
        "        }\n",
        "        "
       ],
       "metadata": {},
       "output_type": "display_data",
       "text": [
        "<IPython.core.display.Javascript at 0x14436d9d0>"
       ]
      },
      {
       "javascript": [
        "$('div#5c8e81be-45ea-41c7-8eda-1db0dadcf857').text('ETA:  0:00:46');"
       ],
       "metadata": {},
       "output_type": "display_data",
       "text": [
        "<IPython.core.display.Javascript at 0x14436d150>"
       ]
      },
      {
       "javascript": [
        "$('div#3d47f160-b3ac-4fcb-b481-2ef681798b19').text(' 36%');"
       ],
       "metadata": {},
       "output_type": "display_data",
       "text": [
        "<IPython.core.display.Javascript at 0x14436de50>"
       ]
      },
      {
       "javascript": [
        "\n",
        "        var $myPB = $(\"div#83664a52-3ef9-422d-aeb6-e0423189cb9e\")\n",
        "        if ($myPB.hasClass('ui-progressbar')) {\n",
        "            $myPB.progressbar('value', 36);\n",
        "        } else {\n",
        "            $myPB.progressbar({value: 0, max: 100});\n",
        "        }\n",
        "        "
       ],
       "metadata": {},
       "output_type": "display_data",
       "text": [
        "<IPython.core.display.Javascript at 0x14436d950>"
       ]
      },
      {
       "javascript": [
        "$('div#5c8e81be-45ea-41c7-8eda-1db0dadcf857').text('ETA:  0:00:44');"
       ],
       "metadata": {},
       "output_type": "display_data",
       "text": [
        "<IPython.core.display.Javascript at 0x14436df50>"
       ]
      },
      {
       "javascript": [
        "$('div#3d47f160-b3ac-4fcb-b481-2ef681798b19').text(' 37%');"
       ],
       "metadata": {},
       "output_type": "display_data",
       "text": [
        "<IPython.core.display.Javascript at 0x14436dc50>"
       ]
      },
      {
       "javascript": [
        "\n",
        "        var $myPB = $(\"div#83664a52-3ef9-422d-aeb6-e0423189cb9e\")\n",
        "        if ($myPB.hasClass('ui-progressbar')) {\n",
        "            $myPB.progressbar('value', 37);\n",
        "        } else {\n",
        "            $myPB.progressbar({value: 0, max: 100});\n",
        "        }\n",
        "        "
       ],
       "metadata": {},
       "output_type": "display_data",
       "text": [
        "<IPython.core.display.Javascript at 0x14436d910>"
       ]
      },
      {
       "javascript": [
        "$('div#5c8e81be-45ea-41c7-8eda-1db0dadcf857').text('ETA:  0:00:43');"
       ],
       "metadata": {},
       "output_type": "display_data",
       "text": [
        "<IPython.core.display.Javascript at 0x132d570d0>"
       ]
      },
      {
       "javascript": [
        "$('div#3d47f160-b3ac-4fcb-b481-2ef681798b19').text(' 38%');"
       ],
       "metadata": {},
       "output_type": "display_data",
       "text": [
        "<IPython.core.display.Javascript at 0x132d57210>"
       ]
      },
      {
       "javascript": [
        "\n",
        "        var $myPB = $(\"div#83664a52-3ef9-422d-aeb6-e0423189cb9e\")\n",
        "        if ($myPB.hasClass('ui-progressbar')) {\n",
        "            $myPB.progressbar('value', 38);\n",
        "        } else {\n",
        "            $myPB.progressbar({value: 0, max: 100});\n",
        "        }\n",
        "        "
       ],
       "metadata": {},
       "output_type": "display_data",
       "text": [
        "<IPython.core.display.Javascript at 0x132d57390>"
       ]
      },
      {
       "javascript": [
        "$('div#5c8e81be-45ea-41c7-8eda-1db0dadcf857').text('ETA:  0:00:41');"
       ],
       "metadata": {},
       "output_type": "display_data",
       "text": [
        "<IPython.core.display.Javascript at 0x132d57890>"
       ]
      },
      {
       "javascript": [
        "$('div#3d47f160-b3ac-4fcb-b481-2ef681798b19').text(' 39%');"
       ],
       "metadata": {},
       "output_type": "display_data",
       "text": [
        "<IPython.core.display.Javascript at 0x132d57090>"
       ]
      },
      {
       "javascript": [
        "\n",
        "        var $myPB = $(\"div#83664a52-3ef9-422d-aeb6-e0423189cb9e\")\n",
        "        if ($myPB.hasClass('ui-progressbar')) {\n",
        "            $myPB.progressbar('value', 39);\n",
        "        } else {\n",
        "            $myPB.progressbar({value: 0, max: 100});\n",
        "        }\n",
        "        "
       ],
       "metadata": {},
       "output_type": "display_data",
       "text": [
        "<IPython.core.display.Javascript at 0x132d57250>"
       ]
      },
      {
       "javascript": [
        "$('div#5c8e81be-45ea-41c7-8eda-1db0dadcf857').text('ETA:  0:00:41');"
       ],
       "metadata": {},
       "output_type": "display_data",
       "text": [
        "<IPython.core.display.Javascript at 0x132d57750>"
       ]
      },
      {
       "javascript": [
        "$('div#3d47f160-b3ac-4fcb-b481-2ef681798b19').text(' 40%');"
       ],
       "metadata": {},
       "output_type": "display_data",
       "text": [
        "<IPython.core.display.Javascript at 0x132d57f10>"
       ]
      },
      {
       "javascript": [
        "\n",
        "        var $myPB = $(\"div#83664a52-3ef9-422d-aeb6-e0423189cb9e\")\n",
        "        if ($myPB.hasClass('ui-progressbar')) {\n",
        "            $myPB.progressbar('value', 40);\n",
        "        } else {\n",
        "            $myPB.progressbar({value: 0, max: 100});\n",
        "        }\n",
        "        "
       ],
       "metadata": {},
       "output_type": "display_data",
       "text": [
        "<IPython.core.display.Javascript at 0x132d57790>"
       ]
      },
      {
       "javascript": [
        "$('div#5c8e81be-45ea-41c7-8eda-1db0dadcf857').text('ETA:  0:00:40');"
       ],
       "metadata": {},
       "output_type": "display_data",
       "text": [
        "<IPython.core.display.Javascript at 0x132d57410>"
       ]
      },
      {
       "javascript": [
        "$('div#3d47f160-b3ac-4fcb-b481-2ef681798b19').text(' 40%');"
       ],
       "metadata": {},
       "output_type": "display_data",
       "text": [
        "<IPython.core.display.Javascript at 0x132d57f90>"
       ]
      },
      {
       "javascript": [
        "\n",
        "        var $myPB = $(\"div#83664a52-3ef9-422d-aeb6-e0423189cb9e\")\n",
        "        if ($myPB.hasClass('ui-progressbar')) {\n",
        "            $myPB.progressbar('value', 40);\n",
        "        } else {\n",
        "            $myPB.progressbar({value: 0, max: 100});\n",
        "        }\n",
        "        "
       ],
       "metadata": {},
       "output_type": "display_data",
       "text": [
        "<IPython.core.display.Javascript at 0x132d57b90>"
       ]
      },
      {
       "javascript": [
        "$('div#5c8e81be-45ea-41c7-8eda-1db0dadcf857').text('ETA:  0:00:42');"
       ],
       "metadata": {},
       "output_type": "display_data",
       "text": [
        "<IPython.core.display.Javascript at 0x132d57350>"
       ]
      },
      {
       "javascript": [
        "$('div#3d47f160-b3ac-4fcb-b481-2ef681798b19').text(' 41%');"
       ],
       "metadata": {},
       "output_type": "display_data",
       "text": [
        "<IPython.core.display.Javascript at 0x13f166050>"
       ]
      },
      {
       "javascript": [
        "\n",
        "        var $myPB = $(\"div#83664a52-3ef9-422d-aeb6-e0423189cb9e\")\n",
        "        if ($myPB.hasClass('ui-progressbar')) {\n",
        "            $myPB.progressbar('value', 41);\n",
        "        } else {\n",
        "            $myPB.progressbar({value: 0, max: 100});\n",
        "        }\n",
        "        "
       ],
       "metadata": {},
       "output_type": "display_data",
       "text": [
        "<IPython.core.display.Javascript at 0x13f166490>"
       ]
      },
      {
       "javascript": [
        "$('div#5c8e81be-45ea-41c7-8eda-1db0dadcf857').text('ETA:  0:00:41');"
       ],
       "metadata": {},
       "output_type": "display_data",
       "text": [
        "<IPython.core.display.Javascript at 0x13f166790>"
       ]
      },
      {
       "javascript": [
        "$('div#3d47f160-b3ac-4fcb-b481-2ef681798b19').text(' 42%');"
       ],
       "metadata": {},
       "output_type": "display_data",
       "text": [
        "<IPython.core.display.Javascript at 0x13f166a10>"
       ]
      },
      {
       "javascript": [
        "\n",
        "        var $myPB = $(\"div#83664a52-3ef9-422d-aeb6-e0423189cb9e\")\n",
        "        if ($myPB.hasClass('ui-progressbar')) {\n",
        "            $myPB.progressbar('value', 42);\n",
        "        } else {\n",
        "            $myPB.progressbar({value: 0, max: 100});\n",
        "        }\n",
        "        "
       ],
       "metadata": {},
       "output_type": "display_data",
       "text": [
        "<IPython.core.display.Javascript at 0x13f166910>"
       ]
      },
      {
       "javascript": [
        "$('div#5c8e81be-45ea-41c7-8eda-1db0dadcf857').text('ETA:  0:00:41');"
       ],
       "metadata": {},
       "output_type": "display_data",
       "text": [
        "<IPython.core.display.Javascript at 0x13f1668d0>"
       ]
      },
      {
       "javascript": [
        "$('div#3d47f160-b3ac-4fcb-b481-2ef681798b19').text(' 43%');"
       ],
       "metadata": {},
       "output_type": "display_data",
       "text": [
        "<IPython.core.display.Javascript at 0x13f1663d0>"
       ]
      },
      {
       "javascript": [
        "\n",
        "        var $myPB = $(\"div#83664a52-3ef9-422d-aeb6-e0423189cb9e\")\n",
        "        if ($myPB.hasClass('ui-progressbar')) {\n",
        "            $myPB.progressbar('value', 43);\n",
        "        } else {\n",
        "            $myPB.progressbar({value: 0, max: 100});\n",
        "        }\n",
        "        "
       ],
       "metadata": {},
       "output_type": "display_data",
       "text": [
        "<IPython.core.display.Javascript at 0x13f166bd0>"
       ]
      },
      {
       "javascript": [
        "$('div#5c8e81be-45ea-41c7-8eda-1db0dadcf857').text('ETA:  0:00:39');"
       ],
       "metadata": {},
       "output_type": "display_data",
       "text": [
        "<IPython.core.display.Javascript at 0x13f166cd0>"
       ]
      },
      {
       "javascript": [
        "$('div#3d47f160-b3ac-4fcb-b481-2ef681798b19').text(' 44%');"
       ],
       "metadata": {},
       "output_type": "display_data",
       "text": [
        "<IPython.core.display.Javascript at 0x13f166650>"
       ]
      },
      {
       "javascript": [
        "\n",
        "        var $myPB = $(\"div#83664a52-3ef9-422d-aeb6-e0423189cb9e\")\n",
        "        if ($myPB.hasClass('ui-progressbar')) {\n",
        "            $myPB.progressbar('value', 44);\n",
        "        } else {\n",
        "            $myPB.progressbar({value: 0, max: 100});\n",
        "        }\n",
        "        "
       ],
       "metadata": {},
       "output_type": "display_data",
       "text": [
        "<IPython.core.display.Javascript at 0x1268015d0>"
       ]
      },
      {
       "javascript": [
        "$('div#5c8e81be-45ea-41c7-8eda-1db0dadcf857').text('ETA:  0:00:38');"
       ],
       "metadata": {},
       "output_type": "display_data",
       "text": [
        "<IPython.core.display.Javascript at 0x126801590>"
       ]
      },
      {
       "javascript": [
        "$('div#3d47f160-b3ac-4fcb-b481-2ef681798b19').text(' 45%');"
       ],
       "metadata": {},
       "output_type": "display_data",
       "text": [
        "<IPython.core.display.Javascript at 0x120f3dd50>"
       ]
      },
      {
       "javascript": [
        "\n",
        "        var $myPB = $(\"div#83664a52-3ef9-422d-aeb6-e0423189cb9e\")\n",
        "        if ($myPB.hasClass('ui-progressbar')) {\n",
        "            $myPB.progressbar('value', 45);\n",
        "        } else {\n",
        "            $myPB.progressbar({value: 0, max: 100});\n",
        "        }\n",
        "        "
       ],
       "metadata": {},
       "output_type": "display_data",
       "text": [
        "<IPython.core.display.Javascript at 0x120f3d950>"
       ]
      },
      {
       "javascript": [
        "$('div#5c8e81be-45ea-41c7-8eda-1db0dadcf857').text('ETA:  0:00:37');"
       ],
       "metadata": {},
       "output_type": "display_data",
       "text": [
        "<IPython.core.display.Javascript at 0x120f3d450>"
       ]
      },
      {
       "javascript": [
        "$('div#3d47f160-b3ac-4fcb-b481-2ef681798b19').text(' 45%');"
       ],
       "metadata": {},
       "output_type": "display_data",
       "text": [
        "<IPython.core.display.Javascript at 0x120f3df50>"
       ]
      },
      {
       "javascript": [
        "\n",
        "        var $myPB = $(\"div#83664a52-3ef9-422d-aeb6-e0423189cb9e\")\n",
        "        if ($myPB.hasClass('ui-progressbar')) {\n",
        "            $myPB.progressbar('value', 45);\n",
        "        } else {\n",
        "            $myPB.progressbar({value: 0, max: 100});\n",
        "        }\n",
        "        "
       ],
       "metadata": {},
       "output_type": "display_data",
       "text": [
        "<IPython.core.display.Javascript at 0x120f3d6d0>"
       ]
      },
      {
       "javascript": [
        "$('div#5c8e81be-45ea-41c7-8eda-1db0dadcf857').text('ETA:  0:00:38');"
       ],
       "metadata": {},
       "output_type": "display_data",
       "text": [
        "<IPython.core.display.Javascript at 0x120f3d890>"
       ]
      },
      {
       "javascript": [
        "$('div#3d47f160-b3ac-4fcb-b481-2ef681798b19').text(' 46%');"
       ],
       "metadata": {},
       "output_type": "display_data",
       "text": [
        "<IPython.core.display.Javascript at 0x120f3d8d0>"
       ]
      },
      {
       "javascript": [
        "\n",
        "        var $myPB = $(\"div#83664a52-3ef9-422d-aeb6-e0423189cb9e\")\n",
        "        if ($myPB.hasClass('ui-progressbar')) {\n",
        "            $myPB.progressbar('value', 46);\n",
        "        } else {\n",
        "            $myPB.progressbar({value: 0, max: 100});\n",
        "        }\n",
        "        "
       ],
       "metadata": {},
       "output_type": "display_data",
       "text": [
        "<IPython.core.display.Javascript at 0x120f3de50>"
       ]
      },
      {
       "javascript": [
        "$('div#5c8e81be-45ea-41c7-8eda-1db0dadcf857').text('ETA:  0:00:37');"
       ],
       "metadata": {},
       "output_type": "display_data",
       "text": [
        "<IPython.core.display.Javascript at 0x120f3d990>"
       ]
      },
      {
       "javascript": [
        "$('div#3d47f160-b3ac-4fcb-b481-2ef681798b19').text(' 47%');"
       ],
       "metadata": {},
       "output_type": "display_data",
       "text": [
        "<IPython.core.display.Javascript at 0x120f3d150>"
       ]
      },
      {
       "javascript": [
        "\n",
        "        var $myPB = $(\"div#83664a52-3ef9-422d-aeb6-e0423189cb9e\")\n",
        "        if ($myPB.hasClass('ui-progressbar')) {\n",
        "            $myPB.progressbar('value', 47);\n",
        "        } else {\n",
        "            $myPB.progressbar({value: 0, max: 100});\n",
        "        }\n",
        "        "
       ],
       "metadata": {},
       "output_type": "display_data",
       "text": [
        "<IPython.core.display.Javascript at 0x120f3dad0>"
       ]
      },
      {
       "javascript": [
        "$('div#5c8e81be-45ea-41c7-8eda-1db0dadcf857').text('ETA:  0:00:36');"
       ],
       "metadata": {},
       "output_type": "display_data",
       "text": [
        "<IPython.core.display.Javascript at 0x120f3d2d0>"
       ]
      },
      {
       "javascript": [
        "$('div#3d47f160-b3ac-4fcb-b481-2ef681798b19').text(' 47%');"
       ],
       "metadata": {},
       "output_type": "display_data",
       "text": [
        "<IPython.core.display.Javascript at 0x120f3de90>"
       ]
      },
      {
       "javascript": [
        "\n",
        "        var $myPB = $(\"div#83664a52-3ef9-422d-aeb6-e0423189cb9e\")\n",
        "        if ($myPB.hasClass('ui-progressbar')) {\n",
        "            $myPB.progressbar('value', 47);\n",
        "        } else {\n",
        "            $myPB.progressbar({value: 0, max: 100});\n",
        "        }\n",
        "        "
       ],
       "metadata": {},
       "output_type": "display_data",
       "text": [
        "<IPython.core.display.Javascript at 0x120f3de10>"
       ]
      },
      {
       "javascript": [
        "$('div#5c8e81be-45ea-41c7-8eda-1db0dadcf857').text('ETA:  0:00:37');"
       ],
       "metadata": {},
       "output_type": "display_data",
       "text": [
        "<IPython.core.display.Javascript at 0x120f3d510>"
       ]
      },
      {
       "javascript": [
        "$('div#3d47f160-b3ac-4fcb-b481-2ef681798b19').text(' 47%');"
       ],
       "metadata": {},
       "output_type": "display_data",
       "text": [
        "<IPython.core.display.Javascript at 0x14436d610>"
       ]
      },
      {
       "javascript": [
        "\n",
        "        var $myPB = $(\"div#83664a52-3ef9-422d-aeb6-e0423189cb9e\")\n",
        "        if ($myPB.hasClass('ui-progressbar')) {\n",
        "            $myPB.progressbar('value', 47);\n",
        "        } else {\n",
        "            $myPB.progressbar({value: 0, max: 100});\n",
        "        }\n",
        "        "
       ],
       "metadata": {},
       "output_type": "display_data",
       "text": [
        "<IPython.core.display.Javascript at 0x14436d210>"
       ]
      },
      {
       "javascript": [
        "$('div#5c8e81be-45ea-41c7-8eda-1db0dadcf857').text('ETA:  0:00:38');"
       ],
       "metadata": {},
       "output_type": "display_data",
       "text": [
        "<IPython.core.display.Javascript at 0x14436dbd0>"
       ]
      },
      {
       "javascript": [
        "$('div#3d47f160-b3ac-4fcb-b481-2ef681798b19').text(' 47%');"
       ],
       "metadata": {},
       "output_type": "display_data",
       "text": [
        "<IPython.core.display.Javascript at 0x14436d9d0>"
       ]
      },
      {
       "javascript": [
        "\n",
        "        var $myPB = $(\"div#83664a52-3ef9-422d-aeb6-e0423189cb9e\")\n",
        "        if ($myPB.hasClass('ui-progressbar')) {\n",
        "            $myPB.progressbar('value', 47);\n",
        "        } else {\n",
        "            $myPB.progressbar({value: 0, max: 100});\n",
        "        }\n",
        "        "
       ],
       "metadata": {},
       "output_type": "display_data",
       "text": [
        "<IPython.core.display.Javascript at 0x120f3d7d0>"
       ]
      },
      {
       "javascript": [
        "$('div#5c8e81be-45ea-41c7-8eda-1db0dadcf857').text('ETA:  0:00:39');"
       ],
       "metadata": {},
       "output_type": "display_data",
       "text": [
        "<IPython.core.display.Javascript at 0x120f3d590>"
       ]
      },
      {
       "javascript": [
        "$('div#3d47f160-b3ac-4fcb-b481-2ef681798b19').text(' 47%');"
       ],
       "metadata": {},
       "output_type": "display_data",
       "text": [
        "<IPython.core.display.Javascript at 0x120f3dfd0>"
       ]
      },
      {
       "javascript": [
        "\n",
        "        var $myPB = $(\"div#83664a52-3ef9-422d-aeb6-e0423189cb9e\")\n",
        "        if ($myPB.hasClass('ui-progressbar')) {\n",
        "            $myPB.progressbar('value', 47);\n",
        "        } else {\n",
        "            $myPB.progressbar({value: 0, max: 100});\n",
        "        }\n",
        "        "
       ],
       "metadata": {},
       "output_type": "display_data",
       "text": [
        "<IPython.core.display.Javascript at 0x120f3d650>"
       ]
      },
      {
       "javascript": [
        "$('div#5c8e81be-45ea-41c7-8eda-1db0dadcf857').text('ETA:  0:00:40');"
       ],
       "metadata": {},
       "output_type": "display_data",
       "text": [
        "<IPython.core.display.Javascript at 0x120f3da10>"
       ]
      },
      {
       "javascript": [
        "$('div#3d47f160-b3ac-4fcb-b481-2ef681798b19').text(' 47%');"
       ],
       "metadata": {},
       "output_type": "display_data",
       "text": [
        "<IPython.core.display.Javascript at 0x120f3d390>"
       ]
      },
      {
       "javascript": [
        "\n",
        "        var $myPB = $(\"div#83664a52-3ef9-422d-aeb6-e0423189cb9e\")\n",
        "        if ($myPB.hasClass('ui-progressbar')) {\n",
        "            $myPB.progressbar('value', 47);\n",
        "        } else {\n",
        "            $myPB.progressbar({value: 0, max: 100});\n",
        "        }\n",
        "        "
       ],
       "metadata": {},
       "output_type": "display_data",
       "text": [
        "<IPython.core.display.Javascript at 0x120f3d990>"
       ]
      },
      {
       "javascript": [
        "$('div#5c8e81be-45ea-41c7-8eda-1db0dadcf857').text('ETA:  0:00:42');"
       ],
       "metadata": {},
       "output_type": "display_data",
       "text": [
        "<IPython.core.display.Javascript at 0x120f3de50>"
       ]
      },
      {
       "javascript": [
        "$('div#3d47f160-b3ac-4fcb-b481-2ef681798b19').text(' 48%');"
       ],
       "metadata": {},
       "output_type": "display_data",
       "text": [
        "<IPython.core.display.Javascript at 0x120f3d3d0>"
       ]
      },
      {
       "javascript": [
        "\n",
        "        var $myPB = $(\"div#83664a52-3ef9-422d-aeb6-e0423189cb9e\")\n",
        "        if ($myPB.hasClass('ui-progressbar')) {\n",
        "            $myPB.progressbar('value', 48);\n",
        "        } else {\n",
        "            $myPB.progressbar({value: 0, max: 100});\n",
        "        }\n",
        "        "
       ],
       "metadata": {},
       "output_type": "display_data",
       "text": [
        "<IPython.core.display.Javascript at 0x120f3da50>"
       ]
      },
      {
       "javascript": [
        "$('div#5c8e81be-45ea-41c7-8eda-1db0dadcf857').text('ETA:  0:00:41');"
       ],
       "metadata": {},
       "output_type": "display_data",
       "text": [
        "<IPython.core.display.Javascript at 0x120f3dc90>"
       ]
      },
      {
       "javascript": [
        "$('div#3d47f160-b3ac-4fcb-b481-2ef681798b19').text(' 49%');"
       ],
       "metadata": {},
       "output_type": "display_data",
       "text": [
        "<IPython.core.display.Javascript at 0x120f3d550>"
       ]
      },
      {
       "javascript": [
        "\n",
        "        var $myPB = $(\"div#83664a52-3ef9-422d-aeb6-e0423189cb9e\")\n",
        "        if ($myPB.hasClass('ui-progressbar')) {\n",
        "            $myPB.progressbar('value', 49);\n",
        "        } else {\n",
        "            $myPB.progressbar({value: 0, max: 100});\n",
        "        }\n",
        "        "
       ],
       "metadata": {},
       "output_type": "display_data",
       "text": [
        "<IPython.core.display.Javascript at 0x120f3dd90>"
       ]
      },
      {
       "javascript": [
        "$('div#5c8e81be-45ea-41c7-8eda-1db0dadcf857').text('ETA:  0:00:40');"
       ],
       "metadata": {},
       "output_type": "display_data",
       "text": [
        "<IPython.core.display.Javascript at 0x120f3d450>"
       ]
      },
      {
       "javascript": [
        "$('div#3d47f160-b3ac-4fcb-b481-2ef681798b19').text(' 50%');"
       ],
       "metadata": {},
       "output_type": "display_data",
       "text": [
        "<IPython.core.display.Javascript at 0x1268015d0>"
       ]
      },
      {
       "javascript": [
        "\n",
        "        var $myPB = $(\"div#83664a52-3ef9-422d-aeb6-e0423189cb9e\")\n",
        "        if ($myPB.hasClass('ui-progressbar')) {\n",
        "            $myPB.progressbar('value', 50);\n",
        "        } else {\n",
        "            $myPB.progressbar({value: 0, max: 100});\n",
        "        }\n",
        "        "
       ],
       "metadata": {},
       "output_type": "display_data",
       "text": [
        "<IPython.core.display.Javascript at 0x13f166650>"
       ]
      },
      {
       "javascript": [
        "$('div#5c8e81be-45ea-41c7-8eda-1db0dadcf857').text('ETA:  0:00:39');"
       ],
       "metadata": {},
       "output_type": "display_data",
       "text": [
        "<IPython.core.display.Javascript at 0x13f166210>"
       ]
      },
      {
       "javascript": [
        "$('div#3d47f160-b3ac-4fcb-b481-2ef681798b19').text(' 50%');"
       ],
       "metadata": {},
       "output_type": "display_data",
       "text": [
        "<IPython.core.display.Javascript at 0x13f166d50>"
       ]
      },
      {
       "javascript": [
        "\n",
        "        var $myPB = $(\"div#83664a52-3ef9-422d-aeb6-e0423189cb9e\")\n",
        "        if ($myPB.hasClass('ui-progressbar')) {\n",
        "            $myPB.progressbar('value', 50);\n",
        "        } else {\n",
        "            $myPB.progressbar({value: 0, max: 100});\n",
        "        }\n",
        "        "
       ],
       "metadata": {},
       "output_type": "display_data",
       "text": [
        "<IPython.core.display.Javascript at 0x13f166b50>"
       ]
      },
      {
       "javascript": [
        "$('div#5c8e81be-45ea-41c7-8eda-1db0dadcf857').text('ETA:  0:00:40');"
       ],
       "metadata": {},
       "output_type": "display_data",
       "text": [
        "<IPython.core.display.Javascript at 0x13f166f10>"
       ]
      },
      {
       "javascript": [
        "$('div#3d47f160-b3ac-4fcb-b481-2ef681798b19').text(' 50%');"
       ],
       "metadata": {},
       "output_type": "display_data",
       "text": [
        "<IPython.core.display.Javascript at 0x132d57610>"
       ]
      },
      {
       "javascript": [
        "\n",
        "        var $myPB = $(\"div#83664a52-3ef9-422d-aeb6-e0423189cb9e\")\n",
        "        if ($myPB.hasClass('ui-progressbar')) {\n",
        "            $myPB.progressbar('value', 50);\n",
        "        } else {\n",
        "            $myPB.progressbar({value: 0, max: 100});\n",
        "        }\n",
        "        "
       ],
       "metadata": {},
       "output_type": "display_data",
       "text": [
        "<IPython.core.display.Javascript at 0x132d578d0>"
       ]
      },
      {
       "javascript": [
        "$('div#5c8e81be-45ea-41c7-8eda-1db0dadcf857').text('ETA:  0:00:41');"
       ],
       "metadata": {},
       "output_type": "display_data",
       "text": [
        "<IPython.core.display.Javascript at 0x132d57310>"
       ]
      },
      {
       "javascript": [
        "$('div#3d47f160-b3ac-4fcb-b481-2ef681798b19').text(' 50%');"
       ],
       "metadata": {},
       "output_type": "display_data",
       "text": [
        "<IPython.core.display.Javascript at 0x132d576d0>"
       ]
      },
      {
       "javascript": [
        "\n",
        "        var $myPB = $(\"div#83664a52-3ef9-422d-aeb6-e0423189cb9e\")\n",
        "        if ($myPB.hasClass('ui-progressbar')) {\n",
        "            $myPB.progressbar('value', 50);\n",
        "        } else {\n",
        "            $myPB.progressbar({value: 0, max: 100});\n",
        "        }\n",
        "        "
       ],
       "metadata": {},
       "output_type": "display_data",
       "text": [
        "<IPython.core.display.Javascript at 0x132d57810>"
       ]
      },
      {
       "javascript": [
        "$('div#5c8e81be-45ea-41c7-8eda-1db0dadcf857').text('ETA:  0:00:42');"
       ],
       "metadata": {},
       "output_type": "display_data",
       "text": [
        "<IPython.core.display.Javascript at 0x132d57e50>"
       ]
      },
      {
       "javascript": [
        "$('div#3d47f160-b3ac-4fcb-b481-2ef681798b19').text(' 50%');"
       ],
       "metadata": {},
       "output_type": "display_data",
       "text": [
        "<IPython.core.display.Javascript at 0x132d57090>"
       ]
      },
      {
       "javascript": [
        "\n",
        "        var $myPB = $(\"div#83664a52-3ef9-422d-aeb6-e0423189cb9e\")\n",
        "        if ($myPB.hasClass('ui-progressbar')) {\n",
        "            $myPB.progressbar('value', 50);\n",
        "        } else {\n",
        "            $myPB.progressbar({value: 0, max: 100});\n",
        "        }\n",
        "        "
       ],
       "metadata": {},
       "output_type": "display_data",
       "text": [
        "<IPython.core.display.Javascript at 0x132d57050>"
       ]
      },
      {
       "javascript": [
        "$('div#5c8e81be-45ea-41c7-8eda-1db0dadcf857').text('ETA:  0:00:43');"
       ],
       "metadata": {},
       "output_type": "display_data",
       "text": [
        "<IPython.core.display.Javascript at 0x132d57450>"
       ]
      },
      {
       "javascript": [
        "$('div#3d47f160-b3ac-4fcb-b481-2ef681798b19').text(' 50%');"
       ],
       "metadata": {},
       "output_type": "display_data",
       "text": [
        "<IPython.core.display.Javascript at 0x14436d1d0>"
       ]
      },
      {
       "javascript": [
        "\n",
        "        var $myPB = $(\"div#83664a52-3ef9-422d-aeb6-e0423189cb9e\")\n",
        "        if ($myPB.hasClass('ui-progressbar')) {\n",
        "            $myPB.progressbar('value', 50);\n",
        "        } else {\n",
        "            $myPB.progressbar({value: 0, max: 100});\n",
        "        }\n",
        "        "
       ],
       "metadata": {},
       "output_type": "display_data",
       "text": [
        "<IPython.core.display.Javascript at 0x14436d850>"
       ]
      },
      {
       "javascript": [
        "$('div#5c8e81be-45ea-41c7-8eda-1db0dadcf857').text('ETA:  0:00:44');"
       ],
       "metadata": {},
       "output_type": "display_data",
       "text": [
        "<IPython.core.display.Javascript at 0x14436d4d0>"
       ]
      },
      {
       "javascript": [
        "$('div#3d47f160-b3ac-4fcb-b481-2ef681798b19').text(' 51%');"
       ],
       "metadata": {},
       "output_type": "display_data",
       "text": [
        "<IPython.core.display.Javascript at 0x14436d710>"
       ]
      },
      {
       "javascript": [
        "\n",
        "        var $myPB = $(\"div#83664a52-3ef9-422d-aeb6-e0423189cb9e\")\n",
        "        if ($myPB.hasClass('ui-progressbar')) {\n",
        "            $myPB.progressbar('value', 51);\n",
        "        } else {\n",
        "            $myPB.progressbar({value: 0, max: 100});\n",
        "        }\n",
        "        "
       ],
       "metadata": {},
       "output_type": "display_data",
       "text": [
        "<IPython.core.display.Javascript at 0x14436de50>"
       ]
      },
      {
       "javascript": [
        "$('div#5c8e81be-45ea-41c7-8eda-1db0dadcf857').text('ETA:  0:00:43');"
       ],
       "metadata": {},
       "output_type": "display_data",
       "text": [
        "<IPython.core.display.Javascript at 0x14436d890>"
       ]
      },
      {
       "javascript": [
        "$('div#3d47f160-b3ac-4fcb-b481-2ef681798b19').text(' 52%');"
       ],
       "metadata": {},
       "output_type": "display_data",
       "text": [
        "<IPython.core.display.Javascript at 0x14436d210>"
       ]
      },
      {
       "javascript": [
        "\n",
        "        var $myPB = $(\"div#83664a52-3ef9-422d-aeb6-e0423189cb9e\")\n",
        "        if ($myPB.hasClass('ui-progressbar')) {\n",
        "            $myPB.progressbar('value', 52);\n",
        "        } else {\n",
        "            $myPB.progressbar({value: 0, max: 100});\n",
        "        }\n",
        "        "
       ],
       "metadata": {},
       "output_type": "display_data",
       "text": [
        "<IPython.core.display.Javascript at 0x14436d610>"
       ]
      },
      {
       "javascript": [
        "$('div#5c8e81be-45ea-41c7-8eda-1db0dadcf857').text('ETA:  0:00:41');"
       ],
       "metadata": {},
       "output_type": "display_data",
       "text": [
        "<IPython.core.display.Javascript at 0x14436d050>"
       ]
      },
      {
       "javascript": [
        "$('div#3d47f160-b3ac-4fcb-b481-2ef681798b19').text(' 53%');"
       ],
       "metadata": {},
       "output_type": "display_data",
       "text": [
        "<IPython.core.display.Javascript at 0x14436d250>"
       ]
      },
      {
       "javascript": [
        "\n",
        "        var $myPB = $(\"div#83664a52-3ef9-422d-aeb6-e0423189cb9e\")\n",
        "        if ($myPB.hasClass('ui-progressbar')) {\n",
        "            $myPB.progressbar('value', 53);\n",
        "        } else {\n",
        "            $myPB.progressbar({value: 0, max: 100});\n",
        "        }\n",
        "        "
       ],
       "metadata": {},
       "output_type": "display_data",
       "text": [
        "<IPython.core.display.Javascript at 0x1298cf050>"
       ]
      },
      {
       "javascript": [
        "$('div#5c8e81be-45ea-41c7-8eda-1db0dadcf857').text('ETA:  0:00:41');"
       ],
       "metadata": {},
       "output_type": "display_data",
       "text": [
        "<IPython.core.display.Javascript at 0x132d570d0>"
       ]
      },
      {
       "javascript": [
        "$('div#3d47f160-b3ac-4fcb-b481-2ef681798b19').text(' 54%');"
       ],
       "metadata": {},
       "output_type": "display_data",
       "text": [
        "<IPython.core.display.Javascript at 0x132d57690>"
       ]
      },
      {
       "javascript": [
        "\n",
        "        var $myPB = $(\"div#83664a52-3ef9-422d-aeb6-e0423189cb9e\")\n",
        "        if ($myPB.hasClass('ui-progressbar')) {\n",
        "            $myPB.progressbar('value', 54);\n",
        "        } else {\n",
        "            $myPB.progressbar({value: 0, max: 100});\n",
        "        }\n",
        "        "
       ],
       "metadata": {},
       "output_type": "display_data",
       "text": [
        "<IPython.core.display.Javascript at 0x132d57990>"
       ]
      },
      {
       "javascript": [
        "$('div#5c8e81be-45ea-41c7-8eda-1db0dadcf857').text('ETA:  0:00:39');"
       ],
       "metadata": {},
       "output_type": "display_data",
       "text": [
        "<IPython.core.display.Javascript at 0x132d572d0>"
       ]
      },
      {
       "javascript": [
        "$('div#3d47f160-b3ac-4fcb-b481-2ef681798b19').text(' 54%');"
       ],
       "metadata": {},
       "output_type": "display_data",
       "text": [
        "<IPython.core.display.Javascript at 0x132d574d0>"
       ]
      },
      {
       "javascript": [
        "\n",
        "        var $myPB = $(\"div#83664a52-3ef9-422d-aeb6-e0423189cb9e\")\n",
        "        if ($myPB.hasClass('ui-progressbar')) {\n",
        "            $myPB.progressbar('value', 54);\n",
        "        } else {\n",
        "            $myPB.progressbar({value: 0, max: 100});\n",
        "        }\n",
        "        "
       ],
       "metadata": {},
       "output_type": "display_data",
       "text": [
        "<IPython.core.display.Javascript at 0x132d57410>"
       ]
      },
      {
       "javascript": [
        "$('div#5c8e81be-45ea-41c7-8eda-1db0dadcf857').text('ETA:  0:00:40');"
       ],
       "metadata": {},
       "output_type": "display_data",
       "text": [
        "<IPython.core.display.Javascript at 0x132d57a90>"
       ]
      },
      {
       "javascript": [
        "$('div#3d47f160-b3ac-4fcb-b481-2ef681798b19').text(' 55%');"
       ],
       "metadata": {},
       "output_type": "display_data",
       "text": [
        "<IPython.core.display.Javascript at 0x132d57e50>"
       ]
      },
      {
       "javascript": [
        "\n",
        "        var $myPB = $(\"div#83664a52-3ef9-422d-aeb6-e0423189cb9e\")\n",
        "        if ($myPB.hasClass('ui-progressbar')) {\n",
        "            $myPB.progressbar('value', 55);\n",
        "        } else {\n",
        "            $myPB.progressbar({value: 0, max: 100});\n",
        "        }\n",
        "        "
       ],
       "metadata": {},
       "output_type": "display_data",
       "text": [
        "<IPython.core.display.Javascript at 0x132d57810>"
       ]
      },
      {
       "javascript": [
        "$('div#5c8e81be-45ea-41c7-8eda-1db0dadcf857').text('ETA:  0:00:39');"
       ],
       "metadata": {},
       "output_type": "display_data",
       "text": [
        "<IPython.core.display.Javascript at 0x132d57f10>"
       ]
      },
      {
       "javascript": [
        "$('div#3d47f160-b3ac-4fcb-b481-2ef681798b19').text(' 55%');"
       ],
       "metadata": {},
       "output_type": "display_data",
       "text": [
        "<IPython.core.display.Javascript at 0x132d57b90>"
       ]
      },
      {
       "javascript": [
        "\n",
        "        var $myPB = $(\"div#83664a52-3ef9-422d-aeb6-e0423189cb9e\")\n",
        "        if ($myPB.hasClass('ui-progressbar')) {\n",
        "            $myPB.progressbar('value', 55);\n",
        "        } else {\n",
        "            $myPB.progressbar({value: 0, max: 100});\n",
        "        }\n",
        "        "
       ],
       "metadata": {},
       "output_type": "display_data",
       "text": [
        "<IPython.core.display.Javascript at 0x132d57290>"
       ]
      },
      {
       "javascript": [
        "$('div#5c8e81be-45ea-41c7-8eda-1db0dadcf857').text('ETA:  0:00:40');"
       ],
       "metadata": {},
       "output_type": "display_data",
       "text": [
        "<IPython.core.display.Javascript at 0x132d57310>"
       ]
      },
      {
       "javascript": [
        "$('div#3d47f160-b3ac-4fcb-b481-2ef681798b19').text(' 55%');"
       ],
       "metadata": {},
       "output_type": "display_data",
       "text": [
        "<IPython.core.display.Javascript at 0x13f166790>"
       ]
      },
      {
       "javascript": [
        "\n",
        "        var $myPB = $(\"div#83664a52-3ef9-422d-aeb6-e0423189cb9e\")\n",
        "        if ($myPB.hasClass('ui-progressbar')) {\n",
        "            $myPB.progressbar('value', 55);\n",
        "        } else {\n",
        "            $myPB.progressbar({value: 0, max: 100});\n",
        "        }\n",
        "        "
       ],
       "metadata": {},
       "output_type": "display_data",
       "text": [
        "<IPython.core.display.Javascript at 0x13f1666d0>"
       ]
      },
      {
       "javascript": [
        "$('div#5c8e81be-45ea-41c7-8eda-1db0dadcf857').text('ETA:  0:00:41');"
       ],
       "metadata": {},
       "output_type": "display_data",
       "text": [
        "<IPython.core.display.Javascript at 0x13f166f10>"
       ]
      },
      {
       "javascript": [
        "$('div#3d47f160-b3ac-4fcb-b481-2ef681798b19').text(' 55%');"
       ],
       "metadata": {},
       "output_type": "display_data",
       "text": [
        "<IPython.core.display.Javascript at 0x13f166bd0>"
       ]
      },
      {
       "javascript": [
        "\n",
        "        var $myPB = $(\"div#83664a52-3ef9-422d-aeb6-e0423189cb9e\")\n",
        "        if ($myPB.hasClass('ui-progressbar')) {\n",
        "            $myPB.progressbar('value', 55);\n",
        "        } else {\n",
        "            $myPB.progressbar({value: 0, max: 100});\n",
        "        }\n",
        "        "
       ],
       "metadata": {},
       "output_type": "display_data",
       "text": [
        "<IPython.core.display.Javascript at 0x13f166cd0>"
       ]
      },
      {
       "javascript": [
        "$('div#5c8e81be-45ea-41c7-8eda-1db0dadcf857').text('ETA:  0:00:41');"
       ],
       "metadata": {},
       "output_type": "display_data",
       "text": [
        "<IPython.core.display.Javascript at 0x13f166610>"
       ]
      },
      {
       "javascript": [
        "$('div#3d47f160-b3ac-4fcb-b481-2ef681798b19').text(' 55%');"
       ],
       "metadata": {},
       "output_type": "display_data",
       "text": [
        "<IPython.core.display.Javascript at 0x120f3d090>"
       ]
      },
      {
       "javascript": [
        "\n",
        "        var $myPB = $(\"div#83664a52-3ef9-422d-aeb6-e0423189cb9e\")\n",
        "        if ($myPB.hasClass('ui-progressbar')) {\n",
        "            $myPB.progressbar('value', 55);\n",
        "        } else {\n",
        "            $myPB.progressbar({value: 0, max: 100});\n",
        "        }\n",
        "        "
       ],
       "metadata": {},
       "output_type": "display_data",
       "text": [
        "<IPython.core.display.Javascript at 0x120f3dc90>"
       ]
      },
      {
       "javascript": [
        "$('div#5c8e81be-45ea-41c7-8eda-1db0dadcf857').text('ETA:  0:00:42');"
       ],
       "metadata": {},
       "output_type": "display_data",
       "text": [
        "<IPython.core.display.Javascript at 0x120f3da50>"
       ]
      },
      {
       "javascript": [
        "$('div#3d47f160-b3ac-4fcb-b481-2ef681798b19').text(' 55%');"
       ],
       "metadata": {},
       "output_type": "display_data",
       "text": [
        "<IPython.core.display.Javascript at 0x120f3d8d0>"
       ]
      },
      {
       "javascript": [
        "\n",
        "        var $myPB = $(\"div#83664a52-3ef9-422d-aeb6-e0423189cb9e\")\n",
        "        if ($myPB.hasClass('ui-progressbar')) {\n",
        "            $myPB.progressbar('value', 55);\n",
        "        } else {\n",
        "            $myPB.progressbar({value: 0, max: 100});\n",
        "        }\n",
        "        "
       ],
       "metadata": {},
       "output_type": "display_data",
       "text": [
        "<IPython.core.display.Javascript at 0x120f3de50>"
       ]
      },
      {
       "javascript": [
        "$('div#5c8e81be-45ea-41c7-8eda-1db0dadcf857').text('ETA:  0:00:43');"
       ],
       "metadata": {},
       "output_type": "display_data",
       "text": [
        "<IPython.core.display.Javascript at 0x120f3d990>"
       ]
      },
      {
       "javascript": [
        "$('div#3d47f160-b3ac-4fcb-b481-2ef681798b19').text(' 55%');"
       ],
       "metadata": {},
       "output_type": "display_data",
       "text": [
        "<IPython.core.display.Javascript at 0x120f3da10>"
       ]
      },
      {
       "javascript": [
        "\n",
        "        var $myPB = $(\"div#83664a52-3ef9-422d-aeb6-e0423189cb9e\")\n",
        "        if ($myPB.hasClass('ui-progressbar')) {\n",
        "            $myPB.progressbar('value', 55);\n",
        "        } else {\n",
        "            $myPB.progressbar({value: 0, max: 100});\n",
        "        }\n",
        "        "
       ],
       "metadata": {},
       "output_type": "display_data",
       "text": [
        "<IPython.core.display.Javascript at 0x120f3d650>"
       ]
      },
      {
       "javascript": [
        "$('div#5c8e81be-45ea-41c7-8eda-1db0dadcf857').text('ETA:  0:00:44');"
       ],
       "metadata": {},
       "output_type": "display_data",
       "text": [
        "<IPython.core.display.Javascript at 0x120f3dfd0>"
       ]
      },
      {
       "javascript": [
        "$('div#3d47f160-b3ac-4fcb-b481-2ef681798b19').text(' 55%');"
       ],
       "metadata": {},
       "output_type": "display_data",
       "text": [
        "<IPython.core.display.Javascript at 0x120f3d590>"
       ]
      },
      {
       "javascript": [
        "\n",
        "        var $myPB = $(\"div#83664a52-3ef9-422d-aeb6-e0423189cb9e\")\n",
        "        if ($myPB.hasClass('ui-progressbar')) {\n",
        "            $myPB.progressbar('value', 55);\n",
        "        } else {\n",
        "            $myPB.progressbar({value: 0, max: 100});\n",
        "        }\n",
        "        "
       ],
       "metadata": {},
       "output_type": "display_data",
       "text": [
        "<IPython.core.display.Javascript at 0x120f3d7d0>"
       ]
      },
      {
       "javascript": [
        "$('div#5c8e81be-45ea-41c7-8eda-1db0dadcf857').text('ETA:  0:00:45');"
       ],
       "metadata": {},
       "output_type": "display_data",
       "text": [
        "<IPython.core.display.Javascript at 0x14436d250>"
       ]
      },
      {
       "javascript": [
        "$('div#3d47f160-b3ac-4fcb-b481-2ef681798b19').text(' 55%');"
       ],
       "metadata": {},
       "output_type": "display_data",
       "text": [
        "<IPython.core.display.Javascript at 0x14436d990>"
       ]
      },
      {
       "javascript": [
        "\n",
        "        var $myPB = $(\"div#83664a52-3ef9-422d-aeb6-e0423189cb9e\")\n",
        "        if ($myPB.hasClass('ui-progressbar')) {\n",
        "            $myPB.progressbar('value', 55);\n",
        "        } else {\n",
        "            $myPB.progressbar({value: 0, max: 100});\n",
        "        }\n",
        "        "
       ],
       "metadata": {},
       "output_type": "display_data",
       "text": [
        "<IPython.core.display.Javascript at 0x14436dd90>"
       ]
      },
      {
       "javascript": [
        "$('div#5c8e81be-45ea-41c7-8eda-1db0dadcf857').text('ETA:  0:00:46');"
       ],
       "metadata": {},
       "output_type": "display_data",
       "text": [
        "<IPython.core.display.Javascript at 0x14436d910>"
       ]
      },
      {
       "javascript": [
        "$('div#3d47f160-b3ac-4fcb-b481-2ef681798b19').text(' 55%');"
       ],
       "metadata": {},
       "output_type": "display_data",
       "text": [
        "<IPython.core.display.Javascript at 0x14436db10>"
       ]
      },
      {
       "javascript": [
        "\n",
        "        var $myPB = $(\"div#83664a52-3ef9-422d-aeb6-e0423189cb9e\")\n",
        "        if ($myPB.hasClass('ui-progressbar')) {\n",
        "            $myPB.progressbar('value', 55);\n",
        "        } else {\n",
        "            $myPB.progressbar({value: 0, max: 100});\n",
        "        }\n",
        "        "
       ],
       "metadata": {},
       "output_type": "display_data",
       "text": [
        "<IPython.core.display.Javascript at 0x14436dfd0>"
       ]
      },
      {
       "javascript": [
        "$('div#5c8e81be-45ea-41c7-8eda-1db0dadcf857').text('ETA:  0:00:47');"
       ],
       "metadata": {},
       "output_type": "display_data",
       "text": [
        "<IPython.core.display.Javascript at 0x14436d590>"
       ]
      },
      {
       "javascript": [
        "$('div#3d47f160-b3ac-4fcb-b481-2ef681798b19').text(' 55%');"
       ],
       "metadata": {},
       "output_type": "display_data",
       "text": [
        "<IPython.core.display.Javascript at 0x120f3de90>"
       ]
      },
      {
       "javascript": [
        "\n",
        "        var $myPB = $(\"div#83664a52-3ef9-422d-aeb6-e0423189cb9e\")\n",
        "        if ($myPB.hasClass('ui-progressbar')) {\n",
        "            $myPB.progressbar('value', 55);\n",
        "        } else {\n",
        "            $myPB.progressbar({value: 0, max: 100});\n",
        "        }\n",
        "        "
       ],
       "metadata": {},
       "output_type": "display_data",
       "text": [
        "<IPython.core.display.Javascript at 0x120f3d510>"
       ]
      },
      {
       "javascript": [
        "$('div#5c8e81be-45ea-41c7-8eda-1db0dadcf857').text('ETA:  0:00:48');"
       ],
       "metadata": {},
       "output_type": "display_data",
       "text": [
        "<IPython.core.display.Javascript at 0x120f3de10>"
       ]
      },
      {
       "javascript": [
        "$('div#3d47f160-b3ac-4fcb-b481-2ef681798b19').text(' 55%');"
       ],
       "metadata": {},
       "output_type": "display_data",
       "text": [
        "<IPython.core.display.Javascript at 0x120f3dad0>"
       ]
      },
      {
       "javascript": [
        "\n",
        "        var $myPB = $(\"div#83664a52-3ef9-422d-aeb6-e0423189cb9e\")\n",
        "        if ($myPB.hasClass('ui-progressbar')) {\n",
        "            $myPB.progressbar('value', 55);\n",
        "        } else {\n",
        "            $myPB.progressbar({value: 0, max: 100});\n",
        "        }\n",
        "        "
       ],
       "metadata": {},
       "output_type": "display_data",
       "text": [
        "<IPython.core.display.Javascript at 0x120f3db10>"
       ]
      },
      {
       "javascript": [
        "$('div#5c8e81be-45ea-41c7-8eda-1db0dadcf857').text('ETA:  0:00:48');"
       ],
       "metadata": {},
       "output_type": "display_data",
       "text": [
        "<IPython.core.display.Javascript at 0x120f3df10>"
       ]
      },
      {
       "javascript": [
        "$('div#3d47f160-b3ac-4fcb-b481-2ef681798b19').text(' 55%');"
       ],
       "metadata": {},
       "output_type": "display_data",
       "text": [
        "<IPython.core.display.Javascript at 0x120f3dd10>"
       ]
      },
      {
       "javascript": [
        "\n",
        "        var $myPB = $(\"div#83664a52-3ef9-422d-aeb6-e0423189cb9e\")\n",
        "        if ($myPB.hasClass('ui-progressbar')) {\n",
        "            $myPB.progressbar('value', 55);\n",
        "        } else {\n",
        "            $myPB.progressbar({value: 0, max: 100});\n",
        "        }\n",
        "        "
       ],
       "metadata": {},
       "output_type": "display_data",
       "text": [
        "<IPython.core.display.Javascript at 0x120f3dc10>"
       ]
      },
      {
       "javascript": [
        "$('div#5c8e81be-45ea-41c7-8eda-1db0dadcf857').text('ETA:  0:00:49');"
       ],
       "metadata": {},
       "output_type": "display_data",
       "text": [
        "<IPython.core.display.Javascript at 0x120f3d310>"
       ]
      },
      {
       "javascript": [
        "$('div#3d47f160-b3ac-4fcb-b481-2ef681798b19').text(' 55%');"
       ],
       "metadata": {},
       "output_type": "display_data",
       "text": [
        "<IPython.core.display.Javascript at 0x120f3da90>"
       ]
      },
      {
       "javascript": [
        "\n",
        "        var $myPB = $(\"div#83664a52-3ef9-422d-aeb6-e0423189cb9e\")\n",
        "        if ($myPB.hasClass('ui-progressbar')) {\n",
        "            $myPB.progressbar('value', 55);\n",
        "        } else {\n",
        "            $myPB.progressbar({value: 0, max: 100});\n",
        "        }\n",
        "        "
       ],
       "metadata": {},
       "output_type": "display_data",
       "text": [
        "<IPython.core.display.Javascript at 0x120f3d850>"
       ]
      },
      {
       "javascript": [
        "$('div#5c8e81be-45ea-41c7-8eda-1db0dadcf857').text('ETA:  0:00:50');"
       ],
       "metadata": {},
       "output_type": "display_data",
       "text": [
        "<IPython.core.display.Javascript at 0x120f3dd50>"
       ]
      },
      {
       "javascript": [
        "$('div#3d47f160-b3ac-4fcb-b481-2ef681798b19').text(' 55%');"
       ],
       "metadata": {},
       "output_type": "display_data",
       "text": [
        "<IPython.core.display.Javascript at 0x13f166910>"
       ]
      },
      {
       "javascript": [
        "\n",
        "        var $myPB = $(\"div#83664a52-3ef9-422d-aeb6-e0423189cb9e\")\n",
        "        if ($myPB.hasClass('ui-progressbar')) {\n",
        "            $myPB.progressbar('value', 55);\n",
        "        } else {\n",
        "            $myPB.progressbar({value: 0, max: 100});\n",
        "        }\n",
        "        "
       ],
       "metadata": {},
       "output_type": "display_data",
       "text": [
        "<IPython.core.display.Javascript at 0x13f166d50>"
       ]
      },
      {
       "javascript": [
        "$('div#5c8e81be-45ea-41c7-8eda-1db0dadcf857').text('ETA:  0:00:51');"
       ],
       "metadata": {},
       "output_type": "display_data",
       "text": [
        "<IPython.core.display.Javascript at 0x13f166990>"
       ]
      },
      {
       "javascript": [
        "$('div#3d47f160-b3ac-4fcb-b481-2ef681798b19').text(' 55%');"
       ],
       "metadata": {},
       "output_type": "display_data",
       "text": [
        "<IPython.core.display.Javascript at 0x132d57610>"
       ]
      },
      {
       "javascript": [
        "\n",
        "        var $myPB = $(\"div#83664a52-3ef9-422d-aeb6-e0423189cb9e\")\n",
        "        if ($myPB.hasClass('ui-progressbar')) {\n",
        "            $myPB.progressbar('value', 55);\n",
        "        } else {\n",
        "            $myPB.progressbar({value: 0, max: 100});\n",
        "        }\n",
        "        "
       ],
       "metadata": {},
       "output_type": "display_data",
       "text": [
        "<IPython.core.display.Javascript at 0x132d57190>"
       ]
      },
      {
       "javascript": [
        "$('div#5c8e81be-45ea-41c7-8eda-1db0dadcf857').text('ETA:  0:00:52');"
       ],
       "metadata": {},
       "output_type": "display_data",
       "text": [
        "<IPython.core.display.Javascript at 0x132d57910>"
       ]
      },
      {
       "javascript": [
        "$('div#3d47f160-b3ac-4fcb-b481-2ef681798b19').text(' 55%');"
       ],
       "metadata": {},
       "output_type": "display_data",
       "text": [
        "<IPython.core.display.Javascript at 0x132d57d50>"
       ]
      },
      {
       "javascript": [
        "\n",
        "        var $myPB = $(\"div#83664a52-3ef9-422d-aeb6-e0423189cb9e\")\n",
        "        if ($myPB.hasClass('ui-progressbar')) {\n",
        "            $myPB.progressbar('value', 55);\n",
        "        } else {\n",
        "            $myPB.progressbar({value: 0, max: 100});\n",
        "        }\n",
        "        "
       ],
       "metadata": {},
       "output_type": "display_data",
       "text": [
        "<IPython.core.display.Javascript at 0x132d57cd0>"
       ]
      },
      {
       "javascript": [
        "$('div#5c8e81be-45ea-41c7-8eda-1db0dadcf857').text('ETA:  0:00:53');"
       ],
       "metadata": {},
       "output_type": "display_data",
       "text": [
        "<IPython.core.display.Javascript at 0x132d57fd0>"
       ]
      },
      {
       "javascript": [
        "$('div#3d47f160-b3ac-4fcb-b481-2ef681798b19').text(' 55%');"
       ],
       "metadata": {},
       "output_type": "display_data",
       "text": [
        "<IPython.core.display.Javascript at 0x132d57c10>"
       ]
      },
      {
       "javascript": [
        "\n",
        "        var $myPB = $(\"div#83664a52-3ef9-422d-aeb6-e0423189cb9e\")\n",
        "        if ($myPB.hasClass('ui-progressbar')) {\n",
        "            $myPB.progressbar('value', 55);\n",
        "        } else {\n",
        "            $myPB.progressbar({value: 0, max: 100});\n",
        "        }\n",
        "        "
       ],
       "metadata": {},
       "output_type": "display_data",
       "text": [
        "<IPython.core.display.Javascript at 0x132d57ad0>"
       ]
      },
      {
       "javascript": [
        "$('div#5c8e81be-45ea-41c7-8eda-1db0dadcf857').text('ETA:  0:00:54');"
       ],
       "metadata": {},
       "output_type": "display_data",
       "text": [
        "<IPython.core.display.Javascript at 0x132d57590>"
       ]
      },
      {
       "javascript": [
        "$('div#3d47f160-b3ac-4fcb-b481-2ef681798b19').text(' 55%');"
       ],
       "metadata": {},
       "output_type": "display_data",
       "text": [
        "<IPython.core.display.Javascript at 0x132d57a10>"
       ]
      },
      {
       "javascript": [
        "\n",
        "        var $myPB = $(\"div#83664a52-3ef9-422d-aeb6-e0423189cb9e\")\n",
        "        if ($myPB.hasClass('ui-progressbar')) {\n",
        "            $myPB.progressbar('value', 55);\n",
        "        } else {\n",
        "            $myPB.progressbar({value: 0, max: 100});\n",
        "        }\n",
        "        "
       ],
       "metadata": {},
       "output_type": "display_data",
       "text": [
        "<IPython.core.display.Javascript at 0x132d57890>"
       ]
      },
      {
       "javascript": [
        "$('div#5c8e81be-45ea-41c7-8eda-1db0dadcf857').text('ETA:  0:00:54');"
       ],
       "metadata": {},
       "output_type": "display_data",
       "text": [
        "<IPython.core.display.Javascript at 0x1298cf050>"
       ]
      },
      {
       "javascript": [
        "$('div#3d47f160-b3ac-4fcb-b481-2ef681798b19').text(' 55%');"
       ],
       "metadata": {},
       "output_type": "display_data",
       "text": [
        "<IPython.core.display.Javascript at 0x14436db10>"
       ]
      },
      {
       "javascript": [
        "\n",
        "        var $myPB = $(\"div#83664a52-3ef9-422d-aeb6-e0423189cb9e\")\n",
        "        if ($myPB.hasClass('ui-progressbar')) {\n",
        "            $myPB.progressbar('value', 55);\n",
        "        } else {\n",
        "            $myPB.progressbar({value: 0, max: 100});\n",
        "        }\n",
        "        "
       ],
       "metadata": {},
       "output_type": "display_data",
       "text": [
        "<IPython.core.display.Javascript at 0x14436de50>"
       ]
      },
      {
       "javascript": [
        "$('div#5c8e81be-45ea-41c7-8eda-1db0dadcf857').text('ETA:  0:00:55');"
       ],
       "metadata": {},
       "output_type": "display_data",
       "text": [
        "<IPython.core.display.Javascript at 0x14436d710>"
       ]
      },
      {
       "javascript": [
        "$('div#3d47f160-b3ac-4fcb-b481-2ef681798b19').text(' 55%');"
       ],
       "metadata": {},
       "output_type": "display_data",
       "text": [
        "<IPython.core.display.Javascript at 0x14436d910>"
       ]
      },
      {
       "javascript": [
        "\n",
        "        var $myPB = $(\"div#83664a52-3ef9-422d-aeb6-e0423189cb9e\")\n",
        "        if ($myPB.hasClass('ui-progressbar')) {\n",
        "            $myPB.progressbar('value', 55);\n",
        "        } else {\n",
        "            $myPB.progressbar({value: 0, max: 100});\n",
        "        }\n",
        "        "
       ],
       "metadata": {},
       "output_type": "display_data",
       "text": [
        "<IPython.core.display.Javascript at 0x14436dd90>"
       ]
      },
      {
       "javascript": [
        "$('div#5c8e81be-45ea-41c7-8eda-1db0dadcf857').text('ETA:  0:00:56');"
       ],
       "metadata": {},
       "output_type": "display_data",
       "text": [
        "<IPython.core.display.Javascript at 0x14436d990>"
       ]
      },
      {
       "javascript": [
        "$('div#3d47f160-b3ac-4fcb-b481-2ef681798b19').text(' 55%');"
       ],
       "metadata": {},
       "output_type": "display_data",
       "text": [
        "<IPython.core.display.Javascript at 0x14436d250>"
       ]
      },
      {
       "javascript": [
        "\n",
        "        var $myPB = $(\"div#83664a52-3ef9-422d-aeb6-e0423189cb9e\")\n",
        "        if ($myPB.hasClass('ui-progressbar')) {\n",
        "            $myPB.progressbar('value', 55);\n",
        "        } else {\n",
        "            $myPB.progressbar({value: 0, max: 100});\n",
        "        }\n",
        "        "
       ],
       "metadata": {},
       "output_type": "display_data",
       "text": [
        "<IPython.core.display.Javascript at 0x14436d850>"
       ]
      },
      {
       "javascript": [
        "$('div#5c8e81be-45ea-41c7-8eda-1db0dadcf857').text('ETA:  0:00:57');"
       ],
       "metadata": {},
       "output_type": "display_data",
       "text": [
        "<IPython.core.display.Javascript at 0x14436d1d0>"
       ]
      },
      {
       "javascript": [
        "$('div#3d47f160-b3ac-4fcb-b481-2ef681798b19').text(' 55%');"
       ],
       "metadata": {},
       "output_type": "display_data",
       "text": [
        "<IPython.core.display.Javascript at 0x132d57450>"
       ]
      },
      {
       "javascript": [
        "\n",
        "        var $myPB = $(\"div#83664a52-3ef9-422d-aeb6-e0423189cb9e\")\n",
        "        if ($myPB.hasClass('ui-progressbar')) {\n",
        "            $myPB.progressbar('value', 55);\n",
        "        } else {\n",
        "            $myPB.progressbar({value: 0, max: 100});\n",
        "        }\n",
        "        "
       ],
       "metadata": {},
       "output_type": "display_data",
       "text": [
        "<IPython.core.display.Javascript at 0x132d57050>"
       ]
      },
      {
       "javascript": [
        "$('div#5c8e81be-45ea-41c7-8eda-1db0dadcf857').text('ETA:  0:00:58');"
       ],
       "metadata": {},
       "output_type": "display_data",
       "text": [
        "<IPython.core.display.Javascript at 0x132d57250>"
       ]
      },
      {
       "javascript": [
        "$('div#3d47f160-b3ac-4fcb-b481-2ef681798b19').text(' 55%');"
       ],
       "metadata": {},
       "output_type": "display_data",
       "text": [
        "<IPython.core.display.Javascript at 0x132d57e10>"
       ]
      },
      {
       "javascript": [
        "\n",
        "        var $myPB = $(\"div#83664a52-3ef9-422d-aeb6-e0423189cb9e\")\n",
        "        if ($myPB.hasClass('ui-progressbar')) {\n",
        "            $myPB.progressbar('value', 55);\n",
        "        } else {\n",
        "            $myPB.progressbar({value: 0, max: 100});\n",
        "        }\n",
        "        "
       ],
       "metadata": {},
       "output_type": "display_data",
       "text": [
        "<IPython.core.display.Javascript at 0x132d57810>"
       ]
      },
      {
       "javascript": [
        "$('div#5c8e81be-45ea-41c7-8eda-1db0dadcf857').text('ETA:  0:00:59');"
       ],
       "metadata": {},
       "output_type": "display_data",
       "text": [
        "<IPython.core.display.Javascript at 0x132d57c90>"
       ]
      },
      {
       "javascript": [
        "$('div#3d47f160-b3ac-4fcb-b481-2ef681798b19').text(' 55%');"
       ],
       "metadata": {},
       "output_type": "display_data",
       "text": [
        "<IPython.core.display.Javascript at 0x132d57bd0>"
       ]
      },
      {
       "javascript": [
        "\n",
        "        var $myPB = $(\"div#83664a52-3ef9-422d-aeb6-e0423189cb9e\")\n",
        "        if ($myPB.hasClass('ui-progressbar')) {\n",
        "            $myPB.progressbar('value', 55);\n",
        "        } else {\n",
        "            $myPB.progressbar({value: 0, max: 100});\n",
        "        }\n",
        "        "
       ],
       "metadata": {},
       "output_type": "display_data",
       "text": [
        "<IPython.core.display.Javascript at 0x132d57290>"
       ]
      },
      {
       "javascript": [
        "$('div#5c8e81be-45ea-41c7-8eda-1db0dadcf857').text('ETA:  0:01:00');"
       ],
       "metadata": {},
       "output_type": "display_data",
       "text": [
        "<IPython.core.display.Javascript at 0x132d578d0>"
       ]
      },
      {
       "javascript": [
        "$('div#3d47f160-b3ac-4fcb-b481-2ef681798b19').text(' 55%');"
       ],
       "metadata": {},
       "output_type": "display_data",
       "text": [
        "<IPython.core.display.Javascript at 0x13f166190>"
       ]
      },
      {
       "javascript": [
        "\n",
        "        var $myPB = $(\"div#83664a52-3ef9-422d-aeb6-e0423189cb9e\")\n",
        "        if ($myPB.hasClass('ui-progressbar')) {\n",
        "            $myPB.progressbar('value', 55);\n",
        "        } else {\n",
        "            $myPB.progressbar({value: 0, max: 100});\n",
        "        }\n",
        "        "
       ],
       "metadata": {},
       "output_type": "display_data",
       "text": [
        "<IPython.core.display.Javascript at 0x13f166f10>"
       ]
      },
      {
       "javascript": [
        "$('div#5c8e81be-45ea-41c7-8eda-1db0dadcf857').text('ETA:  0:01:01');"
       ],
       "metadata": {},
       "output_type": "display_data",
       "text": [
        "<IPython.core.display.Javascript at 0x13f166b50>"
       ]
      },
      {
       "javascript": [
        "$('div#3d47f160-b3ac-4fcb-b481-2ef681798b19').text(' 55%');"
       ],
       "metadata": {},
       "output_type": "display_data",
       "text": [
        "<IPython.core.display.Javascript at 0x13f166210>"
       ]
      },
      {
       "javascript": [
        "\n",
        "        var $myPB = $(\"div#83664a52-3ef9-422d-aeb6-e0423189cb9e\")\n",
        "        if ($myPB.hasClass('ui-progressbar')) {\n",
        "            $myPB.progressbar('value', 55);\n",
        "        } else {\n",
        "            $myPB.progressbar({value: 0, max: 100});\n",
        "        }\n",
        "        "
       ],
       "metadata": {},
       "output_type": "display_data",
       "text": [
        "<IPython.core.display.Javascript at 0x126801590>"
       ]
      },
      {
       "javascript": [
        "$('div#5c8e81be-45ea-41c7-8eda-1db0dadcf857').text('ETA:  0:01:01');"
       ],
       "metadata": {},
       "output_type": "display_data",
       "text": [
        "<IPython.core.display.Javascript at 0x1268015d0>"
       ]
      },
      {
       "javascript": [
        "$('div#3d47f160-b3ac-4fcb-b481-2ef681798b19').text(' 55%');"
       ],
       "metadata": {},
       "output_type": "display_data",
       "text": [
        "<IPython.core.display.Javascript at 0x120f3d110>"
       ]
      },
      {
       "javascript": [
        "\n",
        "        var $myPB = $(\"div#83664a52-3ef9-422d-aeb6-e0423189cb9e\")\n",
        "        if ($myPB.hasClass('ui-progressbar')) {\n",
        "            $myPB.progressbar('value', 55);\n",
        "        } else {\n",
        "            $myPB.progressbar({value: 0, max: 100});\n",
        "        }\n",
        "        "
       ],
       "metadata": {},
       "output_type": "display_data",
       "text": [
        "<IPython.core.display.Javascript at 0x120f3d3d0>"
       ]
      },
      {
       "javascript": [
        "$('div#5c8e81be-45ea-41c7-8eda-1db0dadcf857').text('ETA:  0:01:02');"
       ],
       "metadata": {},
       "output_type": "display_data",
       "text": [
        "<IPython.core.display.Javascript at 0x120f3d1d0>"
       ]
      },
      {
       "javascript": [
        "$('div#3d47f160-b3ac-4fcb-b481-2ef681798b19').text(' 55%');"
       ],
       "metadata": {},
       "output_type": "display_data",
       "text": [
        "<IPython.core.display.Javascript at 0x120f3d390>"
       ]
      },
      {
       "javascript": [
        "\n",
        "        var $myPB = $(\"div#83664a52-3ef9-422d-aeb6-e0423189cb9e\")\n",
        "        if ($myPB.hasClass('ui-progressbar')) {\n",
        "            $myPB.progressbar('value', 55);\n",
        "        } else {\n",
        "            $myPB.progressbar({value: 0, max: 100});\n",
        "        }\n",
        "        "
       ],
       "metadata": {},
       "output_type": "display_data",
       "text": [
        "<IPython.core.display.Javascript at 0x120f3d790>"
       ]
      },
      {
       "javascript": [
        "$('div#5c8e81be-45ea-41c7-8eda-1db0dadcf857').text('ETA:  0:01:03');"
       ],
       "metadata": {},
       "output_type": "display_data",
       "text": [
        "<IPython.core.display.Javascript at 0x120f3dc50>"
       ]
      },
      {
       "javascript": [
        "$('div#3d47f160-b3ac-4fcb-b481-2ef681798b19').text(' 55%');"
       ],
       "metadata": {},
       "output_type": "display_data",
       "text": [
        "<IPython.core.display.Javascript at 0x120f3d250>"
       ]
      },
      {
       "javascript": [
        "\n",
        "        var $myPB = $(\"div#83664a52-3ef9-422d-aeb6-e0423189cb9e\")\n",
        "        if ($myPB.hasClass('ui-progressbar')) {\n",
        "            $myPB.progressbar('value', 55);\n",
        "        } else {\n",
        "            $myPB.progressbar({value: 0, max: 100});\n",
        "        }\n",
        "        "
       ],
       "metadata": {},
       "output_type": "display_data",
       "text": [
        "<IPython.core.display.Javascript at 0x120f3d490>"
       ]
      },
      {
       "javascript": [
        "$('div#5c8e81be-45ea-41c7-8eda-1db0dadcf857').text('ETA:  0:01:04');"
       ],
       "metadata": {},
       "output_type": "display_data",
       "text": [
        "<IPython.core.display.Javascript at 0x120f3d410>"
       ]
      },
      {
       "javascript": [
        "$('div#3d47f160-b3ac-4fcb-b481-2ef681798b19').text(' 55%');"
       ],
       "metadata": {},
       "output_type": "display_data",
       "text": [
        "<IPython.core.display.Javascript at 0x14436d510>"
       ]
      },
      {
       "javascript": [
        "\n",
        "        var $myPB = $(\"div#83664a52-3ef9-422d-aeb6-e0423189cb9e\")\n",
        "        if ($myPB.hasClass('ui-progressbar')) {\n",
        "            $myPB.progressbar('value', 55);\n",
        "        } else {\n",
        "            $myPB.progressbar({value: 0, max: 100});\n",
        "        }\n",
        "        "
       ],
       "metadata": {},
       "output_type": "display_data",
       "text": [
        "<IPython.core.display.Javascript at 0x14436dd50>"
       ]
      },
      {
       "javascript": [
        "$('div#5c8e81be-45ea-41c7-8eda-1db0dadcf857').text('ETA:  0:01:05');"
       ],
       "metadata": {},
       "output_type": "display_data",
       "text": [
        "<IPython.core.display.Javascript at 0x14436d110>"
       ]
      },
      {
       "javascript": [
        "$('div#3d47f160-b3ac-4fcb-b481-2ef681798b19').text(' 55%');"
       ],
       "metadata": {},
       "output_type": "display_data",
       "text": [
        "<IPython.core.display.Javascript at 0x14436de90>"
       ]
      },
      {
       "javascript": [
        "\n",
        "        var $myPB = $(\"div#83664a52-3ef9-422d-aeb6-e0423189cb9e\")\n",
        "        if ($myPB.hasClass('ui-progressbar')) {\n",
        "            $myPB.progressbar('value', 55);\n",
        "        } else {\n",
        "            $myPB.progressbar({value: 0, max: 100});\n",
        "        }\n",
        "        "
       ],
       "metadata": {},
       "output_type": "display_data",
       "text": [
        "<IPython.core.display.Javascript at 0x14436d410>"
       ]
      },
      {
       "javascript": [
        "$('div#5c8e81be-45ea-41c7-8eda-1db0dadcf857').text('ETA:  0:01:06');"
       ],
       "metadata": {},
       "output_type": "display_data",
       "text": [
        "<IPython.core.display.Javascript at 0x14436d650>"
       ]
      },
      {
       "javascript": [
        "$('div#3d47f160-b3ac-4fcb-b481-2ef681798b19').text(' 55%');"
       ],
       "metadata": {},
       "output_type": "display_data",
       "text": [
        "<IPython.core.display.Javascript at 0x14436d950>"
       ]
      },
      {
       "javascript": [
        "\n",
        "        var $myPB = $(\"div#83664a52-3ef9-422d-aeb6-e0423189cb9e\")\n",
        "        if ($myPB.hasClass('ui-progressbar')) {\n",
        "            $myPB.progressbar('value', 55);\n",
        "        } else {\n",
        "            $myPB.progressbar({value: 0, max: 100});\n",
        "        }\n",
        "        "
       ],
       "metadata": {},
       "output_type": "display_data",
       "text": [
        "<IPython.core.display.Javascript at 0x14436d290>"
       ]
      },
      {
       "javascript": [
        "$('div#5c8e81be-45ea-41c7-8eda-1db0dadcf857').text('ETA:  0:01:07');"
       ],
       "metadata": {},
       "output_type": "display_data",
       "text": [
        "<IPython.core.display.Javascript at 0x14436d890>"
       ]
      },
      {
       "javascript": [
        "$('div#3d47f160-b3ac-4fcb-b481-2ef681798b19').text(' 55%');"
       ],
       "metadata": {},
       "output_type": "display_data",
       "text": [
        "<IPython.core.display.Javascript at 0x14436dc90>"
       ]
      },
      {
       "javascript": [
        "\n",
        "        var $myPB = $(\"div#83664a52-3ef9-422d-aeb6-e0423189cb9e\")\n",
        "        if ($myPB.hasClass('ui-progressbar')) {\n",
        "            $myPB.progressbar('value', 55);\n",
        "        } else {\n",
        "            $myPB.progressbar({value: 0, max: 100});\n",
        "        }\n",
        "        "
       ],
       "metadata": {},
       "output_type": "display_data",
       "text": [
        "<IPython.core.display.Javascript at 0x14436dc90>"
       ]
      },
      {
       "javascript": [
        "$('div#5c8e81be-45ea-41c7-8eda-1db0dadcf857').text('ETA:  0:01:07');"
       ],
       "metadata": {},
       "output_type": "display_data",
       "text": [
        "<IPython.core.display.Javascript at 0x14436d790>"
       ]
      },
      {
       "javascript": [
        "$('div#3d47f160-b3ac-4fcb-b481-2ef681798b19').text(' 55%');"
       ],
       "metadata": {},
       "output_type": "display_data",
       "text": [
        "<IPython.core.display.Javascript at 0x14436dfd0>"
       ]
      },
      {
       "javascript": [
        "\n",
        "        var $myPB = $(\"div#83664a52-3ef9-422d-aeb6-e0423189cb9e\")\n",
        "        if ($myPB.hasClass('ui-progressbar')) {\n",
        "            $myPB.progressbar('value', 55);\n",
        "        } else {\n",
        "            $myPB.progressbar({value: 0, max: 100});\n",
        "        }\n",
        "        "
       ],
       "metadata": {},
       "output_type": "display_data",
       "text": [
        "<IPython.core.display.Javascript at 0x14436db10>"
       ]
      },
      {
       "javascript": [
        "$('div#5c8e81be-45ea-41c7-8eda-1db0dadcf857').text('ETA:  0:01:08');"
       ],
       "metadata": {},
       "output_type": "display_data",
       "text": [
        "<IPython.core.display.Javascript at 0x14436d590>"
       ]
      },
      {
       "javascript": [
        "$('div#3d47f160-b3ac-4fcb-b481-2ef681798b19').text(' 55%');"
       ],
       "metadata": {},
       "output_type": "display_data",
       "text": [
        "<IPython.core.display.Javascript at 0x14436dd90>"
       ]
      },
      {
       "javascript": [
        "\n",
        "        var $myPB = $(\"div#83664a52-3ef9-422d-aeb6-e0423189cb9e\")\n",
        "        if ($myPB.hasClass('ui-progressbar')) {\n",
        "            $myPB.progressbar('value', 55);\n",
        "        } else {\n",
        "            $myPB.progressbar({value: 0, max: 100});\n",
        "        }\n",
        "        "
       ],
       "metadata": {},
       "output_type": "display_data",
       "text": [
        "<IPython.core.display.Javascript at 0x14436d910>"
       ]
      },
      {
       "javascript": [
        "$('div#5c8e81be-45ea-41c7-8eda-1db0dadcf857').text('ETA:  0:01:09');"
       ],
       "metadata": {},
       "output_type": "display_data",
       "text": [
        "<IPython.core.display.Javascript at 0x14436d390>"
       ]
      },
      {
       "javascript": [
        "$('div#3d47f160-b3ac-4fcb-b481-2ef681798b19').text(' 55%');"
       ],
       "metadata": {},
       "output_type": "display_data",
       "text": [
        "<IPython.core.display.Javascript at 0x14436d550>"
       ]
      },
      {
       "javascript": [
        "\n",
        "        var $myPB = $(\"div#83664a52-3ef9-422d-aeb6-e0423189cb9e\")\n",
        "        if ($myPB.hasClass('ui-progressbar')) {\n",
        "            $myPB.progressbar('value', 55);\n",
        "        } else {\n",
        "            $myPB.progressbar({value: 0, max: 100});\n",
        "        }\n",
        "        "
       ],
       "metadata": {},
       "output_type": "display_data",
       "text": [
        "<IPython.core.display.Javascript at 0x14436d850>"
       ]
      },
      {
       "javascript": [
        "$('div#5c8e81be-45ea-41c7-8eda-1db0dadcf857').text('ETA:  0:01:10');"
       ],
       "metadata": {},
       "output_type": "display_data",
       "text": [
        "<IPython.core.display.Javascript at 0x14436d3d0>"
       ]
      },
      {
       "javascript": [
        "$('div#3d47f160-b3ac-4fcb-b481-2ef681798b19').text(' 56%');"
       ],
       "metadata": {},
       "output_type": "display_data",
       "text": [
        "<IPython.core.display.Javascript at 0x120f3de10>"
       ]
      },
      {
       "javascript": [
        "\n",
        "        var $myPB = $(\"div#83664a52-3ef9-422d-aeb6-e0423189cb9e\")\n",
        "        if ($myPB.hasClass('ui-progressbar')) {\n",
        "            $myPB.progressbar('value', 56);\n",
        "        } else {\n",
        "            $myPB.progressbar({value: 0, max: 100});\n",
        "        }\n",
        "        "
       ],
       "metadata": {},
       "output_type": "display_data",
       "text": [
        "<IPython.core.display.Javascript at 0x120f3d9d0>"
       ]
      },
      {
       "javascript": [
        "$('div#5c8e81be-45ea-41c7-8eda-1db0dadcf857').text('ETA:  0:01:08');"
       ],
       "metadata": {},
       "output_type": "display_data",
       "text": [
        "<IPython.core.display.Javascript at 0x120f3d210>"
       ]
      },
      {
       "javascript": [
        "$('div#3d47f160-b3ac-4fcb-b481-2ef681798b19').text(' 56%');"
       ],
       "metadata": {},
       "output_type": "display_data",
       "text": [
        "<IPython.core.display.Javascript at 0x120f3ddd0>"
       ]
      },
      {
       "javascript": [
        "\n",
        "        var $myPB = $(\"div#83664a52-3ef9-422d-aeb6-e0423189cb9e\")\n",
        "        if ($myPB.hasClass('ui-progressbar')) {\n",
        "            $myPB.progressbar('value', 56);\n",
        "        } else {\n",
        "            $myPB.progressbar({value: 0, max: 100});\n",
        "        }\n",
        "        "
       ],
       "metadata": {},
       "output_type": "display_data",
       "text": [
        "<IPython.core.display.Javascript at 0x120f3d350>"
       ]
      },
      {
       "javascript": [
        "$('div#5c8e81be-45ea-41c7-8eda-1db0dadcf857').text('ETA:  0:01:09');"
       ],
       "metadata": {},
       "output_type": "display_data",
       "text": [
        "<IPython.core.display.Javascript at 0x120f3db50>"
       ]
      },
      {
       "javascript": [
        "$('div#3d47f160-b3ac-4fcb-b481-2ef681798b19').text(' 56%');"
       ],
       "metadata": {},
       "output_type": "display_data",
       "text": [
        "<IPython.core.display.Javascript at 0x120f3d750>"
       ]
      },
      {
       "javascript": [
        "\n",
        "        var $myPB = $(\"div#83664a52-3ef9-422d-aeb6-e0423189cb9e\")\n",
        "        if ($myPB.hasClass('ui-progressbar')) {\n",
        "            $myPB.progressbar('value', 56);\n",
        "        } else {\n",
        "            $myPB.progressbar({value: 0, max: 100});\n",
        "        }\n",
        "        "
       ],
       "metadata": {},
       "output_type": "display_data",
       "text": [
        "<IPython.core.display.Javascript at 0x120f3df50>"
       ]
      },
      {
       "javascript": [
        "$('div#5c8e81be-45ea-41c7-8eda-1db0dadcf857').text('ETA:  0:01:10');"
       ],
       "metadata": {},
       "output_type": "display_data",
       "text": [
        "<IPython.core.display.Javascript at 0x120f3dc10>"
       ]
      },
      {
       "javascript": [
        "$('div#3d47f160-b3ac-4fcb-b481-2ef681798b19').text(' 56%');"
       ],
       "metadata": {},
       "output_type": "display_data",
       "text": [
        "<IPython.core.display.Javascript at 0x120f3d950>"
       ]
      },
      {
       "javascript": [
        "\n",
        "        var $myPB = $(\"div#83664a52-3ef9-422d-aeb6-e0423189cb9e\")\n",
        "        if ($myPB.hasClass('ui-progressbar')) {\n",
        "            $myPB.progressbar('value', 56);\n",
        "        } else {\n",
        "            $myPB.progressbar({value: 0, max: 100});\n",
        "        }\n",
        "        "
       ],
       "metadata": {},
       "output_type": "display_data",
       "text": [
        "<IPython.core.display.Javascript at 0x120f3dd50>"
       ]
      },
      {
       "javascript": [
        "$('div#5c8e81be-45ea-41c7-8eda-1db0dadcf857').text('ETA:  0:01:10');"
       ],
       "metadata": {},
       "output_type": "display_data",
       "text": [
        "<IPython.core.display.Javascript at 0x120f3da90>"
       ]
      },
      {
       "javascript": [
        "$('div#3d47f160-b3ac-4fcb-b481-2ef681798b19').text(' 56%');"
       ],
       "metadata": {},
       "output_type": "display_data",
       "text": [
        "<IPython.core.display.Javascript at 0x13f166990>"
       ]
      },
      {
       "javascript": [
        "\n",
        "        var $myPB = $(\"div#83664a52-3ef9-422d-aeb6-e0423189cb9e\")\n",
        "        if ($myPB.hasClass('ui-progressbar')) {\n",
        "            $myPB.progressbar('value', 56);\n",
        "        } else {\n",
        "            $myPB.progressbar({value: 0, max: 100});\n",
        "        }\n",
        "        "
       ],
       "metadata": {},
       "output_type": "display_data",
       "text": [
        "<IPython.core.display.Javascript at 0x13f166a10>"
       ]
      },
      {
       "javascript": [
        "$('div#5c8e81be-45ea-41c7-8eda-1db0dadcf857').text('ETA:  0:01:11');"
       ],
       "metadata": {},
       "output_type": "display_data",
       "text": [
        "<IPython.core.display.Javascript at 0x13f1668d0>"
       ]
      },
      {
       "javascript": [
        "$('div#3d47f160-b3ac-4fcb-b481-2ef681798b19').text(' 57%');"
       ],
       "metadata": {},
       "output_type": "display_data",
       "text": [
        "<IPython.core.display.Javascript at 0x13f166490>"
       ]
      },
      {
       "javascript": [
        "\n",
        "        var $myPB = $(\"div#83664a52-3ef9-422d-aeb6-e0423189cb9e\")\n",
        "        if ($myPB.hasClass('ui-progressbar')) {\n",
        "            $myPB.progressbar('value', 57);\n",
        "        } else {\n",
        "            $myPB.progressbar({value: 0, max: 100});\n",
        "        }\n",
        "        "
       ],
       "metadata": {},
       "output_type": "display_data",
       "text": [
        "<IPython.core.display.Javascript at 0x13f166590>"
       ]
      },
      {
       "javascript": [
        "$('div#5c8e81be-45ea-41c7-8eda-1db0dadcf857').text('ETA:  0:01:09');"
       ],
       "metadata": {},
       "output_type": "display_data",
       "text": [
        "<IPython.core.display.Javascript at 0x13f166a90>"
       ]
      },
      {
       "javascript": [
        "$('div#3d47f160-b3ac-4fcb-b481-2ef681798b19').text(' 57%');"
       ],
       "metadata": {},
       "output_type": "display_data",
       "text": [
        "<IPython.core.display.Javascript at 0x132d573d0>"
       ]
      },
      {
       "javascript": [
        "\n",
        "        var $myPB = $(\"div#83664a52-3ef9-422d-aeb6-e0423189cb9e\")\n",
        "        if ($myPB.hasClass('ui-progressbar')) {\n",
        "            $myPB.progressbar('value', 57);\n",
        "        } else {\n",
        "            $myPB.progressbar({value: 0, max: 100});\n",
        "        }\n",
        "        "
       ],
       "metadata": {},
       "output_type": "display_data",
       "text": [
        "<IPython.core.display.Javascript at 0x132d57dd0>"
       ]
      },
      {
       "javascript": [
        "$('div#5c8e81be-45ea-41c7-8eda-1db0dadcf857').text('ETA:  0:01:10');"
       ],
       "metadata": {},
       "output_type": "display_data",
       "text": [
        "<IPython.core.display.Javascript at 0x132d57650>"
       ]
      },
      {
       "javascript": [
        "$('div#3d47f160-b3ac-4fcb-b481-2ef681798b19').text(' 57%');"
       ],
       "metadata": {},
       "output_type": "display_data",
       "text": [
        "<IPython.core.display.Javascript at 0x132d57a90>"
       ]
      },
      {
       "javascript": [
        "\n",
        "        var $myPB = $(\"div#83664a52-3ef9-422d-aeb6-e0423189cb9e\")\n",
        "        if ($myPB.hasClass('ui-progressbar')) {\n",
        "            $myPB.progressbar('value', 57);\n",
        "        } else {\n",
        "            $myPB.progressbar({value: 0, max: 100});\n",
        "        }\n",
        "        "
       ],
       "metadata": {},
       "output_type": "display_data",
       "text": [
        "<IPython.core.display.Javascript at 0x132d574d0>"
       ]
      },
      {
       "javascript": [
        "$('div#5c8e81be-45ea-41c7-8eda-1db0dadcf857').text('ETA:  0:01:11');"
       ],
       "metadata": {},
       "output_type": "display_data",
       "text": [
        "<IPython.core.display.Javascript at 0x132d57d10>"
       ]
      },
      {
       "javascript": [
        "$('div#3d47f160-b3ac-4fcb-b481-2ef681798b19').text(' 58%');"
       ],
       "metadata": {},
       "output_type": "display_data",
       "text": [
        "<IPython.core.display.Javascript at 0x132d57510>"
       ]
      },
      {
       "javascript": [
        "\n",
        "        var $myPB = $(\"div#83664a52-3ef9-422d-aeb6-e0423189cb9e\")\n",
        "        if ($myPB.hasClass('ui-progressbar')) {\n",
        "            $myPB.progressbar('value', 58);\n",
        "        } else {\n",
        "            $myPB.progressbar({value: 0, max: 100});\n",
        "        }\n",
        "        "
       ],
       "metadata": {},
       "output_type": "display_data",
       "text": [
        "<IPython.core.display.Javascript at 0x132d572d0>"
       ]
      },
      {
       "javascript": [
        "$('div#5c8e81be-45ea-41c7-8eda-1db0dadcf857').text('ETA:  0:01:08');"
       ],
       "metadata": {},
       "output_type": "display_data",
       "text": [
        "<IPython.core.display.Javascript at 0x13f166050>"
       ]
      },
      {
       "javascript": [
        "$('div#3d47f160-b3ac-4fcb-b481-2ef681798b19').text(' 58%');"
       ],
       "metadata": {},
       "output_type": "display_data",
       "text": [
        "<IPython.core.display.Javascript at 0x13f166a10>"
       ]
      },
      {
       "javascript": [
        "\n",
        "        var $myPB = $(\"div#83664a52-3ef9-422d-aeb6-e0423189cb9e\")\n",
        "        if ($myPB.hasClass('ui-progressbar')) {\n",
        "            $myPB.progressbar('value', 58);\n",
        "        } else {\n",
        "            $myPB.progressbar({value: 0, max: 100});\n",
        "        }\n",
        "        "
       ],
       "metadata": {},
       "output_type": "display_data",
       "text": [
        "<IPython.core.display.Javascript at 0x13f166990>"
       ]
      },
      {
       "javascript": [
        "$('div#5c8e81be-45ea-41c7-8eda-1db0dadcf857').text('ETA:  0:01:09');"
       ],
       "metadata": {},
       "output_type": "display_data",
       "text": [
        "<IPython.core.display.Javascript at 0x13f166950>"
       ]
      },
      {
       "javascript": [
        "$('div#3d47f160-b3ac-4fcb-b481-2ef681798b19').text(' 59%');"
       ],
       "metadata": {},
       "output_type": "display_data",
       "text": [
        "<IPython.core.display.Javascript at 0x13f166210>"
       ]
      },
      {
       "javascript": [
        "\n",
        "        var $myPB = $(\"div#83664a52-3ef9-422d-aeb6-e0423189cb9e\")\n",
        "        if ($myPB.hasClass('ui-progressbar')) {\n",
        "            $myPB.progressbar('value', 59);\n",
        "        } else {\n",
        "            $myPB.progressbar({value: 0, max: 100});\n",
        "        }\n",
        "        "
       ],
       "metadata": {},
       "output_type": "display_data",
       "text": [
        "<IPython.core.display.Javascript at 0x1268015d0>"
       ]
      },
      {
       "javascript": [
        "$('div#5c8e81be-45ea-41c7-8eda-1db0dadcf857').text('ETA:  0:01:07');"
       ],
       "metadata": {},
       "output_type": "display_data",
       "text": [
        "<IPython.core.display.Javascript at 0x126801590>"
       ]
      },
      {
       "javascript": [
        "$('div#3d47f160-b3ac-4fcb-b481-2ef681798b19').text(' 60%');"
       ],
       "metadata": {},
       "output_type": "display_data",
       "text": [
        "<IPython.core.display.Javascript at 0x120f3d950>"
       ]
      },
      {
       "javascript": [
        "\n",
        "        var $myPB = $(\"div#83664a52-3ef9-422d-aeb6-e0423189cb9e\")\n",
        "        if ($myPB.hasClass('ui-progressbar')) {\n",
        "            $myPB.progressbar('value', 60);\n",
        "        } else {\n",
        "            $myPB.progressbar({value: 0, max: 100});\n",
        "        }\n",
        "        "
       ],
       "metadata": {},
       "output_type": "display_data",
       "text": [
        "<IPython.core.display.Javascript at 0x120f3d850>"
       ]
      },
      {
       "javascript": [
        "$('div#5c8e81be-45ea-41c7-8eda-1db0dadcf857').text('ETA:  0:01:04');"
       ],
       "metadata": {},
       "output_type": "display_data",
       "text": [
        "<IPython.core.display.Javascript at 0x120f3d450>"
       ]
      },
      {
       "javascript": [
        "$('div#3d47f160-b3ac-4fcb-b481-2ef681798b19').text(' 60%');"
       ],
       "metadata": {},
       "output_type": "display_data",
       "text": [
        "<IPython.core.display.Javascript at 0x120f3dc10>"
       ]
      },
      {
       "javascript": [
        "\n",
        "        var $myPB = $(\"div#83664a52-3ef9-422d-aeb6-e0423189cb9e\")\n",
        "        if ($myPB.hasClass('ui-progressbar')) {\n",
        "            $myPB.progressbar('value', 60);\n",
        "        } else {\n",
        "            $myPB.progressbar({value: 0, max: 100});\n",
        "        }\n",
        "        "
       ],
       "metadata": {},
       "output_type": "display_data",
       "text": [
        "<IPython.core.display.Javascript at 0x120f3df50>"
       ]
      },
      {
       "javascript": [
        "$('div#5c8e81be-45ea-41c7-8eda-1db0dadcf857').text('ETA:  0:01:05');"
       ],
       "metadata": {},
       "output_type": "display_data",
       "text": [
        "<IPython.core.display.Javascript at 0x120f3d750>"
       ]
      },
      {
       "javascript": [
        "$('div#3d47f160-b3ac-4fcb-b481-2ef681798b19').text(' 61%');"
       ],
       "metadata": {},
       "output_type": "display_data",
       "text": [
        "<IPython.core.display.Javascript at 0x120f3d5d0>"
       ]
      },
      {
       "javascript": [
        "\n",
        "        var $myPB = $(\"div#83664a52-3ef9-422d-aeb6-e0423189cb9e\")\n",
        "        if ($myPB.hasClass('ui-progressbar')) {\n",
        "            $myPB.progressbar('value', 61);\n",
        "        } else {\n",
        "            $myPB.progressbar({value: 0, max: 100});\n",
        "        }\n",
        "        "
       ],
       "metadata": {},
       "output_type": "display_data",
       "text": [
        "<IPython.core.display.Javascript at 0x120f3d710>"
       ]
      },
      {
       "javascript": [
        "$('div#5c8e81be-45ea-41c7-8eda-1db0dadcf857').text('ETA:  0:01:02');"
       ],
       "metadata": {},
       "output_type": "display_data",
       "text": [
        "<IPython.core.display.Javascript at 0x120f3d4d0>"
       ]
      },
      {
       "javascript": [
        "$('div#3d47f160-b3ac-4fcb-b481-2ef681798b19').text(' 62%');"
       ],
       "metadata": {},
       "output_type": "display_data",
       "text": [
        "<IPython.core.display.Javascript at 0x120f3d350>"
       ]
      },
      {
       "javascript": [
        "\n",
        "        var $myPB = $(\"div#83664a52-3ef9-422d-aeb6-e0423189cb9e\")\n",
        "        if ($myPB.hasClass('ui-progressbar')) {\n",
        "            $myPB.progressbar('value', 62);\n",
        "        } else {\n",
        "            $myPB.progressbar({value: 0, max: 100});\n",
        "        }\n",
        "        "
       ],
       "metadata": {},
       "output_type": "display_data",
       "text": [
        "<IPython.core.display.Javascript at 0x120f3ddd0>"
       ]
      },
      {
       "javascript": [
        "$('div#5c8e81be-45ea-41c7-8eda-1db0dadcf857').text('ETA:  0:01:00');"
       ],
       "metadata": {},
       "output_type": "display_data",
       "text": [
        "<IPython.core.display.Javascript at 0x120f3d610>"
       ]
      },
      {
       "javascript": [
        "$('div#3d47f160-b3ac-4fcb-b481-2ef681798b19').text(' 62%');"
       ],
       "metadata": {},
       "output_type": "display_data",
       "text": [
        "<IPython.core.display.Javascript at 0x120f3de10>"
       ]
      },
      {
       "javascript": [
        "\n",
        "        var $myPB = $(\"div#83664a52-3ef9-422d-aeb6-e0423189cb9e\")\n",
        "        if ($myPB.hasClass('ui-progressbar')) {\n",
        "            $myPB.progressbar('value', 62);\n",
        "        } else {\n",
        "            $myPB.progressbar({value: 0, max: 100});\n",
        "        }\n",
        "        "
       ],
       "metadata": {},
       "output_type": "display_data",
       "text": [
        "<IPython.core.display.Javascript at 0x120f3d050>"
       ]
      },
      {
       "javascript": [
        "$('div#5c8e81be-45ea-41c7-8eda-1db0dadcf857').text('ETA:  0:01:01');"
       ],
       "metadata": {},
       "output_type": "display_data",
       "text": [
        "<IPython.core.display.Javascript at 0x120f3dbd0>"
       ]
      },
      {
       "javascript": [
        "$('div#3d47f160-b3ac-4fcb-b481-2ef681798b19').text(' 62%');"
       ],
       "metadata": {},
       "output_type": "display_data",
       "text": [
        "<IPython.core.display.Javascript at 0x14436df10>"
       ]
      },
      {
       "javascript": [
        "\n",
        "        var $myPB = $(\"div#83664a52-3ef9-422d-aeb6-e0423189cb9e\")\n",
        "        if ($myPB.hasClass('ui-progressbar')) {\n",
        "            $myPB.progressbar('value', 62);\n",
        "        } else {\n",
        "            $myPB.progressbar({value: 0, max: 100});\n",
        "        }\n",
        "        "
       ],
       "metadata": {},
       "output_type": "display_data",
       "text": [
        "<IPython.core.display.Javascript at 0x14436d810>"
       ]
      },
      {
       "javascript": [
        "$('div#5c8e81be-45ea-41c7-8eda-1db0dadcf857').text('ETA:  0:01:01');"
       ],
       "metadata": {},
       "output_type": "display_data",
       "text": [
        "<IPython.core.display.Javascript at 0x14436d5d0>"
       ]
      },
      {
       "javascript": [
        "$('div#3d47f160-b3ac-4fcb-b481-2ef681798b19').text(' 63%');"
       ],
       "metadata": {},
       "output_type": "display_data",
       "text": [
        "<IPython.core.display.Javascript at 0x14436d410>"
       ]
      },
      {
       "javascript": [
        "\n",
        "        var $myPB = $(\"div#83664a52-3ef9-422d-aeb6-e0423189cb9e\")\n",
        "        if ($myPB.hasClass('ui-progressbar')) {\n",
        "            $myPB.progressbar('value', 63);\n",
        "        } else {\n",
        "            $myPB.progressbar({value: 0, max: 100});\n",
        "        }\n",
        "        "
       ],
       "metadata": {},
       "output_type": "display_data",
       "text": [
        "<IPython.core.display.Javascript at 0x14436df90>"
       ]
      },
      {
       "javascript": [
        "$('div#5c8e81be-45ea-41c7-8eda-1db0dadcf857').text('ETA:  0:00:59');"
       ],
       "metadata": {},
       "output_type": "display_data",
       "text": [
        "<IPython.core.display.Javascript at 0x14436d6d0>"
       ]
      },
      {
       "javascript": [
        "$('div#3d47f160-b3ac-4fcb-b481-2ef681798b19').text(' 64%');"
       ],
       "metadata": {},
       "output_type": "display_data",
       "text": [
        "<IPython.core.display.Javascript at 0x14436d210>"
       ]
      },
      {
       "javascript": [
        "\n",
        "        var $myPB = $(\"div#83664a52-3ef9-422d-aeb6-e0423189cb9e\")\n",
        "        if ($myPB.hasClass('ui-progressbar')) {\n",
        "            $myPB.progressbar('value', 64);\n",
        "        } else {\n",
        "            $myPB.progressbar({value: 0, max: 100});\n",
        "        }\n",
        "        "
       ],
       "metadata": {},
       "output_type": "display_data",
       "text": [
        "<IPython.core.display.Javascript at 0x14436df50>"
       ]
      },
      {
       "javascript": [
        "$('div#5c8e81be-45ea-41c7-8eda-1db0dadcf857').text('ETA:  0:00:57');"
       ],
       "metadata": {},
       "output_type": "display_data",
       "text": [
        "<IPython.core.display.Javascript at 0x14436db50>"
       ]
      },
      {
       "javascript": [
        "$('div#3d47f160-b3ac-4fcb-b481-2ef681798b19').text(' 65%');"
       ],
       "metadata": {},
       "output_type": "display_data",
       "text": [
        "<IPython.core.display.Javascript at 0x14436d290>"
       ]
      },
      {
       "javascript": [
        "\n",
        "        var $myPB = $(\"div#83664a52-3ef9-422d-aeb6-e0423189cb9e\")\n",
        "        if ($myPB.hasClass('ui-progressbar')) {\n",
        "            $myPB.progressbar('value', 65);\n",
        "        } else {\n",
        "            $myPB.progressbar({value: 0, max: 100});\n",
        "        }\n",
        "        "
       ],
       "metadata": {},
       "output_type": "display_data",
       "text": [
        "<IPython.core.display.Javascript at 0x14436d890>"
       ]
      },
      {
       "javascript": [
        "$('div#5c8e81be-45ea-41c7-8eda-1db0dadcf857').text('ETA:  0:00:55');"
       ],
       "metadata": {},
       "output_type": "display_data",
       "text": [
        "<IPython.core.display.Javascript at 0x14436d950>"
       ]
      },
      {
       "javascript": [
        "$('div#3d47f160-b3ac-4fcb-b481-2ef681798b19').text(' 66%');"
       ],
       "metadata": {},
       "output_type": "display_data",
       "text": [
        "<IPython.core.display.Javascript at 0x14436de50>"
       ]
      },
      {
       "javascript": [
        "\n",
        "        var $myPB = $(\"div#83664a52-3ef9-422d-aeb6-e0423189cb9e\")\n",
        "        if ($myPB.hasClass('ui-progressbar')) {\n",
        "            $myPB.progressbar('value', 66);\n",
        "        } else {\n",
        "            $myPB.progressbar({value: 0, max: 100});\n",
        "        }\n",
        "        "
       ],
       "metadata": {},
       "output_type": "display_data",
       "text": [
        "<IPython.core.display.Javascript at 0x14436d590>"
       ]
      },
      {
       "javascript": [
        "$('div#5c8e81be-45ea-41c7-8eda-1db0dadcf857').text('ETA:  0:00:52');"
       ],
       "metadata": {},
       "output_type": "display_data",
       "text": [
        "<IPython.core.display.Javascript at 0x14436dd10>"
       ]
      },
      {
       "javascript": [
        "$('div#3d47f160-b3ac-4fcb-b481-2ef681798b19').text(' 67%');"
       ],
       "metadata": {},
       "output_type": "display_data",
       "text": [
        "<IPython.core.display.Javascript at 0x14436ded0>"
       ]
      },
      {
       "javascript": [
        "\n",
        "        var $myPB = $(\"div#83664a52-3ef9-422d-aeb6-e0423189cb9e\")\n",
        "        if ($myPB.hasClass('ui-progressbar')) {\n",
        "            $myPB.progressbar('value', 67);\n",
        "        } else {\n",
        "            $myPB.progressbar({value: 0, max: 100});\n",
        "        }\n",
        "        "
       ],
       "metadata": {},
       "output_type": "display_data",
       "text": [
        "<IPython.core.display.Javascript at 0x14436da50>"
       ]
      },
      {
       "javascript": [
        "$('div#5c8e81be-45ea-41c7-8eda-1db0dadcf857').text('ETA:  0:00:50');"
       ],
       "metadata": {},
       "output_type": "display_data",
       "text": [
        "<IPython.core.display.Javascript at 0x14436d190>"
       ]
      },
      {
       "javascript": [
        "$('div#3d47f160-b3ac-4fcb-b481-2ef681798b19').text(' 68%');"
       ],
       "metadata": {},
       "output_type": "display_data",
       "text": [
        "<IPython.core.display.Javascript at 0x132d57390>"
       ]
      },
      {
       "javascript": [
        "\n",
        "        var $myPB = $(\"div#83664a52-3ef9-422d-aeb6-e0423189cb9e\")\n",
        "        if ($myPB.hasClass('ui-progressbar')) {\n",
        "            $myPB.progressbar('value', 68);\n",
        "        } else {\n",
        "            $myPB.progressbar({value: 0, max: 100});\n",
        "        }\n",
        "        "
       ],
       "metadata": {},
       "output_type": "display_data",
       "text": [
        "<IPython.core.display.Javascript at 0x132d57210>"
       ]
      },
      {
       "javascript": [
        "$('div#5c8e81be-45ea-41c7-8eda-1db0dadcf857').text('ETA:  0:00:48');"
       ],
       "metadata": {},
       "output_type": "display_data",
       "text": [
        "<IPython.core.display.Javascript at 0x132d570d0>"
       ]
      },
      {
       "javascript": [
        "$('div#3d47f160-b3ac-4fcb-b481-2ef681798b19').text(' 69%');"
       ],
       "metadata": {},
       "output_type": "display_data",
       "text": [
        "<IPython.core.display.Javascript at 0x132d57b50>"
       ]
      },
      {
       "javascript": [
        "\n",
        "        var $myPB = $(\"div#83664a52-3ef9-422d-aeb6-e0423189cb9e\")\n",
        "        if ($myPB.hasClass('ui-progressbar')) {\n",
        "            $myPB.progressbar('value', 69);\n",
        "        } else {\n",
        "            $myPB.progressbar({value: 0, max: 100});\n",
        "        }\n",
        "        "
       ],
       "metadata": {},
       "output_type": "display_data",
       "text": [
        "<IPython.core.display.Javascript at 0x132d57c10>"
       ]
      },
      {
       "javascript": [
        "$('div#5c8e81be-45ea-41c7-8eda-1db0dadcf857').text('ETA:  0:00:46');"
       ],
       "metadata": {},
       "output_type": "display_data",
       "text": [
        "<IPython.core.display.Javascript at 0x132d57c50>"
       ]
      },
      {
       "javascript": [
        "$('div#3d47f160-b3ac-4fcb-b481-2ef681798b19').text(' 69%');"
       ],
       "metadata": {},
       "output_type": "display_data",
       "text": [
        "<IPython.core.display.Javascript at 0x14436dd10>"
       ]
      },
      {
       "javascript": [
        "\n",
        "        var $myPB = $(\"div#83664a52-3ef9-422d-aeb6-e0423189cb9e\")\n",
        "        if ($myPB.hasClass('ui-progressbar')) {\n",
        "            $myPB.progressbar('value', 69);\n",
        "        } else {\n",
        "            $myPB.progressbar({value: 0, max: 100});\n",
        "        }\n",
        "        "
       ],
       "metadata": {},
       "output_type": "display_data",
       "text": [
        "<IPython.core.display.Javascript at 0x14436d590>"
       ]
      },
      {
       "javascript": [
        "$('div#5c8e81be-45ea-41c7-8eda-1db0dadcf857').text('ETA:  0:00:47');"
       ],
       "metadata": {},
       "output_type": "display_data",
       "text": [
        "<IPython.core.display.Javascript at 0x14436de50>"
       ]
      },
      {
       "javascript": [
        "$('div#3d47f160-b3ac-4fcb-b481-2ef681798b19').text(' 70%');"
       ],
       "metadata": {},
       "output_type": "display_data",
       "text": [
        "<IPython.core.display.Javascript at 0x14436dbd0>"
       ]
      },
      {
       "javascript": [
        "\n",
        "        var $myPB = $(\"div#83664a52-3ef9-422d-aeb6-e0423189cb9e\")\n",
        "        if ($myPB.hasClass('ui-progressbar')) {\n",
        "            $myPB.progressbar('value', 70);\n",
        "        } else {\n",
        "            $myPB.progressbar({value: 0, max: 100});\n",
        "        }\n",
        "        "
       ],
       "metadata": {},
       "output_type": "display_data",
       "text": [
        "<IPython.core.display.Javascript at 0x14436da90>"
       ]
      },
      {
       "javascript": [
        "$('div#5c8e81be-45ea-41c7-8eda-1db0dadcf857').text('ETA:  0:00:45');"
       ],
       "metadata": {},
       "output_type": "display_data",
       "text": [
        "<IPython.core.display.Javascript at 0x14436dc50>"
       ]
      },
      {
       "javascript": [
        "$('div#3d47f160-b3ac-4fcb-b481-2ef681798b19').text(' 71%');"
       ],
       "metadata": {},
       "output_type": "display_data",
       "text": [
        "<IPython.core.display.Javascript at 0x14436db90>"
       ]
      },
      {
       "javascript": [
        "\n",
        "        var $myPB = $(\"div#83664a52-3ef9-422d-aeb6-e0423189cb9e\")\n",
        "        if ($myPB.hasClass('ui-progressbar')) {\n",
        "            $myPB.progressbar('value', 71);\n",
        "        } else {\n",
        "            $myPB.progressbar({value: 0, max: 100});\n",
        "        }\n",
        "        "
       ],
       "metadata": {},
       "output_type": "display_data",
       "text": [
        "<IPython.core.display.Javascript at 0x14436d050>"
       ]
      },
      {
       "javascript": [
        "$('div#5c8e81be-45ea-41c7-8eda-1db0dadcf857').text('ETA:  0:00:43');"
       ],
       "metadata": {},
       "output_type": "display_data",
       "text": [
        "<IPython.core.display.Javascript at 0x14436dd90>"
       ]
      },
      {
       "javascript": [
        "$('div#3d47f160-b3ac-4fcb-b481-2ef681798b19').text(' 71%');"
       ],
       "metadata": {},
       "output_type": "display_data",
       "text": [
        "<IPython.core.display.Javascript at 0x14436df10>"
       ]
      },
      {
       "javascript": [
        "\n",
        "        var $myPB = $(\"div#83664a52-3ef9-422d-aeb6-e0423189cb9e\")\n",
        "        if ($myPB.hasClass('ui-progressbar')) {\n",
        "            $myPB.progressbar('value', 71);\n",
        "        } else {\n",
        "            $myPB.progressbar({value: 0, max: 100});\n",
        "        }\n",
        "        "
       ],
       "metadata": {},
       "output_type": "display_data",
       "text": [
        "<IPython.core.display.Javascript at 0x14436d7d0>"
       ]
      },
      {
       "javascript": [
        "$('div#5c8e81be-45ea-41c7-8eda-1db0dadcf857').text('ETA:  0:00:43');"
       ],
       "metadata": {},
       "output_type": "display_data",
       "text": [
        "<IPython.core.display.Javascript at 0x14436d250>"
       ]
      },
      {
       "javascript": [
        "$('div#3d47f160-b3ac-4fcb-b481-2ef681798b19').text(' 72%');"
       ],
       "metadata": {},
       "output_type": "display_data",
       "text": [
        "<IPython.core.display.Javascript at 0x14436d8d0>"
       ]
      },
      {
       "javascript": [
        "\n",
        "        var $myPB = $(\"div#83664a52-3ef9-422d-aeb6-e0423189cb9e\")\n",
        "        if ($myPB.hasClass('ui-progressbar')) {\n",
        "            $myPB.progressbar('value', 72);\n",
        "        } else {\n",
        "            $myPB.progressbar({value: 0, max: 100});\n",
        "        }\n",
        "        "
       ],
       "metadata": {},
       "output_type": "display_data",
       "text": [
        "<IPython.core.display.Javascript at 0x14436dd50>"
       ]
      },
      {
       "javascript": [
        "$('div#5c8e81be-45ea-41c7-8eda-1db0dadcf857').text('ETA:  0:00:41');"
       ],
       "metadata": {},
       "output_type": "display_data",
       "text": [
        "<IPython.core.display.Javascript at 0x14436d1d0>"
       ]
      },
      {
       "javascript": [
        "$('div#3d47f160-b3ac-4fcb-b481-2ef681798b19').text(' 73%');"
       ],
       "metadata": {},
       "output_type": "display_data",
       "text": [
        "<IPython.core.display.Javascript at 0x120f3d490>"
       ]
      },
      {
       "javascript": [
        "\n",
        "        var $myPB = $(\"div#83664a52-3ef9-422d-aeb6-e0423189cb9e\")\n",
        "        if ($myPB.hasClass('ui-progressbar')) {\n",
        "            $myPB.progressbar('value', 73);\n",
        "        } else {\n",
        "            $myPB.progressbar({value: 0, max: 100});\n",
        "        }\n",
        "        "
       ],
       "metadata": {},
       "output_type": "display_data",
       "text": [
        "<IPython.core.display.Javascript at 0x120f3de90>"
       ]
      },
      {
       "javascript": [
        "$('div#5c8e81be-45ea-41c7-8eda-1db0dadcf857').text('ETA:  0:00:40');"
       ],
       "metadata": {},
       "output_type": "display_data",
       "text": [
        "<IPython.core.display.Javascript at 0x120f3d250>"
       ]
      },
      {
       "javascript": [
        "$('div#3d47f160-b3ac-4fcb-b481-2ef681798b19').text(' 74%');"
       ],
       "metadata": {},
       "output_type": "display_data",
       "text": [
        "<IPython.core.display.Javascript at 0x120f3df10>"
       ]
      },
      {
       "javascript": [
        "\n",
        "        var $myPB = $(\"div#83664a52-3ef9-422d-aeb6-e0423189cb9e\")\n",
        "        if ($myPB.hasClass('ui-progressbar')) {\n",
        "            $myPB.progressbar('value', 74);\n",
        "        } else {\n",
        "            $myPB.progressbar({value: 0, max: 100});\n",
        "        }\n",
        "        "
       ],
       "metadata": {},
       "output_type": "display_data",
       "text": [
        "<IPython.core.display.Javascript at 0x120f3db50>"
       ]
      },
      {
       "javascript": [
        "$('div#5c8e81be-45ea-41c7-8eda-1db0dadcf857').text('ETA:  0:00:38');"
       ],
       "metadata": {},
       "output_type": "display_data",
       "text": [
        "<IPython.core.display.Javascript at 0x120f3db10>"
       ]
      },
      {
       "javascript": [
        "$('div#3d47f160-b3ac-4fcb-b481-2ef681798b19').text(' 75%');"
       ],
       "metadata": {},
       "output_type": "display_data",
       "text": [
        "<IPython.core.display.Javascript at 0x120f3d390>"
       ]
      },
      {
       "javascript": [
        "\n",
        "        var $myPB = $(\"div#83664a52-3ef9-422d-aeb6-e0423189cb9e\")\n",
        "        if ($myPB.hasClass('ui-progressbar')) {\n",
        "            $myPB.progressbar('value', 75);\n",
        "        } else {\n",
        "            $myPB.progressbar({value: 0, max: 100});\n",
        "        }\n",
        "        "
       ],
       "metadata": {},
       "output_type": "display_data",
       "text": [
        "<IPython.core.display.Javascript at 0x120f3d4d0>"
       ]
      },
      {
       "javascript": [
        "$('div#5c8e81be-45ea-41c7-8eda-1db0dadcf857').text('ETA:  0:00:36');"
       ],
       "metadata": {},
       "output_type": "display_data",
       "text": [
        "<IPython.core.display.Javascript at 0x120f3d710>"
       ]
      },
      {
       "javascript": [
        "$('div#3d47f160-b3ac-4fcb-b481-2ef681798b19').text(' 75%');"
       ],
       "metadata": {},
       "output_type": "display_data",
       "text": [
        "<IPython.core.display.Javascript at 0x120f3d550>"
       ]
      },
      {
       "javascript": [
        "\n",
        "        var $myPB = $(\"div#83664a52-3ef9-422d-aeb6-e0423189cb9e\")\n",
        "        if ($myPB.hasClass('ui-progressbar')) {\n",
        "            $myPB.progressbar('value', 75);\n",
        "        } else {\n",
        "            $myPB.progressbar({value: 0, max: 100});\n",
        "        }\n",
        "        "
       ],
       "metadata": {},
       "output_type": "display_data",
       "text": [
        "<IPython.core.display.Javascript at 0x120f3da50>"
       ]
      },
      {
       "javascript": [
        "$('div#5c8e81be-45ea-41c7-8eda-1db0dadcf857').text('ETA:  0:00:36');"
       ],
       "metadata": {},
       "output_type": "display_data",
       "text": [
        "<IPython.core.display.Javascript at 0x120f3df90>"
       ]
      },
      {
       "javascript": [
        "$('div#3d47f160-b3ac-4fcb-b481-2ef681798b19').text(' 75%');"
       ],
       "metadata": {},
       "output_type": "display_data",
       "text": [
        "<IPython.core.display.Javascript at 0x13f166bd0>"
       ]
      },
      {
       "javascript": [
        "\n",
        "        var $myPB = $(\"div#83664a52-3ef9-422d-aeb6-e0423189cb9e\")\n",
        "        if ($myPB.hasClass('ui-progressbar')) {\n",
        "            $myPB.progressbar('value', 75);\n",
        "        } else {\n",
        "            $myPB.progressbar({value: 0, max: 100});\n",
        "        }\n",
        "        "
       ],
       "metadata": {},
       "output_type": "display_data",
       "text": [
        "<IPython.core.display.Javascript at 0x13f166090>"
       ]
      },
      {
       "javascript": [
        "$('div#5c8e81be-45ea-41c7-8eda-1db0dadcf857').text('ETA:  0:00:37');"
       ],
       "metadata": {},
       "output_type": "display_data",
       "text": [
        "<IPython.core.display.Javascript at 0x13f166c50>"
       ]
      },
      {
       "javascript": [
        "$('div#3d47f160-b3ac-4fcb-b481-2ef681798b19').text(' 76%');"
       ],
       "metadata": {},
       "output_type": "display_data",
       "text": [
        "<IPython.core.display.Javascript at 0x13f1666d0>"
       ]
      },
      {
       "javascript": [
        "\n",
        "        var $myPB = $(\"div#83664a52-3ef9-422d-aeb6-e0423189cb9e\")\n",
        "        if ($myPB.hasClass('ui-progressbar')) {\n",
        "            $myPB.progressbar('value', 76);\n",
        "        } else {\n",
        "            $myPB.progressbar({value: 0, max: 100});\n",
        "        }\n",
        "        "
       ],
       "metadata": {},
       "output_type": "display_data",
       "text": [
        "<IPython.core.display.Javascript at 0x13f166490>"
       ]
      },
      {
       "javascript": [
        "$('div#5c8e81be-45ea-41c7-8eda-1db0dadcf857').text('ETA:  0:00:35');"
       ],
       "metadata": {},
       "output_type": "display_data",
       "text": [
        "<IPython.core.display.Javascript at 0x13f166790>"
       ]
      },
      {
       "javascript": [
        "$('div#3d47f160-b3ac-4fcb-b481-2ef681798b19').text(' 76%');"
       ],
       "metadata": {},
       "output_type": "display_data",
       "text": [
        "<IPython.core.display.Javascript at 0x132d57450>"
       ]
      },
      {
       "javascript": [
        "\n",
        "        var $myPB = $(\"div#83664a52-3ef9-422d-aeb6-e0423189cb9e\")\n",
        "        if ($myPB.hasClass('ui-progressbar')) {\n",
        "            $myPB.progressbar('value', 76);\n",
        "        } else {\n",
        "            $myPB.progressbar({value: 0, max: 100});\n",
        "        }\n",
        "        "
       ],
       "metadata": {},
       "output_type": "display_data",
       "text": [
        "<IPython.core.display.Javascript at 0x132d57250>"
       ]
      },
      {
       "javascript": [
        "$('div#5c8e81be-45ea-41c7-8eda-1db0dadcf857').text('ETA:  0:00:35');"
       ],
       "metadata": {},
       "output_type": "display_data",
       "text": [
        "<IPython.core.display.Javascript at 0x132d57090>"
       ]
      },
      {
       "javascript": [
        "$('div#3d47f160-b3ac-4fcb-b481-2ef681798b19').text(' 77%');"
       ],
       "metadata": {},
       "output_type": "display_data",
       "text": [
        "<IPython.core.display.Javascript at 0x132d57210>"
       ]
      },
      {
       "javascript": [
        "\n",
        "        var $myPB = $(\"div#83664a52-3ef9-422d-aeb6-e0423189cb9e\")\n",
        "        if ($myPB.hasClass('ui-progressbar')) {\n",
        "            $myPB.progressbar('value', 77);\n",
        "        } else {\n",
        "            $myPB.progressbar({value: 0, max: 100});\n",
        "        }\n",
        "        "
       ],
       "metadata": {},
       "output_type": "display_data",
       "text": [
        "<IPython.core.display.Javascript at 0x132d57050>"
       ]
      },
      {
       "javascript": [
        "$('div#5c8e81be-45ea-41c7-8eda-1db0dadcf857').text('ETA:  0:00:33');"
       ],
       "metadata": {},
       "output_type": "display_data",
       "text": [
        "<IPython.core.display.Javascript at 0x132d57390>"
       ]
      },
      {
       "javascript": [
        "$('div#3d47f160-b3ac-4fcb-b481-2ef681798b19').text(' 78%');"
       ],
       "metadata": {},
       "output_type": "display_data",
       "text": [
        "<IPython.core.display.Javascript at 0x132d57e10>"
       ]
      },
      {
       "javascript": [
        "\n",
        "        var $myPB = $(\"div#83664a52-3ef9-422d-aeb6-e0423189cb9e\")\n",
        "        if ($myPB.hasClass('ui-progressbar')) {\n",
        "            $myPB.progressbar('value', 78);\n",
        "        } else {\n",
        "            $myPB.progressbar({value: 0, max: 100});\n",
        "        }\n",
        "        "
       ],
       "metadata": {},
       "output_type": "display_data",
       "text": [
        "<IPython.core.display.Javascript at 0x132d57c90>"
       ]
      },
      {
       "javascript": [
        "$('div#5c8e81be-45ea-41c7-8eda-1db0dadcf857').text('ETA:  0:00:32');"
       ],
       "metadata": {},
       "output_type": "display_data",
       "text": [
        "<IPython.core.display.Javascript at 0x132d57a50>"
       ]
      },
      {
       "javascript": [
        "$('div#3d47f160-b3ac-4fcb-b481-2ef681798b19').text(' 79%');"
       ],
       "metadata": {},
       "output_type": "display_data",
       "text": [
        "<IPython.core.display.Javascript at 0x13f166a90>"
       ]
      },
      {
       "javascript": [
        "\n",
        "        var $myPB = $(\"div#83664a52-3ef9-422d-aeb6-e0423189cb9e\")\n",
        "        if ($myPB.hasClass('ui-progressbar')) {\n",
        "            $myPB.progressbar('value', 79);\n",
        "        } else {\n",
        "            $myPB.progressbar({value: 0, max: 100});\n",
        "        }\n",
        "        "
       ],
       "metadata": {},
       "output_type": "display_data",
       "text": [
        "<IPython.core.display.Javascript at 0x13f166790>"
       ]
      },
      {
       "javascript": [
        "$('div#5c8e81be-45ea-41c7-8eda-1db0dadcf857').text('ETA:  0:00:30');"
       ],
       "metadata": {},
       "output_type": "display_data",
       "text": [
        "<IPython.core.display.Javascript at 0x13f166490>"
       ]
      },
      {
       "javascript": [
        "$('div#3d47f160-b3ac-4fcb-b481-2ef681798b19').text(' 80%');"
       ],
       "metadata": {},
       "output_type": "display_data",
       "text": [
        "<IPython.core.display.Javascript at 0x13f166a10>"
       ]
      },
      {
       "javascript": [
        "\n",
        "        var $myPB = $(\"div#83664a52-3ef9-422d-aeb6-e0423189cb9e\")\n",
        "        if ($myPB.hasClass('ui-progressbar')) {\n",
        "            $myPB.progressbar('value', 80);\n",
        "        } else {\n",
        "            $myPB.progressbar({value: 0, max: 100});\n",
        "        }\n",
        "        "
       ],
       "metadata": {},
       "output_type": "display_data",
       "text": [
        "<IPython.core.display.Javascript at 0x13f166950>"
       ]
      },
      {
       "javascript": [
        "$('div#5c8e81be-45ea-41c7-8eda-1db0dadcf857').text('ETA:  0:00:28');"
       ],
       "metadata": {},
       "output_type": "display_data",
       "text": [
        "<IPython.core.display.Javascript at 0x13f166990>"
       ]
      },
      {
       "javascript": [
        "$('div#3d47f160-b3ac-4fcb-b481-2ef681798b19').text(' 81%');"
       ],
       "metadata": {},
       "output_type": "display_data",
       "text": [
        "<IPython.core.display.Javascript at 0x13f166cd0>"
       ]
      },
      {
       "javascript": [
        "\n",
        "        var $myPB = $(\"div#83664a52-3ef9-422d-aeb6-e0423189cb9e\")\n",
        "        if ($myPB.hasClass('ui-progressbar')) {\n",
        "            $myPB.progressbar('value', 81);\n",
        "        } else {\n",
        "            $myPB.progressbar({value: 0, max: 100});\n",
        "        }\n",
        "        "
       ],
       "metadata": {},
       "output_type": "display_data",
       "text": [
        "<IPython.core.display.Javascript at 0x13f166210>"
       ]
      },
      {
       "javascript": [
        "$('div#5c8e81be-45ea-41c7-8eda-1db0dadcf857').text('ETA:  0:00:27');"
       ],
       "metadata": {},
       "output_type": "display_data",
       "text": [
        "<IPython.core.display.Javascript at 0x1268015d0>"
       ]
      },
      {
       "javascript": [
        "$('div#3d47f160-b3ac-4fcb-b481-2ef681798b19').text(' 82%');"
       ],
       "metadata": {},
       "output_type": "display_data",
       "text": [
        "<IPython.core.display.Javascript at 0x120f3d850>"
       ]
      },
      {
       "javascript": [
        "\n",
        "        var $myPB = $(\"div#83664a52-3ef9-422d-aeb6-e0423189cb9e\")\n",
        "        if ($myPB.hasClass('ui-progressbar')) {\n",
        "            $myPB.progressbar('value', 82);\n",
        "        } else {\n",
        "            $myPB.progressbar({value: 0, max: 100});\n",
        "        }\n",
        "        "
       ],
       "metadata": {},
       "output_type": "display_data",
       "text": [
        "<IPython.core.display.Javascript at 0x120f3dd90>"
       ]
      },
      {
       "javascript": [
        "$('div#5c8e81be-45ea-41c7-8eda-1db0dadcf857').text('ETA:  0:00:25');"
       ],
       "metadata": {},
       "output_type": "display_data",
       "text": [
        "<IPython.core.display.Javascript at 0x120f3d450>"
       ]
      },
      {
       "javascript": [
        "$('div#3d47f160-b3ac-4fcb-b481-2ef681798b19').text(' 83%');"
       ],
       "metadata": {},
       "output_type": "display_data",
       "text": [
        "<IPython.core.display.Javascript at 0x120f3d3d0>"
       ]
      },
      {
       "javascript": [
        "\n",
        "        var $myPB = $(\"div#83664a52-3ef9-422d-aeb6-e0423189cb9e\")\n",
        "        if ($myPB.hasClass('ui-progressbar')) {\n",
        "            $myPB.progressbar('value', 83);\n",
        "        } else {\n",
        "            $myPB.progressbar({value: 0, max: 100});\n",
        "        }\n",
        "        "
       ],
       "metadata": {},
       "output_type": "display_data",
       "text": [
        "<IPython.core.display.Javascript at 0x120f3d110>"
       ]
      },
      {
       "javascript": [
        "$('div#5c8e81be-45ea-41c7-8eda-1db0dadcf857').text('ETA:  0:00:23');"
       ],
       "metadata": {},
       "output_type": "display_data",
       "text": [
        "<IPython.core.display.Javascript at 0x120f3d310>"
       ]
      },
      {
       "javascript": [
        "$('div#3d47f160-b3ac-4fcb-b481-2ef681798b19').text(' 83%');"
       ],
       "metadata": {},
       "output_type": "display_data",
       "text": [
        "<IPython.core.display.Javascript at 0x120f3d790>"
       ]
      },
      {
       "javascript": [
        "\n",
        "        var $myPB = $(\"div#83664a52-3ef9-422d-aeb6-e0423189cb9e\")\n",
        "        if ($myPB.hasClass('ui-progressbar')) {\n",
        "            $myPB.progressbar('value', 83);\n",
        "        } else {\n",
        "            $myPB.progressbar({value: 0, max: 100});\n",
        "        }\n",
        "        "
       ],
       "metadata": {},
       "output_type": "display_data",
       "text": [
        "<IPython.core.display.Javascript at 0x120f3d990>"
       ]
      },
      {
       "javascript": [
        "$('div#5c8e81be-45ea-41c7-8eda-1db0dadcf857').text('ETA:  0:00:24');"
       ],
       "metadata": {},
       "output_type": "display_data",
       "text": [
        "<IPython.core.display.Javascript at 0x120f3db10>"
       ]
      },
      {
       "javascript": [
        "$('div#3d47f160-b3ac-4fcb-b481-2ef681798b19').text(' 83%');"
       ],
       "metadata": {},
       "output_type": "display_data",
       "text": [
        "<IPython.core.display.Javascript at 0x120f3d410>"
       ]
      },
      {
       "javascript": [
        "\n",
        "        var $myPB = $(\"div#83664a52-3ef9-422d-aeb6-e0423189cb9e\")\n",
        "        if ($myPB.hasClass('ui-progressbar')) {\n",
        "            $myPB.progressbar('value', 83);\n",
        "        } else {\n",
        "            $myPB.progressbar({value: 0, max: 100});\n",
        "        }\n",
        "        "
       ],
       "metadata": {},
       "output_type": "display_data",
       "text": [
        "<IPython.core.display.Javascript at 0x120f3d190>"
       ]
      },
      {
       "javascript": [
        "$('div#5c8e81be-45ea-41c7-8eda-1db0dadcf857').text('ETA:  0:00:24');"
       ],
       "metadata": {},
       "output_type": "display_data",
       "text": [
        "<IPython.core.display.Javascript at 0x120f3d9d0>"
       ]
      },
      {
       "javascript": [
        "$('div#3d47f160-b3ac-4fcb-b481-2ef681798b19').text(' 83%');"
       ],
       "metadata": {},
       "output_type": "display_data",
       "text": [
        "<IPython.core.display.Javascript at 0x14436d110>"
       ]
      },
      {
       "javascript": [
        "\n",
        "        var $myPB = $(\"div#83664a52-3ef9-422d-aeb6-e0423189cb9e\")\n",
        "        if ($myPB.hasClass('ui-progressbar')) {\n",
        "            $myPB.progressbar('value', 83);\n",
        "        } else {\n",
        "            $myPB.progressbar({value: 0, max: 100});\n",
        "        }\n",
        "        "
       ],
       "metadata": {},
       "output_type": "display_data",
       "text": [
        "<IPython.core.display.Javascript at 0x14436d550>"
       ]
      },
      {
       "javascript": [
        "$('div#5c8e81be-45ea-41c7-8eda-1db0dadcf857').text('ETA:  0:00:24');"
       ],
       "metadata": {},
       "output_type": "display_data",
       "text": [
        "<IPython.core.display.Javascript at 0x14436d250>"
       ]
      },
      {
       "javascript": [
        "$('div#3d47f160-b3ac-4fcb-b481-2ef681798b19').text(' 84%');"
       ],
       "metadata": {},
       "output_type": "display_data",
       "text": [
        "<IPython.core.display.Javascript at 0x14436d6d0>"
       ]
      },
      {
       "javascript": [
        "\n",
        "        var $myPB = $(\"div#83664a52-3ef9-422d-aeb6-e0423189cb9e\")\n",
        "        if ($myPB.hasClass('ui-progressbar')) {\n",
        "            $myPB.progressbar('value', 84);\n",
        "        } else {\n",
        "            $myPB.progressbar({value: 0, max: 100});\n",
        "        }\n",
        "        "
       ],
       "metadata": {},
       "output_type": "display_data",
       "text": [
        "<IPython.core.display.Javascript at 0x14436d910>"
       ]
      },
      {
       "javascript": [
        "$('div#5c8e81be-45ea-41c7-8eda-1db0dadcf857').text('ETA:  0:00:23');"
       ],
       "metadata": {},
       "output_type": "display_data",
       "text": [
        "<IPython.core.display.Javascript at 0x14436da10>"
       ]
      },
      {
       "javascript": [
        "$('div#3d47f160-b3ac-4fcb-b481-2ef681798b19').text(' 85%');"
       ],
       "metadata": {},
       "output_type": "display_data",
       "text": [
        "<IPython.core.display.Javascript at 0x14436db90>"
       ]
      },
      {
       "javascript": [
        "\n",
        "        var $myPB = $(\"div#83664a52-3ef9-422d-aeb6-e0423189cb9e\")\n",
        "        if ($myPB.hasClass('ui-progressbar')) {\n",
        "            $myPB.progressbar('value', 85);\n",
        "        } else {\n",
        "            $myPB.progressbar({value: 0, max: 100});\n",
        "        }\n",
        "        "
       ],
       "metadata": {},
       "output_type": "display_data",
       "text": [
        "<IPython.core.display.Javascript at 0x14436df50>"
       ]
      },
      {
       "javascript": [
        "$('div#5c8e81be-45ea-41c7-8eda-1db0dadcf857').text('ETA:  0:00:21');"
       ],
       "metadata": {},
       "output_type": "display_data",
       "text": [
        "<IPython.core.display.Javascript at 0x14436d990>"
       ]
      },
      {
       "javascript": [
        "$('div#3d47f160-b3ac-4fcb-b481-2ef681798b19').text(' 85%');"
       ],
       "metadata": {},
       "output_type": "display_data",
       "text": [
        "<IPython.core.display.Javascript at 0x14436dd10>"
       ]
      },
      {
       "javascript": [
        "\n",
        "        var $myPB = $(\"div#83664a52-3ef9-422d-aeb6-e0423189cb9e\")\n",
        "        if ($myPB.hasClass('ui-progressbar')) {\n",
        "            $myPB.progressbar('value', 85);\n",
        "        } else {\n",
        "            $myPB.progressbar({value: 0, max: 100});\n",
        "        }\n",
        "        "
       ],
       "metadata": {},
       "output_type": "display_data",
       "text": [
        "<IPython.core.display.Javascript at 0x14436de10>"
       ]
      },
      {
       "javascript": [
        "$('div#5c8e81be-45ea-41c7-8eda-1db0dadcf857').text('ETA:  0:00:21');"
       ],
       "metadata": {},
       "output_type": "display_data",
       "text": [
        "<IPython.core.display.Javascript at 0x14436dad0>"
       ]
      },
      {
       "javascript": [
        "$('div#3d47f160-b3ac-4fcb-b481-2ef681798b19').text(' 85%');"
       ],
       "metadata": {},
       "output_type": "display_data",
       "text": [
        "<IPython.core.display.Javascript at 0x132d57e90>"
       ]
      },
      {
       "javascript": [
        "\n",
        "        var $myPB = $(\"div#83664a52-3ef9-422d-aeb6-e0423189cb9e\")\n",
        "        if ($myPB.hasClass('ui-progressbar')) {\n",
        "            $myPB.progressbar('value', 85);\n",
        "        } else {\n",
        "            $myPB.progressbar({value: 0, max: 100});\n",
        "        }\n",
        "        "
       ],
       "metadata": {},
       "output_type": "display_data",
       "text": [
        "<IPython.core.display.Javascript at 0x132d57fd0>"
       ]
      },
      {
       "javascript": [
        "$('div#5c8e81be-45ea-41c7-8eda-1db0dadcf857').text('ETA:  0:00:21');"
       ],
       "metadata": {},
       "output_type": "display_data",
       "text": [
        "<IPython.core.display.Javascript at 0x132d57f10>"
       ]
      },
      {
       "javascript": [
        "$('div#3d47f160-b3ac-4fcb-b481-2ef681798b19').text(' 86%');"
       ],
       "metadata": {},
       "output_type": "display_data",
       "text": [
        "<IPython.core.display.Javascript at 0x132d57890>"
       ]
      },
      {
       "javascript": [
        "\n",
        "        var $myPB = $(\"div#83664a52-3ef9-422d-aeb6-e0423189cb9e\")\n",
        "        if ($myPB.hasClass('ui-progressbar')) {\n",
        "            $myPB.progressbar('value', 86);\n",
        "        } else {\n",
        "            $myPB.progressbar({value: 0, max: 100});\n",
        "        }\n",
        "        "
       ],
       "metadata": {},
       "output_type": "display_data",
       "text": [
        "<IPython.core.display.Javascript at 0x132d57390>"
       ]
      },
      {
       "javascript": [
        "$('div#5c8e81be-45ea-41c7-8eda-1db0dadcf857').text('ETA:  0:00:20');"
       ],
       "metadata": {},
       "output_type": "display_data",
       "text": [
        "<IPython.core.display.Javascript at 0x132d57050>"
       ]
      },
      {
       "javascript": [
        "$('div#3d47f160-b3ac-4fcb-b481-2ef681798b19').text(' 87%');"
       ],
       "metadata": {},
       "output_type": "display_data",
       "text": [
        "<IPython.core.display.Javascript at 0x132d57450>"
       ]
      },
      {
       "javascript": [
        "\n",
        "        var $myPB = $(\"div#83664a52-3ef9-422d-aeb6-e0423189cb9e\")\n",
        "        if ($myPB.hasClass('ui-progressbar')) {\n",
        "            $myPB.progressbar('value', 87);\n",
        "        } else {\n",
        "            $myPB.progressbar({value: 0, max: 100});\n",
        "        }\n",
        "        "
       ],
       "metadata": {},
       "output_type": "display_data",
       "text": [
        "<IPython.core.display.Javascript at 0x132d57c10>"
       ]
      },
      {
       "javascript": [
        "$('div#5c8e81be-45ea-41c7-8eda-1db0dadcf857').text('ETA:  0:00:18');"
       ],
       "metadata": {},
       "output_type": "display_data",
       "text": [
        "<IPython.core.display.Javascript at 0x132d57b50>"
       ]
      },
      {
       "javascript": [
        "$('div#3d47f160-b3ac-4fcb-b481-2ef681798b19').text(' 87%');"
       ],
       "metadata": {},
       "output_type": "display_data",
       "text": [
        "<IPython.core.display.Javascript at 0x14436d750>"
       ]
      },
      {
       "javascript": [
        "\n",
        "        var $myPB = $(\"div#83664a52-3ef9-422d-aeb6-e0423189cb9e\")\n",
        "        if ($myPB.hasClass('ui-progressbar')) {\n",
        "            $myPB.progressbar('value', 87);\n",
        "        } else {\n",
        "            $myPB.progressbar({value: 0, max: 100});\n",
        "        }\n",
        "        "
       ],
       "metadata": {},
       "output_type": "display_data",
       "text": [
        "<IPython.core.display.Javascript at 0x14436d4d0>"
       ]
      },
      {
       "javascript": [
        "$('div#5c8e81be-45ea-41c7-8eda-1db0dadcf857').text('ETA:  0:00:18');"
       ],
       "metadata": {},
       "output_type": "display_data",
       "text": [
        "<IPython.core.display.Javascript at 0x14436d0d0>"
       ]
      },
      {
       "javascript": [
        "$('div#3d47f160-b3ac-4fcb-b481-2ef681798b19').text(' 88%');"
       ],
       "metadata": {},
       "output_type": "display_data",
       "text": [
        "<IPython.core.display.Javascript at 0x14436dad0>"
       ]
      },
      {
       "javascript": [
        "\n",
        "        var $myPB = $(\"div#83664a52-3ef9-422d-aeb6-e0423189cb9e\")\n",
        "        if ($myPB.hasClass('ui-progressbar')) {\n",
        "            $myPB.progressbar('value', 88);\n",
        "        } else {\n",
        "            $myPB.progressbar({value: 0, max: 100});\n",
        "        }\n",
        "        "
       ],
       "metadata": {},
       "output_type": "display_data",
       "text": [
        "<IPython.core.display.Javascript at 0x14436dc10>"
       ]
      },
      {
       "javascript": [
        "$('div#5c8e81be-45ea-41c7-8eda-1db0dadcf857').text('ETA:  0:00:17');"
       ],
       "metadata": {},
       "output_type": "display_data",
       "text": [
        "<IPython.core.display.Javascript at 0x14436de10>"
       ]
      },
      {
       "javascript": [
        "$('div#3d47f160-b3ac-4fcb-b481-2ef681798b19').text(' 89%');"
       ],
       "metadata": {},
       "output_type": "display_data",
       "text": [
        "<IPython.core.display.Javascript at 0x14436d710>"
       ]
      },
      {
       "javascript": [
        "\n",
        "        var $myPB = $(\"div#83664a52-3ef9-422d-aeb6-e0423189cb9e\")\n",
        "        if ($myPB.hasClass('ui-progressbar')) {\n",
        "            $myPB.progressbar('value', 89);\n",
        "        } else {\n",
        "            $myPB.progressbar({value: 0, max: 100});\n",
        "        }\n",
        "        "
       ],
       "metadata": {},
       "output_type": "display_data",
       "text": [
        "<IPython.core.display.Javascript at 0x14436de50>"
       ]
      },
      {
       "javascript": [
        "$('div#5c8e81be-45ea-41c7-8eda-1db0dadcf857').text('ETA:  0:00:15');"
       ],
       "metadata": {},
       "output_type": "display_data",
       "text": [
        "<IPython.core.display.Javascript at 0x14436d950>"
       ]
      },
      {
       "javascript": [
        "$('div#3d47f160-b3ac-4fcb-b481-2ef681798b19').text(' 90%');"
       ],
       "metadata": {},
       "output_type": "display_data",
       "text": [
        "<IPython.core.display.Javascript at 0x14436dc50>"
       ]
      },
      {
       "javascript": [
        "\n",
        "        var $myPB = $(\"div#83664a52-3ef9-422d-aeb6-e0423189cb9e\")\n",
        "        if ($myPB.hasClass('ui-progressbar')) {\n",
        "            $myPB.progressbar('value', 90);\n",
        "        } else {\n",
        "            $myPB.progressbar({value: 0, max: 100});\n",
        "        }\n",
        "        "
       ],
       "metadata": {},
       "output_type": "display_data",
       "text": [
        "<IPython.core.display.Javascript at 0x14436d610>"
       ]
      },
      {
       "javascript": [
        "$('div#5c8e81be-45ea-41c7-8eda-1db0dadcf857').text('ETA:  0:00:14');"
       ],
       "metadata": {},
       "output_type": "display_data",
       "text": [
        "<IPython.core.display.Javascript at 0x14436db50>"
       ]
      },
      {
       "javascript": [
        "$('div#3d47f160-b3ac-4fcb-b481-2ef681798b19').text(' 91%');"
       ],
       "metadata": {},
       "output_type": "display_data",
       "text": [
        "<IPython.core.display.Javascript at 0x14436d490>"
       ]
      },
      {
       "javascript": [
        "\n",
        "        var $myPB = $(\"div#83664a52-3ef9-422d-aeb6-e0423189cb9e\")\n",
        "        if ($myPB.hasClass('ui-progressbar')) {\n",
        "            $myPB.progressbar('value', 91);\n",
        "        } else {\n",
        "            $myPB.progressbar({value: 0, max: 100});\n",
        "        }\n",
        "        "
       ],
       "metadata": {},
       "output_type": "display_data",
       "text": [
        "<IPython.core.display.Javascript at 0x14436df10>"
       ]
      },
      {
       "javascript": [
        "$('div#5c8e81be-45ea-41c7-8eda-1db0dadcf857').text('ETA:  0:00:12');"
       ],
       "metadata": {},
       "output_type": "display_data",
       "text": [
        "<IPython.core.display.Javascript at 0x14436d2d0>"
       ]
      },
      {
       "javascript": [
        "$('div#3d47f160-b3ac-4fcb-b481-2ef681798b19').text(' 92%');"
       ],
       "metadata": {},
       "output_type": "display_data",
       "text": [
        "<IPython.core.display.Javascript at 0x14436d250>"
       ]
      },
      {
       "javascript": [
        "\n",
        "        var $myPB = $(\"div#83664a52-3ef9-422d-aeb6-e0423189cb9e\")\n",
        "        if ($myPB.hasClass('ui-progressbar')) {\n",
        "            $myPB.progressbar('value', 92);\n",
        "        } else {\n",
        "            $myPB.progressbar({value: 0, max: 100});\n",
        "        }\n",
        "        "
       ],
       "metadata": {},
       "output_type": "display_data",
       "text": [
        "<IPython.core.display.Javascript at 0x14436d810>"
       ]
      },
      {
       "javascript": [
        "$('div#5c8e81be-45ea-41c7-8eda-1db0dadcf857').text('ETA:  0:00:11');"
       ],
       "metadata": {},
       "output_type": "display_data",
       "text": [
        "<IPython.core.display.Javascript at 0x14436d550>"
       ]
      },
      {
       "javascript": [
        "$('div#3d47f160-b3ac-4fcb-b481-2ef681798b19').text(' 93%');"
       ],
       "metadata": {},
       "output_type": "display_data",
       "text": [
        "<IPython.core.display.Javascript at 0x120f3dbd0>"
       ]
      },
      {
       "javascript": [
        "\n",
        "        var $myPB = $(\"div#83664a52-3ef9-422d-aeb6-e0423189cb9e\")\n",
        "        if ($myPB.hasClass('ui-progressbar')) {\n",
        "            $myPB.progressbar('value', 93);\n",
        "        } else {\n",
        "            $myPB.progressbar({value: 0, max: 100});\n",
        "        }\n",
        "        "
       ],
       "metadata": {},
       "output_type": "display_data",
       "text": [
        "<IPython.core.display.Javascript at 0x120f3ded0>"
       ]
      },
      {
       "javascript": [
        "$('div#5c8e81be-45ea-41c7-8eda-1db0dadcf857').text('ETA:  0:00:09');"
       ],
       "metadata": {},
       "output_type": "display_data",
       "text": [
        "<IPython.core.display.Javascript at 0x120f3d050>"
       ]
      },
      {
       "javascript": [
        "$('div#3d47f160-b3ac-4fcb-b481-2ef681798b19').text(' 94%');"
       ],
       "metadata": {},
       "output_type": "display_data",
       "text": [
        "<IPython.core.display.Javascript at 0x120f3d490>"
       ]
      },
      {
       "javascript": [
        "\n",
        "        var $myPB = $(\"div#83664a52-3ef9-422d-aeb6-e0423189cb9e\")\n",
        "        if ($myPB.hasClass('ui-progressbar')) {\n",
        "            $myPB.progressbar('value', 94);\n",
        "        } else {\n",
        "            $myPB.progressbar({value: 0, max: 100});\n",
        "        }\n",
        "        "
       ],
       "metadata": {},
       "output_type": "display_data",
       "text": [
        "<IPython.core.display.Javascript at 0x120f3d9d0>"
       ]
      },
      {
       "javascript": [
        "$('div#5c8e81be-45ea-41c7-8eda-1db0dadcf857').text('ETA:  0:00:08');"
       ],
       "metadata": {},
       "output_type": "display_data",
       "text": [
        "<IPython.core.display.Javascript at 0x120f3d510>"
       ]
      },
      {
       "javascript": [
        "$('div#3d47f160-b3ac-4fcb-b481-2ef681798b19').text(' 95%');"
       ],
       "metadata": {},
       "output_type": "display_data",
       "text": [
        "<IPython.core.display.Javascript at 0x120f3d2d0>"
       ]
      },
      {
       "javascript": [
        "\n",
        "        var $myPB = $(\"div#83664a52-3ef9-422d-aeb6-e0423189cb9e\")\n",
        "        if ($myPB.hasClass('ui-progressbar')) {\n",
        "            $myPB.progressbar('value', 95);\n",
        "        } else {\n",
        "            $myPB.progressbar({value: 0, max: 100});\n",
        "        }\n",
        "        "
       ],
       "metadata": {},
       "output_type": "display_data",
       "text": [
        "<IPython.core.display.Javascript at 0x120f3df10>"
       ]
      },
      {
       "javascript": [
        "$('div#5c8e81be-45ea-41c7-8eda-1db0dadcf857').text('ETA:  0:00:06');"
       ],
       "metadata": {},
       "output_type": "display_data",
       "text": [
        "<IPython.core.display.Javascript at 0x120f3dfd0>"
       ]
      },
      {
       "javascript": [
        "$('div#3d47f160-b3ac-4fcb-b481-2ef681798b19').text(' 96%');"
       ],
       "metadata": {},
       "output_type": "display_data",
       "text": [
        "<IPython.core.display.Javascript at 0x120f3d710>"
       ]
      },
      {
       "javascript": [
        "\n",
        "        var $myPB = $(\"div#83664a52-3ef9-422d-aeb6-e0423189cb9e\")\n",
        "        if ($myPB.hasClass('ui-progressbar')) {\n",
        "            $myPB.progressbar('value', 96);\n",
        "        } else {\n",
        "            $myPB.progressbar({value: 0, max: 100});\n",
        "        }\n",
        "        "
       ],
       "metadata": {},
       "output_type": "display_data",
       "text": [
        "<IPython.core.display.Javascript at 0x120f3d890>"
       ]
      },
      {
       "javascript": [
        "$('div#5c8e81be-45ea-41c7-8eda-1db0dadcf857').text('ETA:  0:00:05');"
       ],
       "metadata": {},
       "output_type": "display_data",
       "text": [
        "<IPython.core.display.Javascript at 0x120f3d5d0>"
       ]
      },
      {
       "javascript": [
        "$('div#3d47f160-b3ac-4fcb-b481-2ef681798b19').text(' 97%');"
       ],
       "metadata": {},
       "output_type": "display_data",
       "text": [
        "<IPython.core.display.Javascript at 0x120f3d3d0>"
       ]
      },
      {
       "javascript": [
        "\n",
        "        var $myPB = $(\"div#83664a52-3ef9-422d-aeb6-e0423189cb9e\")\n",
        "        if ($myPB.hasClass('ui-progressbar')) {\n",
        "            $myPB.progressbar('value', 97);\n",
        "        } else {\n",
        "            $myPB.progressbar({value: 0, max: 100});\n",
        "        }\n",
        "        "
       ],
       "metadata": {},
       "output_type": "display_data",
       "text": [
        "<IPython.core.display.Javascript at 0x120f3db90>"
       ]
      },
      {
       "javascript": [
        "$('div#5c8e81be-45ea-41c7-8eda-1db0dadcf857').text('ETA:  0:00:04');"
       ],
       "metadata": {},
       "output_type": "display_data",
       "text": [
        "<IPython.core.display.Javascript at 0x120f3dc90>"
       ]
      },
      {
       "javascript": [
        "$('div#3d47f160-b3ac-4fcb-b481-2ef681798b19').text(' 98%');"
       ],
       "metadata": {},
       "output_type": "display_data",
       "text": [
        "<IPython.core.display.Javascript at 0x1268015d0>"
       ]
      },
      {
       "javascript": [
        "\n",
        "        var $myPB = $(\"div#83664a52-3ef9-422d-aeb6-e0423189cb9e\")\n",
        "        if ($myPB.hasClass('ui-progressbar')) {\n",
        "            $myPB.progressbar('value', 98);\n",
        "        } else {\n",
        "            $myPB.progressbar({value: 0, max: 100});\n",
        "        }\n",
        "        "
       ],
       "metadata": {},
       "output_type": "display_data",
       "text": [
        "<IPython.core.display.Javascript at 0x13f166210>"
       ]
      },
      {
       "javascript": [
        "$('div#5c8e81be-45ea-41c7-8eda-1db0dadcf857').text('ETA:  0:00:02');"
       ],
       "metadata": {},
       "output_type": "display_data",
       "text": [
        "<IPython.core.display.Javascript at 0x13f166cd0>"
       ]
      },
      {
       "javascript": [
        "$('div#3d47f160-b3ac-4fcb-b481-2ef681798b19').text(' 99%');"
       ],
       "metadata": {},
       "output_type": "display_data",
       "text": [
        "<IPython.core.display.Javascript at 0x13f166bd0>"
       ]
      },
      {
       "javascript": [
        "\n",
        "        var $myPB = $(\"div#83664a52-3ef9-422d-aeb6-e0423189cb9e\")\n",
        "        if ($myPB.hasClass('ui-progressbar')) {\n",
        "            $myPB.progressbar('value', 99);\n",
        "        } else {\n",
        "            $myPB.progressbar({value: 0, max: 100});\n",
        "        }\n",
        "        "
       ],
       "metadata": {},
       "output_type": "display_data",
       "text": [
        "<IPython.core.display.Javascript at 0x13f166610>"
       ]
      },
      {
       "javascript": [
        "$('div#5c8e81be-45ea-41c7-8eda-1db0dadcf857').text('ETA:  0:00:01');"
       ],
       "metadata": {},
       "output_type": "display_data",
       "text": [
        "<IPython.core.display.Javascript at 0x13f1663d0>"
       ]
      },
      {
       "javascript": [
        "$('div#3d47f160-b3ac-4fcb-b481-2ef681798b19').text('100%');"
       ],
       "metadata": {},
       "output_type": "display_data",
       "text": [
        "<IPython.core.display.Javascript at 0x13f166910>"
       ]
      },
      {
       "javascript": [
        "\n",
        "        var $myPB = $(\"div#83664a52-3ef9-422d-aeb6-e0423189cb9e\")\n",
        "        if ($myPB.hasClass('ui-progressbar')) {\n",
        "            $myPB.progressbar('value', 100);\n",
        "        } else {\n",
        "            $myPB.progressbar({value: 0, max: 100});\n",
        "        }\n",
        "        "
       ],
       "metadata": {},
       "output_type": "display_data",
       "text": [
        "<IPython.core.display.Javascript at 0x13f166f10>"
       ]
      },
      {
       "javascript": [
        "$('div#5c8e81be-45ea-41c7-8eda-1db0dadcf857').text('Time: 0:02:12');"
       ],
       "metadata": {},
       "output_type": "display_data",
       "text": [
        "<IPython.core.display.Javascript at 0x13f1666d0>"
       ]
      },
      {
       "javascript": [
        "var element = document.getElementById('dbf94ff5-7380-41ad-89f9-5af3b51b1e36');\n",
        "                    var parent = element.parentNode\n",
        "                    parent.removeChild(element);\n",
        "                    parent.parentElement.remove();"
       ],
       "metadata": {},
       "output_type": "display_data",
       "text": [
        "<IPython.core.display.Javascript at 0x128c9e690>"
       ]
      },
      {
       "javascript": [
        "this.cleanProgressBar(['dbf94ff5-7380-41ad-89f9-5af3b51b1e36', '3d47f160-b3ac-4fcb-b481-2ef681798b19', '83664a52-3ef9-422d-aeb6-e0423189cb9e', '5c8e81be-45ea-41c7-8eda-1db0dadcf857'])"
       ],
       "metadata": {},
       "output_type": "display_data",
       "text": [
        "<IPython.core.display.Javascript at 0x13f166490>"
       ]
      },
      {
       "output_type": "stream",
       "stream": "stdout",
       "text": [
        "-4.447249484612775\n",
        "-22.754745016900845\n",
        "-51.46760462341195\n"
       ]
      }
     ],
     "prompt_number": 86
    }
   ],
   "metadata": {}
  }
 ]
}