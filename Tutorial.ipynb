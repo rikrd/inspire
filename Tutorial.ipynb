{
 "metadata": {
  "name": "",
  "signature": "sha256:476ac36ee90e7330e2d527e4a1082009f6f51bebf0f43d567403a5f02f43a6d8"
 },
 "nbformat": 3,
 "nbformat_minor": 0,
 "worksheets": [
  {
   "cells": [
    {
     "cell_type": "markdown",
     "metadata": {},
     "source": [
      "# Getting started\n",
      "## Installing the necessary module\n",
      "\n",
      "You must first install the `inspire` Python module.\n",
      "\n",
      "This can be done using `pip` by running the following command in your terminal:\n",
      "```\n",
      "pip install inspire\n",
      "```\n",
      "\n",
      "You may also run the following command to upgrade to the latest version:\n",
      "```\n",
      "pip install --upgrade inspire\n",
      "```\n",
      "\n",
      "## Importing the necessary modules\n",
      "To start with we will import the modules we are going to use throughout this tutorial."
     ]
    },
    {
     "cell_type": "code",
     "collapsed": false,
     "input": [
      "import numpy as np\n",
      "import inspire\n",
      "inspire.BASE_URL = 'http://localhost:5000'"
     ],
     "language": "python",
     "metadata": {},
     "outputs": [],
     "prompt_number": 11
    },
    {
     "cell_type": "markdown",
     "metadata": {},
     "source": [
      "## The setting\n",
      "An evaluation setting is composed of a dataset, a lexicon and several evaluation parameters. A submission will always be tied to a given evaluation setting.  Therefore our first job is to get an evaluation setting to work on.\n",
      "\n",
      "By not passing any parameters we will be getting the default one.  Currently the default setting is a dataset of words in Spanish and a large vocabulary lexicon in IPA encoding."
     ]
    },
    {
     "cell_type": "code",
     "collapsed": false,
     "input": [
      "setting = inspire.get_evaluation_setting()"
     ],
     "language": "python",
     "metadata": {},
     "outputs": [],
     "prompt_number": 2
    },
    {
     "cell_type": "markdown",
     "metadata": {},
     "source": [
      "## The dataset\n",
      "Next we download the dataset, load it, and have a quick peak of what is in it."
     ]
    },
    {
     "cell_type": "code",
     "collapsed": false,
     "input": [
      "dataset_filename = setting.download_dataset()\n",
      "dataset = inspire.load_dataset(dataset_filename)\n",
      "\n",
      "print('There are {} tokens in dataset'.format(len(dataset['tokens'])))\n",
      "\n",
      "inspire.pprint(dataset['tokens']['35541'])"
     ],
     "language": "python",
     "metadata": {},
     "outputs": [
      {
       "javascript": [
        "//ef42fd92-9ea4-4828-ace6-8bfb0a1123a2\n",
        "$(\"head\").append(\"<style> td.pb_widget {     width: auto; } td.pb_widget_fill {     width: 100%; } table.pb {     font-family: monospace;     border: 0;     margin: 0; } table.pb tr { border: 0; } table.pb td {     white-space: nowrap;     border: 0; } div.pb {     border: 1px solid #ddd;     border-radius: 3px; } div.pb_bar {     height: 1.5em; } </style>\")"
       ],
       "metadata": {},
       "output_type": "display_data",
       "text": [
        "<IPython.core.display.Javascript at 0x10ff14090>"
       ]
      },
      {
       "javascript": [
        "\n",
        "                  // ef42fd92-9ea4-4828-ace6-8bfb0a1123a2 -- used to remove this code blob in the end\n",
        "                  IPython.OutputArea.prototype.cleanProgressBar = function(uuids) {\n",
        "                      // filter by uuid-strings \n",
        "                      var myfilter = function(output) { \n",
        "                          var nuids = uuids.length;\n",
        "                          for (var i=0; i<nuids; i++) {\n",
        "                              if (output.hasOwnProperty('html')) {\n",
        "                                  if (output.html.indexOf(uuids[i]) != -1) {\n",
        "                                      return false;\n",
        "                                  }\n",
        "                              }\n",
        "                              if (output.hasOwnProperty('javascript')) {\n",
        "                                  if (output.javascript.indexOf(uuids[i]) != -1) {\n",
        "                                      return false;\n",
        "                                  }\n",
        "                              }\n",
        "                          }\n",
        "                          // keep all others\n",
        "                          return true;\n",
        "                      };\n",
        "\n",
        "                      // Filter the ouputs\n",
        "                      this.outputs = this.outputs.filter(myfilter);\n",
        "                };\n",
        "                "
       ],
       "metadata": {},
       "output_type": "display_data",
       "text": [
        "<IPython.core.display.Javascript at 0x10ff14210>"
       ]
      },
      {
       "html": [
        "<div class=\"pb\" id=\"ef42fd92-9ea4-4828-ace6-8bfb0a1123a2\"><table class=\"pb ui-widget\"><tr>\n",
        "<td class=\"pb_widget\">Downloading: </td>\n",
        "<td class=\"pb_widget\"><div id=\"5d35ab20-d849-422d-9617-3860f987da04\">  0%</div></td>\n",
        "<td class=\"pb_widget\"> </td>\n",
        "<td class=\"pb_widget_fill\">\n",
        "        <div class=\"pb_bar\" id=\"9c604130-1c6f-4455-ae47-a4d81e9de643\"></div>\n",
        "        <script type=\"text/javascript\">\n",
        "            $(\"div#9c604130-1c6f-4455-ae47-a4d81e9de643\").progressbar({value: 0, max: 636151});\n",
        "        </script>\n",
        "        </td>\n",
        "<td class=\"pb_widget\"> </td>\n",
        "<td class=\"pb_widget\"><div id=\"31129919-7df9-4cc2-8aa7-3e4ab5410be7\">ETA:  --:--:--</div></td>\n",
        "<td class=\"pb_widget\"> </td>\n",
        "<td class=\"pb_widget\"><div id=\"399fe0ce-1ec6-47c6-b3b6-3bf062b80a79\">  0.00  B/s</div></td>\n",
        "</tr></table><div>"
       ],
       "metadata": {},
       "output_type": "display_data",
       "text": [
        "<IPython.core.display.HTML at 0x10ff14250>"
       ]
      },
      {
       "javascript": [
        "$('div#5d35ab20-d849-422d-9617-3860f987da04').text('  1%');"
       ],
       "metadata": {},
       "output_type": "display_data",
       "text": [
        "<IPython.core.display.Javascript at 0x10ff14490>"
       ]
      },
      {
       "javascript": [
        "\n",
        "        var $myPB = $(\"div#9c604130-1c6f-4455-ae47-a4d81e9de643\")\n",
        "        if ($myPB.hasClass('ui-progressbar')) {\n",
        "            $myPB.progressbar('value', 8192);\n",
        "        } else {\n",
        "            $myPB.progressbar({value: 0, max: 636151});\n",
        "        }\n",
        "        "
       ],
       "metadata": {},
       "output_type": "display_data",
       "text": [
        "<IPython.core.display.Javascript at 0x10ff144d0>"
       ]
      },
      {
       "javascript": [
        "$('div#31129919-7df9-4cc2-8aa7-3e4ab5410be7').text('ETA:  0:00:00');"
       ],
       "metadata": {},
       "output_type": "display_data",
       "text": [
        "<IPython.core.display.Javascript at 0x10ff14510>"
       ]
      },
      {
       "javascript": [
        "$('div#399fe0ce-1ec6-47c6-b3b6-3bf062b80a79').text('  8.96 MB/s');"
       ],
       "metadata": {},
       "output_type": "display_data",
       "text": [
        "<IPython.core.display.Javascript at 0x10ff14450>"
       ]
      },
      {
       "javascript": [
        "$('div#5d35ab20-d849-422d-9617-3860f987da04').text('  2%');"
       ],
       "metadata": {},
       "output_type": "display_data",
       "text": [
        "<IPython.core.display.Javascript at 0x10ff14550>"
       ]
      },
      {
       "javascript": [
        "\n",
        "        var $myPB = $(\"div#9c604130-1c6f-4455-ae47-a4d81e9de643\")\n",
        "        if ($myPB.hasClass('ui-progressbar')) {\n",
        "            $myPB.progressbar('value', 16384);\n",
        "        } else {\n",
        "            $myPB.progressbar({value: 0, max: 636151});\n",
        "        }\n",
        "        "
       ],
       "metadata": {},
       "output_type": "display_data",
       "text": [
        "<IPython.core.display.Javascript at 0x10ff145d0>"
       ]
      },
      {
       "javascript": [
        "$('div#31129919-7df9-4cc2-8aa7-3e4ab5410be7').text('ETA:  0:00:00');"
       ],
       "metadata": {},
       "output_type": "display_data",
       "text": [
        "<IPython.core.display.Javascript at 0x10ff14610>"
       ]
      },
      {
       "javascript": [
        "$('div#399fe0ce-1ec6-47c6-b3b6-3bf062b80a79').text('  5.34 MB/s');"
       ],
       "metadata": {},
       "output_type": "display_data",
       "text": [
        "<IPython.core.display.Javascript at 0x10ff14650>"
       ]
      },
      {
       "javascript": [
        "$('div#5d35ab20-d849-422d-9617-3860f987da04').text('  3%');"
       ],
       "metadata": {},
       "output_type": "display_data",
       "text": [
        "<IPython.core.display.Javascript at 0x10ff146d0>"
       ]
      },
      {
       "javascript": [
        "\n",
        "        var $myPB = $(\"div#9c604130-1c6f-4455-ae47-a4d81e9de643\")\n",
        "        if ($myPB.hasClass('ui-progressbar')) {\n",
        "            $myPB.progressbar('value', 24576);\n",
        "        } else {\n",
        "            $myPB.progressbar({value: 0, max: 636151});\n",
        "        }\n",
        "        "
       ],
       "metadata": {},
       "output_type": "display_data",
       "text": [
        "<IPython.core.display.Javascript at 0x10ff14710>"
       ]
      },
      {
       "javascript": [
        "$('div#31129919-7df9-4cc2-8aa7-3e4ab5410be7').text('ETA:  0:00:00');"
       ],
       "metadata": {},
       "output_type": "display_data",
       "text": [
        "<IPython.core.display.Javascript at 0x10ff14750>"
       ]
      },
      {
       "javascript": [
        "$('div#399fe0ce-1ec6-47c6-b3b6-3bf062b80a79').text('  4.74 MB/s');"
       ],
       "metadata": {},
       "output_type": "display_data",
       "text": [
        "<IPython.core.display.Javascript at 0x10ff14790>"
       ]
      },
      {
       "javascript": [
        "$('div#5d35ab20-d849-422d-9617-3860f987da04').text('  5%');"
       ],
       "metadata": {},
       "output_type": "display_data",
       "text": [
        "<IPython.core.display.Javascript at 0x10ff147d0>"
       ]
      },
      {
       "javascript": [
        "\n",
        "        var $myPB = $(\"div#9c604130-1c6f-4455-ae47-a4d81e9de643\")\n",
        "        if ($myPB.hasClass('ui-progressbar')) {\n",
        "            $myPB.progressbar('value', 32768);\n",
        "        } else {\n",
        "            $myPB.progressbar({value: 0, max: 636151});\n",
        "        }\n",
        "        "
       ],
       "metadata": {},
       "output_type": "display_data",
       "text": [
        "<IPython.core.display.Javascript at 0x10ff14810>"
       ]
      },
      {
       "javascript": [
        "$('div#31129919-7df9-4cc2-8aa7-3e4ab5410be7').text('ETA:  0:00:00');"
       ],
       "metadata": {},
       "output_type": "display_data",
       "text": [
        "<IPython.core.display.Javascript at 0x10ff14850>"
       ]
      },
      {
       "javascript": [
        "$('div#399fe0ce-1ec6-47c6-b3b6-3bf062b80a79').text('  4.47 MB/s');"
       ],
       "metadata": {},
       "output_type": "display_data",
       "text": [
        "<IPython.core.display.Javascript at 0x10ff14890>"
       ]
      },
      {
       "javascript": [
        "$('div#5d35ab20-d849-422d-9617-3860f987da04').text('  6%');"
       ],
       "metadata": {},
       "output_type": "display_data",
       "text": [
        "<IPython.core.display.Javascript at 0x10ff148d0>"
       ]
      },
      {
       "javascript": [
        "\n",
        "        var $myPB = $(\"div#9c604130-1c6f-4455-ae47-a4d81e9de643\")\n",
        "        if ($myPB.hasClass('ui-progressbar')) {\n",
        "            $myPB.progressbar('value', 40960);\n",
        "        } else {\n",
        "            $myPB.progressbar({value: 0, max: 636151});\n",
        "        }\n",
        "        "
       ],
       "metadata": {},
       "output_type": "display_data",
       "text": [
        "<IPython.core.display.Javascript at 0x10ff14910>"
       ]
      },
      {
       "javascript": [
        "$('div#31129919-7df9-4cc2-8aa7-3e4ab5410be7').text('ETA:  0:00:00');"
       ],
       "metadata": {},
       "output_type": "display_data",
       "text": [
        "<IPython.core.display.Javascript at 0x10ff14950>"
       ]
      },
      {
       "javascript": [
        "$('div#399fe0ce-1ec6-47c6-b3b6-3bf062b80a79').text('  4.32 MB/s');"
       ],
       "metadata": {},
       "output_type": "display_data",
       "text": [
        "<IPython.core.display.Javascript at 0x10ff14990>"
       ]
      },
      {
       "javascript": [
        "$('div#5d35ab20-d849-422d-9617-3860f987da04').text('  7%');"
       ],
       "metadata": {},
       "output_type": "display_data",
       "text": [
        "<IPython.core.display.Javascript at 0x10ff149d0>"
       ]
      },
      {
       "javascript": [
        "\n",
        "        var $myPB = $(\"div#9c604130-1c6f-4455-ae47-a4d81e9de643\")\n",
        "        if ($myPB.hasClass('ui-progressbar')) {\n",
        "            $myPB.progressbar('value', 49152);\n",
        "        } else {\n",
        "            $myPB.progressbar({value: 0, max: 636151});\n",
        "        }\n",
        "        "
       ],
       "metadata": {},
       "output_type": "display_data",
       "text": [
        "<IPython.core.display.Javascript at 0x10ff14a10>"
       ]
      },
      {
       "javascript": [
        "$('div#31129919-7df9-4cc2-8aa7-3e4ab5410be7').text('ETA:  0:00:00');"
       ],
       "metadata": {},
       "output_type": "display_data",
       "text": [
        "<IPython.core.display.Javascript at 0x10ff14a50>"
       ]
      },
      {
       "javascript": [
        "$('div#399fe0ce-1ec6-47c6-b3b6-3bf062b80a79').text('  4.27 MB/s');"
       ],
       "metadata": {},
       "output_type": "display_data",
       "text": [
        "<IPython.core.display.Javascript at 0x10ff14a90>"
       ]
      },
      {
       "javascript": [
        "$('div#5d35ab20-d849-422d-9617-3860f987da04').text('  9%');"
       ],
       "metadata": {},
       "output_type": "display_data",
       "text": [
        "<IPython.core.display.Javascript at 0x10ff14ad0>"
       ]
      },
      {
       "javascript": [
        "\n",
        "        var $myPB = $(\"div#9c604130-1c6f-4455-ae47-a4d81e9de643\")\n",
        "        if ($myPB.hasClass('ui-progressbar')) {\n",
        "            $myPB.progressbar('value', 57344);\n",
        "        } else {\n",
        "            $myPB.progressbar({value: 0, max: 636151});\n",
        "        }\n",
        "        "
       ],
       "metadata": {},
       "output_type": "display_data",
       "text": [
        "<IPython.core.display.Javascript at 0x10ff14b10>"
       ]
      },
      {
       "javascript": [
        "$('div#31129919-7df9-4cc2-8aa7-3e4ab5410be7').text('ETA:  0:00:00');"
       ],
       "metadata": {},
       "output_type": "display_data",
       "text": [
        "<IPython.core.display.Javascript at 0x10ff14b50>"
       ]
      },
      {
       "javascript": [
        "$('div#399fe0ce-1ec6-47c6-b3b6-3bf062b80a79').text('  4.25 MB/s');"
       ],
       "metadata": {},
       "output_type": "display_data",
       "text": [
        "<IPython.core.display.Javascript at 0x10ff14b90>"
       ]
      },
      {
       "javascript": [
        "$('div#5d35ab20-d849-422d-9617-3860f987da04').text(' 10%');"
       ],
       "metadata": {},
       "output_type": "display_data",
       "text": [
        "<IPython.core.display.Javascript at 0x10ff14bd0>"
       ]
      },
      {
       "javascript": [
        "\n",
        "        var $myPB = $(\"div#9c604130-1c6f-4455-ae47-a4d81e9de643\")\n",
        "        if ($myPB.hasClass('ui-progressbar')) {\n",
        "            $myPB.progressbar('value', 65536);\n",
        "        } else {\n",
        "            $myPB.progressbar({value: 0, max: 636151});\n",
        "        }\n",
        "        "
       ],
       "metadata": {},
       "output_type": "display_data",
       "text": [
        "<IPython.core.display.Javascript at 0x10ff14c10>"
       ]
      },
      {
       "javascript": [
        "$('div#31129919-7df9-4cc2-8aa7-3e4ab5410be7').text('ETA:  0:00:00');"
       ],
       "metadata": {},
       "output_type": "display_data",
       "text": [
        "<IPython.core.display.Javascript at 0x10ff14c50>"
       ]
      },
      {
       "javascript": [
        "$('div#399fe0ce-1ec6-47c6-b3b6-3bf062b80a79').text('  4.20 MB/s');"
       ],
       "metadata": {},
       "output_type": "display_data",
       "text": [
        "<IPython.core.display.Javascript at 0x10ff14c90>"
       ]
      },
      {
       "javascript": [
        "$('div#5d35ab20-d849-422d-9617-3860f987da04').text(' 11%');"
       ],
       "metadata": {},
       "output_type": "display_data",
       "text": [
        "<IPython.core.display.Javascript at 0x10ff14cd0>"
       ]
      },
      {
       "javascript": [
        "\n",
        "        var $myPB = $(\"div#9c604130-1c6f-4455-ae47-a4d81e9de643\")\n",
        "        if ($myPB.hasClass('ui-progressbar')) {\n",
        "            $myPB.progressbar('value', 73728);\n",
        "        } else {\n",
        "            $myPB.progressbar({value: 0, max: 636151});\n",
        "        }\n",
        "        "
       ],
       "metadata": {},
       "output_type": "display_data",
       "text": [
        "<IPython.core.display.Javascript at 0x10ff14d10>"
       ]
      },
      {
       "javascript": [
        "$('div#31129919-7df9-4cc2-8aa7-3e4ab5410be7').text('ETA:  0:00:00');"
       ],
       "metadata": {},
       "output_type": "display_data",
       "text": [
        "<IPython.core.display.Javascript at 0x10ff14d50>"
       ]
      },
      {
       "javascript": [
        "$('div#399fe0ce-1ec6-47c6-b3b6-3bf062b80a79').text('  4.19 MB/s');"
       ],
       "metadata": {},
       "output_type": "display_data",
       "text": [
        "<IPython.core.display.Javascript at 0x10ff14d90>"
       ]
      },
      {
       "javascript": [
        "$('div#5d35ab20-d849-422d-9617-3860f987da04').text(' 12%');"
       ],
       "metadata": {},
       "output_type": "display_data",
       "text": [
        "<IPython.core.display.Javascript at 0x10ff14dd0>"
       ]
      },
      {
       "javascript": [
        "\n",
        "        var $myPB = $(\"div#9c604130-1c6f-4455-ae47-a4d81e9de643\")\n",
        "        if ($myPB.hasClass('ui-progressbar')) {\n",
        "            $myPB.progressbar('value', 81920);\n",
        "        } else {\n",
        "            $myPB.progressbar({value: 0, max: 636151});\n",
        "        }\n",
        "        "
       ],
       "metadata": {},
       "output_type": "display_data",
       "text": [
        "<IPython.core.display.Javascript at 0x10ff14e10>"
       ]
      },
      {
       "javascript": [
        "$('div#31129919-7df9-4cc2-8aa7-3e4ab5410be7').text('ETA:  0:00:00');"
       ],
       "metadata": {},
       "output_type": "display_data",
       "text": [
        "<IPython.core.display.Javascript at 0x10ff14e50>"
       ]
      },
      {
       "javascript": [
        "$('div#399fe0ce-1ec6-47c6-b3b6-3bf062b80a79').text('  4.18 MB/s');"
       ],
       "metadata": {},
       "output_type": "display_data",
       "text": [
        "<IPython.core.display.Javascript at 0x10ff14e90>"
       ]
      },
      {
       "javascript": [
        "$('div#5d35ab20-d849-422d-9617-3860f987da04').text(' 14%');"
       ],
       "metadata": {},
       "output_type": "display_data",
       "text": [
        "<IPython.core.display.Javascript at 0x10ff14ed0>"
       ]
      },
      {
       "javascript": [
        "\n",
        "        var $myPB = $(\"div#9c604130-1c6f-4455-ae47-a4d81e9de643\")\n",
        "        if ($myPB.hasClass('ui-progressbar')) {\n",
        "            $myPB.progressbar('value', 90112);\n",
        "        } else {\n",
        "            $myPB.progressbar({value: 0, max: 636151});\n",
        "        }\n",
        "        "
       ],
       "metadata": {},
       "output_type": "display_data",
       "text": [
        "<IPython.core.display.Javascript at 0x10ff14f10>"
       ]
      },
      {
       "javascript": [
        "$('div#31129919-7df9-4cc2-8aa7-3e4ab5410be7').text('ETA:  0:00:00');"
       ],
       "metadata": {},
       "output_type": "display_data",
       "text": [
        "<IPython.core.display.Javascript at 0x10ff14f10>"
       ]
      },
      {
       "javascript": [
        "$('div#399fe0ce-1ec6-47c6-b3b6-3bf062b80a79').text('  4.17 MB/s');"
       ],
       "metadata": {},
       "output_type": "display_data",
       "text": [
        "<IPython.core.display.Javascript at 0x10ff14f50>"
       ]
      },
      {
       "javascript": [
        "$('div#5d35ab20-d849-422d-9617-3860f987da04').text(' 15%');"
       ],
       "metadata": {},
       "output_type": "display_data",
       "text": [
        "<IPython.core.display.Javascript at 0x10ff14f90>"
       ]
      },
      {
       "javascript": [
        "\n",
        "        var $myPB = $(\"div#9c604130-1c6f-4455-ae47-a4d81e9de643\")\n",
        "        if ($myPB.hasClass('ui-progressbar')) {\n",
        "            $myPB.progressbar('value', 98304);\n",
        "        } else {\n",
        "            $myPB.progressbar({value: 0, max: 636151});\n",
        "        }\n",
        "        "
       ],
       "metadata": {},
       "output_type": "display_data",
       "text": [
        "<IPython.core.display.Javascript at 0x10ff14fd0>"
       ]
      },
      {
       "javascript": [
        "$('div#31129919-7df9-4cc2-8aa7-3e4ab5410be7').text('ETA:  0:00:00');"
       ],
       "metadata": {},
       "output_type": "display_data",
       "text": [
        "<IPython.core.display.Javascript at 0x10ff14ed0>"
       ]
      },
      {
       "javascript": [
        "$('div#399fe0ce-1ec6-47c6-b3b6-3bf062b80a79').text('  3.97 MB/s');"
       ],
       "metadata": {},
       "output_type": "display_data",
       "text": [
        "<IPython.core.display.Javascript at 0x10ff14e90>"
       ]
      },
      {
       "javascript": [
        "$('div#5d35ab20-d849-422d-9617-3860f987da04').text(' 16%');"
       ],
       "metadata": {},
       "output_type": "display_data",
       "text": [
        "<IPython.core.display.Javascript at 0x10ff14e50>"
       ]
      },
      {
       "javascript": [
        "\n",
        "        var $myPB = $(\"div#9c604130-1c6f-4455-ae47-a4d81e9de643\")\n",
        "        if ($myPB.hasClass('ui-progressbar')) {\n",
        "            $myPB.progressbar('value', 106496);\n",
        "        } else {\n",
        "            $myPB.progressbar({value: 0, max: 636151});\n",
        "        }\n",
        "        "
       ],
       "metadata": {},
       "output_type": "display_data",
       "text": [
        "<IPython.core.display.Javascript at 0x10ff14e10>"
       ]
      },
      {
       "javascript": [
        "$('div#31129919-7df9-4cc2-8aa7-3e4ab5410be7').text('ETA:  0:00:00');"
       ],
       "metadata": {},
       "output_type": "display_data",
       "text": [
        "<IPython.core.display.Javascript at 0x10ff14dd0>"
       ]
      },
      {
       "javascript": [
        "$('div#399fe0ce-1ec6-47c6-b3b6-3bf062b80a79').text('  3.98 MB/s');"
       ],
       "metadata": {},
       "output_type": "display_data",
       "text": [
        "<IPython.core.display.Javascript at 0x10ff14d90>"
       ]
      },
      {
       "javascript": [
        "$('div#5d35ab20-d849-422d-9617-3860f987da04').text(' 18%');"
       ],
       "metadata": {},
       "output_type": "display_data",
       "text": [
        "<IPython.core.display.Javascript at 0x10ff14d50>"
       ]
      },
      {
       "javascript": [
        "\n",
        "        var $myPB = $(\"div#9c604130-1c6f-4455-ae47-a4d81e9de643\")\n",
        "        if ($myPB.hasClass('ui-progressbar')) {\n",
        "            $myPB.progressbar('value', 114688);\n",
        "        } else {\n",
        "            $myPB.progressbar({value: 0, max: 636151});\n",
        "        }\n",
        "        "
       ],
       "metadata": {},
       "output_type": "display_data",
       "text": [
        "<IPython.core.display.Javascript at 0x10ff14d10>"
       ]
      },
      {
       "javascript": [
        "$('div#31129919-7df9-4cc2-8aa7-3e4ab5410be7').text('ETA:  0:00:00');"
       ],
       "metadata": {},
       "output_type": "display_data",
       "text": [
        "<IPython.core.display.Javascript at 0x10ff14cd0>"
       ]
      },
      {
       "javascript": [
        "$('div#399fe0ce-1ec6-47c6-b3b6-3bf062b80a79').text('  4.00 MB/s');"
       ],
       "metadata": {},
       "output_type": "display_data",
       "text": [
        "<IPython.core.display.Javascript at 0x10ff14c90>"
       ]
      },
      {
       "javascript": [
        "$('div#5d35ab20-d849-422d-9617-3860f987da04').text(' 19%');"
       ],
       "metadata": {},
       "output_type": "display_data",
       "text": [
        "<IPython.core.display.Javascript at 0x10ff14c50>"
       ]
      },
      {
       "javascript": [
        "\n",
        "        var $myPB = $(\"div#9c604130-1c6f-4455-ae47-a4d81e9de643\")\n",
        "        if ($myPB.hasClass('ui-progressbar')) {\n",
        "            $myPB.progressbar('value', 122880);\n",
        "        } else {\n",
        "            $myPB.progressbar({value: 0, max: 636151});\n",
        "        }\n",
        "        "
       ],
       "metadata": {},
       "output_type": "display_data",
       "text": [
        "<IPython.core.display.Javascript at 0x10ff14c10>"
       ]
      },
      {
       "javascript": [
        "$('div#31129919-7df9-4cc2-8aa7-3e4ab5410be7').text('ETA:  0:00:00');"
       ],
       "metadata": {},
       "output_type": "display_data",
       "text": [
        "<IPython.core.display.Javascript at 0x10ff14bd0>"
       ]
      },
      {
       "javascript": [
        "$('div#399fe0ce-1ec6-47c6-b3b6-3bf062b80a79').text('  3.94 MB/s');"
       ],
       "metadata": {},
       "output_type": "display_data",
       "text": [
        "<IPython.core.display.Javascript at 0x10ff14b90>"
       ]
      },
      {
       "javascript": [
        "$('div#5d35ab20-d849-422d-9617-3860f987da04').text(' 20%');"
       ],
       "metadata": {},
       "output_type": "display_data",
       "text": [
        "<IPython.core.display.Javascript at 0x10ff14b50>"
       ]
      },
      {
       "javascript": [
        "\n",
        "        var $myPB = $(\"div#9c604130-1c6f-4455-ae47-a4d81e9de643\")\n",
        "        if ($myPB.hasClass('ui-progressbar')) {\n",
        "            $myPB.progressbar('value', 131072);\n",
        "        } else {\n",
        "            $myPB.progressbar({value: 0, max: 636151});\n",
        "        }\n",
        "        "
       ],
       "metadata": {},
       "output_type": "display_data",
       "text": [
        "<IPython.core.display.Javascript at 0x10ff14b10>"
       ]
      },
      {
       "javascript": [
        "$('div#31129919-7df9-4cc2-8aa7-3e4ab5410be7').text('ETA:  0:00:00');"
       ],
       "metadata": {},
       "output_type": "display_data",
       "text": [
        "<IPython.core.display.Javascript at 0x10ff14ad0>"
       ]
      },
      {
       "javascript": [
        "$('div#399fe0ce-1ec6-47c6-b3b6-3bf062b80a79').text('  3.93 MB/s');"
       ],
       "metadata": {},
       "output_type": "display_data",
       "text": [
        "<IPython.core.display.Javascript at 0x10ff14a90>"
       ]
      },
      {
       "javascript": [
        "$('div#5d35ab20-d849-422d-9617-3860f987da04').text(' 21%');"
       ],
       "metadata": {},
       "output_type": "display_data",
       "text": [
        "<IPython.core.display.Javascript at 0x10ff14a50>"
       ]
      },
      {
       "javascript": [
        "\n",
        "        var $myPB = $(\"div#9c604130-1c6f-4455-ae47-a4d81e9de643\")\n",
        "        if ($myPB.hasClass('ui-progressbar')) {\n",
        "            $myPB.progressbar('value', 139264);\n",
        "        } else {\n",
        "            $myPB.progressbar({value: 0, max: 636151});\n",
        "        }\n",
        "        "
       ],
       "metadata": {},
       "output_type": "display_data",
       "text": [
        "<IPython.core.display.Javascript at 0x10ff14a10>"
       ]
      },
      {
       "javascript": [
        "$('div#31129919-7df9-4cc2-8aa7-3e4ab5410be7').text('ETA:  0:00:00');"
       ],
       "metadata": {},
       "output_type": "display_data",
       "text": [
        "<IPython.core.display.Javascript at 0x10ff149d0>"
       ]
      },
      {
       "javascript": [
        "$('div#399fe0ce-1ec6-47c6-b3b6-3bf062b80a79').text('  3.88 MB/s');"
       ],
       "metadata": {},
       "output_type": "display_data",
       "text": [
        "<IPython.core.display.Javascript at 0x10ff14990>"
       ]
      },
      {
       "javascript": [
        "$('div#5d35ab20-d849-422d-9617-3860f987da04').text(' 23%');"
       ],
       "metadata": {},
       "output_type": "display_data",
       "text": [
        "<IPython.core.display.Javascript at 0x10ff14950>"
       ]
      },
      {
       "javascript": [
        "\n",
        "        var $myPB = $(\"div#9c604130-1c6f-4455-ae47-a4d81e9de643\")\n",
        "        if ($myPB.hasClass('ui-progressbar')) {\n",
        "            $myPB.progressbar('value', 147456);\n",
        "        } else {\n",
        "            $myPB.progressbar({value: 0, max: 636151});\n",
        "        }\n",
        "        "
       ],
       "metadata": {},
       "output_type": "display_data",
       "text": [
        "<IPython.core.display.Javascript at 0x10ff14910>"
       ]
      },
      {
       "javascript": [
        "$('div#31129919-7df9-4cc2-8aa7-3e4ab5410be7').text('ETA:  0:00:00');"
       ],
       "metadata": {},
       "output_type": "display_data",
       "text": [
        "<IPython.core.display.Javascript at 0x10ff148d0>"
       ]
      },
      {
       "javascript": [
        "$('div#399fe0ce-1ec6-47c6-b3b6-3bf062b80a79').text('  3.86 MB/s');"
       ],
       "metadata": {},
       "output_type": "display_data",
       "text": [
        "<IPython.core.display.Javascript at 0x10ff14890>"
       ]
      },
      {
       "javascript": [
        "$('div#5d35ab20-d849-422d-9617-3860f987da04').text(' 24%');"
       ],
       "metadata": {},
       "output_type": "display_data",
       "text": [
        "<IPython.core.display.Javascript at 0x10ff14850>"
       ]
      },
      {
       "javascript": [
        "\n",
        "        var $myPB = $(\"div#9c604130-1c6f-4455-ae47-a4d81e9de643\")\n",
        "        if ($myPB.hasClass('ui-progressbar')) {\n",
        "            $myPB.progressbar('value', 155648);\n",
        "        } else {\n",
        "            $myPB.progressbar({value: 0, max: 636151});\n",
        "        }\n",
        "        "
       ],
       "metadata": {},
       "output_type": "display_data",
       "text": [
        "<IPython.core.display.Javascript at 0x10ff14810>"
       ]
      },
      {
       "javascript": [
        "$('div#31129919-7df9-4cc2-8aa7-3e4ab5410be7').text('ETA:  0:00:00');"
       ],
       "metadata": {},
       "output_type": "display_data",
       "text": [
        "<IPython.core.display.Javascript at 0x10ff147d0>"
       ]
      },
      {
       "javascript": [
        "$('div#399fe0ce-1ec6-47c6-b3b6-3bf062b80a79').text('  3.84 MB/s');"
       ],
       "metadata": {},
       "output_type": "display_data",
       "text": [
        "<IPython.core.display.Javascript at 0x10ff14790>"
       ]
      },
      {
       "javascript": [
        "$('div#5d35ab20-d849-422d-9617-3860f987da04').text(' 25%');"
       ],
       "metadata": {},
       "output_type": "display_data",
       "text": [
        "<IPython.core.display.Javascript at 0x10ff14750>"
       ]
      },
      {
       "javascript": [
        "\n",
        "        var $myPB = $(\"div#9c604130-1c6f-4455-ae47-a4d81e9de643\")\n",
        "        if ($myPB.hasClass('ui-progressbar')) {\n",
        "            $myPB.progressbar('value', 163840);\n",
        "        } else {\n",
        "            $myPB.progressbar({value: 0, max: 636151});\n",
        "        }\n",
        "        "
       ],
       "metadata": {},
       "output_type": "display_data",
       "text": [
        "<IPython.core.display.Javascript at 0x10ff14710>"
       ]
      },
      {
       "javascript": [
        "$('div#31129919-7df9-4cc2-8aa7-3e4ab5410be7').text('ETA:  0:00:00');"
       ],
       "metadata": {},
       "output_type": "display_data",
       "text": [
        "<IPython.core.display.Javascript at 0x10ff146d0>"
       ]
      },
      {
       "javascript": [
        "$('div#399fe0ce-1ec6-47c6-b3b6-3bf062b80a79').text('  3.85 MB/s');"
       ],
       "metadata": {},
       "output_type": "display_data",
       "text": [
        "<IPython.core.display.Javascript at 0x10ff14650>"
       ]
      },
      {
       "javascript": [
        "$('div#5d35ab20-d849-422d-9617-3860f987da04').text(' 27%');"
       ],
       "metadata": {},
       "output_type": "display_data",
       "text": [
        "<IPython.core.display.Javascript at 0x10ff14610>"
       ]
      },
      {
       "javascript": [
        "\n",
        "        var $myPB = $(\"div#9c604130-1c6f-4455-ae47-a4d81e9de643\")\n",
        "        if ($myPB.hasClass('ui-progressbar')) {\n",
        "            $myPB.progressbar('value', 172032);\n",
        "        } else {\n",
        "            $myPB.progressbar({value: 0, max: 636151});\n",
        "        }\n",
        "        "
       ],
       "metadata": {},
       "output_type": "display_data",
       "text": [
        "<IPython.core.display.Javascript at 0x10ff145d0>"
       ]
      },
      {
       "javascript": [
        "$('div#31129919-7df9-4cc2-8aa7-3e4ab5410be7').text('ETA:  0:00:00');"
       ],
       "metadata": {},
       "output_type": "display_data",
       "text": [
        "<IPython.core.display.Javascript at 0x10ff14550>"
       ]
      },
      {
       "javascript": [
        "$('div#399fe0ce-1ec6-47c6-b3b6-3bf062b80a79').text('  3.86 MB/s');"
       ],
       "metadata": {},
       "output_type": "display_data",
       "text": [
        "<IPython.core.display.Javascript at 0x10ff14450>"
       ]
      },
      {
       "javascript": [
        "$('div#5d35ab20-d849-422d-9617-3860f987da04').text(' 28%');"
       ],
       "metadata": {},
       "output_type": "display_data",
       "text": [
        "<IPython.core.display.Javascript at 0x10ff14510>"
       ]
      },
      {
       "javascript": [
        "\n",
        "        var $myPB = $(\"div#9c604130-1c6f-4455-ae47-a4d81e9de643\")\n",
        "        if ($myPB.hasClass('ui-progressbar')) {\n",
        "            $myPB.progressbar('value', 180224);\n",
        "        } else {\n",
        "            $myPB.progressbar({value: 0, max: 636151});\n",
        "        }\n",
        "        "
       ],
       "metadata": {},
       "output_type": "display_data",
       "text": [
        "<IPython.core.display.Javascript at 0x10ff144d0>"
       ]
      },
      {
       "javascript": [
        "$('div#31129919-7df9-4cc2-8aa7-3e4ab5410be7').text('ETA:  0:00:00');"
       ],
       "metadata": {},
       "output_type": "display_data",
       "text": [
        "<IPython.core.display.Javascript at 0x10ff14490>"
       ]
      },
      {
       "javascript": [
        "$('div#399fe0ce-1ec6-47c6-b3b6-3bf062b80a79').text('  3.87 MB/s');"
       ],
       "metadata": {},
       "output_type": "display_data",
       "text": [
        "<IPython.core.display.Javascript at 0x10ff14250>"
       ]
      },
      {
       "javascript": [
        "$('div#5d35ab20-d849-422d-9617-3860f987da04').text(' 29%');"
       ],
       "metadata": {},
       "output_type": "display_data",
       "text": [
        "<IPython.core.display.Javascript at 0x10ff14210>"
       ]
      },
      {
       "javascript": [
        "\n",
        "        var $myPB = $(\"div#9c604130-1c6f-4455-ae47-a4d81e9de643\")\n",
        "        if ($myPB.hasClass('ui-progressbar')) {\n",
        "            $myPB.progressbar('value', 188416);\n",
        "        } else {\n",
        "            $myPB.progressbar({value: 0, max: 636151});\n",
        "        }\n",
        "        "
       ],
       "metadata": {},
       "output_type": "display_data",
       "text": [
        "<IPython.core.display.Javascript at 0x10ff14090>"
       ]
      },
      {
       "javascript": [
        "$('div#31129919-7df9-4cc2-8aa7-3e4ab5410be7').text('ETA:  0:00:00');"
       ],
       "metadata": {},
       "output_type": "display_data",
       "text": [
        "<IPython.core.display.Javascript at 0x10ff14690>"
       ]
      },
      {
       "javascript": [
        "$('div#399fe0ce-1ec6-47c6-b3b6-3bf062b80a79').text('  3.87 MB/s');"
       ],
       "metadata": {},
       "output_type": "display_data",
       "text": [
        "<IPython.core.display.Javascript at 0x10ff35050>"
       ]
      },
      {
       "javascript": [
        "$('div#5d35ab20-d849-422d-9617-3860f987da04').text(' 30%');"
       ],
       "metadata": {},
       "output_type": "display_data",
       "text": [
        "<IPython.core.display.Javascript at 0x10ff35090>"
       ]
      },
      {
       "javascript": [
        "\n",
        "        var $myPB = $(\"div#9c604130-1c6f-4455-ae47-a4d81e9de643\")\n",
        "        if ($myPB.hasClass('ui-progressbar')) {\n",
        "            $myPB.progressbar('value', 196608);\n",
        "        } else {\n",
        "            $myPB.progressbar({value: 0, max: 636151});\n",
        "        }\n",
        "        "
       ],
       "metadata": {},
       "output_type": "display_data",
       "text": [
        "<IPython.core.display.Javascript at 0x10ff350d0>"
       ]
      },
      {
       "javascript": [
        "$('div#31129919-7df9-4cc2-8aa7-3e4ab5410be7').text('ETA:  0:00:00');"
       ],
       "metadata": {},
       "output_type": "display_data",
       "text": [
        "<IPython.core.display.Javascript at 0x10ff35110>"
       ]
      },
      {
       "javascript": [
        "$('div#399fe0ce-1ec6-47c6-b3b6-3bf062b80a79').text('  3.87 MB/s');"
       ],
       "metadata": {},
       "output_type": "display_data",
       "text": [
        "<IPython.core.display.Javascript at 0x10ff35190>"
       ]
      },
      {
       "javascript": [
        "$('div#5d35ab20-d849-422d-9617-3860f987da04').text(' 32%');"
       ],
       "metadata": {},
       "output_type": "display_data",
       "text": [
        "<IPython.core.display.Javascript at 0x10ff351d0>"
       ]
      },
      {
       "javascript": [
        "\n",
        "        var $myPB = $(\"div#9c604130-1c6f-4455-ae47-a4d81e9de643\")\n",
        "        if ($myPB.hasClass('ui-progressbar')) {\n",
        "            $myPB.progressbar('value', 204800);\n",
        "        } else {\n",
        "            $myPB.progressbar({value: 0, max: 636151});\n",
        "        }\n",
        "        "
       ],
       "metadata": {},
       "output_type": "display_data",
       "text": [
        "<IPython.core.display.Javascript at 0x10ff35210>"
       ]
      },
      {
       "javascript": [
        "$('div#31129919-7df9-4cc2-8aa7-3e4ab5410be7').text('ETA:  0:00:00');"
       ],
       "metadata": {},
       "output_type": "display_data",
       "text": [
        "<IPython.core.display.Javascript at 0x10ff35250>"
       ]
      },
      {
       "javascript": [
        "$('div#399fe0ce-1ec6-47c6-b3b6-3bf062b80a79').text('  3.88 MB/s');"
       ],
       "metadata": {},
       "output_type": "display_data",
       "text": [
        "<IPython.core.display.Javascript at 0x10ff35290>"
       ]
      },
      {
       "javascript": [
        "$('div#5d35ab20-d849-422d-9617-3860f987da04').text(' 33%');"
       ],
       "metadata": {},
       "output_type": "display_data",
       "text": [
        "<IPython.core.display.Javascript at 0x10ff352d0>"
       ]
      },
      {
       "javascript": [
        "\n",
        "        var $myPB = $(\"div#9c604130-1c6f-4455-ae47-a4d81e9de643\")\n",
        "        if ($myPB.hasClass('ui-progressbar')) {\n",
        "            $myPB.progressbar('value', 212992);\n",
        "        } else {\n",
        "            $myPB.progressbar({value: 0, max: 636151});\n",
        "        }\n",
        "        "
       ],
       "metadata": {},
       "output_type": "display_data",
       "text": [
        "<IPython.core.display.Javascript at 0x10ff35310>"
       ]
      },
      {
       "javascript": [
        "$('div#31129919-7df9-4cc2-8aa7-3e4ab5410be7').text('ETA:  0:00:00');"
       ],
       "metadata": {},
       "output_type": "display_data",
       "text": [
        "<IPython.core.display.Javascript at 0x10ff35350>"
       ]
      },
      {
       "javascript": [
        "$('div#399fe0ce-1ec6-47c6-b3b6-3bf062b80a79').text('  3.89 MB/s');"
       ],
       "metadata": {},
       "output_type": "display_data",
       "text": [
        "<IPython.core.display.Javascript at 0x10ff35390>"
       ]
      },
      {
       "javascript": [
        "$('div#5d35ab20-d849-422d-9617-3860f987da04').text(' 34%');"
       ],
       "metadata": {},
       "output_type": "display_data",
       "text": [
        "<IPython.core.display.Javascript at 0x10ff353d0>"
       ]
      },
      {
       "javascript": [
        "\n",
        "        var $myPB = $(\"div#9c604130-1c6f-4455-ae47-a4d81e9de643\")\n",
        "        if ($myPB.hasClass('ui-progressbar')) {\n",
        "            $myPB.progressbar('value', 221184);\n",
        "        } else {\n",
        "            $myPB.progressbar({value: 0, max: 636151});\n",
        "        }\n",
        "        "
       ],
       "metadata": {},
       "output_type": "display_data",
       "text": [
        "<IPython.core.display.Javascript at 0x10ff35410>"
       ]
      },
      {
       "javascript": [
        "$('div#31129919-7df9-4cc2-8aa7-3e4ab5410be7').text('ETA:  0:00:00');"
       ],
       "metadata": {},
       "output_type": "display_data",
       "text": [
        "<IPython.core.display.Javascript at 0x10ff35450>"
       ]
      },
      {
       "javascript": [
        "$('div#399fe0ce-1ec6-47c6-b3b6-3bf062b80a79').text('  3.88 MB/s');"
       ],
       "metadata": {},
       "output_type": "display_data",
       "text": [
        "<IPython.core.display.Javascript at 0x10ff35490>"
       ]
      },
      {
       "javascript": [
        "$('div#5d35ab20-d849-422d-9617-3860f987da04').text(' 36%');"
       ],
       "metadata": {},
       "output_type": "display_data",
       "text": [
        "<IPython.core.display.Javascript at 0x10ff354d0>"
       ]
      },
      {
       "javascript": [
        "\n",
        "        var $myPB = $(\"div#9c604130-1c6f-4455-ae47-a4d81e9de643\")\n",
        "        if ($myPB.hasClass('ui-progressbar')) {\n",
        "            $myPB.progressbar('value', 229376);\n",
        "        } else {\n",
        "            $myPB.progressbar({value: 0, max: 636151});\n",
        "        }\n",
        "        "
       ],
       "metadata": {},
       "output_type": "display_data",
       "text": [
        "<IPython.core.display.Javascript at 0x10ff35510>"
       ]
      },
      {
       "javascript": [
        "$('div#31129919-7df9-4cc2-8aa7-3e4ab5410be7').text('ETA:  0:00:00');"
       ],
       "metadata": {},
       "output_type": "display_data",
       "text": [
        "<IPython.core.display.Javascript at 0x10ff35550>"
       ]
      },
      {
       "javascript": [
        "$('div#399fe0ce-1ec6-47c6-b3b6-3bf062b80a79').text('  3.89 MB/s');"
       ],
       "metadata": {},
       "output_type": "display_data",
       "text": [
        "<IPython.core.display.Javascript at 0x10ff35590>"
       ]
      },
      {
       "javascript": [
        "$('div#5d35ab20-d849-422d-9617-3860f987da04').text(' 37%');"
       ],
       "metadata": {},
       "output_type": "display_data",
       "text": [
        "<IPython.core.display.Javascript at 0x10ff355d0>"
       ]
      },
      {
       "javascript": [
        "\n",
        "        var $myPB = $(\"div#9c604130-1c6f-4455-ae47-a4d81e9de643\")\n",
        "        if ($myPB.hasClass('ui-progressbar')) {\n",
        "            $myPB.progressbar('value', 237568);\n",
        "        } else {\n",
        "            $myPB.progressbar({value: 0, max: 636151});\n",
        "        }\n",
        "        "
       ],
       "metadata": {},
       "output_type": "display_data",
       "text": [
        "<IPython.core.display.Javascript at 0x10ff35610>"
       ]
      },
      {
       "javascript": [
        "$('div#31129919-7df9-4cc2-8aa7-3e4ab5410be7').text('ETA:  0:00:00');"
       ],
       "metadata": {},
       "output_type": "display_data",
       "text": [
        "<IPython.core.display.Javascript at 0x10ff35650>"
       ]
      },
      {
       "javascript": [
        "$('div#399fe0ce-1ec6-47c6-b3b6-3bf062b80a79').text('  3.89 MB/s');"
       ],
       "metadata": {},
       "output_type": "display_data",
       "text": [
        "<IPython.core.display.Javascript at 0x10ff35690>"
       ]
      },
      {
       "javascript": [
        "$('div#5d35ab20-d849-422d-9617-3860f987da04').text(' 38%');"
       ],
       "metadata": {},
       "output_type": "display_data",
       "text": [
        "<IPython.core.display.Javascript at 0x10ff356d0>"
       ]
      },
      {
       "javascript": [
        "\n",
        "        var $myPB = $(\"div#9c604130-1c6f-4455-ae47-a4d81e9de643\")\n",
        "        if ($myPB.hasClass('ui-progressbar')) {\n",
        "            $myPB.progressbar('value', 245760);\n",
        "        } else {\n",
        "            $myPB.progressbar({value: 0, max: 636151});\n",
        "        }\n",
        "        "
       ],
       "metadata": {},
       "output_type": "display_data",
       "text": [
        "<IPython.core.display.Javascript at 0x10ff35710>"
       ]
      },
      {
       "javascript": [
        "$('div#31129919-7df9-4cc2-8aa7-3e4ab5410be7').text('ETA:  0:00:00');"
       ],
       "metadata": {},
       "output_type": "display_data",
       "text": [
        "<IPython.core.display.Javascript at 0x10ff35750>"
       ]
      },
      {
       "javascript": [
        "$('div#399fe0ce-1ec6-47c6-b3b6-3bf062b80a79').text('  3.86 MB/s');"
       ],
       "metadata": {},
       "output_type": "display_data",
       "text": [
        "<IPython.core.display.Javascript at 0x10ff35790>"
       ]
      },
      {
       "javascript": [
        "$('div#5d35ab20-d849-422d-9617-3860f987da04').text(' 39%');"
       ],
       "metadata": {},
       "output_type": "display_data",
       "text": [
        "<IPython.core.display.Javascript at 0x10ff357d0>"
       ]
      },
      {
       "javascript": [
        "\n",
        "        var $myPB = $(\"div#9c604130-1c6f-4455-ae47-a4d81e9de643\")\n",
        "        if ($myPB.hasClass('ui-progressbar')) {\n",
        "            $myPB.progressbar('value', 253952);\n",
        "        } else {\n",
        "            $myPB.progressbar({value: 0, max: 636151});\n",
        "        }\n",
        "        "
       ],
       "metadata": {},
       "output_type": "display_data",
       "text": [
        "<IPython.core.display.Javascript at 0x10ff14690>"
       ]
      },
      {
       "javascript": [
        "$('div#31129919-7df9-4cc2-8aa7-3e4ab5410be7').text('ETA:  0:00:00');"
       ],
       "metadata": {},
       "output_type": "display_data",
       "text": [
        "<IPython.core.display.Javascript at 0x10ff14090>"
       ]
      },
      {
       "javascript": [
        "$('div#399fe0ce-1ec6-47c6-b3b6-3bf062b80a79').text('  3.84 MB/s');"
       ],
       "metadata": {},
       "output_type": "display_data",
       "text": [
        "<IPython.core.display.Javascript at 0x10ff14210>"
       ]
      },
      {
       "javascript": [
        "$('div#5d35ab20-d849-422d-9617-3860f987da04').text(' 41%');"
       ],
       "metadata": {},
       "output_type": "display_data",
       "text": [
        "<IPython.core.display.Javascript at 0x10ff14250>"
       ]
      },
      {
       "javascript": [
        "\n",
        "        var $myPB = $(\"div#9c604130-1c6f-4455-ae47-a4d81e9de643\")\n",
        "        if ($myPB.hasClass('ui-progressbar')) {\n",
        "            $myPB.progressbar('value', 262144);\n",
        "        } else {\n",
        "            $myPB.progressbar({value: 0, max: 636151});\n",
        "        }\n",
        "        "
       ],
       "metadata": {},
       "output_type": "display_data",
       "text": [
        "<IPython.core.display.Javascript at 0x10ff144d0>"
       ]
      },
      {
       "javascript": [
        "$('div#31129919-7df9-4cc2-8aa7-3e4ab5410be7').text('ETA:  0:00:00');"
       ],
       "metadata": {},
       "output_type": "display_data",
       "text": [
        "<IPython.core.display.Javascript at 0x10ff14510>"
       ]
      },
      {
       "javascript": [
        "$('div#399fe0ce-1ec6-47c6-b3b6-3bf062b80a79').text('  3.85 MB/s');"
       ],
       "metadata": {},
       "output_type": "display_data",
       "text": [
        "<IPython.core.display.Javascript at 0x10ff14450>"
       ]
      },
      {
       "javascript": [
        "$('div#5d35ab20-d849-422d-9617-3860f987da04').text(' 42%');"
       ],
       "metadata": {},
       "output_type": "display_data",
       "text": [
        "<IPython.core.display.Javascript at 0x10ff14550>"
       ]
      },
      {
       "javascript": [
        "\n",
        "        var $myPB = $(\"div#9c604130-1c6f-4455-ae47-a4d81e9de643\")\n",
        "        if ($myPB.hasClass('ui-progressbar')) {\n",
        "            $myPB.progressbar('value', 270336);\n",
        "        } else {\n",
        "            $myPB.progressbar({value: 0, max: 636151});\n",
        "        }\n",
        "        "
       ],
       "metadata": {},
       "output_type": "display_data",
       "text": [
        "<IPython.core.display.Javascript at 0x10ff145d0>"
       ]
      },
      {
       "javascript": [
        "$('div#31129919-7df9-4cc2-8aa7-3e4ab5410be7').text('ETA:  0:00:00');"
       ],
       "metadata": {},
       "output_type": "display_data",
       "text": [
        "<IPython.core.display.Javascript at 0x10ff14610>"
       ]
      },
      {
       "javascript": [
        "$('div#399fe0ce-1ec6-47c6-b3b6-3bf062b80a79').text('  3.85 MB/s');"
       ],
       "metadata": {},
       "output_type": "display_data",
       "text": [
        "<IPython.core.display.Javascript at 0x10ff14650>"
       ]
      },
      {
       "javascript": [
        "$('div#5d35ab20-d849-422d-9617-3860f987da04').text(' 43%');"
       ],
       "metadata": {},
       "output_type": "display_data",
       "text": [
        "<IPython.core.display.Javascript at 0x10ff146d0>"
       ]
      },
      {
       "javascript": [
        "\n",
        "        var $myPB = $(\"div#9c604130-1c6f-4455-ae47-a4d81e9de643\")\n",
        "        if ($myPB.hasClass('ui-progressbar')) {\n",
        "            $myPB.progressbar('value', 278528);\n",
        "        } else {\n",
        "            $myPB.progressbar({value: 0, max: 636151});\n",
        "        }\n",
        "        "
       ],
       "metadata": {},
       "output_type": "display_data",
       "text": [
        "<IPython.core.display.Javascript at 0x10ff14710>"
       ]
      },
      {
       "javascript": [
        "$('div#31129919-7df9-4cc2-8aa7-3e4ab5410be7').text('ETA:  0:00:00');"
       ],
       "metadata": {},
       "output_type": "display_data",
       "text": [
        "<IPython.core.display.Javascript at 0x10ff14750>"
       ]
      },
      {
       "javascript": [
        "$('div#399fe0ce-1ec6-47c6-b3b6-3bf062b80a79').text('  3.84 MB/s');"
       ],
       "metadata": {},
       "output_type": "display_data",
       "text": [
        "<IPython.core.display.Javascript at 0x10ff14790>"
       ]
      },
      {
       "javascript": [
        "$('div#5d35ab20-d849-422d-9617-3860f987da04').text(' 45%');"
       ],
       "metadata": {},
       "output_type": "display_data",
       "text": [
        "<IPython.core.display.Javascript at 0x10ff147d0>"
       ]
      },
      {
       "javascript": [
        "\n",
        "        var $myPB = $(\"div#9c604130-1c6f-4455-ae47-a4d81e9de643\")\n",
        "        if ($myPB.hasClass('ui-progressbar')) {\n",
        "            $myPB.progressbar('value', 286720);\n",
        "        } else {\n",
        "            $myPB.progressbar({value: 0, max: 636151});\n",
        "        }\n",
        "        "
       ],
       "metadata": {},
       "output_type": "display_data",
       "text": [
        "<IPython.core.display.Javascript at 0x10ff14810>"
       ]
      },
      {
       "javascript": [
        "$('div#31129919-7df9-4cc2-8aa7-3e4ab5410be7').text('ETA:  0:00:00');"
       ],
       "metadata": {},
       "output_type": "display_data",
       "text": [
        "<IPython.core.display.Javascript at 0x10ff14850>"
       ]
      },
      {
       "javascript": [
        "$('div#399fe0ce-1ec6-47c6-b3b6-3bf062b80a79').text('  3.83 MB/s');"
       ],
       "metadata": {},
       "output_type": "display_data",
       "text": [
        "<IPython.core.display.Javascript at 0x10ff14890>"
       ]
      },
      {
       "javascript": [
        "$('div#5d35ab20-d849-422d-9617-3860f987da04').text(' 46%');"
       ],
       "metadata": {},
       "output_type": "display_data",
       "text": [
        "<IPython.core.display.Javascript at 0x10ff148d0>"
       ]
      },
      {
       "javascript": [
        "\n",
        "        var $myPB = $(\"div#9c604130-1c6f-4455-ae47-a4d81e9de643\")\n",
        "        if ($myPB.hasClass('ui-progressbar')) {\n",
        "            $myPB.progressbar('value', 294912);\n",
        "        } else {\n",
        "            $myPB.progressbar({value: 0, max: 636151});\n",
        "        }\n",
        "        "
       ],
       "metadata": {},
       "output_type": "display_data",
       "text": [
        "<IPython.core.display.Javascript at 0x10ff14910>"
       ]
      },
      {
       "javascript": [
        "$('div#31129919-7df9-4cc2-8aa7-3e4ab5410be7').text('ETA:  0:00:00');"
       ],
       "metadata": {},
       "output_type": "display_data",
       "text": [
        "<IPython.core.display.Javascript at 0x10ff14950>"
       ]
      },
      {
       "javascript": [
        "$('div#399fe0ce-1ec6-47c6-b3b6-3bf062b80a79').text('  3.83 MB/s');"
       ],
       "metadata": {},
       "output_type": "display_data",
       "text": [
        "<IPython.core.display.Javascript at 0x10ff14990>"
       ]
      },
      {
       "javascript": [
        "$('div#5d35ab20-d849-422d-9617-3860f987da04').text(' 47%');"
       ],
       "metadata": {},
       "output_type": "display_data",
       "text": [
        "<IPython.core.display.Javascript at 0x10ff149d0>"
       ]
      },
      {
       "javascript": [
        "\n",
        "        var $myPB = $(\"div#9c604130-1c6f-4455-ae47-a4d81e9de643\")\n",
        "        if ($myPB.hasClass('ui-progressbar')) {\n",
        "            $myPB.progressbar('value', 303104);\n",
        "        } else {\n",
        "            $myPB.progressbar({value: 0, max: 636151});\n",
        "        }\n",
        "        "
       ],
       "metadata": {},
       "output_type": "display_data",
       "text": [
        "<IPython.core.display.Javascript at 0x10ff14a10>"
       ]
      },
      {
       "javascript": [
        "$('div#31129919-7df9-4cc2-8aa7-3e4ab5410be7').text('ETA:  0:00:00');"
       ],
       "metadata": {},
       "output_type": "display_data",
       "text": [
        "<IPython.core.display.Javascript at 0x10ff14a50>"
       ]
      },
      {
       "javascript": [
        "$('div#399fe0ce-1ec6-47c6-b3b6-3bf062b80a79').text('  3.83 MB/s');"
       ],
       "metadata": {},
       "output_type": "display_data",
       "text": [
        "<IPython.core.display.Javascript at 0x10ff14a90>"
       ]
      },
      {
       "javascript": [
        "$('div#5d35ab20-d849-422d-9617-3860f987da04').text(' 48%');"
       ],
       "metadata": {},
       "output_type": "display_data",
       "text": [
        "<IPython.core.display.Javascript at 0x10ff14ad0>"
       ]
      },
      {
       "javascript": [
        "\n",
        "        var $myPB = $(\"div#9c604130-1c6f-4455-ae47-a4d81e9de643\")\n",
        "        if ($myPB.hasClass('ui-progressbar')) {\n",
        "            $myPB.progressbar('value', 311296);\n",
        "        } else {\n",
        "            $myPB.progressbar({value: 0, max: 636151});\n",
        "        }\n",
        "        "
       ],
       "metadata": {},
       "output_type": "display_data",
       "text": [
        "<IPython.core.display.Javascript at 0x10ff14b10>"
       ]
      },
      {
       "javascript": [
        "$('div#31129919-7df9-4cc2-8aa7-3e4ab5410be7').text('ETA:  0:00:00');"
       ],
       "metadata": {},
       "output_type": "display_data",
       "text": [
        "<IPython.core.display.Javascript at 0x10ff14b50>"
       ]
      },
      {
       "javascript": [
        "$('div#399fe0ce-1ec6-47c6-b3b6-3bf062b80a79').text('  3.83 MB/s');"
       ],
       "metadata": {},
       "output_type": "display_data",
       "text": [
        "<IPython.core.display.Javascript at 0x10ff14b90>"
       ]
      },
      {
       "javascript": [
        "$('div#5d35ab20-d849-422d-9617-3860f987da04').text(' 50%');"
       ],
       "metadata": {},
       "output_type": "display_data",
       "text": [
        "<IPython.core.display.Javascript at 0x10ff14bd0>"
       ]
      },
      {
       "javascript": [
        "\n",
        "        var $myPB = $(\"div#9c604130-1c6f-4455-ae47-a4d81e9de643\")\n",
        "        if ($myPB.hasClass('ui-progressbar')) {\n",
        "            $myPB.progressbar('value', 319488);\n",
        "        } else {\n",
        "            $myPB.progressbar({value: 0, max: 636151});\n",
        "        }\n",
        "        "
       ],
       "metadata": {},
       "output_type": "display_data",
       "text": [
        "<IPython.core.display.Javascript at 0x10ff14c10>"
       ]
      },
      {
       "javascript": [
        "$('div#31129919-7df9-4cc2-8aa7-3e4ab5410be7').text('ETA:  0:00:00');"
       ],
       "metadata": {},
       "output_type": "display_data",
       "text": [
        "<IPython.core.display.Javascript at 0x10ff14c50>"
       ]
      },
      {
       "javascript": [
        "$('div#399fe0ce-1ec6-47c6-b3b6-3bf062b80a79').text('  3.83 MB/s');"
       ],
       "metadata": {},
       "output_type": "display_data",
       "text": [
        "<IPython.core.display.Javascript at 0x10ff14c90>"
       ]
      },
      {
       "javascript": [
        "$('div#5d35ab20-d849-422d-9617-3860f987da04').text(' 51%');"
       ],
       "metadata": {},
       "output_type": "display_data",
       "text": [
        "<IPython.core.display.Javascript at 0x10ff14cd0>"
       ]
      },
      {
       "javascript": [
        "\n",
        "        var $myPB = $(\"div#9c604130-1c6f-4455-ae47-a4d81e9de643\")\n",
        "        if ($myPB.hasClass('ui-progressbar')) {\n",
        "            $myPB.progressbar('value', 327680);\n",
        "        } else {\n",
        "            $myPB.progressbar({value: 0, max: 636151});\n",
        "        }\n",
        "        "
       ],
       "metadata": {},
       "output_type": "display_data",
       "text": [
        "<IPython.core.display.Javascript at 0x10ff14d10>"
       ]
      },
      {
       "javascript": [
        "$('div#31129919-7df9-4cc2-8aa7-3e4ab5410be7').text('ETA:  0:00:00');"
       ],
       "metadata": {},
       "output_type": "display_data",
       "text": [
        "<IPython.core.display.Javascript at 0x10ff14d50>"
       ]
      },
      {
       "javascript": [
        "$('div#399fe0ce-1ec6-47c6-b3b6-3bf062b80a79').text('  3.84 MB/s');"
       ],
       "metadata": {},
       "output_type": "display_data",
       "text": [
        "<IPython.core.display.Javascript at 0x10ff14d90>"
       ]
      },
      {
       "javascript": [
        "$('div#5d35ab20-d849-422d-9617-3860f987da04').text(' 52%');"
       ],
       "metadata": {},
       "output_type": "display_data",
       "text": [
        "<IPython.core.display.Javascript at 0x10ff14dd0>"
       ]
      },
      {
       "javascript": [
        "\n",
        "        var $myPB = $(\"div#9c604130-1c6f-4455-ae47-a4d81e9de643\")\n",
        "        if ($myPB.hasClass('ui-progressbar')) {\n",
        "            $myPB.progressbar('value', 335872);\n",
        "        } else {\n",
        "            $myPB.progressbar({value: 0, max: 636151});\n",
        "        }\n",
        "        "
       ],
       "metadata": {},
       "output_type": "display_data",
       "text": [
        "<IPython.core.display.Javascript at 0x10ff14e10>"
       ]
      },
      {
       "javascript": [
        "$('div#31129919-7df9-4cc2-8aa7-3e4ab5410be7').text('ETA:  0:00:00');"
       ],
       "metadata": {},
       "output_type": "display_data",
       "text": [
        "<IPython.core.display.Javascript at 0x10ff14e50>"
       ]
      },
      {
       "javascript": [
        "$('div#399fe0ce-1ec6-47c6-b3b6-3bf062b80a79').text('  3.85 MB/s');"
       ],
       "metadata": {},
       "output_type": "display_data",
       "text": [
        "<IPython.core.display.Javascript at 0x10ff14e90>"
       ]
      },
      {
       "javascript": [
        "$('div#5d35ab20-d849-422d-9617-3860f987da04').text(' 54%');"
       ],
       "metadata": {},
       "output_type": "display_data",
       "text": [
        "<IPython.core.display.Javascript at 0x10ff14ed0>"
       ]
      },
      {
       "javascript": [
        "\n",
        "        var $myPB = $(\"div#9c604130-1c6f-4455-ae47-a4d81e9de643\")\n",
        "        if ($myPB.hasClass('ui-progressbar')) {\n",
        "            $myPB.progressbar('value', 344064);\n",
        "        } else {\n",
        "            $myPB.progressbar({value: 0, max: 636151});\n",
        "        }\n",
        "        "
       ],
       "metadata": {},
       "output_type": "display_data",
       "text": [
        "<IPython.core.display.Javascript at 0x10ff14fd0>"
       ]
      },
      {
       "javascript": [
        "$('div#31129919-7df9-4cc2-8aa7-3e4ab5410be7').text('ETA:  0:00:00');"
       ],
       "metadata": {},
       "output_type": "display_data",
       "text": [
        "<IPython.core.display.Javascript at 0x10ff14f90>"
       ]
      },
      {
       "javascript": [
        "$('div#399fe0ce-1ec6-47c6-b3b6-3bf062b80a79').text('  3.84 MB/s');"
       ],
       "metadata": {},
       "output_type": "display_data",
       "text": [
        "<IPython.core.display.Javascript at 0x10ff14f50>"
       ]
      },
      {
       "javascript": [
        "$('div#5d35ab20-d849-422d-9617-3860f987da04').text(' 55%');"
       ],
       "metadata": {},
       "output_type": "display_data",
       "text": [
        "<IPython.core.display.Javascript at 0x10ff14f10>"
       ]
      },
      {
       "javascript": [
        "\n",
        "        var $myPB = $(\"div#9c604130-1c6f-4455-ae47-a4d81e9de643\")\n",
        "        if ($myPB.hasClass('ui-progressbar')) {\n",
        "            $myPB.progressbar('value', 352256);\n",
        "        } else {\n",
        "            $myPB.progressbar({value: 0, max: 636151});\n",
        "        }\n",
        "        "
       ],
       "metadata": {},
       "output_type": "display_data",
       "text": [
        "<IPython.core.display.Javascript at 0x10ff14490>"
       ]
      },
      {
       "javascript": [
        "$('div#31129919-7df9-4cc2-8aa7-3e4ab5410be7').text('ETA:  0:00:00');"
       ],
       "metadata": {},
       "output_type": "display_data",
       "text": [
        "<IPython.core.display.Javascript at 0x10ff2f050>"
       ]
      },
      {
       "javascript": [
        "$('div#399fe0ce-1ec6-47c6-b3b6-3bf062b80a79').text('  3.85 MB/s');"
       ],
       "metadata": {},
       "output_type": "display_data",
       "text": [
        "<IPython.core.display.Javascript at 0x10ff2f090>"
       ]
      },
      {
       "javascript": [
        "$('div#5d35ab20-d849-422d-9617-3860f987da04').text(' 56%');"
       ],
       "metadata": {},
       "output_type": "display_data",
       "text": [
        "<IPython.core.display.Javascript at 0x10ff2f0d0>"
       ]
      },
      {
       "javascript": [
        "\n",
        "        var $myPB = $(\"div#9c604130-1c6f-4455-ae47-a4d81e9de643\")\n",
        "        if ($myPB.hasClass('ui-progressbar')) {\n",
        "            $myPB.progressbar('value', 360448);\n",
        "        } else {\n",
        "            $myPB.progressbar({value: 0, max: 636151});\n",
        "        }\n",
        "        "
       ],
       "metadata": {},
       "output_type": "display_data",
       "text": [
        "<IPython.core.display.Javascript at 0x10ff2f110>"
       ]
      },
      {
       "javascript": [
        "$('div#31129919-7df9-4cc2-8aa7-3e4ab5410be7').text('ETA:  0:00:00');"
       ],
       "metadata": {},
       "output_type": "display_data",
       "text": [
        "<IPython.core.display.Javascript at 0x10ff2f190>"
       ]
      },
      {
       "javascript": [
        "$('div#399fe0ce-1ec6-47c6-b3b6-3bf062b80a79').text('  3.85 MB/s');"
       ],
       "metadata": {},
       "output_type": "display_data",
       "text": [
        "<IPython.core.display.Javascript at 0x10ff2f1d0>"
       ]
      },
      {
       "javascript": [
        "$('div#5d35ab20-d849-422d-9617-3860f987da04').text(' 57%');"
       ],
       "metadata": {},
       "output_type": "display_data",
       "text": [
        "<IPython.core.display.Javascript at 0x10ff2f210>"
       ]
      },
      {
       "javascript": [
        "\n",
        "        var $myPB = $(\"div#9c604130-1c6f-4455-ae47-a4d81e9de643\")\n",
        "        if ($myPB.hasClass('ui-progressbar')) {\n",
        "            $myPB.progressbar('value', 368640);\n",
        "        } else {\n",
        "            $myPB.progressbar({value: 0, max: 636151});\n",
        "        }\n",
        "        "
       ],
       "metadata": {},
       "output_type": "display_data",
       "text": [
        "<IPython.core.display.Javascript at 0x10ff2f250>"
       ]
      },
      {
       "javascript": [
        "$('div#31129919-7df9-4cc2-8aa7-3e4ab5410be7').text('ETA:  0:00:00');"
       ],
       "metadata": {},
       "output_type": "display_data",
       "text": [
        "<IPython.core.display.Javascript at 0x10ff2f290>"
       ]
      },
      {
       "javascript": [
        "$('div#399fe0ce-1ec6-47c6-b3b6-3bf062b80a79').text('  3.86 MB/s');"
       ],
       "metadata": {},
       "output_type": "display_data",
       "text": [
        "<IPython.core.display.Javascript at 0x10ff2f2d0>"
       ]
      },
      {
       "javascript": [
        "$('div#5d35ab20-d849-422d-9617-3860f987da04').text(' 59%');"
       ],
       "metadata": {},
       "output_type": "display_data",
       "text": [
        "<IPython.core.display.Javascript at 0x10ff2f310>"
       ]
      },
      {
       "javascript": [
        "\n",
        "        var $myPB = $(\"div#9c604130-1c6f-4455-ae47-a4d81e9de643\")\n",
        "        if ($myPB.hasClass('ui-progressbar')) {\n",
        "            $myPB.progressbar('value', 376832);\n",
        "        } else {\n",
        "            $myPB.progressbar({value: 0, max: 636151});\n",
        "        }\n",
        "        "
       ],
       "metadata": {},
       "output_type": "display_data",
       "text": [
        "<IPython.core.display.Javascript at 0x10ff2f350>"
       ]
      },
      {
       "javascript": [
        "$('div#31129919-7df9-4cc2-8aa7-3e4ab5410be7').text('ETA:  0:00:00');"
       ],
       "metadata": {},
       "output_type": "display_data",
       "text": [
        "<IPython.core.display.Javascript at 0x10ff2f390>"
       ]
      },
      {
       "javascript": [
        "$('div#399fe0ce-1ec6-47c6-b3b6-3bf062b80a79').text('  3.87 MB/s');"
       ],
       "metadata": {},
       "output_type": "display_data",
       "text": [
        "<IPython.core.display.Javascript at 0x10ff2f3d0>"
       ]
      },
      {
       "javascript": [
        "$('div#5d35ab20-d849-422d-9617-3860f987da04').text(' 60%');"
       ],
       "metadata": {},
       "output_type": "display_data",
       "text": [
        "<IPython.core.display.Javascript at 0x10ff2f410>"
       ]
      },
      {
       "javascript": [
        "\n",
        "        var $myPB = $(\"div#9c604130-1c6f-4455-ae47-a4d81e9de643\")\n",
        "        if ($myPB.hasClass('ui-progressbar')) {\n",
        "            $myPB.progressbar('value', 385024);\n",
        "        } else {\n",
        "            $myPB.progressbar({value: 0, max: 636151});\n",
        "        }\n",
        "        "
       ],
       "metadata": {},
       "output_type": "display_data",
       "text": [
        "<IPython.core.display.Javascript at 0x10ff2f450>"
       ]
      },
      {
       "javascript": [
        "$('div#31129919-7df9-4cc2-8aa7-3e4ab5410be7').text('ETA:  0:00:00');"
       ],
       "metadata": {},
       "output_type": "display_data",
       "text": [
        "<IPython.core.display.Javascript at 0x10ff2f490>"
       ]
      },
      {
       "javascript": [
        "$('div#399fe0ce-1ec6-47c6-b3b6-3bf062b80a79').text('  3.87 MB/s');"
       ],
       "metadata": {},
       "output_type": "display_data",
       "text": [
        "<IPython.core.display.Javascript at 0x10ff2f4d0>"
       ]
      },
      {
       "javascript": [
        "$('div#5d35ab20-d849-422d-9617-3860f987da04').text(' 61%');"
       ],
       "metadata": {},
       "output_type": "display_data",
       "text": [
        "<IPython.core.display.Javascript at 0x10ff2f510>"
       ]
      },
      {
       "javascript": [
        "\n",
        "        var $myPB = $(\"div#9c604130-1c6f-4455-ae47-a4d81e9de643\")\n",
        "        if ($myPB.hasClass('ui-progressbar')) {\n",
        "            $myPB.progressbar('value', 393216);\n",
        "        } else {\n",
        "            $myPB.progressbar({value: 0, max: 636151});\n",
        "        }\n",
        "        "
       ],
       "metadata": {},
       "output_type": "display_data",
       "text": [
        "<IPython.core.display.Javascript at 0x10ff2f550>"
       ]
      },
      {
       "javascript": [
        "$('div#31129919-7df9-4cc2-8aa7-3e4ab5410be7').text('ETA:  0:00:00');"
       ],
       "metadata": {},
       "output_type": "display_data",
       "text": [
        "<IPython.core.display.Javascript at 0x10ff2f590>"
       ]
      },
      {
       "javascript": [
        "$('div#399fe0ce-1ec6-47c6-b3b6-3bf062b80a79').text('  3.88 MB/s');"
       ],
       "metadata": {},
       "output_type": "display_data",
       "text": [
        "<IPython.core.display.Javascript at 0x10ff2f5d0>"
       ]
      },
      {
       "javascript": [
        "$('div#5d35ab20-d849-422d-9617-3860f987da04').text(' 63%');"
       ],
       "metadata": {},
       "output_type": "display_data",
       "text": [
        "<IPython.core.display.Javascript at 0x10ff2f610>"
       ]
      },
      {
       "javascript": [
        "\n",
        "        var $myPB = $(\"div#9c604130-1c6f-4455-ae47-a4d81e9de643\")\n",
        "        if ($myPB.hasClass('ui-progressbar')) {\n",
        "            $myPB.progressbar('value', 401408);\n",
        "        } else {\n",
        "            $myPB.progressbar({value: 0, max: 636151});\n",
        "        }\n",
        "        "
       ],
       "metadata": {},
       "output_type": "display_data",
       "text": [
        "<IPython.core.display.Javascript at 0x10ff2f650>"
       ]
      },
      {
       "javascript": [
        "$('div#31129919-7df9-4cc2-8aa7-3e4ab5410be7').text('ETA:  0:00:00');"
       ],
       "metadata": {},
       "output_type": "display_data",
       "text": [
        "<IPython.core.display.Javascript at 0x10ff2f690>"
       ]
      },
      {
       "javascript": [
        "$('div#399fe0ce-1ec6-47c6-b3b6-3bf062b80a79').text('  3.89 MB/s');"
       ],
       "metadata": {},
       "output_type": "display_data",
       "text": [
        "<IPython.core.display.Javascript at 0x10ff2f6d0>"
       ]
      },
      {
       "javascript": [
        "$('div#5d35ab20-d849-422d-9617-3860f987da04').text(' 64%');"
       ],
       "metadata": {},
       "output_type": "display_data",
       "text": [
        "<IPython.core.display.Javascript at 0x10ff2f710>"
       ]
      },
      {
       "javascript": [
        "\n",
        "        var $myPB = $(\"div#9c604130-1c6f-4455-ae47-a4d81e9de643\")\n",
        "        if ($myPB.hasClass('ui-progressbar')) {\n",
        "            $myPB.progressbar('value', 409600);\n",
        "        } else {\n",
        "            $myPB.progressbar({value: 0, max: 636151});\n",
        "        }\n",
        "        "
       ],
       "metadata": {},
       "output_type": "display_data",
       "text": [
        "<IPython.core.display.Javascript at 0x10ff2f750>"
       ]
      },
      {
       "javascript": [
        "$('div#31129919-7df9-4cc2-8aa7-3e4ab5410be7').text('ETA:  0:00:00');"
       ],
       "metadata": {},
       "output_type": "display_data",
       "text": [
        "<IPython.core.display.Javascript at 0x10ff2f790>"
       ]
      },
      {
       "javascript": [
        "$('div#399fe0ce-1ec6-47c6-b3b6-3bf062b80a79').text('  3.89 MB/s');"
       ],
       "metadata": {},
       "output_type": "display_data",
       "text": [
        "<IPython.core.display.Javascript at 0x10ff2f7d0>"
       ]
      },
      {
       "javascript": [
        "$('div#5d35ab20-d849-422d-9617-3860f987da04').text(' 65%');"
       ],
       "metadata": {},
       "output_type": "display_data",
       "text": [
        "<IPython.core.display.Javascript at 0x10ff2f810>"
       ]
      },
      {
       "javascript": [
        "\n",
        "        var $myPB = $(\"div#9c604130-1c6f-4455-ae47-a4d81e9de643\")\n",
        "        if ($myPB.hasClass('ui-progressbar')) {\n",
        "            $myPB.progressbar('value', 417792);\n",
        "        } else {\n",
        "            $myPB.progressbar({value: 0, max: 636151});\n",
        "        }\n",
        "        "
       ],
       "metadata": {},
       "output_type": "display_data",
       "text": [
        "<IPython.core.display.Javascript at 0x10ff2f850>"
       ]
      },
      {
       "javascript": [
        "$('div#31129919-7df9-4cc2-8aa7-3e4ab5410be7').text('ETA:  0:00:00');"
       ],
       "metadata": {},
       "output_type": "display_data",
       "text": [
        "<IPython.core.display.Javascript at 0x10ff2f890>"
       ]
      },
      {
       "javascript": [
        "$('div#399fe0ce-1ec6-47c6-b3b6-3bf062b80a79').text('  3.89 MB/s');"
       ],
       "metadata": {},
       "output_type": "display_data",
       "text": [
        "<IPython.core.display.Javascript at 0x10ff14490>"
       ]
      },
      {
       "javascript": [
        "$('div#5d35ab20-d849-422d-9617-3860f987da04').text(' 66%');"
       ],
       "metadata": {},
       "output_type": "display_data",
       "text": [
        "<IPython.core.display.Javascript at 0x10ff14f10>"
       ]
      },
      {
       "javascript": [
        "\n",
        "        var $myPB = $(\"div#9c604130-1c6f-4455-ae47-a4d81e9de643\")\n",
        "        if ($myPB.hasClass('ui-progressbar')) {\n",
        "            $myPB.progressbar('value', 425984);\n",
        "        } else {\n",
        "            $myPB.progressbar({value: 0, max: 636151});\n",
        "        }\n",
        "        "
       ],
       "metadata": {},
       "output_type": "display_data",
       "text": [
        "<IPython.core.display.Javascript at 0x10ff14f50>"
       ]
      },
      {
       "javascript": [
        "$('div#31129919-7df9-4cc2-8aa7-3e4ab5410be7').text('ETA:  0:00:00');"
       ],
       "metadata": {},
       "output_type": "display_data",
       "text": [
        "<IPython.core.display.Javascript at 0x10ff14f90>"
       ]
      },
      {
       "javascript": [
        "$('div#399fe0ce-1ec6-47c6-b3b6-3bf062b80a79').text('  3.88 MB/s');"
       ],
       "metadata": {},
       "output_type": "display_data",
       "text": [
        "<IPython.core.display.Javascript at 0x10ff14ed0>"
       ]
      },
      {
       "javascript": [
        "$('div#5d35ab20-d849-422d-9617-3860f987da04').text(' 68%');"
       ],
       "metadata": {},
       "output_type": "display_data",
       "text": [
        "<IPython.core.display.Javascript at 0x10ff14e90>"
       ]
      },
      {
       "javascript": [
        "\n",
        "        var $myPB = $(\"div#9c604130-1c6f-4455-ae47-a4d81e9de643\")\n",
        "        if ($myPB.hasClass('ui-progressbar')) {\n",
        "            $myPB.progressbar('value', 434176);\n",
        "        } else {\n",
        "            $myPB.progressbar({value: 0, max: 636151});\n",
        "        }\n",
        "        "
       ],
       "metadata": {},
       "output_type": "display_data",
       "text": [
        "<IPython.core.display.Javascript at 0x10ff14e50>"
       ]
      },
      {
       "javascript": [
        "$('div#31129919-7df9-4cc2-8aa7-3e4ab5410be7').text('ETA:  0:00:00');"
       ],
       "metadata": {},
       "output_type": "display_data",
       "text": [
        "<IPython.core.display.Javascript at 0x10ff14e10>"
       ]
      },
      {
       "javascript": [
        "$('div#399fe0ce-1ec6-47c6-b3b6-3bf062b80a79').text('  3.89 MB/s');"
       ],
       "metadata": {},
       "output_type": "display_data",
       "text": [
        "<IPython.core.display.Javascript at 0x10ff14dd0>"
       ]
      },
      {
       "javascript": [
        "$('div#5d35ab20-d849-422d-9617-3860f987da04').text(' 69%');"
       ],
       "metadata": {},
       "output_type": "display_data",
       "text": [
        "<IPython.core.display.Javascript at 0x10ff14d90>"
       ]
      },
      {
       "javascript": [
        "\n",
        "        var $myPB = $(\"div#9c604130-1c6f-4455-ae47-a4d81e9de643\")\n",
        "        if ($myPB.hasClass('ui-progressbar')) {\n",
        "            $myPB.progressbar('value', 442368);\n",
        "        } else {\n",
        "            $myPB.progressbar({value: 0, max: 636151});\n",
        "        }\n",
        "        "
       ],
       "metadata": {},
       "output_type": "display_data",
       "text": [
        "<IPython.core.display.Javascript at 0x10ff14d50>"
       ]
      },
      {
       "javascript": [
        "$('div#31129919-7df9-4cc2-8aa7-3e4ab5410be7').text('ETA:  0:00:00');"
       ],
       "metadata": {},
       "output_type": "display_data",
       "text": [
        "<IPython.core.display.Javascript at 0x10ff14d10>"
       ]
      },
      {
       "javascript": [
        "$('div#399fe0ce-1ec6-47c6-b3b6-3bf062b80a79').text('  3.89 MB/s');"
       ],
       "metadata": {},
       "output_type": "display_data",
       "text": [
        "<IPython.core.display.Javascript at 0x10ff14cd0>"
       ]
      },
      {
       "javascript": [
        "$('div#5d35ab20-d849-422d-9617-3860f987da04').text(' 70%');"
       ],
       "metadata": {},
       "output_type": "display_data",
       "text": [
        "<IPython.core.display.Javascript at 0x10ff14c90>"
       ]
      },
      {
       "javascript": [
        "\n",
        "        var $myPB = $(\"div#9c604130-1c6f-4455-ae47-a4d81e9de643\")\n",
        "        if ($myPB.hasClass('ui-progressbar')) {\n",
        "            $myPB.progressbar('value', 450560);\n",
        "        } else {\n",
        "            $myPB.progressbar({value: 0, max: 636151});\n",
        "        }\n",
        "        "
       ],
       "metadata": {},
       "output_type": "display_data",
       "text": [
        "<IPython.core.display.Javascript at 0x10ff14c50>"
       ]
      },
      {
       "javascript": [
        "$('div#31129919-7df9-4cc2-8aa7-3e4ab5410be7').text('ETA:  0:00:00');"
       ],
       "metadata": {},
       "output_type": "display_data",
       "text": [
        "<IPython.core.display.Javascript at 0x10ff14c10>"
       ]
      },
      {
       "javascript": [
        "$('div#399fe0ce-1ec6-47c6-b3b6-3bf062b80a79').text('  3.88 MB/s');"
       ],
       "metadata": {},
       "output_type": "display_data",
       "text": [
        "<IPython.core.display.Javascript at 0x10ff14bd0>"
       ]
      },
      {
       "javascript": [
        "$('div#5d35ab20-d849-422d-9617-3860f987da04').text(' 72%');"
       ],
       "metadata": {},
       "output_type": "display_data",
       "text": [
        "<IPython.core.display.Javascript at 0x10ff14b90>"
       ]
      },
      {
       "javascript": [
        "\n",
        "        var $myPB = $(\"div#9c604130-1c6f-4455-ae47-a4d81e9de643\")\n",
        "        if ($myPB.hasClass('ui-progressbar')) {\n",
        "            $myPB.progressbar('value', 458752);\n",
        "        } else {\n",
        "            $myPB.progressbar({value: 0, max: 636151});\n",
        "        }\n",
        "        "
       ],
       "metadata": {},
       "output_type": "display_data",
       "text": [
        "<IPython.core.display.Javascript at 0x10ff14b50>"
       ]
      },
      {
       "javascript": [
        "$('div#31129919-7df9-4cc2-8aa7-3e4ab5410be7').text('ETA:  0:00:00');"
       ],
       "metadata": {},
       "output_type": "display_data",
       "text": [
        "<IPython.core.display.Javascript at 0x10ff14b10>"
       ]
      },
      {
       "javascript": [
        "$('div#399fe0ce-1ec6-47c6-b3b6-3bf062b80a79').text('  3.88 MB/s');"
       ],
       "metadata": {},
       "output_type": "display_data",
       "text": [
        "<IPython.core.display.Javascript at 0x10ff14ad0>"
       ]
      },
      {
       "javascript": [
        "$('div#5d35ab20-d849-422d-9617-3860f987da04').text(' 73%');"
       ],
       "metadata": {},
       "output_type": "display_data",
       "text": [
        "<IPython.core.display.Javascript at 0x10ff14a90>"
       ]
      },
      {
       "javascript": [
        "\n",
        "        var $myPB = $(\"div#9c604130-1c6f-4455-ae47-a4d81e9de643\")\n",
        "        if ($myPB.hasClass('ui-progressbar')) {\n",
        "            $myPB.progressbar('value', 466944);\n",
        "        } else {\n",
        "            $myPB.progressbar({value: 0, max: 636151});\n",
        "        }\n",
        "        "
       ],
       "metadata": {},
       "output_type": "display_data",
       "text": [
        "<IPython.core.display.Javascript at 0x10ff14a50>"
       ]
      },
      {
       "javascript": [
        "$('div#31129919-7df9-4cc2-8aa7-3e4ab5410be7').text('ETA:  0:00:00');"
       ],
       "metadata": {},
       "output_type": "display_data",
       "text": [
        "<IPython.core.display.Javascript at 0x10ff14a10>"
       ]
      },
      {
       "javascript": [
        "$('div#399fe0ce-1ec6-47c6-b3b6-3bf062b80a79').text('  3.88 MB/s');"
       ],
       "metadata": {},
       "output_type": "display_data",
       "text": [
        "<IPython.core.display.Javascript at 0x10ff149d0>"
       ]
      },
      {
       "javascript": [
        "$('div#5d35ab20-d849-422d-9617-3860f987da04').text(' 74%');"
       ],
       "metadata": {},
       "output_type": "display_data",
       "text": [
        "<IPython.core.display.Javascript at 0x10ff14990>"
       ]
      },
      {
       "javascript": [
        "\n",
        "        var $myPB = $(\"div#9c604130-1c6f-4455-ae47-a4d81e9de643\")\n",
        "        if ($myPB.hasClass('ui-progressbar')) {\n",
        "            $myPB.progressbar('value', 475136);\n",
        "        } else {\n",
        "            $myPB.progressbar({value: 0, max: 636151});\n",
        "        }\n",
        "        "
       ],
       "metadata": {},
       "output_type": "display_data",
       "text": [
        "<IPython.core.display.Javascript at 0x10ff14950>"
       ]
      },
      {
       "javascript": [
        "$('div#31129919-7df9-4cc2-8aa7-3e4ab5410be7').text('ETA:  0:00:00');"
       ],
       "metadata": {},
       "output_type": "display_data",
       "text": [
        "<IPython.core.display.Javascript at 0x10ff14910>"
       ]
      },
      {
       "javascript": [
        "$('div#399fe0ce-1ec6-47c6-b3b6-3bf062b80a79').text('  3.87 MB/s');"
       ],
       "metadata": {},
       "output_type": "display_data",
       "text": [
        "<IPython.core.display.Javascript at 0x10ff148d0>"
       ]
      },
      {
       "javascript": [
        "$('div#5d35ab20-d849-422d-9617-3860f987da04').text(' 75%');"
       ],
       "metadata": {},
       "output_type": "display_data",
       "text": [
        "<IPython.core.display.Javascript at 0x10ff14890>"
       ]
      },
      {
       "javascript": [
        "\n",
        "        var $myPB = $(\"div#9c604130-1c6f-4455-ae47-a4d81e9de643\")\n",
        "        if ($myPB.hasClass('ui-progressbar')) {\n",
        "            $myPB.progressbar('value', 483328);\n",
        "        } else {\n",
        "            $myPB.progressbar({value: 0, max: 636151});\n",
        "        }\n",
        "        "
       ],
       "metadata": {},
       "output_type": "display_data",
       "text": [
        "<IPython.core.display.Javascript at 0x10ff14850>"
       ]
      },
      {
       "javascript": [
        "$('div#31129919-7df9-4cc2-8aa7-3e4ab5410be7').text('ETA:  0:00:00');"
       ],
       "metadata": {},
       "output_type": "display_data",
       "text": [
        "<IPython.core.display.Javascript at 0x10ff14810>"
       ]
      },
      {
       "javascript": [
        "$('div#399fe0ce-1ec6-47c6-b3b6-3bf062b80a79').text('  3.87 MB/s');"
       ],
       "metadata": {},
       "output_type": "display_data",
       "text": [
        "<IPython.core.display.Javascript at 0x10ff147d0>"
       ]
      },
      {
       "javascript": [
        "$('div#5d35ab20-d849-422d-9617-3860f987da04').text(' 77%');"
       ],
       "metadata": {},
       "output_type": "display_data",
       "text": [
        "<IPython.core.display.Javascript at 0x10ff14790>"
       ]
      },
      {
       "javascript": [
        "\n",
        "        var $myPB = $(\"div#9c604130-1c6f-4455-ae47-a4d81e9de643\")\n",
        "        if ($myPB.hasClass('ui-progressbar')) {\n",
        "            $myPB.progressbar('value', 491520);\n",
        "        } else {\n",
        "            $myPB.progressbar({value: 0, max: 636151});\n",
        "        }\n",
        "        "
       ],
       "metadata": {},
       "output_type": "display_data",
       "text": [
        "<IPython.core.display.Javascript at 0x10ff14750>"
       ]
      },
      {
       "javascript": [
        "$('div#31129919-7df9-4cc2-8aa7-3e4ab5410be7').text('ETA:  0:00:00');"
       ],
       "metadata": {},
       "output_type": "display_data",
       "text": [
        "<IPython.core.display.Javascript at 0x10ff14710>"
       ]
      },
      {
       "javascript": [
        "$('div#399fe0ce-1ec6-47c6-b3b6-3bf062b80a79').text('  3.87 MB/s');"
       ],
       "metadata": {},
       "output_type": "display_data",
       "text": [
        "<IPython.core.display.Javascript at 0x10ff146d0>"
       ]
      },
      {
       "javascript": [
        "$('div#5d35ab20-d849-422d-9617-3860f987da04').text(' 78%');"
       ],
       "metadata": {},
       "output_type": "display_data",
       "text": [
        "<IPython.core.display.Javascript at 0x10ff14650>"
       ]
      },
      {
       "javascript": [
        "\n",
        "        var $myPB = $(\"div#9c604130-1c6f-4455-ae47-a4d81e9de643\")\n",
        "        if ($myPB.hasClass('ui-progressbar')) {\n",
        "            $myPB.progressbar('value', 499712);\n",
        "        } else {\n",
        "            $myPB.progressbar({value: 0, max: 636151});\n",
        "        }\n",
        "        "
       ],
       "metadata": {},
       "output_type": "display_data",
       "text": [
        "<IPython.core.display.Javascript at 0x10ff14610>"
       ]
      },
      {
       "javascript": [
        "$('div#31129919-7df9-4cc2-8aa7-3e4ab5410be7').text('ETA:  0:00:00');"
       ],
       "metadata": {},
       "output_type": "display_data",
       "text": [
        "<IPython.core.display.Javascript at 0x10ff145d0>"
       ]
      },
      {
       "javascript": [
        "$('div#399fe0ce-1ec6-47c6-b3b6-3bf062b80a79').text('  3.87 MB/s');"
       ],
       "metadata": {},
       "output_type": "display_data",
       "text": [
        "<IPython.core.display.Javascript at 0x10ff14550>"
       ]
      },
      {
       "javascript": [
        "$('div#5d35ab20-d849-422d-9617-3860f987da04').text(' 79%');"
       ],
       "metadata": {},
       "output_type": "display_data",
       "text": [
        "<IPython.core.display.Javascript at 0x10ff14450>"
       ]
      },
      {
       "javascript": [
        "\n",
        "        var $myPB = $(\"div#9c604130-1c6f-4455-ae47-a4d81e9de643\")\n",
        "        if ($myPB.hasClass('ui-progressbar')) {\n",
        "            $myPB.progressbar('value', 507904);\n",
        "        } else {\n",
        "            $myPB.progressbar({value: 0, max: 636151});\n",
        "        }\n",
        "        "
       ],
       "metadata": {},
       "output_type": "display_data",
       "text": [
        "<IPython.core.display.Javascript at 0x10ff14510>"
       ]
      },
      {
       "javascript": [
        "$('div#31129919-7df9-4cc2-8aa7-3e4ab5410be7').text('ETA:  0:00:00');"
       ],
       "metadata": {},
       "output_type": "display_data",
       "text": [
        "<IPython.core.display.Javascript at 0x10ff144d0>"
       ]
      },
      {
       "javascript": [
        "$('div#399fe0ce-1ec6-47c6-b3b6-3bf062b80a79').text('  3.87 MB/s');"
       ],
       "metadata": {},
       "output_type": "display_data",
       "text": [
        "<IPython.core.display.Javascript at 0x10ff14250>"
       ]
      },
      {
       "javascript": [
        "$('div#5d35ab20-d849-422d-9617-3860f987da04').text(' 81%');"
       ],
       "metadata": {},
       "output_type": "display_data",
       "text": [
        "<IPython.core.display.Javascript at 0x10ff14210>"
       ]
      },
      {
       "javascript": [
        "\n",
        "        var $myPB = $(\"div#9c604130-1c6f-4455-ae47-a4d81e9de643\")\n",
        "        if ($myPB.hasClass('ui-progressbar')) {\n",
        "            $myPB.progressbar('value', 516096);\n",
        "        } else {\n",
        "            $myPB.progressbar({value: 0, max: 636151});\n",
        "        }\n",
        "        "
       ],
       "metadata": {},
       "output_type": "display_data",
       "text": [
        "<IPython.core.display.Javascript at 0x10ff14090>"
       ]
      },
      {
       "javascript": [
        "$('div#31129919-7df9-4cc2-8aa7-3e4ab5410be7').text('ETA:  0:00:00');"
       ],
       "metadata": {},
       "output_type": "display_data",
       "text": [
        "<IPython.core.display.Javascript at 0x10ff14690>"
       ]
      },
      {
       "javascript": [
        "$('div#399fe0ce-1ec6-47c6-b3b6-3bf062b80a79').text('  3.88 MB/s');"
       ],
       "metadata": {},
       "output_type": "display_data",
       "text": [
        "<IPython.core.display.Javascript at 0x10ff14fd0>"
       ]
      },
      {
       "javascript": [
        "$('div#5d35ab20-d849-422d-9617-3860f987da04').text(' 82%');"
       ],
       "metadata": {},
       "output_type": "display_data",
       "text": [
        "<IPython.core.display.Javascript at 0x10ff3a050>"
       ]
      },
      {
       "javascript": [
        "\n",
        "        var $myPB = $(\"div#9c604130-1c6f-4455-ae47-a4d81e9de643\")\n",
        "        if ($myPB.hasClass('ui-progressbar')) {\n",
        "            $myPB.progressbar('value', 524288);\n",
        "        } else {\n",
        "            $myPB.progressbar({value: 0, max: 636151});\n",
        "        }\n",
        "        "
       ],
       "metadata": {},
       "output_type": "display_data",
       "text": [
        "<IPython.core.display.Javascript at 0x10ff3a090>"
       ]
      },
      {
       "javascript": [
        "$('div#31129919-7df9-4cc2-8aa7-3e4ab5410be7').text('ETA:  0:00:00');"
       ],
       "metadata": {},
       "output_type": "display_data",
       "text": [
        "<IPython.core.display.Javascript at 0x10ff3a0d0>"
       ]
      },
      {
       "javascript": [
        "$('div#399fe0ce-1ec6-47c6-b3b6-3bf062b80a79').text('  3.88 MB/s');"
       ],
       "metadata": {},
       "output_type": "display_data",
       "text": [
        "<IPython.core.display.Javascript at 0x10ff3a110>"
       ]
      },
      {
       "javascript": [
        "$('div#5d35ab20-d849-422d-9617-3860f987da04').text(' 83%');"
       ],
       "metadata": {},
       "output_type": "display_data",
       "text": [
        "<IPython.core.display.Javascript at 0x10ff3a190>"
       ]
      },
      {
       "javascript": [
        "\n",
        "        var $myPB = $(\"div#9c604130-1c6f-4455-ae47-a4d81e9de643\")\n",
        "        if ($myPB.hasClass('ui-progressbar')) {\n",
        "            $myPB.progressbar('value', 532480);\n",
        "        } else {\n",
        "            $myPB.progressbar({value: 0, max: 636151});\n",
        "        }\n",
        "        "
       ],
       "metadata": {},
       "output_type": "display_data",
       "text": [
        "<IPython.core.display.Javascript at 0x10ff3a1d0>"
       ]
      },
      {
       "javascript": [
        "$('div#31129919-7df9-4cc2-8aa7-3e4ab5410be7').text('ETA:  0:00:00');"
       ],
       "metadata": {},
       "output_type": "display_data",
       "text": [
        "<IPython.core.display.Javascript at 0x10ff3a210>"
       ]
      },
      {
       "javascript": [
        "$('div#399fe0ce-1ec6-47c6-b3b6-3bf062b80a79').text('  3.88 MB/s');"
       ],
       "metadata": {},
       "output_type": "display_data",
       "text": [
        "<IPython.core.display.Javascript at 0x10ff3a250>"
       ]
      },
      {
       "javascript": [
        "$('div#5d35ab20-d849-422d-9617-3860f987da04').text(' 84%');"
       ],
       "metadata": {},
       "output_type": "display_data",
       "text": [
        "<IPython.core.display.Javascript at 0x10ff3a290>"
       ]
      },
      {
       "javascript": [
        "\n",
        "        var $myPB = $(\"div#9c604130-1c6f-4455-ae47-a4d81e9de643\")\n",
        "        if ($myPB.hasClass('ui-progressbar')) {\n",
        "            $myPB.progressbar('value', 540672);\n",
        "        } else {\n",
        "            $myPB.progressbar({value: 0, max: 636151});\n",
        "        }\n",
        "        "
       ],
       "metadata": {},
       "output_type": "display_data",
       "text": [
        "<IPython.core.display.Javascript at 0x10ff3a2d0>"
       ]
      },
      {
       "javascript": [
        "$('div#31129919-7df9-4cc2-8aa7-3e4ab5410be7').text('ETA:  0:00:00');"
       ],
       "metadata": {},
       "output_type": "display_data",
       "text": [
        "<IPython.core.display.Javascript at 0x10ff3a310>"
       ]
      },
      {
       "javascript": [
        "$('div#399fe0ce-1ec6-47c6-b3b6-3bf062b80a79').text('  3.88 MB/s');"
       ],
       "metadata": {},
       "output_type": "display_data",
       "text": [
        "<IPython.core.display.Javascript at 0x10ff3a350>"
       ]
      },
      {
       "javascript": [
        "$('div#5d35ab20-d849-422d-9617-3860f987da04').text(' 86%');"
       ],
       "metadata": {},
       "output_type": "display_data",
       "text": [
        "<IPython.core.display.Javascript at 0x10ff3a390>"
       ]
      },
      {
       "javascript": [
        "\n",
        "        var $myPB = $(\"div#9c604130-1c6f-4455-ae47-a4d81e9de643\")\n",
        "        if ($myPB.hasClass('ui-progressbar')) {\n",
        "            $myPB.progressbar('value', 548864);\n",
        "        } else {\n",
        "            $myPB.progressbar({value: 0, max: 636151});\n",
        "        }\n",
        "        "
       ],
       "metadata": {},
       "output_type": "display_data",
       "text": [
        "<IPython.core.display.Javascript at 0x10ff3a3d0>"
       ]
      },
      {
       "javascript": [
        "$('div#31129919-7df9-4cc2-8aa7-3e4ab5410be7').text('ETA:  0:00:00');"
       ],
       "metadata": {},
       "output_type": "display_data",
       "text": [
        "<IPython.core.display.Javascript at 0x10ff3a410>"
       ]
      },
      {
       "javascript": [
        "$('div#399fe0ce-1ec6-47c6-b3b6-3bf062b80a79').text('  3.87 MB/s');"
       ],
       "metadata": {},
       "output_type": "display_data",
       "text": [
        "<IPython.core.display.Javascript at 0x10ff3a450>"
       ]
      },
      {
       "javascript": [
        "$('div#5d35ab20-d849-422d-9617-3860f987da04').text(' 87%');"
       ],
       "metadata": {},
       "output_type": "display_data",
       "text": [
        "<IPython.core.display.Javascript at 0x10ff3a490>"
       ]
      },
      {
       "javascript": [
        "\n",
        "        var $myPB = $(\"div#9c604130-1c6f-4455-ae47-a4d81e9de643\")\n",
        "        if ($myPB.hasClass('ui-progressbar')) {\n",
        "            $myPB.progressbar('value', 557056);\n",
        "        } else {\n",
        "            $myPB.progressbar({value: 0, max: 636151});\n",
        "        }\n",
        "        "
       ],
       "metadata": {},
       "output_type": "display_data",
       "text": [
        "<IPython.core.display.Javascript at 0x10ff3a4d0>"
       ]
      },
      {
       "javascript": [
        "$('div#31129919-7df9-4cc2-8aa7-3e4ab5410be7').text('ETA:  0:00:00');"
       ],
       "metadata": {},
       "output_type": "display_data",
       "text": [
        "<IPython.core.display.Javascript at 0x10ff3a510>"
       ]
      },
      {
       "javascript": [
        "$('div#399fe0ce-1ec6-47c6-b3b6-3bf062b80a79').text('  3.88 MB/s');"
       ],
       "metadata": {},
       "output_type": "display_data",
       "text": [
        "<IPython.core.display.Javascript at 0x10ff3a550>"
       ]
      },
      {
       "javascript": [
        "$('div#5d35ab20-d849-422d-9617-3860f987da04').text(' 88%');"
       ],
       "metadata": {},
       "output_type": "display_data",
       "text": [
        "<IPython.core.display.Javascript at 0x10ff3a590>"
       ]
      },
      {
       "javascript": [
        "\n",
        "        var $myPB = $(\"div#9c604130-1c6f-4455-ae47-a4d81e9de643\")\n",
        "        if ($myPB.hasClass('ui-progressbar')) {\n",
        "            $myPB.progressbar('value', 565248);\n",
        "        } else {\n",
        "            $myPB.progressbar({value: 0, max: 636151});\n",
        "        }\n",
        "        "
       ],
       "metadata": {},
       "output_type": "display_data",
       "text": [
        "<IPython.core.display.Javascript at 0x10ff3a5d0>"
       ]
      },
      {
       "javascript": [
        "$('div#31129919-7df9-4cc2-8aa7-3e4ab5410be7').text('ETA:  0:00:00');"
       ],
       "metadata": {},
       "output_type": "display_data",
       "text": [
        "<IPython.core.display.Javascript at 0x10ff3a610>"
       ]
      },
      {
       "javascript": [
        "$('div#399fe0ce-1ec6-47c6-b3b6-3bf062b80a79').text('  3.88 MB/s');"
       ],
       "metadata": {},
       "output_type": "display_data",
       "text": [
        "<IPython.core.display.Javascript at 0x10ff3a650>"
       ]
      },
      {
       "javascript": [
        "$('div#5d35ab20-d849-422d-9617-3860f987da04').text(' 90%');"
       ],
       "metadata": {},
       "output_type": "display_data",
       "text": [
        "<IPython.core.display.Javascript at 0x10ff3a690>"
       ]
      },
      {
       "javascript": [
        "\n",
        "        var $myPB = $(\"div#9c604130-1c6f-4455-ae47-a4d81e9de643\")\n",
        "        if ($myPB.hasClass('ui-progressbar')) {\n",
        "            $myPB.progressbar('value', 573440);\n",
        "        } else {\n",
        "            $myPB.progressbar({value: 0, max: 636151});\n",
        "        }\n",
        "        "
       ],
       "metadata": {},
       "output_type": "display_data",
       "text": [
        "<IPython.core.display.Javascript at 0x10ff3a6d0>"
       ]
      },
      {
       "javascript": [
        "$('div#31129919-7df9-4cc2-8aa7-3e4ab5410be7').text('ETA:  0:00:00');"
       ],
       "metadata": {},
       "output_type": "display_data",
       "text": [
        "<IPython.core.display.Javascript at 0x10ff3a710>"
       ]
      },
      {
       "javascript": [
        "$('div#399fe0ce-1ec6-47c6-b3b6-3bf062b80a79').text('  3.88 MB/s');"
       ],
       "metadata": {},
       "output_type": "display_data",
       "text": [
        "<IPython.core.display.Javascript at 0x10ff3a750>"
       ]
      },
      {
       "javascript": [
        "$('div#5d35ab20-d849-422d-9617-3860f987da04').text(' 91%');"
       ],
       "metadata": {},
       "output_type": "display_data",
       "text": [
        "<IPython.core.display.Javascript at 0x10ff3a790>"
       ]
      },
      {
       "javascript": [
        "\n",
        "        var $myPB = $(\"div#9c604130-1c6f-4455-ae47-a4d81e9de643\")\n",
        "        if ($myPB.hasClass('ui-progressbar')) {\n",
        "            $myPB.progressbar('value', 581632);\n",
        "        } else {\n",
        "            $myPB.progressbar({value: 0, max: 636151});\n",
        "        }\n",
        "        "
       ],
       "metadata": {},
       "output_type": "display_data",
       "text": [
        "<IPython.core.display.Javascript at 0x10ff3a7d0>"
       ]
      },
      {
       "javascript": [
        "$('div#31129919-7df9-4cc2-8aa7-3e4ab5410be7').text('ETA:  0:00:00');"
       ],
       "metadata": {},
       "output_type": "display_data",
       "text": [
        "<IPython.core.display.Javascript at 0x10ff3a810>"
       ]
      },
      {
       "javascript": [
        "$('div#399fe0ce-1ec6-47c6-b3b6-3bf062b80a79').text('  3.88 MB/s');"
       ],
       "metadata": {},
       "output_type": "display_data",
       "text": [
        "<IPython.core.display.Javascript at 0x10ff3a850>"
       ]
      },
      {
       "javascript": [
        "$('div#5d35ab20-d849-422d-9617-3860f987da04').text(' 92%');"
       ],
       "metadata": {},
       "output_type": "display_data",
       "text": [
        "<IPython.core.display.Javascript at 0x10ff3a890>"
       ]
      },
      {
       "javascript": [
        "\n",
        "        var $myPB = $(\"div#9c604130-1c6f-4455-ae47-a4d81e9de643\")\n",
        "        if ($myPB.hasClass('ui-progressbar')) {\n",
        "            $myPB.progressbar('value', 589824);\n",
        "        } else {\n",
        "            $myPB.progressbar({value: 0, max: 636151});\n",
        "        }\n",
        "        "
       ],
       "metadata": {},
       "output_type": "display_data",
       "text": [
        "<IPython.core.display.Javascript at 0x10ff14fd0>"
       ]
      },
      {
       "javascript": [
        "$('div#31129919-7df9-4cc2-8aa7-3e4ab5410be7').text('ETA:  0:00:00');"
       ],
       "metadata": {},
       "output_type": "display_data",
       "text": [
        "<IPython.core.display.Javascript at 0x10ff14690>"
       ]
      },
      {
       "javascript": [
        "$('div#399fe0ce-1ec6-47c6-b3b6-3bf062b80a79').text('  3.89 MB/s');"
       ],
       "metadata": {},
       "output_type": "display_data",
       "text": [
        "<IPython.core.display.Javascript at 0x10ff14090>"
       ]
      },
      {
       "javascript": [
        "$('div#5d35ab20-d849-422d-9617-3860f987da04').text(' 94%');"
       ],
       "metadata": {},
       "output_type": "display_data",
       "text": [
        "<IPython.core.display.Javascript at 0x10ff14210>"
       ]
      },
      {
       "javascript": [
        "\n",
        "        var $myPB = $(\"div#9c604130-1c6f-4455-ae47-a4d81e9de643\")\n",
        "        if ($myPB.hasClass('ui-progressbar')) {\n",
        "            $myPB.progressbar('value', 598016);\n",
        "        } else {\n",
        "            $myPB.progressbar({value: 0, max: 636151});\n",
        "        }\n",
        "        "
       ],
       "metadata": {},
       "output_type": "display_data",
       "text": [
        "<IPython.core.display.Javascript at 0x10ff144d0>"
       ]
      },
      {
       "javascript": [
        "$('div#31129919-7df9-4cc2-8aa7-3e4ab5410be7').text('ETA:  0:00:00');"
       ],
       "metadata": {},
       "output_type": "display_data",
       "text": [
        "<IPython.core.display.Javascript at 0x10ff14510>"
       ]
      },
      {
       "javascript": [
        "$('div#399fe0ce-1ec6-47c6-b3b6-3bf062b80a79').text('  3.89 MB/s');"
       ],
       "metadata": {},
       "output_type": "display_data",
       "text": [
        "<IPython.core.display.Javascript at 0x10ff14450>"
       ]
      },
      {
       "javascript": [
        "$('div#5d35ab20-d849-422d-9617-3860f987da04').text(' 95%');"
       ],
       "metadata": {},
       "output_type": "display_data",
       "text": [
        "<IPython.core.display.Javascript at 0x10ff14550>"
       ]
      },
      {
       "javascript": [
        "\n",
        "        var $myPB = $(\"div#9c604130-1c6f-4455-ae47-a4d81e9de643\")\n",
        "        if ($myPB.hasClass('ui-progressbar')) {\n",
        "            $myPB.progressbar('value', 606208);\n",
        "        } else {\n",
        "            $myPB.progressbar({value: 0, max: 636151});\n",
        "        }\n",
        "        "
       ],
       "metadata": {},
       "output_type": "display_data",
       "text": [
        "<IPython.core.display.Javascript at 0x10ff145d0>"
       ]
      },
      {
       "javascript": [
        "$('div#31129919-7df9-4cc2-8aa7-3e4ab5410be7').text('ETA:  0:00:00');"
       ],
       "metadata": {},
       "output_type": "display_data",
       "text": [
        "<IPython.core.display.Javascript at 0x10ff14610>"
       ]
      },
      {
       "javascript": [
        "$('div#399fe0ce-1ec6-47c6-b3b6-3bf062b80a79').text('  3.89 MB/s');"
       ],
       "metadata": {},
       "output_type": "display_data",
       "text": [
        "<IPython.core.display.Javascript at 0x10ff14650>"
       ]
      },
      {
       "javascript": [
        "$('div#5d35ab20-d849-422d-9617-3860f987da04').text(' 96%');"
       ],
       "metadata": {},
       "output_type": "display_data",
       "text": [
        "<IPython.core.display.Javascript at 0x10ff146d0>"
       ]
      },
      {
       "javascript": [
        "\n",
        "        var $myPB = $(\"div#9c604130-1c6f-4455-ae47-a4d81e9de643\")\n",
        "        if ($myPB.hasClass('ui-progressbar')) {\n",
        "            $myPB.progressbar('value', 614400);\n",
        "        } else {\n",
        "            $myPB.progressbar({value: 0, max: 636151});\n",
        "        }\n",
        "        "
       ],
       "metadata": {},
       "output_type": "display_data",
       "text": [
        "<IPython.core.display.Javascript at 0x10ff14710>"
       ]
      },
      {
       "javascript": [
        "$('div#31129919-7df9-4cc2-8aa7-3e4ab5410be7').text('ETA:  0:00:00');"
       ],
       "metadata": {},
       "output_type": "display_data",
       "text": [
        "<IPython.core.display.Javascript at 0x10ff14750>"
       ]
      },
      {
       "javascript": [
        "$('div#399fe0ce-1ec6-47c6-b3b6-3bf062b80a79').text('  3.89 MB/s');"
       ],
       "metadata": {},
       "output_type": "display_data",
       "text": [
        "<IPython.core.display.Javascript at 0x10ff14790>"
       ]
      },
      {
       "javascript": [
        "$('div#5d35ab20-d849-422d-9617-3860f987da04').text(' 97%');"
       ],
       "metadata": {},
       "output_type": "display_data",
       "text": [
        "<IPython.core.display.Javascript at 0x10ff147d0>"
       ]
      },
      {
       "javascript": [
        "\n",
        "        var $myPB = $(\"div#9c604130-1c6f-4455-ae47-a4d81e9de643\")\n",
        "        if ($myPB.hasClass('ui-progressbar')) {\n",
        "            $myPB.progressbar('value', 622592);\n",
        "        } else {\n",
        "            $myPB.progressbar({value: 0, max: 636151});\n",
        "        }\n",
        "        "
       ],
       "metadata": {},
       "output_type": "display_data",
       "text": [
        "<IPython.core.display.Javascript at 0x10ff14810>"
       ]
      },
      {
       "javascript": [
        "$('div#31129919-7df9-4cc2-8aa7-3e4ab5410be7').text('ETA:  0:00:00');"
       ],
       "metadata": {},
       "output_type": "display_data",
       "text": [
        "<IPython.core.display.Javascript at 0x10ff14850>"
       ]
      },
      {
       "javascript": [
        "$('div#399fe0ce-1ec6-47c6-b3b6-3bf062b80a79').text('  3.90 MB/s');"
       ],
       "metadata": {},
       "output_type": "display_data",
       "text": [
        "<IPython.core.display.Javascript at 0x10ff14890>"
       ]
      },
      {
       "javascript": [
        "$('div#5d35ab20-d849-422d-9617-3860f987da04').text(' 99%');"
       ],
       "metadata": {},
       "output_type": "display_data",
       "text": [
        "<IPython.core.display.Javascript at 0x10ff148d0>"
       ]
      },
      {
       "javascript": [
        "\n",
        "        var $myPB = $(\"div#9c604130-1c6f-4455-ae47-a4d81e9de643\")\n",
        "        if ($myPB.hasClass('ui-progressbar')) {\n",
        "            $myPB.progressbar('value', 630784);\n",
        "        } else {\n",
        "            $myPB.progressbar({value: 0, max: 636151});\n",
        "        }\n",
        "        "
       ],
       "metadata": {},
       "output_type": "display_data",
       "text": [
        "<IPython.core.display.Javascript at 0x10ff14910>"
       ]
      },
      {
       "javascript": [
        "$('div#31129919-7df9-4cc2-8aa7-3e4ab5410be7').text('ETA:  0:00:00');"
       ],
       "metadata": {},
       "output_type": "display_data",
       "text": [
        "<IPython.core.display.Javascript at 0x10ff14950>"
       ]
      },
      {
       "javascript": [
        "$('div#399fe0ce-1ec6-47c6-b3b6-3bf062b80a79').text('  3.90 MB/s');"
       ],
       "metadata": {},
       "output_type": "display_data",
       "text": [
        "<IPython.core.display.Javascript at 0x10ff14990>"
       ]
      },
      {
       "javascript": [
        "$('div#5d35ab20-d849-422d-9617-3860f987da04').text('100%');"
       ],
       "metadata": {},
       "output_type": "display_data",
       "text": [
        "<IPython.core.display.Javascript at 0x10ff149d0>"
       ]
      },
      {
       "javascript": [
        "\n",
        "        var $myPB = $(\"div#9c604130-1c6f-4455-ae47-a4d81e9de643\")\n",
        "        if ($myPB.hasClass('ui-progressbar')) {\n",
        "            $myPB.progressbar('value', 636151);\n",
        "        } else {\n",
        "            $myPB.progressbar({value: 0, max: 636151});\n",
        "        }\n",
        "        "
       ],
       "metadata": {},
       "output_type": "display_data",
       "text": [
        "<IPython.core.display.Javascript at 0x10ff14a10>"
       ]
      },
      {
       "javascript": [
        "$('div#31129919-7df9-4cc2-8aa7-3e4ab5410be7').text('Time: 0:00:00');"
       ],
       "metadata": {},
       "output_type": "display_data",
       "text": [
        "<IPython.core.display.Javascript at 0x10ff14a50>"
       ]
      },
      {
       "javascript": [
        "$('div#399fe0ce-1ec6-47c6-b3b6-3bf062b80a79').text('  3.88 MB/s');"
       ],
       "metadata": {},
       "output_type": "display_data",
       "text": [
        "<IPython.core.display.Javascript at 0x10ff14a90>"
       ]
      },
      {
       "javascript": [
        "var element = document.getElementById('ef42fd92-9ea4-4828-ace6-8bfb0a1123a2');\n",
        "                    var parent = element.parentNode\n",
        "                    parent.removeChild(element);\n",
        "                    parent.parentElement.remove();"
       ],
       "metadata": {},
       "output_type": "display_data",
       "text": [
        "<IPython.core.display.Javascript at 0x10ff14410>"
       ]
      },
      {
       "javascript": [
        "this.cleanProgressBar(['ef42fd92-9ea4-4828-ace6-8bfb0a1123a2', '5d35ab20-d849-422d-9617-3860f987da04', '9c604130-1c6f-4455-ae47-a4d81e9de643', '31129919-7df9-4cc2-8aa7-3e4ab5410be7', '399fe0ce-1ec6-47c6-b3b6-3bf062b80a79'])"
       ],
       "metadata": {},
       "output_type": "display_data",
       "text": [
        "<IPython.core.display.Javascript at 0x10ff14ad0>"
       ]
      },
      {
       "output_type": "stream",
       "stream": "stdout",
       "text": [
        "Finished downloading instance_data_es_inspire_dataset_v1.json\n",
        "There are 3239 tokens in dataset\n",
        "{u'noise_onset': 532600,\n",
        " u'noise_transcription': u'BAB4.txt',\n",
        " u'noise_type': u'bab4',\n",
        " u'noise_wav': u'BAB4.wav',\n",
        " u'signal_wav': u'T_35541.wav',\n",
        " u'snr': -2.039,\n",
        " u'speaker': u's1',\n",
        " u'speech': u'pequen\u0303os'}\n"
       ]
      }
     ],
     "prompt_number": 3
    },
    {
     "cell_type": "markdown",
     "metadata": {},
     "source": [
      "Our data is a class deriving from a Python dictionary containing an entry named `tokens` with a mapping from a stimulus ID to a stimulus (also named token) presented to a set of listeners.\n",
      "The stimulus itself is represented as a dictionary, with entries for several properties of the stimuli presented: \n",
      "\n",
      "* **type of noise** `noise_type`\n",
      "* **speaker ID** `speaker`\n",
      "* **signal-to-noise ratio** `snr`\n",
      "\n",
      "The filenames of the audios:\n",
      "\n",
      "* **signal wave file** `signal_wav`\n",
      "* **noise wave file** `noise_wav`\n",
      "\n",
      "And the underlying word that was presented as well as those that were reported by the listeners:\n",
      "\n",
      "* **presented word** `speech`\n",
      "\n",
      "## The lexicon\n",
      "Since all the tasks are based on the pronunciations of the words, our next step is to load a lexicon.\n",
      "The lexicon is not in JSON format, it is in a forma that HTK understands, therefore parsing it takes a bit more work. Luckily for you we have a written a function to do just that:\n",
      "\n",
      "We will first download the lexicon, load it, and have a quick peak of what is in it."
     ]
    },
    {
     "cell_type": "code",
     "collapsed": false,
     "input": [
      "lexicon_filename = setting.download_lexicon()\n",
      "lexicon = inspire.load_lexicon(lexicon_filename)\n",
      "\n",
      "print('There are {} words in the lexicon'.format(len(lexicon)))"
     ],
     "language": "python",
     "metadata": {},
     "outputs": [
      {
       "javascript": [
        "//a9ab9fbd-4c31-4947-aa37-10c9836d6e28\n",
        "$(\"head\").append(\"<style> td.pb_widget {     width: auto; } td.pb_widget_fill {     width: 100%; } table.pb {     font-family: monospace;     border: 0;     margin: 0; } table.pb tr { border: 0; } table.pb td {     white-space: nowrap;     border: 0; } div.pb {     border: 1px solid #ddd;     border-radius: 3px; } div.pb_bar {     height: 1.5em; } </style>\")"
       ],
       "metadata": {},
       "output_type": "display_data",
       "text": [
        "<IPython.core.display.Javascript at 0x10ff07d10>"
       ]
      },
      {
       "javascript": [
        "\n",
        "                  // a9ab9fbd-4c31-4947-aa37-10c9836d6e28 -- used to remove this code blob in the end\n",
        "                  IPython.OutputArea.prototype.cleanProgressBar = function(uuids) {\n",
        "                      // filter by uuid-strings \n",
        "                      var myfilter = function(output) { \n",
        "                          var nuids = uuids.length;\n",
        "                          for (var i=0; i<nuids; i++) {\n",
        "                              if (output.hasOwnProperty('html')) {\n",
        "                                  if (output.html.indexOf(uuids[i]) != -1) {\n",
        "                                      return false;\n",
        "                                  }\n",
        "                              }\n",
        "                              if (output.hasOwnProperty('javascript')) {\n",
        "                                  if (output.javascript.indexOf(uuids[i]) != -1) {\n",
        "                                      return false;\n",
        "                                  }\n",
        "                              }\n",
        "                          }\n",
        "                          // keep all others\n",
        "                          return true;\n",
        "                      };\n",
        "\n",
        "                      // Filter the ouputs\n",
        "                      this.outputs = this.outputs.filter(myfilter);\n",
        "                };\n",
        "                "
       ],
       "metadata": {},
       "output_type": "display_data",
       "text": [
        "<IPython.core.display.Javascript at 0x10ff07ed0>"
       ]
      },
      {
       "html": [
        "<div class=\"pb\" id=\"a9ab9fbd-4c31-4947-aa37-10c9836d6e28\"><table class=\"pb ui-widget\"><tr>\n",
        "<td class=\"pb_widget\">Downloading: </td>\n",
        "<td class=\"pb_widget\"><div id=\"20aa3663-2bc3-4672-a5fd-3e67a8322d65\">  0%</div></td>\n",
        "<td class=\"pb_widget\"> </td>\n",
        "<td class=\"pb_widget_fill\">\n",
        "        <div class=\"pb_bar\" id=\"1634ec53-b320-4692-a9ab-89cd1e1a53cf\"></div>\n",
        "        <script type=\"text/javascript\">\n",
        "            $(\"div#1634ec53-b320-4692-a9ab-89cd1e1a53cf\").progressbar({value: 0, max: 25238326});\n",
        "        </script>\n",
        "        </td>\n",
        "<td class=\"pb_widget\"> </td>\n",
        "<td class=\"pb_widget\"><div id=\"3507affb-83a9-4617-bfa9-e354e4be730a\">ETA:  --:--:--</div></td>\n",
        "<td class=\"pb_widget\"> </td>\n",
        "<td class=\"pb_widget\"><div id=\"083160c4-0ac8-4ca4-a715-fc702cda2229\">  0.00  B/s</div></td>\n",
        "</tr></table><div>"
       ],
       "metadata": {},
       "output_type": "display_data",
       "text": [
        "<IPython.core.display.HTML at 0x10ff07f10>"
       ]
      },
      {
       "javascript": [
        "$('div#20aa3663-2bc3-4672-a5fd-3e67a8322d65').text('  1%');"
       ],
       "metadata": {},
       "output_type": "display_data",
       "text": [
        "<IPython.core.display.Javascript at 0x10ff07f90>"
       ]
      },
      {
       "javascript": [
        "\n",
        "        var $myPB = $(\"div#1634ec53-b320-4692-a9ab-89cd1e1a53cf\")\n",
        "        if ($myPB.hasClass('ui-progressbar')) {\n",
        "            $myPB.progressbar('value', 253952);\n",
        "        } else {\n",
        "            $myPB.progressbar({value: 0, max: 25238326});\n",
        "        }\n",
        "        "
       ],
       "metadata": {},
       "output_type": "display_data",
       "text": [
        "<IPython.core.display.Javascript at 0x10ff07f50>"
       ]
      },
      {
       "javascript": [
        "$('div#3507affb-83a9-4617-bfa9-e354e4be730a').text('ETA:  0:00:00');"
       ],
       "metadata": {},
       "output_type": "display_data",
       "text": [
        "<IPython.core.display.Javascript at 0x10ff141d0>"
       ]
      },
      {
       "javascript": [
        "$('div#083160c4-0ac8-4ca4-a715-fc702cda2229').text('178.84 MB/s');"
       ],
       "metadata": {},
       "output_type": "display_data",
       "text": [
        "<IPython.core.display.Javascript at 0x10ff14ad0>"
       ]
      },
      {
       "javascript": [
        "$('div#20aa3663-2bc3-4672-a5fd-3e67a8322d65').text('  2%');"
       ],
       "metadata": {},
       "output_type": "display_data",
       "text": [
        "<IPython.core.display.Javascript at 0x10ff14410>"
       ]
      },
      {
       "javascript": [
        "\n",
        "        var $myPB = $(\"div#1634ec53-b320-4692-a9ab-89cd1e1a53cf\")\n",
        "        if ($myPB.hasClass('ui-progressbar')) {\n",
        "            $myPB.progressbar('value', 507904);\n",
        "        } else {\n",
        "            $myPB.progressbar({value: 0, max: 25238326});\n",
        "        }\n",
        "        "
       ],
       "metadata": {},
       "output_type": "display_data",
       "text": [
        "<IPython.core.display.Javascript at 0x10ff14a90>"
       ]
      },
      {
       "javascript": [
        "$('div#3507affb-83a9-4617-bfa9-e354e4be730a').text('ETA:  0:00:00');"
       ],
       "metadata": {},
       "output_type": "display_data",
       "text": [
        "<IPython.core.display.Javascript at 0x10ff14a50>"
       ]
      },
      {
       "javascript": [
        "$('div#083160c4-0ac8-4ca4-a715-fc702cda2229').text('117.02 MB/s');"
       ],
       "metadata": {},
       "output_type": "display_data",
       "text": [
        "<IPython.core.display.Javascript at 0x10ff14050>"
       ]
      },
      {
       "javascript": [
        "$('div#20aa3663-2bc3-4672-a5fd-3e67a8322d65').text('  3%');"
       ],
       "metadata": {},
       "output_type": "display_data",
       "text": [
        "<IPython.core.display.Javascript at 0x10ff149d0>"
       ]
      },
      {
       "javascript": [
        "\n",
        "        var $myPB = $(\"div#1634ec53-b320-4692-a9ab-89cd1e1a53cf\")\n",
        "        if ($myPB.hasClass('ui-progressbar')) {\n",
        "            $myPB.progressbar('value', 761856);\n",
        "        } else {\n",
        "            $myPB.progressbar({value: 0, max: 25238326});\n",
        "        }\n",
        "        "
       ],
       "metadata": {},
       "output_type": "display_data",
       "text": [
        "<IPython.core.display.Javascript at 0x10ff14990>"
       ]
      },
      {
       "javascript": [
        "$('div#3507affb-83a9-4617-bfa9-e354e4be730a').text('ETA:  0:00:00');"
       ],
       "metadata": {},
       "output_type": "display_data",
       "text": [
        "<IPython.core.display.Javascript at 0x10ff14950>"
       ]
      },
      {
       "javascript": [
        "$('div#083160c4-0ac8-4ca4-a715-fc702cda2229').text('106.09 MB/s');"
       ],
       "metadata": {},
       "output_type": "display_data",
       "text": [
        "<IPython.core.display.Javascript at 0x10ff14910>"
       ]
      },
      {
       "javascript": [
        "$('div#20aa3663-2bc3-4672-a5fd-3e67a8322d65').text('  4%');"
       ],
       "metadata": {},
       "output_type": "display_data",
       "text": [
        "<IPython.core.display.Javascript at 0x10ff148d0>"
       ]
      },
      {
       "javascript": [
        "\n",
        "        var $myPB = $(\"div#1634ec53-b320-4692-a9ab-89cd1e1a53cf\")\n",
        "        if ($myPB.hasClass('ui-progressbar')) {\n",
        "            $myPB.progressbar('value', 1015808);\n",
        "        } else {\n",
        "            $myPB.progressbar({value: 0, max: 25238326});\n",
        "        }\n",
        "        "
       ],
       "metadata": {},
       "output_type": "display_data",
       "text": [
        "<IPython.core.display.Javascript at 0x10ff14890>"
       ]
      },
      {
       "javascript": [
        "$('div#3507affb-83a9-4617-bfa9-e354e4be730a').text('ETA:  0:00:00');"
       ],
       "metadata": {},
       "output_type": "display_data",
       "text": [
        "<IPython.core.display.Javascript at 0x10ff14850>"
       ]
      },
      {
       "javascript": [
        "$('div#083160c4-0ac8-4ca4-a715-fc702cda2229').text('102.05 MB/s');"
       ],
       "metadata": {},
       "output_type": "display_data",
       "text": [
        "<IPython.core.display.Javascript at 0x10ff14810>"
       ]
      },
      {
       "javascript": [
        "$('div#20aa3663-2bc3-4672-a5fd-3e67a8322d65').text('  5%');"
       ],
       "metadata": {},
       "output_type": "display_data",
       "text": [
        "<IPython.core.display.Javascript at 0x10ff147d0>"
       ]
      },
      {
       "javascript": [
        "\n",
        "        var $myPB = $(\"div#1634ec53-b320-4692-a9ab-89cd1e1a53cf\")\n",
        "        if ($myPB.hasClass('ui-progressbar')) {\n",
        "            $myPB.progressbar('value', 1269760);\n",
        "        } else {\n",
        "            $myPB.progressbar({value: 0, max: 25238326});\n",
        "        }\n",
        "        "
       ],
       "metadata": {},
       "output_type": "display_data",
       "text": [
        "<IPython.core.display.Javascript at 0x10ff14790>"
       ]
      },
      {
       "javascript": [
        "$('div#3507affb-83a9-4617-bfa9-e354e4be730a').text('ETA:  0:00:00');"
       ],
       "metadata": {},
       "output_type": "display_data",
       "text": [
        "<IPython.core.display.Javascript at 0x10ff14750>"
       ]
      },
      {
       "javascript": [
        "$('div#083160c4-0ac8-4ca4-a715-fc702cda2229').text('100.32 MB/s');"
       ],
       "metadata": {},
       "output_type": "display_data",
       "text": [
        "<IPython.core.display.Javascript at 0x10ff14710>"
       ]
      },
      {
       "javascript": [
        "$('div#20aa3663-2bc3-4672-a5fd-3e67a8322d65').text('  6%');"
       ],
       "metadata": {},
       "output_type": "display_data",
       "text": [
        "<IPython.core.display.Javascript at 0x10ff146d0>"
       ]
      },
      {
       "javascript": [
        "\n",
        "        var $myPB = $(\"div#1634ec53-b320-4692-a9ab-89cd1e1a53cf\")\n",
        "        if ($myPB.hasClass('ui-progressbar')) {\n",
        "            $myPB.progressbar('value', 1523712);\n",
        "        } else {\n",
        "            $myPB.progressbar({value: 0, max: 25238326});\n",
        "        }\n",
        "        "
       ],
       "metadata": {},
       "output_type": "display_data",
       "text": [
        "<IPython.core.display.Javascript at 0x10ff14650>"
       ]
      },
      {
       "javascript": [
        "$('div#3507affb-83a9-4617-bfa9-e354e4be730a').text('ETA:  0:00:00');"
       ],
       "metadata": {},
       "output_type": "display_data",
       "text": [
        "<IPython.core.display.Javascript at 0x10ff14610>"
       ]
      },
      {
       "javascript": [
        "$('div#083160c4-0ac8-4ca4-a715-fc702cda2229').text('100.07 MB/s');"
       ],
       "metadata": {},
       "output_type": "display_data",
       "text": [
        "<IPython.core.display.Javascript at 0x10ff145d0>"
       ]
      },
      {
       "javascript": [
        "$('div#20aa3663-2bc3-4672-a5fd-3e67a8322d65').text('  7%');"
       ],
       "metadata": {},
       "output_type": "display_data",
       "text": [
        "<IPython.core.display.Javascript at 0x10ff14550>"
       ]
      },
      {
       "javascript": [
        "\n",
        "        var $myPB = $(\"div#1634ec53-b320-4692-a9ab-89cd1e1a53cf\")\n",
        "        if ($myPB.hasClass('ui-progressbar')) {\n",
        "            $myPB.progressbar('value', 1777664);\n",
        "        } else {\n",
        "            $myPB.progressbar({value: 0, max: 25238326});\n",
        "        }\n",
        "        "
       ],
       "metadata": {},
       "output_type": "display_data",
       "text": [
        "<IPython.core.display.Javascript at 0x10ff14450>"
       ]
      },
      {
       "javascript": [
        "$('div#3507affb-83a9-4617-bfa9-e354e4be730a').text('ETA:  0:00:00');"
       ],
       "metadata": {},
       "output_type": "display_data",
       "text": [
        "<IPython.core.display.Javascript at 0x10ff14510>"
       ]
      },
      {
       "javascript": [
        "$('div#083160c4-0ac8-4ca4-a715-fc702cda2229').text(' 99.76 MB/s');"
       ],
       "metadata": {},
       "output_type": "display_data",
       "text": [
        "<IPython.core.display.Javascript at 0x10ff144d0>"
       ]
      },
      {
       "javascript": [
        "$('div#20aa3663-2bc3-4672-a5fd-3e67a8322d65').text('  8%');"
       ],
       "metadata": {},
       "output_type": "display_data",
       "text": [
        "<IPython.core.display.Javascript at 0x10ff14210>"
       ]
      },
      {
       "javascript": [
        "\n",
        "        var $myPB = $(\"div#1634ec53-b320-4692-a9ab-89cd1e1a53cf\")\n",
        "        if ($myPB.hasClass('ui-progressbar')) {\n",
        "            $myPB.progressbar('value', 2031616);\n",
        "        } else {\n",
        "            $myPB.progressbar({value: 0, max: 25238326});\n",
        "        }\n",
        "        "
       ],
       "metadata": {},
       "output_type": "display_data",
       "text": [
        "<IPython.core.display.Javascript at 0x10ff14090>"
       ]
      },
      {
       "javascript": [
        "$('div#3507affb-83a9-4617-bfa9-e354e4be730a').text('ETA:  0:00:00');"
       ],
       "metadata": {},
       "output_type": "display_data",
       "text": [
        "<IPython.core.display.Javascript at 0x10ff14690>"
       ]
      },
      {
       "javascript": [
        "$('div#083160c4-0ac8-4ca4-a715-fc702cda2229').text(' 98.36 MB/s');"
       ],
       "metadata": {},
       "output_type": "display_data",
       "text": [
        "<IPython.core.display.Javascript at 0x10ff14fd0>"
       ]
      },
      {
       "javascript": [
        "$('div#20aa3663-2bc3-4672-a5fd-3e67a8322d65').text('  9%');"
       ],
       "metadata": {},
       "output_type": "display_data",
       "text": [
        "<IPython.core.display.Javascript at 0x10ff14b10>"
       ]
      },
      {
       "javascript": [
        "\n",
        "        var $myPB = $(\"div#1634ec53-b320-4692-a9ab-89cd1e1a53cf\")\n",
        "        if ($myPB.hasClass('ui-progressbar')) {\n",
        "            $myPB.progressbar('value', 2285568);\n",
        "        } else {\n",
        "            $myPB.progressbar({value: 0, max: 25238326});\n",
        "        }\n",
        "        "
       ],
       "metadata": {},
       "output_type": "display_data",
       "text": [
        "<IPython.core.display.Javascript at 0x10ff14b50>"
       ]
      },
      {
       "javascript": [
        "$('div#3507affb-83a9-4617-bfa9-e354e4be730a').text('ETA:  0:00:00');"
       ],
       "metadata": {},
       "output_type": "display_data",
       "text": [
        "<IPython.core.display.Javascript at 0x10ff14250>"
       ]
      },
      {
       "javascript": [
        "$('div#083160c4-0ac8-4ca4-a715-fc702cda2229').text(' 96.41 MB/s');"
       ],
       "metadata": {},
       "output_type": "display_data",
       "text": [
        "<IPython.core.display.Javascript at 0x10ff14bd0>"
       ]
      },
      {
       "javascript": [
        "$('div#20aa3663-2bc3-4672-a5fd-3e67a8322d65').text(' 10%');"
       ],
       "metadata": {},
       "output_type": "display_data",
       "text": [
        "<IPython.core.display.Javascript at 0x10ff14b90>"
       ]
      },
      {
       "javascript": [
        "\n",
        "        var $myPB = $(\"div#1634ec53-b320-4692-a9ab-89cd1e1a53cf\")\n",
        "        if ($myPB.hasClass('ui-progressbar')) {\n",
        "            $myPB.progressbar('value', 2539520);\n",
        "        } else {\n",
        "            $myPB.progressbar({value: 0, max: 25238326});\n",
        "        }\n",
        "        "
       ],
       "metadata": {},
       "output_type": "display_data",
       "text": [
        "<IPython.core.display.Javascript at 0x10ff14c10>"
       ]
      },
      {
       "javascript": [
        "$('div#3507affb-83a9-4617-bfa9-e354e4be730a').text('ETA:  0:00:00');"
       ],
       "metadata": {},
       "output_type": "display_data",
       "text": [
        "<IPython.core.display.Javascript at 0x10ff14c50>"
       ]
      },
      {
       "javascript": [
        "$('div#083160c4-0ac8-4ca4-a715-fc702cda2229').text(' 89.39 MB/s');"
       ],
       "metadata": {},
       "output_type": "display_data",
       "text": [
        "<IPython.core.display.Javascript at 0x10ff14c90>"
       ]
      },
      {
       "javascript": [
        "$('div#20aa3663-2bc3-4672-a5fd-3e67a8322d65').text(' 11%');"
       ],
       "metadata": {},
       "output_type": "display_data",
       "text": [
        "<IPython.core.display.Javascript at 0x10ff14cd0>"
       ]
      },
      {
       "javascript": [
        "\n",
        "        var $myPB = $(\"div#1634ec53-b320-4692-a9ab-89cd1e1a53cf\")\n",
        "        if ($myPB.hasClass('ui-progressbar')) {\n",
        "            $myPB.progressbar('value', 2793472);\n",
        "        } else {\n",
        "            $myPB.progressbar({value: 0, max: 25238326});\n",
        "        }\n",
        "        "
       ],
       "metadata": {},
       "output_type": "display_data",
       "text": [
        "<IPython.core.display.Javascript at 0x10ff14d10>"
       ]
      },
      {
       "javascript": [
        "$('div#3507affb-83a9-4617-bfa9-e354e4be730a').text('ETA:  0:00:00');"
       ],
       "metadata": {},
       "output_type": "display_data",
       "text": [
        "<IPython.core.display.Javascript at 0x10ff14d50>"
       ]
      },
      {
       "javascript": [
        "$('div#083160c4-0ac8-4ca4-a715-fc702cda2229').text(' 88.21 MB/s');"
       ],
       "metadata": {},
       "output_type": "display_data",
       "text": [
        "<IPython.core.display.Javascript at 0x10ff14d90>"
       ]
      },
      {
       "javascript": [
        "$('div#20aa3663-2bc3-4672-a5fd-3e67a8322d65').text(' 12%');"
       ],
       "metadata": {},
       "output_type": "display_data",
       "text": [
        "<IPython.core.display.Javascript at 0x10ff14dd0>"
       ]
      },
      {
       "javascript": [
        "\n",
        "        var $myPB = $(\"div#1634ec53-b320-4692-a9ab-89cd1e1a53cf\")\n",
        "        if ($myPB.hasClass('ui-progressbar')) {\n",
        "            $myPB.progressbar('value', 3047424);\n",
        "        } else {\n",
        "            $myPB.progressbar({value: 0, max: 25238326});\n",
        "        }\n",
        "        "
       ],
       "metadata": {},
       "output_type": "display_data",
       "text": [
        "<IPython.core.display.Javascript at 0x10ff14e10>"
       ]
      },
      {
       "javascript": [
        "$('div#3507affb-83a9-4617-bfa9-e354e4be730a').text('ETA:  0:00:00');"
       ],
       "metadata": {},
       "output_type": "display_data",
       "text": [
        "<IPython.core.display.Javascript at 0x10ff14e50>"
       ]
      },
      {
       "javascript": [
        "$('div#083160c4-0ac8-4ca4-a715-fc702cda2229').text(' 88.44 MB/s');"
       ],
       "metadata": {},
       "output_type": "display_data",
       "text": [
        "<IPython.core.display.Javascript at 0x10ff14e90>"
       ]
      },
      {
       "javascript": [
        "$('div#20aa3663-2bc3-4672-a5fd-3e67a8322d65').text(' 13%');"
       ],
       "metadata": {},
       "output_type": "display_data",
       "text": [
        "<IPython.core.display.Javascript at 0x10ff14ed0>"
       ]
      },
      {
       "javascript": [
        "\n",
        "        var $myPB = $(\"div#1634ec53-b320-4692-a9ab-89cd1e1a53cf\")\n",
        "        if ($myPB.hasClass('ui-progressbar')) {\n",
        "            $myPB.progressbar('value', 3301376);\n",
        "        } else {\n",
        "            $myPB.progressbar({value: 0, max: 25238326});\n",
        "        }\n",
        "        "
       ],
       "metadata": {},
       "output_type": "display_data",
       "text": [
        "<IPython.core.display.Javascript at 0x10ff14f90>"
       ]
      },
      {
       "javascript": [
        "$('div#3507affb-83a9-4617-bfa9-e354e4be730a').text('ETA:  0:00:00');"
       ],
       "metadata": {},
       "output_type": "display_data",
       "text": [
        "<IPython.core.display.Javascript at 0x10ff14f50>"
       ]
      },
      {
       "javascript": [
        "$('div#083160c4-0ac8-4ca4-a715-fc702cda2229').text(' 88.74 MB/s');"
       ],
       "metadata": {},
       "output_type": "display_data",
       "text": [
        "<IPython.core.display.Javascript at 0x10ff14f10>"
       ]
      },
      {
       "javascript": [
        "$('div#20aa3663-2bc3-4672-a5fd-3e67a8322d65').text(' 14%');"
       ],
       "metadata": {},
       "output_type": "display_data",
       "text": [
        "<IPython.core.display.Javascript at 0x10ff14490>"
       ]
      },
      {
       "javascript": [
        "\n",
        "        var $myPB = $(\"div#1634ec53-b320-4692-a9ab-89cd1e1a53cf\")\n",
        "        if ($myPB.hasClass('ui-progressbar')) {\n",
        "            $myPB.progressbar('value', 3555328);\n",
        "        } else {\n",
        "            $myPB.progressbar({value: 0, max: 25238326});\n",
        "        }\n",
        "        "
       ],
       "metadata": {},
       "output_type": "display_data",
       "text": [
        "<IPython.core.display.Javascript at 0x10ff14a10>"
       ]
      },
      {
       "javascript": [
        "$('div#3507affb-83a9-4617-bfa9-e354e4be730a').text('ETA:  0:00:00');"
       ],
       "metadata": {},
       "output_type": "display_data",
       "text": [
        "<IPython.core.display.Javascript at 0x1100a4050>"
       ]
      },
      {
       "javascript": [
        "$('div#083160c4-0ac8-4ca4-a715-fc702cda2229').text(' 88.52 MB/s');"
       ],
       "metadata": {},
       "output_type": "display_data",
       "text": [
        "<IPython.core.display.Javascript at 0x1100a4090>"
       ]
      },
      {
       "javascript": [
        "$('div#20aa3663-2bc3-4672-a5fd-3e67a8322d65').text(' 15%');"
       ],
       "metadata": {},
       "output_type": "display_data",
       "text": [
        "<IPython.core.display.Javascript at 0x1100a40d0>"
       ]
      },
      {
       "javascript": [
        "\n",
        "        var $myPB = $(\"div#1634ec53-b320-4692-a9ab-89cd1e1a53cf\")\n",
        "        if ($myPB.hasClass('ui-progressbar')) {\n",
        "            $myPB.progressbar('value', 3809280);\n",
        "        } else {\n",
        "            $myPB.progressbar({value: 0, max: 25238326});\n",
        "        }\n",
        "        "
       ],
       "metadata": {},
       "output_type": "display_data",
       "text": [
        "<IPython.core.display.Javascript at 0x1100a4110>"
       ]
      },
      {
       "javascript": [
        "$('div#3507affb-83a9-4617-bfa9-e354e4be730a').text('ETA:  0:00:00');"
       ],
       "metadata": {},
       "output_type": "display_data",
       "text": [
        "<IPython.core.display.Javascript at 0x1100a4190>"
       ]
      },
      {
       "javascript": [
        "$('div#083160c4-0ac8-4ca4-a715-fc702cda2229').text(' 88.64 MB/s');"
       ],
       "metadata": {},
       "output_type": "display_data",
       "text": [
        "<IPython.core.display.Javascript at 0x1100a41d0>"
       ]
      },
      {
       "javascript": [
        "$('div#20aa3663-2bc3-4672-a5fd-3e67a8322d65').text(' 16%');"
       ],
       "metadata": {},
       "output_type": "display_data",
       "text": [
        "<IPython.core.display.Javascript at 0x1100a4210>"
       ]
      },
      {
       "javascript": [
        "\n",
        "        var $myPB = $(\"div#1634ec53-b320-4692-a9ab-89cd1e1a53cf\")\n",
        "        if ($myPB.hasClass('ui-progressbar')) {\n",
        "            $myPB.progressbar('value', 4063232);\n",
        "        } else {\n",
        "            $myPB.progressbar({value: 0, max: 25238326});\n",
        "        }\n",
        "        "
       ],
       "metadata": {},
       "output_type": "display_data",
       "text": [
        "<IPython.core.display.Javascript at 0x1100a4250>"
       ]
      },
      {
       "javascript": [
        "$('div#3507affb-83a9-4617-bfa9-e354e4be730a').text('ETA:  0:00:00');"
       ],
       "metadata": {},
       "output_type": "display_data",
       "text": [
        "<IPython.core.display.Javascript at 0x1100a4290>"
       ]
      },
      {
       "javascript": [
        "$('div#083160c4-0ac8-4ca4-a715-fc702cda2229').text(' 88.93 MB/s');"
       ],
       "metadata": {},
       "output_type": "display_data",
       "text": [
        "<IPython.core.display.Javascript at 0x1100a42d0>"
       ]
      },
      {
       "javascript": [
        "$('div#20aa3663-2bc3-4672-a5fd-3e67a8322d65').text(' 17%');"
       ],
       "metadata": {},
       "output_type": "display_data",
       "text": [
        "<IPython.core.display.Javascript at 0x1100a4310>"
       ]
      },
      {
       "javascript": [
        "\n",
        "        var $myPB = $(\"div#1634ec53-b320-4692-a9ab-89cd1e1a53cf\")\n",
        "        if ($myPB.hasClass('ui-progressbar')) {\n",
        "            $myPB.progressbar('value', 4317184);\n",
        "        } else {\n",
        "            $myPB.progressbar({value: 0, max: 25238326});\n",
        "        }\n",
        "        "
       ],
       "metadata": {},
       "output_type": "display_data",
       "text": [
        "<IPython.core.display.Javascript at 0x1100a4350>"
       ]
      },
      {
       "javascript": [
        "$('div#3507affb-83a9-4617-bfa9-e354e4be730a').text('ETA:  0:00:00');"
       ],
       "metadata": {},
       "output_type": "display_data",
       "text": [
        "<IPython.core.display.Javascript at 0x1100a4390>"
       ]
      },
      {
       "javascript": [
        "$('div#083160c4-0ac8-4ca4-a715-fc702cda2229').text(' 89.40 MB/s');"
       ],
       "metadata": {},
       "output_type": "display_data",
       "text": [
        "<IPython.core.display.Javascript at 0x1100a43d0>"
       ]
      },
      {
       "javascript": [
        "$('div#20aa3663-2bc3-4672-a5fd-3e67a8322d65').text(' 18%');"
       ],
       "metadata": {},
       "output_type": "display_data",
       "text": [
        "<IPython.core.display.Javascript at 0x1100a4410>"
       ]
      },
      {
       "javascript": [
        "\n",
        "        var $myPB = $(\"div#1634ec53-b320-4692-a9ab-89cd1e1a53cf\")\n",
        "        if ($myPB.hasClass('ui-progressbar')) {\n",
        "            $myPB.progressbar('value', 4571136);\n",
        "        } else {\n",
        "            $myPB.progressbar({value: 0, max: 25238326});\n",
        "        }\n",
        "        "
       ],
       "metadata": {},
       "output_type": "display_data",
       "text": [
        "<IPython.core.display.Javascript at 0x10ff14a10>"
       ]
      },
      {
       "javascript": [
        "$('div#3507affb-83a9-4617-bfa9-e354e4be730a').text('ETA:  0:00:00');"
       ],
       "metadata": {},
       "output_type": "display_data",
       "text": [
        "<IPython.core.display.Javascript at 0x10ff14490>"
       ]
      },
      {
       "javascript": [
        "$('div#083160c4-0ac8-4ca4-a715-fc702cda2229').text(' 88.99 MB/s');"
       ],
       "metadata": {},
       "output_type": "display_data",
       "text": [
        "<IPython.core.display.Javascript at 0x10ff14f10>"
       ]
      },
      {
       "javascript": [
        "$('div#20aa3663-2bc3-4672-a5fd-3e67a8322d65').text(' 19%');"
       ],
       "metadata": {},
       "output_type": "display_data",
       "text": [
        "<IPython.core.display.Javascript at 0x10ff14ed0>"
       ]
      },
      {
       "javascript": [
        "\n",
        "        var $myPB = $(\"div#1634ec53-b320-4692-a9ab-89cd1e1a53cf\")\n",
        "        if ($myPB.hasClass('ui-progressbar')) {\n",
        "            $myPB.progressbar('value', 4825088);\n",
        "        } else {\n",
        "            $myPB.progressbar({value: 0, max: 25238326});\n",
        "        }\n",
        "        "
       ],
       "metadata": {},
       "output_type": "display_data",
       "text": [
        "<IPython.core.display.Javascript at 0x10ff14e90>"
       ]
      },
      {
       "javascript": [
        "$('div#3507affb-83a9-4617-bfa9-e354e4be730a').text('ETA:  0:00:00');"
       ],
       "metadata": {},
       "output_type": "display_data",
       "text": [
        "<IPython.core.display.Javascript at 0x10ff14e50>"
       ]
      },
      {
       "javascript": [
        "$('div#083160c4-0ac8-4ca4-a715-fc702cda2229').text(' 87.22 MB/s');"
       ],
       "metadata": {},
       "output_type": "display_data",
       "text": [
        "<IPython.core.display.Javascript at 0x10ff14f90>"
       ]
      },
      {
       "javascript": [
        "$('div#20aa3663-2bc3-4672-a5fd-3e67a8322d65').text(' 20%');"
       ],
       "metadata": {},
       "output_type": "display_data",
       "text": [
        "<IPython.core.display.Javascript at 0x10ff14dd0>"
       ]
      },
      {
       "javascript": [
        "\n",
        "        var $myPB = $(\"div#1634ec53-b320-4692-a9ab-89cd1e1a53cf\")\n",
        "        if ($myPB.hasClass('ui-progressbar')) {\n",
        "            $myPB.progressbar('value', 5079040);\n",
        "        } else {\n",
        "            $myPB.progressbar({value: 0, max: 25238326});\n",
        "        }\n",
        "        "
       ],
       "metadata": {},
       "output_type": "display_data",
       "text": [
        "<IPython.core.display.Javascript at 0x10ff14d90>"
       ]
      },
      {
       "javascript": [
        "$('div#3507affb-83a9-4617-bfa9-e354e4be730a').text('ETA:  0:00:00');"
       ],
       "metadata": {},
       "output_type": "display_data",
       "text": [
        "<IPython.core.display.Javascript at 0x10ff14d50>"
       ]
      },
      {
       "javascript": [
        "$('div#083160c4-0ac8-4ca4-a715-fc702cda2229').text(' 86.69 MB/s');"
       ],
       "metadata": {},
       "output_type": "display_data",
       "text": [
        "<IPython.core.display.Javascript at 0x10ff14d10>"
       ]
      },
      {
       "javascript": [
        "$('div#20aa3663-2bc3-4672-a5fd-3e67a8322d65').text(' 21%');"
       ],
       "metadata": {},
       "output_type": "display_data",
       "text": [
        "<IPython.core.display.Javascript at 0x10ff14cd0>"
       ]
      },
      {
       "javascript": [
        "\n",
        "        var $myPB = $(\"div#1634ec53-b320-4692-a9ab-89cd1e1a53cf\")\n",
        "        if ($myPB.hasClass('ui-progressbar')) {\n",
        "            $myPB.progressbar('value', 5332992);\n",
        "        } else {\n",
        "            $myPB.progressbar({value: 0, max: 25238326});\n",
        "        }\n",
        "        "
       ],
       "metadata": {},
       "output_type": "display_data",
       "text": [
        "<IPython.core.display.Javascript at 0x10ff14c90>"
       ]
      },
      {
       "javascript": [
        "$('div#3507affb-83a9-4617-bfa9-e354e4be730a').text('ETA:  0:00:00');"
       ],
       "metadata": {},
       "output_type": "display_data",
       "text": [
        "<IPython.core.display.Javascript at 0x10ff14c50>"
       ]
      },
      {
       "javascript": [
        "$('div#083160c4-0ac8-4ca4-a715-fc702cda2229').text(' 86.16 MB/s');"
       ],
       "metadata": {},
       "output_type": "display_data",
       "text": [
        "<IPython.core.display.Javascript at 0x10ff14c10>"
       ]
      },
      {
       "javascript": [
        "$('div#20aa3663-2bc3-4672-a5fd-3e67a8322d65').text(' 22%');"
       ],
       "metadata": {},
       "output_type": "display_data",
       "text": [
        "<IPython.core.display.Javascript at 0x10ff14b90>"
       ]
      },
      {
       "javascript": [
        "\n",
        "        var $myPB = $(\"div#1634ec53-b320-4692-a9ab-89cd1e1a53cf\")\n",
        "        if ($myPB.hasClass('ui-progressbar')) {\n",
        "            $myPB.progressbar('value', 5586944);\n",
        "        } else {\n",
        "            $myPB.progressbar({value: 0, max: 25238326});\n",
        "        }\n",
        "        "
       ],
       "metadata": {},
       "output_type": "display_data",
       "text": [
        "<IPython.core.display.Javascript at 0x10ff14bd0>"
       ]
      },
      {
       "javascript": [
        "$('div#3507affb-83a9-4617-bfa9-e354e4be730a').text('ETA:  0:00:00');"
       ],
       "metadata": {},
       "output_type": "display_data",
       "text": [
        "<IPython.core.display.Javascript at 0x10ff14250>"
       ]
      },
      {
       "javascript": [
        "$('div#083160c4-0ac8-4ca4-a715-fc702cda2229').text(' 85.93 MB/s');"
       ],
       "metadata": {},
       "output_type": "display_data",
       "text": [
        "<IPython.core.display.Javascript at 0x10ff14b50>"
       ]
      },
      {
       "javascript": [
        "$('div#20aa3663-2bc3-4672-a5fd-3e67a8322d65').text(' 23%');"
       ],
       "metadata": {},
       "output_type": "display_data",
       "text": [
        "<IPython.core.display.Javascript at 0x10ff14b10>"
       ]
      },
      {
       "javascript": [
        "\n",
        "        var $myPB = $(\"div#1634ec53-b320-4692-a9ab-89cd1e1a53cf\")\n",
        "        if ($myPB.hasClass('ui-progressbar')) {\n",
        "            $myPB.progressbar('value', 5840896);\n",
        "        } else {\n",
        "            $myPB.progressbar({value: 0, max: 25238326});\n",
        "        }\n",
        "        "
       ],
       "metadata": {},
       "output_type": "display_data",
       "text": [
        "<IPython.core.display.Javascript at 0x10ff14fd0>"
       ]
      },
      {
       "javascript": [
        "$('div#3507affb-83a9-4617-bfa9-e354e4be730a').text('ETA:  0:00:00');"
       ],
       "metadata": {},
       "output_type": "display_data",
       "text": [
        "<IPython.core.display.Javascript at 0x10ff14690>"
       ]
      },
      {
       "javascript": [
        "$('div#083160c4-0ac8-4ca4-a715-fc702cda2229').text(' 85.70 MB/s');"
       ],
       "metadata": {},
       "output_type": "display_data",
       "text": [
        "<IPython.core.display.Javascript at 0x10ff14090>"
       ]
      },
      {
       "javascript": [
        "$('div#20aa3663-2bc3-4672-a5fd-3e67a8322d65').text(' 24%');"
       ],
       "metadata": {},
       "output_type": "display_data",
       "text": [
        "<IPython.core.display.Javascript at 0x10ff14210>"
       ]
      },
      {
       "javascript": [
        "\n",
        "        var $myPB = $(\"div#1634ec53-b320-4692-a9ab-89cd1e1a53cf\")\n",
        "        if ($myPB.hasClass('ui-progressbar')) {\n",
        "            $myPB.progressbar('value', 6094848);\n",
        "        } else {\n",
        "            $myPB.progressbar({value: 0, max: 25238326});\n",
        "        }\n",
        "        "
       ],
       "metadata": {},
       "output_type": "display_data",
       "text": [
        "<IPython.core.display.Javascript at 0x10ff144d0>"
       ]
      },
      {
       "javascript": [
        "$('div#3507affb-83a9-4617-bfa9-e354e4be730a').text('ETA:  0:00:00');"
       ],
       "metadata": {},
       "output_type": "display_data",
       "text": [
        "<IPython.core.display.Javascript at 0x10ff14510>"
       ]
      },
      {
       "javascript": [
        "$('div#083160c4-0ac8-4ca4-a715-fc702cda2229').text(' 85.06 MB/s');"
       ],
       "metadata": {},
       "output_type": "display_data",
       "text": [
        "<IPython.core.display.Javascript at 0x10ff14450>"
       ]
      },
      {
       "javascript": [
        "$('div#20aa3663-2bc3-4672-a5fd-3e67a8322d65').text(' 25%');"
       ],
       "metadata": {},
       "output_type": "display_data",
       "text": [
        "<IPython.core.display.Javascript at 0x10ff14550>"
       ]
      },
      {
       "javascript": [
        "\n",
        "        var $myPB = $(\"div#1634ec53-b320-4692-a9ab-89cd1e1a53cf\")\n",
        "        if ($myPB.hasClass('ui-progressbar')) {\n",
        "            $myPB.progressbar('value', 6348800);\n",
        "        } else {\n",
        "            $myPB.progressbar({value: 0, max: 25238326});\n",
        "        }\n",
        "        "
       ],
       "metadata": {},
       "output_type": "display_data",
       "text": [
        "<IPython.core.display.Javascript at 0x10ff145d0>"
       ]
      },
      {
       "javascript": [
        "$('div#3507affb-83a9-4617-bfa9-e354e4be730a').text('ETA:  0:00:00');"
       ],
       "metadata": {},
       "output_type": "display_data",
       "text": [
        "<IPython.core.display.Javascript at 0x10ff14610>"
       ]
      },
      {
       "javascript": [
        "$('div#083160c4-0ac8-4ca4-a715-fc702cda2229').text(' 84.82 MB/s');"
       ],
       "metadata": {},
       "output_type": "display_data",
       "text": [
        "<IPython.core.display.Javascript at 0x10ff14650>"
       ]
      },
      {
       "javascript": [
        "$('div#20aa3663-2bc3-4672-a5fd-3e67a8322d65').text(' 26%');"
       ],
       "metadata": {},
       "output_type": "display_data",
       "text": [
        "<IPython.core.display.Javascript at 0x10ff146d0>"
       ]
      },
      {
       "javascript": [
        "\n",
        "        var $myPB = $(\"div#1634ec53-b320-4692-a9ab-89cd1e1a53cf\")\n",
        "        if ($myPB.hasClass('ui-progressbar')) {\n",
        "            $myPB.progressbar('value', 6602752);\n",
        "        } else {\n",
        "            $myPB.progressbar({value: 0, max: 25238326});\n",
        "        }\n",
        "        "
       ],
       "metadata": {},
       "output_type": "display_data",
       "text": [
        "<IPython.core.display.Javascript at 0x10ff14710>"
       ]
      },
      {
       "javascript": [
        "$('div#3507affb-83a9-4617-bfa9-e354e4be730a').text('ETA:  0:00:00');"
       ],
       "metadata": {},
       "output_type": "display_data",
       "text": [
        "<IPython.core.display.Javascript at 0x10ff14750>"
       ]
      },
      {
       "javascript": [
        "$('div#083160c4-0ac8-4ca4-a715-fc702cda2229').text(' 83.66 MB/s');"
       ],
       "metadata": {},
       "output_type": "display_data",
       "text": [
        "<IPython.core.display.Javascript at 0x10ff14790>"
       ]
      },
      {
       "javascript": [
        "$('div#20aa3663-2bc3-4672-a5fd-3e67a8322d65').text(' 27%');"
       ],
       "metadata": {},
       "output_type": "display_data",
       "text": [
        "<IPython.core.display.Javascript at 0x10ff147d0>"
       ]
      },
      {
       "javascript": [
        "\n",
        "        var $myPB = $(\"div#1634ec53-b320-4692-a9ab-89cd1e1a53cf\")\n",
        "        if ($myPB.hasClass('ui-progressbar')) {\n",
        "            $myPB.progressbar('value', 6856704);\n",
        "        } else {\n",
        "            $myPB.progressbar({value: 0, max: 25238326});\n",
        "        }\n",
        "        "
       ],
       "metadata": {},
       "output_type": "display_data",
       "text": [
        "<IPython.core.display.Javascript at 0x10ff14810>"
       ]
      },
      {
       "javascript": [
        "$('div#3507affb-83a9-4617-bfa9-e354e4be730a').text('ETA:  0:00:00');"
       ],
       "metadata": {},
       "output_type": "display_data",
       "text": [
        "<IPython.core.display.Javascript at 0x10ff14850>"
       ]
      },
      {
       "javascript": [
        "$('div#083160c4-0ac8-4ca4-a715-fc702cda2229').text(' 82.59 MB/s');"
       ],
       "metadata": {},
       "output_type": "display_data",
       "text": [
        "<IPython.core.display.Javascript at 0x10ff14890>"
       ]
      },
      {
       "javascript": [
        "$('div#20aa3663-2bc3-4672-a5fd-3e67a8322d65').text(' 28%');"
       ],
       "metadata": {},
       "output_type": "display_data",
       "text": [
        "<IPython.core.display.Javascript at 0x10ff148d0>"
       ]
      },
      {
       "javascript": [
        "\n",
        "        var $myPB = $(\"div#1634ec53-b320-4692-a9ab-89cd1e1a53cf\")\n",
        "        if ($myPB.hasClass('ui-progressbar')) {\n",
        "            $myPB.progressbar('value', 7110656);\n",
        "        } else {\n",
        "            $myPB.progressbar({value: 0, max: 25238326});\n",
        "        }\n",
        "        "
       ],
       "metadata": {},
       "output_type": "display_data",
       "text": [
        "<IPython.core.display.Javascript at 0x10ff14910>"
       ]
      },
      {
       "javascript": [
        "$('div#3507affb-83a9-4617-bfa9-e354e4be730a').text('ETA:  0:00:00');"
       ],
       "metadata": {},
       "output_type": "display_data",
       "text": [
        "<IPython.core.display.Javascript at 0x10ff14950>"
       ]
      },
      {
       "javascript": [
        "$('div#083160c4-0ac8-4ca4-a715-fc702cda2229').text(' 82.56 MB/s');"
       ],
       "metadata": {},
       "output_type": "display_data",
       "text": [
        "<IPython.core.display.Javascript at 0x10ff14990>"
       ]
      },
      {
       "javascript": [
        "$('div#20aa3663-2bc3-4672-a5fd-3e67a8322d65').text(' 29%');"
       ],
       "metadata": {},
       "output_type": "display_data",
       "text": [
        "<IPython.core.display.Javascript at 0x10ff149d0>"
       ]
      },
      {
       "javascript": [
        "\n",
        "        var $myPB = $(\"div#1634ec53-b320-4692-a9ab-89cd1e1a53cf\")\n",
        "        if ($myPB.hasClass('ui-progressbar')) {\n",
        "            $myPB.progressbar('value', 7364608);\n",
        "        } else {\n",
        "            $myPB.progressbar({value: 0, max: 25238326});\n",
        "        }\n",
        "        "
       ],
       "metadata": {},
       "output_type": "display_data",
       "text": [
        "<IPython.core.display.Javascript at 0x10ff14050>"
       ]
      },
      {
       "javascript": [
        "$('div#3507affb-83a9-4617-bfa9-e354e4be730a').text('ETA:  0:00:00');"
       ],
       "metadata": {},
       "output_type": "display_data",
       "text": [
        "<IPython.core.display.Javascript at 0x10ff14a50>"
       ]
      },
      {
       "javascript": [
        "$('div#083160c4-0ac8-4ca4-a715-fc702cda2229').text(' 82.05 MB/s');"
       ],
       "metadata": {},
       "output_type": "display_data",
       "text": [
        "<IPython.core.display.Javascript at 0x10ff14a90>"
       ]
      },
      {
       "javascript": [
        "$('div#20aa3663-2bc3-4672-a5fd-3e67a8322d65').text(' 30%');"
       ],
       "metadata": {},
       "output_type": "display_data",
       "text": [
        "<IPython.core.display.Javascript at 0x10ff14410>"
       ]
      },
      {
       "javascript": [
        "\n",
        "        var $myPB = $(\"div#1634ec53-b320-4692-a9ab-89cd1e1a53cf\")\n",
        "        if ($myPB.hasClass('ui-progressbar')) {\n",
        "            $myPB.progressbar('value', 7618560);\n",
        "        } else {\n",
        "            $myPB.progressbar({value: 0, max: 25238326});\n",
        "        }\n",
        "        "
       ],
       "metadata": {},
       "output_type": "display_data",
       "text": [
        "<IPython.core.display.Javascript at 0x10ff14ad0>"
       ]
      },
      {
       "javascript": [
        "$('div#3507affb-83a9-4617-bfa9-e354e4be730a').text('ETA:  0:00:00');"
       ],
       "metadata": {},
       "output_type": "display_data",
       "text": [
        "<IPython.core.display.Javascript at 0x10ff141d0>"
       ]
      },
      {
       "javascript": [
        "$('div#083160c4-0ac8-4ca4-a715-fc702cda2229').text(' 81.90 MB/s');"
       ],
       "metadata": {},
       "output_type": "display_data",
       "text": [
        "<IPython.core.display.Javascript at 0x10ff14e10>"
       ]
      },
      {
       "javascript": [
        "$('div#20aa3663-2bc3-4672-a5fd-3e67a8322d65').text(' 31%');"
       ],
       "metadata": {},
       "output_type": "display_data",
       "text": [
        "<IPython.core.display.Javascript at 0x10ff07f50>"
       ]
      },
      {
       "javascript": [
        "\n",
        "        var $myPB = $(\"div#1634ec53-b320-4692-a9ab-89cd1e1a53cf\")\n",
        "        if ($myPB.hasClass('ui-progressbar')) {\n",
        "            $myPB.progressbar('value', 7872512);\n",
        "        } else {\n",
        "            $myPB.progressbar({value: 0, max: 25238326});\n",
        "        }\n",
        "        "
       ],
       "metadata": {},
       "output_type": "display_data",
       "text": [
        "<IPython.core.display.Javascript at 0x10ff07f90>"
       ]
      },
      {
       "javascript": [
        "$('div#3507affb-83a9-4617-bfa9-e354e4be730a').text('ETA:  0:00:00');"
       ],
       "metadata": {},
       "output_type": "display_data",
       "text": [
        "<IPython.core.display.Javascript at 0x10ff07f10>"
       ]
      },
      {
       "javascript": [
        "$('div#083160c4-0ac8-4ca4-a715-fc702cda2229').text(' 81.73 MB/s');"
       ],
       "metadata": {},
       "output_type": "display_data",
       "text": [
        "<IPython.core.display.Javascript at 0x10ff07ed0>"
       ]
      },
      {
       "javascript": [
        "$('div#20aa3663-2bc3-4672-a5fd-3e67a8322d65').text(' 32%');"
       ],
       "metadata": {},
       "output_type": "display_data",
       "text": [
        "<IPython.core.display.Javascript at 0x10ff07d10>"
       ]
      },
      {
       "javascript": [
        "\n",
        "        var $myPB = $(\"div#1634ec53-b320-4692-a9ab-89cd1e1a53cf\")\n",
        "        if ($myPB.hasClass('ui-progressbar')) {\n",
        "            $myPB.progressbar('value', 8126464);\n",
        "        } else {\n",
        "            $myPB.progressbar({value: 0, max: 25238326});\n",
        "        }\n",
        "        "
       ],
       "metadata": {},
       "output_type": "display_data",
       "text": [
        "<IPython.core.display.Javascript at 0x10ff07fd0>"
       ]
      },
      {
       "javascript": [
        "$('div#3507affb-83a9-4617-bfa9-e354e4be730a').text('ETA:  0:00:00');"
       ],
       "metadata": {},
       "output_type": "display_data",
       "text": [
        "<IPython.core.display.Javascript at 0x10ffe5050>"
       ]
      },
      {
       "javascript": [
        "$('div#083160c4-0ac8-4ca4-a715-fc702cda2229').text(' 81.80 MB/s');"
       ],
       "metadata": {},
       "output_type": "display_data",
       "text": [
        "<IPython.core.display.Javascript at 0x10ffe5090>"
       ]
      },
      {
       "javascript": [
        "$('div#20aa3663-2bc3-4672-a5fd-3e67a8322d65').text(' 33%');"
       ],
       "metadata": {},
       "output_type": "display_data",
       "text": [
        "<IPython.core.display.Javascript at 0x10ffe50d0>"
       ]
      },
      {
       "javascript": [
        "\n",
        "        var $myPB = $(\"div#1634ec53-b320-4692-a9ab-89cd1e1a53cf\")\n",
        "        if ($myPB.hasClass('ui-progressbar')) {\n",
        "            $myPB.progressbar('value', 8380416);\n",
        "        } else {\n",
        "            $myPB.progressbar({value: 0, max: 25238326});\n",
        "        }\n",
        "        "
       ],
       "metadata": {},
       "output_type": "display_data",
       "text": [
        "<IPython.core.display.Javascript at 0x10ffe5110>"
       ]
      },
      {
       "javascript": [
        "$('div#3507affb-83a9-4617-bfa9-e354e4be730a').text('ETA:  0:00:00');"
       ],
       "metadata": {},
       "output_type": "display_data",
       "text": [
        "<IPython.core.display.Javascript at 0x10ffe5190>"
       ]
      },
      {
       "javascript": [
        "$('div#083160c4-0ac8-4ca4-a715-fc702cda2229').text(' 81.89 MB/s');"
       ],
       "metadata": {},
       "output_type": "display_data",
       "text": [
        "<IPython.core.display.Javascript at 0x10ffe51d0>"
       ]
      },
      {
       "javascript": [
        "$('div#20aa3663-2bc3-4672-a5fd-3e67a8322d65').text(' 34%');"
       ],
       "metadata": {},
       "output_type": "display_data",
       "text": [
        "<IPython.core.display.Javascript at 0x10ffe5210>"
       ]
      },
      {
       "javascript": [
        "\n",
        "        var $myPB = $(\"div#1634ec53-b320-4692-a9ab-89cd1e1a53cf\")\n",
        "        if ($myPB.hasClass('ui-progressbar')) {\n",
        "            $myPB.progressbar('value', 8634368);\n",
        "        } else {\n",
        "            $myPB.progressbar({value: 0, max: 25238326});\n",
        "        }\n",
        "        "
       ],
       "metadata": {},
       "output_type": "display_data",
       "text": [
        "<IPython.core.display.Javascript at 0x10ffe5250>"
       ]
      },
      {
       "javascript": [
        "$('div#3507affb-83a9-4617-bfa9-e354e4be730a').text('ETA:  0:00:00');"
       ],
       "metadata": {},
       "output_type": "display_data",
       "text": [
        "<IPython.core.display.Javascript at 0x10ffe5290>"
       ]
      },
      {
       "javascript": [
        "$('div#083160c4-0ac8-4ca4-a715-fc702cda2229').text(' 76.74 MB/s');"
       ],
       "metadata": {},
       "output_type": "display_data",
       "text": [
        "<IPython.core.display.Javascript at 0x10ffe52d0>"
       ]
      },
      {
       "javascript": [
        "$('div#20aa3663-2bc3-4672-a5fd-3e67a8322d65').text(' 35%');"
       ],
       "metadata": {},
       "output_type": "display_data",
       "text": [
        "<IPython.core.display.Javascript at 0x10ffe5310>"
       ]
      },
      {
       "javascript": [
        "\n",
        "        var $myPB = $(\"div#1634ec53-b320-4692-a9ab-89cd1e1a53cf\")\n",
        "        if ($myPB.hasClass('ui-progressbar')) {\n",
        "            $myPB.progressbar('value', 8888320);\n",
        "        } else {\n",
        "            $myPB.progressbar({value: 0, max: 25238326});\n",
        "        }\n",
        "        "
       ],
       "metadata": {},
       "output_type": "display_data",
       "text": [
        "<IPython.core.display.Javascript at 0x10ffe5350>"
       ]
      },
      {
       "javascript": [
        "$('div#3507affb-83a9-4617-bfa9-e354e4be730a').text('ETA:  0:00:00');"
       ],
       "metadata": {},
       "output_type": "display_data",
       "text": [
        "<IPython.core.display.Javascript at 0x10ffe5390>"
       ]
      },
      {
       "javascript": [
        "$('div#083160c4-0ac8-4ca4-a715-fc702cda2229').text(' 76.52 MB/s');"
       ],
       "metadata": {},
       "output_type": "display_data",
       "text": [
        "<IPython.core.display.Javascript at 0x10ffe53d0>"
       ]
      },
      {
       "javascript": [
        "$('div#20aa3663-2bc3-4672-a5fd-3e67a8322d65').text(' 36%');"
       ],
       "metadata": {},
       "output_type": "display_data",
       "text": [
        "<IPython.core.display.Javascript at 0x10ffe5410>"
       ]
      },
      {
       "javascript": [
        "\n",
        "        var $myPB = $(\"div#1634ec53-b320-4692-a9ab-89cd1e1a53cf\")\n",
        "        if ($myPB.hasClass('ui-progressbar')) {\n",
        "            $myPB.progressbar('value', 9142272);\n",
        "        } else {\n",
        "            $myPB.progressbar({value: 0, max: 25238326});\n",
        "        }\n",
        "        "
       ],
       "metadata": {},
       "output_type": "display_data",
       "text": [
        "<IPython.core.display.Javascript at 0x10ffe5450>"
       ]
      },
      {
       "javascript": [
        "$('div#3507affb-83a9-4617-bfa9-e354e4be730a').text('ETA:  0:00:00');"
       ],
       "metadata": {},
       "output_type": "display_data",
       "text": [
        "<IPython.core.display.Javascript at 0x10ffe5490>"
       ]
      },
      {
       "javascript": [
        "$('div#083160c4-0ac8-4ca4-a715-fc702cda2229').text(' 76.59 MB/s');"
       ],
       "metadata": {},
       "output_type": "display_data",
       "text": [
        "<IPython.core.display.Javascript at 0x10ffe54d0>"
       ]
      },
      {
       "javascript": [
        "$('div#20aa3663-2bc3-4672-a5fd-3e67a8322d65').text(' 37%');"
       ],
       "metadata": {},
       "output_type": "display_data",
       "text": [
        "<IPython.core.display.Javascript at 0x10ffe5510>"
       ]
      },
      {
       "javascript": [
        "\n",
        "        var $myPB = $(\"div#1634ec53-b320-4692-a9ab-89cd1e1a53cf\")\n",
        "        if ($myPB.hasClass('ui-progressbar')) {\n",
        "            $myPB.progressbar('value', 9396224);\n",
        "        } else {\n",
        "            $myPB.progressbar({value: 0, max: 25238326});\n",
        "        }\n",
        "        "
       ],
       "metadata": {},
       "output_type": "display_data",
       "text": [
        "<IPython.core.display.Javascript at 0x10ffe5550>"
       ]
      },
      {
       "javascript": [
        "$('div#3507affb-83a9-4617-bfa9-e354e4be730a').text('ETA:  0:00:00');"
       ],
       "metadata": {},
       "output_type": "display_data",
       "text": [
        "<IPython.core.display.Javascript at 0x10ffe5590>"
       ]
      },
      {
       "javascript": [
        "$('div#083160c4-0ac8-4ca4-a715-fc702cda2229').text(' 76.61 MB/s');"
       ],
       "metadata": {},
       "output_type": "display_data",
       "text": [
        "<IPython.core.display.Javascript at 0x10ffe55d0>"
       ]
      },
      {
       "javascript": [
        "$('div#20aa3663-2bc3-4672-a5fd-3e67a8322d65').text(' 38%');"
       ],
       "metadata": {},
       "output_type": "display_data",
       "text": [
        "<IPython.core.display.Javascript at 0x10ffe5610>"
       ]
      },
      {
       "javascript": [
        "\n",
        "        var $myPB = $(\"div#1634ec53-b320-4692-a9ab-89cd1e1a53cf\")\n",
        "        if ($myPB.hasClass('ui-progressbar')) {\n",
        "            $myPB.progressbar('value', 9650176);\n",
        "        } else {\n",
        "            $myPB.progressbar({value: 0, max: 25238326});\n",
        "        }\n",
        "        "
       ],
       "metadata": {},
       "output_type": "display_data",
       "text": [
        "<IPython.core.display.Javascript at 0x10ffe5650>"
       ]
      },
      {
       "javascript": [
        "$('div#3507affb-83a9-4617-bfa9-e354e4be730a').text('ETA:  0:00:00');"
       ],
       "metadata": {},
       "output_type": "display_data",
       "text": [
        "<IPython.core.display.Javascript at 0x10ffe5690>"
       ]
      },
      {
       "javascript": [
        "$('div#083160c4-0ac8-4ca4-a715-fc702cda2229').text(' 76.73 MB/s');"
       ],
       "metadata": {},
       "output_type": "display_data",
       "text": [
        "<IPython.core.display.Javascript at 0x10ff07fd0>"
       ]
      },
      {
       "javascript": [
        "$('div#20aa3663-2bc3-4672-a5fd-3e67a8322d65').text(' 39%');"
       ],
       "metadata": {},
       "output_type": "display_data",
       "text": [
        "<IPython.core.display.Javascript at 0x10ff07ed0>"
       ]
      },
      {
       "javascript": [
        "\n",
        "        var $myPB = $(\"div#1634ec53-b320-4692-a9ab-89cd1e1a53cf\")\n",
        "        if ($myPB.hasClass('ui-progressbar')) {\n",
        "            $myPB.progressbar('value', 9904128);\n",
        "        } else {\n",
        "            $myPB.progressbar({value: 0, max: 25238326});\n",
        "        }\n",
        "        "
       ],
       "metadata": {},
       "output_type": "display_data",
       "text": [
        "<IPython.core.display.Javascript at 0x10ff07f10>"
       ]
      },
      {
       "javascript": [
        "$('div#3507affb-83a9-4617-bfa9-e354e4be730a').text('ETA:  0:00:00');"
       ],
       "metadata": {},
       "output_type": "display_data",
       "text": [
        "<IPython.core.display.Javascript at 0x10ff07f50>"
       ]
      },
      {
       "javascript": [
        "$('div#083160c4-0ac8-4ca4-a715-fc702cda2229').text(' 76.85 MB/s');"
       ],
       "metadata": {},
       "output_type": "display_data",
       "text": [
        "<IPython.core.display.Javascript at 0x10ff07f90>"
       ]
      },
      {
       "javascript": [
        "$('div#20aa3663-2bc3-4672-a5fd-3e67a8322d65').text(' 40%');"
       ],
       "metadata": {},
       "output_type": "display_data",
       "text": [
        "<IPython.core.display.Javascript at 0x10ff14e10>"
       ]
      },
      {
       "javascript": [
        "\n",
        "        var $myPB = $(\"div#1634ec53-b320-4692-a9ab-89cd1e1a53cf\")\n",
        "        if ($myPB.hasClass('ui-progressbar')) {\n",
        "            $myPB.progressbar('value', 10158080);\n",
        "        } else {\n",
        "            $myPB.progressbar({value: 0, max: 25238326});\n",
        "        }\n",
        "        "
       ],
       "metadata": {},
       "output_type": "display_data",
       "text": [
        "<IPython.core.display.Javascript at 0x10ff141d0>"
       ]
      },
      {
       "javascript": [
        "$('div#3507affb-83a9-4617-bfa9-e354e4be730a').text('ETA:  0:00:00');"
       ],
       "metadata": {},
       "output_type": "display_data",
       "text": [
        "<IPython.core.display.Javascript at 0x10ff14ad0>"
       ]
      },
      {
       "javascript": [
        "$('div#083160c4-0ac8-4ca4-a715-fc702cda2229').text(' 76.93 MB/s');"
       ],
       "metadata": {},
       "output_type": "display_data",
       "text": [
        "<IPython.core.display.Javascript at 0x10ff14410>"
       ]
      },
      {
       "javascript": [
        "$('div#20aa3663-2bc3-4672-a5fd-3e67a8322d65').text(' 41%');"
       ],
       "metadata": {},
       "output_type": "display_data",
       "text": [
        "<IPython.core.display.Javascript at 0x10ff14a90>"
       ]
      },
      {
       "javascript": [
        "\n",
        "        var $myPB = $(\"div#1634ec53-b320-4692-a9ab-89cd1e1a53cf\")\n",
        "        if ($myPB.hasClass('ui-progressbar')) {\n",
        "            $myPB.progressbar('value', 10412032);\n",
        "        } else {\n",
        "            $myPB.progressbar({value: 0, max: 25238326});\n",
        "        }\n",
        "        "
       ],
       "metadata": {},
       "output_type": "display_data",
       "text": [
        "<IPython.core.display.Javascript at 0x10ff14a50>"
       ]
      },
      {
       "javascript": [
        "$('div#3507affb-83a9-4617-bfa9-e354e4be730a').text('ETA:  0:00:00');"
       ],
       "metadata": {},
       "output_type": "display_data",
       "text": [
        "<IPython.core.display.Javascript at 0x10ff14050>"
       ]
      },
      {
       "javascript": [
        "$('div#083160c4-0ac8-4ca4-a715-fc702cda2229').text(' 77.10 MB/s');"
       ],
       "metadata": {},
       "output_type": "display_data",
       "text": [
        "<IPython.core.display.Javascript at 0x10ff149d0>"
       ]
      },
      {
       "javascript": [
        "$('div#20aa3663-2bc3-4672-a5fd-3e67a8322d65').text(' 42%');"
       ],
       "metadata": {},
       "output_type": "display_data",
       "text": [
        "<IPython.core.display.Javascript at 0x10ff14990>"
       ]
      },
      {
       "javascript": [
        "\n",
        "        var $myPB = $(\"div#1634ec53-b320-4692-a9ab-89cd1e1a53cf\")\n",
        "        if ($myPB.hasClass('ui-progressbar')) {\n",
        "            $myPB.progressbar('value', 10665984);\n",
        "        } else {\n",
        "            $myPB.progressbar({value: 0, max: 25238326});\n",
        "        }\n",
        "        "
       ],
       "metadata": {},
       "output_type": "display_data",
       "text": [
        "<IPython.core.display.Javascript at 0x10ff14950>"
       ]
      },
      {
       "javascript": [
        "$('div#3507affb-83a9-4617-bfa9-e354e4be730a').text('ETA:  0:00:00');"
       ],
       "metadata": {},
       "output_type": "display_data",
       "text": [
        "<IPython.core.display.Javascript at 0x10ff14910>"
       ]
      },
      {
       "javascript": [
        "$('div#083160c4-0ac8-4ca4-a715-fc702cda2229').text(' 77.20 MB/s');"
       ],
       "metadata": {},
       "output_type": "display_data",
       "text": [
        "<IPython.core.display.Javascript at 0x10ff148d0>"
       ]
      },
      {
       "javascript": [
        "$('div#20aa3663-2bc3-4672-a5fd-3e67a8322d65').text(' 43%');"
       ],
       "metadata": {},
       "output_type": "display_data",
       "text": [
        "<IPython.core.display.Javascript at 0x10ff14890>"
       ]
      },
      {
       "javascript": [
        "\n",
        "        var $myPB = $(\"div#1634ec53-b320-4692-a9ab-89cd1e1a53cf\")\n",
        "        if ($myPB.hasClass('ui-progressbar')) {\n",
        "            $myPB.progressbar('value', 10919936);\n",
        "        } else {\n",
        "            $myPB.progressbar({value: 0, max: 25238326});\n",
        "        }\n",
        "        "
       ],
       "metadata": {},
       "output_type": "display_data",
       "text": [
        "<IPython.core.display.Javascript at 0x10ff14850>"
       ]
      },
      {
       "javascript": [
        "$('div#3507affb-83a9-4617-bfa9-e354e4be730a').text('ETA:  0:00:00');"
       ],
       "metadata": {},
       "output_type": "display_data",
       "text": [
        "<IPython.core.display.Javascript at 0x10ff14810>"
       ]
      },
      {
       "javascript": [
        "$('div#083160c4-0ac8-4ca4-a715-fc702cda2229').text(' 77.14 MB/s');"
       ],
       "metadata": {},
       "output_type": "display_data",
       "text": [
        "<IPython.core.display.Javascript at 0x10ff147d0>"
       ]
      },
      {
       "javascript": [
        "$('div#20aa3663-2bc3-4672-a5fd-3e67a8322d65').text(' 44%');"
       ],
       "metadata": {},
       "output_type": "display_data",
       "text": [
        "<IPython.core.display.Javascript at 0x10ff14790>"
       ]
      },
      {
       "javascript": [
        "\n",
        "        var $myPB = $(\"div#1634ec53-b320-4692-a9ab-89cd1e1a53cf\")\n",
        "        if ($myPB.hasClass('ui-progressbar')) {\n",
        "            $myPB.progressbar('value', 11173888);\n",
        "        } else {\n",
        "            $myPB.progressbar({value: 0, max: 25238326});\n",
        "        }\n",
        "        "
       ],
       "metadata": {},
       "output_type": "display_data",
       "text": [
        "<IPython.core.display.Javascript at 0x10ff14750>"
       ]
      },
      {
       "javascript": [
        "$('div#3507affb-83a9-4617-bfa9-e354e4be730a').text('ETA:  0:00:00');"
       ],
       "metadata": {},
       "output_type": "display_data",
       "text": [
        "<IPython.core.display.Javascript at 0x10ff14710>"
       ]
      },
      {
       "javascript": [
        "$('div#083160c4-0ac8-4ca4-a715-fc702cda2229').text(' 77.30 MB/s');"
       ],
       "metadata": {},
       "output_type": "display_data",
       "text": [
        "<IPython.core.display.Javascript at 0x10ff146d0>"
       ]
      },
      {
       "javascript": [
        "$('div#20aa3663-2bc3-4672-a5fd-3e67a8322d65').text(' 45%');"
       ],
       "metadata": {},
       "output_type": "display_data",
       "text": [
        "<IPython.core.display.Javascript at 0x10ff14650>"
       ]
      },
      {
       "javascript": [
        "\n",
        "        var $myPB = $(\"div#1634ec53-b320-4692-a9ab-89cd1e1a53cf\")\n",
        "        if ($myPB.hasClass('ui-progressbar')) {\n",
        "            $myPB.progressbar('value', 11427840);\n",
        "        } else {\n",
        "            $myPB.progressbar({value: 0, max: 25238326});\n",
        "        }\n",
        "        "
       ],
       "metadata": {},
       "output_type": "display_data",
       "text": [
        "<IPython.core.display.Javascript at 0x10ff14610>"
       ]
      },
      {
       "javascript": [
        "$('div#3507affb-83a9-4617-bfa9-e354e4be730a').text('ETA:  0:00:00');"
       ],
       "metadata": {},
       "output_type": "display_data",
       "text": [
        "<IPython.core.display.Javascript at 0x10ff145d0>"
       ]
      },
      {
       "javascript": [
        "$('div#083160c4-0ac8-4ca4-a715-fc702cda2229').text(' 77.38 MB/s');"
       ],
       "metadata": {},
       "output_type": "display_data",
       "text": [
        "<IPython.core.display.Javascript at 0x10ff14550>"
       ]
      },
      {
       "javascript": [
        "$('div#20aa3663-2bc3-4672-a5fd-3e67a8322d65').text(' 46%');"
       ],
       "metadata": {},
       "output_type": "display_data",
       "text": [
        "<IPython.core.display.Javascript at 0x10ff14450>"
       ]
      },
      {
       "javascript": [
        "\n",
        "        var $myPB = $(\"div#1634ec53-b320-4692-a9ab-89cd1e1a53cf\")\n",
        "        if ($myPB.hasClass('ui-progressbar')) {\n",
        "            $myPB.progressbar('value', 11681792);\n",
        "        } else {\n",
        "            $myPB.progressbar({value: 0, max: 25238326});\n",
        "        }\n",
        "        "
       ],
       "metadata": {},
       "output_type": "display_data",
       "text": [
        "<IPython.core.display.Javascript at 0x10ff14510>"
       ]
      },
      {
       "javascript": [
        "$('div#3507affb-83a9-4617-bfa9-e354e4be730a').text('ETA:  0:00:00');"
       ],
       "metadata": {},
       "output_type": "display_data",
       "text": [
        "<IPython.core.display.Javascript at 0x10ff144d0>"
       ]
      },
      {
       "javascript": [
        "$('div#083160c4-0ac8-4ca4-a715-fc702cda2229').text(' 77.18 MB/s');"
       ],
       "metadata": {},
       "output_type": "display_data",
       "text": [
        "<IPython.core.display.Javascript at 0x10ff14210>"
       ]
      },
      {
       "javascript": [
        "$('div#20aa3663-2bc3-4672-a5fd-3e67a8322d65').text(' 47%');"
       ],
       "metadata": {},
       "output_type": "display_data",
       "text": [
        "<IPython.core.display.Javascript at 0x10ff14090>"
       ]
      },
      {
       "javascript": [
        "\n",
        "        var $myPB = $(\"div#1634ec53-b320-4692-a9ab-89cd1e1a53cf\")\n",
        "        if ($myPB.hasClass('ui-progressbar')) {\n",
        "            $myPB.progressbar('value', 11935744);\n",
        "        } else {\n",
        "            $myPB.progressbar({value: 0, max: 25238326});\n",
        "        }\n",
        "        "
       ],
       "metadata": {},
       "output_type": "display_data",
       "text": [
        "<IPython.core.display.Javascript at 0x10ff14690>"
       ]
      },
      {
       "javascript": [
        "$('div#3507affb-83a9-4617-bfa9-e354e4be730a').text('ETA:  0:00:00');"
       ],
       "metadata": {},
       "output_type": "display_data",
       "text": [
        "<IPython.core.display.Javascript at 0x10ff14fd0>"
       ]
      },
      {
       "javascript": [
        "$('div#083160c4-0ac8-4ca4-a715-fc702cda2229').text(' 75.56 MB/s');"
       ],
       "metadata": {},
       "output_type": "display_data",
       "text": [
        "<IPython.core.display.Javascript at 0x10ff14b10>"
       ]
      },
      {
       "javascript": [
        "$('div#20aa3663-2bc3-4672-a5fd-3e67a8322d65').text(' 48%');"
       ],
       "metadata": {},
       "output_type": "display_data",
       "text": [
        "<IPython.core.display.Javascript at 0x10ff14b50>"
       ]
      },
      {
       "javascript": [
        "\n",
        "        var $myPB = $(\"div#1634ec53-b320-4692-a9ab-89cd1e1a53cf\")\n",
        "        if ($myPB.hasClass('ui-progressbar')) {\n",
        "            $myPB.progressbar('value', 12189696);\n",
        "        } else {\n",
        "            $myPB.progressbar({value: 0, max: 25238326});\n",
        "        }\n",
        "        "
       ],
       "metadata": {},
       "output_type": "display_data",
       "text": [
        "<IPython.core.display.Javascript at 0x10ff14250>"
       ]
      },
      {
       "javascript": [
        "$('div#3507affb-83a9-4617-bfa9-e354e4be730a').text('ETA:  0:00:00');"
       ],
       "metadata": {},
       "output_type": "display_data",
       "text": [
        "<IPython.core.display.Javascript at 0x10ff14bd0>"
       ]
      },
      {
       "javascript": [
        "$('div#083160c4-0ac8-4ca4-a715-fc702cda2229').text(' 75.55 MB/s');"
       ],
       "metadata": {},
       "output_type": "display_data",
       "text": [
        "<IPython.core.display.Javascript at 0x10ff14b90>"
       ]
      },
      {
       "javascript": [
        "$('div#20aa3663-2bc3-4672-a5fd-3e67a8322d65').text(' 49%');"
       ],
       "metadata": {},
       "output_type": "display_data",
       "text": [
        "<IPython.core.display.Javascript at 0x10ff14c10>"
       ]
      },
      {
       "javascript": [
        "\n",
        "        var $myPB = $(\"div#1634ec53-b320-4692-a9ab-89cd1e1a53cf\")\n",
        "        if ($myPB.hasClass('ui-progressbar')) {\n",
        "            $myPB.progressbar('value', 12443648);\n",
        "        } else {\n",
        "            $myPB.progressbar({value: 0, max: 25238326});\n",
        "        }\n",
        "        "
       ],
       "metadata": {},
       "output_type": "display_data",
       "text": [
        "<IPython.core.display.Javascript at 0x10ff14c50>"
       ]
      },
      {
       "javascript": [
        "$('div#3507affb-83a9-4617-bfa9-e354e4be730a').text('ETA:  0:00:00');"
       ],
       "metadata": {},
       "output_type": "display_data",
       "text": [
        "<IPython.core.display.Javascript at 0x10ff14c90>"
       ]
      },
      {
       "javascript": [
        "$('div#083160c4-0ac8-4ca4-a715-fc702cda2229').text(' 75.49 MB/s');"
       ],
       "metadata": {},
       "output_type": "display_data",
       "text": [
        "<IPython.core.display.Javascript at 0x10ff14cd0>"
       ]
      },
      {
       "javascript": [
        "$('div#20aa3663-2bc3-4672-a5fd-3e67a8322d65').text(' 50%');"
       ],
       "metadata": {},
       "output_type": "display_data",
       "text": [
        "<IPython.core.display.Javascript at 0x10ff14d10>"
       ]
      },
      {
       "javascript": [
        "\n",
        "        var $myPB = $(\"div#1634ec53-b320-4692-a9ab-89cd1e1a53cf\")\n",
        "        if ($myPB.hasClass('ui-progressbar')) {\n",
        "            $myPB.progressbar('value', 12697600);\n",
        "        } else {\n",
        "            $myPB.progressbar({value: 0, max: 25238326});\n",
        "        }\n",
        "        "
       ],
       "metadata": {},
       "output_type": "display_data",
       "text": [
        "<IPython.core.display.Javascript at 0x10ff14d50>"
       ]
      },
      {
       "javascript": [
        "$('div#3507affb-83a9-4617-bfa9-e354e4be730a').text('ETA:  0:00:00');"
       ],
       "metadata": {},
       "output_type": "display_data",
       "text": [
        "<IPython.core.display.Javascript at 0x10ff14d90>"
       ]
      },
      {
       "javascript": [
        "$('div#083160c4-0ac8-4ca4-a715-fc702cda2229').text(' 75.60 MB/s');"
       ],
       "metadata": {},
       "output_type": "display_data",
       "text": [
        "<IPython.core.display.Javascript at 0x10ff14dd0>"
       ]
      },
      {
       "javascript": [
        "$('div#20aa3663-2bc3-4672-a5fd-3e67a8322d65').text(' 51%');"
       ],
       "metadata": {},
       "output_type": "display_data",
       "text": [
        "<IPython.core.display.Javascript at 0x10ff14f90>"
       ]
      },
      {
       "javascript": [
        "\n",
        "        var $myPB = $(\"div#1634ec53-b320-4692-a9ab-89cd1e1a53cf\")\n",
        "        if ($myPB.hasClass('ui-progressbar')) {\n",
        "            $myPB.progressbar('value', 12951552);\n",
        "        } else {\n",
        "            $myPB.progressbar({value: 0, max: 25238326});\n",
        "        }\n",
        "        "
       ],
       "metadata": {},
       "output_type": "display_data",
       "text": [
        "<IPython.core.display.Javascript at 0x10ff14e50>"
       ]
      },
      {
       "javascript": [
        "$('div#3507affb-83a9-4617-bfa9-e354e4be730a').text('ETA:  0:00:00');"
       ],
       "metadata": {},
       "output_type": "display_data",
       "text": [
        "<IPython.core.display.Javascript at 0x10ff14e90>"
       ]
      },
      {
       "javascript": [
        "$('div#083160c4-0ac8-4ca4-a715-fc702cda2229').text(' 75.77 MB/s');"
       ],
       "metadata": {},
       "output_type": "display_data",
       "text": [
        "<IPython.core.display.Javascript at 0x10ff14ed0>"
       ]
      },
      {
       "javascript": [
        "$('div#20aa3663-2bc3-4672-a5fd-3e67a8322d65').text(' 52%');"
       ],
       "metadata": {},
       "output_type": "display_data",
       "text": [
        "<IPython.core.display.Javascript at 0x10ff14f10>"
       ]
      },
      {
       "javascript": [
        "\n",
        "        var $myPB = $(\"div#1634ec53-b320-4692-a9ab-89cd1e1a53cf\")\n",
        "        if ($myPB.hasClass('ui-progressbar')) {\n",
        "            $myPB.progressbar('value', 13205504);\n",
        "        } else {\n",
        "            $myPB.progressbar({value: 0, max: 25238326});\n",
        "        }\n",
        "        "
       ],
       "metadata": {},
       "output_type": "display_data",
       "text": [
        "<IPython.core.display.Javascript at 0x10ff14490>"
       ]
      },
      {
       "javascript": [
        "$('div#3507affb-83a9-4617-bfa9-e354e4be730a').text('ETA:  0:00:00');"
       ],
       "metadata": {},
       "output_type": "display_data",
       "text": [
        "<IPython.core.display.Javascript at 0x10ff14a10>"
       ]
      },
      {
       "javascript": [
        "$('div#083160c4-0ac8-4ca4-a715-fc702cda2229').text(' 75.27 MB/s');"
       ],
       "metadata": {},
       "output_type": "display_data",
       "text": [
        "<IPython.core.display.Javascript at 0x10ff14f50>"
       ]
      },
      {
       "javascript": [
        "$('div#20aa3663-2bc3-4672-a5fd-3e67a8322d65').text(' 53%');"
       ],
       "metadata": {},
       "output_type": "display_data",
       "text": [
        "<IPython.core.display.Javascript at 0x10ffd1050>"
       ]
      },
      {
       "javascript": [
        "\n",
        "        var $myPB = $(\"div#1634ec53-b320-4692-a9ab-89cd1e1a53cf\")\n",
        "        if ($myPB.hasClass('ui-progressbar')) {\n",
        "            $myPB.progressbar('value', 13459456);\n",
        "        } else {\n",
        "            $myPB.progressbar({value: 0, max: 25238326});\n",
        "        }\n",
        "        "
       ],
       "metadata": {},
       "output_type": "display_data",
       "text": [
        "<IPython.core.display.Javascript at 0x10ffd1090>"
       ]
      },
      {
       "javascript": [
        "$('div#3507affb-83a9-4617-bfa9-e354e4be730a').text('ETA:  0:00:00');"
       ],
       "metadata": {},
       "output_type": "display_data",
       "text": [
        "<IPython.core.display.Javascript at 0x10ffd10d0>"
       ]
      },
      {
       "javascript": [
        "$('div#083160c4-0ac8-4ca4-a715-fc702cda2229').text(' 75.37 MB/s');"
       ],
       "metadata": {},
       "output_type": "display_data",
       "text": [
        "<IPython.core.display.Javascript at 0x10ffd1110>"
       ]
      },
      {
       "javascript": [
        "$('div#20aa3663-2bc3-4672-a5fd-3e67a8322d65').text(' 54%');"
       ],
       "metadata": {},
       "output_type": "display_data",
       "text": [
        "<IPython.core.display.Javascript at 0x10ffd1190>"
       ]
      },
      {
       "javascript": [
        "\n",
        "        var $myPB = $(\"div#1634ec53-b320-4692-a9ab-89cd1e1a53cf\")\n",
        "        if ($myPB.hasClass('ui-progressbar')) {\n",
        "            $myPB.progressbar('value', 13713408);\n",
        "        } else {\n",
        "            $myPB.progressbar({value: 0, max: 25238326});\n",
        "        }\n",
        "        "
       ],
       "metadata": {},
       "output_type": "display_data",
       "text": [
        "<IPython.core.display.Javascript at 0x10ffd11d0>"
       ]
      },
      {
       "javascript": [
        "$('div#3507affb-83a9-4617-bfa9-e354e4be730a').text('ETA:  0:00:00');"
       ],
       "metadata": {},
       "output_type": "display_data",
       "text": [
        "<IPython.core.display.Javascript at 0x10ffd1210>"
       ]
      },
      {
       "javascript": [
        "$('div#083160c4-0ac8-4ca4-a715-fc702cda2229').text(' 75.24 MB/s');"
       ],
       "metadata": {},
       "output_type": "display_data",
       "text": [
        "<IPython.core.display.Javascript at 0x10ffd1250>"
       ]
      },
      {
       "javascript": [
        "$('div#20aa3663-2bc3-4672-a5fd-3e67a8322d65').text(' 55%');"
       ],
       "metadata": {},
       "output_type": "display_data",
       "text": [
        "<IPython.core.display.Javascript at 0x10ffd1290>"
       ]
      },
      {
       "javascript": [
        "\n",
        "        var $myPB = $(\"div#1634ec53-b320-4692-a9ab-89cd1e1a53cf\")\n",
        "        if ($myPB.hasClass('ui-progressbar')) {\n",
        "            $myPB.progressbar('value', 13967360);\n",
        "        } else {\n",
        "            $myPB.progressbar({value: 0, max: 25238326});\n",
        "        }\n",
        "        "
       ],
       "metadata": {},
       "output_type": "display_data",
       "text": [
        "<IPython.core.display.Javascript at 0x10ffd12d0>"
       ]
      },
      {
       "javascript": [
        "$('div#3507affb-83a9-4617-bfa9-e354e4be730a').text('ETA:  0:00:00');"
       ],
       "metadata": {},
       "output_type": "display_data",
       "text": [
        "<IPython.core.display.Javascript at 0x10ffd1310>"
       ]
      },
      {
       "javascript": [
        "$('div#083160c4-0ac8-4ca4-a715-fc702cda2229').text(' 75.29 MB/s');"
       ],
       "metadata": {},
       "output_type": "display_data",
       "text": [
        "<IPython.core.display.Javascript at 0x10ffd1350>"
       ]
      },
      {
       "javascript": [
        "$('div#20aa3663-2bc3-4672-a5fd-3e67a8322d65').text(' 56%');"
       ],
       "metadata": {},
       "output_type": "display_data",
       "text": [
        "<IPython.core.display.Javascript at 0x10ffd1390>"
       ]
      },
      {
       "javascript": [
        "\n",
        "        var $myPB = $(\"div#1634ec53-b320-4692-a9ab-89cd1e1a53cf\")\n",
        "        if ($myPB.hasClass('ui-progressbar')) {\n",
        "            $myPB.progressbar('value', 14221312);\n",
        "        } else {\n",
        "            $myPB.progressbar({value: 0, max: 25238326});\n",
        "        }\n",
        "        "
       ],
       "metadata": {},
       "output_type": "display_data",
       "text": [
        "<IPython.core.display.Javascript at 0x10ffd13d0>"
       ]
      },
      {
       "javascript": [
        "$('div#3507affb-83a9-4617-bfa9-e354e4be730a').text('ETA:  0:00:00');"
       ],
       "metadata": {},
       "output_type": "display_data",
       "text": [
        "<IPython.core.display.Javascript at 0x10ffd1410>"
       ]
      },
      {
       "javascript": [
        "$('div#083160c4-0ac8-4ca4-a715-fc702cda2229').text(' 75.54 MB/s');"
       ],
       "metadata": {},
       "output_type": "display_data",
       "text": [
        "<IPython.core.display.Javascript at 0x10ffd1450>"
       ]
      },
      {
       "javascript": [
        "$('div#20aa3663-2bc3-4672-a5fd-3e67a8322d65').text(' 57%');"
       ],
       "metadata": {},
       "output_type": "display_data",
       "text": [
        "<IPython.core.display.Javascript at 0x10ffd1490>"
       ]
      },
      {
       "javascript": [
        "\n",
        "        var $myPB = $(\"div#1634ec53-b320-4692-a9ab-89cd1e1a53cf\")\n",
        "        if ($myPB.hasClass('ui-progressbar')) {\n",
        "            $myPB.progressbar('value', 14475264);\n",
        "        } else {\n",
        "            $myPB.progressbar({value: 0, max: 25238326});\n",
        "        }\n",
        "        "
       ],
       "metadata": {},
       "output_type": "display_data",
       "text": [
        "<IPython.core.display.Javascript at 0x10ffd14d0>"
       ]
      },
      {
       "javascript": [
        "$('div#3507affb-83a9-4617-bfa9-e354e4be730a').text('ETA:  0:00:00');"
       ],
       "metadata": {},
       "output_type": "display_data",
       "text": [
        "<IPython.core.display.Javascript at 0x10ffd1510>"
       ]
      },
      {
       "javascript": [
        "$('div#083160c4-0ac8-4ca4-a715-fc702cda2229').text(' 75.44 MB/s');"
       ],
       "metadata": {},
       "output_type": "display_data",
       "text": [
        "<IPython.core.display.Javascript at 0x10ffd1550>"
       ]
      },
      {
       "javascript": [
        "$('div#20aa3663-2bc3-4672-a5fd-3e67a8322d65').text(' 58%');"
       ],
       "metadata": {},
       "output_type": "display_data",
       "text": [
        "<IPython.core.display.Javascript at 0x10ffd1590>"
       ]
      },
      {
       "javascript": [
        "\n",
        "        var $myPB = $(\"div#1634ec53-b320-4692-a9ab-89cd1e1a53cf\")\n",
        "        if ($myPB.hasClass('ui-progressbar')) {\n",
        "            $myPB.progressbar('value', 14729216);\n",
        "        } else {\n",
        "            $myPB.progressbar({value: 0, max: 25238326});\n",
        "        }\n",
        "        "
       ],
       "metadata": {},
       "output_type": "display_data",
       "text": [
        "<IPython.core.display.Javascript at 0x10ffd15d0>"
       ]
      },
      {
       "javascript": [
        "$('div#3507affb-83a9-4617-bfa9-e354e4be730a').text('ETA:  0:00:00');"
       ],
       "metadata": {},
       "output_type": "display_data",
       "text": [
        "<IPython.core.display.Javascript at 0x10ffd1610>"
       ]
      },
      {
       "javascript": [
        "$('div#083160c4-0ac8-4ca4-a715-fc702cda2229').text(' 75.59 MB/s');"
       ],
       "metadata": {},
       "output_type": "display_data",
       "text": [
        "<IPython.core.display.Javascript at 0x10ffd1650>"
       ]
      },
      {
       "javascript": [
        "$('div#20aa3663-2bc3-4672-a5fd-3e67a8322d65').text(' 59%');"
       ],
       "metadata": {},
       "output_type": "display_data",
       "text": [
        "<IPython.core.display.Javascript at 0x10ffd1690>"
       ]
      },
      {
       "javascript": [
        "\n",
        "        var $myPB = $(\"div#1634ec53-b320-4692-a9ab-89cd1e1a53cf\")\n",
        "        if ($myPB.hasClass('ui-progressbar')) {\n",
        "            $myPB.progressbar('value', 14983168);\n",
        "        } else {\n",
        "            $myPB.progressbar({value: 0, max: 25238326});\n",
        "        }\n",
        "        "
       ],
       "metadata": {},
       "output_type": "display_data",
       "text": [
        "<IPython.core.display.Javascript at 0x10ff14f50>"
       ]
      },
      {
       "javascript": [
        "$('div#3507affb-83a9-4617-bfa9-e354e4be730a').text('ETA:  0:00:00');"
       ],
       "metadata": {},
       "output_type": "display_data",
       "text": [
        "<IPython.core.display.Javascript at 0x10ff14a10>"
       ]
      },
      {
       "javascript": [
        "$('div#083160c4-0ac8-4ca4-a715-fc702cda2229').text(' 75.57 MB/s');"
       ],
       "metadata": {},
       "output_type": "display_data",
       "text": [
        "<IPython.core.display.Javascript at 0x10ff14490>"
       ]
      },
      {
       "javascript": [
        "$('div#20aa3663-2bc3-4672-a5fd-3e67a8322d65').text(' 60%');"
       ],
       "metadata": {},
       "output_type": "display_data",
       "text": [
        "<IPython.core.display.Javascript at 0x10ff14e90>"
       ]
      },
      {
       "javascript": [
        "\n",
        "        var $myPB = $(\"div#1634ec53-b320-4692-a9ab-89cd1e1a53cf\")\n",
        "        if ($myPB.hasClass('ui-progressbar')) {\n",
        "            $myPB.progressbar('value', 15237120);\n",
        "        } else {\n",
        "            $myPB.progressbar({value: 0, max: 25238326});\n",
        "        }\n",
        "        "
       ],
       "metadata": {},
       "output_type": "display_data",
       "text": [
        "<IPython.core.display.Javascript at 0x10ff14e50>"
       ]
      },
      {
       "javascript": [
        "$('div#3507affb-83a9-4617-bfa9-e354e4be730a').text('ETA:  0:00:00');"
       ],
       "metadata": {},
       "output_type": "display_data",
       "text": [
        "<IPython.core.display.Javascript at 0x10ff14f90>"
       ]
      },
      {
       "javascript": [
        "$('div#083160c4-0ac8-4ca4-a715-fc702cda2229').text(' 75.72 MB/s');"
       ],
       "metadata": {},
       "output_type": "display_data",
       "text": [
        "<IPython.core.display.Javascript at 0x10ff14ed0>"
       ]
      },
      {
       "javascript": [
        "$('div#20aa3663-2bc3-4672-a5fd-3e67a8322d65').text(' 61%');"
       ],
       "metadata": {},
       "output_type": "display_data",
       "text": [
        "<IPython.core.display.Javascript at 0x10ff14d90>"
       ]
      },
      {
       "javascript": [
        "\n",
        "        var $myPB = $(\"div#1634ec53-b320-4692-a9ab-89cd1e1a53cf\")\n",
        "        if ($myPB.hasClass('ui-progressbar')) {\n",
        "            $myPB.progressbar('value', 15491072);\n",
        "        } else {\n",
        "            $myPB.progressbar({value: 0, max: 25238326});\n",
        "        }\n",
        "        "
       ],
       "metadata": {},
       "output_type": "display_data",
       "text": [
        "<IPython.core.display.Javascript at 0x10ff14d50>"
       ]
      },
      {
       "javascript": [
        "$('div#3507affb-83a9-4617-bfa9-e354e4be730a').text('ETA:  0:00:00');"
       ],
       "metadata": {},
       "output_type": "display_data",
       "text": [
        "<IPython.core.display.Javascript at 0x10ff14d10>"
       ]
      },
      {
       "javascript": [
        "$('div#083160c4-0ac8-4ca4-a715-fc702cda2229').text(' 75.36 MB/s');"
       ],
       "metadata": {},
       "output_type": "display_data",
       "text": [
        "<IPython.core.display.Javascript at 0x10ff14cd0>"
       ]
      },
      {
       "javascript": [
        "$('div#20aa3663-2bc3-4672-a5fd-3e67a8322d65').text(' 62%');"
       ],
       "metadata": {},
       "output_type": "display_data",
       "text": [
        "<IPython.core.display.Javascript at 0x10ff14c90>"
       ]
      },
      {
       "javascript": [
        "\n",
        "        var $myPB = $(\"div#1634ec53-b320-4692-a9ab-89cd1e1a53cf\")\n",
        "        if ($myPB.hasClass('ui-progressbar')) {\n",
        "            $myPB.progressbar('value', 15745024);\n",
        "        } else {\n",
        "            $myPB.progressbar({value: 0, max: 25238326});\n",
        "        }\n",
        "        "
       ],
       "metadata": {},
       "output_type": "display_data",
       "text": [
        "<IPython.core.display.Javascript at 0x10ff14c50>"
       ]
      },
      {
       "javascript": [
        "$('div#3507affb-83a9-4617-bfa9-e354e4be730a').text('ETA:  0:00:00');"
       ],
       "metadata": {},
       "output_type": "display_data",
       "text": [
        "<IPython.core.display.Javascript at 0x10ff14c10>"
       ]
      },
      {
       "javascript": [
        "$('div#083160c4-0ac8-4ca4-a715-fc702cda2229').text(' 75.00 MB/s');"
       ],
       "metadata": {},
       "output_type": "display_data",
       "text": [
        "<IPython.core.display.Javascript at 0x10ff14b90>"
       ]
      },
      {
       "javascript": [
        "$('div#20aa3663-2bc3-4672-a5fd-3e67a8322d65').text(' 63%');"
       ],
       "metadata": {},
       "output_type": "display_data",
       "text": [
        "<IPython.core.display.Javascript at 0x10ff14bd0>"
       ]
      },
      {
       "javascript": [
        "\n",
        "        var $myPB = $(\"div#1634ec53-b320-4692-a9ab-89cd1e1a53cf\")\n",
        "        if ($myPB.hasClass('ui-progressbar')) {\n",
        "            $myPB.progressbar('value', 15998976);\n",
        "        } else {\n",
        "            $myPB.progressbar({value: 0, max: 25238326});\n",
        "        }\n",
        "        "
       ],
       "metadata": {},
       "output_type": "display_data",
       "text": [
        "<IPython.core.display.Javascript at 0x10ff14250>"
       ]
      },
      {
       "javascript": [
        "$('div#3507affb-83a9-4617-bfa9-e354e4be730a').text('ETA:  0:00:00');"
       ],
       "metadata": {},
       "output_type": "display_data",
       "text": [
        "<IPython.core.display.Javascript at 0x10ff14b50>"
       ]
      },
      {
       "javascript": [
        "$('div#083160c4-0ac8-4ca4-a715-fc702cda2229').text(' 74.85 MB/s');"
       ],
       "metadata": {},
       "output_type": "display_data",
       "text": [
        "<IPython.core.display.Javascript at 0x10ff14b10>"
       ]
      },
      {
       "javascript": [
        "$('div#20aa3663-2bc3-4672-a5fd-3e67a8322d65').text(' 64%');"
       ],
       "metadata": {},
       "output_type": "display_data",
       "text": [
        "<IPython.core.display.Javascript at 0x10ff14fd0>"
       ]
      },
      {
       "javascript": [
        "\n",
        "        var $myPB = $(\"div#1634ec53-b320-4692-a9ab-89cd1e1a53cf\")\n",
        "        if ($myPB.hasClass('ui-progressbar')) {\n",
        "            $myPB.progressbar('value', 16252928);\n",
        "        } else {\n",
        "            $myPB.progressbar({value: 0, max: 25238326});\n",
        "        }\n",
        "        "
       ],
       "metadata": {},
       "output_type": "display_data",
       "text": [
        "<IPython.core.display.Javascript at 0x10ff14690>"
       ]
      },
      {
       "javascript": [
        "$('div#3507affb-83a9-4617-bfa9-e354e4be730a').text('ETA:  0:00:00');"
       ],
       "metadata": {},
       "output_type": "display_data",
       "text": [
        "<IPython.core.display.Javascript at 0x10ff14090>"
       ]
      },
      {
       "javascript": [
        "$('div#083160c4-0ac8-4ca4-a715-fc702cda2229').text(' 75.01 MB/s');"
       ],
       "metadata": {},
       "output_type": "display_data",
       "text": [
        "<IPython.core.display.Javascript at 0x10ff14210>"
       ]
      },
      {
       "javascript": [
        "$('div#20aa3663-2bc3-4672-a5fd-3e67a8322d65').text(' 65%');"
       ],
       "metadata": {},
       "output_type": "display_data",
       "text": [
        "<IPython.core.display.Javascript at 0x10ff144d0>"
       ]
      },
      {
       "javascript": [
        "\n",
        "        var $myPB = $(\"div#1634ec53-b320-4692-a9ab-89cd1e1a53cf\")\n",
        "        if ($myPB.hasClass('ui-progressbar')) {\n",
        "            $myPB.progressbar('value', 16506880);\n",
        "        } else {\n",
        "            $myPB.progressbar({value: 0, max: 25238326});\n",
        "        }\n",
        "        "
       ],
       "metadata": {},
       "output_type": "display_data",
       "text": [
        "<IPython.core.display.Javascript at 0x10ff14510>"
       ]
      },
      {
       "javascript": [
        "$('div#3507affb-83a9-4617-bfa9-e354e4be730a').text('ETA:  0:00:00');"
       ],
       "metadata": {},
       "output_type": "display_data",
       "text": [
        "<IPython.core.display.Javascript at 0x10ff14450>"
       ]
      },
      {
       "javascript": [
        "$('div#083160c4-0ac8-4ca4-a715-fc702cda2229').text(' 75.06 MB/s');"
       ],
       "metadata": {},
       "output_type": "display_data",
       "text": [
        "<IPython.core.display.Javascript at 0x10ff14550>"
       ]
      },
      {
       "javascript": [
        "$('div#20aa3663-2bc3-4672-a5fd-3e67a8322d65').text(' 66%');"
       ],
       "metadata": {},
       "output_type": "display_data",
       "text": [
        "<IPython.core.display.Javascript at 0x10ff145d0>"
       ]
      },
      {
       "javascript": [
        "\n",
        "        var $myPB = $(\"div#1634ec53-b320-4692-a9ab-89cd1e1a53cf\")\n",
        "        if ($myPB.hasClass('ui-progressbar')) {\n",
        "            $myPB.progressbar('value', 16760832);\n",
        "        } else {\n",
        "            $myPB.progressbar({value: 0, max: 25238326});\n",
        "        }\n",
        "        "
       ],
       "metadata": {},
       "output_type": "display_data",
       "text": [
        "<IPython.core.display.Javascript at 0x10ff14610>"
       ]
      },
      {
       "javascript": [
        "$('div#3507affb-83a9-4617-bfa9-e354e4be730a').text('ETA:  0:00:00');"
       ],
       "metadata": {},
       "output_type": "display_data",
       "text": [
        "<IPython.core.display.Javascript at 0x10ff14650>"
       ]
      },
      {
       "javascript": [
        "$('div#083160c4-0ac8-4ca4-a715-fc702cda2229').text(' 74.41 MB/s');"
       ],
       "metadata": {},
       "output_type": "display_data",
       "text": [
        "<IPython.core.display.Javascript at 0x10ff146d0>"
       ]
      },
      {
       "javascript": [
        "$('div#20aa3663-2bc3-4672-a5fd-3e67a8322d65').text(' 67%');"
       ],
       "metadata": {},
       "output_type": "display_data",
       "text": [
        "<IPython.core.display.Javascript at 0x10ff14710>"
       ]
      },
      {
       "javascript": [
        "\n",
        "        var $myPB = $(\"div#1634ec53-b320-4692-a9ab-89cd1e1a53cf\")\n",
        "        if ($myPB.hasClass('ui-progressbar')) {\n",
        "            $myPB.progressbar('value', 17014784);\n",
        "        } else {\n",
        "            $myPB.progressbar({value: 0, max: 25238326});\n",
        "        }\n",
        "        "
       ],
       "metadata": {},
       "output_type": "display_data",
       "text": [
        "<IPython.core.display.Javascript at 0x10ff14750>"
       ]
      },
      {
       "javascript": [
        "$('div#3507affb-83a9-4617-bfa9-e354e4be730a').text('ETA:  0:00:00');"
       ],
       "metadata": {},
       "output_type": "display_data",
       "text": [
        "<IPython.core.display.Javascript at 0x10ff14790>"
       ]
      },
      {
       "javascript": [
        "$('div#083160c4-0ac8-4ca4-a715-fc702cda2229').text(' 74.42 MB/s');"
       ],
       "metadata": {},
       "output_type": "display_data",
       "text": [
        "<IPython.core.display.Javascript at 0x10ff147d0>"
       ]
      },
      {
       "javascript": [
        "$('div#20aa3663-2bc3-4672-a5fd-3e67a8322d65').text(' 68%');"
       ],
       "metadata": {},
       "output_type": "display_data",
       "text": [
        "<IPython.core.display.Javascript at 0x10ff14810>"
       ]
      },
      {
       "javascript": [
        "\n",
        "        var $myPB = $(\"div#1634ec53-b320-4692-a9ab-89cd1e1a53cf\")\n",
        "        if ($myPB.hasClass('ui-progressbar')) {\n",
        "            $myPB.progressbar('value', 17268736);\n",
        "        } else {\n",
        "            $myPB.progressbar({value: 0, max: 25238326});\n",
        "        }\n",
        "        "
       ],
       "metadata": {},
       "output_type": "display_data",
       "text": [
        "<IPython.core.display.Javascript at 0x10ff14850>"
       ]
      },
      {
       "javascript": [
        "$('div#3507affb-83a9-4617-bfa9-e354e4be730a').text('ETA:  0:00:00');"
       ],
       "metadata": {},
       "output_type": "display_data",
       "text": [
        "<IPython.core.display.Javascript at 0x10ff14890>"
       ]
      },
      {
       "javascript": [
        "$('div#083160c4-0ac8-4ca4-a715-fc702cda2229').text(' 74.25 MB/s');"
       ],
       "metadata": {},
       "output_type": "display_data",
       "text": [
        "<IPython.core.display.Javascript at 0x10ff148d0>"
       ]
      },
      {
       "javascript": [
        "$('div#20aa3663-2bc3-4672-a5fd-3e67a8322d65').text(' 69%');"
       ],
       "metadata": {},
       "output_type": "display_data",
       "text": [
        "<IPython.core.display.Javascript at 0x10ff14910>"
       ]
      },
      {
       "javascript": [
        "\n",
        "        var $myPB = $(\"div#1634ec53-b320-4692-a9ab-89cd1e1a53cf\")\n",
        "        if ($myPB.hasClass('ui-progressbar')) {\n",
        "            $myPB.progressbar('value', 17522688);\n",
        "        } else {\n",
        "            $myPB.progressbar({value: 0, max: 25238326});\n",
        "        }\n",
        "        "
       ],
       "metadata": {},
       "output_type": "display_data",
       "text": [
        "<IPython.core.display.Javascript at 0x10ff14950>"
       ]
      },
      {
       "javascript": [
        "$('div#3507affb-83a9-4617-bfa9-e354e4be730a').text('ETA:  0:00:00');"
       ],
       "metadata": {},
       "output_type": "display_data",
       "text": [
        "<IPython.core.display.Javascript at 0x10ff14990>"
       ]
      },
      {
       "javascript": [
        "$('div#083160c4-0ac8-4ca4-a715-fc702cda2229').text(' 74.29 MB/s');"
       ],
       "metadata": {},
       "output_type": "display_data",
       "text": [
        "<IPython.core.display.Javascript at 0x10ff149d0>"
       ]
      },
      {
       "javascript": [
        "$('div#20aa3663-2bc3-4672-a5fd-3e67a8322d65').text(' 70%');"
       ],
       "metadata": {},
       "output_type": "display_data",
       "text": [
        "<IPython.core.display.Javascript at 0x10ff14050>"
       ]
      },
      {
       "javascript": [
        "\n",
        "        var $myPB = $(\"div#1634ec53-b320-4692-a9ab-89cd1e1a53cf\")\n",
        "        if ($myPB.hasClass('ui-progressbar')) {\n",
        "            $myPB.progressbar('value', 17776640);\n",
        "        } else {\n",
        "            $myPB.progressbar({value: 0, max: 25238326});\n",
        "        }\n",
        "        "
       ],
       "metadata": {},
       "output_type": "display_data",
       "text": [
        "<IPython.core.display.Javascript at 0x10ff14a50>"
       ]
      },
      {
       "javascript": [
        "$('div#3507affb-83a9-4617-bfa9-e354e4be730a').text('ETA:  0:00:00');"
       ],
       "metadata": {},
       "output_type": "display_data",
       "text": [
        "<IPython.core.display.Javascript at 0x10ff14a90>"
       ]
      },
      {
       "javascript": [
        "$('div#083160c4-0ac8-4ca4-a715-fc702cda2229').text(' 70.47 MB/s');"
       ],
       "metadata": {},
       "output_type": "display_data",
       "text": [
        "<IPython.core.display.Javascript at 0x10ff14410>"
       ]
      },
      {
       "javascript": [
        "$('div#20aa3663-2bc3-4672-a5fd-3e67a8322d65').text(' 71%');"
       ],
       "metadata": {},
       "output_type": "display_data",
       "text": [
        "<IPython.core.display.Javascript at 0x10ff14ad0>"
       ]
      },
      {
       "javascript": [
        "\n",
        "        var $myPB = $(\"div#1634ec53-b320-4692-a9ab-89cd1e1a53cf\")\n",
        "        if ($myPB.hasClass('ui-progressbar')) {\n",
        "            $myPB.progressbar('value', 18030592);\n",
        "        } else {\n",
        "            $myPB.progressbar({value: 0, max: 25238326});\n",
        "        }\n",
        "        "
       ],
       "metadata": {},
       "output_type": "display_data",
       "text": [
        "<IPython.core.display.Javascript at 0x10ff141d0>"
       ]
      },
      {
       "javascript": [
        "$('div#3507affb-83a9-4617-bfa9-e354e4be730a').text('ETA:  0:00:00');"
       ],
       "metadata": {},
       "output_type": "display_data",
       "text": [
        "<IPython.core.display.Javascript at 0x10ff14e10>"
       ]
      },
      {
       "javascript": [
        "$('div#083160c4-0ac8-4ca4-a715-fc702cda2229').text(' 69.85 MB/s');"
       ],
       "metadata": {},
       "output_type": "display_data",
       "text": [
        "<IPython.core.display.Javascript at 0x10ff14dd0>"
       ]
      },
      {
       "javascript": [
        "$('div#20aa3663-2bc3-4672-a5fd-3e67a8322d65').text(' 72%');"
       ],
       "metadata": {},
       "output_type": "display_data",
       "text": [
        "<IPython.core.display.Javascript at 0x10ff07f90>"
       ]
      },
      {
       "javascript": [
        "\n",
        "        var $myPB = $(\"div#1634ec53-b320-4692-a9ab-89cd1e1a53cf\")\n",
        "        if ($myPB.hasClass('ui-progressbar')) {\n",
        "            $myPB.progressbar('value', 18284544);\n",
        "        } else {\n",
        "            $myPB.progressbar({value: 0, max: 25238326});\n",
        "        }\n",
        "        "
       ],
       "metadata": {},
       "output_type": "display_data",
       "text": [
        "<IPython.core.display.Javascript at 0x10ff07f50>"
       ]
      },
      {
       "javascript": [
        "$('div#3507affb-83a9-4617-bfa9-e354e4be730a').text('ETA:  0:00:00');"
       ],
       "metadata": {},
       "output_type": "display_data",
       "text": [
        "<IPython.core.display.Javascript at 0x10ff07f10>"
       ]
      },
      {
       "javascript": [
        "$('div#083160c4-0ac8-4ca4-a715-fc702cda2229').text(' 70.03 MB/s');"
       ],
       "metadata": {},
       "output_type": "display_data",
       "text": [
        "<IPython.core.display.Javascript at 0x10ff07ed0>"
       ]
      },
      {
       "javascript": [
        "$('div#20aa3663-2bc3-4672-a5fd-3e67a8322d65').text(' 73%');"
       ],
       "metadata": {},
       "output_type": "display_data",
       "text": [
        "<IPython.core.display.Javascript at 0x10ff07fd0>"
       ]
      },
      {
       "javascript": [
        "\n",
        "        var $myPB = $(\"div#1634ec53-b320-4692-a9ab-89cd1e1a53cf\")\n",
        "        if ($myPB.hasClass('ui-progressbar')) {\n",
        "            $myPB.progressbar('value', 18538496);\n",
        "        } else {\n",
        "            $myPB.progressbar({value: 0, max: 25238326});\n",
        "        }\n",
        "        "
       ],
       "metadata": {},
       "output_type": "display_data",
       "text": [
        "<IPython.core.display.Javascript at 0x10ff07d10>"
       ]
      },
      {
       "javascript": [
        "$('div#3507affb-83a9-4617-bfa9-e354e4be730a').text('ETA:  0:00:00');"
       ],
       "metadata": {},
       "output_type": "display_data",
       "text": [
        "<IPython.core.display.Javascript at 0x1100b9050>"
       ]
      },
      {
       "javascript": [
        "$('div#083160c4-0ac8-4ca4-a715-fc702cda2229').text(' 70.26 MB/s');"
       ],
       "metadata": {},
       "output_type": "display_data",
       "text": [
        "<IPython.core.display.Javascript at 0x1100b9090>"
       ]
      },
      {
       "javascript": [
        "$('div#20aa3663-2bc3-4672-a5fd-3e67a8322d65').text(' 74%');"
       ],
       "metadata": {},
       "output_type": "display_data",
       "text": [
        "<IPython.core.display.Javascript at 0x1100b90d0>"
       ]
      },
      {
       "javascript": [
        "\n",
        "        var $myPB = $(\"div#1634ec53-b320-4692-a9ab-89cd1e1a53cf\")\n",
        "        if ($myPB.hasClass('ui-progressbar')) {\n",
        "            $myPB.progressbar('value', 18792448);\n",
        "        } else {\n",
        "            $myPB.progressbar({value: 0, max: 25238326});\n",
        "        }\n",
        "        "
       ],
       "metadata": {},
       "output_type": "display_data",
       "text": [
        "<IPython.core.display.Javascript at 0x1100b9110>"
       ]
      },
      {
       "javascript": [
        "$('div#3507affb-83a9-4617-bfa9-e354e4be730a').text('ETA:  0:00:00');"
       ],
       "metadata": {},
       "output_type": "display_data",
       "text": [
        "<IPython.core.display.Javascript at 0x1100b9190>"
       ]
      },
      {
       "javascript": [
        "$('div#083160c4-0ac8-4ca4-a715-fc702cda2229').text(' 70.38 MB/s');"
       ],
       "metadata": {},
       "output_type": "display_data",
       "text": [
        "<IPython.core.display.Javascript at 0x1100b91d0>"
       ]
      },
      {
       "javascript": [
        "$('div#20aa3663-2bc3-4672-a5fd-3e67a8322d65').text(' 75%');"
       ],
       "metadata": {},
       "output_type": "display_data",
       "text": [
        "<IPython.core.display.Javascript at 0x1100b9210>"
       ]
      },
      {
       "javascript": [
        "\n",
        "        var $myPB = $(\"div#1634ec53-b320-4692-a9ab-89cd1e1a53cf\")\n",
        "        if ($myPB.hasClass('ui-progressbar')) {\n",
        "            $myPB.progressbar('value', 19046400);\n",
        "        } else {\n",
        "            $myPB.progressbar({value: 0, max: 25238326});\n",
        "        }\n",
        "        "
       ],
       "metadata": {},
       "output_type": "display_data",
       "text": [
        "<IPython.core.display.Javascript at 0x1100b9250>"
       ]
      },
      {
       "javascript": [
        "$('div#3507affb-83a9-4617-bfa9-e354e4be730a').text('ETA:  0:00:00');"
       ],
       "metadata": {},
       "output_type": "display_data",
       "text": [
        "<IPython.core.display.Javascript at 0x1100b9290>"
       ]
      },
      {
       "javascript": [
        "$('div#083160c4-0ac8-4ca4-a715-fc702cda2229').text(' 70.48 MB/s');"
       ],
       "metadata": {},
       "output_type": "display_data",
       "text": [
        "<IPython.core.display.Javascript at 0x1100b92d0>"
       ]
      },
      {
       "javascript": [
        "$('div#20aa3663-2bc3-4672-a5fd-3e67a8322d65').text(' 76%');"
       ],
       "metadata": {},
       "output_type": "display_data",
       "text": [
        "<IPython.core.display.Javascript at 0x1100b9310>"
       ]
      },
      {
       "javascript": [
        "\n",
        "        var $myPB = $(\"div#1634ec53-b320-4692-a9ab-89cd1e1a53cf\")\n",
        "        if ($myPB.hasClass('ui-progressbar')) {\n",
        "            $myPB.progressbar('value', 19300352);\n",
        "        } else {\n",
        "            $myPB.progressbar({value: 0, max: 25238326});\n",
        "        }\n",
        "        "
       ],
       "metadata": {},
       "output_type": "display_data",
       "text": [
        "<IPython.core.display.Javascript at 0x1100b9350>"
       ]
      },
      {
       "javascript": [
        "$('div#3507affb-83a9-4617-bfa9-e354e4be730a').text('ETA:  0:00:00');"
       ],
       "metadata": {},
       "output_type": "display_data",
       "text": [
        "<IPython.core.display.Javascript at 0x1100b9390>"
       ]
      },
      {
       "javascript": [
        "$('div#083160c4-0ac8-4ca4-a715-fc702cda2229').text(' 70.56 MB/s');"
       ],
       "metadata": {},
       "output_type": "display_data",
       "text": [
        "<IPython.core.display.Javascript at 0x1100b93d0>"
       ]
      },
      {
       "javascript": [
        "$('div#20aa3663-2bc3-4672-a5fd-3e67a8322d65').text(' 77%');"
       ],
       "metadata": {},
       "output_type": "display_data",
       "text": [
        "<IPython.core.display.Javascript at 0x1100b9410>"
       ]
      },
      {
       "javascript": [
        "\n",
        "        var $myPB = $(\"div#1634ec53-b320-4692-a9ab-89cd1e1a53cf\")\n",
        "        if ($myPB.hasClass('ui-progressbar')) {\n",
        "            $myPB.progressbar('value', 19554304);\n",
        "        } else {\n",
        "            $myPB.progressbar({value: 0, max: 25238326});\n",
        "        }\n",
        "        "
       ],
       "metadata": {},
       "output_type": "display_data",
       "text": [
        "<IPython.core.display.Javascript at 0x1100b9450>"
       ]
      },
      {
       "javascript": [
        "$('div#3507affb-83a9-4617-bfa9-e354e4be730a').text('ETA:  0:00:00');"
       ],
       "metadata": {},
       "output_type": "display_data",
       "text": [
        "<IPython.core.display.Javascript at 0x1100b9490>"
       ]
      },
      {
       "javascript": [
        "$('div#083160c4-0ac8-4ca4-a715-fc702cda2229').text(' 70.78 MB/s');"
       ],
       "metadata": {},
       "output_type": "display_data",
       "text": [
        "<IPython.core.display.Javascript at 0x1100b94d0>"
       ]
      },
      {
       "javascript": [
        "$('div#20aa3663-2bc3-4672-a5fd-3e67a8322d65').text(' 78%');"
       ],
       "metadata": {},
       "output_type": "display_data",
       "text": [
        "<IPython.core.display.Javascript at 0x1100b9510>"
       ]
      },
      {
       "javascript": [
        "\n",
        "        var $myPB = $(\"div#1634ec53-b320-4692-a9ab-89cd1e1a53cf\")\n",
        "        if ($myPB.hasClass('ui-progressbar')) {\n",
        "            $myPB.progressbar('value', 19808256);\n",
        "        } else {\n",
        "            $myPB.progressbar({value: 0, max: 25238326});\n",
        "        }\n",
        "        "
       ],
       "metadata": {},
       "output_type": "display_data",
       "text": [
        "<IPython.core.display.Javascript at 0x1100b9550>"
       ]
      },
      {
       "javascript": [
        "$('div#3507affb-83a9-4617-bfa9-e354e4be730a').text('ETA:  0:00:00');"
       ],
       "metadata": {},
       "output_type": "display_data",
       "text": [
        "<IPython.core.display.Javascript at 0x1100b9590>"
       ]
      },
      {
       "javascript": [
        "$('div#083160c4-0ac8-4ca4-a715-fc702cda2229').text(' 71.04 MB/s');"
       ],
       "metadata": {},
       "output_type": "display_data",
       "text": [
        "<IPython.core.display.Javascript at 0x1100b95d0>"
       ]
      },
      {
       "javascript": [
        "$('div#20aa3663-2bc3-4672-a5fd-3e67a8322d65').text(' 79%');"
       ],
       "metadata": {},
       "output_type": "display_data",
       "text": [
        "<IPython.core.display.Javascript at 0x1100b9610>"
       ]
      },
      {
       "javascript": [
        "\n",
        "        var $myPB = $(\"div#1634ec53-b320-4692-a9ab-89cd1e1a53cf\")\n",
        "        if ($myPB.hasClass('ui-progressbar')) {\n",
        "            $myPB.progressbar('value', 20062208);\n",
        "        } else {\n",
        "            $myPB.progressbar({value: 0, max: 25238326});\n",
        "        }\n",
        "        "
       ],
       "metadata": {},
       "output_type": "display_data",
       "text": [
        "<IPython.core.display.Javascript at 0x1100b9650>"
       ]
      },
      {
       "javascript": [
        "$('div#3507affb-83a9-4617-bfa9-e354e4be730a').text('ETA:  0:00:00');"
       ],
       "metadata": {},
       "output_type": "display_data",
       "text": [
        "<IPython.core.display.Javascript at 0x1100b9690>"
       ]
      },
      {
       "javascript": [
        "$('div#083160c4-0ac8-4ca4-a715-fc702cda2229').text(' 71.17 MB/s');"
       ],
       "metadata": {},
       "output_type": "display_data",
       "text": [
        "<IPython.core.display.Javascript at 0x10ff07d10>"
       ]
      },
      {
       "javascript": [
        "$('div#20aa3663-2bc3-4672-a5fd-3e67a8322d65').text(' 80%');"
       ],
       "metadata": {},
       "output_type": "display_data",
       "text": [
        "<IPython.core.display.Javascript at 0x10ff07ed0>"
       ]
      },
      {
       "javascript": [
        "\n",
        "        var $myPB = $(\"div#1634ec53-b320-4692-a9ab-89cd1e1a53cf\")\n",
        "        if ($myPB.hasClass('ui-progressbar')) {\n",
        "            $myPB.progressbar('value', 20316160);\n",
        "        } else {\n",
        "            $myPB.progressbar({value: 0, max: 25238326});\n",
        "        }\n",
        "        "
       ],
       "metadata": {},
       "output_type": "display_data",
       "text": [
        "<IPython.core.display.Javascript at 0x10ff07f10>"
       ]
      },
      {
       "javascript": [
        "$('div#3507affb-83a9-4617-bfa9-e354e4be730a').text('ETA:  0:00:00');"
       ],
       "metadata": {},
       "output_type": "display_data",
       "text": [
        "<IPython.core.display.Javascript at 0x10ff07f90>"
       ]
      },
      {
       "javascript": [
        "$('div#083160c4-0ac8-4ca4-a715-fc702cda2229').text(' 71.35 MB/s');"
       ],
       "metadata": {},
       "output_type": "display_data",
       "text": [
        "<IPython.core.display.Javascript at 0x10ff07f50>"
       ]
      },
      {
       "javascript": [
        "$('div#20aa3663-2bc3-4672-a5fd-3e67a8322d65').text(' 81%');"
       ],
       "metadata": {},
       "output_type": "display_data",
       "text": [
        "<IPython.core.display.Javascript at 0x10ff14dd0>"
       ]
      },
      {
       "javascript": [
        "\n",
        "        var $myPB = $(\"div#1634ec53-b320-4692-a9ab-89cd1e1a53cf\")\n",
        "        if ($myPB.hasClass('ui-progressbar')) {\n",
        "            $myPB.progressbar('value', 20570112);\n",
        "        } else {\n",
        "            $myPB.progressbar({value: 0, max: 25238326});\n",
        "        }\n",
        "        "
       ],
       "metadata": {},
       "output_type": "display_data",
       "text": [
        "<IPython.core.display.Javascript at 0x10ff14e10>"
       ]
      },
      {
       "javascript": [
        "$('div#3507affb-83a9-4617-bfa9-e354e4be730a').text('ETA:  0:00:00');"
       ],
       "metadata": {},
       "output_type": "display_data",
       "text": [
        "<IPython.core.display.Javascript at 0x10ff141d0>"
       ]
      },
      {
       "javascript": [
        "$('div#083160c4-0ac8-4ca4-a715-fc702cda2229').text(' 71.59 MB/s');"
       ],
       "metadata": {},
       "output_type": "display_data",
       "text": [
        "<IPython.core.display.Javascript at 0x10ff14ad0>"
       ]
      },
      {
       "javascript": [
        "$('div#20aa3663-2bc3-4672-a5fd-3e67a8322d65').text(' 82%');"
       ],
       "metadata": {},
       "output_type": "display_data",
       "text": [
        "<IPython.core.display.Javascript at 0x10ff14410>"
       ]
      },
      {
       "javascript": [
        "\n",
        "        var $myPB = $(\"div#1634ec53-b320-4692-a9ab-89cd1e1a53cf\")\n",
        "        if ($myPB.hasClass('ui-progressbar')) {\n",
        "            $myPB.progressbar('value', 20824064);\n",
        "        } else {\n",
        "            $myPB.progressbar({value: 0, max: 25238326});\n",
        "        }\n",
        "        "
       ],
       "metadata": {},
       "output_type": "display_data",
       "text": [
        "<IPython.core.display.Javascript at 0x10ff14a90>"
       ]
      },
      {
       "javascript": [
        "$('div#3507affb-83a9-4617-bfa9-e354e4be730a').text('ETA:  0:00:00');"
       ],
       "metadata": {},
       "output_type": "display_data",
       "text": [
        "<IPython.core.display.Javascript at 0x10ff14a50>"
       ]
      },
      {
       "javascript": [
        "$('div#083160c4-0ac8-4ca4-a715-fc702cda2229').text(' 71.73 MB/s');"
       ],
       "metadata": {},
       "output_type": "display_data",
       "text": [
        "<IPython.core.display.Javascript at 0x10ff14050>"
       ]
      },
      {
       "javascript": [
        "$('div#20aa3663-2bc3-4672-a5fd-3e67a8322d65').text(' 83%');"
       ],
       "metadata": {},
       "output_type": "display_data",
       "text": [
        "<IPython.core.display.Javascript at 0x10ff149d0>"
       ]
      },
      {
       "javascript": [
        "\n",
        "        var $myPB = $(\"div#1634ec53-b320-4692-a9ab-89cd1e1a53cf\")\n",
        "        if ($myPB.hasClass('ui-progressbar')) {\n",
        "            $myPB.progressbar('value', 21078016);\n",
        "        } else {\n",
        "            $myPB.progressbar({value: 0, max: 25238326});\n",
        "        }\n",
        "        "
       ],
       "metadata": {},
       "output_type": "display_data",
       "text": [
        "<IPython.core.display.Javascript at 0x10ff14990>"
       ]
      },
      {
       "javascript": [
        "$('div#3507affb-83a9-4617-bfa9-e354e4be730a').text('ETA:  0:00:00');"
       ],
       "metadata": {},
       "output_type": "display_data",
       "text": [
        "<IPython.core.display.Javascript at 0x10ff14950>"
       ]
      },
      {
       "javascript": [
        "$('div#083160c4-0ac8-4ca4-a715-fc702cda2229').text(' 71.89 MB/s');"
       ],
       "metadata": {},
       "output_type": "display_data",
       "text": [
        "<IPython.core.display.Javascript at 0x10ff14910>"
       ]
      },
      {
       "javascript": [
        "$('div#20aa3663-2bc3-4672-a5fd-3e67a8322d65').text(' 84%');"
       ],
       "metadata": {},
       "output_type": "display_data",
       "text": [
        "<IPython.core.display.Javascript at 0x10ff148d0>"
       ]
      },
      {
       "javascript": [
        "\n",
        "        var $myPB = $(\"div#1634ec53-b320-4692-a9ab-89cd1e1a53cf\")\n",
        "        if ($myPB.hasClass('ui-progressbar')) {\n",
        "            $myPB.progressbar('value', 21331968);\n",
        "        } else {\n",
        "            $myPB.progressbar({value: 0, max: 25238326});\n",
        "        }\n",
        "        "
       ],
       "metadata": {},
       "output_type": "display_data",
       "text": [
        "<IPython.core.display.Javascript at 0x10ff14890>"
       ]
      },
      {
       "javascript": [
        "$('div#3507affb-83a9-4617-bfa9-e354e4be730a').text('ETA:  0:00:00');"
       ],
       "metadata": {},
       "output_type": "display_data",
       "text": [
        "<IPython.core.display.Javascript at 0x10ff14850>"
       ]
      },
      {
       "javascript": [
        "$('div#083160c4-0ac8-4ca4-a715-fc702cda2229').text(' 72.15 MB/s');"
       ],
       "metadata": {},
       "output_type": "display_data",
       "text": [
        "<IPython.core.display.Javascript at 0x10ff14810>"
       ]
      },
      {
       "javascript": [
        "$('div#20aa3663-2bc3-4672-a5fd-3e67a8322d65').text(' 85%');"
       ],
       "metadata": {},
       "output_type": "display_data",
       "text": [
        "<IPython.core.display.Javascript at 0x10ff147d0>"
       ]
      },
      {
       "javascript": [
        "\n",
        "        var $myPB = $(\"div#1634ec53-b320-4692-a9ab-89cd1e1a53cf\")\n",
        "        if ($myPB.hasClass('ui-progressbar')) {\n",
        "            $myPB.progressbar('value', 21585920);\n",
        "        } else {\n",
        "            $myPB.progressbar({value: 0, max: 25238326});\n",
        "        }\n",
        "        "
       ],
       "metadata": {},
       "output_type": "display_data",
       "text": [
        "<IPython.core.display.Javascript at 0x10ff14790>"
       ]
      },
      {
       "javascript": [
        "$('div#3507affb-83a9-4617-bfa9-e354e4be730a').text('ETA:  0:00:00');"
       ],
       "metadata": {},
       "output_type": "display_data",
       "text": [
        "<IPython.core.display.Javascript at 0x10ff14750>"
       ]
      },
      {
       "javascript": [
        "$('div#083160c4-0ac8-4ca4-a715-fc702cda2229').text(' 72.29 MB/s');"
       ],
       "metadata": {},
       "output_type": "display_data",
       "text": [
        "<IPython.core.display.Javascript at 0x10ff14710>"
       ]
      },
      {
       "javascript": [
        "$('div#20aa3663-2bc3-4672-a5fd-3e67a8322d65').text(' 86%');"
       ],
       "metadata": {},
       "output_type": "display_data",
       "text": [
        "<IPython.core.display.Javascript at 0x10ff146d0>"
       ]
      },
      {
       "javascript": [
        "\n",
        "        var $myPB = $(\"div#1634ec53-b320-4692-a9ab-89cd1e1a53cf\")\n",
        "        if ($myPB.hasClass('ui-progressbar')) {\n",
        "            $myPB.progressbar('value', 21839872);\n",
        "        } else {\n",
        "            $myPB.progressbar({value: 0, max: 25238326});\n",
        "        }\n",
        "        "
       ],
       "metadata": {},
       "output_type": "display_data",
       "text": [
        "<IPython.core.display.Javascript at 0x10ff14650>"
       ]
      },
      {
       "javascript": [
        "$('div#3507affb-83a9-4617-bfa9-e354e4be730a').text('ETA:  0:00:00');"
       ],
       "metadata": {},
       "output_type": "display_data",
       "text": [
        "<IPython.core.display.Javascript at 0x10ff14610>"
       ]
      },
      {
       "javascript": [
        "$('div#083160c4-0ac8-4ca4-a715-fc702cda2229').text(' 72.49 MB/s');"
       ],
       "metadata": {},
       "output_type": "display_data",
       "text": [
        "<IPython.core.display.Javascript at 0x10ff145d0>"
       ]
      },
      {
       "javascript": [
        "$('div#20aa3663-2bc3-4672-a5fd-3e67a8322d65').text(' 87%');"
       ],
       "metadata": {},
       "output_type": "display_data",
       "text": [
        "<IPython.core.display.Javascript at 0x10ff14550>"
       ]
      },
      {
       "javascript": [
        "\n",
        "        var $myPB = $(\"div#1634ec53-b320-4692-a9ab-89cd1e1a53cf\")\n",
        "        if ($myPB.hasClass('ui-progressbar')) {\n",
        "            $myPB.progressbar('value', 22093824);\n",
        "        } else {\n",
        "            $myPB.progressbar({value: 0, max: 25238326});\n",
        "        }\n",
        "        "
       ],
       "metadata": {},
       "output_type": "display_data",
       "text": [
        "<IPython.core.display.Javascript at 0x10ff14450>"
       ]
      },
      {
       "javascript": [
        "$('div#3507affb-83a9-4617-bfa9-e354e4be730a').text('ETA:  0:00:00');"
       ],
       "metadata": {},
       "output_type": "display_data",
       "text": [
        "<IPython.core.display.Javascript at 0x10ff14510>"
       ]
      },
      {
       "javascript": [
        "$('div#083160c4-0ac8-4ca4-a715-fc702cda2229').text(' 72.58 MB/s');"
       ],
       "metadata": {},
       "output_type": "display_data",
       "text": [
        "<IPython.core.display.Javascript at 0x10ff144d0>"
       ]
      },
      {
       "javascript": [
        "$('div#20aa3663-2bc3-4672-a5fd-3e67a8322d65').text(' 88%');"
       ],
       "metadata": {},
       "output_type": "display_data",
       "text": [
        "<IPython.core.display.Javascript at 0x10ff14210>"
       ]
      },
      {
       "javascript": [
        "\n",
        "        var $myPB = $(\"div#1634ec53-b320-4692-a9ab-89cd1e1a53cf\")\n",
        "        if ($myPB.hasClass('ui-progressbar')) {\n",
        "            $myPB.progressbar('value', 22347776);\n",
        "        } else {\n",
        "            $myPB.progressbar({value: 0, max: 25238326});\n",
        "        }\n",
        "        "
       ],
       "metadata": {},
       "output_type": "display_data",
       "text": [
        "<IPython.core.display.Javascript at 0x10ff14090>"
       ]
      },
      {
       "javascript": [
        "$('div#3507affb-83a9-4617-bfa9-e354e4be730a').text('ETA:  0:00:00');"
       ],
       "metadata": {},
       "output_type": "display_data",
       "text": [
        "<IPython.core.display.Javascript at 0x10ff14690>"
       ]
      },
      {
       "javascript": [
        "$('div#083160c4-0ac8-4ca4-a715-fc702cda2229').text(' 72.68 MB/s');"
       ],
       "metadata": {},
       "output_type": "display_data",
       "text": [
        "<IPython.core.display.Javascript at 0x10ff14fd0>"
       ]
      },
      {
       "javascript": [
        "$('div#20aa3663-2bc3-4672-a5fd-3e67a8322d65').text(' 89%');"
       ],
       "metadata": {},
       "output_type": "display_data",
       "text": [
        "<IPython.core.display.Javascript at 0x10ff14b10>"
       ]
      },
      {
       "javascript": [
        "\n",
        "        var $myPB = $(\"div#1634ec53-b320-4692-a9ab-89cd1e1a53cf\")\n",
        "        if ($myPB.hasClass('ui-progressbar')) {\n",
        "            $myPB.progressbar('value', 22601728);\n",
        "        } else {\n",
        "            $myPB.progressbar({value: 0, max: 25238326});\n",
        "        }\n",
        "        "
       ],
       "metadata": {},
       "output_type": "display_data",
       "text": [
        "<IPython.core.display.Javascript at 0x10ff14b50>"
       ]
      },
      {
       "javascript": [
        "$('div#3507affb-83a9-4617-bfa9-e354e4be730a').text('ETA:  0:00:00');"
       ],
       "metadata": {},
       "output_type": "display_data",
       "text": [
        "<IPython.core.display.Javascript at 0x10ff14250>"
       ]
      },
      {
       "javascript": [
        "$('div#083160c4-0ac8-4ca4-a715-fc702cda2229').text(' 72.86 MB/s');"
       ],
       "metadata": {},
       "output_type": "display_data",
       "text": [
        "<IPython.core.display.Javascript at 0x10ff14bd0>"
       ]
      },
      {
       "javascript": [
        "$('div#20aa3663-2bc3-4672-a5fd-3e67a8322d65').text(' 90%');"
       ],
       "metadata": {},
       "output_type": "display_data",
       "text": [
        "<IPython.core.display.Javascript at 0x10ff14b90>"
       ]
      },
      {
       "javascript": [
        "\n",
        "        var $myPB = $(\"div#1634ec53-b320-4692-a9ab-89cd1e1a53cf\")\n",
        "        if ($myPB.hasClass('ui-progressbar')) {\n",
        "            $myPB.progressbar('value', 22855680);\n",
        "        } else {\n",
        "            $myPB.progressbar({value: 0, max: 25238326});\n",
        "        }\n",
        "        "
       ],
       "metadata": {},
       "output_type": "display_data",
       "text": [
        "<IPython.core.display.Javascript at 0x10ff14c10>"
       ]
      },
      {
       "javascript": [
        "$('div#3507affb-83a9-4617-bfa9-e354e4be730a').text('ETA:  0:00:00');"
       ],
       "metadata": {},
       "output_type": "display_data",
       "text": [
        "<IPython.core.display.Javascript at 0x10ff14c50>"
       ]
      },
      {
       "javascript": [
        "$('div#083160c4-0ac8-4ca4-a715-fc702cda2229').text(' 73.04 MB/s');"
       ],
       "metadata": {},
       "output_type": "display_data",
       "text": [
        "<IPython.core.display.Javascript at 0x10ff14c90>"
       ]
      },
      {
       "javascript": [
        "$('div#20aa3663-2bc3-4672-a5fd-3e67a8322d65').text(' 91%');"
       ],
       "metadata": {},
       "output_type": "display_data",
       "text": [
        "<IPython.core.display.Javascript at 0x10ff14cd0>"
       ]
      },
      {
       "javascript": [
        "\n",
        "        var $myPB = $(\"div#1634ec53-b320-4692-a9ab-89cd1e1a53cf\")\n",
        "        if ($myPB.hasClass('ui-progressbar')) {\n",
        "            $myPB.progressbar('value', 23109632);\n",
        "        } else {\n",
        "            $myPB.progressbar({value: 0, max: 25238326});\n",
        "        }\n",
        "        "
       ],
       "metadata": {},
       "output_type": "display_data",
       "text": [
        "<IPython.core.display.Javascript at 0x10ff14d10>"
       ]
      },
      {
       "javascript": [
        "$('div#3507affb-83a9-4617-bfa9-e354e4be730a').text('ETA:  0:00:00');"
       ],
       "metadata": {},
       "output_type": "display_data",
       "text": [
        "<IPython.core.display.Javascript at 0x10ff14d50>"
       ]
      },
      {
       "javascript": [
        "$('div#083160c4-0ac8-4ca4-a715-fc702cda2229').text(' 73.18 MB/s');"
       ],
       "metadata": {},
       "output_type": "display_data",
       "text": [
        "<IPython.core.display.Javascript at 0x10ff14d90>"
       ]
      },
      {
       "javascript": [
        "$('div#20aa3663-2bc3-4672-a5fd-3e67a8322d65').text(' 92%');"
       ],
       "metadata": {},
       "output_type": "display_data",
       "text": [
        "<IPython.core.display.Javascript at 0x10ff14ed0>"
       ]
      },
      {
       "javascript": [
        "\n",
        "        var $myPB = $(\"div#1634ec53-b320-4692-a9ab-89cd1e1a53cf\")\n",
        "        if ($myPB.hasClass('ui-progressbar')) {\n",
        "            $myPB.progressbar('value', 23363584);\n",
        "        } else {\n",
        "            $myPB.progressbar({value: 0, max: 25238326});\n",
        "        }\n",
        "        "
       ],
       "metadata": {},
       "output_type": "display_data",
       "text": [
        "<IPython.core.display.Javascript at 0x10ff14f90>"
       ]
      },
      {
       "javascript": [
        "$('div#3507affb-83a9-4617-bfa9-e354e4be730a').text('ETA:  0:00:00');"
       ],
       "metadata": {},
       "output_type": "display_data",
       "text": [
        "<IPython.core.display.Javascript at 0x10ff14e50>"
       ]
      },
      {
       "javascript": [
        "$('div#083160c4-0ac8-4ca4-a715-fc702cda2229').text(' 73.35 MB/s');"
       ],
       "metadata": {},
       "output_type": "display_data",
       "text": [
        "<IPython.core.display.Javascript at 0x10ff14e90>"
       ]
      },
      {
       "javascript": [
        "$('div#20aa3663-2bc3-4672-a5fd-3e67a8322d65').text(' 93%');"
       ],
       "metadata": {},
       "output_type": "display_data",
       "text": [
        "<IPython.core.display.Javascript at 0x10ff14490>"
       ]
      },
      {
       "javascript": [
        "\n",
        "        var $myPB = $(\"div#1634ec53-b320-4692-a9ab-89cd1e1a53cf\")\n",
        "        if ($myPB.hasClass('ui-progressbar')) {\n",
        "            $myPB.progressbar('value', 23617536);\n",
        "        } else {\n",
        "            $myPB.progressbar({value: 0, max: 25238326});\n",
        "        }\n",
        "        "
       ],
       "metadata": {},
       "output_type": "display_data",
       "text": [
        "<IPython.core.display.Javascript at 0x10ff14a10>"
       ]
      },
      {
       "javascript": [
        "$('div#3507affb-83a9-4617-bfa9-e354e4be730a').text('ETA:  0:00:00');"
       ],
       "metadata": {},
       "output_type": "display_data",
       "text": [
        "<IPython.core.display.Javascript at 0x10ff14f50>"
       ]
      },
      {
       "javascript": [
        "$('div#083160c4-0ac8-4ca4-a715-fc702cda2229').text(' 73.47 MB/s');"
       ],
       "metadata": {},
       "output_type": "display_data",
       "text": [
        "<IPython.core.display.Javascript at 0x10ff14f10>"
       ]
      },
      {
       "javascript": [
        "$('div#20aa3663-2bc3-4672-a5fd-3e67a8322d65').text(' 94%');"
       ],
       "metadata": {},
       "output_type": "display_data",
       "text": [
        "<IPython.core.display.Javascript at 0x110032050>"
       ]
      },
      {
       "javascript": [
        "\n",
        "        var $myPB = $(\"div#1634ec53-b320-4692-a9ab-89cd1e1a53cf\")\n",
        "        if ($myPB.hasClass('ui-progressbar')) {\n",
        "            $myPB.progressbar('value', 23871488);\n",
        "        } else {\n",
        "            $myPB.progressbar({value: 0, max: 25238326});\n",
        "        }\n",
        "        "
       ],
       "metadata": {},
       "output_type": "display_data",
       "text": [
        "<IPython.core.display.Javascript at 0x110032090>"
       ]
      },
      {
       "javascript": [
        "$('div#3507affb-83a9-4617-bfa9-e354e4be730a').text('ETA:  0:00:00');"
       ],
       "metadata": {},
       "output_type": "display_data",
       "text": [
        "<IPython.core.display.Javascript at 0x1100320d0>"
       ]
      },
      {
       "javascript": [
        "$('div#083160c4-0ac8-4ca4-a715-fc702cda2229').text(' 73.51 MB/s');"
       ],
       "metadata": {},
       "output_type": "display_data",
       "text": [
        "<IPython.core.display.Javascript at 0x110032110>"
       ]
      },
      {
       "javascript": [
        "$('div#20aa3663-2bc3-4672-a5fd-3e67a8322d65').text(' 95%');"
       ],
       "metadata": {},
       "output_type": "display_data",
       "text": [
        "<IPython.core.display.Javascript at 0x110032190>"
       ]
      },
      {
       "javascript": [
        "\n",
        "        var $myPB = $(\"div#1634ec53-b320-4692-a9ab-89cd1e1a53cf\")\n",
        "        if ($myPB.hasClass('ui-progressbar')) {\n",
        "            $myPB.progressbar('value', 24125440);\n",
        "        } else {\n",
        "            $myPB.progressbar({value: 0, max: 25238326});\n",
        "        }\n",
        "        "
       ],
       "metadata": {},
       "output_type": "display_data",
       "text": [
        "<IPython.core.display.Javascript at 0x1100321d0>"
       ]
      },
      {
       "javascript": [
        "$('div#3507affb-83a9-4617-bfa9-e354e4be730a').text('ETA:  0:00:00');"
       ],
       "metadata": {},
       "output_type": "display_data",
       "text": [
        "<IPython.core.display.Javascript at 0x110032210>"
       ]
      },
      {
       "javascript": [
        "$('div#083160c4-0ac8-4ca4-a715-fc702cda2229').text(' 73.59 MB/s');"
       ],
       "metadata": {},
       "output_type": "display_data",
       "text": [
        "<IPython.core.display.Javascript at 0x110032250>"
       ]
      },
      {
       "javascript": [
        "$('div#20aa3663-2bc3-4672-a5fd-3e67a8322d65').text(' 96%');"
       ],
       "metadata": {},
       "output_type": "display_data",
       "text": [
        "<IPython.core.display.Javascript at 0x110032290>"
       ]
      },
      {
       "javascript": [
        "\n",
        "        var $myPB = $(\"div#1634ec53-b320-4692-a9ab-89cd1e1a53cf\")\n",
        "        if ($myPB.hasClass('ui-progressbar')) {\n",
        "            $myPB.progressbar('value', 24379392);\n",
        "        } else {\n",
        "            $myPB.progressbar({value: 0, max: 25238326});\n",
        "        }\n",
        "        "
       ],
       "metadata": {},
       "output_type": "display_data",
       "text": [
        "<IPython.core.display.Javascript at 0x1100322d0>"
       ]
      },
      {
       "javascript": [
        "$('div#3507affb-83a9-4617-bfa9-e354e4be730a').text('ETA:  0:00:00');"
       ],
       "metadata": {},
       "output_type": "display_data",
       "text": [
        "<IPython.core.display.Javascript at 0x110032310>"
       ]
      },
      {
       "javascript": [
        "$('div#083160c4-0ac8-4ca4-a715-fc702cda2229').text(' 73.76 MB/s');"
       ],
       "metadata": {},
       "output_type": "display_data",
       "text": [
        "<IPython.core.display.Javascript at 0x110032350>"
       ]
      },
      {
       "javascript": [
        "$('div#20aa3663-2bc3-4672-a5fd-3e67a8322d65').text(' 97%');"
       ],
       "metadata": {},
       "output_type": "display_data",
       "text": [
        "<IPython.core.display.Javascript at 0x110032390>"
       ]
      },
      {
       "javascript": [
        "\n",
        "        var $myPB = $(\"div#1634ec53-b320-4692-a9ab-89cd1e1a53cf\")\n",
        "        if ($myPB.hasClass('ui-progressbar')) {\n",
        "            $myPB.progressbar('value', 24633344);\n",
        "        } else {\n",
        "            $myPB.progressbar({value: 0, max: 25238326});\n",
        "        }\n",
        "        "
       ],
       "metadata": {},
       "output_type": "display_data",
       "text": [
        "<IPython.core.display.Javascript at 0x1100323d0>"
       ]
      },
      {
       "javascript": [
        "$('div#3507affb-83a9-4617-bfa9-e354e4be730a').text('ETA:  0:00:00');"
       ],
       "metadata": {},
       "output_type": "display_data",
       "text": [
        "<IPython.core.display.Javascript at 0x110032410>"
       ]
      },
      {
       "javascript": [
        "$('div#083160c4-0ac8-4ca4-a715-fc702cda2229').text(' 73.81 MB/s');"
       ],
       "metadata": {},
       "output_type": "display_data",
       "text": [
        "<IPython.core.display.Javascript at 0x110032450>"
       ]
      },
      {
       "javascript": [
        "$('div#20aa3663-2bc3-4672-a5fd-3e67a8322d65').text(' 98%');"
       ],
       "metadata": {},
       "output_type": "display_data",
       "text": [
        "<IPython.core.display.Javascript at 0x110032490>"
       ]
      },
      {
       "javascript": [
        "\n",
        "        var $myPB = $(\"div#1634ec53-b320-4692-a9ab-89cd1e1a53cf\")\n",
        "        if ($myPB.hasClass('ui-progressbar')) {\n",
        "            $myPB.progressbar('value', 24887296);\n",
        "        } else {\n",
        "            $myPB.progressbar({value: 0, max: 25238326});\n",
        "        }\n",
        "        "
       ],
       "metadata": {},
       "output_type": "display_data",
       "text": [
        "<IPython.core.display.Javascript at 0x1100324d0>"
       ]
      },
      {
       "javascript": [
        "$('div#3507affb-83a9-4617-bfa9-e354e4be730a').text('ETA:  0:00:00');"
       ],
       "metadata": {},
       "output_type": "display_data",
       "text": [
        "<IPython.core.display.Javascript at 0x110032510>"
       ]
      },
      {
       "javascript": [
        "$('div#083160c4-0ac8-4ca4-a715-fc702cda2229').text(' 73.98 MB/s');"
       ],
       "metadata": {},
       "output_type": "display_data",
       "text": [
        "<IPython.core.display.Javascript at 0x110032550>"
       ]
      },
      {
       "javascript": [
        "$('div#20aa3663-2bc3-4672-a5fd-3e67a8322d65').text(' 99%');"
       ],
       "metadata": {},
       "output_type": "display_data",
       "text": [
        "<IPython.core.display.Javascript at 0x110032590>"
       ]
      },
      {
       "javascript": [
        "\n",
        "        var $myPB = $(\"div#1634ec53-b320-4692-a9ab-89cd1e1a53cf\")\n",
        "        if ($myPB.hasClass('ui-progressbar')) {\n",
        "            $myPB.progressbar('value', 25141248);\n",
        "        } else {\n",
        "            $myPB.progressbar({value: 0, max: 25238326});\n",
        "        }\n",
        "        "
       ],
       "metadata": {},
       "output_type": "display_data",
       "text": [
        "<IPython.core.display.Javascript at 0x1100325d0>"
       ]
      },
      {
       "javascript": [
        "$('div#3507affb-83a9-4617-bfa9-e354e4be730a').text('ETA:  0:00:00');"
       ],
       "metadata": {},
       "output_type": "display_data",
       "text": [
        "<IPython.core.display.Javascript at 0x110032610>"
       ]
      },
      {
       "javascript": [
        "$('div#083160c4-0ac8-4ca4-a715-fc702cda2229').text(' 74.05 MB/s');"
       ],
       "metadata": {},
       "output_type": "display_data",
       "text": [
        "<IPython.core.display.Javascript at 0x110032650>"
       ]
      },
      {
       "javascript": [
        "$('div#20aa3663-2bc3-4672-a5fd-3e67a8322d65').text('100%');"
       ],
       "metadata": {},
       "output_type": "display_data",
       "text": [
        "<IPython.core.display.Javascript at 0x110032690>"
       ]
      },
      {
       "javascript": [
        "\n",
        "        var $myPB = $(\"div#1634ec53-b320-4692-a9ab-89cd1e1a53cf\")\n",
        "        if ($myPB.hasClass('ui-progressbar')) {\n",
        "            $myPB.progressbar('value', 25238326);\n",
        "        } else {\n",
        "            $myPB.progressbar({value: 0, max: 25238326});\n",
        "        }\n",
        "        "
       ],
       "metadata": {},
       "output_type": "display_data",
       "text": [
        "<IPython.core.display.Javascript at 0x1100326d0>"
       ]
      },
      {
       "javascript": [
        "$('div#3507affb-83a9-4617-bfa9-e354e4be730a').text('Time: 0:00:00');"
       ],
       "metadata": {},
       "output_type": "display_data",
       "text": [
        "<IPython.core.display.Javascript at 0x10ff14f10>"
       ]
      },
      {
       "javascript": [
        "$('div#083160c4-0ac8-4ca4-a715-fc702cda2229').text(' 73.64 MB/s');"
       ],
       "metadata": {},
       "output_type": "display_data",
       "text": [
        "<IPython.core.display.Javascript at 0x10ff14f50>"
       ]
      },
      {
       "javascript": [
        "var element = document.getElementById('a9ab9fbd-4c31-4947-aa37-10c9836d6e28');\n",
        "                    var parent = element.parentNode\n",
        "                    parent.removeChild(element);\n",
        "                    parent.parentElement.remove();"
       ],
       "metadata": {},
       "output_type": "display_data",
       "text": [
        "<IPython.core.display.Javascript at 0x10ff14a10>"
       ]
      },
      {
       "javascript": [
        "this.cleanProgressBar(['a9ab9fbd-4c31-4947-aa37-10c9836d6e28', '20aa3663-2bc3-4672-a5fd-3e67a8322d65', '1634ec53-b320-4692-a9ab-89cd1e1a53cf', '3507affb-83a9-4617-bfa9-e354e4be730a', '083160c4-0ac8-4ca4-a715-fc702cda2229'])"
       ],
       "metadata": {},
       "output_type": "display_data",
       "text": [
        "<IPython.core.display.Javascript at 0x10ff14490>"
       ]
      },
      {
       "output_type": "stream",
       "stream": "stdout",
       "text": [
        "Finished downloading instance_data_es_inspire_lexicon_ipa_v1.dict\n",
        "There are 738967 words in the lexicon"
       ]
      },
      {
       "output_type": "stream",
       "stream": "stdout",
       "text": [
        "\n"
       ]
      }
     ],
     "prompt_number": 4
    },
    {
     "cell_type": "markdown",
     "metadata": {},
     "source": [
      "The lexicon is a subclass of a Python dictionary mapping from a word to a set of pronunciations.  The pronunciations are lists of strings where each string represents a phoneme.\n",
      "\n",
      "To use the lexicon we simply query it as we would do with any other Python dictionary.  Note that the case of the words is ignored when querying the lexicon:"
     ]
    },
    {
     "cell_type": "code",
     "collapsed": false,
     "input": [
      "inspire.pprint('Is \"ayuda\" in the lexicon? {}'.format('ayuda' in lexicon))\n",
      "inspire.pprint(lexicon['ayuda'])"
     ],
     "language": "python",
     "metadata": {},
     "outputs": [
      {
       "output_type": "stream",
       "stream": "stdout",
       "text": [
        "'Is \"ayuda\" in the lexicon? True'\n",
        "[[u'a', u'j', u'j', u'\u02c8u', u'\u00f0', u'a']]\n"
       ]
      }
     ],
     "prompt_number": 5
    },
    {
     "cell_type": "markdown",
     "metadata": {},
     "source": [
      "## The submission\n",
      "To make submissions to the INSPIRE Challenge you must have an account on the INSPIRE Challenge: [Click here to register](http://143.167.9.43:5000/register)\n",
      "\n",
      "Note don't use a secure password, since in order to simplify the tasks it may be sent as plain text to the server.\n",
      "The email and password will be used in the following steps to create and submit our predictions.\n",
      "\n",
      "### Preparation of the submission\n",
      "A submission consists of a dictionary data structure containing metadata (information of the participant, the challenge edition and contact details) and the predictions for the stimuli.  The predictions are stored in a data structure similar to that of the dataset (a list of dictionaries, one per stimulus).  Each stimulus dictionary must contain the `token_id` and then a list of task predictions `task_prediction` each task prediction is a dictionary containing a `task` property indicating what task it is solving and the `prediction` which is dictionary whose form depends on the task.\n",
      "\n",
      "In order to avoid errors when creating the participation data structure, we have built a Python class that eases the job."
     ]
    },
    {
     "cell_type": "code",
     "collapsed": false,
     "input": [
      "submission = inspire.Submission(email='dummy@email.com', \n",
      "                                evaluation_setting=setting)"
     ],
     "language": "python",
     "metadata": {},
     "outputs": [],
     "prompt_number": 32
    },
    {
     "cell_type": "markdown",
     "metadata": {},
     "source": [
      "### Adding the predictions of the tasks\n",
      "We iterate over the dataset and for each presented word we query it's pronunciations, and arbitrarily select one.\n",
      "We will then produce the predictions for each of the tasks.  In this simple baseline random guessing scenario we will follow the same predcition strategy independently of the token:\n",
      "\n",
      "* **where task** For the phoneme positions we predict a 50% chance of observing a confusion. We predict a 1% chance of confusion at the inter-phoneme positions and a 30% chance of confusion at the positions before and after the utterance.\n",
      "* **where task** We only provide predictions for the phoneme positions. We predict a 50% chance of not observing a confusion (the observed phoneme will remain) and a 5% of removing the phoneme.\n",
      "* **full task** We predict a 10% of not observing a confusion (the ellicited pronunciation being reported)."
     ]
    },
    {
     "cell_type": "code",
     "collapsed": false,
     "input": [
      "# Iterate over all the stimuli in our dataset\n",
      "for token_id, token  in dataset['tokens'].items():\n",
      "    word = token['speech']\n",
      "    \n",
      "    # Lexicon may contain multiple pronunciations\n",
      "    pronunciations = lexicon[word.upper()]\n",
      "    \n",
      "    # Here we arbitrarily select the first one\n",
      "    pronunciation = pronunciations[0]\n",
      "    \n",
      "    # Get a list of phonemes from the space separated pronunciation of the lexicon\n",
      "    phonemes = pronunciation\n",
      "    \n",
      "    # Possible indices of confusions\n",
      "    # are the number of phonemes plus\n",
      "    # the number of positions around phonemes\n",
      "    index_count = len(phonemes)*2 + 1\n",
      "    \n",
      "    confusion_probabilities = np.zeros(index_count)\n",
      "\n",
      "    # Our random guess for the Where task assumes:\n",
      "    #  - a 30% chance of finding a confusion at all phoneme positions (substitutions or removals)\n",
      "    confusion_probabilities[1::2] = 0.3\n",
      "    \n",
      "    #  - a 1% chance of finding an insertion between all phoneme positions (insertions)\n",
      "    confusion_probabilities[2:-2:2] = 0.01\n",
      "    \n",
      "    #  - a 50% chance of finding insertions of phonemes at beginning and end of words (insertions)\n",
      "    confusion_probabilities[0] = 0.5\n",
      "    confusion_probabilities[-1] = 0.5\n",
      "            \n",
      "    submission.where_task(token_id, confusion_probabilities)\n",
      "    \n",
      "    # Our random guess for the What task assumes:\n",
      "    # Phonemes are represented as strings\n",
      "    # Sequence of phonemes are space joined strings\n",
      "    # A removal is represented as an empty string\n",
      "    for phoneme_index, phoneme in enumerate(phonemes):\n",
      "        index = phoneme_index * 2 + 1\n",
      "        \n",
      "        #  - a 50% chance of not changing the phoneme\n",
      "        submission.what_task(token_id, index, phoneme, 0.5)\n",
      "\n",
      "        #  - a 5% chance of phoneme removal\n",
      "        submission.what_task(token_id, index, '', 0.05)\n",
      "        \n",
      "    # Our random guess for the Full task assumes:\n",
      "    #  - a 10% chance of reporting the pronunciation of the presented utterance\n",
      "    submission.full_task(token_id, ' '.join(pronunciation), 0.1)"
     ],
     "language": "python",
     "metadata": {},
     "outputs": [],
     "prompt_number": 48
    },
    {
     "cell_type": "markdown",
     "metadata": {},
     "source": [
      "Once the submission has been created we can print the predictions of a given token.\n",
      "This is also useful to understand the JSON format of a submission."
     ]
    },
    {
     "cell_type": "code",
     "collapsed": false,
     "input": [
      "inspire.pprint(submission['tokens']['35541'])"
     ],
     "language": "python",
     "metadata": {},
     "outputs": [
      {
       "output_type": "stream",
       "stream": "stdout",
       "text": [
        "{u'full': {u'p e k \u02c8e \u0272 o s': 0.1},\n",
        " u'what': {'1': {'': 0.05, u'p': 0.5},\n",
        "           '11': {'': 0.05, u'o': 0.5},\n",
        "           '13': {'': 0.05, u's': 0.5},\n",
        "           '3': {'': 0.05, u'e': 0.5},\n",
        "           '5': {'': 0.05, u'k': 0.5},\n",
        "           '7': {'': 0.05, u'\u02c8e': 0.5},\n",
        "           '9': {'': 0.05, u'\u0272': 0.5}},\n",
        " u'where': [0.5,\n",
        "            0.29999999999999999,\n",
        "            0.01,\n",
        "            0.29999999999999999,\n",
        "            0.01,\n",
        "            0.29999999999999999,\n",
        "            0.01,\n",
        "            0.29999999999999999,\n",
        "            0.01,\n",
        "            0.29999999999999999,\n",
        "            0.01,\n",
        "            0.29999999999999999,\n",
        "            0.01,\n",
        "            0.29999999999999999,\n",
        "            0.5]}\n"
       ]
      }
     ],
     "prompt_number": 49
    },
    {
     "cell_type": "markdown",
     "metadata": {},
     "source": [
      "We can also save the submission as a JSON file."
     ]
    },
    {
     "cell_type": "code",
     "collapsed": false,
     "input": [
      "submission.save('submission_random_guess.json')"
     ],
     "language": "python",
     "metadata": {},
     "outputs": [],
     "prompt_number": 50
    },
    {
     "cell_type": "markdown",
     "metadata": {},
     "source": [
      "### Evaluating before submitting\n",
      "\n",
      "Sometimes we might not want to submit, and simply evaluate a submission.  In that case we may call `evaluate()`.\n",
      "\n",
      "The evaluation **may take some time**, especially if the submission covers all tasks and all tokens.\n",
      "\n",
      "If you want quicker results only perform predictions on a subset of the tokens and/or the tasks."
     ]
    },
    {
     "cell_type": "code",
     "collapsed": false,
     "input": [
      "results = submission.evaluate(password='dummypassword')"
     ],
     "language": "python",
     "metadata": {},
     "outputs": [],
     "prompt_number": 51
    },
    {
     "cell_type": "code",
     "collapsed": false,
     "input": [
      "inspire.pprint(results['evaluation']['where']['token_averaged'])\n",
      "inspire.pprint(results['evaluation']['what']['token_averaged'])\n",
      "inspire.pprint(results['evaluation']['full']['token_averaged'])"
     ],
     "language": "python",
     "metadata": {},
     "outputs": [
      {
       "output_type": "stream",
       "stream": "stdout",
       "text": [
        "-4.447249484612775\n",
        "-22.754745016900845\n",
        "-51.46760462341195\n"
       ]
      }
     ],
     "prompt_number": 52
    },
    {
     "cell_type": "markdown",
     "metadata": {},
     "source": [
      "### Sending in the submission\n",
      "\n",
      "The final step is to send the submission. This will save a copy of the submission in the server and return the evaluation results.\n",
      "\n",
      "To submit we simply call the submit function of the submission object that we have created.\n",
      "The email that we have used when creating the submission class is the one that will be used to login to the server.\n",
      "We must also supply the password that we used when we registered to the INSPIRE Challenge website."
     ]
    },
    {
     "cell_type": "code",
     "collapsed": false,
     "input": [
      "results = submission.submit(password='dummypassword')"
     ],
     "language": "python",
     "metadata": {},
     "outputs": [],
     "prompt_number": 26
    },
    {
     "cell_type": "code",
     "collapsed": false,
     "input": [
      "inspire.pprint(results['evaluation']['where']['token_averaged'])\n",
      "inspire.pprint(results['evaluation']['what']['token_averaged'])\n",
      "inspire.pprint(results['evaluation']['full']['token_averaged'])"
     ],
     "language": "python",
     "metadata": {},
     "outputs": [
      {
       "output_type": "stream",
       "stream": "stdout",
       "text": [
        "-4.330608619221855\n",
        "-24.06466661141278\n",
        "-51.24983838293328\n"
       ]
      }
     ],
     "prompt_number": 27
    },
    {
     "cell_type": "code",
     "collapsed": false,
     "input": [],
     "language": "python",
     "metadata": {},
     "outputs": []
    }
   ],
   "metadata": {}
  }
 ]
}