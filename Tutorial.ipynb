{
 "metadata": {
  "name": "",
  "signature": "sha256:932a7243753aef19ebd652c1410b5994d6028f167bb8c60d6609762c0a0a90d9"
 },
 "nbformat": 3,
 "nbformat_minor": 0,
 "worksheets": [
  {
   "cells": [
    {
     "cell_type": "markdown",
     "metadata": {},
     "source": [
      "# Getting started\n",
      "## Installing the necessary module\n",
      "\n",
      "You must first install the `inspire` Python module.\n",
      "\n",
      "This can be done using `pip` by running the following command in your terminal:\n",
      "```\n",
      "pip install inspire\n",
      "```\n",
      "\n",
      "You may also run the following command to upgrade to the latest version:\n",
      "```\n",
      "pip install --upgrade inspire\n",
      "```\n",
      "\n",
      "## Importing the necessary modules\n",
      "To start with we will import the modules we are going to use throughout this tutorial."
     ]
    },
    {
     "cell_type": "code",
     "collapsed": false,
     "input": [
      "import numpy as np\n",
      "import inspire"
     ],
     "language": "python",
     "metadata": {},
     "outputs": [],
     "prompt_number": 1
    },
    {
     "cell_type": "markdown",
     "metadata": {},
     "source": [
      "## The setting\n",
      "An evaluation setting is composed of a dataset, a lexicon and several evaluation parameters. A submission will always be tied to a given evaluation setting.  Therefore our first job is to get an evaluation setting to work on.\n",
      "\n",
      "By not passing any parameters we will be getting the default one.  Currently the default setting is a dataset of words in Spanish and a large vocabulary lexicon in IPA encoding."
     ]
    },
    {
     "cell_type": "code",
     "collapsed": false,
     "input": [
      "setting = inspire.get_evaluation_setting()"
     ],
     "language": "python",
     "metadata": {},
     "outputs": [],
     "prompt_number": 2
    },
    {
     "cell_type": "markdown",
     "metadata": {},
     "source": [
      "## The dataset\n",
      "Next we download the dataset, load it, and have a quick peak of what is in it."
     ]
    },
    {
     "cell_type": "code",
     "collapsed": false,
     "input": [
      "dataset_filename = setting.download_dataset()\n",
      "dataset = inspire.load_dataset(dataset_filename)\n",
      "\n",
      "print('There are {} tokens in dataset'.format(len(dataset['tokens'])))\n",
      "\n",
      "inspire.pprint(dataset['tokens']['35541'])"
     ],
     "language": "python",
     "metadata": {},
     "outputs": [
      {
       "javascript": [
        "//f11ea247-e2af-4f75-884d-e2b120130eb6\n",
        "$(\"head\").append(\"<style> td.pb_widget {     width: auto; } td.pb_widget_fill {     width: 100%; } table.pb {     font-family: monospace;     border: 0;     margin: 0; } table.pb tr { border: 0; } table.pb td {     white-space: nowrap;     border: 0; } div.pb {     border: 1px solid #ddd;     border-radius: 3px; } div.pb_bar {     height: 1.5em; } </style>\")"
       ],
       "metadata": {},
       "output_type": "display_data",
       "text": [
        "<IPython.core.display.Javascript at 0x10c398050>"
       ]
      },
      {
       "javascript": [
        "\n",
        "                  // f11ea247-e2af-4f75-884d-e2b120130eb6 -- used to remove this code blob in the end\n",
        "                  IPython.OutputArea.prototype.cleanProgressBar = function(uuids) {\n",
        "                      // filter by uuid-strings \n",
        "                      var myfilter = function(output) { \n",
        "                          var nuids = uuids.length;\n",
        "                          for (var i=0; i<nuids; i++) {\n",
        "                              if (output.hasOwnProperty('html')) {\n",
        "                                  if (output.html.indexOf(uuids[i]) != -1) {\n",
        "                                      return false;\n",
        "                                  }\n",
        "                              }\n",
        "                              if (output.hasOwnProperty('javascript')) {\n",
        "                                  if (output.javascript.indexOf(uuids[i]) != -1) {\n",
        "                                      return false;\n",
        "                                  }\n",
        "                              }\n",
        "                          }\n",
        "                          // keep all others\n",
        "                          return true;\n",
        "                      };\n",
        "\n",
        "                      // Filter the ouputs\n",
        "                      this.outputs = this.outputs.filter(myfilter);\n",
        "                };\n",
        "                "
       ],
       "metadata": {},
       "output_type": "display_data",
       "text": [
        "<IPython.core.display.Javascript at 0x10c3981d0>"
       ]
      },
      {
       "html": [
        "<div class=\"pb\" id=\"f11ea247-e2af-4f75-884d-e2b120130eb6\"><table class=\"pb ui-widget\"><tr>\n",
        "<td class=\"pb_widget\">Downloading: </td>\n",
        "<td class=\"pb_widget\"><div id=\"5e176d35-4b7c-4e8e-a72d-802e9b7d77a0\">  0%</div></td>\n",
        "<td class=\"pb_widget\"> </td>\n",
        "<td class=\"pb_widget_fill\">\n",
        "        <div class=\"pb_bar\" id=\"581eec24-2163-47f9-8f1d-90d5baaadbac\"></div>\n",
        "        <script type=\"text/javascript\">\n",
        "            $(\"div#581eec24-2163-47f9-8f1d-90d5baaadbac\").progressbar({value: 0, max: 636151});\n",
        "        </script>\n",
        "        </td>\n",
        "<td class=\"pb_widget\"> </td>\n",
        "<td class=\"pb_widget\"><div id=\"c32d7afd-ee3e-44e4-b0df-2b01b16659ef\">ETA:  --:--:--</div></td>\n",
        "<td class=\"pb_widget\"> </td>\n",
        "<td class=\"pb_widget\"><div id=\"95b9cdd0-cdf9-4715-8816-7bdd6db79480\">  0.00  B/s</div></td>\n",
        "</tr></table><div>"
       ],
       "metadata": {},
       "output_type": "display_data",
       "text": [
        "<IPython.core.display.HTML at 0x10c398210>"
       ]
      },
      {
       "javascript": [
        "$('div#5e176d35-4b7c-4e8e-a72d-802e9b7d77a0').text('  1%');"
       ],
       "metadata": {},
       "output_type": "display_data",
       "text": [
        "<IPython.core.display.Javascript at 0x10c398490>"
       ]
      },
      {
       "javascript": [
        "\n",
        "        var $myPB = $(\"div#581eec24-2163-47f9-8f1d-90d5baaadbac\")\n",
        "        if ($myPB.hasClass('ui-progressbar')) {\n",
        "            $myPB.progressbar('value', 8192);\n",
        "        } else {\n",
        "            $myPB.progressbar({value: 0, max: 636151});\n",
        "        }\n",
        "        "
       ],
       "metadata": {},
       "output_type": "display_data",
       "text": [
        "<IPython.core.display.Javascript at 0x10c3984d0>"
       ]
      },
      {
       "javascript": [
        "$('div#c32d7afd-ee3e-44e4-b0df-2b01b16659ef').text('ETA:  0:00:00');"
       ],
       "metadata": {},
       "output_type": "display_data",
       "text": [
        "<IPython.core.display.Javascript at 0x10c398510>"
       ]
      },
      {
       "javascript": [
        "$('div#95b9cdd0-cdf9-4715-8816-7bdd6db79480').text('  7.95 MB/s');"
       ],
       "metadata": {},
       "output_type": "display_data",
       "text": [
        "<IPython.core.display.Javascript at 0x10c398450>"
       ]
      },
      {
       "javascript": [
        "$('div#5e176d35-4b7c-4e8e-a72d-802e9b7d77a0').text('  2%');"
       ],
       "metadata": {},
       "output_type": "display_data",
       "text": [
        "<IPython.core.display.Javascript at 0x10c398550>"
       ]
      },
      {
       "javascript": [
        "\n",
        "        var $myPB = $(\"div#581eec24-2163-47f9-8f1d-90d5baaadbac\")\n",
        "        if ($myPB.hasClass('ui-progressbar')) {\n",
        "            $myPB.progressbar('value', 16384);\n",
        "        } else {\n",
        "            $myPB.progressbar({value: 0, max: 636151});\n",
        "        }\n",
        "        "
       ],
       "metadata": {},
       "output_type": "display_data",
       "text": [
        "<IPython.core.display.Javascript at 0x10c3985d0>"
       ]
      },
      {
       "javascript": [
        "$('div#c32d7afd-ee3e-44e4-b0df-2b01b16659ef').text('ETA:  0:00:00');"
       ],
       "metadata": {},
       "output_type": "display_data",
       "text": [
        "<IPython.core.display.Javascript at 0x10c398610>"
       ]
      },
      {
       "javascript": [
        "$('div#95b9cdd0-cdf9-4715-8816-7bdd6db79480').text('  4.75 MB/s');"
       ],
       "metadata": {},
       "output_type": "display_data",
       "text": [
        "<IPython.core.display.Javascript at 0x10c398650>"
       ]
      },
      {
       "javascript": [
        "$('div#5e176d35-4b7c-4e8e-a72d-802e9b7d77a0').text('  3%');"
       ],
       "metadata": {},
       "output_type": "display_data",
       "text": [
        "<IPython.core.display.Javascript at 0x10c3986d0>"
       ]
      },
      {
       "javascript": [
        "\n",
        "        var $myPB = $(\"div#581eec24-2163-47f9-8f1d-90d5baaadbac\")\n",
        "        if ($myPB.hasClass('ui-progressbar')) {\n",
        "            $myPB.progressbar('value', 24576);\n",
        "        } else {\n",
        "            $myPB.progressbar({value: 0, max: 636151});\n",
        "        }\n",
        "        "
       ],
       "metadata": {},
       "output_type": "display_data",
       "text": [
        "<IPython.core.display.Javascript at 0x10c398710>"
       ]
      },
      {
       "javascript": [
        "$('div#c32d7afd-ee3e-44e4-b0df-2b01b16659ef').text('ETA:  0:00:00');"
       ],
       "metadata": {},
       "output_type": "display_data",
       "text": [
        "<IPython.core.display.Javascript at 0x10c398750>"
       ]
      },
      {
       "javascript": [
        "$('div#95b9cdd0-cdf9-4715-8816-7bdd6db79480').text('  3.89 MB/s');"
       ],
       "metadata": {},
       "output_type": "display_data",
       "text": [
        "<IPython.core.display.Javascript at 0x10c398790>"
       ]
      },
      {
       "javascript": [
        "$('div#5e176d35-4b7c-4e8e-a72d-802e9b7d77a0').text('  5%');"
       ],
       "metadata": {},
       "output_type": "display_data",
       "text": [
        "<IPython.core.display.Javascript at 0x10c3987d0>"
       ]
      },
      {
       "javascript": [
        "\n",
        "        var $myPB = $(\"div#581eec24-2163-47f9-8f1d-90d5baaadbac\")\n",
        "        if ($myPB.hasClass('ui-progressbar')) {\n",
        "            $myPB.progressbar('value', 32768);\n",
        "        } else {\n",
        "            $myPB.progressbar({value: 0, max: 636151});\n",
        "        }\n",
        "        "
       ],
       "metadata": {},
       "output_type": "display_data",
       "text": [
        "<IPython.core.display.Javascript at 0x10c398810>"
       ]
      },
      {
       "javascript": [
        "$('div#c32d7afd-ee3e-44e4-b0df-2b01b16659ef').text('ETA:  0:00:00');"
       ],
       "metadata": {},
       "output_type": "display_data",
       "text": [
        "<IPython.core.display.Javascript at 0x10c398850>"
       ]
      },
      {
       "javascript": [
        "$('div#95b9cdd0-cdf9-4715-8816-7bdd6db79480').text('  3.75 MB/s');"
       ],
       "metadata": {},
       "output_type": "display_data",
       "text": [
        "<IPython.core.display.Javascript at 0x10c398890>"
       ]
      },
      {
       "javascript": [
        "$('div#5e176d35-4b7c-4e8e-a72d-802e9b7d77a0').text('  6%');"
       ],
       "metadata": {},
       "output_type": "display_data",
       "text": [
        "<IPython.core.display.Javascript at 0x10c3988d0>"
       ]
      },
      {
       "javascript": [
        "\n",
        "        var $myPB = $(\"div#581eec24-2163-47f9-8f1d-90d5baaadbac\")\n",
        "        if ($myPB.hasClass('ui-progressbar')) {\n",
        "            $myPB.progressbar('value', 40960);\n",
        "        } else {\n",
        "            $myPB.progressbar({value: 0, max: 636151});\n",
        "        }\n",
        "        "
       ],
       "metadata": {},
       "output_type": "display_data",
       "text": [
        "<IPython.core.display.Javascript at 0x10c398910>"
       ]
      },
      {
       "javascript": [
        "$('div#c32d7afd-ee3e-44e4-b0df-2b01b16659ef').text('ETA:  0:00:00');"
       ],
       "metadata": {},
       "output_type": "display_data",
       "text": [
        "<IPython.core.display.Javascript at 0x10c398950>"
       ]
      },
      {
       "javascript": [
        "$('div#95b9cdd0-cdf9-4715-8816-7bdd6db79480').text('  3.76 MB/s');"
       ],
       "metadata": {},
       "output_type": "display_data",
       "text": [
        "<IPython.core.display.Javascript at 0x10c398990>"
       ]
      },
      {
       "javascript": [
        "$('div#5e176d35-4b7c-4e8e-a72d-802e9b7d77a0').text('  7%');"
       ],
       "metadata": {},
       "output_type": "display_data",
       "text": [
        "<IPython.core.display.Javascript at 0x10c3989d0>"
       ]
      },
      {
       "javascript": [
        "\n",
        "        var $myPB = $(\"div#581eec24-2163-47f9-8f1d-90d5baaadbac\")\n",
        "        if ($myPB.hasClass('ui-progressbar')) {\n",
        "            $myPB.progressbar('value', 49152);\n",
        "        } else {\n",
        "            $myPB.progressbar({value: 0, max: 636151});\n",
        "        }\n",
        "        "
       ],
       "metadata": {},
       "output_type": "display_data",
       "text": [
        "<IPython.core.display.Javascript at 0x10c398a10>"
       ]
      },
      {
       "javascript": [
        "$('div#c32d7afd-ee3e-44e4-b0df-2b01b16659ef').text('ETA:  0:00:00');"
       ],
       "metadata": {},
       "output_type": "display_data",
       "text": [
        "<IPython.core.display.Javascript at 0x10c398a50>"
       ]
      },
      {
       "javascript": [
        "$('div#95b9cdd0-cdf9-4715-8816-7bdd6db79480').text('  3.62 MB/s');"
       ],
       "metadata": {},
       "output_type": "display_data",
       "text": [
        "<IPython.core.display.Javascript at 0x10c398a90>"
       ]
      },
      {
       "javascript": [
        "$('div#5e176d35-4b7c-4e8e-a72d-802e9b7d77a0').text('  9%');"
       ],
       "metadata": {},
       "output_type": "display_data",
       "text": [
        "<IPython.core.display.Javascript at 0x10c398ad0>"
       ]
      },
      {
       "javascript": [
        "\n",
        "        var $myPB = $(\"div#581eec24-2163-47f9-8f1d-90d5baaadbac\")\n",
        "        if ($myPB.hasClass('ui-progressbar')) {\n",
        "            $myPB.progressbar('value', 57344);\n",
        "        } else {\n",
        "            $myPB.progressbar({value: 0, max: 636151});\n",
        "        }\n",
        "        "
       ],
       "metadata": {},
       "output_type": "display_data",
       "text": [
        "<IPython.core.display.Javascript at 0x10c398b10>"
       ]
      },
      {
       "javascript": [
        "$('div#c32d7afd-ee3e-44e4-b0df-2b01b16659ef').text('ETA:  0:00:00');"
       ],
       "metadata": {},
       "output_type": "display_data",
       "text": [
        "<IPython.core.display.Javascript at 0x10c398b50>"
       ]
      },
      {
       "javascript": [
        "$('div#95b9cdd0-cdf9-4715-8816-7bdd6db79480').text('  3.55 MB/s');"
       ],
       "metadata": {},
       "output_type": "display_data",
       "text": [
        "<IPython.core.display.Javascript at 0x10c398b90>"
       ]
      },
      {
       "javascript": [
        "$('div#5e176d35-4b7c-4e8e-a72d-802e9b7d77a0').text(' 10%');"
       ],
       "metadata": {},
       "output_type": "display_data",
       "text": [
        "<IPython.core.display.Javascript at 0x10c398bd0>"
       ]
      },
      {
       "javascript": [
        "\n",
        "        var $myPB = $(\"div#581eec24-2163-47f9-8f1d-90d5baaadbac\")\n",
        "        if ($myPB.hasClass('ui-progressbar')) {\n",
        "            $myPB.progressbar('value', 65536);\n",
        "        } else {\n",
        "            $myPB.progressbar({value: 0, max: 636151});\n",
        "        }\n",
        "        "
       ],
       "metadata": {},
       "output_type": "display_data",
       "text": [
        "<IPython.core.display.Javascript at 0x10c398c10>"
       ]
      },
      {
       "javascript": [
        "$('div#c32d7afd-ee3e-44e4-b0df-2b01b16659ef').text('ETA:  0:00:00');"
       ],
       "metadata": {},
       "output_type": "display_data",
       "text": [
        "<IPython.core.display.Javascript at 0x10c398c50>"
       ]
      },
      {
       "javascript": [
        "$('div#95b9cdd0-cdf9-4715-8816-7bdd6db79480').text('  3.56 MB/s');"
       ],
       "metadata": {},
       "output_type": "display_data",
       "text": [
        "<IPython.core.display.Javascript at 0x10c398c90>"
       ]
      },
      {
       "javascript": [
        "$('div#5e176d35-4b7c-4e8e-a72d-802e9b7d77a0').text(' 11%');"
       ],
       "metadata": {},
       "output_type": "display_data",
       "text": [
        "<IPython.core.display.Javascript at 0x10c398cd0>"
       ]
      },
      {
       "javascript": [
        "\n",
        "        var $myPB = $(\"div#581eec24-2163-47f9-8f1d-90d5baaadbac\")\n",
        "        if ($myPB.hasClass('ui-progressbar')) {\n",
        "            $myPB.progressbar('value', 73728);\n",
        "        } else {\n",
        "            $myPB.progressbar({value: 0, max: 636151});\n",
        "        }\n",
        "        "
       ],
       "metadata": {},
       "output_type": "display_data",
       "text": [
        "<IPython.core.display.Javascript at 0x10c398d10>"
       ]
      },
      {
       "javascript": [
        "$('div#c32d7afd-ee3e-44e4-b0df-2b01b16659ef').text('ETA:  0:00:00');"
       ],
       "metadata": {},
       "output_type": "display_data",
       "text": [
        "<IPython.core.display.Javascript at 0x10c398d50>"
       ]
      },
      {
       "javascript": [
        "$('div#95b9cdd0-cdf9-4715-8816-7bdd6db79480').text('  3.58 MB/s');"
       ],
       "metadata": {},
       "output_type": "display_data",
       "text": [
        "<IPython.core.display.Javascript at 0x10c398d90>"
       ]
      },
      {
       "javascript": [
        "$('div#5e176d35-4b7c-4e8e-a72d-802e9b7d77a0').text(' 12%');"
       ],
       "metadata": {},
       "output_type": "display_data",
       "text": [
        "<IPython.core.display.Javascript at 0x10c398dd0>"
       ]
      },
      {
       "javascript": [
        "\n",
        "        var $myPB = $(\"div#581eec24-2163-47f9-8f1d-90d5baaadbac\")\n",
        "        if ($myPB.hasClass('ui-progressbar')) {\n",
        "            $myPB.progressbar('value', 81920);\n",
        "        } else {\n",
        "            $myPB.progressbar({value: 0, max: 636151});\n",
        "        }\n",
        "        "
       ],
       "metadata": {},
       "output_type": "display_data",
       "text": [
        "<IPython.core.display.Javascript at 0x10c398e10>"
       ]
      },
      {
       "javascript": [
        "$('div#c32d7afd-ee3e-44e4-b0df-2b01b16659ef').text('ETA:  0:00:00');"
       ],
       "metadata": {},
       "output_type": "display_data",
       "text": [
        "<IPython.core.display.Javascript at 0x10c398e50>"
       ]
      },
      {
       "javascript": [
        "$('div#95b9cdd0-cdf9-4715-8816-7bdd6db79480').text('  3.59 MB/s');"
       ],
       "metadata": {},
       "output_type": "display_data",
       "text": [
        "<IPython.core.display.Javascript at 0x10c398e90>"
       ]
      },
      {
       "javascript": [
        "$('div#5e176d35-4b7c-4e8e-a72d-802e9b7d77a0').text(' 14%');"
       ],
       "metadata": {},
       "output_type": "display_data",
       "text": [
        "<IPython.core.display.Javascript at 0x10c398ed0>"
       ]
      },
      {
       "javascript": [
        "\n",
        "        var $myPB = $(\"div#581eec24-2163-47f9-8f1d-90d5baaadbac\")\n",
        "        if ($myPB.hasClass('ui-progressbar')) {\n",
        "            $myPB.progressbar('value', 90112);\n",
        "        } else {\n",
        "            $myPB.progressbar({value: 0, max: 636151});\n",
        "        }\n",
        "        "
       ],
       "metadata": {},
       "output_type": "display_data",
       "text": [
        "<IPython.core.display.Javascript at 0x10c398f10>"
       ]
      },
      {
       "javascript": [
        "$('div#c32d7afd-ee3e-44e4-b0df-2b01b16659ef').text('ETA:  0:00:00');"
       ],
       "metadata": {},
       "output_type": "display_data",
       "text": [
        "<IPython.core.display.Javascript at 0x10c398f10>"
       ]
      },
      {
       "javascript": [
        "$('div#95b9cdd0-cdf9-4715-8816-7bdd6db79480').text('  3.59 MB/s');"
       ],
       "metadata": {},
       "output_type": "display_data",
       "text": [
        "<IPython.core.display.Javascript at 0x10c398f50>"
       ]
      },
      {
       "javascript": [
        "$('div#5e176d35-4b7c-4e8e-a72d-802e9b7d77a0').text(' 15%');"
       ],
       "metadata": {},
       "output_type": "display_data",
       "text": [
        "<IPython.core.display.Javascript at 0x10c398f90>"
       ]
      },
      {
       "javascript": [
        "\n",
        "        var $myPB = $(\"div#581eec24-2163-47f9-8f1d-90d5baaadbac\")\n",
        "        if ($myPB.hasClass('ui-progressbar')) {\n",
        "            $myPB.progressbar('value', 98304);\n",
        "        } else {\n",
        "            $myPB.progressbar({value: 0, max: 636151});\n",
        "        }\n",
        "        "
       ],
       "metadata": {},
       "output_type": "display_data",
       "text": [
        "<IPython.core.display.Javascript at 0x10c398fd0>"
       ]
      },
      {
       "javascript": [
        "$('div#c32d7afd-ee3e-44e4-b0df-2b01b16659ef').text('ETA:  0:00:00');"
       ],
       "metadata": {},
       "output_type": "display_data",
       "text": [
        "<IPython.core.display.Javascript at 0x10c398ed0>"
       ]
      },
      {
       "javascript": [
        "$('div#95b9cdd0-cdf9-4715-8816-7bdd6db79480').text('  3.44 MB/s');"
       ],
       "metadata": {},
       "output_type": "display_data",
       "text": [
        "<IPython.core.display.Javascript at 0x10c398e90>"
       ]
      },
      {
       "javascript": [
        "$('div#5e176d35-4b7c-4e8e-a72d-802e9b7d77a0').text(' 16%');"
       ],
       "metadata": {},
       "output_type": "display_data",
       "text": [
        "<IPython.core.display.Javascript at 0x10c398e50>"
       ]
      },
      {
       "javascript": [
        "\n",
        "        var $myPB = $(\"div#581eec24-2163-47f9-8f1d-90d5baaadbac\")\n",
        "        if ($myPB.hasClass('ui-progressbar')) {\n",
        "            $myPB.progressbar('value', 106496);\n",
        "        } else {\n",
        "            $myPB.progressbar({value: 0, max: 636151});\n",
        "        }\n",
        "        "
       ],
       "metadata": {},
       "output_type": "display_data",
       "text": [
        "<IPython.core.display.Javascript at 0x10c398e10>"
       ]
      },
      {
       "javascript": [
        "$('div#c32d7afd-ee3e-44e4-b0df-2b01b16659ef').text('ETA:  0:00:00');"
       ],
       "metadata": {},
       "output_type": "display_data",
       "text": [
        "<IPython.core.display.Javascript at 0x10c398dd0>"
       ]
      },
      {
       "javascript": [
        "$('div#95b9cdd0-cdf9-4715-8816-7bdd6db79480').text('  3.43 MB/s');"
       ],
       "metadata": {},
       "output_type": "display_data",
       "text": [
        "<IPython.core.display.Javascript at 0x10c398d90>"
       ]
      },
      {
       "javascript": [
        "$('div#5e176d35-4b7c-4e8e-a72d-802e9b7d77a0').text(' 18%');"
       ],
       "metadata": {},
       "output_type": "display_data",
       "text": [
        "<IPython.core.display.Javascript at 0x10c398d50>"
       ]
      },
      {
       "javascript": [
        "\n",
        "        var $myPB = $(\"div#581eec24-2163-47f9-8f1d-90d5baaadbac\")\n",
        "        if ($myPB.hasClass('ui-progressbar')) {\n",
        "            $myPB.progressbar('value', 114688);\n",
        "        } else {\n",
        "            $myPB.progressbar({value: 0, max: 636151});\n",
        "        }\n",
        "        "
       ],
       "metadata": {},
       "output_type": "display_data",
       "text": [
        "<IPython.core.display.Javascript at 0x10c398d10>"
       ]
      },
      {
       "javascript": [
        "$('div#c32d7afd-ee3e-44e4-b0df-2b01b16659ef').text('ETA:  0:00:00');"
       ],
       "metadata": {},
       "output_type": "display_data",
       "text": [
        "<IPython.core.display.Javascript at 0x10c398cd0>"
       ]
      },
      {
       "javascript": [
        "$('div#95b9cdd0-cdf9-4715-8816-7bdd6db79480').text('  3.36 MB/s');"
       ],
       "metadata": {},
       "output_type": "display_data",
       "text": [
        "<IPython.core.display.Javascript at 0x10c398c90>"
       ]
      },
      {
       "javascript": [
        "$('div#5e176d35-4b7c-4e8e-a72d-802e9b7d77a0').text(' 19%');"
       ],
       "metadata": {},
       "output_type": "display_data",
       "text": [
        "<IPython.core.display.Javascript at 0x10c398c50>"
       ]
      },
      {
       "javascript": [
        "\n",
        "        var $myPB = $(\"div#581eec24-2163-47f9-8f1d-90d5baaadbac\")\n",
        "        if ($myPB.hasClass('ui-progressbar')) {\n",
        "            $myPB.progressbar('value', 122880);\n",
        "        } else {\n",
        "            $myPB.progressbar({value: 0, max: 636151});\n",
        "        }\n",
        "        "
       ],
       "metadata": {},
       "output_type": "display_data",
       "text": [
        "<IPython.core.display.Javascript at 0x10c398c10>"
       ]
      },
      {
       "javascript": [
        "$('div#c32d7afd-ee3e-44e4-b0df-2b01b16659ef').text('ETA:  0:00:00');"
       ],
       "metadata": {},
       "output_type": "display_data",
       "text": [
        "<IPython.core.display.Javascript at 0x10c398bd0>"
       ]
      },
      {
       "javascript": [
        "$('div#95b9cdd0-cdf9-4715-8816-7bdd6db79480').text('  3.37 MB/s');"
       ],
       "metadata": {},
       "output_type": "display_data",
       "text": [
        "<IPython.core.display.Javascript at 0x10c398b90>"
       ]
      },
      {
       "javascript": [
        "$('div#5e176d35-4b7c-4e8e-a72d-802e9b7d77a0').text(' 20%');"
       ],
       "metadata": {},
       "output_type": "display_data",
       "text": [
        "<IPython.core.display.Javascript at 0x10c398b50>"
       ]
      },
      {
       "javascript": [
        "\n",
        "        var $myPB = $(\"div#581eec24-2163-47f9-8f1d-90d5baaadbac\")\n",
        "        if ($myPB.hasClass('ui-progressbar')) {\n",
        "            $myPB.progressbar('value', 131072);\n",
        "        } else {\n",
        "            $myPB.progressbar({value: 0, max: 636151});\n",
        "        }\n",
        "        "
       ],
       "metadata": {},
       "output_type": "display_data",
       "text": [
        "<IPython.core.display.Javascript at 0x10c398b10>"
       ]
      },
      {
       "javascript": [
        "$('div#c32d7afd-ee3e-44e4-b0df-2b01b16659ef').text('ETA:  0:00:00');"
       ],
       "metadata": {},
       "output_type": "display_data",
       "text": [
        "<IPython.core.display.Javascript at 0x10c398ad0>"
       ]
      },
      {
       "javascript": [
        "$('div#95b9cdd0-cdf9-4715-8816-7bdd6db79480').text('  3.40 MB/s');"
       ],
       "metadata": {},
       "output_type": "display_data",
       "text": [
        "<IPython.core.display.Javascript at 0x10c398a90>"
       ]
      },
      {
       "javascript": [
        "$('div#5e176d35-4b7c-4e8e-a72d-802e9b7d77a0').text(' 21%');"
       ],
       "metadata": {},
       "output_type": "display_data",
       "text": [
        "<IPython.core.display.Javascript at 0x10c398a50>"
       ]
      },
      {
       "javascript": [
        "\n",
        "        var $myPB = $(\"div#581eec24-2163-47f9-8f1d-90d5baaadbac\")\n",
        "        if ($myPB.hasClass('ui-progressbar')) {\n",
        "            $myPB.progressbar('value', 139264);\n",
        "        } else {\n",
        "            $myPB.progressbar({value: 0, max: 636151});\n",
        "        }\n",
        "        "
       ],
       "metadata": {},
       "output_type": "display_data",
       "text": [
        "<IPython.core.display.Javascript at 0x10c398a10>"
       ]
      },
      {
       "javascript": [
        "$('div#c32d7afd-ee3e-44e4-b0df-2b01b16659ef').text('ETA:  0:00:00');"
       ],
       "metadata": {},
       "output_type": "display_data",
       "text": [
        "<IPython.core.display.Javascript at 0x10c3989d0>"
       ]
      },
      {
       "javascript": [
        "$('div#95b9cdd0-cdf9-4715-8816-7bdd6db79480').text('  3.42 MB/s');"
       ],
       "metadata": {},
       "output_type": "display_data",
       "text": [
        "<IPython.core.display.Javascript at 0x10c398990>"
       ]
      },
      {
       "javascript": [
        "$('div#5e176d35-4b7c-4e8e-a72d-802e9b7d77a0').text(' 23%');"
       ],
       "metadata": {},
       "output_type": "display_data",
       "text": [
        "<IPython.core.display.Javascript at 0x10c398950>"
       ]
      },
      {
       "javascript": [
        "\n",
        "        var $myPB = $(\"div#581eec24-2163-47f9-8f1d-90d5baaadbac\")\n",
        "        if ($myPB.hasClass('ui-progressbar')) {\n",
        "            $myPB.progressbar('value', 147456);\n",
        "        } else {\n",
        "            $myPB.progressbar({value: 0, max: 636151});\n",
        "        }\n",
        "        "
       ],
       "metadata": {},
       "output_type": "display_data",
       "text": [
        "<IPython.core.display.Javascript at 0x10c398910>"
       ]
      },
      {
       "javascript": [
        "$('div#c32d7afd-ee3e-44e4-b0df-2b01b16659ef').text('ETA:  0:00:00');"
       ],
       "metadata": {},
       "output_type": "display_data",
       "text": [
        "<IPython.core.display.Javascript at 0x10c3988d0>"
       ]
      },
      {
       "javascript": [
        "$('div#95b9cdd0-cdf9-4715-8816-7bdd6db79480').text('  3.45 MB/s');"
       ],
       "metadata": {},
       "output_type": "display_data",
       "text": [
        "<IPython.core.display.Javascript at 0x10c398890>"
       ]
      },
      {
       "javascript": [
        "$('div#5e176d35-4b7c-4e8e-a72d-802e9b7d77a0').text(' 24%');"
       ],
       "metadata": {},
       "output_type": "display_data",
       "text": [
        "<IPython.core.display.Javascript at 0x10c398850>"
       ]
      },
      {
       "javascript": [
        "\n",
        "        var $myPB = $(\"div#581eec24-2163-47f9-8f1d-90d5baaadbac\")\n",
        "        if ($myPB.hasClass('ui-progressbar')) {\n",
        "            $myPB.progressbar('value', 155648);\n",
        "        } else {\n",
        "            $myPB.progressbar({value: 0, max: 636151});\n",
        "        }\n",
        "        "
       ],
       "metadata": {},
       "output_type": "display_data",
       "text": [
        "<IPython.core.display.Javascript at 0x10c398810>"
       ]
      },
      {
       "javascript": [
        "$('div#c32d7afd-ee3e-44e4-b0df-2b01b16659ef').text('ETA:  0:00:00');"
       ],
       "metadata": {},
       "output_type": "display_data",
       "text": [
        "<IPython.core.display.Javascript at 0x10c3987d0>"
       ]
      },
      {
       "javascript": [
        "$('div#95b9cdd0-cdf9-4715-8816-7bdd6db79480').text('  3.45 MB/s');"
       ],
       "metadata": {},
       "output_type": "display_data",
       "text": [
        "<IPython.core.display.Javascript at 0x10c398790>"
       ]
      },
      {
       "javascript": [
        "$('div#5e176d35-4b7c-4e8e-a72d-802e9b7d77a0').text(' 25%');"
       ],
       "metadata": {},
       "output_type": "display_data",
       "text": [
        "<IPython.core.display.Javascript at 0x10c398750>"
       ]
      },
      {
       "javascript": [
        "\n",
        "        var $myPB = $(\"div#581eec24-2163-47f9-8f1d-90d5baaadbac\")\n",
        "        if ($myPB.hasClass('ui-progressbar')) {\n",
        "            $myPB.progressbar('value', 163840);\n",
        "        } else {\n",
        "            $myPB.progressbar({value: 0, max: 636151});\n",
        "        }\n",
        "        "
       ],
       "metadata": {},
       "output_type": "display_data",
       "text": [
        "<IPython.core.display.Javascript at 0x10c398710>"
       ]
      },
      {
       "javascript": [
        "$('div#c32d7afd-ee3e-44e4-b0df-2b01b16659ef').text('ETA:  0:00:00');"
       ],
       "metadata": {},
       "output_type": "display_data",
       "text": [
        "<IPython.core.display.Javascript at 0x10c3986d0>"
       ]
      },
      {
       "javascript": [
        "$('div#95b9cdd0-cdf9-4715-8816-7bdd6db79480').text('  3.47 MB/s');"
       ],
       "metadata": {},
       "output_type": "display_data",
       "text": [
        "<IPython.core.display.Javascript at 0x10c398650>"
       ]
      },
      {
       "javascript": [
        "$('div#5e176d35-4b7c-4e8e-a72d-802e9b7d77a0').text(' 27%');"
       ],
       "metadata": {},
       "output_type": "display_data",
       "text": [
        "<IPython.core.display.Javascript at 0x10c398610>"
       ]
      },
      {
       "javascript": [
        "\n",
        "        var $myPB = $(\"div#581eec24-2163-47f9-8f1d-90d5baaadbac\")\n",
        "        if ($myPB.hasClass('ui-progressbar')) {\n",
        "            $myPB.progressbar('value', 172032);\n",
        "        } else {\n",
        "            $myPB.progressbar({value: 0, max: 636151});\n",
        "        }\n",
        "        "
       ],
       "metadata": {},
       "output_type": "display_data",
       "text": [
        "<IPython.core.display.Javascript at 0x10c3985d0>"
       ]
      },
      {
       "javascript": [
        "$('div#c32d7afd-ee3e-44e4-b0df-2b01b16659ef').text('ETA:  0:00:00');"
       ],
       "metadata": {},
       "output_type": "display_data",
       "text": [
        "<IPython.core.display.Javascript at 0x10c398550>"
       ]
      },
      {
       "javascript": [
        "$('div#95b9cdd0-cdf9-4715-8816-7bdd6db79480').text('  3.49 MB/s');"
       ],
       "metadata": {},
       "output_type": "display_data",
       "text": [
        "<IPython.core.display.Javascript at 0x10c398450>"
       ]
      },
      {
       "javascript": [
        "$('div#5e176d35-4b7c-4e8e-a72d-802e9b7d77a0').text(' 28%');"
       ],
       "metadata": {},
       "output_type": "display_data",
       "text": [
        "<IPython.core.display.Javascript at 0x10c398510>"
       ]
      },
      {
       "javascript": [
        "\n",
        "        var $myPB = $(\"div#581eec24-2163-47f9-8f1d-90d5baaadbac\")\n",
        "        if ($myPB.hasClass('ui-progressbar')) {\n",
        "            $myPB.progressbar('value', 180224);\n",
        "        } else {\n",
        "            $myPB.progressbar({value: 0, max: 636151});\n",
        "        }\n",
        "        "
       ],
       "metadata": {},
       "output_type": "display_data",
       "text": [
        "<IPython.core.display.Javascript at 0x10c3984d0>"
       ]
      },
      {
       "javascript": [
        "$('div#c32d7afd-ee3e-44e4-b0df-2b01b16659ef').text('ETA:  0:00:00');"
       ],
       "metadata": {},
       "output_type": "display_data",
       "text": [
        "<IPython.core.display.Javascript at 0x10c398490>"
       ]
      },
      {
       "javascript": [
        "$('div#95b9cdd0-cdf9-4715-8816-7bdd6db79480').text('  3.51 MB/s');"
       ],
       "metadata": {},
       "output_type": "display_data",
       "text": [
        "<IPython.core.display.Javascript at 0x10c398210>"
       ]
      },
      {
       "javascript": [
        "$('div#5e176d35-4b7c-4e8e-a72d-802e9b7d77a0').text(' 29%');"
       ],
       "metadata": {},
       "output_type": "display_data",
       "text": [
        "<IPython.core.display.Javascript at 0x10c3981d0>"
       ]
      },
      {
       "javascript": [
        "\n",
        "        var $myPB = $(\"div#581eec24-2163-47f9-8f1d-90d5baaadbac\")\n",
        "        if ($myPB.hasClass('ui-progressbar')) {\n",
        "            $myPB.progressbar('value', 188416);\n",
        "        } else {\n",
        "            $myPB.progressbar({value: 0, max: 636151});\n",
        "        }\n",
        "        "
       ],
       "metadata": {},
       "output_type": "display_data",
       "text": [
        "<IPython.core.display.Javascript at 0x10c398050>"
       ]
      },
      {
       "javascript": [
        "$('div#c32d7afd-ee3e-44e4-b0df-2b01b16659ef').text('ETA:  0:00:00');"
       ],
       "metadata": {},
       "output_type": "display_data",
       "text": [
        "<IPython.core.display.Javascript at 0x10c398690>"
       ]
      },
      {
       "javascript": [
        "$('div#95b9cdd0-cdf9-4715-8816-7bdd6db79480').text('  3.53 MB/s');"
       ],
       "metadata": {},
       "output_type": "display_data",
       "text": [
        "<IPython.core.display.Javascript at 0x10c3b8050>"
       ]
      },
      {
       "javascript": [
        "$('div#5e176d35-4b7c-4e8e-a72d-802e9b7d77a0').text(' 30%');"
       ],
       "metadata": {},
       "output_type": "display_data",
       "text": [
        "<IPython.core.display.Javascript at 0x10c3b8090>"
       ]
      },
      {
       "javascript": [
        "\n",
        "        var $myPB = $(\"div#581eec24-2163-47f9-8f1d-90d5baaadbac\")\n",
        "        if ($myPB.hasClass('ui-progressbar')) {\n",
        "            $myPB.progressbar('value', 196608);\n",
        "        } else {\n",
        "            $myPB.progressbar({value: 0, max: 636151});\n",
        "        }\n",
        "        "
       ],
       "metadata": {},
       "output_type": "display_data",
       "text": [
        "<IPython.core.display.Javascript at 0x10c3b80d0>"
       ]
      },
      {
       "javascript": [
        "$('div#c32d7afd-ee3e-44e4-b0df-2b01b16659ef').text('ETA:  0:00:00');"
       ],
       "metadata": {},
       "output_type": "display_data",
       "text": [
        "<IPython.core.display.Javascript at 0x10c3b8110>"
       ]
      },
      {
       "javascript": [
        "$('div#95b9cdd0-cdf9-4715-8816-7bdd6db79480').text('  3.52 MB/s');"
       ],
       "metadata": {},
       "output_type": "display_data",
       "text": [
        "<IPython.core.display.Javascript at 0x10c3b8190>"
       ]
      },
      {
       "javascript": [
        "$('div#5e176d35-4b7c-4e8e-a72d-802e9b7d77a0').text(' 32%');"
       ],
       "metadata": {},
       "output_type": "display_data",
       "text": [
        "<IPython.core.display.Javascript at 0x10c3b81d0>"
       ]
      },
      {
       "javascript": [
        "\n",
        "        var $myPB = $(\"div#581eec24-2163-47f9-8f1d-90d5baaadbac\")\n",
        "        if ($myPB.hasClass('ui-progressbar')) {\n",
        "            $myPB.progressbar('value', 204800);\n",
        "        } else {\n",
        "            $myPB.progressbar({value: 0, max: 636151});\n",
        "        }\n",
        "        "
       ],
       "metadata": {},
       "output_type": "display_data",
       "text": [
        "<IPython.core.display.Javascript at 0x10c3b8210>"
       ]
      },
      {
       "javascript": [
        "$('div#c32d7afd-ee3e-44e4-b0df-2b01b16659ef').text('ETA:  0:00:00');"
       ],
       "metadata": {},
       "output_type": "display_data",
       "text": [
        "<IPython.core.display.Javascript at 0x10c3b8250>"
       ]
      },
      {
       "javascript": [
        "$('div#95b9cdd0-cdf9-4715-8816-7bdd6db79480').text('  3.54 MB/s');"
       ],
       "metadata": {},
       "output_type": "display_data",
       "text": [
        "<IPython.core.display.Javascript at 0x10c3b8290>"
       ]
      },
      {
       "javascript": [
        "$('div#5e176d35-4b7c-4e8e-a72d-802e9b7d77a0').text(' 33%');"
       ],
       "metadata": {},
       "output_type": "display_data",
       "text": [
        "<IPython.core.display.Javascript at 0x10c3b82d0>"
       ]
      },
      {
       "javascript": [
        "\n",
        "        var $myPB = $(\"div#581eec24-2163-47f9-8f1d-90d5baaadbac\")\n",
        "        if ($myPB.hasClass('ui-progressbar')) {\n",
        "            $myPB.progressbar('value', 212992);\n",
        "        } else {\n",
        "            $myPB.progressbar({value: 0, max: 636151});\n",
        "        }\n",
        "        "
       ],
       "metadata": {},
       "output_type": "display_data",
       "text": [
        "<IPython.core.display.Javascript at 0x10c3b8310>"
       ]
      },
      {
       "javascript": [
        "$('div#c32d7afd-ee3e-44e4-b0df-2b01b16659ef').text('ETA:  0:00:00');"
       ],
       "metadata": {},
       "output_type": "display_data",
       "text": [
        "<IPython.core.display.Javascript at 0x10c3b8350>"
       ]
      },
      {
       "javascript": [
        "$('div#95b9cdd0-cdf9-4715-8816-7bdd6db79480').text('  3.55 MB/s');"
       ],
       "metadata": {},
       "output_type": "display_data",
       "text": [
        "<IPython.core.display.Javascript at 0x10c3b8390>"
       ]
      },
      {
       "javascript": [
        "$('div#5e176d35-4b7c-4e8e-a72d-802e9b7d77a0').text(' 34%');"
       ],
       "metadata": {},
       "output_type": "display_data",
       "text": [
        "<IPython.core.display.Javascript at 0x10c3b83d0>"
       ]
      },
      {
       "javascript": [
        "\n",
        "        var $myPB = $(\"div#581eec24-2163-47f9-8f1d-90d5baaadbac\")\n",
        "        if ($myPB.hasClass('ui-progressbar')) {\n",
        "            $myPB.progressbar('value', 221184);\n",
        "        } else {\n",
        "            $myPB.progressbar({value: 0, max: 636151});\n",
        "        }\n",
        "        "
       ],
       "metadata": {},
       "output_type": "display_data",
       "text": [
        "<IPython.core.display.Javascript at 0x10c3b8410>"
       ]
      },
      {
       "javascript": [
        "$('div#c32d7afd-ee3e-44e4-b0df-2b01b16659ef').text('ETA:  0:00:00');"
       ],
       "metadata": {},
       "output_type": "display_data",
       "text": [
        "<IPython.core.display.Javascript at 0x10c3b8450>"
       ]
      },
      {
       "javascript": [
        "$('div#95b9cdd0-cdf9-4715-8816-7bdd6db79480').text('  3.56 MB/s');"
       ],
       "metadata": {},
       "output_type": "display_data",
       "text": [
        "<IPython.core.display.Javascript at 0x10c3b8490>"
       ]
      },
      {
       "javascript": [
        "$('div#5e176d35-4b7c-4e8e-a72d-802e9b7d77a0').text(' 36%');"
       ],
       "metadata": {},
       "output_type": "display_data",
       "text": [
        "<IPython.core.display.Javascript at 0x10c3b84d0>"
       ]
      },
      {
       "javascript": [
        "\n",
        "        var $myPB = $(\"div#581eec24-2163-47f9-8f1d-90d5baaadbac\")\n",
        "        if ($myPB.hasClass('ui-progressbar')) {\n",
        "            $myPB.progressbar('value', 229376);\n",
        "        } else {\n",
        "            $myPB.progressbar({value: 0, max: 636151});\n",
        "        }\n",
        "        "
       ],
       "metadata": {},
       "output_type": "display_data",
       "text": [
        "<IPython.core.display.Javascript at 0x10c3b8510>"
       ]
      },
      {
       "javascript": [
        "$('div#c32d7afd-ee3e-44e4-b0df-2b01b16659ef').text('ETA:  0:00:00');"
       ],
       "metadata": {},
       "output_type": "display_data",
       "text": [
        "<IPython.core.display.Javascript at 0x10c3b8550>"
       ]
      },
      {
       "javascript": [
        "$('div#95b9cdd0-cdf9-4715-8816-7bdd6db79480').text('  3.56 MB/s');"
       ],
       "metadata": {},
       "output_type": "display_data",
       "text": [
        "<IPython.core.display.Javascript at 0x10c3b8590>"
       ]
      },
      {
       "javascript": [
        "$('div#5e176d35-4b7c-4e8e-a72d-802e9b7d77a0').text(' 37%');"
       ],
       "metadata": {},
       "output_type": "display_data",
       "text": [
        "<IPython.core.display.Javascript at 0x10c3b85d0>"
       ]
      },
      {
       "javascript": [
        "\n",
        "        var $myPB = $(\"div#581eec24-2163-47f9-8f1d-90d5baaadbac\")\n",
        "        if ($myPB.hasClass('ui-progressbar')) {\n",
        "            $myPB.progressbar('value', 237568);\n",
        "        } else {\n",
        "            $myPB.progressbar({value: 0, max: 636151});\n",
        "        }\n",
        "        "
       ],
       "metadata": {},
       "output_type": "display_data",
       "text": [
        "<IPython.core.display.Javascript at 0x10c3b8610>"
       ]
      },
      {
       "javascript": [
        "$('div#c32d7afd-ee3e-44e4-b0df-2b01b16659ef').text('ETA:  0:00:00');"
       ],
       "metadata": {},
       "output_type": "display_data",
       "text": [
        "<IPython.core.display.Javascript at 0x10c3b8650>"
       ]
      },
      {
       "javascript": [
        "$('div#95b9cdd0-cdf9-4715-8816-7bdd6db79480').text('  3.57 MB/s');"
       ],
       "metadata": {},
       "output_type": "display_data",
       "text": [
        "<IPython.core.display.Javascript at 0x10c3b8690>"
       ]
      },
      {
       "javascript": [
        "$('div#5e176d35-4b7c-4e8e-a72d-802e9b7d77a0').text(' 38%');"
       ],
       "metadata": {},
       "output_type": "display_data",
       "text": [
        "<IPython.core.display.Javascript at 0x10c3b86d0>"
       ]
      },
      {
       "javascript": [
        "\n",
        "        var $myPB = $(\"div#581eec24-2163-47f9-8f1d-90d5baaadbac\")\n",
        "        if ($myPB.hasClass('ui-progressbar')) {\n",
        "            $myPB.progressbar('value', 245760);\n",
        "        } else {\n",
        "            $myPB.progressbar({value: 0, max: 636151});\n",
        "        }\n",
        "        "
       ],
       "metadata": {},
       "output_type": "display_data",
       "text": [
        "<IPython.core.display.Javascript at 0x10c3b8710>"
       ]
      },
      {
       "javascript": [
        "$('div#c32d7afd-ee3e-44e4-b0df-2b01b16659ef').text('ETA:  0:00:00');"
       ],
       "metadata": {},
       "output_type": "display_data",
       "text": [
        "<IPython.core.display.Javascript at 0x10c3b8750>"
       ]
      },
      {
       "javascript": [
        "$('div#95b9cdd0-cdf9-4715-8816-7bdd6db79480').text('  3.58 MB/s');"
       ],
       "metadata": {},
       "output_type": "display_data",
       "text": [
        "<IPython.core.display.Javascript at 0x10c3b8790>"
       ]
      },
      {
       "javascript": [
        "$('div#5e176d35-4b7c-4e8e-a72d-802e9b7d77a0').text(' 39%');"
       ],
       "metadata": {},
       "output_type": "display_data",
       "text": [
        "<IPython.core.display.Javascript at 0x10c3b87d0>"
       ]
      },
      {
       "javascript": [
        "\n",
        "        var $myPB = $(\"div#581eec24-2163-47f9-8f1d-90d5baaadbac\")\n",
        "        if ($myPB.hasClass('ui-progressbar')) {\n",
        "            $myPB.progressbar('value', 253952);\n",
        "        } else {\n",
        "            $myPB.progressbar({value: 0, max: 636151});\n",
        "        }\n",
        "        "
       ],
       "metadata": {},
       "output_type": "display_data",
       "text": [
        "<IPython.core.display.Javascript at 0x10c398690>"
       ]
      },
      {
       "javascript": [
        "$('div#c32d7afd-ee3e-44e4-b0df-2b01b16659ef').text('ETA:  0:00:00');"
       ],
       "metadata": {},
       "output_type": "display_data",
       "text": [
        "<IPython.core.display.Javascript at 0x10c398050>"
       ]
      },
      {
       "javascript": [
        "$('div#95b9cdd0-cdf9-4715-8816-7bdd6db79480').text('  3.58 MB/s');"
       ],
       "metadata": {},
       "output_type": "display_data",
       "text": [
        "<IPython.core.display.Javascript at 0x10c3981d0>"
       ]
      },
      {
       "javascript": [
        "$('div#5e176d35-4b7c-4e8e-a72d-802e9b7d77a0').text(' 41%');"
       ],
       "metadata": {},
       "output_type": "display_data",
       "text": [
        "<IPython.core.display.Javascript at 0x10c398210>"
       ]
      },
      {
       "javascript": [
        "\n",
        "        var $myPB = $(\"div#581eec24-2163-47f9-8f1d-90d5baaadbac\")\n",
        "        if ($myPB.hasClass('ui-progressbar')) {\n",
        "            $myPB.progressbar('value', 262144);\n",
        "        } else {\n",
        "            $myPB.progressbar({value: 0, max: 636151});\n",
        "        }\n",
        "        "
       ],
       "metadata": {},
       "output_type": "display_data",
       "text": [
        "<IPython.core.display.Javascript at 0x10c3984d0>"
       ]
      },
      {
       "javascript": [
        "$('div#c32d7afd-ee3e-44e4-b0df-2b01b16659ef').text('ETA:  0:00:00');"
       ],
       "metadata": {},
       "output_type": "display_data",
       "text": [
        "<IPython.core.display.Javascript at 0x10c398510>"
       ]
      },
      {
       "javascript": [
        "$('div#95b9cdd0-cdf9-4715-8816-7bdd6db79480').text('  3.58 MB/s');"
       ],
       "metadata": {},
       "output_type": "display_data",
       "text": [
        "<IPython.core.display.Javascript at 0x10c398450>"
       ]
      },
      {
       "javascript": [
        "$('div#5e176d35-4b7c-4e8e-a72d-802e9b7d77a0').text(' 42%');"
       ],
       "metadata": {},
       "output_type": "display_data",
       "text": [
        "<IPython.core.display.Javascript at 0x10c398550>"
       ]
      },
      {
       "javascript": [
        "\n",
        "        var $myPB = $(\"div#581eec24-2163-47f9-8f1d-90d5baaadbac\")\n",
        "        if ($myPB.hasClass('ui-progressbar')) {\n",
        "            $myPB.progressbar('value', 270336);\n",
        "        } else {\n",
        "            $myPB.progressbar({value: 0, max: 636151});\n",
        "        }\n",
        "        "
       ],
       "metadata": {},
       "output_type": "display_data",
       "text": [
        "<IPython.core.display.Javascript at 0x10c3985d0>"
       ]
      },
      {
       "javascript": [
        "$('div#c32d7afd-ee3e-44e4-b0df-2b01b16659ef').text('ETA:  0:00:00');"
       ],
       "metadata": {},
       "output_type": "display_data",
       "text": [
        "<IPython.core.display.Javascript at 0x10c398610>"
       ]
      },
      {
       "javascript": [
        "$('div#95b9cdd0-cdf9-4715-8816-7bdd6db79480').text('  3.60 MB/s');"
       ],
       "metadata": {},
       "output_type": "display_data",
       "text": [
        "<IPython.core.display.Javascript at 0x10c398650>"
       ]
      },
      {
       "javascript": [
        "$('div#5e176d35-4b7c-4e8e-a72d-802e9b7d77a0').text(' 43%');"
       ],
       "metadata": {},
       "output_type": "display_data",
       "text": [
        "<IPython.core.display.Javascript at 0x10c3986d0>"
       ]
      },
      {
       "javascript": [
        "\n",
        "        var $myPB = $(\"div#581eec24-2163-47f9-8f1d-90d5baaadbac\")\n",
        "        if ($myPB.hasClass('ui-progressbar')) {\n",
        "            $myPB.progressbar('value', 278528);\n",
        "        } else {\n",
        "            $myPB.progressbar({value: 0, max: 636151});\n",
        "        }\n",
        "        "
       ],
       "metadata": {},
       "output_type": "display_data",
       "text": [
        "<IPython.core.display.Javascript at 0x10c398710>"
       ]
      },
      {
       "javascript": [
        "$('div#c32d7afd-ee3e-44e4-b0df-2b01b16659ef').text('ETA:  0:00:00');"
       ],
       "metadata": {},
       "output_type": "display_data",
       "text": [
        "<IPython.core.display.Javascript at 0x10c398750>"
       ]
      },
      {
       "javascript": [
        "$('div#95b9cdd0-cdf9-4715-8816-7bdd6db79480').text('  3.60 MB/s');"
       ],
       "metadata": {},
       "output_type": "display_data",
       "text": [
        "<IPython.core.display.Javascript at 0x10c398790>"
       ]
      },
      {
       "javascript": [
        "$('div#5e176d35-4b7c-4e8e-a72d-802e9b7d77a0').text(' 45%');"
       ],
       "metadata": {},
       "output_type": "display_data",
       "text": [
        "<IPython.core.display.Javascript at 0x10c3987d0>"
       ]
      },
      {
       "javascript": [
        "\n",
        "        var $myPB = $(\"div#581eec24-2163-47f9-8f1d-90d5baaadbac\")\n",
        "        if ($myPB.hasClass('ui-progressbar')) {\n",
        "            $myPB.progressbar('value', 286720);\n",
        "        } else {\n",
        "            $myPB.progressbar({value: 0, max: 636151});\n",
        "        }\n",
        "        "
       ],
       "metadata": {},
       "output_type": "display_data",
       "text": [
        "<IPython.core.display.Javascript at 0x10c398810>"
       ]
      },
      {
       "javascript": [
        "$('div#c32d7afd-ee3e-44e4-b0df-2b01b16659ef').text('ETA:  0:00:00');"
       ],
       "metadata": {},
       "output_type": "display_data",
       "text": [
        "<IPython.core.display.Javascript at 0x10c398850>"
       ]
      },
      {
       "javascript": [
        "$('div#95b9cdd0-cdf9-4715-8816-7bdd6db79480').text('  3.59 MB/s');"
       ],
       "metadata": {},
       "output_type": "display_data",
       "text": [
        "<IPython.core.display.Javascript at 0x10c398890>"
       ]
      },
      {
       "javascript": [
        "$('div#5e176d35-4b7c-4e8e-a72d-802e9b7d77a0').text(' 46%');"
       ],
       "metadata": {},
       "output_type": "display_data",
       "text": [
        "<IPython.core.display.Javascript at 0x10c3988d0>"
       ]
      },
      {
       "javascript": [
        "\n",
        "        var $myPB = $(\"div#581eec24-2163-47f9-8f1d-90d5baaadbac\")\n",
        "        if ($myPB.hasClass('ui-progressbar')) {\n",
        "            $myPB.progressbar('value', 294912);\n",
        "        } else {\n",
        "            $myPB.progressbar({value: 0, max: 636151});\n",
        "        }\n",
        "        "
       ],
       "metadata": {},
       "output_type": "display_data",
       "text": [
        "<IPython.core.display.Javascript at 0x10c398910>"
       ]
      },
      {
       "javascript": [
        "$('div#c32d7afd-ee3e-44e4-b0df-2b01b16659ef').text('ETA:  0:00:00');"
       ],
       "metadata": {},
       "output_type": "display_data",
       "text": [
        "<IPython.core.display.Javascript at 0x10c398950>"
       ]
      },
      {
       "javascript": [
        "$('div#95b9cdd0-cdf9-4715-8816-7bdd6db79480').text('  3.58 MB/s');"
       ],
       "metadata": {},
       "output_type": "display_data",
       "text": [
        "<IPython.core.display.Javascript at 0x10c398990>"
       ]
      },
      {
       "javascript": [
        "$('div#5e176d35-4b7c-4e8e-a72d-802e9b7d77a0').text(' 47%');"
       ],
       "metadata": {},
       "output_type": "display_data",
       "text": [
        "<IPython.core.display.Javascript at 0x10c3989d0>"
       ]
      },
      {
       "javascript": [
        "\n",
        "        var $myPB = $(\"div#581eec24-2163-47f9-8f1d-90d5baaadbac\")\n",
        "        if ($myPB.hasClass('ui-progressbar')) {\n",
        "            $myPB.progressbar('value', 303104);\n",
        "        } else {\n",
        "            $myPB.progressbar({value: 0, max: 636151});\n",
        "        }\n",
        "        "
       ],
       "metadata": {},
       "output_type": "display_data",
       "text": [
        "<IPython.core.display.Javascript at 0x10c398a10>"
       ]
      },
      {
       "javascript": [
        "$('div#c32d7afd-ee3e-44e4-b0df-2b01b16659ef').text('ETA:  0:00:00');"
       ],
       "metadata": {},
       "output_type": "display_data",
       "text": [
        "<IPython.core.display.Javascript at 0x10c398a50>"
       ]
      },
      {
       "javascript": [
        "$('div#95b9cdd0-cdf9-4715-8816-7bdd6db79480').text('  3.58 MB/s');"
       ],
       "metadata": {},
       "output_type": "display_data",
       "text": [
        "<IPython.core.display.Javascript at 0x10c398a90>"
       ]
      },
      {
       "javascript": [
        "$('div#5e176d35-4b7c-4e8e-a72d-802e9b7d77a0').text(' 48%');"
       ],
       "metadata": {},
       "output_type": "display_data",
       "text": [
        "<IPython.core.display.Javascript at 0x10c398ad0>"
       ]
      },
      {
       "javascript": [
        "\n",
        "        var $myPB = $(\"div#581eec24-2163-47f9-8f1d-90d5baaadbac\")\n",
        "        if ($myPB.hasClass('ui-progressbar')) {\n",
        "            $myPB.progressbar('value', 311296);\n",
        "        } else {\n",
        "            $myPB.progressbar({value: 0, max: 636151});\n",
        "        }\n",
        "        "
       ],
       "metadata": {},
       "output_type": "display_data",
       "text": [
        "<IPython.core.display.Javascript at 0x10c398b10>"
       ]
      },
      {
       "javascript": [
        "$('div#c32d7afd-ee3e-44e4-b0df-2b01b16659ef').text('ETA:  0:00:00');"
       ],
       "metadata": {},
       "output_type": "display_data",
       "text": [
        "<IPython.core.display.Javascript at 0x10c398b50>"
       ]
      },
      {
       "javascript": [
        "$('div#95b9cdd0-cdf9-4715-8816-7bdd6db79480').text('  3.59 MB/s');"
       ],
       "metadata": {},
       "output_type": "display_data",
       "text": [
        "<IPython.core.display.Javascript at 0x10c398b90>"
       ]
      },
      {
       "javascript": [
        "$('div#5e176d35-4b7c-4e8e-a72d-802e9b7d77a0').text(' 50%');"
       ],
       "metadata": {},
       "output_type": "display_data",
       "text": [
        "<IPython.core.display.Javascript at 0x10c398bd0>"
       ]
      },
      {
       "javascript": [
        "\n",
        "        var $myPB = $(\"div#581eec24-2163-47f9-8f1d-90d5baaadbac\")\n",
        "        if ($myPB.hasClass('ui-progressbar')) {\n",
        "            $myPB.progressbar('value', 319488);\n",
        "        } else {\n",
        "            $myPB.progressbar({value: 0, max: 636151});\n",
        "        }\n",
        "        "
       ],
       "metadata": {},
       "output_type": "display_data",
       "text": [
        "<IPython.core.display.Javascript at 0x10c398c10>"
       ]
      },
      {
       "javascript": [
        "$('div#c32d7afd-ee3e-44e4-b0df-2b01b16659ef').text('ETA:  0:00:00');"
       ],
       "metadata": {},
       "output_type": "display_data",
       "text": [
        "<IPython.core.display.Javascript at 0x10c398c50>"
       ]
      },
      {
       "javascript": [
        "$('div#95b9cdd0-cdf9-4715-8816-7bdd6db79480').text('  3.60 MB/s');"
       ],
       "metadata": {},
       "output_type": "display_data",
       "text": [
        "<IPython.core.display.Javascript at 0x10c398c90>"
       ]
      },
      {
       "javascript": [
        "$('div#5e176d35-4b7c-4e8e-a72d-802e9b7d77a0').text(' 51%');"
       ],
       "metadata": {},
       "output_type": "display_data",
       "text": [
        "<IPython.core.display.Javascript at 0x10c398cd0>"
       ]
      },
      {
       "javascript": [
        "\n",
        "        var $myPB = $(\"div#581eec24-2163-47f9-8f1d-90d5baaadbac\")\n",
        "        if ($myPB.hasClass('ui-progressbar')) {\n",
        "            $myPB.progressbar('value', 327680);\n",
        "        } else {\n",
        "            $myPB.progressbar({value: 0, max: 636151});\n",
        "        }\n",
        "        "
       ],
       "metadata": {},
       "output_type": "display_data",
       "text": [
        "<IPython.core.display.Javascript at 0x10c398d10>"
       ]
      },
      {
       "javascript": [
        "$('div#c32d7afd-ee3e-44e4-b0df-2b01b16659ef').text('ETA:  0:00:00');"
       ],
       "metadata": {},
       "output_type": "display_data",
       "text": [
        "<IPython.core.display.Javascript at 0x10c398d50>"
       ]
      },
      {
       "javascript": [
        "$('div#95b9cdd0-cdf9-4715-8816-7bdd6db79480').text('  3.60 MB/s');"
       ],
       "metadata": {},
       "output_type": "display_data",
       "text": [
        "<IPython.core.display.Javascript at 0x10c398d90>"
       ]
      },
      {
       "javascript": [
        "$('div#5e176d35-4b7c-4e8e-a72d-802e9b7d77a0').text(' 52%');"
       ],
       "metadata": {},
       "output_type": "display_data",
       "text": [
        "<IPython.core.display.Javascript at 0x10c398dd0>"
       ]
      },
      {
       "javascript": [
        "\n",
        "        var $myPB = $(\"div#581eec24-2163-47f9-8f1d-90d5baaadbac\")\n",
        "        if ($myPB.hasClass('ui-progressbar')) {\n",
        "            $myPB.progressbar('value', 335872);\n",
        "        } else {\n",
        "            $myPB.progressbar({value: 0, max: 636151});\n",
        "        }\n",
        "        "
       ],
       "metadata": {},
       "output_type": "display_data",
       "text": [
        "<IPython.core.display.Javascript at 0x10c398e10>"
       ]
      },
      {
       "javascript": [
        "$('div#c32d7afd-ee3e-44e4-b0df-2b01b16659ef').text('ETA:  0:00:00');"
       ],
       "metadata": {},
       "output_type": "display_data",
       "text": [
        "<IPython.core.display.Javascript at 0x10c398e50>"
       ]
      },
      {
       "javascript": [
        "$('div#95b9cdd0-cdf9-4715-8816-7bdd6db79480').text('  3.61 MB/s');"
       ],
       "metadata": {},
       "output_type": "display_data",
       "text": [
        "<IPython.core.display.Javascript at 0x10c398e90>"
       ]
      },
      {
       "javascript": [
        "$('div#5e176d35-4b7c-4e8e-a72d-802e9b7d77a0').text(' 54%');"
       ],
       "metadata": {},
       "output_type": "display_data",
       "text": [
        "<IPython.core.display.Javascript at 0x10c398ed0>"
       ]
      },
      {
       "javascript": [
        "\n",
        "        var $myPB = $(\"div#581eec24-2163-47f9-8f1d-90d5baaadbac\")\n",
        "        if ($myPB.hasClass('ui-progressbar')) {\n",
        "            $myPB.progressbar('value', 344064);\n",
        "        } else {\n",
        "            $myPB.progressbar({value: 0, max: 636151});\n",
        "        }\n",
        "        "
       ],
       "metadata": {},
       "output_type": "display_data",
       "text": [
        "<IPython.core.display.Javascript at 0x10c398fd0>"
       ]
      },
      {
       "javascript": [
        "$('div#c32d7afd-ee3e-44e4-b0df-2b01b16659ef').text('ETA:  0:00:00');"
       ],
       "metadata": {},
       "output_type": "display_data",
       "text": [
        "<IPython.core.display.Javascript at 0x10c398f90>"
       ]
      },
      {
       "javascript": [
        "$('div#95b9cdd0-cdf9-4715-8816-7bdd6db79480').text('  3.61 MB/s');"
       ],
       "metadata": {},
       "output_type": "display_data",
       "text": [
        "<IPython.core.display.Javascript at 0x10c398f50>"
       ]
      },
      {
       "javascript": [
        "$('div#5e176d35-4b7c-4e8e-a72d-802e9b7d77a0').text(' 55%');"
       ],
       "metadata": {},
       "output_type": "display_data",
       "text": [
        "<IPython.core.display.Javascript at 0x10c398f10>"
       ]
      },
      {
       "javascript": [
        "\n",
        "        var $myPB = $(\"div#581eec24-2163-47f9-8f1d-90d5baaadbac\")\n",
        "        if ($myPB.hasClass('ui-progressbar')) {\n",
        "            $myPB.progressbar('value', 352256);\n",
        "        } else {\n",
        "            $myPB.progressbar({value: 0, max: 636151});\n",
        "        }\n",
        "        "
       ],
       "metadata": {},
       "output_type": "display_data",
       "text": [
        "<IPython.core.display.Javascript at 0x10c398490>"
       ]
      },
      {
       "javascript": [
        "$('div#c32d7afd-ee3e-44e4-b0df-2b01b16659ef').text('ETA:  0:00:00');"
       ],
       "metadata": {},
       "output_type": "display_data",
       "text": [
        "<IPython.core.display.Javascript at 0x10c3b2050>"
       ]
      },
      {
       "javascript": [
        "$('div#95b9cdd0-cdf9-4715-8816-7bdd6db79480').text('  3.61 MB/s');"
       ],
       "metadata": {},
       "output_type": "display_data",
       "text": [
        "<IPython.core.display.Javascript at 0x10c3b2090>"
       ]
      },
      {
       "javascript": [
        "$('div#5e176d35-4b7c-4e8e-a72d-802e9b7d77a0').text(' 56%');"
       ],
       "metadata": {},
       "output_type": "display_data",
       "text": [
        "<IPython.core.display.Javascript at 0x10c3b20d0>"
       ]
      },
      {
       "javascript": [
        "\n",
        "        var $myPB = $(\"div#581eec24-2163-47f9-8f1d-90d5baaadbac\")\n",
        "        if ($myPB.hasClass('ui-progressbar')) {\n",
        "            $myPB.progressbar('value', 360448);\n",
        "        } else {\n",
        "            $myPB.progressbar({value: 0, max: 636151});\n",
        "        }\n",
        "        "
       ],
       "metadata": {},
       "output_type": "display_data",
       "text": [
        "<IPython.core.display.Javascript at 0x10c3b2110>"
       ]
      },
      {
       "javascript": [
        "$('div#c32d7afd-ee3e-44e4-b0df-2b01b16659ef').text('ETA:  0:00:00');"
       ],
       "metadata": {},
       "output_type": "display_data",
       "text": [
        "<IPython.core.display.Javascript at 0x10c3b2190>"
       ]
      },
      {
       "javascript": [
        "$('div#95b9cdd0-cdf9-4715-8816-7bdd6db79480').text('  3.61 MB/s');"
       ],
       "metadata": {},
       "output_type": "display_data",
       "text": [
        "<IPython.core.display.Javascript at 0x10c3b21d0>"
       ]
      },
      {
       "javascript": [
        "$('div#5e176d35-4b7c-4e8e-a72d-802e9b7d77a0').text(' 57%');"
       ],
       "metadata": {},
       "output_type": "display_data",
       "text": [
        "<IPython.core.display.Javascript at 0x10c3b2210>"
       ]
      },
      {
       "javascript": [
        "\n",
        "        var $myPB = $(\"div#581eec24-2163-47f9-8f1d-90d5baaadbac\")\n",
        "        if ($myPB.hasClass('ui-progressbar')) {\n",
        "            $myPB.progressbar('value', 368640);\n",
        "        } else {\n",
        "            $myPB.progressbar({value: 0, max: 636151});\n",
        "        }\n",
        "        "
       ],
       "metadata": {},
       "output_type": "display_data",
       "text": [
        "<IPython.core.display.Javascript at 0x10c3b2250>"
       ]
      },
      {
       "javascript": [
        "$('div#c32d7afd-ee3e-44e4-b0df-2b01b16659ef').text('ETA:  0:00:00');"
       ],
       "metadata": {},
       "output_type": "display_data",
       "text": [
        "<IPython.core.display.Javascript at 0x10c3b2290>"
       ]
      },
      {
       "javascript": [
        "$('div#95b9cdd0-cdf9-4715-8816-7bdd6db79480').text('  3.61 MB/s');"
       ],
       "metadata": {},
       "output_type": "display_data",
       "text": [
        "<IPython.core.display.Javascript at 0x10c3b22d0>"
       ]
      },
      {
       "javascript": [
        "$('div#5e176d35-4b7c-4e8e-a72d-802e9b7d77a0').text(' 59%');"
       ],
       "metadata": {},
       "output_type": "display_data",
       "text": [
        "<IPython.core.display.Javascript at 0x10c3b2310>"
       ]
      },
      {
       "javascript": [
        "\n",
        "        var $myPB = $(\"div#581eec24-2163-47f9-8f1d-90d5baaadbac\")\n",
        "        if ($myPB.hasClass('ui-progressbar')) {\n",
        "            $myPB.progressbar('value', 376832);\n",
        "        } else {\n",
        "            $myPB.progressbar({value: 0, max: 636151});\n",
        "        }\n",
        "        "
       ],
       "metadata": {},
       "output_type": "display_data",
       "text": [
        "<IPython.core.display.Javascript at 0x10c3b2350>"
       ]
      },
      {
       "javascript": [
        "$('div#c32d7afd-ee3e-44e4-b0df-2b01b16659ef').text('ETA:  0:00:00');"
       ],
       "metadata": {},
       "output_type": "display_data",
       "text": [
        "<IPython.core.display.Javascript at 0x10c3b2390>"
       ]
      },
      {
       "javascript": [
        "$('div#95b9cdd0-cdf9-4715-8816-7bdd6db79480').text('  3.62 MB/s');"
       ],
       "metadata": {},
       "output_type": "display_data",
       "text": [
        "<IPython.core.display.Javascript at 0x10c3b23d0>"
       ]
      },
      {
       "javascript": [
        "$('div#5e176d35-4b7c-4e8e-a72d-802e9b7d77a0').text(' 60%');"
       ],
       "metadata": {},
       "output_type": "display_data",
       "text": [
        "<IPython.core.display.Javascript at 0x10c3b2410>"
       ]
      },
      {
       "javascript": [
        "\n",
        "        var $myPB = $(\"div#581eec24-2163-47f9-8f1d-90d5baaadbac\")\n",
        "        if ($myPB.hasClass('ui-progressbar')) {\n",
        "            $myPB.progressbar('value', 385024);\n",
        "        } else {\n",
        "            $myPB.progressbar({value: 0, max: 636151});\n",
        "        }\n",
        "        "
       ],
       "metadata": {},
       "output_type": "display_data",
       "text": [
        "<IPython.core.display.Javascript at 0x10c3b2450>"
       ]
      },
      {
       "javascript": [
        "$('div#c32d7afd-ee3e-44e4-b0df-2b01b16659ef').text('ETA:  0:00:00');"
       ],
       "metadata": {},
       "output_type": "display_data",
       "text": [
        "<IPython.core.display.Javascript at 0x10c3b2490>"
       ]
      },
      {
       "javascript": [
        "$('div#95b9cdd0-cdf9-4715-8816-7bdd6db79480').text('  3.63 MB/s');"
       ],
       "metadata": {},
       "output_type": "display_data",
       "text": [
        "<IPython.core.display.Javascript at 0x10c3b24d0>"
       ]
      },
      {
       "javascript": [
        "$('div#5e176d35-4b7c-4e8e-a72d-802e9b7d77a0').text(' 61%');"
       ],
       "metadata": {},
       "output_type": "display_data",
       "text": [
        "<IPython.core.display.Javascript at 0x10c3b2510>"
       ]
      },
      {
       "javascript": [
        "\n",
        "        var $myPB = $(\"div#581eec24-2163-47f9-8f1d-90d5baaadbac\")\n",
        "        if ($myPB.hasClass('ui-progressbar')) {\n",
        "            $myPB.progressbar('value', 393216);\n",
        "        } else {\n",
        "            $myPB.progressbar({value: 0, max: 636151});\n",
        "        }\n",
        "        "
       ],
       "metadata": {},
       "output_type": "display_data",
       "text": [
        "<IPython.core.display.Javascript at 0x10c3b2550>"
       ]
      },
      {
       "javascript": [
        "$('div#c32d7afd-ee3e-44e4-b0df-2b01b16659ef').text('ETA:  0:00:00');"
       ],
       "metadata": {},
       "output_type": "display_data",
       "text": [
        "<IPython.core.display.Javascript at 0x10c3b2590>"
       ]
      },
      {
       "javascript": [
        "$('div#95b9cdd0-cdf9-4715-8816-7bdd6db79480').text('  3.63 MB/s');"
       ],
       "metadata": {},
       "output_type": "display_data",
       "text": [
        "<IPython.core.display.Javascript at 0x10c3b25d0>"
       ]
      },
      {
       "javascript": [
        "$('div#5e176d35-4b7c-4e8e-a72d-802e9b7d77a0').text(' 63%');"
       ],
       "metadata": {},
       "output_type": "display_data",
       "text": [
        "<IPython.core.display.Javascript at 0x10c3b2610>"
       ]
      },
      {
       "javascript": [
        "\n",
        "        var $myPB = $(\"div#581eec24-2163-47f9-8f1d-90d5baaadbac\")\n",
        "        if ($myPB.hasClass('ui-progressbar')) {\n",
        "            $myPB.progressbar('value', 401408);\n",
        "        } else {\n",
        "            $myPB.progressbar({value: 0, max: 636151});\n",
        "        }\n",
        "        "
       ],
       "metadata": {},
       "output_type": "display_data",
       "text": [
        "<IPython.core.display.Javascript at 0x10c3b2650>"
       ]
      },
      {
       "javascript": [
        "$('div#c32d7afd-ee3e-44e4-b0df-2b01b16659ef').text('ETA:  0:00:00');"
       ],
       "metadata": {},
       "output_type": "display_data",
       "text": [
        "<IPython.core.display.Javascript at 0x10c3b2690>"
       ]
      },
      {
       "javascript": [
        "$('div#95b9cdd0-cdf9-4715-8816-7bdd6db79480').text('  3.63 MB/s');"
       ],
       "metadata": {},
       "output_type": "display_data",
       "text": [
        "<IPython.core.display.Javascript at 0x10c3b26d0>"
       ]
      },
      {
       "javascript": [
        "$('div#5e176d35-4b7c-4e8e-a72d-802e9b7d77a0').text(' 64%');"
       ],
       "metadata": {},
       "output_type": "display_data",
       "text": [
        "<IPython.core.display.Javascript at 0x10c3b2710>"
       ]
      },
      {
       "javascript": [
        "\n",
        "        var $myPB = $(\"div#581eec24-2163-47f9-8f1d-90d5baaadbac\")\n",
        "        if ($myPB.hasClass('ui-progressbar')) {\n",
        "            $myPB.progressbar('value', 409600);\n",
        "        } else {\n",
        "            $myPB.progressbar({value: 0, max: 636151});\n",
        "        }\n",
        "        "
       ],
       "metadata": {},
       "output_type": "display_data",
       "text": [
        "<IPython.core.display.Javascript at 0x10c3b2750>"
       ]
      },
      {
       "javascript": [
        "$('div#c32d7afd-ee3e-44e4-b0df-2b01b16659ef').text('ETA:  0:00:00');"
       ],
       "metadata": {},
       "output_type": "display_data",
       "text": [
        "<IPython.core.display.Javascript at 0x10c3b2790>"
       ]
      },
      {
       "javascript": [
        "$('div#95b9cdd0-cdf9-4715-8816-7bdd6db79480').text('  3.63 MB/s');"
       ],
       "metadata": {},
       "output_type": "display_data",
       "text": [
        "<IPython.core.display.Javascript at 0x10c3b27d0>"
       ]
      },
      {
       "javascript": [
        "$('div#5e176d35-4b7c-4e8e-a72d-802e9b7d77a0').text(' 65%');"
       ],
       "metadata": {},
       "output_type": "display_data",
       "text": [
        "<IPython.core.display.Javascript at 0x10c3b2810>"
       ]
      },
      {
       "javascript": [
        "\n",
        "        var $myPB = $(\"div#581eec24-2163-47f9-8f1d-90d5baaadbac\")\n",
        "        if ($myPB.hasClass('ui-progressbar')) {\n",
        "            $myPB.progressbar('value', 417792);\n",
        "        } else {\n",
        "            $myPB.progressbar({value: 0, max: 636151});\n",
        "        }\n",
        "        "
       ],
       "metadata": {},
       "output_type": "display_data",
       "text": [
        "<IPython.core.display.Javascript at 0x10c3b2850>"
       ]
      },
      {
       "javascript": [
        "$('div#c32d7afd-ee3e-44e4-b0df-2b01b16659ef').text('ETA:  0:00:00');"
       ],
       "metadata": {},
       "output_type": "display_data",
       "text": [
        "<IPython.core.display.Javascript at 0x10c3b2890>"
       ]
      },
      {
       "javascript": [
        "$('div#95b9cdd0-cdf9-4715-8816-7bdd6db79480').text('  3.64 MB/s');"
       ],
       "metadata": {},
       "output_type": "display_data",
       "text": [
        "<IPython.core.display.Javascript at 0x10c398490>"
       ]
      },
      {
       "javascript": [
        "$('div#5e176d35-4b7c-4e8e-a72d-802e9b7d77a0').text(' 66%');"
       ],
       "metadata": {},
       "output_type": "display_data",
       "text": [
        "<IPython.core.display.Javascript at 0x10c398f10>"
       ]
      },
      {
       "javascript": [
        "\n",
        "        var $myPB = $(\"div#581eec24-2163-47f9-8f1d-90d5baaadbac\")\n",
        "        if ($myPB.hasClass('ui-progressbar')) {\n",
        "            $myPB.progressbar('value', 425984);\n",
        "        } else {\n",
        "            $myPB.progressbar({value: 0, max: 636151});\n",
        "        }\n",
        "        "
       ],
       "metadata": {},
       "output_type": "display_data",
       "text": [
        "<IPython.core.display.Javascript at 0x10c398f50>"
       ]
      },
      {
       "javascript": [
        "$('div#c32d7afd-ee3e-44e4-b0df-2b01b16659ef').text('ETA:  0:00:00');"
       ],
       "metadata": {},
       "output_type": "display_data",
       "text": [
        "<IPython.core.display.Javascript at 0x10c398f90>"
       ]
      },
      {
       "javascript": [
        "$('div#95b9cdd0-cdf9-4715-8816-7bdd6db79480').text('  3.63 MB/s');"
       ],
       "metadata": {},
       "output_type": "display_data",
       "text": [
        "<IPython.core.display.Javascript at 0x10c398ed0>"
       ]
      },
      {
       "javascript": [
        "$('div#5e176d35-4b7c-4e8e-a72d-802e9b7d77a0').text(' 68%');"
       ],
       "metadata": {},
       "output_type": "display_data",
       "text": [
        "<IPython.core.display.Javascript at 0x10c398e90>"
       ]
      },
      {
       "javascript": [
        "\n",
        "        var $myPB = $(\"div#581eec24-2163-47f9-8f1d-90d5baaadbac\")\n",
        "        if ($myPB.hasClass('ui-progressbar')) {\n",
        "            $myPB.progressbar('value', 434176);\n",
        "        } else {\n",
        "            $myPB.progressbar({value: 0, max: 636151});\n",
        "        }\n",
        "        "
       ],
       "metadata": {},
       "output_type": "display_data",
       "text": [
        "<IPython.core.display.Javascript at 0x10c398e50>"
       ]
      },
      {
       "javascript": [
        "$('div#c32d7afd-ee3e-44e4-b0df-2b01b16659ef').text('ETA:  0:00:00');"
       ],
       "metadata": {},
       "output_type": "display_data",
       "text": [
        "<IPython.core.display.Javascript at 0x10c398e10>"
       ]
      },
      {
       "javascript": [
        "$('div#95b9cdd0-cdf9-4715-8816-7bdd6db79480').text('  3.63 MB/s');"
       ],
       "metadata": {},
       "output_type": "display_data",
       "text": [
        "<IPython.core.display.Javascript at 0x10c398dd0>"
       ]
      },
      {
       "javascript": [
        "$('div#5e176d35-4b7c-4e8e-a72d-802e9b7d77a0').text(' 69%');"
       ],
       "metadata": {},
       "output_type": "display_data",
       "text": [
        "<IPython.core.display.Javascript at 0x10c398d90>"
       ]
      },
      {
       "javascript": [
        "\n",
        "        var $myPB = $(\"div#581eec24-2163-47f9-8f1d-90d5baaadbac\")\n",
        "        if ($myPB.hasClass('ui-progressbar')) {\n",
        "            $myPB.progressbar('value', 442368);\n",
        "        } else {\n",
        "            $myPB.progressbar({value: 0, max: 636151});\n",
        "        }\n",
        "        "
       ],
       "metadata": {},
       "output_type": "display_data",
       "text": [
        "<IPython.core.display.Javascript at 0x10c398d50>"
       ]
      },
      {
       "javascript": [
        "$('div#c32d7afd-ee3e-44e4-b0df-2b01b16659ef').text('ETA:  0:00:00');"
       ],
       "metadata": {},
       "output_type": "display_data",
       "text": [
        "<IPython.core.display.Javascript at 0x10c398d10>"
       ]
      },
      {
       "javascript": [
        "$('div#95b9cdd0-cdf9-4715-8816-7bdd6db79480').text('  3.63 MB/s');"
       ],
       "metadata": {},
       "output_type": "display_data",
       "text": [
        "<IPython.core.display.Javascript at 0x10c398cd0>"
       ]
      },
      {
       "javascript": [
        "$('div#5e176d35-4b7c-4e8e-a72d-802e9b7d77a0').text(' 70%');"
       ],
       "metadata": {},
       "output_type": "display_data",
       "text": [
        "<IPython.core.display.Javascript at 0x10c398c90>"
       ]
      },
      {
       "javascript": [
        "\n",
        "        var $myPB = $(\"div#581eec24-2163-47f9-8f1d-90d5baaadbac\")\n",
        "        if ($myPB.hasClass('ui-progressbar')) {\n",
        "            $myPB.progressbar('value', 450560);\n",
        "        } else {\n",
        "            $myPB.progressbar({value: 0, max: 636151});\n",
        "        }\n",
        "        "
       ],
       "metadata": {},
       "output_type": "display_data",
       "text": [
        "<IPython.core.display.Javascript at 0x10c398c50>"
       ]
      },
      {
       "javascript": [
        "$('div#c32d7afd-ee3e-44e4-b0df-2b01b16659ef').text('ETA:  0:00:00');"
       ],
       "metadata": {},
       "output_type": "display_data",
       "text": [
        "<IPython.core.display.Javascript at 0x10c398c10>"
       ]
      },
      {
       "javascript": [
        "$('div#95b9cdd0-cdf9-4715-8816-7bdd6db79480').text('  3.63 MB/s');"
       ],
       "metadata": {},
       "output_type": "display_data",
       "text": [
        "<IPython.core.display.Javascript at 0x10c398bd0>"
       ]
      },
      {
       "javascript": [
        "$('div#5e176d35-4b7c-4e8e-a72d-802e9b7d77a0').text(' 72%');"
       ],
       "metadata": {},
       "output_type": "display_data",
       "text": [
        "<IPython.core.display.Javascript at 0x10c398b90>"
       ]
      },
      {
       "javascript": [
        "\n",
        "        var $myPB = $(\"div#581eec24-2163-47f9-8f1d-90d5baaadbac\")\n",
        "        if ($myPB.hasClass('ui-progressbar')) {\n",
        "            $myPB.progressbar('value', 458752);\n",
        "        } else {\n",
        "            $myPB.progressbar({value: 0, max: 636151});\n",
        "        }\n",
        "        "
       ],
       "metadata": {},
       "output_type": "display_data",
       "text": [
        "<IPython.core.display.Javascript at 0x10c398b50>"
       ]
      },
      {
       "javascript": [
        "$('div#c32d7afd-ee3e-44e4-b0df-2b01b16659ef').text('ETA:  0:00:00');"
       ],
       "metadata": {},
       "output_type": "display_data",
       "text": [
        "<IPython.core.display.Javascript at 0x10c398b10>"
       ]
      },
      {
       "javascript": [
        "$('div#95b9cdd0-cdf9-4715-8816-7bdd6db79480').text('  3.64 MB/s');"
       ],
       "metadata": {},
       "output_type": "display_data",
       "text": [
        "<IPython.core.display.Javascript at 0x10c398ad0>"
       ]
      },
      {
       "javascript": [
        "$('div#5e176d35-4b7c-4e8e-a72d-802e9b7d77a0').text(' 73%');"
       ],
       "metadata": {},
       "output_type": "display_data",
       "text": [
        "<IPython.core.display.Javascript at 0x10c398a90>"
       ]
      },
      {
       "javascript": [
        "\n",
        "        var $myPB = $(\"div#581eec24-2163-47f9-8f1d-90d5baaadbac\")\n",
        "        if ($myPB.hasClass('ui-progressbar')) {\n",
        "            $myPB.progressbar('value', 466944);\n",
        "        } else {\n",
        "            $myPB.progressbar({value: 0, max: 636151});\n",
        "        }\n",
        "        "
       ],
       "metadata": {},
       "output_type": "display_data",
       "text": [
        "<IPython.core.display.Javascript at 0x10c398a50>"
       ]
      },
      {
       "javascript": [
        "$('div#c32d7afd-ee3e-44e4-b0df-2b01b16659ef').text('ETA:  0:00:00');"
       ],
       "metadata": {},
       "output_type": "display_data",
       "text": [
        "<IPython.core.display.Javascript at 0x10c398a10>"
       ]
      },
      {
       "javascript": [
        "$('div#95b9cdd0-cdf9-4715-8816-7bdd6db79480').text('  3.64 MB/s');"
       ],
       "metadata": {},
       "output_type": "display_data",
       "text": [
        "<IPython.core.display.Javascript at 0x10c3989d0>"
       ]
      },
      {
       "javascript": [
        "$('div#5e176d35-4b7c-4e8e-a72d-802e9b7d77a0').text(' 74%');"
       ],
       "metadata": {},
       "output_type": "display_data",
       "text": [
        "<IPython.core.display.Javascript at 0x10c398990>"
       ]
      },
      {
       "javascript": [
        "\n",
        "        var $myPB = $(\"div#581eec24-2163-47f9-8f1d-90d5baaadbac\")\n",
        "        if ($myPB.hasClass('ui-progressbar')) {\n",
        "            $myPB.progressbar('value', 475136);\n",
        "        } else {\n",
        "            $myPB.progressbar({value: 0, max: 636151});\n",
        "        }\n",
        "        "
       ],
       "metadata": {},
       "output_type": "display_data",
       "text": [
        "<IPython.core.display.Javascript at 0x10c398950>"
       ]
      },
      {
       "javascript": [
        "$('div#c32d7afd-ee3e-44e4-b0df-2b01b16659ef').text('ETA:  0:00:00');"
       ],
       "metadata": {},
       "output_type": "display_data",
       "text": [
        "<IPython.core.display.Javascript at 0x10c398910>"
       ]
      },
      {
       "javascript": [
        "$('div#95b9cdd0-cdf9-4715-8816-7bdd6db79480').text('  3.65 MB/s');"
       ],
       "metadata": {},
       "output_type": "display_data",
       "text": [
        "<IPython.core.display.Javascript at 0x10c3988d0>"
       ]
      },
      {
       "javascript": [
        "$('div#5e176d35-4b7c-4e8e-a72d-802e9b7d77a0').text(' 75%');"
       ],
       "metadata": {},
       "output_type": "display_data",
       "text": [
        "<IPython.core.display.Javascript at 0x10c398890>"
       ]
      },
      {
       "javascript": [
        "\n",
        "        var $myPB = $(\"div#581eec24-2163-47f9-8f1d-90d5baaadbac\")\n",
        "        if ($myPB.hasClass('ui-progressbar')) {\n",
        "            $myPB.progressbar('value', 483328);\n",
        "        } else {\n",
        "            $myPB.progressbar({value: 0, max: 636151});\n",
        "        }\n",
        "        "
       ],
       "metadata": {},
       "output_type": "display_data",
       "text": [
        "<IPython.core.display.Javascript at 0x10c398850>"
       ]
      },
      {
       "javascript": [
        "$('div#c32d7afd-ee3e-44e4-b0df-2b01b16659ef').text('ETA:  0:00:00');"
       ],
       "metadata": {},
       "output_type": "display_data",
       "text": [
        "<IPython.core.display.Javascript at 0x10c398810>"
       ]
      },
      {
       "javascript": [
        "$('div#95b9cdd0-cdf9-4715-8816-7bdd6db79480').text('  3.65 MB/s');"
       ],
       "metadata": {},
       "output_type": "display_data",
       "text": [
        "<IPython.core.display.Javascript at 0x10c3987d0>"
       ]
      },
      {
       "javascript": [
        "$('div#5e176d35-4b7c-4e8e-a72d-802e9b7d77a0').text(' 77%');"
       ],
       "metadata": {},
       "output_type": "display_data",
       "text": [
        "<IPython.core.display.Javascript at 0x10c398790>"
       ]
      },
      {
       "javascript": [
        "\n",
        "        var $myPB = $(\"div#581eec24-2163-47f9-8f1d-90d5baaadbac\")\n",
        "        if ($myPB.hasClass('ui-progressbar')) {\n",
        "            $myPB.progressbar('value', 491520);\n",
        "        } else {\n",
        "            $myPB.progressbar({value: 0, max: 636151});\n",
        "        }\n",
        "        "
       ],
       "metadata": {},
       "output_type": "display_data",
       "text": [
        "<IPython.core.display.Javascript at 0x10c398750>"
       ]
      },
      {
       "javascript": [
        "$('div#c32d7afd-ee3e-44e4-b0df-2b01b16659ef').text('ETA:  0:00:00');"
       ],
       "metadata": {},
       "output_type": "display_data",
       "text": [
        "<IPython.core.display.Javascript at 0x10c398710>"
       ]
      },
      {
       "javascript": [
        "$('div#95b9cdd0-cdf9-4715-8816-7bdd6db79480').text('  3.66 MB/s');"
       ],
       "metadata": {},
       "output_type": "display_data",
       "text": [
        "<IPython.core.display.Javascript at 0x10c3986d0>"
       ]
      },
      {
       "javascript": [
        "$('div#5e176d35-4b7c-4e8e-a72d-802e9b7d77a0').text(' 78%');"
       ],
       "metadata": {},
       "output_type": "display_data",
       "text": [
        "<IPython.core.display.Javascript at 0x10c398650>"
       ]
      },
      {
       "javascript": [
        "\n",
        "        var $myPB = $(\"div#581eec24-2163-47f9-8f1d-90d5baaadbac\")\n",
        "        if ($myPB.hasClass('ui-progressbar')) {\n",
        "            $myPB.progressbar('value', 499712);\n",
        "        } else {\n",
        "            $myPB.progressbar({value: 0, max: 636151});\n",
        "        }\n",
        "        "
       ],
       "metadata": {},
       "output_type": "display_data",
       "text": [
        "<IPython.core.display.Javascript at 0x10c398610>"
       ]
      },
      {
       "javascript": [
        "$('div#c32d7afd-ee3e-44e4-b0df-2b01b16659ef').text('ETA:  0:00:00');"
       ],
       "metadata": {},
       "output_type": "display_data",
       "text": [
        "<IPython.core.display.Javascript at 0x10c3985d0>"
       ]
      },
      {
       "javascript": [
        "$('div#95b9cdd0-cdf9-4715-8816-7bdd6db79480').text('  3.66 MB/s');"
       ],
       "metadata": {},
       "output_type": "display_data",
       "text": [
        "<IPython.core.display.Javascript at 0x10c398550>"
       ]
      },
      {
       "javascript": [
        "$('div#5e176d35-4b7c-4e8e-a72d-802e9b7d77a0').text(' 79%');"
       ],
       "metadata": {},
       "output_type": "display_data",
       "text": [
        "<IPython.core.display.Javascript at 0x10c398450>"
       ]
      },
      {
       "javascript": [
        "\n",
        "        var $myPB = $(\"div#581eec24-2163-47f9-8f1d-90d5baaadbac\")\n",
        "        if ($myPB.hasClass('ui-progressbar')) {\n",
        "            $myPB.progressbar('value', 507904);\n",
        "        } else {\n",
        "            $myPB.progressbar({value: 0, max: 636151});\n",
        "        }\n",
        "        "
       ],
       "metadata": {},
       "output_type": "display_data",
       "text": [
        "<IPython.core.display.Javascript at 0x10c398510>"
       ]
      },
      {
       "javascript": [
        "$('div#c32d7afd-ee3e-44e4-b0df-2b01b16659ef').text('ETA:  0:00:00');"
       ],
       "metadata": {},
       "output_type": "display_data",
       "text": [
        "<IPython.core.display.Javascript at 0x10c3984d0>"
       ]
      },
      {
       "javascript": [
        "$('div#95b9cdd0-cdf9-4715-8816-7bdd6db79480').text('  3.66 MB/s');"
       ],
       "metadata": {},
       "output_type": "display_data",
       "text": [
        "<IPython.core.display.Javascript at 0x10c398210>"
       ]
      },
      {
       "javascript": [
        "$('div#5e176d35-4b7c-4e8e-a72d-802e9b7d77a0').text(' 81%');"
       ],
       "metadata": {},
       "output_type": "display_data",
       "text": [
        "<IPython.core.display.Javascript at 0x10c3981d0>"
       ]
      },
      {
       "javascript": [
        "\n",
        "        var $myPB = $(\"div#581eec24-2163-47f9-8f1d-90d5baaadbac\")\n",
        "        if ($myPB.hasClass('ui-progressbar')) {\n",
        "            $myPB.progressbar('value', 516096);\n",
        "        } else {\n",
        "            $myPB.progressbar({value: 0, max: 636151});\n",
        "        }\n",
        "        "
       ],
       "metadata": {},
       "output_type": "display_data",
       "text": [
        "<IPython.core.display.Javascript at 0x10c398050>"
       ]
      },
      {
       "javascript": [
        "$('div#c32d7afd-ee3e-44e4-b0df-2b01b16659ef').text('ETA:  0:00:00');"
       ],
       "metadata": {},
       "output_type": "display_data",
       "text": [
        "<IPython.core.display.Javascript at 0x10c398690>"
       ]
      },
      {
       "javascript": [
        "$('div#95b9cdd0-cdf9-4715-8816-7bdd6db79480').text('  3.67 MB/s');"
       ],
       "metadata": {},
       "output_type": "display_data",
       "text": [
        "<IPython.core.display.Javascript at 0x10c398fd0>"
       ]
      },
      {
       "javascript": [
        "$('div#5e176d35-4b7c-4e8e-a72d-802e9b7d77a0').text(' 82%');"
       ],
       "metadata": {},
       "output_type": "display_data",
       "text": [
        "<IPython.core.display.Javascript at 0x10c3bd050>"
       ]
      },
      {
       "javascript": [
        "\n",
        "        var $myPB = $(\"div#581eec24-2163-47f9-8f1d-90d5baaadbac\")\n",
        "        if ($myPB.hasClass('ui-progressbar')) {\n",
        "            $myPB.progressbar('value', 524288);\n",
        "        } else {\n",
        "            $myPB.progressbar({value: 0, max: 636151});\n",
        "        }\n",
        "        "
       ],
       "metadata": {},
       "output_type": "display_data",
       "text": [
        "<IPython.core.display.Javascript at 0x10c3bd090>"
       ]
      },
      {
       "javascript": [
        "$('div#c32d7afd-ee3e-44e4-b0df-2b01b16659ef').text('ETA:  0:00:00');"
       ],
       "metadata": {},
       "output_type": "display_data",
       "text": [
        "<IPython.core.display.Javascript at 0x10c3bd0d0>"
       ]
      },
      {
       "javascript": [
        "$('div#95b9cdd0-cdf9-4715-8816-7bdd6db79480').text('  3.67 MB/s');"
       ],
       "metadata": {},
       "output_type": "display_data",
       "text": [
        "<IPython.core.display.Javascript at 0x10c3bd110>"
       ]
      },
      {
       "javascript": [
        "$('div#5e176d35-4b7c-4e8e-a72d-802e9b7d77a0').text(' 83%');"
       ],
       "metadata": {},
       "output_type": "display_data",
       "text": [
        "<IPython.core.display.Javascript at 0x10c3bd190>"
       ]
      },
      {
       "javascript": [
        "\n",
        "        var $myPB = $(\"div#581eec24-2163-47f9-8f1d-90d5baaadbac\")\n",
        "        if ($myPB.hasClass('ui-progressbar')) {\n",
        "            $myPB.progressbar('value', 532480);\n",
        "        } else {\n",
        "            $myPB.progressbar({value: 0, max: 636151});\n",
        "        }\n",
        "        "
       ],
       "metadata": {},
       "output_type": "display_data",
       "text": [
        "<IPython.core.display.Javascript at 0x10c3bd1d0>"
       ]
      },
      {
       "javascript": [
        "$('div#c32d7afd-ee3e-44e4-b0df-2b01b16659ef').text('ETA:  0:00:00');"
       ],
       "metadata": {},
       "output_type": "display_data",
       "text": [
        "<IPython.core.display.Javascript at 0x10c3bd210>"
       ]
      },
      {
       "javascript": [
        "$('div#95b9cdd0-cdf9-4715-8816-7bdd6db79480').text('  3.67 MB/s');"
       ],
       "metadata": {},
       "output_type": "display_data",
       "text": [
        "<IPython.core.display.Javascript at 0x10c3bd250>"
       ]
      },
      {
       "javascript": [
        "$('div#5e176d35-4b7c-4e8e-a72d-802e9b7d77a0').text(' 84%');"
       ],
       "metadata": {},
       "output_type": "display_data",
       "text": [
        "<IPython.core.display.Javascript at 0x10c3bd290>"
       ]
      },
      {
       "javascript": [
        "\n",
        "        var $myPB = $(\"div#581eec24-2163-47f9-8f1d-90d5baaadbac\")\n",
        "        if ($myPB.hasClass('ui-progressbar')) {\n",
        "            $myPB.progressbar('value', 540672);\n",
        "        } else {\n",
        "            $myPB.progressbar({value: 0, max: 636151});\n",
        "        }\n",
        "        "
       ],
       "metadata": {},
       "output_type": "display_data",
       "text": [
        "<IPython.core.display.Javascript at 0x10c3bd2d0>"
       ]
      },
      {
       "javascript": [
        "$('div#c32d7afd-ee3e-44e4-b0df-2b01b16659ef').text('ETA:  0:00:00');"
       ],
       "metadata": {},
       "output_type": "display_data",
       "text": [
        "<IPython.core.display.Javascript at 0x10c3bd310>"
       ]
      },
      {
       "javascript": [
        "$('div#95b9cdd0-cdf9-4715-8816-7bdd6db79480').text('  3.67 MB/s');"
       ],
       "metadata": {},
       "output_type": "display_data",
       "text": [
        "<IPython.core.display.Javascript at 0x10c3bd350>"
       ]
      },
      {
       "javascript": [
        "$('div#5e176d35-4b7c-4e8e-a72d-802e9b7d77a0').text(' 86%');"
       ],
       "metadata": {},
       "output_type": "display_data",
       "text": [
        "<IPython.core.display.Javascript at 0x10c3bd390>"
       ]
      },
      {
       "javascript": [
        "\n",
        "        var $myPB = $(\"div#581eec24-2163-47f9-8f1d-90d5baaadbac\")\n",
        "        if ($myPB.hasClass('ui-progressbar')) {\n",
        "            $myPB.progressbar('value', 548864);\n",
        "        } else {\n",
        "            $myPB.progressbar({value: 0, max: 636151});\n",
        "        }\n",
        "        "
       ],
       "metadata": {},
       "output_type": "display_data",
       "text": [
        "<IPython.core.display.Javascript at 0x10c3bd3d0>"
       ]
      },
      {
       "javascript": [
        "$('div#c32d7afd-ee3e-44e4-b0df-2b01b16659ef').text('ETA:  0:00:00');"
       ],
       "metadata": {},
       "output_type": "display_data",
       "text": [
        "<IPython.core.display.Javascript at 0x10c3bd410>"
       ]
      },
      {
       "javascript": [
        "$('div#95b9cdd0-cdf9-4715-8816-7bdd6db79480').text('  3.67 MB/s');"
       ],
       "metadata": {},
       "output_type": "display_data",
       "text": [
        "<IPython.core.display.Javascript at 0x10c3bd450>"
       ]
      },
      {
       "javascript": [
        "$('div#5e176d35-4b7c-4e8e-a72d-802e9b7d77a0').text(' 87%');"
       ],
       "metadata": {},
       "output_type": "display_data",
       "text": [
        "<IPython.core.display.Javascript at 0x10c3bd490>"
       ]
      },
      {
       "javascript": [
        "\n",
        "        var $myPB = $(\"div#581eec24-2163-47f9-8f1d-90d5baaadbac\")\n",
        "        if ($myPB.hasClass('ui-progressbar')) {\n",
        "            $myPB.progressbar('value', 557056);\n",
        "        } else {\n",
        "            $myPB.progressbar({value: 0, max: 636151});\n",
        "        }\n",
        "        "
       ],
       "metadata": {},
       "output_type": "display_data",
       "text": [
        "<IPython.core.display.Javascript at 0x10c3bd4d0>"
       ]
      },
      {
       "javascript": [
        "$('div#c32d7afd-ee3e-44e4-b0df-2b01b16659ef').text('ETA:  0:00:00');"
       ],
       "metadata": {},
       "output_type": "display_data",
       "text": [
        "<IPython.core.display.Javascript at 0x10c3bd510>"
       ]
      },
      {
       "javascript": [
        "$('div#95b9cdd0-cdf9-4715-8816-7bdd6db79480').text('  3.68 MB/s');"
       ],
       "metadata": {},
       "output_type": "display_data",
       "text": [
        "<IPython.core.display.Javascript at 0x10c3bd550>"
       ]
      },
      {
       "javascript": [
        "$('div#5e176d35-4b7c-4e8e-a72d-802e9b7d77a0').text(' 88%');"
       ],
       "metadata": {},
       "output_type": "display_data",
       "text": [
        "<IPython.core.display.Javascript at 0x10c3bd590>"
       ]
      },
      {
       "javascript": [
        "\n",
        "        var $myPB = $(\"div#581eec24-2163-47f9-8f1d-90d5baaadbac\")\n",
        "        if ($myPB.hasClass('ui-progressbar')) {\n",
        "            $myPB.progressbar('value', 565248);\n",
        "        } else {\n",
        "            $myPB.progressbar({value: 0, max: 636151});\n",
        "        }\n",
        "        "
       ],
       "metadata": {},
       "output_type": "display_data",
       "text": [
        "<IPython.core.display.Javascript at 0x10c3bd5d0>"
       ]
      },
      {
       "javascript": [
        "$('div#c32d7afd-ee3e-44e4-b0df-2b01b16659ef').text('ETA:  0:00:00');"
       ],
       "metadata": {},
       "output_type": "display_data",
       "text": [
        "<IPython.core.display.Javascript at 0x10c3bd610>"
       ]
      },
      {
       "javascript": [
        "$('div#95b9cdd0-cdf9-4715-8816-7bdd6db79480').text('  3.68 MB/s');"
       ],
       "metadata": {},
       "output_type": "display_data",
       "text": [
        "<IPython.core.display.Javascript at 0x10c3bd650>"
       ]
      },
      {
       "javascript": [
        "$('div#5e176d35-4b7c-4e8e-a72d-802e9b7d77a0').text(' 90%');"
       ],
       "metadata": {},
       "output_type": "display_data",
       "text": [
        "<IPython.core.display.Javascript at 0x10c3bd690>"
       ]
      },
      {
       "javascript": [
        "\n",
        "        var $myPB = $(\"div#581eec24-2163-47f9-8f1d-90d5baaadbac\")\n",
        "        if ($myPB.hasClass('ui-progressbar')) {\n",
        "            $myPB.progressbar('value', 573440);\n",
        "        } else {\n",
        "            $myPB.progressbar({value: 0, max: 636151});\n",
        "        }\n",
        "        "
       ],
       "metadata": {},
       "output_type": "display_data",
       "text": [
        "<IPython.core.display.Javascript at 0x10c3bd6d0>"
       ]
      },
      {
       "javascript": [
        "$('div#c32d7afd-ee3e-44e4-b0df-2b01b16659ef').text('ETA:  0:00:00');"
       ],
       "metadata": {},
       "output_type": "display_data",
       "text": [
        "<IPython.core.display.Javascript at 0x10c3bd710>"
       ]
      },
      {
       "javascript": [
        "$('div#95b9cdd0-cdf9-4715-8816-7bdd6db79480').text('  3.69 MB/s');"
       ],
       "metadata": {},
       "output_type": "display_data",
       "text": [
        "<IPython.core.display.Javascript at 0x10c3bd750>"
       ]
      },
      {
       "javascript": [
        "$('div#5e176d35-4b7c-4e8e-a72d-802e9b7d77a0').text(' 91%');"
       ],
       "metadata": {},
       "output_type": "display_data",
       "text": [
        "<IPython.core.display.Javascript at 0x10c3bd790>"
       ]
      },
      {
       "javascript": [
        "\n",
        "        var $myPB = $(\"div#581eec24-2163-47f9-8f1d-90d5baaadbac\")\n",
        "        if ($myPB.hasClass('ui-progressbar')) {\n",
        "            $myPB.progressbar('value', 581632);\n",
        "        } else {\n",
        "            $myPB.progressbar({value: 0, max: 636151});\n",
        "        }\n",
        "        "
       ],
       "metadata": {},
       "output_type": "display_data",
       "text": [
        "<IPython.core.display.Javascript at 0x10c3bd7d0>"
       ]
      },
      {
       "javascript": [
        "$('div#c32d7afd-ee3e-44e4-b0df-2b01b16659ef').text('ETA:  0:00:00');"
       ],
       "metadata": {},
       "output_type": "display_data",
       "text": [
        "<IPython.core.display.Javascript at 0x10c3bd810>"
       ]
      },
      {
       "javascript": [
        "$('div#95b9cdd0-cdf9-4715-8816-7bdd6db79480').text('  3.69 MB/s');"
       ],
       "metadata": {},
       "output_type": "display_data",
       "text": [
        "<IPython.core.display.Javascript at 0x10c3bd850>"
       ]
      },
      {
       "javascript": [
        "$('div#5e176d35-4b7c-4e8e-a72d-802e9b7d77a0').text(' 92%');"
       ],
       "metadata": {},
       "output_type": "display_data",
       "text": [
        "<IPython.core.display.Javascript at 0x10c3bd890>"
       ]
      },
      {
       "javascript": [
        "\n",
        "        var $myPB = $(\"div#581eec24-2163-47f9-8f1d-90d5baaadbac\")\n",
        "        if ($myPB.hasClass('ui-progressbar')) {\n",
        "            $myPB.progressbar('value', 589824);\n",
        "        } else {\n",
        "            $myPB.progressbar({value: 0, max: 636151});\n",
        "        }\n",
        "        "
       ],
       "metadata": {},
       "output_type": "display_data",
       "text": [
        "<IPython.core.display.Javascript at 0x10c398fd0>"
       ]
      },
      {
       "javascript": [
        "$('div#c32d7afd-ee3e-44e4-b0df-2b01b16659ef').text('ETA:  0:00:00');"
       ],
       "metadata": {},
       "output_type": "display_data",
       "text": [
        "<IPython.core.display.Javascript at 0x10c398690>"
       ]
      },
      {
       "javascript": [
        "$('div#95b9cdd0-cdf9-4715-8816-7bdd6db79480').text('  3.69 MB/s');"
       ],
       "metadata": {},
       "output_type": "display_data",
       "text": [
        "<IPython.core.display.Javascript at 0x10c398050>"
       ]
      },
      {
       "javascript": [
        "$('div#5e176d35-4b7c-4e8e-a72d-802e9b7d77a0').text(' 94%');"
       ],
       "metadata": {},
       "output_type": "display_data",
       "text": [
        "<IPython.core.display.Javascript at 0x10c3981d0>"
       ]
      },
      {
       "javascript": [
        "\n",
        "        var $myPB = $(\"div#581eec24-2163-47f9-8f1d-90d5baaadbac\")\n",
        "        if ($myPB.hasClass('ui-progressbar')) {\n",
        "            $myPB.progressbar('value', 598016);\n",
        "        } else {\n",
        "            $myPB.progressbar({value: 0, max: 636151});\n",
        "        }\n",
        "        "
       ],
       "metadata": {},
       "output_type": "display_data",
       "text": [
        "<IPython.core.display.Javascript at 0x10c3984d0>"
       ]
      },
      {
       "javascript": [
        "$('div#c32d7afd-ee3e-44e4-b0df-2b01b16659ef').text('ETA:  0:00:00');"
       ],
       "metadata": {},
       "output_type": "display_data",
       "text": [
        "<IPython.core.display.Javascript at 0x10c398510>"
       ]
      },
      {
       "javascript": [
        "$('div#95b9cdd0-cdf9-4715-8816-7bdd6db79480').text('  3.69 MB/s');"
       ],
       "metadata": {},
       "output_type": "display_data",
       "text": [
        "<IPython.core.display.Javascript at 0x10c398450>"
       ]
      },
      {
       "javascript": [
        "$('div#5e176d35-4b7c-4e8e-a72d-802e9b7d77a0').text(' 95%');"
       ],
       "metadata": {},
       "output_type": "display_data",
       "text": [
        "<IPython.core.display.Javascript at 0x10c398550>"
       ]
      },
      {
       "javascript": [
        "\n",
        "        var $myPB = $(\"div#581eec24-2163-47f9-8f1d-90d5baaadbac\")\n",
        "        if ($myPB.hasClass('ui-progressbar')) {\n",
        "            $myPB.progressbar('value', 606208);\n",
        "        } else {\n",
        "            $myPB.progressbar({value: 0, max: 636151});\n",
        "        }\n",
        "        "
       ],
       "metadata": {},
       "output_type": "display_data",
       "text": [
        "<IPython.core.display.Javascript at 0x10c3985d0>"
       ]
      },
      {
       "javascript": [
        "$('div#c32d7afd-ee3e-44e4-b0df-2b01b16659ef').text('ETA:  0:00:00');"
       ],
       "metadata": {},
       "output_type": "display_data",
       "text": [
        "<IPython.core.display.Javascript at 0x10c398610>"
       ]
      },
      {
       "javascript": [
        "$('div#95b9cdd0-cdf9-4715-8816-7bdd6db79480').text('  3.69 MB/s');"
       ],
       "metadata": {},
       "output_type": "display_data",
       "text": [
        "<IPython.core.display.Javascript at 0x10c398650>"
       ]
      },
      {
       "javascript": [
        "$('div#5e176d35-4b7c-4e8e-a72d-802e9b7d77a0').text(' 96%');"
       ],
       "metadata": {},
       "output_type": "display_data",
       "text": [
        "<IPython.core.display.Javascript at 0x10c3986d0>"
       ]
      },
      {
       "javascript": [
        "\n",
        "        var $myPB = $(\"div#581eec24-2163-47f9-8f1d-90d5baaadbac\")\n",
        "        if ($myPB.hasClass('ui-progressbar')) {\n",
        "            $myPB.progressbar('value', 614400);\n",
        "        } else {\n",
        "            $myPB.progressbar({value: 0, max: 636151});\n",
        "        }\n",
        "        "
       ],
       "metadata": {},
       "output_type": "display_data",
       "text": [
        "<IPython.core.display.Javascript at 0x10c398710>"
       ]
      },
      {
       "javascript": [
        "$('div#c32d7afd-ee3e-44e4-b0df-2b01b16659ef').text('ETA:  0:00:00');"
       ],
       "metadata": {},
       "output_type": "display_data",
       "text": [
        "<IPython.core.display.Javascript at 0x10c398750>"
       ]
      },
      {
       "javascript": [
        "$('div#95b9cdd0-cdf9-4715-8816-7bdd6db79480').text('  3.69 MB/s');"
       ],
       "metadata": {},
       "output_type": "display_data",
       "text": [
        "<IPython.core.display.Javascript at 0x10c398790>"
       ]
      },
      {
       "javascript": [
        "$('div#5e176d35-4b7c-4e8e-a72d-802e9b7d77a0').text(' 97%');"
       ],
       "metadata": {},
       "output_type": "display_data",
       "text": [
        "<IPython.core.display.Javascript at 0x10c3987d0>"
       ]
      },
      {
       "javascript": [
        "\n",
        "        var $myPB = $(\"div#581eec24-2163-47f9-8f1d-90d5baaadbac\")\n",
        "        if ($myPB.hasClass('ui-progressbar')) {\n",
        "            $myPB.progressbar('value', 622592);\n",
        "        } else {\n",
        "            $myPB.progressbar({value: 0, max: 636151});\n",
        "        }\n",
        "        "
       ],
       "metadata": {},
       "output_type": "display_data",
       "text": [
        "<IPython.core.display.Javascript at 0x10c398810>"
       ]
      },
      {
       "javascript": [
        "$('div#c32d7afd-ee3e-44e4-b0df-2b01b16659ef').text('ETA:  0:00:00');"
       ],
       "metadata": {},
       "output_type": "display_data",
       "text": [
        "<IPython.core.display.Javascript at 0x10c398850>"
       ]
      },
      {
       "javascript": [
        "$('div#95b9cdd0-cdf9-4715-8816-7bdd6db79480').text('  3.70 MB/s');"
       ],
       "metadata": {},
       "output_type": "display_data",
       "text": [
        "<IPython.core.display.Javascript at 0x10c398890>"
       ]
      },
      {
       "javascript": [
        "$('div#5e176d35-4b7c-4e8e-a72d-802e9b7d77a0').text(' 99%');"
       ],
       "metadata": {},
       "output_type": "display_data",
       "text": [
        "<IPython.core.display.Javascript at 0x10c3988d0>"
       ]
      },
      {
       "javascript": [
        "\n",
        "        var $myPB = $(\"div#581eec24-2163-47f9-8f1d-90d5baaadbac\")\n",
        "        if ($myPB.hasClass('ui-progressbar')) {\n",
        "            $myPB.progressbar('value', 630784);\n",
        "        } else {\n",
        "            $myPB.progressbar({value: 0, max: 636151});\n",
        "        }\n",
        "        "
       ],
       "metadata": {},
       "output_type": "display_data",
       "text": [
        "<IPython.core.display.Javascript at 0x10c398910>"
       ]
      },
      {
       "javascript": [
        "$('div#c32d7afd-ee3e-44e4-b0df-2b01b16659ef').text('ETA:  0:00:00');"
       ],
       "metadata": {},
       "output_type": "display_data",
       "text": [
        "<IPython.core.display.Javascript at 0x10c398950>"
       ]
      },
      {
       "javascript": [
        "$('div#95b9cdd0-cdf9-4715-8816-7bdd6db79480').text('  3.70 MB/s');"
       ],
       "metadata": {},
       "output_type": "display_data",
       "text": [
        "<IPython.core.display.Javascript at 0x10c398990>"
       ]
      },
      {
       "javascript": [
        "$('div#5e176d35-4b7c-4e8e-a72d-802e9b7d77a0').text('100%');"
       ],
       "metadata": {},
       "output_type": "display_data",
       "text": [
        "<IPython.core.display.Javascript at 0x10c3989d0>"
       ]
      },
      {
       "javascript": [
        "\n",
        "        var $myPB = $(\"div#581eec24-2163-47f9-8f1d-90d5baaadbac\")\n",
        "        if ($myPB.hasClass('ui-progressbar')) {\n",
        "            $myPB.progressbar('value', 636151);\n",
        "        } else {\n",
        "            $myPB.progressbar({value: 0, max: 636151});\n",
        "        }\n",
        "        "
       ],
       "metadata": {},
       "output_type": "display_data",
       "text": [
        "<IPython.core.display.Javascript at 0x10c398a10>"
       ]
      },
      {
       "javascript": [
        "$('div#c32d7afd-ee3e-44e4-b0df-2b01b16659ef').text('Time: 0:00:00');"
       ],
       "metadata": {},
       "output_type": "display_data",
       "text": [
        "<IPython.core.display.Javascript at 0x10c398a50>"
       ]
      },
      {
       "javascript": [
        "$('div#95b9cdd0-cdf9-4715-8816-7bdd6db79480').text('  3.68 MB/s');"
       ],
       "metadata": {},
       "output_type": "display_data",
       "text": [
        "<IPython.core.display.Javascript at 0x10c398a90>"
       ]
      },
      {
       "javascript": [
        "var element = document.getElementById('f11ea247-e2af-4f75-884d-e2b120130eb6');\n",
        "                    var parent = element.parentNode\n",
        "                    parent.removeChild(element);\n",
        "                    parent.parentElement.remove();"
       ],
       "metadata": {},
       "output_type": "display_data",
       "text": [
        "<IPython.core.display.Javascript at 0x10c398410>"
       ]
      },
      {
       "javascript": [
        "this.cleanProgressBar(['f11ea247-e2af-4f75-884d-e2b120130eb6', '5e176d35-4b7c-4e8e-a72d-802e9b7d77a0', '581eec24-2163-47f9-8f1d-90d5baaadbac', 'c32d7afd-ee3e-44e4-b0df-2b01b16659ef', '95b9cdd0-cdf9-4715-8816-7bdd6db79480'])"
       ],
       "metadata": {},
       "output_type": "display_data",
       "text": [
        "<IPython.core.display.Javascript at 0x10c398ad0>"
       ]
      },
      {
       "output_type": "stream",
       "stream": "stdout",
       "text": [
        "Finished downloading instance_data_es_inspire_dataset_v1.json\n",
        "There are 3239 tokens in dataset\n",
        "{u'noise_onset': 532600,\n",
        " u'noise_transcription': u'BAB4.txt',\n",
        " u'noise_type': u'bab4',\n",
        " u'noise_wav': u'BAB4.wav',\n",
        " u'signal_wav': u'T_35541.wav',\n",
        " u'snr': -2.039,\n",
        " u'speaker': u's1',\n",
        " u'speech': u'pequen\u0303os'}\n"
       ]
      }
     ],
     "prompt_number": 3
    },
    {
     "cell_type": "markdown",
     "metadata": {},
     "source": [
      "Our data is a class deriving from a Python dictionary containing an entry named `tokens` with a mapping from a stimulus ID to a stimulus (also named token) presented to a set of listeners.\n",
      "The stimulus itself is represented as a dictionary, with entries for several properties of the stimuli presented: \n",
      "\n",
      "* **type of noise** `noise_type`\n",
      "* **speaker ID** `speaker`\n",
      "* **signal-to-noise ratio** `snr`\n",
      "\n",
      "The filenames of the audios:\n",
      "\n",
      "* **signal wave file** `signal_wav`\n",
      "* **noise wave file** `noise_wav`\n",
      "\n",
      "And the underlying word that was presented as well as those that were reported by the listeners:\n",
      "\n",
      "* **presented word** `speech`\n",
      "\n",
      "## The lexicon\n",
      "Since all the tasks are based on the pronunciations of the words, our next step is to load a lexicon.\n",
      "The lexicon is not in JSON format, it is in a forma that HTK understands, therefore parsing it takes a bit more work. Luckily for you we have a written a function to do just that:\n",
      "\n",
      "We will first download the lexicon, load it, and have a quick peak of what is in it."
     ]
    },
    {
     "cell_type": "code",
     "collapsed": false,
     "input": [
      "lexicon_filename = setting.download_lexicon()\n",
      "lexicon = inspire.load_lexicon(lexicon_filename)\n",
      "\n",
      "print('There are {} words in the lexicon'.format(len(lexicon)))"
     ],
     "language": "python",
     "metadata": {},
     "outputs": [
      {
       "javascript": [
        "//2818d45f-e779-439a-8b31-c34352d82b7d\n",
        "$(\"head\").append(\"<style> td.pb_widget {     width: auto; } td.pb_widget_fill {     width: 100%; } table.pb {     font-family: monospace;     border: 0;     margin: 0; } table.pb tr { border: 0; } table.pb td {     white-space: nowrap;     border: 0; } div.pb {     border: 1px solid #ddd;     border-radius: 3px; } div.pb_bar {     height: 1.5em; } </style>\")"
       ],
       "metadata": {},
       "output_type": "display_data",
       "text": [
        "<IPython.core.display.Javascript at 0x10c38acd0>"
       ]
      },
      {
       "javascript": [
        "\n",
        "                  // 2818d45f-e779-439a-8b31-c34352d82b7d -- used to remove this code blob in the end\n",
        "                  IPython.OutputArea.prototype.cleanProgressBar = function(uuids) {\n",
        "                      // filter by uuid-strings \n",
        "                      var myfilter = function(output) { \n",
        "                          var nuids = uuids.length;\n",
        "                          for (var i=0; i<nuids; i++) {\n",
        "                              if (output.hasOwnProperty('html')) {\n",
        "                                  if (output.html.indexOf(uuids[i]) != -1) {\n",
        "                                      return false;\n",
        "                                  }\n",
        "                              }\n",
        "                              if (output.hasOwnProperty('javascript')) {\n",
        "                                  if (output.javascript.indexOf(uuids[i]) != -1) {\n",
        "                                      return false;\n",
        "                                  }\n",
        "                              }\n",
        "                          }\n",
        "                          // keep all others\n",
        "                          return true;\n",
        "                      };\n",
        "\n",
        "                      // Filter the ouputs\n",
        "                      this.outputs = this.outputs.filter(myfilter);\n",
        "                };\n",
        "                "
       ],
       "metadata": {},
       "output_type": "display_data",
       "text": [
        "<IPython.core.display.Javascript at 0x10c38ae90>"
       ]
      },
      {
       "html": [
        "<div class=\"pb\" id=\"2818d45f-e779-439a-8b31-c34352d82b7d\"><table class=\"pb ui-widget\"><tr>\n",
        "<td class=\"pb_widget\">Downloading: </td>\n",
        "<td class=\"pb_widget\"><div id=\"6f22c609-67aa-40e9-a468-0efaae38def0\">  0%</div></td>\n",
        "<td class=\"pb_widget\"> </td>\n",
        "<td class=\"pb_widget_fill\">\n",
        "        <div class=\"pb_bar\" id=\"4cb181ab-aaaa-407e-9c58-7db6a66b77ca\"></div>\n",
        "        <script type=\"text/javascript\">\n",
        "            $(\"div#4cb181ab-aaaa-407e-9c58-7db6a66b77ca\").progressbar({value: 0, max: 25238326});\n",
        "        </script>\n",
        "        </td>\n",
        "<td class=\"pb_widget\"> </td>\n",
        "<td class=\"pb_widget\"><div id=\"36dd4e11-f739-4d19-a957-dcaafa2625c6\">ETA:  --:--:--</div></td>\n",
        "<td class=\"pb_widget\"> </td>\n",
        "<td class=\"pb_widget\"><div id=\"81ce5e51-53ae-48ec-8ce4-d88bf1c985b3\">  0.00  B/s</div></td>\n",
        "</tr></table><div>"
       ],
       "metadata": {},
       "output_type": "display_data",
       "text": [
        "<IPython.core.display.HTML at 0x10c38aed0>"
       ]
      },
      {
       "javascript": [
        "$('div#6f22c609-67aa-40e9-a468-0efaae38def0').text('  1%');"
       ],
       "metadata": {},
       "output_type": "display_data",
       "text": [
        "<IPython.core.display.Javascript at 0x10c38af50>"
       ]
      },
      {
       "javascript": [
        "\n",
        "        var $myPB = $(\"div#4cb181ab-aaaa-407e-9c58-7db6a66b77ca\")\n",
        "        if ($myPB.hasClass('ui-progressbar')) {\n",
        "            $myPB.progressbar('value', 253952);\n",
        "        } else {\n",
        "            $myPB.progressbar({value: 0, max: 25238326});\n",
        "        }\n",
        "        "
       ],
       "metadata": {},
       "output_type": "display_data",
       "text": [
        "<IPython.core.display.Javascript at 0x10c38afd0>"
       ]
      },
      {
       "javascript": [
        "$('div#36dd4e11-f739-4d19-a957-dcaafa2625c6').text('ETA:  0:00:00');"
       ],
       "metadata": {},
       "output_type": "display_data",
       "text": [
        "<IPython.core.display.Javascript at 0x10c38af10>"
       ]
      },
      {
       "javascript": [
        "$('div#81ce5e51-53ae-48ec-8ce4-d88bf1c985b3').text('178.99 MB/s');"
       ],
       "metadata": {},
       "output_type": "display_data",
       "text": [
        "<IPython.core.display.Javascript at 0x10c398ad0>"
       ]
      },
      {
       "javascript": [
        "$('div#6f22c609-67aa-40e9-a468-0efaae38def0').text('  2%');"
       ],
       "metadata": {},
       "output_type": "display_data",
       "text": [
        "<IPython.core.display.Javascript at 0x10c398190>"
       ]
      },
      {
       "javascript": [
        "\n",
        "        var $myPB = $(\"div#4cb181ab-aaaa-407e-9c58-7db6a66b77ca\")\n",
        "        if ($myPB.hasClass('ui-progressbar')) {\n",
        "            $myPB.progressbar('value', 507904);\n",
        "        } else {\n",
        "            $myPB.progressbar({value: 0, max: 25238326});\n",
        "        }\n",
        "        "
       ],
       "metadata": {},
       "output_type": "display_data",
       "text": [
        "<IPython.core.display.Javascript at 0x10c398410>"
       ]
      },
      {
       "javascript": [
        "$('div#36dd4e11-f739-4d19-a957-dcaafa2625c6').text('ETA:  0:00:00');"
       ],
       "metadata": {},
       "output_type": "display_data",
       "text": [
        "<IPython.core.display.Javascript at 0x10c398a90>"
       ]
      },
      {
       "javascript": [
        "$('div#81ce5e51-53ae-48ec-8ce4-d88bf1c985b3').text('122.33 MB/s');"
       ],
       "metadata": {},
       "output_type": "display_data",
       "text": [
        "<IPython.core.display.Javascript at 0x10c398a50>"
       ]
      },
      {
       "javascript": [
        "$('div#6f22c609-67aa-40e9-a468-0efaae38def0').text('  3%');"
       ],
       "metadata": {},
       "output_type": "display_data",
       "text": [
        "<IPython.core.display.Javascript at 0x10c3989d0>"
       ]
      },
      {
       "javascript": [
        "\n",
        "        var $myPB = $(\"div#4cb181ab-aaaa-407e-9c58-7db6a66b77ca\")\n",
        "        if ($myPB.hasClass('ui-progressbar')) {\n",
        "            $myPB.progressbar('value', 761856);\n",
        "        } else {\n",
        "            $myPB.progressbar({value: 0, max: 25238326});\n",
        "        }\n",
        "        "
       ],
       "metadata": {},
       "output_type": "display_data",
       "text": [
        "<IPython.core.display.Javascript at 0x10c398990>"
       ]
      },
      {
       "javascript": [
        "$('div#36dd4e11-f739-4d19-a957-dcaafa2625c6').text('ETA:  0:00:00');"
       ],
       "metadata": {},
       "output_type": "display_data",
       "text": [
        "<IPython.core.display.Javascript at 0x10c398950>"
       ]
      },
      {
       "javascript": [
        "$('div#81ce5e51-53ae-48ec-8ce4-d88bf1c985b3').text('106.88 MB/s');"
       ],
       "metadata": {},
       "output_type": "display_data",
       "text": [
        "<IPython.core.display.Javascript at 0x10c398910>"
       ]
      },
      {
       "javascript": [
        "$('div#6f22c609-67aa-40e9-a468-0efaae38def0').text('  4%');"
       ],
       "metadata": {},
       "output_type": "display_data",
       "text": [
        "<IPython.core.display.Javascript at 0x10c3988d0>"
       ]
      },
      {
       "javascript": [
        "\n",
        "        var $myPB = $(\"div#4cb181ab-aaaa-407e-9c58-7db6a66b77ca\")\n",
        "        if ($myPB.hasClass('ui-progressbar')) {\n",
        "            $myPB.progressbar('value', 1015808);\n",
        "        } else {\n",
        "            $myPB.progressbar({value: 0, max: 25238326});\n",
        "        }\n",
        "        "
       ],
       "metadata": {},
       "output_type": "display_data",
       "text": [
        "<IPython.core.display.Javascript at 0x10c398890>"
       ]
      },
      {
       "javascript": [
        "$('div#36dd4e11-f739-4d19-a957-dcaafa2625c6').text('ETA:  0:00:00');"
       ],
       "metadata": {},
       "output_type": "display_data",
       "text": [
        "<IPython.core.display.Javascript at 0x10c398850>"
       ]
      },
      {
       "javascript": [
        "$('div#81ce5e51-53ae-48ec-8ce4-d88bf1c985b3').text('101.76 MB/s');"
       ],
       "metadata": {},
       "output_type": "display_data",
       "text": [
        "<IPython.core.display.Javascript at 0x10c398810>"
       ]
      },
      {
       "javascript": [
        "$('div#6f22c609-67aa-40e9-a468-0efaae38def0').text('  5%');"
       ],
       "metadata": {},
       "output_type": "display_data",
       "text": [
        "<IPython.core.display.Javascript at 0x10c3987d0>"
       ]
      },
      {
       "javascript": [
        "\n",
        "        var $myPB = $(\"div#4cb181ab-aaaa-407e-9c58-7db6a66b77ca\")\n",
        "        if ($myPB.hasClass('ui-progressbar')) {\n",
        "            $myPB.progressbar('value', 1269760);\n",
        "        } else {\n",
        "            $myPB.progressbar({value: 0, max: 25238326});\n",
        "        }\n",
        "        "
       ],
       "metadata": {},
       "output_type": "display_data",
       "text": [
        "<IPython.core.display.Javascript at 0x10c398790>"
       ]
      },
      {
       "javascript": [
        "$('div#36dd4e11-f739-4d19-a957-dcaafa2625c6').text('ETA:  0:00:00');"
       ],
       "metadata": {},
       "output_type": "display_data",
       "text": [
        "<IPython.core.display.Javascript at 0x10c398750>"
       ]
      },
      {
       "javascript": [
        "$('div#81ce5e51-53ae-48ec-8ce4-d88bf1c985b3').text(' 99.87 MB/s');"
       ],
       "metadata": {},
       "output_type": "display_data",
       "text": [
        "<IPython.core.display.Javascript at 0x10c398710>"
       ]
      },
      {
       "javascript": [
        "$('div#6f22c609-67aa-40e9-a468-0efaae38def0').text('  6%');"
       ],
       "metadata": {},
       "output_type": "display_data",
       "text": [
        "<IPython.core.display.Javascript at 0x10c3986d0>"
       ]
      },
      {
       "javascript": [
        "\n",
        "        var $myPB = $(\"div#4cb181ab-aaaa-407e-9c58-7db6a66b77ca\")\n",
        "        if ($myPB.hasClass('ui-progressbar')) {\n",
        "            $myPB.progressbar('value', 1523712);\n",
        "        } else {\n",
        "            $myPB.progressbar({value: 0, max: 25238326});\n",
        "        }\n",
        "        "
       ],
       "metadata": {},
       "output_type": "display_data",
       "text": [
        "<IPython.core.display.Javascript at 0x10c398650>"
       ]
      },
      {
       "javascript": [
        "$('div#36dd4e11-f739-4d19-a957-dcaafa2625c6').text('ETA:  0:00:00');"
       ],
       "metadata": {},
       "output_type": "display_data",
       "text": [
        "<IPython.core.display.Javascript at 0x10c398610>"
       ]
      },
      {
       "javascript": [
        "$('div#81ce5e51-53ae-48ec-8ce4-d88bf1c985b3').text(' 99.41 MB/s');"
       ],
       "metadata": {},
       "output_type": "display_data",
       "text": [
        "<IPython.core.display.Javascript at 0x10c3985d0>"
       ]
      },
      {
       "javascript": [
        "$('div#6f22c609-67aa-40e9-a468-0efaae38def0').text('  7%');"
       ],
       "metadata": {},
       "output_type": "display_data",
       "text": [
        "<IPython.core.display.Javascript at 0x10c398550>"
       ]
      },
      {
       "javascript": [
        "\n",
        "        var $myPB = $(\"div#4cb181ab-aaaa-407e-9c58-7db6a66b77ca\")\n",
        "        if ($myPB.hasClass('ui-progressbar')) {\n",
        "            $myPB.progressbar('value', 1777664);\n",
        "        } else {\n",
        "            $myPB.progressbar({value: 0, max: 25238326});\n",
        "        }\n",
        "        "
       ],
       "metadata": {},
       "output_type": "display_data",
       "text": [
        "<IPython.core.display.Javascript at 0x10c398450>"
       ]
      },
      {
       "javascript": [
        "$('div#36dd4e11-f739-4d19-a957-dcaafa2625c6').text('ETA:  0:00:00');"
       ],
       "metadata": {},
       "output_type": "display_data",
       "text": [
        "<IPython.core.display.Javascript at 0x10c398510>"
       ]
      },
      {
       "javascript": [
        "$('div#81ce5e51-53ae-48ec-8ce4-d88bf1c985b3').text(' 98.79 MB/s');"
       ],
       "metadata": {},
       "output_type": "display_data",
       "text": [
        "<IPython.core.display.Javascript at 0x10c3984d0>"
       ]
      },
      {
       "javascript": [
        "$('div#6f22c609-67aa-40e9-a468-0efaae38def0').text('  8%');"
       ],
       "metadata": {},
       "output_type": "display_data",
       "text": [
        "<IPython.core.display.Javascript at 0x10c3981d0>"
       ]
      },
      {
       "javascript": [
        "\n",
        "        var $myPB = $(\"div#4cb181ab-aaaa-407e-9c58-7db6a66b77ca\")\n",
        "        if ($myPB.hasClass('ui-progressbar')) {\n",
        "            $myPB.progressbar('value', 2031616);\n",
        "        } else {\n",
        "            $myPB.progressbar({value: 0, max: 25238326});\n",
        "        }\n",
        "        "
       ],
       "metadata": {},
       "output_type": "display_data",
       "text": [
        "<IPython.core.display.Javascript at 0x10c398050>"
       ]
      },
      {
       "javascript": [
        "$('div#36dd4e11-f739-4d19-a957-dcaafa2625c6').text('ETA:  0:00:00');"
       ],
       "metadata": {},
       "output_type": "display_data",
       "text": [
        "<IPython.core.display.Javascript at 0x10c398690>"
       ]
      },
      {
       "javascript": [
        "$('div#81ce5e51-53ae-48ec-8ce4-d88bf1c985b3').text(' 96.86 MB/s');"
       ],
       "metadata": {},
       "output_type": "display_data",
       "text": [
        "<IPython.core.display.Javascript at 0x10c398fd0>"
       ]
      },
      {
       "javascript": [
        "$('div#6f22c609-67aa-40e9-a468-0efaae38def0').text('  9%');"
       ],
       "metadata": {},
       "output_type": "display_data",
       "text": [
        "<IPython.core.display.Javascript at 0x10c398b10>"
       ]
      },
      {
       "javascript": [
        "\n",
        "        var $myPB = $(\"div#4cb181ab-aaaa-407e-9c58-7db6a66b77ca\")\n",
        "        if ($myPB.hasClass('ui-progressbar')) {\n",
        "            $myPB.progressbar('value', 2285568);\n",
        "        } else {\n",
        "            $myPB.progressbar({value: 0, max: 25238326});\n",
        "        }\n",
        "        "
       ],
       "metadata": {},
       "output_type": "display_data",
       "text": [
        "<IPython.core.display.Javascript at 0x10c398b50>"
       ]
      },
      {
       "javascript": [
        "$('div#36dd4e11-f739-4d19-a957-dcaafa2625c6').text('ETA:  0:00:00');"
       ],
       "metadata": {},
       "output_type": "display_data",
       "text": [
        "<IPython.core.display.Javascript at 0x10c398210>"
       ]
      },
      {
       "javascript": [
        "$('div#81ce5e51-53ae-48ec-8ce4-d88bf1c985b3').text(' 88.04 MB/s');"
       ],
       "metadata": {},
       "output_type": "display_data",
       "text": [
        "<IPython.core.display.Javascript at 0x10c398bd0>"
       ]
      },
      {
       "javascript": [
        "$('div#6f22c609-67aa-40e9-a468-0efaae38def0').text(' 10%');"
       ],
       "metadata": {},
       "output_type": "display_data",
       "text": [
        "<IPython.core.display.Javascript at 0x10c398b90>"
       ]
      },
      {
       "javascript": [
        "\n",
        "        var $myPB = $(\"div#4cb181ab-aaaa-407e-9c58-7db6a66b77ca\")\n",
        "        if ($myPB.hasClass('ui-progressbar')) {\n",
        "            $myPB.progressbar('value', 2539520);\n",
        "        } else {\n",
        "            $myPB.progressbar({value: 0, max: 25238326});\n",
        "        }\n",
        "        "
       ],
       "metadata": {},
       "output_type": "display_data",
       "text": [
        "<IPython.core.display.Javascript at 0x10c398c10>"
       ]
      },
      {
       "javascript": [
        "$('div#36dd4e11-f739-4d19-a957-dcaafa2625c6').text('ETA:  0:00:00');"
       ],
       "metadata": {},
       "output_type": "display_data",
       "text": [
        "<IPython.core.display.Javascript at 0x10c398c50>"
       ]
      },
      {
       "javascript": [
        "$('div#81ce5e51-53ae-48ec-8ce4-d88bf1c985b3').text(' 87.74 MB/s');"
       ],
       "metadata": {},
       "output_type": "display_data",
       "text": [
        "<IPython.core.display.Javascript at 0x10c398c90>"
       ]
      },
      {
       "javascript": [
        "$('div#6f22c609-67aa-40e9-a468-0efaae38def0').text(' 11%');"
       ],
       "metadata": {},
       "output_type": "display_data",
       "text": [
        "<IPython.core.display.Javascript at 0x10c398cd0>"
       ]
      },
      {
       "javascript": [
        "\n",
        "        var $myPB = $(\"div#4cb181ab-aaaa-407e-9c58-7db6a66b77ca\")\n",
        "        if ($myPB.hasClass('ui-progressbar')) {\n",
        "            $myPB.progressbar('value', 2793472);\n",
        "        } else {\n",
        "            $myPB.progressbar({value: 0, max: 25238326});\n",
        "        }\n",
        "        "
       ],
       "metadata": {},
       "output_type": "display_data",
       "text": [
        "<IPython.core.display.Javascript at 0x10c398d10>"
       ]
      },
      {
       "javascript": [
        "$('div#36dd4e11-f739-4d19-a957-dcaafa2625c6').text('ETA:  0:00:00');"
       ],
       "metadata": {},
       "output_type": "display_data",
       "text": [
        "<IPython.core.display.Javascript at 0x10c398d50>"
       ]
      },
      {
       "javascript": [
        "$('div#81ce5e51-53ae-48ec-8ce4-d88bf1c985b3').text(' 88.30 MB/s');"
       ],
       "metadata": {},
       "output_type": "display_data",
       "text": [
        "<IPython.core.display.Javascript at 0x10c398d90>"
       ]
      },
      {
       "javascript": [
        "$('div#6f22c609-67aa-40e9-a468-0efaae38def0').text(' 12%');"
       ],
       "metadata": {},
       "output_type": "display_data",
       "text": [
        "<IPython.core.display.Javascript at 0x10c398dd0>"
       ]
      },
      {
       "javascript": [
        "\n",
        "        var $myPB = $(\"div#4cb181ab-aaaa-407e-9c58-7db6a66b77ca\")\n",
        "        if ($myPB.hasClass('ui-progressbar')) {\n",
        "            $myPB.progressbar('value', 3047424);\n",
        "        } else {\n",
        "            $myPB.progressbar({value: 0, max: 25238326});\n",
        "        }\n",
        "        "
       ],
       "metadata": {},
       "output_type": "display_data",
       "text": [
        "<IPython.core.display.Javascript at 0x10c398e10>"
       ]
      },
      {
       "javascript": [
        "$('div#36dd4e11-f739-4d19-a957-dcaafa2625c6').text('ETA:  0:00:00');"
       ],
       "metadata": {},
       "output_type": "display_data",
       "text": [
        "<IPython.core.display.Javascript at 0x10c398e50>"
       ]
      },
      {
       "javascript": [
        "$('div#81ce5e51-53ae-48ec-8ce4-d88bf1c985b3').text(' 88.68 MB/s');"
       ],
       "metadata": {},
       "output_type": "display_data",
       "text": [
        "<IPython.core.display.Javascript at 0x10c398e90>"
       ]
      },
      {
       "javascript": [
        "$('div#6f22c609-67aa-40e9-a468-0efaae38def0').text(' 13%');"
       ],
       "metadata": {},
       "output_type": "display_data",
       "text": [
        "<IPython.core.display.Javascript at 0x10c398ed0>"
       ]
      },
      {
       "javascript": [
        "\n",
        "        var $myPB = $(\"div#4cb181ab-aaaa-407e-9c58-7db6a66b77ca\")\n",
        "        if ($myPB.hasClass('ui-progressbar')) {\n",
        "            $myPB.progressbar('value', 3301376);\n",
        "        } else {\n",
        "            $myPB.progressbar({value: 0, max: 25238326});\n",
        "        }\n",
        "        "
       ],
       "metadata": {},
       "output_type": "display_data",
       "text": [
        "<IPython.core.display.Javascript at 0x10c398f90>"
       ]
      },
      {
       "javascript": [
        "$('div#36dd4e11-f739-4d19-a957-dcaafa2625c6').text('ETA:  0:00:00');"
       ],
       "metadata": {},
       "output_type": "display_data",
       "text": [
        "<IPython.core.display.Javascript at 0x10c398f50>"
       ]
      },
      {
       "javascript": [
        "$('div#81ce5e51-53ae-48ec-8ce4-d88bf1c985b3').text(' 88.71 MB/s');"
       ],
       "metadata": {},
       "output_type": "display_data",
       "text": [
        "<IPython.core.display.Javascript at 0x10c398f10>"
       ]
      },
      {
       "javascript": [
        "$('div#6f22c609-67aa-40e9-a468-0efaae38def0').text(' 14%');"
       ],
       "metadata": {},
       "output_type": "display_data",
       "text": [
        "<IPython.core.display.Javascript at 0x10c398490>"
       ]
      },
      {
       "javascript": [
        "\n",
        "        var $myPB = $(\"div#4cb181ab-aaaa-407e-9c58-7db6a66b77ca\")\n",
        "        if ($myPB.hasClass('ui-progressbar')) {\n",
        "            $myPB.progressbar('value', 3555328);\n",
        "        } else {\n",
        "            $myPB.progressbar({value: 0, max: 25238326});\n",
        "        }\n",
        "        "
       ],
       "metadata": {},
       "output_type": "display_data",
       "text": [
        "<IPython.core.display.Javascript at 0x10c398a10>"
       ]
      },
      {
       "javascript": [
        "$('div#36dd4e11-f739-4d19-a957-dcaafa2625c6').text('ETA:  0:00:00');"
       ],
       "metadata": {},
       "output_type": "display_data",
       "text": [
        "<IPython.core.display.Javascript at 0x10c527050>"
       ]
      },
      {
       "javascript": [
        "$('div#81ce5e51-53ae-48ec-8ce4-d88bf1c985b3').text(' 88.84 MB/s');"
       ],
       "metadata": {},
       "output_type": "display_data",
       "text": [
        "<IPython.core.display.Javascript at 0x10c527090>"
       ]
      },
      {
       "javascript": [
        "$('div#6f22c609-67aa-40e9-a468-0efaae38def0').text(' 15%');"
       ],
       "metadata": {},
       "output_type": "display_data",
       "text": [
        "<IPython.core.display.Javascript at 0x10c5270d0>"
       ]
      },
      {
       "javascript": [
        "\n",
        "        var $myPB = $(\"div#4cb181ab-aaaa-407e-9c58-7db6a66b77ca\")\n",
        "        if ($myPB.hasClass('ui-progressbar')) {\n",
        "            $myPB.progressbar('value', 3809280);\n",
        "        } else {\n",
        "            $myPB.progressbar({value: 0, max: 25238326});\n",
        "        }\n",
        "        "
       ],
       "metadata": {},
       "output_type": "display_data",
       "text": [
        "<IPython.core.display.Javascript at 0x10c527110>"
       ]
      },
      {
       "javascript": [
        "$('div#36dd4e11-f739-4d19-a957-dcaafa2625c6').text('ETA:  0:00:00');"
       ],
       "metadata": {},
       "output_type": "display_data",
       "text": [
        "<IPython.core.display.Javascript at 0x10c527190>"
       ]
      },
      {
       "javascript": [
        "$('div#81ce5e51-53ae-48ec-8ce4-d88bf1c985b3').text(' 89.04 MB/s');"
       ],
       "metadata": {},
       "output_type": "display_data",
       "text": [
        "<IPython.core.display.Javascript at 0x10c5271d0>"
       ]
      },
      {
       "javascript": [
        "$('div#6f22c609-67aa-40e9-a468-0efaae38def0').text(' 16%');"
       ],
       "metadata": {},
       "output_type": "display_data",
       "text": [
        "<IPython.core.display.Javascript at 0x10c527210>"
       ]
      },
      {
       "javascript": [
        "\n",
        "        var $myPB = $(\"div#4cb181ab-aaaa-407e-9c58-7db6a66b77ca\")\n",
        "        if ($myPB.hasClass('ui-progressbar')) {\n",
        "            $myPB.progressbar('value', 4063232);\n",
        "        } else {\n",
        "            $myPB.progressbar({value: 0, max: 25238326});\n",
        "        }\n",
        "        "
       ],
       "metadata": {},
       "output_type": "display_data",
       "text": [
        "<IPython.core.display.Javascript at 0x10c527250>"
       ]
      },
      {
       "javascript": [
        "$('div#36dd4e11-f739-4d19-a957-dcaafa2625c6').text('ETA:  0:00:00');"
       ],
       "metadata": {},
       "output_type": "display_data",
       "text": [
        "<IPython.core.display.Javascript at 0x10c527290>"
       ]
      },
      {
       "javascript": [
        "$('div#81ce5e51-53ae-48ec-8ce4-d88bf1c985b3').text(' 88.75 MB/s');"
       ],
       "metadata": {},
       "output_type": "display_data",
       "text": [
        "<IPython.core.display.Javascript at 0x10c5272d0>"
       ]
      },
      {
       "javascript": [
        "$('div#6f22c609-67aa-40e9-a468-0efaae38def0').text(' 17%');"
       ],
       "metadata": {},
       "output_type": "display_data",
       "text": [
        "<IPython.core.display.Javascript at 0x10c527310>"
       ]
      },
      {
       "javascript": [
        "\n",
        "        var $myPB = $(\"div#4cb181ab-aaaa-407e-9c58-7db6a66b77ca\")\n",
        "        if ($myPB.hasClass('ui-progressbar')) {\n",
        "            $myPB.progressbar('value', 4317184);\n",
        "        } else {\n",
        "            $myPB.progressbar({value: 0, max: 25238326});\n",
        "        }\n",
        "        "
       ],
       "metadata": {},
       "output_type": "display_data",
       "text": [
        "<IPython.core.display.Javascript at 0x10c527350>"
       ]
      },
      {
       "javascript": [
        "$('div#36dd4e11-f739-4d19-a957-dcaafa2625c6').text('ETA:  0:00:00');"
       ],
       "metadata": {},
       "output_type": "display_data",
       "text": [
        "<IPython.core.display.Javascript at 0x10c527390>"
       ]
      },
      {
       "javascript": [
        "$('div#81ce5e51-53ae-48ec-8ce4-d88bf1c985b3').text(' 88.59 MB/s');"
       ],
       "metadata": {},
       "output_type": "display_data",
       "text": [
        "<IPython.core.display.Javascript at 0x10c5273d0>"
       ]
      },
      {
       "javascript": [
        "$('div#6f22c609-67aa-40e9-a468-0efaae38def0').text(' 18%');"
       ],
       "metadata": {},
       "output_type": "display_data",
       "text": [
        "<IPython.core.display.Javascript at 0x10c527410>"
       ]
      },
      {
       "javascript": [
        "\n",
        "        var $myPB = $(\"div#4cb181ab-aaaa-407e-9c58-7db6a66b77ca\")\n",
        "        if ($myPB.hasClass('ui-progressbar')) {\n",
        "            $myPB.progressbar('value', 4571136);\n",
        "        } else {\n",
        "            $myPB.progressbar({value: 0, max: 25238326});\n",
        "        }\n",
        "        "
       ],
       "metadata": {},
       "output_type": "display_data",
       "text": [
        "<IPython.core.display.Javascript at 0x10c398a10>"
       ]
      },
      {
       "javascript": [
        "$('div#36dd4e11-f739-4d19-a957-dcaafa2625c6').text('ETA:  0:00:00');"
       ],
       "metadata": {},
       "output_type": "display_data",
       "text": [
        "<IPython.core.display.Javascript at 0x10c398490>"
       ]
      },
      {
       "javascript": [
        "$('div#81ce5e51-53ae-48ec-8ce4-d88bf1c985b3').text(' 88.67 MB/s');"
       ],
       "metadata": {},
       "output_type": "display_data",
       "text": [
        "<IPython.core.display.Javascript at 0x10c398f10>"
       ]
      },
      {
       "javascript": [
        "$('div#6f22c609-67aa-40e9-a468-0efaae38def0').text(' 19%');"
       ],
       "metadata": {},
       "output_type": "display_data",
       "text": [
        "<IPython.core.display.Javascript at 0x10c398ed0>"
       ]
      },
      {
       "javascript": [
        "\n",
        "        var $myPB = $(\"div#4cb181ab-aaaa-407e-9c58-7db6a66b77ca\")\n",
        "        if ($myPB.hasClass('ui-progressbar')) {\n",
        "            $myPB.progressbar('value', 4825088);\n",
        "        } else {\n",
        "            $myPB.progressbar({value: 0, max: 25238326});\n",
        "        }\n",
        "        "
       ],
       "metadata": {},
       "output_type": "display_data",
       "text": [
        "<IPython.core.display.Javascript at 0x10c398e90>"
       ]
      },
      {
       "javascript": [
        "$('div#36dd4e11-f739-4d19-a957-dcaafa2625c6').text('ETA:  0:00:00');"
       ],
       "metadata": {},
       "output_type": "display_data",
       "text": [
        "<IPython.core.display.Javascript at 0x10c398e50>"
       ]
      },
      {
       "javascript": [
        "$('div#81ce5e51-53ae-48ec-8ce4-d88bf1c985b3').text(' 87.82 MB/s');"
       ],
       "metadata": {},
       "output_type": "display_data",
       "text": [
        "<IPython.core.display.Javascript at 0x10c398f90>"
       ]
      },
      {
       "javascript": [
        "$('div#6f22c609-67aa-40e9-a468-0efaae38def0').text(' 20%');"
       ],
       "metadata": {},
       "output_type": "display_data",
       "text": [
        "<IPython.core.display.Javascript at 0x10c398dd0>"
       ]
      },
      {
       "javascript": [
        "\n",
        "        var $myPB = $(\"div#4cb181ab-aaaa-407e-9c58-7db6a66b77ca\")\n",
        "        if ($myPB.hasClass('ui-progressbar')) {\n",
        "            $myPB.progressbar('value', 5079040);\n",
        "        } else {\n",
        "            $myPB.progressbar({value: 0, max: 25238326});\n",
        "        }\n",
        "        "
       ],
       "metadata": {},
       "output_type": "display_data",
       "text": [
        "<IPython.core.display.Javascript at 0x10c398d90>"
       ]
      },
      {
       "javascript": [
        "$('div#36dd4e11-f739-4d19-a957-dcaafa2625c6').text('ETA:  0:00:00');"
       ],
       "metadata": {},
       "output_type": "display_data",
       "text": [
        "<IPython.core.display.Javascript at 0x10c398d50>"
       ]
      },
      {
       "javascript": [
        "$('div#81ce5e51-53ae-48ec-8ce4-d88bf1c985b3').text(' 87.33 MB/s');"
       ],
       "metadata": {},
       "output_type": "display_data",
       "text": [
        "<IPython.core.display.Javascript at 0x10c398d10>"
       ]
      },
      {
       "javascript": [
        "$('div#6f22c609-67aa-40e9-a468-0efaae38def0').text(' 21%');"
       ],
       "metadata": {},
       "output_type": "display_data",
       "text": [
        "<IPython.core.display.Javascript at 0x10c398cd0>"
       ]
      },
      {
       "javascript": [
        "\n",
        "        var $myPB = $(\"div#4cb181ab-aaaa-407e-9c58-7db6a66b77ca\")\n",
        "        if ($myPB.hasClass('ui-progressbar')) {\n",
        "            $myPB.progressbar('value', 5332992);\n",
        "        } else {\n",
        "            $myPB.progressbar({value: 0, max: 25238326});\n",
        "        }\n",
        "        "
       ],
       "metadata": {},
       "output_type": "display_data",
       "text": [
        "<IPython.core.display.Javascript at 0x10c398c90>"
       ]
      },
      {
       "javascript": [
        "$('div#36dd4e11-f739-4d19-a957-dcaafa2625c6').text('ETA:  0:00:00');"
       ],
       "metadata": {},
       "output_type": "display_data",
       "text": [
        "<IPython.core.display.Javascript at 0x10c398c50>"
       ]
      },
      {
       "javascript": [
        "$('div#81ce5e51-53ae-48ec-8ce4-d88bf1c985b3').text(' 86.62 MB/s');"
       ],
       "metadata": {},
       "output_type": "display_data",
       "text": [
        "<IPython.core.display.Javascript at 0x10c398c10>"
       ]
      },
      {
       "javascript": [
        "$('div#6f22c609-67aa-40e9-a468-0efaae38def0').text(' 22%');"
       ],
       "metadata": {},
       "output_type": "display_data",
       "text": [
        "<IPython.core.display.Javascript at 0x10c398b90>"
       ]
      },
      {
       "javascript": [
        "\n",
        "        var $myPB = $(\"div#4cb181ab-aaaa-407e-9c58-7db6a66b77ca\")\n",
        "        if ($myPB.hasClass('ui-progressbar')) {\n",
        "            $myPB.progressbar('value', 5586944);\n",
        "        } else {\n",
        "            $myPB.progressbar({value: 0, max: 25238326});\n",
        "        }\n",
        "        "
       ],
       "metadata": {},
       "output_type": "display_data",
       "text": [
        "<IPython.core.display.Javascript at 0x10c398bd0>"
       ]
      },
      {
       "javascript": [
        "$('div#36dd4e11-f739-4d19-a957-dcaafa2625c6').text('ETA:  0:00:00');"
       ],
       "metadata": {},
       "output_type": "display_data",
       "text": [
        "<IPython.core.display.Javascript at 0x10c398210>"
       ]
      },
      {
       "javascript": [
        "$('div#81ce5e51-53ae-48ec-8ce4-d88bf1c985b3').text(' 86.34 MB/s');"
       ],
       "metadata": {},
       "output_type": "display_data",
       "text": [
        "<IPython.core.display.Javascript at 0x10c398b50>"
       ]
      },
      {
       "javascript": [
        "$('div#6f22c609-67aa-40e9-a468-0efaae38def0').text(' 23%');"
       ],
       "metadata": {},
       "output_type": "display_data",
       "text": [
        "<IPython.core.display.Javascript at 0x10c398b10>"
       ]
      },
      {
       "javascript": [
        "\n",
        "        var $myPB = $(\"div#4cb181ab-aaaa-407e-9c58-7db6a66b77ca\")\n",
        "        if ($myPB.hasClass('ui-progressbar')) {\n",
        "            $myPB.progressbar('value', 5840896);\n",
        "        } else {\n",
        "            $myPB.progressbar({value: 0, max: 25238326});\n",
        "        }\n",
        "        "
       ],
       "metadata": {},
       "output_type": "display_data",
       "text": [
        "<IPython.core.display.Javascript at 0x10c398fd0>"
       ]
      },
      {
       "javascript": [
        "$('div#36dd4e11-f739-4d19-a957-dcaafa2625c6').text('ETA:  0:00:00');"
       ],
       "metadata": {},
       "output_type": "display_data",
       "text": [
        "<IPython.core.display.Javascript at 0x10c398690>"
       ]
      },
      {
       "javascript": [
        "$('div#81ce5e51-53ae-48ec-8ce4-d88bf1c985b3').text(' 86.37 MB/s');"
       ],
       "metadata": {},
       "output_type": "display_data",
       "text": [
        "<IPython.core.display.Javascript at 0x10c398050>"
       ]
      },
      {
       "javascript": [
        "$('div#6f22c609-67aa-40e9-a468-0efaae38def0').text(' 24%');"
       ],
       "metadata": {},
       "output_type": "display_data",
       "text": [
        "<IPython.core.display.Javascript at 0x10c3981d0>"
       ]
      },
      {
       "javascript": [
        "\n",
        "        var $myPB = $(\"div#4cb181ab-aaaa-407e-9c58-7db6a66b77ca\")\n",
        "        if ($myPB.hasClass('ui-progressbar')) {\n",
        "            $myPB.progressbar('value', 6094848);\n",
        "        } else {\n",
        "            $myPB.progressbar({value: 0, max: 25238326});\n",
        "        }\n",
        "        "
       ],
       "metadata": {},
       "output_type": "display_data",
       "text": [
        "<IPython.core.display.Javascript at 0x10c3984d0>"
       ]
      },
      {
       "javascript": [
        "$('div#36dd4e11-f739-4d19-a957-dcaafa2625c6').text('ETA:  0:00:00');"
       ],
       "metadata": {},
       "output_type": "display_data",
       "text": [
        "<IPython.core.display.Javascript at 0x10c398510>"
       ]
      },
      {
       "javascript": [
        "$('div#81ce5e51-53ae-48ec-8ce4-d88bf1c985b3').text(' 86.62 MB/s');"
       ],
       "metadata": {},
       "output_type": "display_data",
       "text": [
        "<IPython.core.display.Javascript at 0x10c398450>"
       ]
      },
      {
       "javascript": [
        "$('div#6f22c609-67aa-40e9-a468-0efaae38def0').text(' 25%');"
       ],
       "metadata": {},
       "output_type": "display_data",
       "text": [
        "<IPython.core.display.Javascript at 0x10c398550>"
       ]
      },
      {
       "javascript": [
        "\n",
        "        var $myPB = $(\"div#4cb181ab-aaaa-407e-9c58-7db6a66b77ca\")\n",
        "        if ($myPB.hasClass('ui-progressbar')) {\n",
        "            $myPB.progressbar('value', 6348800);\n",
        "        } else {\n",
        "            $myPB.progressbar({value: 0, max: 25238326});\n",
        "        }\n",
        "        "
       ],
       "metadata": {},
       "output_type": "display_data",
       "text": [
        "<IPython.core.display.Javascript at 0x10c3985d0>"
       ]
      },
      {
       "javascript": [
        "$('div#36dd4e11-f739-4d19-a957-dcaafa2625c6').text('ETA:  0:00:00');"
       ],
       "metadata": {},
       "output_type": "display_data",
       "text": [
        "<IPython.core.display.Javascript at 0x10c398610>"
       ]
      },
      {
       "javascript": [
        "$('div#81ce5e51-53ae-48ec-8ce4-d88bf1c985b3').text(' 86.55 MB/s');"
       ],
       "metadata": {},
       "output_type": "display_data",
       "text": [
        "<IPython.core.display.Javascript at 0x10c398650>"
       ]
      },
      {
       "javascript": [
        "$('div#6f22c609-67aa-40e9-a468-0efaae38def0').text(' 26%');"
       ],
       "metadata": {},
       "output_type": "display_data",
       "text": [
        "<IPython.core.display.Javascript at 0x10c3986d0>"
       ]
      },
      {
       "javascript": [
        "\n",
        "        var $myPB = $(\"div#4cb181ab-aaaa-407e-9c58-7db6a66b77ca\")\n",
        "        if ($myPB.hasClass('ui-progressbar')) {\n",
        "            $myPB.progressbar('value', 6602752);\n",
        "        } else {\n",
        "            $myPB.progressbar({value: 0, max: 25238326});\n",
        "        }\n",
        "        "
       ],
       "metadata": {},
       "output_type": "display_data",
       "text": [
        "<IPython.core.display.Javascript at 0x10c398710>"
       ]
      },
      {
       "javascript": [
        "$('div#36dd4e11-f739-4d19-a957-dcaafa2625c6').text('ETA:  0:00:00');"
       ],
       "metadata": {},
       "output_type": "display_data",
       "text": [
        "<IPython.core.display.Javascript at 0x10c398750>"
       ]
      },
      {
       "javascript": [
        "$('div#81ce5e51-53ae-48ec-8ce4-d88bf1c985b3').text(' 86.26 MB/s');"
       ],
       "metadata": {},
       "output_type": "display_data",
       "text": [
        "<IPython.core.display.Javascript at 0x10c398790>"
       ]
      },
      {
       "javascript": [
        "$('div#6f22c609-67aa-40e9-a468-0efaae38def0').text(' 27%');"
       ],
       "metadata": {},
       "output_type": "display_data",
       "text": [
        "<IPython.core.display.Javascript at 0x10c3987d0>"
       ]
      },
      {
       "javascript": [
        "\n",
        "        var $myPB = $(\"div#4cb181ab-aaaa-407e-9c58-7db6a66b77ca\")\n",
        "        if ($myPB.hasClass('ui-progressbar')) {\n",
        "            $myPB.progressbar('value', 6856704);\n",
        "        } else {\n",
        "            $myPB.progressbar({value: 0, max: 25238326});\n",
        "        }\n",
        "        "
       ],
       "metadata": {},
       "output_type": "display_data",
       "text": [
        "<IPython.core.display.Javascript at 0x10c398810>"
       ]
      },
      {
       "javascript": [
        "$('div#36dd4e11-f739-4d19-a957-dcaafa2625c6').text('ETA:  0:00:00');"
       ],
       "metadata": {},
       "output_type": "display_data",
       "text": [
        "<IPython.core.display.Javascript at 0x10c398850>"
       ]
      },
      {
       "javascript": [
        "$('div#81ce5e51-53ae-48ec-8ce4-d88bf1c985b3').text(' 86.36 MB/s');"
       ],
       "metadata": {},
       "output_type": "display_data",
       "text": [
        "<IPython.core.display.Javascript at 0x10c398890>"
       ]
      },
      {
       "javascript": [
        "$('div#6f22c609-67aa-40e9-a468-0efaae38def0').text(' 28%');"
       ],
       "metadata": {},
       "output_type": "display_data",
       "text": [
        "<IPython.core.display.Javascript at 0x10c3988d0>"
       ]
      },
      {
       "javascript": [
        "\n",
        "        var $myPB = $(\"div#4cb181ab-aaaa-407e-9c58-7db6a66b77ca\")\n",
        "        if ($myPB.hasClass('ui-progressbar')) {\n",
        "            $myPB.progressbar('value', 7110656);\n",
        "        } else {\n",
        "            $myPB.progressbar({value: 0, max: 25238326});\n",
        "        }\n",
        "        "
       ],
       "metadata": {},
       "output_type": "display_data",
       "text": [
        "<IPython.core.display.Javascript at 0x10c398910>"
       ]
      },
      {
       "javascript": [
        "$('div#36dd4e11-f739-4d19-a957-dcaafa2625c6').text('ETA:  0:00:00');"
       ],
       "metadata": {},
       "output_type": "display_data",
       "text": [
        "<IPython.core.display.Javascript at 0x10c398950>"
       ]
      },
      {
       "javascript": [
        "$('div#81ce5e51-53ae-48ec-8ce4-d88bf1c985b3').text(' 86.40 MB/s');"
       ],
       "metadata": {},
       "output_type": "display_data",
       "text": [
        "<IPython.core.display.Javascript at 0x10c398990>"
       ]
      },
      {
       "javascript": [
        "$('div#6f22c609-67aa-40e9-a468-0efaae38def0').text(' 29%');"
       ],
       "metadata": {},
       "output_type": "display_data",
       "text": [
        "<IPython.core.display.Javascript at 0x10c3989d0>"
       ]
      },
      {
       "javascript": [
        "\n",
        "        var $myPB = $(\"div#4cb181ab-aaaa-407e-9c58-7db6a66b77ca\")\n",
        "        if ($myPB.hasClass('ui-progressbar')) {\n",
        "            $myPB.progressbar('value', 7364608);\n",
        "        } else {\n",
        "            $myPB.progressbar({value: 0, max: 25238326});\n",
        "        }\n",
        "        "
       ],
       "metadata": {},
       "output_type": "display_data",
       "text": [
        "<IPython.core.display.Javascript at 0x10c398a50>"
       ]
      },
      {
       "javascript": [
        "$('div#36dd4e11-f739-4d19-a957-dcaafa2625c6').text('ETA:  0:00:00');"
       ],
       "metadata": {},
       "output_type": "display_data",
       "text": [
        "<IPython.core.display.Javascript at 0x10c398a90>"
       ]
      },
      {
       "javascript": [
        "$('div#81ce5e51-53ae-48ec-8ce4-d88bf1c985b3').text(' 86.46 MB/s');"
       ],
       "metadata": {},
       "output_type": "display_data",
       "text": [
        "<IPython.core.display.Javascript at 0x10c398410>"
       ]
      },
      {
       "javascript": [
        "$('div#6f22c609-67aa-40e9-a468-0efaae38def0').text(' 30%');"
       ],
       "metadata": {},
       "output_type": "display_data",
       "text": [
        "<IPython.core.display.Javascript at 0x10c398190>"
       ]
      },
      {
       "javascript": [
        "\n",
        "        var $myPB = $(\"div#4cb181ab-aaaa-407e-9c58-7db6a66b77ca\")\n",
        "        if ($myPB.hasClass('ui-progressbar')) {\n",
        "            $myPB.progressbar('value', 7618560);\n",
        "        } else {\n",
        "            $myPB.progressbar({value: 0, max: 25238326});\n",
        "        }\n",
        "        "
       ],
       "metadata": {},
       "output_type": "display_data",
       "text": [
        "<IPython.core.display.Javascript at 0x10c398ad0>"
       ]
      },
      {
       "javascript": [
        "$('div#36dd4e11-f739-4d19-a957-dcaafa2625c6').text('ETA:  0:00:00');"
       ],
       "metadata": {},
       "output_type": "display_data",
       "text": [
        "<IPython.core.display.Javascript at 0x10c398e10>"
       ]
      },
      {
       "javascript": [
        "$('div#81ce5e51-53ae-48ec-8ce4-d88bf1c985b3').text(' 86.00 MB/s');"
       ],
       "metadata": {},
       "output_type": "display_data",
       "text": [
        "<IPython.core.display.Javascript at 0x10c38af10>"
       ]
      },
      {
       "javascript": [
        "$('div#6f22c609-67aa-40e9-a468-0efaae38def0').text(' 31%');"
       ],
       "metadata": {},
       "output_type": "display_data",
       "text": [
        "<IPython.core.display.Javascript at 0x10c38afd0>"
       ]
      },
      {
       "javascript": [
        "\n",
        "        var $myPB = $(\"div#4cb181ab-aaaa-407e-9c58-7db6a66b77ca\")\n",
        "        if ($myPB.hasClass('ui-progressbar')) {\n",
        "            $myPB.progressbar('value', 7872512);\n",
        "        } else {\n",
        "            $myPB.progressbar({value: 0, max: 25238326});\n",
        "        }\n",
        "        "
       ],
       "metadata": {},
       "output_type": "display_data",
       "text": [
        "<IPython.core.display.Javascript at 0x10c38af50>"
       ]
      },
      {
       "javascript": [
        "$('div#36dd4e11-f739-4d19-a957-dcaafa2625c6').text('ETA:  0:00:00');"
       ],
       "metadata": {},
       "output_type": "display_data",
       "text": [
        "<IPython.core.display.Javascript at 0x10c38aed0>"
       ]
      },
      {
       "javascript": [
        "$('div#81ce5e51-53ae-48ec-8ce4-d88bf1c985b3').text(' 85.99 MB/s');"
       ],
       "metadata": {},
       "output_type": "display_data",
       "text": [
        "<IPython.core.display.Javascript at 0x10c38ae90>"
       ]
      },
      {
       "javascript": [
        "$('div#6f22c609-67aa-40e9-a468-0efaae38def0').text(' 32%');"
       ],
       "metadata": {},
       "output_type": "display_data",
       "text": [
        "<IPython.core.display.Javascript at 0x10c38acd0>"
       ]
      },
      {
       "javascript": [
        "\n",
        "        var $myPB = $(\"div#4cb181ab-aaaa-407e-9c58-7db6a66b77ca\")\n",
        "        if ($myPB.hasClass('ui-progressbar')) {\n",
        "            $myPB.progressbar('value', 8126464);\n",
        "        } else {\n",
        "            $myPB.progressbar({value: 0, max: 25238326});\n",
        "        }\n",
        "        "
       ],
       "metadata": {},
       "output_type": "display_data",
       "text": [
        "<IPython.core.display.Javascript at 0x10c38af90>"
       ]
      },
      {
       "javascript": [
        "$('div#36dd4e11-f739-4d19-a957-dcaafa2625c6').text('ETA:  0:00:00');"
       ],
       "metadata": {},
       "output_type": "display_data",
       "text": [
        "<IPython.core.display.Javascript at 0x10c468050>"
       ]
      },
      {
       "javascript": [
        "$('div#81ce5e51-53ae-48ec-8ce4-d88bf1c985b3').text(' 86.00 MB/s');"
       ],
       "metadata": {},
       "output_type": "display_data",
       "text": [
        "<IPython.core.display.Javascript at 0x10c468090>"
       ]
      },
      {
       "javascript": [
        "$('div#6f22c609-67aa-40e9-a468-0efaae38def0').text(' 33%');"
       ],
       "metadata": {},
       "output_type": "display_data",
       "text": [
        "<IPython.core.display.Javascript at 0x10c4680d0>"
       ]
      },
      {
       "javascript": [
        "\n",
        "        var $myPB = $(\"div#4cb181ab-aaaa-407e-9c58-7db6a66b77ca\")\n",
        "        if ($myPB.hasClass('ui-progressbar')) {\n",
        "            $myPB.progressbar('value', 8380416);\n",
        "        } else {\n",
        "            $myPB.progressbar({value: 0, max: 25238326});\n",
        "        }\n",
        "        "
       ],
       "metadata": {},
       "output_type": "display_data",
       "text": [
        "<IPython.core.display.Javascript at 0x10c468110>"
       ]
      },
      {
       "javascript": [
        "$('div#36dd4e11-f739-4d19-a957-dcaafa2625c6').text('ETA:  0:00:00');"
       ],
       "metadata": {},
       "output_type": "display_data",
       "text": [
        "<IPython.core.display.Javascript at 0x10c468190>"
       ]
      },
      {
       "javascript": [
        "$('div#81ce5e51-53ae-48ec-8ce4-d88bf1c985b3').text(' 86.24 MB/s');"
       ],
       "metadata": {},
       "output_type": "display_data",
       "text": [
        "<IPython.core.display.Javascript at 0x10c4681d0>"
       ]
      },
      {
       "javascript": [
        "$('div#6f22c609-67aa-40e9-a468-0efaae38def0').text(' 34%');"
       ],
       "metadata": {},
       "output_type": "display_data",
       "text": [
        "<IPython.core.display.Javascript at 0x10c468210>"
       ]
      },
      {
       "javascript": [
        "\n",
        "        var $myPB = $(\"div#4cb181ab-aaaa-407e-9c58-7db6a66b77ca\")\n",
        "        if ($myPB.hasClass('ui-progressbar')) {\n",
        "            $myPB.progressbar('value', 8634368);\n",
        "        } else {\n",
        "            $myPB.progressbar({value: 0, max: 25238326});\n",
        "        }\n",
        "        "
       ],
       "metadata": {},
       "output_type": "display_data",
       "text": [
        "<IPython.core.display.Javascript at 0x10c468250>"
       ]
      },
      {
       "javascript": [
        "$('div#36dd4e11-f739-4d19-a957-dcaafa2625c6').text('ETA:  0:00:00');"
       ],
       "metadata": {},
       "output_type": "display_data",
       "text": [
        "<IPython.core.display.Javascript at 0x10c468290>"
       ]
      },
      {
       "javascript": [
        "$('div#81ce5e51-53ae-48ec-8ce4-d88bf1c985b3').text(' 35.62 MB/s');"
       ],
       "metadata": {},
       "output_type": "display_data",
       "text": [
        "<IPython.core.display.Javascript at 0x10c4682d0>"
       ]
      },
      {
       "javascript": [
        "$('div#6f22c609-67aa-40e9-a468-0efaae38def0').text(' 35%');"
       ],
       "metadata": {},
       "output_type": "display_data",
       "text": [
        "<IPython.core.display.Javascript at 0x10c468310>"
       ]
      },
      {
       "javascript": [
        "\n",
        "        var $myPB = $(\"div#4cb181ab-aaaa-407e-9c58-7db6a66b77ca\")\n",
        "        if ($myPB.hasClass('ui-progressbar')) {\n",
        "            $myPB.progressbar('value', 8888320);\n",
        "        } else {\n",
        "            $myPB.progressbar({value: 0, max: 25238326});\n",
        "        }\n",
        "        "
       ],
       "metadata": {},
       "output_type": "display_data",
       "text": [
        "<IPython.core.display.Javascript at 0x10c468350>"
       ]
      },
      {
       "javascript": [
        "$('div#36dd4e11-f739-4d19-a957-dcaafa2625c6').text('ETA:  0:00:00');"
       ],
       "metadata": {},
       "output_type": "display_data",
       "text": [
        "<IPython.core.display.Javascript at 0x10c468390>"
       ]
      },
      {
       "javascript": [
        "$('div#81ce5e51-53ae-48ec-8ce4-d88bf1c985b3').text(' 36.23 MB/s');"
       ],
       "metadata": {},
       "output_type": "display_data",
       "text": [
        "<IPython.core.display.Javascript at 0x10c4683d0>"
       ]
      },
      {
       "javascript": [
        "$('div#6f22c609-67aa-40e9-a468-0efaae38def0').text(' 36%');"
       ],
       "metadata": {},
       "output_type": "display_data",
       "text": [
        "<IPython.core.display.Javascript at 0x10c468410>"
       ]
      },
      {
       "javascript": [
        "\n",
        "        var $myPB = $(\"div#4cb181ab-aaaa-407e-9c58-7db6a66b77ca\")\n",
        "        if ($myPB.hasClass('ui-progressbar')) {\n",
        "            $myPB.progressbar('value', 9142272);\n",
        "        } else {\n",
        "            $myPB.progressbar({value: 0, max: 25238326});\n",
        "        }\n",
        "        "
       ],
       "metadata": {},
       "output_type": "display_data",
       "text": [
        "<IPython.core.display.Javascript at 0x10c468450>"
       ]
      },
      {
       "javascript": [
        "$('div#36dd4e11-f739-4d19-a957-dcaafa2625c6').text('ETA:  0:00:00');"
       ],
       "metadata": {},
       "output_type": "display_data",
       "text": [
        "<IPython.core.display.Javascript at 0x10c468490>"
       ]
      },
      {
       "javascript": [
        "$('div#81ce5e51-53ae-48ec-8ce4-d88bf1c985b3').text(' 36.85 MB/s');"
       ],
       "metadata": {},
       "output_type": "display_data",
       "text": [
        "<IPython.core.display.Javascript at 0x10c4684d0>"
       ]
      },
      {
       "javascript": [
        "$('div#6f22c609-67aa-40e9-a468-0efaae38def0').text(' 37%');"
       ],
       "metadata": {},
       "output_type": "display_data",
       "text": [
        "<IPython.core.display.Javascript at 0x10c468510>"
       ]
      },
      {
       "javascript": [
        "\n",
        "        var $myPB = $(\"div#4cb181ab-aaaa-407e-9c58-7db6a66b77ca\")\n",
        "        if ($myPB.hasClass('ui-progressbar')) {\n",
        "            $myPB.progressbar('value', 9396224);\n",
        "        } else {\n",
        "            $myPB.progressbar({value: 0, max: 25238326});\n",
        "        }\n",
        "        "
       ],
       "metadata": {},
       "output_type": "display_data",
       "text": [
        "<IPython.core.display.Javascript at 0x10c468550>"
       ]
      },
      {
       "javascript": [
        "$('div#36dd4e11-f739-4d19-a957-dcaafa2625c6').text('ETA:  0:00:00');"
       ],
       "metadata": {},
       "output_type": "display_data",
       "text": [
        "<IPython.core.display.Javascript at 0x10c468590>"
       ]
      },
      {
       "javascript": [
        "$('div#81ce5e51-53ae-48ec-8ce4-d88bf1c985b3').text(' 37.44 MB/s');"
       ],
       "metadata": {},
       "output_type": "display_data",
       "text": [
        "<IPython.core.display.Javascript at 0x10c4685d0>"
       ]
      },
      {
       "javascript": [
        "$('div#6f22c609-67aa-40e9-a468-0efaae38def0').text(' 38%');"
       ],
       "metadata": {},
       "output_type": "display_data",
       "text": [
        "<IPython.core.display.Javascript at 0x10c468610>"
       ]
      },
      {
       "javascript": [
        "\n",
        "        var $myPB = $(\"div#4cb181ab-aaaa-407e-9c58-7db6a66b77ca\")\n",
        "        if ($myPB.hasClass('ui-progressbar')) {\n",
        "            $myPB.progressbar('value', 9650176);\n",
        "        } else {\n",
        "            $myPB.progressbar({value: 0, max: 25238326});\n",
        "        }\n",
        "        "
       ],
       "metadata": {},
       "output_type": "display_data",
       "text": [
        "<IPython.core.display.Javascript at 0x10c468650>"
       ]
      },
      {
       "javascript": [
        "$('div#36dd4e11-f739-4d19-a957-dcaafa2625c6').text('ETA:  0:00:00');"
       ],
       "metadata": {},
       "output_type": "display_data",
       "text": [
        "<IPython.core.display.Javascript at 0x10c468690>"
       ]
      },
      {
       "javascript": [
        "$('div#81ce5e51-53ae-48ec-8ce4-d88bf1c985b3').text(' 37.96 MB/s');"
       ],
       "metadata": {},
       "output_type": "display_data",
       "text": [
        "<IPython.core.display.Javascript at 0x10c38af90>"
       ]
      },
      {
       "javascript": [
        "$('div#6f22c609-67aa-40e9-a468-0efaae38def0').text(' 39%');"
       ],
       "metadata": {},
       "output_type": "display_data",
       "text": [
        "<IPython.core.display.Javascript at 0x10c38ae90>"
       ]
      },
      {
       "javascript": [
        "\n",
        "        var $myPB = $(\"div#4cb181ab-aaaa-407e-9c58-7db6a66b77ca\")\n",
        "        if ($myPB.hasClass('ui-progressbar')) {\n",
        "            $myPB.progressbar('value', 9904128);\n",
        "        } else {\n",
        "            $myPB.progressbar({value: 0, max: 25238326});\n",
        "        }\n",
        "        "
       ],
       "metadata": {},
       "output_type": "display_data",
       "text": [
        "<IPython.core.display.Javascript at 0x10c38aed0>"
       ]
      },
      {
       "javascript": [
        "$('div#36dd4e11-f739-4d19-a957-dcaafa2625c6').text('ETA:  0:00:00');"
       ],
       "metadata": {},
       "output_type": "display_data",
       "text": [
        "<IPython.core.display.Javascript at 0x10c38afd0>"
       ]
      },
      {
       "javascript": [
        "$('div#81ce5e51-53ae-48ec-8ce4-d88bf1c985b3').text(' 38.49 MB/s');"
       ],
       "metadata": {},
       "output_type": "display_data",
       "text": [
        "<IPython.core.display.Javascript at 0x10c38af50>"
       ]
      },
      {
       "javascript": [
        "$('div#6f22c609-67aa-40e9-a468-0efaae38def0').text(' 40%');"
       ],
       "metadata": {},
       "output_type": "display_data",
       "text": [
        "<IPython.core.display.Javascript at 0x10c38af10>"
       ]
      },
      {
       "javascript": [
        "\n",
        "        var $myPB = $(\"div#4cb181ab-aaaa-407e-9c58-7db6a66b77ca\")\n",
        "        if ($myPB.hasClass('ui-progressbar')) {\n",
        "            $myPB.progressbar('value', 10158080);\n",
        "        } else {\n",
        "            $myPB.progressbar({value: 0, max: 25238326});\n",
        "        }\n",
        "        "
       ],
       "metadata": {},
       "output_type": "display_data",
       "text": [
        "<IPython.core.display.Javascript at 0x10c398e10>"
       ]
      },
      {
       "javascript": [
        "$('div#36dd4e11-f739-4d19-a957-dcaafa2625c6').text('ETA:  0:00:00');"
       ],
       "metadata": {},
       "output_type": "display_data",
       "text": [
        "<IPython.core.display.Javascript at 0x10c398ad0>"
       ]
      },
      {
       "javascript": [
        "$('div#81ce5e51-53ae-48ec-8ce4-d88bf1c985b3').text(' 39.07 MB/s');"
       ],
       "metadata": {},
       "output_type": "display_data",
       "text": [
        "<IPython.core.display.Javascript at 0x10c398190>"
       ]
      },
      {
       "javascript": [
        "$('div#6f22c609-67aa-40e9-a468-0efaae38def0').text(' 41%');"
       ],
       "metadata": {},
       "output_type": "display_data",
       "text": [
        "<IPython.core.display.Javascript at 0x10c398410>"
       ]
      },
      {
       "javascript": [
        "\n",
        "        var $myPB = $(\"div#4cb181ab-aaaa-407e-9c58-7db6a66b77ca\")\n",
        "        if ($myPB.hasClass('ui-progressbar')) {\n",
        "            $myPB.progressbar('value', 10412032);\n",
        "        } else {\n",
        "            $myPB.progressbar({value: 0, max: 25238326});\n",
        "        }\n",
        "        "
       ],
       "metadata": {},
       "output_type": "display_data",
       "text": [
        "<IPython.core.display.Javascript at 0x10c398a90>"
       ]
      },
      {
       "javascript": [
        "$('div#36dd4e11-f739-4d19-a957-dcaafa2625c6').text('ETA:  0:00:00');"
       ],
       "metadata": {},
       "output_type": "display_data",
       "text": [
        "<IPython.core.display.Javascript at 0x10c398a50>"
       ]
      },
      {
       "javascript": [
        "$('div#81ce5e51-53ae-48ec-8ce4-d88bf1c985b3').text(' 39.64 MB/s');"
       ],
       "metadata": {},
       "output_type": "display_data",
       "text": [
        "<IPython.core.display.Javascript at 0x10c3989d0>"
       ]
      },
      {
       "javascript": [
        "$('div#6f22c609-67aa-40e9-a468-0efaae38def0').text(' 42%');"
       ],
       "metadata": {},
       "output_type": "display_data",
       "text": [
        "<IPython.core.display.Javascript at 0x10c398990>"
       ]
      },
      {
       "javascript": [
        "\n",
        "        var $myPB = $(\"div#4cb181ab-aaaa-407e-9c58-7db6a66b77ca\")\n",
        "        if ($myPB.hasClass('ui-progressbar')) {\n",
        "            $myPB.progressbar('value', 10665984);\n",
        "        } else {\n",
        "            $myPB.progressbar({value: 0, max: 25238326});\n",
        "        }\n",
        "        "
       ],
       "metadata": {},
       "output_type": "display_data",
       "text": [
        "<IPython.core.display.Javascript at 0x10c398950>"
       ]
      },
      {
       "javascript": [
        "$('div#36dd4e11-f739-4d19-a957-dcaafa2625c6').text('ETA:  0:00:00');"
       ],
       "metadata": {},
       "output_type": "display_data",
       "text": [
        "<IPython.core.display.Javascript at 0x10c398910>"
       ]
      },
      {
       "javascript": [
        "$('div#81ce5e51-53ae-48ec-8ce4-d88bf1c985b3').text(' 40.18 MB/s');"
       ],
       "metadata": {},
       "output_type": "display_data",
       "text": [
        "<IPython.core.display.Javascript at 0x10c3988d0>"
       ]
      },
      {
       "javascript": [
        "$('div#6f22c609-67aa-40e9-a468-0efaae38def0').text(' 43%');"
       ],
       "metadata": {},
       "output_type": "display_data",
       "text": [
        "<IPython.core.display.Javascript at 0x10c398890>"
       ]
      },
      {
       "javascript": [
        "\n",
        "        var $myPB = $(\"div#4cb181ab-aaaa-407e-9c58-7db6a66b77ca\")\n",
        "        if ($myPB.hasClass('ui-progressbar')) {\n",
        "            $myPB.progressbar('value', 10919936);\n",
        "        } else {\n",
        "            $myPB.progressbar({value: 0, max: 25238326});\n",
        "        }\n",
        "        "
       ],
       "metadata": {},
       "output_type": "display_data",
       "text": [
        "<IPython.core.display.Javascript at 0x10c398850>"
       ]
      },
      {
       "javascript": [
        "$('div#36dd4e11-f739-4d19-a957-dcaafa2625c6').text('ETA:  0:00:00');"
       ],
       "metadata": {},
       "output_type": "display_data",
       "text": [
        "<IPython.core.display.Javascript at 0x10c398810>"
       ]
      },
      {
       "javascript": [
        "$('div#81ce5e51-53ae-48ec-8ce4-d88bf1c985b3').text(' 40.73 MB/s');"
       ],
       "metadata": {},
       "output_type": "display_data",
       "text": [
        "<IPython.core.display.Javascript at 0x10c3987d0>"
       ]
      },
      {
       "javascript": [
        "$('div#6f22c609-67aa-40e9-a468-0efaae38def0').text(' 44%');"
       ],
       "metadata": {},
       "output_type": "display_data",
       "text": [
        "<IPython.core.display.Javascript at 0x10c398790>"
       ]
      },
      {
       "javascript": [
        "\n",
        "        var $myPB = $(\"div#4cb181ab-aaaa-407e-9c58-7db6a66b77ca\")\n",
        "        if ($myPB.hasClass('ui-progressbar')) {\n",
        "            $myPB.progressbar('value', 11173888);\n",
        "        } else {\n",
        "            $myPB.progressbar({value: 0, max: 25238326});\n",
        "        }\n",
        "        "
       ],
       "metadata": {},
       "output_type": "display_data",
       "text": [
        "<IPython.core.display.Javascript at 0x10c398750>"
       ]
      },
      {
       "javascript": [
        "$('div#36dd4e11-f739-4d19-a957-dcaafa2625c6').text('ETA:  0:00:00');"
       ],
       "metadata": {},
       "output_type": "display_data",
       "text": [
        "<IPython.core.display.Javascript at 0x10c398710>"
       ]
      },
      {
       "javascript": [
        "$('div#81ce5e51-53ae-48ec-8ce4-d88bf1c985b3').text(' 41.13 MB/s');"
       ],
       "metadata": {},
       "output_type": "display_data",
       "text": [
        "<IPython.core.display.Javascript at 0x10c3986d0>"
       ]
      },
      {
       "javascript": [
        "$('div#6f22c609-67aa-40e9-a468-0efaae38def0').text(' 45%');"
       ],
       "metadata": {},
       "output_type": "display_data",
       "text": [
        "<IPython.core.display.Javascript at 0x10c398650>"
       ]
      },
      {
       "javascript": [
        "\n",
        "        var $myPB = $(\"div#4cb181ab-aaaa-407e-9c58-7db6a66b77ca\")\n",
        "        if ($myPB.hasClass('ui-progressbar')) {\n",
        "            $myPB.progressbar('value', 11427840);\n",
        "        } else {\n",
        "            $myPB.progressbar({value: 0, max: 25238326});\n",
        "        }\n",
        "        "
       ],
       "metadata": {},
       "output_type": "display_data",
       "text": [
        "<IPython.core.display.Javascript at 0x10c398610>"
       ]
      },
      {
       "javascript": [
        "$('div#36dd4e11-f739-4d19-a957-dcaafa2625c6').text('ETA:  0:00:00');"
       ],
       "metadata": {},
       "output_type": "display_data",
       "text": [
        "<IPython.core.display.Javascript at 0x10c3985d0>"
       ]
      },
      {
       "javascript": [
        "$('div#81ce5e51-53ae-48ec-8ce4-d88bf1c985b3').text(' 41.64 MB/s');"
       ],
       "metadata": {},
       "output_type": "display_data",
       "text": [
        "<IPython.core.display.Javascript at 0x10c398550>"
       ]
      },
      {
       "javascript": [
        "$('div#6f22c609-67aa-40e9-a468-0efaae38def0').text(' 46%');"
       ],
       "metadata": {},
       "output_type": "display_data",
       "text": [
        "<IPython.core.display.Javascript at 0x10c398450>"
       ]
      },
      {
       "javascript": [
        "\n",
        "        var $myPB = $(\"div#4cb181ab-aaaa-407e-9c58-7db6a66b77ca\")\n",
        "        if ($myPB.hasClass('ui-progressbar')) {\n",
        "            $myPB.progressbar('value', 11681792);\n",
        "        } else {\n",
        "            $myPB.progressbar({value: 0, max: 25238326});\n",
        "        }\n",
        "        "
       ],
       "metadata": {},
       "output_type": "display_data",
       "text": [
        "<IPython.core.display.Javascript at 0x10c398510>"
       ]
      },
      {
       "javascript": [
        "$('div#36dd4e11-f739-4d19-a957-dcaafa2625c6').text('ETA:  0:00:00');"
       ],
       "metadata": {},
       "output_type": "display_data",
       "text": [
        "<IPython.core.display.Javascript at 0x10c3984d0>"
       ]
      },
      {
       "javascript": [
        "$('div#81ce5e51-53ae-48ec-8ce4-d88bf1c985b3').text(' 42.09 MB/s');"
       ],
       "metadata": {},
       "output_type": "display_data",
       "text": [
        "<IPython.core.display.Javascript at 0x10c3981d0>"
       ]
      },
      {
       "javascript": [
        "$('div#6f22c609-67aa-40e9-a468-0efaae38def0').text(' 47%');"
       ],
       "metadata": {},
       "output_type": "display_data",
       "text": [
        "<IPython.core.display.Javascript at 0x10c398050>"
       ]
      },
      {
       "javascript": [
        "\n",
        "        var $myPB = $(\"div#4cb181ab-aaaa-407e-9c58-7db6a66b77ca\")\n",
        "        if ($myPB.hasClass('ui-progressbar')) {\n",
        "            $myPB.progressbar('value', 11935744);\n",
        "        } else {\n",
        "            $myPB.progressbar({value: 0, max: 25238326});\n",
        "        }\n",
        "        "
       ],
       "metadata": {},
       "output_type": "display_data",
       "text": [
        "<IPython.core.display.Javascript at 0x10c398690>"
       ]
      },
      {
       "javascript": [
        "$('div#36dd4e11-f739-4d19-a957-dcaafa2625c6').text('ETA:  0:00:00');"
       ],
       "metadata": {},
       "output_type": "display_data",
       "text": [
        "<IPython.core.display.Javascript at 0x10c398fd0>"
       ]
      },
      {
       "javascript": [
        "$('div#81ce5e51-53ae-48ec-8ce4-d88bf1c985b3').text(' 42.57 MB/s');"
       ],
       "metadata": {},
       "output_type": "display_data",
       "text": [
        "<IPython.core.display.Javascript at 0x10c398b10>"
       ]
      },
      {
       "javascript": [
        "$('div#6f22c609-67aa-40e9-a468-0efaae38def0').text(' 48%');"
       ],
       "metadata": {},
       "output_type": "display_data",
       "text": [
        "<IPython.core.display.Javascript at 0x10c398b50>"
       ]
      },
      {
       "javascript": [
        "\n",
        "        var $myPB = $(\"div#4cb181ab-aaaa-407e-9c58-7db6a66b77ca\")\n",
        "        if ($myPB.hasClass('ui-progressbar')) {\n",
        "            $myPB.progressbar('value', 12189696);\n",
        "        } else {\n",
        "            $myPB.progressbar({value: 0, max: 25238326});\n",
        "        }\n",
        "        "
       ],
       "metadata": {},
       "output_type": "display_data",
       "text": [
        "<IPython.core.display.Javascript at 0x10c398210>"
       ]
      },
      {
       "javascript": [
        "$('div#36dd4e11-f739-4d19-a957-dcaafa2625c6').text('ETA:  0:00:00');"
       ],
       "metadata": {},
       "output_type": "display_data",
       "text": [
        "<IPython.core.display.Javascript at 0x10c398bd0>"
       ]
      },
      {
       "javascript": [
        "$('div#81ce5e51-53ae-48ec-8ce4-d88bf1c985b3').text(' 43.07 MB/s');"
       ],
       "metadata": {},
       "output_type": "display_data",
       "text": [
        "<IPython.core.display.Javascript at 0x10c398b90>"
       ]
      },
      {
       "javascript": [
        "$('div#6f22c609-67aa-40e9-a468-0efaae38def0').text(' 49%');"
       ],
       "metadata": {},
       "output_type": "display_data",
       "text": [
        "<IPython.core.display.Javascript at 0x10c398c10>"
       ]
      },
      {
       "javascript": [
        "\n",
        "        var $myPB = $(\"div#4cb181ab-aaaa-407e-9c58-7db6a66b77ca\")\n",
        "        if ($myPB.hasClass('ui-progressbar')) {\n",
        "            $myPB.progressbar('value', 12443648);\n",
        "        } else {\n",
        "            $myPB.progressbar({value: 0, max: 25238326});\n",
        "        }\n",
        "        "
       ],
       "metadata": {},
       "output_type": "display_data",
       "text": [
        "<IPython.core.display.Javascript at 0x10c398c50>"
       ]
      },
      {
       "javascript": [
        "$('div#36dd4e11-f739-4d19-a957-dcaafa2625c6').text('ETA:  0:00:00');"
       ],
       "metadata": {},
       "output_type": "display_data",
       "text": [
        "<IPython.core.display.Javascript at 0x10c398c90>"
       ]
      },
      {
       "javascript": [
        "$('div#81ce5e51-53ae-48ec-8ce4-d88bf1c985b3').text(' 43.57 MB/s');"
       ],
       "metadata": {},
       "output_type": "display_data",
       "text": [
        "<IPython.core.display.Javascript at 0x10c398cd0>"
       ]
      },
      {
       "javascript": [
        "$('div#6f22c609-67aa-40e9-a468-0efaae38def0').text(' 50%');"
       ],
       "metadata": {},
       "output_type": "display_data",
       "text": [
        "<IPython.core.display.Javascript at 0x10c398d10>"
       ]
      },
      {
       "javascript": [
        "\n",
        "        var $myPB = $(\"div#4cb181ab-aaaa-407e-9c58-7db6a66b77ca\")\n",
        "        if ($myPB.hasClass('ui-progressbar')) {\n",
        "            $myPB.progressbar('value', 12697600);\n",
        "        } else {\n",
        "            $myPB.progressbar({value: 0, max: 25238326});\n",
        "        }\n",
        "        "
       ],
       "metadata": {},
       "output_type": "display_data",
       "text": [
        "<IPython.core.display.Javascript at 0x10c398d50>"
       ]
      },
      {
       "javascript": [
        "$('div#36dd4e11-f739-4d19-a957-dcaafa2625c6').text('ETA:  0:00:00');"
       ],
       "metadata": {},
       "output_type": "display_data",
       "text": [
        "<IPython.core.display.Javascript at 0x10c398d90>"
       ]
      },
      {
       "javascript": [
        "$('div#81ce5e51-53ae-48ec-8ce4-d88bf1c985b3').text(' 43.97 MB/s');"
       ],
       "metadata": {},
       "output_type": "display_data",
       "text": [
        "<IPython.core.display.Javascript at 0x10c398dd0>"
       ]
      },
      {
       "javascript": [
        "$('div#6f22c609-67aa-40e9-a468-0efaae38def0').text(' 51%');"
       ],
       "metadata": {},
       "output_type": "display_data",
       "text": [
        "<IPython.core.display.Javascript at 0x10c398f90>"
       ]
      },
      {
       "javascript": [
        "\n",
        "        var $myPB = $(\"div#4cb181ab-aaaa-407e-9c58-7db6a66b77ca\")\n",
        "        if ($myPB.hasClass('ui-progressbar')) {\n",
        "            $myPB.progressbar('value', 12951552);\n",
        "        } else {\n",
        "            $myPB.progressbar({value: 0, max: 25238326});\n",
        "        }\n",
        "        "
       ],
       "metadata": {},
       "output_type": "display_data",
       "text": [
        "<IPython.core.display.Javascript at 0x10c398e50>"
       ]
      },
      {
       "javascript": [
        "$('div#36dd4e11-f739-4d19-a957-dcaafa2625c6').text('ETA:  0:00:00');"
       ],
       "metadata": {},
       "output_type": "display_data",
       "text": [
        "<IPython.core.display.Javascript at 0x10c398e90>"
       ]
      },
      {
       "javascript": [
        "$('div#81ce5e51-53ae-48ec-8ce4-d88bf1c985b3').text(' 44.42 MB/s');"
       ],
       "metadata": {},
       "output_type": "display_data",
       "text": [
        "<IPython.core.display.Javascript at 0x10c398ed0>"
       ]
      },
      {
       "javascript": [
        "$('div#6f22c609-67aa-40e9-a468-0efaae38def0').text(' 52%');"
       ],
       "metadata": {},
       "output_type": "display_data",
       "text": [
        "<IPython.core.display.Javascript at 0x10c398f10>"
       ]
      },
      {
       "javascript": [
        "\n",
        "        var $myPB = $(\"div#4cb181ab-aaaa-407e-9c58-7db6a66b77ca\")\n",
        "        if ($myPB.hasClass('ui-progressbar')) {\n",
        "            $myPB.progressbar('value', 13205504);\n",
        "        } else {\n",
        "            $myPB.progressbar({value: 0, max: 25238326});\n",
        "        }\n",
        "        "
       ],
       "metadata": {},
       "output_type": "display_data",
       "text": [
        "<IPython.core.display.Javascript at 0x10c398490>"
       ]
      },
      {
       "javascript": [
        "$('div#36dd4e11-f739-4d19-a957-dcaafa2625c6').text('ETA:  0:00:00');"
       ],
       "metadata": {},
       "output_type": "display_data",
       "text": [
        "<IPython.core.display.Javascript at 0x10c398a10>"
       ]
      },
      {
       "javascript": [
        "$('div#81ce5e51-53ae-48ec-8ce4-d88bf1c985b3').text(' 44.88 MB/s');"
       ],
       "metadata": {},
       "output_type": "display_data",
       "text": [
        "<IPython.core.display.Javascript at 0x10c398f50>"
       ]
      },
      {
       "javascript": [
        "$('div#6f22c609-67aa-40e9-a468-0efaae38def0').text(' 53%');"
       ],
       "metadata": {},
       "output_type": "display_data",
       "text": [
        "<IPython.core.display.Javascript at 0x10c454050>"
       ]
      },
      {
       "javascript": [
        "\n",
        "        var $myPB = $(\"div#4cb181ab-aaaa-407e-9c58-7db6a66b77ca\")\n",
        "        if ($myPB.hasClass('ui-progressbar')) {\n",
        "            $myPB.progressbar('value', 13459456);\n",
        "        } else {\n",
        "            $myPB.progressbar({value: 0, max: 25238326});\n",
        "        }\n",
        "        "
       ],
       "metadata": {},
       "output_type": "display_data",
       "text": [
        "<IPython.core.display.Javascript at 0x10c454090>"
       ]
      },
      {
       "javascript": [
        "$('div#36dd4e11-f739-4d19-a957-dcaafa2625c6').text('ETA:  0:00:00');"
       ],
       "metadata": {},
       "output_type": "display_data",
       "text": [
        "<IPython.core.display.Javascript at 0x10c4540d0>"
       ]
      },
      {
       "javascript": [
        "$('div#81ce5e51-53ae-48ec-8ce4-d88bf1c985b3').text(' 45.31 MB/s');"
       ],
       "metadata": {},
       "output_type": "display_data",
       "text": [
        "<IPython.core.display.Javascript at 0x10c454110>"
       ]
      },
      {
       "javascript": [
        "$('div#6f22c609-67aa-40e9-a468-0efaae38def0').text(' 54%');"
       ],
       "metadata": {},
       "output_type": "display_data",
       "text": [
        "<IPython.core.display.Javascript at 0x10c454190>"
       ]
      },
      {
       "javascript": [
        "\n",
        "        var $myPB = $(\"div#4cb181ab-aaaa-407e-9c58-7db6a66b77ca\")\n",
        "        if ($myPB.hasClass('ui-progressbar')) {\n",
        "            $myPB.progressbar('value', 13713408);\n",
        "        } else {\n",
        "            $myPB.progressbar({value: 0, max: 25238326});\n",
        "        }\n",
        "        "
       ],
       "metadata": {},
       "output_type": "display_data",
       "text": [
        "<IPython.core.display.Javascript at 0x10c4541d0>"
       ]
      },
      {
       "javascript": [
        "$('div#36dd4e11-f739-4d19-a957-dcaafa2625c6').text('ETA:  0:00:00');"
       ],
       "metadata": {},
       "output_type": "display_data",
       "text": [
        "<IPython.core.display.Javascript at 0x10c454210>"
       ]
      },
      {
       "javascript": [
        "$('div#81ce5e51-53ae-48ec-8ce4-d88bf1c985b3').text(' 45.68 MB/s');"
       ],
       "metadata": {},
       "output_type": "display_data",
       "text": [
        "<IPython.core.display.Javascript at 0x10c454250>"
       ]
      },
      {
       "javascript": [
        "$('div#6f22c609-67aa-40e9-a468-0efaae38def0').text(' 55%');"
       ],
       "metadata": {},
       "output_type": "display_data",
       "text": [
        "<IPython.core.display.Javascript at 0x10c454290>"
       ]
      },
      {
       "javascript": [
        "\n",
        "        var $myPB = $(\"div#4cb181ab-aaaa-407e-9c58-7db6a66b77ca\")\n",
        "        if ($myPB.hasClass('ui-progressbar')) {\n",
        "            $myPB.progressbar('value', 13967360);\n",
        "        } else {\n",
        "            $myPB.progressbar({value: 0, max: 25238326});\n",
        "        }\n",
        "        "
       ],
       "metadata": {},
       "output_type": "display_data",
       "text": [
        "<IPython.core.display.Javascript at 0x10c4542d0>"
       ]
      },
      {
       "javascript": [
        "$('div#36dd4e11-f739-4d19-a957-dcaafa2625c6').text('ETA:  0:00:00');"
       ],
       "metadata": {},
       "output_type": "display_data",
       "text": [
        "<IPython.core.display.Javascript at 0x10c454310>"
       ]
      },
      {
       "javascript": [
        "$('div#81ce5e51-53ae-48ec-8ce4-d88bf1c985b3').text(' 46.06 MB/s');"
       ],
       "metadata": {},
       "output_type": "display_data",
       "text": [
        "<IPython.core.display.Javascript at 0x10c454350>"
       ]
      },
      {
       "javascript": [
        "$('div#6f22c609-67aa-40e9-a468-0efaae38def0').text(' 56%');"
       ],
       "metadata": {},
       "output_type": "display_data",
       "text": [
        "<IPython.core.display.Javascript at 0x10c454390>"
       ]
      },
      {
       "javascript": [
        "\n",
        "        var $myPB = $(\"div#4cb181ab-aaaa-407e-9c58-7db6a66b77ca\")\n",
        "        if ($myPB.hasClass('ui-progressbar')) {\n",
        "            $myPB.progressbar('value', 14221312);\n",
        "        } else {\n",
        "            $myPB.progressbar({value: 0, max: 25238326});\n",
        "        }\n",
        "        "
       ],
       "metadata": {},
       "output_type": "display_data",
       "text": [
        "<IPython.core.display.Javascript at 0x10c4543d0>"
       ]
      },
      {
       "javascript": [
        "$('div#36dd4e11-f739-4d19-a957-dcaafa2625c6').text('ETA:  0:00:00');"
       ],
       "metadata": {},
       "output_type": "display_data",
       "text": [
        "<IPython.core.display.Javascript at 0x10c454410>"
       ]
      },
      {
       "javascript": [
        "$('div#81ce5e51-53ae-48ec-8ce4-d88bf1c985b3').text(' 46.43 MB/s');"
       ],
       "metadata": {},
       "output_type": "display_data",
       "text": [
        "<IPython.core.display.Javascript at 0x10c454450>"
       ]
      },
      {
       "javascript": [
        "$('div#6f22c609-67aa-40e9-a468-0efaae38def0').text(' 57%');"
       ],
       "metadata": {},
       "output_type": "display_data",
       "text": [
        "<IPython.core.display.Javascript at 0x10c454490>"
       ]
      },
      {
       "javascript": [
        "\n",
        "        var $myPB = $(\"div#4cb181ab-aaaa-407e-9c58-7db6a66b77ca\")\n",
        "        if ($myPB.hasClass('ui-progressbar')) {\n",
        "            $myPB.progressbar('value', 14475264);\n",
        "        } else {\n",
        "            $myPB.progressbar({value: 0, max: 25238326});\n",
        "        }\n",
        "        "
       ],
       "metadata": {},
       "output_type": "display_data",
       "text": [
        "<IPython.core.display.Javascript at 0x10c4544d0>"
       ]
      },
      {
       "javascript": [
        "$('div#36dd4e11-f739-4d19-a957-dcaafa2625c6').text('ETA:  0:00:00');"
       ],
       "metadata": {},
       "output_type": "display_data",
       "text": [
        "<IPython.core.display.Javascript at 0x10c454510>"
       ]
      },
      {
       "javascript": [
        "$('div#81ce5e51-53ae-48ec-8ce4-d88bf1c985b3').text(' 46.85 MB/s');"
       ],
       "metadata": {},
       "output_type": "display_data",
       "text": [
        "<IPython.core.display.Javascript at 0x10c454550>"
       ]
      },
      {
       "javascript": [
        "$('div#6f22c609-67aa-40e9-a468-0efaae38def0').text(' 58%');"
       ],
       "metadata": {},
       "output_type": "display_data",
       "text": [
        "<IPython.core.display.Javascript at 0x10c454590>"
       ]
      },
      {
       "javascript": [
        "\n",
        "        var $myPB = $(\"div#4cb181ab-aaaa-407e-9c58-7db6a66b77ca\")\n",
        "        if ($myPB.hasClass('ui-progressbar')) {\n",
        "            $myPB.progressbar('value', 14729216);\n",
        "        } else {\n",
        "            $myPB.progressbar({value: 0, max: 25238326});\n",
        "        }\n",
        "        "
       ],
       "metadata": {},
       "output_type": "display_data",
       "text": [
        "<IPython.core.display.Javascript at 0x10c4545d0>"
       ]
      },
      {
       "javascript": [
        "$('div#36dd4e11-f739-4d19-a957-dcaafa2625c6').text('ETA:  0:00:00');"
       ],
       "metadata": {},
       "output_type": "display_data",
       "text": [
        "<IPython.core.display.Javascript at 0x10c454610>"
       ]
      },
      {
       "javascript": [
        "$('div#81ce5e51-53ae-48ec-8ce4-d88bf1c985b3').text(' 47.19 MB/s');"
       ],
       "metadata": {},
       "output_type": "display_data",
       "text": [
        "<IPython.core.display.Javascript at 0x10c454650>"
       ]
      },
      {
       "javascript": [
        "$('div#6f22c609-67aa-40e9-a468-0efaae38def0').text(' 59%');"
       ],
       "metadata": {},
       "output_type": "display_data",
       "text": [
        "<IPython.core.display.Javascript at 0x10c454690>"
       ]
      },
      {
       "javascript": [
        "\n",
        "        var $myPB = $(\"div#4cb181ab-aaaa-407e-9c58-7db6a66b77ca\")\n",
        "        if ($myPB.hasClass('ui-progressbar')) {\n",
        "            $myPB.progressbar('value', 14983168);\n",
        "        } else {\n",
        "            $myPB.progressbar({value: 0, max: 25238326});\n",
        "        }\n",
        "        "
       ],
       "metadata": {},
       "output_type": "display_data",
       "text": [
        "<IPython.core.display.Javascript at 0x10c398f50>"
       ]
      },
      {
       "javascript": [
        "$('div#36dd4e11-f739-4d19-a957-dcaafa2625c6').text('ETA:  0:00:00');"
       ],
       "metadata": {},
       "output_type": "display_data",
       "text": [
        "<IPython.core.display.Javascript at 0x10c398a10>"
       ]
      },
      {
       "javascript": [
        "$('div#81ce5e51-53ae-48ec-8ce4-d88bf1c985b3').text(' 47.55 MB/s');"
       ],
       "metadata": {},
       "output_type": "display_data",
       "text": [
        "<IPython.core.display.Javascript at 0x10c398490>"
       ]
      },
      {
       "javascript": [
        "$('div#6f22c609-67aa-40e9-a468-0efaae38def0').text(' 60%');"
       ],
       "metadata": {},
       "output_type": "display_data",
       "text": [
        "<IPython.core.display.Javascript at 0x10c398e90>"
       ]
      },
      {
       "javascript": [
        "\n",
        "        var $myPB = $(\"div#4cb181ab-aaaa-407e-9c58-7db6a66b77ca\")\n",
        "        if ($myPB.hasClass('ui-progressbar')) {\n",
        "            $myPB.progressbar('value', 15237120);\n",
        "        } else {\n",
        "            $myPB.progressbar({value: 0, max: 25238326});\n",
        "        }\n",
        "        "
       ],
       "metadata": {},
       "output_type": "display_data",
       "text": [
        "<IPython.core.display.Javascript at 0x10c398e50>"
       ]
      },
      {
       "javascript": [
        "$('div#36dd4e11-f739-4d19-a957-dcaafa2625c6').text('ETA:  0:00:00');"
       ],
       "metadata": {},
       "output_type": "display_data",
       "text": [
        "<IPython.core.display.Javascript at 0x10c398f90>"
       ]
      },
      {
       "javascript": [
        "$('div#81ce5e51-53ae-48ec-8ce4-d88bf1c985b3').text(' 47.88 MB/s');"
       ],
       "metadata": {},
       "output_type": "display_data",
       "text": [
        "<IPython.core.display.Javascript at 0x10c398ed0>"
       ]
      },
      {
       "javascript": [
        "$('div#6f22c609-67aa-40e9-a468-0efaae38def0').text(' 61%');"
       ],
       "metadata": {},
       "output_type": "display_data",
       "text": [
        "<IPython.core.display.Javascript at 0x10c398d90>"
       ]
      },
      {
       "javascript": [
        "\n",
        "        var $myPB = $(\"div#4cb181ab-aaaa-407e-9c58-7db6a66b77ca\")\n",
        "        if ($myPB.hasClass('ui-progressbar')) {\n",
        "            $myPB.progressbar('value', 15491072);\n",
        "        } else {\n",
        "            $myPB.progressbar({value: 0, max: 25238326});\n",
        "        }\n",
        "        "
       ],
       "metadata": {},
       "output_type": "display_data",
       "text": [
        "<IPython.core.display.Javascript at 0x10c398d50>"
       ]
      },
      {
       "javascript": [
        "$('div#36dd4e11-f739-4d19-a957-dcaafa2625c6').text('ETA:  0:00:00');"
       ],
       "metadata": {},
       "output_type": "display_data",
       "text": [
        "<IPython.core.display.Javascript at 0x10c398d10>"
       ]
      },
      {
       "javascript": [
        "$('div#81ce5e51-53ae-48ec-8ce4-d88bf1c985b3').text(' 48.18 MB/s');"
       ],
       "metadata": {},
       "output_type": "display_data",
       "text": [
        "<IPython.core.display.Javascript at 0x10c398cd0>"
       ]
      },
      {
       "javascript": [
        "$('div#6f22c609-67aa-40e9-a468-0efaae38def0').text(' 62%');"
       ],
       "metadata": {},
       "output_type": "display_data",
       "text": [
        "<IPython.core.display.Javascript at 0x10c398c90>"
       ]
      },
      {
       "javascript": [
        "\n",
        "        var $myPB = $(\"div#4cb181ab-aaaa-407e-9c58-7db6a66b77ca\")\n",
        "        if ($myPB.hasClass('ui-progressbar')) {\n",
        "            $myPB.progressbar('value', 15745024);\n",
        "        } else {\n",
        "            $myPB.progressbar({value: 0, max: 25238326});\n",
        "        }\n",
        "        "
       ],
       "metadata": {},
       "output_type": "display_data",
       "text": [
        "<IPython.core.display.Javascript at 0x10c398c50>"
       ]
      },
      {
       "javascript": [
        "$('div#36dd4e11-f739-4d19-a957-dcaafa2625c6').text('ETA:  0:00:00');"
       ],
       "metadata": {},
       "output_type": "display_data",
       "text": [
        "<IPython.core.display.Javascript at 0x10c398c10>"
       ]
      },
      {
       "javascript": [
        "$('div#81ce5e51-53ae-48ec-8ce4-d88bf1c985b3').text(' 48.44 MB/s');"
       ],
       "metadata": {},
       "output_type": "display_data",
       "text": [
        "<IPython.core.display.Javascript at 0x10c398b90>"
       ]
      },
      {
       "javascript": [
        "$('div#6f22c609-67aa-40e9-a468-0efaae38def0').text(' 63%');"
       ],
       "metadata": {},
       "output_type": "display_data",
       "text": [
        "<IPython.core.display.Javascript at 0x10c398bd0>"
       ]
      },
      {
       "javascript": [
        "\n",
        "        var $myPB = $(\"div#4cb181ab-aaaa-407e-9c58-7db6a66b77ca\")\n",
        "        if ($myPB.hasClass('ui-progressbar')) {\n",
        "            $myPB.progressbar('value', 15998976);\n",
        "        } else {\n",
        "            $myPB.progressbar({value: 0, max: 25238326});\n",
        "        }\n",
        "        "
       ],
       "metadata": {},
       "output_type": "display_data",
       "text": [
        "<IPython.core.display.Javascript at 0x10c398210>"
       ]
      },
      {
       "javascript": [
        "$('div#36dd4e11-f739-4d19-a957-dcaafa2625c6').text('ETA:  0:00:00');"
       ],
       "metadata": {},
       "output_type": "display_data",
       "text": [
        "<IPython.core.display.Javascript at 0x10c398b50>"
       ]
      },
      {
       "javascript": [
        "$('div#81ce5e51-53ae-48ec-8ce4-d88bf1c985b3').text(' 48.78 MB/s');"
       ],
       "metadata": {},
       "output_type": "display_data",
       "text": [
        "<IPython.core.display.Javascript at 0x10c398b10>"
       ]
      },
      {
       "javascript": [
        "$('div#6f22c609-67aa-40e9-a468-0efaae38def0').text(' 64%');"
       ],
       "metadata": {},
       "output_type": "display_data",
       "text": [
        "<IPython.core.display.Javascript at 0x10c398fd0>"
       ]
      },
      {
       "javascript": [
        "\n",
        "        var $myPB = $(\"div#4cb181ab-aaaa-407e-9c58-7db6a66b77ca\")\n",
        "        if ($myPB.hasClass('ui-progressbar')) {\n",
        "            $myPB.progressbar('value', 16252928);\n",
        "        } else {\n",
        "            $myPB.progressbar({value: 0, max: 25238326});\n",
        "        }\n",
        "        "
       ],
       "metadata": {},
       "output_type": "display_data",
       "text": [
        "<IPython.core.display.Javascript at 0x10c398690>"
       ]
      },
      {
       "javascript": [
        "$('div#36dd4e11-f739-4d19-a957-dcaafa2625c6').text('ETA:  0:00:00');"
       ],
       "metadata": {},
       "output_type": "display_data",
       "text": [
        "<IPython.core.display.Javascript at 0x10c398050>"
       ]
      },
      {
       "javascript": [
        "$('div#81ce5e51-53ae-48ec-8ce4-d88bf1c985b3').text(' 49.10 MB/s');"
       ],
       "metadata": {},
       "output_type": "display_data",
       "text": [
        "<IPython.core.display.Javascript at 0x10c3981d0>"
       ]
      },
      {
       "javascript": [
        "$('div#6f22c609-67aa-40e9-a468-0efaae38def0').text(' 65%');"
       ],
       "metadata": {},
       "output_type": "display_data",
       "text": [
        "<IPython.core.display.Javascript at 0x10c3984d0>"
       ]
      },
      {
       "javascript": [
        "\n",
        "        var $myPB = $(\"div#4cb181ab-aaaa-407e-9c58-7db6a66b77ca\")\n",
        "        if ($myPB.hasClass('ui-progressbar')) {\n",
        "            $myPB.progressbar('value', 16506880);\n",
        "        } else {\n",
        "            $myPB.progressbar({value: 0, max: 25238326});\n",
        "        }\n",
        "        "
       ],
       "metadata": {},
       "output_type": "display_data",
       "text": [
        "<IPython.core.display.Javascript at 0x10c398510>"
       ]
      },
      {
       "javascript": [
        "$('div#36dd4e11-f739-4d19-a957-dcaafa2625c6').text('ETA:  0:00:00');"
       ],
       "metadata": {},
       "output_type": "display_data",
       "text": [
        "<IPython.core.display.Javascript at 0x10c398450>"
       ]
      },
      {
       "javascript": [
        "$('div#81ce5e51-53ae-48ec-8ce4-d88bf1c985b3').text(' 49.44 MB/s');"
       ],
       "metadata": {},
       "output_type": "display_data",
       "text": [
        "<IPython.core.display.Javascript at 0x10c398550>"
       ]
      },
      {
       "javascript": [
        "$('div#6f22c609-67aa-40e9-a468-0efaae38def0').text(' 66%');"
       ],
       "metadata": {},
       "output_type": "display_data",
       "text": [
        "<IPython.core.display.Javascript at 0x10c3985d0>"
       ]
      },
      {
       "javascript": [
        "\n",
        "        var $myPB = $(\"div#4cb181ab-aaaa-407e-9c58-7db6a66b77ca\")\n",
        "        if ($myPB.hasClass('ui-progressbar')) {\n",
        "            $myPB.progressbar('value', 16760832);\n",
        "        } else {\n",
        "            $myPB.progressbar({value: 0, max: 25238326});\n",
        "        }\n",
        "        "
       ],
       "metadata": {},
       "output_type": "display_data",
       "text": [
        "<IPython.core.display.Javascript at 0x10c398610>"
       ]
      },
      {
       "javascript": [
        "$('div#36dd4e11-f739-4d19-a957-dcaafa2625c6').text('ETA:  0:00:00');"
       ],
       "metadata": {},
       "output_type": "display_data",
       "text": [
        "<IPython.core.display.Javascript at 0x10c398650>"
       ]
      },
      {
       "javascript": [
        "$('div#81ce5e51-53ae-48ec-8ce4-d88bf1c985b3').text(' 49.77 MB/s');"
       ],
       "metadata": {},
       "output_type": "display_data",
       "text": [
        "<IPython.core.display.Javascript at 0x10c3986d0>"
       ]
      },
      {
       "javascript": [
        "$('div#6f22c609-67aa-40e9-a468-0efaae38def0').text(' 67%');"
       ],
       "metadata": {},
       "output_type": "display_data",
       "text": [
        "<IPython.core.display.Javascript at 0x10c398710>"
       ]
      },
      {
       "javascript": [
        "\n",
        "        var $myPB = $(\"div#4cb181ab-aaaa-407e-9c58-7db6a66b77ca\")\n",
        "        if ($myPB.hasClass('ui-progressbar')) {\n",
        "            $myPB.progressbar('value', 17014784);\n",
        "        } else {\n",
        "            $myPB.progressbar({value: 0, max: 25238326});\n",
        "        }\n",
        "        "
       ],
       "metadata": {},
       "output_type": "display_data",
       "text": [
        "<IPython.core.display.Javascript at 0x10c398750>"
       ]
      },
      {
       "javascript": [
        "$('div#36dd4e11-f739-4d19-a957-dcaafa2625c6').text('ETA:  0:00:00');"
       ],
       "metadata": {},
       "output_type": "display_data",
       "text": [
        "<IPython.core.display.Javascript at 0x10c398790>"
       ]
      },
      {
       "javascript": [
        "$('div#81ce5e51-53ae-48ec-8ce4-d88bf1c985b3').text(' 50.05 MB/s');"
       ],
       "metadata": {},
       "output_type": "display_data",
       "text": [
        "<IPython.core.display.Javascript at 0x10c3987d0>"
       ]
      },
      {
       "javascript": [
        "$('div#6f22c609-67aa-40e9-a468-0efaae38def0').text(' 68%');"
       ],
       "metadata": {},
       "output_type": "display_data",
       "text": [
        "<IPython.core.display.Javascript at 0x10c398810>"
       ]
      },
      {
       "javascript": [
        "\n",
        "        var $myPB = $(\"div#4cb181ab-aaaa-407e-9c58-7db6a66b77ca\")\n",
        "        if ($myPB.hasClass('ui-progressbar')) {\n",
        "            $myPB.progressbar('value', 17268736);\n",
        "        } else {\n",
        "            $myPB.progressbar({value: 0, max: 25238326});\n",
        "        }\n",
        "        "
       ],
       "metadata": {},
       "output_type": "display_data",
       "text": [
        "<IPython.core.display.Javascript at 0x10c398850>"
       ]
      },
      {
       "javascript": [
        "$('div#36dd4e11-f739-4d19-a957-dcaafa2625c6').text('ETA:  0:00:00');"
       ],
       "metadata": {},
       "output_type": "display_data",
       "text": [
        "<IPython.core.display.Javascript at 0x10c398890>"
       ]
      },
      {
       "javascript": [
        "$('div#81ce5e51-53ae-48ec-8ce4-d88bf1c985b3').text(' 50.34 MB/s');"
       ],
       "metadata": {},
       "output_type": "display_data",
       "text": [
        "<IPython.core.display.Javascript at 0x10c3988d0>"
       ]
      },
      {
       "javascript": [
        "$('div#6f22c609-67aa-40e9-a468-0efaae38def0').text(' 69%');"
       ],
       "metadata": {},
       "output_type": "display_data",
       "text": [
        "<IPython.core.display.Javascript at 0x10c398910>"
       ]
      },
      {
       "javascript": [
        "\n",
        "        var $myPB = $(\"div#4cb181ab-aaaa-407e-9c58-7db6a66b77ca\")\n",
        "        if ($myPB.hasClass('ui-progressbar')) {\n",
        "            $myPB.progressbar('value', 17522688);\n",
        "        } else {\n",
        "            $myPB.progressbar({value: 0, max: 25238326});\n",
        "        }\n",
        "        "
       ],
       "metadata": {},
       "output_type": "display_data",
       "text": [
        "<IPython.core.display.Javascript at 0x10c398950>"
       ]
      },
      {
       "javascript": [
        "$('div#36dd4e11-f739-4d19-a957-dcaafa2625c6').text('ETA:  0:00:00');"
       ],
       "metadata": {},
       "output_type": "display_data",
       "text": [
        "<IPython.core.display.Javascript at 0x10c398990>"
       ]
      },
      {
       "javascript": [
        "$('div#81ce5e51-53ae-48ec-8ce4-d88bf1c985b3').text(' 50.62 MB/s');"
       ],
       "metadata": {},
       "output_type": "display_data",
       "text": [
        "<IPython.core.display.Javascript at 0x10c3989d0>"
       ]
      },
      {
       "javascript": [
        "$('div#6f22c609-67aa-40e9-a468-0efaae38def0').text(' 70%');"
       ],
       "metadata": {},
       "output_type": "display_data",
       "text": [
        "<IPython.core.display.Javascript at 0x10c398a50>"
       ]
      },
      {
       "javascript": [
        "\n",
        "        var $myPB = $(\"div#4cb181ab-aaaa-407e-9c58-7db6a66b77ca\")\n",
        "        if ($myPB.hasClass('ui-progressbar')) {\n",
        "            $myPB.progressbar('value', 17776640);\n",
        "        } else {\n",
        "            $myPB.progressbar({value: 0, max: 25238326});\n",
        "        }\n",
        "        "
       ],
       "metadata": {},
       "output_type": "display_data",
       "text": [
        "<IPython.core.display.Javascript at 0x10c398a90>"
       ]
      },
      {
       "javascript": [
        "$('div#36dd4e11-f739-4d19-a957-dcaafa2625c6').text('ETA:  0:00:00');"
       ],
       "metadata": {},
       "output_type": "display_data",
       "text": [
        "<IPython.core.display.Javascript at 0x10c398410>"
       ]
      },
      {
       "javascript": [
        "$('div#81ce5e51-53ae-48ec-8ce4-d88bf1c985b3').text(' 50.94 MB/s');"
       ],
       "metadata": {},
       "output_type": "display_data",
       "text": [
        "<IPython.core.display.Javascript at 0x10c398190>"
       ]
      },
      {
       "javascript": [
        "$('div#6f22c609-67aa-40e9-a468-0efaae38def0').text(' 71%');"
       ],
       "metadata": {},
       "output_type": "display_data",
       "text": [
        "<IPython.core.display.Javascript at 0x10c398ad0>"
       ]
      },
      {
       "javascript": [
        "\n",
        "        var $myPB = $(\"div#4cb181ab-aaaa-407e-9c58-7db6a66b77ca\")\n",
        "        if ($myPB.hasClass('ui-progressbar')) {\n",
        "            $myPB.progressbar('value', 18030592);\n",
        "        } else {\n",
        "            $myPB.progressbar({value: 0, max: 25238326});\n",
        "        }\n",
        "        "
       ],
       "metadata": {},
       "output_type": "display_data",
       "text": [
        "<IPython.core.display.Javascript at 0x10c398e10>"
       ]
      },
      {
       "javascript": [
        "$('div#36dd4e11-f739-4d19-a957-dcaafa2625c6').text('ETA:  0:00:00');"
       ],
       "metadata": {},
       "output_type": "display_data",
       "text": [
        "<IPython.core.display.Javascript at 0x10c398dd0>"
       ]
      },
      {
       "javascript": [
        "$('div#81ce5e51-53ae-48ec-8ce4-d88bf1c985b3').text(' 51.18 MB/s');"
       ],
       "metadata": {},
       "output_type": "display_data",
       "text": [
        "<IPython.core.display.Javascript at 0x10c38af10>"
       ]
      },
      {
       "javascript": [
        "$('div#6f22c609-67aa-40e9-a468-0efaae38def0').text(' 72%');"
       ],
       "metadata": {},
       "output_type": "display_data",
       "text": [
        "<IPython.core.display.Javascript at 0x10c38af50>"
       ]
      },
      {
       "javascript": [
        "\n",
        "        var $myPB = $(\"div#4cb181ab-aaaa-407e-9c58-7db6a66b77ca\")\n",
        "        if ($myPB.hasClass('ui-progressbar')) {\n",
        "            $myPB.progressbar('value', 18284544);\n",
        "        } else {\n",
        "            $myPB.progressbar({value: 0, max: 25238326});\n",
        "        }\n",
        "        "
       ],
       "metadata": {},
       "output_type": "display_data",
       "text": [
        "<IPython.core.display.Javascript at 0x10c38afd0>"
       ]
      },
      {
       "javascript": [
        "$('div#36dd4e11-f739-4d19-a957-dcaafa2625c6').text('ETA:  0:00:00');"
       ],
       "metadata": {},
       "output_type": "display_data",
       "text": [
        "<IPython.core.display.Javascript at 0x10c38aed0>"
       ]
      },
      {
       "javascript": [
        "$('div#81ce5e51-53ae-48ec-8ce4-d88bf1c985b3').text(' 51.44 MB/s');"
       ],
       "metadata": {},
       "output_type": "display_data",
       "text": [
        "<IPython.core.display.Javascript at 0x10c38ae90>"
       ]
      },
      {
       "javascript": [
        "$('div#6f22c609-67aa-40e9-a468-0efaae38def0').text(' 73%');"
       ],
       "metadata": {},
       "output_type": "display_data",
       "text": [
        "<IPython.core.display.Javascript at 0x10c38af90>"
       ]
      },
      {
       "javascript": [
        "\n",
        "        var $myPB = $(\"div#4cb181ab-aaaa-407e-9c58-7db6a66b77ca\")\n",
        "        if ($myPB.hasClass('ui-progressbar')) {\n",
        "            $myPB.progressbar('value', 18538496);\n",
        "        } else {\n",
        "            $myPB.progressbar({value: 0, max: 25238326});\n",
        "        }\n",
        "        "
       ],
       "metadata": {},
       "output_type": "display_data",
       "text": [
        "<IPython.core.display.Javascript at 0x10c38acd0>"
       ]
      },
      {
       "javascript": [
        "$('div#36dd4e11-f739-4d19-a957-dcaafa2625c6').text('ETA:  0:00:00');"
       ],
       "metadata": {},
       "output_type": "display_data",
       "text": [
        "<IPython.core.display.Javascript at 0x10c53c050>"
       ]
      },
      {
       "javascript": [
        "$('div#81ce5e51-53ae-48ec-8ce4-d88bf1c985b3').text(' 51.72 MB/s');"
       ],
       "metadata": {},
       "output_type": "display_data",
       "text": [
        "<IPython.core.display.Javascript at 0x10c53c090>"
       ]
      },
      {
       "javascript": [
        "$('div#6f22c609-67aa-40e9-a468-0efaae38def0').text(' 74%');"
       ],
       "metadata": {},
       "output_type": "display_data",
       "text": [
        "<IPython.core.display.Javascript at 0x10c53c0d0>"
       ]
      },
      {
       "javascript": [
        "\n",
        "        var $myPB = $(\"div#4cb181ab-aaaa-407e-9c58-7db6a66b77ca\")\n",
        "        if ($myPB.hasClass('ui-progressbar')) {\n",
        "            $myPB.progressbar('value', 18792448);\n",
        "        } else {\n",
        "            $myPB.progressbar({value: 0, max: 25238326});\n",
        "        }\n",
        "        "
       ],
       "metadata": {},
       "output_type": "display_data",
       "text": [
        "<IPython.core.display.Javascript at 0x10c53c110>"
       ]
      },
      {
       "javascript": [
        "$('div#36dd4e11-f739-4d19-a957-dcaafa2625c6').text('ETA:  0:00:00');"
       ],
       "metadata": {},
       "output_type": "display_data",
       "text": [
        "<IPython.core.display.Javascript at 0x10c53c190>"
       ]
      },
      {
       "javascript": [
        "$('div#81ce5e51-53ae-48ec-8ce4-d88bf1c985b3').text(' 52.00 MB/s');"
       ],
       "metadata": {},
       "output_type": "display_data",
       "text": [
        "<IPython.core.display.Javascript at 0x10c53c1d0>"
       ]
      },
      {
       "javascript": [
        "$('div#6f22c609-67aa-40e9-a468-0efaae38def0').text(' 75%');"
       ],
       "metadata": {},
       "output_type": "display_data",
       "text": [
        "<IPython.core.display.Javascript at 0x10c53c210>"
       ]
      },
      {
       "javascript": [
        "\n",
        "        var $myPB = $(\"div#4cb181ab-aaaa-407e-9c58-7db6a66b77ca\")\n",
        "        if ($myPB.hasClass('ui-progressbar')) {\n",
        "            $myPB.progressbar('value', 19046400);\n",
        "        } else {\n",
        "            $myPB.progressbar({value: 0, max: 25238326});\n",
        "        }\n",
        "        "
       ],
       "metadata": {},
       "output_type": "display_data",
       "text": [
        "<IPython.core.display.Javascript at 0x10c53c250>"
       ]
      },
      {
       "javascript": [
        "$('div#36dd4e11-f739-4d19-a957-dcaafa2625c6').text('ETA:  0:00:00');"
       ],
       "metadata": {},
       "output_type": "display_data",
       "text": [
        "<IPython.core.display.Javascript at 0x10c53c290>"
       ]
      },
      {
       "javascript": [
        "$('div#81ce5e51-53ae-48ec-8ce4-d88bf1c985b3').text(' 52.18 MB/s');"
       ],
       "metadata": {},
       "output_type": "display_data",
       "text": [
        "<IPython.core.display.Javascript at 0x10c53c2d0>"
       ]
      },
      {
       "javascript": [
        "$('div#6f22c609-67aa-40e9-a468-0efaae38def0').text(' 76%');"
       ],
       "metadata": {},
       "output_type": "display_data",
       "text": [
        "<IPython.core.display.Javascript at 0x10c53c310>"
       ]
      },
      {
       "javascript": [
        "\n",
        "        var $myPB = $(\"div#4cb181ab-aaaa-407e-9c58-7db6a66b77ca\")\n",
        "        if ($myPB.hasClass('ui-progressbar')) {\n",
        "            $myPB.progressbar('value', 19300352);\n",
        "        } else {\n",
        "            $myPB.progressbar({value: 0, max: 25238326});\n",
        "        }\n",
        "        "
       ],
       "metadata": {},
       "output_type": "display_data",
       "text": [
        "<IPython.core.display.Javascript at 0x10c53c350>"
       ]
      },
      {
       "javascript": [
        "$('div#36dd4e11-f739-4d19-a957-dcaafa2625c6').text('ETA:  0:00:00');"
       ],
       "metadata": {},
       "output_type": "display_data",
       "text": [
        "<IPython.core.display.Javascript at 0x10c53c390>"
       ]
      },
      {
       "javascript": [
        "$('div#81ce5e51-53ae-48ec-8ce4-d88bf1c985b3').text(' 52.48 MB/s');"
       ],
       "metadata": {},
       "output_type": "display_data",
       "text": [
        "<IPython.core.display.Javascript at 0x10c53c3d0>"
       ]
      },
      {
       "javascript": [
        "$('div#6f22c609-67aa-40e9-a468-0efaae38def0').text(' 77%');"
       ],
       "metadata": {},
       "output_type": "display_data",
       "text": [
        "<IPython.core.display.Javascript at 0x10c53c410>"
       ]
      },
      {
       "javascript": [
        "\n",
        "        var $myPB = $(\"div#4cb181ab-aaaa-407e-9c58-7db6a66b77ca\")\n",
        "        if ($myPB.hasClass('ui-progressbar')) {\n",
        "            $myPB.progressbar('value', 19554304);\n",
        "        } else {\n",
        "            $myPB.progressbar({value: 0, max: 25238326});\n",
        "        }\n",
        "        "
       ],
       "metadata": {},
       "output_type": "display_data",
       "text": [
        "<IPython.core.display.Javascript at 0x10c53c450>"
       ]
      },
      {
       "javascript": [
        "$('div#36dd4e11-f739-4d19-a957-dcaafa2625c6').text('ETA:  0:00:00');"
       ],
       "metadata": {},
       "output_type": "display_data",
       "text": [
        "<IPython.core.display.Javascript at 0x10c53c490>"
       ]
      },
      {
       "javascript": [
        "$('div#81ce5e51-53ae-48ec-8ce4-d88bf1c985b3').text(' 52.70 MB/s');"
       ],
       "metadata": {},
       "output_type": "display_data",
       "text": [
        "<IPython.core.display.Javascript at 0x10c53c4d0>"
       ]
      },
      {
       "javascript": [
        "$('div#6f22c609-67aa-40e9-a468-0efaae38def0').text(' 78%');"
       ],
       "metadata": {},
       "output_type": "display_data",
       "text": [
        "<IPython.core.display.Javascript at 0x10c53c510>"
       ]
      },
      {
       "javascript": [
        "\n",
        "        var $myPB = $(\"div#4cb181ab-aaaa-407e-9c58-7db6a66b77ca\")\n",
        "        if ($myPB.hasClass('ui-progressbar')) {\n",
        "            $myPB.progressbar('value', 19808256);\n",
        "        } else {\n",
        "            $myPB.progressbar({value: 0, max: 25238326});\n",
        "        }\n",
        "        "
       ],
       "metadata": {},
       "output_type": "display_data",
       "text": [
        "<IPython.core.display.Javascript at 0x10c53c550>"
       ]
      },
      {
       "javascript": [
        "$('div#36dd4e11-f739-4d19-a957-dcaafa2625c6').text('ETA:  0:00:00');"
       ],
       "metadata": {},
       "output_type": "display_data",
       "text": [
        "<IPython.core.display.Javascript at 0x10c53c590>"
       ]
      },
      {
       "javascript": [
        "$('div#81ce5e51-53ae-48ec-8ce4-d88bf1c985b3').text(' 52.94 MB/s');"
       ],
       "metadata": {},
       "output_type": "display_data",
       "text": [
        "<IPython.core.display.Javascript at 0x10c53c5d0>"
       ]
      },
      {
       "javascript": [
        "$('div#6f22c609-67aa-40e9-a468-0efaae38def0').text(' 79%');"
       ],
       "metadata": {},
       "output_type": "display_data",
       "text": [
        "<IPython.core.display.Javascript at 0x10c53c610>"
       ]
      },
      {
       "javascript": [
        "\n",
        "        var $myPB = $(\"div#4cb181ab-aaaa-407e-9c58-7db6a66b77ca\")\n",
        "        if ($myPB.hasClass('ui-progressbar')) {\n",
        "            $myPB.progressbar('value', 20062208);\n",
        "        } else {\n",
        "            $myPB.progressbar({value: 0, max: 25238326});\n",
        "        }\n",
        "        "
       ],
       "metadata": {},
       "output_type": "display_data",
       "text": [
        "<IPython.core.display.Javascript at 0x10c53c650>"
       ]
      },
      {
       "javascript": [
        "$('div#36dd4e11-f739-4d19-a957-dcaafa2625c6').text('ETA:  0:00:00');"
       ],
       "metadata": {},
       "output_type": "display_data",
       "text": [
        "<IPython.core.display.Javascript at 0x10c53c690>"
       ]
      },
      {
       "javascript": [
        "$('div#81ce5e51-53ae-48ec-8ce4-d88bf1c985b3').text(' 53.13 MB/s');"
       ],
       "metadata": {},
       "output_type": "display_data",
       "text": [
        "<IPython.core.display.Javascript at 0x10c38acd0>"
       ]
      },
      {
       "javascript": [
        "$('div#6f22c609-67aa-40e9-a468-0efaae38def0').text(' 80%');"
       ],
       "metadata": {},
       "output_type": "display_data",
       "text": [
        "<IPython.core.display.Javascript at 0x10c38ae90>"
       ]
      },
      {
       "javascript": [
        "\n",
        "        var $myPB = $(\"div#4cb181ab-aaaa-407e-9c58-7db6a66b77ca\")\n",
        "        if ($myPB.hasClass('ui-progressbar')) {\n",
        "            $myPB.progressbar('value', 20316160);\n",
        "        } else {\n",
        "            $myPB.progressbar({value: 0, max: 25238326});\n",
        "        }\n",
        "        "
       ],
       "metadata": {},
       "output_type": "display_data",
       "text": [
        "<IPython.core.display.Javascript at 0x10c38aed0>"
       ]
      },
      {
       "javascript": [
        "$('div#36dd4e11-f739-4d19-a957-dcaafa2625c6').text('ETA:  0:00:00');"
       ],
       "metadata": {},
       "output_type": "display_data",
       "text": [
        "<IPython.core.display.Javascript at 0x10c38af50>"
       ]
      },
      {
       "javascript": [
        "$('div#81ce5e51-53ae-48ec-8ce4-d88bf1c985b3').text(' 53.39 MB/s');"
       ],
       "metadata": {},
       "output_type": "display_data",
       "text": [
        "<IPython.core.display.Javascript at 0x10c38afd0>"
       ]
      },
      {
       "javascript": [
        "$('div#6f22c609-67aa-40e9-a468-0efaae38def0').text(' 81%');"
       ],
       "metadata": {},
       "output_type": "display_data",
       "text": [
        "<IPython.core.display.Javascript at 0x10c38af10>"
       ]
      },
      {
       "javascript": [
        "\n",
        "        var $myPB = $(\"div#4cb181ab-aaaa-407e-9c58-7db6a66b77ca\")\n",
        "        if ($myPB.hasClass('ui-progressbar')) {\n",
        "            $myPB.progressbar('value', 20570112);\n",
        "        } else {\n",
        "            $myPB.progressbar({value: 0, max: 25238326});\n",
        "        }\n",
        "        "
       ],
       "metadata": {},
       "output_type": "display_data",
       "text": [
        "<IPython.core.display.Javascript at 0x10c398dd0>"
       ]
      },
      {
       "javascript": [
        "$('div#36dd4e11-f739-4d19-a957-dcaafa2625c6').text('ETA:  0:00:00');"
       ],
       "metadata": {},
       "output_type": "display_data",
       "text": [
        "<IPython.core.display.Javascript at 0x10c398e10>"
       ]
      },
      {
       "javascript": [
        "$('div#81ce5e51-53ae-48ec-8ce4-d88bf1c985b3').text(' 53.56 MB/s');"
       ],
       "metadata": {},
       "output_type": "display_data",
       "text": [
        "<IPython.core.display.Javascript at 0x10c398ad0>"
       ]
      },
      {
       "javascript": [
        "$('div#6f22c609-67aa-40e9-a468-0efaae38def0').text(' 82%');"
       ],
       "metadata": {},
       "output_type": "display_data",
       "text": [
        "<IPython.core.display.Javascript at 0x10c398190>"
       ]
      },
      {
       "javascript": [
        "\n",
        "        var $myPB = $(\"div#4cb181ab-aaaa-407e-9c58-7db6a66b77ca\")\n",
        "        if ($myPB.hasClass('ui-progressbar')) {\n",
        "            $myPB.progressbar('value', 20824064);\n",
        "        } else {\n",
        "            $myPB.progressbar({value: 0, max: 25238326});\n",
        "        }\n",
        "        "
       ],
       "metadata": {},
       "output_type": "display_data",
       "text": [
        "<IPython.core.display.Javascript at 0x10c398410>"
       ]
      },
      {
       "javascript": [
        "$('div#36dd4e11-f739-4d19-a957-dcaafa2625c6').text('ETA:  0:00:00');"
       ],
       "metadata": {},
       "output_type": "display_data",
       "text": [
        "<IPython.core.display.Javascript at 0x10c398a90>"
       ]
      },
      {
       "javascript": [
        "$('div#81ce5e51-53ae-48ec-8ce4-d88bf1c985b3').text(' 53.78 MB/s');"
       ],
       "metadata": {},
       "output_type": "display_data",
       "text": [
        "<IPython.core.display.Javascript at 0x10c398a50>"
       ]
      },
      {
       "javascript": [
        "$('div#6f22c609-67aa-40e9-a468-0efaae38def0').text(' 83%');"
       ],
       "metadata": {},
       "output_type": "display_data",
       "text": [
        "<IPython.core.display.Javascript at 0x10c3989d0>"
       ]
      },
      {
       "javascript": [
        "\n",
        "        var $myPB = $(\"div#4cb181ab-aaaa-407e-9c58-7db6a66b77ca\")\n",
        "        if ($myPB.hasClass('ui-progressbar')) {\n",
        "            $myPB.progressbar('value', 21078016);\n",
        "        } else {\n",
        "            $myPB.progressbar({value: 0, max: 25238326});\n",
        "        }\n",
        "        "
       ],
       "metadata": {},
       "output_type": "display_data",
       "text": [
        "<IPython.core.display.Javascript at 0x10c398990>"
       ]
      },
      {
       "javascript": [
        "$('div#36dd4e11-f739-4d19-a957-dcaafa2625c6').text('ETA:  0:00:00');"
       ],
       "metadata": {},
       "output_type": "display_data",
       "text": [
        "<IPython.core.display.Javascript at 0x10c398950>"
       ]
      },
      {
       "javascript": [
        "$('div#81ce5e51-53ae-48ec-8ce4-d88bf1c985b3').text(' 53.98 MB/s');"
       ],
       "metadata": {},
       "output_type": "display_data",
       "text": [
        "<IPython.core.display.Javascript at 0x10c398910>"
       ]
      },
      {
       "javascript": [
        "$('div#6f22c609-67aa-40e9-a468-0efaae38def0').text(' 84%');"
       ],
       "metadata": {},
       "output_type": "display_data",
       "text": [
        "<IPython.core.display.Javascript at 0x10c3988d0>"
       ]
      },
      {
       "javascript": [
        "\n",
        "        var $myPB = $(\"div#4cb181ab-aaaa-407e-9c58-7db6a66b77ca\")\n",
        "        if ($myPB.hasClass('ui-progressbar')) {\n",
        "            $myPB.progressbar('value', 21331968);\n",
        "        } else {\n",
        "            $myPB.progressbar({value: 0, max: 25238326});\n",
        "        }\n",
        "        "
       ],
       "metadata": {},
       "output_type": "display_data",
       "text": [
        "<IPython.core.display.Javascript at 0x10c398890>"
       ]
      },
      {
       "javascript": [
        "$('div#36dd4e11-f739-4d19-a957-dcaafa2625c6').text('ETA:  0:00:00');"
       ],
       "metadata": {},
       "output_type": "display_data",
       "text": [
        "<IPython.core.display.Javascript at 0x10c398850>"
       ]
      },
      {
       "javascript": [
        "$('div#81ce5e51-53ae-48ec-8ce4-d88bf1c985b3').text(' 54.23 MB/s');"
       ],
       "metadata": {},
       "output_type": "display_data",
       "text": [
        "<IPython.core.display.Javascript at 0x10c398810>"
       ]
      },
      {
       "javascript": [
        "$('div#6f22c609-67aa-40e9-a468-0efaae38def0').text(' 85%');"
       ],
       "metadata": {},
       "output_type": "display_data",
       "text": [
        "<IPython.core.display.Javascript at 0x10c3987d0>"
       ]
      },
      {
       "javascript": [
        "\n",
        "        var $myPB = $(\"div#4cb181ab-aaaa-407e-9c58-7db6a66b77ca\")\n",
        "        if ($myPB.hasClass('ui-progressbar')) {\n",
        "            $myPB.progressbar('value', 21585920);\n",
        "        } else {\n",
        "            $myPB.progressbar({value: 0, max: 25238326});\n",
        "        }\n",
        "        "
       ],
       "metadata": {},
       "output_type": "display_data",
       "text": [
        "<IPython.core.display.Javascript at 0x10c398790>"
       ]
      },
      {
       "javascript": [
        "$('div#36dd4e11-f739-4d19-a957-dcaafa2625c6').text('ETA:  0:00:00');"
       ],
       "metadata": {},
       "output_type": "display_data",
       "text": [
        "<IPython.core.display.Javascript at 0x10c398750>"
       ]
      },
      {
       "javascript": [
        "$('div#81ce5e51-53ae-48ec-8ce4-d88bf1c985b3').text(' 54.43 MB/s');"
       ],
       "metadata": {},
       "output_type": "display_data",
       "text": [
        "<IPython.core.display.Javascript at 0x10c398710>"
       ]
      },
      {
       "javascript": [
        "$('div#6f22c609-67aa-40e9-a468-0efaae38def0').text(' 86%');"
       ],
       "metadata": {},
       "output_type": "display_data",
       "text": [
        "<IPython.core.display.Javascript at 0x10c3986d0>"
       ]
      },
      {
       "javascript": [
        "\n",
        "        var $myPB = $(\"div#4cb181ab-aaaa-407e-9c58-7db6a66b77ca\")\n",
        "        if ($myPB.hasClass('ui-progressbar')) {\n",
        "            $myPB.progressbar('value', 21839872);\n",
        "        } else {\n",
        "            $myPB.progressbar({value: 0, max: 25238326});\n",
        "        }\n",
        "        "
       ],
       "metadata": {},
       "output_type": "display_data",
       "text": [
        "<IPython.core.display.Javascript at 0x10c398650>"
       ]
      },
      {
       "javascript": [
        "$('div#36dd4e11-f739-4d19-a957-dcaafa2625c6').text('ETA:  0:00:00');"
       ],
       "metadata": {},
       "output_type": "display_data",
       "text": [
        "<IPython.core.display.Javascript at 0x10c398610>"
       ]
      },
      {
       "javascript": [
        "$('div#81ce5e51-53ae-48ec-8ce4-d88bf1c985b3').text(' 54.68 MB/s');"
       ],
       "metadata": {},
       "output_type": "display_data",
       "text": [
        "<IPython.core.display.Javascript at 0x10c3985d0>"
       ]
      },
      {
       "javascript": [
        "$('div#6f22c609-67aa-40e9-a468-0efaae38def0').text(' 87%');"
       ],
       "metadata": {},
       "output_type": "display_data",
       "text": [
        "<IPython.core.display.Javascript at 0x10c398550>"
       ]
      },
      {
       "javascript": [
        "\n",
        "        var $myPB = $(\"div#4cb181ab-aaaa-407e-9c58-7db6a66b77ca\")\n",
        "        if ($myPB.hasClass('ui-progressbar')) {\n",
        "            $myPB.progressbar('value', 22093824);\n",
        "        } else {\n",
        "            $myPB.progressbar({value: 0, max: 25238326});\n",
        "        }\n",
        "        "
       ],
       "metadata": {},
       "output_type": "display_data",
       "text": [
        "<IPython.core.display.Javascript at 0x10c398450>"
       ]
      },
      {
       "javascript": [
        "$('div#36dd4e11-f739-4d19-a957-dcaafa2625c6').text('ETA:  0:00:00');"
       ],
       "metadata": {},
       "output_type": "display_data",
       "text": [
        "<IPython.core.display.Javascript at 0x10c398510>"
       ]
      },
      {
       "javascript": [
        "$('div#81ce5e51-53ae-48ec-8ce4-d88bf1c985b3').text(' 54.94 MB/s');"
       ],
       "metadata": {},
       "output_type": "display_data",
       "text": [
        "<IPython.core.display.Javascript at 0x10c3984d0>"
       ]
      },
      {
       "javascript": [
        "$('div#6f22c609-67aa-40e9-a468-0efaae38def0').text(' 88%');"
       ],
       "metadata": {},
       "output_type": "display_data",
       "text": [
        "<IPython.core.display.Javascript at 0x10c3981d0>"
       ]
      },
      {
       "javascript": [
        "\n",
        "        var $myPB = $(\"div#4cb181ab-aaaa-407e-9c58-7db6a66b77ca\")\n",
        "        if ($myPB.hasClass('ui-progressbar')) {\n",
        "            $myPB.progressbar('value', 22347776);\n",
        "        } else {\n",
        "            $myPB.progressbar({value: 0, max: 25238326});\n",
        "        }\n",
        "        "
       ],
       "metadata": {},
       "output_type": "display_data",
       "text": [
        "<IPython.core.display.Javascript at 0x10c398050>"
       ]
      },
      {
       "javascript": [
        "$('div#36dd4e11-f739-4d19-a957-dcaafa2625c6').text('ETA:  0:00:00');"
       ],
       "metadata": {},
       "output_type": "display_data",
       "text": [
        "<IPython.core.display.Javascript at 0x10c398690>"
       ]
      },
      {
       "javascript": [
        "$('div#81ce5e51-53ae-48ec-8ce4-d88bf1c985b3').text(' 54.95 MB/s');"
       ],
       "metadata": {},
       "output_type": "display_data",
       "text": [
        "<IPython.core.display.Javascript at 0x10c398fd0>"
       ]
      },
      {
       "javascript": [
        "$('div#6f22c609-67aa-40e9-a468-0efaae38def0').text(' 89%');"
       ],
       "metadata": {},
       "output_type": "display_data",
       "text": [
        "<IPython.core.display.Javascript at 0x10c398b10>"
       ]
      },
      {
       "javascript": [
        "\n",
        "        var $myPB = $(\"div#4cb181ab-aaaa-407e-9c58-7db6a66b77ca\")\n",
        "        if ($myPB.hasClass('ui-progressbar')) {\n",
        "            $myPB.progressbar('value', 22601728);\n",
        "        } else {\n",
        "            $myPB.progressbar({value: 0, max: 25238326});\n",
        "        }\n",
        "        "
       ],
       "metadata": {},
       "output_type": "display_data",
       "text": [
        "<IPython.core.display.Javascript at 0x10c398b50>"
       ]
      },
      {
       "javascript": [
        "$('div#36dd4e11-f739-4d19-a957-dcaafa2625c6').text('ETA:  0:00:00');"
       ],
       "metadata": {},
       "output_type": "display_data",
       "text": [
        "<IPython.core.display.Javascript at 0x10c398210>"
       ]
      },
      {
       "javascript": [
        "$('div#81ce5e51-53ae-48ec-8ce4-d88bf1c985b3').text(' 55.17 MB/s');"
       ],
       "metadata": {},
       "output_type": "display_data",
       "text": [
        "<IPython.core.display.Javascript at 0x10c398bd0>"
       ]
      },
      {
       "javascript": [
        "$('div#6f22c609-67aa-40e9-a468-0efaae38def0').text(' 90%');"
       ],
       "metadata": {},
       "output_type": "display_data",
       "text": [
        "<IPython.core.display.Javascript at 0x10c398b90>"
       ]
      },
      {
       "javascript": [
        "\n",
        "        var $myPB = $(\"div#4cb181ab-aaaa-407e-9c58-7db6a66b77ca\")\n",
        "        if ($myPB.hasClass('ui-progressbar')) {\n",
        "            $myPB.progressbar('value', 22855680);\n",
        "        } else {\n",
        "            $myPB.progressbar({value: 0, max: 25238326});\n",
        "        }\n",
        "        "
       ],
       "metadata": {},
       "output_type": "display_data",
       "text": [
        "<IPython.core.display.Javascript at 0x10c398c10>"
       ]
      },
      {
       "javascript": [
        "$('div#36dd4e11-f739-4d19-a957-dcaafa2625c6').text('ETA:  0:00:00');"
       ],
       "metadata": {},
       "output_type": "display_data",
       "text": [
        "<IPython.core.display.Javascript at 0x10c398c50>"
       ]
      },
      {
       "javascript": [
        "$('div#81ce5e51-53ae-48ec-8ce4-d88bf1c985b3').text(' 55.40 MB/s');"
       ],
       "metadata": {},
       "output_type": "display_data",
       "text": [
        "<IPython.core.display.Javascript at 0x10c398c90>"
       ]
      },
      {
       "javascript": [
        "$('div#6f22c609-67aa-40e9-a468-0efaae38def0').text(' 91%');"
       ],
       "metadata": {},
       "output_type": "display_data",
       "text": [
        "<IPython.core.display.Javascript at 0x10c398cd0>"
       ]
      },
      {
       "javascript": [
        "\n",
        "        var $myPB = $(\"div#4cb181ab-aaaa-407e-9c58-7db6a66b77ca\")\n",
        "        if ($myPB.hasClass('ui-progressbar')) {\n",
        "            $myPB.progressbar('value', 23109632);\n",
        "        } else {\n",
        "            $myPB.progressbar({value: 0, max: 25238326});\n",
        "        }\n",
        "        "
       ],
       "metadata": {},
       "output_type": "display_data",
       "text": [
        "<IPython.core.display.Javascript at 0x10c398d10>"
       ]
      },
      {
       "javascript": [
        "$('div#36dd4e11-f739-4d19-a957-dcaafa2625c6').text('ETA:  0:00:00');"
       ],
       "metadata": {},
       "output_type": "display_data",
       "text": [
        "<IPython.core.display.Javascript at 0x10c398d50>"
       ]
      },
      {
       "javascript": [
        "$('div#81ce5e51-53ae-48ec-8ce4-d88bf1c985b3').text(' 55.64 MB/s');"
       ],
       "metadata": {},
       "output_type": "display_data",
       "text": [
        "<IPython.core.display.Javascript at 0x10c398d90>"
       ]
      },
      {
       "javascript": [
        "$('div#6f22c609-67aa-40e9-a468-0efaae38def0').text(' 92%');"
       ],
       "metadata": {},
       "output_type": "display_data",
       "text": [
        "<IPython.core.display.Javascript at 0x10c398ed0>"
       ]
      },
      {
       "javascript": [
        "\n",
        "        var $myPB = $(\"div#4cb181ab-aaaa-407e-9c58-7db6a66b77ca\")\n",
        "        if ($myPB.hasClass('ui-progressbar')) {\n",
        "            $myPB.progressbar('value', 23363584);\n",
        "        } else {\n",
        "            $myPB.progressbar({value: 0, max: 25238326});\n",
        "        }\n",
        "        "
       ],
       "metadata": {},
       "output_type": "display_data",
       "text": [
        "<IPython.core.display.Javascript at 0x10c398f90>"
       ]
      },
      {
       "javascript": [
        "$('div#36dd4e11-f739-4d19-a957-dcaafa2625c6').text('ETA:  0:00:00');"
       ],
       "metadata": {},
       "output_type": "display_data",
       "text": [
        "<IPython.core.display.Javascript at 0x10c398e50>"
       ]
      },
      {
       "javascript": [
        "$('div#81ce5e51-53ae-48ec-8ce4-d88bf1c985b3').text(' 55.84 MB/s');"
       ],
       "metadata": {},
       "output_type": "display_data",
       "text": [
        "<IPython.core.display.Javascript at 0x10c398e90>"
       ]
      },
      {
       "javascript": [
        "$('div#6f22c609-67aa-40e9-a468-0efaae38def0').text(' 93%');"
       ],
       "metadata": {},
       "output_type": "display_data",
       "text": [
        "<IPython.core.display.Javascript at 0x10c398490>"
       ]
      },
      {
       "javascript": [
        "\n",
        "        var $myPB = $(\"div#4cb181ab-aaaa-407e-9c58-7db6a66b77ca\")\n",
        "        if ($myPB.hasClass('ui-progressbar')) {\n",
        "            $myPB.progressbar('value', 23617536);\n",
        "        } else {\n",
        "            $myPB.progressbar({value: 0, max: 25238326});\n",
        "        }\n",
        "        "
       ],
       "metadata": {},
       "output_type": "display_data",
       "text": [
        "<IPython.core.display.Javascript at 0x10c398a10>"
       ]
      },
      {
       "javascript": [
        "$('div#36dd4e11-f739-4d19-a957-dcaafa2625c6').text('ETA:  0:00:00');"
       ],
       "metadata": {},
       "output_type": "display_data",
       "text": [
        "<IPython.core.display.Javascript at 0x10c398f50>"
       ]
      },
      {
       "javascript": [
        "$('div#81ce5e51-53ae-48ec-8ce4-d88bf1c985b3').text(' 56.07 MB/s');"
       ],
       "metadata": {},
       "output_type": "display_data",
       "text": [
        "<IPython.core.display.Javascript at 0x10c398f10>"
       ]
      },
      {
       "javascript": [
        "$('div#6f22c609-67aa-40e9-a468-0efaae38def0').text(' 94%');"
       ],
       "metadata": {},
       "output_type": "display_data",
       "text": [
        "<IPython.core.display.Javascript at 0x10c4b5050>"
       ]
      },
      {
       "javascript": [
        "\n",
        "        var $myPB = $(\"div#4cb181ab-aaaa-407e-9c58-7db6a66b77ca\")\n",
        "        if ($myPB.hasClass('ui-progressbar')) {\n",
        "            $myPB.progressbar('value', 23871488);\n",
        "        } else {\n",
        "            $myPB.progressbar({value: 0, max: 25238326});\n",
        "        }\n",
        "        "
       ],
       "metadata": {},
       "output_type": "display_data",
       "text": [
        "<IPython.core.display.Javascript at 0x10c4b5090>"
       ]
      },
      {
       "javascript": [
        "$('div#36dd4e11-f739-4d19-a957-dcaafa2625c6').text('ETA:  0:00:00');"
       ],
       "metadata": {},
       "output_type": "display_data",
       "text": [
        "<IPython.core.display.Javascript at 0x10c4b50d0>"
       ]
      },
      {
       "javascript": [
        "$('div#81ce5e51-53ae-48ec-8ce4-d88bf1c985b3').text(' 56.28 MB/s');"
       ],
       "metadata": {},
       "output_type": "display_data",
       "text": [
        "<IPython.core.display.Javascript at 0x10c4b5110>"
       ]
      },
      {
       "javascript": [
        "$('div#6f22c609-67aa-40e9-a468-0efaae38def0').text(' 95%');"
       ],
       "metadata": {},
       "output_type": "display_data",
       "text": [
        "<IPython.core.display.Javascript at 0x10c4b5190>"
       ]
      },
      {
       "javascript": [
        "\n",
        "        var $myPB = $(\"div#4cb181ab-aaaa-407e-9c58-7db6a66b77ca\")\n",
        "        if ($myPB.hasClass('ui-progressbar')) {\n",
        "            $myPB.progressbar('value', 24125440);\n",
        "        } else {\n",
        "            $myPB.progressbar({value: 0, max: 25238326});\n",
        "        }\n",
        "        "
       ],
       "metadata": {},
       "output_type": "display_data",
       "text": [
        "<IPython.core.display.Javascript at 0x10c4b51d0>"
       ]
      },
      {
       "javascript": [
        "$('div#36dd4e11-f739-4d19-a957-dcaafa2625c6').text('ETA:  0:00:00');"
       ],
       "metadata": {},
       "output_type": "display_data",
       "text": [
        "<IPython.core.display.Javascript at 0x10c4b5210>"
       ]
      },
      {
       "javascript": [
        "$('div#81ce5e51-53ae-48ec-8ce4-d88bf1c985b3').text(' 56.49 MB/s');"
       ],
       "metadata": {},
       "output_type": "display_data",
       "text": [
        "<IPython.core.display.Javascript at 0x10c4b5250>"
       ]
      },
      {
       "javascript": [
        "$('div#6f22c609-67aa-40e9-a468-0efaae38def0').text(' 96%');"
       ],
       "metadata": {},
       "output_type": "display_data",
       "text": [
        "<IPython.core.display.Javascript at 0x10c4b5290>"
       ]
      },
      {
       "javascript": [
        "\n",
        "        var $myPB = $(\"div#4cb181ab-aaaa-407e-9c58-7db6a66b77ca\")\n",
        "        if ($myPB.hasClass('ui-progressbar')) {\n",
        "            $myPB.progressbar('value', 24379392);\n",
        "        } else {\n",
        "            $myPB.progressbar({value: 0, max: 25238326});\n",
        "        }\n",
        "        "
       ],
       "metadata": {},
       "output_type": "display_data",
       "text": [
        "<IPython.core.display.Javascript at 0x10c4b52d0>"
       ]
      },
      {
       "javascript": [
        "$('div#36dd4e11-f739-4d19-a957-dcaafa2625c6').text('ETA:  0:00:00');"
       ],
       "metadata": {},
       "output_type": "display_data",
       "text": [
        "<IPython.core.display.Javascript at 0x10c4b5310>"
       ]
      },
      {
       "javascript": [
        "$('div#81ce5e51-53ae-48ec-8ce4-d88bf1c985b3').text(' 56.69 MB/s');"
       ],
       "metadata": {},
       "output_type": "display_data",
       "text": [
        "<IPython.core.display.Javascript at 0x10c4b5350>"
       ]
      },
      {
       "javascript": [
        "$('div#6f22c609-67aa-40e9-a468-0efaae38def0').text(' 97%');"
       ],
       "metadata": {},
       "output_type": "display_data",
       "text": [
        "<IPython.core.display.Javascript at 0x10c4b5390>"
       ]
      },
      {
       "javascript": [
        "\n",
        "        var $myPB = $(\"div#4cb181ab-aaaa-407e-9c58-7db6a66b77ca\")\n",
        "        if ($myPB.hasClass('ui-progressbar')) {\n",
        "            $myPB.progressbar('value', 24633344);\n",
        "        } else {\n",
        "            $myPB.progressbar({value: 0, max: 25238326});\n",
        "        }\n",
        "        "
       ],
       "metadata": {},
       "output_type": "display_data",
       "text": [
        "<IPython.core.display.Javascript at 0x10c4b53d0>"
       ]
      },
      {
       "javascript": [
        "$('div#36dd4e11-f739-4d19-a957-dcaafa2625c6').text('ETA:  0:00:00');"
       ],
       "metadata": {},
       "output_type": "display_data",
       "text": [
        "<IPython.core.display.Javascript at 0x10c4b5410>"
       ]
      },
      {
       "javascript": [
        "$('div#81ce5e51-53ae-48ec-8ce4-d88bf1c985b3').text(' 56.87 MB/s');"
       ],
       "metadata": {},
       "output_type": "display_data",
       "text": [
        "<IPython.core.display.Javascript at 0x10c4b5450>"
       ]
      },
      {
       "javascript": [
        "$('div#6f22c609-67aa-40e9-a468-0efaae38def0').text(' 98%');"
       ],
       "metadata": {},
       "output_type": "display_data",
       "text": [
        "<IPython.core.display.Javascript at 0x10c4b5490>"
       ]
      },
      {
       "javascript": [
        "\n",
        "        var $myPB = $(\"div#4cb181ab-aaaa-407e-9c58-7db6a66b77ca\")\n",
        "        if ($myPB.hasClass('ui-progressbar')) {\n",
        "            $myPB.progressbar('value', 24887296);\n",
        "        } else {\n",
        "            $myPB.progressbar({value: 0, max: 25238326});\n",
        "        }\n",
        "        "
       ],
       "metadata": {},
       "output_type": "display_data",
       "text": [
        "<IPython.core.display.Javascript at 0x10c4b54d0>"
       ]
      },
      {
       "javascript": [
        "$('div#36dd4e11-f739-4d19-a957-dcaafa2625c6').text('ETA:  0:00:00');"
       ],
       "metadata": {},
       "output_type": "display_data",
       "text": [
        "<IPython.core.display.Javascript at 0x10c4b5510>"
       ]
      },
      {
       "javascript": [
        "$('div#81ce5e51-53ae-48ec-8ce4-d88bf1c985b3').text(' 57.10 MB/s');"
       ],
       "metadata": {},
       "output_type": "display_data",
       "text": [
        "<IPython.core.display.Javascript at 0x10c4b5550>"
       ]
      },
      {
       "javascript": [
        "$('div#6f22c609-67aa-40e9-a468-0efaae38def0').text(' 99%');"
       ],
       "metadata": {},
       "output_type": "display_data",
       "text": [
        "<IPython.core.display.Javascript at 0x10c4b5590>"
       ]
      },
      {
       "javascript": [
        "\n",
        "        var $myPB = $(\"div#4cb181ab-aaaa-407e-9c58-7db6a66b77ca\")\n",
        "        if ($myPB.hasClass('ui-progressbar')) {\n",
        "            $myPB.progressbar('value', 25141248);\n",
        "        } else {\n",
        "            $myPB.progressbar({value: 0, max: 25238326});\n",
        "        }\n",
        "        "
       ],
       "metadata": {},
       "output_type": "display_data",
       "text": [
        "<IPython.core.display.Javascript at 0x10c4b55d0>"
       ]
      },
      {
       "javascript": [
        "$('div#36dd4e11-f739-4d19-a957-dcaafa2625c6').text('ETA:  0:00:00');"
       ],
       "metadata": {},
       "output_type": "display_data",
       "text": [
        "<IPython.core.display.Javascript at 0x10c4b5610>"
       ]
      },
      {
       "javascript": [
        "$('div#81ce5e51-53ae-48ec-8ce4-d88bf1c985b3').text(' 57.29 MB/s');"
       ],
       "metadata": {},
       "output_type": "display_data",
       "text": [
        "<IPython.core.display.Javascript at 0x10c4b5650>"
       ]
      },
      {
       "javascript": [
        "$('div#6f22c609-67aa-40e9-a468-0efaae38def0').text('100%');"
       ],
       "metadata": {},
       "output_type": "display_data",
       "text": [
        "<IPython.core.display.Javascript at 0x10c4b5690>"
       ]
      },
      {
       "javascript": [
        "\n",
        "        var $myPB = $(\"div#4cb181ab-aaaa-407e-9c58-7db6a66b77ca\")\n",
        "        if ($myPB.hasClass('ui-progressbar')) {\n",
        "            $myPB.progressbar('value', 25238326);\n",
        "        } else {\n",
        "            $myPB.progressbar({value: 0, max: 25238326});\n",
        "        }\n",
        "        "
       ],
       "metadata": {},
       "output_type": "display_data",
       "text": [
        "<IPython.core.display.Javascript at 0x10c4b56d0>"
       ]
      },
      {
       "javascript": [
        "$('div#36dd4e11-f739-4d19-a957-dcaafa2625c6').text('Time: 0:00:00');"
       ],
       "metadata": {},
       "output_type": "display_data",
       "text": [
        "<IPython.core.display.Javascript at 0x10c398f10>"
       ]
      },
      {
       "javascript": [
        "$('div#81ce5e51-53ae-48ec-8ce4-d88bf1c985b3').text(' 57.19 MB/s');"
       ],
       "metadata": {},
       "output_type": "display_data",
       "text": [
        "<IPython.core.display.Javascript at 0x10c398f50>"
       ]
      },
      {
       "javascript": [
        "var element = document.getElementById('2818d45f-e779-439a-8b31-c34352d82b7d');\n",
        "                    var parent = element.parentNode\n",
        "                    parent.removeChild(element);\n",
        "                    parent.parentElement.remove();"
       ],
       "metadata": {},
       "output_type": "display_data",
       "text": [
        "<IPython.core.display.Javascript at 0x10c398a10>"
       ]
      },
      {
       "javascript": [
        "this.cleanProgressBar(['2818d45f-e779-439a-8b31-c34352d82b7d', '6f22c609-67aa-40e9-a468-0efaae38def0', '4cb181ab-aaaa-407e-9c58-7db6a66b77ca', '36dd4e11-f739-4d19-a957-dcaafa2625c6', '81ce5e51-53ae-48ec-8ce4-d88bf1c985b3'])"
       ],
       "metadata": {},
       "output_type": "display_data",
       "text": [
        "<IPython.core.display.Javascript at 0x10c398490>"
       ]
      },
      {
       "output_type": "stream",
       "stream": "stdout",
       "text": [
        "Finished downloading instance_data_es_inspire_lexicon_ipa_v1.dict\n",
        "There are 738967 words in the lexicon"
       ]
      },
      {
       "output_type": "stream",
       "stream": "stdout",
       "text": [
        "\n"
       ]
      }
     ],
     "prompt_number": 4
    },
    {
     "cell_type": "markdown",
     "metadata": {},
     "source": [
      "The lexicon is a subclass of a Python dictionary mapping from a word to a set of pronunciations.  The pronunciations are lists of strings where each string represents a phoneme.\n",
      "\n",
      "To use the lexicon we simply query it as we would do with any other Python dictionary.  Note that the case of the words is ignored when querying the lexicon:"
     ]
    },
    {
     "cell_type": "code",
     "collapsed": false,
     "input": [
      "inspire.pprint('Is \"ayuda\" in the lexicon? {}'.format('ayuda' in lexicon))\n",
      "inspire.pprint(lexicon['ayuda'])"
     ],
     "language": "python",
     "metadata": {},
     "outputs": [
      {
       "output_type": "stream",
       "stream": "stdout",
       "text": [
        "'Is \"ayuda\" in the lexicon? True'\n",
        "[[u'a', u'j', u'j', u'\u02c8u', u'\u00f0', u'a']]\n"
       ]
      }
     ],
     "prompt_number": 5
    },
    {
     "cell_type": "markdown",
     "metadata": {},
     "source": [
      "## The submission\n",
      "\n",
      "### Preparation of the submission\n",
      "A submission consists of a dictionary data structure containing metadata (information of the participant, the challenge edition and contact details) and the predictions for the stimuli.  The predictions are stored in a data structure similar to that of the dataset (a list of dictionaries, one per stimulus).  Each stimulus dictionary must contain the `token_id` and then a list of task predictions `task_prediction` each task prediction is a dictionary containing a `task` property indicating what task it is solving and the `prediction` which is dictionary whose form depends on the task.\n",
      "\n",
      "In order to avoid errors when creating the participation data structure, we have built a Python class that eases the job."
     ]
    },
    {
     "cell_type": "code",
     "collapsed": false,
     "input": [
      "submission = inspire.Submission(email='dummy@email.com', \n",
      "                                evaluation_setting=setting)"
     ],
     "language": "python",
     "metadata": {},
     "outputs": [],
     "prompt_number": 7
    },
    {
     "cell_type": "markdown",
     "metadata": {},
     "source": [
      "### Adding the predictions of the tasks\n",
      "We iterate over the dataset and for each presented word we query it's pronunciations, and arbitrarily select one.\n",
      "We will then produce the predictions for each of the tasks.  In this simple baseline random guessing scenario we will follow the same predcition strategy independently of the token:\n",
      "\n",
      "* **where task** For the phoneme positions we predict a 50% chance of observing a confusion. We predict a 1% chance of confusion at the inter-phoneme positions and a 30% chance of confusion at the positions before and after the utterance.\n",
      "* **where task** We only provide predictions for the phoneme positions. We predict a 50% chance of not observing a confusion (the observed phoneme will remain) and a 5% of removing the phoneme.\n",
      "* **full task** We predict a 10% of not observing a confusion (the ellicited pronunciation being reported)."
     ]
    },
    {
     "cell_type": "code",
     "collapsed": false,
     "input": [
      "# Iterate over all the stimuli in our dataset\n",
      "for token_id, token  in dataset['tokens'].items():\n",
      "    word = token['speech']\n",
      "    \n",
      "    # Lexicon may contain multiple pronunciations\n",
      "    pronunciations = lexicon[word.upper()]\n",
      "    \n",
      "    # Here we arbitrarily select the first one\n",
      "    pronunciation = pronunciations[0]\n",
      "    \n",
      "    # Get a list of phonemes from the space separated pronunciation of the lexicon\n",
      "    phonemes = pronunciation\n",
      "    \n",
      "    # Possible indices of confusions\n",
      "    # are the number of phonemes plus\n",
      "    # the number of positions around phonemes\n",
      "    index_count = len(phonemes)*2 + 1\n",
      "    \n",
      "    confusion_probabilities = np.zeros(index_count)\n",
      "\n",
      "    # Our random guess for the Where task assumes:\n",
      "    #  - a 30% chance of finding a confusion at all phoneme positions (substitutions or removals)\n",
      "    confusion_probabilities[1::2] = 0.3\n",
      "    \n",
      "    #  - a 1% chance of finding an insertion between all phoneme positions (insertions)\n",
      "    confusion_probabilities[2:-2:2] = 0.01\n",
      "    \n",
      "    #  - a 50% chance of finding insertions of phonemes at beginning and end of words (insertions)\n",
      "    confusion_probabilities[0] = 0.5\n",
      "    confusion_probabilities[-1] = 0.5\n",
      "            \n",
      "    submission.where_task(token_id, confusion_probabilities)\n",
      "    \n",
      "    # Our random guess for the What task assumes:\n",
      "    # Phonemes are represented as strings\n",
      "    # Sequence of phonemes are space joined strings\n",
      "    # A removal is represented as an empty string\n",
      "    for phoneme_index, phoneme in enumerate(phonemes):\n",
      "        index = phoneme_index * 2 + 1\n",
      "        \n",
      "        #  - a 50% chance of not changing the phoneme\n",
      "        submission.what_task(token_id, index, phoneme, 0.5)\n",
      "\n",
      "        #  - a 5% chance of phoneme removal\n",
      "        submission.what_task(token_id, index, '', 0.05)\n",
      "        \n",
      "    # Our random guess for the Full task assumes:\n",
      "    #  - a 10% chance of reporting the pronunciation of the presented utterance\n",
      "    submission.full_task(token_id, ' '.join(pronunciation), 0.1)"
     ],
     "language": "python",
     "metadata": {},
     "outputs": [],
     "prompt_number": 8
    },
    {
     "cell_type": "markdown",
     "metadata": {},
     "source": [
      "Once the submission has been created we can print the predictions of a given token.\n",
      "This is also useful to understand the JSON format of a submission."
     ]
    },
    {
     "cell_type": "code",
     "collapsed": false,
     "input": [
      "inspire.pprint(submission['tokens']['35541'])"
     ],
     "language": "python",
     "metadata": {},
     "outputs": [
      {
       "output_type": "stream",
       "stream": "stdout",
       "text": [
        "{u'full': {u'p e k \u02c8e \u0272 o s': 0.1},\n",
        " u'what': {'1': {'': 0.05, u'p': 0.5},\n",
        "           '11': {'': 0.05, u'o': 0.5},\n",
        "           '13': {'': 0.05, u's': 0.5},\n",
        "           '3': {'': 0.05, u'e': 0.5},\n",
        "           '5': {'': 0.05, u'k': 0.5},\n",
        "           '7': {'': 0.05, u'\u02c8e': 0.5},\n",
        "           '9': {'': 0.05, u'\u0272': 0.5}},\n",
        " u'where': [0.5,\n",
        "            0.29999999999999999,\n",
        "            0.01,\n",
        "            0.29999999999999999,\n",
        "            0.01,\n",
        "            0.29999999999999999,\n",
        "            0.01,\n",
        "            0.29999999999999999,\n",
        "            0.01,\n",
        "            0.29999999999999999,\n",
        "            0.01,\n",
        "            0.29999999999999999,\n",
        "            0.01,\n",
        "            0.29999999999999999,\n",
        "            0.5]}\n"
       ]
      }
     ],
     "prompt_number": 9
    },
    {
     "cell_type": "markdown",
     "metadata": {},
     "source": [
      "We can also save the submission as a JSON file."
     ]
    },
    {
     "cell_type": "code",
     "collapsed": false,
     "input": [
      "submission.save('submission_random_guess.json')"
     ],
     "language": "python",
     "metadata": {},
     "outputs": [],
     "prompt_number": 10
    },
    {
     "cell_type": "markdown",
     "metadata": {},
     "source": [
      "### Evaluating before submitting\n",
      "\n",
      "Sometimes we might not want to submit, and simply evaluate a submission.  In that case we may call `evaluate()`.\n",
      "\n",
      "The evaluation **may take some time**, especially if the submission covers all tasks and all tokens.\n",
      "\n",
      "If you want quicker results only perform predictions on a subset of the tokens and/or the tasks."
     ]
    },
    {
     "cell_type": "code",
     "collapsed": false,
     "input": [
      "results = submission.evaluate(password='dummypassword')"
     ],
     "language": "python",
     "metadata": {},
     "outputs": [],
     "prompt_number": 11
    },
    {
     "cell_type": "code",
     "collapsed": false,
     "input": [
      "inspire.pprint(results['evaluation']['where']['token_averaged'])\n",
      "inspire.pprint(results['evaluation']['what']['token_averaged'])\n",
      "inspire.pprint(results['evaluation']['full']['token_averaged'])"
     ],
     "language": "python",
     "metadata": {},
     "outputs": [
      {
       "output_type": "stream",
       "stream": "stdout",
       "text": [
        "-4.447249484612775\n",
        "-22.754745016900845\n",
        "-51.46760462341195\n"
       ]
      }
     ],
     "prompt_number": 12
    },
    {
     "cell_type": "markdown",
     "metadata": {},
     "source": [
      "### Sending in the submission\n",
      "\n",
      "The final step is to send the submission. This will save a copy of the submission in the server and return the evaluation results.\n",
      "\n",
      "To submit we simply call the submit function of the submission object that we have created.\n",
      "The email that we have used when creating the submission class is the one that will be used to login to the server.\n",
      "We must also supply the password that we used when we registered to the INSPIRE Challenge website."
     ]
    },
    {
     "cell_type": "code",
     "collapsed": false,
     "input": [
      "results = submission.submit(password='dummypassword')"
     ],
     "language": "python",
     "metadata": {},
     "outputs": [],
     "prompt_number": 13
    },
    {
     "cell_type": "code",
     "collapsed": false,
     "input": [
      "inspire.pprint(results['evaluation']['where']['token_averaged'])\n",
      "inspire.pprint(results['evaluation']['what']['token_averaged'])\n",
      "inspire.pprint(results['evaluation']['full']['token_averaged'])"
     ],
     "language": "python",
     "metadata": {},
     "outputs": [
      {
       "output_type": "stream",
       "stream": "stdout",
       "text": [
        "-4.447249484612775\n",
        "-22.754745016900845\n",
        "-51.46760462341195\n"
       ]
      }
     ],
     "prompt_number": 14
    },
    {
     "cell_type": "code",
     "collapsed": false,
     "input": [],
     "language": "python",
     "metadata": {},
     "outputs": []
    }
   ],
   "metadata": {}
  }
 ]
}