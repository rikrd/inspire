{
 "metadata": {
  "name": "",
  "signature": "sha256:a89b5f512bcb3a9f94b151ee8a9f63d1d97a4c3068690cf57ffb8c7df1b25252"
 },
 "nbformat": 3,
 "nbformat_minor": 0,
 "worksheets": [
  {
   "cells": [
    {
     "cell_type": "markdown",
     "metadata": {},
     "source": [
      "# Getting started\n",
      "## Installing the necessary module\n",
      "\n",
      "You must first install the `inspire` Python module.\n",
      "\n",
      "This can be done using `pip` by running the following command in your terminal:\n",
      "```\n",
      "pip install inspire\n",
      "```\n",
      "\n",
      "You may also run the following command to upgrade to the latest version:\n",
      "```\n",
      "pip install --upgrade inspire\n",
      "```\n",
      "\n",
      "## Importing the necessary modules\n",
      "To start with we will import the modules we are going to use throughout this tutorial."
     ]
    },
    {
     "cell_type": "code",
     "collapsed": false,
     "input": [
      "import numpy as np\n",
      "import inspire"
     ],
     "language": "python",
     "metadata": {},
     "outputs": [],
     "prompt_number": 1
    },
    {
     "cell_type": "markdown",
     "metadata": {},
     "source": [
      "## The setting\n",
      "An evaluation setting is composed of a dataset, a lexicon and several evaluation parameters. A submission will always be tied to a given evaluation setting.  Therefore our first job is to get an evaluation setting to work on.\n",
      "\n",
      "By not passing any parameters we will be getting the default one.  Currently the default setting is a dataset of words in Spanish and a large vocabulary lexicon in IPA encoding."
     ]
    },
    {
     "cell_type": "code",
     "collapsed": false,
     "input": [
      "setting = inspire.get_evaluation_setting()"
     ],
     "language": "python",
     "metadata": {},
     "outputs": [],
     "prompt_number": 2
    },
    {
     "cell_type": "markdown",
     "metadata": {},
     "source": [
      "## The dataset\n",
      "Next we download the dataset, load it, and have a quick peak of what is in it."
     ]
    },
    {
     "cell_type": "code",
     "collapsed": false,
     "input": [
      "dataset_filename = setting.download_dataset()\n",
      "dataset = inspire.load_dataset(dataset_filename)\n",
      "\n",
      "print('There are {} tokens in dataset'.format(len(dataset['tokens'])))\n",
      "\n",
      "inspire.pprint(dataset['tokens']['35541'])"
     ],
     "language": "python",
     "metadata": {},
     "outputs": [
      {
       "javascript": [
        "//1eb0a16e-ccaa-4ea5-9f37-f6c9567d541d\n",
        "$(\"head\").append(\"<style> td.pb_widget {     width: auto; } td.pb_widget_fill {     width: 100%; } table.pb {     font-family: monospace;     border: 0;     margin: 0; } table.pb tr { border: 0; } table.pb td {     white-space: nowrap;     border: 0; } div.pb {     border: 1px solid #ddd;     border-radius: 3px; } div.pb_bar {     height: 1.5em; } </style>\")"
       ],
       "metadata": {},
       "output_type": "display_data",
       "text": [
        "<IPython.core.display.Javascript at 0x11080f050>"
       ]
      },
      {
       "javascript": [
        "\n",
        "                  // 1eb0a16e-ccaa-4ea5-9f37-f6c9567d541d -- used to remove this code blob in the end\n",
        "                  IPython.OutputArea.prototype.cleanProgressBar = function(uuids) {\n",
        "                      // filter by uuid-strings \n",
        "                      var myfilter = function(output) { \n",
        "                          var nuids = uuids.length;\n",
        "                          for (var i=0; i<nuids; i++) {\n",
        "                              if (output.hasOwnProperty('html')) {\n",
        "                                  if (output.html.indexOf(uuids[i]) != -1) {\n",
        "                                      return false;\n",
        "                                  }\n",
        "                              }\n",
        "                              if (output.hasOwnProperty('javascript')) {\n",
        "                                  if (output.javascript.indexOf(uuids[i]) != -1) {\n",
        "                                      return false;\n",
        "                                  }\n",
        "                              }\n",
        "                          }\n",
        "                          // keep all others\n",
        "                          return true;\n",
        "                      };\n",
        "\n",
        "                      // Filter the ouputs\n",
        "                      this.outputs = this.outputs.filter(myfilter);\n",
        "                };\n",
        "                "
       ],
       "metadata": {},
       "output_type": "display_data",
       "text": [
        "<IPython.core.display.Javascript at 0x11080f1d0>"
       ]
      },
      {
       "html": [
        "<div class=\"pb\" id=\"1eb0a16e-ccaa-4ea5-9f37-f6c9567d541d\"><table class=\"pb ui-widget\"><tr>\n",
        "<td class=\"pb_widget\">Downloading: </td>\n",
        "<td class=\"pb_widget\"><div id=\"96befbea-a826-4c74-8e52-a279c0a88dc5\">  0%</div></td>\n",
        "<td class=\"pb_widget\"> </td>\n",
        "<td class=\"pb_widget_fill\">\n",
        "        <div class=\"pb_bar\" id=\"9acdc793-7483-46ed-8e81-741ab6656192\"></div>\n",
        "        <script type=\"text/javascript\">\n",
        "            $(\"div#9acdc793-7483-46ed-8e81-741ab6656192\").progressbar({value: 0, max: 636151});\n",
        "        </script>\n",
        "        </td>\n",
        "<td class=\"pb_widget\"> </td>\n",
        "<td class=\"pb_widget\"><div id=\"b2b8b9f7-754a-4573-9d25-9a301bfc88e9\">ETA:  --:--:--</div></td>\n",
        "<td class=\"pb_widget\"> </td>\n",
        "<td class=\"pb_widget\"><div id=\"2f5f392b-927c-4896-9947-fd851fa8ffa7\">  0.00  B/s</div></td>\n",
        "</tr></table><div>"
       ],
       "metadata": {},
       "output_type": "display_data",
       "text": [
        "<IPython.core.display.HTML at 0x11080f210>"
       ]
      },
      {
       "javascript": [
        "$('div#96befbea-a826-4c74-8e52-a279c0a88dc5').text('  1%');"
       ],
       "metadata": {},
       "output_type": "display_data",
       "text": [
        "<IPython.core.display.Javascript at 0x11080f490>"
       ]
      },
      {
       "javascript": [
        "\n",
        "        var $myPB = $(\"div#9acdc793-7483-46ed-8e81-741ab6656192\")\n",
        "        if ($myPB.hasClass('ui-progressbar')) {\n",
        "            $myPB.progressbar('value', 8192);\n",
        "        } else {\n",
        "            $myPB.progressbar({value: 0, max: 636151});\n",
        "        }\n",
        "        "
       ],
       "metadata": {},
       "output_type": "display_data",
       "text": [
        "<IPython.core.display.Javascript at 0x11080f4d0>"
       ]
      },
      {
       "javascript": [
        "$('div#b2b8b9f7-754a-4573-9d25-9a301bfc88e9').text('ETA:  0:00:00');"
       ],
       "metadata": {},
       "output_type": "display_data",
       "text": [
        "<IPython.core.display.Javascript at 0x11080f510>"
       ]
      },
      {
       "javascript": [
        "$('div#2f5f392b-927c-4896-9947-fd851fa8ffa7').text('  8.52 MB/s');"
       ],
       "metadata": {},
       "output_type": "display_data",
       "text": [
        "<IPython.core.display.Javascript at 0x11080f450>"
       ]
      },
      {
       "javascript": [
        "$('div#96befbea-a826-4c74-8e52-a279c0a88dc5').text('  2%');"
       ],
       "metadata": {},
       "output_type": "display_data",
       "text": [
        "<IPython.core.display.Javascript at 0x11080f550>"
       ]
      },
      {
       "javascript": [
        "\n",
        "        var $myPB = $(\"div#9acdc793-7483-46ed-8e81-741ab6656192\")\n",
        "        if ($myPB.hasClass('ui-progressbar')) {\n",
        "            $myPB.progressbar('value', 16384);\n",
        "        } else {\n",
        "            $myPB.progressbar({value: 0, max: 636151});\n",
        "        }\n",
        "        "
       ],
       "metadata": {},
       "output_type": "display_data",
       "text": [
        "<IPython.core.display.Javascript at 0x11080f5d0>"
       ]
      },
      {
       "javascript": [
        "$('div#b2b8b9f7-754a-4573-9d25-9a301bfc88e9').text('ETA:  0:00:00');"
       ],
       "metadata": {},
       "output_type": "display_data",
       "text": [
        "<IPython.core.display.Javascript at 0x11080f610>"
       ]
      },
      {
       "javascript": [
        "$('div#2f5f392b-927c-4896-9947-fd851fa8ffa7').text('  5.11 MB/s');"
       ],
       "metadata": {},
       "output_type": "display_data",
       "text": [
        "<IPython.core.display.Javascript at 0x11080f650>"
       ]
      },
      {
       "javascript": [
        "$('div#96befbea-a826-4c74-8e52-a279c0a88dc5').text('  3%');"
       ],
       "metadata": {},
       "output_type": "display_data",
       "text": [
        "<IPython.core.display.Javascript at 0x11080f6d0>"
       ]
      },
      {
       "javascript": [
        "\n",
        "        var $myPB = $(\"div#9acdc793-7483-46ed-8e81-741ab6656192\")\n",
        "        if ($myPB.hasClass('ui-progressbar')) {\n",
        "            $myPB.progressbar('value', 24576);\n",
        "        } else {\n",
        "            $myPB.progressbar({value: 0, max: 636151});\n",
        "        }\n",
        "        "
       ],
       "metadata": {},
       "output_type": "display_data",
       "text": [
        "<IPython.core.display.Javascript at 0x11080f710>"
       ]
      },
      {
       "javascript": [
        "$('div#b2b8b9f7-754a-4573-9d25-9a301bfc88e9').text('ETA:  0:00:00');"
       ],
       "metadata": {},
       "output_type": "display_data",
       "text": [
        "<IPython.core.display.Javascript at 0x11080f750>"
       ]
      },
      {
       "javascript": [
        "$('div#2f5f392b-927c-4896-9947-fd851fa8ffa7').text('  4.51 MB/s');"
       ],
       "metadata": {},
       "output_type": "display_data",
       "text": [
        "<IPython.core.display.Javascript at 0x11080f790>"
       ]
      },
      {
       "javascript": [
        "$('div#96befbea-a826-4c74-8e52-a279c0a88dc5').text('  5%');"
       ],
       "metadata": {},
       "output_type": "display_data",
       "text": [
        "<IPython.core.display.Javascript at 0x11080f7d0>"
       ]
      },
      {
       "javascript": [
        "\n",
        "        var $myPB = $(\"div#9acdc793-7483-46ed-8e81-741ab6656192\")\n",
        "        if ($myPB.hasClass('ui-progressbar')) {\n",
        "            $myPB.progressbar('value', 32768);\n",
        "        } else {\n",
        "            $myPB.progressbar({value: 0, max: 636151});\n",
        "        }\n",
        "        "
       ],
       "metadata": {},
       "output_type": "display_data",
       "text": [
        "<IPython.core.display.Javascript at 0x11080f810>"
       ]
      },
      {
       "javascript": [
        "$('div#b2b8b9f7-754a-4573-9d25-9a301bfc88e9').text('ETA:  0:00:00');"
       ],
       "metadata": {},
       "output_type": "display_data",
       "text": [
        "<IPython.core.display.Javascript at 0x11080f850>"
       ]
      },
      {
       "javascript": [
        "$('div#2f5f392b-927c-4896-9947-fd851fa8ffa7').text('  4.31 MB/s');"
       ],
       "metadata": {},
       "output_type": "display_data",
       "text": [
        "<IPython.core.display.Javascript at 0x11080f890>"
       ]
      },
      {
       "javascript": [
        "$('div#96befbea-a826-4c74-8e52-a279c0a88dc5').text('  6%');"
       ],
       "metadata": {},
       "output_type": "display_data",
       "text": [
        "<IPython.core.display.Javascript at 0x11080f8d0>"
       ]
      },
      {
       "javascript": [
        "\n",
        "        var $myPB = $(\"div#9acdc793-7483-46ed-8e81-741ab6656192\")\n",
        "        if ($myPB.hasClass('ui-progressbar')) {\n",
        "            $myPB.progressbar('value', 40960);\n",
        "        } else {\n",
        "            $myPB.progressbar({value: 0, max: 636151});\n",
        "        }\n",
        "        "
       ],
       "metadata": {},
       "output_type": "display_data",
       "text": [
        "<IPython.core.display.Javascript at 0x11080f910>"
       ]
      },
      {
       "javascript": [
        "$('div#b2b8b9f7-754a-4573-9d25-9a301bfc88e9').text('ETA:  0:00:00');"
       ],
       "metadata": {},
       "output_type": "display_data",
       "text": [
        "<IPython.core.display.Javascript at 0x11080f950>"
       ]
      },
      {
       "javascript": [
        "$('div#2f5f392b-927c-4896-9947-fd851fa8ffa7').text('  4.24 MB/s');"
       ],
       "metadata": {},
       "output_type": "display_data",
       "text": [
        "<IPython.core.display.Javascript at 0x11080f990>"
       ]
      },
      {
       "javascript": [
        "$('div#96befbea-a826-4c74-8e52-a279c0a88dc5').text('  7%');"
       ],
       "metadata": {},
       "output_type": "display_data",
       "text": [
        "<IPython.core.display.Javascript at 0x11080f9d0>"
       ]
      },
      {
       "javascript": [
        "\n",
        "        var $myPB = $(\"div#9acdc793-7483-46ed-8e81-741ab6656192\")\n",
        "        if ($myPB.hasClass('ui-progressbar')) {\n",
        "            $myPB.progressbar('value', 49152);\n",
        "        } else {\n",
        "            $myPB.progressbar({value: 0, max: 636151});\n",
        "        }\n",
        "        "
       ],
       "metadata": {},
       "output_type": "display_data",
       "text": [
        "<IPython.core.display.Javascript at 0x11080fa10>"
       ]
      },
      {
       "javascript": [
        "$('div#b2b8b9f7-754a-4573-9d25-9a301bfc88e9').text('ETA:  0:00:00');"
       ],
       "metadata": {},
       "output_type": "display_data",
       "text": [
        "<IPython.core.display.Javascript at 0x11080fa50>"
       ]
      },
      {
       "javascript": [
        "$('div#2f5f392b-927c-4896-9947-fd851fa8ffa7').text('  4.19 MB/s');"
       ],
       "metadata": {},
       "output_type": "display_data",
       "text": [
        "<IPython.core.display.Javascript at 0x11080fa90>"
       ]
      },
      {
       "javascript": [
        "$('div#96befbea-a826-4c74-8e52-a279c0a88dc5').text('  9%');"
       ],
       "metadata": {},
       "output_type": "display_data",
       "text": [
        "<IPython.core.display.Javascript at 0x11080fad0>"
       ]
      },
      {
       "javascript": [
        "\n",
        "        var $myPB = $(\"div#9acdc793-7483-46ed-8e81-741ab6656192\")\n",
        "        if ($myPB.hasClass('ui-progressbar')) {\n",
        "            $myPB.progressbar('value', 57344);\n",
        "        } else {\n",
        "            $myPB.progressbar({value: 0, max: 636151});\n",
        "        }\n",
        "        "
       ],
       "metadata": {},
       "output_type": "display_data",
       "text": [
        "<IPython.core.display.Javascript at 0x11080fb10>"
       ]
      },
      {
       "javascript": [
        "$('div#b2b8b9f7-754a-4573-9d25-9a301bfc88e9').text('ETA:  0:00:00');"
       ],
       "metadata": {},
       "output_type": "display_data",
       "text": [
        "<IPython.core.display.Javascript at 0x11080fb50>"
       ]
      },
      {
       "javascript": [
        "$('div#2f5f392b-927c-4896-9947-fd851fa8ffa7').text('  4.20 MB/s');"
       ],
       "metadata": {},
       "output_type": "display_data",
       "text": [
        "<IPython.core.display.Javascript at 0x11080fb90>"
       ]
      },
      {
       "javascript": [
        "$('div#96befbea-a826-4c74-8e52-a279c0a88dc5').text(' 10%');"
       ],
       "metadata": {},
       "output_type": "display_data",
       "text": [
        "<IPython.core.display.Javascript at 0x11080fbd0>"
       ]
      },
      {
       "javascript": [
        "\n",
        "        var $myPB = $(\"div#9acdc793-7483-46ed-8e81-741ab6656192\")\n",
        "        if ($myPB.hasClass('ui-progressbar')) {\n",
        "            $myPB.progressbar('value', 65536);\n",
        "        } else {\n",
        "            $myPB.progressbar({value: 0, max: 636151});\n",
        "        }\n",
        "        "
       ],
       "metadata": {},
       "output_type": "display_data",
       "text": [
        "<IPython.core.display.Javascript at 0x11080fc10>"
       ]
      },
      {
       "javascript": [
        "$('div#b2b8b9f7-754a-4573-9d25-9a301bfc88e9').text('ETA:  0:00:00');"
       ],
       "metadata": {},
       "output_type": "display_data",
       "text": [
        "<IPython.core.display.Javascript at 0x11080fc50>"
       ]
      },
      {
       "javascript": [
        "$('div#2f5f392b-927c-4896-9947-fd851fa8ffa7').text('  4.18 MB/s');"
       ],
       "metadata": {},
       "output_type": "display_data",
       "text": [
        "<IPython.core.display.Javascript at 0x11080fc90>"
       ]
      },
      {
       "javascript": [
        "$('div#96befbea-a826-4c74-8e52-a279c0a88dc5').text(' 11%');"
       ],
       "metadata": {},
       "output_type": "display_data",
       "text": [
        "<IPython.core.display.Javascript at 0x11080fcd0>"
       ]
      },
      {
       "javascript": [
        "\n",
        "        var $myPB = $(\"div#9acdc793-7483-46ed-8e81-741ab6656192\")\n",
        "        if ($myPB.hasClass('ui-progressbar')) {\n",
        "            $myPB.progressbar('value', 73728);\n",
        "        } else {\n",
        "            $myPB.progressbar({value: 0, max: 636151});\n",
        "        }\n",
        "        "
       ],
       "metadata": {},
       "output_type": "display_data",
       "text": [
        "<IPython.core.display.Javascript at 0x11080fd10>"
       ]
      },
      {
       "javascript": [
        "$('div#b2b8b9f7-754a-4573-9d25-9a301bfc88e9').text('ETA:  0:00:00');"
       ],
       "metadata": {},
       "output_type": "display_data",
       "text": [
        "<IPython.core.display.Javascript at 0x11080fd50>"
       ]
      },
      {
       "javascript": [
        "$('div#2f5f392b-927c-4896-9947-fd851fa8ffa7').text('  4.17 MB/s');"
       ],
       "metadata": {},
       "output_type": "display_data",
       "text": [
        "<IPython.core.display.Javascript at 0x11080fd90>"
       ]
      },
      {
       "javascript": [
        "$('div#96befbea-a826-4c74-8e52-a279c0a88dc5').text(' 12%');"
       ],
       "metadata": {},
       "output_type": "display_data",
       "text": [
        "<IPython.core.display.Javascript at 0x11080fdd0>"
       ]
      },
      {
       "javascript": [
        "\n",
        "        var $myPB = $(\"div#9acdc793-7483-46ed-8e81-741ab6656192\")\n",
        "        if ($myPB.hasClass('ui-progressbar')) {\n",
        "            $myPB.progressbar('value', 81920);\n",
        "        } else {\n",
        "            $myPB.progressbar({value: 0, max: 636151});\n",
        "        }\n",
        "        "
       ],
       "metadata": {},
       "output_type": "display_data",
       "text": [
        "<IPython.core.display.Javascript at 0x11080fe10>"
       ]
      },
      {
       "javascript": [
        "$('div#b2b8b9f7-754a-4573-9d25-9a301bfc88e9').text('ETA:  0:00:00');"
       ],
       "metadata": {},
       "output_type": "display_data",
       "text": [
        "<IPython.core.display.Javascript at 0x11080fe50>"
       ]
      },
      {
       "javascript": [
        "$('div#2f5f392b-927c-4896-9947-fd851fa8ffa7').text('  4.18 MB/s');"
       ],
       "metadata": {},
       "output_type": "display_data",
       "text": [
        "<IPython.core.display.Javascript at 0x11080fe90>"
       ]
      },
      {
       "javascript": [
        "$('div#96befbea-a826-4c74-8e52-a279c0a88dc5').text(' 14%');"
       ],
       "metadata": {},
       "output_type": "display_data",
       "text": [
        "<IPython.core.display.Javascript at 0x11080fed0>"
       ]
      },
      {
       "javascript": [
        "\n",
        "        var $myPB = $(\"div#9acdc793-7483-46ed-8e81-741ab6656192\")\n",
        "        if ($myPB.hasClass('ui-progressbar')) {\n",
        "            $myPB.progressbar('value', 90112);\n",
        "        } else {\n",
        "            $myPB.progressbar({value: 0, max: 636151});\n",
        "        }\n",
        "        "
       ],
       "metadata": {},
       "output_type": "display_data",
       "text": [
        "<IPython.core.display.Javascript at 0x11080ff10>"
       ]
      },
      {
       "javascript": [
        "$('div#b2b8b9f7-754a-4573-9d25-9a301bfc88e9').text('ETA:  0:00:00');"
       ],
       "metadata": {},
       "output_type": "display_data",
       "text": [
        "<IPython.core.display.Javascript at 0x11080ff10>"
       ]
      },
      {
       "javascript": [
        "$('div#2f5f392b-927c-4896-9947-fd851fa8ffa7').text('  4.16 MB/s');"
       ],
       "metadata": {},
       "output_type": "display_data",
       "text": [
        "<IPython.core.display.Javascript at 0x11080ff50>"
       ]
      },
      {
       "javascript": [
        "$('div#96befbea-a826-4c74-8e52-a279c0a88dc5').text(' 15%');"
       ],
       "metadata": {},
       "output_type": "display_data",
       "text": [
        "<IPython.core.display.Javascript at 0x11080ff90>"
       ]
      },
      {
       "javascript": [
        "\n",
        "        var $myPB = $(\"div#9acdc793-7483-46ed-8e81-741ab6656192\")\n",
        "        if ($myPB.hasClass('ui-progressbar')) {\n",
        "            $myPB.progressbar('value', 98304);\n",
        "        } else {\n",
        "            $myPB.progressbar({value: 0, max: 636151});\n",
        "        }\n",
        "        "
       ],
       "metadata": {},
       "output_type": "display_data",
       "text": [
        "<IPython.core.display.Javascript at 0x11080ffd0>"
       ]
      },
      {
       "javascript": [
        "$('div#b2b8b9f7-754a-4573-9d25-9a301bfc88e9').text('ETA:  0:00:00');"
       ],
       "metadata": {},
       "output_type": "display_data",
       "text": [
        "<IPython.core.display.Javascript at 0x11080fed0>"
       ]
      },
      {
       "javascript": [
        "$('div#2f5f392b-927c-4896-9947-fd851fa8ffa7').text('  3.94 MB/s');"
       ],
       "metadata": {},
       "output_type": "display_data",
       "text": [
        "<IPython.core.display.Javascript at 0x11080fe90>"
       ]
      },
      {
       "javascript": [
        "$('div#96befbea-a826-4c74-8e52-a279c0a88dc5').text(' 16%');"
       ],
       "metadata": {},
       "output_type": "display_data",
       "text": [
        "<IPython.core.display.Javascript at 0x11080fe50>"
       ]
      },
      {
       "javascript": [
        "\n",
        "        var $myPB = $(\"div#9acdc793-7483-46ed-8e81-741ab6656192\")\n",
        "        if ($myPB.hasClass('ui-progressbar')) {\n",
        "            $myPB.progressbar('value', 106496);\n",
        "        } else {\n",
        "            $myPB.progressbar({value: 0, max: 636151});\n",
        "        }\n",
        "        "
       ],
       "metadata": {},
       "output_type": "display_data",
       "text": [
        "<IPython.core.display.Javascript at 0x11080fe10>"
       ]
      },
      {
       "javascript": [
        "$('div#b2b8b9f7-754a-4573-9d25-9a301bfc88e9').text('ETA:  0:00:00');"
       ],
       "metadata": {},
       "output_type": "display_data",
       "text": [
        "<IPython.core.display.Javascript at 0x11080fdd0>"
       ]
      },
      {
       "javascript": [
        "$('div#2f5f392b-927c-4896-9947-fd851fa8ffa7').text('  3.95 MB/s');"
       ],
       "metadata": {},
       "output_type": "display_data",
       "text": [
        "<IPython.core.display.Javascript at 0x11080fd90>"
       ]
      },
      {
       "javascript": [
        "$('div#96befbea-a826-4c74-8e52-a279c0a88dc5').text(' 18%');"
       ],
       "metadata": {},
       "output_type": "display_data",
       "text": [
        "<IPython.core.display.Javascript at 0x11080fd50>"
       ]
      },
      {
       "javascript": [
        "\n",
        "        var $myPB = $(\"div#9acdc793-7483-46ed-8e81-741ab6656192\")\n",
        "        if ($myPB.hasClass('ui-progressbar')) {\n",
        "            $myPB.progressbar('value', 114688);\n",
        "        } else {\n",
        "            $myPB.progressbar({value: 0, max: 636151});\n",
        "        }\n",
        "        "
       ],
       "metadata": {},
       "output_type": "display_data",
       "text": [
        "<IPython.core.display.Javascript at 0x11080fd10>"
       ]
      },
      {
       "javascript": [
        "$('div#b2b8b9f7-754a-4573-9d25-9a301bfc88e9').text('ETA:  0:00:00');"
       ],
       "metadata": {},
       "output_type": "display_data",
       "text": [
        "<IPython.core.display.Javascript at 0x11080fcd0>"
       ]
      },
      {
       "javascript": [
        "$('div#2f5f392b-927c-4896-9947-fd851fa8ffa7').text('  3.96 MB/s');"
       ],
       "metadata": {},
       "output_type": "display_data",
       "text": [
        "<IPython.core.display.Javascript at 0x11080fc90>"
       ]
      },
      {
       "javascript": [
        "$('div#96befbea-a826-4c74-8e52-a279c0a88dc5').text(' 19%');"
       ],
       "metadata": {},
       "output_type": "display_data",
       "text": [
        "<IPython.core.display.Javascript at 0x11080fc50>"
       ]
      },
      {
       "javascript": [
        "\n",
        "        var $myPB = $(\"div#9acdc793-7483-46ed-8e81-741ab6656192\")\n",
        "        if ($myPB.hasClass('ui-progressbar')) {\n",
        "            $myPB.progressbar('value', 122880);\n",
        "        } else {\n",
        "            $myPB.progressbar({value: 0, max: 636151});\n",
        "        }\n",
        "        "
       ],
       "metadata": {},
       "output_type": "display_data",
       "text": [
        "<IPython.core.display.Javascript at 0x11080fc10>"
       ]
      },
      {
       "javascript": [
        "$('div#b2b8b9f7-754a-4573-9d25-9a301bfc88e9').text('ETA:  0:00:00');"
       ],
       "metadata": {},
       "output_type": "display_data",
       "text": [
        "<IPython.core.display.Javascript at 0x11080fbd0>"
       ]
      },
      {
       "javascript": [
        "$('div#2f5f392b-927c-4896-9947-fd851fa8ffa7').text('  3.97 MB/s');"
       ],
       "metadata": {},
       "output_type": "display_data",
       "text": [
        "<IPython.core.display.Javascript at 0x11080fb90>"
       ]
      },
      {
       "javascript": [
        "$('div#96befbea-a826-4c74-8e52-a279c0a88dc5').text(' 20%');"
       ],
       "metadata": {},
       "output_type": "display_data",
       "text": [
        "<IPython.core.display.Javascript at 0x11080fb50>"
       ]
      },
      {
       "javascript": [
        "\n",
        "        var $myPB = $(\"div#9acdc793-7483-46ed-8e81-741ab6656192\")\n",
        "        if ($myPB.hasClass('ui-progressbar')) {\n",
        "            $myPB.progressbar('value', 131072);\n",
        "        } else {\n",
        "            $myPB.progressbar({value: 0, max: 636151});\n",
        "        }\n",
        "        "
       ],
       "metadata": {},
       "output_type": "display_data",
       "text": [
        "<IPython.core.display.Javascript at 0x11080fb10>"
       ]
      },
      {
       "javascript": [
        "$('div#b2b8b9f7-754a-4573-9d25-9a301bfc88e9').text('ETA:  0:00:00');"
       ],
       "metadata": {},
       "output_type": "display_data",
       "text": [
        "<IPython.core.display.Javascript at 0x11080fad0>"
       ]
      },
      {
       "javascript": [
        "$('div#2f5f392b-927c-4896-9947-fd851fa8ffa7').text('  3.96 MB/s');"
       ],
       "metadata": {},
       "output_type": "display_data",
       "text": [
        "<IPython.core.display.Javascript at 0x11080fa90>"
       ]
      },
      {
       "javascript": [
        "$('div#96befbea-a826-4c74-8e52-a279c0a88dc5').text(' 21%');"
       ],
       "metadata": {},
       "output_type": "display_data",
       "text": [
        "<IPython.core.display.Javascript at 0x11080fa50>"
       ]
      },
      {
       "javascript": [
        "\n",
        "        var $myPB = $(\"div#9acdc793-7483-46ed-8e81-741ab6656192\")\n",
        "        if ($myPB.hasClass('ui-progressbar')) {\n",
        "            $myPB.progressbar('value', 139264);\n",
        "        } else {\n",
        "            $myPB.progressbar({value: 0, max: 636151});\n",
        "        }\n",
        "        "
       ],
       "metadata": {},
       "output_type": "display_data",
       "text": [
        "<IPython.core.display.Javascript at 0x11080fa10>"
       ]
      },
      {
       "javascript": [
        "$('div#b2b8b9f7-754a-4573-9d25-9a301bfc88e9').text('ETA:  0:00:00');"
       ],
       "metadata": {},
       "output_type": "display_data",
       "text": [
        "<IPython.core.display.Javascript at 0x11080f9d0>"
       ]
      },
      {
       "javascript": [
        "$('div#2f5f392b-927c-4896-9947-fd851fa8ffa7').text('  3.91 MB/s');"
       ],
       "metadata": {},
       "output_type": "display_data",
       "text": [
        "<IPython.core.display.Javascript at 0x11080f990>"
       ]
      },
      {
       "javascript": [
        "$('div#96befbea-a826-4c74-8e52-a279c0a88dc5').text(' 23%');"
       ],
       "metadata": {},
       "output_type": "display_data",
       "text": [
        "<IPython.core.display.Javascript at 0x11080f950>"
       ]
      },
      {
       "javascript": [
        "\n",
        "        var $myPB = $(\"div#9acdc793-7483-46ed-8e81-741ab6656192\")\n",
        "        if ($myPB.hasClass('ui-progressbar')) {\n",
        "            $myPB.progressbar('value', 147456);\n",
        "        } else {\n",
        "            $myPB.progressbar({value: 0, max: 636151});\n",
        "        }\n",
        "        "
       ],
       "metadata": {},
       "output_type": "display_data",
       "text": [
        "<IPython.core.display.Javascript at 0x11080f910>"
       ]
      },
      {
       "javascript": [
        "$('div#b2b8b9f7-754a-4573-9d25-9a301bfc88e9').text('ETA:  0:00:00');"
       ],
       "metadata": {},
       "output_type": "display_data",
       "text": [
        "<IPython.core.display.Javascript at 0x11080f8d0>"
       ]
      },
      {
       "javascript": [
        "$('div#2f5f392b-927c-4896-9947-fd851fa8ffa7').text('  3.85 MB/s');"
       ],
       "metadata": {},
       "output_type": "display_data",
       "text": [
        "<IPython.core.display.Javascript at 0x11080f890>"
       ]
      },
      {
       "javascript": [
        "$('div#96befbea-a826-4c74-8e52-a279c0a88dc5').text(' 24%');"
       ],
       "metadata": {},
       "output_type": "display_data",
       "text": [
        "<IPython.core.display.Javascript at 0x11080f850>"
       ]
      },
      {
       "javascript": [
        "\n",
        "        var $myPB = $(\"div#9acdc793-7483-46ed-8e81-741ab6656192\")\n",
        "        if ($myPB.hasClass('ui-progressbar')) {\n",
        "            $myPB.progressbar('value', 155648);\n",
        "        } else {\n",
        "            $myPB.progressbar({value: 0, max: 636151});\n",
        "        }\n",
        "        "
       ],
       "metadata": {},
       "output_type": "display_data",
       "text": [
        "<IPython.core.display.Javascript at 0x11080f810>"
       ]
      },
      {
       "javascript": [
        "$('div#b2b8b9f7-754a-4573-9d25-9a301bfc88e9').text('ETA:  0:00:00');"
       ],
       "metadata": {},
       "output_type": "display_data",
       "text": [
        "<IPython.core.display.Javascript at 0x11080f7d0>"
       ]
      },
      {
       "javascript": [
        "$('div#2f5f392b-927c-4896-9947-fd851fa8ffa7').text('  3.85 MB/s');"
       ],
       "metadata": {},
       "output_type": "display_data",
       "text": [
        "<IPython.core.display.Javascript at 0x11080f790>"
       ]
      },
      {
       "javascript": [
        "$('div#96befbea-a826-4c74-8e52-a279c0a88dc5').text(' 25%');"
       ],
       "metadata": {},
       "output_type": "display_data",
       "text": [
        "<IPython.core.display.Javascript at 0x11080f750>"
       ]
      },
      {
       "javascript": [
        "\n",
        "        var $myPB = $(\"div#9acdc793-7483-46ed-8e81-741ab6656192\")\n",
        "        if ($myPB.hasClass('ui-progressbar')) {\n",
        "            $myPB.progressbar('value', 163840);\n",
        "        } else {\n",
        "            $myPB.progressbar({value: 0, max: 636151});\n",
        "        }\n",
        "        "
       ],
       "metadata": {},
       "output_type": "display_data",
       "text": [
        "<IPython.core.display.Javascript at 0x11080f710>"
       ]
      },
      {
       "javascript": [
        "$('div#b2b8b9f7-754a-4573-9d25-9a301bfc88e9').text('ETA:  0:00:00');"
       ],
       "metadata": {},
       "output_type": "display_data",
       "text": [
        "<IPython.core.display.Javascript at 0x11080f6d0>"
       ]
      },
      {
       "javascript": [
        "$('div#2f5f392b-927c-4896-9947-fd851fa8ffa7').text('  3.84 MB/s');"
       ],
       "metadata": {},
       "output_type": "display_data",
       "text": [
        "<IPython.core.display.Javascript at 0x11080f650>"
       ]
      },
      {
       "javascript": [
        "$('div#96befbea-a826-4c74-8e52-a279c0a88dc5').text(' 27%');"
       ],
       "metadata": {},
       "output_type": "display_data",
       "text": [
        "<IPython.core.display.Javascript at 0x11080f610>"
       ]
      },
      {
       "javascript": [
        "\n",
        "        var $myPB = $(\"div#9acdc793-7483-46ed-8e81-741ab6656192\")\n",
        "        if ($myPB.hasClass('ui-progressbar')) {\n",
        "            $myPB.progressbar('value', 172032);\n",
        "        } else {\n",
        "            $myPB.progressbar({value: 0, max: 636151});\n",
        "        }\n",
        "        "
       ],
       "metadata": {},
       "output_type": "display_data",
       "text": [
        "<IPython.core.display.Javascript at 0x11080f5d0>"
       ]
      },
      {
       "javascript": [
        "$('div#b2b8b9f7-754a-4573-9d25-9a301bfc88e9').text('ETA:  0:00:00');"
       ],
       "metadata": {},
       "output_type": "display_data",
       "text": [
        "<IPython.core.display.Javascript at 0x11080f550>"
       ]
      },
      {
       "javascript": [
        "$('div#2f5f392b-927c-4896-9947-fd851fa8ffa7').text('  3.83 MB/s');"
       ],
       "metadata": {},
       "output_type": "display_data",
       "text": [
        "<IPython.core.display.Javascript at 0x11080f450>"
       ]
      },
      {
       "javascript": [
        "$('div#96befbea-a826-4c74-8e52-a279c0a88dc5').text(' 28%');"
       ],
       "metadata": {},
       "output_type": "display_data",
       "text": [
        "<IPython.core.display.Javascript at 0x11080f510>"
       ]
      },
      {
       "javascript": [
        "\n",
        "        var $myPB = $(\"div#9acdc793-7483-46ed-8e81-741ab6656192\")\n",
        "        if ($myPB.hasClass('ui-progressbar')) {\n",
        "            $myPB.progressbar('value', 180224);\n",
        "        } else {\n",
        "            $myPB.progressbar({value: 0, max: 636151});\n",
        "        }\n",
        "        "
       ],
       "metadata": {},
       "output_type": "display_data",
       "text": [
        "<IPython.core.display.Javascript at 0x11080f4d0>"
       ]
      },
      {
       "javascript": [
        "$('div#b2b8b9f7-754a-4573-9d25-9a301bfc88e9').text('ETA:  0:00:00');"
       ],
       "metadata": {},
       "output_type": "display_data",
       "text": [
        "<IPython.core.display.Javascript at 0x11080f490>"
       ]
      },
      {
       "javascript": [
        "$('div#2f5f392b-927c-4896-9947-fd851fa8ffa7').text('  3.83 MB/s');"
       ],
       "metadata": {},
       "output_type": "display_data",
       "text": [
        "<IPython.core.display.Javascript at 0x11080f210>"
       ]
      },
      {
       "javascript": [
        "$('div#96befbea-a826-4c74-8e52-a279c0a88dc5').text(' 29%');"
       ],
       "metadata": {},
       "output_type": "display_data",
       "text": [
        "<IPython.core.display.Javascript at 0x11080f1d0>"
       ]
      },
      {
       "javascript": [
        "\n",
        "        var $myPB = $(\"div#9acdc793-7483-46ed-8e81-741ab6656192\")\n",
        "        if ($myPB.hasClass('ui-progressbar')) {\n",
        "            $myPB.progressbar('value', 188416);\n",
        "        } else {\n",
        "            $myPB.progressbar({value: 0, max: 636151});\n",
        "        }\n",
        "        "
       ],
       "metadata": {},
       "output_type": "display_data",
       "text": [
        "<IPython.core.display.Javascript at 0x11080f050>"
       ]
      },
      {
       "javascript": [
        "$('div#b2b8b9f7-754a-4573-9d25-9a301bfc88e9').text('ETA:  0:00:00');"
       ],
       "metadata": {},
       "output_type": "display_data",
       "text": [
        "<IPython.core.display.Javascript at 0x11080f690>"
       ]
      },
      {
       "javascript": [
        "$('div#2f5f392b-927c-4896-9947-fd851fa8ffa7').text('  3.84 MB/s');"
       ],
       "metadata": {},
       "output_type": "display_data",
       "text": [
        "<IPython.core.display.Javascript at 0x11082e050>"
       ]
      },
      {
       "javascript": [
        "$('div#96befbea-a826-4c74-8e52-a279c0a88dc5').text(' 30%');"
       ],
       "metadata": {},
       "output_type": "display_data",
       "text": [
        "<IPython.core.display.Javascript at 0x11082e090>"
       ]
      },
      {
       "javascript": [
        "\n",
        "        var $myPB = $(\"div#9acdc793-7483-46ed-8e81-741ab6656192\")\n",
        "        if ($myPB.hasClass('ui-progressbar')) {\n",
        "            $myPB.progressbar('value', 196608);\n",
        "        } else {\n",
        "            $myPB.progressbar({value: 0, max: 636151});\n",
        "        }\n",
        "        "
       ],
       "metadata": {},
       "output_type": "display_data",
       "text": [
        "<IPython.core.display.Javascript at 0x11082e0d0>"
       ]
      },
      {
       "javascript": [
        "$('div#b2b8b9f7-754a-4573-9d25-9a301bfc88e9').text('ETA:  0:00:00');"
       ],
       "metadata": {},
       "output_type": "display_data",
       "text": [
        "<IPython.core.display.Javascript at 0x11082e110>"
       ]
      },
      {
       "javascript": [
        "$('div#2f5f392b-927c-4896-9947-fd851fa8ffa7').text('  3.84 MB/s');"
       ],
       "metadata": {},
       "output_type": "display_data",
       "text": [
        "<IPython.core.display.Javascript at 0x11082e190>"
       ]
      },
      {
       "javascript": [
        "$('div#96befbea-a826-4c74-8e52-a279c0a88dc5').text(' 32%');"
       ],
       "metadata": {},
       "output_type": "display_data",
       "text": [
        "<IPython.core.display.Javascript at 0x11082e1d0>"
       ]
      },
      {
       "javascript": [
        "\n",
        "        var $myPB = $(\"div#9acdc793-7483-46ed-8e81-741ab6656192\")\n",
        "        if ($myPB.hasClass('ui-progressbar')) {\n",
        "            $myPB.progressbar('value', 204800);\n",
        "        } else {\n",
        "            $myPB.progressbar({value: 0, max: 636151});\n",
        "        }\n",
        "        "
       ],
       "metadata": {},
       "output_type": "display_data",
       "text": [
        "<IPython.core.display.Javascript at 0x11082e210>"
       ]
      },
      {
       "javascript": [
        "$('div#b2b8b9f7-754a-4573-9d25-9a301bfc88e9').text('ETA:  0:00:00');"
       ],
       "metadata": {},
       "output_type": "display_data",
       "text": [
        "<IPython.core.display.Javascript at 0x11082e250>"
       ]
      },
      {
       "javascript": [
        "$('div#2f5f392b-927c-4896-9947-fd851fa8ffa7').text('  3.85 MB/s');"
       ],
       "metadata": {},
       "output_type": "display_data",
       "text": [
        "<IPython.core.display.Javascript at 0x11082e290>"
       ]
      },
      {
       "javascript": [
        "$('div#96befbea-a826-4c74-8e52-a279c0a88dc5').text(' 33%');"
       ],
       "metadata": {},
       "output_type": "display_data",
       "text": [
        "<IPython.core.display.Javascript at 0x11082e2d0>"
       ]
      },
      {
       "javascript": [
        "\n",
        "        var $myPB = $(\"div#9acdc793-7483-46ed-8e81-741ab6656192\")\n",
        "        if ($myPB.hasClass('ui-progressbar')) {\n",
        "            $myPB.progressbar('value', 212992);\n",
        "        } else {\n",
        "            $myPB.progressbar({value: 0, max: 636151});\n",
        "        }\n",
        "        "
       ],
       "metadata": {},
       "output_type": "display_data",
       "text": [
        "<IPython.core.display.Javascript at 0x11082e310>"
       ]
      },
      {
       "javascript": [
        "$('div#b2b8b9f7-754a-4573-9d25-9a301bfc88e9').text('ETA:  0:00:00');"
       ],
       "metadata": {},
       "output_type": "display_data",
       "text": [
        "<IPython.core.display.Javascript at 0x11082e350>"
       ]
      },
      {
       "javascript": [
        "$('div#2f5f392b-927c-4896-9947-fd851fa8ffa7').text('  3.84 MB/s');"
       ],
       "metadata": {},
       "output_type": "display_data",
       "text": [
        "<IPython.core.display.Javascript at 0x11082e390>"
       ]
      },
      {
       "javascript": [
        "$('div#96befbea-a826-4c74-8e52-a279c0a88dc5').text(' 34%');"
       ],
       "metadata": {},
       "output_type": "display_data",
       "text": [
        "<IPython.core.display.Javascript at 0x11082e3d0>"
       ]
      },
      {
       "javascript": [
        "\n",
        "        var $myPB = $(\"div#9acdc793-7483-46ed-8e81-741ab6656192\")\n",
        "        if ($myPB.hasClass('ui-progressbar')) {\n",
        "            $myPB.progressbar('value', 221184);\n",
        "        } else {\n",
        "            $myPB.progressbar({value: 0, max: 636151});\n",
        "        }\n",
        "        "
       ],
       "metadata": {},
       "output_type": "display_data",
       "text": [
        "<IPython.core.display.Javascript at 0x11082e410>"
       ]
      },
      {
       "javascript": [
        "$('div#b2b8b9f7-754a-4573-9d25-9a301bfc88e9').text('ETA:  0:00:00');"
       ],
       "metadata": {},
       "output_type": "display_data",
       "text": [
        "<IPython.core.display.Javascript at 0x11082e450>"
       ]
      },
      {
       "javascript": [
        "$('div#2f5f392b-927c-4896-9947-fd851fa8ffa7').text('  3.82 MB/s');"
       ],
       "metadata": {},
       "output_type": "display_data",
       "text": [
        "<IPython.core.display.Javascript at 0x11082e490>"
       ]
      },
      {
       "javascript": [
        "$('div#96befbea-a826-4c74-8e52-a279c0a88dc5').text(' 36%');"
       ],
       "metadata": {},
       "output_type": "display_data",
       "text": [
        "<IPython.core.display.Javascript at 0x11082e4d0>"
       ]
      },
      {
       "javascript": [
        "\n",
        "        var $myPB = $(\"div#9acdc793-7483-46ed-8e81-741ab6656192\")\n",
        "        if ($myPB.hasClass('ui-progressbar')) {\n",
        "            $myPB.progressbar('value', 229376);\n",
        "        } else {\n",
        "            $myPB.progressbar({value: 0, max: 636151});\n",
        "        }\n",
        "        "
       ],
       "metadata": {},
       "output_type": "display_data",
       "text": [
        "<IPython.core.display.Javascript at 0x11082e510>"
       ]
      },
      {
       "javascript": [
        "$('div#b2b8b9f7-754a-4573-9d25-9a301bfc88e9').text('ETA:  0:00:00');"
       ],
       "metadata": {},
       "output_type": "display_data",
       "text": [
        "<IPython.core.display.Javascript at 0x11082e550>"
       ]
      },
      {
       "javascript": [
        "$('div#2f5f392b-927c-4896-9947-fd851fa8ffa7').text('  3.81 MB/s');"
       ],
       "metadata": {},
       "output_type": "display_data",
       "text": [
        "<IPython.core.display.Javascript at 0x11082e590>"
       ]
      },
      {
       "javascript": [
        "$('div#96befbea-a826-4c74-8e52-a279c0a88dc5').text(' 37%');"
       ],
       "metadata": {},
       "output_type": "display_data",
       "text": [
        "<IPython.core.display.Javascript at 0x11082e5d0>"
       ]
      },
      {
       "javascript": [
        "\n",
        "        var $myPB = $(\"div#9acdc793-7483-46ed-8e81-741ab6656192\")\n",
        "        if ($myPB.hasClass('ui-progressbar')) {\n",
        "            $myPB.progressbar('value', 237568);\n",
        "        } else {\n",
        "            $myPB.progressbar({value: 0, max: 636151});\n",
        "        }\n",
        "        "
       ],
       "metadata": {},
       "output_type": "display_data",
       "text": [
        "<IPython.core.display.Javascript at 0x11082e610>"
       ]
      },
      {
       "javascript": [
        "$('div#b2b8b9f7-754a-4573-9d25-9a301bfc88e9').text('ETA:  0:00:00');"
       ],
       "metadata": {},
       "output_type": "display_data",
       "text": [
        "<IPython.core.display.Javascript at 0x11082e650>"
       ]
      },
      {
       "javascript": [
        "$('div#2f5f392b-927c-4896-9947-fd851fa8ffa7').text('  3.81 MB/s');"
       ],
       "metadata": {},
       "output_type": "display_data",
       "text": [
        "<IPython.core.display.Javascript at 0x11082e690>"
       ]
      },
      {
       "javascript": [
        "$('div#96befbea-a826-4c74-8e52-a279c0a88dc5').text(' 38%');"
       ],
       "metadata": {},
       "output_type": "display_data",
       "text": [
        "<IPython.core.display.Javascript at 0x11082e6d0>"
       ]
      },
      {
       "javascript": [
        "\n",
        "        var $myPB = $(\"div#9acdc793-7483-46ed-8e81-741ab6656192\")\n",
        "        if ($myPB.hasClass('ui-progressbar')) {\n",
        "            $myPB.progressbar('value', 245760);\n",
        "        } else {\n",
        "            $myPB.progressbar({value: 0, max: 636151});\n",
        "        }\n",
        "        "
       ],
       "metadata": {},
       "output_type": "display_data",
       "text": [
        "<IPython.core.display.Javascript at 0x11082e710>"
       ]
      },
      {
       "javascript": [
        "$('div#b2b8b9f7-754a-4573-9d25-9a301bfc88e9').text('ETA:  0:00:00');"
       ],
       "metadata": {},
       "output_type": "display_data",
       "text": [
        "<IPython.core.display.Javascript at 0x11082e750>"
       ]
      },
      {
       "javascript": [
        "$('div#2f5f392b-927c-4896-9947-fd851fa8ffa7').text('  3.79 MB/s');"
       ],
       "metadata": {},
       "output_type": "display_data",
       "text": [
        "<IPython.core.display.Javascript at 0x11082e790>"
       ]
      },
      {
       "javascript": [
        "$('div#96befbea-a826-4c74-8e52-a279c0a88dc5').text(' 39%');"
       ],
       "metadata": {},
       "output_type": "display_data",
       "text": [
        "<IPython.core.display.Javascript at 0x11082e7d0>"
       ]
      },
      {
       "javascript": [
        "\n",
        "        var $myPB = $(\"div#9acdc793-7483-46ed-8e81-741ab6656192\")\n",
        "        if ($myPB.hasClass('ui-progressbar')) {\n",
        "            $myPB.progressbar('value', 253952);\n",
        "        } else {\n",
        "            $myPB.progressbar({value: 0, max: 636151});\n",
        "        }\n",
        "        "
       ],
       "metadata": {},
       "output_type": "display_data",
       "text": [
        "<IPython.core.display.Javascript at 0x11080f690>"
       ]
      },
      {
       "javascript": [
        "$('div#b2b8b9f7-754a-4573-9d25-9a301bfc88e9').text('ETA:  0:00:00');"
       ],
       "metadata": {},
       "output_type": "display_data",
       "text": [
        "<IPython.core.display.Javascript at 0x11080f050>"
       ]
      },
      {
       "javascript": [
        "$('div#2f5f392b-927c-4896-9947-fd851fa8ffa7').text('  3.80 MB/s');"
       ],
       "metadata": {},
       "output_type": "display_data",
       "text": [
        "<IPython.core.display.Javascript at 0x11080f1d0>"
       ]
      },
      {
       "javascript": [
        "$('div#96befbea-a826-4c74-8e52-a279c0a88dc5').text(' 41%');"
       ],
       "metadata": {},
       "output_type": "display_data",
       "text": [
        "<IPython.core.display.Javascript at 0x11080f210>"
       ]
      },
      {
       "javascript": [
        "\n",
        "        var $myPB = $(\"div#9acdc793-7483-46ed-8e81-741ab6656192\")\n",
        "        if ($myPB.hasClass('ui-progressbar')) {\n",
        "            $myPB.progressbar('value', 262144);\n",
        "        } else {\n",
        "            $myPB.progressbar({value: 0, max: 636151});\n",
        "        }\n",
        "        "
       ],
       "metadata": {},
       "output_type": "display_data",
       "text": [
        "<IPython.core.display.Javascript at 0x11080f4d0>"
       ]
      },
      {
       "javascript": [
        "$('div#b2b8b9f7-754a-4573-9d25-9a301bfc88e9').text('ETA:  0:00:00');"
       ],
       "metadata": {},
       "output_type": "display_data",
       "text": [
        "<IPython.core.display.Javascript at 0x11080f510>"
       ]
      },
      {
       "javascript": [
        "$('div#2f5f392b-927c-4896-9947-fd851fa8ffa7').text('  3.80 MB/s');"
       ],
       "metadata": {},
       "output_type": "display_data",
       "text": [
        "<IPython.core.display.Javascript at 0x11080f450>"
       ]
      },
      {
       "javascript": [
        "$('div#96befbea-a826-4c74-8e52-a279c0a88dc5').text(' 42%');"
       ],
       "metadata": {},
       "output_type": "display_data",
       "text": [
        "<IPython.core.display.Javascript at 0x11080f550>"
       ]
      },
      {
       "javascript": [
        "\n",
        "        var $myPB = $(\"div#9acdc793-7483-46ed-8e81-741ab6656192\")\n",
        "        if ($myPB.hasClass('ui-progressbar')) {\n",
        "            $myPB.progressbar('value', 270336);\n",
        "        } else {\n",
        "            $myPB.progressbar({value: 0, max: 636151});\n",
        "        }\n",
        "        "
       ],
       "metadata": {},
       "output_type": "display_data",
       "text": [
        "<IPython.core.display.Javascript at 0x11080f5d0>"
       ]
      },
      {
       "javascript": [
        "$('div#b2b8b9f7-754a-4573-9d25-9a301bfc88e9').text('ETA:  0:00:00');"
       ],
       "metadata": {},
       "output_type": "display_data",
       "text": [
        "<IPython.core.display.Javascript at 0x11080f610>"
       ]
      },
      {
       "javascript": [
        "$('div#2f5f392b-927c-4896-9947-fd851fa8ffa7').text('  3.80 MB/s');"
       ],
       "metadata": {},
       "output_type": "display_data",
       "text": [
        "<IPython.core.display.Javascript at 0x11080f650>"
       ]
      },
      {
       "javascript": [
        "$('div#96befbea-a826-4c74-8e52-a279c0a88dc5').text(' 43%');"
       ],
       "metadata": {},
       "output_type": "display_data",
       "text": [
        "<IPython.core.display.Javascript at 0x11080f6d0>"
       ]
      },
      {
       "javascript": [
        "\n",
        "        var $myPB = $(\"div#9acdc793-7483-46ed-8e81-741ab6656192\")\n",
        "        if ($myPB.hasClass('ui-progressbar')) {\n",
        "            $myPB.progressbar('value', 278528);\n",
        "        } else {\n",
        "            $myPB.progressbar({value: 0, max: 636151});\n",
        "        }\n",
        "        "
       ],
       "metadata": {},
       "output_type": "display_data",
       "text": [
        "<IPython.core.display.Javascript at 0x11080f710>"
       ]
      },
      {
       "javascript": [
        "$('div#b2b8b9f7-754a-4573-9d25-9a301bfc88e9').text('ETA:  0:00:00');"
       ],
       "metadata": {},
       "output_type": "display_data",
       "text": [
        "<IPython.core.display.Javascript at 0x11080f750>"
       ]
      },
      {
       "javascript": [
        "$('div#2f5f392b-927c-4896-9947-fd851fa8ffa7').text('  3.80 MB/s');"
       ],
       "metadata": {},
       "output_type": "display_data",
       "text": [
        "<IPython.core.display.Javascript at 0x11080f790>"
       ]
      },
      {
       "javascript": [
        "$('div#96befbea-a826-4c74-8e52-a279c0a88dc5').text(' 45%');"
       ],
       "metadata": {},
       "output_type": "display_data",
       "text": [
        "<IPython.core.display.Javascript at 0x11080f7d0>"
       ]
      },
      {
       "javascript": [
        "\n",
        "        var $myPB = $(\"div#9acdc793-7483-46ed-8e81-741ab6656192\")\n",
        "        if ($myPB.hasClass('ui-progressbar')) {\n",
        "            $myPB.progressbar('value', 286720);\n",
        "        } else {\n",
        "            $myPB.progressbar({value: 0, max: 636151});\n",
        "        }\n",
        "        "
       ],
       "metadata": {},
       "output_type": "display_data",
       "text": [
        "<IPython.core.display.Javascript at 0x11080f810>"
       ]
      },
      {
       "javascript": [
        "$('div#b2b8b9f7-754a-4573-9d25-9a301bfc88e9').text('ETA:  0:00:00');"
       ],
       "metadata": {},
       "output_type": "display_data",
       "text": [
        "<IPython.core.display.Javascript at 0x11080f850>"
       ]
      },
      {
       "javascript": [
        "$('div#2f5f392b-927c-4896-9947-fd851fa8ffa7').text('  3.79 MB/s');"
       ],
       "metadata": {},
       "output_type": "display_data",
       "text": [
        "<IPython.core.display.Javascript at 0x11080f890>"
       ]
      },
      {
       "javascript": [
        "$('div#96befbea-a826-4c74-8e52-a279c0a88dc5').text(' 46%');"
       ],
       "metadata": {},
       "output_type": "display_data",
       "text": [
        "<IPython.core.display.Javascript at 0x11080f8d0>"
       ]
      },
      {
       "javascript": [
        "\n",
        "        var $myPB = $(\"div#9acdc793-7483-46ed-8e81-741ab6656192\")\n",
        "        if ($myPB.hasClass('ui-progressbar')) {\n",
        "            $myPB.progressbar('value', 294912);\n",
        "        } else {\n",
        "            $myPB.progressbar({value: 0, max: 636151});\n",
        "        }\n",
        "        "
       ],
       "metadata": {},
       "output_type": "display_data",
       "text": [
        "<IPython.core.display.Javascript at 0x11080f910>"
       ]
      },
      {
       "javascript": [
        "$('div#b2b8b9f7-754a-4573-9d25-9a301bfc88e9').text('ETA:  0:00:00');"
       ],
       "metadata": {},
       "output_type": "display_data",
       "text": [
        "<IPython.core.display.Javascript at 0x11080f950>"
       ]
      },
      {
       "javascript": [
        "$('div#2f5f392b-927c-4896-9947-fd851fa8ffa7').text('  3.78 MB/s');"
       ],
       "metadata": {},
       "output_type": "display_data",
       "text": [
        "<IPython.core.display.Javascript at 0x11080f990>"
       ]
      },
      {
       "javascript": [
        "$('div#96befbea-a826-4c74-8e52-a279c0a88dc5').text(' 47%');"
       ],
       "metadata": {},
       "output_type": "display_data",
       "text": [
        "<IPython.core.display.Javascript at 0x11080f9d0>"
       ]
      },
      {
       "javascript": [
        "\n",
        "        var $myPB = $(\"div#9acdc793-7483-46ed-8e81-741ab6656192\")\n",
        "        if ($myPB.hasClass('ui-progressbar')) {\n",
        "            $myPB.progressbar('value', 303104);\n",
        "        } else {\n",
        "            $myPB.progressbar({value: 0, max: 636151});\n",
        "        }\n",
        "        "
       ],
       "metadata": {},
       "output_type": "display_data",
       "text": [
        "<IPython.core.display.Javascript at 0x11080fa10>"
       ]
      },
      {
       "javascript": [
        "$('div#b2b8b9f7-754a-4573-9d25-9a301bfc88e9').text('ETA:  0:00:00');"
       ],
       "metadata": {},
       "output_type": "display_data",
       "text": [
        "<IPython.core.display.Javascript at 0x11080fa50>"
       ]
      },
      {
       "javascript": [
        "$('div#2f5f392b-927c-4896-9947-fd851fa8ffa7').text('  3.78 MB/s');"
       ],
       "metadata": {},
       "output_type": "display_data",
       "text": [
        "<IPython.core.display.Javascript at 0x11080fa90>"
       ]
      },
      {
       "javascript": [
        "$('div#96befbea-a826-4c74-8e52-a279c0a88dc5').text(' 48%');"
       ],
       "metadata": {},
       "output_type": "display_data",
       "text": [
        "<IPython.core.display.Javascript at 0x11080fad0>"
       ]
      },
      {
       "javascript": [
        "\n",
        "        var $myPB = $(\"div#9acdc793-7483-46ed-8e81-741ab6656192\")\n",
        "        if ($myPB.hasClass('ui-progressbar')) {\n",
        "            $myPB.progressbar('value', 311296);\n",
        "        } else {\n",
        "            $myPB.progressbar({value: 0, max: 636151});\n",
        "        }\n",
        "        "
       ],
       "metadata": {},
       "output_type": "display_data",
       "text": [
        "<IPython.core.display.Javascript at 0x11080fb10>"
       ]
      },
      {
       "javascript": [
        "$('div#b2b8b9f7-754a-4573-9d25-9a301bfc88e9').text('ETA:  0:00:00');"
       ],
       "metadata": {},
       "output_type": "display_data",
       "text": [
        "<IPython.core.display.Javascript at 0x11080fb50>"
       ]
      },
      {
       "javascript": [
        "$('div#2f5f392b-927c-4896-9947-fd851fa8ffa7').text('  3.79 MB/s');"
       ],
       "metadata": {},
       "output_type": "display_data",
       "text": [
        "<IPython.core.display.Javascript at 0x11080fb90>"
       ]
      },
      {
       "javascript": [
        "$('div#96befbea-a826-4c74-8e52-a279c0a88dc5').text(' 50%');"
       ],
       "metadata": {},
       "output_type": "display_data",
       "text": [
        "<IPython.core.display.Javascript at 0x11080fbd0>"
       ]
      },
      {
       "javascript": [
        "\n",
        "        var $myPB = $(\"div#9acdc793-7483-46ed-8e81-741ab6656192\")\n",
        "        if ($myPB.hasClass('ui-progressbar')) {\n",
        "            $myPB.progressbar('value', 319488);\n",
        "        } else {\n",
        "            $myPB.progressbar({value: 0, max: 636151});\n",
        "        }\n",
        "        "
       ],
       "metadata": {},
       "output_type": "display_data",
       "text": [
        "<IPython.core.display.Javascript at 0x11080fc10>"
       ]
      },
      {
       "javascript": [
        "$('div#b2b8b9f7-754a-4573-9d25-9a301bfc88e9').text('ETA:  0:00:00');"
       ],
       "metadata": {},
       "output_type": "display_data",
       "text": [
        "<IPython.core.display.Javascript at 0x11080fc50>"
       ]
      },
      {
       "javascript": [
        "$('div#2f5f392b-927c-4896-9947-fd851fa8ffa7').text('  3.79 MB/s');"
       ],
       "metadata": {},
       "output_type": "display_data",
       "text": [
        "<IPython.core.display.Javascript at 0x11080fc90>"
       ]
      },
      {
       "javascript": [
        "$('div#96befbea-a826-4c74-8e52-a279c0a88dc5').text(' 51%');"
       ],
       "metadata": {},
       "output_type": "display_data",
       "text": [
        "<IPython.core.display.Javascript at 0x11080fcd0>"
       ]
      },
      {
       "javascript": [
        "\n",
        "        var $myPB = $(\"div#9acdc793-7483-46ed-8e81-741ab6656192\")\n",
        "        if ($myPB.hasClass('ui-progressbar')) {\n",
        "            $myPB.progressbar('value', 327680);\n",
        "        } else {\n",
        "            $myPB.progressbar({value: 0, max: 636151});\n",
        "        }\n",
        "        "
       ],
       "metadata": {},
       "output_type": "display_data",
       "text": [
        "<IPython.core.display.Javascript at 0x11080fd10>"
       ]
      },
      {
       "javascript": [
        "$('div#b2b8b9f7-754a-4573-9d25-9a301bfc88e9').text('ETA:  0:00:00');"
       ],
       "metadata": {},
       "output_type": "display_data",
       "text": [
        "<IPython.core.display.Javascript at 0x11080fd50>"
       ]
      },
      {
       "javascript": [
        "$('div#2f5f392b-927c-4896-9947-fd851fa8ffa7').text('  3.80 MB/s');"
       ],
       "metadata": {},
       "output_type": "display_data",
       "text": [
        "<IPython.core.display.Javascript at 0x11080fd90>"
       ]
      },
      {
       "javascript": [
        "$('div#96befbea-a826-4c74-8e52-a279c0a88dc5').text(' 52%');"
       ],
       "metadata": {},
       "output_type": "display_data",
       "text": [
        "<IPython.core.display.Javascript at 0x11080fdd0>"
       ]
      },
      {
       "javascript": [
        "\n",
        "        var $myPB = $(\"div#9acdc793-7483-46ed-8e81-741ab6656192\")\n",
        "        if ($myPB.hasClass('ui-progressbar')) {\n",
        "            $myPB.progressbar('value', 335872);\n",
        "        } else {\n",
        "            $myPB.progressbar({value: 0, max: 636151});\n",
        "        }\n",
        "        "
       ],
       "metadata": {},
       "output_type": "display_data",
       "text": [
        "<IPython.core.display.Javascript at 0x11080fe10>"
       ]
      },
      {
       "javascript": [
        "$('div#b2b8b9f7-754a-4573-9d25-9a301bfc88e9').text('ETA:  0:00:00');"
       ],
       "metadata": {},
       "output_type": "display_data",
       "text": [
        "<IPython.core.display.Javascript at 0x11080fe50>"
       ]
      },
      {
       "javascript": [
        "$('div#2f5f392b-927c-4896-9947-fd851fa8ffa7').text('  3.80 MB/s');"
       ],
       "metadata": {},
       "output_type": "display_data",
       "text": [
        "<IPython.core.display.Javascript at 0x11080fe90>"
       ]
      },
      {
       "javascript": [
        "$('div#96befbea-a826-4c74-8e52-a279c0a88dc5').text(' 54%');"
       ],
       "metadata": {},
       "output_type": "display_data",
       "text": [
        "<IPython.core.display.Javascript at 0x11080fed0>"
       ]
      },
      {
       "javascript": [
        "\n",
        "        var $myPB = $(\"div#9acdc793-7483-46ed-8e81-741ab6656192\")\n",
        "        if ($myPB.hasClass('ui-progressbar')) {\n",
        "            $myPB.progressbar('value', 344064);\n",
        "        } else {\n",
        "            $myPB.progressbar({value: 0, max: 636151});\n",
        "        }\n",
        "        "
       ],
       "metadata": {},
       "output_type": "display_data",
       "text": [
        "<IPython.core.display.Javascript at 0x11080ffd0>"
       ]
      },
      {
       "javascript": [
        "$('div#b2b8b9f7-754a-4573-9d25-9a301bfc88e9').text('ETA:  0:00:00');"
       ],
       "metadata": {},
       "output_type": "display_data",
       "text": [
        "<IPython.core.display.Javascript at 0x11080ff90>"
       ]
      },
      {
       "javascript": [
        "$('div#2f5f392b-927c-4896-9947-fd851fa8ffa7').text('  3.80 MB/s');"
       ],
       "metadata": {},
       "output_type": "display_data",
       "text": [
        "<IPython.core.display.Javascript at 0x11080ff50>"
       ]
      },
      {
       "javascript": [
        "$('div#96befbea-a826-4c74-8e52-a279c0a88dc5').text(' 55%');"
       ],
       "metadata": {},
       "output_type": "display_data",
       "text": [
        "<IPython.core.display.Javascript at 0x11080ff10>"
       ]
      },
      {
       "javascript": [
        "\n",
        "        var $myPB = $(\"div#9acdc793-7483-46ed-8e81-741ab6656192\")\n",
        "        if ($myPB.hasClass('ui-progressbar')) {\n",
        "            $myPB.progressbar('value', 352256);\n",
        "        } else {\n",
        "            $myPB.progressbar({value: 0, max: 636151});\n",
        "        }\n",
        "        "
       ],
       "metadata": {},
       "output_type": "display_data",
       "text": [
        "<IPython.core.display.Javascript at 0x11080f490>"
       ]
      },
      {
       "javascript": [
        "$('div#b2b8b9f7-754a-4573-9d25-9a301bfc88e9').text('ETA:  0:00:00');"
       ],
       "metadata": {},
       "output_type": "display_data",
       "text": [
        "<IPython.core.display.Javascript at 0x110828050>"
       ]
      },
      {
       "javascript": [
        "$('div#2f5f392b-927c-4896-9947-fd851fa8ffa7').text('  3.81 MB/s');"
       ],
       "metadata": {},
       "output_type": "display_data",
       "text": [
        "<IPython.core.display.Javascript at 0x110828090>"
       ]
      },
      {
       "javascript": [
        "$('div#96befbea-a826-4c74-8e52-a279c0a88dc5').text(' 56%');"
       ],
       "metadata": {},
       "output_type": "display_data",
       "text": [
        "<IPython.core.display.Javascript at 0x1108280d0>"
       ]
      },
      {
       "javascript": [
        "\n",
        "        var $myPB = $(\"div#9acdc793-7483-46ed-8e81-741ab6656192\")\n",
        "        if ($myPB.hasClass('ui-progressbar')) {\n",
        "            $myPB.progressbar('value', 360448);\n",
        "        } else {\n",
        "            $myPB.progressbar({value: 0, max: 636151});\n",
        "        }\n",
        "        "
       ],
       "metadata": {},
       "output_type": "display_data",
       "text": [
        "<IPython.core.display.Javascript at 0x110828110>"
       ]
      },
      {
       "javascript": [
        "$('div#b2b8b9f7-754a-4573-9d25-9a301bfc88e9').text('ETA:  0:00:00');"
       ],
       "metadata": {},
       "output_type": "display_data",
       "text": [
        "<IPython.core.display.Javascript at 0x110828190>"
       ]
      },
      {
       "javascript": [
        "$('div#2f5f392b-927c-4896-9947-fd851fa8ffa7').text('  3.82 MB/s');"
       ],
       "metadata": {},
       "output_type": "display_data",
       "text": [
        "<IPython.core.display.Javascript at 0x1108281d0>"
       ]
      },
      {
       "javascript": [
        "$('div#96befbea-a826-4c74-8e52-a279c0a88dc5').text(' 57%');"
       ],
       "metadata": {},
       "output_type": "display_data",
       "text": [
        "<IPython.core.display.Javascript at 0x110828210>"
       ]
      },
      {
       "javascript": [
        "\n",
        "        var $myPB = $(\"div#9acdc793-7483-46ed-8e81-741ab6656192\")\n",
        "        if ($myPB.hasClass('ui-progressbar')) {\n",
        "            $myPB.progressbar('value', 368640);\n",
        "        } else {\n",
        "            $myPB.progressbar({value: 0, max: 636151});\n",
        "        }\n",
        "        "
       ],
       "metadata": {},
       "output_type": "display_data",
       "text": [
        "<IPython.core.display.Javascript at 0x110828250>"
       ]
      },
      {
       "javascript": [
        "$('div#b2b8b9f7-754a-4573-9d25-9a301bfc88e9').text('ETA:  0:00:00');"
       ],
       "metadata": {},
       "output_type": "display_data",
       "text": [
        "<IPython.core.display.Javascript at 0x110828290>"
       ]
      },
      {
       "javascript": [
        "$('div#2f5f392b-927c-4896-9947-fd851fa8ffa7').text('  3.82 MB/s');"
       ],
       "metadata": {},
       "output_type": "display_data",
       "text": [
        "<IPython.core.display.Javascript at 0x1108282d0>"
       ]
      },
      {
       "javascript": [
        "$('div#96befbea-a826-4c74-8e52-a279c0a88dc5').text(' 59%');"
       ],
       "metadata": {},
       "output_type": "display_data",
       "text": [
        "<IPython.core.display.Javascript at 0x110828310>"
       ]
      },
      {
       "javascript": [
        "\n",
        "        var $myPB = $(\"div#9acdc793-7483-46ed-8e81-741ab6656192\")\n",
        "        if ($myPB.hasClass('ui-progressbar')) {\n",
        "            $myPB.progressbar('value', 376832);\n",
        "        } else {\n",
        "            $myPB.progressbar({value: 0, max: 636151});\n",
        "        }\n",
        "        "
       ],
       "metadata": {},
       "output_type": "display_data",
       "text": [
        "<IPython.core.display.Javascript at 0x110828350>"
       ]
      },
      {
       "javascript": [
        "$('div#b2b8b9f7-754a-4573-9d25-9a301bfc88e9').text('ETA:  0:00:00');"
       ],
       "metadata": {},
       "output_type": "display_data",
       "text": [
        "<IPython.core.display.Javascript at 0x110828390>"
       ]
      },
      {
       "javascript": [
        "$('div#2f5f392b-927c-4896-9947-fd851fa8ffa7').text('  3.83 MB/s');"
       ],
       "metadata": {},
       "output_type": "display_data",
       "text": [
        "<IPython.core.display.Javascript at 0x1108283d0>"
       ]
      },
      {
       "javascript": [
        "$('div#96befbea-a826-4c74-8e52-a279c0a88dc5').text(' 60%');"
       ],
       "metadata": {},
       "output_type": "display_data",
       "text": [
        "<IPython.core.display.Javascript at 0x110828410>"
       ]
      },
      {
       "javascript": [
        "\n",
        "        var $myPB = $(\"div#9acdc793-7483-46ed-8e81-741ab6656192\")\n",
        "        if ($myPB.hasClass('ui-progressbar')) {\n",
        "            $myPB.progressbar('value', 385024);\n",
        "        } else {\n",
        "            $myPB.progressbar({value: 0, max: 636151});\n",
        "        }\n",
        "        "
       ],
       "metadata": {},
       "output_type": "display_data",
       "text": [
        "<IPython.core.display.Javascript at 0x110828450>"
       ]
      },
      {
       "javascript": [
        "$('div#b2b8b9f7-754a-4573-9d25-9a301bfc88e9').text('ETA:  0:00:00');"
       ],
       "metadata": {},
       "output_type": "display_data",
       "text": [
        "<IPython.core.display.Javascript at 0x110828490>"
       ]
      },
      {
       "javascript": [
        "$('div#2f5f392b-927c-4896-9947-fd851fa8ffa7').text('  3.84 MB/s');"
       ],
       "metadata": {},
       "output_type": "display_data",
       "text": [
        "<IPython.core.display.Javascript at 0x1108284d0>"
       ]
      },
      {
       "javascript": [
        "$('div#96befbea-a826-4c74-8e52-a279c0a88dc5').text(' 61%');"
       ],
       "metadata": {},
       "output_type": "display_data",
       "text": [
        "<IPython.core.display.Javascript at 0x110828510>"
       ]
      },
      {
       "javascript": [
        "\n",
        "        var $myPB = $(\"div#9acdc793-7483-46ed-8e81-741ab6656192\")\n",
        "        if ($myPB.hasClass('ui-progressbar')) {\n",
        "            $myPB.progressbar('value', 393216);\n",
        "        } else {\n",
        "            $myPB.progressbar({value: 0, max: 636151});\n",
        "        }\n",
        "        "
       ],
       "metadata": {},
       "output_type": "display_data",
       "text": [
        "<IPython.core.display.Javascript at 0x110828550>"
       ]
      },
      {
       "javascript": [
        "$('div#b2b8b9f7-754a-4573-9d25-9a301bfc88e9').text('ETA:  0:00:00');"
       ],
       "metadata": {},
       "output_type": "display_data",
       "text": [
        "<IPython.core.display.Javascript at 0x110828590>"
       ]
      },
      {
       "javascript": [
        "$('div#2f5f392b-927c-4896-9947-fd851fa8ffa7').text('  3.84 MB/s');"
       ],
       "metadata": {},
       "output_type": "display_data",
       "text": [
        "<IPython.core.display.Javascript at 0x1108285d0>"
       ]
      },
      {
       "javascript": [
        "$('div#96befbea-a826-4c74-8e52-a279c0a88dc5').text(' 63%');"
       ],
       "metadata": {},
       "output_type": "display_data",
       "text": [
        "<IPython.core.display.Javascript at 0x110828610>"
       ]
      },
      {
       "javascript": [
        "\n",
        "        var $myPB = $(\"div#9acdc793-7483-46ed-8e81-741ab6656192\")\n",
        "        if ($myPB.hasClass('ui-progressbar')) {\n",
        "            $myPB.progressbar('value', 401408);\n",
        "        } else {\n",
        "            $myPB.progressbar({value: 0, max: 636151});\n",
        "        }\n",
        "        "
       ],
       "metadata": {},
       "output_type": "display_data",
       "text": [
        "<IPython.core.display.Javascript at 0x110828650>"
       ]
      },
      {
       "javascript": [
        "$('div#b2b8b9f7-754a-4573-9d25-9a301bfc88e9').text('ETA:  0:00:00');"
       ],
       "metadata": {},
       "output_type": "display_data",
       "text": [
        "<IPython.core.display.Javascript at 0x110828690>"
       ]
      },
      {
       "javascript": [
        "$('div#2f5f392b-927c-4896-9947-fd851fa8ffa7').text('  3.85 MB/s');"
       ],
       "metadata": {},
       "output_type": "display_data",
       "text": [
        "<IPython.core.display.Javascript at 0x1108286d0>"
       ]
      },
      {
       "javascript": [
        "$('div#96befbea-a826-4c74-8e52-a279c0a88dc5').text(' 64%');"
       ],
       "metadata": {},
       "output_type": "display_data",
       "text": [
        "<IPython.core.display.Javascript at 0x110828710>"
       ]
      },
      {
       "javascript": [
        "\n",
        "        var $myPB = $(\"div#9acdc793-7483-46ed-8e81-741ab6656192\")\n",
        "        if ($myPB.hasClass('ui-progressbar')) {\n",
        "            $myPB.progressbar('value', 409600);\n",
        "        } else {\n",
        "            $myPB.progressbar({value: 0, max: 636151});\n",
        "        }\n",
        "        "
       ],
       "metadata": {},
       "output_type": "display_data",
       "text": [
        "<IPython.core.display.Javascript at 0x110828750>"
       ]
      },
      {
       "javascript": [
        "$('div#b2b8b9f7-754a-4573-9d25-9a301bfc88e9').text('ETA:  0:00:00');"
       ],
       "metadata": {},
       "output_type": "display_data",
       "text": [
        "<IPython.core.display.Javascript at 0x110828790>"
       ]
      },
      {
       "javascript": [
        "$('div#2f5f392b-927c-4896-9947-fd851fa8ffa7').text('  3.84 MB/s');"
       ],
       "metadata": {},
       "output_type": "display_data",
       "text": [
        "<IPython.core.display.Javascript at 0x1108287d0>"
       ]
      },
      {
       "javascript": [
        "$('div#96befbea-a826-4c74-8e52-a279c0a88dc5').text(' 65%');"
       ],
       "metadata": {},
       "output_type": "display_data",
       "text": [
        "<IPython.core.display.Javascript at 0x110828810>"
       ]
      },
      {
       "javascript": [
        "\n",
        "        var $myPB = $(\"div#9acdc793-7483-46ed-8e81-741ab6656192\")\n",
        "        if ($myPB.hasClass('ui-progressbar')) {\n",
        "            $myPB.progressbar('value', 417792);\n",
        "        } else {\n",
        "            $myPB.progressbar({value: 0, max: 636151});\n",
        "        }\n",
        "        "
       ],
       "metadata": {},
       "output_type": "display_data",
       "text": [
        "<IPython.core.display.Javascript at 0x110828850>"
       ]
      },
      {
       "javascript": [
        "$('div#b2b8b9f7-754a-4573-9d25-9a301bfc88e9').text('ETA:  0:00:00');"
       ],
       "metadata": {},
       "output_type": "display_data",
       "text": [
        "<IPython.core.display.Javascript at 0x110828890>"
       ]
      },
      {
       "javascript": [
        "$('div#2f5f392b-927c-4896-9947-fd851fa8ffa7').text('  3.84 MB/s');"
       ],
       "metadata": {},
       "output_type": "display_data",
       "text": [
        "<IPython.core.display.Javascript at 0x11080f490>"
       ]
      },
      {
       "javascript": [
        "$('div#96befbea-a826-4c74-8e52-a279c0a88dc5').text(' 66%');"
       ],
       "metadata": {},
       "output_type": "display_data",
       "text": [
        "<IPython.core.display.Javascript at 0x11080ff10>"
       ]
      },
      {
       "javascript": [
        "\n",
        "        var $myPB = $(\"div#9acdc793-7483-46ed-8e81-741ab6656192\")\n",
        "        if ($myPB.hasClass('ui-progressbar')) {\n",
        "            $myPB.progressbar('value', 425984);\n",
        "        } else {\n",
        "            $myPB.progressbar({value: 0, max: 636151});\n",
        "        }\n",
        "        "
       ],
       "metadata": {},
       "output_type": "display_data",
       "text": [
        "<IPython.core.display.Javascript at 0x11080ff50>"
       ]
      },
      {
       "javascript": [
        "$('div#b2b8b9f7-754a-4573-9d25-9a301bfc88e9').text('ETA:  0:00:00');"
       ],
       "metadata": {},
       "output_type": "display_data",
       "text": [
        "<IPython.core.display.Javascript at 0x11080ff90>"
       ]
      },
      {
       "javascript": [
        "$('div#2f5f392b-927c-4896-9947-fd851fa8ffa7').text('  3.82 MB/s');"
       ],
       "metadata": {},
       "output_type": "display_data",
       "text": [
        "<IPython.core.display.Javascript at 0x11080fed0>"
       ]
      },
      {
       "javascript": [
        "$('div#96befbea-a826-4c74-8e52-a279c0a88dc5').text(' 68%');"
       ],
       "metadata": {},
       "output_type": "display_data",
       "text": [
        "<IPython.core.display.Javascript at 0x11080fe90>"
       ]
      },
      {
       "javascript": [
        "\n",
        "        var $myPB = $(\"div#9acdc793-7483-46ed-8e81-741ab6656192\")\n",
        "        if ($myPB.hasClass('ui-progressbar')) {\n",
        "            $myPB.progressbar('value', 434176);\n",
        "        } else {\n",
        "            $myPB.progressbar({value: 0, max: 636151});\n",
        "        }\n",
        "        "
       ],
       "metadata": {},
       "output_type": "display_data",
       "text": [
        "<IPython.core.display.Javascript at 0x11080fe50>"
       ]
      },
      {
       "javascript": [
        "$('div#b2b8b9f7-754a-4573-9d25-9a301bfc88e9').text('ETA:  0:00:00');"
       ],
       "metadata": {},
       "output_type": "display_data",
       "text": [
        "<IPython.core.display.Javascript at 0x11080fe10>"
       ]
      },
      {
       "javascript": [
        "$('div#2f5f392b-927c-4896-9947-fd851fa8ffa7').text('  3.83 MB/s');"
       ],
       "metadata": {},
       "output_type": "display_data",
       "text": [
        "<IPython.core.display.Javascript at 0x11080fdd0>"
       ]
      },
      {
       "javascript": [
        "$('div#96befbea-a826-4c74-8e52-a279c0a88dc5').text(' 69%');"
       ],
       "metadata": {},
       "output_type": "display_data",
       "text": [
        "<IPython.core.display.Javascript at 0x11080fd90>"
       ]
      },
      {
       "javascript": [
        "\n",
        "        var $myPB = $(\"div#9acdc793-7483-46ed-8e81-741ab6656192\")\n",
        "        if ($myPB.hasClass('ui-progressbar')) {\n",
        "            $myPB.progressbar('value', 442368);\n",
        "        } else {\n",
        "            $myPB.progressbar({value: 0, max: 636151});\n",
        "        }\n",
        "        "
       ],
       "metadata": {},
       "output_type": "display_data",
       "text": [
        "<IPython.core.display.Javascript at 0x11080fd50>"
       ]
      },
      {
       "javascript": [
        "$('div#b2b8b9f7-754a-4573-9d25-9a301bfc88e9').text('ETA:  0:00:00');"
       ],
       "metadata": {},
       "output_type": "display_data",
       "text": [
        "<IPython.core.display.Javascript at 0x11080fd10>"
       ]
      },
      {
       "javascript": [
        "$('div#2f5f392b-927c-4896-9947-fd851fa8ffa7').text('  3.83 MB/s');"
       ],
       "metadata": {},
       "output_type": "display_data",
       "text": [
        "<IPython.core.display.Javascript at 0x11080fcd0>"
       ]
      },
      {
       "javascript": [
        "$('div#96befbea-a826-4c74-8e52-a279c0a88dc5').text(' 70%');"
       ],
       "metadata": {},
       "output_type": "display_data",
       "text": [
        "<IPython.core.display.Javascript at 0x11080fc90>"
       ]
      },
      {
       "javascript": [
        "\n",
        "        var $myPB = $(\"div#9acdc793-7483-46ed-8e81-741ab6656192\")\n",
        "        if ($myPB.hasClass('ui-progressbar')) {\n",
        "            $myPB.progressbar('value', 450560);\n",
        "        } else {\n",
        "            $myPB.progressbar({value: 0, max: 636151});\n",
        "        }\n",
        "        "
       ],
       "metadata": {},
       "output_type": "display_data",
       "text": [
        "<IPython.core.display.Javascript at 0x11080fc50>"
       ]
      },
      {
       "javascript": [
        "$('div#b2b8b9f7-754a-4573-9d25-9a301bfc88e9').text('ETA:  0:00:00');"
       ],
       "metadata": {},
       "output_type": "display_data",
       "text": [
        "<IPython.core.display.Javascript at 0x11080fc10>"
       ]
      },
      {
       "javascript": [
        "$('div#2f5f392b-927c-4896-9947-fd851fa8ffa7').text('  3.83 MB/s');"
       ],
       "metadata": {},
       "output_type": "display_data",
       "text": [
        "<IPython.core.display.Javascript at 0x11080fbd0>"
       ]
      },
      {
       "javascript": [
        "$('div#96befbea-a826-4c74-8e52-a279c0a88dc5').text(' 72%');"
       ],
       "metadata": {},
       "output_type": "display_data",
       "text": [
        "<IPython.core.display.Javascript at 0x11080fb90>"
       ]
      },
      {
       "javascript": [
        "\n",
        "        var $myPB = $(\"div#9acdc793-7483-46ed-8e81-741ab6656192\")\n",
        "        if ($myPB.hasClass('ui-progressbar')) {\n",
        "            $myPB.progressbar('value', 458752);\n",
        "        } else {\n",
        "            $myPB.progressbar({value: 0, max: 636151});\n",
        "        }\n",
        "        "
       ],
       "metadata": {},
       "output_type": "display_data",
       "text": [
        "<IPython.core.display.Javascript at 0x11080fb50>"
       ]
      },
      {
       "javascript": [
        "$('div#b2b8b9f7-754a-4573-9d25-9a301bfc88e9').text('ETA:  0:00:00');"
       ],
       "metadata": {},
       "output_type": "display_data",
       "text": [
        "<IPython.core.display.Javascript at 0x11080fb10>"
       ]
      },
      {
       "javascript": [
        "$('div#2f5f392b-927c-4896-9947-fd851fa8ffa7').text('  3.82 MB/s');"
       ],
       "metadata": {},
       "output_type": "display_data",
       "text": [
        "<IPython.core.display.Javascript at 0x11080fad0>"
       ]
      },
      {
       "javascript": [
        "$('div#96befbea-a826-4c74-8e52-a279c0a88dc5').text(' 73%');"
       ],
       "metadata": {},
       "output_type": "display_data",
       "text": [
        "<IPython.core.display.Javascript at 0x11080fa90>"
       ]
      },
      {
       "javascript": [
        "\n",
        "        var $myPB = $(\"div#9acdc793-7483-46ed-8e81-741ab6656192\")\n",
        "        if ($myPB.hasClass('ui-progressbar')) {\n",
        "            $myPB.progressbar('value', 466944);\n",
        "        } else {\n",
        "            $myPB.progressbar({value: 0, max: 636151});\n",
        "        }\n",
        "        "
       ],
       "metadata": {},
       "output_type": "display_data",
       "text": [
        "<IPython.core.display.Javascript at 0x11080fa50>"
       ]
      },
      {
       "javascript": [
        "$('div#b2b8b9f7-754a-4573-9d25-9a301bfc88e9').text('ETA:  0:00:00');"
       ],
       "metadata": {},
       "output_type": "display_data",
       "text": [
        "<IPython.core.display.Javascript at 0x11080fa10>"
       ]
      },
      {
       "javascript": [
        "$('div#2f5f392b-927c-4896-9947-fd851fa8ffa7').text('  3.82 MB/s');"
       ],
       "metadata": {},
       "output_type": "display_data",
       "text": [
        "<IPython.core.display.Javascript at 0x11080f9d0>"
       ]
      },
      {
       "javascript": [
        "$('div#96befbea-a826-4c74-8e52-a279c0a88dc5').text(' 74%');"
       ],
       "metadata": {},
       "output_type": "display_data",
       "text": [
        "<IPython.core.display.Javascript at 0x11080f990>"
       ]
      },
      {
       "javascript": [
        "\n",
        "        var $myPB = $(\"div#9acdc793-7483-46ed-8e81-741ab6656192\")\n",
        "        if ($myPB.hasClass('ui-progressbar')) {\n",
        "            $myPB.progressbar('value', 475136);\n",
        "        } else {\n",
        "            $myPB.progressbar({value: 0, max: 636151});\n",
        "        }\n",
        "        "
       ],
       "metadata": {},
       "output_type": "display_data",
       "text": [
        "<IPython.core.display.Javascript at 0x11080f950>"
       ]
      },
      {
       "javascript": [
        "$('div#b2b8b9f7-754a-4573-9d25-9a301bfc88e9').text('ETA:  0:00:00');"
       ],
       "metadata": {},
       "output_type": "display_data",
       "text": [
        "<IPython.core.display.Javascript at 0x11080f910>"
       ]
      },
      {
       "javascript": [
        "$('div#2f5f392b-927c-4896-9947-fd851fa8ffa7').text('  3.81 MB/s');"
       ],
       "metadata": {},
       "output_type": "display_data",
       "text": [
        "<IPython.core.display.Javascript at 0x11080f8d0>"
       ]
      },
      {
       "javascript": [
        "$('div#96befbea-a826-4c74-8e52-a279c0a88dc5').text(' 75%');"
       ],
       "metadata": {},
       "output_type": "display_data",
       "text": [
        "<IPython.core.display.Javascript at 0x11080f890>"
       ]
      },
      {
       "javascript": [
        "\n",
        "        var $myPB = $(\"div#9acdc793-7483-46ed-8e81-741ab6656192\")\n",
        "        if ($myPB.hasClass('ui-progressbar')) {\n",
        "            $myPB.progressbar('value', 483328);\n",
        "        } else {\n",
        "            $myPB.progressbar({value: 0, max: 636151});\n",
        "        }\n",
        "        "
       ],
       "metadata": {},
       "output_type": "display_data",
       "text": [
        "<IPython.core.display.Javascript at 0x11080f850>"
       ]
      },
      {
       "javascript": [
        "$('div#b2b8b9f7-754a-4573-9d25-9a301bfc88e9').text('ETA:  0:00:00');"
       ],
       "metadata": {},
       "output_type": "display_data",
       "text": [
        "<IPython.core.display.Javascript at 0x11080f810>"
       ]
      },
      {
       "javascript": [
        "$('div#2f5f392b-927c-4896-9947-fd851fa8ffa7').text('  3.82 MB/s');"
       ],
       "metadata": {},
       "output_type": "display_data",
       "text": [
        "<IPython.core.display.Javascript at 0x11080f7d0>"
       ]
      },
      {
       "javascript": [
        "$('div#96befbea-a826-4c74-8e52-a279c0a88dc5').text(' 77%');"
       ],
       "metadata": {},
       "output_type": "display_data",
       "text": [
        "<IPython.core.display.Javascript at 0x11080f790>"
       ]
      },
      {
       "javascript": [
        "\n",
        "        var $myPB = $(\"div#9acdc793-7483-46ed-8e81-741ab6656192\")\n",
        "        if ($myPB.hasClass('ui-progressbar')) {\n",
        "            $myPB.progressbar('value', 491520);\n",
        "        } else {\n",
        "            $myPB.progressbar({value: 0, max: 636151});\n",
        "        }\n",
        "        "
       ],
       "metadata": {},
       "output_type": "display_data",
       "text": [
        "<IPython.core.display.Javascript at 0x11080f750>"
       ]
      },
      {
       "javascript": [
        "$('div#b2b8b9f7-754a-4573-9d25-9a301bfc88e9').text('ETA:  0:00:00');"
       ],
       "metadata": {},
       "output_type": "display_data",
       "text": [
        "<IPython.core.display.Javascript at 0x11080f710>"
       ]
      },
      {
       "javascript": [
        "$('div#2f5f392b-927c-4896-9947-fd851fa8ffa7').text('  3.82 MB/s');"
       ],
       "metadata": {},
       "output_type": "display_data",
       "text": [
        "<IPython.core.display.Javascript at 0x11080f6d0>"
       ]
      },
      {
       "javascript": [
        "$('div#96befbea-a826-4c74-8e52-a279c0a88dc5').text(' 78%');"
       ],
       "metadata": {},
       "output_type": "display_data",
       "text": [
        "<IPython.core.display.Javascript at 0x11080f650>"
       ]
      },
      {
       "javascript": [
        "\n",
        "        var $myPB = $(\"div#9acdc793-7483-46ed-8e81-741ab6656192\")\n",
        "        if ($myPB.hasClass('ui-progressbar')) {\n",
        "            $myPB.progressbar('value', 499712);\n",
        "        } else {\n",
        "            $myPB.progressbar({value: 0, max: 636151});\n",
        "        }\n",
        "        "
       ],
       "metadata": {},
       "output_type": "display_data",
       "text": [
        "<IPython.core.display.Javascript at 0x11080f610>"
       ]
      },
      {
       "javascript": [
        "$('div#b2b8b9f7-754a-4573-9d25-9a301bfc88e9').text('ETA:  0:00:00');"
       ],
       "metadata": {},
       "output_type": "display_data",
       "text": [
        "<IPython.core.display.Javascript at 0x11080f5d0>"
       ]
      },
      {
       "javascript": [
        "$('div#2f5f392b-927c-4896-9947-fd851fa8ffa7').text('  3.82 MB/s');"
       ],
       "metadata": {},
       "output_type": "display_data",
       "text": [
        "<IPython.core.display.Javascript at 0x11080f550>"
       ]
      },
      {
       "javascript": [
        "$('div#96befbea-a826-4c74-8e52-a279c0a88dc5').text(' 79%');"
       ],
       "metadata": {},
       "output_type": "display_data",
       "text": [
        "<IPython.core.display.Javascript at 0x11080f450>"
       ]
      },
      {
       "javascript": [
        "\n",
        "        var $myPB = $(\"div#9acdc793-7483-46ed-8e81-741ab6656192\")\n",
        "        if ($myPB.hasClass('ui-progressbar')) {\n",
        "            $myPB.progressbar('value', 507904);\n",
        "        } else {\n",
        "            $myPB.progressbar({value: 0, max: 636151});\n",
        "        }\n",
        "        "
       ],
       "metadata": {},
       "output_type": "display_data",
       "text": [
        "<IPython.core.display.Javascript at 0x11080f510>"
       ]
      },
      {
       "javascript": [
        "$('div#b2b8b9f7-754a-4573-9d25-9a301bfc88e9').text('ETA:  0:00:00');"
       ],
       "metadata": {},
       "output_type": "display_data",
       "text": [
        "<IPython.core.display.Javascript at 0x11080f4d0>"
       ]
      },
      {
       "javascript": [
        "$('div#2f5f392b-927c-4896-9947-fd851fa8ffa7').text('  3.82 MB/s');"
       ],
       "metadata": {},
       "output_type": "display_data",
       "text": [
        "<IPython.core.display.Javascript at 0x11080f210>"
       ]
      },
      {
       "javascript": [
        "$('div#96befbea-a826-4c74-8e52-a279c0a88dc5').text(' 81%');"
       ],
       "metadata": {},
       "output_type": "display_data",
       "text": [
        "<IPython.core.display.Javascript at 0x11080f1d0>"
       ]
      },
      {
       "javascript": [
        "\n",
        "        var $myPB = $(\"div#9acdc793-7483-46ed-8e81-741ab6656192\")\n",
        "        if ($myPB.hasClass('ui-progressbar')) {\n",
        "            $myPB.progressbar('value', 516096);\n",
        "        } else {\n",
        "            $myPB.progressbar({value: 0, max: 636151});\n",
        "        }\n",
        "        "
       ],
       "metadata": {},
       "output_type": "display_data",
       "text": [
        "<IPython.core.display.Javascript at 0x11080f050>"
       ]
      },
      {
       "javascript": [
        "$('div#b2b8b9f7-754a-4573-9d25-9a301bfc88e9').text('ETA:  0:00:00');"
       ],
       "metadata": {},
       "output_type": "display_data",
       "text": [
        "<IPython.core.display.Javascript at 0x11080f690>"
       ]
      },
      {
       "javascript": [
        "$('div#2f5f392b-927c-4896-9947-fd851fa8ffa7').text('  3.82 MB/s');"
       ],
       "metadata": {},
       "output_type": "display_data",
       "text": [
        "<IPython.core.display.Javascript at 0x11080ffd0>"
       ]
      },
      {
       "javascript": [
        "$('div#96befbea-a826-4c74-8e52-a279c0a88dc5').text(' 82%');"
       ],
       "metadata": {},
       "output_type": "display_data",
       "text": [
        "<IPython.core.display.Javascript at 0x110833050>"
       ]
      },
      {
       "javascript": [
        "\n",
        "        var $myPB = $(\"div#9acdc793-7483-46ed-8e81-741ab6656192\")\n",
        "        if ($myPB.hasClass('ui-progressbar')) {\n",
        "            $myPB.progressbar('value', 524288);\n",
        "        } else {\n",
        "            $myPB.progressbar({value: 0, max: 636151});\n",
        "        }\n",
        "        "
       ],
       "metadata": {},
       "output_type": "display_data",
       "text": [
        "<IPython.core.display.Javascript at 0x110833090>"
       ]
      },
      {
       "javascript": [
        "$('div#b2b8b9f7-754a-4573-9d25-9a301bfc88e9').text('ETA:  0:00:00');"
       ],
       "metadata": {},
       "output_type": "display_data",
       "text": [
        "<IPython.core.display.Javascript at 0x1108330d0>"
       ]
      },
      {
       "javascript": [
        "$('div#2f5f392b-927c-4896-9947-fd851fa8ffa7').text('  3.82 MB/s');"
       ],
       "metadata": {},
       "output_type": "display_data",
       "text": [
        "<IPython.core.display.Javascript at 0x110833110>"
       ]
      },
      {
       "javascript": [
        "$('div#96befbea-a826-4c74-8e52-a279c0a88dc5').text(' 83%');"
       ],
       "metadata": {},
       "output_type": "display_data",
       "text": [
        "<IPython.core.display.Javascript at 0x110833190>"
       ]
      },
      {
       "javascript": [
        "\n",
        "        var $myPB = $(\"div#9acdc793-7483-46ed-8e81-741ab6656192\")\n",
        "        if ($myPB.hasClass('ui-progressbar')) {\n",
        "            $myPB.progressbar('value', 532480);\n",
        "        } else {\n",
        "            $myPB.progressbar({value: 0, max: 636151});\n",
        "        }\n",
        "        "
       ],
       "metadata": {},
       "output_type": "display_data",
       "text": [
        "<IPython.core.display.Javascript at 0x1108331d0>"
       ]
      },
      {
       "javascript": [
        "$('div#b2b8b9f7-754a-4573-9d25-9a301bfc88e9').text('ETA:  0:00:00');"
       ],
       "metadata": {},
       "output_type": "display_data",
       "text": [
        "<IPython.core.display.Javascript at 0x110833210>"
       ]
      },
      {
       "javascript": [
        "$('div#2f5f392b-927c-4896-9947-fd851fa8ffa7').text('  3.80 MB/s');"
       ],
       "metadata": {},
       "output_type": "display_data",
       "text": [
        "<IPython.core.display.Javascript at 0x110833250>"
       ]
      },
      {
       "javascript": [
        "$('div#96befbea-a826-4c74-8e52-a279c0a88dc5').text(' 84%');"
       ],
       "metadata": {},
       "output_type": "display_data",
       "text": [
        "<IPython.core.display.Javascript at 0x110833290>"
       ]
      },
      {
       "javascript": [
        "\n",
        "        var $myPB = $(\"div#9acdc793-7483-46ed-8e81-741ab6656192\")\n",
        "        if ($myPB.hasClass('ui-progressbar')) {\n",
        "            $myPB.progressbar('value', 540672);\n",
        "        } else {\n",
        "            $myPB.progressbar({value: 0, max: 636151});\n",
        "        }\n",
        "        "
       ],
       "metadata": {},
       "output_type": "display_data",
       "text": [
        "<IPython.core.display.Javascript at 0x1108332d0>"
       ]
      },
      {
       "javascript": [
        "$('div#b2b8b9f7-754a-4573-9d25-9a301bfc88e9').text('ETA:  0:00:00');"
       ],
       "metadata": {},
       "output_type": "display_data",
       "text": [
        "<IPython.core.display.Javascript at 0x110833310>"
       ]
      },
      {
       "javascript": [
        "$('div#2f5f392b-927c-4896-9947-fd851fa8ffa7').text('  3.79 MB/s');"
       ],
       "metadata": {},
       "output_type": "display_data",
       "text": [
        "<IPython.core.display.Javascript at 0x110833350>"
       ]
      },
      {
       "javascript": [
        "$('div#96befbea-a826-4c74-8e52-a279c0a88dc5').text(' 86%');"
       ],
       "metadata": {},
       "output_type": "display_data",
       "text": [
        "<IPython.core.display.Javascript at 0x110833390>"
       ]
      },
      {
       "javascript": [
        "\n",
        "        var $myPB = $(\"div#9acdc793-7483-46ed-8e81-741ab6656192\")\n",
        "        if ($myPB.hasClass('ui-progressbar')) {\n",
        "            $myPB.progressbar('value', 548864);\n",
        "        } else {\n",
        "            $myPB.progressbar({value: 0, max: 636151});\n",
        "        }\n",
        "        "
       ],
       "metadata": {},
       "output_type": "display_data",
       "text": [
        "<IPython.core.display.Javascript at 0x1108333d0>"
       ]
      },
      {
       "javascript": [
        "$('div#b2b8b9f7-754a-4573-9d25-9a301bfc88e9').text('ETA:  0:00:00');"
       ],
       "metadata": {},
       "output_type": "display_data",
       "text": [
        "<IPython.core.display.Javascript at 0x110833410>"
       ]
      },
      {
       "javascript": [
        "$('div#2f5f392b-927c-4896-9947-fd851fa8ffa7').text('  3.79 MB/s');"
       ],
       "metadata": {},
       "output_type": "display_data",
       "text": [
        "<IPython.core.display.Javascript at 0x110833450>"
       ]
      },
      {
       "javascript": [
        "$('div#96befbea-a826-4c74-8e52-a279c0a88dc5').text(' 87%');"
       ],
       "metadata": {},
       "output_type": "display_data",
       "text": [
        "<IPython.core.display.Javascript at 0x110833490>"
       ]
      },
      {
       "javascript": [
        "\n",
        "        var $myPB = $(\"div#9acdc793-7483-46ed-8e81-741ab6656192\")\n",
        "        if ($myPB.hasClass('ui-progressbar')) {\n",
        "            $myPB.progressbar('value', 557056);\n",
        "        } else {\n",
        "            $myPB.progressbar({value: 0, max: 636151});\n",
        "        }\n",
        "        "
       ],
       "metadata": {},
       "output_type": "display_data",
       "text": [
        "<IPython.core.display.Javascript at 0x1108334d0>"
       ]
      },
      {
       "javascript": [
        "$('div#b2b8b9f7-754a-4573-9d25-9a301bfc88e9').text('ETA:  0:00:00');"
       ],
       "metadata": {},
       "output_type": "display_data",
       "text": [
        "<IPython.core.display.Javascript at 0x110833510>"
       ]
      },
      {
       "javascript": [
        "$('div#2f5f392b-927c-4896-9947-fd851fa8ffa7').text('  3.79 MB/s');"
       ],
       "metadata": {},
       "output_type": "display_data",
       "text": [
        "<IPython.core.display.Javascript at 0x110833550>"
       ]
      },
      {
       "javascript": [
        "$('div#96befbea-a826-4c74-8e52-a279c0a88dc5').text(' 88%');"
       ],
       "metadata": {},
       "output_type": "display_data",
       "text": [
        "<IPython.core.display.Javascript at 0x110833590>"
       ]
      },
      {
       "javascript": [
        "\n",
        "        var $myPB = $(\"div#9acdc793-7483-46ed-8e81-741ab6656192\")\n",
        "        if ($myPB.hasClass('ui-progressbar')) {\n",
        "            $myPB.progressbar('value', 565248);\n",
        "        } else {\n",
        "            $myPB.progressbar({value: 0, max: 636151});\n",
        "        }\n",
        "        "
       ],
       "metadata": {},
       "output_type": "display_data",
       "text": [
        "<IPython.core.display.Javascript at 0x1108335d0>"
       ]
      },
      {
       "javascript": [
        "$('div#b2b8b9f7-754a-4573-9d25-9a301bfc88e9').text('ETA:  0:00:00');"
       ],
       "metadata": {},
       "output_type": "display_data",
       "text": [
        "<IPython.core.display.Javascript at 0x110833610>"
       ]
      },
      {
       "javascript": [
        "$('div#2f5f392b-927c-4896-9947-fd851fa8ffa7').text('  3.79 MB/s');"
       ],
       "metadata": {},
       "output_type": "display_data",
       "text": [
        "<IPython.core.display.Javascript at 0x110833650>"
       ]
      },
      {
       "javascript": [
        "$('div#96befbea-a826-4c74-8e52-a279c0a88dc5').text(' 90%');"
       ],
       "metadata": {},
       "output_type": "display_data",
       "text": [
        "<IPython.core.display.Javascript at 0x110833690>"
       ]
      },
      {
       "javascript": [
        "\n",
        "        var $myPB = $(\"div#9acdc793-7483-46ed-8e81-741ab6656192\")\n",
        "        if ($myPB.hasClass('ui-progressbar')) {\n",
        "            $myPB.progressbar('value', 573440);\n",
        "        } else {\n",
        "            $myPB.progressbar({value: 0, max: 636151});\n",
        "        }\n",
        "        "
       ],
       "metadata": {},
       "output_type": "display_data",
       "text": [
        "<IPython.core.display.Javascript at 0x1108336d0>"
       ]
      },
      {
       "javascript": [
        "$('div#b2b8b9f7-754a-4573-9d25-9a301bfc88e9').text('ETA:  0:00:00');"
       ],
       "metadata": {},
       "output_type": "display_data",
       "text": [
        "<IPython.core.display.Javascript at 0x110833710>"
       ]
      },
      {
       "javascript": [
        "$('div#2f5f392b-927c-4896-9947-fd851fa8ffa7').text('  3.80 MB/s');"
       ],
       "metadata": {},
       "output_type": "display_data",
       "text": [
        "<IPython.core.display.Javascript at 0x110833750>"
       ]
      },
      {
       "javascript": [
        "$('div#96befbea-a826-4c74-8e52-a279c0a88dc5').text(' 91%');"
       ],
       "metadata": {},
       "output_type": "display_data",
       "text": [
        "<IPython.core.display.Javascript at 0x110833790>"
       ]
      },
      {
       "javascript": [
        "\n",
        "        var $myPB = $(\"div#9acdc793-7483-46ed-8e81-741ab6656192\")\n",
        "        if ($myPB.hasClass('ui-progressbar')) {\n",
        "            $myPB.progressbar('value', 581632);\n",
        "        } else {\n",
        "            $myPB.progressbar({value: 0, max: 636151});\n",
        "        }\n",
        "        "
       ],
       "metadata": {},
       "output_type": "display_data",
       "text": [
        "<IPython.core.display.Javascript at 0x1108337d0>"
       ]
      },
      {
       "javascript": [
        "$('div#b2b8b9f7-754a-4573-9d25-9a301bfc88e9').text('ETA:  0:00:00');"
       ],
       "metadata": {},
       "output_type": "display_data",
       "text": [
        "<IPython.core.display.Javascript at 0x110833810>"
       ]
      },
      {
       "javascript": [
        "$('div#2f5f392b-927c-4896-9947-fd851fa8ffa7').text('  3.80 MB/s');"
       ],
       "metadata": {},
       "output_type": "display_data",
       "text": [
        "<IPython.core.display.Javascript at 0x110833850>"
       ]
      },
      {
       "javascript": [
        "$('div#96befbea-a826-4c74-8e52-a279c0a88dc5').text(' 92%');"
       ],
       "metadata": {},
       "output_type": "display_data",
       "text": [
        "<IPython.core.display.Javascript at 0x110833890>"
       ]
      },
      {
       "javascript": [
        "\n",
        "        var $myPB = $(\"div#9acdc793-7483-46ed-8e81-741ab6656192\")\n",
        "        if ($myPB.hasClass('ui-progressbar')) {\n",
        "            $myPB.progressbar('value', 589824);\n",
        "        } else {\n",
        "            $myPB.progressbar({value: 0, max: 636151});\n",
        "        }\n",
        "        "
       ],
       "metadata": {},
       "output_type": "display_data",
       "text": [
        "<IPython.core.display.Javascript at 0x11080ffd0>"
       ]
      },
      {
       "javascript": [
        "$('div#b2b8b9f7-754a-4573-9d25-9a301bfc88e9').text('ETA:  0:00:00');"
       ],
       "metadata": {},
       "output_type": "display_data",
       "text": [
        "<IPython.core.display.Javascript at 0x11080f690>"
       ]
      },
      {
       "javascript": [
        "$('div#2f5f392b-927c-4896-9947-fd851fa8ffa7').text('  3.80 MB/s');"
       ],
       "metadata": {},
       "output_type": "display_data",
       "text": [
        "<IPython.core.display.Javascript at 0x11080f050>"
       ]
      },
      {
       "javascript": [
        "$('div#96befbea-a826-4c74-8e52-a279c0a88dc5').text(' 94%');"
       ],
       "metadata": {},
       "output_type": "display_data",
       "text": [
        "<IPython.core.display.Javascript at 0x11080f1d0>"
       ]
      },
      {
       "javascript": [
        "\n",
        "        var $myPB = $(\"div#9acdc793-7483-46ed-8e81-741ab6656192\")\n",
        "        if ($myPB.hasClass('ui-progressbar')) {\n",
        "            $myPB.progressbar('value', 598016);\n",
        "        } else {\n",
        "            $myPB.progressbar({value: 0, max: 636151});\n",
        "        }\n",
        "        "
       ],
       "metadata": {},
       "output_type": "display_data",
       "text": [
        "<IPython.core.display.Javascript at 0x11080f4d0>"
       ]
      },
      {
       "javascript": [
        "$('div#b2b8b9f7-754a-4573-9d25-9a301bfc88e9').text('ETA:  0:00:00');"
       ],
       "metadata": {},
       "output_type": "display_data",
       "text": [
        "<IPython.core.display.Javascript at 0x11080f510>"
       ]
      },
      {
       "javascript": [
        "$('div#2f5f392b-927c-4896-9947-fd851fa8ffa7').text('  3.80 MB/s');"
       ],
       "metadata": {},
       "output_type": "display_data",
       "text": [
        "<IPython.core.display.Javascript at 0x11080f450>"
       ]
      },
      {
       "javascript": [
        "$('div#96befbea-a826-4c74-8e52-a279c0a88dc5').text(' 95%');"
       ],
       "metadata": {},
       "output_type": "display_data",
       "text": [
        "<IPython.core.display.Javascript at 0x11080f550>"
       ]
      },
      {
       "javascript": [
        "\n",
        "        var $myPB = $(\"div#9acdc793-7483-46ed-8e81-741ab6656192\")\n",
        "        if ($myPB.hasClass('ui-progressbar')) {\n",
        "            $myPB.progressbar('value', 606208);\n",
        "        } else {\n",
        "            $myPB.progressbar({value: 0, max: 636151});\n",
        "        }\n",
        "        "
       ],
       "metadata": {},
       "output_type": "display_data",
       "text": [
        "<IPython.core.display.Javascript at 0x11080f5d0>"
       ]
      },
      {
       "javascript": [
        "$('div#b2b8b9f7-754a-4573-9d25-9a301bfc88e9').text('ETA:  0:00:00');"
       ],
       "metadata": {},
       "output_type": "display_data",
       "text": [
        "<IPython.core.display.Javascript at 0x11080f610>"
       ]
      },
      {
       "javascript": [
        "$('div#2f5f392b-927c-4896-9947-fd851fa8ffa7').text('  3.80 MB/s');"
       ],
       "metadata": {},
       "output_type": "display_data",
       "text": [
        "<IPython.core.display.Javascript at 0x11080f650>"
       ]
      },
      {
       "javascript": [
        "$('div#96befbea-a826-4c74-8e52-a279c0a88dc5').text(' 96%');"
       ],
       "metadata": {},
       "output_type": "display_data",
       "text": [
        "<IPython.core.display.Javascript at 0x11080f6d0>"
       ]
      },
      {
       "javascript": [
        "\n",
        "        var $myPB = $(\"div#9acdc793-7483-46ed-8e81-741ab6656192\")\n",
        "        if ($myPB.hasClass('ui-progressbar')) {\n",
        "            $myPB.progressbar('value', 614400);\n",
        "        } else {\n",
        "            $myPB.progressbar({value: 0, max: 636151});\n",
        "        }\n",
        "        "
       ],
       "metadata": {},
       "output_type": "display_data",
       "text": [
        "<IPython.core.display.Javascript at 0x11080f710>"
       ]
      },
      {
       "javascript": [
        "$('div#b2b8b9f7-754a-4573-9d25-9a301bfc88e9').text('ETA:  0:00:00');"
       ],
       "metadata": {},
       "output_type": "display_data",
       "text": [
        "<IPython.core.display.Javascript at 0x11080f750>"
       ]
      },
      {
       "javascript": [
        "$('div#2f5f392b-927c-4896-9947-fd851fa8ffa7').text('  3.80 MB/s');"
       ],
       "metadata": {},
       "output_type": "display_data",
       "text": [
        "<IPython.core.display.Javascript at 0x11080f790>"
       ]
      },
      {
       "javascript": [
        "$('div#96befbea-a826-4c74-8e52-a279c0a88dc5').text(' 97%');"
       ],
       "metadata": {},
       "output_type": "display_data",
       "text": [
        "<IPython.core.display.Javascript at 0x11080f7d0>"
       ]
      },
      {
       "javascript": [
        "\n",
        "        var $myPB = $(\"div#9acdc793-7483-46ed-8e81-741ab6656192\")\n",
        "        if ($myPB.hasClass('ui-progressbar')) {\n",
        "            $myPB.progressbar('value', 622592);\n",
        "        } else {\n",
        "            $myPB.progressbar({value: 0, max: 636151});\n",
        "        }\n",
        "        "
       ],
       "metadata": {},
       "output_type": "display_data",
       "text": [
        "<IPython.core.display.Javascript at 0x11080f810>"
       ]
      },
      {
       "javascript": [
        "$('div#b2b8b9f7-754a-4573-9d25-9a301bfc88e9').text('ETA:  0:00:00');"
       ],
       "metadata": {},
       "output_type": "display_data",
       "text": [
        "<IPython.core.display.Javascript at 0x11080f850>"
       ]
      },
      {
       "javascript": [
        "$('div#2f5f392b-927c-4896-9947-fd851fa8ffa7').text('  3.81 MB/s');"
       ],
       "metadata": {},
       "output_type": "display_data",
       "text": [
        "<IPython.core.display.Javascript at 0x11080f890>"
       ]
      },
      {
       "javascript": [
        "$('div#96befbea-a826-4c74-8e52-a279c0a88dc5').text(' 99%');"
       ],
       "metadata": {},
       "output_type": "display_data",
       "text": [
        "<IPython.core.display.Javascript at 0x11080f8d0>"
       ]
      },
      {
       "javascript": [
        "\n",
        "        var $myPB = $(\"div#9acdc793-7483-46ed-8e81-741ab6656192\")\n",
        "        if ($myPB.hasClass('ui-progressbar')) {\n",
        "            $myPB.progressbar('value', 630784);\n",
        "        } else {\n",
        "            $myPB.progressbar({value: 0, max: 636151});\n",
        "        }\n",
        "        "
       ],
       "metadata": {},
       "output_type": "display_data",
       "text": [
        "<IPython.core.display.Javascript at 0x11080f910>"
       ]
      },
      {
       "javascript": [
        "$('div#b2b8b9f7-754a-4573-9d25-9a301bfc88e9').text('ETA:  0:00:00');"
       ],
       "metadata": {},
       "output_type": "display_data",
       "text": [
        "<IPython.core.display.Javascript at 0x11080f950>"
       ]
      },
      {
       "javascript": [
        "$('div#2f5f392b-927c-4896-9947-fd851fa8ffa7').text('  3.81 MB/s');"
       ],
       "metadata": {},
       "output_type": "display_data",
       "text": [
        "<IPython.core.display.Javascript at 0x11080f990>"
       ]
      },
      {
       "javascript": [
        "$('div#96befbea-a826-4c74-8e52-a279c0a88dc5').text('100%');"
       ],
       "metadata": {},
       "output_type": "display_data",
       "text": [
        "<IPython.core.display.Javascript at 0x11080f9d0>"
       ]
      },
      {
       "javascript": [
        "\n",
        "        var $myPB = $(\"div#9acdc793-7483-46ed-8e81-741ab6656192\")\n",
        "        if ($myPB.hasClass('ui-progressbar')) {\n",
        "            $myPB.progressbar('value', 636151);\n",
        "        } else {\n",
        "            $myPB.progressbar({value: 0, max: 636151});\n",
        "        }\n",
        "        "
       ],
       "metadata": {},
       "output_type": "display_data",
       "text": [
        "<IPython.core.display.Javascript at 0x11080fa10>"
       ]
      },
      {
       "javascript": [
        "$('div#b2b8b9f7-754a-4573-9d25-9a301bfc88e9').text('Time: 0:00:00');"
       ],
       "metadata": {},
       "output_type": "display_data",
       "text": [
        "<IPython.core.display.Javascript at 0x11080fa50>"
       ]
      },
      {
       "javascript": [
        "$('div#2f5f392b-927c-4896-9947-fd851fa8ffa7').text('  3.79 MB/s');"
       ],
       "metadata": {},
       "output_type": "display_data",
       "text": [
        "<IPython.core.display.Javascript at 0x11080fa90>"
       ]
      },
      {
       "javascript": [
        "var element = document.getElementById('1eb0a16e-ccaa-4ea5-9f37-f6c9567d541d');\n",
        "                    var parent = element.parentNode\n",
        "                    parent.removeChild(element);\n",
        "                    parent.parentElement.remove();"
       ],
       "metadata": {},
       "output_type": "display_data",
       "text": [
        "<IPython.core.display.Javascript at 0x11080f410>"
       ]
      },
      {
       "javascript": [
        "this.cleanProgressBar(['1eb0a16e-ccaa-4ea5-9f37-f6c9567d541d', '96befbea-a826-4c74-8e52-a279c0a88dc5', '9acdc793-7483-46ed-8e81-741ab6656192', 'b2b8b9f7-754a-4573-9d25-9a301bfc88e9', '2f5f392b-927c-4896-9947-fd851fa8ffa7'])"
       ],
       "metadata": {},
       "output_type": "display_data",
       "text": [
        "<IPython.core.display.Javascript at 0x11080fad0>"
       ]
      },
      {
       "output_type": "stream",
       "stream": "stdout",
       "text": [
        "Finished downloading instance_data_es_inspire_dataset_v1.json\n",
        "There are 3239 tokens in dataset\n",
        "{u'noise_onset': 532600,\n",
        " u'noise_transcription': u'BAB4.txt',\n",
        " u'noise_type': u'bab4',\n",
        " u'noise_wav': u'BAB4.wav',\n",
        " u'signal_wav': u'T_35541.wav',\n",
        " u'snr': -2.039,\n",
        " u'speaker': u's1',\n",
        " u'speech': u'pequen\u0303os'}\n"
       ]
      }
     ],
     "prompt_number": 3
    },
    {
     "cell_type": "markdown",
     "metadata": {},
     "source": [
      "Our data is a class deriving from a Python dictionary containing an entry named `tokens` with a mapping from a stimulus ID to a stimulus (also named token) presented to a set of listeners.\n",
      "The stimulus itself is represented as a dictionary, with entries for several properties of the stimuli presented: \n",
      "\n",
      "* **type of noise** `noise_type`\n",
      "* **speaker ID** `speaker`\n",
      "* **signal-to-noise ratio** `snr`\n",
      "\n",
      "The filenames of the audios:\n",
      "\n",
      "* **signal wave file** `signal_wav`\n",
      "* **noise wave file** `noise_wav`\n",
      "\n",
      "And the underlying word that was presented as well as those that were reported by the listeners:\n",
      "\n",
      "* **presented word** `speech`\n",
      "\n",
      "## The lexicon\n",
      "Since all the tasks are based on the pronunciations of the words, our next step is to load a lexicon.\n",
      "The lexicon is not in JSON format, it is in a forma that HTK understands, therefore parsing it takes a bit more work. Luckily for you we have a written a function to do just that:\n",
      "\n",
      "We will first download the lexicon, load it, and have a quick peak of what is in it."
     ]
    },
    {
     "cell_type": "code",
     "collapsed": false,
     "input": [
      "lexicon_filename = setting.download_lexicon()\n",
      "lexicon = inspire.load_lexicon(lexicon_filename)\n",
      "\n",
      "print('There are {} words in the lexicon'.format(len(lexicon)))"
     ],
     "language": "python",
     "metadata": {},
     "outputs": [
      {
       "javascript": [
        "//431758be-26e6-4bec-bbbb-c259e8b173f0\n",
        "$(\"head\").append(\"<style> td.pb_widget {     width: auto; } td.pb_widget_fill {     width: 100%; } table.pb {     font-family: monospace;     border: 0;     margin: 0; } table.pb tr { border: 0; } table.pb td {     white-space: nowrap;     border: 0; } div.pb {     border: 1px solid #ddd;     border-radius: 3px; } div.pb_bar {     height: 1.5em; } </style>\")"
       ],
       "metadata": {},
       "output_type": "display_data",
       "text": [
        "<IPython.core.display.Javascript at 0x110801cd0>"
       ]
      },
      {
       "javascript": [
        "\n",
        "                  // 431758be-26e6-4bec-bbbb-c259e8b173f0 -- used to remove this code blob in the end\n",
        "                  IPython.OutputArea.prototype.cleanProgressBar = function(uuids) {\n",
        "                      // filter by uuid-strings \n",
        "                      var myfilter = function(output) { \n",
        "                          var nuids = uuids.length;\n",
        "                          for (var i=0; i<nuids; i++) {\n",
        "                              if (output.hasOwnProperty('html')) {\n",
        "                                  if (output.html.indexOf(uuids[i]) != -1) {\n",
        "                                      return false;\n",
        "                                  }\n",
        "                              }\n",
        "                              if (output.hasOwnProperty('javascript')) {\n",
        "                                  if (output.javascript.indexOf(uuids[i]) != -1) {\n",
        "                                      return false;\n",
        "                                  }\n",
        "                              }\n",
        "                          }\n",
        "                          // keep all others\n",
        "                          return true;\n",
        "                      };\n",
        "\n",
        "                      // Filter the ouputs\n",
        "                      this.outputs = this.outputs.filter(myfilter);\n",
        "                };\n",
        "                "
       ],
       "metadata": {},
       "output_type": "display_data",
       "text": [
        "<IPython.core.display.Javascript at 0x110801e90>"
       ]
      },
      {
       "html": [
        "<div class=\"pb\" id=\"431758be-26e6-4bec-bbbb-c259e8b173f0\"><table class=\"pb ui-widget\"><tr>\n",
        "<td class=\"pb_widget\">Downloading: </td>\n",
        "<td class=\"pb_widget\"><div id=\"2f95668c-ada9-40dd-9891-bc0325ea75ed\">  0%</div></td>\n",
        "<td class=\"pb_widget\"> </td>\n",
        "<td class=\"pb_widget_fill\">\n",
        "        <div class=\"pb_bar\" id=\"d281dd52-6c64-48bb-b7ce-35362ea6458f\"></div>\n",
        "        <script type=\"text/javascript\">\n",
        "            $(\"div#d281dd52-6c64-48bb-b7ce-35362ea6458f\").progressbar({value: 0, max: 25238326});\n",
        "        </script>\n",
        "        </td>\n",
        "<td class=\"pb_widget\"> </td>\n",
        "<td class=\"pb_widget\"><div id=\"d88b7e12-09cd-4562-8f07-f0be055f0c51\">ETA:  --:--:--</div></td>\n",
        "<td class=\"pb_widget\"> </td>\n",
        "<td class=\"pb_widget\"><div id=\"214fb19d-0068-4535-9ce1-d3993c23b0cd\">  0.00  B/s</div></td>\n",
        "</tr></table><div>"
       ],
       "metadata": {},
       "output_type": "display_data",
       "text": [
        "<IPython.core.display.HTML at 0x110801ed0>"
       ]
      },
      {
       "javascript": [
        "$('div#2f95668c-ada9-40dd-9891-bc0325ea75ed').text('  1%');"
       ],
       "metadata": {},
       "output_type": "display_data",
       "text": [
        "<IPython.core.display.Javascript at 0x110801f50>"
       ]
      },
      {
       "javascript": [
        "\n",
        "        var $myPB = $(\"div#d281dd52-6c64-48bb-b7ce-35362ea6458f\")\n",
        "        if ($myPB.hasClass('ui-progressbar')) {\n",
        "            $myPB.progressbar('value', 253952);\n",
        "        } else {\n",
        "            $myPB.progressbar({value: 0, max: 25238326});\n",
        "        }\n",
        "        "
       ],
       "metadata": {},
       "output_type": "display_data",
       "text": [
        "<IPython.core.display.Javascript at 0x110801fd0>"
       ]
      },
      {
       "javascript": [
        "$('div#d88b7e12-09cd-4562-8f07-f0be055f0c51').text('ETA:  0:00:00');"
       ],
       "metadata": {},
       "output_type": "display_data",
       "text": [
        "<IPython.core.display.Javascript at 0x110801f10>"
       ]
      },
      {
       "javascript": [
        "$('div#214fb19d-0068-4535-9ce1-d3993c23b0cd').text('172.05 MB/s');"
       ],
       "metadata": {},
       "output_type": "display_data",
       "text": [
        "<IPython.core.display.Javascript at 0x11080fad0>"
       ]
      },
      {
       "javascript": [
        "$('div#2f95668c-ada9-40dd-9891-bc0325ea75ed').text('  2%');"
       ],
       "metadata": {},
       "output_type": "display_data",
       "text": [
        "<IPython.core.display.Javascript at 0x11080f190>"
       ]
      },
      {
       "javascript": [
        "\n",
        "        var $myPB = $(\"div#d281dd52-6c64-48bb-b7ce-35362ea6458f\")\n",
        "        if ($myPB.hasClass('ui-progressbar')) {\n",
        "            $myPB.progressbar('value', 507904);\n",
        "        } else {\n",
        "            $myPB.progressbar({value: 0, max: 25238326});\n",
        "        }\n",
        "        "
       ],
       "metadata": {},
       "output_type": "display_data",
       "text": [
        "<IPython.core.display.Javascript at 0x11080f410>"
       ]
      },
      {
       "javascript": [
        "$('div#d88b7e12-09cd-4562-8f07-f0be055f0c51').text('ETA:  0:00:00');"
       ],
       "metadata": {},
       "output_type": "display_data",
       "text": [
        "<IPython.core.display.Javascript at 0x11080fa90>"
       ]
      },
      {
       "javascript": [
        "$('div#214fb19d-0068-4535-9ce1-d3993c23b0cd').text('118.26 MB/s');"
       ],
       "metadata": {},
       "output_type": "display_data",
       "text": [
        "<IPython.core.display.Javascript at 0x11080fa50>"
       ]
      },
      {
       "javascript": [
        "$('div#2f95668c-ada9-40dd-9891-bc0325ea75ed').text('  3%');"
       ],
       "metadata": {},
       "output_type": "display_data",
       "text": [
        "<IPython.core.display.Javascript at 0x11080f9d0>"
       ]
      },
      {
       "javascript": [
        "\n",
        "        var $myPB = $(\"div#d281dd52-6c64-48bb-b7ce-35362ea6458f\")\n",
        "        if ($myPB.hasClass('ui-progressbar')) {\n",
        "            $myPB.progressbar('value', 761856);\n",
        "        } else {\n",
        "            $myPB.progressbar({value: 0, max: 25238326});\n",
        "        }\n",
        "        "
       ],
       "metadata": {},
       "output_type": "display_data",
       "text": [
        "<IPython.core.display.Javascript at 0x11080f990>"
       ]
      },
      {
       "javascript": [
        "$('div#d88b7e12-09cd-4562-8f07-f0be055f0c51').text('ETA:  0:00:00');"
       ],
       "metadata": {},
       "output_type": "display_data",
       "text": [
        "<IPython.core.display.Javascript at 0x11080f950>"
       ]
      },
      {
       "javascript": [
        "$('div#214fb19d-0068-4535-9ce1-d3993c23b0cd').text('105.55 MB/s');"
       ],
       "metadata": {},
       "output_type": "display_data",
       "text": [
        "<IPython.core.display.Javascript at 0x11080f910>"
       ]
      },
      {
       "javascript": [
        "$('div#2f95668c-ada9-40dd-9891-bc0325ea75ed').text('  4%');"
       ],
       "metadata": {},
       "output_type": "display_data",
       "text": [
        "<IPython.core.display.Javascript at 0x11080f8d0>"
       ]
      },
      {
       "javascript": [
        "\n",
        "        var $myPB = $(\"div#d281dd52-6c64-48bb-b7ce-35362ea6458f\")\n",
        "        if ($myPB.hasClass('ui-progressbar')) {\n",
        "            $myPB.progressbar('value', 1015808);\n",
        "        } else {\n",
        "            $myPB.progressbar({value: 0, max: 25238326});\n",
        "        }\n",
        "        "
       ],
       "metadata": {},
       "output_type": "display_data",
       "text": [
        "<IPython.core.display.Javascript at 0x11080f890>"
       ]
      },
      {
       "javascript": [
        "$('div#d88b7e12-09cd-4562-8f07-f0be055f0c51').text('ETA:  0:00:00');"
       ],
       "metadata": {},
       "output_type": "display_data",
       "text": [
        "<IPython.core.display.Javascript at 0x11080f850>"
       ]
      },
      {
       "javascript": [
        "$('div#214fb19d-0068-4535-9ce1-d3993c23b0cd').text(' 92.31 MB/s');"
       ],
       "metadata": {},
       "output_type": "display_data",
       "text": [
        "<IPython.core.display.Javascript at 0x11080f810>"
       ]
      },
      {
       "javascript": [
        "$('div#2f95668c-ada9-40dd-9891-bc0325ea75ed').text('  5%');"
       ],
       "metadata": {},
       "output_type": "display_data",
       "text": [
        "<IPython.core.display.Javascript at 0x11080f7d0>"
       ]
      },
      {
       "javascript": [
        "\n",
        "        var $myPB = $(\"div#d281dd52-6c64-48bb-b7ce-35362ea6458f\")\n",
        "        if ($myPB.hasClass('ui-progressbar')) {\n",
        "            $myPB.progressbar('value', 1269760);\n",
        "        } else {\n",
        "            $myPB.progressbar({value: 0, max: 25238326});\n",
        "        }\n",
        "        "
       ],
       "metadata": {},
       "output_type": "display_data",
       "text": [
        "<IPython.core.display.Javascript at 0x11080f790>"
       ]
      },
      {
       "javascript": [
        "$('div#d88b7e12-09cd-4562-8f07-f0be055f0c51').text('ETA:  0:00:00');"
       ],
       "metadata": {},
       "output_type": "display_data",
       "text": [
        "<IPython.core.display.Javascript at 0x11080f750>"
       ]
      },
      {
       "javascript": [
        "$('div#214fb19d-0068-4535-9ce1-d3993c23b0cd').text(' 88.02 MB/s');"
       ],
       "metadata": {},
       "output_type": "display_data",
       "text": [
        "<IPython.core.display.Javascript at 0x11080f710>"
       ]
      },
      {
       "javascript": [
        "$('div#2f95668c-ada9-40dd-9891-bc0325ea75ed').text('  6%');"
       ],
       "metadata": {},
       "output_type": "display_data",
       "text": [
        "<IPython.core.display.Javascript at 0x11080f6d0>"
       ]
      },
      {
       "javascript": [
        "\n",
        "        var $myPB = $(\"div#d281dd52-6c64-48bb-b7ce-35362ea6458f\")\n",
        "        if ($myPB.hasClass('ui-progressbar')) {\n",
        "            $myPB.progressbar('value', 1523712);\n",
        "        } else {\n",
        "            $myPB.progressbar({value: 0, max: 25238326});\n",
        "        }\n",
        "        "
       ],
       "metadata": {},
       "output_type": "display_data",
       "text": [
        "<IPython.core.display.Javascript at 0x11080f650>"
       ]
      },
      {
       "javascript": [
        "$('div#d88b7e12-09cd-4562-8f07-f0be055f0c51').text('ETA:  0:00:00');"
       ],
       "metadata": {},
       "output_type": "display_data",
       "text": [
        "<IPython.core.display.Javascript at 0x11080f610>"
       ]
      },
      {
       "javascript": [
        "$('div#214fb19d-0068-4535-9ce1-d3993c23b0cd').text(' 85.68 MB/s');"
       ],
       "metadata": {},
       "output_type": "display_data",
       "text": [
        "<IPython.core.display.Javascript at 0x11080f5d0>"
       ]
      },
      {
       "javascript": [
        "$('div#2f95668c-ada9-40dd-9891-bc0325ea75ed').text('  7%');"
       ],
       "metadata": {},
       "output_type": "display_data",
       "text": [
        "<IPython.core.display.Javascript at 0x11080f550>"
       ]
      },
      {
       "javascript": [
        "\n",
        "        var $myPB = $(\"div#d281dd52-6c64-48bb-b7ce-35362ea6458f\")\n",
        "        if ($myPB.hasClass('ui-progressbar')) {\n",
        "            $myPB.progressbar('value', 1777664);\n",
        "        } else {\n",
        "            $myPB.progressbar({value: 0, max: 25238326});\n",
        "        }\n",
        "        "
       ],
       "metadata": {},
       "output_type": "display_data",
       "text": [
        "<IPython.core.display.Javascript at 0x11080f450>"
       ]
      },
      {
       "javascript": [
        "$('div#d88b7e12-09cd-4562-8f07-f0be055f0c51').text('ETA:  0:00:00');"
       ],
       "metadata": {},
       "output_type": "display_data",
       "text": [
        "<IPython.core.display.Javascript at 0x11080f510>"
       ]
      },
      {
       "javascript": [
        "$('div#214fb19d-0068-4535-9ce1-d3993c23b0cd').text(' 82.10 MB/s');"
       ],
       "metadata": {},
       "output_type": "display_data",
       "text": [
        "<IPython.core.display.Javascript at 0x11080f4d0>"
       ]
      },
      {
       "javascript": [
        "$('div#2f95668c-ada9-40dd-9891-bc0325ea75ed').text('  8%');"
       ],
       "metadata": {},
       "output_type": "display_data",
       "text": [
        "<IPython.core.display.Javascript at 0x11080f1d0>"
       ]
      },
      {
       "javascript": [
        "\n",
        "        var $myPB = $(\"div#d281dd52-6c64-48bb-b7ce-35362ea6458f\")\n",
        "        if ($myPB.hasClass('ui-progressbar')) {\n",
        "            $myPB.progressbar('value', 2031616);\n",
        "        } else {\n",
        "            $myPB.progressbar({value: 0, max: 25238326});\n",
        "        }\n",
        "        "
       ],
       "metadata": {},
       "output_type": "display_data",
       "text": [
        "<IPython.core.display.Javascript at 0x11080f050>"
       ]
      },
      {
       "javascript": [
        "$('div#d88b7e12-09cd-4562-8f07-f0be055f0c51').text('ETA:  0:00:00');"
       ],
       "metadata": {},
       "output_type": "display_data",
       "text": [
        "<IPython.core.display.Javascript at 0x11080f690>"
       ]
      },
      {
       "javascript": [
        "$('div#214fb19d-0068-4535-9ce1-d3993c23b0cd').text(' 67.77 MB/s');"
       ],
       "metadata": {},
       "output_type": "display_data",
       "text": [
        "<IPython.core.display.Javascript at 0x11080ffd0>"
       ]
      },
      {
       "javascript": [
        "$('div#2f95668c-ada9-40dd-9891-bc0325ea75ed').text('  9%');"
       ],
       "metadata": {},
       "output_type": "display_data",
       "text": [
        "<IPython.core.display.Javascript at 0x11080fb10>"
       ]
      },
      {
       "javascript": [
        "\n",
        "        var $myPB = $(\"div#d281dd52-6c64-48bb-b7ce-35362ea6458f\")\n",
        "        if ($myPB.hasClass('ui-progressbar')) {\n",
        "            $myPB.progressbar('value', 2285568);\n",
        "        } else {\n",
        "            $myPB.progressbar({value: 0, max: 25238326});\n",
        "        }\n",
        "        "
       ],
       "metadata": {},
       "output_type": "display_data",
       "text": [
        "<IPython.core.display.Javascript at 0x11080fb50>"
       ]
      },
      {
       "javascript": [
        "$('div#d88b7e12-09cd-4562-8f07-f0be055f0c51').text('ETA:  0:00:00');"
       ],
       "metadata": {},
       "output_type": "display_data",
       "text": [
        "<IPython.core.display.Javascript at 0x11080f210>"
       ]
      },
      {
       "javascript": [
        "$('div#214fb19d-0068-4535-9ce1-d3993c23b0cd').text(' 60.64 MB/s');"
       ],
       "metadata": {},
       "output_type": "display_data",
       "text": [
        "<IPython.core.display.Javascript at 0x11080fbd0>"
       ]
      },
      {
       "javascript": [
        "$('div#2f95668c-ada9-40dd-9891-bc0325ea75ed').text(' 10%');"
       ],
       "metadata": {},
       "output_type": "display_data",
       "text": [
        "<IPython.core.display.Javascript at 0x11080fb90>"
       ]
      },
      {
       "javascript": [
        "\n",
        "        var $myPB = $(\"div#d281dd52-6c64-48bb-b7ce-35362ea6458f\")\n",
        "        if ($myPB.hasClass('ui-progressbar')) {\n",
        "            $myPB.progressbar('value', 2539520);\n",
        "        } else {\n",
        "            $myPB.progressbar({value: 0, max: 25238326});\n",
        "        }\n",
        "        "
       ],
       "metadata": {},
       "output_type": "display_data",
       "text": [
        "<IPython.core.display.Javascript at 0x11080fc10>"
       ]
      },
      {
       "javascript": [
        "$('div#d88b7e12-09cd-4562-8f07-f0be055f0c51').text('ETA:  0:00:00');"
       ],
       "metadata": {},
       "output_type": "display_data",
       "text": [
        "<IPython.core.display.Javascript at 0x11080fc50>"
       ]
      },
      {
       "javascript": [
        "$('div#214fb19d-0068-4535-9ce1-d3993c23b0cd').text(' 61.49 MB/s');"
       ],
       "metadata": {},
       "output_type": "display_data",
       "text": [
        "<IPython.core.display.Javascript at 0x11080fc90>"
       ]
      },
      {
       "javascript": [
        "$('div#2f95668c-ada9-40dd-9891-bc0325ea75ed').text(' 11%');"
       ],
       "metadata": {},
       "output_type": "display_data",
       "text": [
        "<IPython.core.display.Javascript at 0x11080fcd0>"
       ]
      },
      {
       "javascript": [
        "\n",
        "        var $myPB = $(\"div#d281dd52-6c64-48bb-b7ce-35362ea6458f\")\n",
        "        if ($myPB.hasClass('ui-progressbar')) {\n",
        "            $myPB.progressbar('value', 2793472);\n",
        "        } else {\n",
        "            $myPB.progressbar({value: 0, max: 25238326});\n",
        "        }\n",
        "        "
       ],
       "metadata": {},
       "output_type": "display_data",
       "text": [
        "<IPython.core.display.Javascript at 0x11080fd10>"
       ]
      },
      {
       "javascript": [
        "$('div#d88b7e12-09cd-4562-8f07-f0be055f0c51').text('ETA:  0:00:00');"
       ],
       "metadata": {},
       "output_type": "display_data",
       "text": [
        "<IPython.core.display.Javascript at 0x11080fd50>"
       ]
      },
      {
       "javascript": [
        "$('div#214fb19d-0068-4535-9ce1-d3993c23b0cd').text(' 62.46 MB/s');"
       ],
       "metadata": {},
       "output_type": "display_data",
       "text": [
        "<IPython.core.display.Javascript at 0x11080fd90>"
       ]
      },
      {
       "javascript": [
        "$('div#2f95668c-ada9-40dd-9891-bc0325ea75ed').text(' 12%');"
       ],
       "metadata": {},
       "output_type": "display_data",
       "text": [
        "<IPython.core.display.Javascript at 0x11080fdd0>"
       ]
      },
      {
       "javascript": [
        "\n",
        "        var $myPB = $(\"div#d281dd52-6c64-48bb-b7ce-35362ea6458f\")\n",
        "        if ($myPB.hasClass('ui-progressbar')) {\n",
        "            $myPB.progressbar('value', 3047424);\n",
        "        } else {\n",
        "            $myPB.progressbar({value: 0, max: 25238326});\n",
        "        }\n",
        "        "
       ],
       "metadata": {},
       "output_type": "display_data",
       "text": [
        "<IPython.core.display.Javascript at 0x11080fe10>"
       ]
      },
      {
       "javascript": [
        "$('div#d88b7e12-09cd-4562-8f07-f0be055f0c51').text('ETA:  0:00:00');"
       ],
       "metadata": {},
       "output_type": "display_data",
       "text": [
        "<IPython.core.display.Javascript at 0x11080fe50>"
       ]
      },
      {
       "javascript": [
        "$('div#214fb19d-0068-4535-9ce1-d3993c23b0cd').text(' 63.34 MB/s');"
       ],
       "metadata": {},
       "output_type": "display_data",
       "text": [
        "<IPython.core.display.Javascript at 0x11080fe90>"
       ]
      },
      {
       "javascript": [
        "$('div#2f95668c-ada9-40dd-9891-bc0325ea75ed').text(' 13%');"
       ],
       "metadata": {},
       "output_type": "display_data",
       "text": [
        "<IPython.core.display.Javascript at 0x11080fed0>"
       ]
      },
      {
       "javascript": [
        "\n",
        "        var $myPB = $(\"div#d281dd52-6c64-48bb-b7ce-35362ea6458f\")\n",
        "        if ($myPB.hasClass('ui-progressbar')) {\n",
        "            $myPB.progressbar('value', 3301376);\n",
        "        } else {\n",
        "            $myPB.progressbar({value: 0, max: 25238326});\n",
        "        }\n",
        "        "
       ],
       "metadata": {},
       "output_type": "display_data",
       "text": [
        "<IPython.core.display.Javascript at 0x11080ff90>"
       ]
      },
      {
       "javascript": [
        "$('div#d88b7e12-09cd-4562-8f07-f0be055f0c51').text('ETA:  0:00:00');"
       ],
       "metadata": {},
       "output_type": "display_data",
       "text": [
        "<IPython.core.display.Javascript at 0x11080ff50>"
       ]
      },
      {
       "javascript": [
        "$('div#214fb19d-0068-4535-9ce1-d3993c23b0cd').text(' 64.23 MB/s');"
       ],
       "metadata": {},
       "output_type": "display_data",
       "text": [
        "<IPython.core.display.Javascript at 0x11080ff10>"
       ]
      },
      {
       "javascript": [
        "$('div#2f95668c-ada9-40dd-9891-bc0325ea75ed').text(' 14%');"
       ],
       "metadata": {},
       "output_type": "display_data",
       "text": [
        "<IPython.core.display.Javascript at 0x11080f490>"
       ]
      },
      {
       "javascript": [
        "\n",
        "        var $myPB = $(\"div#d281dd52-6c64-48bb-b7ce-35362ea6458f\")\n",
        "        if ($myPB.hasClass('ui-progressbar')) {\n",
        "            $myPB.progressbar('value', 3555328);\n",
        "        } else {\n",
        "            $myPB.progressbar({value: 0, max: 25238326});\n",
        "        }\n",
        "        "
       ],
       "metadata": {},
       "output_type": "display_data",
       "text": [
        "<IPython.core.display.Javascript at 0x11080fa10>"
       ]
      },
      {
       "javascript": [
        "$('div#d88b7e12-09cd-4562-8f07-f0be055f0c51').text('ETA:  0:00:00');"
       ],
       "metadata": {},
       "output_type": "display_data",
       "text": [
        "<IPython.core.display.Javascript at 0x1109b2050>"
       ]
      },
      {
       "javascript": [
        "$('div#214fb19d-0068-4535-9ce1-d3993c23b0cd').text(' 65.27 MB/s');"
       ],
       "metadata": {},
       "output_type": "display_data",
       "text": [
        "<IPython.core.display.Javascript at 0x1109b2090>"
       ]
      },
      {
       "javascript": [
        "$('div#2f95668c-ada9-40dd-9891-bc0325ea75ed').text(' 15%');"
       ],
       "metadata": {},
       "output_type": "display_data",
       "text": [
        "<IPython.core.display.Javascript at 0x1109b20d0>"
       ]
      },
      {
       "javascript": [
        "\n",
        "        var $myPB = $(\"div#d281dd52-6c64-48bb-b7ce-35362ea6458f\")\n",
        "        if ($myPB.hasClass('ui-progressbar')) {\n",
        "            $myPB.progressbar('value', 3809280);\n",
        "        } else {\n",
        "            $myPB.progressbar({value: 0, max: 25238326});\n",
        "        }\n",
        "        "
       ],
       "metadata": {},
       "output_type": "display_data",
       "text": [
        "<IPython.core.display.Javascript at 0x1109b2110>"
       ]
      },
      {
       "javascript": [
        "$('div#d88b7e12-09cd-4562-8f07-f0be055f0c51').text('ETA:  0:00:00');"
       ],
       "metadata": {},
       "output_type": "display_data",
       "text": [
        "<IPython.core.display.Javascript at 0x1109b2190>"
       ]
      },
      {
       "javascript": [
        "$('div#214fb19d-0068-4535-9ce1-d3993c23b0cd').text(' 66.06 MB/s');"
       ],
       "metadata": {},
       "output_type": "display_data",
       "text": [
        "<IPython.core.display.Javascript at 0x1109b21d0>"
       ]
      },
      {
       "javascript": [
        "$('div#2f95668c-ada9-40dd-9891-bc0325ea75ed').text(' 16%');"
       ],
       "metadata": {},
       "output_type": "display_data",
       "text": [
        "<IPython.core.display.Javascript at 0x1109b2210>"
       ]
      },
      {
       "javascript": [
        "\n",
        "        var $myPB = $(\"div#d281dd52-6c64-48bb-b7ce-35362ea6458f\")\n",
        "        if ($myPB.hasClass('ui-progressbar')) {\n",
        "            $myPB.progressbar('value', 4063232);\n",
        "        } else {\n",
        "            $myPB.progressbar({value: 0, max: 25238326});\n",
        "        }\n",
        "        "
       ],
       "metadata": {},
       "output_type": "display_data",
       "text": [
        "<IPython.core.display.Javascript at 0x1109b2250>"
       ]
      },
      {
       "javascript": [
        "$('div#d88b7e12-09cd-4562-8f07-f0be055f0c51').text('ETA:  0:00:00');"
       ],
       "metadata": {},
       "output_type": "display_data",
       "text": [
        "<IPython.core.display.Javascript at 0x1109b2290>"
       ]
      },
      {
       "javascript": [
        "$('div#214fb19d-0068-4535-9ce1-d3993c23b0cd').text(' 66.85 MB/s');"
       ],
       "metadata": {},
       "output_type": "display_data",
       "text": [
        "<IPython.core.display.Javascript at 0x1109b22d0>"
       ]
      },
      {
       "javascript": [
        "$('div#2f95668c-ada9-40dd-9891-bc0325ea75ed').text(' 17%');"
       ],
       "metadata": {},
       "output_type": "display_data",
       "text": [
        "<IPython.core.display.Javascript at 0x1109b2310>"
       ]
      },
      {
       "javascript": [
        "\n",
        "        var $myPB = $(\"div#d281dd52-6c64-48bb-b7ce-35362ea6458f\")\n",
        "        if ($myPB.hasClass('ui-progressbar')) {\n",
        "            $myPB.progressbar('value', 4317184);\n",
        "        } else {\n",
        "            $myPB.progressbar({value: 0, max: 25238326});\n",
        "        }\n",
        "        "
       ],
       "metadata": {},
       "output_type": "display_data",
       "text": [
        "<IPython.core.display.Javascript at 0x1109b2350>"
       ]
      },
      {
       "javascript": [
        "$('div#d88b7e12-09cd-4562-8f07-f0be055f0c51').text('ETA:  0:00:00');"
       ],
       "metadata": {},
       "output_type": "display_data",
       "text": [
        "<IPython.core.display.Javascript at 0x1109b2390>"
       ]
      },
      {
       "javascript": [
        "$('div#214fb19d-0068-4535-9ce1-d3993c23b0cd').text(' 66.39 MB/s');"
       ],
       "metadata": {},
       "output_type": "display_data",
       "text": [
        "<IPython.core.display.Javascript at 0x1109b23d0>"
       ]
      },
      {
       "javascript": [
        "$('div#2f95668c-ada9-40dd-9891-bc0325ea75ed').text(' 18%');"
       ],
       "metadata": {},
       "output_type": "display_data",
       "text": [
        "<IPython.core.display.Javascript at 0x1109b2410>"
       ]
      },
      {
       "javascript": [
        "\n",
        "        var $myPB = $(\"div#d281dd52-6c64-48bb-b7ce-35362ea6458f\")\n",
        "        if ($myPB.hasClass('ui-progressbar')) {\n",
        "            $myPB.progressbar('value', 4571136);\n",
        "        } else {\n",
        "            $myPB.progressbar({value: 0, max: 25238326});\n",
        "        }\n",
        "        "
       ],
       "metadata": {},
       "output_type": "display_data",
       "text": [
        "<IPython.core.display.Javascript at 0x11080fa10>"
       ]
      },
      {
       "javascript": [
        "$('div#d88b7e12-09cd-4562-8f07-f0be055f0c51').text('ETA:  0:00:00');"
       ],
       "metadata": {},
       "output_type": "display_data",
       "text": [
        "<IPython.core.display.Javascript at 0x11080f490>"
       ]
      },
      {
       "javascript": [
        "$('div#214fb19d-0068-4535-9ce1-d3993c23b0cd').text(' 66.93 MB/s');"
       ],
       "metadata": {},
       "output_type": "display_data",
       "text": [
        "<IPython.core.display.Javascript at 0x11080ff10>"
       ]
      },
      {
       "javascript": [
        "$('div#2f95668c-ada9-40dd-9891-bc0325ea75ed').text(' 19%');"
       ],
       "metadata": {},
       "output_type": "display_data",
       "text": [
        "<IPython.core.display.Javascript at 0x11080fed0>"
       ]
      },
      {
       "javascript": [
        "\n",
        "        var $myPB = $(\"div#d281dd52-6c64-48bb-b7ce-35362ea6458f\")\n",
        "        if ($myPB.hasClass('ui-progressbar')) {\n",
        "            $myPB.progressbar('value', 4825088);\n",
        "        } else {\n",
        "            $myPB.progressbar({value: 0, max: 25238326});\n",
        "        }\n",
        "        "
       ],
       "metadata": {},
       "output_type": "display_data",
       "text": [
        "<IPython.core.display.Javascript at 0x11080fe90>"
       ]
      },
      {
       "javascript": [
        "$('div#d88b7e12-09cd-4562-8f07-f0be055f0c51').text('ETA:  0:00:00');"
       ],
       "metadata": {},
       "output_type": "display_data",
       "text": [
        "<IPython.core.display.Javascript at 0x11080fe50>"
       ]
      },
      {
       "javascript": [
        "$('div#214fb19d-0068-4535-9ce1-d3993c23b0cd').text(' 66.89 MB/s');"
       ],
       "metadata": {},
       "output_type": "display_data",
       "text": [
        "<IPython.core.display.Javascript at 0x11080ff90>"
       ]
      },
      {
       "javascript": [
        "$('div#2f95668c-ada9-40dd-9891-bc0325ea75ed').text(' 20%');"
       ],
       "metadata": {},
       "output_type": "display_data",
       "text": [
        "<IPython.core.display.Javascript at 0x11080fdd0>"
       ]
      },
      {
       "javascript": [
        "\n",
        "        var $myPB = $(\"div#d281dd52-6c64-48bb-b7ce-35362ea6458f\")\n",
        "        if ($myPB.hasClass('ui-progressbar')) {\n",
        "            $myPB.progressbar('value', 5079040);\n",
        "        } else {\n",
        "            $myPB.progressbar({value: 0, max: 25238326});\n",
        "        }\n",
        "        "
       ],
       "metadata": {},
       "output_type": "display_data",
       "text": [
        "<IPython.core.display.Javascript at 0x11080fd90>"
       ]
      },
      {
       "javascript": [
        "$('div#d88b7e12-09cd-4562-8f07-f0be055f0c51').text('ETA:  0:00:00');"
       ],
       "metadata": {},
       "output_type": "display_data",
       "text": [
        "<IPython.core.display.Javascript at 0x11080fd50>"
       ]
      },
      {
       "javascript": [
        "$('div#214fb19d-0068-4535-9ce1-d3993c23b0cd').text(' 67.30 MB/s');"
       ],
       "metadata": {},
       "output_type": "display_data",
       "text": [
        "<IPython.core.display.Javascript at 0x11080fd10>"
       ]
      },
      {
       "javascript": [
        "$('div#2f95668c-ada9-40dd-9891-bc0325ea75ed').text(' 21%');"
       ],
       "metadata": {},
       "output_type": "display_data",
       "text": [
        "<IPython.core.display.Javascript at 0x11080fcd0>"
       ]
      },
      {
       "javascript": [
        "\n",
        "        var $myPB = $(\"div#d281dd52-6c64-48bb-b7ce-35362ea6458f\")\n",
        "        if ($myPB.hasClass('ui-progressbar')) {\n",
        "            $myPB.progressbar('value', 5332992);\n",
        "        } else {\n",
        "            $myPB.progressbar({value: 0, max: 25238326});\n",
        "        }\n",
        "        "
       ],
       "metadata": {},
       "output_type": "display_data",
       "text": [
        "<IPython.core.display.Javascript at 0x11080fc90>"
       ]
      },
      {
       "javascript": [
        "$('div#d88b7e12-09cd-4562-8f07-f0be055f0c51').text('ETA:  0:00:00');"
       ],
       "metadata": {},
       "output_type": "display_data",
       "text": [
        "<IPython.core.display.Javascript at 0x11080fc50>"
       ]
      },
      {
       "javascript": [
        "$('div#214fb19d-0068-4535-9ce1-d3993c23b0cd').text(' 68.05 MB/s');"
       ],
       "metadata": {},
       "output_type": "display_data",
       "text": [
        "<IPython.core.display.Javascript at 0x11080fc10>"
       ]
      },
      {
       "javascript": [
        "$('div#2f95668c-ada9-40dd-9891-bc0325ea75ed').text(' 22%');"
       ],
       "metadata": {},
       "output_type": "display_data",
       "text": [
        "<IPython.core.display.Javascript at 0x11080fb90>"
       ]
      },
      {
       "javascript": [
        "\n",
        "        var $myPB = $(\"div#d281dd52-6c64-48bb-b7ce-35362ea6458f\")\n",
        "        if ($myPB.hasClass('ui-progressbar')) {\n",
        "            $myPB.progressbar('value', 5586944);\n",
        "        } else {\n",
        "            $myPB.progressbar({value: 0, max: 25238326});\n",
        "        }\n",
        "        "
       ],
       "metadata": {},
       "output_type": "display_data",
       "text": [
        "<IPython.core.display.Javascript at 0x11080fbd0>"
       ]
      },
      {
       "javascript": [
        "$('div#d88b7e12-09cd-4562-8f07-f0be055f0c51').text('ETA:  0:00:00');"
       ],
       "metadata": {},
       "output_type": "display_data",
       "text": [
        "<IPython.core.display.Javascript at 0x11080f210>"
       ]
      },
      {
       "javascript": [
        "$('div#214fb19d-0068-4535-9ce1-d3993c23b0cd').text(' 68.59 MB/s');"
       ],
       "metadata": {},
       "output_type": "display_data",
       "text": [
        "<IPython.core.display.Javascript at 0x11080fb50>"
       ]
      },
      {
       "javascript": [
        "$('div#2f95668c-ada9-40dd-9891-bc0325ea75ed').text(' 23%');"
       ],
       "metadata": {},
       "output_type": "display_data",
       "text": [
        "<IPython.core.display.Javascript at 0x11080fb10>"
       ]
      },
      {
       "javascript": [
        "\n",
        "        var $myPB = $(\"div#d281dd52-6c64-48bb-b7ce-35362ea6458f\")\n",
        "        if ($myPB.hasClass('ui-progressbar')) {\n",
        "            $myPB.progressbar('value', 5840896);\n",
        "        } else {\n",
        "            $myPB.progressbar({value: 0, max: 25238326});\n",
        "        }\n",
        "        "
       ],
       "metadata": {},
       "output_type": "display_data",
       "text": [
        "<IPython.core.display.Javascript at 0x11080ffd0>"
       ]
      },
      {
       "javascript": [
        "$('div#d88b7e12-09cd-4562-8f07-f0be055f0c51').text('ETA:  0:00:00');"
       ],
       "metadata": {},
       "output_type": "display_data",
       "text": [
        "<IPython.core.display.Javascript at 0x11080f690>"
       ]
      },
      {
       "javascript": [
        "$('div#214fb19d-0068-4535-9ce1-d3993c23b0cd').text(' 69.10 MB/s');"
       ],
       "metadata": {},
       "output_type": "display_data",
       "text": [
        "<IPython.core.display.Javascript at 0x11080f050>"
       ]
      },
      {
       "javascript": [
        "$('div#2f95668c-ada9-40dd-9891-bc0325ea75ed').text(' 24%');"
       ],
       "metadata": {},
       "output_type": "display_data",
       "text": [
        "<IPython.core.display.Javascript at 0x11080f1d0>"
       ]
      },
      {
       "javascript": [
        "\n",
        "        var $myPB = $(\"div#d281dd52-6c64-48bb-b7ce-35362ea6458f\")\n",
        "        if ($myPB.hasClass('ui-progressbar')) {\n",
        "            $myPB.progressbar('value', 6094848);\n",
        "        } else {\n",
        "            $myPB.progressbar({value: 0, max: 25238326});\n",
        "        }\n",
        "        "
       ],
       "metadata": {},
       "output_type": "display_data",
       "text": [
        "<IPython.core.display.Javascript at 0x11080f4d0>"
       ]
      },
      {
       "javascript": [
        "$('div#d88b7e12-09cd-4562-8f07-f0be055f0c51').text('ETA:  0:00:00');"
       ],
       "metadata": {},
       "output_type": "display_data",
       "text": [
        "<IPython.core.display.Javascript at 0x11080f510>"
       ]
      },
      {
       "javascript": [
        "$('div#214fb19d-0068-4535-9ce1-d3993c23b0cd').text(' 69.58 MB/s');"
       ],
       "metadata": {},
       "output_type": "display_data",
       "text": [
        "<IPython.core.display.Javascript at 0x11080f450>"
       ]
      },
      {
       "javascript": [
        "$('div#2f95668c-ada9-40dd-9891-bc0325ea75ed').text(' 25%');"
       ],
       "metadata": {},
       "output_type": "display_data",
       "text": [
        "<IPython.core.display.Javascript at 0x11080f550>"
       ]
      },
      {
       "javascript": [
        "\n",
        "        var $myPB = $(\"div#d281dd52-6c64-48bb-b7ce-35362ea6458f\")\n",
        "        if ($myPB.hasClass('ui-progressbar')) {\n",
        "            $myPB.progressbar('value', 6348800);\n",
        "        } else {\n",
        "            $myPB.progressbar({value: 0, max: 25238326});\n",
        "        }\n",
        "        "
       ],
       "metadata": {},
       "output_type": "display_data",
       "text": [
        "<IPython.core.display.Javascript at 0x11080f5d0>"
       ]
      },
      {
       "javascript": [
        "$('div#d88b7e12-09cd-4562-8f07-f0be055f0c51').text('ETA:  0:00:00');"
       ],
       "metadata": {},
       "output_type": "display_data",
       "text": [
        "<IPython.core.display.Javascript at 0x11080f610>"
       ]
      },
      {
       "javascript": [
        "$('div#214fb19d-0068-4535-9ce1-d3993c23b0cd').text(' 70.02 MB/s');"
       ],
       "metadata": {},
       "output_type": "display_data",
       "text": [
        "<IPython.core.display.Javascript at 0x11080f650>"
       ]
      },
      {
       "javascript": [
        "$('div#2f95668c-ada9-40dd-9891-bc0325ea75ed').text(' 26%');"
       ],
       "metadata": {},
       "output_type": "display_data",
       "text": [
        "<IPython.core.display.Javascript at 0x11080f6d0>"
       ]
      },
      {
       "javascript": [
        "\n",
        "        var $myPB = $(\"div#d281dd52-6c64-48bb-b7ce-35362ea6458f\")\n",
        "        if ($myPB.hasClass('ui-progressbar')) {\n",
        "            $myPB.progressbar('value', 6602752);\n",
        "        } else {\n",
        "            $myPB.progressbar({value: 0, max: 25238326});\n",
        "        }\n",
        "        "
       ],
       "metadata": {},
       "output_type": "display_data",
       "text": [
        "<IPython.core.display.Javascript at 0x11080f710>"
       ]
      },
      {
       "javascript": [
        "$('div#d88b7e12-09cd-4562-8f07-f0be055f0c51').text('ETA:  0:00:00');"
       ],
       "metadata": {},
       "output_type": "display_data",
       "text": [
        "<IPython.core.display.Javascript at 0x11080f750>"
       ]
      },
      {
       "javascript": [
        "$('div#214fb19d-0068-4535-9ce1-d3993c23b0cd').text(' 70.05 MB/s');"
       ],
       "metadata": {},
       "output_type": "display_data",
       "text": [
        "<IPython.core.display.Javascript at 0x11080f790>"
       ]
      },
      {
       "javascript": [
        "$('div#2f95668c-ada9-40dd-9891-bc0325ea75ed').text(' 27%');"
       ],
       "metadata": {},
       "output_type": "display_data",
       "text": [
        "<IPython.core.display.Javascript at 0x11080f7d0>"
       ]
      },
      {
       "javascript": [
        "\n",
        "        var $myPB = $(\"div#d281dd52-6c64-48bb-b7ce-35362ea6458f\")\n",
        "        if ($myPB.hasClass('ui-progressbar')) {\n",
        "            $myPB.progressbar('value', 6856704);\n",
        "        } else {\n",
        "            $myPB.progressbar({value: 0, max: 25238326});\n",
        "        }\n",
        "        "
       ],
       "metadata": {},
       "output_type": "display_data",
       "text": [
        "<IPython.core.display.Javascript at 0x11080f810>"
       ]
      },
      {
       "javascript": [
        "$('div#d88b7e12-09cd-4562-8f07-f0be055f0c51').text('ETA:  0:00:00');"
       ],
       "metadata": {},
       "output_type": "display_data",
       "text": [
        "<IPython.core.display.Javascript at 0x11080f850>"
       ]
      },
      {
       "javascript": [
        "$('div#214fb19d-0068-4535-9ce1-d3993c23b0cd').text(' 70.37 MB/s');"
       ],
       "metadata": {},
       "output_type": "display_data",
       "text": [
        "<IPython.core.display.Javascript at 0x11080f890>"
       ]
      },
      {
       "javascript": [
        "$('div#2f95668c-ada9-40dd-9891-bc0325ea75ed').text(' 28%');"
       ],
       "metadata": {},
       "output_type": "display_data",
       "text": [
        "<IPython.core.display.Javascript at 0x11080f8d0>"
       ]
      },
      {
       "javascript": [
        "\n",
        "        var $myPB = $(\"div#d281dd52-6c64-48bb-b7ce-35362ea6458f\")\n",
        "        if ($myPB.hasClass('ui-progressbar')) {\n",
        "            $myPB.progressbar('value', 7110656);\n",
        "        } else {\n",
        "            $myPB.progressbar({value: 0, max: 25238326});\n",
        "        }\n",
        "        "
       ],
       "metadata": {},
       "output_type": "display_data",
       "text": [
        "<IPython.core.display.Javascript at 0x11080f910>"
       ]
      },
      {
       "javascript": [
        "$('div#d88b7e12-09cd-4562-8f07-f0be055f0c51').text('ETA:  0:00:00');"
       ],
       "metadata": {},
       "output_type": "display_data",
       "text": [
        "<IPython.core.display.Javascript at 0x11080f950>"
       ]
      },
      {
       "javascript": [
        "$('div#214fb19d-0068-4535-9ce1-d3993c23b0cd').text(' 70.61 MB/s');"
       ],
       "metadata": {},
       "output_type": "display_data",
       "text": [
        "<IPython.core.display.Javascript at 0x11080f990>"
       ]
      },
      {
       "javascript": [
        "$('div#2f95668c-ada9-40dd-9891-bc0325ea75ed').text(' 29%');"
       ],
       "metadata": {},
       "output_type": "display_data",
       "text": [
        "<IPython.core.display.Javascript at 0x11080f9d0>"
       ]
      },
      {
       "javascript": [
        "\n",
        "        var $myPB = $(\"div#d281dd52-6c64-48bb-b7ce-35362ea6458f\")\n",
        "        if ($myPB.hasClass('ui-progressbar')) {\n",
        "            $myPB.progressbar('value', 7364608);\n",
        "        } else {\n",
        "            $myPB.progressbar({value: 0, max: 25238326});\n",
        "        }\n",
        "        "
       ],
       "metadata": {},
       "output_type": "display_data",
       "text": [
        "<IPython.core.display.Javascript at 0x11080fa50>"
       ]
      },
      {
       "javascript": [
        "$('div#d88b7e12-09cd-4562-8f07-f0be055f0c51').text('ETA:  0:00:00');"
       ],
       "metadata": {},
       "output_type": "display_data",
       "text": [
        "<IPython.core.display.Javascript at 0x11080fa90>"
       ]
      },
      {
       "javascript": [
        "$('div#214fb19d-0068-4535-9ce1-d3993c23b0cd').text(' 71.00 MB/s');"
       ],
       "metadata": {},
       "output_type": "display_data",
       "text": [
        "<IPython.core.display.Javascript at 0x11080f410>"
       ]
      },
      {
       "javascript": [
        "$('div#2f95668c-ada9-40dd-9891-bc0325ea75ed').text(' 30%');"
       ],
       "metadata": {},
       "output_type": "display_data",
       "text": [
        "<IPython.core.display.Javascript at 0x11080f190>"
       ]
      },
      {
       "javascript": [
        "\n",
        "        var $myPB = $(\"div#d281dd52-6c64-48bb-b7ce-35362ea6458f\")\n",
        "        if ($myPB.hasClass('ui-progressbar')) {\n",
        "            $myPB.progressbar('value', 7618560);\n",
        "        } else {\n",
        "            $myPB.progressbar({value: 0, max: 25238326});\n",
        "        }\n",
        "        "
       ],
       "metadata": {},
       "output_type": "display_data",
       "text": [
        "<IPython.core.display.Javascript at 0x11080fad0>"
       ]
      },
      {
       "javascript": [
        "$('div#d88b7e12-09cd-4562-8f07-f0be055f0c51').text('ETA:  0:00:00');"
       ],
       "metadata": {},
       "output_type": "display_data",
       "text": [
        "<IPython.core.display.Javascript at 0x11080fe10>"
       ]
      },
      {
       "javascript": [
        "$('div#214fb19d-0068-4535-9ce1-d3993c23b0cd').text(' 71.19 MB/s');"
       ],
       "metadata": {},
       "output_type": "display_data",
       "text": [
        "<IPython.core.display.Javascript at 0x110801f10>"
       ]
      },
      {
       "javascript": [
        "$('div#2f95668c-ada9-40dd-9891-bc0325ea75ed').text(' 31%');"
       ],
       "metadata": {},
       "output_type": "display_data",
       "text": [
        "<IPython.core.display.Javascript at 0x110801fd0>"
       ]
      },
      {
       "javascript": [
        "\n",
        "        var $myPB = $(\"div#d281dd52-6c64-48bb-b7ce-35362ea6458f\")\n",
        "        if ($myPB.hasClass('ui-progressbar')) {\n",
        "            $myPB.progressbar('value', 7872512);\n",
        "        } else {\n",
        "            $myPB.progressbar({value: 0, max: 25238326});\n",
        "        }\n",
        "        "
       ],
       "metadata": {},
       "output_type": "display_data",
       "text": [
        "<IPython.core.display.Javascript at 0x110801f50>"
       ]
      },
      {
       "javascript": [
        "$('div#d88b7e12-09cd-4562-8f07-f0be055f0c51').text('ETA:  0:00:00');"
       ],
       "metadata": {},
       "output_type": "display_data",
       "text": [
        "<IPython.core.display.Javascript at 0x110801ed0>"
       ]
      },
      {
       "javascript": [
        "$('div#214fb19d-0068-4535-9ce1-d3993c23b0cd').text(' 68.85 MB/s');"
       ],
       "metadata": {},
       "output_type": "display_data",
       "text": [
        "<IPython.core.display.Javascript at 0x110801e90>"
       ]
      },
      {
       "javascript": [
        "$('div#2f95668c-ada9-40dd-9891-bc0325ea75ed').text(' 32%');"
       ],
       "metadata": {},
       "output_type": "display_data",
       "text": [
        "<IPython.core.display.Javascript at 0x110801cd0>"
       ]
      },
      {
       "javascript": [
        "\n",
        "        var $myPB = $(\"div#d281dd52-6c64-48bb-b7ce-35362ea6458f\")\n",
        "        if ($myPB.hasClass('ui-progressbar')) {\n",
        "            $myPB.progressbar('value', 8126464);\n",
        "        } else {\n",
        "            $myPB.progressbar({value: 0, max: 25238326});\n",
        "        }\n",
        "        "
       ],
       "metadata": {},
       "output_type": "display_data",
       "text": [
        "<IPython.core.display.Javascript at 0x110801f90>"
       ]
      },
      {
       "javascript": [
        "$('div#d88b7e12-09cd-4562-8f07-f0be055f0c51').text('ETA:  0:00:00');"
       ],
       "metadata": {},
       "output_type": "display_data",
       "text": [
        "<IPython.core.display.Javascript at 0x1108b6050>"
       ]
      },
      {
       "javascript": [
        "$('div#214fb19d-0068-4535-9ce1-d3993c23b0cd').text(' 69.05 MB/s');"
       ],
       "metadata": {},
       "output_type": "display_data",
       "text": [
        "<IPython.core.display.Javascript at 0x1108b6090>"
       ]
      },
      {
       "javascript": [
        "$('div#2f95668c-ada9-40dd-9891-bc0325ea75ed').text(' 33%');"
       ],
       "metadata": {},
       "output_type": "display_data",
       "text": [
        "<IPython.core.display.Javascript at 0x1108b60d0>"
       ]
      },
      {
       "javascript": [
        "\n",
        "        var $myPB = $(\"div#d281dd52-6c64-48bb-b7ce-35362ea6458f\")\n",
        "        if ($myPB.hasClass('ui-progressbar')) {\n",
        "            $myPB.progressbar('value', 8380416);\n",
        "        } else {\n",
        "            $myPB.progressbar({value: 0, max: 25238326});\n",
        "        }\n",
        "        "
       ],
       "metadata": {},
       "output_type": "display_data",
       "text": [
        "<IPython.core.display.Javascript at 0x1108b6110>"
       ]
      },
      {
       "javascript": [
        "$('div#d88b7e12-09cd-4562-8f07-f0be055f0c51').text('ETA:  0:00:00');"
       ],
       "metadata": {},
       "output_type": "display_data",
       "text": [
        "<IPython.core.display.Javascript at 0x1108b6190>"
       ]
      },
      {
       "javascript": [
        "$('div#214fb19d-0068-4535-9ce1-d3993c23b0cd').text(' 69.30 MB/s');"
       ],
       "metadata": {},
       "output_type": "display_data",
       "text": [
        "<IPython.core.display.Javascript at 0x1108b61d0>"
       ]
      },
      {
       "javascript": [
        "$('div#2f95668c-ada9-40dd-9891-bc0325ea75ed').text(' 34%');"
       ],
       "metadata": {},
       "output_type": "display_data",
       "text": [
        "<IPython.core.display.Javascript at 0x1108b6210>"
       ]
      },
      {
       "javascript": [
        "\n",
        "        var $myPB = $(\"div#d281dd52-6c64-48bb-b7ce-35362ea6458f\")\n",
        "        if ($myPB.hasClass('ui-progressbar')) {\n",
        "            $myPB.progressbar('value', 8634368);\n",
        "        } else {\n",
        "            $myPB.progressbar({value: 0, max: 25238326});\n",
        "        }\n",
        "        "
       ],
       "metadata": {},
       "output_type": "display_data",
       "text": [
        "<IPython.core.display.Javascript at 0x1108b6250>"
       ]
      },
      {
       "javascript": [
        "$('div#d88b7e12-09cd-4562-8f07-f0be055f0c51').text('ETA:  0:00:00');"
       ],
       "metadata": {},
       "output_type": "display_data",
       "text": [
        "<IPython.core.display.Javascript at 0x1108b6290>"
       ]
      },
      {
       "javascript": [
        "$('div#214fb19d-0068-4535-9ce1-d3993c23b0cd').text(' 25.30 MB/s');"
       ],
       "metadata": {},
       "output_type": "display_data",
       "text": [
        "<IPython.core.display.Javascript at 0x1108b62d0>"
       ]
      },
      {
       "javascript": [
        "$('div#2f95668c-ada9-40dd-9891-bc0325ea75ed').text(' 35%');"
       ],
       "metadata": {},
       "output_type": "display_data",
       "text": [
        "<IPython.core.display.Javascript at 0x1108b6310>"
       ]
      },
      {
       "javascript": [
        "\n",
        "        var $myPB = $(\"div#d281dd52-6c64-48bb-b7ce-35362ea6458f\")\n",
        "        if ($myPB.hasClass('ui-progressbar')) {\n",
        "            $myPB.progressbar('value', 8888320);\n",
        "        } else {\n",
        "            $myPB.progressbar({value: 0, max: 25238326});\n",
        "        }\n",
        "        "
       ],
       "metadata": {},
       "output_type": "display_data",
       "text": [
        "<IPython.core.display.Javascript at 0x1108b6350>"
       ]
      },
      {
       "javascript": [
        "$('div#d88b7e12-09cd-4562-8f07-f0be055f0c51').text('ETA:  0:00:00');"
       ],
       "metadata": {},
       "output_type": "display_data",
       "text": [
        "<IPython.core.display.Javascript at 0x1108b6390>"
       ]
      },
      {
       "javascript": [
        "$('div#214fb19d-0068-4535-9ce1-d3993c23b0cd').text(' 25.80 MB/s');"
       ],
       "metadata": {},
       "output_type": "display_data",
       "text": [
        "<IPython.core.display.Javascript at 0x1108b63d0>"
       ]
      },
      {
       "javascript": [
        "$('div#2f95668c-ada9-40dd-9891-bc0325ea75ed').text(' 36%');"
       ],
       "metadata": {},
       "output_type": "display_data",
       "text": [
        "<IPython.core.display.Javascript at 0x1108b6410>"
       ]
      },
      {
       "javascript": [
        "\n",
        "        var $myPB = $(\"div#d281dd52-6c64-48bb-b7ce-35362ea6458f\")\n",
        "        if ($myPB.hasClass('ui-progressbar')) {\n",
        "            $myPB.progressbar('value', 9142272);\n",
        "        } else {\n",
        "            $myPB.progressbar({value: 0, max: 25238326});\n",
        "        }\n",
        "        "
       ],
       "metadata": {},
       "output_type": "display_data",
       "text": [
        "<IPython.core.display.Javascript at 0x1108b6450>"
       ]
      },
      {
       "javascript": [
        "$('div#d88b7e12-09cd-4562-8f07-f0be055f0c51').text('ETA:  0:00:00');"
       ],
       "metadata": {},
       "output_type": "display_data",
       "text": [
        "<IPython.core.display.Javascript at 0x1108b6490>"
       ]
      },
      {
       "javascript": [
        "$('div#214fb19d-0068-4535-9ce1-d3993c23b0cd').text(' 23.36 MB/s');"
       ],
       "metadata": {},
       "output_type": "display_data",
       "text": [
        "<IPython.core.display.Javascript at 0x1108b64d0>"
       ]
      },
      {
       "javascript": [
        "$('div#2f95668c-ada9-40dd-9891-bc0325ea75ed').text(' 37%');"
       ],
       "metadata": {},
       "output_type": "display_data",
       "text": [
        "<IPython.core.display.Javascript at 0x1108b6510>"
       ]
      },
      {
       "javascript": [
        "\n",
        "        var $myPB = $(\"div#d281dd52-6c64-48bb-b7ce-35362ea6458f\")\n",
        "        if ($myPB.hasClass('ui-progressbar')) {\n",
        "            $myPB.progressbar('value', 9396224);\n",
        "        } else {\n",
        "            $myPB.progressbar({value: 0, max: 25238326});\n",
        "        }\n",
        "        "
       ],
       "metadata": {},
       "output_type": "display_data",
       "text": [
        "<IPython.core.display.Javascript at 0x1108b6550>"
       ]
      },
      {
       "javascript": [
        "$('div#d88b7e12-09cd-4562-8f07-f0be055f0c51').text('ETA:  0:00:00');"
       ],
       "metadata": {},
       "output_type": "display_data",
       "text": [
        "<IPython.core.display.Javascript at 0x1108b6590>"
       ]
      },
      {
       "javascript": [
        "$('div#214fb19d-0068-4535-9ce1-d3993c23b0cd').text(' 23.76 MB/s');"
       ],
       "metadata": {},
       "output_type": "display_data",
       "text": [
        "<IPython.core.display.Javascript at 0x1108b65d0>"
       ]
      },
      {
       "javascript": [
        "$('div#2f95668c-ada9-40dd-9891-bc0325ea75ed').text(' 38%');"
       ],
       "metadata": {},
       "output_type": "display_data",
       "text": [
        "<IPython.core.display.Javascript at 0x1108b6610>"
       ]
      },
      {
       "javascript": [
        "\n",
        "        var $myPB = $(\"div#d281dd52-6c64-48bb-b7ce-35362ea6458f\")\n",
        "        if ($myPB.hasClass('ui-progressbar')) {\n",
        "            $myPB.progressbar('value', 9650176);\n",
        "        } else {\n",
        "            $myPB.progressbar({value: 0, max: 25238326});\n",
        "        }\n",
        "        "
       ],
       "metadata": {},
       "output_type": "display_data",
       "text": [
        "<IPython.core.display.Javascript at 0x1108b6650>"
       ]
      },
      {
       "javascript": [
        "$('div#d88b7e12-09cd-4562-8f07-f0be055f0c51').text('ETA:  0:00:00');"
       ],
       "metadata": {},
       "output_type": "display_data",
       "text": [
        "<IPython.core.display.Javascript at 0x1108b6690>"
       ]
      },
      {
       "javascript": [
        "$('div#214fb19d-0068-4535-9ce1-d3993c23b0cd').text(' 24.20 MB/s');"
       ],
       "metadata": {},
       "output_type": "display_data",
       "text": [
        "<IPython.core.display.Javascript at 0x110801f90>"
       ]
      },
      {
       "javascript": [
        "$('div#2f95668c-ada9-40dd-9891-bc0325ea75ed').text(' 39%');"
       ],
       "metadata": {},
       "output_type": "display_data",
       "text": [
        "<IPython.core.display.Javascript at 0x110801e90>"
       ]
      },
      {
       "javascript": [
        "\n",
        "        var $myPB = $(\"div#d281dd52-6c64-48bb-b7ce-35362ea6458f\")\n",
        "        if ($myPB.hasClass('ui-progressbar')) {\n",
        "            $myPB.progressbar('value', 9904128);\n",
        "        } else {\n",
        "            $myPB.progressbar({value: 0, max: 25238326});\n",
        "        }\n",
        "        "
       ],
       "metadata": {},
       "output_type": "display_data",
       "text": [
        "<IPython.core.display.Javascript at 0x110801ed0>"
       ]
      },
      {
       "javascript": [
        "$('div#d88b7e12-09cd-4562-8f07-f0be055f0c51').text('ETA:  0:00:00');"
       ],
       "metadata": {},
       "output_type": "display_data",
       "text": [
        "<IPython.core.display.Javascript at 0x110801fd0>"
       ]
      },
      {
       "javascript": [
        "$('div#214fb19d-0068-4535-9ce1-d3993c23b0cd').text(' 24.50 MB/s');"
       ],
       "metadata": {},
       "output_type": "display_data",
       "text": [
        "<IPython.core.display.Javascript at 0x110801f50>"
       ]
      },
      {
       "javascript": [
        "$('div#2f95668c-ada9-40dd-9891-bc0325ea75ed').text(' 40%');"
       ],
       "metadata": {},
       "output_type": "display_data",
       "text": [
        "<IPython.core.display.Javascript at 0x110801f10>"
       ]
      },
      {
       "javascript": [
        "\n",
        "        var $myPB = $(\"div#d281dd52-6c64-48bb-b7ce-35362ea6458f\")\n",
        "        if ($myPB.hasClass('ui-progressbar')) {\n",
        "            $myPB.progressbar('value', 10158080);\n",
        "        } else {\n",
        "            $myPB.progressbar({value: 0, max: 25238326});\n",
        "        }\n",
        "        "
       ],
       "metadata": {},
       "output_type": "display_data",
       "text": [
        "<IPython.core.display.Javascript at 0x11080fe10>"
       ]
      },
      {
       "javascript": [
        "$('div#d88b7e12-09cd-4562-8f07-f0be055f0c51').text('ETA:  0:00:00');"
       ],
       "metadata": {},
       "output_type": "display_data",
       "text": [
        "<IPython.core.display.Javascript at 0x11080fad0>"
       ]
      },
      {
       "javascript": [
        "$('div#214fb19d-0068-4535-9ce1-d3993c23b0cd').text(' 24.88 MB/s');"
       ],
       "metadata": {},
       "output_type": "display_data",
       "text": [
        "<IPython.core.display.Javascript at 0x11080f190>"
       ]
      },
      {
       "javascript": [
        "$('div#2f95668c-ada9-40dd-9891-bc0325ea75ed').text(' 41%');"
       ],
       "metadata": {},
       "output_type": "display_data",
       "text": [
        "<IPython.core.display.Javascript at 0x11080f410>"
       ]
      },
      {
       "javascript": [
        "\n",
        "        var $myPB = $(\"div#d281dd52-6c64-48bb-b7ce-35362ea6458f\")\n",
        "        if ($myPB.hasClass('ui-progressbar')) {\n",
        "            $myPB.progressbar('value', 10412032);\n",
        "        } else {\n",
        "            $myPB.progressbar({value: 0, max: 25238326});\n",
        "        }\n",
        "        "
       ],
       "metadata": {},
       "output_type": "display_data",
       "text": [
        "<IPython.core.display.Javascript at 0x11080fa90>"
       ]
      },
      {
       "javascript": [
        "$('div#d88b7e12-09cd-4562-8f07-f0be055f0c51').text('ETA:  0:00:00');"
       ],
       "metadata": {},
       "output_type": "display_data",
       "text": [
        "<IPython.core.display.Javascript at 0x11080fa50>"
       ]
      },
      {
       "javascript": [
        "$('div#214fb19d-0068-4535-9ce1-d3993c23b0cd').text(' 25.25 MB/s');"
       ],
       "metadata": {},
       "output_type": "display_data",
       "text": [
        "<IPython.core.display.Javascript at 0x11080f9d0>"
       ]
      },
      {
       "javascript": [
        "$('div#2f95668c-ada9-40dd-9891-bc0325ea75ed').text(' 42%');"
       ],
       "metadata": {},
       "output_type": "display_data",
       "text": [
        "<IPython.core.display.Javascript at 0x11080f990>"
       ]
      },
      {
       "javascript": [
        "\n",
        "        var $myPB = $(\"div#d281dd52-6c64-48bb-b7ce-35362ea6458f\")\n",
        "        if ($myPB.hasClass('ui-progressbar')) {\n",
        "            $myPB.progressbar('value', 10665984);\n",
        "        } else {\n",
        "            $myPB.progressbar({value: 0, max: 25238326});\n",
        "        }\n",
        "        "
       ],
       "metadata": {},
       "output_type": "display_data",
       "text": [
        "<IPython.core.display.Javascript at 0x11080f950>"
       ]
      },
      {
       "javascript": [
        "$('div#d88b7e12-09cd-4562-8f07-f0be055f0c51').text('ETA:  0:00:00');"
       ],
       "metadata": {},
       "output_type": "display_data",
       "text": [
        "<IPython.core.display.Javascript at 0x11080f910>"
       ]
      },
      {
       "javascript": [
        "$('div#214fb19d-0068-4535-9ce1-d3993c23b0cd').text(' 25.65 MB/s');"
       ],
       "metadata": {},
       "output_type": "display_data",
       "text": [
        "<IPython.core.display.Javascript at 0x11080f8d0>"
       ]
      },
      {
       "javascript": [
        "$('div#2f95668c-ada9-40dd-9891-bc0325ea75ed').text(' 43%');"
       ],
       "metadata": {},
       "output_type": "display_data",
       "text": [
        "<IPython.core.display.Javascript at 0x11080f890>"
       ]
      },
      {
       "javascript": [
        "\n",
        "        var $myPB = $(\"div#d281dd52-6c64-48bb-b7ce-35362ea6458f\")\n",
        "        if ($myPB.hasClass('ui-progressbar')) {\n",
        "            $myPB.progressbar('value', 10919936);\n",
        "        } else {\n",
        "            $myPB.progressbar({value: 0, max: 25238326});\n",
        "        }\n",
        "        "
       ],
       "metadata": {},
       "output_type": "display_data",
       "text": [
        "<IPython.core.display.Javascript at 0x11080f850>"
       ]
      },
      {
       "javascript": [
        "$('div#d88b7e12-09cd-4562-8f07-f0be055f0c51').text('ETA:  0:00:00');"
       ],
       "metadata": {},
       "output_type": "display_data",
       "text": [
        "<IPython.core.display.Javascript at 0x11080f810>"
       ]
      },
      {
       "javascript": [
        "$('div#214fb19d-0068-4535-9ce1-d3993c23b0cd').text(' 25.97 MB/s');"
       ],
       "metadata": {},
       "output_type": "display_data",
       "text": [
        "<IPython.core.display.Javascript at 0x11080f7d0>"
       ]
      },
      {
       "javascript": [
        "$('div#2f95668c-ada9-40dd-9891-bc0325ea75ed').text(' 44%');"
       ],
       "metadata": {},
       "output_type": "display_data",
       "text": [
        "<IPython.core.display.Javascript at 0x11080f790>"
       ]
      },
      {
       "javascript": [
        "\n",
        "        var $myPB = $(\"div#d281dd52-6c64-48bb-b7ce-35362ea6458f\")\n",
        "        if ($myPB.hasClass('ui-progressbar')) {\n",
        "            $myPB.progressbar('value', 11173888);\n",
        "        } else {\n",
        "            $myPB.progressbar({value: 0, max: 25238326});\n",
        "        }\n",
        "        "
       ],
       "metadata": {},
       "output_type": "display_data",
       "text": [
        "<IPython.core.display.Javascript at 0x11080f750>"
       ]
      },
      {
       "javascript": [
        "$('div#d88b7e12-09cd-4562-8f07-f0be055f0c51').text('ETA:  0:00:00');"
       ],
       "metadata": {},
       "output_type": "display_data",
       "text": [
        "<IPython.core.display.Javascript at 0x11080f710>"
       ]
      },
      {
       "javascript": [
        "$('div#214fb19d-0068-4535-9ce1-d3993c23b0cd').text(' 26.35 MB/s');"
       ],
       "metadata": {},
       "output_type": "display_data",
       "text": [
        "<IPython.core.display.Javascript at 0x11080f6d0>"
       ]
      },
      {
       "javascript": [
        "$('div#2f95668c-ada9-40dd-9891-bc0325ea75ed').text(' 45%');"
       ],
       "metadata": {},
       "output_type": "display_data",
       "text": [
        "<IPython.core.display.Javascript at 0x11080f650>"
       ]
      },
      {
       "javascript": [
        "\n",
        "        var $myPB = $(\"div#d281dd52-6c64-48bb-b7ce-35362ea6458f\")\n",
        "        if ($myPB.hasClass('ui-progressbar')) {\n",
        "            $myPB.progressbar('value', 11427840);\n",
        "        } else {\n",
        "            $myPB.progressbar({value: 0, max: 25238326});\n",
        "        }\n",
        "        "
       ],
       "metadata": {},
       "output_type": "display_data",
       "text": [
        "<IPython.core.display.Javascript at 0x11080f610>"
       ]
      },
      {
       "javascript": [
        "$('div#d88b7e12-09cd-4562-8f07-f0be055f0c51').text('ETA:  0:00:00');"
       ],
       "metadata": {},
       "output_type": "display_data",
       "text": [
        "<IPython.core.display.Javascript at 0x11080f5d0>"
       ]
      },
      {
       "javascript": [
        "$('div#214fb19d-0068-4535-9ce1-d3993c23b0cd').text(' 26.53 MB/s');"
       ],
       "metadata": {},
       "output_type": "display_data",
       "text": [
        "<IPython.core.display.Javascript at 0x11080f550>"
       ]
      },
      {
       "javascript": [
        "$('div#2f95668c-ada9-40dd-9891-bc0325ea75ed').text(' 46%');"
       ],
       "metadata": {},
       "output_type": "display_data",
       "text": [
        "<IPython.core.display.Javascript at 0x11080f450>"
       ]
      },
      {
       "javascript": [
        "\n",
        "        var $myPB = $(\"div#d281dd52-6c64-48bb-b7ce-35362ea6458f\")\n",
        "        if ($myPB.hasClass('ui-progressbar')) {\n",
        "            $myPB.progressbar('value', 11681792);\n",
        "        } else {\n",
        "            $myPB.progressbar({value: 0, max: 25238326});\n",
        "        }\n",
        "        "
       ],
       "metadata": {},
       "output_type": "display_data",
       "text": [
        "<IPython.core.display.Javascript at 0x11080f510>"
       ]
      },
      {
       "javascript": [
        "$('div#d88b7e12-09cd-4562-8f07-f0be055f0c51').text('ETA:  0:00:00');"
       ],
       "metadata": {},
       "output_type": "display_data",
       "text": [
        "<IPython.core.display.Javascript at 0x11080f4d0>"
       ]
      },
      {
       "javascript": [
        "$('div#214fb19d-0068-4535-9ce1-d3993c23b0cd').text(' 26.82 MB/s');"
       ],
       "metadata": {},
       "output_type": "display_data",
       "text": [
        "<IPython.core.display.Javascript at 0x11080f1d0>"
       ]
      },
      {
       "javascript": [
        "$('div#2f95668c-ada9-40dd-9891-bc0325ea75ed').text(' 47%');"
       ],
       "metadata": {},
       "output_type": "display_data",
       "text": [
        "<IPython.core.display.Javascript at 0x11080f050>"
       ]
      },
      {
       "javascript": [
        "\n",
        "        var $myPB = $(\"div#d281dd52-6c64-48bb-b7ce-35362ea6458f\")\n",
        "        if ($myPB.hasClass('ui-progressbar')) {\n",
        "            $myPB.progressbar('value', 11935744);\n",
        "        } else {\n",
        "            $myPB.progressbar({value: 0, max: 25238326});\n",
        "        }\n",
        "        "
       ],
       "metadata": {},
       "output_type": "display_data",
       "text": [
        "<IPython.core.display.Javascript at 0x11080f690>"
       ]
      },
      {
       "javascript": [
        "$('div#d88b7e12-09cd-4562-8f07-f0be055f0c51').text('ETA:  0:00:00');"
       ],
       "metadata": {},
       "output_type": "display_data",
       "text": [
        "<IPython.core.display.Javascript at 0x11080ffd0>"
       ]
      },
      {
       "javascript": [
        "$('div#214fb19d-0068-4535-9ce1-d3993c23b0cd').text(' 27.21 MB/s');"
       ],
       "metadata": {},
       "output_type": "display_data",
       "text": [
        "<IPython.core.display.Javascript at 0x11080fb10>"
       ]
      },
      {
       "javascript": [
        "$('div#2f95668c-ada9-40dd-9891-bc0325ea75ed').text(' 48%');"
       ],
       "metadata": {},
       "output_type": "display_data",
       "text": [
        "<IPython.core.display.Javascript at 0x11080fb50>"
       ]
      },
      {
       "javascript": [
        "\n",
        "        var $myPB = $(\"div#d281dd52-6c64-48bb-b7ce-35362ea6458f\")\n",
        "        if ($myPB.hasClass('ui-progressbar')) {\n",
        "            $myPB.progressbar('value', 12189696);\n",
        "        } else {\n",
        "            $myPB.progressbar({value: 0, max: 25238326});\n",
        "        }\n",
        "        "
       ],
       "metadata": {},
       "output_type": "display_data",
       "text": [
        "<IPython.core.display.Javascript at 0x11080f210>"
       ]
      },
      {
       "javascript": [
        "$('div#d88b7e12-09cd-4562-8f07-f0be055f0c51').text('ETA:  0:00:00');"
       ],
       "metadata": {},
       "output_type": "display_data",
       "text": [
        "<IPython.core.display.Javascript at 0x11080fbd0>"
       ]
      },
      {
       "javascript": [
        "$('div#214fb19d-0068-4535-9ce1-d3993c23b0cd').text(' 27.48 MB/s');"
       ],
       "metadata": {},
       "output_type": "display_data",
       "text": [
        "<IPython.core.display.Javascript at 0x11080fb90>"
       ]
      },
      {
       "javascript": [
        "$('div#2f95668c-ada9-40dd-9891-bc0325ea75ed').text(' 49%');"
       ],
       "metadata": {},
       "output_type": "display_data",
       "text": [
        "<IPython.core.display.Javascript at 0x11080fc10>"
       ]
      },
      {
       "javascript": [
        "\n",
        "        var $myPB = $(\"div#d281dd52-6c64-48bb-b7ce-35362ea6458f\")\n",
        "        if ($myPB.hasClass('ui-progressbar')) {\n",
        "            $myPB.progressbar('value', 12443648);\n",
        "        } else {\n",
        "            $myPB.progressbar({value: 0, max: 25238326});\n",
        "        }\n",
        "        "
       ],
       "metadata": {},
       "output_type": "display_data",
       "text": [
        "<IPython.core.display.Javascript at 0x11080fc50>"
       ]
      },
      {
       "javascript": [
        "$('div#d88b7e12-09cd-4562-8f07-f0be055f0c51').text('ETA:  0:00:00');"
       ],
       "metadata": {},
       "output_type": "display_data",
       "text": [
        "<IPython.core.display.Javascript at 0x11080fc90>"
       ]
      },
      {
       "javascript": [
        "$('div#214fb19d-0068-4535-9ce1-d3993c23b0cd').text(' 27.86 MB/s');"
       ],
       "metadata": {},
       "output_type": "display_data",
       "text": [
        "<IPython.core.display.Javascript at 0x11080fcd0>"
       ]
      },
      {
       "javascript": [
        "$('div#2f95668c-ada9-40dd-9891-bc0325ea75ed').text(' 50%');"
       ],
       "metadata": {},
       "output_type": "display_data",
       "text": [
        "<IPython.core.display.Javascript at 0x11080fd10>"
       ]
      },
      {
       "javascript": [
        "\n",
        "        var $myPB = $(\"div#d281dd52-6c64-48bb-b7ce-35362ea6458f\")\n",
        "        if ($myPB.hasClass('ui-progressbar')) {\n",
        "            $myPB.progressbar('value', 12697600);\n",
        "        } else {\n",
        "            $myPB.progressbar({value: 0, max: 25238326});\n",
        "        }\n",
        "        "
       ],
       "metadata": {},
       "output_type": "display_data",
       "text": [
        "<IPython.core.display.Javascript at 0x11080fd50>"
       ]
      },
      {
       "javascript": [
        "$('div#d88b7e12-09cd-4562-8f07-f0be055f0c51').text('ETA:  0:00:00');"
       ],
       "metadata": {},
       "output_type": "display_data",
       "text": [
        "<IPython.core.display.Javascript at 0x11080fd90>"
       ]
      },
      {
       "javascript": [
        "$('div#214fb19d-0068-4535-9ce1-d3993c23b0cd').text(' 28.23 MB/s');"
       ],
       "metadata": {},
       "output_type": "display_data",
       "text": [
        "<IPython.core.display.Javascript at 0x11080fdd0>"
       ]
      },
      {
       "javascript": [
        "$('div#2f95668c-ada9-40dd-9891-bc0325ea75ed').text(' 51%');"
       ],
       "metadata": {},
       "output_type": "display_data",
       "text": [
        "<IPython.core.display.Javascript at 0x11080ff90>"
       ]
      },
      {
       "javascript": [
        "\n",
        "        var $myPB = $(\"div#d281dd52-6c64-48bb-b7ce-35362ea6458f\")\n",
        "        if ($myPB.hasClass('ui-progressbar')) {\n",
        "            $myPB.progressbar('value', 12951552);\n",
        "        } else {\n",
        "            $myPB.progressbar({value: 0, max: 25238326});\n",
        "        }\n",
        "        "
       ],
       "metadata": {},
       "output_type": "display_data",
       "text": [
        "<IPython.core.display.Javascript at 0x11080fe50>"
       ]
      },
      {
       "javascript": [
        "$('div#d88b7e12-09cd-4562-8f07-f0be055f0c51').text('ETA:  0:00:00');"
       ],
       "metadata": {},
       "output_type": "display_data",
       "text": [
        "<IPython.core.display.Javascript at 0x11080fe90>"
       ]
      },
      {
       "javascript": [
        "$('div#214fb19d-0068-4535-9ce1-d3993c23b0cd').text(' 28.58 MB/s');"
       ],
       "metadata": {},
       "output_type": "display_data",
       "text": [
        "<IPython.core.display.Javascript at 0x11080fed0>"
       ]
      },
      {
       "javascript": [
        "$('div#2f95668c-ada9-40dd-9891-bc0325ea75ed').text(' 52%');"
       ],
       "metadata": {},
       "output_type": "display_data",
       "text": [
        "<IPython.core.display.Javascript at 0x11080ff10>"
       ]
      },
      {
       "javascript": [
        "\n",
        "        var $myPB = $(\"div#d281dd52-6c64-48bb-b7ce-35362ea6458f\")\n",
        "        if ($myPB.hasClass('ui-progressbar')) {\n",
        "            $myPB.progressbar('value', 13205504);\n",
        "        } else {\n",
        "            $myPB.progressbar({value: 0, max: 25238326});\n",
        "        }\n",
        "        "
       ],
       "metadata": {},
       "output_type": "display_data",
       "text": [
        "<IPython.core.display.Javascript at 0x11080f490>"
       ]
      },
      {
       "javascript": [
        "$('div#d88b7e12-09cd-4562-8f07-f0be055f0c51').text('ETA:  0:00:00');"
       ],
       "metadata": {},
       "output_type": "display_data",
       "text": [
        "<IPython.core.display.Javascript at 0x11080fa10>"
       ]
      },
      {
       "javascript": [
        "$('div#214fb19d-0068-4535-9ce1-d3993c23b0cd').text(' 28.95 MB/s');"
       ],
       "metadata": {},
       "output_type": "display_data",
       "text": [
        "<IPython.core.display.Javascript at 0x11080ff50>"
       ]
      },
      {
       "javascript": [
        "$('div#2f95668c-ada9-40dd-9891-bc0325ea75ed').text(' 53%');"
       ],
       "metadata": {},
       "output_type": "display_data",
       "text": [
        "<IPython.core.display.Javascript at 0x11099d050>"
       ]
      },
      {
       "javascript": [
        "\n",
        "        var $myPB = $(\"div#d281dd52-6c64-48bb-b7ce-35362ea6458f\")\n",
        "        if ($myPB.hasClass('ui-progressbar')) {\n",
        "            $myPB.progressbar('value', 13459456);\n",
        "        } else {\n",
        "            $myPB.progressbar({value: 0, max: 25238326});\n",
        "        }\n",
        "        "
       ],
       "metadata": {},
       "output_type": "display_data",
       "text": [
        "<IPython.core.display.Javascript at 0x11099d090>"
       ]
      },
      {
       "javascript": [
        "$('div#d88b7e12-09cd-4562-8f07-f0be055f0c51').text('ETA:  0:00:00');"
       ],
       "metadata": {},
       "output_type": "display_data",
       "text": [
        "<IPython.core.display.Javascript at 0x11099d0d0>"
       ]
      },
      {
       "javascript": [
        "$('div#214fb19d-0068-4535-9ce1-d3993c23b0cd').text(' 29.23 MB/s');"
       ],
       "metadata": {},
       "output_type": "display_data",
       "text": [
        "<IPython.core.display.Javascript at 0x11099d110>"
       ]
      },
      {
       "javascript": [
        "$('div#2f95668c-ada9-40dd-9891-bc0325ea75ed').text(' 54%');"
       ],
       "metadata": {},
       "output_type": "display_data",
       "text": [
        "<IPython.core.display.Javascript at 0x11099d190>"
       ]
      },
      {
       "javascript": [
        "\n",
        "        var $myPB = $(\"div#d281dd52-6c64-48bb-b7ce-35362ea6458f\")\n",
        "        if ($myPB.hasClass('ui-progressbar')) {\n",
        "            $myPB.progressbar('value', 13713408);\n",
        "        } else {\n",
        "            $myPB.progressbar({value: 0, max: 25238326});\n",
        "        }\n",
        "        "
       ],
       "metadata": {},
       "output_type": "display_data",
       "text": [
        "<IPython.core.display.Javascript at 0x11099d1d0>"
       ]
      },
      {
       "javascript": [
        "$('div#d88b7e12-09cd-4562-8f07-f0be055f0c51').text('ETA:  0:00:00');"
       ],
       "metadata": {},
       "output_type": "display_data",
       "text": [
        "<IPython.core.display.Javascript at 0x11099d210>"
       ]
      },
      {
       "javascript": [
        "$('div#214fb19d-0068-4535-9ce1-d3993c23b0cd').text(' 29.55 MB/s');"
       ],
       "metadata": {},
       "output_type": "display_data",
       "text": [
        "<IPython.core.display.Javascript at 0x11099d250>"
       ]
      },
      {
       "javascript": [
        "$('div#2f95668c-ada9-40dd-9891-bc0325ea75ed').text(' 55%');"
       ],
       "metadata": {},
       "output_type": "display_data",
       "text": [
        "<IPython.core.display.Javascript at 0x11099d290>"
       ]
      },
      {
       "javascript": [
        "\n",
        "        var $myPB = $(\"div#d281dd52-6c64-48bb-b7ce-35362ea6458f\")\n",
        "        if ($myPB.hasClass('ui-progressbar')) {\n",
        "            $myPB.progressbar('value', 13967360);\n",
        "        } else {\n",
        "            $myPB.progressbar({value: 0, max: 25238326});\n",
        "        }\n",
        "        "
       ],
       "metadata": {},
       "output_type": "display_data",
       "text": [
        "<IPython.core.display.Javascript at 0x11099d2d0>"
       ]
      },
      {
       "javascript": [
        "$('div#d88b7e12-09cd-4562-8f07-f0be055f0c51').text('ETA:  0:00:00');"
       ],
       "metadata": {},
       "output_type": "display_data",
       "text": [
        "<IPython.core.display.Javascript at 0x11099d310>"
       ]
      },
      {
       "javascript": [
        "$('div#214fb19d-0068-4535-9ce1-d3993c23b0cd').text(' 29.88 MB/s');"
       ],
       "metadata": {},
       "output_type": "display_data",
       "text": [
        "<IPython.core.display.Javascript at 0x11099d350>"
       ]
      },
      {
       "javascript": [
        "$('div#2f95668c-ada9-40dd-9891-bc0325ea75ed').text(' 56%');"
       ],
       "metadata": {},
       "output_type": "display_data",
       "text": [
        "<IPython.core.display.Javascript at 0x11099d390>"
       ]
      },
      {
       "javascript": [
        "\n",
        "        var $myPB = $(\"div#d281dd52-6c64-48bb-b7ce-35362ea6458f\")\n",
        "        if ($myPB.hasClass('ui-progressbar')) {\n",
        "            $myPB.progressbar('value', 14221312);\n",
        "        } else {\n",
        "            $myPB.progressbar({value: 0, max: 25238326});\n",
        "        }\n",
        "        "
       ],
       "metadata": {},
       "output_type": "display_data",
       "text": [
        "<IPython.core.display.Javascript at 0x11099d3d0>"
       ]
      },
      {
       "javascript": [
        "$('div#d88b7e12-09cd-4562-8f07-f0be055f0c51').text('ETA:  0:00:00');"
       ],
       "metadata": {},
       "output_type": "display_data",
       "text": [
        "<IPython.core.display.Javascript at 0x11099d410>"
       ]
      },
      {
       "javascript": [
        "$('div#214fb19d-0068-4535-9ce1-d3993c23b0cd').text(' 30.24 MB/s');"
       ],
       "metadata": {},
       "output_type": "display_data",
       "text": [
        "<IPython.core.display.Javascript at 0x11099d450>"
       ]
      },
      {
       "javascript": [
        "$('div#2f95668c-ada9-40dd-9891-bc0325ea75ed').text(' 57%');"
       ],
       "metadata": {},
       "output_type": "display_data",
       "text": [
        "<IPython.core.display.Javascript at 0x11099d490>"
       ]
      },
      {
       "javascript": [
        "\n",
        "        var $myPB = $(\"div#d281dd52-6c64-48bb-b7ce-35362ea6458f\")\n",
        "        if ($myPB.hasClass('ui-progressbar')) {\n",
        "            $myPB.progressbar('value', 14475264);\n",
        "        } else {\n",
        "            $myPB.progressbar({value: 0, max: 25238326});\n",
        "        }\n",
        "        "
       ],
       "metadata": {},
       "output_type": "display_data",
       "text": [
        "<IPython.core.display.Javascript at 0x11099d4d0>"
       ]
      },
      {
       "javascript": [
        "$('div#d88b7e12-09cd-4562-8f07-f0be055f0c51').text('ETA:  0:00:00');"
       ],
       "metadata": {},
       "output_type": "display_data",
       "text": [
        "<IPython.core.display.Javascript at 0x11099d510>"
       ]
      },
      {
       "javascript": [
        "$('div#214fb19d-0068-4535-9ce1-d3993c23b0cd').text(' 30.57 MB/s');"
       ],
       "metadata": {},
       "output_type": "display_data",
       "text": [
        "<IPython.core.display.Javascript at 0x11099d550>"
       ]
      },
      {
       "javascript": [
        "$('div#2f95668c-ada9-40dd-9891-bc0325ea75ed').text(' 58%');"
       ],
       "metadata": {},
       "output_type": "display_data",
       "text": [
        "<IPython.core.display.Javascript at 0x11099d590>"
       ]
      },
      {
       "javascript": [
        "\n",
        "        var $myPB = $(\"div#d281dd52-6c64-48bb-b7ce-35362ea6458f\")\n",
        "        if ($myPB.hasClass('ui-progressbar')) {\n",
        "            $myPB.progressbar('value', 14729216);\n",
        "        } else {\n",
        "            $myPB.progressbar({value: 0, max: 25238326});\n",
        "        }\n",
        "        "
       ],
       "metadata": {},
       "output_type": "display_data",
       "text": [
        "<IPython.core.display.Javascript at 0x11099d5d0>"
       ]
      },
      {
       "javascript": [
        "$('div#d88b7e12-09cd-4562-8f07-f0be055f0c51').text('ETA:  0:00:00');"
       ],
       "metadata": {},
       "output_type": "display_data",
       "text": [
        "<IPython.core.display.Javascript at 0x11099d610>"
       ]
      },
      {
       "javascript": [
        "$('div#214fb19d-0068-4535-9ce1-d3993c23b0cd').text(' 30.88 MB/s');"
       ],
       "metadata": {},
       "output_type": "display_data",
       "text": [
        "<IPython.core.display.Javascript at 0x11099d650>"
       ]
      },
      {
       "javascript": [
        "$('div#2f95668c-ada9-40dd-9891-bc0325ea75ed').text(' 59%');"
       ],
       "metadata": {},
       "output_type": "display_data",
       "text": [
        "<IPython.core.display.Javascript at 0x11099d690>"
       ]
      },
      {
       "javascript": [
        "\n",
        "        var $myPB = $(\"div#d281dd52-6c64-48bb-b7ce-35362ea6458f\")\n",
        "        if ($myPB.hasClass('ui-progressbar')) {\n",
        "            $myPB.progressbar('value', 14983168);\n",
        "        } else {\n",
        "            $myPB.progressbar({value: 0, max: 25238326});\n",
        "        }\n",
        "        "
       ],
       "metadata": {},
       "output_type": "display_data",
       "text": [
        "<IPython.core.display.Javascript at 0x11080ff50>"
       ]
      },
      {
       "javascript": [
        "$('div#d88b7e12-09cd-4562-8f07-f0be055f0c51').text('ETA:  0:00:00');"
       ],
       "metadata": {},
       "output_type": "display_data",
       "text": [
        "<IPython.core.display.Javascript at 0x11080fa10>"
       ]
      },
      {
       "javascript": [
        "$('div#214fb19d-0068-4535-9ce1-d3993c23b0cd').text(' 31.22 MB/s');"
       ],
       "metadata": {},
       "output_type": "display_data",
       "text": [
        "<IPython.core.display.Javascript at 0x11080f490>"
       ]
      },
      {
       "javascript": [
        "$('div#2f95668c-ada9-40dd-9891-bc0325ea75ed').text(' 60%');"
       ],
       "metadata": {},
       "output_type": "display_data",
       "text": [
        "<IPython.core.display.Javascript at 0x11080fe90>"
       ]
      },
      {
       "javascript": [
        "\n",
        "        var $myPB = $(\"div#d281dd52-6c64-48bb-b7ce-35362ea6458f\")\n",
        "        if ($myPB.hasClass('ui-progressbar')) {\n",
        "            $myPB.progressbar('value', 15237120);\n",
        "        } else {\n",
        "            $myPB.progressbar({value: 0, max: 25238326});\n",
        "        }\n",
        "        "
       ],
       "metadata": {},
       "output_type": "display_data",
       "text": [
        "<IPython.core.display.Javascript at 0x11080fe50>"
       ]
      },
      {
       "javascript": [
        "$('div#d88b7e12-09cd-4562-8f07-f0be055f0c51').text('ETA:  0:00:00');"
       ],
       "metadata": {},
       "output_type": "display_data",
       "text": [
        "<IPython.core.display.Javascript at 0x11080ff90>"
       ]
      },
      {
       "javascript": [
        "$('div#214fb19d-0068-4535-9ce1-d3993c23b0cd').text(' 31.53 MB/s');"
       ],
       "metadata": {},
       "output_type": "display_data",
       "text": [
        "<IPython.core.display.Javascript at 0x11080fed0>"
       ]
      },
      {
       "javascript": [
        "$('div#2f95668c-ada9-40dd-9891-bc0325ea75ed').text(' 61%');"
       ],
       "metadata": {},
       "output_type": "display_data",
       "text": [
        "<IPython.core.display.Javascript at 0x11080fd90>"
       ]
      },
      {
       "javascript": [
        "\n",
        "        var $myPB = $(\"div#d281dd52-6c64-48bb-b7ce-35362ea6458f\")\n",
        "        if ($myPB.hasClass('ui-progressbar')) {\n",
        "            $myPB.progressbar('value', 15491072);\n",
        "        } else {\n",
        "            $myPB.progressbar({value: 0, max: 25238326});\n",
        "        }\n",
        "        "
       ],
       "metadata": {},
       "output_type": "display_data",
       "text": [
        "<IPython.core.display.Javascript at 0x11080fd50>"
       ]
      },
      {
       "javascript": [
        "$('div#d88b7e12-09cd-4562-8f07-f0be055f0c51').text('ETA:  0:00:00');"
       ],
       "metadata": {},
       "output_type": "display_data",
       "text": [
        "<IPython.core.display.Javascript at 0x11080fd10>"
       ]
      },
      {
       "javascript": [
        "$('div#214fb19d-0068-4535-9ce1-d3993c23b0cd').text(' 31.83 MB/s');"
       ],
       "metadata": {},
       "output_type": "display_data",
       "text": [
        "<IPython.core.display.Javascript at 0x11080fcd0>"
       ]
      },
      {
       "javascript": [
        "$('div#2f95668c-ada9-40dd-9891-bc0325ea75ed').text(' 62%');"
       ],
       "metadata": {},
       "output_type": "display_data",
       "text": [
        "<IPython.core.display.Javascript at 0x11080fc90>"
       ]
      },
      {
       "javascript": [
        "\n",
        "        var $myPB = $(\"div#d281dd52-6c64-48bb-b7ce-35362ea6458f\")\n",
        "        if ($myPB.hasClass('ui-progressbar')) {\n",
        "            $myPB.progressbar('value', 15745024);\n",
        "        } else {\n",
        "            $myPB.progressbar({value: 0, max: 25238326});\n",
        "        }\n",
        "        "
       ],
       "metadata": {},
       "output_type": "display_data",
       "text": [
        "<IPython.core.display.Javascript at 0x11080fc50>"
       ]
      },
      {
       "javascript": [
        "$('div#d88b7e12-09cd-4562-8f07-f0be055f0c51').text('ETA:  0:00:00');"
       ],
       "metadata": {},
       "output_type": "display_data",
       "text": [
        "<IPython.core.display.Javascript at 0x11080fc10>"
       ]
      },
      {
       "javascript": [
        "$('div#214fb19d-0068-4535-9ce1-d3993c23b0cd').text(' 32.14 MB/s');"
       ],
       "metadata": {},
       "output_type": "display_data",
       "text": [
        "<IPython.core.display.Javascript at 0x11080fb90>"
       ]
      },
      {
       "javascript": [
        "$('div#2f95668c-ada9-40dd-9891-bc0325ea75ed').text(' 63%');"
       ],
       "metadata": {},
       "output_type": "display_data",
       "text": [
        "<IPython.core.display.Javascript at 0x11080fbd0>"
       ]
      },
      {
       "javascript": [
        "\n",
        "        var $myPB = $(\"div#d281dd52-6c64-48bb-b7ce-35362ea6458f\")\n",
        "        if ($myPB.hasClass('ui-progressbar')) {\n",
        "            $myPB.progressbar('value', 15998976);\n",
        "        } else {\n",
        "            $myPB.progressbar({value: 0, max: 25238326});\n",
        "        }\n",
        "        "
       ],
       "metadata": {},
       "output_type": "display_data",
       "text": [
        "<IPython.core.display.Javascript at 0x11080f210>"
       ]
      },
      {
       "javascript": [
        "$('div#d88b7e12-09cd-4562-8f07-f0be055f0c51').text('ETA:  0:00:00');"
       ],
       "metadata": {},
       "output_type": "display_data",
       "text": [
        "<IPython.core.display.Javascript at 0x11080fb50>"
       ]
      },
      {
       "javascript": [
        "$('div#214fb19d-0068-4535-9ce1-d3993c23b0cd').text(' 32.42 MB/s');"
       ],
       "metadata": {},
       "output_type": "display_data",
       "text": [
        "<IPython.core.display.Javascript at 0x11080fb10>"
       ]
      },
      {
       "javascript": [
        "$('div#2f95668c-ada9-40dd-9891-bc0325ea75ed').text(' 64%');"
       ],
       "metadata": {},
       "output_type": "display_data",
       "text": [
        "<IPython.core.display.Javascript at 0x11080ffd0>"
       ]
      },
      {
       "javascript": [
        "\n",
        "        var $myPB = $(\"div#d281dd52-6c64-48bb-b7ce-35362ea6458f\")\n",
        "        if ($myPB.hasClass('ui-progressbar')) {\n",
        "            $myPB.progressbar('value', 16252928);\n",
        "        } else {\n",
        "            $myPB.progressbar({value: 0, max: 25238326});\n",
        "        }\n",
        "        "
       ],
       "metadata": {},
       "output_type": "display_data",
       "text": [
        "<IPython.core.display.Javascript at 0x11080f690>"
       ]
      },
      {
       "javascript": [
        "$('div#d88b7e12-09cd-4562-8f07-f0be055f0c51').text('ETA:  0:00:00');"
       ],
       "metadata": {},
       "output_type": "display_data",
       "text": [
        "<IPython.core.display.Javascript at 0x11080f050>"
       ]
      },
      {
       "javascript": [
        "$('div#214fb19d-0068-4535-9ce1-d3993c23b0cd').text(' 32.74 MB/s');"
       ],
       "metadata": {},
       "output_type": "display_data",
       "text": [
        "<IPython.core.display.Javascript at 0x11080f1d0>"
       ]
      },
      {
       "javascript": [
        "$('div#2f95668c-ada9-40dd-9891-bc0325ea75ed').text(' 65%');"
       ],
       "metadata": {},
       "output_type": "display_data",
       "text": [
        "<IPython.core.display.Javascript at 0x11080f4d0>"
       ]
      },
      {
       "javascript": [
        "\n",
        "        var $myPB = $(\"div#d281dd52-6c64-48bb-b7ce-35362ea6458f\")\n",
        "        if ($myPB.hasClass('ui-progressbar')) {\n",
        "            $myPB.progressbar('value', 16506880);\n",
        "        } else {\n",
        "            $myPB.progressbar({value: 0, max: 25238326});\n",
        "        }\n",
        "        "
       ],
       "metadata": {},
       "output_type": "display_data",
       "text": [
        "<IPython.core.display.Javascript at 0x11080f510>"
       ]
      },
      {
       "javascript": [
        "$('div#d88b7e12-09cd-4562-8f07-f0be055f0c51').text('ETA:  0:00:00');"
       ],
       "metadata": {},
       "output_type": "display_data",
       "text": [
        "<IPython.core.display.Javascript at 0x11080f450>"
       ]
      },
      {
       "javascript": [
        "$('div#214fb19d-0068-4535-9ce1-d3993c23b0cd').text(' 33.04 MB/s');"
       ],
       "metadata": {},
       "output_type": "display_data",
       "text": [
        "<IPython.core.display.Javascript at 0x11080f550>"
       ]
      },
      {
       "javascript": [
        "$('div#2f95668c-ada9-40dd-9891-bc0325ea75ed').text(' 66%');"
       ],
       "metadata": {},
       "output_type": "display_data",
       "text": [
        "<IPython.core.display.Javascript at 0x11080f5d0>"
       ]
      },
      {
       "javascript": [
        "\n",
        "        var $myPB = $(\"div#d281dd52-6c64-48bb-b7ce-35362ea6458f\")\n",
        "        if ($myPB.hasClass('ui-progressbar')) {\n",
        "            $myPB.progressbar('value', 16760832);\n",
        "        } else {\n",
        "            $myPB.progressbar({value: 0, max: 25238326});\n",
        "        }\n",
        "        "
       ],
       "metadata": {},
       "output_type": "display_data",
       "text": [
        "<IPython.core.display.Javascript at 0x11080f610>"
       ]
      },
      {
       "javascript": [
        "$('div#d88b7e12-09cd-4562-8f07-f0be055f0c51').text('ETA:  0:00:00');"
       ],
       "metadata": {},
       "output_type": "display_data",
       "text": [
        "<IPython.core.display.Javascript at 0x11080f650>"
       ]
      },
      {
       "javascript": [
        "$('div#214fb19d-0068-4535-9ce1-d3993c23b0cd').text(' 33.33 MB/s');"
       ],
       "metadata": {},
       "output_type": "display_data",
       "text": [
        "<IPython.core.display.Javascript at 0x11080f6d0>"
       ]
      },
      {
       "javascript": [
        "$('div#2f95668c-ada9-40dd-9891-bc0325ea75ed').text(' 67%');"
       ],
       "metadata": {},
       "output_type": "display_data",
       "text": [
        "<IPython.core.display.Javascript at 0x11080f710>"
       ]
      },
      {
       "javascript": [
        "\n",
        "        var $myPB = $(\"div#d281dd52-6c64-48bb-b7ce-35362ea6458f\")\n",
        "        if ($myPB.hasClass('ui-progressbar')) {\n",
        "            $myPB.progressbar('value', 17014784);\n",
        "        } else {\n",
        "            $myPB.progressbar({value: 0, max: 25238326});\n",
        "        }\n",
        "        "
       ],
       "metadata": {},
       "output_type": "display_data",
       "text": [
        "<IPython.core.display.Javascript at 0x11080f750>"
       ]
      },
      {
       "javascript": [
        "$('div#d88b7e12-09cd-4562-8f07-f0be055f0c51').text('ETA:  0:00:00');"
       ],
       "metadata": {},
       "output_type": "display_data",
       "text": [
        "<IPython.core.display.Javascript at 0x11080f790>"
       ]
      },
      {
       "javascript": [
        "$('div#214fb19d-0068-4535-9ce1-d3993c23b0cd').text(' 33.44 MB/s');"
       ],
       "metadata": {},
       "output_type": "display_data",
       "text": [
        "<IPython.core.display.Javascript at 0x11080f7d0>"
       ]
      },
      {
       "javascript": [
        "$('div#2f95668c-ada9-40dd-9891-bc0325ea75ed').text(' 68%');"
       ],
       "metadata": {},
       "output_type": "display_data",
       "text": [
        "<IPython.core.display.Javascript at 0x11080f810>"
       ]
      },
      {
       "javascript": [
        "\n",
        "        var $myPB = $(\"div#d281dd52-6c64-48bb-b7ce-35362ea6458f\")\n",
        "        if ($myPB.hasClass('ui-progressbar')) {\n",
        "            $myPB.progressbar('value', 17268736);\n",
        "        } else {\n",
        "            $myPB.progressbar({value: 0, max: 25238326});\n",
        "        }\n",
        "        "
       ],
       "metadata": {},
       "output_type": "display_data",
       "text": [
        "<IPython.core.display.Javascript at 0x11080f850>"
       ]
      },
      {
       "javascript": [
        "$('div#d88b7e12-09cd-4562-8f07-f0be055f0c51').text('ETA:  0:00:00');"
       ],
       "metadata": {},
       "output_type": "display_data",
       "text": [
        "<IPython.core.display.Javascript at 0x11080f890>"
       ]
      },
      {
       "javascript": [
        "$('div#214fb19d-0068-4535-9ce1-d3993c23b0cd').text(' 33.61 MB/s');"
       ],
       "metadata": {},
       "output_type": "display_data",
       "text": [
        "<IPython.core.display.Javascript at 0x11080f8d0>"
       ]
      },
      {
       "javascript": [
        "$('div#2f95668c-ada9-40dd-9891-bc0325ea75ed').text(' 69%');"
       ],
       "metadata": {},
       "output_type": "display_data",
       "text": [
        "<IPython.core.display.Javascript at 0x11080f910>"
       ]
      },
      {
       "javascript": [
        "\n",
        "        var $myPB = $(\"div#d281dd52-6c64-48bb-b7ce-35362ea6458f\")\n",
        "        if ($myPB.hasClass('ui-progressbar')) {\n",
        "            $myPB.progressbar('value', 17522688);\n",
        "        } else {\n",
        "            $myPB.progressbar({value: 0, max: 25238326});\n",
        "        }\n",
        "        "
       ],
       "metadata": {},
       "output_type": "display_data",
       "text": [
        "<IPython.core.display.Javascript at 0x11080f950>"
       ]
      },
      {
       "javascript": [
        "$('div#d88b7e12-09cd-4562-8f07-f0be055f0c51').text('ETA:  0:00:00');"
       ],
       "metadata": {},
       "output_type": "display_data",
       "text": [
        "<IPython.core.display.Javascript at 0x11080f990>"
       ]
      },
      {
       "javascript": [
        "$('div#214fb19d-0068-4535-9ce1-d3993c23b0cd').text(' 33.86 MB/s');"
       ],
       "metadata": {},
       "output_type": "display_data",
       "text": [
        "<IPython.core.display.Javascript at 0x11080f9d0>"
       ]
      },
      {
       "javascript": [
        "$('div#2f95668c-ada9-40dd-9891-bc0325ea75ed').text(' 70%');"
       ],
       "metadata": {},
       "output_type": "display_data",
       "text": [
        "<IPython.core.display.Javascript at 0x11080fa50>"
       ]
      },
      {
       "javascript": [
        "\n",
        "        var $myPB = $(\"div#d281dd52-6c64-48bb-b7ce-35362ea6458f\")\n",
        "        if ($myPB.hasClass('ui-progressbar')) {\n",
        "            $myPB.progressbar('value', 17776640);\n",
        "        } else {\n",
        "            $myPB.progressbar({value: 0, max: 25238326});\n",
        "        }\n",
        "        "
       ],
       "metadata": {},
       "output_type": "display_data",
       "text": [
        "<IPython.core.display.Javascript at 0x11080fa90>"
       ]
      },
      {
       "javascript": [
        "$('div#d88b7e12-09cd-4562-8f07-f0be055f0c51').text('ETA:  0:00:00');"
       ],
       "metadata": {},
       "output_type": "display_data",
       "text": [
        "<IPython.core.display.Javascript at 0x11080f410>"
       ]
      },
      {
       "javascript": [
        "$('div#214fb19d-0068-4535-9ce1-d3993c23b0cd').text(' 34.13 MB/s');"
       ],
       "metadata": {},
       "output_type": "display_data",
       "text": [
        "<IPython.core.display.Javascript at 0x11080f190>"
       ]
      },
      {
       "javascript": [
        "$('div#2f95668c-ada9-40dd-9891-bc0325ea75ed').text(' 71%');"
       ],
       "metadata": {},
       "output_type": "display_data",
       "text": [
        "<IPython.core.display.Javascript at 0x11080fad0>"
       ]
      },
      {
       "javascript": [
        "\n",
        "        var $myPB = $(\"div#d281dd52-6c64-48bb-b7ce-35362ea6458f\")\n",
        "        if ($myPB.hasClass('ui-progressbar')) {\n",
        "            $myPB.progressbar('value', 18030592);\n",
        "        } else {\n",
        "            $myPB.progressbar({value: 0, max: 25238326});\n",
        "        }\n",
        "        "
       ],
       "metadata": {},
       "output_type": "display_data",
       "text": [
        "<IPython.core.display.Javascript at 0x11080fe10>"
       ]
      },
      {
       "javascript": [
        "$('div#d88b7e12-09cd-4562-8f07-f0be055f0c51').text('ETA:  0:00:00');"
       ],
       "metadata": {},
       "output_type": "display_data",
       "text": [
        "<IPython.core.display.Javascript at 0x11080fdd0>"
       ]
      },
      {
       "javascript": [
        "$('div#214fb19d-0068-4535-9ce1-d3993c23b0cd').text(' 34.39 MB/s');"
       ],
       "metadata": {},
       "output_type": "display_data",
       "text": [
        "<IPython.core.display.Javascript at 0x110801f10>"
       ]
      },
      {
       "javascript": [
        "$('div#2f95668c-ada9-40dd-9891-bc0325ea75ed').text(' 72%');"
       ],
       "metadata": {},
       "output_type": "display_data",
       "text": [
        "<IPython.core.display.Javascript at 0x110801f50>"
       ]
      },
      {
       "javascript": [
        "\n",
        "        var $myPB = $(\"div#d281dd52-6c64-48bb-b7ce-35362ea6458f\")\n",
        "        if ($myPB.hasClass('ui-progressbar')) {\n",
        "            $myPB.progressbar('value', 18284544);\n",
        "        } else {\n",
        "            $myPB.progressbar({value: 0, max: 25238326});\n",
        "        }\n",
        "        "
       ],
       "metadata": {},
       "output_type": "display_data",
       "text": [
        "<IPython.core.display.Javascript at 0x110801fd0>"
       ]
      },
      {
       "javascript": [
        "$('div#d88b7e12-09cd-4562-8f07-f0be055f0c51').text('ETA:  0:00:00');"
       ],
       "metadata": {},
       "output_type": "display_data",
       "text": [
        "<IPython.core.display.Javascript at 0x110801ed0>"
       ]
      },
      {
       "javascript": [
        "$('div#214fb19d-0068-4535-9ce1-d3993c23b0cd').text(' 34.67 MB/s');"
       ],
       "metadata": {},
       "output_type": "display_data",
       "text": [
        "<IPython.core.display.Javascript at 0x110801e90>"
       ]
      },
      {
       "javascript": [
        "$('div#2f95668c-ada9-40dd-9891-bc0325ea75ed').text(' 73%');"
       ],
       "metadata": {},
       "output_type": "display_data",
       "text": [
        "<IPython.core.display.Javascript at 0x110801f90>"
       ]
      },
      {
       "javascript": [
        "\n",
        "        var $myPB = $(\"div#d281dd52-6c64-48bb-b7ce-35362ea6458f\")\n",
        "        if ($myPB.hasClass('ui-progressbar')) {\n",
        "            $myPB.progressbar('value', 18538496);\n",
        "        } else {\n",
        "            $myPB.progressbar({value: 0, max: 25238326});\n",
        "        }\n",
        "        "
       ],
       "metadata": {},
       "output_type": "display_data",
       "text": [
        "<IPython.core.display.Javascript at 0x110801cd0>"
       ]
      },
      {
       "javascript": [
        "$('div#d88b7e12-09cd-4562-8f07-f0be055f0c51').text('ETA:  0:00:00');"
       ],
       "metadata": {},
       "output_type": "display_data",
       "text": [
        "<IPython.core.display.Javascript at 0x11093d050>"
       ]
      },
      {
       "javascript": [
        "$('div#214fb19d-0068-4535-9ce1-d3993c23b0cd').text(' 34.94 MB/s');"
       ],
       "metadata": {},
       "output_type": "display_data",
       "text": [
        "<IPython.core.display.Javascript at 0x11093d090>"
       ]
      },
      {
       "javascript": [
        "$('div#2f95668c-ada9-40dd-9891-bc0325ea75ed').text(' 74%');"
       ],
       "metadata": {},
       "output_type": "display_data",
       "text": [
        "<IPython.core.display.Javascript at 0x11093d0d0>"
       ]
      },
      {
       "javascript": [
        "\n",
        "        var $myPB = $(\"div#d281dd52-6c64-48bb-b7ce-35362ea6458f\")\n",
        "        if ($myPB.hasClass('ui-progressbar')) {\n",
        "            $myPB.progressbar('value', 18792448);\n",
        "        } else {\n",
        "            $myPB.progressbar({value: 0, max: 25238326});\n",
        "        }\n",
        "        "
       ],
       "metadata": {},
       "output_type": "display_data",
       "text": [
        "<IPython.core.display.Javascript at 0x11093d110>"
       ]
      },
      {
       "javascript": [
        "$('div#d88b7e12-09cd-4562-8f07-f0be055f0c51').text('ETA:  0:00:00');"
       ],
       "metadata": {},
       "output_type": "display_data",
       "text": [
        "<IPython.core.display.Javascript at 0x11093d190>"
       ]
      },
      {
       "javascript": [
        "$('div#214fb19d-0068-4535-9ce1-d3993c23b0cd').text(' 35.22 MB/s');"
       ],
       "metadata": {},
       "output_type": "display_data",
       "text": [
        "<IPython.core.display.Javascript at 0x11093d1d0>"
       ]
      },
      {
       "javascript": [
        "$('div#2f95668c-ada9-40dd-9891-bc0325ea75ed').text(' 75%');"
       ],
       "metadata": {},
       "output_type": "display_data",
       "text": [
        "<IPython.core.display.Javascript at 0x11093d210>"
       ]
      },
      {
       "javascript": [
        "\n",
        "        var $myPB = $(\"div#d281dd52-6c64-48bb-b7ce-35362ea6458f\")\n",
        "        if ($myPB.hasClass('ui-progressbar')) {\n",
        "            $myPB.progressbar('value', 19046400);\n",
        "        } else {\n",
        "            $myPB.progressbar({value: 0, max: 25238326});\n",
        "        }\n",
        "        "
       ],
       "metadata": {},
       "output_type": "display_data",
       "text": [
        "<IPython.core.display.Javascript at 0x11093d250>"
       ]
      },
      {
       "javascript": [
        "$('div#d88b7e12-09cd-4562-8f07-f0be055f0c51').text('ETA:  0:00:00');"
       ],
       "metadata": {},
       "output_type": "display_data",
       "text": [
        "<IPython.core.display.Javascript at 0x11093d290>"
       ]
      },
      {
       "javascript": [
        "$('div#214fb19d-0068-4535-9ce1-d3993c23b0cd').text(' 31.82 MB/s');"
       ],
       "metadata": {},
       "output_type": "display_data",
       "text": [
        "<IPython.core.display.Javascript at 0x11093d2d0>"
       ]
      },
      {
       "javascript": [
        "$('div#2f95668c-ada9-40dd-9891-bc0325ea75ed').text(' 76%');"
       ],
       "metadata": {},
       "output_type": "display_data",
       "text": [
        "<IPython.core.display.Javascript at 0x11093d310>"
       ]
      },
      {
       "javascript": [
        "\n",
        "        var $myPB = $(\"div#d281dd52-6c64-48bb-b7ce-35362ea6458f\")\n",
        "        if ($myPB.hasClass('ui-progressbar')) {\n",
        "            $myPB.progressbar('value', 19300352);\n",
        "        } else {\n",
        "            $myPB.progressbar({value: 0, max: 25238326});\n",
        "        }\n",
        "        "
       ],
       "metadata": {},
       "output_type": "display_data",
       "text": [
        "<IPython.core.display.Javascript at 0x11093d350>"
       ]
      },
      {
       "javascript": [
        "$('div#d88b7e12-09cd-4562-8f07-f0be055f0c51').text('ETA:  0:00:00');"
       ],
       "metadata": {},
       "output_type": "display_data",
       "text": [
        "<IPython.core.display.Javascript at 0x11093d390>"
       ]
      },
      {
       "javascript": [
        "$('div#214fb19d-0068-4535-9ce1-d3993c23b0cd').text(' 32.09 MB/s');"
       ],
       "metadata": {},
       "output_type": "display_data",
       "text": [
        "<IPython.core.display.Javascript at 0x11093d3d0>"
       ]
      },
      {
       "javascript": [
        "$('div#2f95668c-ada9-40dd-9891-bc0325ea75ed').text(' 77%');"
       ],
       "metadata": {},
       "output_type": "display_data",
       "text": [
        "<IPython.core.display.Javascript at 0x11093d410>"
       ]
      },
      {
       "javascript": [
        "\n",
        "        var $myPB = $(\"div#d281dd52-6c64-48bb-b7ce-35362ea6458f\")\n",
        "        if ($myPB.hasClass('ui-progressbar')) {\n",
        "            $myPB.progressbar('value', 19554304);\n",
        "        } else {\n",
        "            $myPB.progressbar({value: 0, max: 25238326});\n",
        "        }\n",
        "        "
       ],
       "metadata": {},
       "output_type": "display_data",
       "text": [
        "<IPython.core.display.Javascript at 0x11093d450>"
       ]
      },
      {
       "javascript": [
        "$('div#d88b7e12-09cd-4562-8f07-f0be055f0c51').text('ETA:  0:00:00');"
       ],
       "metadata": {},
       "output_type": "display_data",
       "text": [
        "<IPython.core.display.Javascript at 0x11093d490>"
       ]
      },
      {
       "javascript": [
        "$('div#214fb19d-0068-4535-9ce1-d3993c23b0cd').text(' 32.36 MB/s');"
       ],
       "metadata": {},
       "output_type": "display_data",
       "text": [
        "<IPython.core.display.Javascript at 0x11093d4d0>"
       ]
      },
      {
       "javascript": [
        "$('div#2f95668c-ada9-40dd-9891-bc0325ea75ed').text(' 78%');"
       ],
       "metadata": {},
       "output_type": "display_data",
       "text": [
        "<IPython.core.display.Javascript at 0x11093d510>"
       ]
      },
      {
       "javascript": [
        "\n",
        "        var $myPB = $(\"div#d281dd52-6c64-48bb-b7ce-35362ea6458f\")\n",
        "        if ($myPB.hasClass('ui-progressbar')) {\n",
        "            $myPB.progressbar('value', 19808256);\n",
        "        } else {\n",
        "            $myPB.progressbar({value: 0, max: 25238326});\n",
        "        }\n",
        "        "
       ],
       "metadata": {},
       "output_type": "display_data",
       "text": [
        "<IPython.core.display.Javascript at 0x11093d550>"
       ]
      },
      {
       "javascript": [
        "$('div#d88b7e12-09cd-4562-8f07-f0be055f0c51').text('ETA:  0:00:00');"
       ],
       "metadata": {},
       "output_type": "display_data",
       "text": [
        "<IPython.core.display.Javascript at 0x11093d590>"
       ]
      },
      {
       "javascript": [
        "$('div#214fb19d-0068-4535-9ce1-d3993c23b0cd').text(' 32.63 MB/s');"
       ],
       "metadata": {},
       "output_type": "display_data",
       "text": [
        "<IPython.core.display.Javascript at 0x11093d5d0>"
       ]
      },
      {
       "javascript": [
        "$('div#2f95668c-ada9-40dd-9891-bc0325ea75ed').text(' 79%');"
       ],
       "metadata": {},
       "output_type": "display_data",
       "text": [
        "<IPython.core.display.Javascript at 0x11093d610>"
       ]
      },
      {
       "javascript": [
        "\n",
        "        var $myPB = $(\"div#d281dd52-6c64-48bb-b7ce-35362ea6458f\")\n",
        "        if ($myPB.hasClass('ui-progressbar')) {\n",
        "            $myPB.progressbar('value', 20062208);\n",
        "        } else {\n",
        "            $myPB.progressbar({value: 0, max: 25238326});\n",
        "        }\n",
        "        "
       ],
       "metadata": {},
       "output_type": "display_data",
       "text": [
        "<IPython.core.display.Javascript at 0x11093d650>"
       ]
      },
      {
       "javascript": [
        "$('div#d88b7e12-09cd-4562-8f07-f0be055f0c51').text('ETA:  0:00:00');"
       ],
       "metadata": {},
       "output_type": "display_data",
       "text": [
        "<IPython.core.display.Javascript at 0x11093d690>"
       ]
      },
      {
       "javascript": [
        "$('div#214fb19d-0068-4535-9ce1-d3993c23b0cd').text(' 32.88 MB/s');"
       ],
       "metadata": {},
       "output_type": "display_data",
       "text": [
        "<IPython.core.display.Javascript at 0x110801cd0>"
       ]
      },
      {
       "javascript": [
        "$('div#2f95668c-ada9-40dd-9891-bc0325ea75ed').text(' 80%');"
       ],
       "metadata": {},
       "output_type": "display_data",
       "text": [
        "<IPython.core.display.Javascript at 0x110801e90>"
       ]
      },
      {
       "javascript": [
        "\n",
        "        var $myPB = $(\"div#d281dd52-6c64-48bb-b7ce-35362ea6458f\")\n",
        "        if ($myPB.hasClass('ui-progressbar')) {\n",
        "            $myPB.progressbar('value', 20316160);\n",
        "        } else {\n",
        "            $myPB.progressbar({value: 0, max: 25238326});\n",
        "        }\n",
        "        "
       ],
       "metadata": {},
       "output_type": "display_data",
       "text": [
        "<IPython.core.display.Javascript at 0x110801ed0>"
       ]
      },
      {
       "javascript": [
        "$('div#d88b7e12-09cd-4562-8f07-f0be055f0c51').text('ETA:  0:00:00');"
       ],
       "metadata": {},
       "output_type": "display_data",
       "text": [
        "<IPython.core.display.Javascript at 0x110801f50>"
       ]
      },
      {
       "javascript": [
        "$('div#214fb19d-0068-4535-9ce1-d3993c23b0cd').text(' 33.14 MB/s');"
       ],
       "metadata": {},
       "output_type": "display_data",
       "text": [
        "<IPython.core.display.Javascript at 0x110801fd0>"
       ]
      },
      {
       "javascript": [
        "$('div#2f95668c-ada9-40dd-9891-bc0325ea75ed').text(' 81%');"
       ],
       "metadata": {},
       "output_type": "display_data",
       "text": [
        "<IPython.core.display.Javascript at 0x110801f10>"
       ]
      },
      {
       "javascript": [
        "\n",
        "        var $myPB = $(\"div#d281dd52-6c64-48bb-b7ce-35362ea6458f\")\n",
        "        if ($myPB.hasClass('ui-progressbar')) {\n",
        "            $myPB.progressbar('value', 20570112);\n",
        "        } else {\n",
        "            $myPB.progressbar({value: 0, max: 25238326});\n",
        "        }\n",
        "        "
       ],
       "metadata": {},
       "output_type": "display_data",
       "text": [
        "<IPython.core.display.Javascript at 0x11080fdd0>"
       ]
      },
      {
       "javascript": [
        "$('div#d88b7e12-09cd-4562-8f07-f0be055f0c51').text('ETA:  0:00:00');"
       ],
       "metadata": {},
       "output_type": "display_data",
       "text": [
        "<IPython.core.display.Javascript at 0x11080fe10>"
       ]
      },
      {
       "javascript": [
        "$('div#214fb19d-0068-4535-9ce1-d3993c23b0cd').text(' 33.39 MB/s');"
       ],
       "metadata": {},
       "output_type": "display_data",
       "text": [
        "<IPython.core.display.Javascript at 0x11080fad0>"
       ]
      },
      {
       "javascript": [
        "$('div#2f95668c-ada9-40dd-9891-bc0325ea75ed').text(' 82%');"
       ],
       "metadata": {},
       "output_type": "display_data",
       "text": [
        "<IPython.core.display.Javascript at 0x11080f190>"
       ]
      },
      {
       "javascript": [
        "\n",
        "        var $myPB = $(\"div#d281dd52-6c64-48bb-b7ce-35362ea6458f\")\n",
        "        if ($myPB.hasClass('ui-progressbar')) {\n",
        "            $myPB.progressbar('value', 20824064);\n",
        "        } else {\n",
        "            $myPB.progressbar({value: 0, max: 25238326});\n",
        "        }\n",
        "        "
       ],
       "metadata": {},
       "output_type": "display_data",
       "text": [
        "<IPython.core.display.Javascript at 0x11080f410>"
       ]
      },
      {
       "javascript": [
        "$('div#d88b7e12-09cd-4562-8f07-f0be055f0c51').text('ETA:  0:00:00');"
       ],
       "metadata": {},
       "output_type": "display_data",
       "text": [
        "<IPython.core.display.Javascript at 0x11080fa90>"
       ]
      },
      {
       "javascript": [
        "$('div#214fb19d-0068-4535-9ce1-d3993c23b0cd').text(' 33.62 MB/s');"
       ],
       "metadata": {},
       "output_type": "display_data",
       "text": [
        "<IPython.core.display.Javascript at 0x11080fa50>"
       ]
      },
      {
       "javascript": [
        "$('div#2f95668c-ada9-40dd-9891-bc0325ea75ed').text(' 83%');"
       ],
       "metadata": {},
       "output_type": "display_data",
       "text": [
        "<IPython.core.display.Javascript at 0x11080f9d0>"
       ]
      },
      {
       "javascript": [
        "\n",
        "        var $myPB = $(\"div#d281dd52-6c64-48bb-b7ce-35362ea6458f\")\n",
        "        if ($myPB.hasClass('ui-progressbar')) {\n",
        "            $myPB.progressbar('value', 21078016);\n",
        "        } else {\n",
        "            $myPB.progressbar({value: 0, max: 25238326});\n",
        "        }\n",
        "        "
       ],
       "metadata": {},
       "output_type": "display_data",
       "text": [
        "<IPython.core.display.Javascript at 0x11080f990>"
       ]
      },
      {
       "javascript": [
        "$('div#d88b7e12-09cd-4562-8f07-f0be055f0c51').text('ETA:  0:00:00');"
       ],
       "metadata": {},
       "output_type": "display_data",
       "text": [
        "<IPython.core.display.Javascript at 0x11080f950>"
       ]
      },
      {
       "javascript": [
        "$('div#214fb19d-0068-4535-9ce1-d3993c23b0cd').text(' 33.86 MB/s');"
       ],
       "metadata": {},
       "output_type": "display_data",
       "text": [
        "<IPython.core.display.Javascript at 0x11080f910>"
       ]
      },
      {
       "javascript": [
        "$('div#2f95668c-ada9-40dd-9891-bc0325ea75ed').text(' 84%');"
       ],
       "metadata": {},
       "output_type": "display_data",
       "text": [
        "<IPython.core.display.Javascript at 0x11080f8d0>"
       ]
      },
      {
       "javascript": [
        "\n",
        "        var $myPB = $(\"div#d281dd52-6c64-48bb-b7ce-35362ea6458f\")\n",
        "        if ($myPB.hasClass('ui-progressbar')) {\n",
        "            $myPB.progressbar('value', 21331968);\n",
        "        } else {\n",
        "            $myPB.progressbar({value: 0, max: 25238326});\n",
        "        }\n",
        "        "
       ],
       "metadata": {},
       "output_type": "display_data",
       "text": [
        "<IPython.core.display.Javascript at 0x11080f890>"
       ]
      },
      {
       "javascript": [
        "$('div#d88b7e12-09cd-4562-8f07-f0be055f0c51').text('ETA:  0:00:00');"
       ],
       "metadata": {},
       "output_type": "display_data",
       "text": [
        "<IPython.core.display.Javascript at 0x11080f850>"
       ]
      },
      {
       "javascript": [
        "$('div#214fb19d-0068-4535-9ce1-d3993c23b0cd').text(' 34.11 MB/s');"
       ],
       "metadata": {},
       "output_type": "display_data",
       "text": [
        "<IPython.core.display.Javascript at 0x11080f810>"
       ]
      },
      {
       "javascript": [
        "$('div#2f95668c-ada9-40dd-9891-bc0325ea75ed').text(' 85%');"
       ],
       "metadata": {},
       "output_type": "display_data",
       "text": [
        "<IPython.core.display.Javascript at 0x11080f7d0>"
       ]
      },
      {
       "javascript": [
        "\n",
        "        var $myPB = $(\"div#d281dd52-6c64-48bb-b7ce-35362ea6458f\")\n",
        "        if ($myPB.hasClass('ui-progressbar')) {\n",
        "            $myPB.progressbar('value', 21585920);\n",
        "        } else {\n",
        "            $myPB.progressbar({value: 0, max: 25238326});\n",
        "        }\n",
        "        "
       ],
       "metadata": {},
       "output_type": "display_data",
       "text": [
        "<IPython.core.display.Javascript at 0x11080f790>"
       ]
      },
      {
       "javascript": [
        "$('div#d88b7e12-09cd-4562-8f07-f0be055f0c51').text('ETA:  0:00:00');"
       ],
       "metadata": {},
       "output_type": "display_data",
       "text": [
        "<IPython.core.display.Javascript at 0x11080f750>"
       ]
      },
      {
       "javascript": [
        "$('div#214fb19d-0068-4535-9ce1-d3993c23b0cd').text(' 34.35 MB/s');"
       ],
       "metadata": {},
       "output_type": "display_data",
       "text": [
        "<IPython.core.display.Javascript at 0x11080f710>"
       ]
      },
      {
       "javascript": [
        "$('div#2f95668c-ada9-40dd-9891-bc0325ea75ed').text(' 86%');"
       ],
       "metadata": {},
       "output_type": "display_data",
       "text": [
        "<IPython.core.display.Javascript at 0x11080f6d0>"
       ]
      },
      {
       "javascript": [
        "\n",
        "        var $myPB = $(\"div#d281dd52-6c64-48bb-b7ce-35362ea6458f\")\n",
        "        if ($myPB.hasClass('ui-progressbar')) {\n",
        "            $myPB.progressbar('value', 21839872);\n",
        "        } else {\n",
        "            $myPB.progressbar({value: 0, max: 25238326});\n",
        "        }\n",
        "        "
       ],
       "metadata": {},
       "output_type": "display_data",
       "text": [
        "<IPython.core.display.Javascript at 0x11080f650>"
       ]
      },
      {
       "javascript": [
        "$('div#d88b7e12-09cd-4562-8f07-f0be055f0c51').text('ETA:  0:00:00');"
       ],
       "metadata": {},
       "output_type": "display_data",
       "text": [
        "<IPython.core.display.Javascript at 0x11080f610>"
       ]
      },
      {
       "javascript": [
        "$('div#214fb19d-0068-4535-9ce1-d3993c23b0cd').text(' 34.59 MB/s');"
       ],
       "metadata": {},
       "output_type": "display_data",
       "text": [
        "<IPython.core.display.Javascript at 0x11080f5d0>"
       ]
      },
      {
       "javascript": [
        "$('div#2f95668c-ada9-40dd-9891-bc0325ea75ed').text(' 87%');"
       ],
       "metadata": {},
       "output_type": "display_data",
       "text": [
        "<IPython.core.display.Javascript at 0x11080f550>"
       ]
      },
      {
       "javascript": [
        "\n",
        "        var $myPB = $(\"div#d281dd52-6c64-48bb-b7ce-35362ea6458f\")\n",
        "        if ($myPB.hasClass('ui-progressbar')) {\n",
        "            $myPB.progressbar('value', 22093824);\n",
        "        } else {\n",
        "            $myPB.progressbar({value: 0, max: 25238326});\n",
        "        }\n",
        "        "
       ],
       "metadata": {},
       "output_type": "display_data",
       "text": [
        "<IPython.core.display.Javascript at 0x11080f450>"
       ]
      },
      {
       "javascript": [
        "$('div#d88b7e12-09cd-4562-8f07-f0be055f0c51').text('ETA:  0:00:00');"
       ],
       "metadata": {},
       "output_type": "display_data",
       "text": [
        "<IPython.core.display.Javascript at 0x11080f510>"
       ]
      },
      {
       "javascript": [
        "$('div#214fb19d-0068-4535-9ce1-d3993c23b0cd').text(' 34.83 MB/s');"
       ],
       "metadata": {},
       "output_type": "display_data",
       "text": [
        "<IPython.core.display.Javascript at 0x11080f4d0>"
       ]
      },
      {
       "javascript": [
        "$('div#2f95668c-ada9-40dd-9891-bc0325ea75ed').text(' 88%');"
       ],
       "metadata": {},
       "output_type": "display_data",
       "text": [
        "<IPython.core.display.Javascript at 0x11080f1d0>"
       ]
      },
      {
       "javascript": [
        "\n",
        "        var $myPB = $(\"div#d281dd52-6c64-48bb-b7ce-35362ea6458f\")\n",
        "        if ($myPB.hasClass('ui-progressbar')) {\n",
        "            $myPB.progressbar('value', 22347776);\n",
        "        } else {\n",
        "            $myPB.progressbar({value: 0, max: 25238326});\n",
        "        }\n",
        "        "
       ],
       "metadata": {},
       "output_type": "display_data",
       "text": [
        "<IPython.core.display.Javascript at 0x11080f050>"
       ]
      },
      {
       "javascript": [
        "$('div#d88b7e12-09cd-4562-8f07-f0be055f0c51').text('ETA:  0:00:00');"
       ],
       "metadata": {},
       "output_type": "display_data",
       "text": [
        "<IPython.core.display.Javascript at 0x11080f690>"
       ]
      },
      {
       "javascript": [
        "$('div#214fb19d-0068-4535-9ce1-d3993c23b0cd').text(' 35.08 MB/s');"
       ],
       "metadata": {},
       "output_type": "display_data",
       "text": [
        "<IPython.core.display.Javascript at 0x11080ffd0>"
       ]
      },
      {
       "javascript": [
        "$('div#2f95668c-ada9-40dd-9891-bc0325ea75ed').text(' 89%');"
       ],
       "metadata": {},
       "output_type": "display_data",
       "text": [
        "<IPython.core.display.Javascript at 0x11080fb10>"
       ]
      },
      {
       "javascript": [
        "\n",
        "        var $myPB = $(\"div#d281dd52-6c64-48bb-b7ce-35362ea6458f\")\n",
        "        if ($myPB.hasClass('ui-progressbar')) {\n",
        "            $myPB.progressbar('value', 22601728);\n",
        "        } else {\n",
        "            $myPB.progressbar({value: 0, max: 25238326});\n",
        "        }\n",
        "        "
       ],
       "metadata": {},
       "output_type": "display_data",
       "text": [
        "<IPython.core.display.Javascript at 0x11080fb50>"
       ]
      },
      {
       "javascript": [
        "$('div#d88b7e12-09cd-4562-8f07-f0be055f0c51').text('ETA:  0:00:00');"
       ],
       "metadata": {},
       "output_type": "display_data",
       "text": [
        "<IPython.core.display.Javascript at 0x11080f210>"
       ]
      },
      {
       "javascript": [
        "$('div#214fb19d-0068-4535-9ce1-d3993c23b0cd').text(' 35.30 MB/s');"
       ],
       "metadata": {},
       "output_type": "display_data",
       "text": [
        "<IPython.core.display.Javascript at 0x11080fbd0>"
       ]
      },
      {
       "javascript": [
        "$('div#2f95668c-ada9-40dd-9891-bc0325ea75ed').text(' 90%');"
       ],
       "metadata": {},
       "output_type": "display_data",
       "text": [
        "<IPython.core.display.Javascript at 0x11080fb90>"
       ]
      },
      {
       "javascript": [
        "\n",
        "        var $myPB = $(\"div#d281dd52-6c64-48bb-b7ce-35362ea6458f\")\n",
        "        if ($myPB.hasClass('ui-progressbar')) {\n",
        "            $myPB.progressbar('value', 22855680);\n",
        "        } else {\n",
        "            $myPB.progressbar({value: 0, max: 25238326});\n",
        "        }\n",
        "        "
       ],
       "metadata": {},
       "output_type": "display_data",
       "text": [
        "<IPython.core.display.Javascript at 0x11080fc10>"
       ]
      },
      {
       "javascript": [
        "$('div#d88b7e12-09cd-4562-8f07-f0be055f0c51').text('ETA:  0:00:00');"
       ],
       "metadata": {},
       "output_type": "display_data",
       "text": [
        "<IPython.core.display.Javascript at 0x11080fc50>"
       ]
      },
      {
       "javascript": [
        "$('div#214fb19d-0068-4535-9ce1-d3993c23b0cd').text(' 35.51 MB/s');"
       ],
       "metadata": {},
       "output_type": "display_data",
       "text": [
        "<IPython.core.display.Javascript at 0x11080fc90>"
       ]
      },
      {
       "javascript": [
        "$('div#2f95668c-ada9-40dd-9891-bc0325ea75ed').text(' 91%');"
       ],
       "metadata": {},
       "output_type": "display_data",
       "text": [
        "<IPython.core.display.Javascript at 0x11080fcd0>"
       ]
      },
      {
       "javascript": [
        "\n",
        "        var $myPB = $(\"div#d281dd52-6c64-48bb-b7ce-35362ea6458f\")\n",
        "        if ($myPB.hasClass('ui-progressbar')) {\n",
        "            $myPB.progressbar('value', 23109632);\n",
        "        } else {\n",
        "            $myPB.progressbar({value: 0, max: 25238326});\n",
        "        }\n",
        "        "
       ],
       "metadata": {},
       "output_type": "display_data",
       "text": [
        "<IPython.core.display.Javascript at 0x11080fd10>"
       ]
      },
      {
       "javascript": [
        "$('div#d88b7e12-09cd-4562-8f07-f0be055f0c51').text('ETA:  0:00:00');"
       ],
       "metadata": {},
       "output_type": "display_data",
       "text": [
        "<IPython.core.display.Javascript at 0x11080fd50>"
       ]
      },
      {
       "javascript": [
        "$('div#214fb19d-0068-4535-9ce1-d3993c23b0cd').text(' 35.72 MB/s');"
       ],
       "metadata": {},
       "output_type": "display_data",
       "text": [
        "<IPython.core.display.Javascript at 0x11080fd90>"
       ]
      },
      {
       "javascript": [
        "$('div#2f95668c-ada9-40dd-9891-bc0325ea75ed').text(' 92%');"
       ],
       "metadata": {},
       "output_type": "display_data",
       "text": [
        "<IPython.core.display.Javascript at 0x11080fed0>"
       ]
      },
      {
       "javascript": [
        "\n",
        "        var $myPB = $(\"div#d281dd52-6c64-48bb-b7ce-35362ea6458f\")\n",
        "        if ($myPB.hasClass('ui-progressbar')) {\n",
        "            $myPB.progressbar('value', 23363584);\n",
        "        } else {\n",
        "            $myPB.progressbar({value: 0, max: 25238326});\n",
        "        }\n",
        "        "
       ],
       "metadata": {},
       "output_type": "display_data",
       "text": [
        "<IPython.core.display.Javascript at 0x11080ff90>"
       ]
      },
      {
       "javascript": [
        "$('div#d88b7e12-09cd-4562-8f07-f0be055f0c51').text('ETA:  0:00:00');"
       ],
       "metadata": {},
       "output_type": "display_data",
       "text": [
        "<IPython.core.display.Javascript at 0x11080fe50>"
       ]
      },
      {
       "javascript": [
        "$('div#214fb19d-0068-4535-9ce1-d3993c23b0cd').text(' 35.94 MB/s');"
       ],
       "metadata": {},
       "output_type": "display_data",
       "text": [
        "<IPython.core.display.Javascript at 0x11080fe90>"
       ]
      },
      {
       "javascript": [
        "$('div#2f95668c-ada9-40dd-9891-bc0325ea75ed').text(' 93%');"
       ],
       "metadata": {},
       "output_type": "display_data",
       "text": [
        "<IPython.core.display.Javascript at 0x11080f490>"
       ]
      },
      {
       "javascript": [
        "\n",
        "        var $myPB = $(\"div#d281dd52-6c64-48bb-b7ce-35362ea6458f\")\n",
        "        if ($myPB.hasClass('ui-progressbar')) {\n",
        "            $myPB.progressbar('value', 23617536);\n",
        "        } else {\n",
        "            $myPB.progressbar({value: 0, max: 25238326});\n",
        "        }\n",
        "        "
       ],
       "metadata": {},
       "output_type": "display_data",
       "text": [
        "<IPython.core.display.Javascript at 0x11080fa10>"
       ]
      },
      {
       "javascript": [
        "$('div#d88b7e12-09cd-4562-8f07-f0be055f0c51').text('ETA:  0:00:00');"
       ],
       "metadata": {},
       "output_type": "display_data",
       "text": [
        "<IPython.core.display.Javascript at 0x11080ff50>"
       ]
      },
      {
       "javascript": [
        "$('div#214fb19d-0068-4535-9ce1-d3993c23b0cd').text(' 36.14 MB/s');"
       ],
       "metadata": {},
       "output_type": "display_data",
       "text": [
        "<IPython.core.display.Javascript at 0x11080ff10>"
       ]
      },
      {
       "javascript": [
        "$('div#2f95668c-ada9-40dd-9891-bc0325ea75ed').text(' 94%');"
       ],
       "metadata": {},
       "output_type": "display_data",
       "text": [
        "<IPython.core.display.Javascript at 0x1108de050>"
       ]
      },
      {
       "javascript": [
        "\n",
        "        var $myPB = $(\"div#d281dd52-6c64-48bb-b7ce-35362ea6458f\")\n",
        "        if ($myPB.hasClass('ui-progressbar')) {\n",
        "            $myPB.progressbar('value', 23871488);\n",
        "        } else {\n",
        "            $myPB.progressbar({value: 0, max: 25238326});\n",
        "        }\n",
        "        "
       ],
       "metadata": {},
       "output_type": "display_data",
       "text": [
        "<IPython.core.display.Javascript at 0x1108de090>"
       ]
      },
      {
       "javascript": [
        "$('div#d88b7e12-09cd-4562-8f07-f0be055f0c51').text('ETA:  0:00:00');"
       ],
       "metadata": {},
       "output_type": "display_data",
       "text": [
        "<IPython.core.display.Javascript at 0x1108de0d0>"
       ]
      },
      {
       "javascript": [
        "$('div#214fb19d-0068-4535-9ce1-d3993c23b0cd').text(' 36.25 MB/s');"
       ],
       "metadata": {},
       "output_type": "display_data",
       "text": [
        "<IPython.core.display.Javascript at 0x1108de110>"
       ]
      },
      {
       "javascript": [
        "$('div#2f95668c-ada9-40dd-9891-bc0325ea75ed').text(' 95%');"
       ],
       "metadata": {},
       "output_type": "display_data",
       "text": [
        "<IPython.core.display.Javascript at 0x1108de190>"
       ]
      },
      {
       "javascript": [
        "\n",
        "        var $myPB = $(\"div#d281dd52-6c64-48bb-b7ce-35362ea6458f\")\n",
        "        if ($myPB.hasClass('ui-progressbar')) {\n",
        "            $myPB.progressbar('value', 24125440);\n",
        "        } else {\n",
        "            $myPB.progressbar({value: 0, max: 25238326});\n",
        "        }\n",
        "        "
       ],
       "metadata": {},
       "output_type": "display_data",
       "text": [
        "<IPython.core.display.Javascript at 0x1108de1d0>"
       ]
      },
      {
       "javascript": [
        "$('div#d88b7e12-09cd-4562-8f07-f0be055f0c51').text('ETA:  0:00:00');"
       ],
       "metadata": {},
       "output_type": "display_data",
       "text": [
        "<IPython.core.display.Javascript at 0x1108de210>"
       ]
      },
      {
       "javascript": [
        "$('div#214fb19d-0068-4535-9ce1-d3993c23b0cd').text(' 36.44 MB/s');"
       ],
       "metadata": {},
       "output_type": "display_data",
       "text": [
        "<IPython.core.display.Javascript at 0x1108de250>"
       ]
      },
      {
       "javascript": [
        "$('div#2f95668c-ada9-40dd-9891-bc0325ea75ed').text(' 96%');"
       ],
       "metadata": {},
       "output_type": "display_data",
       "text": [
        "<IPython.core.display.Javascript at 0x1108de290>"
       ]
      },
      {
       "javascript": [
        "\n",
        "        var $myPB = $(\"div#d281dd52-6c64-48bb-b7ce-35362ea6458f\")\n",
        "        if ($myPB.hasClass('ui-progressbar')) {\n",
        "            $myPB.progressbar('value', 24379392);\n",
        "        } else {\n",
        "            $myPB.progressbar({value: 0, max: 25238326});\n",
        "        }\n",
        "        "
       ],
       "metadata": {},
       "output_type": "display_data",
       "text": [
        "<IPython.core.display.Javascript at 0x1108de2d0>"
       ]
      },
      {
       "javascript": [
        "$('div#d88b7e12-09cd-4562-8f07-f0be055f0c51').text('ETA:  0:00:00');"
       ],
       "metadata": {},
       "output_type": "display_data",
       "text": [
        "<IPython.core.display.Javascript at 0x1108de310>"
       ]
      },
      {
       "javascript": [
        "$('div#214fb19d-0068-4535-9ce1-d3993c23b0cd').text(' 36.44 MB/s');"
       ],
       "metadata": {},
       "output_type": "display_data",
       "text": [
        "<IPython.core.display.Javascript at 0x1108de350>"
       ]
      },
      {
       "javascript": [
        "$('div#2f95668c-ada9-40dd-9891-bc0325ea75ed').text(' 97%');"
       ],
       "metadata": {},
       "output_type": "display_data",
       "text": [
        "<IPython.core.display.Javascript at 0x1108de390>"
       ]
      },
      {
       "javascript": [
        "\n",
        "        var $myPB = $(\"div#d281dd52-6c64-48bb-b7ce-35362ea6458f\")\n",
        "        if ($myPB.hasClass('ui-progressbar')) {\n",
        "            $myPB.progressbar('value', 24633344);\n",
        "        } else {\n",
        "            $myPB.progressbar({value: 0, max: 25238326});\n",
        "        }\n",
        "        "
       ],
       "metadata": {},
       "output_type": "display_data",
       "text": [
        "<IPython.core.display.Javascript at 0x1108de3d0>"
       ]
      },
      {
       "javascript": [
        "$('div#d88b7e12-09cd-4562-8f07-f0be055f0c51').text('ETA:  0:00:00');"
       ],
       "metadata": {},
       "output_type": "display_data",
       "text": [
        "<IPython.core.display.Javascript at 0x1108de410>"
       ]
      },
      {
       "javascript": [
        "$('div#214fb19d-0068-4535-9ce1-d3993c23b0cd').text(' 36.64 MB/s');"
       ],
       "metadata": {},
       "output_type": "display_data",
       "text": [
        "<IPython.core.display.Javascript at 0x1108de450>"
       ]
      },
      {
       "javascript": [
        "$('div#2f95668c-ada9-40dd-9891-bc0325ea75ed').text(' 98%');"
       ],
       "metadata": {},
       "output_type": "display_data",
       "text": [
        "<IPython.core.display.Javascript at 0x1108de490>"
       ]
      },
      {
       "javascript": [
        "\n",
        "        var $myPB = $(\"div#d281dd52-6c64-48bb-b7ce-35362ea6458f\")\n",
        "        if ($myPB.hasClass('ui-progressbar')) {\n",
        "            $myPB.progressbar('value', 24887296);\n",
        "        } else {\n",
        "            $myPB.progressbar({value: 0, max: 25238326});\n",
        "        }\n",
        "        "
       ],
       "metadata": {},
       "output_type": "display_data",
       "text": [
        "<IPython.core.display.Javascript at 0x1108de4d0>"
       ]
      },
      {
       "javascript": [
        "$('div#d88b7e12-09cd-4562-8f07-f0be055f0c51').text('ETA:  0:00:00');"
       ],
       "metadata": {},
       "output_type": "display_data",
       "text": [
        "<IPython.core.display.Javascript at 0x1108de510>"
       ]
      },
      {
       "javascript": [
        "$('div#214fb19d-0068-4535-9ce1-d3993c23b0cd').text(' 36.79 MB/s');"
       ],
       "metadata": {},
       "output_type": "display_data",
       "text": [
        "<IPython.core.display.Javascript at 0x1108de550>"
       ]
      },
      {
       "javascript": [
        "$('div#2f95668c-ada9-40dd-9891-bc0325ea75ed').text(' 99%');"
       ],
       "metadata": {},
       "output_type": "display_data",
       "text": [
        "<IPython.core.display.Javascript at 0x1108de590>"
       ]
      },
      {
       "javascript": [
        "\n",
        "        var $myPB = $(\"div#d281dd52-6c64-48bb-b7ce-35362ea6458f\")\n",
        "        if ($myPB.hasClass('ui-progressbar')) {\n",
        "            $myPB.progressbar('value', 25141248);\n",
        "        } else {\n",
        "            $myPB.progressbar({value: 0, max: 25238326});\n",
        "        }\n",
        "        "
       ],
       "metadata": {},
       "output_type": "display_data",
       "text": [
        "<IPython.core.display.Javascript at 0x1108de5d0>"
       ]
      },
      {
       "javascript": [
        "$('div#d88b7e12-09cd-4562-8f07-f0be055f0c51').text('ETA:  0:00:00');"
       ],
       "metadata": {},
       "output_type": "display_data",
       "text": [
        "<IPython.core.display.Javascript at 0x1108de610>"
       ]
      },
      {
       "javascript": [
        "$('div#214fb19d-0068-4535-9ce1-d3993c23b0cd').text(' 37.00 MB/s');"
       ],
       "metadata": {},
       "output_type": "display_data",
       "text": [
        "<IPython.core.display.Javascript at 0x1108de650>"
       ]
      },
      {
       "javascript": [
        "$('div#2f95668c-ada9-40dd-9891-bc0325ea75ed').text('100%');"
       ],
       "metadata": {},
       "output_type": "display_data",
       "text": [
        "<IPython.core.display.Javascript at 0x1108de690>"
       ]
      },
      {
       "javascript": [
        "\n",
        "        var $myPB = $(\"div#d281dd52-6c64-48bb-b7ce-35362ea6458f\")\n",
        "        if ($myPB.hasClass('ui-progressbar')) {\n",
        "            $myPB.progressbar('value', 25238326);\n",
        "        } else {\n",
        "            $myPB.progressbar({value: 0, max: 25238326});\n",
        "        }\n",
        "        "
       ],
       "metadata": {},
       "output_type": "display_data",
       "text": [
        "<IPython.core.display.Javascript at 0x1108de6d0>"
       ]
      },
      {
       "javascript": [
        "$('div#d88b7e12-09cd-4562-8f07-f0be055f0c51').text('Time: 0:00:00');"
       ],
       "metadata": {},
       "output_type": "display_data",
       "text": [
        "<IPython.core.display.Javascript at 0x11080ff10>"
       ]
      },
      {
       "javascript": [
        "$('div#214fb19d-0068-4535-9ce1-d3993c23b0cd').text(' 36.98 MB/s');"
       ],
       "metadata": {},
       "output_type": "display_data",
       "text": [
        "<IPython.core.display.Javascript at 0x11080ff50>"
       ]
      },
      {
       "javascript": [
        "var element = document.getElementById('431758be-26e6-4bec-bbbb-c259e8b173f0');\n",
        "                    var parent = element.parentNode\n",
        "                    parent.removeChild(element);\n",
        "                    parent.parentElement.remove();"
       ],
       "metadata": {},
       "output_type": "display_data",
       "text": [
        "<IPython.core.display.Javascript at 0x11080fa10>"
       ]
      },
      {
       "javascript": [
        "this.cleanProgressBar(['431758be-26e6-4bec-bbbb-c259e8b173f0', '2f95668c-ada9-40dd-9891-bc0325ea75ed', 'd281dd52-6c64-48bb-b7ce-35362ea6458f', 'd88b7e12-09cd-4562-8f07-f0be055f0c51', '214fb19d-0068-4535-9ce1-d3993c23b0cd'])"
       ],
       "metadata": {},
       "output_type": "display_data",
       "text": [
        "<IPython.core.display.Javascript at 0x11080f490>"
       ]
      },
      {
       "output_type": "stream",
       "stream": "stdout",
       "text": [
        "Finished downloading instance_data_es_inspire_lexicon_ipa_v1.dict\n",
        "There are 738967 words in the lexicon"
       ]
      },
      {
       "output_type": "stream",
       "stream": "stdout",
       "text": [
        "\n"
       ]
      }
     ],
     "prompt_number": 4
    },
    {
     "cell_type": "markdown",
     "metadata": {},
     "source": [
      "The lexicon is a subclass of a Python dictionary mapping from a word to a set of pronunciations.  The pronunciations are lists of strings where each string represents a phoneme.\n",
      "\n",
      "To use the lexicon we simply query it as we would do with any other Python dictionary.  Note that the case of the words is ignored when querying the lexicon:"
     ]
    },
    {
     "cell_type": "code",
     "collapsed": false,
     "input": [
      "inspire.pprint('Is \"ayuda\" in the lexicon? {}'.format('ayuda' in lexicon))\n",
      "inspire.pprint(lexicon['ayuda'])"
     ],
     "language": "python",
     "metadata": {},
     "outputs": [
      {
       "output_type": "stream",
       "stream": "stdout",
       "text": [
        "'Is \"ayuda\" in the lexicon? True'\n",
        "[[u'a', u'j', u'j', u'\u02c8u', u'\u00f0', u'a']]\n"
       ]
      }
     ],
     "prompt_number": 5
    },
    {
     "cell_type": "markdown",
     "metadata": {},
     "source": [
      "## The submission\n",
      "To make submissions to the INSPIRE Challenge you must have an account on the INSPIRE Challenge: [Click here to register](http://143.167.9.43:5000/register)\n",
      "\n",
      "Note don't use a secure password, since in order to simplify the tasks it may be sent as plain text to the server.\n",
      "The email and password will be used in the following steps to create and submit our predictions.\n",
      "\n",
      "### Preparation of the submission\n",
      "A submission consists of a dictionary data structure containing metadata (information of the participant, the challenge edition and contact details) and the predictions for the stimuli.  The predictions are stored in a data structure similar to that of the dataset (a list of dictionaries, one per stimulus).  Each stimulus dictionary must contain the `token_id` and then a list of task predictions `task_prediction` each task prediction is a dictionary containing a `task` property indicating what task it is solving and the `prediction` which is dictionary whose form depends on the task.\n",
      "\n",
      "In order to avoid errors when creating the participation data structure, we have built a Python class that eases the job."
     ]
    },
    {
     "cell_type": "code",
     "collapsed": false,
     "input": [
      "submission = inspire.Submission(email='dummy@email.com', \n",
      "                                evaluation_setting=setting)"
     ],
     "language": "python",
     "metadata": {},
     "outputs": [],
     "prompt_number": 6
    },
    {
     "cell_type": "markdown",
     "metadata": {},
     "source": [
      "### Adding the predictions of the tasks\n",
      "We iterate over the dataset and for each presented word we query it's pronunciations, and arbitrarily select one.\n",
      "We will then produce the predictions for each of the tasks.  In this simple baseline random guessing scenario we will follow the same predcition strategy independently of the token:\n",
      "\n",
      "* **where task** For the phoneme positions we predict a 50% chance of observing a confusion. We predict a 1% chance of confusion at the inter-phoneme positions and a 30% chance of confusion at the positions before and after the utterance.\n",
      "* **where task** We only provide predictions for the phoneme positions. We predict a 50% chance of not observing a confusion (the observed phoneme will remain) and a 5% of removing the phoneme.\n",
      "* **full task** We predict a 10% of not observing a confusion (the ellicited pronunciation being reported)."
     ]
    },
    {
     "cell_type": "code",
     "collapsed": false,
     "input": [
      "# Iterate over all the stimuli in our dataset\n",
      "for token_id, token  in dataset['tokens'].items():\n",
      "    word = token['speech']\n",
      "    \n",
      "    # Lexicon may contain multiple pronunciations\n",
      "    pronunciations = lexicon[word.upper()]\n",
      "    \n",
      "    # Here we arbitrarily select the first one\n",
      "    pronunciation = pronunciations[0]\n",
      "    \n",
      "    # Get a list of phonemes from the space separated pronunciation of the lexicon\n",
      "    phonemes = pronunciation\n",
      "    \n",
      "    # Possible indices of confusions\n",
      "    # are the number of phonemes plus\n",
      "    # the number of positions around phonemes\n",
      "    index_count = len(phonemes)*2 + 1\n",
      "    \n",
      "    confusion_probabilities = np.zeros(index_count)\n",
      "\n",
      "    # Our random guess for the Where task assumes:\n",
      "    #  - a 30% chance of finding a confusion at all phoneme positions (substitutions or removals)\n",
      "    confusion_probabilities[1::2] = 0.3\n",
      "    \n",
      "    #  - a 1% chance of finding an insertion between all phoneme positions (insertions)\n",
      "    confusion_probabilities[2:-2:2] = 0.01\n",
      "    \n",
      "    #  - a 50% chance of finding insertions of phonemes at beginning and end of words (insertions)\n",
      "    confusion_probabilities[0] = 0.5\n",
      "    confusion_probabilities[-1] = 0.5\n",
      "            \n",
      "    submission.where_task(token_id, confusion_probabilities)\n",
      "    \n",
      "    # Our random guess for the What task assumes:\n",
      "    # Phonemes are represented as strings\n",
      "    # Sequence of phonemes are space joined strings\n",
      "    # A removal is represented as an empty string\n",
      "    for phoneme_index, phoneme in enumerate(phonemes):\n",
      "        index = phoneme_index * 2 + 1\n",
      "        \n",
      "        #  - a 50% chance of not changing the phoneme\n",
      "        submission.what_task(token_id, index, phoneme, 0.5)\n",
      "\n",
      "        #  - a 5% chance of phoneme removal\n",
      "        submission.what_task(token_id, index, '', 0.05)\n",
      "        \n",
      "    # Our random guess for the Full task assumes:\n",
      "    #  - a 10% chance of reporting the pronunciation of the presented utterance\n",
      "    submission.full_task(token_id, ' '.join(pronunciation), 0.1)"
     ],
     "language": "python",
     "metadata": {},
     "outputs": [],
     "prompt_number": 7
    },
    {
     "cell_type": "markdown",
     "metadata": {},
     "source": [
      "Once the submission has been created we can print the predictions of a given token.\n",
      "This is also useful to understand the JSON format of a submission."
     ]
    },
    {
     "cell_type": "code",
     "collapsed": false,
     "input": [
      "inspire.pprint(submission['tokens']['35541'])"
     ],
     "language": "python",
     "metadata": {},
     "outputs": [
      {
       "output_type": "stream",
       "stream": "stdout",
       "text": [
        "{u'full': {u'p e k \u02c8e \u0272 o s': 0.1},\n",
        " u'what': {'1': {'': 0.05, u'p': 0.5},\n",
        "           '11': {'': 0.05, u'o': 0.5},\n",
        "           '13': {'': 0.05, u's': 0.5},\n",
        "           '3': {'': 0.05, u'e': 0.5},\n",
        "           '5': {'': 0.05, u'k': 0.5},\n",
        "           '7': {'': 0.05, u'\u02c8e': 0.5},\n",
        "           '9': {'': 0.05, u'\u0272': 0.5}},\n",
        " u'where': [0.5,\n",
        "            0.29999999999999999,\n",
        "            0.01,\n",
        "            0.29999999999999999,\n",
        "            0.01,\n",
        "            0.29999999999999999,\n",
        "            0.01,\n",
        "            0.29999999999999999,\n",
        "            0.01,\n",
        "            0.29999999999999999,\n",
        "            0.01,\n",
        "            0.29999999999999999,\n",
        "            0.01,\n",
        "            0.29999999999999999,\n",
        "            0.5]}\n"
       ]
      }
     ],
     "prompt_number": 8
    },
    {
     "cell_type": "markdown",
     "metadata": {},
     "source": [
      "We can also save the submission as a JSON file."
     ]
    },
    {
     "cell_type": "code",
     "collapsed": false,
     "input": [
      "submission.save('submission_random_guess.json')"
     ],
     "language": "python",
     "metadata": {},
     "outputs": [],
     "prompt_number": 9
    },
    {
     "cell_type": "markdown",
     "metadata": {},
     "source": [
      "### Evaluating before submitting\n",
      "\n",
      "Sometimes we might not want to submit, and simply evaluate a submission.  In that case we may call `evaluate()`.\n",
      "\n",
      "The evaluation **may take some time**, especially if the submission covers all tasks and all tokens.\n",
      "\n",
      "If you want quicker results only perform predictions on a subset of the tokens and/or the tasks."
     ]
    },
    {
     "cell_type": "code",
     "collapsed": false,
     "input": [
      "results = submission.evaluate(password='dummypassword')"
     ],
     "language": "python",
     "metadata": {},
     "outputs": []
    },
    {
     "cell_type": "code",
     "collapsed": false,
     "input": [
      "inspire.pprint(results['evaluation']['where']['token_averaged'])\n",
      "inspire.pprint(results['evaluation']['what']['token_averaged'])\n",
      "inspire.pprint(results['evaluation']['full']['token_averaged'])"
     ],
     "language": "python",
     "metadata": {},
     "outputs": []
    },
    {
     "cell_type": "markdown",
     "metadata": {},
     "source": [
      "### Sending in the submission\n",
      "\n",
      "The final step is to send the submission. This will save a copy of the submission in the server and return the evaluation results.\n",
      "\n",
      "To submit we simply call the submit function of the submission object that we have created.\n",
      "The email that we have used when creating the submission class is the one that will be used to login to the server.\n",
      "We must also supply the password that we used when we registered to the INSPIRE Challenge website."
     ]
    },
    {
     "cell_type": "code",
     "collapsed": false,
     "input": [
      "results = submission.submit(password='dummypassword')"
     ],
     "language": "python",
     "metadata": {},
     "outputs": []
    },
    {
     "cell_type": "code",
     "collapsed": false,
     "input": [
      "inspire.pprint(results['evaluation']['where']['token_averaged'])\n",
      "inspire.pprint(results['evaluation']['what']['token_averaged'])\n",
      "inspire.pprint(results['evaluation']['full']['token_averaged'])"
     ],
     "language": "python",
     "metadata": {},
     "outputs": []
    },
    {
     "cell_type": "code",
     "collapsed": false,
     "input": [],
     "language": "python",
     "metadata": {},
     "outputs": []
    }
   ],
   "metadata": {}
  }
 ]
}